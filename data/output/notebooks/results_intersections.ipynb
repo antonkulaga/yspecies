{
 "cells": [
  {
   "cell_type": "markdown",
   "metadata": {},
   "source": [
    "<span style=\"color:red; font-family:Helvetica Neue, Helvetica, Arial, sans-serif; font-size:2em;\">An Exception was encountered at 'In [7]'.</span>"
   ]
  },
  {
   "cell_type": "code",
   "execution_count": 1,
   "metadata": {
    "execution": {
     "iopub.execute_input": "2020-06-15T01:59:22.561214Z",
     "iopub.status.busy": "2020-06-15T01:59:22.560859Z",
     "iopub.status.idle": "2020-06-15T01:59:23.300608Z",
     "shell.execute_reply": "2020-06-15T01:59:23.300248Z"
    },
    "jupyter": {
     "source_hidden": true
    },
    "papermill": {
     "duration": 0.761896,
     "end_time": "2020-06-15T01:59:23.300696",
     "exception": false,
     "start_time": "2020-06-15T01:59:22.538800",
     "status": "completed"
    },
    "tags": []
   },
   "outputs": [],
   "source": [
    "from typing import *\n",
    "from yspecies import *\n",
    "from yspecies.enums import *\n",
    "from yspecies.dataset import *\n",
    "from yspecies.misc import *"
   ]
  },
  {
   "cell_type": "code",
   "execution_count": 2,
   "metadata": {
    "execution": {
     "iopub.execute_input": "2020-06-15T01:59:23.338644Z",
     "iopub.status.busy": "2020-06-15T01:59:23.338247Z",
     "iopub.status.idle": "2020-06-15T01:59:23.339804Z",
     "shell.execute_reply": "2020-06-15T01:59:23.340148Z"
    },
    "jupyter": {
     "source_hidden": true
    },
    "papermill": {
     "duration": 0.023338,
     "end_time": "2020-06-15T01:59:23.340242",
     "exception": false,
     "start_time": "2020-06-15T01:59:23.316904",
     "status": "completed"
    },
    "tags": []
   },
   "outputs": [],
   "source": [
    "from dataclasses import dataclass\n",
    "import numpy as np\n",
    "import pandas as pd\n",
    "import seaborn as sns\n",
    "import matplotlib.pyplot as plt"
   ]
  },
  {
   "cell_type": "code",
   "execution_count": 3,
   "metadata": {
    "execution": {
     "iopub.execute_input": "2020-06-15T01:59:23.375609Z",
     "iopub.status.busy": "2020-06-15T01:59:23.375220Z",
     "iopub.status.idle": "2020-06-15T01:59:23.377241Z",
     "shell.execute_reply": "2020-06-15T01:59:23.376858Z"
    },
    "jupyter": {
     "source_hidden": true
    },
    "papermill": {
     "duration": 0.021145,
     "end_time": "2020-06-15T01:59:23.377319",
     "exception": false,
     "start_time": "2020-06-15T01:59:23.356174",
     "status": "completed"
    },
    "tags": []
   },
   "outputs": [],
   "source": [
    "#settings\n",
    "pd.set_option('display.max_columns', None)\n",
    "pd.set_option('display.max_rows', None)\n",
    "pd.set_option('display.float_format', lambda x: '%.3f' % x)\n",
    "import pprint\n",
    "pp = pprint.PrettyPrinter(indent=4)"
   ]
  },
  {
   "cell_type": "markdown",
   "metadata": {
    "papermill": {
     "duration": 0.016136,
     "end_time": "2020-06-15T01:59:23.409895",
     "exception": false,
     "start_time": "2020-06-15T01:59:23.393759",
     "status": "completed"
    },
    "tags": []
   },
   "source": [
    "### Parameters ###\n",
    "Will be overriden by comparisons.yaml"
   ]
  },
  {
   "cell_type": "code",
   "execution_count": 4,
   "metadata": {
    "execution": {
     "iopub.execute_input": "2020-06-15T01:59:23.447519Z",
     "iopub.status.busy": "2020-06-15T01:59:23.446958Z",
     "iopub.status.idle": "2020-06-15T01:59:23.449386Z",
     "shell.execute_reply": "2020-06-15T01:59:23.448860Z"
    },
    "jupyter": {
     "source_hidden": true
    },
    "papermill": {
     "duration": 0.023239,
     "end_time": "2020-06-15T01:59:23.449490",
     "exception": false,
     "start_time": "2020-06-15T01:59:23.426251",
     "status": "completed"
    },
    "tags": [
     "parameters"
    ]
   },
   "outputs": [],
   "source": [
    "#Parameters\n",
    "threshold = 0.3\n"
   ]
  },
  {
   "cell_type": "code",
   "execution_count": 5,
   "metadata": {
    "execution": {
     "iopub.execute_input": "2020-06-15T01:59:23.485991Z",
     "iopub.status.busy": "2020-06-15T01:59:23.485612Z",
     "iopub.status.idle": "2020-06-15T01:59:23.487238Z",
     "shell.execute_reply": "2020-06-15T01:59:23.487537Z"
    },
    "jupyter": {
     "source_hidden": true
    },
    "papermill": {
     "duration": 0.020779,
     "end_time": "2020-06-15T01:59:23.487630",
     "exception": false,
     "start_time": "2020-06-15T01:59:23.466851",
     "status": "completed"
    },
    "tags": [
     "injected-parameters"
    ]
   },
   "outputs": [],
   "source": [
    "# Parameters\n",
    "threshold = 0.3\n"
   ]
  },
  {
   "cell_type": "markdown",
   "metadata": {
    "papermill": {
     "duration": 0.016183,
     "end_time": "2020-06-15T01:59:23.520065",
     "exception": false,
     "start_time": "2020-06-15T01:59:23.503882",
     "status": "completed"
    },
    "tags": []
   },
   "source": [
    "### Load pathes ###"
   ]
  },
  {
   "cell_type": "code",
   "execution_count": 6,
   "metadata": {
    "execution": {
     "iopub.execute_input": "2020-06-15T01:59:23.557540Z",
     "iopub.status.busy": "2020-06-15T01:59:23.557156Z",
     "iopub.status.idle": "2020-06-15T01:59:23.559326Z",
     "shell.execute_reply": "2020-06-15T01:59:23.558945Z"
    },
    "jupyter": {
     "source_hidden": true
    },
    "papermill": {
     "duration": 0.022438,
     "end_time": "2020-06-15T01:59:23.559414",
     "exception": false,
     "start_time": "2020-06-15T01:59:23.536976",
     "status": "completed"
    },
    "tags": []
   },
   "outputs": [],
   "source": [
    "from pathlib import Path\n",
    "locations: Locations = Locations(\"./\") if Path(\"./data\").exists() else Locations(\"../\")"
   ]
  },
  {
   "cell_type": "code",
   "execution_count": 7,
   "metadata": {
    "execution": {
     "iopub.execute_input": "2020-06-15T01:59:23.595100Z",
     "iopub.status.busy": "2020-06-15T01:59:23.594702Z",
     "iopub.status.idle": "2020-06-15T01:59:23.678180Z",
     "shell.execute_reply": "2020-06-15T01:59:23.677501Z"
    },
    "jupyter": {
     "source_hidden": true
    },
    "papermill": {
     "duration": 0.102616,
     "end_time": "2020-06-15T01:59:23.678304",
     "exception": true,
     "start_time": "2020-06-15T01:59:23.575688",
     "status": "failed"
    },
    "tags": []
   },
   "outputs": [
    {
     "ename": "TypeError",
     "evalue": "unsupported operand type(s) for /: 'Output' and 'str'",
     "output_type": "error",
     "traceback": [
      "\u001b[0;31m---------------------------------------------------------------------------\u001b[0m",
      "\u001b[0;31mTypeError\u001b[0m                                 Traceback (most recent call last)",
      "\u001b[0;32m<ipython-input-7-7b60f8c635ee>\u001b[0m in \u001b[0;36m<module>\u001b[0;34m\u001b[0m\n\u001b[0;32m----> 1\u001b[0;31m \u001b[0mexternal\u001b[0m \u001b[0;34m=\u001b[0m \u001b[0mshap_results\u001b[0m \u001b[0;34m=\u001b[0m \u001b[0mlocations\u001b[0m\u001b[0;34m.\u001b[0m\u001b[0moutput\u001b[0m \u001b[0;34m/\u001b[0m \u001b[0;34m\"external\"\u001b[0m\u001b[0;34m\u001b[0m\u001b[0;34m\u001b[0m\u001b[0m\n\u001b[0m\u001b[1;32m      2\u001b[0m \u001b[0mshap\u001b[0m \u001b[0;34m=\u001b[0m \u001b[0mexternal\u001b[0m \u001b[0;34m/\u001b[0m \u001b[0;34m\"shap\"\u001b[0m\u001b[0;34m\u001b[0m\u001b[0;34m\u001b[0m\u001b[0m\n\u001b[1;32m      3\u001b[0m \u001b[0mlinear\u001b[0m \u001b[0;34m=\u001b[0m \u001b[0mexternal\u001b[0m \u001b[0;34m/\u001b[0m \u001b[0;34m\"linear\"\u001b[0m\u001b[0;34m\u001b[0m\u001b[0;34m\u001b[0m\u001b[0m\n\u001b[1;32m      4\u001b[0m \u001b[0mcausality\u001b[0m \u001b[0;34m=\u001b[0m \u001b[0mexternal\u001b[0m \u001b[0;34m/\u001b[0m \u001b[0;34m\"causality\"\u001b[0m\u001b[0;34m\u001b[0m\u001b[0;34m\u001b[0m\u001b[0m\n",
      "\u001b[0;31mTypeError\u001b[0m: unsupported operand type(s) for /: 'Output' and 'str'"
     ]
    }
   ],
   "source": [
    "external = shap_results = locations.output / \"external\" \n",
    "shap = external / \"shap\"\n",
    "linear = external / \"linear\"\n",
    "causality = external / \"causality\""
   ]
  },
  {
   "cell_type": "markdown",
   "metadata": {
    "papermill": {
     "duration": null,
     "end_time": null,
     "exception": null,
     "start_time": null,
     "status": "pending"
    },
    "tags": []
   },
   "source": [
    "### Load linear ###"
   ]
  },
  {
   "cell_type": "code",
   "execution_count": null,
   "metadata": {
    "jupyter": {
     "source_hidden": true
    },
    "papermill": {
     "duration": null,
     "end_time": null,
     "exception": null,
     "start_time": null,
     "status": "pending"
    },
    "tags": []
   },
   "outputs": [],
   "source": [
    "def lag_linear(df: pd.DataFrame, sign: int)->pd.DataFrame:\n",
    "    selected = df[df[\"maxlifespan_sign\"]==sign][[\"symbol\",\"organ\",\"maxlifespan_adjpval\",\"maxlifespan_r2_adj\"]].sort_values(by=\"maxlifespan_r2_adj\", ascending=False).drop_duplicates()\n",
    "    selected[\"organ\"] = selected.apply(lambda row: row[\"organ\"] + \" (\" + str(round(row[\"maxlifespan_r2_adj\"],4)) +\")\", axis=1)\n",
    "    return selected[[\"symbol\",\"organ\"]].groupby(\"symbol\", as_index=False).agg({'organ': ', '.join})\n",
    "\n",
    "\n",
    "def pro_linear(df: pd.DataFrame)->pd.DataFrame:\n",
    "    return lag_linear(df, 1)\n",
    "   \n",
    "def anti_linear(df: pd.DataFrame)->pd.DataFrame:\n",
    "    return lag_linear(df, -1)\n"
   ]
  },
  {
   "cell_type": "code",
   "execution_count": null,
   "metadata": {
    "jupyter": {
     "source_hidden": true
    },
    "papermill": {
     "duration": null,
     "end_time": null,
     "exception": null,
     "start_time": null,
     "status": "pending"
    },
    "tags": []
   },
   "outputs": [],
   "source": [
    "linear_organ = load_table(linear / 'with_organ_indicator_columns.tsv').set_index(\"reference_gene\")\n",
    "anti_linear_organ = anti_linear(linear_organ)\n",
    "pro_linear_organ = pro_linear(linear_organ)\n",
    "pro_linear_organ.head(10)\n"
   ]
  },
  {
   "cell_type": "code",
   "execution_count": null,
   "metadata": {
    "jupyter": {
     "source_hidden": true
    },
    "papermill": {
     "duration": null,
     "end_time": null,
     "exception": null,
     "start_time": null,
     "status": "pending"
    },
    "tags": []
   },
   "outputs": [],
   "source": [
    "#linear_blk = load_table(linear /'Significant in B,L,K.tsv').set_index(\"reference_gene\")\n",
    "#linear_models = load_table(linear / 'linear_models_on_species_vars.tsv').set_index(\"reference_gene\")\n",
    "#linear_all = load_table(linear / 'Significant in all organs.tsv').set_index(\"reference_gene\")\n",
    "#linear_pro = linear_all[linear_all[\"maxlifespan_sign\"]==1].sort_values(by=\"maxlifespan_r2_adj\", ascending = False)\n",
    "#linear_anti = linear_all[linear_all[\"maxlifespan_sign\"]==-1].sort_values(by=\"maxlifespan_r2_adj\", ascending = True)"
   ]
  },
  {
   "cell_type": "markdown",
   "metadata": {
    "papermill": {
     "duration": null,
     "end_time": null,
     "exception": null,
     "start_time": null,
     "status": "pending"
    },
    "tags": []
   },
   "source": [
    "### Load shap ###"
   ]
  },
  {
   "cell_type": "code",
   "execution_count": null,
   "metadata": {
    "jupyter": {
     "source_hidden": true
    },
    "papermill": {
     "duration": null,
     "end_time": null,
     "exception": null,
     "start_time": null,
     "status": "pending"
    },
    "tags": []
   },
   "outputs": [],
   "source": [
    "def pro_genes(df: pd.DataFrame, threshold:float = 0.3) -> pd.DataFrame:\n",
    "    return df[df[\"kendall_tau_to_max_lifespan\"] >= threshold].sort_values(by=\"kendall_tau_to_max_lifespan\", ascending=False)\n",
    "\n",
    "def lifehistory(row, extra: list, threshold: float):\n",
    "    def get(col: str):\n",
    "        return col +\" (\" + str(round(row[col], 4))+\")\" if abs(row[col])>=abs(threshold) else \"\"\n",
    "    return ', '.join([get(e).replace(\"kendall_tau_to_\", \"\") for e in extra if get(e) != \"\"])\n",
    "\n",
    "def pro(df: pd.DataFrame, threshold:float = 0.3) -> pd.DataFrame:\n",
    "    main = ['ids','name', 'gain_score_to_max_lifespan', 'kendall_tau_to_max_lifespan']\n",
    "    extra = [\"kendall_tau_to_gestation_days\", \"kendall_tau_to_mass_g\", \"kendall_tau_to_temperature_celsius\", \"kendall_tau_to_metabolic_rate\"]\n",
    "    genes =  pro_genes(df, threshold)[main]    \n",
    "    genes[\"life_history\"] = df.apply(lambda row: lifehistory(row, extra, threshold), axis=1)\n",
    "    return genes\n",
    "\n",
    "def anti_genes(df: pd.DataFrame, threshold:float = -0.3) -> pd.DataFrame:\n",
    "    return df[df[\"kendall_tau_to_max_lifespan\"]<=threshold].sort_values(by=\"kendall_tau_to_max_lifespan\", ascending=True)\n",
    "\n",
    "def anti(df: pd.DataFrame, threshold:float = -0.3) -> pd.DataFrame:\n",
    "    main = ['ids','name', 'gain_score_to_max_lifespan', 'kendall_tau_to_max_lifespan']\n",
    "    extra = [\"kendall_tau_to_gestation_days\", \"kendall_tau_to_mass_g\", \"kendall_tau_to_temperature_celsius\", \"kendall_tau_to_metabolic_rate\"]   \n",
    "    genes = anti_genes(df, threshold)[main]    \n",
    "    genes[\"life_history_kendal_tau\"] = df.apply(lambda row: lifehistory(row, extra, threshold) , axis=1)\n",
    "    return genes"
   ]
  },
  {
   "cell_type": "code",
   "execution_count": null,
   "metadata": {
    "jupyter": {
     "source_hidden": true
    },
    "papermill": {
     "duration": null,
     "end_time": null,
     "exception": null,
     "start_time": null,
     "status": "pending"
    },
    "tags": []
   },
   "outputs": [],
   "source": [
    "anton_5_5 = pd.read_csv(shap / \"5_tissues_anton_species_5_bootstraps.csv\", index_col=0)\n",
    "eugen_5_5 = pd.read_csv(shap / \"5_tissues_data_11_06_eugene_species.csv\", index_col=0)\n",
    "anton_7_4 = pd.read_csv(shap / \"7_tissues_anton_species_4_bootstraps.csv\", index_col=0)\n",
    "anton_7_5 = pd.read_csv(shap / \"7_tissues_anton_species_5_bootstraps.csv\", index_col=0)\n",
    "current = anton_5_5\n",
    "pro(current, threshold)"
   ]
  },
  {
   "cell_type": "code",
   "execution_count": null,
   "metadata": {
    "jupyter": {
     "source_hidden": true
    },
    "papermill": {
     "duration": null,
     "end_time": null,
     "exception": null,
     "start_time": null,
     "status": "pending"
    },
    "tags": []
   },
   "outputs": [],
   "source": [
    "anti(current, -threshold)"
   ]
  },
  {
   "cell_type": "markdown",
   "metadata": {
    "papermill": {
     "duration": null,
     "end_time": null,
     "exception": null,
     "start_time": null,
     "status": "pending"
    },
    "tags": []
   },
   "source": [
    "### Causality ###"
   ]
  },
  {
   "cell_type": "markdown",
   "metadata": {
    "papermill": {
     "duration": null,
     "end_time": null,
     "exception": null,
     "start_time": null,
     "status": "pending"
    },
    "tags": []
   },
   "source": [
    "### Intesection ###"
   ]
  },
  {
   "cell_type": "code",
   "execution_count": null,
   "metadata": {
    "jupyter": {
     "source_hidden": true
    },
    "papermill": {
     "duration": null,
     "end_time": null,
     "exception": null,
     "start_time": null,
     "status": "pending"
    },
    "tags": []
   },
   "outputs": [],
   "source": [
    "causal_anton_5_5 = pd.read_csv(causality / \"causal_relations_5_tissues_species_5.csv\")\n",
    "fathers = (causal_anton_5_5[causal_anton_5_5[\"predicate\"] == \"is father of\"])[[\"node1\"]].drop_duplicates().rename(columns={\"node1\": \"name\"})\n",
    "fathers"
   ]
  },
  {
   "cell_type": "markdown",
   "metadata": {
    "papermill": {
     "duration": null,
     "end_time": null,
     "exception": null,
     "start_time": null,
     "status": "pending"
    },
    "tags": []
   },
   "source": [
    "### Causal merging of pro and anti longevity genes ###"
   ]
  },
  {
   "cell_type": "code",
   "execution_count": null,
   "metadata": {
    "jupyter": {
     "source_hidden": true
    },
    "papermill": {
     "duration": null,
     "end_time": null,
     "exception": null,
     "start_time": null,
     "status": "pending"
    },
    "tags": []
   },
   "outputs": [],
   "source": [
    "pro_causal_merge = pro(current).merge(fathers, on=\"name\", how=\"left\", indicator = True).sort_values(by=\"_merge\", ascending=False)\n",
    "pro_causal_merge[\"_merge\"] = pro_causal_merge[\"_merge\"]==\"both\"\n",
    "pro_causal = pro_causal_merge \\\n",
    "  .rename(columns={\"_merge\": \"causal\", \"ids\": \"reference_gene\", \"name\": \"symbol\"}) \\\n",
    "  .set_index(\"reference_gene\") \\\n",
    "  .sort_values(by=\"kendall_tau_to_max_lifespan\", ascending=False)\n",
    "pro_causal"
   ]
  },
  {
   "cell_type": "code",
   "execution_count": null,
   "metadata": {
    "jupyter": {
     "source_hidden": true
    },
    "papermill": {
     "duration": null,
     "end_time": null,
     "exception": null,
     "start_time": null,
     "status": "pending"
    },
    "tags": []
   },
   "outputs": [],
   "source": [
    "anti_causal_merge = anti(current).merge(fathers, on=\"name\", how=\"left\", indicator = True).sort_values(by=\"_merge\", ascending=False)\n",
    "anti_causal_merge[\"_merge\"] = anti_causal_merge[\"_merge\"]==\"both\"\n",
    "anti_causal = anti_causal_merge \\\n",
    "  .rename(columns={\"_merge\": \"causal\", \"ids\": \"reference_gene\", \"name\": \"symbol\"}) \\\n",
    "  .set_index(\"reference_gene\") \\\n",
    "  .sort_values(by=\"kendall_tau_to_max_lifespan\", ascending=False)\n",
    "anti_causal"
   ]
  },
  {
   "cell_type": "markdown",
   "metadata": {
    "papermill": {
     "duration": null,
     "end_time": null,
     "exception": null,
     "start_time": null,
     "status": "pending"
    },
    "tags": []
   },
   "source": [
    "### Join with linear models ###"
   ]
  },
  {
   "cell_type": "code",
   "execution_count": null,
   "metadata": {
    "jupyter": {
     "source_hidden": true
    },
    "papermill": {
     "duration": null,
     "end_time": null,
     "exception": null,
     "start_time": null,
     "status": "pending"
    },
    "tags": []
   },
   "outputs": [],
   "source": [
    "def shap_with_linear(shap_causal: pd.DataFrame, linear_organ: pd.DataFrame):\n",
    "  return shap_causal.reset_index().merge(linear_organ,on=\"symbol\", how=\"left\") \\\n",
    "    .rename(columns={\"organ\": \"organs (r^2) in linear models\", \"life_history\": \"life_history_kendal_tau\", \"kendall_tau_to_max_lifespan\": \"MLS_kendall_tau\", \"gain_score_to_max_lifespan\": \"MLS_gain_score\"}) \\\n",
    "    .sort_values(by=\"MLS_kendall_tau\", ascending = False) \\\n",
    "    .set_index(\"reference_gene\")"
   ]
  },
  {
   "cell_type": "code",
   "execution_count": null,
   "metadata": {
    "jupyter": {
     "source_hidden": true
    },
    "papermill": {
     "duration": null,
     "end_time": null,
     "exception": null,
     "start_time": null,
     "status": "pending"
    },
    "tags": []
   },
   "outputs": [],
   "source": [
    "pro_all =  shap_with_linear(pro_causal, pro_linear_organ)\n",
    "pro_all"
   ]
  },
  {
   "cell_type": "code",
   "execution_count": null,
   "metadata": {
    "jupyter": {
     "source_hidden": true
    },
    "papermill": {
     "duration": null,
     "end_time": null,
     "exception": null,
     "start_time": null,
     "status": "pending"
    },
    "tags": []
   },
   "outputs": [],
   "source": [
    "anti_all =  shap_with_linear(anti_causal, anti_linear_organ).sort_values(\"MLS_kendall_tau\")\n",
    "anti_all"
   ]
  },
  {
   "cell_type": "code",
   "execution_count": null,
   "metadata": {
    "jupyter": {
     "source_hidden": true
    },
    "papermill": {
     "duration": null,
     "end_time": null,
     "exception": null,
     "start_time": null,
     "status": "pending"
    },
    "tags": []
   },
   "outputs": [],
   "source": [
    "pro(anton_7_4)"
   ]
  },
  {
   "cell_type": "code",
   "execution_count": null,
   "metadata": {
    "jupyter": {
     "source_hidden": true
    },
    "papermill": {
     "duration": null,
     "end_time": null,
     "exception": null,
     "start_time": null,
     "status": "pending"
    },
    "tags": []
   },
   "outputs": [],
   "source": [
    "intersections = locations.output / \"intersections\"\n",
    "pro_all.to_csv(intersections / \"pro_intersections.tsv\", sep = \"\\t\", index = True)\n",
    "anti_all.to_csv(intersections / \"anti_intersections.tsv\", sep = \"\\t\", index = True)"
   ]
  },
  {
   "cell_type": "code",
   "execution_count": null,
   "metadata": {
    "jupyter": {
     "source_hidden": true
    },
    "papermill": {
     "duration": null,
     "end_time": null,
     "exception": null,
     "start_time": null,
     "status": "pending"
    },
    "tags": []
   },
   "outputs": [],
   "source": [
    "pro_all_ext = pro_all.merge(pro(anton_7_4).rename(columns={\"ids\": \"reference_gene\", \"name\": \"symbol\"}), \\\n",
    "  on=[\"reference_gene\", \"symbol\"], how=\"outer\", indicator = True) \\\n",
    "  .sort_values(by=\"_merge\", ascending=False)\n",
    "pro_all_ext.to_csv(intersections / \"pro_7_4_intersections.tsv\", sep = \"\\t\", index = False)\n",
    "pro_all_ext"
   ]
  },
  {
   "cell_type": "code",
   "execution_count": null,
   "metadata": {
    "jupyter": {
     "source_hidden": true
    },
    "papermill": {
     "duration": null,
     "end_time": null,
     "exception": null,
     "start_time": null,
     "status": "pending"
    },
    "tags": []
   },
   "outputs": [],
   "source": [
    "anti_all_ext_7_5 = anti_all.merge(anti(anton_7_5).rename(columns={\"ids\": \"reference_gene\", \"name\": \"symbol\"}), \\\n",
    "  on=[\"reference_gene\", \"symbol\"], how=\"outer\", indicator = True) \\\n",
    "  .sort_values(by=\"_merge\", ascending=False)\n",
    "anti_all_ext_7_5.to_csv(intersections / \"anti_7_5_intersections.tsv\", sep = \"\\t\", index = False)\n",
    "anti_all_ext_7_5"
   ]
  },
  {
   "cell_type": "markdown",
   "metadata": {
    "papermill": {
     "duration": null,
     "end_time": null,
     "exception": null,
     "start_time": null,
     "status": "pending"
    },
    "tags": []
   },
   "source": [
    "## Genage annotations ##"
   ]
  },
  {
   "cell_type": "code",
   "execution_count": null,
   "metadata": {
    "jupyter": {
     "source_hidden": true
    },
    "papermill": {
     "duration": null,
     "end_time": null,
     "exception": null,
     "start_time": null,
     "status": "pending"
    },
    "tags": []
   },
   "outputs": [],
   "source": [
    "genage_dir = locations.input.input / \"annotations\" / \"genage\"\n",
    "\n",
    "genage_conversions = pd.read_csv(genage_dir  / \"genage_conversion.tsv\", sep=\"\\t\")\n",
    "genage = genage_conversions[[\"Ensembl\",\"Gene Symbol\", \"Organism\", \"Lifespan Effect\", \"Longevity Influence\", \"Method\"]].drop_duplicates()\n",
    "genage.head(10)"
   ]
  },
  {
   "cell_type": "code",
   "execution_count": null,
   "metadata": {
    "jupyter": {
     "source_hidden": true
    },
    "papermill": {
     "duration": null,
     "end_time": null,
     "exception": null,
     "start_time": null,
     "status": "pending"
    },
    "tags": []
   },
   "outputs": [],
   "source": [
    "genage[\"Ensembl\"].drop_duplicates().shape"
   ]
  },
  {
   "cell_type": "code",
   "execution_count": null,
   "metadata": {
    "jupyter": {
     "source_hidden": true
    },
    "papermill": {
     "duration": null,
     "end_time": null,
     "exception": null,
     "start_time": null,
     "status": "pending"
    },
    "tags": []
   },
   "outputs": [],
   "source": [
    "genage_genes = pd.read_csv(genage_dir  / \"genage_orthologs\" / \"all.tsv\", sep=\"\\t\").rename(columns={\"Homo_sapiens\":\"reference_gene\"})\n",
    "genage_genes.head(10)"
   ]
  },
  {
   "cell_type": "code",
   "execution_count": null,
   "metadata": {
    "jupyter": {
     "source_hidden": true
    },
    "papermill": {
     "duration": null,
     "end_time": null,
     "exception": null,
     "start_time": null,
     "status": "pending"
    },
    "tags": []
   },
   "outputs": [],
   "source": []
  },
  {
   "cell_type": "code",
   "execution_count": null,
   "metadata": {
    "jupyter": {
     "source_hidden": true
    },
    "papermill": {
     "duration": null,
     "end_time": null,
     "exception": null,
     "start_time": null,
     "status": "pending"
    },
    "tags": []
   },
   "outputs": [],
   "source": [
    "genage_humanized = genage.head(0)\n",
    "for c in genage_genes.columns[1:]:\n",
    "    col = c.replace(\"_\", \" \")\n",
    "    selected_genes = genage_genes[[\"reference_gene\",c]].rename(columns = {c:\"Ensembl\"}).dropna()\n",
    "    selected_genes[\"Ensembl\"] = selected_genes.apply(lambda row: row[\"Ensembl\"].split(\";\"),1)\n",
    "    genage_org = genage[genage[\"Organism\"]==col]\n",
    "    merged = selected_genes.explode(\"Ensembl\").merge(genage_org, on=\"Ensembl\", how=\"inner\")\n",
    "    genage_humanized = pd.concat([genage_humanized, merged])\n",
    "genage_humanized = genage_humanized.drop_duplicates()\n",
    "genage_humanized.head(10)"
   ]
  },
  {
   "cell_type": "code",
   "execution_count": null,
   "metadata": {
    "jupyter": {
     "source_hidden": true
    },
    "papermill": {
     "duration": null,
     "end_time": null,
     "exception": null,
     "start_time": null,
     "status": "pending"
    },
    "tags": []
   },
   "outputs": [],
   "source": [
    "pro_genage = pro_all_ext_7_5.merge(genage_humanized, on=\"reference_gene\")\n",
    "pro_genage"
   ]
  },
  {
   "cell_type": "code",
   "execution_count": null,
   "metadata": {
    "jupyter": {
     "source_hidden": true
    },
    "papermill": {
     "duration": null,
     "end_time": null,
     "exception": null,
     "start_time": null,
     "status": "pending"
    },
    "tags": []
   },
   "outputs": [],
   "source": [
    "anti_genage = anti_all_ext_7_5.merge(genage_humanized, on=\"reference_gene\")\n",
    "anti_genage"
   ]
  },
  {
   "cell_type": "code",
   "execution_count": null,
   "metadata": {
    "jupyter": {
     "source_hidden": true
    },
    "papermill": {
     "duration": null,
     "end_time": null,
     "exception": null,
     "start_time": null,
     "status": "pending"
    },
    "tags": []
   },
   "outputs": [],
   "source": [
    "genage_human = pd.read_csv(genage_dir / \"genage_human.csv\")\n",
    "genage_human.shape"
   ]
  },
  {
   "cell_type": "code",
   "execution_count": null,
   "metadata": {
    "jupyter": {
     "source_hidden": true
    },
    "papermill": {
     "duration": null,
     "end_time": null,
     "exception": null,
     "start_time": null,
     "status": "pending"
    },
    "tags": []
   },
   "outputs": [],
   "source": [
    "pro_human_genage = genage_human.merge(pro_all_ext_7_5, on=\"symbol\")\n",
    "pro_human_genage"
   ]
  },
  {
   "cell_type": "code",
   "execution_count": null,
   "metadata": {
    "jupyter": {
     "source_hidden": true
    },
    "papermill": {
     "duration": null,
     "end_time": null,
     "exception": null,
     "start_time": null,
     "status": "pending"
    },
    "tags": []
   },
   "outputs": [],
   "source": [
    "anti_human_genage = genage_human.merge(anti_all_ext_7_5, on=\"symbol\")\n",
    "anti_human_genage"
   ]
  },
  {
   "cell_type": "code",
   "execution_count": null,
   "metadata": {
    "jupyter": {
     "source_hidden": true
    },
    "papermill": {
     "duration": null,
     "end_time": null,
     "exception": null,
     "start_time": null,
     "status": "pending"
    },
    "tags": []
   },
   "outputs": [],
   "source": [
    "pro_genage.to_csv(intersections / \"genage_pro_model_intersections.tsv\", sep = \"\\t\", index = False)\n",
    "anti_genage.to_csv(intersections / \"genage_anti_model_intersections.tsv\", sep = \"\\t\", index = False)\n",
    "pro_human_genage.to_csv(intersections / \"genage_pro_human_intersections.tsv\", sep = \"\\t\", index = False)\n",
    "anti_human_genage.to_csv(intersections / \"genage_anti_human_intersections.tsv\", sep = \"\\t\", index = False)"
   ]
  },
  {
   "cell_type": "code",
   "execution_count": null,
   "metadata": {
    "jupyter": {
     "source_hidden": true
    },
    "papermill": {
     "duration": null,
     "end_time": null,
     "exception": null,
     "start_time": null,
     "status": "pending"
    },
    "tags": []
   },
   "outputs": [],
   "source": []
  }
 ],
 "metadata": {
  "kernelspec": {
   "display_name": "Python 3",
   "language": "python",
   "name": "python3"
  },
  "language_info": {
   "codemirror_mode": {
    "name": "ipython",
    "version": 3
   },
   "file_extension": ".py",
   "mimetype": "text/x-python",
   "name": "python",
   "nbconvert_exporter": "python",
   "pygments_lexer": "ipython3",
   "version": "3.7.6"
  },
  "papermill": {
   "duration": 3.09338,
   "end_time": "2020-06-15T01:59:24.956952",
   "environment_variables": {},
   "exception": true,
   "input_path": "notebooks/results_intersections.ipynb",
   "output_path": "data/output/notebooks/results_intersections.ipynb",
   "parameters": {
    "threshold": 0.3
   },
   "start_time": "2020-06-15T01:59:21.863572",
   "version": "2.1.0"
  }
 },
 "nbformat": 4,
 "nbformat_minor": 4
}