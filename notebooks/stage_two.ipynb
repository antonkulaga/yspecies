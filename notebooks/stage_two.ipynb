{
 "cells": [
  {
   "cell_type": "markdown",
   "metadata": {},
   "source": [
    "# Hyper parameters optimization #"
   ]
  },
  {
   "cell_type": "markdown",
   "metadata": {},
   "source": [
    "## Parameters cell ##\n",
    "\n",
    "Parameters are overiddent by papermill when run inside DVC stages\n",
    "\n"
   ]
  },
  {
   "cell_type": "code",
   "execution_count": 34,
   "metadata": {
    "tags": [
     "parameters"
    ]
   },
   "outputs": [],
   "source": [
    "n_folds = 5 # this sets global setting of which how many bootstraps to use\n",
    "n_hold_out = 1\n",
    "repeats = 5\n",
    "n_trials = 50\n",
    "importance_type = \"split\"\n",
    "trait = \"lifespan\"#\"lifespan\"\n",
    "\n",
    "debug_local = True #to use local version"
   ]
  },
  {
   "cell_type": "code",
   "execution_count": 35,
   "metadata": {},
   "outputs": [
    {
     "name": "stdout",
     "output_type": "stream",
     "text": [
      "extending pathes with local yspecies\n",
      "['..', '..', '/data/sources/yspecies/notebooks', '/data/miniconda3/envs/yspecies/lib/python38.zip', '/data/miniconda3/envs/yspecies/lib/python3.8', '/data/miniconda3/envs/yspecies/lib/python3.8/lib-dynload', '', '/data/miniconda3/envs/yspecies/lib/python3.8/site-packages', '/data/miniconda3/envs/yspecies/lib/python3.8/site-packages/IPython/extensions', '/home/anton/.ipython']\n",
      "The autoreload extension is already loaded. To reload it, use:\n",
      "  %reload_ext autoreload\n"
     ]
    }
   ],
   "source": [
    "from pathlib import Path\n",
    "import sys\n",
    "import inspect\n",
    "\n",
    "local = (Path(\"..\") / \"yspecies\").resolve()\n",
    "if debug_local and local.exists():\n",
    "  sys.path.insert(0, Path(\"..\").as_posix())\n",
    "  #sys.path.insert(0, local.as_posix())\n",
    "  print(\"extending pathes with local yspecies\")\n",
    "  print(sys.path)\n",
    "  %load_ext autoreload\n",
    "  %autoreload 2"
   ]
  },
  {
   "cell_type": "code",
   "execution_count": 36,
   "metadata": {},
   "outputs": [],
   "source": [
    "from dataclasses import dataclass, replace\n",
    "import numpy as np\n",
    "import pandas as pd\n",
    "from sklearn.pipeline import Pipeline\n",
    "import seaborn as sns\n",
    "import matplotlib.pyplot as plt"
   ]
  },
  {
   "cell_type": "code",
   "execution_count": 37,
   "metadata": {},
   "outputs": [],
   "source": [
    "from typing import *\n",
    "from yspecies.dataset import *\n",
    "from yspecies.utils import *\n",
    "from yspecies.workflow import TupleWith, Repeat, Collect\n",
    "from yspecies.config import *\n",
    "from yspecies.preprocess import FeatureSelection, DataExtractor\n",
    "from yspecies.partition import DataPartitioner, PartitionParameters\n",
    "from yspecies.selection import ShapSelector\n",
    "from yspecies.tuning import Tune, MultiObjectiveResults\n",
    "from yspecies.models import ResultsCV, CrossValidator\n",
    "from yspecies.results import FeatureSummary\n",
    "import optuna\n",
    "from optuna import Study, Trial"
   ]
  },
  {
   "cell_type": "code",
   "execution_count": 38,
   "metadata": {},
   "outputs": [
    {
     "name": "stdout",
     "output_type": "stream",
     "text": [
      "Using matplotlib backend: agg\n"
     ]
    }
   ],
   "source": [
    "#settings\n",
    "pd.set_option('display.max_columns', None)\n",
    "pd.set_option('display.max_rows', None)\n",
    "pd.set_option('display.float_format', lambda x: '%.3f' % x)\n",
    "import pprint\n",
    "pp = pprint.PrettyPrinter(indent=4)\n",
    "\n",
    "#charts settings\n",
    "import matplotlib.pyplot as plt\n",
    "from IPython.display import set_matplotlib_formats\n",
    "%matplotlib auto\n",
    "plt.ioff()\n",
    "set_matplotlib_formats('svg')"
   ]
  },
  {
   "cell_type": "markdown",
   "metadata": {},
   "source": [
    "### Loading data ###\n",
    "Let's load data from species/genes/expressions selected by select_samples.py notebook"
   ]
  },
  {
   "cell_type": "code",
   "execution_count": 39,
   "metadata": {},
   "outputs": [],
   "source": [
    "from pathlib import Path\n",
    "locations: Locations = Locations(\"./\") if Path(\"./data\").exists() else Locations(\"../\")"
   ]
  },
  {
   "cell_type": "code",
   "execution_count": 40,
   "metadata": {},
   "outputs": [],
   "source": [
    "import logging\n",
    "log = logging.getLogger('server_logger')\n",
    "log.setLevel(logging.DEBUG)\n",
    "fh = logging.FileHandler(locations.logs / \"optimization.log\")"
   ]
  },
  {
   "cell_type": "code",
   "execution_count": 41,
   "metadata": {},
   "outputs": [
    {
     "data": {
      "text/plain": [
       "4"
      ]
     },
     "execution_count": 41,
     "metadata": {},
     "output_type": "execute_result"
    }
   ],
   "source": [
    "from loguru import logger\n",
    "\n",
    "logger.add(locations.logs / \"optimization_errors.log\", backtrace=True, diagnose=True)\n",
    "logger.add(locations.logs / \"optimization.log\", rotation=\"12:00\")     # New file is created each day at noon"
   ]
  },
  {
   "cell_type": "code",
   "execution_count": 42,
   "metadata": {},
   "outputs": [
    {
     "data": {
      "text/html": [
       "<table border='2'><caption> Selected feature columns <caption><tr><th>Samples metadata</th><th>Species metadata</th><th>Genes</th><th>Predict label</th><th>not_validated species</th></tr><tr><td>['tissue', 'species']</td><td>[]</td><td>all</td><td>lifespan</td><td>[]</td></tr></table>"
      ],
      "text/plain": [
       "FeatureSelection(samples=['tissue', 'species'], species=[], genes=None, to_predict='lifespan', categorical=['tissue'], exclude_from_training=['species'], genes_meta=None, select_by='shap', importance_type='split', feature_perturbation='tree_path_dependent', not_validated_species=[])"
      ]
     },
     "execution_count": 42,
     "metadata": {},
     "output_type": "execute_result"
    }
   ],
   "source": [
    "selection = FeatureSelection(\n",
    "    samples = [\"tissue\",\"species\"], #samples metadata to include\n",
    "    species =  [], #species metadata other then Y label to include\n",
    "    exclude_from_training = [\"species\"],  #exclude some fields from LightGBM training\n",
    "    to_predict = trait, #column to predict\n",
    "    categorical = [\"tissue\"],\n",
    "    select_by = \"shap\",\n",
    "    importance_type =  importance_type,\n",
    "    feature_perturbation = \"tree_path_dependent\"\n",
    ")\n",
    "selection"
   ]
  },
  {
   "cell_type": "code",
   "execution_count": 43,
   "metadata": {},
   "outputs": [
    {
     "data": {
      "text/html": [
       "<table border='2'><caption>input_data<caption><tr><th>expressions</th><th>genes</th><th>species</th><th>samples</th><th>Genes Metadata</th><th>Species Metadata</th></tr><tr><td>(408, 90)</td><td>(90, 37)</td><td>38</td><td>408</td><td>(90, 2)</td><td>(38, 18)</td></tr></table>"
      ],
      "text/plain": [
       "<table border='2'><caption>input_data<caption><tr><th>expressions</th><th>genes</th><th>species</th><th>samples</th><th>Genes Metadata</th><th>Species Metadata</th></tr><tr><td>(408, 90)</td><td>(90, 37)</td><td>38</td><td>408</td><td>(90, 2)</td><td>(38, 18)</td></tr></table>"
      ]
     },
     "execution_count": 43,
     "metadata": {},
     "output_type": "execute_result"
    }
   ],
   "source": [
    "data = ExpressionDataset.from_folder(locations.interim.dir / \"stage_2\" / \"input_data\")\n",
    "data"
   ]
  },
  {
   "cell_type": "markdown",
   "metadata": {},
   "source": [
    "## Setting up ShapSelector ##"
   ]
  },
  {
   "cell_type": "markdown",
   "metadata": {},
   "source": [
    "Deciding on selection parameters (which fields to include, exclude, predict)"
   ]
  },
  {
   "cell_type": "code",
   "execution_count": 44,
   "metadata": {},
   "outputs": [],
   "source": [
    "partition_params = PartitionParameters(n_folds, n_hold_out, 2,   42)"
   ]
  },
  {
   "cell_type": "code",
   "execution_count": 45,
   "metadata": {},
   "outputs": [
    {
     "name": "stdout",
     "output_type": "stream",
     "text": [
      "loading (if exists) study from sqlite:////data/sources/yspecies/notebooks/../data/interim/optimization/lifespan_2.sqlite\n"
     ]
    },
    {
     "name": "stderr",
     "output_type": "stream",
     "text": [
      "create_study is experimental (supported from v1.4.0). The interface can change in the future.\n",
      "NSGAIIMultiObjectiveSampler is experimental (supported from v1.5.0). The interface can change in the future.\n",
      "RandomMultiObjectiveSampler is experimental (supported from v1.4.0). The interface can change in the future.\n",
      "[I 2020-08-31 09:10:35,510] Using an existing study with name 'lifespan_r2_huber_kendall' instead of creating a new one.\n",
      "MultiObjectiveStudy is experimental (supported from v1.4.0). The interface can change in the future.\n"
     ]
    },
    {
     "data": {
      "text/plain": [
       "<optuna.multi_objective.study.MultiObjectiveStudy at 0x7ffa1e34d580>"
      ]
     },
     "execution_count": 45,
     "metadata": {},
     "output_type": "execute_result"
    }
   ],
   "source": [
    "def load_study(trait: str):\n",
    "    url = f'sqlite:///' +str((locations.interim.optimization / (trait+\"_2.sqlite\")).absolute())\n",
    "    print('loading (if exists) study from '+url)\n",
    "    storage = optuna.storages.RDBStorage(\n",
    "        url=url\n",
    "        #engine_kwargs={'check_same_thread': False}\n",
    "    )\n",
    "    return optuna.multi_objective.study.create_study(directions=['maximize','minimize','maximize'], storage = storage, study_name = f\"{trait}_r2_huber_kendall\", load_if_exists = True)\n",
    "\n",
    "study = load_study(trait)\n",
    "study\n",
    "#metrics, params = MultiObjectiveResults.from_study(study).best_metrics_params_r2()\n",
    "#metrics, params"
   ]
  },
  {
   "cell_type": "code",
   "execution_count": 46,
   "metadata": {},
   "outputs": [],
   "source": [
    "def objective_parameters(trial: Trial) -> dict:\n",
    "    return {\n",
    "        'objective': 'regression',\n",
    "        'metric': {'mae', 'mse', 'huber'},\n",
    "        'verbosity': -1,\n",
    "        'boosting_type': trial.suggest_categorical('boosting_type', ['dart', 'gbdt']),\n",
    "        'lambda_l1': trial.suggest_uniform('lambda_l1', 0.01, 3.0),\n",
    "        'lambda_l2': trial.suggest_uniform('lambda_l2', 0.01, 3.0),\n",
    "        'max_leaves': trial.suggest_int(\"max_leaves\", 15, 25),\n",
    "        'max_depth': trial.suggest_int('max_depth', 3, 8),\n",
    "        'feature_fraction': trial.suggest_uniform('feature_fraction', 0.5, 1.0),\n",
    "        'bagging_fraction': trial.suggest_uniform('bagging_fraction', 0.3, 1.0),\n",
    "        'learning_rate': trial.suggest_uniform('learning_rate', 0.01, 0.1),\n",
    "        'min_data_in_leaf': trial.suggest_int('min_data_in_leaf', 3, 8),\n",
    "        'drop_rate': trial.suggest_uniform('drop_rate', 0.1, 0.3),\n",
    "        \"verbose\": -1\n",
    "    }\n",
    "optimization_parameters = objective_parameters"
   ]
  },
  {
   "cell_type": "code",
   "execution_count": 47,
   "metadata": {},
   "outputs": [],
   "source": [
    "from yspecies.workflow import SplitReduce\n",
    "\n",
    "def side(i: int):\n",
    "    print(i)\n",
    "    return i\n",
    "\n",
    "prepare_partition = SplitReduce(\n",
    "    outputs = DataPartitioner(), \n",
    "    split = lambda x: [(x[0], replace(partition_params, seed=side(x[2])))], \n",
    "    reduce = lambda x, output: (output[0], x[1]) \n",
    ")                               \n",
    "partition_and_cv = Pipeline(\n",
    "    [\n",
    "        (\"prepare partition\", prepare_partition),\n",
    "        (\"shap_computation\", ShapSelector()) #('crossvalidator', CrossValidator())        \n",
    "    ]\n",
    ")\n",
    "\n",
    "partition_and_cv_repeat =  Pipeline([\n",
    "    (\"repeat_cv_pipe\", Repeat(partition_and_cv, repeats, lambda x, i: [x[0], x[1], i] )),\n",
    "    #(\"collect_mean\", Collect(fold=lambda results: np.array([r.last(\"huber\") for r in results]).mean()))\n",
    "    (\"collect_mean\", Collect(fold=lambda results: (FeatureSummary(results).metrics_average.R2, FeatureSummary(results).metrics_average.huber, FeatureSummary(results).kendall_tau_abs_mean)))    \n",
    "    ]\n",
    "    )\n",
    "\n",
    "p = Pipeline([\n",
    "     ('extractor', DataExtractor()),\n",
    "     ('tune', Tune(partition_and_cv_repeat, study = study, n_trials = n_trials, parameters_space = optimization_parameters))    \n",
    "])"
   ]
  },
  {
   "cell_type": "code",
   "execution_count": null,
   "metadata": {},
   "outputs": [
    {
     "name": "stderr",
     "output_type": "stream",
     "text": [
      "MultiObjectiveStudy is experimental (supported from v1.4.0). The interface can change in the future.\n",
      "FrozenMultiObjectiveTrial is experimental (supported from v1.4.0). The interface can change in the future.\n",
      "MultiObjectiveStudy is experimental (supported from v1.4.0). The interface can change in the future.\n",
      "FrozenMultiObjectiveTrial is experimental (supported from v1.4.0). The interface can change in the future.\n",
      "FrozenMultiObjectiveTrial is experimental (supported from v1.4.0). The interface can change in the future.\n",
      "MultiObjectiveTrial is experimental (supported from v1.4.0). The interface can change in the future.\n",
      "MultiObjectiveStudy is experimental (supported from v1.4.0). The interface can change in the future.\n",
      "FrozenMultiObjectiveTrial is experimental (supported from v1.4.0). The interface can change in the future.\n"
     ]
    },
    {
     "name": "stdout",
     "output_type": "stream",
     "text": [
      "0\n"
     ]
    },
    {
     "name": "stderr",
     "output_type": "stream",
     "text": [
      "2020-08-31 09:10:39.774 | INFO     | yspecies.selection:fit:78 - ===== fitting models with seed 0 =====\n",
      "2020-08-31 09:10:39.776 | INFO     | yspecies.selection:fit:79 - PARAMETERS:\n",
      "{'objective': 'regression', 'metric': {'mse', 'huber', 'mae'}, 'verbosity': -1, 'boosting_type': 'gbdt', 'lambda_l1': 0.8408976353362078, 'lambda_l2': 2.988126141377181, 'max_leaves': 19, 'max_depth': 3, 'feature_fraction': 0.584904668425096, 'bagging_fraction': 0.36258768829736376, 'learning_rate': 0.0213329832416484, 'min_data_in_leaf': 8, 'drop_rate': 0.12985939864611992, 'verbose': -1}\n",
      "2020-08-31 09:10:39.782 | INFO     | yspecies.selection:fit:82 - SEED: 0 | FOLD: 0 | VALIDATION_SPECIES: ['Homo_sapiens', 'Equus_caballus']\n"
     ]
    },
    {
     "name": "stdout",
     "output_type": "stream",
     "text": [
      "Training until validation scores don't improve for 10 rounds\n",
      "[250]\tvalid_0's l2: 2006.15\tvalid_0's huber: 19.4199\tvalid_0's l1: 21.9521\n",
      "Did not meet early stopping. Best iteration is:\n",
      "[250]\tvalid_0's l2: 2006.15\tvalid_0's huber: 19.4199\tvalid_0's l1: 21.9521\n"
     ]
    },
    {
     "name": "stderr",
     "output_type": "stream",
     "text": [
      "2020-08-31 09:10:40.010 | INFO     | yspecies.selection:fit:82 - SEED: 0 | FOLD: 1 | VALIDATION_SPECIES: ['Ursus_americanus', 'Phascolarctos_cinereus']\n"
     ]
    },
    {
     "name": "stdout",
     "output_type": "stream",
     "text": [
      "Training until validation scores don't improve for 10 rounds\n",
      "[250]\tvalid_0's l2: 45.5566\tvalid_0's huber: 3.00639\tvalid_0's l1: 3.7079\n",
      "Did not meet early stopping. Best iteration is:\n",
      "[250]\tvalid_0's l2: 45.5566\tvalid_0's huber: 3.00639\tvalid_0's l1: 3.7079\n"
     ]
    },
    {
     "name": "stderr",
     "output_type": "stream",
     "text": [
      "2020-08-31 09:10:40.192 | INFO     | yspecies.selection:fit:82 - SEED: 0 | FOLD: 2 | VALIDATION_SPECIES: ['Suricata_suricatta', 'Mus_spicilegus']\n"
     ]
    },
    {
     "name": "stdout",
     "output_type": "stream",
     "text": [
      "Training until validation scores don't improve for 10 rounds\n",
      "[250]\tvalid_0's l2: 17.2592\tvalid_0's huber: 1.94149\tvalid_0's l1: 2.54463\n",
      "Did not meet early stopping. Best iteration is:\n",
      "[250]\tvalid_0's l2: 17.2592\tvalid_0's huber: 1.94149\tvalid_0's l1: 2.54463\n"
     ]
    },
    {
     "name": "stderr",
     "output_type": "stream",
     "text": [
      "2020-08-31 09:10:40.357 | INFO     | yspecies.selection:fit:82 - SEED: 0 | FOLD: 3 | VALIDATION_SPECIES: ['Aotus_nancymaae', 'Macaca_fascicularis']\n"
     ]
    },
    {
     "name": "stdout",
     "output_type": "stream",
     "text": [
      "Training until validation scores don't improve for 10 rounds\n",
      "[250]\tvalid_0's l2: 25.7442\tvalid_0's huber: 2.3677\tvalid_0's l1: 3.00992\n",
      "Did not meet early stopping. Best iteration is:\n",
      "[250]\tvalid_0's l2: 25.7442\tvalid_0's huber: 2.3677\tvalid_0's l1: 3.00992\n",
      "1\n"
     ]
    },
    {
     "name": "stderr",
     "output_type": "stream",
     "text": [
      "2020-08-31 09:10:51.146 | INFO     | yspecies.selection:fit:78 - ===== fitting models with seed 1 =====\n",
      "2020-08-31 09:10:51.148 | INFO     | yspecies.selection:fit:79 - PARAMETERS:\n",
      "{'objective': 'regression', 'metric': {'mse', 'huber', 'mae'}, 'verbosity': -1, 'boosting_type': 'gbdt', 'lambda_l1': 0.8408976353362078, 'lambda_l2': 2.988126141377181, 'max_leaves': 19, 'max_depth': 3, 'feature_fraction': 0.584904668425096, 'bagging_fraction': 0.36258768829736376, 'learning_rate': 0.0213329832416484, 'min_data_in_leaf': 8, 'drop_rate': 0.12985939864611992, 'verbose': -1, 'seed': 0}\n",
      "2020-08-31 09:10:51.152 | INFO     | yspecies.selection:fit:82 - SEED: 1 | FOLD: 0 | VALIDATION_SPECIES: ['Mus_caroli', 'Vombatus_ursinus']\n"
     ]
    },
    {
     "name": "stdout",
     "output_type": "stream",
     "text": [
      "Training until validation scores don't improve for 10 rounds\n",
      "[250]\tvalid_0's l2: 17.8624\tvalid_0's huber: 2.14982\tvalid_0's l1: 2.79151\n",
      "Did not meet early stopping. Best iteration is:\n",
      "[250]\tvalid_0's l2: 17.8624\tvalid_0's huber: 2.14982\tvalid_0's l1: 2.79151\n"
     ]
    },
    {
     "name": "stderr",
     "output_type": "stream",
     "text": [
      "2020-08-31 09:10:51.318 | INFO     | yspecies.selection:fit:82 - SEED: 1 | FOLD: 1 | VALIDATION_SPECIES: ['Ailuropoda_melanoleuca', 'Ursus_americanus']\n"
     ]
    },
    {
     "name": "stdout",
     "output_type": "stream",
     "text": [
      "Training until validation scores don't improve for 10 rounds\n",
      "[250]\tvalid_0's l2: 50.5893\tvalid_0's huber: 3.0147\tvalid_0's l1: 3.73183\n",
      "Did not meet early stopping. Best iteration is:\n",
      "[248]\tvalid_0's l2: 50.5257\tvalid_0's huber: 3.01542\tvalid_0's l1: 3.73236\n"
     ]
    },
    {
     "name": "stderr",
     "output_type": "stream",
     "text": [
      "2020-08-31 09:10:51.474 | INFO     | yspecies.selection:fit:82 - SEED: 1 | FOLD: 2 | VALIDATION_SPECIES: ['Rhinolophus_ferrumequinum', 'Macaca_mulatta']\n"
     ]
    },
    {
     "name": "stdout",
     "output_type": "stream",
     "text": [
      "Training until validation scores don't improve for 10 rounds\n",
      "[250]\tvalid_0's l2: 21.6802\tvalid_0's huber: 2.20553\tvalid_0's l1: 2.83522\n",
      "Did not meet early stopping. Best iteration is:\n",
      "[250]\tvalid_0's l2: 21.6802\tvalid_0's huber: 2.20553\tvalid_0's l1: 2.83522\n"
     ]
    },
    {
     "name": "stderr",
     "output_type": "stream",
     "text": [
      "2020-08-31 09:10:51.630 | INFO     | yspecies.selection:fit:82 - SEED: 1 | FOLD: 3 | VALIDATION_SPECIES: ['Canis_lupus_familiaris', 'Homo_sapiens']\n"
     ]
    },
    {
     "name": "stdout",
     "output_type": "stream",
     "text": [
      "Training until validation scores don't improve for 10 rounds\n",
      "[250]\tvalid_0's l2: 1498.01\tvalid_0's huber: 16.5841\tvalid_0's l1: 18.8088\n",
      "Did not meet early stopping. Best iteration is:\n",
      "[250]\tvalid_0's l2: 1498.01\tvalid_0's huber: 16.5841\tvalid_0's l1: 18.8088\n",
      "2\n"
     ]
    },
    {
     "name": "stderr",
     "output_type": "stream",
     "text": [
      "2020-08-31 09:11:01.548 | INFO     | yspecies.selection:fit:78 - ===== fitting models with seed 2 =====\n",
      "2020-08-31 09:11:01.549 | INFO     | yspecies.selection:fit:79 - PARAMETERS:\n",
      "{'objective': 'regression', 'metric': {'mse', 'huber', 'mae'}, 'verbosity': -1, 'boosting_type': 'gbdt', 'lambda_l1': 0.8408976353362078, 'lambda_l2': 2.988126141377181, 'max_leaves': 19, 'max_depth': 3, 'feature_fraction': 0.584904668425096, 'bagging_fraction': 0.36258768829736376, 'learning_rate': 0.0213329832416484, 'min_data_in_leaf': 8, 'drop_rate': 0.12985939864611992, 'verbose': -1, 'seed': 1}\n",
      "2020-08-31 09:11:01.553 | INFO     | yspecies.selection:fit:82 - SEED: 2 | FOLD: 0 | VALIDATION_SPECIES: ['Canis_lupus_familiaris', 'Ailuropoda_melanoleuca']\n"
     ]
    },
    {
     "name": "stdout",
     "output_type": "stream",
     "text": [
      "Training until validation scores don't improve for 10 rounds\n",
      "[250]\tvalid_0's l2: 31.0447\tvalid_0's huber: 2.26189\tvalid_0's l1: 2.8983\n",
      "Did not meet early stopping. Best iteration is:\n",
      "[250]\tvalid_0's l2: 31.0447\tvalid_0's huber: 2.26189\tvalid_0's l1: 2.8983\n"
     ]
    },
    {
     "name": "stderr",
     "output_type": "stream",
     "text": [
      "2020-08-31 09:11:01.747 | INFO     | yspecies.selection:fit:82 - SEED: 2 | FOLD: 1 | VALIDATION_SPECIES: ['Bos_taurus', 'Callithrix_jacchus']\n"
     ]
    },
    {
     "name": "stdout",
     "output_type": "stream",
     "text": [
      "Training until validation scores don't improve for 10 rounds\n",
      "[250]\tvalid_0's l2: 53.2065\tvalid_0's huber: 3.40757\tvalid_0's l1: 4.17205\n",
      "Did not meet early stopping. Best iteration is:\n",
      "[250]\tvalid_0's l2: 53.2065\tvalid_0's huber: 3.40757\tvalid_0's l1: 4.17205\n"
     ]
    },
    {
     "name": "stderr",
     "output_type": "stream",
     "text": [
      "2020-08-31 09:11:01.953 | INFO     | yspecies.selection:fit:82 - SEED: 2 | FOLD: 2 | VALIDATION_SPECIES: ['Rhinolophus_ferrumequinum', 'Macaca_nemestrina']\n"
     ]
    },
    {
     "name": "stdout",
     "output_type": "stream",
     "text": [
      "Training until validation scores don't improve for 10 rounds\n",
      "[250]\tvalid_0's l2: 45.786\tvalid_0's huber: 3.39664\tvalid_0's l1: 4.16611\n",
      "Did not meet early stopping. Best iteration is:\n",
      "[250]\tvalid_0's l2: 45.786\tvalid_0's huber: 3.39664\tvalid_0's l1: 4.16611\n"
     ]
    },
    {
     "name": "stderr",
     "output_type": "stream",
     "text": [
      "2020-08-31 09:11:02.153 | INFO     | yspecies.selection:fit:82 - SEED: 2 | FOLD: 3 | VALIDATION_SPECIES: ['Mesocricetus_auratus', 'Cavia_aperea']\n"
     ]
    },
    {
     "name": "stdout",
     "output_type": "stream",
     "text": [
      "Training until validation scores don't improve for 10 rounds\n",
      "[250]\tvalid_0's l2: 55.419\tvalid_0's huber: 3.78029\tvalid_0's l1: 4.58825\n",
      "Did not meet early stopping. Best iteration is:\n",
      "[250]\tvalid_0's l2: 55.419\tvalid_0's huber: 3.78029\tvalid_0's l1: 4.58825\n",
      "3\n"
     ]
    },
    {
     "name": "stderr",
     "output_type": "stream",
     "text": [
      "2020-08-31 09:11:11.918 | INFO     | yspecies.selection:fit:78 - ===== fitting models with seed 3 =====\n",
      "2020-08-31 09:11:11.920 | INFO     | yspecies.selection:fit:79 - PARAMETERS:\n",
      "{'objective': 'regression', 'metric': {'mse', 'huber', 'mae'}, 'verbosity': -1, 'boosting_type': 'gbdt', 'lambda_l1': 0.8408976353362078, 'lambda_l2': 2.988126141377181, 'max_leaves': 19, 'max_depth': 3, 'feature_fraction': 0.584904668425096, 'bagging_fraction': 0.36258768829736376, 'learning_rate': 0.0213329832416484, 'min_data_in_leaf': 8, 'drop_rate': 0.12985939864611992, 'verbose': -1, 'seed': 2}\n",
      "2020-08-31 09:11:11.924 | INFO     | yspecies.selection:fit:82 - SEED: 3 | FOLD: 0 | VALIDATION_SPECIES: ['Otolemur_garnettii', 'Equus_caballus']\n"
     ]
    },
    {
     "name": "stdout",
     "output_type": "stream",
     "text": [
      "Training until validation scores don't improve for 10 rounds\n",
      "Early stopping, best iteration is:\n",
      "[200]\tvalid_0's l2: 19.7603\tvalid_0's huber: 2.30651\tvalid_0's l1: 2.95282\n"
     ]
    },
    {
     "name": "stderr",
     "output_type": "stream",
     "text": [
      "2020-08-31 09:11:12.112 | INFO     | yspecies.selection:fit:82 - SEED: 3 | FOLD: 1 | VALIDATION_SPECIES: ['Ailuropoda_melanoleuca', 'Homo_sapiens']\n"
     ]
    },
    {
     "name": "stdout",
     "output_type": "stream",
     "text": [
      "Training until validation scores don't improve for 10 rounds\n",
      "[250]\tvalid_0's l2: 1978.66\tvalid_0's huber: 19.715\tvalid_0's l1: 22.2993\n",
      "Did not meet early stopping. Best iteration is:\n",
      "[250]\tvalid_0's l2: 1978.66\tvalid_0's huber: 19.715\tvalid_0's l1: 22.2993\n"
     ]
    },
    {
     "name": "stderr",
     "output_type": "stream",
     "text": [
      "2020-08-31 09:11:12.320 | INFO     | yspecies.selection:fit:82 - SEED: 3 | FOLD: 2 | VALIDATION_SPECIES: ['Suricata_suricatta', 'Phascolarctos_cinereus']\n"
     ]
    },
    {
     "name": "stdout",
     "output_type": "stream",
     "text": [
      "Training until validation scores don't improve for 10 rounds\n",
      "[250]\tvalid_0's l2: 21.5312\tvalid_0's huber: 2.37166\tvalid_0's l1: 3.01214\n",
      "Did not meet early stopping. Best iteration is:\n",
      "[249]\tvalid_0's l2: 21.5291\tvalid_0's huber: 2.37329\tvalid_0's l1: 3.01489\n"
     ]
    },
    {
     "name": "stderr",
     "output_type": "stream",
     "text": [
      "2020-08-31 09:11:12.497 | INFO     | yspecies.selection:fit:82 - SEED: 3 | FOLD: 3 | VALIDATION_SPECIES: ['Heterocephalus_glaber', 'Monodelphis_domestica']\n"
     ]
    },
    {
     "name": "stdout",
     "output_type": "stream",
     "text": [
      "Training until validation scores don't improve for 10 rounds\n",
      "Early stopping, best iteration is:\n",
      "[122]\tvalid_0's l2: 89.9653\tvalid_0's huber: 6.21209\tvalid_0's l1: 7.34055\n",
      "4\n"
     ]
    },
    {
     "name": "stderr",
     "output_type": "stream",
     "text": [
      "2020-08-31 09:11:19.324 | INFO     | yspecies.selection:fit:78 - ===== fitting models with seed 4 =====\n",
      "2020-08-31 09:11:19.325 | INFO     | yspecies.selection:fit:79 - PARAMETERS:\n",
      "{'objective': 'regression', 'metric': {'mse', 'huber', 'mae'}, 'verbosity': -1, 'boosting_type': 'gbdt', 'lambda_l1': 0.8408976353362078, 'lambda_l2': 2.988126141377181, 'max_leaves': 19, 'max_depth': 3, 'feature_fraction': 0.584904668425096, 'bagging_fraction': 0.36258768829736376, 'learning_rate': 0.0213329832416484, 'min_data_in_leaf': 8, 'drop_rate': 0.12985939864611992, 'verbose': -1, 'seed': 3}\n",
      "2020-08-31 09:11:19.329 | INFO     | yspecies.selection:fit:82 - SEED: 4 | FOLD: 0 | VALIDATION_SPECIES: ['Macaca_mulatta', 'Gorilla_gorilla']\n"
     ]
    },
    {
     "name": "stdout",
     "output_type": "stream",
     "text": [
      "Training until validation scores don't improve for 10 rounds\n",
      "[250]\tvalid_0's l2: 120.354\tvalid_0's huber: 4.98951\tvalid_0's l1: 5.91587\n",
      "Did not meet early stopping. Best iteration is:\n",
      "[250]\tvalid_0's l2: 120.354\tvalid_0's huber: 4.98951\tvalid_0's l1: 5.91587\n"
     ]
    },
    {
     "name": "stderr",
     "output_type": "stream",
     "text": [
      "2020-08-31 09:11:19.503 | INFO     | yspecies.selection:fit:82 - SEED: 4 | FOLD: 1 | VALIDATION_SPECIES: ['Aotus_nancymaae', 'Ailuropoda_melanoleuca']\n"
     ]
    },
    {
     "name": "stdout",
     "output_type": "stream",
     "text": [
      "Training until validation scores don't improve for 10 rounds\n",
      "[250]\tvalid_0's l2: 8.83085\tvalid_0's huber: 1.49537\tvalid_0's l1: 2.04561\n",
      "Did not meet early stopping. Best iteration is:\n",
      "[250]\tvalid_0's l2: 8.83085\tvalid_0's huber: 1.49537\tvalid_0's l1: 2.04561\n"
     ]
    },
    {
     "name": "stderr",
     "output_type": "stream",
     "text": [
      "2020-08-31 09:11:19.667 | INFO     | yspecies.selection:fit:82 - SEED: 4 | FOLD: 2 | VALIDATION_SPECIES: ['Ursus_americanus', 'Meriones_unguiculatus']\n"
     ]
    },
    {
     "name": "stdout",
     "output_type": "stream",
     "text": [
      "Training until validation scores don't improve for 10 rounds\n",
      "Early stopping, best iteration is:\n",
      "[158]\tvalid_0's l2: 19.5484\tvalid_0's huber: 2.21576\tvalid_0's l1: 2.85941\n"
     ]
    },
    {
     "name": "stderr",
     "output_type": "stream",
     "text": [
      "2020-08-31 09:11:19.792 | INFO     | yspecies.selection:fit:82 - SEED: 4 | FOLD: 3 | VALIDATION_SPECIES: ['Mus_spicilegus', 'Equus_caballus']\n"
     ]
    },
    {
     "name": "stdout",
     "output_type": "stream",
     "text": [
      "Training until validation scores don't improve for 10 rounds\n",
      "[250]\tvalid_0's l2: 59.3174\tvalid_0's huber: 2.47879\tvalid_0's l1: 3.10406\n",
      "Did not meet early stopping. Best iteration is:\n",
      "[250]\tvalid_0's l2: 59.3174\tvalid_0's huber: 2.47879\tvalid_0's l1: 3.10406\n"
     ]
    },
    {
     "name": "stderr",
     "output_type": "stream",
     "text": [
      "MultiObjectiveTrial is experimental (supported from v1.4.0). The interface can change in the future.\n",
      "MultiObjectiveStudy is experimental (supported from v1.4.0). The interface can change in the future.\n",
      "[I 2020-08-31 09:11:30,810] Trial 10 finished with values: [0.7519225092621968, 5.25706793974548, 0.5453272128424077] with parameters: {'boosting_type': 'gbdt', 'lambda_l1': 0.8408976353362078, 'lambda_l2': 2.988126141377181, 'max_leaves': 19, 'max_depth': 3, 'feature_fraction': 0.584904668425096, 'bagging_fraction': 0.36258768829736376, 'learning_rate': 0.0213329832416484, 'min_data_in_leaf': 8, 'drop_rate': 0.12985939864611992}.\n",
      "MultiObjectiveStudy is experimental (supported from v1.4.0). The interface can change in the future.\n",
      "FrozenMultiObjectiveTrial is experimental (supported from v1.4.0). The interface can change in the future.\n",
      "MultiObjectiveStudy is experimental (supported from v1.4.0). The interface can change in the future.\n",
      "FrozenMultiObjectiveTrial is experimental (supported from v1.4.0). The interface can change in the future.\n",
      "FrozenMultiObjectiveTrial is experimental (supported from v1.4.0). The interface can change in the future.\n",
      "MultiObjectiveTrial is experimental (supported from v1.4.0). The interface can change in the future.\n",
      "MultiObjectiveStudy is experimental (supported from v1.4.0). The interface can change in the future.\n",
      "FrozenMultiObjectiveTrial is experimental (supported from v1.4.0). The interface can change in the future.\n"
     ]
    },
    {
     "name": "stdout",
     "output_type": "stream",
     "text": [
      "0\n"
     ]
    },
    {
     "name": "stderr",
     "output_type": "stream",
     "text": [
      "2020-08-31 09:11:31.009 | INFO     | yspecies.selection:fit:78 - ===== fitting models with seed 0 =====\n",
      "2020-08-31 09:11:31.011 | INFO     | yspecies.selection:fit:79 - PARAMETERS:\n",
      "{'objective': 'regression', 'metric': {'mse', 'huber', 'mae'}, 'verbosity': -1, 'boosting_type': 'gbdt', 'lambda_l1': 0.039808456772099474, 'lambda_l2': 1.598828389192647, 'max_leaves': 21, 'max_depth': 8, 'feature_fraction': 0.8404781793837581, 'bagging_fraction': 0.4402666575377949, 'learning_rate': 0.02381739761800749, 'min_data_in_leaf': 4, 'drop_rate': 0.29623183139703313, 'verbose': -1}\n",
      "2020-08-31 09:11:31.015 | INFO     | yspecies.selection:fit:82 - SEED: 0 | FOLD: 0 | VALIDATION_SPECIES: ['Homo_sapiens', 'Equus_caballus']\n"
     ]
    },
    {
     "name": "stdout",
     "output_type": "stream",
     "text": [
      "Training until validation scores don't improve for 10 rounds\n",
      "[250]\tvalid_0's l2: 2041.29\tvalid_0's huber: 19.4427\tvalid_0's l1: 21.9169\n",
      "Did not meet early stopping. Best iteration is:\n",
      "[249]\tvalid_0's l2: 2041.27\tvalid_0's huber: 19.4431\tvalid_0's l1: 21.9177\n"
     ]
    },
    {
     "name": "stderr",
     "output_type": "stream",
     "text": [
      "2020-08-31 09:11:31.619 | INFO     | yspecies.selection:fit:82 - SEED: 0 | FOLD: 1 | VALIDATION_SPECIES: ['Ursus_americanus', 'Phascolarctos_cinereus']\n"
     ]
    },
    {
     "name": "stdout",
     "output_type": "stream",
     "text": [
      "Training until validation scores don't improve for 10 rounds\n",
      "Early stopping, best iteration is:\n",
      "[175]\tvalid_0's l2: 70.2328\tvalid_0's huber: 3.2385\tvalid_0's l1: 3.9703\n"
     ]
    },
    {
     "name": "stderr",
     "output_type": "stream",
     "text": [
      "2020-08-31 09:11:31.984 | INFO     | yspecies.selection:fit:82 - SEED: 0 | FOLD: 2 | VALIDATION_SPECIES: ['Suricata_suricatta', 'Mus_spicilegus']\n"
     ]
    },
    {
     "name": "stdout",
     "output_type": "stream",
     "text": [
      "Training until validation scores don't improve for 10 rounds\n",
      "[250]\tvalid_0's l2: 16.7636\tvalid_0's huber: 1.68594\tvalid_0's l1: 2.19336\n",
      "Did not meet early stopping. Best iteration is:\n",
      "[243]\tvalid_0's l2: 16.7527\tvalid_0's huber: 1.68458\tvalid_0's l1: 2.19314\n"
     ]
    },
    {
     "name": "stderr",
     "output_type": "stream",
     "text": [
      "2020-08-31 09:11:32.654 | INFO     | yspecies.selection:fit:82 - SEED: 0 | FOLD: 3 | VALIDATION_SPECIES: ['Aotus_nancymaae', 'Macaca_fascicularis']\n"
     ]
    },
    {
     "name": "stdout",
     "output_type": "stream",
     "text": [
      "Training until validation scores don't improve for 10 rounds\n",
      "[250]\tvalid_0's l2: 21.0625\tvalid_0's huber: 1.98503\tvalid_0's l1: 2.54257\n",
      "Did not meet early stopping. Best iteration is:\n",
      "[250]\tvalid_0's l2: 21.0625\tvalid_0's huber: 1.98503\tvalid_0's l1: 2.54257\n",
      "1\n"
     ]
    },
    {
     "name": "stderr",
     "output_type": "stream",
     "text": [
      "2020-08-31 09:11:48.190 | INFO     | yspecies.selection:fit:78 - ===== fitting models with seed 1 =====\n",
      "2020-08-31 09:11:48.191 | INFO     | yspecies.selection:fit:79 - PARAMETERS:\n",
      "{'objective': 'regression', 'metric': {'mse', 'huber', 'mae'}, 'verbosity': -1, 'boosting_type': 'gbdt', 'lambda_l1': 0.039808456772099474, 'lambda_l2': 1.598828389192647, 'max_leaves': 21, 'max_depth': 8, 'feature_fraction': 0.8404781793837581, 'bagging_fraction': 0.4402666575377949, 'learning_rate': 0.02381739761800749, 'min_data_in_leaf': 4, 'drop_rate': 0.29623183139703313, 'verbose': -1, 'seed': 0}\n",
      "2020-08-31 09:11:48.195 | INFO     | yspecies.selection:fit:82 - SEED: 1 | FOLD: 0 | VALIDATION_SPECIES: ['Mus_caroli', 'Vombatus_ursinus']\n"
     ]
    },
    {
     "name": "stdout",
     "output_type": "stream",
     "text": [
      "Training until validation scores don't improve for 10 rounds\n",
      "Early stopping, best iteration is:\n",
      "[154]\tvalid_0's l2: 28.0039\tvalid_0's huber: 2.24464\tvalid_0's l1: 2.87792\n"
     ]
    },
    {
     "name": "stderr",
     "output_type": "stream",
     "text": [
      "2020-08-31 09:11:48.514 | INFO     | yspecies.selection:fit:82 - SEED: 1 | FOLD: 1 | VALIDATION_SPECIES: ['Ailuropoda_melanoleuca', 'Ursus_americanus']\n"
     ]
    },
    {
     "name": "stdout",
     "output_type": "stream",
     "text": [
      "Training until validation scores don't improve for 10 rounds\n",
      "Early stopping, best iteration is:\n",
      "[207]\tvalid_0's l2: 46.9751\tvalid_0's huber: 2.5326\tvalid_0's l1: 3.16816\n"
     ]
    },
    {
     "name": "stderr",
     "output_type": "stream",
     "text": [
      "2020-08-31 09:11:48.925 | INFO     | yspecies.selection:fit:82 - SEED: 1 | FOLD: 2 | VALIDATION_SPECIES: ['Rhinolophus_ferrumequinum', 'Macaca_mulatta']\n"
     ]
    },
    {
     "name": "stdout",
     "output_type": "stream",
     "text": [
      "Training until validation scores don't improve for 10 rounds\n",
      "Early stopping, best iteration is:\n",
      "[202]\tvalid_0's l2: 14.2918\tvalid_0's huber: 1.62621\tvalid_0's l1: 2.11438\n"
     ]
    },
    {
     "name": "stderr",
     "output_type": "stream",
     "text": [
      "2020-08-31 09:11:49.356 | INFO     | yspecies.selection:fit:82 - SEED: 1 | FOLD: 3 | VALIDATION_SPECIES: ['Canis_lupus_familiaris', 'Homo_sapiens']\n"
     ]
    },
    {
     "name": "stdout",
     "output_type": "stream",
     "text": [
      "Training until validation scores don't improve for 10 rounds\n",
      "[250]\tvalid_0's l2: 1566.52\tvalid_0's huber: 17.0317\tvalid_0's l1: 19.2441\n",
      "Did not meet early stopping. Best iteration is:\n",
      "[250]\tvalid_0's l2: 1566.52\tvalid_0's huber: 17.0317\tvalid_0's l1: 19.2441\n",
      "2\n"
     ]
    },
    {
     "name": "stderr",
     "output_type": "stream",
     "text": [
      "2020-08-31 09:12:04.818 | INFO     | yspecies.selection:fit:78 - ===== fitting models with seed 2 =====\n",
      "2020-08-31 09:12:04.819 | INFO     | yspecies.selection:fit:79 - PARAMETERS:\n",
      "{'objective': 'regression', 'metric': {'mse', 'huber', 'mae'}, 'verbosity': -1, 'boosting_type': 'gbdt', 'lambda_l1': 0.039808456772099474, 'lambda_l2': 1.598828389192647, 'max_leaves': 21, 'max_depth': 8, 'feature_fraction': 0.8404781793837581, 'bagging_fraction': 0.4402666575377949, 'learning_rate': 0.02381739761800749, 'min_data_in_leaf': 4, 'drop_rate': 0.29623183139703313, 'verbose': -1, 'seed': 1}\n",
      "2020-08-31 09:12:04.824 | INFO     | yspecies.selection:fit:82 - SEED: 2 | FOLD: 0 | VALIDATION_SPECIES: ['Canis_lupus_familiaris', 'Ailuropoda_melanoleuca']\n"
     ]
    },
    {
     "name": "stdout",
     "output_type": "stream",
     "text": [
      "Training until validation scores don't improve for 10 rounds\n",
      "Early stopping, best iteration is:\n",
      "[202]\tvalid_0's l2: 50.5611\tvalid_0's huber: 2.345\tvalid_0's l1: 2.94418\n"
     ]
    },
    {
     "name": "stderr",
     "output_type": "stream",
     "text": [
      "2020-08-31 09:12:05.329 | INFO     | yspecies.selection:fit:82 - SEED: 2 | FOLD: 1 | VALIDATION_SPECIES: ['Bos_taurus', 'Callithrix_jacchus']\n"
     ]
    },
    {
     "name": "stdout",
     "output_type": "stream",
     "text": [
      "Training until validation scores don't improve for 10 rounds\n",
      "[250]\tvalid_0's l2: 55.174\tvalid_0's huber: 2.90145\tvalid_0's l1: 3.56872\n",
      "Did not meet early stopping. Best iteration is:\n",
      "[246]\tvalid_0's l2: 55.1313\tvalid_0's huber: 2.90129\tvalid_0's l1: 3.56875\n"
     ]
    },
    {
     "name": "stderr",
     "output_type": "stream",
     "text": [
      "2020-08-31 09:12:05.912 | INFO     | yspecies.selection:fit:82 - SEED: 2 | FOLD: 2 | VALIDATION_SPECIES: ['Rhinolophus_ferrumequinum', 'Macaca_nemestrina']\n"
     ]
    },
    {
     "name": "stdout",
     "output_type": "stream",
     "text": [
      "Training until validation scores don't improve for 10 rounds\n",
      "[250]\tvalid_0's l2: 81.792\tvalid_0's huber: 3.79431\tvalid_0's l1: 4.54657\n",
      "Did not meet early stopping. Best iteration is:\n",
      "[248]\tvalid_0's l2: 81.7162\tvalid_0's huber: 3.79291\tvalid_0's l1: 4.54459\n"
     ]
    },
    {
     "name": "stderr",
     "output_type": "stream",
     "text": [
      "2020-08-31 09:12:06.480 | INFO     | yspecies.selection:fit:82 - SEED: 2 | FOLD: 3 | VALIDATION_SPECIES: ['Mesocricetus_auratus', 'Cavia_aperea']\n"
     ]
    },
    {
     "name": "stdout",
     "output_type": "stream",
     "text": [
      "Training until validation scores don't improve for 10 rounds\n",
      "[250]\tvalid_0's l2: 105.32\tvalid_0's huber: 3.18926\tvalid_0's l1: 3.87\n",
      "Did not meet early stopping. Best iteration is:\n",
      "[250]\tvalid_0's l2: 105.32\tvalid_0's huber: 3.18926\tvalid_0's l1: 3.87\n",
      "3\n"
     ]
    },
    {
     "name": "stderr",
     "output_type": "stream",
     "text": [
      "2020-08-31 09:12:21.351 | INFO     | yspecies.selection:fit:78 - ===== fitting models with seed 3 =====\n",
      "2020-08-31 09:12:21.352 | INFO     | yspecies.selection:fit:79 - PARAMETERS:\n",
      "{'objective': 'regression', 'metric': {'mse', 'huber', 'mae'}, 'verbosity': -1, 'boosting_type': 'gbdt', 'lambda_l1': 0.039808456772099474, 'lambda_l2': 1.598828389192647, 'max_leaves': 21, 'max_depth': 8, 'feature_fraction': 0.8404781793837581, 'bagging_fraction': 0.4402666575377949, 'learning_rate': 0.02381739761800749, 'min_data_in_leaf': 4, 'drop_rate': 0.29623183139703313, 'verbose': -1, 'seed': 2}\n",
      "2020-08-31 09:12:21.356 | INFO     | yspecies.selection:fit:82 - SEED: 3 | FOLD: 0 | VALIDATION_SPECIES: ['Otolemur_garnettii', 'Equus_caballus']\n"
     ]
    },
    {
     "name": "stdout",
     "output_type": "stream",
     "text": [
      "Training until validation scores don't improve for 10 rounds\n",
      "Early stopping, best iteration is:\n",
      "[143]\tvalid_0's l2: 23.1313\tvalid_0's huber: 2.06056\tvalid_0's l1: 2.68693\n"
     ]
    },
    {
     "name": "stderr",
     "output_type": "stream",
     "text": [
      "2020-08-31 09:12:21.711 | INFO     | yspecies.selection:fit:82 - SEED: 3 | FOLD: 1 | VALIDATION_SPECIES: ['Ailuropoda_melanoleuca', 'Homo_sapiens']\n"
     ]
    },
    {
     "name": "stdout",
     "output_type": "stream",
     "text": [
      "Training until validation scores don't improve for 10 rounds\n",
      "[250]\tvalid_0's l2: 2214.14\tvalid_0's huber: 20.4292\tvalid_0's l1: 23.0243\n",
      "Did not meet early stopping. Best iteration is:\n",
      "[250]\tvalid_0's l2: 2214.14\tvalid_0's huber: 20.4292\tvalid_0's l1: 23.0243\n"
     ]
    },
    {
     "name": "stderr",
     "output_type": "stream",
     "text": [
      "2020-08-31 09:12:22.250 | INFO     | yspecies.selection:fit:82 - SEED: 3 | FOLD: 2 | VALIDATION_SPECIES: ['Suricata_suricatta', 'Phascolarctos_cinereus']\n"
     ]
    },
    {
     "name": "stdout",
     "output_type": "stream",
     "text": [
      "Training until validation scores don't improve for 10 rounds\n",
      "Early stopping, best iteration is:\n",
      "[217]\tvalid_0's l2: 18.2764\tvalid_0's huber: 1.91139\tvalid_0's l1: 2.44529\n"
     ]
    },
    {
     "name": "stderr",
     "output_type": "stream",
     "text": [
      "2020-08-31 09:12:22.843 | INFO     | yspecies.selection:fit:82 - SEED: 3 | FOLD: 3 | VALIDATION_SPECIES: ['Heterocephalus_glaber', 'Monodelphis_domestica']\n"
     ]
    },
    {
     "name": "stdout",
     "output_type": "stream",
     "text": [
      "Training until validation scores don't improve for 10 rounds\n",
      "[250]\tvalid_0's l2: 48.8639\tvalid_0's huber: 4.0016\tvalid_0's l1: 4.82936\n",
      "Did not meet early stopping. Best iteration is:\n",
      "[250]\tvalid_0's l2: 48.8639\tvalid_0's huber: 4.0016\tvalid_0's l1: 4.82936\n",
      "4\n"
     ]
    },
    {
     "name": "stderr",
     "output_type": "stream",
     "text": [
      "2020-08-31 09:12:37.458 | INFO     | yspecies.selection:fit:78 - ===== fitting models with seed 4 =====\n",
      "2020-08-31 09:12:37.459 | INFO     | yspecies.selection:fit:79 - PARAMETERS:\n",
      "{'objective': 'regression', 'metric': {'mse', 'huber', 'mae'}, 'verbosity': -1, 'boosting_type': 'gbdt', 'lambda_l1': 0.039808456772099474, 'lambda_l2': 1.598828389192647, 'max_leaves': 21, 'max_depth': 8, 'feature_fraction': 0.8404781793837581, 'bagging_fraction': 0.4402666575377949, 'learning_rate': 0.02381739761800749, 'min_data_in_leaf': 4, 'drop_rate': 0.29623183139703313, 'verbose': -1, 'seed': 3}\n",
      "2020-08-31 09:12:37.463 | INFO     | yspecies.selection:fit:82 - SEED: 4 | FOLD: 0 | VALIDATION_SPECIES: ['Macaca_mulatta', 'Gorilla_gorilla']\n"
     ]
    },
    {
     "name": "stdout",
     "output_type": "stream",
     "text": [
      "Training until validation scores don't improve for 10 rounds\n",
      "[250]\tvalid_0's l2: 144.233\tvalid_0's huber: 4.91517\tvalid_0's l1: 5.77887\n",
      "Did not meet early stopping. Best iteration is:\n",
      "[250]\tvalid_0's l2: 144.233\tvalid_0's huber: 4.91517\tvalid_0's l1: 5.77887\n"
     ]
    },
    {
     "name": "stderr",
     "output_type": "stream",
     "text": [
      "2020-08-31 09:12:38.040 | INFO     | yspecies.selection:fit:82 - SEED: 4 | FOLD: 1 | VALIDATION_SPECIES: ['Aotus_nancymaae', 'Ailuropoda_melanoleuca']\n"
     ]
    },
    {
     "name": "stdout",
     "output_type": "stream",
     "text": [
      "Training until validation scores don't improve for 10 rounds\n",
      "[250]\tvalid_0's l2: 10.5635\tvalid_0's huber: 1.35328\tvalid_0's l1: 1.8069\n",
      "Did not meet early stopping. Best iteration is:\n",
      "[250]\tvalid_0's l2: 10.5635\tvalid_0's huber: 1.35328\tvalid_0's l1: 1.8069\n"
     ]
    },
    {
     "name": "stderr",
     "output_type": "stream",
     "text": [
      "2020-08-31 09:12:38.489 | INFO     | yspecies.selection:fit:82 - SEED: 4 | FOLD: 2 | VALIDATION_SPECIES: ['Ursus_americanus', 'Meriones_unguiculatus']\n"
     ]
    },
    {
     "name": "stdout",
     "output_type": "stream",
     "text": [
      "Training until validation scores don't improve for 10 rounds\n",
      "Early stopping, best iteration is:\n",
      "[223]\tvalid_0's l2: 9.38102\tvalid_0's huber: 1.32479\tvalid_0's l1: 1.78173\n"
     ]
    },
    {
     "name": "stderr",
     "output_type": "stream",
     "text": [
      "2020-08-31 09:12:38.965 | INFO     | yspecies.selection:fit:82 - SEED: 4 | FOLD: 3 | VALIDATION_SPECIES: ['Mus_spicilegus', 'Equus_caballus']\n"
     ]
    },
    {
     "name": "stdout",
     "output_type": "stream",
     "text": [
      "Training until validation scores don't improve for 10 rounds\n",
      "[250]\tvalid_0's l2: 64.4668\tvalid_0's huber: 2.45\tvalid_0's l1: 2.99431\n",
      "Did not meet early stopping. Best iteration is:\n",
      "[248]\tvalid_0's l2: 64.4604\tvalid_0's huber: 2.45008\tvalid_0's l1: 2.99482\n"
     ]
    },
    {
     "name": "stderr",
     "output_type": "stream",
     "text": [
      "MultiObjectiveTrial is experimental (supported from v1.4.0). The interface can change in the future.\n",
      "MultiObjectiveStudy is experimental (supported from v1.4.0). The interface can change in the future.\n",
      "[I 2020-08-31 09:12:55,380] Trial 11 finished with values: [0.7392002189100484, 5.0200808690470975, 0.43747046727369865] with parameters: {'boosting_type': 'gbdt', 'lambda_l1': 0.039808456772099474, 'lambda_l2': 1.598828389192647, 'max_leaves': 21, 'max_depth': 8, 'feature_fraction': 0.8404781793837581, 'bagging_fraction': 0.4402666575377949, 'learning_rate': 0.02381739761800749, 'min_data_in_leaf': 4, 'drop_rate': 0.29623183139703313}.\n",
      "MultiObjectiveStudy is experimental (supported from v1.4.0). The interface can change in the future.\n",
      "FrozenMultiObjectiveTrial is experimental (supported from v1.4.0). The interface can change in the future.\n",
      "MultiObjectiveStudy is experimental (supported from v1.4.0). The interface can change in the future.\n",
      "FrozenMultiObjectiveTrial is experimental (supported from v1.4.0). The interface can change in the future.\n",
      "FrozenMultiObjectiveTrial is experimental (supported from v1.4.0). The interface can change in the future.\n",
      "MultiObjectiveTrial is experimental (supported from v1.4.0). The interface can change in the future.\n",
      "MultiObjectiveStudy is experimental (supported from v1.4.0). The interface can change in the future.\n",
      "FrozenMultiObjectiveTrial is experimental (supported from v1.4.0). The interface can change in the future.\n"
     ]
    },
    {
     "name": "stdout",
     "output_type": "stream",
     "text": [
      "0\n"
     ]
    },
    {
     "name": "stderr",
     "output_type": "stream",
     "text": [
      "2020-08-31 09:12:55.600 | INFO     | yspecies.selection:fit:78 - ===== fitting models with seed 0 =====\n",
      "2020-08-31 09:12:55.602 | INFO     | yspecies.selection:fit:79 - PARAMETERS:\n",
      "{'objective': 'regression', 'metric': {'mse', 'huber', 'mae'}, 'verbosity': -1, 'boosting_type': 'gbdt', 'lambda_l1': 1.1050466853507435, 'lambda_l2': 2.8565753915823837, 'max_leaves': 17, 'max_depth': 7, 'feature_fraction': 0.7636067241603708, 'bagging_fraction': 0.7838976057384532, 'learning_rate': 0.05225199587800417, 'min_data_in_leaf': 7, 'drop_rate': 0.1359511148290042, 'verbose': -1}\n",
      "2020-08-31 09:12:55.607 | INFO     | yspecies.selection:fit:82 - SEED: 0 | FOLD: 0 | VALIDATION_SPECIES: ['Homo_sapiens', 'Equus_caballus']\n"
     ]
    },
    {
     "name": "stdout",
     "output_type": "stream",
     "text": [
      "Training until validation scores don't improve for 10 rounds\n",
      "[250]\tvalid_0's l2: 2018.32\tvalid_0's huber: 19.2901\tvalid_0's l1: 21.7718\n",
      "Did not meet early stopping. Best iteration is:\n",
      "[250]\tvalid_0's l2: 2018.32\tvalid_0's huber: 19.2901\tvalid_0's l1: 21.7718\n"
     ]
    },
    {
     "name": "stderr",
     "output_type": "stream",
     "text": [
      "2020-08-31 09:12:56.135 | INFO     | yspecies.selection:fit:82 - SEED: 0 | FOLD: 1 | VALIDATION_SPECIES: ['Ursus_americanus', 'Phascolarctos_cinereus']\n"
     ]
    },
    {
     "name": "stdout",
     "output_type": "stream",
     "text": [
      "Training until validation scores don't improve for 10 rounds\n",
      "Early stopping, best iteration is:\n",
      "[99]\tvalid_0's l2: 60.9193\tvalid_0's huber: 3.00374\tvalid_0's l1: 3.68235\n"
     ]
    },
    {
     "name": "stderr",
     "output_type": "stream",
     "text": [
      "2020-08-31 09:12:56.351 | INFO     | yspecies.selection:fit:82 - SEED: 0 | FOLD: 2 | VALIDATION_SPECIES: ['Suricata_suricatta', 'Mus_spicilegus']\n"
     ]
    },
    {
     "name": "stdout",
     "output_type": "stream",
     "text": [
      "Training until validation scores don't improve for 10 rounds\n",
      "[250]\tvalid_0's l2: 14.4528\tvalid_0's huber: 1.67472\tvalid_0's l1: 2.1977\n",
      "Did not meet early stopping. Best iteration is:\n",
      "[250]\tvalid_0's l2: 14.4528\tvalid_0's huber: 1.67472\tvalid_0's l1: 2.1977\n"
     ]
    },
    {
     "name": "stderr",
     "output_type": "stream",
     "text": [
      "2020-08-31 09:12:56.805 | INFO     | yspecies.selection:fit:82 - SEED: 0 | FOLD: 3 | VALIDATION_SPECIES: ['Aotus_nancymaae', 'Macaca_fascicularis']\n"
     ]
    },
    {
     "name": "stdout",
     "output_type": "stream",
     "text": [
      "Training until validation scores don't improve for 10 rounds\n",
      "Early stopping, best iteration is:\n",
      "[104]\tvalid_0's l2: 19.2237\tvalid_0's huber: 1.95729\tvalid_0's l1: 2.5097\n",
      "1\n"
     ]
    },
    {
     "name": "stderr",
     "output_type": "stream",
     "text": [
      "2020-08-31 09:13:10.054 | INFO     | yspecies.selection:fit:78 - ===== fitting models with seed 1 =====\n",
      "2020-08-31 09:13:10.057 | INFO     | yspecies.selection:fit:79 - PARAMETERS:\n",
      "{'objective': 'regression', 'metric': {'mse', 'huber', 'mae'}, 'verbosity': -1, 'boosting_type': 'gbdt', 'lambda_l1': 1.1050466853507435, 'lambda_l2': 2.8565753915823837, 'max_leaves': 17, 'max_depth': 7, 'feature_fraction': 0.7636067241603708, 'bagging_fraction': 0.7838976057384532, 'learning_rate': 0.05225199587800417, 'min_data_in_leaf': 7, 'drop_rate': 0.1359511148290042, 'verbose': -1, 'seed': 0}\n",
      "2020-08-31 09:13:10.060 | INFO     | yspecies.selection:fit:82 - SEED: 1 | FOLD: 0 | VALIDATION_SPECIES: ['Mus_caroli', 'Vombatus_ursinus']\n"
     ]
    },
    {
     "name": "stdout",
     "output_type": "stream",
     "text": [
      "Training until validation scores don't improve for 10 rounds\n",
      "Early stopping, best iteration is:\n",
      "[85]\tvalid_0's l2: 24.4169\tvalid_0's huber: 2.17994\tvalid_0's l1: 2.80231\n"
     ]
    },
    {
     "name": "stderr",
     "output_type": "stream",
     "text": [
      "2020-08-31 09:13:10.224 | INFO     | yspecies.selection:fit:82 - SEED: 1 | FOLD: 1 | VALIDATION_SPECIES: ['Ailuropoda_melanoleuca', 'Ursus_americanus']\n"
     ]
    },
    {
     "name": "stdout",
     "output_type": "stream",
     "text": [
      "Training until validation scores don't improve for 10 rounds\n",
      "Early stopping, best iteration is:\n",
      "[114]\tvalid_0's l2: 57.6862\tvalid_0's huber: 2.8502\tvalid_0's l1: 3.51686\n"
     ]
    },
    {
     "name": "stderr",
     "output_type": "stream",
     "text": [
      "2020-08-31 09:13:10.412 | INFO     | yspecies.selection:fit:82 - SEED: 1 | FOLD: 2 | VALIDATION_SPECIES: ['Rhinolophus_ferrumequinum', 'Macaca_mulatta']\n"
     ]
    },
    {
     "name": "stdout",
     "output_type": "stream",
     "text": [
      "Training until validation scores don't improve for 10 rounds\n",
      "Early stopping, best iteration is:\n",
      "[135]\tvalid_0's l2: 13.7819\tvalid_0's huber: 1.71779\tvalid_0's l1: 2.24728\n"
     ]
    },
    {
     "name": "stderr",
     "output_type": "stream",
     "text": [
      "2020-08-31 09:13:10.654 | INFO     | yspecies.selection:fit:82 - SEED: 1 | FOLD: 3 | VALIDATION_SPECIES: ['Canis_lupus_familiaris', 'Homo_sapiens']\n"
     ]
    },
    {
     "name": "stdout",
     "output_type": "stream",
     "text": [
      "Training until validation scores don't improve for 10 rounds\n",
      "Early stopping, best iteration is:\n",
      "[178]\tvalid_0's l2: 1504.89\tvalid_0's huber: 16.6501\tvalid_0's l1: 18.8472\n",
      "2\n"
     ]
    },
    {
     "name": "stderr",
     "output_type": "stream",
     "text": [
      "2020-08-31 09:13:23.796 | INFO     | yspecies.selection:fit:78 - ===== fitting models with seed 2 =====\n",
      "2020-08-31 09:13:23.798 | INFO     | yspecies.selection:fit:79 - PARAMETERS:\n",
      "{'objective': 'regression', 'metric': {'mse', 'huber', 'mae'}, 'verbosity': -1, 'boosting_type': 'gbdt', 'lambda_l1': 1.1050466853507435, 'lambda_l2': 2.8565753915823837, 'max_leaves': 17, 'max_depth': 7, 'feature_fraction': 0.7636067241603708, 'bagging_fraction': 0.7838976057384532, 'learning_rate': 0.05225199587800417, 'min_data_in_leaf': 7, 'drop_rate': 0.1359511148290042, 'verbose': -1, 'seed': 1}\n",
      "2020-08-31 09:13:23.801 | INFO     | yspecies.selection:fit:82 - SEED: 2 | FOLD: 0 | VALIDATION_SPECIES: ['Canis_lupus_familiaris', 'Ailuropoda_melanoleuca']\n"
     ]
    },
    {
     "name": "stdout",
     "output_type": "stream",
     "text": [
      "Training until validation scores don't improve for 10 rounds\n",
      "Early stopping, best iteration is:\n",
      "[112]\tvalid_0's l2: 48.2159\tvalid_0's huber: 2.14519\tvalid_0's l1: 2.73141\n"
     ]
    },
    {
     "name": "stderr",
     "output_type": "stream",
     "text": [
      "2020-08-31 09:13:23.995 | INFO     | yspecies.selection:fit:82 - SEED: 2 | FOLD: 1 | VALIDATION_SPECIES: ['Bos_taurus', 'Callithrix_jacchus']\n"
     ]
    },
    {
     "name": "stdout",
     "output_type": "stream",
     "text": [
      "Training until validation scores don't improve for 10 rounds\n",
      "[250]\tvalid_0's l2: 49.9548\tvalid_0's huber: 2.90841\tvalid_0's l1: 3.58361\n",
      "Did not meet early stopping. Best iteration is:\n",
      "[250]\tvalid_0's l2: 49.9548\tvalid_0's huber: 2.90841\tvalid_0's l1: 3.58361\n"
     ]
    },
    {
     "name": "stderr",
     "output_type": "stream",
     "text": [
      "2020-08-31 09:13:24.411 | INFO     | yspecies.selection:fit:82 - SEED: 2 | FOLD: 2 | VALIDATION_SPECIES: ['Rhinolophus_ferrumequinum', 'Macaca_nemestrina']\n"
     ]
    },
    {
     "name": "stdout",
     "output_type": "stream",
     "text": [
      "Training until validation scores don't improve for 10 rounds\n",
      "Early stopping, best iteration is:\n",
      "[127]\tvalid_0's l2: 59.6503\tvalid_0's huber: 3.36237\tvalid_0's l1: 4.09832\n"
     ]
    },
    {
     "name": "stderr",
     "output_type": "stream",
     "text": [
      "2020-08-31 09:13:24.646 | INFO     | yspecies.selection:fit:82 - SEED: 2 | FOLD: 3 | VALIDATION_SPECIES: ['Mesocricetus_auratus', 'Cavia_aperea']\n"
     ]
    },
    {
     "name": "stdout",
     "output_type": "stream",
     "text": [
      "Training until validation scores don't improve for 10 rounds\n",
      "Early stopping, best iteration is:\n",
      "[152]\tvalid_0's l2: 59.8354\tvalid_0's huber: 3.22657\tvalid_0's l1: 3.94848\n",
      "3\n"
     ]
    },
    {
     "name": "stderr",
     "output_type": "stream",
     "text": [
      "2020-08-31 09:13:37.996 | INFO     | yspecies.selection:fit:78 - ===== fitting models with seed 3 =====\n",
      "2020-08-31 09:13:37.997 | INFO     | yspecies.selection:fit:79 - PARAMETERS:\n",
      "{'objective': 'regression', 'metric': {'mse', 'huber', 'mae'}, 'verbosity': -1, 'boosting_type': 'gbdt', 'lambda_l1': 1.1050466853507435, 'lambda_l2': 2.8565753915823837, 'max_leaves': 17, 'max_depth': 7, 'feature_fraction': 0.7636067241603708, 'bagging_fraction': 0.7838976057384532, 'learning_rate': 0.05225199587800417, 'min_data_in_leaf': 7, 'drop_rate': 0.1359511148290042, 'verbose': -1, 'seed': 2}\n",
      "2020-08-31 09:13:38.000 | INFO     | yspecies.selection:fit:82 - SEED: 3 | FOLD: 0 | VALIDATION_SPECIES: ['Otolemur_garnettii', 'Equus_caballus']\n"
     ]
    },
    {
     "name": "stdout",
     "output_type": "stream",
     "text": [
      "Training until validation scores don't improve for 10 rounds\n",
      "Early stopping, best iteration is:\n",
      "[76]\tvalid_0's l2: 21.7438\tvalid_0's huber: 2.07478\tvalid_0's l1: 2.68226\n"
     ]
    },
    {
     "name": "stderr",
     "output_type": "stream",
     "text": [
      "2020-08-31 09:13:38.148 | INFO     | yspecies.selection:fit:82 - SEED: 3 | FOLD: 1 | VALIDATION_SPECIES: ['Ailuropoda_melanoleuca', 'Homo_sapiens']\n"
     ]
    },
    {
     "name": "stdout",
     "output_type": "stream",
     "text": [
      "Training until validation scores don't improve for 10 rounds\n",
      "Early stopping, best iteration is:\n",
      "[175]\tvalid_0's l2: 2071.42\tvalid_0's huber: 19.7748\tvalid_0's l1: 22.317\n"
     ]
    },
    {
     "name": "stderr",
     "output_type": "stream",
     "text": [
      "2020-08-31 09:13:38.415 | INFO     | yspecies.selection:fit:82 - SEED: 3 | FOLD: 2 | VALIDATION_SPECIES: ['Suricata_suricatta', 'Phascolarctos_cinereus']\n"
     ]
    },
    {
     "name": "stdout",
     "output_type": "stream",
     "text": [
      "Training until validation scores don't improve for 10 rounds\n",
      "Early stopping, best iteration is:\n",
      "[79]\tvalid_0's l2: 21.153\tvalid_0's huber: 2.09987\tvalid_0's l1: 2.70758\n"
     ]
    },
    {
     "name": "stderr",
     "output_type": "stream",
     "text": [
      "2020-08-31 09:13:38.547 | INFO     | yspecies.selection:fit:82 - SEED: 3 | FOLD: 3 | VALIDATION_SPECIES: ['Heterocephalus_glaber', 'Monodelphis_domestica']\n"
     ]
    },
    {
     "name": "stdout",
     "output_type": "stream",
     "text": [
      "Training until validation scores don't improve for 10 rounds\n",
      "[250]\tvalid_0's l2: 36.6845\tvalid_0's huber: 3.32831\tvalid_0's l1: 4.075\n",
      "Did not meet early stopping. Best iteration is:\n",
      "[250]\tvalid_0's l2: 36.6845\tvalid_0's huber: 3.32831\tvalid_0's l1: 4.075\n",
      "4\n"
     ]
    },
    {
     "name": "stderr",
     "output_type": "stream",
     "text": [
      "2020-08-31 09:13:51.209 | INFO     | yspecies.selection:fit:78 - ===== fitting models with seed 4 =====\n",
      "2020-08-31 09:13:51.211 | INFO     | yspecies.selection:fit:79 - PARAMETERS:\n",
      "{'objective': 'regression', 'metric': {'mse', 'huber', 'mae'}, 'verbosity': -1, 'boosting_type': 'gbdt', 'lambda_l1': 1.1050466853507435, 'lambda_l2': 2.8565753915823837, 'max_leaves': 17, 'max_depth': 7, 'feature_fraction': 0.7636067241603708, 'bagging_fraction': 0.7838976057384532, 'learning_rate': 0.05225199587800417, 'min_data_in_leaf': 7, 'drop_rate': 0.1359511148290042, 'verbose': -1, 'seed': 3}\n",
      "2020-08-31 09:13:51.214 | INFO     | yspecies.selection:fit:82 - SEED: 4 | FOLD: 0 | VALIDATION_SPECIES: ['Macaca_mulatta', 'Gorilla_gorilla']\n"
     ]
    },
    {
     "name": "stdout",
     "output_type": "stream",
     "text": [
      "Training until validation scores don't improve for 10 rounds\n",
      "Early stopping, best iteration is:\n",
      "[158]\tvalid_0's l2: 157.441\tvalid_0's huber: 5.27247\tvalid_0's l1: 6.18399\n"
     ]
    },
    {
     "name": "stderr",
     "output_type": "stream",
     "text": [
      "2020-08-31 09:13:51.526 | INFO     | yspecies.selection:fit:82 - SEED: 4 | FOLD: 1 | VALIDATION_SPECIES: ['Aotus_nancymaae', 'Ailuropoda_melanoleuca']\n"
     ]
    },
    {
     "name": "stdout",
     "output_type": "stream",
     "text": [
      "Training until validation scores don't improve for 10 rounds\n",
      "Early stopping, best iteration is:\n",
      "[235]\tvalid_0's l2: 6.2209\tvalid_0's huber: 1.05145\tvalid_0's l1: 1.47883\n"
     ]
    },
    {
     "name": "stderr",
     "output_type": "stream",
     "text": [
      "2020-08-31 09:13:51.946 | INFO     | yspecies.selection:fit:82 - SEED: 4 | FOLD: 2 | VALIDATION_SPECIES: ['Ursus_americanus', 'Meriones_unguiculatus']\n"
     ]
    },
    {
     "name": "stdout",
     "output_type": "stream",
     "text": [
      "Training until validation scores don't improve for 10 rounds\n",
      "Early stopping, best iteration is:\n",
      "[116]\tvalid_0's l2: 11.3325\tvalid_0's huber: 1.49148\tvalid_0's l1: 1.97173\n"
     ]
    },
    {
     "name": "stderr",
     "output_type": "stream",
     "text": [
      "2020-08-31 09:13:52.416 | INFO     | yspecies.selection:fit:82 - SEED: 4 | FOLD: 3 | VALIDATION_SPECIES: ['Mus_spicilegus', 'Equus_caballus']\n"
     ]
    },
    {
     "name": "stdout",
     "output_type": "stream",
     "text": [
      "Training until validation scores don't improve for 10 rounds\n",
      "Early stopping, best iteration is:\n",
      "[160]\tvalid_0's l2: 63.301\tvalid_0's huber: 2.52459\tvalid_0's l1: 3.1272\n"
     ]
    },
    {
     "name": "stderr",
     "output_type": "stream",
     "text": [
      "MultiObjectiveTrial is experimental (supported from v1.4.0). The interface can change in the future.\n",
      "MultiObjectiveStudy is experimental (supported from v1.4.0). The interface can change in the future.\n",
      "[I 2020-08-31 09:14:06,384] Trial 12 finished with values: [0.753039776022326, 4.927090485216632, 0.47075594817865546] with parameters: {'boosting_type': 'gbdt', 'lambda_l1': 1.1050466853507435, 'lambda_l2': 2.8565753915823837, 'max_leaves': 17, 'max_depth': 7, 'feature_fraction': 0.7636067241603708, 'bagging_fraction': 0.7838976057384532, 'learning_rate': 0.05225199587800417, 'min_data_in_leaf': 7, 'drop_rate': 0.1359511148290042}.\n",
      "MultiObjectiveStudy is experimental (supported from v1.4.0). The interface can change in the future.\n",
      "FrozenMultiObjectiveTrial is experimental (supported from v1.4.0). The interface can change in the future.\n",
      "MultiObjectiveStudy is experimental (supported from v1.4.0). The interface can change in the future.\n",
      "FrozenMultiObjectiveTrial is experimental (supported from v1.4.0). The interface can change in the future.\n",
      "FrozenMultiObjectiveTrial is experimental (supported from v1.4.0). The interface can change in the future.\n",
      "MultiObjectiveTrial is experimental (supported from v1.4.0). The interface can change in the future.\n",
      "MultiObjectiveStudy is experimental (supported from v1.4.0). The interface can change in the future.\n",
      "FrozenMultiObjectiveTrial is experimental (supported from v1.4.0). The interface can change in the future.\n"
     ]
    },
    {
     "name": "stdout",
     "output_type": "stream",
     "text": [
      "0\n"
     ]
    },
    {
     "name": "stderr",
     "output_type": "stream",
     "text": [
      "2020-08-31 09:14:06.538 | INFO     | yspecies.selection:fit:78 - ===== fitting models with seed 0 =====\n",
      "2020-08-31 09:14:06.540 | INFO     | yspecies.selection:fit:79 - PARAMETERS:\n",
      "{'objective': 'regression', 'metric': {'mse', 'huber', 'mae'}, 'verbosity': -1, 'boosting_type': 'gbdt', 'lambda_l1': 1.2057616252687327, 'lambda_l2': 0.5221331594598331, 'max_leaves': 22, 'max_depth': 3, 'feature_fraction': 0.9379355988377287, 'bagging_fraction': 0.7750241741931038, 'learning_rate': 0.019376402657537456, 'min_data_in_leaf': 6, 'drop_rate': 0.21096964630841325, 'verbose': -1}\n",
      "2020-08-31 09:14:06.545 | INFO     | yspecies.selection:fit:82 - SEED: 0 | FOLD: 0 | VALIDATION_SPECIES: ['Homo_sapiens', 'Equus_caballus']\n"
     ]
    },
    {
     "name": "stdout",
     "output_type": "stream",
     "text": [
      "Training until validation scores don't improve for 10 rounds\n",
      "[250]\tvalid_0's l2: 2026.5\tvalid_0's huber: 19.5514\tvalid_0's l1: 22.0905\n",
      "Did not meet early stopping. Best iteration is:\n",
      "[249]\tvalid_0's l2: 2026.45\tvalid_0's huber: 19.5516\tvalid_0's l1: 22.0908\n"
     ]
    },
    {
     "name": "stderr",
     "output_type": "stream",
     "text": [
      "2020-08-31 09:14:06.754 | INFO     | yspecies.selection:fit:82 - SEED: 0 | FOLD: 1 | VALIDATION_SPECIES: ['Ursus_americanus', 'Phascolarctos_cinereus']\n"
     ]
    },
    {
     "name": "stdout",
     "output_type": "stream",
     "text": [
      "Training until validation scores don't improve for 10 rounds\n",
      "[250]\tvalid_0's l2: 59.3232\tvalid_0's huber: 3.19527\tvalid_0's l1: 3.91717\n",
      "Did not meet early stopping. Best iteration is:\n",
      "[247]\tvalid_0's l2: 59.2958\tvalid_0's huber: 3.19764\tvalid_0's l1: 3.92457\n"
     ]
    },
    {
     "name": "stderr",
     "output_type": "stream",
     "text": [
      "2020-08-31 09:14:06.940 | INFO     | yspecies.selection:fit:82 - SEED: 0 | FOLD: 2 | VALIDATION_SPECIES: ['Suricata_suricatta', 'Mus_spicilegus']\n"
     ]
    },
    {
     "name": "stdout",
     "output_type": "stream",
     "text": [
      "Training until validation scores don't improve for 10 rounds\n",
      "[250]\tvalid_0's l2: 18.2016\tvalid_0's huber: 2.0816\tvalid_0's l1: 2.70148\n",
      "Did not meet early stopping. Best iteration is:\n",
      "[250]\tvalid_0's l2: 18.2016\tvalid_0's huber: 2.0816\tvalid_0's l1: 2.70148\n"
     ]
    },
    {
     "name": "stderr",
     "output_type": "stream",
     "text": [
      "2020-08-31 09:14:07.134 | INFO     | yspecies.selection:fit:82 - SEED: 0 | FOLD: 3 | VALIDATION_SPECIES: ['Aotus_nancymaae', 'Macaca_fascicularis']\n"
     ]
    },
    {
     "name": "stdout",
     "output_type": "stream",
     "text": [
      "Training until validation scores don't improve for 10 rounds\n",
      "[250]\tvalid_0's l2: 32.0833\tvalid_0's huber: 2.6856\tvalid_0's l1: 3.34195\n",
      "Did not meet early stopping. Best iteration is:\n",
      "[250]\tvalid_0's l2: 32.0833\tvalid_0's huber: 2.6856\tvalid_0's l1: 3.34195\n",
      "1\n"
     ]
    },
    {
     "name": "stderr",
     "output_type": "stream",
     "text": [
      "2020-08-31 09:14:16.900 | INFO     | yspecies.selection:fit:78 - ===== fitting models with seed 1 =====\n",
      "2020-08-31 09:14:16.902 | INFO     | yspecies.selection:fit:79 - PARAMETERS:\n",
      "{'objective': 'regression', 'metric': {'mse', 'huber', 'mae'}, 'verbosity': -1, 'boosting_type': 'gbdt', 'lambda_l1': 1.2057616252687327, 'lambda_l2': 0.5221331594598331, 'max_leaves': 22, 'max_depth': 3, 'feature_fraction': 0.9379355988377287, 'bagging_fraction': 0.7750241741931038, 'learning_rate': 0.019376402657537456, 'min_data_in_leaf': 6, 'drop_rate': 0.21096964630841325, 'verbose': -1, 'seed': 0}\n",
      "2020-08-31 09:14:16.905 | INFO     | yspecies.selection:fit:82 - SEED: 1 | FOLD: 0 | VALIDATION_SPECIES: ['Mus_caroli', 'Vombatus_ursinus']\n"
     ]
    },
    {
     "name": "stdout",
     "output_type": "stream",
     "text": [
      "Training until validation scores don't improve for 10 rounds\n",
      "[250]\tvalid_0's l2: 16.1512\tvalid_0's huber: 1.99487\tvalid_0's l1: 2.61122\n",
      "Did not meet early stopping. Best iteration is:\n",
      "[250]\tvalid_0's l2: 16.1512\tvalid_0's huber: 1.99487\tvalid_0's l1: 2.61122\n"
     ]
    },
    {
     "name": "stderr",
     "output_type": "stream",
     "text": [
      "2020-08-31 09:14:17.096 | INFO     | yspecies.selection:fit:82 - SEED: 1 | FOLD: 1 | VALIDATION_SPECIES: ['Ailuropoda_melanoleuca', 'Ursus_americanus']\n"
     ]
    },
    {
     "name": "stdout",
     "output_type": "stream",
     "text": [
      "Training until validation scores don't improve for 10 rounds\n",
      "[250]\tvalid_0's l2: 48.6096\tvalid_0's huber: 2.85784\tvalid_0's l1: 3.55737\n",
      "Did not meet early stopping. Best iteration is:\n",
      "[248]\tvalid_0's l2: 48.597\tvalid_0's huber: 2.86181\tvalid_0's l1: 3.56214\n"
     ]
    },
    {
     "name": "stderr",
     "output_type": "stream",
     "text": [
      "2020-08-31 09:14:17.273 | INFO     | yspecies.selection:fit:82 - SEED: 1 | FOLD: 2 | VALIDATION_SPECIES: ['Rhinolophus_ferrumequinum', 'Macaca_mulatta']\n"
     ]
    },
    {
     "name": "stdout",
     "output_type": "stream",
     "text": [
      "Training until validation scores don't improve for 10 rounds\n",
      "[250]\tvalid_0's l2: 22.8373\tvalid_0's huber: 2.23626\tvalid_0's l1: 2.8433\n",
      "Did not meet early stopping. Best iteration is:\n",
      "[250]\tvalid_0's l2: 22.8373\tvalid_0's huber: 2.23626\tvalid_0's l1: 2.8433\n"
     ]
    },
    {
     "name": "stderr",
     "output_type": "stream",
     "text": [
      "2020-08-31 09:14:17.461 | INFO     | yspecies.selection:fit:82 - SEED: 1 | FOLD: 3 | VALIDATION_SPECIES: ['Canis_lupus_familiaris', 'Homo_sapiens']\n"
     ]
    },
    {
     "name": "stdout",
     "output_type": "stream",
     "text": [
      "Training until validation scores don't improve for 10 rounds\n",
      "[250]\tvalid_0's l2: 1575.97\tvalid_0's huber: 16.971\tvalid_0's l1: 19.2258\n",
      "Did not meet early stopping. Best iteration is:\n",
      "[250]\tvalid_0's l2: 1575.97\tvalid_0's huber: 16.971\tvalid_0's l1: 19.2258\n",
      "2\n"
     ]
    },
    {
     "name": "stderr",
     "output_type": "stream",
     "text": [
      "2020-08-31 09:14:25.768 | INFO     | yspecies.selection:fit:78 - ===== fitting models with seed 2 =====\n",
      "2020-08-31 09:14:25.769 | INFO     | yspecies.selection:fit:79 - PARAMETERS:\n",
      "{'objective': 'regression', 'metric': {'mse', 'huber', 'mae'}, 'verbosity': -1, 'boosting_type': 'gbdt', 'lambda_l1': 1.2057616252687327, 'lambda_l2': 0.5221331594598331, 'max_leaves': 22, 'max_depth': 3, 'feature_fraction': 0.9379355988377287, 'bagging_fraction': 0.7750241741931038, 'learning_rate': 0.019376402657537456, 'min_data_in_leaf': 6, 'drop_rate': 0.21096964630841325, 'verbose': -1, 'seed': 1}\n",
      "2020-08-31 09:14:25.773 | INFO     | yspecies.selection:fit:82 - SEED: 2 | FOLD: 0 | VALIDATION_SPECIES: ['Canis_lupus_familiaris', 'Ailuropoda_melanoleuca']\n"
     ]
    },
    {
     "name": "stdout",
     "output_type": "stream",
     "text": [
      "Training until validation scores don't improve for 10 rounds\n",
      "[250]\tvalid_0's l2: 45.1633\tvalid_0's huber: 2.55006\tvalid_0's l1: 3.21942\n",
      "Did not meet early stopping. Best iteration is:\n",
      "[250]\tvalid_0's l2: 45.1633\tvalid_0's huber: 2.55006\tvalid_0's l1: 3.21942\n"
     ]
    },
    {
     "name": "stderr",
     "output_type": "stream",
     "text": [
      "2020-08-31 09:14:26.129 | INFO     | yspecies.selection:fit:82 - SEED: 2 | FOLD: 1 | VALIDATION_SPECIES: ['Bos_taurus', 'Callithrix_jacchus']\n"
     ]
    },
    {
     "name": "stdout",
     "output_type": "stream",
     "text": [
      "Training until validation scores don't improve for 10 rounds\n",
      "[250]\tvalid_0's l2: 52.3553\tvalid_0's huber: 3.28156\tvalid_0's l1: 4.02218\n",
      "Did not meet early stopping. Best iteration is:\n",
      "[250]\tvalid_0's l2: 52.3553\tvalid_0's huber: 3.28156\tvalid_0's l1: 4.02218\n"
     ]
    },
    {
     "name": "stderr",
     "output_type": "stream",
     "text": [
      "2020-08-31 09:14:26.314 | INFO     | yspecies.selection:fit:82 - SEED: 2 | FOLD: 2 | VALIDATION_SPECIES: ['Rhinolophus_ferrumequinum', 'Macaca_nemestrina']\n"
     ]
    },
    {
     "name": "stdout",
     "output_type": "stream",
     "text": [
      "Training until validation scores don't improve for 10 rounds\n",
      "[250]\tvalid_0's l2: 60.1401\tvalid_0's huber: 3.47268\tvalid_0's l1: 4.25396\n",
      "Did not meet early stopping. Best iteration is:\n",
      "[250]\tvalid_0's l2: 60.1401\tvalid_0's huber: 3.47268\tvalid_0's l1: 4.25396\n"
     ]
    },
    {
     "name": "stderr",
     "output_type": "stream",
     "text": [
      "2020-08-31 09:14:26.468 | INFO     | yspecies.selection:fit:82 - SEED: 2 | FOLD: 3 | VALIDATION_SPECIES: ['Mesocricetus_auratus', 'Cavia_aperea']\n"
     ]
    },
    {
     "name": "stdout",
     "output_type": "stream",
     "text": [
      "Training until validation scores don't improve for 10 rounds\n",
      "[250]\tvalid_0's l2: 79.0212\tvalid_0's huber: 4.09862\tvalid_0's l1: 4.94932\n",
      "Did not meet early stopping. Best iteration is:\n",
      "[250]\tvalid_0's l2: 79.0212\tvalid_0's huber: 4.09862\tvalid_0's l1: 4.94932\n",
      "3\n"
     ]
    },
    {
     "name": "stderr",
     "output_type": "stream",
     "text": [
      "2020-08-31 09:14:34.748 | INFO     | yspecies.selection:fit:78 - ===== fitting models with seed 3 =====\n",
      "2020-08-31 09:14:34.749 | INFO     | yspecies.selection:fit:79 - PARAMETERS:\n",
      "{'objective': 'regression', 'metric': {'mse', 'huber', 'mae'}, 'verbosity': -1, 'boosting_type': 'gbdt', 'lambda_l1': 1.2057616252687327, 'lambda_l2': 0.5221331594598331, 'max_leaves': 22, 'max_depth': 3, 'feature_fraction': 0.9379355988377287, 'bagging_fraction': 0.7750241741931038, 'learning_rate': 0.019376402657537456, 'min_data_in_leaf': 6, 'drop_rate': 0.21096964630841325, 'verbose': -1, 'seed': 2}\n",
      "2020-08-31 09:14:34.753 | INFO     | yspecies.selection:fit:82 - SEED: 3 | FOLD: 0 | VALIDATION_SPECIES: ['Otolemur_garnettii', 'Equus_caballus']\n"
     ]
    },
    {
     "name": "stdout",
     "output_type": "stream",
     "text": [
      "Training until validation scores don't improve for 10 rounds\n",
      "Early stopping, best iteration is:\n",
      "[231]\tvalid_0's l2: 21.052\tvalid_0's huber: 2.3048\tvalid_0's l1: 2.95617\n"
     ]
    },
    {
     "name": "stderr",
     "output_type": "stream",
     "text": [
      "2020-08-31 09:14:34.923 | INFO     | yspecies.selection:fit:82 - SEED: 3 | FOLD: 1 | VALIDATION_SPECIES: ['Ailuropoda_melanoleuca', 'Homo_sapiens']\n"
     ]
    },
    {
     "name": "stdout",
     "output_type": "stream",
     "text": [
      "Training until validation scores don't improve for 10 rounds\n",
      "[250]\tvalid_0's l2: 1995.4\tvalid_0's huber: 19.7086\tvalid_0's l1: 22.2925\n",
      "Did not meet early stopping. Best iteration is:\n",
      "[250]\tvalid_0's l2: 1995.4\tvalid_0's huber: 19.7086\tvalid_0's l1: 22.2925\n"
     ]
    },
    {
     "name": "stderr",
     "output_type": "stream",
     "text": [
      "2020-08-31 09:14:35.093 | INFO     | yspecies.selection:fit:82 - SEED: 3 | FOLD: 2 | VALIDATION_SPECIES: ['Suricata_suricatta', 'Phascolarctos_cinereus']\n"
     ]
    },
    {
     "name": "stdout",
     "output_type": "stream",
     "text": [
      "Training until validation scores don't improve for 10 rounds\n",
      "[250]\tvalid_0's l2: 19.6916\tvalid_0's huber: 2.18555\tvalid_0's l1: 2.80245\n",
      "Did not meet early stopping. Best iteration is:\n",
      "[250]\tvalid_0's l2: 19.6916\tvalid_0's huber: 2.18555\tvalid_0's l1: 2.80245\n"
     ]
    },
    {
     "name": "stderr",
     "output_type": "stream",
     "text": [
      "2020-08-31 09:14:35.277 | INFO     | yspecies.selection:fit:82 - SEED: 3 | FOLD: 3 | VALIDATION_SPECIES: ['Heterocephalus_glaber', 'Monodelphis_domestica']\n"
     ]
    },
    {
     "name": "stdout",
     "output_type": "stream",
     "text": [
      "Training until validation scores don't improve for 10 rounds\n",
      "Early stopping, best iteration is:\n",
      "[152]\tvalid_0's l2: 64.2745\tvalid_0's huber: 5.16469\tvalid_0's l1: 6.16748\n",
      "4\n"
     ]
    },
    {
     "name": "stderr",
     "output_type": "stream",
     "text": [
      "2020-08-31 09:14:41.820 | INFO     | yspecies.selection:fit:78 - ===== fitting models with seed 4 =====\n",
      "2020-08-31 09:14:41.821 | INFO     | yspecies.selection:fit:79 - PARAMETERS:\n",
      "{'objective': 'regression', 'metric': {'mse', 'huber', 'mae'}, 'verbosity': -1, 'boosting_type': 'gbdt', 'lambda_l1': 1.2057616252687327, 'lambda_l2': 0.5221331594598331, 'max_leaves': 22, 'max_depth': 3, 'feature_fraction': 0.9379355988377287, 'bagging_fraction': 0.7750241741931038, 'learning_rate': 0.019376402657537456, 'min_data_in_leaf': 6, 'drop_rate': 0.21096964630841325, 'verbose': -1, 'seed': 3}\n",
      "2020-08-31 09:14:41.825 | INFO     | yspecies.selection:fit:82 - SEED: 4 | FOLD: 0 | VALIDATION_SPECIES: ['Macaca_mulatta', 'Gorilla_gorilla']\n"
     ]
    },
    {
     "name": "stdout",
     "output_type": "stream",
     "text": [
      "Training until validation scores don't improve for 10 rounds\n",
      "[250]\tvalid_0's l2: 157.956\tvalid_0's huber: 5.45557\tvalid_0's l1: 6.44593\n",
      "Did not meet early stopping. Best iteration is:\n",
      "[250]\tvalid_0's l2: 157.956\tvalid_0's huber: 5.45557\tvalid_0's l1: 6.44593\n"
     ]
    },
    {
     "name": "stderr",
     "output_type": "stream",
     "text": [
      "2020-08-31 09:14:42.055 | INFO     | yspecies.selection:fit:82 - SEED: 4 | FOLD: 1 | VALIDATION_SPECIES: ['Aotus_nancymaae', 'Ailuropoda_melanoleuca']\n"
     ]
    },
    {
     "name": "stdout",
     "output_type": "stream",
     "text": [
      "Training until validation scores don't improve for 10 rounds\n",
      "[250]\tvalid_0's l2: 10.3005\tvalid_0's huber: 1.49528\tvalid_0's l1: 2.03801\n",
      "Did not meet early stopping. Best iteration is:\n",
      "[250]\tvalid_0's l2: 10.3005\tvalid_0's huber: 1.49528\tvalid_0's l1: 2.03801\n"
     ]
    },
    {
     "name": "stderr",
     "output_type": "stream",
     "text": [
      "2020-08-31 09:14:42.280 | INFO     | yspecies.selection:fit:82 - SEED: 4 | FOLD: 2 | VALIDATION_SPECIES: ['Ursus_americanus', 'Meriones_unguiculatus']\n"
     ]
    },
    {
     "name": "stdout",
     "output_type": "stream",
     "text": [
      "Training until validation scores don't improve for 10 rounds\n",
      "[250]\tvalid_0's l2: 14.5257\tvalid_0's huber: 1.83816\tvalid_0's l1: 2.40889\n",
      "Did not meet early stopping. Best iteration is:\n",
      "[250]\tvalid_0's l2: 14.5257\tvalid_0's huber: 1.83816\tvalid_0's l1: 2.40889\n"
     ]
    },
    {
     "name": "stderr",
     "output_type": "stream",
     "text": [
      "2020-08-31 09:14:42.576 | INFO     | yspecies.selection:fit:82 - SEED: 4 | FOLD: 3 | VALIDATION_SPECIES: ['Mus_spicilegus', 'Equus_caballus']\n"
     ]
    },
    {
     "name": "stdout",
     "output_type": "stream",
     "text": [
      "Training until validation scores don't improve for 10 rounds\n",
      "[250]\tvalid_0's l2: 54.5463\tvalid_0's huber: 2.40254\tvalid_0's l1: 3.03592\n",
      "Did not meet early stopping. Best iteration is:\n",
      "[250]\tvalid_0's l2: 54.5463\tvalid_0's huber: 2.40254\tvalid_0's l1: 3.03592\n"
     ]
    },
    {
     "name": "stderr",
     "output_type": "stream",
     "text": [
      "MultiObjectiveTrial is experimental (supported from v1.4.0). The interface can change in the future.\n",
      "MultiObjectiveStudy is experimental (supported from v1.4.0). The interface can change in the future.\n",
      "[I 2020-08-31 09:14:52,623] Trial 13 finished with values: [0.744926246065068, 5.274892272035283, 0.5242486926045808] with parameters: {'boosting_type': 'gbdt', 'lambda_l1': 1.2057616252687327, 'lambda_l2': 0.5221331594598331, 'max_leaves': 22, 'max_depth': 3, 'feature_fraction': 0.9379355988377287, 'bagging_fraction': 0.7750241741931038, 'learning_rate': 0.019376402657537456, 'min_data_in_leaf': 6, 'drop_rate': 0.21096964630841325}.\n",
      "MultiObjectiveStudy is experimental (supported from v1.4.0). The interface can change in the future.\n",
      "FrozenMultiObjectiveTrial is experimental (supported from v1.4.0). The interface can change in the future.\n",
      "MultiObjectiveStudy is experimental (supported from v1.4.0). The interface can change in the future.\n",
      "FrozenMultiObjectiveTrial is experimental (supported from v1.4.0). The interface can change in the future.\n",
      "FrozenMultiObjectiveTrial is experimental (supported from v1.4.0). The interface can change in the future.\n",
      "MultiObjectiveTrial is experimental (supported from v1.4.0). The interface can change in the future.\n",
      "MultiObjectiveStudy is experimental (supported from v1.4.0). The interface can change in the future.\n",
      "FrozenMultiObjectiveTrial is experimental (supported from v1.4.0). The interface can change in the future.\n"
     ]
    },
    {
     "name": "stdout",
     "output_type": "stream",
     "text": [
      "0\n"
     ]
    },
    {
     "name": "stderr",
     "output_type": "stream",
     "text": [
      "2020-08-31 09:14:52.861 | INFO     | yspecies.selection:fit:78 - ===== fitting models with seed 0 =====\n",
      "2020-08-31 09:14:52.862 | INFO     | yspecies.selection:fit:79 - PARAMETERS:\n",
      "{'objective': 'regression', 'metric': {'mse', 'huber', 'mae'}, 'verbosity': -1, 'boosting_type': 'dart', 'lambda_l1': 2.387154052465546, 'lambda_l2': 1.8963031172859803, 'max_leaves': 19, 'max_depth': 6, 'feature_fraction': 0.6423232914777294, 'bagging_fraction': 0.6800943228992186, 'learning_rate': 0.09606881720729514, 'min_data_in_leaf': 6, 'drop_rate': 0.11363203058798269, 'verbose': -1}\n",
      "2020-08-31 09:14:52.867 | INFO     | yspecies.selection:fit:82 - SEED: 0 | FOLD: 0 | VALIDATION_SPECIES: ['Homo_sapiens', 'Equus_caballus']\n",
      "Early stopping is not available in dart mode\n"
     ]
    },
    {
     "name": "stdout",
     "output_type": "stream",
     "text": [
      "[250]\tvalid_0's l2: 2026.76\tvalid_0's huber: 19.3974\tvalid_0's l1: 21.9079\n"
     ]
    },
    {
     "name": "stderr",
     "output_type": "stream",
     "text": [
      "2020-08-31 09:14:53.425 | INFO     | yspecies.selection:fit:82 - SEED: 0 | FOLD: 1 | VALIDATION_SPECIES: ['Ursus_americanus', 'Phascolarctos_cinereus']\n"
     ]
    },
    {
     "name": "stdout",
     "output_type": "stream",
     "text": [
      "[250]\tvalid_0's l2: 49.6062\tvalid_0's huber: 3.01885\tvalid_0's l1: 3.70268\n"
     ]
    },
    {
     "name": "stderr",
     "output_type": "stream",
     "text": [
      "2020-08-31 09:14:53.981 | INFO     | yspecies.selection:fit:82 - SEED: 0 | FOLD: 2 | VALIDATION_SPECIES: ['Suricata_suricatta', 'Mus_spicilegus']\n"
     ]
    },
    {
     "name": "stdout",
     "output_type": "stream",
     "text": [
      "[250]\tvalid_0's l2: 16.5331\tvalid_0's huber: 1.69675\tvalid_0's l1: 2.20606\n"
     ]
    },
    {
     "name": "stderr",
     "output_type": "stream",
     "text": [
      "2020-08-31 09:14:54.515 | INFO     | yspecies.selection:fit:82 - SEED: 0 | FOLD: 3 | VALIDATION_SPECIES: ['Aotus_nancymaae', 'Macaca_fascicularis']\n"
     ]
    },
    {
     "name": "stdout",
     "output_type": "stream",
     "text": [
      "[250]\tvalid_0's l2: 26.6492\tvalid_0's huber: 2.04647\tvalid_0's l1: 2.59497\n"
     ]
    }
   ],
   "source": [
    "results = p.fit_transform((data, selection))\n",
    "results"
   ]
  },
  {
   "cell_type": "code",
   "execution_count": null,
   "metadata": {},
   "outputs": [],
   "source": [
    "results.best_trial_r2().values"
   ]
  },
  {
   "cell_type": "code",
   "execution_count": null,
   "metadata": {},
   "outputs": [],
   "source": [
    "for i, t in enumerate(best):\n",
    "    trait_path = locations.metrics.optimization / trait\n",
    "    if not trait_path.exists():\n",
    "        trait_path.mkdir()\n",
    "    path = trait_path / f\"{str(i)}.json\"    \n",
    "    print(f\"writing parameters to {path}\")\n",
    "    with open(path, 'w') as f:\n",
    "        params = t.params\n",
    "        values = t.values\n",
    "        to_write = {\"number\": t.number,\"params\": params, \"metrics\": {\"R2\":values[0], \"huber\": values[1], \"kendall_tau\": values[2]}}\n",
    "        json.dump(to_write, f, sort_keys=True, indent=4)"
   ]
  },
  {
   "cell_type": "code",
   "execution_count": null,
   "metadata": {},
   "outputs": [],
   "source": []
  }
 ],
 "metadata": {
  "kernelspec": {
   "display_name": "Python 3",
   "language": "python",
   "name": "python3"
  },
  "language_info": {
   "codemirror_mode": {
    "name": "ipython",
    "version": 3
   },
   "file_extension": ".py",
   "mimetype": "text/x-python",
   "name": "python",
   "nbconvert_exporter": "python",
   "pygments_lexer": "ipython3",
   "version": "3.8.5"
  }
 },
 "nbformat": 4,
 "nbformat_minor": 4
}
