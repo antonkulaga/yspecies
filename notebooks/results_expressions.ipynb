{
 "cells": [
  {
   "cell_type": "code",
   "execution_count": 1,
   "metadata": {},
   "outputs": [],
   "source": [
    "from typing import *\n",
    "from yspecies import *\n",
    "from yspecies.enums import *\n",
    "from yspecies.dataset import *\n",
    "from yspecies.misc import *"
   ]
  },
  {
   "cell_type": "code",
   "execution_count": 2,
   "metadata": {},
   "outputs": [],
   "source": [
    "from dataclasses import dataclass\n",
    "import numpy as np\n",
    "import pandas as pd\n",
    "import seaborn as sns\n",
    "import matplotlib.pyplot as plt"
   ]
  },
  {
   "cell_type": "code",
   "execution_count": 3,
   "metadata": {},
   "outputs": [],
   "source": [
    "#settings\n",
    "pd.set_option('display.max_columns', None)\n",
    "pd.set_option('display.max_rows', None)\n",
    "pd.set_option('display.float_format', lambda x: '%.3f' % x)\n",
    "import pprint\n",
    "pp = pprint.PrettyPrinter(indent=4)"
   ]
  },
  {
   "cell_type": "markdown",
   "metadata": {},
   "source": [
    "### Parameters ###\n",
    "Will be overriden by comparisons.yaml"
   ]
  },
  {
   "cell_type": "code",
   "execution_count": 4,
   "metadata": {},
   "outputs": [],
   "source": [
    "#Parameters\n",
    "threshold = 0.3"
   ]
  },
  {
   "cell_type": "markdown",
   "metadata": {},
   "source": [
    "### Load pathes ###"
   ]
  },
  {
   "cell_type": "code",
   "execution_count": 5,
   "metadata": {},
   "outputs": [],
   "source": [
    "from pathlib import Path\n",
    "locations: Locations = Locations(\"./\") if Path(\"./data\").exists() else Locations(\"../\")"
   ]
  },
  {
   "cell_type": "code",
   "execution_count": 6,
   "metadata": {},
   "outputs": [],
   "source": [
    "intersections = locations.output.intersections"
   ]
  },
  {
   "cell_type": "code",
   "execution_count": 7,
   "metadata": {},
   "outputs": [],
   "source": [
    "pro = pd.read_csv(intersections / \"pro_intersections_5_and_7.tsv\", sep = \"\\t\")\n",
    "pro_both = pro[pro[\"_merge\"]==\"both\"]\n",
    "pro_5 = pd.concat([pro_both, pro[pro[\"_merge\"] == \"five_tissues_model_only\"]])\n",
    "pro_7 = pd.concat([pro_both, pro[pro[\"_merge\"] == \"seven_tissues_model_only\"]])"
   ]
  },
  {
   "cell_type": "code",
   "execution_count": 8,
   "metadata": {},
   "outputs": [
    {
     "data": {
      "text/html": [
       "<div>\n",
       "<style scoped>\n",
       "    .dataframe tbody tr th:only-of-type {\n",
       "        vertical-align: middle;\n",
       "    }\n",
       "\n",
       "    .dataframe tbody tr th {\n",
       "        vertical-align: top;\n",
       "    }\n",
       "\n",
       "    .dataframe thead th {\n",
       "        text-align: right;\n",
       "    }\n",
       "</style>\n",
       "<table border=\"1\" class=\"dataframe\">\n",
       "  <thead>\n",
       "    <tr style=\"text-align: right;\">\n",
       "      <th></th>\n",
       "      <th>reference_gene</th>\n",
       "      <th>symbol</th>\n",
       "      <th>MLS_gain_score</th>\n",
       "      <th>MLS_kendall_tau</th>\n",
       "      <th>life_history_kendal_tau</th>\n",
       "      <th>causal</th>\n",
       "      <th>organs (r^2) in linear models</th>\n",
       "      <th>gain_score_to_max_lifespan</th>\n",
       "      <th>kendall_tau_to_max_lifespan</th>\n",
       "      <th>life_history</th>\n",
       "      <th>_merge</th>\n",
       "    </tr>\n",
       "  </thead>\n",
       "  <tbody>\n",
       "    <tr>\n",
       "      <th>10</th>\n",
       "      <td>ENSG00000135940</td>\n",
       "      <td>COX5B</td>\n",
       "      <td>nan</td>\n",
       "      <td>nan</td>\n",
       "      <td>NaN</td>\n",
       "      <td>NaN</td>\n",
       "      <td>NaN</td>\n",
       "      <td>12869.058</td>\n",
       "      <td>-0.663</td>\n",
       "      <td>gestation_days (-0.4529)</td>\n",
       "      <td>seven_tissues_model_only</td>\n",
       "    </tr>\n",
       "    <tr>\n",
       "      <th>11</th>\n",
       "      <td>ENSG00000102543</td>\n",
       "      <td>CDADC1</td>\n",
       "      <td>nan</td>\n",
       "      <td>nan</td>\n",
       "      <td>NaN</td>\n",
       "      <td>NaN</td>\n",
       "      <td>NaN</td>\n",
       "      <td>4502.784</td>\n",
       "      <td>-0.601</td>\n",
       "      <td>NaN</td>\n",
       "      <td>seven_tissues_model_only</td>\n",
       "    </tr>\n",
       "    <tr>\n",
       "      <th>12</th>\n",
       "      <td>ENSG00000047230</td>\n",
       "      <td>CTPS2</td>\n",
       "      <td>nan</td>\n",
       "      <td>nan</td>\n",
       "      <td>NaN</td>\n",
       "      <td>NaN</td>\n",
       "      <td>NaN</td>\n",
       "      <td>7234.518</td>\n",
       "      <td>-0.643</td>\n",
       "      <td>NaN</td>\n",
       "      <td>seven_tissues_model_only</td>\n",
       "    </tr>\n",
       "    <tr>\n",
       "      <th>13</th>\n",
       "      <td>ENSG00000170222</td>\n",
       "      <td>ADPRM</td>\n",
       "      <td>nan</td>\n",
       "      <td>nan</td>\n",
       "      <td>NaN</td>\n",
       "      <td>NaN</td>\n",
       "      <td>NaN</td>\n",
       "      <td>3274.194</td>\n",
       "      <td>-0.779</td>\n",
       "      <td>NaN</td>\n",
       "      <td>seven_tissues_model_only</td>\n",
       "    </tr>\n",
       "    <tr>\n",
       "      <th>14</th>\n",
       "      <td>ENSG00000204427</td>\n",
       "      <td>ABHD16A</td>\n",
       "      <td>nan</td>\n",
       "      <td>nan</td>\n",
       "      <td>NaN</td>\n",
       "      <td>NaN</td>\n",
       "      <td>NaN</td>\n",
       "      <td>28967.167</td>\n",
       "      <td>-0.412</td>\n",
       "      <td>NaN</td>\n",
       "      <td>seven_tissues_model_only</td>\n",
       "    </tr>\n",
       "  </tbody>\n",
       "</table>\n",
       "</div>"
      ],
      "text/plain": [
       "     reference_gene   symbol  MLS_gain_score  MLS_kendall_tau  \\\n",
       "10  ENSG00000135940    COX5B             nan              nan   \n",
       "11  ENSG00000102543   CDADC1             nan              nan   \n",
       "12  ENSG00000047230    CTPS2             nan              nan   \n",
       "13  ENSG00000170222    ADPRM             nan              nan   \n",
       "14  ENSG00000204427  ABHD16A             nan              nan   \n",
       "\n",
       "   life_history_kendal_tau causal organs (r^2) in linear models  \\\n",
       "10                     NaN    NaN                           NaN   \n",
       "11                     NaN    NaN                           NaN   \n",
       "12                     NaN    NaN                           NaN   \n",
       "13                     NaN    NaN                           NaN   \n",
       "14                     NaN    NaN                           NaN   \n",
       "\n",
       "    gain_score_to_max_lifespan  kendall_tau_to_max_lifespan  \\\n",
       "10                   12869.058                       -0.663   \n",
       "11                    4502.784                       -0.601   \n",
       "12                    7234.518                       -0.643   \n",
       "13                    3274.194                       -0.779   \n",
       "14                   28967.167                       -0.412   \n",
       "\n",
       "                life_history                    _merge  \n",
       "10  gestation_days (-0.4529)  seven_tissues_model_only  \n",
       "11                       NaN  seven_tissues_model_only  \n",
       "12                       NaN  seven_tissues_model_only  \n",
       "13                       NaN  seven_tissues_model_only  \n",
       "14                       NaN  seven_tissues_model_only  "
      ]
     },
     "execution_count": 8,
     "metadata": {},
     "output_type": "execute_result"
    }
   ],
   "source": [
    "anti = pd.read_csv(intersections / \"anti_intersections_5_and_7.tsv\", sep = \"\\t\")\n",
    "anti_both = anti[anti[\"_merge\"]==\"both\"]\n",
    "anti_5 = pd.concat([anti_both, anti[anti[\"_merge\"] == \"five_tissues_model_only\"]])\n",
    "anti_5 = pd.concat([anti_both, anti[anti[\"_merge\"] == \"seven_tissues_model_only\"]])\n",
    "anti_5.tail(5)"
   ]
  },
  {
   "cell_type": "code",
   "execution_count": 21,
   "metadata": {},
   "outputs": [
    {
     "ename": "NameError",
     "evalue": "name 'selected_species' is not defined",
     "output_type": "error",
     "traceback": [
      "\u001b[0;31m---------------------------------------------------------------------------\u001b[0m",
      "\u001b[0;31mNameError\u001b[0m                                 Traceback (most recent call last)",
      "\u001b[0;32m<ipython-input-21-5f703e34874e>\u001b[0m in \u001b[0;36m<module>\u001b[0;34m\u001b[0m\n\u001b[0;32m----> 1\u001b[0;31m \u001b[0mselected_species\u001b[0m\u001b[0;34m.\u001b[0m\u001b[0mto_csv\u001b[0m\u001b[0;34m(\u001b[0m\u001b[0mlocations\u001b[0m\u001b[0;34m.\u001b[0m\u001b[0minterim\u001b[0m\u001b[0;34m.\u001b[0m\u001b[0mspecies\u001b[0m\u001b[0;34m,\u001b[0m \u001b[0msep\u001b[0m \u001b[0;34m=\u001b[0m \u001b[0;34m\"\\t\"\u001b[0m\u001b[0;34m,\u001b[0m \u001b[0mindex\u001b[0m \u001b[0;34m=\u001b[0m \u001b[0;32mTrue\u001b[0m\u001b[0;34m)\u001b[0m\u001b[0;34m\u001b[0m\u001b[0;34m\u001b[0m\u001b[0m\n\u001b[0m\u001b[1;32m      2\u001b[0m \u001b[0mselected_genes\u001b[0m\u001b[0;34m.\u001b[0m\u001b[0mto_csv\u001b[0m\u001b[0;34m(\u001b[0m\u001b[0mlocations\u001b[0m\u001b[0;34m.\u001b[0m\u001b[0minterim\u001b[0m\u001b[0;34m.\u001b[0m\u001b[0mgenes\u001b[0m\u001b[0;34m,\u001b[0m \u001b[0msep\u001b[0m \u001b[0;34m=\u001b[0m \u001b[0;34m\"\\t\"\u001b[0m\u001b[0;34m,\u001b[0m \u001b[0mindex\u001b[0m \u001b[0;34m=\u001b[0m \u001b[0;32mTrue\u001b[0m\u001b[0;34m)\u001b[0m\u001b[0;34m\u001b[0m\u001b[0;34m\u001b[0m\u001b[0m\n\u001b[1;32m      3\u001b[0m \u001b[0mselected_samples\u001b[0m\u001b[0;34m.\u001b[0m\u001b[0mto_csv\u001b[0m\u001b[0;34m(\u001b[0m\u001b[0mlocations\u001b[0m\u001b[0;34m.\u001b[0m\u001b[0minterim\u001b[0m\u001b[0;34m.\u001b[0m\u001b[0msamples\u001b[0m\u001b[0;34m,\u001b[0m \u001b[0msep\u001b[0m\u001b[0;34m=\u001b[0m\u001b[0;34m\"\\t\"\u001b[0m\u001b[0;34m,\u001b[0m \u001b[0mindex\u001b[0m \u001b[0;34m=\u001b[0m \u001b[0;32mTrue\u001b[0m\u001b[0;34m)\u001b[0m\u001b[0;34m\u001b[0m\u001b[0;34m\u001b[0m\u001b[0m\n\u001b[1;32m      4\u001b[0m \u001b[0mselected_expressions\u001b[0m\u001b[0;34m.\u001b[0m\u001b[0mto_csv\u001b[0m\u001b[0;34m(\u001b[0m\u001b[0mlocations\u001b[0m\u001b[0;34m.\u001b[0m\u001b[0minterim\u001b[0m\u001b[0;34m.\u001b[0m\u001b[0mexpressions\u001b[0m\u001b[0;34m,\u001b[0m \u001b[0msep\u001b[0m\u001b[0;34m=\u001b[0m\u001b[0;34m\"\\t\"\u001b[0m\u001b[0;34m,\u001b[0m \u001b[0mindex\u001b[0m \u001b[0;34m=\u001b[0m \u001b[0;32mTrue\u001b[0m\u001b[0;34m)\u001b[0m\u001b[0;34m\u001b[0m\u001b[0;34m\u001b[0m\u001b[0m\n",
      "\u001b[0;31mNameError\u001b[0m: name 'selected_species' is not defined"
     ]
    }
   ],
   "source": [
    "selected_species = pd.read_csv(locations.interim.species, sep = \"\\t\", index = True)\n",
    "#selected_genes  =  pd.read_csv(locations.interim.genes, sep = \"\\t\", index = True)\n",
    "#selected_samples  = pd.read_csv(locations.interim.samples, sep=\"\\t\", index = True)\n",
    "#selected_expressions  =  pd.read_csv(locations.interim.expressions, sep=\"\\t\", index = True)"
   ]
  },
  {
   "cell_type": "code",
   "execution_count": null,
   "metadata": {},
   "outputs": [],
   "source": []
  }
 ],
 "metadata": {
  "kernelspec": {
   "display_name": "Python 3",
   "language": "python",
   "name": "python3"
  },
  "language_info": {
   "codemirror_mode": {
    "name": "ipython",
    "version": 3
   },
   "file_extension": ".py",
   "mimetype": "text/x-python",
   "name": "python",
   "nbconvert_exporter": "python",
   "pygments_lexer": "ipython3",
   "version": "3.7.6"
  }
 },
 "nbformat": 4,
 "nbformat_minor": 4
}
