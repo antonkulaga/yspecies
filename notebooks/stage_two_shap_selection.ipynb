{
 "cells": [
  {
   "cell_type": "markdown",
   "metadata": {},
   "source": [
    "# SHAP feature selection #\n",
    "## Code to select feature with combination of LightGBM and SHAP ##"
   ]
  },
  {
   "cell_type": "markdown",
   "metadata": {},
   "source": [
    "## Parameters cell ##\n",
    "\n",
    "Parameters are overiddent by papermill when run inside DVC stages\n",
    "\n"
   ]
  },
  {
   "cell_type": "code",
   "execution_count": 1,
   "metadata": {
    "tags": [
     "parameters"
    ]
   },
   "outputs": [],
   "source": [
    "n_folds = 5 # this sets global setting of which how many bootstraps to use\n",
    "n_hold_out = 1\n",
    "repeats = 10\n",
    "importance_type = \"split\"\n",
    "\n",
    "life_history = [\"lifespan\", \"mass_kg\", \"mtGC\", \"metabolic_rate\", \"temperature\", \"gestation_days\"]\n",
    "debug_local = True #to use local version"
   ]
  },
  {
   "cell_type": "code",
   "execution_count": 2,
   "metadata": {},
   "outputs": [
    {
     "name": "stdout",
     "output_type": "stream",
     "text": [
      "extending pathes with local yspecies\n",
      "['..', '/data/sources/yspecies/notebooks', '/opt/miniconda3/envs/yspecies/lib/python38.zip', '/opt/miniconda3/envs/yspecies/lib/python3.8', '/opt/miniconda3/envs/yspecies/lib/python3.8/lib-dynload', '', '/opt/miniconda3/envs/yspecies/lib/python3.8/site-packages', '/opt/miniconda3/envs/yspecies/lib/python3.8/site-packages/IPython/extensions', '/home/antonkulaga/.ipython']\n"
     ]
    }
   ],
   "source": [
    "from pathlib import Path\n",
    "import sys\n",
    "import inspect\n",
    "\n",
    "#lgb_params[\"importance_type\"] = importance_type\n",
    "\n",
    "local = (Path(\"..\") / \"yspecies\").resolve()\n",
    "if debug_local and local.exists():\n",
    "  sys.path.insert(0, Path(\"..\").as_posix())\n",
    "  #sys.path.insert(0, local.as_posix())\n",
    "  print(\"extending pathes with local yspecies\")\n",
    "  print(sys.path)\n",
    "  %load_ext autoreload\n",
    "  %autoreload 2"
   ]
  },
  {
   "cell_type": "code",
   "execution_count": 3,
   "metadata": {},
   "outputs": [],
   "source": [
    "from dataclasses import dataclass, replace\n",
    "import numpy as np\n",
    "import pandas as pd\n",
    "from sklearn.pipeline import Pipeline\n",
    "import seaborn as sns\n",
    "import matplotlib.pyplot as plt"
   ]
  },
  {
   "cell_type": "code",
   "execution_count": 4,
   "metadata": {},
   "outputs": [
    {
     "ename": "NameError",
     "evalue": "name 'Nonee' is not defined",
     "output_type": "error",
     "traceback": [
      "\u001b[0;31m---------------------------------------------------------------------------\u001b[0m",
      "\u001b[0;31mNameError\u001b[0m                                 Traceback (most recent call last)",
      "\u001b[0;32m<ipython-input-4-a70c1a2b0215>\u001b[0m in \u001b[0;36m<module>\u001b[0;34m\u001b[0m\n\u001b[1;32m      7\u001b[0m \u001b[0;32mfrom\u001b[0m \u001b[0myspecies\u001b[0m\u001b[0;34m.\u001b[0m\u001b[0mpartition\u001b[0m \u001b[0;32mimport\u001b[0m \u001b[0mDataPartitioner\u001b[0m\u001b[0;34m,\u001b[0m \u001b[0mPartitionParameters\u001b[0m\u001b[0;34m\u001b[0m\u001b[0;34m\u001b[0m\u001b[0m\n\u001b[1;32m      8\u001b[0m \u001b[0;32mfrom\u001b[0m \u001b[0myspecies\u001b[0m\u001b[0;34m.\u001b[0m\u001b[0mmodels\u001b[0m \u001b[0;32mimport\u001b[0m \u001b[0mMetrics\u001b[0m\u001b[0;34m\u001b[0m\u001b[0;34m\u001b[0m\u001b[0m\n\u001b[0;32m----> 9\u001b[0;31m \u001b[0;32mfrom\u001b[0m \u001b[0myspecies\u001b[0m\u001b[0;34m.\u001b[0m\u001b[0mselection\u001b[0m \u001b[0;32mimport\u001b[0m \u001b[0mShapSelector\u001b[0m\u001b[0;34m\u001b[0m\u001b[0;34m\u001b[0m\u001b[0m\n\u001b[0m\u001b[1;32m     10\u001b[0m \u001b[0;32mfrom\u001b[0m \u001b[0myspecies\u001b[0m\u001b[0;34m.\u001b[0m\u001b[0mresults\u001b[0m \u001b[0;32mimport\u001b[0m \u001b[0mFeatureSummary\u001b[0m\u001b[0;34m\u001b[0m\u001b[0;34m\u001b[0m\u001b[0m\n",
      "\u001b[0;32m/data/sources/yspecies/yspecies/selection.py\u001b[0m in \u001b[0;36m<module>\u001b[0;34m\u001b[0m\n\u001b[1;32m    132\u001b[0m \u001b[0;34m\u001b[0m\u001b[0m\n\u001b[1;32m    133\u001b[0m \u001b[0;34m\u001b[0m\u001b[0m\n\u001b[0;32m--> 134\u001b[0;31m \u001b[0;32mfrom\u001b[0m \u001b[0myspecies\u001b[0m\u001b[0;34m.\u001b[0m\u001b[0mresults\u001b[0m \u001b[0;32mimport\u001b[0m \u001b[0mFeatureResults\u001b[0m\u001b[0;34m\u001b[0m\u001b[0;34m\u001b[0m\u001b[0m\n\u001b[0m\u001b[1;32m    135\u001b[0m \u001b[0;34m\u001b[0m\u001b[0m\n\u001b[1;32m    136\u001b[0m \u001b[0;34m@\u001b[0m\u001b[0mdataclass\u001b[0m\u001b[0;34m\u001b[0m\u001b[0;34m\u001b[0m\u001b[0m\n",
      "\u001b[0;32m/data/sources/yspecies/yspecies/results.py\u001b[0m in \u001b[0;36m<module>\u001b[0;34m\u001b[0m\n\u001b[1;32m    257\u001b[0m \u001b[0;34m\u001b[0m\u001b[0m\n\u001b[1;32m    258\u001b[0m \u001b[0;34m@\u001b[0m\u001b[0mdataclass\u001b[0m\u001b[0;34m\u001b[0m\u001b[0;34m\u001b[0m\u001b[0m\n\u001b[0;32m--> 259\u001b[0;31m \u001b[0;32mclass\u001b[0m \u001b[0mFeatureSummary\u001b[0m\u001b[0;34m:\u001b[0m\u001b[0;34m\u001b[0m\u001b[0;34m\u001b[0m\u001b[0m\n\u001b[0m\u001b[1;32m    260\u001b[0m     \u001b[0mresults\u001b[0m\u001b[0;34m:\u001b[0m \u001b[0mList\u001b[0m\u001b[0;34m[\u001b[0m\u001b[0mFeatureResults\u001b[0m\u001b[0;34m]\u001b[0m\u001b[0;34m\u001b[0m\u001b[0;34m\u001b[0m\u001b[0m\n\u001b[1;32m    261\u001b[0m     \u001b[0mnan_as_zero\u001b[0m\u001b[0;34m:\u001b[0m \u001b[0mbool\u001b[0m \u001b[0;34m=\u001b[0m \u001b[0;32mTrue\u001b[0m\u001b[0;34m\u001b[0m\u001b[0;34m\u001b[0m\u001b[0m\n",
      "\u001b[0;32m/data/sources/yspecies/yspecies/results.py\u001b[0m in \u001b[0;36mFeatureSummary\u001b[0;34m()\u001b[0m\n\u001b[1;32m    431\u001b[0m     def plot(self, gene_names: bool = True, save: Path = None,\n\u001b[1;32m    432\u001b[0m              \u001b[0mmax_display\u001b[0m\u001b[0;34m=\u001b[0m\u001b[0;36m50\u001b[0m\u001b[0;34m,\u001b[0m \u001b[0mtitle\u001b[0m\u001b[0;34m=\u001b[0m\u001b[0;32mNone\u001b[0m\u001b[0;34m,\u001b[0m \u001b[0mplot_size\u001b[0m \u001b[0;34m=\u001b[0m \u001b[0;36m0.5\u001b[0m\u001b[0;34m,\u001b[0m \u001b[0mlayered_violin_max_num_bins\u001b[0m \u001b[0;34m=\u001b[0m \u001b[0;36m20\u001b[0m\u001b[0;34m,\u001b[0m\u001b[0;34m\u001b[0m\u001b[0;34m\u001b[0m\u001b[0m\n\u001b[0;32m--> 433\u001b[0;31m              plot_type=None, color=None, axis_color=\"#333333\", alpha=1, class_names=Nonee):\n\u001b[0m\u001b[1;32m    434\u001b[0m         return self._plot_(self.stable_shap_values, gene_names, save, max_display, title,\n\u001b[1;32m    435\u001b[0m                            layered_violin_max_num_bins, plot_type, color, axis_color, alpha, class_names = class_names, plot_size=plot_size)\n",
      "\u001b[0;31mNameError\u001b[0m: name 'Nonee' is not defined"
     ]
    }
   ],
   "source": [
    "from typing import *\n",
    "from yspecies.dataset import *\n",
    "from yspecies.utils import *\n",
    "from yspecies.workflow import TupleWith, Repeat, Collect\n",
    "from yspecies.config import *\n",
    "from yspecies.preprocess import FeatureSelection, DataExtractor\n",
    "from yspecies.partition import DataPartitioner, PartitionParameters\n",
    "from yspecies.models import Metrics\n",
    "from yspecies.selection import ShapSelector\n",
    "from yspecies.results import FeatureSummary"
   ]
  },
  {
   "cell_type": "code",
   "execution_count": null,
   "metadata": {},
   "outputs": [],
   "source": [
    "import optuna\n",
    "from optuna import Study, Trial\n",
    "from optuna import multi_objective\n",
    "from optuna.multi_objective import trial\n",
    "from optuna.multi_objective.study import MultiObjectiveStudy\n",
    "from yspecies.tuning import MultiObjectiveResults"
   ]
  },
  {
   "cell_type": "code",
   "execution_count": null,
   "metadata": {},
   "outputs": [],
   "source": [
    "#settings\n",
    "pd.set_option('display.max_columns', None)\n",
    "pd.set_option('display.max_rows', None)\n",
    "pd.set_option('display.float_format', lambda x: '%.3f' % x)\n",
    "import pprint\n",
    "pp = pprint.PrettyPrinter(indent=4)\n",
    "\n",
    "#charts settings\n",
    "import matplotlib.pyplot as plt\n",
    "from IPython.display import set_matplotlib_formats\n",
    "%matplotlib auto\n",
    "plt.ioff()\n",
    "set_matplotlib_formats('svg')"
   ]
  },
  {
   "cell_type": "markdown",
   "metadata": {},
   "source": [
    "### Loading data ###\n",
    "Let's load data from species/genes/expressions selected by select_samples.py notebook"
   ]
  },
  {
   "cell_type": "code",
   "execution_count": 5,
   "metadata": {},
   "outputs": [],
   "source": [
    "from pathlib import Path\n",
    "locations: Locations = Locations(\"./\") if Path(\"./data\").exists() else Locations(\"../\")"
   ]
  },
  {
   "cell_type": "code",
   "execution_count": 6,
   "metadata": {},
   "outputs": [
    {
     "data": {
      "text/plain": [
       "1"
      ]
     },
     "execution_count": 6,
     "metadata": {},
     "output_type": "execute_result"
    }
   ],
   "source": [
    "from loguru import logger\n",
    "logger.add(locations.logs / \"stage_two_shap_selection.log\", rotation=\"12:00\")     # New file is created each day at noon"
   ]
  },
  {
   "cell_type": "code",
   "execution_count": 7,
   "metadata": {},
   "outputs": [],
   "source": [
    "stage_2_folder = locations.interim.dir / \"stage_2\" \n",
    "stage_2_folder.mkdir(exist_ok=True)\n",
    "partitions_folder = stage_2_folder  / \"partitions\"\n",
    "partitions_folder.mkdir(exist_ok=True)"
   ]
  },
  {
   "cell_type": "code",
   "execution_count": 8,
   "metadata": {},
   "outputs": [
    {
     "data": {
      "text/html": [
       "<table border='2'><caption>input<caption><tr><th>expressions</th><th>genes</th><th>species</th><th>samples</th><th>Genes Metadata</th><th>Species Metadata</th></tr><tr><td>(408, 142)</td><td>(142, 37)</td><td>38</td><td>408</td><td>(142, 2)</td><td>(38, 18)</td></tr></table>"
      ],
      "text/plain": [
       "<table border='2'><caption>input<caption><tr><th>expressions</th><th>genes</th><th>species</th><th>samples</th><th>Genes Metadata</th><th>Species Metadata</th></tr><tr><td>(408, 142)</td><td>(142, 37)</td><td>38</td><td>408</td><td>(142, 2)</td><td>(38, 18)</td></tr></table>"
      ]
     },
     "execution_count": 8,
     "metadata": {},
     "output_type": "execute_result"
    }
   ],
   "source": [
    "data = ExpressionDataset.from_folder(locations.interim.dir / \"stage_2\" / \"input\")\n",
    "data"
   ]
  },
  {
   "cell_type": "markdown",
   "metadata": {},
   "source": [
    "## Setting up features to select ##"
   ]
  },
  {
   "cell_type": "code",
   "execution_count": 9,
   "metadata": {},
   "outputs": [
    {
     "data": {
      "text/html": [
       "<table border='2'><caption> Selected feature columns <caption><tr><th>Samples metadata</th><th>Species metadata</th><th>Genes</th><th>Predict label</th><th>not_validated species</th></tr><tr><td>['tissue', 'species']</td><td>[]</td><td>all</td><td>lifespan</td><td>[]</td></tr></table>"
      ],
      "text/plain": [
       "FeatureSelection(samples=['tissue', 'species'], species=[], genes=None, to_predict='lifespan', categorical=['tissue'], exclude_from_training=['species'], genes_meta=None, select_by='shap', importance_type='split', feature_perturbation='tree_path_dependent', not_validated_species=[])"
      ]
     },
     "execution_count": 9,
     "metadata": {},
     "output_type": "execute_result"
    }
   ],
   "source": [
    "default_selection = FeatureSelection(\n",
    "    samples = [\"tissue\",\"species\"], #samples metadata to include\n",
    "    species =  [], #species metadata other then Y label to include\n",
    "    exclude_from_training = [\"species\"],  #exclude some fields from LightGBM training\n",
    "    to_predict = \"lifespan\", #column to predict\n",
    "    categorical = [\"tissue\"],\n",
    "    select_by = \"shap\",\n",
    "    importance_type =  importance_type,\n",
    "    feature_perturbation = \"tree_path_dependent\"\n",
    ")\n",
    "default_selection"
   ]
  },
  {
   "cell_type": "code",
   "execution_count": 10,
   "metadata": {},
   "outputs": [
    {
     "data": {
      "text/html": [
       "<table border='2'><caption>input<caption><tr><th>expressions</th><th>genes</th><th>species</th><th>samples</th><th>Genes Metadata</th><th>Species Metadata</th></tr><tr><td>(408, 142)</td><td>(142, 37)</td><td>38</td><td>408</td><td>(142, 2)</td><td>(38, 18)</td></tr></table>"
      ],
      "text/plain": [
       "<table border='2'><caption>input<caption><tr><th>expressions</th><th>genes</th><th>species</th><th>samples</th><th>Genes Metadata</th><th>Species Metadata</th></tr><tr><td>(408, 142)</td><td>(142, 37)</td><td>38</td><td>408</td><td>(142, 2)</td><td>(38, 18)</td></tr></table>"
      ]
     },
     "execution_count": 10,
     "metadata": {},
     "output_type": "execute_result"
    }
   ],
   "source": [
    "selections = OrderedDict([(trait, (data,  replace(default_selection, to_predict = trait))) for trait in life_history])\n",
    "selections[\"lifespan\"][0]"
   ]
  },
  {
   "cell_type": "markdown",
   "metadata": {},
   "source": [
    "### Setting up pipelines ###"
   ]
  },
  {
   "cell_type": "code",
   "execution_count": 19,
   "metadata": {},
   "outputs": [],
   "source": [
    "from yspecies.helpers import PipelineFactory\n",
    "factory = PipelineFactory(locations,repeats, n_folds, n_hold_out)"
   ]
  },
  {
   "cell_type": "code",
   "execution_count": 20,
   "metadata": {},
   "outputs": [],
   "source": [
    "def opt_by_trait_2(trait: str):\n",
    "    return locations.interim.optimization / f\"{trait}_2.sqlite\""
   ]
  },
  {
   "cell_type": "code",
   "execution_count": 21,
   "metadata": {},
   "outputs": [
    {
     "name": "stdout",
     "output_type": "stream",
     "text": [
      "setting up quick pipelines\n",
      "loading (if exists) study from sqlite:////data/sources/yspecies/notebooks/../data/interim/optimization/lifespan_2.sqlite\n"
     ]
    },
    {
     "name": "stderr",
     "output_type": "stream",
     "text": [
      "create_study is experimental (supported from v1.4.0). The interface can change in the future.\n",
      "NSGAIIMultiObjectiveSampler is experimental (supported from v1.5.0). The interface can change in the future.\n",
      "RandomMultiObjectiveSampler is experimental (supported from v1.4.0). The interface can change in the future.\n",
      "[I 2020-09-21 01:00:50,032] Using an existing study with name 'lifespan_r2_huber_kendall' instead of creating a new one.\n",
      "MultiObjectiveStudy is experimental (supported from v1.4.0). The interface can change in the future.\n",
      "FrozenMultiObjectiveTrial is experimental (supported from v1.4.0). The interface can change in the future.\n"
     ]
    },
    {
     "name": "stdout",
     "output_type": "stream",
     "text": [
      "loading (if exists) study from sqlite:////data/sources/yspecies/notebooks/../data/interim/optimization/mass_kg_2.sqlite\n"
     ]
    },
    {
     "name": "stderr",
     "output_type": "stream",
     "text": [
      "[I 2020-09-21 01:00:51,190] Using an existing study with name 'mass_kg_r2_huber_kendall' instead of creating a new one.\n"
     ]
    },
    {
     "name": "stdout",
     "output_type": "stream",
     "text": [
      "loading (if exists) study from sqlite:////data/sources/yspecies/notebooks/../data/interim/optimization/mtGC_2.sqlite\n"
     ]
    },
    {
     "name": "stderr",
     "output_type": "stream",
     "text": [
      "[I 2020-09-21 01:00:51,211] Using an existing study with name 'mtGC_r2_huber_kendall' instead of creating a new one.\n"
     ]
    },
    {
     "name": "stdout",
     "output_type": "stream",
     "text": [
      "loading (if exists) study from sqlite:////data/sources/yspecies/notebooks/../data/interim/optimization/metabolic_rate_2.sqlite\n"
     ]
    },
    {
     "name": "stderr",
     "output_type": "stream",
     "text": [
      "[I 2020-09-21 01:00:51,230] Using an existing study with name 'metabolic_rate_r2_huber_kendall' instead of creating a new one.\n"
     ]
    },
    {
     "name": "stdout",
     "output_type": "stream",
     "text": [
      "loading (if exists) study from sqlite:////data/sources/yspecies/notebooks/../data/interim/optimization/temperature_2.sqlite\n"
     ]
    },
    {
     "name": "stderr",
     "output_type": "stream",
     "text": [
      "[I 2020-09-21 01:00:51,250] Using an existing study with name 'temperature_r2_huber_kendall' instead of creating a new one.\n"
     ]
    },
    {
     "name": "stdout",
     "output_type": "stream",
     "text": [
      "loading (if exists) study from sqlite:////data/sources/yspecies/notebooks/../data/interim/optimization/gestation_days_2.sqlite\n"
     ]
    },
    {
     "name": "stderr",
     "output_type": "stream",
     "text": [
      "[I 2020-09-21 01:00:51,270] Using an existing study with name 'gestation_days_r2_huber_kendall' instead of creating a new one.\n"
     ]
    },
    {
     "name": "stdout",
     "output_type": "stream",
     "text": [
      "setting up pipelines with repeats\n",
      "loading (if exists) study from sqlite:////data/sources/yspecies/notebooks/../data/interim/optimization/lifespan_2.sqlite\n"
     ]
    },
    {
     "name": "stderr",
     "output_type": "stream",
     "text": [
      "[I 2020-09-21 01:00:51,291] Using an existing study with name 'lifespan_r2_huber_kendall' instead of creating a new one.\n"
     ]
    },
    {
     "name": "stdout",
     "output_type": "stream",
     "text": [
      "loading (if exists) study from sqlite:////data/sources/yspecies/notebooks/../data/interim/optimization/mass_kg_2.sqlite\n"
     ]
    },
    {
     "name": "stderr",
     "output_type": "stream",
     "text": [
      "[I 2020-09-21 01:00:52,433] Using an existing study with name 'mass_kg_r2_huber_kendall' instead of creating a new one.\n"
     ]
    },
    {
     "name": "stdout",
     "output_type": "stream",
     "text": [
      "loading (if exists) study from sqlite:////data/sources/yspecies/notebooks/../data/interim/optimization/mtGC_2.sqlite\n"
     ]
    },
    {
     "name": "stderr",
     "output_type": "stream",
     "text": [
      "[I 2020-09-21 01:00:52,455] Using an existing study with name 'mtGC_r2_huber_kendall' instead of creating a new one.\n"
     ]
    },
    {
     "name": "stdout",
     "output_type": "stream",
     "text": [
      "loading (if exists) study from sqlite:////data/sources/yspecies/notebooks/../data/interim/optimization/metabolic_rate_2.sqlite\n"
     ]
    },
    {
     "name": "stderr",
     "output_type": "stream",
     "text": [
      "[I 2020-09-21 01:00:52,478] Using an existing study with name 'metabolic_rate_r2_huber_kendall' instead of creating a new one.\n"
     ]
    },
    {
     "name": "stdout",
     "output_type": "stream",
     "text": [
      "loading (if exists) study from sqlite:////data/sources/yspecies/notebooks/../data/interim/optimization/temperature_2.sqlite\n"
     ]
    },
    {
     "name": "stderr",
     "output_type": "stream",
     "text": [
      "[I 2020-09-21 01:00:52,501] Using an existing study with name 'temperature_r2_huber_kendall' instead of creating a new one.\n"
     ]
    },
    {
     "name": "stdout",
     "output_type": "stream",
     "text": [
      "loading (if exists) study from sqlite:////data/sources/yspecies/notebooks/../data/interim/optimization/gestation_days_2.sqlite\n"
     ]
    },
    {
     "name": "stderr",
     "output_type": "stream",
     "text": [
      "[I 2020-09-21 01:00:52,523] Using an existing study with name 'gestation_days_r2_huber_kendall' instead of creating a new one.\n"
     ]
    },
    {
     "data": {
      "text/plain": [
       "dict_keys(['lifespan', 'mass_kg', 'mtGC', 'metabolic_rate', 'temperature', 'gestation_days'])"
      ]
     },
     "execution_count": 21,
     "metadata": {},
     "output_type": "execute_result"
    }
   ],
   "source": [
    "print(\"setting up quick pipelines\")\n",
    "quick_pipelines =  {trait:factory.make_shap_pipeline(study_path = opt_by_trait_2(trait), study_name=f\"{trait}_r2_huber_kendall\") for trait in life_history}\n",
    "print(\"setting up pipelines with repeats\")\n",
    "pipelines = {trait:factory.make_repeated_shap_pipeline(study_path = opt_by_trait_2(trait), study_name=f\"{trait}_r2_huber_kendall\") for trait in life_history}\n",
    "#pipelines = {trait:factory.make_shap_pipeline(trait) for trait in life_history}\n",
    "\n",
    "#make_partitioning_shap_pipeline\n",
    "pipelines.keys()"
   ]
  },
  {
   "cell_type": "markdown",
   "metadata": {},
   "source": [
    "# Run second stage #"
   ]
  },
  {
   "cell_type": "code",
   "execution_count": 22,
   "metadata": {},
   "outputs": [],
   "source": [
    "stage_two = {}"
   ]
  },
  {
   "cell_type": "code",
   "execution_count": 23,
   "metadata": {},
   "outputs": [],
   "source": [
    "def run_stage_two(trait: str, quick: bool = False):\n",
    "    pipes = quick_pipelines if quick else pipelines\n",
    "    result = pipes[trait].fit_transform(selections[trait])\n",
    "    stage_two[trait] = result #ugly mutation of stage_one dicionary\n",
    "    return result"
   ]
  },
  {
   "cell_type": "code",
   "execution_count": 25,
   "metadata": {},
   "outputs": [],
   "source": [
    "lifespan_2.selected.to_csv(locations.output.stage_two / \"lifespan.tsv\", sep=\"\\t\", index_label=\"reference_gene\")"
   ]
  },
  {
   "cell_type": "code",
   "execution_count": 24,
   "metadata": {},
   "outputs": [
    {
     "name": "stderr",
     "output_type": "stream",
     "text": [
      "2020-09-21 01:00:56.474 | INFO     | yspecies.selection:fit:149 - ===== fitting models with seed 0 =====\n",
      "2020-09-21 01:00:56.475 | INFO     | yspecies.selection:fit:150 - PARAMETERS:\n",
      "{'bagging_fraction': 0.757456996980591, 'boosting_type': 'gbdt', 'drop_rate': 0.15938150347995844, 'feature_fraction': 0.41345305892024875, 'lambda_l1': 2.9528782080363634, 'lambda_l2': 2.3536556238167003, 'learning_rate': 0.05373601286514567, 'max_depth': 3, 'max_leaves': 19, 'min_data_in_leaf': 8, 'objective': 'regression', 'metrics': ['l1', 'l2', 'huber'], 'verbose': -1, 'early_stopping_round': 10}\n",
      "2020-09-21 01:00:56.479 | INFO     | yspecies.selection:fit:153 - SEED: 0 | FOLD: 0 | VALIDATION_SPECIES: ['Homo_sapiens', 'Equus_caballus']\n",
      "Found `early_stopping_round` in params. Will use it instead of argument\n"
     ]
    },
    {
     "name": "stdout",
     "output_type": "stream",
     "text": [
      "Training until validation scores don't improve for 10 rounds\n",
      "Training until validation scores don't improve for 10 rounds\n",
      "Early stopping, best iteration is:\n",
      "[117]\tvalid_0's l1: 21.5888\tvalid_0's l2: 1953.78\tvalid_0's huber: 19.1044\n"
     ]
    },
    {
     "name": "stderr",
     "output_type": "stream",
     "text": [
      "2020-09-21 01:00:56.558 | INFO     | yspecies.selection:fit:153 - SEED: 0 | FOLD: 1 | VALIDATION_SPECIES: ['Ursus_americanus', 'Phascolarctos_cinereus']\n"
     ]
    },
    {
     "name": "stdout",
     "output_type": "stream",
     "text": [
      "Training until validation scores don't improve for 10 rounds\n",
      "Training until validation scores don't improve for 10 rounds\n",
      "[250]\tvalid_0's l1: 3.26036\tvalid_0's l2: 38.7967\tvalid_0's huber: 2.62994\n",
      "Did not meet early stopping. Best iteration is:\n",
      "[250]\tvalid_0's l1: 3.26036\tvalid_0's l2: 38.7967\tvalid_0's huber: 2.62994\n"
     ]
    },
    {
     "name": "stderr",
     "output_type": "stream",
     "text": [
      "2020-09-21 01:00:56.670 | INFO     | yspecies.selection:fit:153 - SEED: 0 | FOLD: 2 | VALIDATION_SPECIES: ['Suricata_suricatta', 'Mus_spicilegus']\n"
     ]
    },
    {
     "name": "stdout",
     "output_type": "stream",
     "text": [
      "Training until validation scores don't improve for 10 rounds\n",
      "Training until validation scores don't improve for 10 rounds\n",
      "[250]\tvalid_0's l1: 2.4822\tvalid_0's l2: 22.1101\tvalid_0's huber: 1.91506\n",
      "Did not meet early stopping. Best iteration is:\n",
      "[249]\tvalid_0's l1: 2.48207\tvalid_0's l2: 22.0934\tvalid_0's huber: 1.91468\n"
     ]
    },
    {
     "name": "stderr",
     "output_type": "stream",
     "text": [
      "2020-09-21 01:00:56.785 | INFO     | yspecies.selection:fit:153 - SEED: 0 | FOLD: 3 | VALIDATION_SPECIES: ['Aotus_nancymaae', 'Macaca_fascicularis']\n"
     ]
    },
    {
     "name": "stdout",
     "output_type": "stream",
     "text": [
      "Training until validation scores don't improve for 10 rounds\n",
      "Training until validation scores don't improve for 10 rounds\n",
      "Early stopping, best iteration is:\n",
      "[232]\tvalid_0's l1: 2.49162\tvalid_0's l2: 14.5611\tvalid_0's huber: 1.91483\n"
     ]
    },
    {
     "name": "stderr",
     "output_type": "stream",
     "text": [
      "2020-09-21 01:01:10.508 | INFO     | yspecies.explanations:transform:494 - Metrics: \n",
      "Metrics(R2=0.6752438223792208, MAE=7.455702362301174, MSE=507.3084105826874, huber=6.389815101524114)\n",
      "2020-09-21 01:01:10.513 | INFO     | yspecies.selection:fit:149 - ===== fitting models with seed 1 =====\n",
      "2020-09-21 01:01:10.513 | INFO     | yspecies.selection:fit:150 - PARAMETERS:\n",
      "{'bagging_fraction': 0.757456996980591, 'boosting_type': 'gbdt', 'drop_rate': 0.15938150347995844, 'feature_fraction': 0.41345305892024875, 'lambda_l1': 2.9528782080363634, 'lambda_l2': 2.3536556238167003, 'learning_rate': 0.05373601286514567, 'max_depth': 3, 'max_leaves': 19, 'min_data_in_leaf': 8, 'objective': 'regression', 'metrics': ['l1', 'l2', 'huber'], 'verbose': -1, 'early_stopping_round': 10, 'seed': 0}\n",
      "2020-09-21 01:01:10.516 | INFO     | yspecies.selection:fit:153 - SEED: 1 | FOLD: 0 | VALIDATION_SPECIES: ['Mus_caroli', 'Vombatus_ursinus']\n",
      "Found `early_stopping_round` in params. Will use it instead of argument\n"
     ]
    },
    {
     "name": "stdout",
     "output_type": "stream",
     "text": [
      "Training until validation scores don't improve for 10 rounds\n",
      "Training until validation scores don't improve for 10 rounds\n",
      "Early stopping, best iteration is:\n",
      "[123]\tvalid_0's l1: 2.74609\tvalid_0's l2: 20.4348\tvalid_0's huber: 2.11214\n"
     ]
    },
    {
     "name": "stderr",
     "output_type": "stream",
     "text": [
      "2020-09-21 01:01:10.607 | INFO     | yspecies.selection:fit:153 - SEED: 1 | FOLD: 1 | VALIDATION_SPECIES: ['Ailuropoda_melanoleuca', 'Ursus_americanus']\n"
     ]
    },
    {
     "name": "stdout",
     "output_type": "stream",
     "text": [
      "Training until validation scores don't improve for 10 rounds\n",
      "Training until validation scores don't improve for 10 rounds\n",
      "Early stopping, best iteration is:\n",
      "[132]\tvalid_0's l1: 3.4385\tvalid_0's l2: 39.9311\tvalid_0's huber: 2.76193\n"
     ]
    },
    {
     "name": "stderr",
     "output_type": "stream",
     "text": [
      "2020-09-21 01:01:10.697 | INFO     | yspecies.selection:fit:153 - SEED: 1 | FOLD: 2 | VALIDATION_SPECIES: ['Rhinolophus_ferrumequinum', 'Macaca_mulatta']\n"
     ]
    },
    {
     "name": "stdout",
     "output_type": "stream",
     "text": [
      "Training until validation scores don't improve for 10 rounds\n",
      "Training until validation scores don't improve for 10 rounds\n",
      "Early stopping, best iteration is:\n",
      "[173]\tvalid_0's l1: 2.89148\tvalid_0's l2: 24.6375\tvalid_0's huber: 2.25999\n"
     ]
    },
    {
     "name": "stderr",
     "output_type": "stream",
     "text": [
      "2020-09-21 01:01:10.789 | INFO     | yspecies.selection:fit:153 - SEED: 1 | FOLD: 3 | VALIDATION_SPECIES: ['Canis_lupus_familiaris', 'Homo_sapiens']\n"
     ]
    },
    {
     "name": "stdout",
     "output_type": "stream",
     "text": [
      "Training until validation scores don't improve for 10 rounds\n",
      "Training until validation scores don't improve for 10 rounds\n",
      "Early stopping, best iteration is:\n",
      "[202]\tvalid_0's l1: 18.8952\tvalid_0's l2: 1536.27\tvalid_0's huber: 16.6741\n"
     ]
    },
    {
     "name": "stderr",
     "output_type": "stream",
     "text": [
      "2020-09-21 01:01:22.795 | INFO     | yspecies.explanations:transform:494 - Metrics: \n",
      "Metrics(R2=0.7139923978383951, MAE=6.992828760716467, MSE=405.3193200606812, huber=5.950478004901392)\n",
      "2020-09-21 01:01:22.801 | INFO     | yspecies.selection:fit:149 - ===== fitting models with seed 2 =====\n",
      "2020-09-21 01:01:22.802 | INFO     | yspecies.selection:fit:150 - PARAMETERS:\n",
      "{'bagging_fraction': 0.757456996980591, 'boosting_type': 'gbdt', 'drop_rate': 0.15938150347995844, 'feature_fraction': 0.41345305892024875, 'lambda_l1': 2.9528782080363634, 'lambda_l2': 2.3536556238167003, 'learning_rate': 0.05373601286514567, 'max_depth': 3, 'max_leaves': 19, 'min_data_in_leaf': 8, 'objective': 'regression', 'metrics': ['l1', 'l2', 'huber'], 'verbose': -1, 'early_stopping_round': 10, 'seed': 1}\n",
      "2020-09-21 01:01:22.806 | INFO     | yspecies.selection:fit:153 - SEED: 2 | FOLD: 0 | VALIDATION_SPECIES: ['Canis_lupus_familiaris', 'Ailuropoda_melanoleuca']\n",
      "Found `early_stopping_round` in params. Will use it instead of argument\n"
     ]
    },
    {
     "name": "stdout",
     "output_type": "stream",
     "text": [
      "Training until validation scores don't improve for 10 rounds\n",
      "Training until validation scores don't improve for 10 rounds\n",
      "Early stopping, best iteration is:\n",
      "[92]\tvalid_0's l1: 2.22157\tvalid_0's l2: 19.0285\tvalid_0's huber: 1.67311\n"
     ]
    },
    {
     "name": "stderr",
     "output_type": "stream",
     "text": [
      "2020-09-21 01:01:22.879 | INFO     | yspecies.selection:fit:153 - SEED: 2 | FOLD: 1 | VALIDATION_SPECIES: ['Bos_taurus', 'Callithrix_jacchus']\n"
     ]
    },
    {
     "name": "stdout",
     "output_type": "stream",
     "text": [
      "Training until validation scores don't improve for 10 rounds\n",
      "Training until validation scores don't improve for 10 rounds\n",
      "[250]\tvalid_0's l1: 3.97443\tvalid_0's l2: 47.6262\tvalid_0's huber: 3.23459\n",
      "Did not meet early stopping. Best iteration is:\n",
      "[250]\tvalid_0's l1: 3.97443\tvalid_0's l2: 47.6262\tvalid_0's huber: 3.23459\n"
     ]
    },
    {
     "name": "stderr",
     "output_type": "stream",
     "text": [
      "2020-09-21 01:01:22.996 | INFO     | yspecies.selection:fit:153 - SEED: 2 | FOLD: 2 | VALIDATION_SPECIES: ['Rhinolophus_ferrumequinum', 'Macaca_nemestrina']\n"
     ]
    },
    {
     "name": "stdout",
     "output_type": "stream",
     "text": [
      "Training until validation scores don't improve for 10 rounds\n",
      "Training until validation scores don't improve for 10 rounds\n",
      "Early stopping, best iteration is:\n",
      "[174]\tvalid_0's l1: 3.99204\tvalid_0's l2: 43.1393\tvalid_0's huber: 3.24388\n"
     ]
    },
    {
     "name": "stderr",
     "output_type": "stream",
     "text": [
      "2020-09-21 01:01:23.112 | INFO     | yspecies.selection:fit:153 - SEED: 2 | FOLD: 3 | VALIDATION_SPECIES: ['Mesocricetus_auratus', 'Cavia_aperea']\n"
     ]
    },
    {
     "name": "stdout",
     "output_type": "stream",
     "text": [
      "Training until validation scores don't improve for 10 rounds\n",
      "Training until validation scores don't improve for 10 rounds\n",
      "[250]\tvalid_0's l1: 4.4965\tvalid_0's l2: 46.5168\tvalid_0's huber: 3.69979\n",
      "Did not meet early stopping. Best iteration is:\n",
      "[248]\tvalid_0's l1: 4.49453\tvalid_0's l2: 46.469\tvalid_0's huber: 3.69832\n"
     ]
    },
    {
     "name": "stderr",
     "output_type": "stream",
     "text": [
      "2020-09-21 01:01:34.545 | INFO     | yspecies.explanations:transform:494 - Metrics: \n",
      "Metrics(R2=0.9462962766896739, MAE=3.670643621349281, MSE=39.065735804557846, huber=2.963054656809254)\n",
      "2020-09-21 01:01:34.550 | INFO     | yspecies.selection:fit:149 - ===== fitting models with seed 3 =====\n",
      "2020-09-21 01:01:34.551 | INFO     | yspecies.selection:fit:150 - PARAMETERS:\n",
      "{'bagging_fraction': 0.757456996980591, 'boosting_type': 'gbdt', 'drop_rate': 0.15938150347995844, 'feature_fraction': 0.41345305892024875, 'lambda_l1': 2.9528782080363634, 'lambda_l2': 2.3536556238167003, 'learning_rate': 0.05373601286514567, 'max_depth': 3, 'max_leaves': 19, 'min_data_in_leaf': 8, 'objective': 'regression', 'metrics': ['l1', 'l2', 'huber'], 'verbose': -1, 'early_stopping_round': 10, 'seed': 2}\n",
      "2020-09-21 01:01:34.554 | INFO     | yspecies.selection:fit:153 - SEED: 3 | FOLD: 0 | VALIDATION_SPECIES: ['Otolemur_garnettii', 'Equus_caballus']\n",
      "Found `early_stopping_round` in params. Will use it instead of argument\n"
     ]
    },
    {
     "name": "stdout",
     "output_type": "stream",
     "text": [
      "Training until validation scores don't improve for 10 rounds\n",
      "Training until validation scores don't improve for 10 rounds\n",
      "Early stopping, best iteration is:\n",
      "[121]\tvalid_0's l1: 2.4796\tvalid_0's l2: 22.4618\tvalid_0's huber: 1.91821\n"
     ]
    },
    {
     "name": "stderr",
     "output_type": "stream",
     "text": [
      "2020-09-21 01:01:34.686 | INFO     | yspecies.selection:fit:153 - SEED: 3 | FOLD: 1 | VALIDATION_SPECIES: ['Ailuropoda_melanoleuca', 'Homo_sapiens']\n"
     ]
    },
    {
     "name": "stdout",
     "output_type": "stream",
     "text": [
      "Training until validation scores don't improve for 10 rounds\n",
      "Training until validation scores don't improve for 10 rounds\n",
      "Early stopping, best iteration is:\n",
      "[103]\tvalid_0's l1: 21.751\tvalid_0's l2: 1911.08\tvalid_0's huber: 19.2417\n"
     ]
    },
    {
     "name": "stderr",
     "output_type": "stream",
     "text": [
      "2020-09-21 01:01:34.783 | INFO     | yspecies.selection:fit:153 - SEED: 3 | FOLD: 2 | VALIDATION_SPECIES: ['Suricata_suricatta', 'Phascolarctos_cinereus']\n"
     ]
    },
    {
     "name": "stdout",
     "output_type": "stream",
     "text": [
      "Training until validation scores don't improve for 10 rounds\n",
      "Training until validation scores don't improve for 10 rounds\n",
      "Early stopping, best iteration is:\n",
      "[181]\tvalid_0's l1: 2.78355\tvalid_0's l2: 18.3474\tvalid_0's huber: 2.15456\n"
     ]
    },
    {
     "name": "stderr",
     "output_type": "stream",
     "text": [
      "2020-09-21 01:01:34.896 | INFO     | yspecies.selection:fit:153 - SEED: 3 | FOLD: 3 | VALIDATION_SPECIES: ['Heterocephalus_glaber', 'Monodelphis_domestica']\n"
     ]
    },
    {
     "name": "stdout",
     "output_type": "stream",
     "text": [
      "Training until validation scores don't improve for 10 rounds\n",
      "Training until validation scores don't improve for 10 rounds\n",
      "[250]\tvalid_0's l1: 6.79453\tvalid_0's l2: 99.6633\tvalid_0's huber: 5.76087\n",
      "Did not meet early stopping. Best iteration is:\n",
      "[250]\tvalid_0's l1: 6.79453\tvalid_0's l2: 99.6633\tvalid_0's huber: 5.76087\n"
     ]
    },
    {
     "name": "stderr",
     "output_type": "stream",
     "text": [
      "2020-09-21 01:01:44.394 | INFO     | yspecies.explanations:transform:494 - Metrics: \n",
      "Metrics(R2=0.6257634368927816, MAE=8.452163222129077, MSE=512.8884833433789, huber=7.25954363463277)\n",
      "2020-09-21 01:01:44.399 | INFO     | yspecies.selection:fit:149 - ===== fitting models with seed 4 =====\n",
      "2020-09-21 01:01:44.400 | INFO     | yspecies.selection:fit:150 - PARAMETERS:\n",
      "{'bagging_fraction': 0.757456996980591, 'boosting_type': 'gbdt', 'drop_rate': 0.15938150347995844, 'feature_fraction': 0.41345305892024875, 'lambda_l1': 2.9528782080363634, 'lambda_l2': 2.3536556238167003, 'learning_rate': 0.05373601286514567, 'max_depth': 3, 'max_leaves': 19, 'min_data_in_leaf': 8, 'objective': 'regression', 'metrics': ['l1', 'l2', 'huber'], 'verbose': -1, 'early_stopping_round': 10, 'seed': 3}\n",
      "2020-09-21 01:01:44.403 | INFO     | yspecies.selection:fit:153 - SEED: 4 | FOLD: 0 | VALIDATION_SPECIES: ['Macaca_mulatta', 'Gorilla_gorilla']\n",
      "Found `early_stopping_round` in params. Will use it instead of argument\n"
     ]
    },
    {
     "name": "stdout",
     "output_type": "stream",
     "text": [
      "Training until validation scores don't improve for 10 rounds\n",
      "Training until validation scores don't improve for 10 rounds\n",
      "Early stopping, best iteration is:\n",
      "[221]\tvalid_0's l1: 5.71982\tvalid_0's l2: 116.928\tvalid_0's huber: 4.81536\n"
     ]
    },
    {
     "name": "stderr",
     "output_type": "stream",
     "text": [
      "2020-09-21 01:01:44.525 | INFO     | yspecies.selection:fit:153 - SEED: 4 | FOLD: 1 | VALIDATION_SPECIES: ['Aotus_nancymaae', 'Ailuropoda_melanoleuca']\n"
     ]
    },
    {
     "name": "stdout",
     "output_type": "stream",
     "text": [
      "Training until validation scores don't improve for 10 rounds\n",
      "Training until validation scores don't improve for 10 rounds\n",
      "Early stopping, best iteration is:\n",
      "[145]\tvalid_0's l1: 1.76314\tvalid_0's l2: 7.78293\tvalid_0's huber: 1.27083\n"
     ]
    },
    {
     "name": "stderr",
     "output_type": "stream",
     "text": [
      "2020-09-21 01:01:44.609 | INFO     | yspecies.selection:fit:153 - SEED: 4 | FOLD: 2 | VALIDATION_SPECIES: ['Ursus_americanus', 'Meriones_unguiculatus']\n"
     ]
    },
    {
     "name": "stdout",
     "output_type": "stream",
     "text": [
      "Training until validation scores don't improve for 10 rounds\n",
      "Training until validation scores don't improve for 10 rounds\n",
      "Early stopping, best iteration is:\n",
      "[167]\tvalid_0's l1: 2.46817\tvalid_0's l2: 18.0957\tvalid_0's huber: 1.87437\n"
     ]
    },
    {
     "name": "stderr",
     "output_type": "stream",
     "text": [
      "2020-09-21 01:01:44.714 | INFO     | yspecies.selection:fit:153 - SEED: 4 | FOLD: 3 | VALIDATION_SPECIES: ['Mus_spicilegus', 'Equus_caballus']\n"
     ]
    },
    {
     "name": "stdout",
     "output_type": "stream",
     "text": [
      "Training until validation scores don't improve for 10 rounds\n",
      "Training until validation scores don't improve for 10 rounds\n",
      "Early stopping, best iteration is:\n",
      "[131]\tvalid_0's l1: 2.79231\tvalid_0's l2: 55.363\tvalid_0's huber: 2.21219\n"
     ]
    },
    {
     "name": "stderr",
     "output_type": "stream",
     "text": [
      "2020-09-21 01:01:56.545 | INFO     | yspecies.explanations:transform:494 - Metrics: \n",
      "Metrics(R2=0.8357595748117022, MAE=3.1858597229242074, MSE=49.5424741007465, huber=2.540847554247527)\n",
      "2020-09-21 01:01:56.551 | INFO     | yspecies.selection:fit:149 - ===== fitting models with seed 5 =====\n",
      "2020-09-21 01:01:56.551 | INFO     | yspecies.selection:fit:150 - PARAMETERS:\n",
      "{'bagging_fraction': 0.757456996980591, 'boosting_type': 'gbdt', 'drop_rate': 0.15938150347995844, 'feature_fraction': 0.41345305892024875, 'lambda_l1': 2.9528782080363634, 'lambda_l2': 2.3536556238167003, 'learning_rate': 0.05373601286514567, 'max_depth': 3, 'max_leaves': 19, 'min_data_in_leaf': 8, 'objective': 'regression', 'metrics': ['l1', 'l2', 'huber'], 'verbose': -1, 'early_stopping_round': 10, 'seed': 4}\n",
      "2020-09-21 01:01:56.555 | INFO     | yspecies.selection:fit:153 - SEED: 5 | FOLD: 0 | VALIDATION_SPECIES: ['Rattus_norvegicus', 'Sus_scrofa']\n",
      "Found `early_stopping_round` in params. Will use it instead of argument\n"
     ]
    },
    {
     "name": "stdout",
     "output_type": "stream",
     "text": [
      "Training until validation scores don't improve for 10 rounds\n",
      "Training until validation scores don't improve for 10 rounds\n",
      "Early stopping, best iteration is:\n",
      "[114]\tvalid_0's l1: 4.17931\tvalid_0's l2: 30.7018\tvalid_0's huber: 3.38356\n"
     ]
    },
    {
     "name": "stderr",
     "output_type": "stream",
     "text": [
      "2020-09-21 01:01:56.612 | INFO     | yspecies.selection:fit:153 - SEED: 5 | FOLD: 1 | VALIDATION_SPECIES: ['Rhinopithecus_bieti', 'Ursus_americanus']\n"
     ]
    },
    {
     "name": "stdout",
     "output_type": "stream",
     "text": [
      "Training until validation scores don't improve for 10 rounds\n",
      "Training until validation scores don't improve for 10 rounds\n",
      "[250]\tvalid_0's l1: 4.45687\tvalid_0's l2: 62.933\tvalid_0's huber: 3.6671\n",
      "Did not meet early stopping. Best iteration is:\n",
      "[250]\tvalid_0's l1: 4.45687\tvalid_0's l2: 62.933\tvalid_0's huber: 3.6671\n"
     ]
    },
    {
     "name": "stderr",
     "output_type": "stream",
     "text": [
      "2020-09-21 01:01:56.720 | INFO     | yspecies.selection:fit:153 - SEED: 5 | FOLD: 2 | VALIDATION_SPECIES: ['Ailuropoda_melanoleuca', 'Mus_spicilegus']\n"
     ]
    },
    {
     "name": "stdout",
     "output_type": "stream",
     "text": [
      "Training until validation scores don't improve for 10 rounds\n",
      "Training until validation scores don't improve for 10 rounds\n",
      "[250]\tvalid_0's l1: 3.39009\tvalid_0's l2: 29.5465\tvalid_0's huber: 2.70735\n",
      "Did not meet early stopping. Best iteration is:\n",
      "[250]\tvalid_0's l1: 3.39009\tvalid_0's l2: 29.5465\tvalid_0's huber: 2.70735\n"
     ]
    },
    {
     "name": "stderr",
     "output_type": "stream",
     "text": [
      "2020-09-21 01:01:56.831 | INFO     | yspecies.selection:fit:153 - SEED: 5 | FOLD: 3 | VALIDATION_SPECIES: ['Tupaia_belangeri', 'Meriones_unguiculatus']\n"
     ]
    },
    {
     "name": "stdout",
     "output_type": "stream",
     "text": [
      "Training until validation scores don't improve for 10 rounds\n",
      "Training until validation scores don't improve for 10 rounds\n",
      "Early stopping, best iteration is:\n",
      "[228]\tvalid_0's l1: 3.19739\tvalid_0's l2: 42.9577\tvalid_0's huber: 2.54302\n"
     ]
    },
    {
     "name": "stderr",
     "output_type": "stream",
     "text": [
      "2020-09-21 01:02:10.358 | INFO     | yspecies.explanations:transform:494 - Metrics: \n",
      "Metrics(R2=0.9417398387694671, MAE=3.805913862121055, MSE=41.534746130764894, huber=3.076001165993597)\n",
      "2020-09-21 01:02:10.363 | INFO     | yspecies.selection:fit:149 - ===== fitting models with seed 6 =====\n",
      "2020-09-21 01:02:10.364 | INFO     | yspecies.selection:fit:150 - PARAMETERS:\n",
      "{'bagging_fraction': 0.757456996980591, 'boosting_type': 'gbdt', 'drop_rate': 0.15938150347995844, 'feature_fraction': 0.41345305892024875, 'lambda_l1': 2.9528782080363634, 'lambda_l2': 2.3536556238167003, 'learning_rate': 0.05373601286514567, 'max_depth': 3, 'max_leaves': 19, 'min_data_in_leaf': 8, 'objective': 'regression', 'metrics': ['l1', 'l2', 'huber'], 'verbose': -1, 'early_stopping_round': 10, 'seed': 5}\n",
      "2020-09-21 01:02:10.369 | INFO     | yspecies.selection:fit:153 - SEED: 6 | FOLD: 0 | VALIDATION_SPECIES: ['Heterocephalus_glaber', 'Ursus_americanus']\n",
      "Found `early_stopping_round` in params. Will use it instead of argument\n"
     ]
    },
    {
     "name": "stdout",
     "output_type": "stream",
     "text": [
      "Training until validation scores don't improve for 10 rounds\n",
      "Training until validation scores don't improve for 10 rounds\n",
      "Early stopping, best iteration is:\n",
      "[180]\tvalid_0's l1: 3.46638\tvalid_0's l2: 32.1031\tvalid_0's huber: 2.76778\n"
     ]
    },
    {
     "name": "stderr",
     "output_type": "stream",
     "text": [
      "2020-09-21 01:02:10.451 | INFO     | yspecies.selection:fit:153 - SEED: 6 | FOLD: 1 | VALIDATION_SPECIES: ['Rattus_norvegicus', 'Capra_hircus']\n"
     ]
    },
    {
     "name": "stdout",
     "output_type": "stream",
     "text": [
      "Training until validation scores don't improve for 10 rounds\n",
      "Training until validation scores don't improve for 10 rounds\n",
      "[250]\tvalid_0's l1: 5.67722\tvalid_0's l2: 61.5234\tvalid_0's huber: 4.72441\n",
      "Did not meet early stopping. Best iteration is:\n",
      "[245]\tvalid_0's l1: 5.6755\tvalid_0's l2: 61.4916\tvalid_0's huber: 4.72314\n"
     ]
    },
    {
     "name": "stderr",
     "output_type": "stream",
     "text": [
      "2020-09-21 01:02:10.552 | INFO     | yspecies.selection:fit:153 - SEED: 6 | FOLD: 2 | VALIDATION_SPECIES: ['Canis_lupus_familiaris', 'Rhinopithecus_bieti']\n"
     ]
    },
    {
     "name": "stdout",
     "output_type": "stream",
     "text": [
      "Training until validation scores don't improve for 10 rounds\n",
      "Training until validation scores don't improve for 10 rounds\n",
      "[250]\tvalid_0's l1: 4.19513\tvalid_0's l2: 47.1787\tvalid_0's huber: 3.42774\n",
      "Did not meet early stopping. Best iteration is:\n",
      "[250]\tvalid_0's l1: 4.19513\tvalid_0's l2: 47.1787\tvalid_0's huber: 3.42774\n"
     ]
    },
    {
     "name": "stderr",
     "output_type": "stream",
     "text": [
      "2020-09-21 01:02:10.658 | INFO     | yspecies.selection:fit:153 - SEED: 6 | FOLD: 3 | VALIDATION_SPECIES: ['Microcebus_murinus', 'Gorilla_gorilla']\n"
     ]
    },
    {
     "name": "stdout",
     "output_type": "stream",
     "text": [
      "Training until validation scores don't improve for 10 rounds\n",
      "Training until validation scores don't improve for 10 rounds\n",
      "Early stopping, best iteration is:\n",
      "[157]\tvalid_0's l1: 5.41639\tvalid_0's l2: 87.5754\tvalid_0's huber: 4.51419\n"
     ]
    },
    {
     "name": "stderr",
     "output_type": "stream",
     "text": [
      "2020-09-21 01:02:22.761 | INFO     | yspecies.explanations:transform:494 - Metrics: \n",
      "Metrics(R2=0.9184722982041374, MAE=4.688352808490409, MSE=57.08718185034132, huber=3.858716208476385)\n",
      "2020-09-21 01:02:22.766 | INFO     | yspecies.selection:fit:149 - ===== fitting models with seed 7 =====\n",
      "2020-09-21 01:02:22.770 | INFO     | yspecies.selection:fit:150 - PARAMETERS:\n",
      "{'bagging_fraction': 0.757456996980591, 'boosting_type': 'gbdt', 'drop_rate': 0.15938150347995844, 'feature_fraction': 0.41345305892024875, 'lambda_l1': 2.9528782080363634, 'lambda_l2': 2.3536556238167003, 'learning_rate': 0.05373601286514567, 'max_depth': 3, 'max_leaves': 19, 'min_data_in_leaf': 8, 'objective': 'regression', 'metrics': ['l1', 'l2', 'huber'], 'verbose': -1, 'early_stopping_round': 10, 'seed': 6}\n",
      "2020-09-21 01:02:22.774 | INFO     | yspecies.selection:fit:153 - SEED: 7 | FOLD: 0 | VALIDATION_SPECIES: ['Pan_paniscus', 'Microcebus_murinus']\n",
      "Found `early_stopping_round` in params. Will use it instead of argument\n"
     ]
    },
    {
     "name": "stdout",
     "output_type": "stream",
     "text": [
      "Training until validation scores don't improve for 10 rounds\n",
      "Training until validation scores don't improve for 10 rounds\n",
      "[250]\tvalid_0's l1: 2.79416\tvalid_0's l2: 20.1696\tvalid_0's huber: 2.16502\n",
      "Did not meet early stopping. Best iteration is:\n",
      "[250]\tvalid_0's l1: 2.79416\tvalid_0's l2: 20.1696\tvalid_0's huber: 2.16502\n"
     ]
    },
    {
     "name": "stderr",
     "output_type": "stream",
     "text": [
      "2020-09-21 01:02:22.888 | INFO     | yspecies.selection:fit:153 - SEED: 7 | FOLD: 1 | VALIDATION_SPECIES: ['Equus_caballus', 'Phascolarctos_cinereus']\n"
     ]
    },
    {
     "name": "stdout",
     "output_type": "stream",
     "text": [
      "Training until validation scores don't improve for 10 rounds\n",
      "Training until validation scores don't improve for 10 rounds\n",
      "[250]\tvalid_0's l1: 4.6999\tvalid_0's l2: 94.0568\tvalid_0's huber: 3.91667\n",
      "Did not meet early stopping. Best iteration is:\n",
      "[250]\tvalid_0's l1: 4.6999\tvalid_0's l2: 94.0568\tvalid_0's huber: 3.91667\n"
     ]
    },
    {
     "name": "stderr",
     "output_type": "stream",
     "text": [
      "2020-09-21 01:02:23.004 | INFO     | yspecies.selection:fit:153 - SEED: 7 | FOLD: 2 | VALIDATION_SPECIES: ['Aotus_nancymaae', 'Oryctolagus_cuniculus']\n"
     ]
    },
    {
     "name": "stdout",
     "output_type": "stream",
     "text": [
      "Training until validation scores don't improve for 10 rounds\n",
      "Training until validation scores don't improve for 10 rounds\n",
      "Early stopping, best iteration is:\n",
      "[197]\tvalid_0's l1: 3.88987\tvalid_0's l2: 49.6432\tvalid_0's huber: 3.1665\n"
     ]
    },
    {
     "name": "stderr",
     "output_type": "stream",
     "text": [
      "2020-09-21 01:02:23.094 | INFO     | yspecies.selection:fit:153 - SEED: 7 | FOLD: 3 | VALIDATION_SPECIES: ['Sus_scrofa', 'Ailuropoda_melanoleuca']\n"
     ]
    },
    {
     "name": "stdout",
     "output_type": "stream",
     "text": [
      "Training until validation scores don't improve for 10 rounds\n",
      "Training until validation scores don't improve for 10 rounds\n",
      "Early stopping, best iteration is:\n",
      "[190]\tvalid_0's l1: 3.00906\tvalid_0's l2: 37.5192\tvalid_0's huber: 2.37852\n"
     ]
    },
    {
     "name": "stderr",
     "output_type": "stream",
     "text": [
      "2020-09-21 01:02:37.491 | INFO     | yspecies.explanations:transform:494 - Metrics: \n",
      "Metrics(R2=0.9356033790868941, MAE=3.598248893310192, MSE=50.3472015039728, huber=2.9066481027232984)\n",
      "2020-09-21 01:02:37.498 | INFO     | yspecies.selection:fit:149 - ===== fitting models with seed 8 =====\n",
      "2020-09-21 01:02:37.498 | INFO     | yspecies.selection:fit:150 - PARAMETERS:\n",
      "{'bagging_fraction': 0.757456996980591, 'boosting_type': 'gbdt', 'drop_rate': 0.15938150347995844, 'feature_fraction': 0.41345305892024875, 'lambda_l1': 2.9528782080363634, 'lambda_l2': 2.3536556238167003, 'learning_rate': 0.05373601286514567, 'max_depth': 3, 'max_leaves': 19, 'min_data_in_leaf': 8, 'objective': 'regression', 'metrics': ['l1', 'l2', 'huber'], 'verbose': -1, 'early_stopping_round': 10, 'seed': 7}\n",
      "2020-09-21 01:02:37.503 | INFO     | yspecies.selection:fit:153 - SEED: 8 | FOLD: 0 | VALIDATION_SPECIES: ['Equus_caballus', 'Capra_hircus']\n",
      "Found `early_stopping_round` in params. Will use it instead of argument\n"
     ]
    },
    {
     "name": "stdout",
     "output_type": "stream",
     "text": [
      "Training until validation scores don't improve for 10 rounds\n",
      "Training until validation scores don't improve for 10 rounds\n",
      "Early stopping, best iteration is:\n",
      "[237]\tvalid_0's l1: 2.83226\tvalid_0's l2: 33.3782\tvalid_0's huber: 2.21693\n"
     ]
    },
    {
     "name": "stderr",
     "output_type": "stream",
     "text": [
      "2020-09-21 01:02:37.617 | INFO     | yspecies.selection:fit:153 - SEED: 8 | FOLD: 1 | VALIDATION_SPECIES: ['Macaca_mulatta', 'Cavia_porcellus']\n"
     ]
    },
    {
     "name": "stdout",
     "output_type": "stream",
     "text": [
      "Training until validation scores don't improve for 10 rounds\n",
      "Training until validation scores don't improve for 10 rounds\n",
      "Early stopping, best iteration is:\n",
      "[144]\tvalid_0's l1: 3.37294\tvalid_0's l2: 40.4578\tvalid_0's huber: 2.68332\n"
     ]
    },
    {
     "name": "stderr",
     "output_type": "stream",
     "text": [
      "2020-09-21 01:02:37.688 | INFO     | yspecies.selection:fit:153 - SEED: 8 | FOLD: 2 | VALIDATION_SPECIES: ['Ailuropoda_melanoleuca', 'Phascolarctos_cinereus']\n"
     ]
    },
    {
     "name": "stdout",
     "output_type": "stream",
     "text": [
      "Training until validation scores don't improve for 10 rounds\n",
      "Training until validation scores don't improve for 10 rounds\n",
      "[250]\tvalid_0's l1: 2.82914\tvalid_0's l2: 24.5583\tvalid_0's huber: 2.20728\n",
      "Did not meet early stopping. Best iteration is:\n",
      "[250]\tvalid_0's l1: 2.82914\tvalid_0's l2: 24.5583\tvalid_0's huber: 2.20728\n"
     ]
    },
    {
     "name": "stderr",
     "output_type": "stream",
     "text": [
      "2020-09-21 01:02:37.793 | INFO     | yspecies.selection:fit:153 - SEED: 8 | FOLD: 3 | VALIDATION_SPECIES: ['Suricata_suricatta', 'Heterocephalus_glaber']\n"
     ]
    },
    {
     "name": "stdout",
     "output_type": "stream",
     "text": [
      "Training until validation scores don't improve for 10 rounds\n",
      "Training until validation scores don't improve for 10 rounds\n",
      "Early stopping, best iteration is:\n",
      "[180]\tvalid_0's l1: 3.69998\tvalid_0's l2: 59.2097\tvalid_0's huber: 2.98637\n"
     ]
    },
    {
     "name": "stderr",
     "output_type": "stream",
     "text": [
      "2020-09-21 01:02:51.559 | INFO     | yspecies.explanations:transform:494 - Metrics: \n",
      "Metrics(R2=0.9447215132199963, MAE=3.1835790783324223, MSE=39.400996057941924, huber=2.5206127857746226)\n",
      "2020-09-21 01:02:51.564 | INFO     | yspecies.selection:fit:149 - ===== fitting models with seed 9 =====\n",
      "2020-09-21 01:02:51.565 | INFO     | yspecies.selection:fit:150 - PARAMETERS:\n",
      "{'bagging_fraction': 0.757456996980591, 'boosting_type': 'gbdt', 'drop_rate': 0.15938150347995844, 'feature_fraction': 0.41345305892024875, 'lambda_l1': 2.9528782080363634, 'lambda_l2': 2.3536556238167003, 'learning_rate': 0.05373601286514567, 'max_depth': 3, 'max_leaves': 19, 'min_data_in_leaf': 8, 'objective': 'regression', 'metrics': ['l1', 'l2', 'huber'], 'verbose': -1, 'early_stopping_round': 10, 'seed': 8}\n",
      "2020-09-21 01:02:51.569 | INFO     | yspecies.selection:fit:153 - SEED: 9 | FOLD: 0 | VALIDATION_SPECIES: ['Oryctolagus_cuniculus', 'Bos_taurus']\n",
      "Found `early_stopping_round` in params. Will use it instead of argument\n"
     ]
    },
    {
     "name": "stdout",
     "output_type": "stream",
     "text": [
      "Training until validation scores don't improve for 10 rounds\n",
      "Training until validation scores don't improve for 10 rounds\n",
      "Early stopping, best iteration is:\n",
      "[105]\tvalid_0's l1: 3.35317\tvalid_0's l2: 32.4867\tvalid_0's huber: 2.65184\n"
     ]
    },
    {
     "name": "stderr",
     "output_type": "stream",
     "text": [
      "2020-09-21 01:02:51.637 | INFO     | yspecies.selection:fit:153 - SEED: 9 | FOLD: 1 | VALIDATION_SPECIES: ['Gorilla_gorilla', 'Tupaia_belangeri']\n"
     ]
    },
    {
     "name": "stdout",
     "output_type": "stream",
     "text": [
      "Training until validation scores don't improve for 10 rounds\n",
      "Training until validation scores don't improve for 10 rounds\n",
      "[250]\tvalid_0's l1: 5.59288\tvalid_0's l2: 83.5413\tvalid_0's huber: 4.67803\n",
      "Did not meet early stopping. Best iteration is:\n",
      "[249]\tvalid_0's l1: 5.59134\tvalid_0's l2: 83.4606\tvalid_0's huber: 4.67679\n"
     ]
    },
    {
     "name": "stderr",
     "output_type": "stream",
     "text": [
      "2020-09-21 01:02:51.740 | INFO     | yspecies.selection:fit:153 - SEED: 9 | FOLD: 2 | VALIDATION_SPECIES: ['Mus_musculus', 'Ictidomys_tridecemlineatus']\n"
     ]
    },
    {
     "name": "stdout",
     "output_type": "stream",
     "text": [
      "Training until validation scores don't improve for 10 rounds\n",
      "Training until validation scores don't improve for 10 rounds\n",
      "Early stopping, best iteration is:\n",
      "[175]\tvalid_0's l1: 2.48341\tvalid_0's l2: 14.9513\tvalid_0's huber: 1.88996\n"
     ]
    },
    {
     "name": "stderr",
     "output_type": "stream",
     "text": [
      "2020-09-21 01:02:51.831 | INFO     | yspecies.selection:fit:153 - SEED: 9 | FOLD: 3 | VALIDATION_SPECIES: ['Homo_sapiens', 'Otolemur_garnettii']\n"
     ]
    },
    {
     "name": "stdout",
     "output_type": "stream",
     "text": [
      "Training until validation scores don't improve for 10 rounds\n",
      "Training until validation scores don't improve for 10 rounds\n",
      "[250]\tvalid_0's l1: 21.7979\tvalid_0's l2: 1941.3\tvalid_0's huber: 19.2941\n",
      "Did not meet early stopping. Best iteration is:\n",
      "[249]\tvalid_0's l1: 21.7976\tvalid_0's l2: 1941.42\tvalid_0's huber: 19.2943\n"
     ]
    },
    {
     "name": "stderr",
     "output_type": "stream",
     "text": [
      "2020-09-21 01:03:04.841 | INFO     | yspecies.explanations:transform:494 - Metrics: \n",
      "Metrics(R2=0.6538523640752132, MAE=8.306377456176657, MSE=518.0797102896187, huber=7.122683660075034)\n"
     ]
    },
    {
     "data": {
      "text/html": [
       "<div>\n",
       "<style scoped>\n",
       "    .dataframe tbody tr th:only-of-type {\n",
       "        vertical-align: middle;\n",
       "    }\n",
       "\n",
       "    .dataframe tbody tr th {\n",
       "        vertical-align: top;\n",
       "    }\n",
       "\n",
       "    .dataframe thead th {\n",
       "        text-align: right;\n",
       "    }\n",
       "</style>\n",
       "<table border=\"1\" class=\"dataframe\">\n",
       "  <thead>\n",
       "    <tr style=\"text-align: right;\">\n",
       "      <th></th>\n",
       "      <th>symbol</th>\n",
       "      <th>repeats</th>\n",
       "      <th>mean_shap</th>\n",
       "      <th>mean_kendall_tau</th>\n",
       "      <th>shap_0</th>\n",
       "      <th>kendall_tau_0</th>\n",
       "      <th>shap_1</th>\n",
       "      <th>kendall_tau_1</th>\n",
       "      <th>shap_2</th>\n",
       "      <th>kendall_tau_2</th>\n",
       "      <th>...</th>\n",
       "      <th>shap_5</th>\n",
       "      <th>kendall_tau_5</th>\n",
       "      <th>shap_6</th>\n",
       "      <th>kendall_tau_6</th>\n",
       "      <th>shap_7</th>\n",
       "      <th>kendall_tau_7</th>\n",
       "      <th>shap_8</th>\n",
       "      <th>kendall_tau_8</th>\n",
       "      <th>shap_9</th>\n",
       "      <th>kendall_tau_9</th>\n",
       "    </tr>\n",
       "  </thead>\n",
       "  <tbody>\n",
       "    <tr>\n",
       "      <th>ENSG00000167515</th>\n",
       "      <td>TRAPPC2L</td>\n",
       "      <td>10.0</td>\n",
       "      <td>22.250</td>\n",
       "      <td>-0.286302</td>\n",
       "      <td>28.50</td>\n",
       "      <td>-0.321438</td>\n",
       "      <td>15.75</td>\n",
       "      <td>-0.222454</td>\n",
       "      <td>19.50</td>\n",
       "      <td>-0.262519</td>\n",
       "      <td>...</td>\n",
       "      <td>20.00</td>\n",
       "      <td>-0.198476</td>\n",
       "      <td>21.00</td>\n",
       "      <td>-0.216406</td>\n",
       "      <td>24.25</td>\n",
       "      <td>-0.467742</td>\n",
       "      <td>23.00</td>\n",
       "      <td>-0.259238</td>\n",
       "      <td>20.25</td>\n",
       "      <td>-0.318612</td>\n",
       "    </tr>\n",
       "    <tr>\n",
       "      <th>ENSG00000010219</th>\n",
       "      <td>DYRK4</td>\n",
       "      <td>10.0</td>\n",
       "      <td>21.300</td>\n",
       "      <td>0.499266</td>\n",
       "      <td>19.25</td>\n",
       "      <td>0.463278</td>\n",
       "      <td>32.25</td>\n",
       "      <td>0.442642</td>\n",
       "      <td>21.00</td>\n",
       "      <td>0.531262</td>\n",
       "      <td>...</td>\n",
       "      <td>26.25</td>\n",
       "      <td>0.465746</td>\n",
       "      <td>24.50</td>\n",
       "      <td>0.568590</td>\n",
       "      <td>17.75</td>\n",
       "      <td>0.508938</td>\n",
       "      <td>20.50</td>\n",
       "      <td>0.359008</td>\n",
       "      <td>21.75</td>\n",
       "      <td>0.503933</td>\n",
       "    </tr>\n",
       "    <tr>\n",
       "      <th>ENSG00000165501</th>\n",
       "      <td>LRR1</td>\n",
       "      <td>10.0</td>\n",
       "      <td>18.725</td>\n",
       "      <td>0.714162</td>\n",
       "      <td>18.50</td>\n",
       "      <td>0.718542</td>\n",
       "      <td>21.00</td>\n",
       "      <td>0.651679</td>\n",
       "      <td>20.00</td>\n",
       "      <td>0.782146</td>\n",
       "      <td>...</td>\n",
       "      <td>17.75</td>\n",
       "      <td>0.711321</td>\n",
       "      <td>21.25</td>\n",
       "      <td>0.766833</td>\n",
       "      <td>21.25</td>\n",
       "      <td>0.704064</td>\n",
       "      <td>19.75</td>\n",
       "      <td>0.712844</td>\n",
       "      <td>16.25</td>\n",
       "      <td>0.714709</td>\n",
       "    </tr>\n",
       "    <tr>\n",
       "      <th>ENSG00000142002</th>\n",
       "      <td>DPP9</td>\n",
       "      <td>10.0</td>\n",
       "      <td>18.175</td>\n",
       "      <td>-0.790741</td>\n",
       "      <td>30.25</td>\n",
       "      <td>-0.755341</td>\n",
       "      <td>19.00</td>\n",
       "      <td>-0.817381</td>\n",
       "      <td>18.00</td>\n",
       "      <td>-0.808785</td>\n",
       "      <td>...</td>\n",
       "      <td>18.25</td>\n",
       "      <td>-0.857853</td>\n",
       "      <td>12.25</td>\n",
       "      <td>-0.790998</td>\n",
       "      <td>13.75</td>\n",
       "      <td>-0.782503</td>\n",
       "      <td>14.50</td>\n",
       "      <td>-0.811251</td>\n",
       "      <td>21.25</td>\n",
       "      <td>-0.784845</td>\n",
       "    </tr>\n",
       "    <tr>\n",
       "      <th>ENSG00000105672</th>\n",
       "      <td>ETV2</td>\n",
       "      <td>10.0</td>\n",
       "      <td>17.450</td>\n",
       "      <td>0.695006</td>\n",
       "      <td>29.50</td>\n",
       "      <td>0.707315</td>\n",
       "      <td>13.00</td>\n",
       "      <td>0.723869</td>\n",
       "      <td>19.25</td>\n",
       "      <td>0.655049</td>\n",
       "      <td>...</td>\n",
       "      <td>26.75</td>\n",
       "      <td>0.742832</td>\n",
       "      <td>19.25</td>\n",
       "      <td>0.706593</td>\n",
       "      <td>12.25</td>\n",
       "      <td>0.663985</td>\n",
       "      <td>8.25</td>\n",
       "      <td>0.669160</td>\n",
       "      <td>18.00</td>\n",
       "      <td>0.659691</td>\n",
       "    </tr>\n",
       "    <tr>\n",
       "      <th>...</th>\n",
       "      <td>...</td>\n",
       "      <td>...</td>\n",
       "      <td>...</td>\n",
       "      <td>...</td>\n",
       "      <td>...</td>\n",
       "      <td>...</td>\n",
       "      <td>...</td>\n",
       "      <td>...</td>\n",
       "      <td>...</td>\n",
       "      <td>...</td>\n",
       "      <td>...</td>\n",
       "      <td>...</td>\n",
       "      <td>...</td>\n",
       "      <td>...</td>\n",
       "      <td>...</td>\n",
       "      <td>...</td>\n",
       "      <td>...</td>\n",
       "      <td>...</td>\n",
       "      <td>...</td>\n",
       "      <td>...</td>\n",
       "      <td>...</td>\n",
       "    </tr>\n",
       "    <tr>\n",
       "      <th>ENSG00000162624</th>\n",
       "      <td>LHX8</td>\n",
       "      <td>1.0</td>\n",
       "      <td>4.250</td>\n",
       "      <td>-0.661514</td>\n",
       "      <td>NaN</td>\n",
       "      <td>NaN</td>\n",
       "      <td>NaN</td>\n",
       "      <td>NaN</td>\n",
       "      <td>NaN</td>\n",
       "      <td>NaN</td>\n",
       "      <td>...</td>\n",
       "      <td>NaN</td>\n",
       "      <td>NaN</td>\n",
       "      <td>4.25</td>\n",
       "      <td>-0.661514</td>\n",
       "      <td>NaN</td>\n",
       "      <td>NaN</td>\n",
       "      <td>NaN</td>\n",
       "      <td>NaN</td>\n",
       "      <td>NaN</td>\n",
       "      <td>NaN</td>\n",
       "    </tr>\n",
       "    <tr>\n",
       "      <th>ENSG00000100908</th>\n",
       "      <td>EMC9</td>\n",
       "      <td>1.0</td>\n",
       "      <td>3.750</td>\n",
       "      <td>0.275034</td>\n",
       "      <td>NaN</td>\n",
       "      <td>NaN</td>\n",
       "      <td>NaN</td>\n",
       "      <td>NaN</td>\n",
       "      <td>NaN</td>\n",
       "      <td>NaN</td>\n",
       "      <td>...</td>\n",
       "      <td>NaN</td>\n",
       "      <td>NaN</td>\n",
       "      <td>NaN</td>\n",
       "      <td>NaN</td>\n",
       "      <td>3.75</td>\n",
       "      <td>0.275034</td>\n",
       "      <td>NaN</td>\n",
       "      <td>NaN</td>\n",
       "      <td>NaN</td>\n",
       "      <td>NaN</td>\n",
       "    </tr>\n",
       "    <tr>\n",
       "      <th>ENSG00000108556</th>\n",
       "      <td>CHRNE</td>\n",
       "      <td>1.0</td>\n",
       "      <td>3.250</td>\n",
       "      <td>-0.641954</td>\n",
       "      <td>NaN</td>\n",
       "      <td>NaN</td>\n",
       "      <td>NaN</td>\n",
       "      <td>NaN</td>\n",
       "      <td>NaN</td>\n",
       "      <td>NaN</td>\n",
       "      <td>...</td>\n",
       "      <td>NaN</td>\n",
       "      <td>NaN</td>\n",
       "      <td>NaN</td>\n",
       "      <td>NaN</td>\n",
       "      <td>NaN</td>\n",
       "      <td>NaN</td>\n",
       "      <td>3.25</td>\n",
       "      <td>-0.641954</td>\n",
       "      <td>NaN</td>\n",
       "      <td>NaN</td>\n",
       "    </tr>\n",
       "    <tr>\n",
       "      <th>ENSG00000144214</th>\n",
       "      <td>LYG1</td>\n",
       "      <td>1.0</td>\n",
       "      <td>3.000</td>\n",
       "      <td>0.016361</td>\n",
       "      <td>NaN</td>\n",
       "      <td>NaN</td>\n",
       "      <td>NaN</td>\n",
       "      <td>NaN</td>\n",
       "      <td>NaN</td>\n",
       "      <td>NaN</td>\n",
       "      <td>...</td>\n",
       "      <td>3.00</td>\n",
       "      <td>0.016361</td>\n",
       "      <td>NaN</td>\n",
       "      <td>NaN</td>\n",
       "      <td>NaN</td>\n",
       "      <td>NaN</td>\n",
       "      <td>NaN</td>\n",
       "      <td>NaN</td>\n",
       "      <td>NaN</td>\n",
       "      <td>NaN</td>\n",
       "    </tr>\n",
       "    <tr>\n",
       "      <th>ENSG00000087460</th>\n",
       "      <td>GNAS</td>\n",
       "      <td>1.0</td>\n",
       "      <td>1.750</td>\n",
       "      <td>-0.175441</td>\n",
       "      <td>NaN</td>\n",
       "      <td>NaN</td>\n",
       "      <td>NaN</td>\n",
       "      <td>NaN</td>\n",
       "      <td>NaN</td>\n",
       "      <td>NaN</td>\n",
       "      <td>...</td>\n",
       "      <td>NaN</td>\n",
       "      <td>NaN</td>\n",
       "      <td>1.75</td>\n",
       "      <td>-0.175441</td>\n",
       "      <td>NaN</td>\n",
       "      <td>NaN</td>\n",
       "      <td>NaN</td>\n",
       "      <td>NaN</td>\n",
       "      <td>NaN</td>\n",
       "      <td>NaN</td>\n",
       "    </tr>\n",
       "  </tbody>\n",
       "</table>\n",
       "<p>139 rows × 24 columns</p>\n",
       "</div>"
      ],
      "text/plain": [
       "                   symbol  repeats  mean_shap  mean_kendall_tau  shap_0  \\\n",
       "ENSG00000167515  TRAPPC2L     10.0     22.250         -0.286302   28.50   \n",
       "ENSG00000010219     DYRK4     10.0     21.300          0.499266   19.25   \n",
       "ENSG00000165501      LRR1     10.0     18.725          0.714162   18.50   \n",
       "ENSG00000142002      DPP9     10.0     18.175         -0.790741   30.25   \n",
       "ENSG00000105672      ETV2     10.0     17.450          0.695006   29.50   \n",
       "...                   ...      ...        ...               ...     ...   \n",
       "ENSG00000162624      LHX8      1.0      4.250         -0.661514     NaN   \n",
       "ENSG00000100908      EMC9      1.0      3.750          0.275034     NaN   \n",
       "ENSG00000108556     CHRNE      1.0      3.250         -0.641954     NaN   \n",
       "ENSG00000144214      LYG1      1.0      3.000          0.016361     NaN   \n",
       "ENSG00000087460      GNAS      1.0      1.750         -0.175441     NaN   \n",
       "\n",
       "                 kendall_tau_0  shap_1  kendall_tau_1  shap_2  kendall_tau_2  \\\n",
       "ENSG00000167515      -0.321438   15.75      -0.222454   19.50      -0.262519   \n",
       "ENSG00000010219       0.463278   32.25       0.442642   21.00       0.531262   \n",
       "ENSG00000165501       0.718542   21.00       0.651679   20.00       0.782146   \n",
       "ENSG00000142002      -0.755341   19.00      -0.817381   18.00      -0.808785   \n",
       "ENSG00000105672       0.707315   13.00       0.723869   19.25       0.655049   \n",
       "...                        ...     ...            ...     ...            ...   \n",
       "ENSG00000162624            NaN     NaN            NaN     NaN            NaN   \n",
       "ENSG00000100908            NaN     NaN            NaN     NaN            NaN   \n",
       "ENSG00000108556            NaN     NaN            NaN     NaN            NaN   \n",
       "ENSG00000144214            NaN     NaN            NaN     NaN            NaN   \n",
       "ENSG00000087460            NaN     NaN            NaN     NaN            NaN   \n",
       "\n",
       "                 ...  shap_5  kendall_tau_5  shap_6  kendall_tau_6  shap_7  \\\n",
       "ENSG00000167515  ...   20.00      -0.198476   21.00      -0.216406   24.25   \n",
       "ENSG00000010219  ...   26.25       0.465746   24.50       0.568590   17.75   \n",
       "ENSG00000165501  ...   17.75       0.711321   21.25       0.766833   21.25   \n",
       "ENSG00000142002  ...   18.25      -0.857853   12.25      -0.790998   13.75   \n",
       "ENSG00000105672  ...   26.75       0.742832   19.25       0.706593   12.25   \n",
       "...              ...     ...            ...     ...            ...     ...   \n",
       "ENSG00000162624  ...     NaN            NaN    4.25      -0.661514     NaN   \n",
       "ENSG00000100908  ...     NaN            NaN     NaN            NaN    3.75   \n",
       "ENSG00000108556  ...     NaN            NaN     NaN            NaN     NaN   \n",
       "ENSG00000144214  ...    3.00       0.016361     NaN            NaN     NaN   \n",
       "ENSG00000087460  ...     NaN            NaN    1.75      -0.175441     NaN   \n",
       "\n",
       "                 kendall_tau_7  shap_8  kendall_tau_8  shap_9  kendall_tau_9  \n",
       "ENSG00000167515      -0.467742   23.00      -0.259238   20.25      -0.318612  \n",
       "ENSG00000010219       0.508938   20.50       0.359008   21.75       0.503933  \n",
       "ENSG00000165501       0.704064   19.75       0.712844   16.25       0.714709  \n",
       "ENSG00000142002      -0.782503   14.50      -0.811251   21.25      -0.784845  \n",
       "ENSG00000105672       0.663985    8.25       0.669160   18.00       0.659691  \n",
       "...                        ...     ...            ...     ...            ...  \n",
       "ENSG00000162624            NaN     NaN            NaN     NaN            NaN  \n",
       "ENSG00000100908       0.275034     NaN            NaN     NaN            NaN  \n",
       "ENSG00000108556            NaN    3.25      -0.641954     NaN            NaN  \n",
       "ENSG00000144214            NaN     NaN            NaN     NaN            NaN  \n",
       "ENSG00000087460            NaN     NaN            NaN     NaN            NaN  \n",
       "\n",
       "[139 rows x 24 columns]"
      ]
     },
     "execution_count": 24,
     "metadata": {},
     "output_type": "execute_result"
    }
   ],
   "source": [
    "lifespan_2 = run_stage_two(\"lifespan\", False)\n",
    "lifespan_2.selected"
   ]
  },
  {
   "cell_type": "code",
   "execution_count": 28,
   "metadata": {},
   "outputs": [
    {
     "data": {
      "text/plain": [
       "Metrics(R2=0.8191444901967483, MAE=5.333966978785094, MSE=222.05742597246913, huber=4.458840087515799)"
      ]
     },
     "execution_count": 28,
     "metadata": {},
     "output_type": "execute_result"
    }
   ],
   "source": [
    "lifespan_2.metrics_average"
   ]
  },
  {
   "cell_type": "code",
   "execution_count": 29,
   "metadata": {},
   "outputs": [
    {
     "data": {
      "text/plain": [
       "0.8420848215012047"
      ]
     },
     "execution_count": 29,
     "metadata": {},
     "output_type": "execute_result"
    }
   ],
   "source": [
    "lifespan_2.validation_metrics[\"R^2\"].mean()"
   ]
  },
  {
   "cell_type": "code",
   "execution_count": null,
   "metadata": {},
   "outputs": [],
   "source": [
    "lifespan_2.plot(max_display=30, plot_size=0.4)"
   ]
  },
  {
   "cell_type": "code",
   "execution_count": 26,
   "metadata": {},
   "outputs": [],
   "source": [
    "lifespan_2.selected.to_csv(locations.output.stage_two / \"lifespan.tsv\", sep=\"\\t\", index_label=\"reference_gene\")"
   ]
  },
  {
   "cell_type": "code",
   "execution_count": null,
   "metadata": {},
   "outputs": [],
   "source": [
    "summary_stage_two_plot_path = locations.output.dir / \"plots\" / \"stage_two_summary_lifespan.svg\"\n",
    "lifespan_2.plot(title=40, plot_size=0.5, save=summary_stage_two_plot_path )"
   ]
  },
  {
   "cell_type": "code",
   "execution_count": null,
   "metadata": {},
   "outputs": [],
   "source": [
    "lifespan_2.write(partitions_folder , \"lifespan_stage_two\")"
   ]
  },
  {
   "cell_type": "code",
   "execution_count": null,
   "metadata": {},
   "outputs": [],
   "source": []
  }
 ],
 "metadata": {
  "kernelspec": {
   "display_name": "Python 3",
   "language": "python",
   "name": "python3"
  },
  "language_info": {
   "codemirror_mode": {
    "name": "ipython",
    "version": 3
   },
   "file_extension": ".py",
   "mimetype": "text/x-python",
   "name": "python",
   "nbconvert_exporter": "python",
   "pygments_lexer": "ipython3",
   "version": "3.8.5"
  }
 },
 "nbformat": 4,
 "nbformat_minor": 4
}
