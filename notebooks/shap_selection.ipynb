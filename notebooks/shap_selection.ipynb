{
 "cells": [
  {
   "cell_type": "markdown",
   "metadata": {},
   "source": [
    "# SHAP feature selection #\n",
    "## Code to select feature with combination of LightGBM and SHAP ##"
   ]
  },
  {
   "cell_type": "markdown",
   "metadata": {},
   "source": [
    "## Parameters cell ##\n",
    "\n",
    "Parameters are overiddent by papermill when run inside DVC stages\n",
    "\n"
   ]
  },
  {
   "cell_type": "code",
   "execution_count": 1,
   "metadata": {
    "tags": [
     "parameters"
    ]
   },
   "outputs": [],
   "source": [
    "n_folds = 5 # this sets global setting of which how many bootstraps to use\n",
    "n_hold_out = 1\n",
    "repeats = 5\n",
    "\n",
    "#first round of optimization\n",
    "lgb_params = {\n",
    " \"objective\": \"regression\",\n",
    " 'boosting_type': 'gbdt', \n",
    " 'metric': ['mae','mse', 'huber'],\n",
    " 'lambda_l1': 0.03674546022666247, \n",
    " 'lambda_l2': 2.5025758383109715, \n",
    " 'max_leaves': 22,\n",
    " 'max_depth': 6, \n",
    " 'feature_fraction': 0.741996402547356, \n",
    " 'bagging_fraction': 0.8929839112500518, \n",
    " 'learning_rate': 0.0892243160116563, \n",
    " 'min_data_in_leaf': 5, \n",
    " 'drop_rate': 0.14842616274718734    \n",
    "}\n",
    "\n",
    "debug_local = True #to use local version"
   ]
  },
  {
   "cell_type": "code",
   "execution_count": 2,
   "metadata": {},
   "outputs": [
    {
     "name": "stdout",
     "output_type": "stream",
     "text": [
      "extending pathes with local yspecies\n",
      "['..', '/data/sources/yspecies/notebooks', '/opt/miniconda3/envs/yspecies/lib/python38.zip', '/opt/miniconda3/envs/yspecies/lib/python3.8', '/opt/miniconda3/envs/yspecies/lib/python3.8/lib-dynload', '', '/opt/miniconda3/envs/yspecies/lib/python3.8/site-packages', '/opt/miniconda3/envs/yspecies/lib/python3.8/site-packages/IPython/extensions', '/home/antonkulaga/.ipython']\n"
     ]
    }
   ],
   "source": [
    "from pathlib import Path\n",
    "import sys\n",
    "import inspect\n",
    "\n",
    "local = (Path(\"..\") / \"yspecies\").resolve()\n",
    "if debug_local and local.exists():\n",
    "  sys.path.insert(0, Path(\"..\").as_posix())\n",
    "  #sys.path.insert(0, local.as_posix())\n",
    "  print(\"extending pathes with local yspecies\")\n",
    "  print(sys.path)\n",
    "  %load_ext autoreload\n",
    "  %autoreload 2"
   ]
  },
  {
   "cell_type": "code",
   "execution_count": 3,
   "metadata": {},
   "outputs": [],
   "source": [
    "from dataclasses import dataclass, replace\n",
    "import numpy as np\n",
    "import pandas as pd\n",
    "from sklearn.pipeline import Pipeline\n",
    "import seaborn as sns\n",
    "import matplotlib.pyplot as plt"
   ]
  },
  {
   "cell_type": "code",
   "execution_count": 4,
   "metadata": {},
   "outputs": [],
   "source": [
    "from typing import *\n",
    "from yspecies.dataset import *\n",
    "from yspecies.utils import *\n",
    "from yspecies.workflow import TupleWith, Repeat, Collect\n",
    "from yspecies.config import *\n",
    "from yspecies.preprocess import FeatureSelection, DataExtractor\n",
    "from yspecies.partition import DataPartitioner, PartitionParameters\n",
    "from yspecies.models import Metrics\n",
    "from yspecies.selection import ShapSelector\n",
    "from yspecies.results import FeatureSummary"
   ]
  },
  {
   "cell_type": "code",
   "execution_count": 5,
   "metadata": {},
   "outputs": [
    {
     "name": "stdout",
     "output_type": "stream",
     "text": [
      "Using matplotlib backend: TkAgg\n"
     ]
    }
   ],
   "source": [
    "#settings\n",
    "pd.set_option('display.max_columns', None)\n",
    "pd.set_option('display.max_rows', None)\n",
    "pd.set_option('display.float_format', lambda x: '%.3f' % x)\n",
    "import pprint\n",
    "pp = pprint.PrettyPrinter(indent=4)\n",
    "\n",
    "#charts settings\n",
    "import matplotlib.pyplot as plt\n",
    "from IPython.display import set_matplotlib_formats\n",
    "%matplotlib auto\n",
    "plt.ioff()\n",
    "set_matplotlib_formats('svg')"
   ]
  },
  {
   "cell_type": "markdown",
   "metadata": {},
   "source": [
    "### Loading data ###\n",
    "Let's load data from species/genes/expressions selected by select_samples.py notebook"
   ]
  },
  {
   "cell_type": "code",
   "execution_count": 6,
   "metadata": {},
   "outputs": [],
   "source": [
    "from pathlib import Path\n",
    "locations: Locations = Locations(\"./\") if Path(\"./data\").exists() else Locations(\"../\")"
   ]
  },
  {
   "cell_type": "code",
   "execution_count": 7,
   "metadata": {},
   "outputs": [
    {
     "data": {
      "text/html": [
       "<table border='2'><caption>selected<caption><tr><th>expressions</th><th>genes</th><th>species</th><th>samples</th><th>Genes Metadata</th><th>Species Metadata</th></tr><tr><td>(408, 12323)</td><td>12323</td><td>38</td><td>408</td><td>(12323, 2)</td><td>(38, 19)</td></tr></table>"
      ],
      "text/plain": [
       "<yspecies.dataset.ExpressionDataset at 0x7f83c04a0550>"
      ]
     },
     "execution_count": 7,
     "metadata": {},
     "output_type": "execute_result"
    }
   ],
   "source": [
    "data = ExpressionDataset.from_folder(locations.interim.selected)\n",
    "data"
   ]
  },
  {
   "cell_type": "markdown",
   "metadata": {},
   "source": [
    "## Setting up SHAP selection pipeline ##"
   ]
  },
  {
   "cell_type": "markdown",
   "metadata": {},
   "source": [
    "Deciding on selection parameters (which fields to include, exclude, predict)"
   ]
  },
  {
   "cell_type": "code",
   "execution_count": 8,
   "metadata": {},
   "outputs": [],
   "source": [
    "partition_params = PartitionParameters(n_folds, n_hold_out, 2, [],  42)\n"
   ]
  },
  {
   "cell_type": "code",
   "execution_count": 9,
   "metadata": {},
   "outputs": [],
   "source": [
    "partition_shap_pipe = Pipeline([\n",
    "    (\"partitioner\", DataPartitioner()),\n",
    "    ('prepare_for_partitioning', TupleWith(lgb_params)),\n",
    "    (\"shap_computation\", ShapSelector())\n",
    "]\n",
    ")\n",
    "repeated_cv =  Repeat(partition_shap_pipe, repeats, lambda x,i: (x[0], replace(x[1], seed = i)))"
   ]
  },
  {
   "cell_type": "code",
   "execution_count": 10,
   "metadata": {},
   "outputs": [],
   "source": [
    "selection_pipeline =  Pipeline(\n",
    "    [\n",
    "    ('extractor', DataExtractor()),\n",
    "    ('prepare_for_partitioning', TupleWith(partition_params)), # to extract the data required for ML from the dataset\n",
    "    (\"partition_shap\", repeated_cv),\n",
    "    (\"summarize\", Collect(fold=lambda results: FeatureSummary(results)))\n",
    "    ]\n",
    "    )"
   ]
  },
  {
   "cell_type": "markdown",
   "metadata": {},
   "source": [
    "## Setting up features to select ##"
   ]
  },
  {
   "cell_type": "code",
   "execution_count": 11,
   "metadata": {},
   "outputs": [],
   "source": [
    "selection = FeatureSelection(\n",
    "    samples = [\"tissue\",\"species\"], #samples metadata to include\n",
    "    species =  [], #species metadata other then Y label to include\n",
    "    exclude_from_training = [\"species\"],  #exclude some fields from LightGBM training\n",
    "    to_predict = \"lifespan\", #column to predict\n",
    "    categorical = [\"tissue\"],\n",
    "    select_by = \"gain\",\n",
    "    importance_type = \"gain\",\n",
    "    clean_y_na = True\n",
    ")"
   ]
  },
  {
   "cell_type": "markdown",
   "metadata": {},
   "source": [
    "# First stage selection (gain ) #"
   ]
  },
  {
   "cell_type": "markdown",
   "metadata": {},
   "source": [
    "#### Lifespan ####"
   ]
  },
  {
   "cell_type": "markdown",
   "metadata": {},
   "source": [
    "select_lifespan = selection\n",
    "stage_one_lifespan = selection_pipeline.fit_transform((data, select_lifespan))\n",
    "print(stage_one_lifespan.average_metrics)\n",
    "stage_one_lifespan.selected"
   ]
  },
  {
   "cell_type": "code",
   "execution_count": 13,
   "metadata": {},
   "outputs": [
    {
     "data": {
      "text/plain": [
       "array(['TRAPPC2L', 'ETV2', 'MAN2B2', 'RPL13A'], dtype=object)"
      ]
     },
     "execution_count": 13,
     "metadata": {},
     "output_type": "execute_result"
    }
   ],
   "source": [
    "stage_one_lifespan.selected[\"symbol\"].values"
   ]
  },
  {
   "cell_type": "code",
   "execution_count": 14,
   "metadata": {},
   "outputs": [],
   "source": [
    "select_mass = replace(selection, to_predict = \"mass_g\")\n",
    "select_gestation = replace(selection, to_predict = \"gestation\")\n",
    "select_mtgc = replace(selection, to_predict = \"mtGC\")"
   ]
  },
  {
   "cell_type": "markdown",
   "metadata": {},
   "source": [
    "#### Mass ####"
   ]
  },
  {
   "cell_type": "code",
   "execution_count": 15,
   "metadata": {},
   "outputs": [],
   "source": [
    "select_mass = replace(selection, to_predict = \"mass_g\")\n",
    "#stage_one_mass = selection_pipeline.fit_transform((data, select_mass))\n",
    "#print(stage_one_mass.average_metrics)\n",
    "#stage_one_mass.selected"
   ]
  },
  {
   "cell_type": "markdown",
   "metadata": {},
   "source": [
    "# First stage selection (shap ) #"
   ]
  },
  {
   "cell_type": "code",
   "execution_count": 16,
   "metadata": {},
   "outputs": [
    {
     "name": "stdout",
     "output_type": "stream",
     "text": [
      "Training until validation scores don't improve for 10 rounds\n",
      "Early stopping, best iteration is:\n",
      "[18]\tvalid_0's l1: 24.9011\tvalid_0's l2: 2316.23\tvalid_0's huber: 22.0143\n",
      "Training until validation scores don't improve for 10 rounds\n",
      "Early stopping, best iteration is:\n",
      "[57]\tvalid_0's l1: 4.07394\tvalid_0's l2: 71.875\tvalid_0's huber: 3.36645\n",
      "Training until validation scores don't improve for 10 rounds\n",
      "Early stopping, best iteration is:\n",
      "[66]\tvalid_0's l1: 2.40126\tvalid_0's l2: 22.9658\tvalid_0's huber: 1.85596\n",
      "Training until validation scores don't improve for 10 rounds\n",
      "Early stopping, best iteration is:\n",
      "[79]\tvalid_0's l1: 2.69824\tvalid_0's l2: 18.4971\tvalid_0's huber: 2.13464\n"
     ]
    },
    {
     "name": "stderr",
     "output_type": "stream",
     "text": [
      "Setting feature_perturbation = \"tree_path_dependent\" because no background data was given.\n",
      "Setting feature_perturbation = \"tree_path_dependent\" because no background data was given.\n",
      "Setting feature_perturbation = \"tree_path_dependent\" because no background data was given.\n",
      "Setting feature_perturbation = \"tree_path_dependent\" because no background data was given.\n"
     ]
    },
    {
     "name": "stdout",
     "output_type": "stream",
     "text": [
      "Training until validation scores don't improve for 10 rounds\n",
      "[150]\tvalid_0's l1: 2.71138\tvalid_0's l2: 37.5296\tvalid_0's huber: 2.1187\n",
      "Did not meet early stopping. Best iteration is:\n",
      "[145]\tvalid_0's l1: 2.70909\tvalid_0's l2: 37.5889\tvalid_0's huber: 2.1185\n",
      "Training until validation scores don't improve for 10 rounds\n",
      "Early stopping, best iteration is:\n",
      "[58]\tvalid_0's l1: 3.55021\tvalid_0's l2: 63.651\tvalid_0's huber: 2.90928\n",
      "Training until validation scores don't improve for 10 rounds\n",
      "Early stopping, best iteration is:\n",
      "[67]\tvalid_0's l1: 2.5182\tvalid_0's l2: 20.3522\tvalid_0's huber: 1.97831\n",
      "Training until validation scores don't improve for 10 rounds\n",
      "Early stopping, best iteration is:\n",
      "[91]\tvalid_0's l1: 21.2755\tvalid_0's l2: 1972.72\tvalid_0's huber: 18.8399\n"
     ]
    },
    {
     "name": "stderr",
     "output_type": "stream",
     "text": [
      "Setting feature_perturbation = \"tree_path_dependent\" because no background data was given.\n",
      "Setting feature_perturbation = \"tree_path_dependent\" because no background data was given.\n",
      "Setting feature_perturbation = \"tree_path_dependent\" because no background data was given.\n",
      "Setting feature_perturbation = \"tree_path_dependent\" because no background data was given.\n"
     ]
    },
    {
     "name": "stdout",
     "output_type": "stream",
     "text": [
      "Training until validation scores don't improve for 10 rounds\n",
      "Early stopping, best iteration is:\n",
      "[96]\tvalid_0's l1: 2.40414\tvalid_0's l2: 44.6316\tvalid_0's huber: 1.8861\n",
      "Training until validation scores don't improve for 10 rounds\n",
      "[150]\tvalid_0's l1: 5.77937\tvalid_0's l2: 188.825\tvalid_0's huber: 4.919\n",
      "Did not meet early stopping. Best iteration is:\n",
      "[149]\tvalid_0's l1: 5.77935\tvalid_0's l2: 188.821\tvalid_0's huber: 4.91897\n",
      "Training until validation scores don't improve for 10 rounds\n",
      "Early stopping, best iteration is:\n",
      "[96]\tvalid_0's l1: 3.8328\tvalid_0's l2: 65.5365\tvalid_0's huber: 3.15756\n",
      "Training until validation scores don't improve for 10 rounds\n",
      "Early stopping, best iteration is:\n",
      "[93]\tvalid_0's l1: 5.36552\tvalid_0's l2: 118.891\tvalid_0's huber: 4.52341\n"
     ]
    },
    {
     "name": "stderr",
     "output_type": "stream",
     "text": [
      "Setting feature_perturbation = \"tree_path_dependent\" because no background data was given.\n",
      "Setting feature_perturbation = \"tree_path_dependent\" because no background data was given.\n",
      "Setting feature_perturbation = \"tree_path_dependent\" because no background data was given.\n",
      "Setting feature_perturbation = \"tree_path_dependent\" because no background data was given.\n"
     ]
    },
    {
     "name": "stdout",
     "output_type": "stream",
     "text": [
      "Training until validation scores don't improve for 10 rounds\n",
      "Early stopping, best iteration is:\n",
      "[54]\tvalid_0's l1: 2.71397\tvalid_0's l2: 32.651\tvalid_0's huber: 2.14147\n",
      "Training until validation scores don't improve for 10 rounds\n",
      "Early stopping, best iteration is:\n",
      "[82]\tvalid_0's l1: 24.1687\tvalid_0's l2: 2438.12\tvalid_0's huber: 21.4688\n",
      "Training until validation scores don't improve for 10 rounds\n",
      "Early stopping, best iteration is:\n",
      "[44]\tvalid_0's l1: 3.02751\tvalid_0's l2: 23.022\tvalid_0's huber: 2.37458\n",
      "Training until validation scores don't improve for 10 rounds\n",
      "Early stopping, best iteration is:\n",
      "[7]\tvalid_0's l1: 15.1503\tvalid_0's l2: 318.811\tvalid_0's huber: 13.2325\n"
     ]
    },
    {
     "name": "stderr",
     "output_type": "stream",
     "text": [
      "Setting feature_perturbation = \"tree_path_dependent\" because no background data was given.\n",
      "Setting feature_perturbation = \"tree_path_dependent\" because no background data was given.\n",
      "Setting feature_perturbation = \"tree_path_dependent\" because no background data was given.\n",
      "Setting feature_perturbation = \"tree_path_dependent\" because no background data was given.\n"
     ]
    },
    {
     "name": "stdout",
     "output_type": "stream",
     "text": [
      "Training until validation scores don't improve for 10 rounds\n",
      "Early stopping, best iteration is:\n",
      "[110]\tvalid_0's l1: 6.95511\tvalid_0's l2: 177.136\tvalid_0's huber: 5.95134\n",
      "Training until validation scores don't improve for 10 rounds\n",
      "Early stopping, best iteration is:\n",
      "[113]\tvalid_0's l1: 1.67222\tvalid_0's l2: 9.68986\tvalid_0's huber: 1.24903\n",
      "Training until validation scores don't improve for 10 rounds\n",
      "Early stopping, best iteration is:\n",
      "[123]\tvalid_0's l1: 2.26108\tvalid_0's l2: 17.4806\tvalid_0's huber: 1.75173\n",
      "Training until validation scores don't improve for 10 rounds\n",
      "Early stopping, best iteration is:\n",
      "[82]\tvalid_0's l1: 3.0272\tvalid_0's l2: 61.3472\tvalid_0's huber: 2.43967\n"
     ]
    },
    {
     "name": "stderr",
     "output_type": "stream",
     "text": [
      "Setting feature_perturbation = \"tree_path_dependent\" because no background data was given.\n",
      "Setting feature_perturbation = \"tree_path_dependent\" because no background data was given.\n",
      "Setting feature_perturbation = \"tree_path_dependent\" because no background data was given.\n",
      "Setting feature_perturbation = \"tree_path_dependent\" because no background data was given.\n"
     ]
    },
    {
     "data": {
      "text/html": [
       "<div>\n",
       "<style scoped>\n",
       "    .dataframe tbody tr th:only-of-type {\n",
       "        vertical-align: middle;\n",
       "    }\n",
       "\n",
       "    .dataframe tbody tr th {\n",
       "        vertical-align: top;\n",
       "    }\n",
       "\n",
       "    .dataframe thead th {\n",
       "        text-align: right;\n",
       "    }\n",
       "</style>\n",
       "<table border=\"1\" class=\"dataframe\">\n",
       "  <thead>\n",
       "    <tr style=\"text-align: right;\">\n",
       "      <th></th>\n",
       "      <th>symbol</th>\n",
       "      <th>shap_0</th>\n",
       "      <th>kendall_tau_0</th>\n",
       "      <th>shap_1</th>\n",
       "      <th>kendall_tau_1</th>\n",
       "      <th>shap_2</th>\n",
       "      <th>kendall_tau_2</th>\n",
       "      <th>shap_3</th>\n",
       "      <th>kendall_tau_3</th>\n",
       "      <th>shap_4</th>\n",
       "      <th>kendall_tau_4</th>\n",
       "    </tr>\n",
       "    <tr>\n",
       "      <th>ensembl_id</th>\n",
       "      <th></th>\n",
       "      <th></th>\n",
       "      <th></th>\n",
       "      <th></th>\n",
       "      <th></th>\n",
       "      <th></th>\n",
       "      <th></th>\n",
       "      <th></th>\n",
       "      <th></th>\n",
       "      <th></th>\n",
       "      <th></th>\n",
       "    </tr>\n",
       "  </thead>\n",
       "  <tbody>\n",
       "    <tr>\n",
       "      <th>ENSG00000167515</th>\n",
       "      <td>TRAPPC2L</td>\n",
       "      <td>1473.507</td>\n",
       "      <td>-0.176</td>\n",
       "      <td>1105.753</td>\n",
       "      <td>-0.294</td>\n",
       "      <td>1395.502</td>\n",
       "      <td>-0.217</td>\n",
       "      <td>1551.837</td>\n",
       "      <td>-0.243</td>\n",
       "      <td>204.763</td>\n",
       "      <td>-0.236</td>\n",
       "    </tr>\n",
       "    <tr>\n",
       "      <th>ENSG00000105672</th>\n",
       "      <td>ETV2</td>\n",
       "      <td>1171.758</td>\n",
       "      <td>0.709</td>\n",
       "      <td>952.870</td>\n",
       "      <td>0.664</td>\n",
       "      <td>975.064</td>\n",
       "      <td>0.685</td>\n",
       "      <td>756.851</td>\n",
       "      <td>0.683</td>\n",
       "      <td>1066.609</td>\n",
       "      <td>0.683</td>\n",
       "    </tr>\n",
       "    <tr>\n",
       "      <th>ENSG00000013288</th>\n",
       "      <td>MAN2B2</td>\n",
       "      <td>267.460</td>\n",
       "      <td>-0.431</td>\n",
       "      <td>228.884</td>\n",
       "      <td>-0.399</td>\n",
       "      <td>162.715</td>\n",
       "      <td>-0.383</td>\n",
       "      <td>121.464</td>\n",
       "      <td>-0.421</td>\n",
       "      <td>259.828</td>\n",
       "      <td>-0.559</td>\n",
       "    </tr>\n",
       "    <tr>\n",
       "      <th>ENSG00000142541</th>\n",
       "      <td>RPL13A</td>\n",
       "      <td>85.417</td>\n",
       "      <td>-0.049</td>\n",
       "      <td>166.262</td>\n",
       "      <td>-0.233</td>\n",
       "      <td>300.272</td>\n",
       "      <td>-0.239</td>\n",
       "      <td>67.537</td>\n",
       "      <td>-0.033</td>\n",
       "      <td>252.596</td>\n",
       "      <td>-0.132</td>\n",
       "    </tr>\n",
       "    <tr>\n",
       "      <th>ENSG00000150779</th>\n",
       "      <td>TIMM8B</td>\n",
       "      <td>35.282</td>\n",
       "      <td>-0.474</td>\n",
       "      <td>42.510</td>\n",
       "      <td>-0.540</td>\n",
       "      <td>56.095</td>\n",
       "      <td>-0.411</td>\n",
       "      <td>21.934</td>\n",
       "      <td>-0.483</td>\n",
       "      <td>11.023</td>\n",
       "      <td>-0.500</td>\n",
       "    </tr>\n",
       "    <tr>\n",
       "      <th>ENSG00000140025</th>\n",
       "      <td>EFCAB11</td>\n",
       "      <td>15.458</td>\n",
       "      <td>0.543</td>\n",
       "      <td>23.979</td>\n",
       "      <td>0.589</td>\n",
       "      <td>93.537</td>\n",
       "      <td>0.663</td>\n",
       "      <td>23.757</td>\n",
       "      <td>0.548</td>\n",
       "      <td>34.074</td>\n",
       "      <td>0.576</td>\n",
       "    </tr>\n",
       "    <tr>\n",
       "      <th>ENSG00000111850</th>\n",
       "      <td>SMIM8</td>\n",
       "      <td>5.193</td>\n",
       "      <td>-0.440</td>\n",
       "      <td>1.930</td>\n",
       "      <td>-0.471</td>\n",
       "      <td>0.077</td>\n",
       "      <td>-0.552</td>\n",
       "      <td>4.902</td>\n",
       "      <td>-0.189</td>\n",
       "      <td>5.786</td>\n",
       "      <td>-0.547</td>\n",
       "    </tr>\n",
       "    <tr>\n",
       "      <th>ENSG00000189043</th>\n",
       "      <td>NDUFA4</td>\n",
       "      <td>3.088</td>\n",
       "      <td>0.084</td>\n",
       "      <td>33.968</td>\n",
       "      <td>0.010</td>\n",
       "      <td>15.419</td>\n",
       "      <td>-0.206</td>\n",
       "      <td>10.124</td>\n",
       "      <td>0.253</td>\n",
       "      <td>3.831</td>\n",
       "      <td>-0.152</td>\n",
       "    </tr>\n",
       "  </tbody>\n",
       "</table>\n",
       "</div>"
      ],
      "text/plain": [
       "                   symbol   shap_0  kendall_tau_0   shap_1  kendall_tau_1  \\\n",
       "ensembl_id                                                                  \n",
       "ENSG00000167515  TRAPPC2L 1473.507         -0.176 1105.753         -0.294   \n",
       "ENSG00000105672      ETV2 1171.758          0.709  952.870          0.664   \n",
       "ENSG00000013288    MAN2B2  267.460         -0.431  228.884         -0.399   \n",
       "ENSG00000142541    RPL13A   85.417         -0.049  166.262         -0.233   \n",
       "ENSG00000150779    TIMM8B   35.282         -0.474   42.510         -0.540   \n",
       "ENSG00000140025   EFCAB11   15.458          0.543   23.979          0.589   \n",
       "ENSG00000111850     SMIM8    5.193         -0.440    1.930         -0.471   \n",
       "ENSG00000189043    NDUFA4    3.088          0.084   33.968          0.010   \n",
       "\n",
       "                  shap_2  kendall_tau_2   shap_3  kendall_tau_3   shap_4  \\\n",
       "ensembl_id                                                                 \n",
       "ENSG00000167515 1395.502         -0.217 1551.837         -0.243  204.763   \n",
       "ENSG00000105672  975.064          0.685  756.851          0.683 1066.609   \n",
       "ENSG00000013288  162.715         -0.383  121.464         -0.421  259.828   \n",
       "ENSG00000142541  300.272         -0.239   67.537         -0.033  252.596   \n",
       "ENSG00000150779   56.095         -0.411   21.934         -0.483   11.023   \n",
       "ENSG00000140025   93.537          0.663   23.757          0.548   34.074   \n",
       "ENSG00000111850    0.077         -0.552    4.902         -0.189    5.786   \n",
       "ENSG00000189043   15.419         -0.206   10.124          0.253    3.831   \n",
       "\n",
       "                 kendall_tau_4  \n",
       "ensembl_id                      \n",
       "ENSG00000167515         -0.236  \n",
       "ENSG00000105672          0.683  \n",
       "ENSG00000013288         -0.559  \n",
       "ENSG00000142541         -0.132  \n",
       "ENSG00000150779         -0.500  \n",
       "ENSG00000140025          0.576  \n",
       "ENSG00000111850         -0.547  \n",
       "ENSG00000189043         -0.152  "
      ]
     },
     "execution_count": 16,
     "metadata": {},
     "output_type": "execute_result"
    }
   ],
   "source": [
    "select_lifespan_shap = replace(selection, select_by = \"shap\")\n",
    "stage_one_lifespan_shap = selection_pipeline.fit_transform((data, select_lifespan_shap))\n",
    "stage_one_lifespan_shap.selected"
   ]
  },
  {
   "cell_type": "code",
   "execution_count": 19,
   "metadata": {},
   "outputs": [
    {
     "data": {
      "text/plain": [
       "array(['TRAPPC2L', 'ETV2', 'MAN2B2', 'RPL13A', 'TIMM8B', 'EFCAB11',\n",
       "       'SMIM8', 'NDUFA4'], dtype=object)"
      ]
     },
     "execution_count": 19,
     "metadata": {},
     "output_type": "execute_result"
    }
   ],
   "source": [
    "stage_one_lifespan_shap.selected[\"symbol\"].values"
   ]
  },
  {
   "cell_type": "code",
   "execution_count": null,
   "metadata": {},
   "outputs": [],
   "source": []
  }
 ],
 "metadata": {
  "kernelspec": {
   "display_name": "Python 3",
   "language": "python",
   "name": "python3"
  },
  "language_info": {
   "codemirror_mode": {
    "name": "ipython",
    "version": 3
   },
   "file_extension": ".py",
   "mimetype": "text/x-python",
   "name": "python",
   "nbconvert_exporter": "python",
   "pygments_lexer": "ipython3",
   "version": "3.8.5"
  }
 },
 "nbformat": 4,
 "nbformat_minor": 4
}
