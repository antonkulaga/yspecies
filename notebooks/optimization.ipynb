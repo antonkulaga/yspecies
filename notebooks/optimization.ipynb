{
 "cells": [
  {
   "cell_type": "markdown",
   "metadata": {},
   "source": [
    "# Hyper parameters optimization #"
   ]
  },
  {
   "cell_type": "markdown",
   "metadata": {},
   "source": [
    "## Parameters cell ##\n",
    "\n",
    "Parameters are overiddent by papermill when run inside DVC stages\n",
    "\n"
   ]
  },
  {
   "cell_type": "code",
   "execution_count": 1,
   "metadata": {
    "tags": [
     "parameters"
    ]
   },
   "outputs": [],
   "source": [
    "n_folds = 5 # this sets global setting of which how many bootstraps to use\n",
    "n_hold_out = 1\n",
    "repeats = 5\n",
    "n_trials = 10\n",
    "importance_type = \"split\"\n",
    "#first round of optimization\n",
    "lgb_params = {\"bagging_fraction\": 0.9522534844058304, \n",
    "              \"boosting_type\": \"dart\", \n",
    "              \"objective\": \"regression\",\n",
    "              \"feature_fraction\": 0.42236910941558053, \n",
    "              \"lambda_l1\": 0.020847266580277746, \n",
    "              \"lambda_l2\": 2.8448564854773326, \n",
    "              \"learning_rate\": 0.11484015430016059, \n",
    "              \"max_depth\": 3, \n",
    "              \"max_leaves\": 35, \n",
    "              \"min_data_in_leaf\": 9,\n",
    "              \"num_iterations\": 150\n",
    "             }\n",
    "life_history = [\"lifespan\", \"mass_g\", \"mtGC\", \"metabolic_rate\", \"temperature\", \"gestation_days\"]\n",
    "trait = \"lifespan\"\n",
    "\n",
    "debug_local = True #to use local version"
   ]
  },
  {
   "cell_type": "code",
   "execution_count": 63,
   "metadata": {},
   "outputs": [
    {
     "name": "stdout",
     "output_type": "stream",
     "text": [
      "extending pathes with local yspecies\n",
      "['..', '..', '..', '..', '/data/sources/yspecies/notebooks', '/opt/miniconda3/envs/yspecies/lib/python38.zip', '/opt/miniconda3/envs/yspecies/lib/python3.8', '/opt/miniconda3/envs/yspecies/lib/python3.8/lib-dynload', '', '/opt/miniconda3/envs/yspecies/lib/python3.8/site-packages', '/opt/miniconda3/envs/yspecies/lib/python3.8/site-packages/IPython/extensions', '/home/antonkulaga/.ipython']\n",
      "The autoreload extension is already loaded. To reload it, use:\n",
      "  %reload_ext autoreload\n"
     ]
    }
   ],
   "source": [
    "from pathlib import Path\n",
    "import sys\n",
    "import inspect\n",
    "\n",
    "local = (Path(\"..\") / \"yspecies\").resolve()\n",
    "if debug_local and local.exists():\n",
    "  sys.path.insert(0, Path(\"..\").as_posix())\n",
    "  #sys.path.insert(0, local.as_posix())\n",
    "  print(\"extending pathes with local yspecies\")\n",
    "  print(sys.path)\n",
    "  %load_ext autoreload\n",
    "  %autoreload 2"
   ]
  },
  {
   "cell_type": "code",
   "execution_count": 64,
   "metadata": {},
   "outputs": [],
   "source": [
    "from dataclasses import dataclass, replace\n",
    "import numpy as np\n",
    "import pandas as pd\n",
    "from sklearn.pipeline import Pipeline\n",
    "import seaborn as sns\n",
    "import matplotlib.pyplot as plt"
   ]
  },
  {
   "cell_type": "code",
   "execution_count": 65,
   "metadata": {},
   "outputs": [],
   "source": [
    "from typing import *\n",
    "from yspecies.dataset import *\n",
    "from yspecies.utils import *\n",
    "from yspecies.workflow import TupleWith, Repeat, Collect\n",
    "from yspecies.config import *\n",
    "from yspecies.preprocess import FeatureSelection, DataExtractor\n",
    "from yspecies.partition import DataPartitioner, PartitionParameters\n",
    "from yspecies.selection import ShapSelector\n",
    "from yspecies.tuning import Tune\n",
    "from yspecies.models import ResultsCV, CrossValidator\n",
    "from yspecies.results import FeatureSummary\n",
    "import optuna\n",
    "from optuna import Study, Trial"
   ]
  },
  {
   "cell_type": "code",
   "execution_count": 66,
   "metadata": {},
   "outputs": [
    {
     "name": "stdout",
     "output_type": "stream",
     "text": [
      "Using matplotlib backend: TkAgg\n"
     ]
    }
   ],
   "source": [
    "#settings\n",
    "pd.set_option('display.max_columns', None)\n",
    "pd.set_option('display.max_rows', None)\n",
    "pd.set_option('display.float_format', lambda x: '%.3f' % x)\n",
    "import pprint\n",
    "pp = pprint.PrettyPrinter(indent=4)\n",
    "\n",
    "#charts settings\n",
    "import matplotlib.pyplot as plt\n",
    "from IPython.display import set_matplotlib_formats\n",
    "%matplotlib auto\n",
    "plt.ioff()\n",
    "set_matplotlib_formats('svg')"
   ]
  },
  {
   "cell_type": "markdown",
   "metadata": {},
   "source": [
    "### Loading data ###\n",
    "Let's load data from species/genes/expressions selected by select_samples.py notebook"
   ]
  },
  {
   "cell_type": "code",
   "execution_count": 67,
   "metadata": {},
   "outputs": [],
   "source": [
    "from pathlib import Path\n",
    "locations: Locations = Locations(\"./\") if Path(\"./data\").exists() else Locations(\"../\")"
   ]
  },
  {
   "cell_type": "code",
   "execution_count": 68,
   "metadata": {},
   "outputs": [
    {
     "data": {
      "text/html": [
       "<table border='2'><caption> Selected feature columns <caption><tr><th>Samples metadata</th><th>Species metadata</th><th>Genes</th><th>Predict label</th><th>not_validated species</th></tr><tr><td>['tissue', 'species']</td><td>[]</td><td>all</td><td>lifespan</td><td>[]</td></tr></table>"
      ],
      "text/plain": [
       "FeatureSelection(samples=['tissue', 'species'], species=[], genes=None, to_predict='lifespan', categorical=['tissue'], exclude_from_training=['species'], genes_meta=None, select_by='shap', importance_type='split', feature_perturbation='tree_path_dependent', not_validated_species=[])"
      ]
     },
     "execution_count": 68,
     "metadata": {},
     "output_type": "execute_result"
    }
   ],
   "source": [
    "default_selection = FeatureSelection(\n",
    "    samples = [\"tissue\",\"species\"], #samples metadata to include\n",
    "    species =  [], #species metadata other then Y label to include\n",
    "    exclude_from_training = [\"species\"],  #exclude some fields from LightGBM training\n",
    "    to_predict = \"lifespan\", #column to predict\n",
    "    categorical = [\"tissue\"],\n",
    "    select_by = \"shap\",\n",
    "    importance_type =  importance_type,\n",
    "    feature_perturbation = \"tree_path_dependent\"\n",
    ")\n",
    "default_selection"
   ]
  },
  {
   "cell_type": "code",
   "execution_count": 69,
   "metadata": {},
   "outputs": [
    {
     "data": {
      "text/html": [
       "<table border='2'><caption>lifespan<caption><tr><th>expressions</th><th>genes</th><th>species</th><th>samples</th><th>Genes Metadata</th><th>Species Metadata</th></tr><tr><td>(414, 12337)</td><td>(12337, 40)</td><td>41</td><td>414</td><td>(12337, 2)</td><td>(41, 18)</td></tr></table>"
      ],
      "text/plain": [
       "<table border='2'><caption>lifespan<caption><tr><th>expressions</th><th>genes</th><th>species</th><th>samples</th><th>Genes Metadata</th><th>Species Metadata</th></tr><tr><td>(414, 12337)</td><td>(12337, 40)</td><td>41</td><td>414</td><td>(12337, 2)</td><td>(41, 18)</td></tr></table>"
      ]
     },
     "execution_count": 69,
     "metadata": {},
     "output_type": "execute_result"
    }
   ],
   "source": [
    "loader = DataLoader(locations, default_selection)\n",
    "selections = loader.load_life_history()\n",
    "selections[trait][0]"
   ]
  },
  {
   "cell_type": "markdown",
   "metadata": {},
   "source": [
    "## Setting up ShapSelector ##"
   ]
  },
  {
   "cell_type": "markdown",
   "metadata": {},
   "source": [
    "Deciding on selection parameters (which fields to include, exclude, predict)"
   ]
  },
  {
   "cell_type": "code",
   "execution_count": 9,
   "metadata": {},
   "outputs": [],
   "source": [
    "partition_params = PartitionParameters(n_folds, n_hold_out, 2,   42)"
   ]
  },
  {
   "cell_type": "markdown",
   "metadata": {},
   "source": [
    "## Setting up features to select ##"
   ]
  },
  {
   "cell_type": "code",
   "execution_count": 10,
   "metadata": {},
   "outputs": [],
   "source": [
    "selection = FeatureSelection(\n",
    "    samples = [\"tissue\",\"species\"], #samples metadata to include\n",
    "    species =  [], #species metadata other then Y label to include\n",
    "    exclude_from_training = [\"species\"],  #exclude some fields from LightGBM training\n",
    "    to_predict = \"lifespan\", #column to predict\n",
    "    categorical = [\"tissue\"],\n",
    "    select_by = \"shap\",\n",
    "    importance_type = \"split\"\n",
    ")"
   ]
  },
  {
   "cell_type": "code",
   "execution_count": 11,
   "metadata": {},
   "outputs": [],
   "source": [
    "select_lifespan = replace(selection, select_by = \"shap\")"
   ]
  },
  {
   "cell_type": "code",
   "execution_count": 70,
   "metadata": {},
   "outputs": [
    {
     "name": "stdout",
     "output_type": "stream",
     "text": [
      "loading (if exists) study from sqlite:////data/sources/yspecies/notebooks/../data/interim/trials.sqlite\n"
     ]
    },
    {
     "name": "stderr",
     "output_type": "stream",
     "text": [
      "create_study is experimental (supported from v1.4.0). The interface can change in the future.\n",
      "NSGAIIMultiObjectiveSampler is experimental (supported from v1.5.0). The interface can change in the future.\n",
      "RandomMultiObjectiveSampler is experimental (supported from v1.4.0). The interface can change in the future.\n",
      "[I 2020-08-23 11:08:52,478] Using an existing study with name 'lifespan_r2_huber_kendall' instead of creating a new one.\n",
      "MultiObjectiveStudy is experimental (supported from v1.4.0). The interface can change in the future.\n"
     ]
    }
   ],
   "source": [
    "url = f'sqlite:///' +str((locations.interim.trials).absolute())\n",
    "print('loading (if exists) study from '+url)\n",
    "storage = optuna.storages.RDBStorage(\n",
    "    url=url\n",
    "    #engine_kwargs={'check_same_thread': False}\n",
    ")\n",
    "\n",
    "study = optuna.multi_objective.study.create_study(directions=['maximize','minimize','maximize'], storage = storage, study_name = f\"{trait}_r2_huber_kendall\", load_if_exists = True)"
   ]
  },
  {
   "cell_type": "code",
   "execution_count": 13,
   "metadata": {},
   "outputs": [],
   "source": [
    "def objective_parameters(trial: Trial) -> dict:\n",
    "    return {\n",
    "        'objective': 'regression',\n",
    "        'metric': {'mae', 'mse', 'huber'},\n",
    "        'verbosity': -1,\n",
    "        'boosting_type': trial.suggest_categorical('boosting_type', ['dart', 'gbdt']),\n",
    "        'lambda_l1': trial.suggest_uniform('lambda_l1', 0.01, 3.0),\n",
    "        'lambda_l2': trial.suggest_uniform('lambda_l2', 0.01, 3.0),\n",
    "        'max_leaves': trial.suggest_int(\"max_leaves\", 15, 25),\n",
    "        'max_depth': trial.suggest_int('max_depth', 3, 8),\n",
    "        'feature_fraction': trial.suggest_uniform('feature_fraction', 0.3, 1.0),\n",
    "        'bagging_fraction': trial.suggest_uniform('bagging_fraction', 0.3, 1.0),\n",
    "        'learning_rate': trial.suggest_uniform('learning_rate', 0.01, 0.1),\n",
    "        'min_data_in_leaf': trial.suggest_int('min_data_in_leaf', 3, 8),\n",
    "        'drop_rate': trial.suggest_uniform('drop_rate', 0.1, 0.3),\n",
    "        \"verbose\": -1\n",
    "    }\n",
    "optimization_parameters = objective_parameters"
   ]
  },
  {
   "cell_type": "code",
   "execution_count": 14,
   "metadata": {},
   "outputs": [],
   "source": [
    "from yspecies.workflow import SplitReduce\n",
    "\n",
    "def side(i: int):\n",
    "    print(i)\n",
    "    return i\n",
    "\n",
    "prepare_partition = SplitReduce(\n",
    "    outputs = DataPartitioner(), \n",
    "    split = lambda x: [(x[0], replace(partition_params, seed=side(x[2])))], \n",
    "    reduce = lambda x, output: (output[0], x[1]) \n",
    ")                               \n",
    "partition_and_cv = Pipeline(\n",
    "    [\n",
    "        (\"prepare partition\", prepare_partition),\n",
    "        (\"shap_computation\", ShapSelector()) #('crossvalidator', CrossValidator())        \n",
    "    ]\n",
    ")\n",
    "\n",
    "partition_and_cv_repeat =  Pipeline([\n",
    "    (\"repeat_cv_pipe\", Repeat(partition_and_cv, repeats, lambda x, i: [x[0], x[1], i] )),\n",
    "    #(\"collect_mean\", Collect(fold=lambda results: np.array([r.last(\"huber\") for r in results]).mean()))\n",
    "    (\"collect_mean\", Collect(fold=lambda results: (FeatureSummary(results).metrics_average.R2, FeatureSummary(results).metrics_average.huber, FeatureSummary(results).kendall_tau_abs_mean)))    \n",
    "    ]\n",
    "    )\n",
    "\n",
    "p = Pipeline([\n",
    "     ('extractor', DataExtractor()),\n",
    "     ('tune', Tune(partition_and_cv_repeat, study = study, n_trials = n_trials, parameters_space = optimization_parameters))    \n",
    "])"
   ]
  },
  {
   "cell_type": "code",
   "execution_count": 15,
   "metadata": {},
   "outputs": [
    {
     "name": "stderr",
     "output_type": "stream",
     "text": [
      "MultiObjectiveStudy is experimental (supported from v1.4.0). The interface can change in the future.\n",
      "FrozenMultiObjectiveTrial is experimental (supported from v1.4.0). The interface can change in the future.\n",
      "MultiObjectiveStudy is experimental (supported from v1.4.0). The interface can change in the future.\n",
      "FrozenMultiObjectiveTrial is experimental (supported from v1.4.0). The interface can change in the future.\n",
      "FrozenMultiObjectiveTrial is experimental (supported from v1.4.0). The interface can change in the future.\n",
      "MultiObjectiveTrial is experimental (supported from v1.4.0). The interface can change in the future.\n",
      "MultiObjectiveStudy is experimental (supported from v1.4.0). The interface can change in the future.\n",
      "MultiObjectiveStudy is experimental (supported from v1.4.0). The interface can change in the future.\n",
      "FrozenMultiObjectiveTrial is experimental (supported from v1.4.0). The interface can change in the future.\n"
     ]
    },
    {
     "name": "stdout",
     "output_type": "stream",
     "text": [
      "0\n",
      "===== fitting models with seed 0 =====\n",
      "SEED: 0 | FOLD: 0 | VALIDATION_SPECIES: ['Gorilla_gorilla', 'Equus_caballus']\n"
     ]
    },
    {
     "name": "stderr",
     "output_type": "stream",
     "text": [
      "Early stopping is not available in dart mode\n"
     ]
    },
    {
     "name": "stdout",
     "output_type": "stream",
     "text": [
      "[150]\tvalid_0's l2: 258.363\tvalid_0's l1: 9.88479\tvalid_0's huber: 8.53768\n",
      "SEED: 0 | FOLD: 1 | VALIDATION_SPECIES: ['Ursus_americanus', 'Dasypus_novemcinctus']\n",
      "[150]\tvalid_0's l2: 168.597\tvalid_0's l1: 5.98722\tvalid_0's huber: 5.02284\n",
      "SEED: 0 | FOLD: 2 | VALIDATION_SPECIES: ['Capra_hircus', 'Mesocricetus_auratus']\n",
      "[150]\tvalid_0's l2: 74.7082\tvalid_0's l1: 4.96547\tvalid_0's huber: 4.10364\n",
      "SEED: 0 | FOLD: 3 | VALIDATION_SPECIES: ['Otolemur_garnettii', 'Macaca_fascicularis']\n",
      "[150]\tvalid_0's l2: 112.06\tvalid_0's l1: 4.92143\tvalid_0's huber: 4.06918\n",
      "1\n",
      "===== fitting models with seed 1 =====\n",
      "SEED: 1 | FOLD: 0 | VALIDATION_SPECIES: ['Rattus_norvegicus', 'Vombatus_ursinus']\n"
     ]
    },
    {
     "name": "stderr",
     "output_type": "stream",
     "text": [
      "Early stopping is not available in dart mode\n"
     ]
    },
    {
     "name": "stdout",
     "output_type": "stream",
     "text": [
      "[150]\tvalid_0's l2: 67.4443\tvalid_0's l1: 5.60109\tvalid_0's huber: 4.66713\n",
      "SEED: 1 | FOLD: 1 | VALIDATION_SPECIES: ['Ailuropoda_melanoleuca', 'Ursus_americanus']\n",
      "[150]\tvalid_0's l2: 186.03\tvalid_0's l1: 6.8902\tvalid_0's huber: 5.84079\n",
      "SEED: 1 | FOLD: 2 | VALIDATION_SPECIES: ['Rhinolophus_ferrumequinum', 'Macaca_mulatta']\n",
      "[150]\tvalid_0's l2: 180.422\tvalid_0's l1: 7.0545\tvalid_0's huber: 5.99439\n",
      "SEED: 1 | FOLD: 3 | VALIDATION_SPECIES: ['Canis_lupus_familiaris', 'Gorilla_gorilla']\n",
      "[150]\tvalid_0's l2: 230.953\tvalid_0's l1: 8.14136\tvalid_0's huber: 6.98599\n",
      "2\n",
      "===== fitting models with seed 2 =====\n",
      "SEED: 2 | FOLD: 0 | VALIDATION_SPECIES: ['Canis_lupus_familiaris', 'Ailuropoda_melanoleuca']\n"
     ]
    },
    {
     "name": "stderr",
     "output_type": "stream",
     "text": [
      "Early stopping is not available in dart mode\n"
     ]
    },
    {
     "name": "stdout",
     "output_type": "stream",
     "text": [
      "[150]\tvalid_0's l2: 92.2851\tvalid_0's l1: 5.88989\tvalid_0's huber: 4.97937\n",
      "SEED: 2 | FOLD: 1 | VALIDATION_SPECIES: ['Suricata_suricatta', 'Ovis_aries']\n",
      "[150]\tvalid_0's l2: 127.405\tvalid_0's l1: 5.24896\tvalid_0's huber: 4.40172\n",
      "SEED: 2 | FOLD: 2 | VALIDATION_SPECIES: ['Rhinolophus_ferrumequinum', 'Macaca_nemestrina']\n",
      "[150]\tvalid_0's l2: 116.26\tvalid_0's l1: 5.73074\tvalid_0's huber: 4.83298\n",
      "SEED: 2 | FOLD: 3 | VALIDATION_SPECIES: ['Monodelphis_domestica', 'Ictidomys_tridecemlineatus']\n",
      "[150]\tvalid_0's l2: 203.245\tvalid_0's l1: 9.08645\tvalid_0's huber: 7.84553\n",
      "3\n",
      "===== fitting models with seed 3 =====\n",
      "SEED: 3 | FOLD: 0 | VALIDATION_SPECIES: ['Bos_taurus', 'Equus_caballus']\n"
     ]
    },
    {
     "name": "stderr",
     "output_type": "stream",
     "text": [
      "Early stopping is not available in dart mode\n"
     ]
    },
    {
     "name": "stdout",
     "output_type": "stream",
     "text": [
      "[150]\tvalid_0's l2: 59.5029\tvalid_0's l1: 4.37234\tvalid_0's huber: 3.62038\n",
      "SEED: 3 | FOLD: 1 | VALIDATION_SPECIES: ['Ailuropoda_melanoleuca', 'Gorilla_gorilla']\n",
      "[150]\tvalid_0's l2: 240.447\tvalid_0's l1: 8.55704\tvalid_0's huber: 7.36234\n",
      "SEED: 3 | FOLD: 2 | VALIDATION_SPECIES: ['Capra_hircus', 'Dasypus_novemcinctus']\n",
      "[150]\tvalid_0's l2: 119.273\tvalid_0's l1: 5.03196\tvalid_0's huber: 4.18414\n",
      "SEED: 3 | FOLD: 3 | VALIDATION_SPECIES: ['Heterocephalus_glaber', 'Mus_spicilegus']\n",
      "[150]\tvalid_0's l2: 103.988\tvalid_0's l1: 4.55861\tvalid_0's huber: 3.78709\n",
      "4\n",
      "===== fitting models with seed 4 =====\n",
      "SEED: 4 | FOLD: 0 | VALIDATION_SPECIES: ['Macaca_mulatta', 'Pan_troglodytes']\n"
     ]
    },
    {
     "name": "stderr",
     "output_type": "stream",
     "text": [
      "Early stopping is not available in dart mode\n"
     ]
    },
    {
     "name": "stdout",
     "output_type": "stream",
     "text": [
      "[150]\tvalid_0's l2: 127.033\tvalid_0's l1: 6.94798\tvalid_0's huber: 5.8985\n",
      "SEED: 4 | FOLD: 1 | VALIDATION_SPECIES: ['Otolemur_garnettii', 'Ailuropoda_melanoleuca']\n",
      "[150]\tvalid_0's l2: 143.288\tvalid_0's l1: 5.65926\tvalid_0's huber: 4.75935\n",
      "SEED: 4 | FOLD: 2 | VALIDATION_SPECIES: ['Ursus_americanus', 'Oryctolagus_cuniculus']\n",
      "[150]\tvalid_0's l2: 151.936\tvalid_0's l1: 6.49533\tvalid_0's huber: 5.4954\n",
      "SEED: 4 | FOLD: 3 | VALIDATION_SPECIES: ['Mesocricetus_auratus', 'Mus_spicilegus']\n",
      "[150]\tvalid_0's l2: 92.7023\tvalid_0's l1: 4.46476\tvalid_0's huber: 3.6686\n"
     ]
    },
    {
     "name": "stderr",
     "output_type": "stream",
     "text": [
      "MultiObjectiveTrial is experimental (supported from v1.4.0). The interface can change in the future.\n",
      "MultiObjectiveStudy is experimental (supported from v1.4.0). The interface can change in the future.\n",
      "[I 2020-08-23 08:01:09,982] Trial 15 finished with values: [0.8011939709718284, 5.3028511450283995, 0.46910280137472504] with parameters: {'boosting_type': 'dart', 'lambda_l1': 2.7817121993548755, 'lambda_l2': 1.4639870509359518, 'max_leaves': 21, 'max_depth': 6, 'feature_fraction': 0.33185382081570447, 'bagging_fraction': 0.659047618445372, 'learning_rate': 0.06496339131709825, 'min_data_in_leaf': 5, 'drop_rate': 0.14637178139095242}.\n",
      "MultiObjectiveStudy is experimental (supported from v1.4.0). The interface can change in the future.\n",
      "FrozenMultiObjectiveTrial is experimental (supported from v1.4.0). The interface can change in the future.\n",
      "MultiObjectiveStudy is experimental (supported from v1.4.0). The interface can change in the future.\n",
      "FrozenMultiObjectiveTrial is experimental (supported from v1.4.0). The interface can change in the future.\n",
      "FrozenMultiObjectiveTrial is experimental (supported from v1.4.0). The interface can change in the future.\n",
      "MultiObjectiveTrial is experimental (supported from v1.4.0). The interface can change in the future.\n",
      "MultiObjectiveStudy is experimental (supported from v1.4.0). The interface can change in the future.\n",
      "FrozenMultiObjectiveTrial is experimental (supported from v1.4.0). The interface can change in the future.\n"
     ]
    },
    {
     "name": "stdout",
     "output_type": "stream",
     "text": [
      "0\n",
      "===== fitting models with seed 0 =====\n",
      "SEED: 0 | FOLD: 0 | VALIDATION_SPECIES: ['Gorilla_gorilla', 'Equus_caballus']\n",
      "Training until validation scores don't improve for 10 rounds\n",
      "Early stopping, best iteration is:\n",
      "[122]\tvalid_0's l2: 291.368\tvalid_0's l1: 8.83049\tvalid_0's huber: 7.6499\n",
      "SEED: 0 | FOLD: 1 | VALIDATION_SPECIES: ['Ursus_americanus', 'Dasypus_novemcinctus']\n",
      "Training until validation scores don't improve for 10 rounds\n",
      "[150]\tvalid_0's l2: 141.357\tvalid_0's l1: 3.93445\tvalid_0's huber: 3.24582\n",
      "Did not meet early stopping. Best iteration is:\n",
      "[150]\tvalid_0's l2: 141.357\tvalid_0's l1: 3.93445\tvalid_0's huber: 3.24582\n",
      "SEED: 0 | FOLD: 2 | VALIDATION_SPECIES: ['Capra_hircus', 'Mesocricetus_auratus']\n",
      "Training until validation scores don't improve for 10 rounds\n",
      "[150]\tvalid_0's l2: 77.1156\tvalid_0's l1: 4.5849\tvalid_0's huber: 3.8073\n",
      "Did not meet early stopping. Best iteration is:\n",
      "[150]\tvalid_0's l2: 77.1156\tvalid_0's l1: 4.5849\tvalid_0's huber: 3.8073\n",
      "SEED: 0 | FOLD: 3 | VALIDATION_SPECIES: ['Otolemur_garnettii', 'Macaca_fascicularis']\n",
      "Training until validation scores don't improve for 10 rounds\n",
      "[150]\tvalid_0's l2: 95.7097\tvalid_0's l1: 2.76483\tvalid_0's huber: 2.17824\n",
      "Did not meet early stopping. Best iteration is:\n",
      "[148]\tvalid_0's l2: 95.7062\tvalid_0's l1: 2.76575\tvalid_0's huber: 2.17893\n",
      "1\n",
      "===== fitting models with seed 1 =====\n",
      "SEED: 1 | FOLD: 0 | VALIDATION_SPECIES: ['Rattus_norvegicus', 'Vombatus_ursinus']\n",
      "Training until validation scores don't improve for 10 rounds\n",
      "Early stopping, best iteration is:\n",
      "[112]\tvalid_0's l2: 46.5084\tvalid_0's l1: 4.60768\tvalid_0's huber: 3.77972\n",
      "SEED: 1 | FOLD: 1 | VALIDATION_SPECIES: ['Ailuropoda_melanoleuca', 'Ursus_americanus']\n",
      "Training until validation scores don't improve for 10 rounds\n",
      "[150]\tvalid_0's l2: 164.055\tvalid_0's l1: 4.90872\tvalid_0's huber: 4.09381\n",
      "Did not meet early stopping. Best iteration is:\n",
      "[149]\tvalid_0's l2: 164.053\tvalid_0's l1: 4.90878\tvalid_0's huber: 4.09385\n",
      "SEED: 1 | FOLD: 2 | VALIDATION_SPECIES: ['Rhinolophus_ferrumequinum', 'Macaca_mulatta']\n",
      "Training until validation scores don't improve for 10 rounds\n",
      "[150]\tvalid_0's l2: 100.403\tvalid_0's l1: 4.7191\tvalid_0's huber: 3.9107\n",
      "Did not meet early stopping. Best iteration is:\n",
      "[150]\tvalid_0's l2: 100.403\tvalid_0's l1: 4.7191\tvalid_0's huber: 3.9107\n",
      "SEED: 1 | FOLD: 3 | VALIDATION_SPECIES: ['Canis_lupus_familiaris', 'Gorilla_gorilla']\n",
      "Training until validation scores don't improve for 10 rounds\n",
      "[150]\tvalid_0's l2: 191.084\tvalid_0's l1: 6.42758\tvalid_0's huber: 5.47556\n",
      "Did not meet early stopping. Best iteration is:\n",
      "[149]\tvalid_0's l2: 191.083\tvalid_0's l1: 6.42743\tvalid_0's huber: 5.47564\n",
      "2\n",
      "===== fitting models with seed 2 =====\n",
      "SEED: 2 | FOLD: 0 | VALIDATION_SPECIES: ['Canis_lupus_familiaris', 'Ailuropoda_melanoleuca']\n",
      "Training until validation scores don't improve for 10 rounds\n",
      "[150]\tvalid_0's l2: 42.8274\tvalid_0's l1: 3.84684\tvalid_0's huber: 3.16603\n",
      "Did not meet early stopping. Best iteration is:\n",
      "[148]\tvalid_0's l2: 42.8213\tvalid_0's l1: 3.84769\tvalid_0's huber: 3.16645\n",
      "SEED: 2 | FOLD: 1 | VALIDATION_SPECIES: ['Suricata_suricatta', 'Ovis_aries']\n",
      "Training until validation scores don't improve for 10 rounds\n",
      "[150]\tvalid_0's l2: 52.6438\tvalid_0's l1: 2.92067\tvalid_0's huber: 2.35328\n",
      "Did not meet early stopping. Best iteration is:\n",
      "[150]\tvalid_0's l2: 52.6438\tvalid_0's l1: 2.92067\tvalid_0's huber: 2.35328\n",
      "SEED: 2 | FOLD: 2 | VALIDATION_SPECIES: ['Rhinolophus_ferrumequinum', 'Macaca_nemestrina']\n",
      "Training until validation scores don't improve for 10 rounds\n",
      "Early stopping, best iteration is:\n",
      "[136]\tvalid_0's l2: 111.667\tvalid_0's l1: 4.54322\tvalid_0's huber: 3.79775\n",
      "SEED: 2 | FOLD: 3 | VALIDATION_SPECIES: ['Monodelphis_domestica', 'Ictidomys_tridecemlineatus']\n",
      "Training until validation scores don't improve for 10 rounds\n",
      "[150]\tvalid_0's l2: 185.856\tvalid_0's l1: 8.24178\tvalid_0's huber: 7.09637\n",
      "Did not meet early stopping. Best iteration is:\n",
      "[150]\tvalid_0's l2: 185.856\tvalid_0's l1: 8.24178\tvalid_0's huber: 7.09637\n",
      "3\n",
      "===== fitting models with seed 3 =====\n",
      "SEED: 3 | FOLD: 0 | VALIDATION_SPECIES: ['Bos_taurus', 'Equus_caballus']\n",
      "Training until validation scores don't improve for 10 rounds\n",
      "[150]\tvalid_0's l2: 18.7448\tvalid_0's l1: 2.27201\tvalid_0's huber: 1.74658\n",
      "Did not meet early stopping. Best iteration is:\n",
      "[150]\tvalid_0's l2: 18.7448\tvalid_0's l1: 2.27201\tvalid_0's huber: 1.74658\n",
      "SEED: 3 | FOLD: 1 | VALIDATION_SPECIES: ['Ailuropoda_melanoleuca', 'Gorilla_gorilla']\n",
      "Training until validation scores don't improve for 10 rounds\n",
      "[150]\tvalid_0's l2: 194.858\tvalid_0's l1: 6.41982\tvalid_0's huber: 5.47709\n",
      "Did not meet early stopping. Best iteration is:\n",
      "[150]\tvalid_0's l2: 194.858\tvalid_0's l1: 6.41982\tvalid_0's huber: 5.47709\n",
      "SEED: 3 | FOLD: 2 | VALIDATION_SPECIES: ['Capra_hircus', 'Dasypus_novemcinctus']\n",
      "Training until validation scores don't improve for 10 rounds\n",
      "[150]\tvalid_0's l2: 153.674\tvalid_0's l1: 4.47592\tvalid_0's huber: 3.70318\n",
      "Did not meet early stopping. Best iteration is:\n",
      "[150]\tvalid_0's l2: 153.674\tvalid_0's l1: 4.47592\tvalid_0's huber: 3.70318\n",
      "SEED: 3 | FOLD: 3 | VALIDATION_SPECIES: ['Heterocephalus_glaber', 'Mus_spicilegus']\n",
      "Training until validation scores don't improve for 10 rounds\n",
      "[150]\tvalid_0's l2: 102.872\tvalid_0's l1: 2.95628\tvalid_0's huber: 2.40958\n",
      "Did not meet early stopping. Best iteration is:\n",
      "[150]\tvalid_0's l2: 102.872\tvalid_0's l1: 2.95628\tvalid_0's huber: 2.40958\n",
      "4\n",
      "===== fitting models with seed 4 =====\n",
      "SEED: 4 | FOLD: 0 | VALIDATION_SPECIES: ['Macaca_mulatta', 'Pan_troglodytes']\n",
      "Training until validation scores don't improve for 10 rounds\n",
      "Early stopping, best iteration is:\n",
      "[104]\tvalid_0's l2: 64.074\tvalid_0's l1: 4.66622\tvalid_0's huber: 3.89697\n",
      "SEED: 4 | FOLD: 1 | VALIDATION_SPECIES: ['Otolemur_garnettii', 'Ailuropoda_melanoleuca']\n",
      "Training until validation scores don't improve for 10 rounds\n",
      "Early stopping, best iteration is:\n",
      "[118]\tvalid_0's l2: 109.877\tvalid_0's l1: 3.57726\tvalid_0's huber: 2.92818\n",
      "SEED: 4 | FOLD: 2 | VALIDATION_SPECIES: ['Ursus_americanus', 'Oryctolagus_cuniculus']\n",
      "Training until validation scores don't improve for 10 rounds\n",
      "Early stopping, best iteration is:\n",
      "[133]\tvalid_0's l2: 96.4972\tvalid_0's l1: 5.04819\tvalid_0's huber: 4.21946\n",
      "SEED: 4 | FOLD: 3 | VALIDATION_SPECIES: ['Mesocricetus_auratus', 'Mus_spicilegus']\n",
      "Training until validation scores don't improve for 10 rounds\n",
      "[150]\tvalid_0's l2: 86.2586\tvalid_0's l1: 3.66053\tvalid_0's huber: 2.97807\n",
      "Did not meet early stopping. Best iteration is:\n",
      "[150]\tvalid_0's l2: 86.2586\tvalid_0's l1: 3.66053\tvalid_0's huber: 2.97807\n"
     ]
    },
    {
     "name": "stderr",
     "output_type": "stream",
     "text": [
      "MultiObjectiveTrial is experimental (supported from v1.4.0). The interface can change in the future.\n",
      "MultiObjectiveStudy is experimental (supported from v1.4.0). The interface can change in the future.\n",
      "[I 2020-08-23 08:06:00,374] Trial 16 finished with values: [0.8376220782712256, 3.8951314891880893, 0.461222353674299] with parameters: {'boosting_type': 'gbdt', 'lambda_l1': 1.5182626173123828, 'lambda_l2': 2.5966866823590675, 'max_leaves': 24, 'max_depth': 5, 'feature_fraction': 0.7785433719428555, 'bagging_fraction': 0.7294664208630939, 'learning_rate': 0.0671841414159635, 'min_data_in_leaf': 3, 'drop_rate': 0.2082864850153656}.\n",
      "MultiObjectiveStudy is experimental (supported from v1.4.0). The interface can change in the future.\n",
      "FrozenMultiObjectiveTrial is experimental (supported from v1.4.0). The interface can change in the future.\n",
      "MultiObjectiveStudy is experimental (supported from v1.4.0). The interface can change in the future.\n",
      "FrozenMultiObjectiveTrial is experimental (supported from v1.4.0). The interface can change in the future.\n",
      "FrozenMultiObjectiveTrial is experimental (supported from v1.4.0). The interface can change in the future.\n",
      "MultiObjectiveTrial is experimental (supported from v1.4.0). The interface can change in the future.\n",
      "MultiObjectiveStudy is experimental (supported from v1.4.0). The interface can change in the future.\n",
      "FrozenMultiObjectiveTrial is experimental (supported from v1.4.0). The interface can change in the future.\n"
     ]
    },
    {
     "name": "stdout",
     "output_type": "stream",
     "text": [
      "0\n",
      "===== fitting models with seed 0 =====\n",
      "SEED: 0 | FOLD: 0 | VALIDATION_SPECIES: ['Gorilla_gorilla', 'Equus_caballus']\n"
     ]
    },
    {
     "name": "stderr",
     "output_type": "stream",
     "text": [
      "Early stopping is not available in dart mode\n"
     ]
    },
    {
     "name": "stdout",
     "output_type": "stream",
     "text": [
      "[150]\tvalid_0's l2: 399.126\tvalid_0's l1: 12.6564\tvalid_0's huber: 11.0384\n",
      "SEED: 0 | FOLD: 1 | VALIDATION_SPECIES: ['Ursus_americanus', 'Dasypus_novemcinctus']\n",
      "[150]\tvalid_0's l2: 300.44\tvalid_0's l1: 8.59525\tvalid_0's huber: 7.40706\n",
      "SEED: 0 | FOLD: 2 | VALIDATION_SPECIES: ['Capra_hircus', 'Mesocricetus_auratus']\n",
      "[150]\tvalid_0's l2: 194.272\tvalid_0's l1: 7.32731\tvalid_0's huber: 6.21858\n",
      "SEED: 0 | FOLD: 3 | VALIDATION_SPECIES: ['Otolemur_garnettii', 'Macaca_fascicularis']\n",
      "[150]\tvalid_0's l2: 210.862\tvalid_0's l1: 7.9713\tvalid_0's huber: 6.81209\n",
      "1\n",
      "===== fitting models with seed 1 =====\n",
      "SEED: 1 | FOLD: 0 | VALIDATION_SPECIES: ['Rattus_norvegicus', 'Vombatus_ursinus']\n"
     ]
    },
    {
     "name": "stderr",
     "output_type": "stream",
     "text": [
      "Early stopping is not available in dart mode\n"
     ]
    },
    {
     "name": "stdout",
     "output_type": "stream",
     "text": [
      "[150]\tvalid_0's l2: 133.277\tvalid_0's l1: 7.01538\tvalid_0's huber: 5.92592\n",
      "SEED: 1 | FOLD: 1 | VALIDATION_SPECIES: ['Ailuropoda_melanoleuca', 'Ursus_americanus']\n",
      "[150]\tvalid_0's l2: 346\tvalid_0's l1: 9.97645\tvalid_0's huber: 8.62128\n",
      "SEED: 1 | FOLD: 2 | VALIDATION_SPECIES: ['Rhinolophus_ferrumequinum', 'Macaca_mulatta']\n",
      "[150]\tvalid_0's l2: 314.913\tvalid_0's l1: 9.8373\tvalid_0's huber: 8.48316\n",
      "SEED: 1 | FOLD: 3 | VALIDATION_SPECIES: ['Canis_lupus_familiaris', 'Gorilla_gorilla']\n",
      "[150]\tvalid_0's l2: 385.823\tvalid_0's l1: 11.3642\tvalid_0's huber: 9.86779\n",
      "2\n",
      "===== fitting models with seed 2 =====\n",
      "SEED: 2 | FOLD: 0 | VALIDATION_SPECIES: ['Canis_lupus_familiaris', 'Ailuropoda_melanoleuca']\n"
     ]
    },
    {
     "name": "stderr",
     "output_type": "stream",
     "text": [
      "Early stopping is not available in dart mode\n"
     ]
    },
    {
     "name": "stdout",
     "output_type": "stream",
     "text": [
      "[150]\tvalid_0's l2: 254.068\tvalid_0's l1: 9.60752\tvalid_0's huber: 8.25531\n",
      "SEED: 2 | FOLD: 1 | VALIDATION_SPECIES: ['Suricata_suricatta', 'Ovis_aries']\n",
      "[150]\tvalid_0's l2: 324.889\tvalid_0's l1: 9.30264\tvalid_0's huber: 7.98297\n",
      "SEED: 2 | FOLD: 2 | VALIDATION_SPECIES: ['Rhinolophus_ferrumequinum', 'Macaca_nemestrina']\n",
      "[150]\tvalid_0's l2: 255.898\tvalid_0's l1: 9.43438\tvalid_0's huber: 8.10389\n",
      "SEED: 2 | FOLD: 3 | VALIDATION_SPECIES: ['Monodelphis_domestica', 'Ictidomys_tridecemlineatus']\n",
      "[150]\tvalid_0's l2: 236.611\tvalid_0's l1: 9.93053\tvalid_0's huber: 8.54792\n",
      "3\n",
      "===== fitting models with seed 3 =====\n",
      "SEED: 3 | FOLD: 0 | VALIDATION_SPECIES: ['Bos_taurus', 'Equus_caballus']\n"
     ]
    },
    {
     "name": "stderr",
     "output_type": "stream",
     "text": [
      "Early stopping is not available in dart mode\n"
     ]
    },
    {
     "name": "stdout",
     "output_type": "stream",
     "text": [
      "[150]\tvalid_0's l2: 177.268\tvalid_0's l1: 7.90132\tvalid_0's huber: 6.74654\n",
      "SEED: 3 | FOLD: 1 | VALIDATION_SPECIES: ['Ailuropoda_melanoleuca', 'Gorilla_gorilla']\n",
      "[150]\tvalid_0's l2: 413.804\tvalid_0's l1: 11.6271\tvalid_0's huber: 10.1362\n",
      "SEED: 3 | FOLD: 2 | VALIDATION_SPECIES: ['Capra_hircus', 'Dasypus_novemcinctus']\n",
      "[150]\tvalid_0's l2: 244.1\tvalid_0's l1: 7.87106\tvalid_0's huber: 6.72234\n",
      "SEED: 3 | FOLD: 3 | VALIDATION_SPECIES: ['Heterocephalus_glaber', 'Mus_spicilegus']\n",
      "[150]\tvalid_0's l2: 205.44\tvalid_0's l1: 7.45065\tvalid_0's huber: 6.31801\n",
      "4\n",
      "===== fitting models with seed 4 =====\n",
      "SEED: 4 | FOLD: 0 | VALIDATION_SPECIES: ['Macaca_mulatta', 'Pan_troglodytes']\n"
     ]
    },
    {
     "name": "stderr",
     "output_type": "stream",
     "text": [
      "Early stopping is not available in dart mode\n"
     ]
    },
    {
     "name": "stdout",
     "output_type": "stream",
     "text": [
      "[150]\tvalid_0's l2: 270.408\tvalid_0's l1: 10.4655\tvalid_0's huber: 9.06376\n",
      "SEED: 4 | FOLD: 1 | VALIDATION_SPECIES: ['Otolemur_garnettii', 'Ailuropoda_melanoleuca']\n",
      "[150]\tvalid_0's l2: 288.654\tvalid_0's l1: 9.06428\tvalid_0's huber: 7.80494\n",
      "SEED: 4 | FOLD: 2 | VALIDATION_SPECIES: ['Ursus_americanus', 'Oryctolagus_cuniculus']\n",
      "[150]\tvalid_0's l2: 262.077\tvalid_0's l1: 8.66865\tvalid_0's huber: 7.44899\n",
      "SEED: 4 | FOLD: 3 | VALIDATION_SPECIES: ['Mesocricetus_auratus', 'Mus_spicilegus']\n",
      "[150]\tvalid_0's l2: 163.695\tvalid_0's l1: 6.28681\tvalid_0's huber: 5.28473\n"
     ]
    },
    {
     "name": "stderr",
     "output_type": "stream",
     "text": [
      "MultiObjectiveTrial is experimental (supported from v1.4.0). The interface can change in the future.\n",
      "MultiObjectiveStudy is experimental (supported from v1.4.0). The interface can change in the future.\n",
      "[I 2020-08-23 08:08:24,810] Trial 17 finished with values: [0.6278160211805794, 7.839497575961798, 0.461052491941908] with parameters: {'boosting_type': 'dart', 'lambda_l1': 2.484870603224714, 'lambda_l2': 2.2410637285976716, 'max_leaves': 23, 'max_depth': 3, 'feature_fraction': 0.41745647398441044, 'bagging_fraction': 0.7938267275835054, 'learning_rate': 0.03432144283157047, 'min_data_in_leaf': 8, 'drop_rate': 0.15077163401619614}.\n",
      "MultiObjectiveStudy is experimental (supported from v1.4.0). The interface can change in the future.\n",
      "FrozenMultiObjectiveTrial is experimental (supported from v1.4.0). The interface can change in the future.\n",
      "MultiObjectiveStudy is experimental (supported from v1.4.0). The interface can change in the future.\n",
      "FrozenMultiObjectiveTrial is experimental (supported from v1.4.0). The interface can change in the future.\n",
      "FrozenMultiObjectiveTrial is experimental (supported from v1.4.0). The interface can change in the future.\n",
      "MultiObjectiveTrial is experimental (supported from v1.4.0). The interface can change in the future.\n",
      "MultiObjectiveStudy is experimental (supported from v1.4.0). The interface can change in the future.\n",
      "FrozenMultiObjectiveTrial is experimental (supported from v1.4.0). The interface can change in the future.\n"
     ]
    },
    {
     "name": "stdout",
     "output_type": "stream",
     "text": [
      "0\n",
      "===== fitting models with seed 0 =====\n",
      "SEED: 0 | FOLD: 0 | VALIDATION_SPECIES: ['Gorilla_gorilla', 'Equus_caballus']\n"
     ]
    },
    {
     "name": "stderr",
     "output_type": "stream",
     "text": [
      "Early stopping is not available in dart mode\n"
     ]
    },
    {
     "name": "stdout",
     "output_type": "stream",
     "text": [
      "[150]\tvalid_0's l2: 210.394\tvalid_0's l1: 8.4671\tvalid_0's huber: 7.28674\n",
      "SEED: 0 | FOLD: 1 | VALIDATION_SPECIES: ['Ursus_americanus', 'Dasypus_novemcinctus']\n",
      "[150]\tvalid_0's l2: 136.148\tvalid_0's l1: 5.12274\tvalid_0's huber: 4.29842\n",
      "SEED: 0 | FOLD: 2 | VALIDATION_SPECIES: ['Capra_hircus', 'Mesocricetus_auratus']\n",
      "[150]\tvalid_0's l2: 57.1766\tvalid_0's l1: 4.51677\tvalid_0's huber: 3.70753\n",
      "SEED: 0 | FOLD: 3 | VALIDATION_SPECIES: ['Otolemur_garnettii', 'Macaca_fascicularis']\n",
      "[150]\tvalid_0's l2: 87.35\tvalid_0's l1: 3.9557\tvalid_0's huber: 3.22561\n",
      "1\n",
      "===== fitting models with seed 1 =====\n",
      "SEED: 1 | FOLD: 0 | VALIDATION_SPECIES: ['Rattus_norvegicus', 'Vombatus_ursinus']\n"
     ]
    },
    {
     "name": "stderr",
     "output_type": "stream",
     "text": [
      "Early stopping is not available in dart mode\n"
     ]
    },
    {
     "name": "stdout",
     "output_type": "stream",
     "text": [
      "[150]\tvalid_0's l2: 53.2133\tvalid_0's l1: 5.0588\tvalid_0's huber: 4.17594\n",
      "SEED: 1 | FOLD: 1 | VALIDATION_SPECIES: ['Ailuropoda_melanoleuca', 'Ursus_americanus']\n",
      "[150]\tvalid_0's l2: 163.495\tvalid_0's l1: 6.34886\tvalid_0's huber: 5.35604\n",
      "SEED: 1 | FOLD: 2 | VALIDATION_SPECIES: ['Rhinolophus_ferrumequinum', 'Macaca_mulatta']\n",
      "[150]\tvalid_0's l2: 166.557\tvalid_0's l1: 6.83002\tvalid_0's huber: 5.78564\n",
      "SEED: 1 | FOLD: 3 | VALIDATION_SPECIES: ['Canis_lupus_familiaris', 'Gorilla_gorilla']\n",
      "[150]\tvalid_0's l2: 187.543\tvalid_0's l1: 7.0589\tvalid_0's huber: 6.01015\n",
      "2\n",
      "===== fitting models with seed 2 =====\n",
      "SEED: 2 | FOLD: 0 | VALIDATION_SPECIES: ['Canis_lupus_familiaris', 'Ailuropoda_melanoleuca']\n"
     ]
    },
    {
     "name": "stderr",
     "output_type": "stream",
     "text": [
      "Early stopping is not available in dart mode\n"
     ]
    },
    {
     "name": "stdout",
     "output_type": "stream",
     "text": [
      "[150]\tvalid_0's l2: 67.617\tvalid_0's l1: 5.31384\tvalid_0's huber: 4.44622\n",
      "SEED: 2 | FOLD: 1 | VALIDATION_SPECIES: ['Suricata_suricatta', 'Ovis_aries']\n",
      "[150]\tvalid_0's l2: 102.6\tvalid_0's l1: 4.65443\tvalid_0's huber: 3.85367\n",
      "SEED: 2 | FOLD: 2 | VALIDATION_SPECIES: ['Rhinolophus_ferrumequinum', 'Macaca_nemestrina']\n",
      "[150]\tvalid_0's l2: 82.8487\tvalid_0's l1: 5.00669\tvalid_0's huber: 4.18004\n",
      "SEED: 2 | FOLD: 3 | VALIDATION_SPECIES: ['Monodelphis_domestica', 'Ictidomys_tridecemlineatus']\n",
      "[150]\tvalid_0's l2: 201.439\tvalid_0's l1: 9.18107\tvalid_0's huber: 7.91618\n",
      "3\n",
      "===== fitting models with seed 3 =====\n",
      "SEED: 3 | FOLD: 0 | VALIDATION_SPECIES: ['Bos_taurus', 'Equus_caballus']\n"
     ]
    },
    {
     "name": "stderr",
     "output_type": "stream",
     "text": [
      "Early stopping is not available in dart mode\n"
     ]
    },
    {
     "name": "stdout",
     "output_type": "stream",
     "text": [
      "[150]\tvalid_0's l2: 32.5223\tvalid_0's l1: 3.43183\tvalid_0's huber: 2.76861\n",
      "SEED: 3 | FOLD: 1 | VALIDATION_SPECIES: ['Ailuropoda_melanoleuca', 'Gorilla_gorilla']\n",
      "[150]\tvalid_0's l2: 201.68\tvalid_0's l1: 7.76732\tvalid_0's huber: 6.65133\n",
      "SEED: 3 | FOLD: 2 | VALIDATION_SPECIES: ['Capra_hircus', 'Dasypus_novemcinctus']\n",
      "[150]\tvalid_0's l2: 91.3482\tvalid_0's l1: 4.46938\tvalid_0's huber: 3.67562\n",
      "SEED: 3 | FOLD: 3 | VALIDATION_SPECIES: ['Heterocephalus_glaber', 'Mus_spicilegus']\n",
      "[150]\tvalid_0's l2: 102.389\tvalid_0's l1: 4.33573\tvalid_0's huber: 3.59391\n",
      "4\n",
      "===== fitting models with seed 4 =====\n",
      "SEED: 4 | FOLD: 0 | VALIDATION_SPECIES: ['Macaca_mulatta', 'Pan_troglodytes']\n"
     ]
    },
    {
     "name": "stderr",
     "output_type": "stream",
     "text": [
      "Early stopping is not available in dart mode\n"
     ]
    },
    {
     "name": "stdout",
     "output_type": "stream",
     "text": [
      "[150]\tvalid_0's l2: 95.4183\tvalid_0's l1: 6.01951\tvalid_0's huber: 5.06488\n",
      "SEED: 4 | FOLD: 1 | VALIDATION_SPECIES: ['Otolemur_garnettii', 'Ailuropoda_melanoleuca']\n",
      "[150]\tvalid_0's l2: 117.838\tvalid_0's l1: 5.09925\tvalid_0's huber: 4.25374\n",
      "SEED: 4 | FOLD: 2 | VALIDATION_SPECIES: ['Ursus_americanus', 'Oryctolagus_cuniculus']\n",
      "[150]\tvalid_0's l2: 119.642\tvalid_0's l1: 5.89583\tvalid_0's huber: 4.94803\n",
      "SEED: 4 | FOLD: 3 | VALIDATION_SPECIES: ['Mesocricetus_auratus', 'Mus_spicilegus']\n",
      "[150]\tvalid_0's l2: 82.6652\tvalid_0's l1: 4.36018\tvalid_0's huber: 3.56852\n"
     ]
    },
    {
     "name": "stderr",
     "output_type": "stream",
     "text": [
      "MultiObjectiveTrial is experimental (supported from v1.4.0). The interface can change in the future.\n",
      "MultiObjectiveStudy is experimental (supported from v1.4.0). The interface can change in the future.\n",
      "[I 2020-08-23 08:12:03,365] Trial 18 finished with values: [0.8345730978506628, 4.738339868167726, 0.4517803275246144] with parameters: {'boosting_type': 'dart', 'lambda_l1': 2.1073746708660037, 'lambda_l2': 0.11205534867246689, 'max_leaves': 25, 'max_depth': 5, 'feature_fraction': 0.390357721090189, 'bagging_fraction': 0.3233759475563886, 'learning_rate': 0.08291462711676478, 'min_data_in_leaf': 7, 'drop_rate': 0.20496539423589807}.\n",
      "MultiObjectiveStudy is experimental (supported from v1.4.0). The interface can change in the future.\n",
      "FrozenMultiObjectiveTrial is experimental (supported from v1.4.0). The interface can change in the future.\n",
      "MultiObjectiveStudy is experimental (supported from v1.4.0). The interface can change in the future.\n",
      "FrozenMultiObjectiveTrial is experimental (supported from v1.4.0). The interface can change in the future.\n",
      "FrozenMultiObjectiveTrial is experimental (supported from v1.4.0). The interface can change in the future.\n",
      "MultiObjectiveTrial is experimental (supported from v1.4.0). The interface can change in the future.\n",
      "MultiObjectiveStudy is experimental (supported from v1.4.0). The interface can change in the future.\n",
      "FrozenMultiObjectiveTrial is experimental (supported from v1.4.0). The interface can change in the future.\n"
     ]
    },
    {
     "name": "stdout",
     "output_type": "stream",
     "text": [
      "0\n",
      "===== fitting models with seed 0 =====\n",
      "SEED: 0 | FOLD: 0 | VALIDATION_SPECIES: ['Gorilla_gorilla', 'Equus_caballus']\n",
      "Training until validation scores don't improve for 10 rounds\n",
      "[150]\tvalid_0's l2: 221.072\tvalid_0's l1: 7.58831\tvalid_0's huber: 6.54573\n",
      "Did not meet early stopping. Best iteration is:\n",
      "[150]\tvalid_0's l2: 221.072\tvalid_0's l1: 7.58831\tvalid_0's huber: 6.54573\n",
      "SEED: 0 | FOLD: 1 | VALIDATION_SPECIES: ['Ursus_americanus', 'Dasypus_novemcinctus']\n",
      "Training until validation scores don't improve for 10 rounds\n",
      "[150]\tvalid_0's l2: 143.211\tvalid_0's l1: 3.67624\tvalid_0's huber: 3.0322\n",
      "Did not meet early stopping. Best iteration is:\n",
      "[150]\tvalid_0's l2: 143.211\tvalid_0's l1: 3.67624\tvalid_0's huber: 3.0322\n",
      "SEED: 0 | FOLD: 2 | VALIDATION_SPECIES: ['Capra_hircus', 'Mesocricetus_auratus']\n",
      "Training until validation scores don't improve for 10 rounds\n",
      "[150]\tvalid_0's l2: 38.2467\tvalid_0's l1: 3.78992\tvalid_0's huber: 3.0851\n",
      "Did not meet early stopping. Best iteration is:\n",
      "[149]\tvalid_0's l2: 38.2427\tvalid_0's l1: 3.78986\tvalid_0's huber: 3.08494\n",
      "SEED: 0 | FOLD: 3 | VALIDATION_SPECIES: ['Otolemur_garnettii', 'Macaca_fascicularis']\n",
      "Training until validation scores don't improve for 10 rounds\n",
      "[150]\tvalid_0's l2: 106.851\tvalid_0's l1: 2.81942\tvalid_0's huber: 2.25131\n",
      "Did not meet early stopping. Best iteration is:\n",
      "[150]\tvalid_0's l2: 106.851\tvalid_0's l1: 2.81942\tvalid_0's huber: 2.25131\n",
      "1\n",
      "===== fitting models with seed 1 =====\n",
      "SEED: 1 | FOLD: 0 | VALIDATION_SPECIES: ['Rattus_norvegicus', 'Vombatus_ursinus']\n",
      "Training until validation scores don't improve for 10 rounds\n",
      "[150]\tvalid_0's l2: 40.8197\tvalid_0's l1: 4.68837\tvalid_0's huber: 3.86284\n",
      "Did not meet early stopping. Best iteration is:\n",
      "[150]\tvalid_0's l2: 40.8197\tvalid_0's l1: 4.68837\tvalid_0's huber: 3.86284\n",
      "SEED: 1 | FOLD: 1 | VALIDATION_SPECIES: ['Ailuropoda_melanoleuca', 'Ursus_americanus']\n",
      "Training until validation scores don't improve for 10 rounds\n",
      "[150]\tvalid_0's l2: 160.395\tvalid_0's l1: 4.48675\tvalid_0's huber: 3.71883\n",
      "Did not meet early stopping. Best iteration is:\n",
      "[150]\tvalid_0's l2: 160.395\tvalid_0's l1: 4.48675\tvalid_0's huber: 3.71883\n",
      "SEED: 1 | FOLD: 2 | VALIDATION_SPECIES: ['Rhinolophus_ferrumequinum', 'Macaca_mulatta']\n",
      "Training until validation scores don't improve for 10 rounds\n",
      "[150]\tvalid_0's l2: 136.47\tvalid_0's l1: 5.23334\tvalid_0's huber: 4.35966\n",
      "Did not meet early stopping. Best iteration is:\n",
      "[148]\tvalid_0's l2: 136.467\tvalid_0's l1: 5.23347\tvalid_0's huber: 4.3598\n",
      "SEED: 1 | FOLD: 3 | VALIDATION_SPECIES: ['Canis_lupus_familiaris', 'Gorilla_gorilla']\n",
      "Training until validation scores don't improve for 10 rounds\n",
      "[150]\tvalid_0's l2: 175.456\tvalid_0's l1: 6.09819\tvalid_0's huber: 5.20416\n",
      "Did not meet early stopping. Best iteration is:\n",
      "[150]\tvalid_0's l2: 175.456\tvalid_0's l1: 6.09819\tvalid_0's huber: 5.20416\n",
      "2\n",
      "===== fitting models with seed 2 =====\n",
      "SEED: 2 | FOLD: 0 | VALIDATION_SPECIES: ['Canis_lupus_familiaris', 'Ailuropoda_melanoleuca']\n",
      "Training until validation scores don't improve for 10 rounds\n",
      "[150]\tvalid_0's l2: 39.4894\tvalid_0's l1: 3.55356\tvalid_0's huber: 2.88358\n",
      "Did not meet early stopping. Best iteration is:\n",
      "[145]\tvalid_0's l2: 39.4805\tvalid_0's l1: 3.55555\tvalid_0's huber: 2.8846\n",
      "SEED: 2 | FOLD: 1 | VALIDATION_SPECIES: ['Suricata_suricatta', 'Ovis_aries']\n",
      "Training until validation scores don't improve for 10 rounds\n",
      "[150]\tvalid_0's l2: 60.1095\tvalid_0's l1: 3.29033\tvalid_0's huber: 2.66815\n",
      "Did not meet early stopping. Best iteration is:\n",
      "[150]\tvalid_0's l2: 60.1095\tvalid_0's l1: 3.29033\tvalid_0's huber: 2.66815\n",
      "SEED: 2 | FOLD: 2 | VALIDATION_SPECIES: ['Rhinolophus_ferrumequinum', 'Macaca_nemestrina']\n",
      "Training until validation scores don't improve for 10 rounds\n",
      "[150]\tvalid_0's l2: 92.5207\tvalid_0's l1: 4.22713\tvalid_0's huber: 3.50511\n",
      "Did not meet early stopping. Best iteration is:\n",
      "[147]\tvalid_0's l2: 92.4903\tvalid_0's l1: 4.22626\tvalid_0's huber: 3.5043\n",
      "SEED: 2 | FOLD: 3 | VALIDATION_SPECIES: ['Monodelphis_domestica', 'Ictidomys_tridecemlineatus']\n",
      "Training until validation scores don't improve for 10 rounds\n",
      "Early stopping, best iteration is:\n",
      "[138]\tvalid_0's l2: 206.614\tvalid_0's l1: 8.92363\tvalid_0's huber: 7.72604\n",
      "3\n",
      "===== fitting models with seed 3 =====\n",
      "SEED: 3 | FOLD: 0 | VALIDATION_SPECIES: ['Bos_taurus', 'Equus_caballus']\n",
      "Training until validation scores don't improve for 10 rounds\n",
      "[150]\tvalid_0's l2: 22.6921\tvalid_0's l1: 2.41675\tvalid_0's huber: 1.88493\n",
      "Did not meet early stopping. Best iteration is:\n",
      "[150]\tvalid_0's l2: 22.6921\tvalid_0's l1: 2.41675\tvalid_0's huber: 1.88493\n",
      "SEED: 3 | FOLD: 1 | VALIDATION_SPECIES: ['Ailuropoda_melanoleuca', 'Gorilla_gorilla']\n",
      "Training until validation scores don't improve for 10 rounds\n",
      "[150]\tvalid_0's l2: 229.963\tvalid_0's l1: 6.86557\tvalid_0's huber: 5.89255\n",
      "Did not meet early stopping. Best iteration is:\n",
      "[150]\tvalid_0's l2: 229.963\tvalid_0's l1: 6.86557\tvalid_0's huber: 5.89255\n",
      "SEED: 3 | FOLD: 2 | VALIDATION_SPECIES: ['Capra_hircus', 'Dasypus_novemcinctus']\n",
      "Training until validation scores don't improve for 10 rounds\n",
      "[150]\tvalid_0's l2: 89.9124\tvalid_0's l1: 3.82818\tvalid_0's huber: 3.15033\n",
      "Did not meet early stopping. Best iteration is:\n",
      "[150]\tvalid_0's l2: 89.9124\tvalid_0's l1: 3.82818\tvalid_0's huber: 3.15033\n",
      "SEED: 3 | FOLD: 3 | VALIDATION_SPECIES: ['Heterocephalus_glaber', 'Mus_spicilegus']\n",
      "Training until validation scores don't improve for 10 rounds\n",
      "[150]\tvalid_0's l2: 120.423\tvalid_0's l1: 3.53913\tvalid_0's huber: 2.92631\n",
      "Did not meet early stopping. Best iteration is:\n",
      "[150]\tvalid_0's l2: 120.423\tvalid_0's l1: 3.53913\tvalid_0's huber: 2.92631\n",
      "4\n",
      "===== fitting models with seed 4 =====\n",
      "SEED: 4 | FOLD: 0 | VALIDATION_SPECIES: ['Macaca_mulatta', 'Pan_troglodytes']\n",
      "Training until validation scores don't improve for 10 rounds\n",
      "Early stopping, best iteration is:\n",
      "[139]\tvalid_0's l2: 45.9019\tvalid_0's l1: 3.72287\tvalid_0's huber: 3.0621\n",
      "SEED: 4 | FOLD: 1 | VALIDATION_SPECIES: ['Otolemur_garnettii', 'Ailuropoda_melanoleuca']\n",
      "Training until validation scores don't improve for 10 rounds\n",
      "[150]\tvalid_0's l2: 94.9165\tvalid_0's l1: 3.85239\tvalid_0's huber: 3.1606\n",
      "Did not meet early stopping. Best iteration is:\n",
      "[150]\tvalid_0's l2: 94.9165\tvalid_0's l1: 3.85239\tvalid_0's huber: 3.1606\n",
      "SEED: 4 | FOLD: 2 | VALIDATION_SPECIES: ['Ursus_americanus', 'Oryctolagus_cuniculus']\n",
      "Training until validation scores don't improve for 10 rounds\n",
      "[150]\tvalid_0's l2: 95.4489\tvalid_0's l1: 4.66062\tvalid_0's huber: 3.87295\n",
      "Did not meet early stopping. Best iteration is:\n",
      "[147]\tvalid_0's l2: 95.4365\tvalid_0's l1: 4.66026\tvalid_0's huber: 3.87261\n",
      "SEED: 4 | FOLD: 3 | VALIDATION_SPECIES: ['Mesocricetus_auratus', 'Mus_spicilegus']\n",
      "Training until validation scores don't improve for 10 rounds\n",
      "[150]\tvalid_0's l2: 106.119\tvalid_0's l1: 3.92452\tvalid_0's huber: 3.21823\n",
      "Did not meet early stopping. Best iteration is:\n",
      "[150]\tvalid_0's l2: 106.119\tvalid_0's l1: 3.92452\tvalid_0's huber: 3.21823\n"
     ]
    },
    {
     "name": "stderr",
     "output_type": "stream",
     "text": [
      "MultiObjectiveTrial is experimental (supported from v1.4.0). The interface can change in the future.\n",
      "MultiObjectiveStudy is experimental (supported from v1.4.0). The interface can change in the future.\n",
      "[I 2020-08-23 08:18:12,073] Trial 19 finished with values: [0.8428700943755644, 3.8003523636417027, 0.43836075467421176] with parameters: {'boosting_type': 'gbdt', 'lambda_l1': 0.5626751896166571, 'lambda_l2': 0.03467322003984746, 'max_leaves': 21, 'max_depth': 5, 'feature_fraction': 0.837283867172208, 'bagging_fraction': 0.9383621176327976, 'learning_rate': 0.04821967006019676, 'min_data_in_leaf': 3, 'drop_rate': 0.19242966348454144}.\n",
      "MultiObjectiveStudy is experimental (supported from v1.4.0). The interface can change in the future.\n",
      "FrozenMultiObjectiveTrial is experimental (supported from v1.4.0). The interface can change in the future.\n",
      "MultiObjectiveStudy is experimental (supported from v1.4.0). The interface can change in the future.\n",
      "FrozenMultiObjectiveTrial is experimental (supported from v1.4.0). The interface can change in the future.\n",
      "FrozenMultiObjectiveTrial is experimental (supported from v1.4.0). The interface can change in the future.\n",
      "MultiObjectiveTrial is experimental (supported from v1.4.0). The interface can change in the future.\n",
      "MultiObjectiveStudy is experimental (supported from v1.4.0). The interface can change in the future.\n",
      "FrozenMultiObjectiveTrial is experimental (supported from v1.4.0). The interface can change in the future.\n"
     ]
    },
    {
     "name": "stdout",
     "output_type": "stream",
     "text": [
      "0\n",
      "===== fitting models with seed 0 =====\n",
      "SEED: 0 | FOLD: 0 | VALIDATION_SPECIES: ['Gorilla_gorilla', 'Equus_caballus']\n",
      "Training until validation scores don't improve for 10 rounds\n",
      "[150]\tvalid_0's l2: 164.913\tvalid_0's l1: 7.243\tvalid_0's huber: 6.1715\n",
      "Did not meet early stopping. Best iteration is:\n",
      "[150]\tvalid_0's l2: 164.913\tvalid_0's l1: 7.243\tvalid_0's huber: 6.1715\n",
      "SEED: 0 | FOLD: 1 | VALIDATION_SPECIES: ['Ursus_americanus', 'Dasypus_novemcinctus']\n",
      "Training until validation scores don't improve for 10 rounds\n",
      "[150]\tvalid_0's l2: 119.051\tvalid_0's l1: 4.45884\tvalid_0's huber: 3.68764\n",
      "Did not meet early stopping. Best iteration is:\n",
      "[150]\tvalid_0's l2: 119.051\tvalid_0's l1: 4.45884\tvalid_0's huber: 3.68764\n",
      "SEED: 0 | FOLD: 2 | VALIDATION_SPECIES: ['Capra_hircus', 'Mesocricetus_auratus']\n",
      "Training until validation scores don't improve for 10 rounds\n",
      "[150]\tvalid_0's l2: 62.9926\tvalid_0's l1: 4.54866\tvalid_0's huber: 3.74354\n",
      "Did not meet early stopping. Best iteration is:\n",
      "[150]\tvalid_0's l2: 62.9926\tvalid_0's l1: 4.54866\tvalid_0's huber: 3.74354\n",
      "SEED: 0 | FOLD: 3 | VALIDATION_SPECIES: ['Otolemur_garnettii', 'Macaca_fascicularis']\n",
      "Training until validation scores don't improve for 10 rounds\n",
      "[150]\tvalid_0's l2: 74.5042\tvalid_0's l1: 3.097\tvalid_0's huber: 2.44859\n",
      "Did not meet early stopping. Best iteration is:\n",
      "[150]\tvalid_0's l2: 74.5042\tvalid_0's l1: 3.097\tvalid_0's huber: 2.44859\n",
      "1\n",
      "===== fitting models with seed 1 =====\n",
      "SEED: 1 | FOLD: 0 | VALIDATION_SPECIES: ['Rattus_norvegicus', 'Vombatus_ursinus']\n",
      "Training until validation scores don't improve for 10 rounds\n",
      "[150]\tvalid_0's l2: 42.1055\tvalid_0's l1: 4.62878\tvalid_0's huber: 3.79103\n",
      "Did not meet early stopping. Best iteration is:\n",
      "[150]\tvalid_0's l2: 42.1055\tvalid_0's l1: 4.62878\tvalid_0's huber: 3.79103\n",
      "SEED: 1 | FOLD: 1 | VALIDATION_SPECIES: ['Ailuropoda_melanoleuca', 'Ursus_americanus']\n",
      "Training until validation scores don't improve for 10 rounds\n",
      "[150]\tvalid_0's l2: 126.956\tvalid_0's l1: 4.20252\tvalid_0's huber: 3.43135\n",
      "Did not meet early stopping. Best iteration is:\n",
      "[150]\tvalid_0's l2: 126.956\tvalid_0's l1: 4.20252\tvalid_0's huber: 3.43135\n",
      "SEED: 1 | FOLD: 2 | VALIDATION_SPECIES: ['Rhinolophus_ferrumequinum', 'Macaca_mulatta']\n",
      "Training until validation scores don't improve for 10 rounds\n",
      "[150]\tvalid_0's l2: 83.7419\tvalid_0's l1: 4.62033\tvalid_0's huber: 3.79809\n",
      "Did not meet early stopping. Best iteration is:\n",
      "[150]\tvalid_0's l2: 83.7419\tvalid_0's l1: 4.62033\tvalid_0's huber: 3.79809\n",
      "SEED: 1 | FOLD: 3 | VALIDATION_SPECIES: ['Canis_lupus_familiaris', 'Gorilla_gorilla']\n",
      "Training until validation scores don't improve for 10 rounds\n",
      "[150]\tvalid_0's l2: 134.551\tvalid_0's l1: 5.43524\tvalid_0's huber: 4.54722\n",
      "Did not meet early stopping. Best iteration is:\n",
      "[150]\tvalid_0's l2: 134.551\tvalid_0's l1: 5.43524\tvalid_0's huber: 4.54722\n",
      "2\n",
      "===== fitting models with seed 2 =====\n",
      "SEED: 2 | FOLD: 0 | VALIDATION_SPECIES: ['Canis_lupus_familiaris', 'Ailuropoda_melanoleuca']\n",
      "Training until validation scores don't improve for 10 rounds\n",
      "[150]\tvalid_0's l2: 31.1851\tvalid_0's l1: 3.55806\tvalid_0's huber: 2.86315\n",
      "Did not meet early stopping. Best iteration is:\n",
      "[150]\tvalid_0's l2: 31.1851\tvalid_0's l1: 3.55806\tvalid_0's huber: 2.86315\n",
      "SEED: 2 | FOLD: 1 | VALIDATION_SPECIES: ['Suricata_suricatta', 'Ovis_aries']\n",
      "Training until validation scores don't improve for 10 rounds\n",
      "[150]\tvalid_0's l2: 65.1992\tvalid_0's l1: 3.57694\tvalid_0's huber: 2.88693\n",
      "Did not meet early stopping. Best iteration is:\n",
      "[150]\tvalid_0's l2: 65.1992\tvalid_0's l1: 3.57694\tvalid_0's huber: 2.88693\n",
      "SEED: 2 | FOLD: 2 | VALIDATION_SPECIES: ['Rhinolophus_ferrumequinum', 'Macaca_nemestrina']\n",
      "Training until validation scores don't improve for 10 rounds\n",
      "[150]\tvalid_0's l2: 63.7959\tvalid_0's l1: 3.94109\tvalid_0's huber: 3.21735\n",
      "Did not meet early stopping. Best iteration is:\n",
      "[149]\tvalid_0's l2: 63.766\tvalid_0's l1: 3.93981\tvalid_0's huber: 3.21628\n",
      "SEED: 2 | FOLD: 3 | VALIDATION_SPECIES: ['Monodelphis_domestica', 'Ictidomys_tridecemlineatus']\n",
      "Training until validation scores don't improve for 10 rounds\n",
      "[150]\tvalid_0's l2: 166.504\tvalid_0's l1: 8.53366\tvalid_0's huber: 7.32154\n",
      "Did not meet early stopping. Best iteration is:\n",
      "[150]\tvalid_0's l2: 166.504\tvalid_0's l1: 8.53366\tvalid_0's huber: 7.32154\n",
      "3\n",
      "===== fitting models with seed 3 =====\n",
      "SEED: 3 | FOLD: 0 | VALIDATION_SPECIES: ['Bos_taurus', 'Equus_caballus']\n",
      "Training until validation scores don't improve for 10 rounds\n",
      "[150]\tvalid_0's l2: 25.851\tvalid_0's l1: 2.95375\tvalid_0's huber: 2.33004\n",
      "Did not meet early stopping. Best iteration is:\n",
      "[150]\tvalid_0's l2: 25.851\tvalid_0's l1: 2.95375\tvalid_0's huber: 2.33004\n",
      "SEED: 3 | FOLD: 1 | VALIDATION_SPECIES: ['Ailuropoda_melanoleuca', 'Gorilla_gorilla']\n",
      "Training until validation scores don't improve for 10 rounds\n",
      "[150]\tvalid_0's l2: 145.308\tvalid_0's l1: 6.23307\tvalid_0's huber: 5.27446\n",
      "Did not meet early stopping. Best iteration is:\n",
      "[148]\tvalid_0's l2: 145.288\tvalid_0's l1: 6.23508\tvalid_0's huber: 5.27522\n",
      "SEED: 3 | FOLD: 2 | VALIDATION_SPECIES: ['Capra_hircus', 'Dasypus_novemcinctus']\n",
      "Training until validation scores don't improve for 10 rounds\n",
      "[150]\tvalid_0's l2: 87.6059\tvalid_0's l1: 4.22588\tvalid_0's huber: 3.47259\n",
      "Did not meet early stopping. Best iteration is:\n",
      "[150]\tvalid_0's l2: 87.6059\tvalid_0's l1: 4.22588\tvalid_0's huber: 3.47259\n",
      "SEED: 3 | FOLD: 3 | VALIDATION_SPECIES: ['Heterocephalus_glaber', 'Mus_spicilegus']\n",
      "Training until validation scores don't improve for 10 rounds\n",
      "[150]\tvalid_0's l2: 94.229\tvalid_0's l1: 3.6994\tvalid_0's huber: 3.0136\n",
      "Did not meet early stopping. Best iteration is:\n",
      "[149]\tvalid_0's l2: 94.1744\tvalid_0's l1: 3.69963\tvalid_0's huber: 3.01393\n",
      "4\n",
      "===== fitting models with seed 4 =====\n",
      "SEED: 4 | FOLD: 0 | VALIDATION_SPECIES: ['Macaca_mulatta', 'Pan_troglodytes']\n",
      "Training until validation scores don't improve for 10 rounds\n",
      "[150]\tvalid_0's l2: 53.6294\tvalid_0's l1: 4.20775\tvalid_0's huber: 3.45069\n",
      "Did not meet early stopping. Best iteration is:\n",
      "[150]\tvalid_0's l2: 53.6294\tvalid_0's l1: 4.20775\tvalid_0's huber: 3.45069\n",
      "SEED: 4 | FOLD: 1 | VALIDATION_SPECIES: ['Otolemur_garnettii', 'Ailuropoda_melanoleuca']\n",
      "Training until validation scores don't improve for 10 rounds\n",
      "[150]\tvalid_0's l2: 93.1233\tvalid_0's l1: 3.95595\tvalid_0's huber: 3.22283\n",
      "Did not meet early stopping. Best iteration is:\n",
      "[150]\tvalid_0's l2: 93.1233\tvalid_0's l1: 3.95595\tvalid_0's huber: 3.22283\n",
      "SEED: 4 | FOLD: 2 | VALIDATION_SPECIES: ['Ursus_americanus', 'Oryctolagus_cuniculus']\n",
      "Training until validation scores don't improve for 10 rounds\n",
      "[150]\tvalid_0's l2: 98.6164\tvalid_0's l1: 4.87762\tvalid_0's huber: 4.05302\n",
      "Did not meet early stopping. Best iteration is:\n",
      "[150]\tvalid_0's l2: 98.6164\tvalid_0's l1: 4.87762\tvalid_0's huber: 4.05302\n",
      "SEED: 4 | FOLD: 3 | VALIDATION_SPECIES: ['Mesocricetus_auratus', 'Mus_spicilegus']\n",
      "Training until validation scores don't improve for 10 rounds\n",
      "[150]\tvalid_0's l2: 73.7841\tvalid_0's l1: 3.68756\tvalid_0's huber: 2.98741\n",
      "Did not meet early stopping. Best iteration is:\n",
      "[150]\tvalid_0's l2: 73.7841\tvalid_0's l1: 3.68756\tvalid_0's huber: 2.98741\n"
     ]
    },
    {
     "name": "stderr",
     "output_type": "stream",
     "text": [
      "MultiObjectiveTrial is experimental (supported from v1.4.0). The interface can change in the future.\n",
      "MultiObjectiveStudy is experimental (supported from v1.4.0). The interface can change in the future.\n",
      "[I 2020-08-23 08:21:55,631] Trial 20 finished with values: [0.8717734819775057, 3.7856279469020166, 0.5201122523488676] with parameters: {'boosting_type': 'gbdt', 'lambda_l1': 2.9871790149548096, 'lambda_l2': 0.802711218590206, 'max_leaves': 22, 'max_depth': 3, 'feature_fraction': 0.8213256529634141, 'bagging_fraction': 0.3271261599371804, 'learning_rate': 0.041936730886533706, 'min_data_in_leaf': 3, 'drop_rate': 0.13667774347616335}.\n",
      "MultiObjectiveStudy is experimental (supported from v1.4.0). The interface can change in the future.\n",
      "FrozenMultiObjectiveTrial is experimental (supported from v1.4.0). The interface can change in the future.\n",
      "MultiObjectiveStudy is experimental (supported from v1.4.0). The interface can change in the future.\n",
      "FrozenMultiObjectiveTrial is experimental (supported from v1.4.0). The interface can change in the future.\n",
      "FrozenMultiObjectiveTrial is experimental (supported from v1.4.0). The interface can change in the future.\n",
      "MultiObjectiveTrial is experimental (supported from v1.4.0). The interface can change in the future.\n",
      "MultiObjectiveStudy is experimental (supported from v1.4.0). The interface can change in the future.\n",
      "FrozenMultiObjectiveTrial is experimental (supported from v1.4.0). The interface can change in the future.\n"
     ]
    },
    {
     "name": "stdout",
     "output_type": "stream",
     "text": [
      "0\n",
      "===== fitting models with seed 0 =====\n",
      "SEED: 0 | FOLD: 0 | VALIDATION_SPECIES: ['Gorilla_gorilla', 'Equus_caballus']\n",
      "Training until validation scores don't improve for 10 rounds\n",
      "[150]\tvalid_0's l2: 257.525\tvalid_0's l1: 8.78311\tvalid_0's huber: 7.52495\n",
      "Did not meet early stopping. Best iteration is:\n",
      "[150]\tvalid_0's l2: 257.525\tvalid_0's l1: 8.78311\tvalid_0's huber: 7.52495\n",
      "SEED: 0 | FOLD: 1 | VALIDATION_SPECIES: ['Ursus_americanus', 'Dasypus_novemcinctus']\n",
      "Training until validation scores don't improve for 10 rounds\n",
      "[150]\tvalid_0's l2: 168.258\tvalid_0's l1: 3.92808\tvalid_0's huber: 3.18415\n",
      "Did not meet early stopping. Best iteration is:\n",
      "[150]\tvalid_0's l2: 168.258\tvalid_0's l1: 3.92808\tvalid_0's huber: 3.18415\n",
      "SEED: 0 | FOLD: 2 | VALIDATION_SPECIES: ['Capra_hircus', 'Mesocricetus_auratus']\n",
      "Training until validation scores don't improve for 10 rounds\n",
      "[150]\tvalid_0's l2: 112.774\tvalid_0's l1: 5.79876\tvalid_0's huber: 4.83048\n",
      "Did not meet early stopping. Best iteration is:\n",
      "[149]\tvalid_0's l2: 112.772\tvalid_0's l1: 5.81366\tvalid_0's huber: 4.84339\n",
      "SEED: 0 | FOLD: 3 | VALIDATION_SPECIES: ['Otolemur_garnettii', 'Macaca_fascicularis']\n",
      "Training until validation scores don't improve for 10 rounds\n",
      "[150]\tvalid_0's l2: 87.8953\tvalid_0's l1: 3.77365\tvalid_0's huber: 3.02471\n",
      "Did not meet early stopping. Best iteration is:\n",
      "[150]\tvalid_0's l2: 87.8953\tvalid_0's l1: 3.77365\tvalid_0's huber: 3.02471\n",
      "1\n",
      "===== fitting models with seed 1 =====\n",
      "SEED: 1 | FOLD: 0 | VALIDATION_SPECIES: ['Rattus_norvegicus', 'Vombatus_ursinus']\n",
      "Training until validation scores don't improve for 10 rounds\n",
      "[150]\tvalid_0's l2: 38.7527\tvalid_0's l1: 4.57429\tvalid_0's huber: 3.71916\n",
      "Did not meet early stopping. Best iteration is:\n",
      "[150]\tvalid_0's l2: 38.7527\tvalid_0's l1: 4.57429\tvalid_0's huber: 3.71916\n",
      "SEED: 1 | FOLD: 1 | VALIDATION_SPECIES: ['Ailuropoda_melanoleuca', 'Ursus_americanus']\n",
      "Training until validation scores don't improve for 10 rounds\n",
      "[150]\tvalid_0's l2: 224.256\tvalid_0's l1: 5.63299\tvalid_0's huber: 4.6983\n",
      "Did not meet early stopping. Best iteration is:\n",
      "[150]\tvalid_0's l2: 224.256\tvalid_0's l1: 5.63299\tvalid_0's huber: 4.6983\n",
      "SEED: 1 | FOLD: 2 | VALIDATION_SPECIES: ['Rhinolophus_ferrumequinum', 'Macaca_mulatta']\n",
      "Training until validation scores don't improve for 10 rounds\n",
      "[150]\tvalid_0's l2: 159.666\tvalid_0's l1: 5.97251\tvalid_0's huber: 4.99861\n",
      "Did not meet early stopping. Best iteration is:\n",
      "[150]\tvalid_0's l2: 159.666\tvalid_0's l1: 5.97251\tvalid_0's huber: 4.99861\n",
      "SEED: 1 | FOLD: 3 | VALIDATION_SPECIES: ['Canis_lupus_familiaris', 'Gorilla_gorilla']\n",
      "Training until validation scores don't improve for 10 rounds\n",
      "[150]\tvalid_0's l2: 183.551\tvalid_0's l1: 6.93908\tvalid_0's huber: 5.87065\n",
      "Did not meet early stopping. Best iteration is:\n",
      "[150]\tvalid_0's l2: 183.551\tvalid_0's l1: 6.93908\tvalid_0's huber: 5.87065\n",
      "2\n",
      "===== fitting models with seed 2 =====\n",
      "SEED: 2 | FOLD: 0 | VALIDATION_SPECIES: ['Canis_lupus_familiaris', 'Ailuropoda_melanoleuca']\n",
      "Training until validation scores don't improve for 10 rounds\n",
      "[150]\tvalid_0's l2: 45.8392\tvalid_0's l1: 4.50996\tvalid_0's huber: 3.67752\n",
      "Did not meet early stopping. Best iteration is:\n",
      "[150]\tvalid_0's l2: 45.8392\tvalid_0's l1: 4.50996\tvalid_0's huber: 3.67752\n",
      "SEED: 2 | FOLD: 1 | VALIDATION_SPECIES: ['Suricata_suricatta', 'Ovis_aries']\n",
      "Training until validation scores don't improve for 10 rounds\n",
      "[150]\tvalid_0's l2: 91.7256\tvalid_0's l1: 4.22892\tvalid_0's huber: 3.41832\n",
      "Did not meet early stopping. Best iteration is:\n",
      "[150]\tvalid_0's l2: 91.7256\tvalid_0's l1: 4.22892\tvalid_0's huber: 3.41832\n",
      "SEED: 2 | FOLD: 2 | VALIDATION_SPECIES: ['Rhinolophus_ferrumequinum', 'Macaca_nemestrina']\n",
      "Training until validation scores don't improve for 10 rounds\n",
      "[150]\tvalid_0's l2: 129.746\tvalid_0's l1: 5.61638\tvalid_0's huber: 4.65763\n",
      "Did not meet early stopping. Best iteration is:\n",
      "[150]\tvalid_0's l2: 129.746\tvalid_0's l1: 5.61638\tvalid_0's huber: 4.65763\n",
      "SEED: 2 | FOLD: 3 | VALIDATION_SPECIES: ['Monodelphis_domestica', 'Ictidomys_tridecemlineatus']\n",
      "Training until validation scores don't improve for 10 rounds\n",
      "[150]\tvalid_0's l2: 242.666\tvalid_0's l1: 10.2154\tvalid_0's huber: 8.79797\n",
      "Did not meet early stopping. Best iteration is:\n",
      "[150]\tvalid_0's l2: 242.666\tvalid_0's l1: 10.2154\tvalid_0's huber: 8.79797\n",
      "3\n",
      "===== fitting models with seed 3 =====\n",
      "SEED: 3 | FOLD: 0 | VALIDATION_SPECIES: ['Bos_taurus', 'Equus_caballus']\n",
      "Training until validation scores don't improve for 10 rounds\n",
      "[150]\tvalid_0's l2: 33.8833\tvalid_0's l1: 3.70524\tvalid_0's huber: 2.93994\n",
      "Did not meet early stopping. Best iteration is:\n",
      "[150]\tvalid_0's l2: 33.8833\tvalid_0's l1: 3.70524\tvalid_0's huber: 2.93994\n",
      "SEED: 3 | FOLD: 1 | VALIDATION_SPECIES: ['Ailuropoda_melanoleuca', 'Gorilla_gorilla']\n",
      "Training until validation scores don't improve for 10 rounds\n",
      "[150]\tvalid_0's l2: 255.649\tvalid_0's l1: 7.81787\tvalid_0's huber: 6.63901\n",
      "Did not meet early stopping. Best iteration is:\n",
      "[150]\tvalid_0's l2: 255.649\tvalid_0's l1: 7.81787\tvalid_0's huber: 6.63901\n",
      "SEED: 3 | FOLD: 2 | VALIDATION_SPECIES: ['Capra_hircus', 'Dasypus_novemcinctus']\n",
      "Training until validation scores don't improve for 10 rounds\n",
      "[150]\tvalid_0's l2: 112.384\tvalid_0's l1: 4.76057\tvalid_0's huber: 3.91269\n",
      "Did not meet early stopping. Best iteration is:\n",
      "[150]\tvalid_0's l2: 112.384\tvalid_0's l1: 4.76057\tvalid_0's huber: 3.91269\n",
      "SEED: 3 | FOLD: 3 | VALIDATION_SPECIES: ['Heterocephalus_glaber', 'Mus_spicilegus']\n",
      "Training until validation scores don't improve for 10 rounds\n",
      "[150]\tvalid_0's l2: 97.0413\tvalid_0's l1: 4.47402\tvalid_0's huber: 3.64787\n",
      "Did not meet early stopping. Best iteration is:\n",
      "[150]\tvalid_0's l2: 97.0413\tvalid_0's l1: 4.47402\tvalid_0's huber: 3.64787\n",
      "4\n",
      "===== fitting models with seed 4 =====\n",
      "SEED: 4 | FOLD: 0 | VALIDATION_SPECIES: ['Macaca_mulatta', 'Pan_troglodytes']\n",
      "Training until validation scores don't improve for 10 rounds\n",
      "[150]\tvalid_0's l2: 67.9441\tvalid_0's l1: 5.17933\tvalid_0's huber: 4.27389\n",
      "Did not meet early stopping. Best iteration is:\n",
      "[150]\tvalid_0's l2: 67.9441\tvalid_0's l1: 5.17933\tvalid_0's huber: 4.27389\n",
      "SEED: 4 | FOLD: 1 | VALIDATION_SPECIES: ['Otolemur_garnettii', 'Ailuropoda_melanoleuca']\n",
      "Training until validation scores don't improve for 10 rounds\n",
      "[150]\tvalid_0's l2: 107.332\tvalid_0's l1: 4.25516\tvalid_0's huber: 3.45901\n",
      "Did not meet early stopping. Best iteration is:\n",
      "[150]\tvalid_0's l2: 107.332\tvalid_0's l1: 4.25516\tvalid_0's huber: 3.45901\n",
      "SEED: 4 | FOLD: 2 | VALIDATION_SPECIES: ['Ursus_americanus', 'Oryctolagus_cuniculus']\n",
      "Training until validation scores don't improve for 10 rounds\n",
      "[150]\tvalid_0's l2: 114.4\tvalid_0's l1: 5.08233\tvalid_0's huber: 4.19957\n",
      "Did not meet early stopping. Best iteration is:\n",
      "[150]\tvalid_0's l2: 114.4\tvalid_0's l1: 5.08233\tvalid_0's huber: 4.19957\n",
      "SEED: 4 | FOLD: 3 | VALIDATION_SPECIES: ['Mesocricetus_auratus', 'Mus_spicilegus']\n",
      "Training until validation scores don't improve for 10 rounds\n",
      "[150]\tvalid_0's l2: 136.885\tvalid_0's l1: 4.59538\tvalid_0's huber: 3.75479\n",
      "Did not meet early stopping. Best iteration is:\n",
      "[150]\tvalid_0's l2: 136.885\tvalid_0's l1: 4.59538\tvalid_0's huber: 3.75479\n"
     ]
    },
    {
     "name": "stderr",
     "output_type": "stream",
     "text": [
      "MultiObjectiveTrial is experimental (supported from v1.4.0). The interface can change in the future.\n",
      "MultiObjectiveStudy is experimental (supported from v1.4.0). The interface can change in the future.\n",
      "[I 2020-08-23 08:29:00,870] Trial 21 finished with values: [0.8124665365901584, 4.561461395767329, 0.3907608633199571] with parameters: {'boosting_type': 'gbdt', 'lambda_l1': 0.6900404709189937, 'lambda_l2': 0.5452125553492627, 'max_leaves': 20, 'max_depth': 8, 'feature_fraction': 0.9387724128270138, 'bagging_fraction': 0.5596483038120704, 'learning_rate': 0.0180838347665272, 'min_data_in_leaf': 6, 'drop_rate': 0.14125568474842692}.\n",
      "MultiObjectiveStudy is experimental (supported from v1.4.0). The interface can change in the future.\n",
      "FrozenMultiObjectiveTrial is experimental (supported from v1.4.0). The interface can change in the future.\n",
      "MultiObjectiveStudy is experimental (supported from v1.4.0). The interface can change in the future.\n",
      "FrozenMultiObjectiveTrial is experimental (supported from v1.4.0). The interface can change in the future.\n",
      "FrozenMultiObjectiveTrial is experimental (supported from v1.4.0). The interface can change in the future.\n",
      "MultiObjectiveTrial is experimental (supported from v1.4.0). The interface can change in the future.\n",
      "MultiObjectiveStudy is experimental (supported from v1.4.0). The interface can change in the future.\n",
      "FrozenMultiObjectiveTrial is experimental (supported from v1.4.0). The interface can change in the future.\n"
     ]
    },
    {
     "name": "stdout",
     "output_type": "stream",
     "text": [
      "0\n",
      "===== fitting models with seed 0 =====\n",
      "SEED: 0 | FOLD: 0 | VALIDATION_SPECIES: ['Gorilla_gorilla', 'Equus_caballus']\n",
      "Training until validation scores don't improve for 10 rounds\n",
      "Early stopping, best iteration is:\n",
      "[93]\tvalid_0's l2: 211.022\tvalid_0's l1: 7.64164\tvalid_0's huber: 6.55701\n",
      "SEED: 0 | FOLD: 1 | VALIDATION_SPECIES: ['Ursus_americanus', 'Dasypus_novemcinctus']\n",
      "Training until validation scores don't improve for 10 rounds\n",
      "Early stopping, best iteration is:\n",
      "[79]\tvalid_0's l2: 93.7725\tvalid_0's l1: 3.84027\tvalid_0's huber: 3.17287\n",
      "SEED: 0 | FOLD: 2 | VALIDATION_SPECIES: ['Capra_hircus', 'Mesocricetus_auratus']\n",
      "Training until validation scores don't improve for 10 rounds\n",
      "[150]\tvalid_0's l2: 56.8185\tvalid_0's l1: 4.33608\tvalid_0's huber: 3.56963\n",
      "Did not meet early stopping. Best iteration is:\n",
      "[145]\tvalid_0's l2: 56.8082\tvalid_0's l1: 4.33623\tvalid_0's huber: 3.56968\n",
      "SEED: 0 | FOLD: 3 | VALIDATION_SPECIES: ['Otolemur_garnettii', 'Macaca_fascicularis']\n",
      "Training until validation scores don't improve for 10 rounds\n",
      "[150]\tvalid_0's l2: 60.481\tvalid_0's l1: 2.95167\tvalid_0's huber: 2.34809\n",
      "Did not meet early stopping. Best iteration is:\n",
      "[150]\tvalid_0's l2: 60.481\tvalid_0's l1: 2.95167\tvalid_0's huber: 2.34809\n",
      "1\n",
      "===== fitting models with seed 1 =====\n",
      "SEED: 1 | FOLD: 0 | VALIDATION_SPECIES: ['Rattus_norvegicus', 'Vombatus_ursinus']\n",
      "Training until validation scores don't improve for 10 rounds\n",
      "Early stopping, best iteration is:\n",
      "[104]\tvalid_0's l2: 42.1438\tvalid_0's l1: 4.83354\tvalid_0's huber: 3.9823\n",
      "SEED: 1 | FOLD: 1 | VALIDATION_SPECIES: ['Ailuropoda_melanoleuca', 'Ursus_americanus']\n",
      "Training until validation scores don't improve for 10 rounds\n",
      "Early stopping, best iteration is:\n",
      "[78]\tvalid_0's l2: 157.38\tvalid_0's l1: 4.93378\tvalid_0's huber: 4.11514\n",
      "SEED: 1 | FOLD: 2 | VALIDATION_SPECIES: ['Rhinolophus_ferrumequinum', 'Macaca_mulatta']\n",
      "Training until validation scores don't improve for 10 rounds\n",
      "Early stopping, best iteration is:\n",
      "[81]\tvalid_0's l2: 114.129\tvalid_0's l1: 4.83398\tvalid_0's huber: 4.01724\n",
      "SEED: 1 | FOLD: 3 | VALIDATION_SPECIES: ['Canis_lupus_familiaris', 'Gorilla_gorilla']\n",
      "Training until validation scores don't improve for 10 rounds\n",
      "[150]\tvalid_0's l2: 130.571\tvalid_0's l1: 5.66153\tvalid_0's huber: 4.77149\n",
      "Did not meet early stopping. Best iteration is:\n",
      "[147]\tvalid_0's l2: 130.545\tvalid_0's l1: 5.66129\tvalid_0's huber: 4.7713\n",
      "2\n",
      "===== fitting models with seed 2 =====\n",
      "SEED: 2 | FOLD: 0 | VALIDATION_SPECIES: ['Canis_lupus_familiaris', 'Ailuropoda_melanoleuca']\n",
      "Training until validation scores don't improve for 10 rounds\n",
      "Early stopping, best iteration is:\n",
      "[85]\tvalid_0's l2: 35.0895\tvalid_0's l1: 3.69239\tvalid_0's huber: 2.99736\n",
      "SEED: 2 | FOLD: 1 | VALIDATION_SPECIES: ['Suricata_suricatta', 'Ovis_aries']\n",
      "Training until validation scores don't improve for 10 rounds\n",
      "Early stopping, best iteration is:\n",
      "[91]\tvalid_0's l2: 54.2075\tvalid_0's l1: 3.30015\tvalid_0's huber: 2.66346\n",
      "SEED: 2 | FOLD: 2 | VALIDATION_SPECIES: ['Rhinolophus_ferrumequinum', 'Macaca_nemestrina']\n",
      "Training until validation scores don't improve for 10 rounds\n",
      "Early stopping, best iteration is:\n",
      "[119]\tvalid_0's l2: 45.1668\tvalid_0's l1: 3.56322\tvalid_0's huber: 2.86703\n",
      "SEED: 2 | FOLD: 3 | VALIDATION_SPECIES: ['Monodelphis_domestica', 'Ictidomys_tridecemlineatus']\n",
      "Training until validation scores don't improve for 10 rounds\n",
      "Early stopping, best iteration is:\n",
      "[53]\tvalid_0's l2: 219.284\tvalid_0's l1: 9.41215\tvalid_0's huber: 8.13076\n",
      "3\n",
      "===== fitting models with seed 3 =====\n",
      "SEED: 3 | FOLD: 0 | VALIDATION_SPECIES: ['Bos_taurus', 'Equus_caballus']\n",
      "Training until validation scores don't improve for 10 rounds\n",
      "Early stopping, best iteration is:\n",
      "[48]\tvalid_0's l2: 27.1822\tvalid_0's l1: 2.90403\tvalid_0's huber: 2.28657\n",
      "SEED: 3 | FOLD: 1 | VALIDATION_SPECIES: ['Ailuropoda_melanoleuca', 'Gorilla_gorilla']\n",
      "Training until validation scores don't improve for 10 rounds\n",
      "Early stopping, best iteration is:\n",
      "[131]\tvalid_0's l2: 163.409\tvalid_0's l1: 6.34224\tvalid_0's huber: 5.42311\n",
      "SEED: 3 | FOLD: 2 | VALIDATION_SPECIES: ['Capra_hircus', 'Dasypus_novemcinctus']\n",
      "Training until validation scores don't improve for 10 rounds\n",
      "Early stopping, best iteration is:\n",
      "[106]\tvalid_0's l2: 80.2637\tvalid_0's l1: 3.78187\tvalid_0's huber: 3.07542\n",
      "SEED: 3 | FOLD: 3 | VALIDATION_SPECIES: ['Heterocephalus_glaber', 'Mus_spicilegus']\n",
      "Training until validation scores don't improve for 10 rounds\n",
      "Early stopping, best iteration is:\n",
      "[90]\tvalid_0's l2: 78.5569\tvalid_0's l1: 3.58091\tvalid_0's huber: 2.93409\n",
      "4\n",
      "===== fitting models with seed 4 =====\n",
      "SEED: 4 | FOLD: 0 | VALIDATION_SPECIES: ['Macaca_mulatta', 'Pan_troglodytes']\n",
      "Training until validation scores don't improve for 10 rounds\n",
      "Early stopping, best iteration is:\n",
      "[115]\tvalid_0's l2: 48.8598\tvalid_0's l1: 4.12072\tvalid_0's huber: 3.37298\n",
      "SEED: 4 | FOLD: 1 | VALIDATION_SPECIES: ['Otolemur_garnettii', 'Ailuropoda_melanoleuca']\n",
      "Training until validation scores don't improve for 10 rounds\n",
      "Early stopping, best iteration is:\n",
      "[60]\tvalid_0's l2: 108.019\tvalid_0's l1: 4.41349\tvalid_0's huber: 3.67013\n",
      "SEED: 4 | FOLD: 2 | VALIDATION_SPECIES: ['Ursus_americanus', 'Oryctolagus_cuniculus']\n",
      "Training until validation scores don't improve for 10 rounds\n",
      "[150]\tvalid_0's l2: 64.5915\tvalid_0's l1: 4.47086\tvalid_0's huber: 3.691\n",
      "Did not meet early stopping. Best iteration is:\n",
      "[147]\tvalid_0's l2: 64.5124\tvalid_0's l1: 4.46546\tvalid_0's huber: 3.68669\n",
      "SEED: 4 | FOLD: 3 | VALIDATION_SPECIES: ['Mesocricetus_auratus', 'Mus_spicilegus']\n",
      "Training until validation scores don't improve for 10 rounds\n",
      "Early stopping, best iteration is:\n",
      "[111]\tvalid_0's l2: 79.6035\tvalid_0's l1: 3.60876\tvalid_0's huber: 2.92144\n"
     ]
    },
    {
     "name": "stderr",
     "output_type": "stream",
     "text": [
      "MultiObjectiveTrial is experimental (supported from v1.4.0). The interface can change in the future.\n",
      "MultiObjectiveStudy is experimental (supported from v1.4.0). The interface can change in the future.\n",
      "[I 2020-08-23 08:32:31,144] Trial 22 finished with values: [0.867652177889308, 3.828136236703083, 0.43784897078060014] with parameters: {'boosting_type': 'gbdt', 'lambda_l1': 0.9799913563013154, 'lambda_l2': 1.20775356562485, 'max_leaves': 19, 'max_depth': 8, 'feature_fraction': 0.49015039218456086, 'bagging_fraction': 0.560103154402821, 'learning_rate': 0.08579205624640938, 'min_data_in_leaf': 7, 'drop_rate': 0.28147738096361574}.\n",
      "MultiObjectiveStudy is experimental (supported from v1.4.0). The interface can change in the future.\n",
      "FrozenMultiObjectiveTrial is experimental (supported from v1.4.0). The interface can change in the future.\n",
      "MultiObjectiveStudy is experimental (supported from v1.4.0). The interface can change in the future.\n",
      "FrozenMultiObjectiveTrial is experimental (supported from v1.4.0). The interface can change in the future.\n",
      "FrozenMultiObjectiveTrial is experimental (supported from v1.4.0). The interface can change in the future.\n",
      "MultiObjectiveTrial is experimental (supported from v1.4.0). The interface can change in the future.\n",
      "MultiObjectiveStudy is experimental (supported from v1.4.0). The interface can change in the future.\n",
      "FrozenMultiObjectiveTrial is experimental (supported from v1.4.0). The interface can change in the future.\n"
     ]
    },
    {
     "name": "stdout",
     "output_type": "stream",
     "text": [
      "0\n",
      "===== fitting models with seed 0 =====\n",
      "SEED: 0 | FOLD: 0 | VALIDATION_SPECIES: ['Gorilla_gorilla', 'Equus_caballus']\n"
     ]
    },
    {
     "name": "stderr",
     "output_type": "stream",
     "text": [
      "Early stopping is not available in dart mode\n"
     ]
    },
    {
     "name": "stdout",
     "output_type": "stream",
     "text": [
      "[150]\tvalid_0's l2: 191.343\tvalid_0's l1: 8.51152\tvalid_0's huber: 7.29948\n",
      "SEED: 0 | FOLD: 1 | VALIDATION_SPECIES: ['Ursus_americanus', 'Dasypus_novemcinctus']\n",
      "[150]\tvalid_0's l2: 131.825\tvalid_0's l1: 5.26372\tvalid_0's huber: 4.40685\n",
      "SEED: 0 | FOLD: 2 | VALIDATION_SPECIES: ['Capra_hircus', 'Mesocricetus_auratus']\n",
      "[150]\tvalid_0's l2: 57.1602\tvalid_0's l1: 4.7033\tvalid_0's huber: 3.8629\n",
      "SEED: 0 | FOLD: 3 | VALIDATION_SPECIES: ['Otolemur_garnettii', 'Macaca_fascicularis']\n",
      "[150]\tvalid_0's l2: 72.8184\tvalid_0's l1: 4.26934\tvalid_0's huber: 3.49467\n",
      "1\n",
      "===== fitting models with seed 1 =====\n",
      "SEED: 1 | FOLD: 0 | VALIDATION_SPECIES: ['Rattus_norvegicus', 'Vombatus_ursinus']\n"
     ]
    },
    {
     "name": "stderr",
     "output_type": "stream",
     "text": [
      "Early stopping is not available in dart mode\n"
     ]
    },
    {
     "name": "stdout",
     "output_type": "stream",
     "text": [
      "[150]\tvalid_0's l2: 48.4064\tvalid_0's l1: 5.06409\tvalid_0's huber: 4.17665\n",
      "SEED: 1 | FOLD: 1 | VALIDATION_SPECIES: ['Ailuropoda_melanoleuca', 'Ursus_americanus']\n",
      "[150]\tvalid_0's l2: 138.092\tvalid_0's l1: 6.02828\tvalid_0's huber: 5.05191\n",
      "SEED: 1 | FOLD: 2 | VALIDATION_SPECIES: ['Rhinolophus_ferrumequinum', 'Macaca_mulatta']\n",
      "[150]\tvalid_0's l2: 100.909\tvalid_0's l1: 5.70755\tvalid_0's huber: 4.76659\n",
      "SEED: 1 | FOLD: 3 | VALIDATION_SPECIES: ['Canis_lupus_familiaris', 'Gorilla_gorilla']\n",
      "[150]\tvalid_0's l2: 185.394\tvalid_0's l1: 7.17097\tvalid_0's huber: 6.09413\n",
      "2\n",
      "===== fitting models with seed 2 =====\n",
      "SEED: 2 | FOLD: 0 | VALIDATION_SPECIES: ['Canis_lupus_familiaris', 'Ailuropoda_melanoleuca']\n"
     ]
    },
    {
     "name": "stderr",
     "output_type": "stream",
     "text": [
      "Early stopping is not available in dart mode\n"
     ]
    },
    {
     "name": "stdout",
     "output_type": "stream",
     "text": [
      "[150]\tvalid_0's l2: 59.1184\tvalid_0's l1: 5.15023\tvalid_0's huber: 4.28802\n",
      "SEED: 2 | FOLD: 1 | VALIDATION_SPECIES: ['Suricata_suricatta', 'Ovis_aries']\n",
      "[150]\tvalid_0's l2: 94.5684\tvalid_0's l1: 4.36927\tvalid_0's huber: 3.60559\n",
      "SEED: 2 | FOLD: 2 | VALIDATION_SPECIES: ['Rhinolophus_ferrumequinum', 'Macaca_nemestrina']\n",
      "[150]\tvalid_0's l2: 67.8308\tvalid_0's l1: 5.02539\tvalid_0's huber: 4.15314\n",
      "SEED: 2 | FOLD: 3 | VALIDATION_SPECIES: ['Monodelphis_domestica', 'Ictidomys_tridecemlineatus']\n",
      "[150]\tvalid_0's l2: 184.782\tvalid_0's l1: 9.22846\tvalid_0's huber: 7.94973\n",
      "3\n",
      "===== fitting models with seed 3 =====\n",
      "SEED: 3 | FOLD: 0 | VALIDATION_SPECIES: ['Bos_taurus', 'Equus_caballus']\n"
     ]
    },
    {
     "name": "stderr",
     "output_type": "stream",
     "text": [
      "Early stopping is not available in dart mode\n"
     ]
    },
    {
     "name": "stdout",
     "output_type": "stream",
     "text": [
      "[150]\tvalid_0's l2: 36.8697\tvalid_0's l1: 3.97098\tvalid_0's huber: 3.21585\n",
      "SEED: 3 | FOLD: 1 | VALIDATION_SPECIES: ['Ailuropoda_melanoleuca', 'Gorilla_gorilla']\n",
      "[150]\tvalid_0's l2: 180.327\tvalid_0's l1: 7.51916\tvalid_0's huber: 6.42677\n",
      "SEED: 3 | FOLD: 2 | VALIDATION_SPECIES: ['Capra_hircus', 'Dasypus_novemcinctus']\n",
      "[150]\tvalid_0's l2: 73.5567\tvalid_0's l1: 4.29304\tvalid_0's huber: 3.50672\n",
      "SEED: 3 | FOLD: 3 | VALIDATION_SPECIES: ['Heterocephalus_glaber', 'Mus_spicilegus']\n",
      "[150]\tvalid_0's l2: 97.4594\tvalid_0's l1: 4.36403\tvalid_0's huber: 3.59762\n",
      "4\n",
      "===== fitting models with seed 4 =====\n",
      "SEED: 4 | FOLD: 0 | VALIDATION_SPECIES: ['Macaca_mulatta', 'Pan_troglodytes']\n"
     ]
    },
    {
     "name": "stderr",
     "output_type": "stream",
     "text": [
      "Early stopping is not available in dart mode\n"
     ]
    },
    {
     "name": "stdout",
     "output_type": "stream",
     "text": [
      "[150]\tvalid_0's l2: 88.9507\tvalid_0's l1: 5.98855\tvalid_0's huber: 5.02668\n",
      "SEED: 4 | FOLD: 1 | VALIDATION_SPECIES: ['Otolemur_garnettii', 'Ailuropoda_melanoleuca']\n",
      "[150]\tvalid_0's l2: 111.677\tvalid_0's l1: 5.16135\tvalid_0's huber: 4.30619\n",
      "SEED: 4 | FOLD: 2 | VALIDATION_SPECIES: ['Ursus_americanus', 'Oryctolagus_cuniculus']\n",
      "[150]\tvalid_0's l2: 87.4141\tvalid_0's l1: 5.51997\tvalid_0's huber: 4.61481\n",
      "SEED: 4 | FOLD: 3 | VALIDATION_SPECIES: ['Mesocricetus_auratus', 'Mus_spicilegus']\n",
      "[150]\tvalid_0's l2: 67.6427\tvalid_0's l1: 4.06962\tvalid_0's huber: 3.30577\n"
     ]
    },
    {
     "name": "stderr",
     "output_type": "stream",
     "text": [
      "MultiObjectiveTrial is experimental (supported from v1.4.0). The interface can change in the future.\n",
      "MultiObjectiveStudy is experimental (supported from v1.4.0). The interface can change in the future.\n",
      "[I 2020-08-23 08:35:02,520] Trial 23 finished with values: [0.8543807146219302, 4.657504235631242, 0.4914909173317466] with parameters: {'boosting_type': 'dart', 'lambda_l1': 1.795082198936093, 'lambda_l2': 0.19612051897858127, 'max_leaves': 20, 'max_depth': 3, 'feature_fraction': 0.3108481512627257, 'bagging_fraction': 0.7887056432452557, 'learning_rate': 0.09534666251419048, 'min_data_in_leaf': 8, 'drop_rate': 0.1979587993448328}.\n",
      "MultiObjectiveStudy is experimental (supported from v1.4.0). The interface can change in the future.\n",
      "FrozenMultiObjectiveTrial is experimental (supported from v1.4.0). The interface can change in the future.\n",
      "MultiObjectiveStudy is experimental (supported from v1.4.0). The interface can change in the future.\n",
      "FrozenMultiObjectiveTrial is experimental (supported from v1.4.0). The interface can change in the future.\n",
      "FrozenMultiObjectiveTrial is experimental (supported from v1.4.0). The interface can change in the future.\n",
      "MultiObjectiveTrial is experimental (supported from v1.4.0). The interface can change in the future.\n",
      "MultiObjectiveStudy is experimental (supported from v1.4.0). The interface can change in the future.\n",
      "FrozenMultiObjectiveTrial is experimental (supported from v1.4.0). The interface can change in the future.\n"
     ]
    },
    {
     "name": "stdout",
     "output_type": "stream",
     "text": [
      "0\n",
      "===== fitting models with seed 0 =====\n",
      "SEED: 0 | FOLD: 0 | VALIDATION_SPECIES: ['Gorilla_gorilla', 'Equus_caballus']\n",
      "Training until validation scores don't improve for 10 rounds\n",
      "Early stopping, best iteration is:\n",
      "[85]\tvalid_0's l2: 240.061\tvalid_0's l1: 8.24137\tvalid_0's huber: 7.09437\n",
      "SEED: 0 | FOLD: 1 | VALIDATION_SPECIES: ['Ursus_americanus', 'Dasypus_novemcinctus']\n",
      "Training until validation scores don't improve for 10 rounds\n",
      "[150]\tvalid_0's l2: 151.206\tvalid_0's l1: 4.55677\tvalid_0's huber: 3.81682\n",
      "Did not meet early stopping. Best iteration is:\n",
      "[150]\tvalid_0's l2: 151.206\tvalid_0's l1: 4.55677\tvalid_0's huber: 3.81682\n",
      "SEED: 0 | FOLD: 2 | VALIDATION_SPECIES: ['Capra_hircus', 'Mesocricetus_auratus']\n",
      "Training until validation scores don't improve for 10 rounds\n",
      "[150]\tvalid_0's l2: 76.1951\tvalid_0's l1: 4.852\tvalid_0's huber: 4.03678\n",
      "Did not meet early stopping. Best iteration is:\n",
      "[150]\tvalid_0's l2: 76.1951\tvalid_0's l1: 4.852\tvalid_0's huber: 4.03678\n",
      "SEED: 0 | FOLD: 3 | VALIDATION_SPECIES: ['Otolemur_garnettii', 'Macaca_fascicularis']\n",
      "Training until validation scores don't improve for 10 rounds\n",
      "[150]\tvalid_0's l2: 96.347\tvalid_0's l1: 2.79602\tvalid_0's huber: 2.23661\n",
      "Did not meet early stopping. Best iteration is:\n",
      "[150]\tvalid_0's l2: 96.347\tvalid_0's l1: 2.79602\tvalid_0's huber: 2.23661\n",
      "1\n",
      "===== fitting models with seed 1 =====\n",
      "SEED: 1 | FOLD: 0 | VALIDATION_SPECIES: ['Rattus_norvegicus', 'Vombatus_ursinus']\n",
      "Training until validation scores don't improve for 10 rounds\n",
      "Early stopping, best iteration is:\n",
      "[105]\tvalid_0's l2: 30.74\tvalid_0's l1: 3.64847\tvalid_0's huber: 2.93428\n",
      "SEED: 1 | FOLD: 1 | VALIDATION_SPECIES: ['Ailuropoda_melanoleuca', 'Ursus_americanus']\n",
      "Training until validation scores don't improve for 10 rounds\n",
      "[150]\tvalid_0's l2: 149.58\tvalid_0's l1: 4.99323\tvalid_0's huber: 4.18356\n",
      "Did not meet early stopping. Best iteration is:\n",
      "[150]\tvalid_0's l2: 149.58\tvalid_0's l1: 4.99323\tvalid_0's huber: 4.18356\n",
      "SEED: 1 | FOLD: 2 | VALIDATION_SPECIES: ['Rhinolophus_ferrumequinum', 'Macaca_mulatta']\n",
      "Training until validation scores don't improve for 10 rounds\n",
      "Early stopping, best iteration is:\n",
      "[105]\tvalid_0's l2: 107.341\tvalid_0's l1: 4.83947\tvalid_0's huber: 4.02045\n",
      "SEED: 1 | FOLD: 3 | VALIDATION_SPECIES: ['Canis_lupus_familiaris', 'Gorilla_gorilla']\n",
      "Training until validation scores don't improve for 10 rounds\n",
      "[150]\tvalid_0's l2: 169.723\tvalid_0's l1: 6.42133\tvalid_0's huber: 5.45536\n",
      "Did not meet early stopping. Best iteration is:\n",
      "[150]\tvalid_0's l2: 169.723\tvalid_0's l1: 6.42133\tvalid_0's huber: 5.45536\n",
      "2\n",
      "===== fitting models with seed 2 =====\n",
      "SEED: 2 | FOLD: 0 | VALIDATION_SPECIES: ['Canis_lupus_familiaris', 'Ailuropoda_melanoleuca']\n",
      "Training until validation scores don't improve for 10 rounds\n",
      "Early stopping, best iteration is:\n",
      "[113]\tvalid_0's l2: 36.4483\tvalid_0's l1: 3.67522\tvalid_0's huber: 2.99153\n",
      "SEED: 2 | FOLD: 1 | VALIDATION_SPECIES: ['Suricata_suricatta', 'Ovis_aries']\n",
      "Training until validation scores don't improve for 10 rounds\n",
      "Early stopping, best iteration is:\n",
      "[87]\tvalid_0's l2: 59.2503\tvalid_0's l1: 3.45051\tvalid_0's huber: 2.786\n",
      "SEED: 2 | FOLD: 2 | VALIDATION_SPECIES: ['Rhinolophus_ferrumequinum', 'Macaca_nemestrina']\n",
      "Training until validation scores don't improve for 10 rounds\n",
      "Early stopping, best iteration is:\n",
      "[90]\tvalid_0's l2: 77.2988\tvalid_0's l1: 3.94949\tvalid_0's huber: 3.24976\n",
      "SEED: 2 | FOLD: 3 | VALIDATION_SPECIES: ['Monodelphis_domestica', 'Ictidomys_tridecemlineatus']\n",
      "Training until validation scores don't improve for 10 rounds\n",
      "Early stopping, best iteration is:\n",
      "[39]\tvalid_0's l2: 222.894\tvalid_0's l1: 9.42315\tvalid_0's huber: 8.09389\n",
      "3\n",
      "===== fitting models with seed 3 =====\n",
      "SEED: 3 | FOLD: 0 | VALIDATION_SPECIES: ['Bos_taurus', 'Equus_caballus']\n",
      "Training until validation scores don't improve for 10 rounds\n",
      "[150]\tvalid_0's l2: 20.0915\tvalid_0's l1: 2.45215\tvalid_0's huber: 1.88593\n",
      "Did not meet early stopping. Best iteration is:\n",
      "[150]\tvalid_0's l2: 20.0915\tvalid_0's l1: 2.45215\tvalid_0's huber: 1.88593\n",
      "SEED: 3 | FOLD: 1 | VALIDATION_SPECIES: ['Ailuropoda_melanoleuca', 'Gorilla_gorilla']\n",
      "Training until validation scores don't improve for 10 rounds\n",
      "[150]\tvalid_0's l2: 187.51\tvalid_0's l1: 6.57274\tvalid_0's huber: 5.63131\n",
      "Did not meet early stopping. Best iteration is:\n",
      "[150]\tvalid_0's l2: 187.51\tvalid_0's l1: 6.57274\tvalid_0's huber: 5.63131\n",
      "SEED: 3 | FOLD: 2 | VALIDATION_SPECIES: ['Capra_hircus', 'Dasypus_novemcinctus']\n",
      "Training until validation scores don't improve for 10 rounds\n",
      "Early stopping, best iteration is:\n",
      "[101]\tvalid_0's l2: 104.684\tvalid_0's l1: 4.17341\tvalid_0's huber: 3.46133\n",
      "SEED: 3 | FOLD: 3 | VALIDATION_SPECIES: ['Heterocephalus_glaber', 'Mus_spicilegus']\n",
      "Training until validation scores don't improve for 10 rounds\n",
      "Early stopping, best iteration is:\n",
      "[128]\tvalid_0's l2: 100.68\tvalid_0's l1: 3.5659\tvalid_0's huber: 2.92132\n",
      "4\n",
      "===== fitting models with seed 4 =====\n",
      "SEED: 4 | FOLD: 0 | VALIDATION_SPECIES: ['Macaca_mulatta', 'Pan_troglodytes']\n",
      "Training until validation scores don't improve for 10 rounds\n",
      "Early stopping, best iteration is:\n",
      "[98]\tvalid_0's l2: 55.4927\tvalid_0's l1: 4.37512\tvalid_0's huber: 3.62109\n",
      "SEED: 4 | FOLD: 1 | VALIDATION_SPECIES: ['Otolemur_garnettii', 'Ailuropoda_melanoleuca']\n",
      "Training until validation scores don't improve for 10 rounds\n",
      "Early stopping, best iteration is:\n",
      "[82]\tvalid_0's l2: 100.87\tvalid_0's l1: 3.9459\tvalid_0's huber: 3.25924\n",
      "SEED: 4 | FOLD: 2 | VALIDATION_SPECIES: ['Ursus_americanus', 'Oryctolagus_cuniculus']\n",
      "Training until validation scores don't improve for 10 rounds\n",
      "Early stopping, best iteration is:\n",
      "[79]\tvalid_0's l2: 100.061\tvalid_0's l1: 5.12386\tvalid_0's huber: 4.30138\n",
      "SEED: 4 | FOLD: 3 | VALIDATION_SPECIES: ['Mesocricetus_auratus', 'Mus_spicilegus']\n",
      "Training until validation scores don't improve for 10 rounds\n",
      "[150]\tvalid_0's l2: 86.4261\tvalid_0's l1: 3.32692\tvalid_0's huber: 2.69054\n",
      "Did not meet early stopping. Best iteration is:\n",
      "[149]\tvalid_0's l2: 86.4253\tvalid_0's l1: 3.32692\tvalid_0's huber: 2.69055\n"
     ]
    },
    {
     "name": "stderr",
     "output_type": "stream",
     "text": [
      "MultiObjectiveTrial is experimental (supported from v1.4.0). The interface can change in the future.\n",
      "MultiObjectiveStudy is experimental (supported from v1.4.0). The interface can change in the future.\n",
      "[I 2020-08-23 08:38:49,425] Trial 24 finished with values: [0.8466441128640181, 3.9292641754153634, 0.4287841062841614] with parameters: {'boosting_type': 'gbdt', 'lambda_l1': 1.9021473515039649, 'lambda_l2': 2.9324057456181545, 'max_leaves': 21, 'max_depth': 7, 'feature_fraction': 0.6371450345693939, 'bagging_fraction': 0.6860874890763271, 'learning_rate': 0.08299588210084567, 'min_data_in_leaf': 4, 'drop_rate': 0.2426041334113893}.\n",
      "FrozenMultiObjectiveTrial is experimental (supported from v1.4.0). The interface can change in the future.\n"
     ]
    },
    {
     "data": {
      "text/plain": [
       "MultiObjectiveResults(best_trials=[<optuna.multi_objective.trial.FrozenMultiObjectiveTrial object at 0x7f171f6bbe20>, <optuna.multi_objective.trial.FrozenMultiObjectiveTrial object at 0x7f171f6bbee0>, <optuna.multi_objective.trial.FrozenMultiObjectiveTrial object at 0x7f171f6c43a0>], all_trials=[<optuna.multi_objective.trial.FrozenMultiObjectiveTrial object at 0x7f171f7fdf40>, <optuna.multi_objective.trial.FrozenMultiObjectiveTrial object at 0x7f171f75f850>, <optuna.multi_objective.trial.FrozenMultiObjectiveTrial object at 0x7f171f6c5fd0>, <optuna.multi_objective.trial.FrozenMultiObjectiveTrial object at 0x7f171f6c6700>, <optuna.multi_objective.trial.FrozenMultiObjectiveTrial object at 0x7f171f6c6760>, <optuna.multi_objective.trial.FrozenMultiObjectiveTrial object at 0x7f171f6c67c0>, <optuna.multi_objective.trial.FrozenMultiObjectiveTrial object at 0x7f171f6c6820>, <optuna.multi_objective.trial.FrozenMultiObjectiveTrial object at 0x7f171f6c6880>, <optuna.multi_objective.trial.FrozenMultiObjectiveTrial object at 0x7f171f6c68e0>, <optuna.multi_objective.trial.FrozenMultiObjectiveTrial object at 0x7f171f6c6940>, <optuna.multi_objective.trial.FrozenMultiObjectiveTrial object at 0x7f171f6c69a0>, <optuna.multi_objective.trial.FrozenMultiObjectiveTrial object at 0x7f171f6c6a00>, <optuna.multi_objective.trial.FrozenMultiObjectiveTrial object at 0x7f171f6c6a60>, <optuna.multi_objective.trial.FrozenMultiObjectiveTrial object at 0x7f171f6c6ac0>, <optuna.multi_objective.trial.FrozenMultiObjectiveTrial object at 0x7f171f6c6b20>, <optuna.multi_objective.trial.FrozenMultiObjectiveTrial object at 0x7f171f6c6b80>, <optuna.multi_objective.trial.FrozenMultiObjectiveTrial object at 0x7f171f6c6be0>, <optuna.multi_objective.trial.FrozenMultiObjectiveTrial object at 0x7f171f6c6c40>, <optuna.multi_objective.trial.FrozenMultiObjectiveTrial object at 0x7f171f6c6ca0>, <optuna.multi_objective.trial.FrozenMultiObjectiveTrial object at 0x7f171f6c6d00>, <optuna.multi_objective.trial.FrozenMultiObjectiveTrial object at 0x7f171f6c6d60>, <optuna.multi_objective.trial.FrozenMultiObjectiveTrial object at 0x7f171f6c6dc0>, <optuna.multi_objective.trial.FrozenMultiObjectiveTrial object at 0x7f171f6c6e20>, <optuna.multi_objective.trial.FrozenMultiObjectiveTrial object at 0x7f171f6c6e80>, <optuna.multi_objective.trial.FrozenMultiObjectiveTrial object at 0x7f171f6c6ee0>])"
      ]
     },
     "execution_count": 15,
     "metadata": {},
     "output_type": "execute_result"
    }
   ],
   "source": [
    "results = p.fit_transform(selections[trait])\n",
    "results"
   ]
  },
  {
   "cell_type": "code",
   "execution_count": 33,
   "metadata": {},
   "outputs": [],
   "source": [
    "best = results.best_trials"
   ]
  },
  {
   "cell_type": "code",
   "execution_count": 72,
   "metadata": {},
   "outputs": [
    {
     "name": "stdout",
     "output_type": "stream",
     "text": [
      "writing parameters to ../data/metrics/optimization/lifespan/0.json\n",
      "writing parameters to ../data/metrics/optimization/lifespan/1.json\n",
      "writing parameters to ../data/metrics/optimization/lifespan/2.json\n"
     ]
    }
   ],
   "source": [
    "for i, t in enumerate(best):\n",
    "    trait_path = locations.metrics.optimization / trait\n",
    "    if not trait_path.exists():\n",
    "        trait_path.mkdir()\n",
    "    path = trait_path / f\"{str(i)}.json\"    \n",
    "    print(f\"writing parameters to {path}\")\n",
    "    with open(path, 'w') as f:\n",
    "        params = t.params\n",
    "        values = t.values\n",
    "        to_write = {\"number\": t.number,\"params\": params, \"metrics\": {\"R2\":values[0], \"huber\": values[1], \"kendall_tau\": values[2]}}\n",
    "        json.dump(to_write, f, sort_keys=True, indent=4)"
   ]
  }
 ],
 "metadata": {
  "kernelspec": {
   "display_name": "Python 3",
   "language": "python",
   "name": "python3"
  },
  "language_info": {
   "codemirror_mode": {
    "name": "ipython",
    "version": 3
   },
   "file_extension": ".py",
   "mimetype": "text/x-python",
   "name": "python",
   "nbconvert_exporter": "python",
   "pygments_lexer": "ipython3",
   "version": "3.8.5"
  }
 },
 "nbformat": 4,
 "nbformat_minor": 4
}
