{
 "cells": [
  {
   "cell_type": "markdown",
   "metadata": {},
   "source": [
    "# Hyper parameters optimization #"
   ]
  },
  {
   "cell_type": "markdown",
   "metadata": {},
   "source": [
    "## Parameters cell ##\n",
    "\n",
    "Parameters are overiddent by papermill when run inside DVC stages\n",
    "\n"
   ]
  },
  {
   "cell_type": "code",
   "execution_count": 1,
   "metadata": {
    "tags": [
     "parameters"
    ]
   },
   "outputs": [],
   "source": [
    "n_folds = 5 # this sets global setting of which how many bootstraps to use\n",
    "n_hold_out = 1\n",
    "repeats = 5\n",
    "n_trials = 100\n",
    "#first round of optimization\n",
    "lgb_params = {\"bagging_fraction\": 0.9522534844058304, \n",
    "              \"boosting_type\": \"dart\", \n",
    "              \"objective\": \"regression\",\n",
    "              \"feature_fraction\": 0.42236910941558053, \n",
    "              \"lambda_l1\": 0.020847266580277746, \n",
    "              \"lambda_l2\": 2.8448564854773326, \n",
    "              \"learning_rate\": 0.11484015430016059, \n",
    "              \"max_depth\": 3, \n",
    "              \"max_leaves\": 35, \n",
    "              \"min_data_in_leaf\": 9,\n",
    "              \"num_iterations\": 150\n",
    "             }\n",
    "debug_local = True #to use local version"
   ]
  },
  {
   "cell_type": "code",
   "execution_count": 2,
   "metadata": {},
   "outputs": [
    {
     "name": "stdout",
     "output_type": "stream",
     "text": [
      "extending pathes with local yspecies\n",
      "['..', '/data/sources/yspecies/notebooks', '/opt/miniconda3/envs/yspecies/lib/python38.zip', '/opt/miniconda3/envs/yspecies/lib/python3.8', '/opt/miniconda3/envs/yspecies/lib/python3.8/lib-dynload', '', '/opt/miniconda3/envs/yspecies/lib/python3.8/site-packages', '/opt/miniconda3/envs/yspecies/lib/python3.8/site-packages/IPython/extensions', '/home/antonkulaga/.ipython']\n"
     ]
    }
   ],
   "source": [
    "from pathlib import Path\n",
    "import sys\n",
    "import inspect\n",
    "\n",
    "local = (Path(\"..\") / \"yspecies\").resolve()\n",
    "if debug_local and local.exists():\n",
    "  sys.path.insert(0, Path(\"..\").as_posix())\n",
    "  #sys.path.insert(0, local.as_posix())\n",
    "  print(\"extending pathes with local yspecies\")\n",
    "  print(sys.path)\n",
    "  %load_ext autoreload\n",
    "  %autoreload 2"
   ]
  },
  {
   "cell_type": "code",
   "execution_count": 3,
   "metadata": {},
   "outputs": [],
   "source": [
    "from dataclasses import dataclass, replace\n",
    "import numpy as np\n",
    "import pandas as pd\n",
    "from sklearn.pipeline import Pipeline\n",
    "import seaborn as sns\n",
    "import matplotlib.pyplot as plt"
   ]
  },
  {
   "cell_type": "code",
   "execution_count": 4,
   "metadata": {},
   "outputs": [],
   "source": [
    "from typing import *\n",
    "from yspecies.dataset import *\n",
    "from yspecies.utils import *\n",
    "from yspecies.workflow import TupleWith, Repeat, Collect\n",
    "from yspecies.config import *\n",
    "from yspecies.preprocess import FeatureSelection, DataExtractor\n",
    "from yspecies.partition import DataPartitioner, PartitionParameters\n",
    "from yspecies.selection import ShapSelector\n",
    "from yspecies.tuning import Tune\n",
    "from yspecies.models import ResultsCV, CrossValidator\n",
    "from yspecies.results import FeatureSummary\n",
    "import optuna\n",
    "from optuna import Study, Trial"
   ]
  },
  {
   "cell_type": "code",
   "execution_count": 5,
   "metadata": {},
   "outputs": [
    {
     "name": "stdout",
     "output_type": "stream",
     "text": [
      "Using matplotlib backend: TkAgg\n"
     ]
    }
   ],
   "source": [
    "#settings\n",
    "pd.set_option('display.max_columns', None)\n",
    "pd.set_option('display.max_rows', None)\n",
    "pd.set_option('display.float_format', lambda x: '%.3f' % x)\n",
    "import pprint\n",
    "pp = pprint.PrettyPrinter(indent=4)\n",
    "\n",
    "#charts settings\n",
    "import matplotlib.pyplot as plt\n",
    "from IPython.display import set_matplotlib_formats\n",
    "%matplotlib auto\n",
    "plt.ioff()\n",
    "set_matplotlib_formats('svg')"
   ]
  },
  {
   "cell_type": "markdown",
   "metadata": {},
   "source": [
    "### Loading data ###\n",
    "Let's load data from species/genes/expressions selected by select_samples.py notebook"
   ]
  },
  {
   "cell_type": "code",
   "execution_count": 6,
   "metadata": {},
   "outputs": [],
   "source": [
    "from pathlib import Path\n",
    "locations: Locations = Locations(\"./\") if Path(\"./data\").exists() else Locations(\"../\")"
   ]
  },
  {
   "cell_type": "code",
   "execution_count": 7,
   "metadata": {},
   "outputs": [
    {
     "data": {
      "text/html": [
       "<table border='2'><caption>selected<caption><tr><th>expressions</th><th>genes</th><th>species</th><th>samples</th><th>Genes Metadata</th><th>Species Metadata</th></tr><tr><td>(408, 12323)</td><td>12323</td><td>38</td><td>408</td><td>(12323, 2)</td><td>(38, 19)</td></tr></table>"
      ],
      "text/plain": [
       "<table border='2'><caption>selected<caption><tr><th>expressions</th><th>genes</th><th>species</th><th>samples</th><th>Genes Metadata</th><th>Species Metadata</th></tr><tr><td>(408, 12323)</td><td>12323</td><td>38</td><td>408</td><td>(12323, 2)</td><td>(38, 19)</td></tr></table>"
      ]
     },
     "execution_count": 7,
     "metadata": {},
     "output_type": "execute_result"
    }
   ],
   "source": [
    "data = ExpressionDataset.from_folder(locations.interim.selected)\n",
    "data"
   ]
  },
  {
   "cell_type": "markdown",
   "metadata": {},
   "source": [
    "## Setting up ShapSelector ##"
   ]
  },
  {
   "cell_type": "markdown",
   "metadata": {},
   "source": [
    "Deciding on selection parameters (which fields to include, exclude, predict)"
   ]
  },
  {
   "cell_type": "code",
   "execution_count": 8,
   "metadata": {},
   "outputs": [],
   "source": [
    "partition_params = PartitionParameters(n_folds, n_hold_out, 2, [],  42)"
   ]
  },
  {
   "cell_type": "markdown",
   "metadata": {},
   "source": [
    "## Setting up features to select ##"
   ]
  },
  {
   "cell_type": "code",
   "execution_count": 9,
   "metadata": {},
   "outputs": [],
   "source": [
    "selection = FeatureSelection(\n",
    "    samples = [\"tissue\",\"species\"], #samples metadata to include\n",
    "    species =  [], #species metadata other then Y label to include\n",
    "    exclude_from_training = [\"species\"],  #exclude some fields from LightGBM training\n",
    "    to_predict = \"lifespan\", #column to predict\n",
    "    categorical = [\"tissue\"],\n",
    "    select_by = \"shap\",\n",
    "    importance_type = \"split\",\n",
    "    clean_y_na = True\n",
    ")"
   ]
  },
  {
   "cell_type": "code",
   "execution_count": 10,
   "metadata": {},
   "outputs": [],
   "source": [
    "select_lifespan = replace(selection, select_by = \"shap\")"
   ]
  },
  {
   "cell_type": "code",
   "execution_count": 11,
   "metadata": {},
   "outputs": [
    {
     "name": "stdout",
     "output_type": "stream",
     "text": [
      "loading (if exists) study from sqlite:////data/sources/yspecies/notebooks/../data/metrics/lifespan/study.sqlite\n"
     ]
    },
    {
     "name": "stderr",
     "output_type": "stream",
     "text": [
      "create_study is experimental (supported from v1.4.0). The interface can change in the future.\n",
      "NSGAIIMultiObjectiveSampler is experimental (supported from v1.5.0). The interface can change in the future.\n",
      "RandomMultiObjectiveSampler is experimental (supported from v1.4.0). The interface can change in the future.\n",
      "[I 2020-08-18 09:41:40,316] A new study created with name: no-name-55af020f-0ee9-4a29-9bb7-d9270080e660\n",
      "MultiObjectiveStudy is experimental (supported from v1.4.0). The interface can change in the future.\n"
     ]
    }
   ],
   "source": [
    "url = f'sqlite:///' +str((locations.metrics.lifespan / \"study.sqlite\").absolute())\n",
    "print('loading (if exists) study from '+url)\n",
    "storage = optuna.storages.RDBStorage(\n",
    "    url=url\n",
    "    #engine_kwargs={'check_same_thread': False}\n",
    ")\n",
    "\n",
    "study = optuna.multi_objective.study.create_study(directions=['minimize','maximize'], storage = storage)"
   ]
  },
  {
   "cell_type": "code",
   "execution_count": 12,
   "metadata": {},
   "outputs": [],
   "source": [
    "def objective_parameters(trial: Trial) -> dict:\n",
    "    return {\n",
    "        'objective': 'regression',\n",
    "        'metric': {'mae', 'mse', 'huber'},\n",
    "        'verbosity': -1,\n",
    "        'boosting_type': trial.suggest_categorical('boosting_type', ['dart', 'gbdt']),\n",
    "        'lambda_l1': trial.suggest_uniform('lambda_l1', 0.01, 4.0),\n",
    "        'lambda_l2': trial.suggest_uniform('lambda_l2', 0.01, 4.0),\n",
    "        'max_leaves': trial.suggest_int(\"max_leaves\", 15, 25),\n",
    "        'max_depth': trial.suggest_int('max_depth', 3, 8),\n",
    "        'feature_fraction': trial.suggest_uniform('feature_fraction', 0.3, 1.0),\n",
    "        'bagging_fraction': trial.suggest_uniform('bagging_fraction', 0.3, 1.0),\n",
    "        'learning_rate': trial.suggest_uniform('learning_rate', 0.01, 0.1),\n",
    "        'min_data_in_leaf': trial.suggest_int('min_data_in_leaf', 3, 8),\n",
    "        'drop_rate': trial.suggest_uniform('drop_rate', 0.1, 0.3),\n",
    "        \"verbose\": -1\n",
    "    }\n",
    "optimization_parameters = objective_parameters"
   ]
  },
  {
   "cell_type": "code",
   "execution_count": 13,
   "metadata": {},
   "outputs": [],
   "source": [
    "from yspecies.workflow import SplitReduce\n",
    "\n",
    "def side(i: int):\n",
    "    print(i)\n",
    "    return i\n",
    "\n",
    "prepare_partition = SplitReduce(\n",
    "    outputs = DataPartitioner(), \n",
    "    split = lambda x: [(x[0], replace(partition_params, seed=side(x[2])))], \n",
    "    reduce = lambda x, output: (output[0], x[1]) \n",
    ")                               \n",
    "partition_and_cv = Pipeline(\n",
    "    [\n",
    "        (\"prepare partition\", prepare_partition),\n",
    "        (\"shap_computation\", ShapSelector()) #('crossvalidator', CrossValidator())        \n",
    "    ]\n",
    ")\n",
    "\n",
    "partition_and_cv_repeat =  Pipeline([\n",
    "    (\"repeat_cv_pipe\", Repeat(partition_and_cv, repeats, lambda x, i: [x[0], x[1], i] )),\n",
    "    #(\"collect_mean\", Collect(fold=lambda results: np.array([r.last(\"huber\") for r in results]).mean()))\n",
    "    (\"collect_mean\", Collect(fold=lambda results: (FeatureSummary(results).metrics_average.huber, FeatureSummary(results).kendall_tau_abs_mean)))    \n",
    "    ]\n",
    "    )\n",
    "\n",
    "p = Pipeline([\n",
    "     ('extractor', DataExtractor()),\n",
    "     ('tune', Tune(partition_and_cv_repeat, study = study, n_trials = n_trials, parameters_space = optimization_parameters))    \n",
    "])"
   ]
  },
  {
   "cell_type": "code",
   "execution_count": null,
   "metadata": {},
   "outputs": [
    {
     "name": "stderr",
     "output_type": "stream",
     "text": [
      "MultiObjectiveStudy is experimental (supported from v1.4.0). The interface can change in the future.\n",
      "FrozenMultiObjectiveTrial is experimental (supported from v1.4.0). The interface can change in the future.\n",
      "MultiObjectiveStudy is experimental (supported from v1.4.0). The interface can change in the future.\n",
      "FrozenMultiObjectiveTrial is experimental (supported from v1.4.0). The interface can change in the future.\n",
      "FrozenMultiObjectiveTrial is experimental (supported from v1.4.0). The interface can change in the future.\n",
      "MultiObjectiveTrial is experimental (supported from v1.4.0). The interface can change in the future.\n",
      "MultiObjectiveStudy is experimental (supported from v1.4.0). The interface can change in the future.\n",
      "MultiObjectiveStudy is experimental (supported from v1.4.0). The interface can change in the future.\n",
      "FrozenMultiObjectiveTrial is experimental (supported from v1.4.0). The interface can change in the future.\n"
     ]
    },
    {
     "name": "stdout",
     "output_type": "stream",
     "text": [
      "0\n",
      "fitting models with seed 0\n"
     ]
    },
    {
     "name": "stderr",
     "output_type": "stream",
     "text": [
      "Early stopping is not available in dart mode\n"
     ]
    },
    {
     "name": "stdout",
     "output_type": "stream",
     "text": [
      "[150]\tvalid_0's l1: 30.2068\tvalid_0's huber: 26.8229\tvalid_0's l2: 2808.43\n",
      "[150]\tvalid_0's l1: 9.46266\tvalid_0's huber: 8.14054\tvalid_0's l2: 206.156\n",
      "[150]\tvalid_0's l1: 7.94474\tvalid_0's huber: 6.76104\tvalid_0's l2: 156.122\n",
      "[150]\tvalid_0's l1: 9.83255\tvalid_0's huber: 8.4809\tvalid_0's l2: 230.217\n",
      "1\n",
      "fitting models with seed 1\n"
     ]
    },
    {
     "name": "stderr",
     "output_type": "stream",
     "text": [
      "Early stopping is not available in dart mode\n"
     ]
    },
    {
     "name": "stdout",
     "output_type": "stream",
     "text": [
      "[150]\tvalid_0's l1: 6.92568\tvalid_0's huber: 5.84074\tvalid_0's l2: 136.118\n",
      "[150]\tvalid_0's l1: 9.37463\tvalid_0's huber: 8.05788\tvalid_0's l2: 204.77\n",
      "[150]\tvalid_0's l1: 9.20816\tvalid_0's huber: 7.91307\tvalid_0's l2: 213.65\n",
      "[150]\tvalid_0's l1: 28.2801\tvalid_0's huber: 25.1065\tvalid_0's l2: 2622.35\n",
      "2\n",
      "fitting models with seed 2\n"
     ]
    },
    {
     "name": "stderr",
     "output_type": "stream",
     "text": [
      "Early stopping is not available in dart mode\n"
     ]
    },
    {
     "name": "stdout",
     "output_type": "stream",
     "text": [
      "[150]\tvalid_0's l1: 14.9971\tvalid_0's huber: 13.1347\tvalid_0's l2: 658.04\n",
      "[150]\tvalid_0's l1: 14.5462\tvalid_0's huber: 12.723\tvalid_0's l2: 766.43\n",
      "[150]\tvalid_0's l1: 15.293\tvalid_0's huber: 13.416\tvalid_0's l2: 677.861\n",
      "[150]\tvalid_0's l1: 10.2391\tvalid_0's huber: 8.83576\tvalid_0's l2: 439.872\n",
      "3\n",
      "fitting models with seed 3\n"
     ]
    },
    {
     "name": "stderr",
     "output_type": "stream",
     "text": [
      "Early stopping is not available in dart mode\n"
     ]
    },
    {
     "name": "stdout",
     "output_type": "stream",
     "text": [
      "[150]\tvalid_0's l1: 10.3024\tvalid_0's huber: 8.92636\tvalid_0's l2: 250.051\n",
      "[150]\tvalid_0's l1: 32.5196\tvalid_0's huber: 28.871\tvalid_0's l2: 2999.24\n",
      "[150]\tvalid_0's l1: 9.4954\tvalid_0's huber: 8.23026\tvalid_0's l2: 198.264\n",
      "[150]\tvalid_0's l1: 9.61666\tvalid_0's huber: 8.3055\tvalid_0's l2: 181.479\n",
      "4\n",
      "fitting models with seed 4\n"
     ]
    },
    {
     "name": "stderr",
     "output_type": "stream",
     "text": [
      "Early stopping is not available in dart mode\n"
     ]
    },
    {
     "name": "stdout",
     "output_type": "stream",
     "text": [
      "[150]\tvalid_0's l1: 15.5559\tvalid_0's huber: 13.5977\tvalid_0's l2: 548.204\n",
      "[150]\tvalid_0's l1: 8.83582\tvalid_0's huber: 7.55299\tvalid_0's l2: 164.275\n",
      "[150]\tvalid_0's l1: 8.13447\tvalid_0's huber: 6.92337\tvalid_0's l2: 153.504\n",
      "[150]\tvalid_0's l1: 9.28513\tvalid_0's huber: 7.96787\tvalid_0's l2: 229.624\n"
     ]
    },
    {
     "name": "stderr",
     "output_type": "stream",
     "text": [
      "MultiObjectiveTrial is experimental (supported from v1.4.0). The interface can change in the future.\n",
      "MultiObjectiveStudy is experimental (supported from v1.4.0). The interface can change in the future.\n",
      "[I 2020-08-18 09:46:30,553] Trial 0 finished with values: [11.780409298801143, 0.38014506618160776] with parameters: {'boosting_type': 'dart', 'lambda_l1': 2.7739548707444075, 'lambda_l2': 3.373739288055865, 'max_leaves': 17, 'max_depth': 5, 'feature_fraction': 0.8894563423942903, 'bagging_fraction': 0.8629627453578992, 'learning_rate': 0.012005633907587358, 'min_data_in_leaf': 3, 'drop_rate': 0.13872351224016474}.\n",
      "MultiObjectiveStudy is experimental (supported from v1.4.0). The interface can change in the future.\n",
      "FrozenMultiObjectiveTrial is experimental (supported from v1.4.0). The interface can change in the future.\n",
      "MultiObjectiveStudy is experimental (supported from v1.4.0). The interface can change in the future.\n",
      "FrozenMultiObjectiveTrial is experimental (supported from v1.4.0). The interface can change in the future.\n",
      "FrozenMultiObjectiveTrial is experimental (supported from v1.4.0). The interface can change in the future.\n",
      "MultiObjectiveTrial is experimental (supported from v1.4.0). The interface can change in the future.\n",
      "MultiObjectiveStudy is experimental (supported from v1.4.0). The interface can change in the future.\n",
      "FrozenMultiObjectiveTrial is experimental (supported from v1.4.0). The interface can change in the future.\n"
     ]
    },
    {
     "name": "stdout",
     "output_type": "stream",
     "text": [
      "0\n",
      "fitting models with seed 0\n",
      "Training until validation scores don't improve for 10 rounds\n",
      "Early stopping, best iteration is:\n",
      "[60]\tvalid_0's l1: 26.8118\tvalid_0's huber: 23.7455\tvalid_0's l2: 2304.43\n",
      "Training until validation scores don't improve for 10 rounds\n",
      "[150]\tvalid_0's l1: 5.46345\tvalid_0's huber: 4.5172\tvalid_0's l2: 64.2844\n",
      "Did not meet early stopping. Best iteration is:\n",
      "[150]\tvalid_0's l1: 5.46345\tvalid_0's huber: 4.5172\tvalid_0's l2: 64.2844\n",
      "Training until validation scores don't improve for 10 rounds\n",
      "[150]\tvalid_0's l1: 4.91865\tvalid_0's huber: 4.03436\tvalid_0's l2: 44.0496\n",
      "Did not meet early stopping. Best iteration is:\n",
      "[150]\tvalid_0's l1: 4.91865\tvalid_0's huber: 4.03436\tvalid_0's l2: 44.0496\n",
      "Training until validation scores don't improve for 10 rounds\n",
      "[150]\tvalid_0's l1: 4.67967\tvalid_0's huber: 3.81042\tvalid_0's l2: 38.8985\n",
      "Did not meet early stopping. Best iteration is:\n",
      "[150]\tvalid_0's l1: 4.67967\tvalid_0's huber: 3.81042\tvalid_0's l2: 38.8985\n",
      "1\n",
      "fitting models with seed 1\n",
      "Training until validation scores don't improve for 10 rounds\n",
      "[150]\tvalid_0's l1: 4.93761\tvalid_0's huber: 4.04551\tvalid_0's l2: 38.9732\n",
      "Did not meet early stopping. Best iteration is:\n",
      "[150]\tvalid_0's l1: 4.93761\tvalid_0's huber: 4.04551\tvalid_0's l2: 38.9732\n",
      "Training until validation scores don't improve for 10 rounds\n",
      "[150]\tvalid_0's l1: 5.4587\tvalid_0's huber: 4.51418\tvalid_0's l2: 75.4314\n",
      "Did not meet early stopping. Best iteration is:\n",
      "[150]\tvalid_0's l1: 5.4587\tvalid_0's huber: 4.51418\tvalid_0's l2: 75.4314\n",
      "Training until validation scores don't improve for 10 rounds\n",
      "[150]\tvalid_0's l1: 4.24331\tvalid_0's huber: 3.43634\tvalid_0's l2: 33.7257\n",
      "Did not meet early stopping. Best iteration is:\n",
      "[150]\tvalid_0's l1: 4.24331\tvalid_0's huber: 3.43634\tvalid_0's l2: 33.7257\n",
      "Training until validation scores don't improve for 10 rounds\n",
      "[150]\tvalid_0's l1: 22.3341\tvalid_0's huber: 19.7047\tvalid_0's l2: 1967.41\n",
      "Did not meet early stopping. Best iteration is:\n",
      "[150]\tvalid_0's l1: 22.3341\tvalid_0's huber: 19.7047\tvalid_0's l2: 1967.41\n",
      "2\n",
      "fitting models with seed 2\n",
      "Training until validation scores don't improve for 10 rounds\n",
      "[150]\tvalid_0's l1: 5.36476\tvalid_0's huber: 4.43277\tvalid_0's l2: 91.8623\n",
      "Did not meet early stopping. Best iteration is:\n",
      "[150]\tvalid_0's l1: 5.36476\tvalid_0's huber: 4.43277\tvalid_0's l2: 91.8623\n",
      "Training until validation scores don't improve for 10 rounds\n",
      "[150]\tvalid_0's l1: 6.87264\tvalid_0's huber: 5.79025\tvalid_0's l2: 133.105\n",
      "Did not meet early stopping. Best iteration is:\n",
      "[150]\tvalid_0's l1: 6.87264\tvalid_0's huber: 5.79025\tvalid_0's l2: 133.105\n",
      "Training until validation scores don't improve for 10 rounds\n",
      "[150]\tvalid_0's l1: 6.48482\tvalid_0's huber: 5.43404\tvalid_0's l2: 102.495\n",
      "Did not meet early stopping. Best iteration is:\n",
      "[150]\tvalid_0's l1: 6.48482\tvalid_0's huber: 5.43404\tvalid_0's l2: 102.495\n",
      "Training until validation scores don't improve for 10 rounds\n",
      "[150]\tvalid_0's l1: 7.87213\tvalid_0's huber: 6.68369\tvalid_0's l2: 129.398\n",
      "Did not meet early stopping. Best iteration is:\n",
      "[150]\tvalid_0's l1: 7.87213\tvalid_0's huber: 6.68369\tvalid_0's l2: 129.398\n",
      "3\n",
      "fitting models with seed 3\n",
      "Training until validation scores don't improve for 10 rounds\n",
      "[150]\tvalid_0's l1: 4.74948\tvalid_0's huber: 3.89646\tvalid_0's l2: 46.4612\n",
      "Did not meet early stopping. Best iteration is:\n",
      "[150]\tvalid_0's l1: 4.74948\tvalid_0's huber: 3.89646\tvalid_0's l2: 46.4612\n",
      "Training until validation scores don't improve for 10 rounds\n",
      "[150]\tvalid_0's l1: 25.4595\tvalid_0's huber: 22.5167\tvalid_0's l2: 2356.17\n",
      "Did not meet early stopping. Best iteration is:\n",
      "[150]\tvalid_0's l1: 25.4595\tvalid_0's huber: 22.5167\tvalid_0's l2: 2356.17\n",
      "Training until validation scores don't improve for 10 rounds\n",
      "[150]\tvalid_0's l1: 4.62506\tvalid_0's huber: 3.76457\tvalid_0's l2: 31.2274\n",
      "Did not meet early stopping. Best iteration is:\n",
      "[150]\tvalid_0's l1: 4.62506\tvalid_0's huber: 3.76457\tvalid_0's l2: 31.2274\n",
      "Training until validation scores don't improve for 10 rounds\n",
      "Early stopping, best iteration is:\n",
      "[5]\tvalid_0's l1: 16.8924\tvalid_0's huber: 14.7982\tvalid_0's l2: 349.398\n",
      "4\n",
      "fitting models with seed 4\n",
      "Training until validation scores don't improve for 10 rounds\n",
      "[150]\tvalid_0's l1: 8.59757\tvalid_0's huber: 7.34444\tvalid_0's l2: 214.698\n",
      "Did not meet early stopping. Best iteration is:\n",
      "[150]\tvalid_0's l1: 8.59757\tvalid_0's huber: 7.34444\tvalid_0's l2: 214.698\n",
      "Training until validation scores don't improve for 10 rounds\n",
      "[150]\tvalid_0's l1: 3.16715\tvalid_0's huber: 2.46934\tvalid_0's l2: 16.5246\n",
      "Did not meet early stopping. Best iteration is:\n",
      "[150]\tvalid_0's l1: 3.16715\tvalid_0's huber: 2.46934\tvalid_0's l2: 16.5246\n",
      "Training until validation scores don't improve for 10 rounds\n",
      "[150]\tvalid_0's l1: 4.12901\tvalid_0's huber: 3.31488\tvalid_0's l2: 32.1498\n",
      "Did not meet early stopping. Best iteration is:\n",
      "[150]\tvalid_0's l1: 4.12901\tvalid_0's huber: 3.31488\tvalid_0's l2: 32.1498\n",
      "Training until validation scores don't improve for 10 rounds\n",
      "[150]\tvalid_0's l1: 4.38208\tvalid_0's huber: 3.55455\tvalid_0's l2: 65.9356\n",
      "Did not meet early stopping. Best iteration is:\n",
      "[150]\tvalid_0's l1: 4.38208\tvalid_0's huber: 3.55455\tvalid_0's l2: 65.9356\n"
     ]
    },
    {
     "name": "stderr",
     "output_type": "stream",
     "text": [
      "MultiObjectiveTrial is experimental (supported from v1.4.0). The interface can change in the future.\n",
      "MultiObjectiveStudy is experimental (supported from v1.4.0). The interface can change in the future.\n",
      "[I 2020-08-18 09:49:13,974] Trial 1 finished with values: [7.5687366656717145, 0.47273493190889904] with parameters: {'boosting_type': 'gbdt', 'lambda_l1': 0.11544428130343226, 'lambda_l2': 1.2676309613003283, 'max_leaves': 15, 'max_depth': 3, 'feature_fraction': 0.7606100471198162, 'bagging_fraction': 0.9107721167127374, 'learning_rate': 0.01439680537895521, 'min_data_in_leaf': 8, 'drop_rate': 0.18205632087946008}.\n",
      "MultiObjectiveStudy is experimental (supported from v1.4.0). The interface can change in the future.\n",
      "FrozenMultiObjectiveTrial is experimental (supported from v1.4.0). The interface can change in the future.\n",
      "MultiObjectiveStudy is experimental (supported from v1.4.0). The interface can change in the future.\n",
      "FrozenMultiObjectiveTrial is experimental (supported from v1.4.0). The interface can change in the future.\n",
      "FrozenMultiObjectiveTrial is experimental (supported from v1.4.0). The interface can change in the future.\n",
      "MultiObjectiveTrial is experimental (supported from v1.4.0). The interface can change in the future.\n",
      "MultiObjectiveStudy is experimental (supported from v1.4.0). The interface can change in the future.\n",
      "FrozenMultiObjectiveTrial is experimental (supported from v1.4.0). The interface can change in the future.\n"
     ]
    },
    {
     "name": "stdout",
     "output_type": "stream",
     "text": [
      "0\n",
      "fitting models with seed 0\n",
      "Training until validation scores don't improve for 10 rounds\n",
      "[150]\tvalid_0's l1: 22.6304\tvalid_0's huber: 20.0671\tvalid_0's l2: 2181.85\n",
      "Did not meet early stopping. Best iteration is:\n",
      "[150]\tvalid_0's l1: 22.6304\tvalid_0's huber: 20.0671\tvalid_0's l2: 2181.85\n",
      "Training until validation scores don't improve for 10 rounds\n",
      "Early stopping, best iteration is:\n",
      "[76]\tvalid_0's l1: 3.51592\tvalid_0's huber: 2.85627\tvalid_0's l2: 49.7415\n",
      "Training until validation scores don't improve for 10 rounds\n",
      "Early stopping, best iteration is:\n",
      "[80]\tvalid_0's l1: 2.64568\tvalid_0's huber: 2.07271\tvalid_0's l2: 21.8874\n",
      "Training until validation scores don't improve for 10 rounds\n",
      "[150]\tvalid_0's l1: 2.65924\tvalid_0's huber: 2.0768\tvalid_0's l2: 19.1056\n",
      "Did not meet early stopping. Best iteration is:\n",
      "[150]\tvalid_0's l1: 2.65924\tvalid_0's huber: 2.0768\tvalid_0's l2: 19.1056\n",
      "1\n",
      "fitting models with seed 1\n",
      "Training until validation scores don't improve for 10 rounds\n",
      "[150]\tvalid_0's l1: 2.83719\tvalid_0's huber: 2.24513\tvalid_0's l2: 26.3481\n",
      "Did not meet early stopping. Best iteration is:\n",
      "[147]\tvalid_0's l1: 2.83558\tvalid_0's huber: 2.24421\tvalid_0's l2: 26.357\n",
      "Training until validation scores don't improve for 10 rounds\n",
      "Early stopping, best iteration is:\n",
      "[86]\tvalid_0's l1: 3.38068\tvalid_0's huber: 2.73132\tvalid_0's l2: 44.7422\n",
      "Training until validation scores don't improve for 10 rounds\n",
      "Early stopping, best iteration is:\n",
      "[112]\tvalid_0's l1: 2.63181\tvalid_0's huber: 2.08192\tvalid_0's l2: 24.7495\n",
      "Training until validation scores don't improve for 10 rounds\n",
      "[150]\tvalid_0's l1: 21.3308\tvalid_0's huber: 18.876\tvalid_0's l2: 1932.48\n",
      "Did not meet early stopping. Best iteration is:\n",
      "[148]\tvalid_0's l1: 21.3307\tvalid_0's huber: 18.8761\tvalid_0's l2: 1932.49\n",
      "2\n",
      "fitting models with seed 2\n",
      "Training until validation scores don't improve for 10 rounds\n",
      "[150]\tvalid_0's l1: 2.99568\tvalid_0's huber: 2.39499\tvalid_0's l2: 57.0967\n",
      "Did not meet early stopping. Best iteration is:\n",
      "[150]\tvalid_0's l1: 2.99568\tvalid_0's huber: 2.39499\tvalid_0's l2: 57.0967\n",
      "Training until validation scores don't improve for 10 rounds\n",
      "Early stopping, best iteration is:\n",
      "[117]\tvalid_0's l1: 5.3699\tvalid_0's huber: 4.52228\tvalid_0's l2: 122.473\n",
      "Training until validation scores don't improve for 10 rounds\n",
      "Early stopping, best iteration is:\n",
      "[130]\tvalid_0's l1: 4.06119\tvalid_0's huber: 3.33776\tvalid_0's l2: 68.6309\n",
      "Training until validation scores don't improve for 10 rounds\n",
      "Early stopping, best iteration is:\n",
      "[133]\tvalid_0's l1: 5.35202\tvalid_0's huber: 4.49983\tvalid_0's l2: 87.626\n",
      "3\n",
      "fitting models with seed 3\n",
      "Training until validation scores don't improve for 10 rounds\n",
      "Early stopping, best iteration is:\n",
      "[139]\tvalid_0's l1: 2.84517\tvalid_0's huber: 2.24706\tvalid_0's l2: 27.1147\n",
      "Training until validation scores don't improve for 10 rounds\n",
      "[150]\tvalid_0's l1: 23.2364\tvalid_0's huber: 20.617\tvalid_0's l2: 2250.36\n",
      "Did not meet early stopping. Best iteration is:\n",
      "[150]\tvalid_0's l1: 23.2364\tvalid_0's huber: 20.617\tvalid_0's l2: 2250.36\n",
      "Training until validation scores don't improve for 10 rounds\n",
      "Early stopping, best iteration is:\n",
      "[114]\tvalid_0's l1: 2.72762\tvalid_0's huber: 2.14639\tvalid_0's l2: 18.549\n",
      "Training until validation scores don't improve for 10 rounds\n",
      "Early stopping, best iteration is:\n",
      "[5]\tvalid_0's l1: 15.8033\tvalid_0's huber: 13.8179\tvalid_0's l2: 317.595\n",
      "4\n",
      "fitting models with seed 4\n",
      "Training until validation scores don't improve for 10 rounds\n",
      "[150]\tvalid_0's l1: 6.89877\tvalid_0's huber: 5.8905\tvalid_0's l2: 184.606\n",
      "Did not meet early stopping. Best iteration is:\n",
      "[150]\tvalid_0's l1: 6.89877\tvalid_0's huber: 5.8905\tvalid_0's l2: 184.606\n",
      "Training until validation scores don't improve for 10 rounds\n",
      "[150]\tvalid_0's l1: 1.53939\tvalid_0's huber: 1.12653\tvalid_0's l2: 8.04345\n",
      "Did not meet early stopping. Best iteration is:\n",
      "[149]\tvalid_0's l1: 1.5393\tvalid_0's huber: 1.12659\tvalid_0's l2: 8.04358\n",
      "Training until validation scores don't improve for 10 rounds\n",
      "[150]\tvalid_0's l1: 2.77019\tvalid_0's huber: 2.2047\tvalid_0's l2: 28.3578\n",
      "Did not meet early stopping. Best iteration is:\n",
      "[150]\tvalid_0's l1: 2.77019\tvalid_0's huber: 2.2047\tvalid_0's l2: 28.3578\n",
      "Training until validation scores don't improve for 10 rounds\n",
      "[150]\tvalid_0's l1: 2.98703\tvalid_0's huber: 2.39492\tvalid_0's l2: 56.8742\n",
      "Did not meet early stopping. Best iteration is:\n",
      "[150]\tvalid_0's l1: 2.98703\tvalid_0's huber: 2.39492\tvalid_0's l2: 56.8742\n"
     ]
    },
    {
     "name": "stderr",
     "output_type": "stream",
     "text": [
      "MultiObjectiveTrial is experimental (supported from v1.4.0). The interface can change in the future.\n",
      "MultiObjectiveStudy is experimental (supported from v1.4.0). The interface can change in the future.\n",
      "[I 2020-08-18 09:52:21,227] Trial 2 finished with values: [5.911008010221905, 0.4646657005741267] with parameters: {'boosting_type': 'gbdt', 'lambda_l1': 3.667081924288292, 'lambda_l2': 1.1150555170657857, 'max_leaves': 23, 'max_depth': 8, 'feature_fraction': 0.5184981164408135, 'bagging_fraction': 0.5529222635703985, 'learning_rate': 0.06303105156500986, 'min_data_in_leaf': 6, 'drop_rate': 0.16845030556367985}.\n",
      "MultiObjectiveStudy is experimental (supported from v1.4.0). The interface can change in the future.\n",
      "FrozenMultiObjectiveTrial is experimental (supported from v1.4.0). The interface can change in the future.\n",
      "MultiObjectiveStudy is experimental (supported from v1.4.0). The interface can change in the future.\n",
      "FrozenMultiObjectiveTrial is experimental (supported from v1.4.0). The interface can change in the future.\n",
      "FrozenMultiObjectiveTrial is experimental (supported from v1.4.0). The interface can change in the future.\n",
      "MultiObjectiveTrial is experimental (supported from v1.4.0). The interface can change in the future.\n",
      "MultiObjectiveStudy is experimental (supported from v1.4.0). The interface can change in the future.\n",
      "FrozenMultiObjectiveTrial is experimental (supported from v1.4.0). The interface can change in the future.\n"
     ]
    },
    {
     "name": "stdout",
     "output_type": "stream",
     "text": [
      "0\n",
      "fitting models with seed 0\n",
      "Training until validation scores don't improve for 10 rounds\n",
      "[150]\tvalid_0's l1: 22.58\tvalid_0's huber: 20.0181\tvalid_0's l2: 2169.56\n",
      "Did not meet early stopping. Best iteration is:\n",
      "[150]\tvalid_0's l1: 22.58\tvalid_0's huber: 20.0181\tvalid_0's l2: 2169.56\n",
      "Training until validation scores don't improve for 10 rounds\n",
      "[150]\tvalid_0's l1: 3.71202\tvalid_0's huber: 3.04816\tvalid_0's l2: 50.0796\n",
      "Did not meet early stopping. Best iteration is:\n",
      "[150]\tvalid_0's l1: 3.71202\tvalid_0's huber: 3.04816\tvalid_0's l2: 50.0796\n",
      "Training until validation scores don't improve for 10 rounds\n",
      "Early stopping, best iteration is:\n",
      "[119]\tvalid_0's l1: 2.67281\tvalid_0's huber: 2.09636\tvalid_0's l2: 22.6626\n",
      "Training until validation scores don't improve for 10 rounds\n",
      "[150]\tvalid_0's l1: 3.12465\tvalid_0's huber: 2.49429\tvalid_0's l2: 31.0979\n",
      "Did not meet early stopping. Best iteration is:\n",
      "[150]\tvalid_0's l1: 3.12465\tvalid_0's huber: 2.49429\tvalid_0's l2: 31.0979\n",
      "1\n",
      "fitting models with seed 1\n",
      "Training until validation scores don't improve for 10 rounds\n",
      "[150]\tvalid_0's l1: 2.80448\tvalid_0's huber: 2.20141\tvalid_0's l2: 25.3341\n",
      "Did not meet early stopping. Best iteration is:\n",
      "[150]\tvalid_0's l1: 2.80448\tvalid_0's huber: 2.20141\tvalid_0's l2: 25.3341\n",
      "Training until validation scores don't improve for 10 rounds\n",
      "[150]\tvalid_0's l1: 3.71074\tvalid_0's huber: 3.02139\tvalid_0's l2: 45.5995\n",
      "Did not meet early stopping. Best iteration is:\n",
      "[150]\tvalid_0's l1: 3.71074\tvalid_0's huber: 3.02139\tvalid_0's l2: 45.5995\n",
      "Training until validation scores don't improve for 10 rounds\n",
      "Early stopping, best iteration is:\n",
      "[133]\tvalid_0's l1: 2.51838\tvalid_0's huber: 1.97375\tvalid_0's l2: 22.459\n",
      "Training until validation scores don't improve for 10 rounds\n",
      "[150]\tvalid_0's l1: 20.625\tvalid_0's huber: 18.2493\tvalid_0's l2: 1815.44\n",
      "Did not meet early stopping. Best iteration is:\n",
      "[150]\tvalid_0's l1: 20.625\tvalid_0's huber: 18.2493\tvalid_0's l2: 1815.44\n",
      "2\n",
      "fitting models with seed 2\n",
      "Training until validation scores don't improve for 10 rounds\n",
      "Early stopping, best iteration is:\n",
      "[122]\tvalid_0's l1: 2.20624\tvalid_0's huber: 1.69001\tvalid_0's l2: 26.5771\n",
      "Training until validation scores don't improve for 10 rounds\n",
      "[150]\tvalid_0's l1: 6.1386\tvalid_0's huber: 5.19569\tvalid_0's l2: 186.128\n",
      "Did not meet early stopping. Best iteration is:\n",
      "[148]\tvalid_0's l1: 6.13857\tvalid_0's huber: 5.19545\tvalid_0's l2: 186.129\n",
      "Training until validation scores don't improve for 10 rounds\n",
      "[150]\tvalid_0's l1: 3.64361\tvalid_0's huber: 2.95147\tvalid_0's l2: 43.9273\n",
      "Did not meet early stopping. Best iteration is:\n",
      "[149]\tvalid_0's l1: 3.64355\tvalid_0's huber: 2.95182\tvalid_0's l2: 43.9305\n",
      "Training until validation scores don't improve for 10 rounds\n",
      "[150]\tvalid_0's l1: 5.46458\tvalid_0's huber: 4.58893\tvalid_0's l2: 100.827\n",
      "Did not meet early stopping. Best iteration is:\n",
      "[148]\tvalid_0's l1: 5.46427\tvalid_0's huber: 4.58854\tvalid_0's l2: 100.826\n",
      "3\n",
      "fitting models with seed 3\n",
      "Training until validation scores don't improve for 10 rounds\n",
      "Early stopping, best iteration is:\n",
      "[96]\tvalid_0's l1: 2.43069\tvalid_0's huber: 1.86177\tvalid_0's l2: 18.6553\n",
      "Training until validation scores don't improve for 10 rounds\n",
      "[150]\tvalid_0's l1: 23.3394\tvalid_0's huber: 20.6969\tvalid_0's l2: 2270.28\n",
      "Did not meet early stopping. Best iteration is:\n",
      "[150]\tvalid_0's l1: 23.3394\tvalid_0's huber: 20.6969\tvalid_0's l2: 2270.28\n",
      "Training until validation scores don't improve for 10 rounds\n",
      "Early stopping, best iteration is:\n",
      "[99]\tvalid_0's l1: 2.70078\tvalid_0's huber: 2.1142\tvalid_0's l2: 19.0725\n",
      "Training until validation scores don't improve for 10 rounds\n",
      "Early stopping, best iteration is:\n",
      "[5]\tvalid_0's l1: 15.6867\tvalid_0's huber: 13.7144\tvalid_0's l2: 308.146\n",
      "4\n",
      "fitting models with seed 4\n",
      "Training until validation scores don't improve for 10 rounds\n",
      "[150]\tvalid_0's l1: 7.3374\tvalid_0's huber: 6.28754\tvalid_0's l2: 202.478\n",
      "Did not meet early stopping. Best iteration is:\n",
      "[150]\tvalid_0's l1: 7.3374\tvalid_0's huber: 6.28754\tvalid_0's l2: 202.478\n",
      "Training until validation scores don't improve for 10 rounds\n",
      "[150]\tvalid_0's l1: 1.64454\tvalid_0's huber: 1.20447\tvalid_0's l2: 7.90698\n",
      "Did not meet early stopping. Best iteration is:\n",
      "[150]\tvalid_0's l1: 1.64454\tvalid_0's huber: 1.20447\tvalid_0's l2: 7.90698\n",
      "Training until validation scores don't improve for 10 rounds\n",
      "[150]\tvalid_0's l1: 2.93719\tvalid_0's huber: 2.34843\tvalid_0's l2: 31.6657\n",
      "Did not meet early stopping. Best iteration is:\n",
      "[148]\tvalid_0's l1: 2.93677\tvalid_0's huber: 2.34868\tvalid_0's l2: 31.6591\n",
      "Training until validation scores don't improve for 10 rounds\n",
      "[150]\tvalid_0's l1: 2.88501\tvalid_0's huber: 2.32632\tvalid_0's l2: 56.4875\n",
      "Did not meet early stopping. Best iteration is:\n",
      "[150]\tvalid_0's l1: 2.88501\tvalid_0's huber: 2.32632\tvalid_0's l2: 56.4875\n"
     ]
    },
    {
     "name": "stderr",
     "output_type": "stream",
     "text": [
      "MultiObjectiveTrial is experimental (supported from v1.4.0). The interface can change in the future.\n",
      "MultiObjectiveStudy is experimental (supported from v1.4.0). The interface can change in the future.\n",
      "[I 2020-08-18 09:55:26,335] Trial 3 finished with values: [5.889585042142193, 0.499382731473556] with parameters: {'boosting_type': 'gbdt', 'lambda_l1': 2.3576337547496693, 'lambda_l2': 3.6144657647106877, 'max_leaves': 23, 'max_depth': 4, 'feature_fraction': 0.5344259635844183, 'bagging_fraction': 0.6620711363768649, 'learning_rate': 0.05826381264560419, 'min_data_in_leaf': 3, 'drop_rate': 0.2662180709219502}.\n",
      "MultiObjectiveStudy is experimental (supported from v1.4.0). The interface can change in the future.\n",
      "FrozenMultiObjectiveTrial is experimental (supported from v1.4.0). The interface can change in the future.\n",
      "MultiObjectiveStudy is experimental (supported from v1.4.0). The interface can change in the future.\n",
      "FrozenMultiObjectiveTrial is experimental (supported from v1.4.0). The interface can change in the future.\n",
      "FrozenMultiObjectiveTrial is experimental (supported from v1.4.0). The interface can change in the future.\n",
      "MultiObjectiveTrial is experimental (supported from v1.4.0). The interface can change in the future.\n",
      "MultiObjectiveStudy is experimental (supported from v1.4.0). The interface can change in the future.\n",
      "FrozenMultiObjectiveTrial is experimental (supported from v1.4.0). The interface can change in the future.\n"
     ]
    },
    {
     "name": "stdout",
     "output_type": "stream",
     "text": [
      "0\n",
      "fitting models with seed 0\n"
     ]
    },
    {
     "name": "stderr",
     "output_type": "stream",
     "text": [
      "Early stopping is not available in dart mode\n"
     ]
    },
    {
     "name": "stdout",
     "output_type": "stream",
     "text": [
      "[150]\tvalid_0's l1: 24.1391\tvalid_0's huber: 21.3761\tvalid_0's l2: 2328.91\n",
      "[150]\tvalid_0's l1: 5.04808\tvalid_0's huber: 4.21426\tvalid_0's l2: 73.9374\n",
      "[150]\tvalid_0's l1: 3.19322\tvalid_0's huber: 2.55564\tvalid_0's l2: 29.4464\n",
      "[150]\tvalid_0's l1: 3.74443\tvalid_0's huber: 3.05021\tvalid_0's l2: 41.3287\n",
      "1\n",
      "fitting models with seed 1\n"
     ]
    },
    {
     "name": "stderr",
     "output_type": "stream",
     "text": [
      "Early stopping is not available in dart mode\n"
     ]
    },
    {
     "name": "stdout",
     "output_type": "stream",
     "text": [
      "[150]\tvalid_0's l1: 3.49418\tvalid_0's huber: 2.78845\tvalid_0's l2: 33.8334\n",
      "[150]\tvalid_0's l1: 4.95811\tvalid_0's huber: 4.11769\tvalid_0's l2: 80.9801\n",
      "[150]\tvalid_0's l1: 4.35394\tvalid_0's huber: 3.56613\tvalid_0's l2: 52.0286\n",
      "[150]\tvalid_0's l1: 21.4721\tvalid_0's huber: 18.9711\tvalid_0's l2: 1899.87\n",
      "2\n",
      "fitting models with seed 2\n"
     ]
    },
    {
     "name": "stderr",
     "output_type": "stream",
     "text": [
      "Early stopping is not available in dart mode\n"
     ]
    },
    {
     "name": "stdout",
     "output_type": "stream",
     "text": [
      "[150]\tvalid_0's l1: 5.29037\tvalid_0's huber: 4.42471\tvalid_0's l2: 107.311\n",
      "[150]\tvalid_0's l1: 6.32641\tvalid_0's huber: 5.34901\tvalid_0's l2: 167.467\n",
      "[150]\tvalid_0's l1: 5.65521\tvalid_0's huber: 4.75615\tvalid_0's l2: 81.1308\n",
      "[150]\tvalid_0's l1: 6.83771\tvalid_0's huber: 5.79151\tvalid_0's l2: 125.881\n",
      "3\n",
      "fitting models with seed 3\n"
     ]
    },
    {
     "name": "stderr",
     "output_type": "stream",
     "text": [
      "Early stopping is not available in dart mode\n"
     ]
    },
    {
     "name": "stdout",
     "output_type": "stream",
     "text": [
      "[150]\tvalid_0's l1: 3.50809\tvalid_0's huber: 2.81973\tvalid_0's l2: 31.0738\n",
      "[150]\tvalid_0's l1: 24.8815\tvalid_0's huber: 22.0554\tvalid_0's l2: 2366.52\n",
      "[150]\tvalid_0's l1: 3.70733\tvalid_0's huber: 3.02312\tvalid_0's l2: 35.4657\n",
      "[150]\tvalid_0's l1: 9.29273\tvalid_0's huber: 8.01777\tvalid_0's l2: 181.938\n",
      "4\n",
      "fitting models with seed 4\n"
     ]
    },
    {
     "name": "stderr",
     "output_type": "stream",
     "text": [
      "Early stopping is not available in dart mode\n"
     ]
    },
    {
     "name": "stdout",
     "output_type": "stream",
     "text": [
      "[150]\tvalid_0's l1: 8.89574\tvalid_0's huber: 7.64098\tvalid_0's l2: 256.184\n",
      "[150]\tvalid_0's l1: 2.68065\tvalid_0's huber: 2.07251\tvalid_0's l2: 17.4621\n",
      "[150]\tvalid_0's l1: 3.86839\tvalid_0's huber: 3.13108\tvalid_0's l2: 39.9152\n",
      "[150]\tvalid_0's l1: 3.78379\tvalid_0's huber: 3.07594\tvalid_0's l2: 70.4408\n"
     ]
    },
    {
     "name": "stderr",
     "output_type": "stream",
     "text": [
      "MultiObjectiveTrial is experimental (supported from v1.4.0). The interface can change in the future.\n",
      "MultiObjectiveStudy is experimental (supported from v1.4.0). The interface can change in the future.\n",
      "[I 2020-08-18 09:59:10,867] Trial 4 finished with values: [6.639873961824778, 0.48247706046810246] with parameters: {'boosting_type': 'dart', 'lambda_l1': 3.8735440936332064, 'lambda_l2': 2.4260607436541313, 'max_leaves': 25, 'max_depth': 5, 'feature_fraction': 0.6807050914694561, 'bagging_fraction': 0.9371686472950511, 'learning_rate': 0.08397181586317445, 'min_data_in_leaf': 7, 'drop_rate': 0.26053343108144117}.\n",
      "MultiObjectiveStudy is experimental (supported from v1.4.0). The interface can change in the future.\n",
      "FrozenMultiObjectiveTrial is experimental (supported from v1.4.0). The interface can change in the future.\n",
      "MultiObjectiveStudy is experimental (supported from v1.4.0). The interface can change in the future.\n",
      "FrozenMultiObjectiveTrial is experimental (supported from v1.4.0). The interface can change in the future.\n",
      "FrozenMultiObjectiveTrial is experimental (supported from v1.4.0). The interface can change in the future.\n",
      "MultiObjectiveTrial is experimental (supported from v1.4.0). The interface can change in the future.\n",
      "MultiObjectiveStudy is experimental (supported from v1.4.0). The interface can change in the future.\n",
      "FrozenMultiObjectiveTrial is experimental (supported from v1.4.0). The interface can change in the future.\n"
     ]
    },
    {
     "name": "stdout",
     "output_type": "stream",
     "text": [
      "0\n",
      "fitting models with seed 0\n",
      "Training until validation scores don't improve for 10 rounds\n",
      "[150]\tvalid_0's l1: 22.8054\tvalid_0's huber: 20.2293\tvalid_0's l2: 2219.29\n",
      "Did not meet early stopping. Best iteration is:\n",
      "[150]\tvalid_0's l1: 22.8054\tvalid_0's huber: 20.2293\tvalid_0's l2: 2219.29\n",
      "Training until validation scores don't improve for 10 rounds\n",
      "Early stopping, best iteration is:\n",
      "[107]\tvalid_0's l1: 3.59019\tvalid_0's huber: 2.9334\tvalid_0's l2: 44.786\n",
      "Training until validation scores don't improve for 10 rounds\n",
      "Early stopping, best iteration is:\n",
      "[79]\tvalid_0's l1: 2.71284\tvalid_0's huber: 2.14803\tvalid_0's l2: 25.7676\n",
      "Training until validation scores don't improve for 10 rounds\n",
      "Early stopping, best iteration is:\n",
      "[117]\tvalid_0's l1: 2.86751\tvalid_0's huber: 2.25271\tvalid_0's l2: 21.1949\n",
      "1\n",
      "fitting models with seed 1\n",
      "Training until validation scores don't improve for 10 rounds\n",
      "[150]\tvalid_0's l1: 2.88424\tvalid_0's huber: 2.28893\tvalid_0's l2: 28.4849\n",
      "Did not meet early stopping. Best iteration is:\n",
      "[148]\tvalid_0's l1: 2.884\tvalid_0's huber: 2.28916\tvalid_0's l2: 28.4974\n",
      "Training until validation scores don't improve for 10 rounds\n",
      "Early stopping, best iteration is:\n",
      "[86]\tvalid_0's l1: 3.52827\tvalid_0's huber: 2.87173\tvalid_0's l2: 44.0831\n",
      "Training until validation scores don't improve for 10 rounds\n",
      "[150]\tvalid_0's l1: 2.82507\tvalid_0's huber: 2.26668\tvalid_0's l2: 28.6377\n",
      "Did not meet early stopping. Best iteration is:\n",
      "[150]\tvalid_0's l1: 2.82507\tvalid_0's huber: 2.26668\tvalid_0's l2: 28.6377\n",
      "Training until validation scores don't improve for 10 rounds\n",
      "Early stopping, best iteration is:\n",
      "[107]\tvalid_0's l1: 21.47\tvalid_0's huber: 19.0146\tvalid_0's l2: 1940.51\n",
      "2\n",
      "fitting models with seed 2\n",
      "Training until validation scores don't improve for 10 rounds\n",
      "[150]\tvalid_0's l1: 3.40408\tvalid_0's huber: 2.77044\tvalid_0's l2: 66.2429\n",
      "Did not meet early stopping. Best iteration is:\n",
      "[141]\tvalid_0's l1: 3.40278\tvalid_0's huber: 2.76974\tvalid_0's l2: 66.273\n",
      "Training until validation scores don't improve for 10 rounds\n",
      "[150]\tvalid_0's l1: 4.79561\tvalid_0's huber: 3.99779\tvalid_0's l2: 83.48\n",
      "Did not meet early stopping. Best iteration is:\n",
      "[150]\tvalid_0's l1: 4.79561\tvalid_0's huber: 3.99779\tvalid_0's l2: 83.48\n",
      "Training until validation scores don't improve for 10 rounds\n",
      "Early stopping, best iteration is:\n",
      "[95]\tvalid_0's l1: 4.1329\tvalid_0's huber: 3.38736\tvalid_0's l2: 70.5676\n",
      "Training until validation scores don't improve for 10 rounds\n",
      "[150]\tvalid_0's l1: 5.22315\tvalid_0's huber: 4.36978\tvalid_0's l2: 87.6431\n",
      "Did not meet early stopping. Best iteration is:\n",
      "[149]\tvalid_0's l1: 5.22277\tvalid_0's huber: 4.37003\tvalid_0's l2: 87.6527\n",
      "3\n",
      "fitting models with seed 3\n",
      "Training until validation scores don't improve for 10 rounds\n",
      "Early stopping, best iteration is:\n",
      "[110]\tvalid_0's l1: 2.82634\tvalid_0's huber: 2.21765\tvalid_0's l2: 25.5143\n",
      "Training until validation scores don't improve for 10 rounds\n",
      "Early stopping, best iteration is:\n",
      "[120]\tvalid_0's l1: 23.1322\tvalid_0's huber: 20.5259\tvalid_0's l2: 2220.48\n",
      "Training until validation scores don't improve for 10 rounds\n",
      "Early stopping, best iteration is:\n",
      "[107]\tvalid_0's l1: 2.62085\tvalid_0's huber: 2.06482\tvalid_0's l2: 18.0937\n",
      "Training until validation scores don't improve for 10 rounds\n",
      "Early stopping, best iteration is:\n",
      "[5]\tvalid_0's l1: 15.6893\tvalid_0's huber: 13.7154\tvalid_0's l2: 313.248\n",
      "4\n",
      "fitting models with seed 4\n",
      "Training until validation scores don't improve for 10 rounds\n",
      "[150]\tvalid_0's l1: 6.9256\tvalid_0's huber: 5.90881\tvalid_0's l2: 178.858\n",
      "Did not meet early stopping. Best iteration is:\n",
      "[150]\tvalid_0's l1: 6.9256\tvalid_0's huber: 5.90881\tvalid_0's l2: 178.858\n",
      "Training until validation scores don't improve for 10 rounds\n",
      "[150]\tvalid_0's l1: 1.62681\tvalid_0's huber: 1.19726\tvalid_0's l2: 8.56552\n",
      "Did not meet early stopping. Best iteration is:\n",
      "[149]\tvalid_0's l1: 1.62671\tvalid_0's huber: 1.19722\tvalid_0's l2: 8.56503\n",
      "Training until validation scores don't improve for 10 rounds\n",
      "[150]\tvalid_0's l1: 2.99677\tvalid_0's huber: 2.39012\tvalid_0's l2: 30.0231\n",
      "Did not meet early stopping. Best iteration is:\n",
      "[150]\tvalid_0's l1: 2.99677\tvalid_0's huber: 2.39012\tvalid_0's l2: 30.0231\n",
      "Training until validation scores don't improve for 10 rounds\n",
      "[150]\tvalid_0's l1: 2.92501\tvalid_0's huber: 2.35303\tvalid_0's l2: 54.8954\n",
      "Did not meet early stopping. Best iteration is:\n",
      "[149]\tvalid_0's l1: 2.92499\tvalid_0's huber: 2.3531\tvalid_0's l2: 54.8989\n"
     ]
    },
    {
     "name": "stderr",
     "output_type": "stream",
     "text": [
      "MultiObjectiveTrial is experimental (supported from v1.4.0). The interface can change in the future.\n",
      "MultiObjectiveStudy is experimental (supported from v1.4.0). The interface can change in the future.\n",
      "[I 2020-08-18 10:02:10,070] Trial 5 finished with values: [5.939046316036036, 0.47196198092417374] with parameters: {'boosting_type': 'gbdt', 'lambda_l1': 3.3743504637994306, 'lambda_l2': 0.7704411776915655, 'max_leaves': 25, 'max_depth': 8, 'feature_fraction': 0.4668868003340635, 'bagging_fraction': 0.9468230316409971, 'learning_rate': 0.06347384582562152, 'min_data_in_leaf': 7, 'drop_rate': 0.14756082600608192}.\n",
      "MultiObjectiveStudy is experimental (supported from v1.4.0). The interface can change in the future.\n",
      "FrozenMultiObjectiveTrial is experimental (supported from v1.4.0). The interface can change in the future.\n",
      "MultiObjectiveStudy is experimental (supported from v1.4.0). The interface can change in the future.\n",
      "FrozenMultiObjectiveTrial is experimental (supported from v1.4.0). The interface can change in the future.\n",
      "FrozenMultiObjectiveTrial is experimental (supported from v1.4.0). The interface can change in the future.\n",
      "MultiObjectiveTrial is experimental (supported from v1.4.0). The interface can change in the future.\n",
      "MultiObjectiveStudy is experimental (supported from v1.4.0). The interface can change in the future.\n",
      "FrozenMultiObjectiveTrial is experimental (supported from v1.4.0). The interface can change in the future.\n"
     ]
    },
    {
     "name": "stdout",
     "output_type": "stream",
     "text": [
      "0\n",
      "fitting models with seed 0\n",
      "Training until validation scores don't improve for 10 rounds\n",
      "[150]\tvalid_0's l1: 22.824\tvalid_0's huber: 20.252\tvalid_0's l2: 2241.49\n",
      "Did not meet early stopping. Best iteration is:\n",
      "[149]\tvalid_0's l1: 22.8239\tvalid_0's huber: 20.252\tvalid_0's l2: 2241.48\n",
      "Training until validation scores don't improve for 10 rounds\n",
      "Early stopping, best iteration is:\n",
      "[39]\tvalid_0's l1: 3.4635\tvalid_0's huber: 2.76063\tvalid_0's l2: 40.4425\n",
      "Training until validation scores don't improve for 10 rounds\n",
      "Early stopping, best iteration is:\n",
      "[65]\tvalid_0's l1: 2.71277\tvalid_0's huber: 2.14455\tvalid_0's l2: 24.951\n",
      "Training until validation scores don't improve for 10 rounds\n",
      "Early stopping, best iteration is:\n",
      "[62]\tvalid_0's l1: 3.04307\tvalid_0's huber: 2.42484\tvalid_0's l2: 24.5961\n",
      "1\n",
      "fitting models with seed 1\n",
      "Training until validation scores don't improve for 10 rounds\n",
      "[150]\tvalid_0's l1: 2.61057\tvalid_0's huber: 2.04094\tvalid_0's l2: 22.9868\n",
      "Did not meet early stopping. Best iteration is:\n",
      "[150]\tvalid_0's l1: 2.61057\tvalid_0's huber: 2.04094\tvalid_0's l2: 22.9868\n",
      "Training until validation scores don't improve for 10 rounds\n",
      "Early stopping, best iteration is:\n",
      "[75]\tvalid_0's l1: 3.21824\tvalid_0's huber: 2.58792\tvalid_0's l2: 38.9543\n",
      "Training until validation scores don't improve for 10 rounds\n",
      "[150]\tvalid_0's l1: 2.5377\tvalid_0's huber: 2.0031\tvalid_0's l2: 20.6898\n",
      "Did not meet early stopping. Best iteration is:\n",
      "[141]\tvalid_0's l1: 2.53646\tvalid_0's huber: 2.00254\tvalid_0's l2: 20.6848\n",
      "Training until validation scores don't improve for 10 rounds\n",
      "[150]\tvalid_0's l1: 21.4304\tvalid_0's huber: 18.993\tvalid_0's l2: 1987.2\n",
      "Did not meet early stopping. Best iteration is:\n",
      "[150]\tvalid_0's l1: 21.4304\tvalid_0's huber: 18.993\tvalid_0's l2: 1987.2\n",
      "2\n",
      "fitting models with seed 2\n",
      "Training until validation scores don't improve for 10 rounds\n",
      "[150]\tvalid_0's l1: 3.18396\tvalid_0's huber: 2.57759\tvalid_0's l2: 62.0384\n",
      "Did not meet early stopping. Best iteration is:\n",
      "[148]\tvalid_0's l1: 3.18119\tvalid_0's huber: 2.57577\tvalid_0's l2: 62.0122\n",
      "Training until validation scores don't improve for 10 rounds\n",
      "Early stopping, best iteration is:\n",
      "[81]\tvalid_0's l1: 5.17677\tvalid_0's huber: 4.34378\tvalid_0's l2: 105.203\n",
      "Training until validation scores don't improve for 10 rounds\n"
     ]
    }
   ],
   "source": [
    "best = p.fit_transform((data, select_lifespan))\n",
    "best"
   ]
  },
  {
   "cell_type": "code",
   "execution_count": null,
   "metadata": {},
   "outputs": [],
   "source": [
    "print(best)"
   ]
  },
  {
   "cell_type": "code",
   "execution_count": null,
   "metadata": {},
   "outputs": [],
   "source": [
    "print(best.params)"
   ]
  },
  {
   "cell_type": "code",
   "execution_count": null,
   "metadata": {},
   "outputs": [],
   "source": [
    "print(best.results)"
   ]
  },
  {
   "cell_type": "code",
   "execution_count": null,
   "metadata": {},
   "outputs": [],
   "source": []
  }
 ],
 "metadata": {
  "kernelspec": {
   "display_name": "Python 3",
   "language": "python",
   "name": "python3"
  },
  "language_info": {
   "codemirror_mode": {
    "name": "ipython",
    "version": 3
   },
   "file_extension": ".py",
   "mimetype": "text/x-python",
   "name": "python",
   "nbconvert_exporter": "python",
   "pygments_lexer": "ipython3",
   "version": "3.8.5"
  }
 },
 "nbformat": 4,
 "nbformat_minor": 4
}
