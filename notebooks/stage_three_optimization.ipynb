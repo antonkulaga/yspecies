{
 "cells": [
  {
   "cell_type": "markdown",
   "metadata": {},
   "source": [
    "# Stage three hyper parameters optimization #"
   ]
  },
  {
   "cell_type": "markdown",
   "metadata": {},
   "source": [
    "## Parameters cell ##\n",
    "\n",
    "Parameters are overiddent by papermill when run inside DVC stages\n",
    "\n"
   ]
  },
  {
   "cell_type": "code",
   "execution_count": 2,
   "metadata": {
    "tags": [
     "parameters"
    ]
   },
   "outputs": [],
   "source": [
    "n_folds = 5 # this sets global setting of which how many bootstraps to use\n",
    "n_hold_out = 1\n",
    "repeats = 10\n",
    "n_trials = 150\n",
    "importance_type = \"split\"\n",
    "n_ehvi_candidates = 12\n",
    "trait = \"lifespan\"#\"lifespan\"\n",
    "opt_metrics = \"r2\"\n",
    "genes_num=10\n",
    "stage_num=3\n",
    "debug_local = True #to use local version"
   ]
  },
  {
   "cell_type": "code",
   "execution_count": 3,
   "metadata": {},
   "outputs": [],
   "source": [
    "suffix=f\"_{stage_num}\""
   ]
  },
  {
   "cell_type": "code",
   "execution_count": 4,
   "metadata": {},
   "outputs": [
    {
     "name": "stdout",
     "output_type": "stream",
     "text": [
      "extending pathes with local yspecies\n",
      "['..', '/data/sources/yspecies/notebooks', '/data/miniconda3/envs/yspecies/lib/python38.zip', '/data/miniconda3/envs/yspecies/lib/python3.8', '/data/miniconda3/envs/yspecies/lib/python3.8/lib-dynload', '', '/data/miniconda3/envs/yspecies/lib/python3.8/site-packages', '/data/miniconda3/envs/yspecies/lib/python3.8/site-packages/IPython/extensions', '/home/anton/.ipython']\n"
     ]
    }
   ],
   "source": [
    "from pathlib import Path\n",
    "import sys\n",
    "import inspect\n",
    "\n",
    "local = (Path(\"..\") / \"yspecies\").resolve()\n",
    "if debug_local and local.exists():\n",
    "  sys.path.insert(0, Path(\"..\").as_posix())\n",
    "  #sys.path.insert(0, local.as_posix())\n",
    "  print(\"extending pathes with local yspecies\")\n",
    "  print(sys.path)\n",
    "  %load_ext autoreload\n",
    "  %autoreload 2"
   ]
  },
  {
   "cell_type": "code",
   "execution_count": 5,
   "metadata": {},
   "outputs": [],
   "source": [
    "from dataclasses import dataclass, replace\n",
    "import numpy as np\n",
    "import pandas as pd\n",
    "from sklearn.pipeline import Pipeline\n",
    "import seaborn as sns\n",
    "import matplotlib.pyplot as plt"
   ]
  },
  {
   "cell_type": "code",
   "execution_count": 6,
   "metadata": {},
   "outputs": [],
   "source": [
    "from typing import *\n",
    "from yspecies.dataset import *\n",
    "from yspecies.utils import *\n",
    "from yspecies.workflow import TupleWith, Repeat, Collect\n",
    "from yspecies.config import *\n",
    "from yspecies.preprocess import FeatureSelection, DataExtractor\n",
    "from yspecies.partition import DataPartitioner, PartitionParameters\n",
    "from yspecies.tuning import Tune, MultiObjectiveResults\n",
    "from yspecies.explanations import FeatureSummary, ShapSelector\n",
    "from yspecies.selection import CrossValidator\n",
    "import optuna\n",
    "from optuna import Study, Trial"
   ]
  },
  {
   "cell_type": "code",
   "execution_count": 7,
   "metadata": {},
   "outputs": [
    {
     "name": "stdout",
     "output_type": "stream",
     "text": [
      "Using matplotlib backend: agg\n"
     ]
    }
   ],
   "source": [
    "#settings\n",
    "pd.set_option('display.max_columns', None)\n",
    "pd.set_option('display.max_rows', None)\n",
    "pd.set_option('display.float_format', lambda x: '%.3f' % x)\n",
    "import pprint\n",
    "pp = pprint.PrettyPrinter(indent=4)\n",
    "\n",
    "#charts settings\n",
    "import matplotlib.pyplot as plt\n",
    "from IPython.display import set_matplotlib_formats\n",
    "%matplotlib auto\n",
    "plt.ioff()\n",
    "set_matplotlib_formats('svg')"
   ]
  },
  {
   "cell_type": "markdown",
   "metadata": {},
   "source": [
    "### Loading data ###\n",
    "Let's load data from species/genes/expressions selected by select_samples.py notebook"
   ]
  },
  {
   "cell_type": "code",
   "execution_count": 8,
   "metadata": {},
   "outputs": [],
   "source": [
    "from pathlib import Path\n",
    "locations: Locations = Locations(\"./\") if Path(\"./data\").exists() else Locations(\"../\")"
   ]
  },
  {
   "cell_type": "code",
   "execution_count": 9,
   "metadata": {},
   "outputs": [
    {
     "data": {
      "text/plain": [
       "2"
      ]
     },
     "execution_count": 9,
     "metadata": {},
     "output_type": "execute_result"
    }
   ],
   "source": [
    "from loguru import logger\n",
    "\n",
    "logger.add(locations.logs / f\"optimization_stage{suffix}_errors.log\", backtrace=True, diagnose=True)\n",
    "logger.add(locations.logs / f\"optimization_stage{suffix}.log\", rotation=\"12:00\")     # New file is created each day at noon"
   ]
  },
  {
   "cell_type": "code",
   "execution_count": 10,
   "metadata": {},
   "outputs": [
    {
     "data": {
      "text/html": [
       "<table border='2'><caption>input<caption><tr><th>expressions</th><th>genes</th><th>species</th><th>samples</th><th>Genes Metadata</th><th>Species Metadata</th></tr><tr><td>(408, 154)</td><td>(154, 37)</td><td>38</td><td>408</td><td>(154, 2)</td><td>(38, 18)</td></tr></table>"
      ],
      "text/plain": [
       "<table border='2'><caption>input<caption><tr><th>expressions</th><th>genes</th><th>species</th><th>samples</th><th>Genes Metadata</th><th>Species Metadata</th></tr><tr><td>(408, 154)</td><td>(154, 37)</td><td>38</td><td>408</td><td>(154, 2)</td><td>(38, 18)</td></tr></table>"
      ]
     },
     "execution_count": 10,
     "metadata": {},
     "output_type": "execute_result"
    }
   ],
   "source": [
    "data = ExpressionDataset.from_folder(locations.interim.stage(stage_num-1) / \"input\")\n",
    "data"
   ]
  },
  {
   "cell_type": "markdown",
   "metadata": {},
   "source": [
    "### Loading genes from the ranked selection ###"
   ]
  },
  {
   "cell_type": "code",
   "execution_count": 11,
   "metadata": {},
   "outputs": [
    {
     "name": "stdout",
     "output_type": "stream",
     "text": [
      "(152, 23)\n"
     ]
    },
    {
     "data": {
      "text/html": [
       "<div>\n",
       "<style scoped>\n",
       "    .dataframe tbody tr th:only-of-type {\n",
       "        vertical-align: middle;\n",
       "    }\n",
       "\n",
       "    .dataframe tbody tr th {\n",
       "        vertical-align: top;\n",
       "    }\n",
       "\n",
       "    .dataframe thead th {\n",
       "        text-align: right;\n",
       "    }\n",
       "</style>\n",
       "<table border=\"1\" class=\"dataframe\">\n",
       "  <thead>\n",
       "    <tr style=\"text-align: right;\">\n",
       "      <th></th>\n",
       "      <th>symbol</th>\n",
       "      <th>rank</th>\n",
       "      <th>ranks_sum</th>\n",
       "      <th>repeats_rank</th>\n",
       "      <th>shap_rank</th>\n",
       "      <th>kendall_tau_rank</th>\n",
       "      <th>frequency_rank</th>\n",
       "      <th>tissue_linear_rank</th>\n",
       "      <th>genage_rank</th>\n",
       "      <th>repeats_all</th>\n",
       "      <th>repeats</th>\n",
       "      <th>mean_abs_shap</th>\n",
       "      <th>mean_kendall_tau</th>\n",
       "      <th>frequency</th>\n",
       "      <th>max_linear_r2</th>\n",
       "      <th>genage_count</th>\n",
       "      <th>direction</th>\n",
       "      <th>repeats_lifespan_stage_1</th>\n",
       "      <th>mean_abs_shap_lifespan_stage_1</th>\n",
       "      <th>mean_kendall_tau_lifespan_stage_1</th>\n",
       "      <th>direction_lifespan_stage_1</th>\n",
       "      <th>other_life_history_traits</th>\n",
       "      <th>organ</th>\n",
       "    </tr>\n",
       "    <tr>\n",
       "      <th>reference_gene</th>\n",
       "      <th></th>\n",
       "      <th></th>\n",
       "      <th></th>\n",
       "      <th></th>\n",
       "      <th></th>\n",
       "      <th></th>\n",
       "      <th></th>\n",
       "      <th></th>\n",
       "      <th></th>\n",
       "      <th></th>\n",
       "      <th></th>\n",
       "      <th></th>\n",
       "      <th></th>\n",
       "      <th></th>\n",
       "      <th></th>\n",
       "      <th></th>\n",
       "      <th></th>\n",
       "      <th></th>\n",
       "      <th></th>\n",
       "      <th></th>\n",
       "      <th></th>\n",
       "      <th></th>\n",
       "      <th></th>\n",
       "    </tr>\n",
       "  </thead>\n",
       "  <tbody>\n",
       "    <tr>\n",
       "      <th>ENSG00000188747</th>\n",
       "      <td>NOXA1</td>\n",
       "      <td>1.000</td>\n",
       "      <td>46.000</td>\n",
       "      <td>2.000</td>\n",
       "      <td>12.000</td>\n",
       "      <td>16.000</td>\n",
       "      <td>1.000</td>\n",
       "      <td>10.000</td>\n",
       "      <td>6.000</td>\n",
       "      <td>19.000</td>\n",
       "      <td>10.000</td>\n",
       "      <td>0.507</td>\n",
       "      <td>0.697</td>\n",
       "      <td>1.000</td>\n",
       "      <td>0.627</td>\n",
       "      <td>0.000</td>\n",
       "      <td>strong pro</td>\n",
       "      <td>9.000</td>\n",
       "      <td>0.413</td>\n",
       "      <td>0.689</td>\n",
       "      <td>strong pro</td>\n",
       "      <td>mtGC (pro | 8 | 0.05 | 0.649), gestation_days ...</td>\n",
       "      <td>Brain (pro r^2=0.6271), Kidney (pro r^2=0.6017...</td>\n",
       "    </tr>\n",
       "    <tr>\n",
       "      <th>ENSG00000170835</th>\n",
       "      <td>CEL</td>\n",
       "      <td>2.000</td>\n",
       "      <td>54.000</td>\n",
       "      <td>1.000</td>\n",
       "      <td>7.000</td>\n",
       "      <td>7.000</td>\n",
       "      <td>6.000</td>\n",
       "      <td>33.000</td>\n",
       "      <td>6.000</td>\n",
       "      <td>20.000</td>\n",
       "      <td>10.000</td>\n",
       "      <td>0.849</td>\n",
       "      <td>0.746</td>\n",
       "      <td>0.600</td>\n",
       "      <td>0.481</td>\n",
       "      <td>0.000</td>\n",
       "      <td>strong pro</td>\n",
       "      <td>10.000</td>\n",
       "      <td>1.068</td>\n",
       "      <td>0.693</td>\n",
       "      <td>strong pro</td>\n",
       "      <td>NaN</td>\n",
       "      <td>Brain (pro r^2=0.4815)</td>\n",
       "    </tr>\n",
       "    <tr>\n",
       "      <th>ENSG00000136436</th>\n",
       "      <td>CALCOCO2</td>\n",
       "      <td>3.000</td>\n",
       "      <td>63.000</td>\n",
       "      <td>7.000</td>\n",
       "      <td>27.000</td>\n",
       "      <td>5.000</td>\n",
       "      <td>7.000</td>\n",
       "      <td>18.000</td>\n",
       "      <td>6.000</td>\n",
       "      <td>14.000</td>\n",
       "      <td>10.000</td>\n",
       "      <td>0.307</td>\n",
       "      <td>0.763</td>\n",
       "      <td>0.420</td>\n",
       "      <td>0.559</td>\n",
       "      <td>0.000</td>\n",
       "      <td>strong pro</td>\n",
       "      <td>4.000</td>\n",
       "      <td>0.074</td>\n",
       "      <td>0.722</td>\n",
       "      <td>weak pro</td>\n",
       "      <td>NaN</td>\n",
       "      <td>Lung (pro r^2=0.5586), Brain (pro r^2=0.5369),...</td>\n",
       "    </tr>\n",
       "    <tr>\n",
       "      <th>ENSG00000198663</th>\n",
       "      <td>C6orf89</td>\n",
       "      <td>4.000</td>\n",
       "      <td>64.000</td>\n",
       "      <td>10.000</td>\n",
       "      <td>35.000</td>\n",
       "      <td>1.000</td>\n",
       "      <td>2.000</td>\n",
       "      <td>12.000</td>\n",
       "      <td>6.000</td>\n",
       "      <td>10.000</td>\n",
       "      <td>10.000</td>\n",
       "      <td>0.226</td>\n",
       "      <td>-0.788</td>\n",
       "      <td>0.940</td>\n",
       "      <td>0.616</td>\n",
       "      <td>0.000</td>\n",
       "      <td>strong anti</td>\n",
       "      <td>0.000</td>\n",
       "      <td>nan</td>\n",
       "      <td>nan</td>\n",
       "      <td>NaN</td>\n",
       "      <td>metabolic_rate (anti | 6 | 0.0 | -0.5674)</td>\n",
       "      <td>Heart (anti r^2=0.6159), Liver (anti r^2=0.4011)</td>\n",
       "    </tr>\n",
       "    <tr>\n",
       "      <th>ENSG00000172531</th>\n",
       "      <td>PPP1CA</td>\n",
       "      <td>5.000</td>\n",
       "      <td>69.000</td>\n",
       "      <td>5.000</td>\n",
       "      <td>42.000</td>\n",
       "      <td>3.000</td>\n",
       "      <td>20.000</td>\n",
       "      <td>13.000</td>\n",
       "      <td>6.000</td>\n",
       "      <td>16.000</td>\n",
       "      <td>10.000</td>\n",
       "      <td>0.165</td>\n",
       "      <td>-0.782</td>\n",
       "      <td>0.000</td>\n",
       "      <td>0.610</td>\n",
       "      <td>0.000</td>\n",
       "      <td>strong anti</td>\n",
       "      <td>6.000</td>\n",
       "      <td>0.093</td>\n",
       "      <td>-0.761</td>\n",
       "      <td>anti</td>\n",
       "      <td>gestation_days (strong anti | 9 | 1.28 | -0.7678)</td>\n",
       "      <td>Brain (anti r^2=0.6099), Heart (anti r^2=0.4668)</td>\n",
       "    </tr>\n",
       "    <tr>\n",
       "      <th>ENSG00000006282</th>\n",
       "      <td>SPATA20</td>\n",
       "      <td>6.000</td>\n",
       "      <td>75.000</td>\n",
       "      <td>8.000</td>\n",
       "      <td>25.000</td>\n",
       "      <td>31.000</td>\n",
       "      <td>16.000</td>\n",
       "      <td>5.000</td>\n",
       "      <td>6.000</td>\n",
       "      <td>13.000</td>\n",
       "      <td>10.000</td>\n",
       "      <td>0.311</td>\n",
       "      <td>0.649</td>\n",
       "      <td>0.080</td>\n",
       "      <td>0.675</td>\n",
       "      <td>0.000</td>\n",
       "      <td>strong pro</td>\n",
       "      <td>3.000</td>\n",
       "      <td>0.148</td>\n",
       "      <td>0.608</td>\n",
       "      <td>weak pro</td>\n",
       "      <td>mtGC (strong pro | 9 | 0.24 | 0.6937), gestati...</td>\n",
       "      <td>Brain (pro r^2=0.675), Heart (pro r^2=0.6381),...</td>\n",
       "    </tr>\n",
       "    <tr>\n",
       "      <th>ENSG00000142002</th>\n",
       "      <td>DPP9</td>\n",
       "      <td>7.000</td>\n",
       "      <td>76.000</td>\n",
       "      <td>4.000</td>\n",
       "      <td>26.000</td>\n",
       "      <td>11.000</td>\n",
       "      <td>11.000</td>\n",
       "      <td>29.000</td>\n",
       "      <td>6.000</td>\n",
       "      <td>17.000</td>\n",
       "      <td>10.000</td>\n",
       "      <td>0.309</td>\n",
       "      <td>-0.717</td>\n",
       "      <td>0.300</td>\n",
       "      <td>0.507</td>\n",
       "      <td>0.000</td>\n",
       "      <td>strong anti</td>\n",
       "      <td>7.000</td>\n",
       "      <td>0.101</td>\n",
       "      <td>-0.716</td>\n",
       "      <td>anti</td>\n",
       "      <td>NaN</td>\n",
       "      <td>Lung (anti r^2=0.5074), Heart (anti r^2=0.3048)</td>\n",
       "    </tr>\n",
       "    <tr>\n",
       "      <th>ENSG00000129187</th>\n",
       "      <td>DCTD</td>\n",
       "      <td>8.000</td>\n",
       "      <td>78.000</td>\n",
       "      <td>8.000</td>\n",
       "      <td>32.000</td>\n",
       "      <td>26.000</td>\n",
       "      <td>8.000</td>\n",
       "      <td>6.000</td>\n",
       "      <td>6.000</td>\n",
       "      <td>13.000</td>\n",
       "      <td>10.000</td>\n",
       "      <td>0.253</td>\n",
       "      <td>0.674</td>\n",
       "      <td>0.400</td>\n",
       "      <td>0.666</td>\n",
       "      <td>0.000</td>\n",
       "      <td>strong pro</td>\n",
       "      <td>3.000</td>\n",
       "      <td>0.149</td>\n",
       "      <td>0.632</td>\n",
       "      <td>weak pro</td>\n",
       "      <td>mtGC (weak pro | 4 | 0.01 | 0.6756)</td>\n",
       "      <td>Liver (pro r^2=0.6659), Heart (pro r^2=0.4353)...</td>\n",
       "    </tr>\n",
       "    <tr>\n",
       "      <th>ENSG00000165501</th>\n",
       "      <td>LRR1</td>\n",
       "      <td>9.000</td>\n",
       "      <td>82.000</td>\n",
       "      <td>2.000</td>\n",
       "      <td>19.000</td>\n",
       "      <td>14.000</td>\n",
       "      <td>9.000</td>\n",
       "      <td>41.000</td>\n",
       "      <td>6.000</td>\n",
       "      <td>19.000</td>\n",
       "      <td>10.000</td>\n",
       "      <td>0.366</td>\n",
       "      <td>0.715</td>\n",
       "      <td>0.340</td>\n",
       "      <td>0.459</td>\n",
       "      <td>0.000</td>\n",
       "      <td>strong pro</td>\n",
       "      <td>9.000</td>\n",
       "      <td>0.177</td>\n",
       "      <td>0.688</td>\n",
       "      <td>strong pro</td>\n",
       "      <td>NaN</td>\n",
       "      <td>Heart (pro r^2=0.4585), Lung (pro r^2=0.4286),...</td>\n",
       "    </tr>\n",
       "    <tr>\n",
       "      <th>ENSG00000120675</th>\n",
       "      <td>DNAJC15</td>\n",
       "      <td>10.000</td>\n",
       "      <td>83.000</td>\n",
       "      <td>8.000</td>\n",
       "      <td>52.000</td>\n",
       "      <td>9.000</td>\n",
       "      <td>20.000</td>\n",
       "      <td>8.000</td>\n",
       "      <td>6.000</td>\n",
       "      <td>13.000</td>\n",
       "      <td>10.000</td>\n",
       "      <td>0.128</td>\n",
       "      <td>-0.735</td>\n",
       "      <td>0.000</td>\n",
       "      <td>0.646</td>\n",
       "      <td>0.000</td>\n",
       "      <td>strong anti</td>\n",
       "      <td>3.000</td>\n",
       "      <td>0.054</td>\n",
       "      <td>-0.649</td>\n",
       "      <td>weak anti</td>\n",
       "      <td>gestation_days (weak anti | 3 | 0.16 | -0.6042)</td>\n",
       "      <td>Heart (anti r^2=0.6465), Kidney (anti r^2=0.3257)</td>\n",
       "    </tr>\n",
       "  </tbody>\n",
       "</table>\n",
       "</div>"
      ],
      "text/plain": [
       "                   symbol   rank  ranks_sum  repeats_rank  shap_rank  \\\n",
       "reference_gene                                                         \n",
       "ENSG00000188747     NOXA1  1.000     46.000         2.000     12.000   \n",
       "ENSG00000170835       CEL  2.000     54.000         1.000      7.000   \n",
       "ENSG00000136436  CALCOCO2  3.000     63.000         7.000     27.000   \n",
       "ENSG00000198663   C6orf89  4.000     64.000        10.000     35.000   \n",
       "ENSG00000172531    PPP1CA  5.000     69.000         5.000     42.000   \n",
       "ENSG00000006282   SPATA20  6.000     75.000         8.000     25.000   \n",
       "ENSG00000142002      DPP9  7.000     76.000         4.000     26.000   \n",
       "ENSG00000129187      DCTD  8.000     78.000         8.000     32.000   \n",
       "ENSG00000165501      LRR1  9.000     82.000         2.000     19.000   \n",
       "ENSG00000120675   DNAJC15 10.000     83.000         8.000     52.000   \n",
       "\n",
       "                 kendall_tau_rank  frequency_rank  tissue_linear_rank  \\\n",
       "reference_gene                                                          \n",
       "ENSG00000188747            16.000           1.000              10.000   \n",
       "ENSG00000170835             7.000           6.000              33.000   \n",
       "ENSG00000136436             5.000           7.000              18.000   \n",
       "ENSG00000198663             1.000           2.000              12.000   \n",
       "ENSG00000172531             3.000          20.000              13.000   \n",
       "ENSG00000006282            31.000          16.000               5.000   \n",
       "ENSG00000142002            11.000          11.000              29.000   \n",
       "ENSG00000129187            26.000           8.000               6.000   \n",
       "ENSG00000165501            14.000           9.000              41.000   \n",
       "ENSG00000120675             9.000          20.000               8.000   \n",
       "\n",
       "                 genage_rank  repeats_all  repeats  mean_abs_shap  \\\n",
       "reference_gene                                                      \n",
       "ENSG00000188747        6.000       19.000   10.000          0.507   \n",
       "ENSG00000170835        6.000       20.000   10.000          0.849   \n",
       "ENSG00000136436        6.000       14.000   10.000          0.307   \n",
       "ENSG00000198663        6.000       10.000   10.000          0.226   \n",
       "ENSG00000172531        6.000       16.000   10.000          0.165   \n",
       "ENSG00000006282        6.000       13.000   10.000          0.311   \n",
       "ENSG00000142002        6.000       17.000   10.000          0.309   \n",
       "ENSG00000129187        6.000       13.000   10.000          0.253   \n",
       "ENSG00000165501        6.000       19.000   10.000          0.366   \n",
       "ENSG00000120675        6.000       13.000   10.000          0.128   \n",
       "\n",
       "                 mean_kendall_tau  frequency  max_linear_r2  genage_count  \\\n",
       "reference_gene                                                              \n",
       "ENSG00000188747             0.697      1.000          0.627         0.000   \n",
       "ENSG00000170835             0.746      0.600          0.481         0.000   \n",
       "ENSG00000136436             0.763      0.420          0.559         0.000   \n",
       "ENSG00000198663            -0.788      0.940          0.616         0.000   \n",
       "ENSG00000172531            -0.782      0.000          0.610         0.000   \n",
       "ENSG00000006282             0.649      0.080          0.675         0.000   \n",
       "ENSG00000142002            -0.717      0.300          0.507         0.000   \n",
       "ENSG00000129187             0.674      0.400          0.666         0.000   \n",
       "ENSG00000165501             0.715      0.340          0.459         0.000   \n",
       "ENSG00000120675            -0.735      0.000          0.646         0.000   \n",
       "\n",
       "                   direction  repeats_lifespan_stage_1  \\\n",
       "reference_gene                                           \n",
       "ENSG00000188747   strong pro                     9.000   \n",
       "ENSG00000170835   strong pro                    10.000   \n",
       "ENSG00000136436   strong pro                     4.000   \n",
       "ENSG00000198663  strong anti                     0.000   \n",
       "ENSG00000172531  strong anti                     6.000   \n",
       "ENSG00000006282   strong pro                     3.000   \n",
       "ENSG00000142002  strong anti                     7.000   \n",
       "ENSG00000129187   strong pro                     3.000   \n",
       "ENSG00000165501   strong pro                     9.000   \n",
       "ENSG00000120675  strong anti                     3.000   \n",
       "\n",
       "                 mean_abs_shap_lifespan_stage_1  \\\n",
       "reference_gene                                    \n",
       "ENSG00000188747                           0.413   \n",
       "ENSG00000170835                           1.068   \n",
       "ENSG00000136436                           0.074   \n",
       "ENSG00000198663                             nan   \n",
       "ENSG00000172531                           0.093   \n",
       "ENSG00000006282                           0.148   \n",
       "ENSG00000142002                           0.101   \n",
       "ENSG00000129187                           0.149   \n",
       "ENSG00000165501                           0.177   \n",
       "ENSG00000120675                           0.054   \n",
       "\n",
       "                 mean_kendall_tau_lifespan_stage_1 direction_lifespan_stage_1  \\\n",
       "reference_gene                                                                  \n",
       "ENSG00000188747                              0.689                 strong pro   \n",
       "ENSG00000170835                              0.693                 strong pro   \n",
       "ENSG00000136436                              0.722                   weak pro   \n",
       "ENSG00000198663                                nan                        NaN   \n",
       "ENSG00000172531                             -0.761                       anti   \n",
       "ENSG00000006282                              0.608                   weak pro   \n",
       "ENSG00000142002                             -0.716                       anti   \n",
       "ENSG00000129187                              0.632                   weak pro   \n",
       "ENSG00000165501                              0.688                 strong pro   \n",
       "ENSG00000120675                             -0.649                  weak anti   \n",
       "\n",
       "                                         other_life_history_traits  \\\n",
       "reference_gene                                                       \n",
       "ENSG00000188747  mtGC (pro | 8 | 0.05 | 0.649), gestation_days ...   \n",
       "ENSG00000170835                                                NaN   \n",
       "ENSG00000136436                                                NaN   \n",
       "ENSG00000198663          metabolic_rate (anti | 6 | 0.0 | -0.5674)   \n",
       "ENSG00000172531  gestation_days (strong anti | 9 | 1.28 | -0.7678)   \n",
       "ENSG00000006282  mtGC (strong pro | 9 | 0.24 | 0.6937), gestati...   \n",
       "ENSG00000142002                                                NaN   \n",
       "ENSG00000129187                mtGC (weak pro | 4 | 0.01 | 0.6756)   \n",
       "ENSG00000165501                                                NaN   \n",
       "ENSG00000120675    gestation_days (weak anti | 3 | 0.16 | -0.6042)   \n",
       "\n",
       "                                                             organ  \n",
       "reference_gene                                                      \n",
       "ENSG00000188747  Brain (pro r^2=0.6271), Kidney (pro r^2=0.6017...  \n",
       "ENSG00000170835                             Brain (pro r^2=0.4815)  \n",
       "ENSG00000136436  Lung (pro r^2=0.5586), Brain (pro r^2=0.5369),...  \n",
       "ENSG00000198663   Heart (anti r^2=0.6159), Liver (anti r^2=0.4011)  \n",
       "ENSG00000172531   Brain (anti r^2=0.6099), Heart (anti r^2=0.4668)  \n",
       "ENSG00000006282  Brain (pro r^2=0.675), Heart (pro r^2=0.6381),...  \n",
       "ENSG00000142002    Lung (anti r^2=0.5074), Heart (anti r^2=0.3048)  \n",
       "ENSG00000129187  Liver (pro r^2=0.6659), Heart (pro r^2=0.4353)...  \n",
       "ENSG00000165501  Heart (pro r^2=0.4585), Lung (pro r^2=0.4286),...  \n",
       "ENSG00000120675  Heart (anti r^2=0.6465), Kidney (anti r^2=0.3257)  "
      ]
     },
     "execution_count": 11,
     "metadata": {},
     "output_type": "execute_result"
    }
   ],
   "source": [
    "intersections = locations.output.intersections\n",
    "ranked = pd.read_csv(intersections / \"intersections_ranked.tsv\", sep=\"\\t\", index_col=\"reference_gene\")\n",
    "print(ranked.shape)\n",
    "ranked.head(10)"
   ]
  },
  {
   "cell_type": "code",
   "execution_count": 12,
   "metadata": {},
   "outputs": [],
   "source": [
    "def data_genes(genes: List[str]):\n",
    "    return data.by_genes.collect(lambda gs: gs.loc[genes])\n",
    "\n",
    "def data_head(num: int):\n",
    "    return data_genes(ranked.head(num).index.to_list())"
   ]
  },
  {
   "cell_type": "code",
   "execution_count": 13,
   "metadata": {},
   "outputs": [
    {
     "data": {
      "text/plain": [
       "['Mus_caroli', 'Homo_sapiens']"
      ]
     },
     "execution_count": 13,
     "metadata": {},
     "output_type": "execute_result"
    }
   ],
   "source": [
    "not_validated_species = data.min_max_trait(trait)\n",
    "not_validated_species"
   ]
  },
  {
   "cell_type": "code",
   "execution_count": 14,
   "metadata": {},
   "outputs": [
    {
     "data": {
      "text/html": [
       "<table border='2'><caption> Selected feature columns <caption><tr><th>Samples metadata</th><th>Species metadata</th><th>Genes</th><th>Predict label</th><th>not_validated species</th></tr><tr><td>['tissue', 'species']</td><td>[]</td><td>all</td><td>lifespan</td><td>['Mus_caroli', 'Homo_sapiens']</td></tr></table>"
      ],
      "text/plain": [
       "FeatureSelection(samples=['tissue', 'species'], species=[], genes=None, to_predict='lifespan', categorical=['tissue'], exclude_from_training=['species'], genes_meta=None, select_by='shap', importance_type='split', feature_perturbation='tree_path_dependent', not_validated_species=['Mus_caroli', 'Homo_sapiens'])"
      ]
     },
     "execution_count": 14,
     "metadata": {},
     "output_type": "execute_result"
    }
   ],
   "source": [
    "selection = FeatureSelection(\n",
    "    samples = [\"tissue\",\"species\"], #samples metadata to include\n",
    "    species =  [], #species metadata other then Y label to include\n",
    "    exclude_from_training = [\"species\"],  #exclude some fields from LightGBM training\n",
    "    to_predict = trait, #column to predict\n",
    "    categorical = [\"tissue\"],\n",
    "    select_by = \"shap\",\n",
    "    importance_type =  importance_type,\n",
    "    feature_perturbation = \"tree_path_dependent\",\n",
    "    not_validated_species = not_validated_species\n",
    ")\n",
    "selection"
   ]
  },
  {
   "cell_type": "code",
   "execution_count": 15,
   "metadata": {},
   "outputs": [
    {
     "data": {
      "text/html": [
       "<table border='2'><caption>input<caption><tr><th>expressions</th><th>genes</th><th>species</th><th>samples</th><th>Genes Metadata</th><th>Species Metadata</th></tr><tr><td>(408, 10)</td><td>(10, 37)</td><td>38</td><td>408</td><td>(10, 2)</td><td>(38, 18)</td></tr></table>"
      ],
      "text/plain": [
       "<table border='2'><caption>input<caption><tr><th>expressions</th><th>genes</th><th>species</th><th>samples</th><th>Genes Metadata</th><th>Species Metadata</th></tr><tr><td>(408, 10)</td><td>(10, 37)</td><td>38</td><td>408</td><td>(10, 2)</td><td>(38, 18)</td></tr></table>"
      ]
     },
     "execution_count": 15,
     "metadata": {},
     "output_type": "execute_result"
    }
   ],
   "source": [
    "top_genes_data = data_head(genes_num)\n",
    "top_genes_data"
   ]
  },
  {
   "cell_type": "markdown",
   "metadata": {},
   "source": [
    "## Setting up ShapSelector ##"
   ]
  },
  {
   "cell_type": "markdown",
   "metadata": {},
   "source": [
    "Deciding on selection parameters (which fields to include, exclude, predict)"
   ]
  },
  {
   "cell_type": "code",
   "execution_count": 16,
   "metadata": {},
   "outputs": [],
   "source": [
    "partition_params = PartitionParameters(n_folds, n_hold_out, 2,   42)"
   ]
  },
  {
   "cell_type": "code",
   "execution_count": 17,
   "metadata": {},
   "outputs": [
    {
     "name": "stderr",
     "output_type": "stream",
     "text": [
      "MOTPEMultiObjectiveSampler is experimental (supported from v2.3.0). The interface can change in the future.\n",
      "RandomMultiObjectiveSampler is experimental (supported from v1.4.0). The interface can change in the future.\n"
     ]
    }
   ],
   "source": [
    "sampler_tpe = optuna.multi_objective.samplers.MOTPEMultiObjectiveSampler(\n",
    "        n_ehvi_candidates=n_ehvi_candidates,\n",
    "        seed=0\n",
    "    )"
   ]
  },
  {
   "cell_type": "code",
   "execution_count": 18,
   "metadata": {},
   "outputs": [
    {
     "name": "stdout",
     "output_type": "stream",
     "text": [
      "loading (if exists) study from sqlite:////data/sources/yspecies/notebooks/../data/interim/optimization/lifespan_3.sqlite\n"
     ]
    },
    {
     "name": "stderr",
     "output_type": "stream",
     "text": [
      "create_study is experimental (supported from v1.4.0). The interface can change in the future.\n",
      "NSGAIIMultiObjectiveSampler is experimental (supported from v1.5.0). The interface can change in the future.\n",
      "RandomMultiObjectiveSampler is experimental (supported from v1.4.0). The interface can change in the future.\n",
      "\u001b[32m[I 2020-11-14 18:22:11,602]\u001b[0m Using an existing study with name 'lifespan_r2_huber_kendall' instead of creating a new one.\u001b[0m\n",
      "MultiObjectiveStudy is experimental (supported from v1.4.0). The interface can change in the future.\n"
     ]
    },
    {
     "data": {
      "text/plain": [
       "<optuna.multi_objective.study.MultiObjectiveStudy at 0x7f45f76fca00>"
      ]
     },
     "execution_count": 18,
     "metadata": {},
     "output_type": "execute_result"
    }
   ],
   "source": [
    "def load_study(trait: str, suffix: str = suffix, sampler = sampler_tpe):\n",
    "    url = f'sqlite:///' +str((locations.interim.optimization / (trait+suffix+\".sqlite\")).absolute())\n",
    "    print('loading (if exists) study from '+url)\n",
    "    storage = optuna.storages.RDBStorage(\n",
    "        url=url\n",
    "        #engine_kwargs={'check_same_thread': False}\n",
    "    )\n",
    "    return optuna.multi_objective.study.create_study(directions=['maximize','minimize','maximize'], \n",
    "                                                     storage = storage, \n",
    "                                                     study_name = f\"{trait}_r2_huber_kendall\", \n",
    "                                                     load_if_exists = True\n",
    "                                                    )\n",
    "\n",
    "study = load_study(trait, suffix)\n",
    "study\n",
    "#metrics, params = MultiObjectiveResults.from_study(study).best_metrics_params_r2()\n",
    "#metrics, params"
   ]
  },
  {
   "cell_type": "code",
   "execution_count": 19,
   "metadata": {},
   "outputs": [],
   "source": [
    "def objective_parameters(trial: Trial) -> dict:\n",
    "    return {\n",
    "        'objective': 'regression',\n",
    "        'metric': {'mae', 'mse', 'huber'},\n",
    "        'verbosity': -1,\n",
    "        'boosting_type': trial.suggest_categorical('boosting_type', ['dart', 'gbdt']),\n",
    "        'lambda_l1': trial.suggest_uniform('lambda_l1', 0.01, 3.0),\n",
    "        'lambda_l2': trial.suggest_uniform('lambda_l2', 0.01, 3.0),\n",
    "        'max_leaves': trial.suggest_int(\"max_leaves\", 15, 25),\n",
    "        'max_depth': trial.suggest_int('max_depth', 3, 8),\n",
    "        'feature_fraction': trial.suggest_uniform('feature_fraction', 0.4, 1.0),\n",
    "        'bagging_fraction': trial.suggest_uniform('bagging_fraction', 0.3, 1.0),\n",
    "        'learning_rate': trial.suggest_uniform('learning_rate', 0.01, 0.1),\n",
    "        'min_data_in_leaf': trial.suggest_int('min_data_in_leaf', 3, 8),\n",
    "        'drop_rate': trial.suggest_uniform('drop_rate', 0.1, 0.3),\n",
    "        \"verbose\": -1\n",
    "    }\n",
    "optimization_parameters = objective_parameters"
   ]
  },
  {
   "cell_type": "code",
   "execution_count": 20,
   "metadata": {},
   "outputs": [],
   "source": [
    "from yspecies.workflow import SplitReduce\n",
    "\n",
    "def side(i: int):\n",
    "    print(i)\n",
    "    return i\n",
    "\n",
    "prepare_partition = SplitReduce(\n",
    "    outputs = DataPartitioner(), \n",
    "    split = lambda x: [(x[0], replace(partition_params, seed=side(x[2])))], \n",
    "    reduce = lambda x, output: (output[0], x[1]) \n",
    ")                               \n",
    "partition_and_cv = Pipeline(\n",
    "    [\n",
    "        (\"prepare partition\", prepare_partition),\n",
    "        (\"cross_validation\", CrossValidator()),\n",
    "        (\"shap_computation\", ShapSelector())\n",
    "    ]\n",
    ")\n",
    "\n",
    "partition_and_cv_repeat =  Pipeline([\n",
    "    (\"repeat_cv_pipe\", Repeat(partition_and_cv, repeats, lambda x, i: [x[0], x[1], i] )),\n",
    "    (\"collect_mean\", Collect(fold=lambda results: (FeatureSummary(results).metrics_average.R2, FeatureSummary(results).metrics_average.huber, FeatureSummary(results).kendall_tau_abs_mean)))    \n",
    "    ]\n",
    "    )\n",
    "\n",
    "p = Pipeline([\n",
    "     ('extractor', DataExtractor()),\n",
    "     ('tune', Tune(partition_and_cv_repeat, study = study, n_trials = n_trials, parameters_space = optimization_parameters))    \n",
    "])"
   ]
  },
  {
   "cell_type": "code",
   "execution_count": 21,
   "metadata": {},
   "outputs": [],
   "source": [
    "p = Pipeline([\n",
    "     ('extractor', DataExtractor()),\n",
    "     ('tune', Tune(partition_and_cv_repeat, study = study, n_trials = n_trials, parameters_space = optimization_parameters))    \n",
    "])"
   ]
  },
  {
   "cell_type": "code",
   "execution_count": null,
   "metadata": {},
   "outputs": [
    {
     "name": "stderr",
     "output_type": "stream",
     "text": [
      "MultiObjectiveStudy is experimental (supported from v1.4.0). The interface can change in the future.\n",
      "FrozenMultiObjectiveTrial is experimental (supported from v1.4.0). The interface can change in the future.\n",
      "MultiObjectiveStudy is experimental (supported from v1.4.0). The interface can change in the future.\n",
      "FrozenMultiObjectiveTrial is experimental (supported from v1.4.0). The interface can change in the future.\n",
      "FrozenMultiObjectiveTrial is experimental (supported from v1.4.0). The interface can change in the future.\n",
      "MultiObjectiveTrial is experimental (supported from v1.4.0). The interface can change in the future.\n",
      "MultiObjectiveStudy is experimental (supported from v1.4.0). The interface can change in the future.\n",
      "MultiObjectiveStudy is experimental (supported from v1.4.0). The interface can change in the future.\n",
      "FrozenMultiObjectiveTrial is experimental (supported from v1.4.0). The interface can change in the future.\n",
      "2020-11-14 18:22:13.210 | INFO     | yspecies.selection:fit:157 - ===== fitting models with seed 0 =====\n",
      "2020-11-14 18:22:13.212 | INFO     | yspecies.selection:fit:158 - PARAMETERS:\n",
      "{'objective': 'regression', 'metric': {'mse', 'huber', 'mae'}, 'verbosity': -1, 'boosting_type': 'dart', 'lambda_l1': 2.9902884884096714, 'lambda_l2': 0.6136139209038782, 'max_leaves': 16, 'max_depth': 5, 'feature_fraction': 0.506094745993802, 'bagging_fraction': 0.6549913402207208, 'learning_rate': 0.08554380802136563, 'min_data_in_leaf': 5, 'drop_rate': 0.2592906278504832, 'verbose': -1}\n",
      "2020-11-14 18:22:13.217 | INFO     | yspecies.selection:fit:161 - SEED: 0 | FOLD: 0 | VALIDATION_SPECIES: ['Gorilla_gorilla', 'Pan_paniscus']\n"
     ]
    },
    {
     "name": "stdout",
     "output_type": "stream",
     "text": [
      "0\n",
      "[LightGBM] [Warning] verbosity is set=-1, verbose=-1 will be ignored. Current value: verbosity=-1\n"
     ]
    },
    {
     "name": "stderr",
     "output_type": "stream",
     "text": [
      "Early stopping is not available in dart mode\n",
      "2020-11-14 18:29:06.908 | INFO     | yspecies.selection:fit:161 - SEED: 0 | FOLD: 1 | VALIDATION_SPECIES: ['Heterocephalus_glaber', 'Capra_hircus']\n"
     ]
    },
    {
     "name": "stdout",
     "output_type": "stream",
     "text": [
      "[250]\tvalid_0's l2: 202.625\tvalid_0's huber: 6.65293\tvalid_0's l1: 7.76657\n"
     ]
    },
    {
     "name": "stderr",
     "output_type": "stream",
     "text": [
      "2020-11-14 18:37:23.332 | INFO     | yspecies.selection:fit:161 - SEED: 0 | FOLD: 2 | VALIDATION_SPECIES: ['Bos_taurus', 'Otolemur_garnettii']\n"
     ]
    },
    {
     "name": "stdout",
     "output_type": "stream",
     "text": [
      "[250]\tvalid_0's l2: 377.822\tvalid_0's huber: 6.85082\tvalid_0's l1: 7.98257\n"
     ]
    },
    {
     "name": "stderr",
     "output_type": "stream",
     "text": [
      "2020-11-14 18:45:41.219 | INFO     | yspecies.selection:fit:161 - SEED: 0 | FOLD: 3 | VALIDATION_SPECIES: ['Macaca_nemestrina', 'Microcebus_murinus']\n"
     ]
    },
    {
     "name": "stdout",
     "output_type": "stream",
     "text": [
      "[250]\tvalid_0's l2: 199.458\tvalid_0's huber: 5.13112\tvalid_0's l1: 6.03824\n",
      "[250]\tvalid_0's l2: 125.075\tvalid_0's huber: 5.20737\tvalid_0's l1: 6.1414\n"
     ]
    },
    {
     "name": "stderr",
     "output_type": "stream",
     "text": [
      "2020-11-14 18:55:29.966 | INFO     | yspecies.explanations:transform:741 - Metrics: \n",
      "Metrics(R2=0.680407820306089, MAE=6.982194207552144, MSE=226.2451225890496, huber=5.960562619935221)\n",
      "2020-11-14 18:55:29.989 | INFO     | yspecies.selection:fit:157 - ===== fitting models with seed 1 =====\n",
      "2020-11-14 18:55:29.994 | INFO     | yspecies.selection:fit:158 - PARAMETERS:\n",
      "{'objective': 'regression', 'metric': {'mse', 'huber', 'mae'}, 'verbosity': -1, 'boosting_type': 'dart', 'lambda_l1': 2.9902884884096714, 'lambda_l2': 0.6136139209038782, 'max_leaves': 16, 'max_depth': 5, 'feature_fraction': 0.506094745993802, 'bagging_fraction': 0.6549913402207208, 'learning_rate': 0.08554380802136563, 'min_data_in_leaf': 5, 'drop_rate': 0.2592906278504832, 'verbose': -1, 'seed': 0}\n",
      "2020-11-14 18:55:30.003 | INFO     | yspecies.selection:fit:161 - SEED: 1 | FOLD: 0 | VALIDATION_SPECIES: ['Felis_catus', 'Ursus_americanus']\n"
     ]
    },
    {
     "name": "stdout",
     "output_type": "stream",
     "text": [
      "1\n",
      "[LightGBM] [Warning] verbosity is set=-1, verbose=-1 will be ignored. Current value: verbosity=-1\n"
     ]
    },
    {
     "name": "stderr",
     "output_type": "stream",
     "text": [
      "Early stopping is not available in dart mode\n",
      "2020-11-14 19:09:55.154 | INFO     | yspecies.selection:fit:161 - SEED: 1 | FOLD: 1 | VALIDATION_SPECIES: ['Heterocephalus_glaber', 'Vombatus_ursinus']\n"
     ]
    },
    {
     "name": "stdout",
     "output_type": "stream",
     "text": [
      "[250]\tvalid_0's l2: 154.758\tvalid_0's huber: 4.63431\tvalid_0's l1: 5.51668\n"
     ]
    }
   ],
   "source": [
    "results = p.fit_transform((top_genes_data, selection))\n",
    "results"
   ]
  },
  {
   "cell_type": "code",
   "execution_count": null,
   "metadata": {},
   "outputs": [],
   "source": [
    "results.best_trial_r2().values"
   ]
  },
  {
   "cell_type": "code",
   "execution_count": null,
   "metadata": {},
   "outputs": [],
   "source": [
    "print(\"first optimization was finished\")"
   ]
  },
  {
   "cell_type": "code",
   "execution_count": null,
   "metadata": {},
   "outputs": [],
   "source": [
    "results.best_trial_r2().values"
   ]
  },
  {
   "cell_type": "code",
   "execution_count": null,
   "metadata": {},
   "outputs": [],
   "source": []
  },
  {
   "cell_type": "code",
   "execution_count": 19,
   "metadata": {},
   "outputs": [],
   "source": [
    "#optuna.multi_objective.visualization.plot_pareto_front(study, include_dominated_trials =True)"
   ]
  }
 ],
 "metadata": {
  "kernelspec": {
   "display_name": "Python 3",
   "language": "python",
   "name": "python3"
  },
  "language_info": {
   "codemirror_mode": {
    "name": "ipython",
    "version": 3
   },
   "file_extension": ".py",
   "mimetype": "text/x-python",
   "name": "python",
   "nbconvert_exporter": "python",
   "pygments_lexer": "ipython3",
   "version": "3.8.5"
  }
 },
 "nbformat": 4,
 "nbformat_minor": 4
}
