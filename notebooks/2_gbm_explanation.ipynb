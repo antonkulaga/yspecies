{
 "cells": [
  {
   "cell_type": "code",
   "execution_count": 544,
   "metadata": {},
   "outputs": [],
   "source": [
    "import pandas as pd\n",
    "import shap\n",
    "from pprint import pprint\n",
    "import random\n",
    "import numpy as np\n",
    "from sklearn.preprocessing import LabelEncoder\n",
    "import lightgbm as lgb\n",
    "from scipy.stats import kendalltau\n",
    "from sklearn.utils import resample\n",
    "from sklearn.model_selection import train_test_split, KFold\n",
    "from sklearn.metrics import r2_score, mean_squared_error, mean_absolute_error, accuracy_score, recall_score, precision_score, f1_score\n",
    "from pyensembl import EnsemblRelease\n",
    "\n",
    "pd.set_option('display.max_columns', None)\n",
    "pd.set_option('display.max_rows', None)\n",
    "pd.set_option('display.float_format', lambda x: '%.3f' % x)\n",
    "\n",
    "# save label encoder to global scope\n",
    "le = LabelEncoder()\n",
    "NUMBER_OF_BOOTSTRAPS = 5"
   ]
  },
  {
   "cell_type": "code",
   "execution_count": 372,
   "metadata": {},
   "outputs": [
    {
     "name": "stderr",
     "output_type": "stream",
     "text": [
      "INFO:pyensembl.sequence_data:Loaded sequence dictionary from /Users/vtysch/Library/Caches/pyensembl/GRCh38/ensembl97/Homo_sapiens.GRCh38.cdna.all.fa.gz.pickle\n",
      "INFO:pyensembl.sequence_data:Loaded sequence dictionary from /Users/vtysch/Library/Caches/pyensembl/GRCh38/ensembl97/Homo_sapiens.GRCh38.ncrna.fa.gz.pickle\n",
      "INFO:pyensembl.sequence_data:Loaded sequence dictionary from /Users/vtysch/Library/Caches/pyensembl/GRCh38/ensembl97/Homo_sapiens.GRCh38.pep.all.fa.gz.pickle\n"
     ]
    }
   ],
   "source": [
    "ensemble_data = EnsemblRelease(97)\n",
    "ensemble_data.download()\n",
    "ensemble_data.index()"
   ]
  },
  {
   "cell_type": "code",
   "execution_count": null,
   "metadata": {},
   "outputs": [],
   "source": [
    "def merge_datasets():\n",
    "    expressions = pd.read_csv('./../data/input/expressions/by_animal_class/Mammalia.tsv', sep='\\t')\n",
    "    samples = pd.read_csv('./../data/input/samples.tsv', sep=\"\\t\", index_col=None, dtype=None)\n",
    "    species = pd.read_csv('./../data/input/species.tsv', sep='\\t', index_col=None, dtype=None)\n",
    "\n",
    "    samples = samples.set_index('run')\n",
    "    species = species.set_index('species')\n",
    "    expressions_T = expressions.T\n",
    "    expressions_T = expressions_T.rename(columns=expressions_T.iloc[0]).drop(expressions_T.index[0])\n",
    "    expressions_T.to_csv('transposed_expressions.csv')\n",
    "    joined_samples_expressions = expressions_T.join([samples], how='inner')\n",
    "    cross_species_joined_df = joined_samples_expressions.merge(species, left_on='species', right_on=species.index)\n",
    "    for i, column in enumerate(species_data.columns):\n",
    "        # put NaNs for columns with ; inside numeric values\n",
    "        if 'ENSG' in column: \n",
    "            species_data[column] = pd.to_numeric(species_data[column], errors='coerce')\n",
    "    cross_species_joined_df.to_csv('cross_species_df_merged.csv', index=False)\n",
    "    \n",
    "merge_datasets()\n"
   ]
  },
  {
   "cell_type": "code",
   "execution_count": 606,
   "metadata": {},
   "outputs": [],
   "source": [
    "def add_metrics(current_metrics, model, ground_truth_X, ground_truth_Y):\n",
    "    predictions = model.predict(ground_truth_X, num_iteration=model.best_iteration)\n",
    "    test_y = ground_truth_Y\n",
    "    fold_metrics = calculate_metrics(test_y, predictions)\n",
    "    return np.add(current_metrics, np.array(list(fold_metrics.values())))\n",
    "\n",
    "def regression_model_lightgbm(X_train, X_test, y_train, y_test, categorical):\n",
    "    lgb_train = lgb.Dataset(X_train, y_train, categorical_feature=[categorical])\n",
    "    lgb_eval = lgb.Dataset(X_test, y_test, reference=lgb_train)\n",
    "\n",
    "    params = {\n",
    "        'boosting_type': 'gbdt',\n",
    "        'objective': 'regression',\n",
    "        'metric': {'l2', 'l1'},\n",
    "        'max_leaves': 20,\n",
    "        'max_depth': 3,\n",
    "        'learning_rate': 0.07,\n",
    "        'feature_fraction': 0.8,\n",
    "        'bagging_fraction': 1,\n",
    "        'min_data_in_leaf': 6,\n",
    "        'lambda_l1': 0.9,\n",
    "        'lambda_l2': 0.9,\n",
    "        \"verbose\": -1\n",
    "    }\n",
    "\n",
    "    gbm = lgb.train(params,\n",
    "        lgb_train,\n",
    "        num_boost_round=500,\n",
    "        valid_sets=lgb_eval,\n",
    "        evals_result=evals_result,\n",
    "        verbose_eval=1000,\n",
    "        early_stopping_rounds=7)\n",
    "    \n",
    "    return gbm\n",
    "\n",
    "def regression_for_interaction(X_train, y_train, categorical):\n",
    "    lgb_train = lgb.Dataset(X_train, y_train, categorical_feature=[categorical])\n",
    "\n",
    "    params = {\n",
    "        'boosting_type': 'gbdt',\n",
    "        'objective': 'regression',\n",
    "        'metric': {'l2', 'l1'},\n",
    "        'max_leaves': 20,\n",
    "        'max_depth': 3,\n",
    "        'learning_rate': 0.07,\n",
    "        'feature_fraction': 0.8,\n",
    "        'bagging_fraction': 1,\n",
    "        'min_data_in_leaf': 6,\n",
    "        'lambda_l1': 0.9,\n",
    "        'lambda_l2': 0.9,\n",
    "    }\n",
    "\n",
    "    gbm = lgb.train(params,\n",
    "        lgb_train,\n",
    "        num_boost_round=30)\n",
    "    \n",
    "    return gbm"
   ]
  },
  {
   "cell_type": "code",
   "execution_count": 465,
   "metadata": {},
   "outputs": [],
   "source": [
    "def sorted_stratification(X, Y, k):\n",
    "    X['target'] = Y\n",
    "    X = X.sort_values(by=['target'])\n",
    "    partition_indexes = [[] for i in range(k)]\n",
    "    i = 0\n",
    "    index_of_sample = 0\n",
    "   \n",
    "    while i < (int(len(Y)/k)): \n",
    "        for j in range(k):\n",
    "            partition_indexes[j].append((i*k)+j)\n",
    "            index_of_sample = (i*k)+j\n",
    "        i+=1\n",
    "\n",
    "    index_of_sample += 1\n",
    "    i = 0\n",
    "    while index_of_sample < len(Y):\n",
    "        partition_indexes[i].append(index_of_sample)\n",
    "        index_of_sample += 1\n",
    "        i+=1\n",
    "        \n",
    "    X_features = X.drop(['target'], axis=1)\n",
    "    Y = X['target'].values\n",
    "    X = X.drop(['target'], axis=1)    \n",
    "        \n",
    "    partition_Xs = []\n",
    "    partition_Ys = []\n",
    "    for pindex in partition_indexes:\n",
    "        partition_Xs.append(X_features.iloc[pindex])\n",
    "        partition_Ys.append(Y[pindex])\n",
    "       \n",
    "    return X, Y, partition_Xs, partition_Ys"
   ]
  },
  {
   "cell_type": "code",
   "execution_count": 505,
   "metadata": {},
   "outputs": [],
   "source": [
    "def calculate_stable_shap_values(X, Y, index_of_categorical, label_to_predict):\n",
    "    weight_of_features = []\n",
    "    shap_values_out_of_fold = [[0 for i in range(len(X.values[0]))] for z in range(len(X))]\n",
    "    #interaction_values_out_of_fold = [[[0 for i in range(len(X.values[0]))] for i in range(len(X.values[0]))] for z in range(len(X))]\n",
    "    out_of_folds_metrics = [0, 0, 0]\n",
    "    \n",
    "    X, Y, partitions_of_X, partitions_of_Y = sorted_stratification(X, Y, NUMBER_OF_BOOTSTRAPS)\n",
    "    \n",
    "    \n",
    "    for i in range(NUMBER_OF_BOOTSTRAPS):\n",
    "        X_test = partitions_of_X[i]\n",
    "        y_test = partitions_of_Y[i]\n",
    "\n",
    "        X_train = pd.concat(partitions_of_X[:i] + partitions_of_X[i+1:])\n",
    "        y_train = np.concatenate(partitions_of_Y[:i] + partitions_of_Y[i+1:], axis=0)\n",
    "    \n",
    "        # get trained model and record accuracy metrics\n",
    "        model = regression_model_lightgbm(X_train, X_test, y_train, y_test, index_of_categorical)\n",
    "        out_of_folds_metrics = add_metrics(out_of_folds_metrics, model, X_test, y_test)\n",
    "\n",
    "        weight_of_features.append(model.feature_importance(importance_type='gain'))\n",
    "        print(model.feature_importance(importance_type='gain'))\n",
    "        \n",
    "        explainer = shap.TreeExplainer(model)\n",
    "        shap_values = explainer.shap_values(X)\n",
    "        #interaction_values = explainer.shap_interaction_values(X)\n",
    "        shap_values_out_of_fold = np.add(shap_values_out_of_fold, shap_values)\n",
    "        #interaction_values_out_of_fold = np.add(interaction_values_out_of_fold, interaction_values)\n",
    "        \n",
    "    # print average metrics results\n",
    "    print('Accuracy of predicting ' + label_to_predict, np.divide(out_of_folds_metrics, NUMBER_OF_BOOTSTRAPS))\n",
    "    \n",
    "     # calculate shap values out of fold\n",
    "    shap_values_out_of_fold = shap_values_out_of_fold / NUMBER_OF_BOOTSTRAPS\n",
    "    shap_values_transposed = shap_values_out_of_fold.T\n",
    "    X_transposed = X.T.values\n",
    "        \n",
    "    # get features that have stable weight across bootstraps\n",
    "    output_features_by_weight = []\n",
    "    for i, index_of_col in enumerate(weight_of_features[0]):\n",
    "        cols = []\n",
    "        for sample in weight_of_features:\n",
    "            cols.append(sample[i])\n",
    "        non_zero_cols = 0\n",
    "        for col in cols:\n",
    "            if col != 0:\n",
    "                non_zero_cols += 1\n",
    "        if non_zero_cols == NUMBER_OF_BOOTSTRAPS:\n",
    "            output_features_by_weight.append({\n",
    "                'ids': X.columns[i],\n",
    "                'gain_score_to_'+label_to_predict: np.mean(cols),\n",
    "                'name': ensemble_data.gene_name_of_gene_id(X.columns[i]),\n",
    "                'kendall_tau_to_'+label_to_predict: kendalltau(shap_values_transposed[i], X_transposed[i], nan_policy='omit')[0]\n",
    "            })\n",
    "    \n",
    "    #output_features_by_weight = sorted(output_features_by_weight, key=lambda k: k['score'], reverse=True) \n",
    "        \n",
    "    return {'list_of_weighted_features': output_features_by_weight,\n",
    "            'stable_shap_values': shap_values_out_of_fold}\n"
   ]
  },
  {
   "cell_type": "code",
   "execution_count": 506,
   "metadata": {},
   "outputs": [],
   "source": [
    "def plot_shap_values(shap_values, X):\n",
    "    shap_feature_names = []\n",
    "    X_display = X.copy()\n",
    "    X_display['tissue_encoded'] = le.inverse_transform(X_display['tissue_encoded'].values)\n",
    "    for col in X.columns:\n",
    "        if 'ENSG' in col:\n",
    "            shap_feature_names.append(ensemble_data.gene_name_of_gene_id(col))\n",
    "        else:\n",
    "            shap_feature_names.append(col)\n",
    "            \n",
    "    shap.summary_plot(shap_values, X, feature_names=shap_feature_names)\n",
    "    shap.dependence_plot(\"VARS2\", shap_values, X, interaction_index='tissue_encoded', feature_names=shap_feature_names, display_features=X_display)\n"
   ]
  },
  {
   "cell_type": "code",
   "execution_count": 532,
   "metadata": {},
   "outputs": [],
   "source": [
    "def calculate_metrics(prediction, ground_truth):\n",
    "     return {\n",
    "            'R2': r2_score(ground_truth, prediction),\n",
    "            'MSE': mean_squared_error(ground_truth, prediction),\n",
    "            'MAE': mean_absolute_error(ground_truth, prediction),\n",
    "     }\n",
    "    \n",
    "def encode_tissues(dataframe):\n",
    "    le.fit(dataframe['tissue'].values)\n",
    "    tissues_encoded = le.transform(dataframe['tissue'].values)\n",
    "    dataframe['tissue_encoded'] = tissues_encoded\n",
    "    \n",
    "    return dataframe\n",
    "    \n",
    "    \n",
    "def split_to_X_and_Y(dataframe, label_to_predict):\n",
    "    X = dataframe.drop([label_to_predict, 'tissue'], axis=1)\n",
    "    Y = dataframe[label_to_predict].values\n",
    "    index_of_categorical_feature = list(X.columns).index('tissue_encoded')\n",
    "\n",
    "    return X, X_values, Y, index_of_categorical_feature\n",
    "    \n",
    "    \n",
    "def get_predictions(label_to_predict):\n",
    "    species_data = pd.read_csv('cross_species_df_merged.csv', low_memory=False)\n",
    "    \n",
    "    # remove other features (redundant and those that correlate with target)\n",
    "    cols_to_delete = []\n",
    "    for column in list(species_data.columns):\n",
    "        if 'ENSG' not in column and column not in ['tissue', label_to_predict]:\n",
    "            cols_to_delete.append(column)\n",
    "            \n",
    "    species_data = species_data.drop(cols_to_delete, axis=1) \n",
    "    \n",
    "    species_data = species_data[(~pd.isnull(species_data[label_to_predict]))] # select only row where target is set\n",
    "    species_data = species_data.dropna(axis=1, thresh=int(len(species_data)*0.9)) # remove all genes where percentage of NaN > 10%\n",
    "    species_data = species_data[species_data['tissue'].isin(['Lung', 'Liver', 'Kidney', 'Brain', 'Blood'])] # remove underrepresented tissues\n",
    "    species_data = encode_tissues(species_data)\n",
    "    \n",
    "    feature_df, X, Y, index_of_categorical = split_to_X_and_Y(species_data, label_to_predict)\n",
    "    \n",
    "    object_from_training = calculate_stable_shap_values(feature_df, Y, index_of_categorical, label_to_predict)\n",
    "    \n",
    "    features_weighted = object_from_training['list_of_weighted_features']\n",
    "    shap_values = object_from_training['stable_shap_values']\n",
    "    \n",
    "    return shap_values, feature_df, features_weighted\n"
   ]
  },
  {
   "cell_type": "code",
   "execution_count": 533,
   "metadata": {
    "scrolled": false
   },
   "outputs": [
    {
     "name": "stderr",
     "output_type": "stream",
     "text": [
      "Using categorical_feature in Dataset.\n",
      "categorical_feature in Dataset is overridden.\n",
      "New categorical_feature is [9062]\n"
     ]
    },
    {
     "name": "stdout",
     "output_type": "stream",
     "text": [
      "Training until validation scores don't improve for 7 rounds\n",
      "Early stopping, best iteration is:\n",
      "[139]\tvalid_0's l1: 12.8863\tvalid_0's l2: 598.588\n"
     ]
    },
    {
     "name": "stderr",
     "output_type": "stream",
     "text": [
      "Setting feature_perturbation = \"tree_path_dependent\" because no background data was given.\n",
      "Using categorical_feature in Dataset.\n",
      "categorical_feature in Dataset is overridden.\n",
      "New categorical_feature is [9062]\n"
     ]
    },
    {
     "name": "stdout",
     "output_type": "stream",
     "text": [
      "Training until validation scores don't improve for 7 rounds\n",
      "Early stopping, best iteration is:\n",
      "[157]\tvalid_0's l1: 13.2322\tvalid_0's l2: 734.354\n"
     ]
    },
    {
     "name": "stderr",
     "output_type": "stream",
     "text": [
      "Setting feature_perturbation = \"tree_path_dependent\" because no background data was given.\n",
      "Using categorical_feature in Dataset.\n",
      "categorical_feature in Dataset is overridden.\n",
      "New categorical_feature is [9062]\n"
     ]
    },
    {
     "name": "stdout",
     "output_type": "stream",
     "text": [
      "Training until validation scores don't improve for 7 rounds\n",
      "Early stopping, best iteration is:\n",
      "[100]\tvalid_0's l1: 11.0448\tvalid_0's l2: 395.753\n"
     ]
    },
    {
     "name": "stderr",
     "output_type": "stream",
     "text": [
      "Setting feature_perturbation = \"tree_path_dependent\" because no background data was given.\n",
      "Using categorical_feature in Dataset.\n",
      "categorical_feature in Dataset is overridden.\n",
      "New categorical_feature is [9062]\n"
     ]
    },
    {
     "name": "stdout",
     "output_type": "stream",
     "text": [
      "Training until validation scores don't improve for 7 rounds\n",
      "Early stopping, best iteration is:\n",
      "[110]\tvalid_0's l1: 9.74365\tvalid_0's l2: 400.381\n"
     ]
    },
    {
     "name": "stderr",
     "output_type": "stream",
     "text": [
      "Setting feature_perturbation = \"tree_path_dependent\" because no background data was given.\n",
      "Using categorical_feature in Dataset.\n",
      "categorical_feature in Dataset is overridden.\n",
      "New categorical_feature is [9062]\n"
     ]
    },
    {
     "name": "stdout",
     "output_type": "stream",
     "text": [
      "Training until validation scores don't improve for 7 rounds\n",
      "Early stopping, best iteration is:\n",
      "[163]\tvalid_0's l1: 16.8447\tvalid_0's l2: 1345.39\n"
     ]
    },
    {
     "name": "stderr",
     "output_type": "stream",
     "text": [
      "Setting feature_perturbation = \"tree_path_dependent\" because no background data was given.\n"
     ]
    },
    {
     "name": "stdout",
     "output_type": "stream",
     "text": [
      "Accuracy of predicting gestation_days [  0.90782648 694.89429737  12.75033927]\n"
     ]
    },
    {
     "name": "stderr",
     "output_type": "stream",
     "text": [
      "Using categorical_feature in Dataset.\n",
      "categorical_feature in Dataset is overridden.\n",
      "New categorical_feature is [9283]\n"
     ]
    },
    {
     "name": "stdout",
     "output_type": "stream",
     "text": [
      "Training until validation scores don't improve for 7 rounds\n",
      "Early stopping, best iteration is:\n",
      "[137]\tvalid_0's l1: 3.08995\tvalid_0's l2: 59.9258\n"
     ]
    },
    {
     "name": "stderr",
     "output_type": "stream",
     "text": [
      "Setting feature_perturbation = \"tree_path_dependent\" because no background data was given.\n",
      "Using categorical_feature in Dataset.\n",
      "categorical_feature in Dataset is overridden.\n",
      "New categorical_feature is [9283]\n"
     ]
    },
    {
     "name": "stdout",
     "output_type": "stream",
     "text": [
      "Training until validation scores don't improve for 7 rounds\n",
      "Early stopping, best iteration is:\n",
      "[237]\tvalid_0's l1: 3.11414\tvalid_0's l2: 70.0752\n"
     ]
    },
    {
     "name": "stderr",
     "output_type": "stream",
     "text": [
      "Setting feature_perturbation = \"tree_path_dependent\" because no background data was given.\n",
      "Using categorical_feature in Dataset.\n",
      "categorical_feature in Dataset is overridden.\n",
      "New categorical_feature is [9283]\n"
     ]
    },
    {
     "name": "stdout",
     "output_type": "stream",
     "text": [
      "Training until validation scores don't improve for 7 rounds\n",
      "Early stopping, best iteration is:\n",
      "[439]\tvalid_0's l1: 4.3758\tvalid_0's l2: 113.283\n"
     ]
    },
    {
     "name": "stderr",
     "output_type": "stream",
     "text": [
      "Setting feature_perturbation = \"tree_path_dependent\" because no background data was given.\n",
      "Using categorical_feature in Dataset.\n",
      "categorical_feature in Dataset is overridden.\n",
      "New categorical_feature is [9283]\n"
     ]
    },
    {
     "name": "stdout",
     "output_type": "stream",
     "text": [
      "Training until validation scores don't improve for 7 rounds\n",
      "Early stopping, best iteration is:\n",
      "[95]\tvalid_0's l1: 3.34457\tvalid_0's l2: 99.1796\n"
     ]
    },
    {
     "name": "stderr",
     "output_type": "stream",
     "text": [
      "Setting feature_perturbation = \"tree_path_dependent\" because no background data was given.\n",
      "Using categorical_feature in Dataset.\n",
      "categorical_feature in Dataset is overridden.\n",
      "New categorical_feature is [9283]\n"
     ]
    },
    {
     "name": "stdout",
     "output_type": "stream",
     "text": [
      "Training until validation scores don't improve for 7 rounds\n",
      "Early stopping, best iteration is:\n",
      "[116]\tvalid_0's l1: 2.22765\tvalid_0's l2: 17.8959\n"
     ]
    },
    {
     "name": "stderr",
     "output_type": "stream",
     "text": [
      "Setting feature_perturbation = \"tree_path_dependent\" because no background data was given.\n"
     ]
    },
    {
     "name": "stdout",
     "output_type": "stream",
     "text": [
      "Accuracy of predicting lifespan [ 0.79418439 72.07191589  3.2304237 ]\n"
     ]
    },
    {
     "name": "stderr",
     "output_type": "stream",
     "text": [
      "Using categorical_feature in Dataset.\n",
      "categorical_feature in Dataset is overridden.\n",
      "New categorical_feature is [12039]\n"
     ]
    },
    {
     "name": "stdout",
     "output_type": "stream",
     "text": [
      "Training until validation scores don't improve for 7 rounds\n",
      "Early stopping, best iteration is:\n",
      "[87]\tvalid_0's l1: 2319.88\tvalid_0's l2: 6.54532e+07\n"
     ]
    },
    {
     "name": "stderr",
     "output_type": "stream",
     "text": [
      "Setting feature_perturbation = \"tree_path_dependent\" because no background data was given.\n",
      "Using categorical_feature in Dataset.\n",
      "categorical_feature in Dataset is overridden.\n",
      "New categorical_feature is [12039]\n"
     ]
    },
    {
     "name": "stdout",
     "output_type": "stream",
     "text": [
      "Training until validation scores don't improve for 7 rounds\n",
      "Early stopping, best iteration is:\n",
      "[86]\tvalid_0's l1: 2602.9\tvalid_0's l2: 4.01704e+07\n"
     ]
    },
    {
     "name": "stderr",
     "output_type": "stream",
     "text": [
      "Setting feature_perturbation = \"tree_path_dependent\" because no background data was given.\n",
      "Using categorical_feature in Dataset.\n",
      "categorical_feature in Dataset is overridden.\n",
      "New categorical_feature is [12039]\n"
     ]
    },
    {
     "name": "stdout",
     "output_type": "stream",
     "text": [
      "Training until validation scores don't improve for 7 rounds\n",
      "Early stopping, best iteration is:\n",
      "[111]\tvalid_0's l1: 3438.37\tvalid_0's l2: 7.08048e+07\n"
     ]
    },
    {
     "name": "stderr",
     "output_type": "stream",
     "text": [
      "Setting feature_perturbation = \"tree_path_dependent\" because no background data was given.\n",
      "Using categorical_feature in Dataset.\n",
      "categorical_feature in Dataset is overridden.\n",
      "New categorical_feature is [12039]\n"
     ]
    },
    {
     "name": "stdout",
     "output_type": "stream",
     "text": [
      "Training until validation scores don't improve for 7 rounds\n",
      "Early stopping, best iteration is:\n",
      "[130]\tvalid_0's l1: 2470.31\tvalid_0's l2: 3.00412e+07\n"
     ]
    },
    {
     "name": "stderr",
     "output_type": "stream",
     "text": [
      "Setting feature_perturbation = \"tree_path_dependent\" because no background data was given.\n",
      "Using categorical_feature in Dataset.\n",
      "categorical_feature in Dataset is overridden.\n",
      "New categorical_feature is [12039]\n"
     ]
    },
    {
     "name": "stdout",
     "output_type": "stream",
     "text": [
      "Training until validation scores don't improve for 7 rounds\n",
      "Early stopping, best iteration is:\n",
      "[89]\tvalid_0's l1: 1504.43\tvalid_0's l2: 2.72511e+07\n"
     ]
    },
    {
     "name": "stderr",
     "output_type": "stream",
     "text": [
      "Setting feature_perturbation = \"tree_path_dependent\" because no background data was given.\n"
     ]
    },
    {
     "name": "stdout",
     "output_type": "stream",
     "text": [
      "Accuracy of predicting mass_g [9.89171031e-01 4.67441286e+07 2.46717961e+03]\n"
     ]
    },
    {
     "name": "stderr",
     "output_type": "stream",
     "text": [
      "Using categorical_feature in Dataset.\n",
      "categorical_feature in Dataset is overridden.\n",
      "New categorical_feature is [8740]\n"
     ]
    },
    {
     "name": "stdout",
     "output_type": "stream",
     "text": [
      "Training until validation scores don't improve for 7 rounds\n",
      "Early stopping, best iteration is:\n",
      "[164]\tvalid_0's l1: 0.161098\tvalid_0's l2: 0.0723359\n"
     ]
    },
    {
     "name": "stderr",
     "output_type": "stream",
     "text": [
      "Setting feature_perturbation = \"tree_path_dependent\" because no background data was given.\n",
      "Using categorical_feature in Dataset.\n",
      "categorical_feature in Dataset is overridden.\n",
      "New categorical_feature is [8740]\n"
     ]
    },
    {
     "name": "stdout",
     "output_type": "stream",
     "text": [
      "Training until validation scores don't improve for 7 rounds\n",
      "Did not meet early stopping. Best iteration is:\n",
      "[500]\tvalid_0's l1: 0.191471\tvalid_0's l2: 0.176654\n"
     ]
    },
    {
     "name": "stderr",
     "output_type": "stream",
     "text": [
      "Setting feature_perturbation = \"tree_path_dependent\" because no background data was given.\n",
      "Using categorical_feature in Dataset.\n",
      "categorical_feature in Dataset is overridden.\n",
      "New categorical_feature is [8740]\n"
     ]
    },
    {
     "name": "stdout",
     "output_type": "stream",
     "text": [
      "Training until validation scores don't improve for 7 rounds\n",
      "Early stopping, best iteration is:\n",
      "[127]\tvalid_0's l1: 0.159769\tvalid_0's l2: 0.0844219\n"
     ]
    },
    {
     "name": "stderr",
     "output_type": "stream",
     "text": [
      "Setting feature_perturbation = \"tree_path_dependent\" because no background data was given.\n",
      "Using categorical_feature in Dataset.\n",
      "categorical_feature in Dataset is overridden.\n",
      "New categorical_feature is [8740]\n"
     ]
    },
    {
     "name": "stdout",
     "output_type": "stream",
     "text": [
      "Training until validation scores don't improve for 7 rounds\n",
      "Early stopping, best iteration is:\n",
      "[152]\tvalid_0's l1: 0.169584\tvalid_0's l2: 0.120548\n"
     ]
    },
    {
     "name": "stderr",
     "output_type": "stream",
     "text": [
      "Setting feature_perturbation = \"tree_path_dependent\" because no background data was given.\n",
      "Using categorical_feature in Dataset.\n",
      "categorical_feature in Dataset is overridden.\n",
      "New categorical_feature is [8740]\n"
     ]
    },
    {
     "name": "stdout",
     "output_type": "stream",
     "text": [
      "Training until validation scores don't improve for 7 rounds\n",
      "Early stopping, best iteration is:\n",
      "[159]\tvalid_0's l1: 0.185334\tvalid_0's l2: 0.0881763\n"
     ]
    },
    {
     "name": "stderr",
     "output_type": "stream",
     "text": [
      "Setting feature_perturbation = \"tree_path_dependent\" because no background data was given.\n"
     ]
    },
    {
     "name": "stdout",
     "output_type": "stream",
     "text": [
      "Accuracy of predicting temperature_kelvin [0.9641512  0.10842622 0.17345072]\n"
     ]
    },
    {
     "name": "stderr",
     "output_type": "stream",
     "text": [
      "Using categorical_feature in Dataset.\n",
      "categorical_feature in Dataset is overridden.\n",
      "New categorical_feature is [12039]\n"
     ]
    },
    {
     "name": "stdout",
     "output_type": "stream",
     "text": [
      "Training until validation scores don't improve for 7 rounds\n",
      "Early stopping, best iteration is:\n",
      "[85]\tvalid_0's l1: 4.51642\tvalid_0's l2: 111.878\n"
     ]
    },
    {
     "name": "stderr",
     "output_type": "stream",
     "text": [
      "Setting feature_perturbation = \"tree_path_dependent\" because no background data was given.\n",
      "Using categorical_feature in Dataset.\n",
      "categorical_feature in Dataset is overridden.\n",
      "New categorical_feature is [12039]\n"
     ]
    },
    {
     "name": "stdout",
     "output_type": "stream",
     "text": [
      "Training until validation scores don't improve for 7 rounds\n",
      "Early stopping, best iteration is:\n",
      "[121]\tvalid_0's l1: 1.46253\tvalid_0's l2: 31.4603\n"
     ]
    },
    {
     "name": "stderr",
     "output_type": "stream",
     "text": [
      "Setting feature_perturbation = \"tree_path_dependent\" because no background data was given.\n",
      "Using categorical_feature in Dataset.\n",
      "categorical_feature in Dataset is overridden.\n",
      "New categorical_feature is [12039]\n"
     ]
    },
    {
     "name": "stdout",
     "output_type": "stream",
     "text": [
      "Training until validation scores don't improve for 7 rounds\n",
      "Early stopping, best iteration is:\n",
      "[76]\tvalid_0's l1: 4.49759\tvalid_0's l2: 190.969\n"
     ]
    },
    {
     "name": "stderr",
     "output_type": "stream",
     "text": [
      "Setting feature_perturbation = \"tree_path_dependent\" because no background data was given.\n",
      "Using categorical_feature in Dataset.\n",
      "categorical_feature in Dataset is overridden.\n",
      "New categorical_feature is [12039]\n"
     ]
    },
    {
     "name": "stdout",
     "output_type": "stream",
     "text": [
      "Training until validation scores don't improve for 7 rounds\n",
      "Early stopping, best iteration is:\n",
      "[118]\tvalid_0's l1: 2.39296\tvalid_0's l2: 39.1278\n"
     ]
    },
    {
     "name": "stderr",
     "output_type": "stream",
     "text": [
      "Setting feature_perturbation = \"tree_path_dependent\" because no background data was given.\n",
      "Using categorical_feature in Dataset.\n",
      "categorical_feature in Dataset is overridden.\n",
      "New categorical_feature is [12039]\n"
     ]
    },
    {
     "name": "stdout",
     "output_type": "stream",
     "text": [
      "Training until validation scores don't improve for 7 rounds\n",
      "Early stopping, best iteration is:\n",
      "[64]\tvalid_0's l1: 4.54041\tvalid_0's l2: 94.6226\n"
     ]
    },
    {
     "name": "stderr",
     "output_type": "stream",
     "text": [
      "Setting feature_perturbation = \"tree_path_dependent\" because no background data was given.\n"
     ]
    },
    {
     "name": "stdout",
     "output_type": "stream",
     "text": [
      "Accuracy of predicting metabolic_rate [ 0.97260933 93.61152914  3.48198367]\n"
     ]
    }
   ],
   "source": [
    "list_of_weighted_features = []\n",
    "list_of_shap_values = []\n",
    "list_of_dataframes = []\n",
    "\n",
    "for label in ['gestation_days', 'lifespan', 'mass_g', 'temperature_kelvin', 'metabolic_rate']:\n",
    "    shap_values, feature_df, weighted_features = get_predictions(label)\n",
    "    list_of_weighted_features += weighted_features\n",
    "    list_of_shap_values.append(shap_values)\n",
    "    list_of_dataframes.append(feature_df)"
   ]
  },
  {
   "cell_type": "code",
   "execution_count": 534,
   "metadata": {},
   "outputs": [
    {
     "name": "stdout",
     "output_type": "stream",
     "text": [
      "81\n"
     ]
    }
   ],
   "source": [
    "pprint(len(list_of_weighted_features))"
   ]
  },
  {
   "cell_type": "code",
   "execution_count": 603,
   "metadata": {},
   "outputs": [
    {
     "name": "stdout",
     "output_type": "stream",
     "text": [
      "{'ENSG00000004779': {'gain_score_to_gestation_days': 0,\n",
      "                     'gain_score_to_lifespan': 0,\n",
      "                     'gain_score_to_mass_g': 0,\n",
      "                     'gain_score_to_metabolic_rate': 0,\n",
      "                     'gain_score_to_temperature_kelvin': 6.833599391780444,\n",
      "                     'ids': 'ENSG00000004779',\n",
      "                     'kendall_tau_to_gestation_days': 0,\n",
      "                     'kendall_tau_to_lifespan': 0,\n",
      "                     'kendall_tau_to_mass_g': 0,\n",
      "                     'kendall_tau_to_metabolic_rate': 0,\n",
      "                     'kendall_tau_to_temperature_kelvin': 0.1254506451633564,\n",
      "                     'name': 'NDUFAB1'},\n",
      " 'ENSG00000005007': {'gain_score_to_gestation_days': 0,\n",
      "                     'gain_score_to_lifespan': 0,\n",
      "                     'gain_score_to_mass_g': 0,\n",
      "                     'gain_score_to_metabolic_rate': 0,\n",
      "                     'gain_score_to_temperature_kelvin': 0.816319592949003,\n",
      "                     'ids': 'ENSG00000005007',\n",
      "                     'kendall_tau_to_gestation_days': 0,\n",
      "                     'kendall_tau_to_lifespan': 0,\n",
      "                     'kendall_tau_to_mass_g': 0,\n",
      "                     'kendall_tau_to_metabolic_rate': 0,\n",
      "                     'kendall_tau_to_temperature_kelvin': 0.5014961683447713,\n",
      "                     'name': 'UPF1'},\n",
      " 'ENSG00000005812': {'gain_score_to_gestation_days': 0,\n",
      "                     'gain_score_to_lifespan': 0,\n",
      "                     'gain_score_to_mass_g': 476790131484.8,\n",
      "                     'gain_score_to_metabolic_rate': 0,\n",
      "                     'gain_score_to_temperature_kelvin': 0,\n",
      "                     'ids': 'ENSG00000005812',\n",
      "                     'kendall_tau_to_gestation_days': 0,\n",
      "                     'kendall_tau_to_lifespan': 0,\n",
      "                     'kendall_tau_to_mass_g': -0.013895863470632997,\n",
      "                     'kendall_tau_to_metabolic_rate': 0,\n",
      "                     'kendall_tau_to_temperature_kelvin': 0,\n",
      "                     'name': 'FBXL3'},\n",
      " 'ENSG00000006282': {'gain_score_to_gestation_days': 394678.77164306643,\n",
      "                     'gain_score_to_lifespan': 0,\n",
      "                     'gain_score_to_mass_g': 0,\n",
      "                     'gain_score_to_metabolic_rate': 0,\n",
      "                     'gain_score_to_temperature_kelvin': 0,\n",
      "                     'ids': 'ENSG00000006282',\n",
      "                     'kendall_tau_to_gestation_days': 0.7737539893881187,\n",
      "                     'kendall_tau_to_lifespan': 0,\n",
      "                     'kendall_tau_to_mass_g': 0,\n",
      "                     'kendall_tau_to_metabolic_rate': 0,\n",
      "                     'kendall_tau_to_temperature_kelvin': 0,\n",
      "                     'name': 'SPATA20'},\n",
      " 'ENSG00000012223': {'gain_score_to_gestation_days': 2761.2932872772217,\n",
      "                     'gain_score_to_lifespan': 0,\n",
      "                     'gain_score_to_mass_g': 0,\n",
      "                     'gain_score_to_metabolic_rate': 0,\n",
      "                     'gain_score_to_temperature_kelvin': 0,\n",
      "                     'ids': 'ENSG00000012223',\n",
      "                     'kendall_tau_to_gestation_days': -0.3902749280150461,\n",
      "                     'kendall_tau_to_lifespan': 0,\n",
      "                     'kendall_tau_to_mass_g': 0,\n",
      "                     'kendall_tau_to_metabolic_rate': 0,\n",
      "                     'kendall_tau_to_temperature_kelvin': 0,\n",
      "                     'name': 'LTF'},\n",
      " 'ENSG00000025708': {'gain_score_to_gestation_days': 0,\n",
      "                     'gain_score_to_lifespan': 0,\n",
      "                     'gain_score_to_mass_g': 1090398981783.2,\n",
      "                     'gain_score_to_metabolic_rate': 227487.22329444886,\n",
      "                     'gain_score_to_temperature_kelvin': 0,\n",
      "                     'ids': 'ENSG00000025708',\n",
      "                     'kendall_tau_to_gestation_days': 0,\n",
      "                     'kendall_tau_to_lifespan': 0,\n",
      "                     'kendall_tau_to_mass_g': 0.08820079537946333,\n",
      "                     'kendall_tau_to_metabolic_rate': 0.09432623274859914,\n",
      "                     'kendall_tau_to_temperature_kelvin': 0,\n",
      "                     'name': 'TYMP'},\n",
      " 'ENSG00000060642': {'gain_score_to_gestation_days': 0,\n",
      "                     'gain_score_to_lifespan': 0,\n",
      "                     'gain_score_to_mass_g': 0,\n",
      "                     'gain_score_to_metabolic_rate': 0,\n",
      "                     'gain_score_to_temperature_kelvin': 89.69949957318605,\n",
      "                     'ids': 'ENSG00000060642',\n",
      "                     'kendall_tau_to_gestation_days': 0,\n",
      "                     'kendall_tau_to_lifespan': 0,\n",
      "                     'kendall_tau_to_mass_g': 0,\n",
      "                     'kendall_tau_to_metabolic_rate': 0,\n",
      "                     'kendall_tau_to_temperature_kelvin': 0.42069273543466196,\n",
      "                     'name': 'PIGV'},\n",
      " 'ENSG00000065518': {'gain_score_to_gestation_days': 0,\n",
      "                     'gain_score_to_lifespan': 0,\n",
      "                     'gain_score_to_mass_g': 0,\n",
      "                     'gain_score_to_metabolic_rate': 0,\n",
      "                     'gain_score_to_temperature_kelvin': 596.6780554992613,\n",
      "                     'ids': 'ENSG00000065518',\n",
      "                     'kendall_tau_to_gestation_days': 0,\n",
      "                     'kendall_tau_to_lifespan': 0,\n",
      "                     'kendall_tau_to_mass_g': 0,\n",
      "                     'kendall_tau_to_metabolic_rate': 0,\n",
      "                     'kendall_tau_to_temperature_kelvin': -0.16013153360973087,\n",
      "                     'name': 'NDUFB4'},\n",
      " 'ENSG00000073969': {'gain_score_to_gestation_days': 0,\n",
      "                     'gain_score_to_lifespan': 0,\n",
      "                     'gain_score_to_mass_g': 15400617632.0,\n",
      "                     'gain_score_to_metabolic_rate': 0,\n",
      "                     'gain_score_to_temperature_kelvin': 0,\n",
      "                     'ids': 'ENSG00000073969',\n",
      "                     'kendall_tau_to_gestation_days': 0,\n",
      "                     'kendall_tau_to_lifespan': 0,\n",
      "                     'kendall_tau_to_mass_g': -0.14410419089866333,\n",
      "                     'kendall_tau_to_metabolic_rate': 0,\n",
      "                     'kendall_tau_to_temperature_kelvin': 0,\n",
      "                     'name': 'NSF'},\n",
      " 'ENSG00000082293': {'gain_score_to_gestation_days': 0,\n",
      "                     'gain_score_to_lifespan': 0,\n",
      "                     'gain_score_to_mass_g': 181111584701.6,\n",
      "                     'gain_score_to_metabolic_rate': 65218.471583557126,\n",
      "                     'gain_score_to_temperature_kelvin': 0,\n",
      "                     'ids': 'ENSG00000082293',\n",
      "                     'kendall_tau_to_gestation_days': 0,\n",
      "                     'kendall_tau_to_lifespan': 0,\n",
      "                     'kendall_tau_to_mass_g': -0.15202369768210375,\n",
      "                     'kendall_tau_to_metabolic_rate': 0.03155824570567663,\n",
      "                     'kendall_tau_to_temperature_kelvin': 0,\n",
      "                     'name': 'COL19A1'},\n",
      " 'ENSG00000087460': {'gain_score_to_gestation_days': 0,\n",
      "                     'gain_score_to_lifespan': 0,\n",
      "                     'gain_score_to_mass_g': 0,\n",
      "                     'gain_score_to_metabolic_rate': 0,\n",
      "                     'gain_score_to_temperature_kelvin': 2924.516899866611,\n",
      "                     'ids': 'ENSG00000087460',\n",
      "                     'kendall_tau_to_gestation_days': 0,\n",
      "                     'kendall_tau_to_lifespan': 0,\n",
      "                     'kendall_tau_to_mass_g': 0,\n",
      "                     'kendall_tau_to_metabolic_rate': 0,\n",
      "                     'kendall_tau_to_temperature_kelvin': 0.5521028901815134,\n",
      "                     'name': 'GNAS'},\n",
      " 'ENSG00000095380': {'gain_score_to_gestation_days': 0,\n",
      "                     'gain_score_to_lifespan': 0,\n",
      "                     'gain_score_to_mass_g': 0,\n",
      "                     'gain_score_to_metabolic_rate': 0,\n",
      "                     'gain_score_to_temperature_kelvin': 7.715823531255592,\n",
      "                     'ids': 'ENSG00000095380',\n",
      "                     'kendall_tau_to_gestation_days': 0,\n",
      "                     'kendall_tau_to_lifespan': 0,\n",
      "                     'kendall_tau_to_mass_g': 0,\n",
      "                     'kendall_tau_to_metabolic_rate': 0,\n",
      "                     'kendall_tau_to_temperature_kelvin': 0.6057414315342654,\n",
      "                     'name': 'NANS'},\n",
      " 'ENSG00000099968': {'gain_score_to_gestation_days': 16678.39984283447,\n",
      "                     'gain_score_to_lifespan': 0,\n",
      "                     'gain_score_to_mass_g': 0,\n",
      "                     'gain_score_to_metabolic_rate': 0,\n",
      "                     'gain_score_to_temperature_kelvin': 0,\n",
      "                     'ids': 'ENSG00000099968',\n",
      "                     'kendall_tau_to_gestation_days': 0.4936862829743144,\n",
      "                     'kendall_tau_to_lifespan': 0,\n",
      "                     'kendall_tau_to_mass_g': 0,\n",
      "                     'kendall_tau_to_metabolic_rate': 0,\n",
      "                     'kendall_tau_to_temperature_kelvin': 0,\n",
      "                     'name': 'BCL2L13'},\n",
      " 'ENSG00000100106': {'gain_score_to_gestation_days': 0,\n",
      "                     'gain_score_to_lifespan': 0,\n",
      "                     'gain_score_to_mass_g': 0,\n",
      "                     'gain_score_to_metabolic_rate': 0,\n",
      "                     'gain_score_to_temperature_kelvin': 3.9624130100011827,\n",
      "                     'ids': 'ENSG00000100106',\n",
      "                     'kendall_tau_to_gestation_days': 0,\n",
      "                     'kendall_tau_to_lifespan': 0,\n",
      "                     'kendall_tau_to_mass_g': 0,\n",
      "                     'kendall_tau_to_metabolic_rate': 0,\n",
      "                     'kendall_tau_to_temperature_kelvin': -0.4405609052893959,\n",
      "                     'name': 'TRIOBP'},\n",
      " 'ENSG00000101190': {'gain_score_to_gestation_days': 122552.90009765625,\n",
      "                     'gain_score_to_lifespan': 0,\n",
      "                     'gain_score_to_mass_g': 0,\n",
      "                     'gain_score_to_metabolic_rate': 0,\n",
      "                     'gain_score_to_temperature_kelvin': 0,\n",
      "                     'ids': 'ENSG00000101190',\n",
      "                     'kendall_tau_to_gestation_days': 0.6588487895333616,\n",
      "                     'kendall_tau_to_lifespan': 0,\n",
      "                     'kendall_tau_to_mass_g': 0,\n",
      "                     'kendall_tau_to_metabolic_rate': 0,\n",
      "                     'kendall_tau_to_temperature_kelvin': 0,\n",
      "                     'name': 'TCFL5'},\n",
      " 'ENSG00000101353': {'gain_score_to_gestation_days': 0,\n",
      "                     'gain_score_to_lifespan': 6797.949403952434,\n",
      "                     'gain_score_to_mass_g': 0,\n",
      "                     'gain_score_to_metabolic_rate': 0,\n",
      "                     'gain_score_to_temperature_kelvin': 0,\n",
      "                     'ids': 'ENSG00000101353',\n",
      "                     'kendall_tau_to_gestation_days': 0,\n",
      "                     'kendall_tau_to_lifespan': 0.5331754651197786,\n",
      "                     'kendall_tau_to_mass_g': 0,\n",
      "                     'kendall_tau_to_metabolic_rate': 0,\n",
      "                     'kendall_tau_to_temperature_kelvin': 0,\n",
      "                     'name': 'MROH8'},\n",
      " 'ENSG00000106554': {'gain_score_to_gestation_days': 88992.64321289063,\n",
      "                     'gain_score_to_lifespan': 0,\n",
      "                     'gain_score_to_mass_g': 0,\n",
      "                     'gain_score_to_metabolic_rate': 0,\n",
      "                     'gain_score_to_temperature_kelvin': 0,\n",
      "                     'ids': 'ENSG00000106554',\n",
      "                     'kendall_tau_to_gestation_days': 0.1752356213694203,\n",
      "                     'kendall_tau_to_lifespan': 0,\n",
      "                     'kendall_tau_to_mass_g': 0,\n",
      "                     'kendall_tau_to_metabolic_rate': 0,\n",
      "                     'kendall_tau_to_temperature_kelvin': 0,\n",
      "                     'name': 'CHCHD3'},\n",
      " 'ENSG00000114956': {'gain_score_to_gestation_days': 18301.7359375,\n",
      "                     'gain_score_to_lifespan': 0,\n",
      "                     'gain_score_to_mass_g': 0,\n",
      "                     'gain_score_to_metabolic_rate': 0,\n",
      "                     'gain_score_to_temperature_kelvin': 0,\n",
      "                     'ids': 'ENSG00000114956',\n",
      "                     'kendall_tau_to_gestation_days': 0.589005752963984,\n",
      "                     'kendall_tau_to_lifespan': 0,\n",
      "                     'kendall_tau_to_mass_g': 0,\n",
      "                     'kendall_tau_to_metabolic_rate': 0,\n",
      "                     'kendall_tau_to_temperature_kelvin': 0,\n",
      "                     'name': 'DGUOK'},\n",
      " 'ENSG00000115457': {'gain_score_to_gestation_days': 0,\n",
      "                     'gain_score_to_lifespan': 0,\n",
      "                     'gain_score_to_mass_g': 0,\n",
      "                     'gain_score_to_metabolic_rate': 0,\n",
      "                     'gain_score_to_temperature_kelvin': 0.0859303086414002,\n",
      "                     'ids': 'ENSG00000115457',\n",
      "                     'kendall_tau_to_gestation_days': 0,\n",
      "                     'kendall_tau_to_lifespan': 0,\n",
      "                     'kendall_tau_to_mass_g': 0,\n",
      "                     'kendall_tau_to_metabolic_rate': 0,\n",
      "                     'kendall_tau_to_temperature_kelvin': -0.759018756701279,\n",
      "                     'name': 'IGFBP2'},\n",
      " 'ENSG00000120727': {'gain_score_to_gestation_days': 0,\n",
      "                     'gain_score_to_lifespan': 0,\n",
      "                     'gain_score_to_mass_g': 0,\n",
      "                     'gain_score_to_metabolic_rate': 0,\n",
      "                     'gain_score_to_temperature_kelvin': 0.3921164763101842,\n",
      "                     'ids': 'ENSG00000120727',\n",
      "                     'kendall_tau_to_gestation_days': 0,\n",
      "                     'kendall_tau_to_lifespan': 0,\n",
      "                     'kendall_tau_to_mass_g': 0,\n",
      "                     'kendall_tau_to_metabolic_rate': 0,\n",
      "                     'kendall_tau_to_temperature_kelvin': 0.6435077999225609,\n",
      "                     'name': 'PAIP2'},\n",
      " 'ENSG00000121104': {'gain_score_to_gestation_days': 41732.10686645508,\n",
      "                     'gain_score_to_lifespan': 0,\n",
      "                     'gain_score_to_mass_g': 0,\n",
      "                     'gain_score_to_metabolic_rate': 0,\n",
      "                     'gain_score_to_temperature_kelvin': 0,\n",
      "                     'ids': 'ENSG00000121104',\n",
      "                     'kendall_tau_to_gestation_days': 0.38666339915377895,\n",
      "                     'kendall_tau_to_lifespan': 0,\n",
      "                     'kendall_tau_to_mass_g': 0,\n",
      "                     'kendall_tau_to_metabolic_rate': 0,\n",
      "                     'kendall_tau_to_temperature_kelvin': 0,\n",
      "                     'name': 'FAM117A'},\n",
      " 'ENSG00000121542': {'gain_score_to_gestation_days': 0,\n",
      "                     'gain_score_to_lifespan': 0,\n",
      "                     'gain_score_to_mass_g': 0,\n",
      "                     'gain_score_to_metabolic_rate': 0,\n",
      "                     'gain_score_to_temperature_kelvin': 3.426143428683281,\n",
      "                     'ids': 'ENSG00000121542',\n",
      "                     'kendall_tau_to_gestation_days': 0,\n",
      "                     'kendall_tau_to_lifespan': 0,\n",
      "                     'kendall_tau_to_mass_g': 0,\n",
      "                     'kendall_tau_to_metabolic_rate': 0,\n",
      "                     'kendall_tau_to_temperature_kelvin': -0.5453919277857432,\n",
      "                     'name': 'SEC22A'},\n",
      " 'ENSG00000122034': {'gain_score_to_gestation_days': 5128296.8,\n",
      "                     'gain_score_to_lifespan': 30295.897623062134,\n",
      "                     'gain_score_to_mass_g': 0,\n",
      "                     'gain_score_to_metabolic_rate': 0,\n",
      "                     'gain_score_to_temperature_kelvin': 0,\n",
      "                     'ids': 'ENSG00000122034',\n",
      "                     'kendall_tau_to_gestation_days': 0.22668983542592275,\n",
      "                     'kendall_tau_to_lifespan': 0.5991974956287748,\n",
      "                     'kendall_tau_to_mass_g': 0,\n",
      "                     'kendall_tau_to_metabolic_rate': 0,\n",
      "                     'kendall_tau_to_temperature_kelvin': 0,\n",
      "                     'name': 'GTF3A'},\n",
      " 'ENSG00000122432': {'gain_score_to_gestation_days': 11774.913022613526,\n",
      "                     'gain_score_to_lifespan': 0,\n",
      "                     'gain_score_to_mass_g': 0,\n",
      "                     'gain_score_to_metabolic_rate': 0,\n",
      "                     'gain_score_to_temperature_kelvin': 0,\n",
      "                     'ids': 'ENSG00000122432',\n",
      "                     'kendall_tau_to_gestation_days': -0.7899686117929089,\n",
      "                     'kendall_tau_to_lifespan': 0,\n",
      "                     'kendall_tau_to_mass_g': 0,\n",
      "                     'kendall_tau_to_metabolic_rate': 0,\n",
      "                     'kendall_tau_to_temperature_kelvin': 0,\n",
      "                     'name': 'SPATA1'},\n",
      " 'ENSG00000124172': {'gain_score_to_gestation_days': 148190.09165458678,\n",
      "                     'gain_score_to_lifespan': 0,\n",
      "                     'gain_score_to_mass_g': 0,\n",
      "                     'gain_score_to_metabolic_rate': 0,\n",
      "                     'gain_score_to_temperature_kelvin': 0,\n",
      "                     'ids': 'ENSG00000124172',\n",
      "                     'kendall_tau_to_gestation_days': -0.6272694214545425,\n",
      "                     'kendall_tau_to_lifespan': 0,\n",
      "                     'kendall_tau_to_mass_g': 0,\n",
      "                     'kendall_tau_to_metabolic_rate': 0,\n",
      "                     'kendall_tau_to_temperature_kelvin': 0,\n",
      "                     'name': 'ATP5F1E'},\n",
      " 'ENSG00000126088': {'gain_score_to_gestation_days': 0,\n",
      "                     'gain_score_to_lifespan': 0,\n",
      "                     'gain_score_to_mass_g': 0,\n",
      "                     'gain_score_to_metabolic_rate': 0,\n",
      "                     'gain_score_to_temperature_kelvin': 0.2584126994013786,\n",
      "                     'ids': 'ENSG00000126088',\n",
      "                     'kendall_tau_to_gestation_days': 0,\n",
      "                     'kendall_tau_to_lifespan': 0,\n",
      "                     'kendall_tau_to_mass_g': 0,\n",
      "                     'kendall_tau_to_metabolic_rate': 0,\n",
      "                     'kendall_tau_to_temperature_kelvin': -0.5254643615896833,\n",
      "                     'name': 'UROD'},\n",
      " 'ENSG00000126953': {'gain_score_to_gestation_days': 0,\n",
      "                     'gain_score_to_lifespan': 0,\n",
      "                     'gain_score_to_mass_g': 0,\n",
      "                     'gain_score_to_metabolic_rate': 0,\n",
      "                     'gain_score_to_temperature_kelvin': 1.7923159928375754,\n",
      "                     'ids': 'ENSG00000126953',\n",
      "                     'kendall_tau_to_gestation_days': 0,\n",
      "                     'kendall_tau_to_lifespan': 0,\n",
      "                     'kendall_tau_to_mass_g': 0,\n",
      "                     'kendall_tau_to_metabolic_rate': 0,\n",
      "                     'kendall_tau_to_temperature_kelvin': 0.621504853835567,\n",
      "                     'name': 'TIMM8A'},\n",
      " 'ENSG00000127184': {'gain_score_to_gestation_days': 0,\n",
      "                     'gain_score_to_lifespan': 0,\n",
      "                     'gain_score_to_mass_g': 0,\n",
      "                     'gain_score_to_metabolic_rate': 0,\n",
      "                     'gain_score_to_temperature_kelvin': 83.02451548576354,\n",
      "                     'ids': 'ENSG00000127184',\n",
      "                     'kendall_tau_to_gestation_days': 0,\n",
      "                     'kendall_tau_to_lifespan': 0,\n",
      "                     'kendall_tau_to_mass_g': 0,\n",
      "                     'kendall_tau_to_metabolic_rate': 0,\n",
      "                     'kendall_tau_to_temperature_kelvin': -0.5537668254487996,\n",
      "                     'name': 'COX7C'},\n",
      " 'ENSG00000127952': {'gain_score_to_gestation_days': 0,\n",
      "                     'gain_score_to_lifespan': 0,\n",
      "                     'gain_score_to_mass_g': 89063169858.4,\n",
      "                     'gain_score_to_metabolic_rate': 0,\n",
      "                     'gain_score_to_temperature_kelvin': 0,\n",
      "                     'ids': 'ENSG00000127952',\n",
      "                     'kendall_tau_to_gestation_days': 0,\n",
      "                     'kendall_tau_to_lifespan': 0,\n",
      "                     'kendall_tau_to_mass_g': 0.05570401184099104,\n",
      "                     'kendall_tau_to_metabolic_rate': 0,\n",
      "                     'kendall_tau_to_temperature_kelvin': 0,\n",
      "                     'name': 'STYXL1'},\n",
      " 'ENSG00000129187': {'gain_score_to_gestation_days': 0,\n",
      "                     'gain_score_to_lifespan': 25147.876163768768,\n",
      "                     'gain_score_to_mass_g': 0,\n",
      "                     'gain_score_to_metabolic_rate': 0,\n",
      "                     'gain_score_to_temperature_kelvin': 0,\n",
      "                     'ids': 'ENSG00000129187',\n",
      "                     'kendall_tau_to_gestation_days': 0,\n",
      "                     'kendall_tau_to_lifespan': 0.6745926537678609,\n",
      "                     'kendall_tau_to_mass_g': 0,\n",
      "                     'kendall_tau_to_metabolic_rate': 0,\n",
      "                     'kendall_tau_to_temperature_kelvin': 0,\n",
      "                     'name': 'DCTD'},\n",
      " 'ENSG00000129197': {'gain_score_to_gestation_days': 0,\n",
      "                     'gain_score_to_lifespan': 0,\n",
      "                     'gain_score_to_mass_g': 0,\n",
      "                     'gain_score_to_metabolic_rate': 0,\n",
      "                     'gain_score_to_temperature_kelvin': 8.349899978144094,\n",
      "                     'ids': 'ENSG00000129197',\n",
      "                     'kendall_tau_to_gestation_days': 0,\n",
      "                     'kendall_tau_to_lifespan': 0,\n",
      "                     'kendall_tau_to_mass_g': 0,\n",
      "                     'kendall_tau_to_metabolic_rate': 0,\n",
      "                     'kendall_tau_to_temperature_kelvin': -0.6242667981659996,\n",
      "                     'name': 'RPAIN'},\n",
      " 'ENSG00000131171': {'gain_score_to_gestation_days': 0,\n",
      "                     'gain_score_to_lifespan': 0,\n",
      "                     'gain_score_to_mass_g': 0,\n",
      "                     'gain_score_to_metabolic_rate': 0,\n",
      "                     'gain_score_to_temperature_kelvin': 0.6895512318966212,\n",
      "                     'ids': 'ENSG00000131171',\n",
      "                     'kendall_tau_to_gestation_days': 0,\n",
      "                     'kendall_tau_to_lifespan': 0,\n",
      "                     'kendall_tau_to_mass_g': 0,\n",
      "                     'kendall_tau_to_metabolic_rate': 0,\n",
      "                     'kendall_tau_to_temperature_kelvin': -0.6707149354323483,\n",
      "                     'name': 'SH3BGRL'},\n",
      " 'ENSG00000136247': {'gain_score_to_gestation_days': 417887.95764465333,\n",
      "                     'gain_score_to_lifespan': 0,\n",
      "                     'gain_score_to_mass_g': 0,\n",
      "                     'gain_score_to_metabolic_rate': 0,\n",
      "                     'gain_score_to_temperature_kelvin': 0,\n",
      "                     'ids': 'ENSG00000136247',\n",
      "                     'kendall_tau_to_gestation_days': 0.3624182360408895,\n",
      "                     'kendall_tau_to_lifespan': 0,\n",
      "                     'kendall_tau_to_mass_g': 0,\n",
      "                     'kendall_tau_to_metabolic_rate': 0,\n",
      "                     'kendall_tau_to_temperature_kelvin': 0,\n",
      "                     'name': 'ZDHHC4'},\n",
      " 'ENSG00000136942': {'gain_score_to_gestation_days': 0,\n",
      "                     'gain_score_to_lifespan': 0,\n",
      "                     'gain_score_to_mass_g': 0,\n",
      "                     'gain_score_to_metabolic_rate': 0,\n",
      "                     'gain_score_to_temperature_kelvin': 50.16576884253882,\n",
      "                     'ids': 'ENSG00000136942',\n",
      "                     'kendall_tau_to_gestation_days': 0,\n",
      "                     'kendall_tau_to_lifespan': 0,\n",
      "                     'kendall_tau_to_mass_g': 0,\n",
      "                     'kendall_tau_to_metabolic_rate': 0,\n",
      "                     'kendall_tau_to_temperature_kelvin': -0.6062782637163686,\n",
      "                     'name': 'RPL35'},\n",
      " 'ENSG00000137343': {'gain_score_to_gestation_days': 0,\n",
      "                     'gain_score_to_lifespan': 95492.36187895462,\n",
      "                     'gain_score_to_mass_g': 0,\n",
      "                     'gain_score_to_metabolic_rate': 0,\n",
      "                     'gain_score_to_temperature_kelvin': 0,\n",
      "                     'ids': 'ENSG00000137343',\n",
      "                     'kendall_tau_to_gestation_days': 0,\n",
      "                     'kendall_tau_to_lifespan': -0.3945957627190688,\n",
      "                     'kendall_tau_to_mass_g': 0,\n",
      "                     'kendall_tau_to_metabolic_rate': 0,\n",
      "                     'kendall_tau_to_temperature_kelvin': 0,\n",
      "                     'name': 'ATAT1'},\n",
      " 'ENSG00000144580': {'gain_score_to_gestation_days': 74192.97108125687,\n",
      "                     'gain_score_to_lifespan': 0,\n",
      "                     'gain_score_to_mass_g': 0,\n",
      "                     'gain_score_to_metabolic_rate': 0,\n",
      "                     'gain_score_to_temperature_kelvin': 0,\n",
      "                     'ids': 'ENSG00000144580',\n",
      "                     'kendall_tau_to_gestation_days': 0.33185944029656333,\n",
      "                     'kendall_tau_to_lifespan': 0,\n",
      "                     'kendall_tau_to_mass_g': 0,\n",
      "                     'kendall_tau_to_metabolic_rate': 0,\n",
      "                     'kendall_tau_to_temperature_kelvin': 0,\n",
      "                     'name': 'CNOT9'},\n",
      " 'ENSG00000146453': {'gain_score_to_gestation_days': 0,\n",
      "                     'gain_score_to_lifespan': 0,\n",
      "                     'gain_score_to_mass_g': 0,\n",
      "                     'gain_score_to_metabolic_rate': 0,\n",
      "                     'gain_score_to_temperature_kelvin': 8.036067975556943,\n",
      "                     'ids': 'ENSG00000146453',\n",
      "                     'kendall_tau_to_gestation_days': 0,\n",
      "                     'kendall_tau_to_lifespan': 0,\n",
      "                     'kendall_tau_to_mass_g': 0,\n",
      "                     'kendall_tau_to_metabolic_rate': 0,\n",
      "                     'kendall_tau_to_temperature_kelvin': -0.7217583944228073,\n",
      "                     'name': 'PNLDC1'},\n",
      " 'ENSG00000147383': {'gain_score_to_gestation_days': 0,\n",
      "                     'gain_score_to_lifespan': 0,\n",
      "                     'gain_score_to_mass_g': 0,\n",
      "                     'gain_score_to_metabolic_rate': 0,\n",
      "                     'gain_score_to_temperature_kelvin': 3.0391236804425716,\n",
      "                     'ids': 'ENSG00000147383',\n",
      "                     'kendall_tau_to_gestation_days': 0,\n",
      "                     'kendall_tau_to_lifespan': 0,\n",
      "                     'kendall_tau_to_mass_g': 0,\n",
      "                     'kendall_tau_to_metabolic_rate': 0,\n",
      "                     'kendall_tau_to_temperature_kelvin': 0.6177527383579564,\n",
      "                     'name': 'NSDHL'},\n",
      " 'ENSG00000152705': {'gain_score_to_gestation_days': 0,\n",
      "                     'gain_score_to_lifespan': 49932.626415788916,\n",
      "                     'gain_score_to_mass_g': 0,\n",
      "                     'gain_score_to_metabolic_rate': 0,\n",
      "                     'gain_score_to_temperature_kelvin': 0,\n",
      "                     'ids': 'ENSG00000152705',\n",
      "                     'kendall_tau_to_gestation_days': 0,\n",
      "                     'kendall_tau_to_lifespan': 0.5814247703114499,\n",
      "                     'kendall_tau_to_mass_g': 0,\n",
      "                     'kendall_tau_to_metabolic_rate': 0,\n",
      "                     'kendall_tau_to_temperature_kelvin': 0,\n",
      "                     'name': 'CATSPER3'},\n",
      " 'ENSG00000152894': {'gain_score_to_gestation_days': 7986.708436775208,\n",
      "                     'gain_score_to_lifespan': 127035.98230881096,\n",
      "                     'gain_score_to_mass_g': 0,\n",
      "                     'gain_score_to_metabolic_rate': 0,\n",
      "                     'gain_score_to_temperature_kelvin': 0,\n",
      "                     'ids': 'ENSG00000152894',\n",
      "                     'kendall_tau_to_gestation_days': -0.3965082521449384,\n",
      "                     'kendall_tau_to_lifespan': -0.19992255016177427,\n",
      "                     'kendall_tau_to_mass_g': 0,\n",
      "                     'kendall_tau_to_metabolic_rate': 0,\n",
      "                     'kendall_tau_to_temperature_kelvin': 0,\n",
      "                     'name': 'PTPRK'},\n",
      " 'ENSG00000153790': {'gain_score_to_gestation_days': 0,\n",
      "                     'gain_score_to_lifespan': 1386.8164644241333,\n",
      "                     'gain_score_to_mass_g': 0,\n",
      "                     'gain_score_to_metabolic_rate': 0,\n",
      "                     'gain_score_to_temperature_kelvin': 0,\n",
      "                     'ids': 'ENSG00000153790',\n",
      "                     'kendall_tau_to_gestation_days': 0,\n",
      "                     'kendall_tau_to_lifespan': 0.407283121322747,\n",
      "                     'kendall_tau_to_mass_g': 0,\n",
      "                     'kendall_tau_to_metabolic_rate': 0,\n",
      "                     'kendall_tau_to_temperature_kelvin': 0,\n",
      "                     'name': 'C7orf31'},\n",
      " 'ENSG00000154723': {'gain_score_to_gestation_days': 0,\n",
      "                     'gain_score_to_lifespan': 0,\n",
      "                     'gain_score_to_mass_g': 0,\n",
      "                     'gain_score_to_metabolic_rate': 0,\n",
      "                     'gain_score_to_temperature_kelvin': 17.357409739494322,\n",
      "                     'ids': 'ENSG00000154723',\n",
      "                     'kendall_tau_to_gestation_days': 0,\n",
      "                     'kendall_tau_to_lifespan': 0,\n",
      "                     'kendall_tau_to_mass_g': 0,\n",
      "                     'kendall_tau_to_metabolic_rate': 0,\n",
      "                     'kendall_tau_to_temperature_kelvin': 0.22318029584567273,\n",
      "                     'name': 'ATP5PF'},\n",
      " 'ENSG00000156411': {'gain_score_to_gestation_days': 1255165.2367614745,\n",
      "                     'gain_score_to_lifespan': 2021.9807436943054,\n",
      "                     'gain_score_to_mass_g': 0,\n",
      "                     'gain_score_to_metabolic_rate': 0,\n",
      "                     'gain_score_to_temperature_kelvin': 0,\n",
      "                     'ids': 'ENSG00000156411',\n",
      "                     'kendall_tau_to_gestation_days': -0.5436032778548749,\n",
      "                     'kendall_tau_to_lifespan': -0.679650295546081,\n",
      "                     'kendall_tau_to_mass_g': 0,\n",
      "                     'kendall_tau_to_metabolic_rate': 0,\n",
      "                     'kendall_tau_to_temperature_kelvin': 0,\n",
      "                     'name': 'ATP5MPL'},\n",
      " 'ENSG00000157343': {'gain_score_to_gestation_days': 240481.02683105468,\n",
      "                     'gain_score_to_lifespan': 0,\n",
      "                     'gain_score_to_mass_g': 0,\n",
      "                     'gain_score_to_metabolic_rate': 0,\n",
      "                     'gain_score_to_temperature_kelvin': 0,\n",
      "                     'ids': 'ENSG00000157343',\n",
      "                     'kendall_tau_to_gestation_days': 0.6995487918340774,\n",
      "                     'kendall_tau_to_lifespan': 0,\n",
      "                     'kendall_tau_to_mass_g': 0,\n",
      "                     'kendall_tau_to_metabolic_rate': 0,\n",
      "                     'kendall_tau_to_temperature_kelvin': 0,\n",
      "                     'name': 'ARMC12'},\n",
      " 'ENSG00000163050': {'gain_score_to_gestation_days': 45085.92862091064,\n",
      "                     'gain_score_to_lifespan': 0,\n",
      "                     'gain_score_to_mass_g': 0,\n",
      "                     'gain_score_to_metabolic_rate': 0,\n",
      "                     'gain_score_to_temperature_kelvin': 0,\n",
      "                     'ids': 'ENSG00000163050',\n",
      "                     'kendall_tau_to_gestation_days': -0.6209168778137283,\n",
      "                     'kendall_tau_to_lifespan': 0,\n",
      "                     'kendall_tau_to_mass_g': 0,\n",
      "                     'kendall_tau_to_metabolic_rate': 0,\n",
      "                     'kendall_tau_to_temperature_kelvin': 0,\n",
      "                     'name': 'COQ8A'},\n",
      " 'ENSG00000163666': {'gain_score_to_gestation_days': 833950.2668884278,\n",
      "                     'gain_score_to_lifespan': 9804.974136352539,\n",
      "                     'gain_score_to_mass_g': 0,\n",
      "                     'gain_score_to_metabolic_rate': 0,\n",
      "                     'gain_score_to_temperature_kelvin': 0,\n",
      "                     'ids': 'ENSG00000163666',\n",
      "                     'kendall_tau_to_gestation_days': 0.7445159399176321,\n",
      "                     'kendall_tau_to_lifespan': 0.7076855748326648,\n",
      "                     'kendall_tau_to_mass_g': 0,\n",
      "                     'kendall_tau_to_metabolic_rate': 0,\n",
      "                     'kendall_tau_to_temperature_kelvin': 0,\n",
      "                     'name': 'HESX1'},\n",
      " 'ENSG00000164404': {'gain_score_to_gestation_days': 0,\n",
      "                     'gain_score_to_lifespan': 0,\n",
      "                     'gain_score_to_mass_g': 0,\n",
      "                     'gain_score_to_metabolic_rate': 0,\n",
      "                     'gain_score_to_temperature_kelvin': 1.6399714290782867,\n",
      "                     'ids': 'ENSG00000164404',\n",
      "                     'kendall_tau_to_gestation_days': 0,\n",
      "                     'kendall_tau_to_lifespan': 0,\n",
      "                     'kendall_tau_to_mass_g': 0,\n",
      "                     'kendall_tau_to_metabolic_rate': 0,\n",
      "                     'kendall_tau_to_temperature_kelvin': 0.612942320880255,\n",
      "                     'name': 'GDF9'},\n",
      " 'ENSG00000166794': {'gain_score_to_gestation_days': 0,\n",
      "                     'gain_score_to_lifespan': 0,\n",
      "                     'gain_score_to_mass_g': 0,\n",
      "                     'gain_score_to_metabolic_rate': 0,\n",
      "                     'gain_score_to_temperature_kelvin': 2.381135618686676,\n",
      "                     'ids': 'ENSG00000166794',\n",
      "                     'kendall_tau_to_gestation_days': 0,\n",
      "                     'kendall_tau_to_lifespan': 0,\n",
      "                     'kendall_tau_to_mass_g': 0,\n",
      "                     'kendall_tau_to_metabolic_rate': 0,\n",
      "                     'kendall_tau_to_temperature_kelvin': -0.44174772272129753,\n",
      "                     'name': 'PPIB'},\n",
      " 'ENSG00000168569': {'gain_score_to_gestation_days': 0,\n",
      "                     'gain_score_to_lifespan': 0,\n",
      "                     'gain_score_to_mass_g': 0,\n",
      "                     'gain_score_to_metabolic_rate': 0,\n",
      "                     'gain_score_to_temperature_kelvin': 70.28115977048874,\n",
      "                     'ids': 'ENSG00000168569',\n",
      "                     'kendall_tau_to_gestation_days': 0,\n",
      "                     'kendall_tau_to_lifespan': 0,\n",
      "                     'kendall_tau_to_mass_g': 0,\n",
      "                     'kendall_tau_to_metabolic_rate': 0,\n",
      "                     'kendall_tau_to_temperature_kelvin': 0.5665927442501332,\n",
      "                     'name': 'TMEM223'},\n",
      " 'ENSG00000168653': {'gain_score_to_gestation_days': 0,\n",
      "                     'gain_score_to_lifespan': 0,\n",
      "                     'gain_score_to_mass_g': 0,\n",
      "                     'gain_score_to_metabolic_rate': 0,\n",
      "                     'gain_score_to_temperature_kelvin': 26.259270297549666,\n",
      "                     'ids': 'ENSG00000168653',\n",
      "                     'kendall_tau_to_gestation_days': 0,\n",
      "                     'kendall_tau_to_lifespan': 0,\n",
      "                     'kendall_tau_to_mass_g': 0,\n",
      "                     'kendall_tau_to_metabolic_rate': 0,\n",
      "                     'kendall_tau_to_temperature_kelvin': -0.4573410113750924,\n",
      "                     'name': 'NDUFS5'},\n",
      " 'ENSG00000169188': {'gain_score_to_gestation_days': 0,\n",
      "                     'gain_score_to_lifespan': 0,\n",
      "                     'gain_score_to_mass_g': 0,\n",
      "                     'gain_score_to_metabolic_rate': 0,\n",
      "                     'gain_score_to_temperature_kelvin': 46.91359431315213,\n",
      "                     'ids': 'ENSG00000169188',\n",
      "                     'kendall_tau_to_gestation_days': 0,\n",
      "                     'kendall_tau_to_lifespan': 0,\n",
      "                     'kendall_tau_to_mass_g': 0,\n",
      "                     'kendall_tau_to_metabolic_rate': 0,\n",
      "                     'kendall_tau_to_temperature_kelvin': 0.6857850221755482,\n",
      "                     'name': 'APEX2'},\n",
      " 'ENSG00000169189': {'gain_score_to_gestation_days': 0,\n",
      "                     'gain_score_to_lifespan': 1252.7305439591407,\n",
      "                     'gain_score_to_mass_g': 0,\n",
      "                     'gain_score_to_metabolic_rate': 0,\n",
      "                     'gain_score_to_temperature_kelvin': 0,\n",
      "                     'ids': 'ENSG00000169189',\n",
      "                     'kendall_tau_to_gestation_days': 0,\n",
      "                     'kendall_tau_to_lifespan': 0.7332271976811279,\n",
      "                     'kendall_tau_to_mass_g': 0,\n",
      "                     'kendall_tau_to_metabolic_rate': 0,\n",
      "                     'kendall_tau_to_temperature_kelvin': 0,\n",
      "                     'name': 'NSMCE1'},\n",
      " 'ENSG00000170835': {'gain_score_to_gestation_days': 0,\n",
      "                     'gain_score_to_lifespan': 3815.1731481075285,\n",
      "                     'gain_score_to_mass_g': 0,\n",
      "                     'gain_score_to_metabolic_rate': 0,\n",
      "                     'gain_score_to_temperature_kelvin': 0,\n",
      "                     'ids': 'ENSG00000170835',\n",
      "                     'kendall_tau_to_gestation_days': 0,\n",
      "                     'kendall_tau_to_lifespan': 0.6955798009544537,\n",
      "                     'kendall_tau_to_mass_g': 0,\n",
      "                     'kendall_tau_to_metabolic_rate': 0,\n",
      "                     'kendall_tau_to_temperature_kelvin': 0,\n",
      "                     'name': 'CEL'},\n",
      " 'ENSG00000171121': {'gain_score_to_gestation_days': 79853.02021865845,\n",
      "                     'gain_score_to_lifespan': 0,\n",
      "                     'gain_score_to_mass_g': 0,\n",
      "                     'gain_score_to_metabolic_rate': 0,\n",
      "                     'gain_score_to_temperature_kelvin': 0,\n",
      "                     'ids': 'ENSG00000171121',\n",
      "                     'kendall_tau_to_gestation_days': 0.6607779184503025,\n",
      "                     'kendall_tau_to_lifespan': 0,\n",
      "                     'kendall_tau_to_mass_g': 0,\n",
      "                     'kendall_tau_to_metabolic_rate': 0,\n",
      "                     'kendall_tau_to_temperature_kelvin': 0,\n",
      "                     'name': 'KCNMB3'},\n",
      " 'ENSG00000175449': {'gain_score_to_gestation_days': 0,\n",
      "                     'gain_score_to_lifespan': 0,\n",
      "                     'gain_score_to_mass_g': 0,\n",
      "                     'gain_score_to_metabolic_rate': 0,\n",
      "                     'gain_score_to_temperature_kelvin': 0.6597125896019861,\n",
      "                     'ids': 'ENSG00000175449',\n",
      "                     'kendall_tau_to_gestation_days': 0,\n",
      "                     'kendall_tau_to_lifespan': 0,\n",
      "                     'kendall_tau_to_mass_g': 0,\n",
      "                     'kendall_tau_to_metabolic_rate': 0,\n",
      "                     'kendall_tau_to_temperature_kelvin': 0.6931215563830921,\n",
      "                     'name': 'RFESD'},\n",
      " 'ENSG00000175854': {'gain_score_to_gestation_days': 218982.58134765626,\n",
      "                     'gain_score_to_lifespan': 39781.157397842406,\n",
      "                     'gain_score_to_mass_g': 0,\n",
      "                     'gain_score_to_metabolic_rate': 0,\n",
      "                     'gain_score_to_temperature_kelvin': 0,\n",
      "                     'ids': 'ENSG00000175854',\n",
      "                     'kendall_tau_to_gestation_days': -0.5138654140374168,\n",
      "                     'kendall_tau_to_lifespan': -0.5370508797202054,\n",
      "                     'kendall_tau_to_mass_g': 0,\n",
      "                     'kendall_tau_to_metabolic_rate': 0,\n",
      "                     'kendall_tau_to_temperature_kelvin': 0,\n",
      "                     'name': 'SWI5'},\n",
      " 'ENSG00000179409': {'gain_score_to_gestation_days': 0,\n",
      "                     'gain_score_to_lifespan': 0,\n",
      "                     'gain_score_to_mass_g': 0,\n",
      "                     'gain_score_to_metabolic_rate': 0,\n",
      "                     'gain_score_to_temperature_kelvin': 11.738744929432869,\n",
      "                     'ids': 'ENSG00000179409',\n",
      "                     'kendall_tau_to_gestation_days': 0,\n",
      "                     'kendall_tau_to_lifespan': 0,\n",
      "                     'kendall_tau_to_mass_g': 0,\n",
      "                     'kendall_tau_to_metabolic_rate': 0,\n",
      "                     'kendall_tau_to_temperature_kelvin': 0.5051918859410895,\n",
      "                     'name': 'GEMIN4'},\n",
      " 'ENSG00000180336': {'gain_score_to_gestation_days': 0,\n",
      "                     'gain_score_to_lifespan': 1613.9634656906128,\n",
      "                     'gain_score_to_mass_g': 0,\n",
      "                     'gain_score_to_metabolic_rate': 0,\n",
      "                     'gain_score_to_temperature_kelvin': 0,\n",
      "                     'ids': 'ENSG00000180336',\n",
      "                     'kendall_tau_to_gestation_days': 0,\n",
      "                     'kendall_tau_to_lifespan': 0.39349388318149525,\n",
      "                     'kendall_tau_to_mass_g': 0,\n",
      "                     'kendall_tau_to_metabolic_rate': 0,\n",
      "                     'kendall_tau_to_temperature_kelvin': 0,\n",
      "                     'name': 'MEIOC'},\n",
      " 'ENSG00000182481': {'gain_score_to_gestation_days': 0,\n",
      "                     'gain_score_to_lifespan': 6897.242389678955,\n",
      "                     'gain_score_to_mass_g': 0,\n",
      "                     'gain_score_to_metabolic_rate': 0,\n",
      "                     'gain_score_to_temperature_kelvin': 0,\n",
      "                     'ids': 'ENSG00000182481',\n",
      "                     'kendall_tau_to_gestation_days': 0,\n",
      "                     'kendall_tau_to_lifespan': -0.4523589848713473,\n",
      "                     'kendall_tau_to_mass_g': 0,\n",
      "                     'kendall_tau_to_metabolic_rate': 0,\n",
      "                     'kendall_tau_to_temperature_kelvin': 0,\n",
      "                     'name': 'KPNA2'},\n",
      " 'ENSG00000183840': {'gain_score_to_gestation_days': 0,\n",
      "                     'gain_score_to_lifespan': 0,\n",
      "                     'gain_score_to_mass_g': 0,\n",
      "                     'gain_score_to_metabolic_rate': 0,\n",
      "                     'gain_score_to_temperature_kelvin': 193.22333927215078,\n",
      "                     'ids': 'ENSG00000183840',\n",
      "                     'kendall_tau_to_gestation_days': 0,\n",
      "                     'kendall_tau_to_lifespan': 0,\n",
      "                     'kendall_tau_to_mass_g': 0,\n",
      "                     'kendall_tau_to_metabolic_rate': 0,\n",
      "                     'kendall_tau_to_temperature_kelvin': 0.04533998960921979,\n",
      "                     'name': 'GPR39'},\n",
      " 'ENSG00000184459': {'gain_score_to_gestation_days': 0,\n",
      "                     'gain_score_to_lifespan': 15267.651678466797,\n",
      "                     'gain_score_to_mass_g': 0,\n",
      "                     'gain_score_to_metabolic_rate': 0,\n",
      "                     'gain_score_to_temperature_kelvin': 0,\n",
      "                     'ids': 'ENSG00000184459',\n",
      "                     'kendall_tau_to_gestation_days': 0,\n",
      "                     'kendall_tau_to_lifespan': 0.6580133629334676,\n",
      "                     'kendall_tau_to_mass_g': 0,\n",
      "                     'kendall_tau_to_metabolic_rate': 0,\n",
      "                     'kendall_tau_to_temperature_kelvin': 0,\n",
      "                     'name': 'BPIFC'},\n",
      " 'ENSG00000186395': {'gain_score_to_gestation_days': 5664.122420120239,\n",
      "                     'gain_score_to_lifespan': 3179.403993177414,\n",
      "                     'gain_score_to_mass_g': 0,\n",
      "                     'gain_score_to_metabolic_rate': 0,\n",
      "                     'gain_score_to_temperature_kelvin': 0,\n",
      "                     'ids': 'ENSG00000186395',\n",
      "                     'kendall_tau_to_gestation_days': 0.5926460905965593,\n",
      "                     'kendall_tau_to_lifespan': 0.24222745922615646,\n",
      "                     'kendall_tau_to_mass_g': 0,\n",
      "                     'kendall_tau_to_metabolic_rate': 0,\n",
      "                     'kendall_tau_to_temperature_kelvin': 0,\n",
      "                     'name': 'KRT10'},\n",
      " 'ENSG00000189046': {'gain_score_to_gestation_days': 0,\n",
      "                     'gain_score_to_lifespan': 0,\n",
      "                     'gain_score_to_mass_g': 0,\n",
      "                     'gain_score_to_metabolic_rate': 0,\n",
      "                     'gain_score_to_temperature_kelvin': 30.052330350875856,\n",
      "                     'ids': 'ENSG00000189046',\n",
      "                     'kendall_tau_to_gestation_days': 0,\n",
      "                     'kendall_tau_to_lifespan': 0,\n",
      "                     'kendall_tau_to_mass_g': 0,\n",
      "                     'kendall_tau_to_metabolic_rate': 0,\n",
      "                     'kendall_tau_to_temperature_kelvin': -0.5212810451911547,\n",
      "                     'name': 'ALKBH2'},\n",
      " 'ENSG00000196683': {'gain_score_to_gestation_days': 0,\n",
      "                     'gain_score_to_lifespan': 0,\n",
      "                     'gain_score_to_mass_g': 0,\n",
      "                     'gain_score_to_metabolic_rate': 0,\n",
      "                     'gain_score_to_temperature_kelvin': 53.302722438340425,\n",
      "                     'ids': 'ENSG00000196683',\n",
      "                     'kendall_tau_to_gestation_days': 0,\n",
      "                     'kendall_tau_to_lifespan': 0,\n",
      "                     'kendall_tau_to_mass_g': 0,\n",
      "                     'kendall_tau_to_metabolic_rate': 0,\n",
      "                     'kendall_tau_to_temperature_kelvin': 0.365620214581176,\n",
      "                     'name': 'TOMM7'},\n",
      " 'ENSG00000196689': {'gain_score_to_gestation_days': 0,\n",
      "                     'gain_score_to_lifespan': 0,\n",
      "                     'gain_score_to_mass_g': 0,\n",
      "                     'gain_score_to_metabolic_rate': 0,\n",
      "                     'gain_score_to_temperature_kelvin': 4.189194756746292,\n",
      "                     'ids': 'ENSG00000196689',\n",
      "                     'kendall_tau_to_gestation_days': 0,\n",
      "                     'kendall_tau_to_lifespan': 0,\n",
      "                     'kendall_tau_to_mass_g': 0,\n",
      "                     'kendall_tau_to_metabolic_rate': 0,\n",
      "                     'kendall_tau_to_temperature_kelvin': -0.7217202684149414,\n",
      "                     'name': 'TRPV1'},\n",
      " 'ENSG00000197111': {'gain_score_to_gestation_days': 35055.54728393555,\n",
      "                     'gain_score_to_lifespan': 0,\n",
      "                     'gain_score_to_mass_g': 0,\n",
      "                     'gain_score_to_metabolic_rate': 0,\n",
      "                     'gain_score_to_temperature_kelvin': 0,\n",
      "                     'ids': 'ENSG00000197111',\n",
      "                     'kendall_tau_to_gestation_days': 0.5624133279965542,\n",
      "                     'kendall_tau_to_lifespan': 0,\n",
      "                     'kendall_tau_to_mass_g': 0,\n",
      "                     'kendall_tau_to_metabolic_rate': 0,\n",
      "                     'kendall_tau_to_temperature_kelvin': 0,\n",
      "                     'name': 'PCBP2'},\n",
      " 'ENSG00000198663': {'gain_score_to_gestation_days': 5146.458682250976,\n",
      "                     'gain_score_to_lifespan': 0,\n",
      "                     'gain_score_to_mass_g': 0,\n",
      "                     'gain_score_to_metabolic_rate': 0,\n",
      "                     'gain_score_to_temperature_kelvin': 0,\n",
      "                     'ids': 'ENSG00000198663',\n",
      "                     'kendall_tau_to_gestation_days': -0.6536174315880346,\n",
      "                     'kendall_tau_to_lifespan': 0,\n",
      "                     'kendall_tau_to_mass_g': 0,\n",
      "                     'kendall_tau_to_metabolic_rate': 0,\n",
      "                     'kendall_tau_to_temperature_kelvin': 0,\n",
      "                     'name': 'C6orf89'},\n",
      " 'ENSG00000198736': {'gain_score_to_gestation_days': 0,\n",
      "                     'gain_score_to_lifespan': 33924.87321472168,\n",
      "                     'gain_score_to_mass_g': 0,\n",
      "                     'gain_score_to_metabolic_rate': 0,\n",
      "                     'gain_score_to_temperature_kelvin': 0,\n",
      "                     'ids': 'ENSG00000198736',\n",
      "                     'kendall_tau_to_gestation_days': 0,\n",
      "                     'kendall_tau_to_lifespan': -0.25887767164101727,\n",
      "                     'kendall_tau_to_mass_g': 0,\n",
      "                     'kendall_tau_to_metabolic_rate': 0,\n",
      "                     'kendall_tau_to_temperature_kelvin': 0,\n",
      "                     'name': 'MSRB1'},\n",
      " 'ENSG00000198917': {'gain_score_to_gestation_days': 0,\n",
      "                     'gain_score_to_lifespan': 0,\n",
      "                     'gain_score_to_mass_g': 0,\n",
      "                     'gain_score_to_metabolic_rate': 0,\n",
      "                     'gain_score_to_temperature_kelvin': 0.009889232878413168,\n",
      "                     'ids': 'ENSG00000198917',\n",
      "                     'kendall_tau_to_gestation_days': 0,\n",
      "                     'kendall_tau_to_lifespan': 0,\n",
      "                     'kendall_tau_to_mass_g': 0,\n",
      "                     'kendall_tau_to_metabolic_rate': 0,\n",
      "                     'kendall_tau_to_temperature_kelvin': -0.6405917941895664,\n",
      "                     'name': 'SPOUT1'},\n",
      " 'ENSG00000204599': {'gain_score_to_gestation_days': 0,\n",
      "                     'gain_score_to_lifespan': 0,\n",
      "                     'gain_score_to_mass_g': 40856214080.0,\n",
      "                     'gain_score_to_metabolic_rate': 0,\n",
      "                     'gain_score_to_temperature_kelvin': 0,\n",
      "                     'ids': 'ENSG00000204599',\n",
      "                     'kendall_tau_to_gestation_days': 0,\n",
      "                     'kendall_tau_to_lifespan': 0,\n",
      "                     'kendall_tau_to_mass_g': -0.13447071312090272,\n",
      "                     'kendall_tau_to_metabolic_rate': 0,\n",
      "                     'kendall_tau_to_temperature_kelvin': 0,\n",
      "                     'name': 'TRIM39'},\n",
      " 'ENSG00000204889': {'gain_score_to_gestation_days': 0,\n",
      "                     'gain_score_to_lifespan': 430.1101396560669,\n",
      "                     'gain_score_to_mass_g': 0,\n",
      "                     'gain_score_to_metabolic_rate': 0,\n",
      "                     'gain_score_to_temperature_kelvin': 0,\n",
      "                     'ids': 'ENSG00000204889',\n",
      "                     'kendall_tau_to_gestation_days': 0,\n",
      "                     'kendall_tau_to_lifespan': 0.32358062881612293,\n",
      "                     'kendall_tau_to_mass_g': 0,\n",
      "                     'kendall_tau_to_metabolic_rate': 0,\n",
      "                     'kendall_tau_to_temperature_kelvin': 0,\n",
      "                     'name': 'KRT40'},\n",
      " 'ENSG00000213139': {'gain_score_to_gestation_days': 0,\n",
      "                     'gain_score_to_lifespan': 11122.748457830772,\n",
      "                     'gain_score_to_mass_g': 0,\n",
      "                     'gain_score_to_metabolic_rate': 0,\n",
      "                     'gain_score_to_temperature_kelvin': 0,\n",
      "                     'ids': 'ENSG00000213139',\n",
      "                     'kendall_tau_to_gestation_days': 0,\n",
      "                     'kendall_tau_to_lifespan': 0.4610042169179034,\n",
      "                     'kendall_tau_to_mass_g': 0,\n",
      "                     'kendall_tau_to_metabolic_rate': 0,\n",
      "                     'kendall_tau_to_temperature_kelvin': 0,\n",
      "                     'name': 'CRYGS'},\n",
      " 'ENSG00000221978': {'gain_score_to_gestation_days': 0,\n",
      "                     'gain_score_to_lifespan': 0,\n",
      "                     'gain_score_to_mass_g': 0,\n",
      "                     'gain_score_to_metabolic_rate': 0,\n",
      "                     'gain_score_to_temperature_kelvin': 117.89721795022487,\n",
      "                     'ids': 'ENSG00000221978',\n",
      "                     'kendall_tau_to_gestation_days': 0,\n",
      "                     'kendall_tau_to_lifespan': 0,\n",
      "                     'kendall_tau_to_mass_g': 0,\n",
      "                     'kendall_tau_to_metabolic_rate': 0,\n",
      "                     'kendall_tau_to_temperature_kelvin': -0.6302607085856056,\n",
      "                     'name': 'CCNL2'}}\n"
     ]
    }
   ],
   "source": [
    "aggregated_list_of_features = {}\n",
    "uniq_gene_ids = list(set([l['ids'] for l in list_of_weighted_features]))\n",
    "for gid in uniq_gene_ids:\n",
    "    obj = {\n",
    "        'name': '',\n",
    "        'gain_score_to_gestation_days': 0,\n",
    "        'kendall_tau_to_gestation_days': 0,\n",
    "        'gain_score_to_lifespan': 0,\n",
    "        'kendall_tau_to_lifespan': 0,\n",
    "        'gain_score_to_mass_g': 0,\n",
    "        'kendall_tau_to_mass_g': 0,\n",
    "        'gain_score_to_temperature_kelvin': 0,\n",
    "        'kendall_tau_to_temperature_kelvin': 0,\n",
    "        'gain_score_to_metabolic_rate': 0,\n",
    "        'kendall_tau_to_metabolic_rate': 0\n",
    "    }\n",
    "    aggregated_list_of_features[gid] = obj\n",
    "    \n",
    "for el in list_of_weighted_features:\n",
    "    aggregated_list_of_features[el['ids']].update(el)\n",
    "            \n",
    "pprint(aggregated_list_of_features)"
   ]
  },
  {
   "cell_type": "code",
   "execution_count": 586,
   "metadata": {},
   "outputs": [
    {
     "data": {
      "text/plain": [
       "73"
      ]
     },
     "execution_count": 586,
     "metadata": {},
     "output_type": "execute_result"
    }
   ],
   "source": [
    "len(pd.DataFrame(list(aggregated_list_of_features.values())).sort_values(by=['name']))"
   ]
  },
  {
   "cell_type": "code",
   "execution_count": 585,
   "metadata": {},
   "outputs": [],
   "source": [
    "pd.DataFrame(list(aggregated_list_of_features.values())).sort_values(by=['name']).to_csv('significant_gene_results.csv')"
   ]
  },
  {
   "cell_type": "markdown",
   "metadata": {},
   "source": [
    "### Building new model for predicting lifespan with variables + selected genes"
   ]
  },
  {
   "cell_type": "code",
   "execution_count": 607,
   "metadata": {},
   "outputs": [],
   "source": [
    "def get_interactions_by_selected_features(ids, label_to_predict):\n",
    "    species_data = pd.read_csv('cross_species_df_merged.csv', low_memory=False)\n",
    "    \n",
    "    # remove other features (redundant and those that correlate with target)\n",
    "    cols_to_delete = []\n",
    "    for column in list(species_data.columns):\n",
    "        if column not in ids and column not in ['tissue', 'gestation_days', 'lifespan', 'mass_g', 'temperature_kelvin', 'metabolic_rate']:\n",
    "            cols_to_delete.append(column)\n",
    "            \n",
    "    species_data = species_data.drop(cols_to_delete, axis=1) \n",
    "    \n",
    "    #species_data = species_data[(~pd.isnull(species_data[label_to_predict]))] # select only row where target is set\n",
    "    #species_data = species_data.dropna(axis=1, thresh=int(len(species_data)*0.9)) # remove all genes where percentage of NaN > 10%\n",
    "    species_data = species_data[species_data['tissue'].isin(['Lung', 'Liver', 'Kidney', 'Brain', 'Blood'])] # remove underrepresented tissues\n",
    "    species_data = encode_tissues(species_data)\n",
    "    \n",
    "    feature_df, X, Y, index_of_categorical = split_to_X_and_Y(species_data, label_to_predict)\n",
    "    \n",
    "    model = regression_for_interaction(feature_df, Y, index_of_categorical)\n",
    "    print('R^2', calculate_metrics(model.predict(feature_df), Y))\n",
    "    explainer = shap.TreeExplainer(model)\n",
    "    interaction_values = explainer.shap_interaction_values(feature_df)\n",
    "    shap_values = explainer.shap_values(feature_df)\n",
    "    \n",
    "    return shap_values, interaction_values, feature_df\n",
    "    "
   ]
  },
  {
   "cell_type": "code",
   "execution_count": 608,
   "metadata": {},
   "outputs": [
    {
     "name": "stdout",
     "output_type": "stream",
     "text": [
      "R^2 {'R2': 0.9670923289636344, 'MSE': 18.066276076854002, 'MAE': 3.12982645921581}\n"
     ]
    },
    {
     "name": "stderr",
     "output_type": "stream",
     "text": [
      "Using categorical_feature in Dataset.\n",
      "Setting feature_perturbation = \"tree_path_dependent\" because no background data was given.\n"
     ]
    }
   ],
   "source": [
    "shap_values, interaction_values, df = get_interactions_by_selected_features(list(aggregated_list_of_features.keys()), 'lifespan')\n"
   ]
  },
  {
   "cell_type": "code",
   "execution_count": 609,
   "metadata": {},
   "outputs": [],
   "source": [
    "shap_feature_names = []\n",
    "X_display = df.copy()\n",
    "X_display['tissue_encoded'] = le.inverse_transform(X_display['tissue_encoded'].values)\n",
    "for col in df.columns:\n",
    "    if 'ENSG' in col:\n",
    "        shap_feature_names.append(ensemble_data.gene_name_of_gene_id(col))\n",
    "    else:\n",
    "        shap_feature_names.append(col)"
   ]
  },
  {
   "cell_type": "code",
   "execution_count": 621,
   "metadata": {},
   "outputs": [],
   "source": [
    "features_list = []\n",
    "for i, col in enumerate(df.columns):\n",
    "    ktau =  kendalltau(shap_values.T[i], df.T.values[i], nan_policy='omit')[0]\n",
    "    if not np.isnan(ktau):\n",
    "        features_list.append({'name': shap_feature_names[i], 'id': col, 'kendall_tau_to_lifespan': ktau})"
   ]
  },
  {
   "cell_type": "code",
   "execution_count": 627,
   "metadata": {},
   "outputs": [],
   "source": [
    "features_list = sorted(features_list, key=lambda k: k['kendall_tau_to_lifespan'], reverse=True) \n"
   ]
  },
  {
   "cell_type": "code",
   "execution_count": 628,
   "metadata": {},
   "outputs": [
    {
     "name": "stdout",
     "output_type": "stream",
     "text": [
      "HESX1 ENSG00000163666 0.73\n",
      "gestation_days gestation_days 0.73\n",
      "BPIFC ENSG00000184459 0.67\n",
      "CEL ENSG00000170835 0.64\n",
      "TRPV1 ENSG00000196689 0.62\n",
      "CATSPER3 ENSG00000152705 0.62\n",
      "CNOT9 ENSG00000144580 0.61\n",
      "SPATA20 ENSG00000006282 0.59\n",
      "MROH8 ENSG00000101353 0.58\n",
      "DCTD ENSG00000129187 0.57\n",
      "C7orf31 ENSG00000153790 0.52\n",
      "IGFBP2 ENSG00000115457 0.46\n",
      "ATP5PF ENSG00000154723 0.3\n",
      "MEIOC ENSG00000180336 0.3\n",
      "NDUFS5 ENSG00000168653 0.28\n",
      "TYMP ENSG00000025708 0.19\n",
      "metabolic_rate metabolic_rate 0.14\n",
      "mass_g mass_g 0.08\n",
      "NSF ENSG00000073969 0.01\n",
      "PTPRK ENSG00000152894 -0.15\n",
      "ATAT1 ENSG00000137343 -0.18\n",
      "RPL35 ENSG00000136942 -0.28\n",
      "temperature_kelvin temperature_kelvin -0.31\n",
      "CHCHD3 ENSG00000106554 -0.34\n",
      "MSRB1 ENSG00000198736 -0.34\n",
      "TRIM39 ENSG00000204599 -0.35\n",
      "ZDHHC4 ENSG00000136247 -0.38\n",
      "NSDHL ENSG00000147383 -0.39\n",
      "KPNA2 ENSG00000182481 -0.48\n",
      "TMEM223 ENSG00000168569 -0.52\n",
      "SWI5 ENSG00000175854 -0.53\n",
      "ATP5MPL ENSG00000156411 -0.75\n"
     ]
    }
   ],
   "source": [
    "for l in features_list:\n",
    "    print(l['name'], l['id'], np.round(l['kendall_tau_to_lifespan'], 2))"
   ]
  },
  {
   "cell_type": "code",
   "execution_count": 610,
   "metadata": {},
   "outputs": [
    {
     "data": {
      "image/png": "[encoded data removed]",
      "text/plain": [
       "<Figure size 576x684 with 2 Axes>"
      ]
     },
     "metadata": {
      "needs_background": "light"
     },
     "output_type": "display_data"
    }
   ],
   "source": [
    "#shap.summary_plot('mass_g', shap_values, df)\n",
    "shap.summary_plot(shap_values, df, feature_names=shap_feature_names)"
   ]
  },
  {
   "cell_type": "code",
   "execution_count": 611,
   "metadata": {},
   "outputs": [
    {
     "data": {
      "image/png": "[encoded data removed]",
      "text/plain": [
       "<Figure size 540x360 with 2 Axes>"
      ]
     },
     "metadata": {
      "needs_background": "light"
     },
     "output_type": "display_data"
    }
   ],
   "source": [
    "shap.dependence_plot(\"gestation_days\", shap_values, df, interaction_index='tissue_encoded', feature_names=shap_feature_names, display_features=X_display)"
   ]
  },
  {
   "cell_type": "code",
   "execution_count": 579,
   "metadata": {},
   "outputs": [
    {
     "data": {
      "image/png": "[encoded data removed]",
      "text/plain": [
       "<Figure size 432x360 with 1 Axes>"
      ]
     },
     "metadata": {
      "needs_background": "light"
     },
     "output_type": "display_data"
    }
   ],
   "source": [
    "shap.dependence_plot(\"tissue_encoded\", shap_values, df, interaction_index='tissue_encoded', feature_names=shap_feature_names, display_features=X_display)"
   ]
  },
  {
   "cell_type": "code",
   "execution_count": 644,
   "metadata": {},
   "outputs": [
    {
     "data": {
      "image/png": "[encoded data removed]",
      "text/plain": [
       "<Figure size 540x360 with 2 Axes>"
      ]
     },
     "metadata": {
      "needs_background": "light"
     },
     "output_type": "display_data"
    }
   ],
   "source": [
    "shap.dependence_plot(\"mass_g\", shap_values, df, interaction_index='temperature_kelvin', feature_names=shap_feature_names, display_features=X_display)\n"
   ]
  },
  {
   "cell_type": "code",
   "execution_count": 691,
   "metadata": {},
   "outputs": [
    {
     "data": {
      "image/png": "[encoded data removed]",
      "text/plain": [
       "<Figure size 540x360 with 2 Axes>"
      ]
     },
     "metadata": {
      "needs_background": "light"
     },
     "output_type": "display_data"
    }
   ],
   "source": [
    "shap.dependence_plot(\n",
    "    (\"temperature_kelvin\", \"gestation_days\"),\n",
    "    interaction_values, df,\n",
    "    display_features=df\n",
    ")"
   ]
  },
  {
   "cell_type": "code",
   "execution_count": 692,
   "metadata": {},
   "outputs": [
    {
     "data": {
      "image/png": "[encoded data removed]",
      "text/plain": [
       "<Figure size 540x360 with 2 Axes>"
      ]
     },
     "metadata": {
      "needs_background": "light"
     },
     "output_type": "display_data"
    }
   ],
   "source": [
    "shap.dependence_plot(\n",
    "    (\"metabolic_rate\", \"temperature_kelvin\"),\n",
    "    interaction_values, df,\n",
    "    display_features=df,\n",
    "    feature_names=shap_feature_names\n",
    ")"
   ]
  },
  {
   "cell_type": "code",
   "execution_count": 685,
   "metadata": {},
   "outputs": [
    {
     "name": "stdout",
     "output_type": "stream",
     "text": [
      "array([[  0.        ,  37.43459881, 249.30134534,  30.25208247,\n",
      "         77.25582702,  46.78504629,  12.38447138,  34.08195936,\n",
      "          7.48038372,  19.90076071, 114.35703266,  46.56489649,\n",
      "         46.77540103,  26.80170184,  29.80138187,   0.        ,\n",
      "          0.        ,   0.        ,  12.90350101,   0.        ,\n",
      "         29.01795311,  15.08293097,  14.3457728 ,   1.88799884,\n",
      "         17.34494482],\n",
      "       [ 37.43459881,   0.        ,   0.        ,   0.        ,\n",
      "         46.81452679,   0.        ,  96.00287688,   0.        ,\n",
      "          0.        ,  39.69269844,   0.        ,  22.70983839,\n",
      "         27.79895313,   0.        ,  16.49718403,   0.        ,\n",
      "          0.        ,   0.        ,   0.        ,   0.        ,\n",
      "          0.        ,   1.87509904,   0.        ,   0.        ,\n",
      "          0.        ],\n",
      "       [249.30134534,   0.        ,   0.        ,   0.        ,\n",
      "          0.        ,   0.        ,   0.        ,   0.        ,\n",
      "          0.        ,   0.        ,   0.        ,   0.        ,\n",
      "          0.        ,   0.        ,   0.        ,   0.        ,\n",
      "          0.        ,   0.        ,   0.        ,   0.        ,\n",
      "          0.        ,   0.        ,   0.        ,   0.        ,\n",
      "          0.        ],\n",
      "       [ 30.25208247,   0.        ,   0.        ,   0.        ,\n",
      "          0.        ,   6.26808861,   0.        ,   0.        ,\n",
      "         38.31976066,  68.43386507,   0.        ,   0.        ,\n",
      "          6.68182734,  21.34437975,   0.        ,   0.        ,\n",
      "          4.84804988,   0.        ,   0.        ,   0.        ,\n",
      "          0.        ,   0.        ,   0.        ,   0.        ,\n",
      "          0.        ],\n",
      "       [ 77.25582702,  46.81452679,   0.        ,   0.        ,\n",
      "          0.        ,   0.        ,   0.        ,  55.69683503,\n",
      "          0.        ,   0.        ,   0.        ,   0.        ,\n",
      "          0.        ,   0.        ,   0.        ,   0.        ,\n",
      "          0.        ,   0.        ,   0.        ,   0.        ,\n",
      "          0.        ,   0.        ,   0.        ,   0.        ,\n",
      "          0.        ],\n",
      "       [ 46.78504629,   0.        ,   0.        ,   6.26808861,\n",
      "          0.        ,   0.        ,   0.        ,  14.91767459,\n",
      "          0.        ,   0.        ,   0.        ,   0.        ,\n",
      "          0.        ,  14.79828978,   0.        ,   3.50429466,\n",
      "          0.        ,  36.88376237,   2.52311128,  25.11283323,\n",
      "          0.        ,   0.        ,   2.98675775,   4.08486886,\n",
      "          0.        ],\n",
      "       [ 12.38447138,  96.00287688,   0.        ,   0.        ,\n",
      "          0.        ,   0.        ,   0.        ,   0.        ,\n",
      "         49.74247412,   0.        ,   0.        ,   0.        ,\n",
      "          0.        ,   0.        ,   0.        ,   0.        ,\n",
      "          3.12542997,   0.        ,   0.        ,   0.        ,\n",
      "          0.        ,   0.        ,   0.        ,   0.        ,\n",
      "          0.        ],\n",
      "       [ 34.08195936,   0.        ,   0.        ,   0.        ,\n",
      "         55.69683503,  14.91767459,   0.        ,   0.        ,\n",
      "          0.        ,   0.        ,   0.        ,  41.5430687 ,\n",
      "          0.        ,   0.        ,   0.        ,   0.        ,\n",
      "          0.        ,   0.        ,  10.41903226,   0.        ,\n",
      "          0.        ,   0.        ,   0.        ,   0.        ,\n",
      "          0.        ],\n",
      "       [  7.48038372,   0.        ,   0.        ,  38.31976066,\n",
      "          0.        ,   0.        ,  49.74247412,   0.        ,\n",
      "          0.        ,   0.        ,   0.        ,   0.        ,\n",
      "          0.        ,   0.        ,   0.        ,  34.23205304,\n",
      "          8.01208732,   0.        ,   0.        ,   0.        ,\n",
      "          0.        ,   0.        ,   0.        ,   0.        ,\n",
      "          0.        ],\n",
      "       [ 19.90076071,  39.69269844,   0.        ,  68.43386507,\n",
      "          0.        ,   0.        ,   0.        ,   0.        ,\n",
      "          0.        ,   0.        ,   0.        ,   0.        ,\n",
      "          0.        ,   0.        ,   0.        ,   0.        ,\n",
      "          4.43635465,   0.        ,   0.        ,   0.        ,\n",
      "          0.        ,   1.36463524,   0.        ,   0.        ,\n",
      "          0.        ],\n",
      "       [114.35703266,   0.        ,   0.        ,   0.        ,\n",
      "          0.        ,   0.        ,   0.        ,   0.        ,\n",
      "          0.        ,   0.        ,   0.        ,   0.        ,\n",
      "          0.        ,   0.        ,   0.        ,   0.        ,\n",
      "          0.        ,   0.        ,   0.        ,   0.        ,\n",
      "          0.        ,   0.        ,   0.        ,   0.        ,\n",
      "          0.        ],\n",
      "       [ 46.56489649,  22.70983839,   0.        ,   0.        ,\n",
      "          0.        ,   0.        ,   0.        ,  41.5430687 ,\n",
      "          0.        ,   0.        ,   0.        ,   0.        ,\n",
      "          0.        ,   0.        ,   0.        ,   0.        ,\n",
      "          0.        ,   0.        ,   2.93640201,   0.        ,\n",
      "          0.        ,   0.        ,   0.        ,   0.        ,\n",
      "          0.        ],\n",
      "       [ 46.77540103,  27.79895313,   0.        ,   6.68182734,\n",
      "          0.        ,   0.        ,   0.        ,   0.        ,\n",
      "          0.        ,   0.        ,   0.        ,   0.        ,\n",
      "          0.        ,   0.        ,   0.        ,   0.        ,\n",
      "          0.        ,   0.        ,   0.        ,   0.        ,\n",
      "          0.        ,   1.33574652,   0.        ,   0.        ,\n",
      "          5.8316459 ],\n",
      "       [ 26.80170184,   0.        ,   0.        ,  21.34437975,\n",
      "          0.        ,  14.79828978,   0.        ,   0.        ,\n",
      "          0.        ,   0.        ,   0.        ,   0.        ,\n",
      "          0.        ,   0.        ,   0.        ,   3.77473524,\n",
      "          0.        ,   0.        ,   0.        ,   0.        ,\n",
      "          0.        ,   0.        ,   0.        ,  13.53292307,\n",
      "          0.        ],\n",
      "       [ 29.80138187,  16.49718403,   0.        ,   0.        ,\n",
      "          0.        ,   0.        ,   0.        ,   0.        ,\n",
      "          0.        ,   0.        ,   0.        ,   0.        ,\n",
      "          0.        ,   0.        ,   0.        ,   0.        ,\n",
      "          0.        ,   0.        ,   0.        ,   0.        ,\n",
      "          0.        ,   0.        ,   0.        ,   0.        ,\n",
      "          0.        ],\n",
      "       [  0.        ,   0.        ,   0.        ,   0.        ,\n",
      "          0.        ,   3.50429466,   0.        ,   0.        ,\n",
      "         34.23205304,   0.        ,   0.        ,   0.        ,\n",
      "          0.        ,   3.77473524,   0.        ,   0.        ,\n",
      "          4.13691289,   0.        ,   0.        ,   0.        ,\n",
      "          0.        ,   0.        ,   0.        ,   0.        ,\n",
      "          0.        ],\n",
      "       [  0.        ,   0.        ,   0.        ,   4.84804988,\n",
      "          0.        ,   0.        ,   3.12542997,   0.        ,\n",
      "          8.01208732,   4.43635465,   0.        ,   0.        ,\n",
      "          0.        ,   0.        ,   0.        ,   4.13691289,\n",
      "          0.        ,   0.        ,   0.        ,   0.        ,\n",
      "          0.        ,   0.        ,   0.        ,   0.        ,\n",
      "          0.        ],\n",
      "       [  0.        ,   0.        ,   0.        ,   0.        ,\n",
      "          0.        ,  36.88376237,   0.        ,   0.        ,\n",
      "          0.        ,   0.        ,   0.        ,   0.        ,\n",
      "          0.        ,   0.        ,   0.        ,   0.        ,\n",
      "          0.        ,   0.        ,   0.        ,   4.95733524,\n",
      "          0.        ,   0.        ,   0.        ,   0.        ,\n",
      "          0.        ],\n",
      "       [ 12.90350101,   0.        ,   0.        ,   0.        ,\n",
      "          0.        ,   2.52311128,   0.        ,  10.41903226,\n",
      "          0.        ,   0.        ,   0.        ,   2.93640201,\n",
      "          0.        ,   0.        ,   0.        ,   0.        ,\n",
      "          0.        ,   0.        ,   0.        ,   0.        ,\n",
      "          0.        ,   0.        ,   0.        ,   6.28030525,\n",
      "          0.        ],\n",
      "       [  0.        ,   0.        ,   0.        ,   0.        ,\n",
      "          0.        ,  25.11283323,   0.        ,   0.        ,\n",
      "          0.        ,   0.        ,   0.        ,   0.        ,\n",
      "          0.        ,   0.        ,   0.        ,   0.        ,\n",
      "          0.        ,   4.95733524,   0.        ,   0.        ,\n",
      "          0.        ,   0.        ,   0.        ,   0.        ,\n",
      "          0.        ],\n",
      "       [ 29.01795311,   0.        ,   0.        ,   0.        ,\n",
      "          0.        ,   0.        ,   0.        ,   0.        ,\n",
      "          0.        ,   0.        ,   0.        ,   0.        ,\n",
      "          0.        ,   0.        ,   0.        ,   0.        ,\n",
      "          0.        ,   0.        ,   0.        ,   0.        ,\n",
      "          0.        ,   0.        ,   0.        ,   0.        ,\n",
      "          0.        ],\n",
      "       [ 15.08293097,   1.87509904,   0.        ,   0.        ,\n",
      "          0.        ,   0.        ,   0.        ,   0.        ,\n",
      "          0.        ,   1.36463524,   0.        ,   0.        ,\n",
      "          1.33574652,   0.        ,   0.        ,   0.        ,\n",
      "          0.        ,   0.        ,   0.        ,   0.        ,\n",
      "          0.        ,   0.        ,   2.50842181,   0.        ,\n",
      "          0.        ],\n",
      "       [ 14.3457728 ,   0.        ,   0.        ,   0.        ,\n",
      "          0.        ,   2.98675775,   0.        ,   0.        ,\n",
      "          0.        ,   0.        ,   0.        ,   0.        ,\n",
      "          0.        ,   0.        ,   0.        ,   0.        ,\n",
      "          0.        ,   0.        ,   0.        ,   0.        ,\n",
      "          0.        ,   2.50842181,   0.        ,   0.        ,\n",
      "          0.        ],\n",
      "       [  1.88799884,   0.        ,   0.        ,   0.        ,\n",
      "          0.        ,   4.08486886,   0.        ,   0.        ,\n",
      "          0.        ,   0.        ,   0.        ,   0.        ,\n",
      "          0.        ,  13.53292307,   0.        ,   0.        ,\n",
      "          0.        ,   0.        ,   6.28030525,   0.        ,\n",
      "          0.        ,   0.        ,   0.        ,   0.        ,\n",
      "          0.        ],\n",
      "       [ 17.34494482,   0.        ,   0.        ,   0.        ,\n",
      "          0.        ,   0.        ,   0.        ,   0.        ,\n",
      "          0.        ,   0.        ,   0.        ,   0.        ,\n",
      "          5.8316459 ,   0.        ,   0.        ,   0.        ,\n",
      "          0.        ,   0.        ,   0.        ,   0.        ,\n",
      "          0.        ,   0.        ,   0.        ,   0.        ,\n",
      "          0.        ]])\n"
     ]
    }
   ],
   "source": [
    "pprint(tmp2)"
   ]
  },
  {
   "cell_type": "code",
   "execution_count": 668,
   "metadata": {},
   "outputs": [
    {
     "data": {
      "image/png": "[encoded data removed]",
      "text/plain": [
       "<Figure size 864x864 with 1 Axes>"
      ]
     },
     "metadata": {
      "needs_background": "light"
     },
     "output_type": "display_data"
    }
   ],
   "source": [
    "import matplotlib.pylab as pl\n",
    "import numpy as np\n",
    "\n",
    "tmp = np.abs(interaction_values).sum(0)\n",
    "for i in range(tmp.shape[0]):\n",
    "    tmp[i,i] = 0\n",
    "inds = np.argsort(-tmp.sum(0))[:25]\n",
    "tmp2 = tmp[inds,:][:,inds]\n",
    "pl.figure(figsize=(12,12))\n",
    "pl.imshow(tmp2)\n",
    "\n",
    "pl.yticks(range(tmp2.shape[0]), np.array(shap_feature_names)[inds], rotation=45, horizontalalignment=\"right\")\n",
    "pl.xticks(range(tmp2.shape[0]), np.array(shap_feature_names)[inds], rotation=45, horizontalalignment=\"left\")\n",
    "pl.gca().xaxis.tick_top()\n",
    "pl.show()"
   ]
  },
  {
   "cell_type": "code",
   "execution_count": null,
   "metadata": {},
   "outputs": [],
   "source": []
  },
  {
   "cell_type": "code",
   "execution_count": 333,
   "metadata": {},
   "outputs": [
    {
     "data": {
      "image/png": "[encoded data removed]",
      "text/plain": [
       "<Figure size 576x684 with 2 Axes>"
      ]
     },
     "metadata": {
      "needs_background": "light"
     },
     "output_type": "display_data"
    },
    {
     "data": {
      "image/png": "[encoded data removed]",
      "text/plain": [
       "<Figure size 540x360 with 2 Axes>"
      ]
     },
     "metadata": {
      "needs_background": "light"
     },
     "output_type": "display_data"
    }
   ],
   "source": [
    "def plot_shap_values(shap_values, X):\n",
    "    shap_feature_names = []\n",
    "    X_display = X.copy()\n",
    "    X_display['tissue_encoded'] = le.inverse_transform(X_display['tissue_encoded'].values)\n",
    "    for col in X.columns:\n",
    "        if 'ENSG' in col:\n",
    "            shap_feature_names.append(ensemble_data.gene_name_of_gene_id(col))\n",
    "        else:\n",
    "            shap_feature_names.append(col)\n",
    "            \n",
    "    shap.summary_plot(shap_values, X, feature_names=shap_feature_names)\n",
    "    shap.dependence_plot(\"GTF3A\", shap_values, X, interaction_index='tissue_encoded', feature_names=shap_feature_names, display_features=X_display)\n",
    "\n",
    "plot_shap_values(shap_values, feature_df)"
   ]
  },
  {
   "cell_type": "code",
   "execution_count": null,
   "metadata": {},
   "outputs": [],
   "source": []
  },
  {
   "cell_type": "code",
   "execution_count": null,
   "metadata": {},
   "outputs": [],
   "source": []
  }
 ],
 "metadata": {
  "kernelspec": {
   "display_name": "Python 3",
   "language": "python",
   "name": "python3"
  },
  "language_info": {
   "codemirror_mode": {
    "name": "ipython",
    "version": 3
   },
   "file_extension": ".py",
   "mimetype": "text/x-python",
   "name": "python",
   "nbconvert_exporter": "python",
   "pygments_lexer": "ipython3",
   "version": "3.7.6"
  }
 },
 "nbformat": 4,
 "nbformat_minor": 4
}
