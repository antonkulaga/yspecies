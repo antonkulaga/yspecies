{
 "cells": [
  {
   "cell_type": "markdown",
   "metadata": {},
   "source": [
    "Load expressions\n",
    "----------------"
   ]
  },
  {
   "cell_type": "markdown",
   "metadata": {},
   "source": [
    "### imports ###"
   ]
  },
  {
   "cell_type": "code",
   "execution_count": 1,
   "metadata": {},
   "outputs": [],
   "source": [
    "from yspecies import *\n",
    "from typing import List\n",
    "from yspecies.enums import *\n",
    "import yspecies.dataset\n",
    "from yspecies.dataset import *"
   ]
  },
  {
   "cell_type": "code",
   "execution_count": 2,
   "metadata": {},
   "outputs": [],
   "source": [
    "import pandas as pd\n",
    "import shap\n",
    "from pprint import pprint\n",
    "import random\n",
    "import numpy as np\n",
    "from sklearn.preprocessing import LabelEncoder\n",
    "import lightgbm as lgb\n",
    "from scipy.stats import kendalltau\n",
    "from sklearn.utils import resample\n",
    "from sklearn.model_selection import train_test_split, KFold\n",
    "from sklearn.metrics import r2_score, mean_squared_error, mean_absolute_error, accuracy_score, recall_score, precision_score, f1_score\n",
    "#from pyensembl import EnsemblRelease\n",
    "\n",
    "pd.set_option('display.max_columns', None)\n",
    "pd.set_option('display.max_rows', None)\n",
    "pd.set_option('display.float_format', lambda x: '%.3f' % x)\n",
    "\n",
    "# save label encoder to global scope\n",
    "le = LabelEncoder()\n",
    "NUMBER_OF_BOOTSTRAPS = 5"
   ]
  },
  {
   "cell_type": "code",
   "execution_count": 3,
   "metadata": {},
   "outputs": [],
   "source": [
    "from IPython.display import HTML, display\n",
    "import tabulate\n",
    "def tab(table: List[List[str]]):\n",
    "    display(HTML(tabulate.tabulate(table, tablefmt='html')))"
   ]
  },
  {
   "cell_type": "markdown",
   "metadata": {},
   "source": [
    "## Parameters cell ##\n",
    "\n",
    "Parameters are overiddent by papermill when run inside DVC stages\n",
    "\n"
   ]
  },
  {
   "cell_type": "code",
   "execution_count": 4,
   "metadata": {},
   "outputs": [],
   "source": [
    "# Parameters\n",
    "\n",
    "animal_class = AnimalClass.mammals.name\n"
   ]
  },
  {
   "cell_type": "markdown",
   "metadata": {},
   "source": [
    "### Load pathes ###"
   ]
  },
  {
   "cell_type": "code",
   "execution_count": 5,
   "metadata": {},
   "outputs": [
    {
     "name": "stdout",
     "output_type": "stream",
     "text": [
      "/data/sources/species/notebooks/..\n"
     ]
    }
   ],
   "source": [
    "from pathlib import Path\n",
    "if(Path(\"./data\").exists()):\n",
    "    base_dir = Path(\"./\")\n",
    "else:\n",
    "    base_dir = Path(\"../\")\n",
    "print(base_dir.absolute())\n",
    "\n",
    "data_dir = base_dir / \"data\"\n",
    "input_dir = data_dir / \"input\"\n",
    "interim_dir = data_dir / \"interim\"\n",
    "output_dir =  data_dir / \"output\"\n"
   ]
  },
  {
   "cell_type": "code",
   "execution_count": 6,
   "metadata": {},
   "outputs": [],
   "source": [
    "def load_table(path: Path, index: str = None, dtype: str = None)->pd.DataFrame:    \n",
    "    if index is None:\n",
    "        return pd.read_csv(str(path), sep=\"\\t\", dtype=dtype)\n",
    "    else:\n",
    "        return pd.read_csv(str(path), sep=\"\\t\", index_col=index, dtype=dtype)"
   ]
  },
  {
   "cell_type": "code",
   "execution_count": 7,
   "metadata": {},
   "outputs": [],
   "source": [
    "def show(df: pd.DataFrame, cols: int, rows: int = 3) -> pd.DataFrame:\n",
    "    return df[df.columns[0:cols]].head(rows)"
   ]
  },
  {
   "cell_type": "markdown",
   "metadata": {},
   "source": [
    "## Load data ##"
   ]
  },
  {
   "cell_type": "code",
   "execution_count": 8,
   "metadata": {},
   "outputs": [
    {
     "data": {
      "text/html": [
       "<table>\n",
       "<tbody>\n",
       "<tr><td>genes     </td><td>samples  </td><td>species </td><td>expressions</td></tr>\n",
       "<tr><td>(4292, 35)</td><td>(572, 36)</td><td>(47, 16)</td><td>(572, 4292)</td></tr>\n",
       "</tbody>\n",
       "</table>"
      ],
      "text/plain": [
       "<IPython.core.display.HTML object>"
      ]
     },
     "metadata": {},
     "output_type": "display_data"
    }
   ],
   "source": [
    "genes = load_table(interim_dir / \"selected_genes.tsv\", index=\"Homo_sapiens\")  \n",
    "samples =  load_table(interim_dir / \"selected_samples.tsv\" , index=\"run\").sort_index() \n",
    "species =  load_table(interim_dir / \"selected_species.tsv\" , index=\"species\")\n",
    "expressions = load_table(interim_dir / \"selected_expressions.tsv\", index=\"run\").sort_index()\n",
    "tab(\n",
    "[\n",
    "    [\"genes\", \"samples\", \"species\", \"expressions\"],\n",
    "    [genes.shape, samples.shape, species.shape, expressions.shape]\n",
    "]\n",
    ")"
   ]
  },
  {
   "cell_type": "code",
   "execution_count": 9,
   "metadata": {},
   "outputs": [
    {
     "data": {
      "text/plain": [
       "array([ True,  True,  True, ...,  True,  True,  True])"
      ]
     },
     "execution_count": 9,
     "metadata": {},
     "output_type": "execute_result"
    }
   ],
   "source": [
    "expressions.columns == genes.index"
   ]
  },
  {
   "cell_type": "code",
   "execution_count": 10,
   "metadata": {},
   "outputs": [
    {
     "data": {
      "text/plain": [
       "<yspecies.dataset.Dataset at 0x7ff212188dd0>"
      ]
     },
     "execution_count": 10,
     "metadata": {},
     "output_type": "execute_result"
    }
   ],
   "source": [
    "d = Dataset(\"selected_species\", expressions, genes, samples)\n",
    "d"
   ]
  },
  {
   "cell_type": "code",
   "execution_count": null,
   "metadata": {},
   "outputs": [],
   "source": [
    "d."
   ]
  }
 ],
 "metadata": {
  "kernelspec": {
   "display_name": "Python 3",
   "language": "python",
   "name": "python3"
  },
  "language_info": {
   "codemirror_mode": {
    "name": "ipython",
    "version": 3
   },
   "file_extension": ".py",
   "mimetype": "text/x-python",
   "name": "python",
   "nbconvert_exporter": "python",
   "pygments_lexer": "ipython3",
   "version": "3.7.6"
  }
 },
 "nbformat": 4,
 "nbformat_minor": 4
}
