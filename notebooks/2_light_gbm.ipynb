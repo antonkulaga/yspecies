{
 "cells": [
  {
   "cell_type": "markdown",
   "metadata": {},
   "source": [
    "Load expressions\n",
    "----------------"
   ]
  },
  {
   "cell_type": "markdown",
   "metadata": {},
   "source": [
    "### imports ###"
   ]
  },
  {
   "cell_type": "markdown",
   "metadata": {},
   "source": [
    "A hack to use local version o yspecies for debugging"
   ]
  },
  {
   "cell_type": "markdown",
   "metadata": {},
   "source": [
    "## Parameters cell ##\n",
    "\n",
    "Parameters are overiddent by papermill when run inside DVC stages\n",
    "\n"
   ]
  },
  {
   "cell_type": "code",
   "execution_count": 1,
   "metadata": {},
   "outputs": [],
   "source": [
    "number_of_bootstraps = 5 # this sets global setting of which how many bootstraps to use\n",
    "\n",
    "lgb_params = {\n",
    "    'boosting_type': 'gbdt',\n",
    "    'objective': 'regression',\n",
    "    'metric': {'l2', 'l1'},\n",
    "    'max_leaves': 20,\n",
    "    'max_depth': 3,\n",
    "    'learning_rate': 0.07,\n",
    "    'feature_fraction': 0.8,\n",
    "    'bagging_fraction': 1,\n",
    "    'min_data_in_leaf': 6,\n",
    "    'lambda_l1': 0.9,\n",
    "    'lambda_l2': 0.9,\n",
    "    \"verbose\": -1\n",
    "}\n",
    "\n",
    "debug_local = True #to use local version"
   ]
  },
  {
   "cell_type": "code",
   "execution_count": 2,
   "metadata": {},
   "outputs": [
    {
     "name": "stdout",
     "output_type": "stream",
     "text": [
      "extending pathes with local yspecies\n",
      "['..', '/data/sources/yspecies/notebooks', '/opt/miniconda3/envs/yspecies/lib/python38.zip', '/opt/miniconda3/envs/yspecies/lib/python3.8', '/opt/miniconda3/envs/yspecies/lib/python3.8/lib-dynload', '', '/opt/miniconda3/envs/yspecies/lib/python3.8/site-packages', '/opt/miniconda3/envs/yspecies/lib/python3.8/site-packages/IPython/extensions', '/home/antonkulaga/.ipython']\n"
     ]
    }
   ],
   "source": [
    "from pathlib import Path\n",
    "import sys\n",
    "import inspect\n",
    "\n",
    "local = (Path(\"..\") / \"yspecies\").resolve()\n",
    "if debug_local and local.exists():\n",
    "  sys.path.insert(0, Path(\"..\").as_posix())\n",
    "  #sys.path.insert(0, local.as_posix())\n",
    "  print(\"extending pathes with local yspecies\")\n",
    "  print(sys.path)\n",
    "  %load_ext autoreload\n",
    "  %autoreload 2"
   ]
  },
  {
   "cell_type": "code",
   "execution_count": 3,
   "metadata": {},
   "outputs": [],
   "source": [
    "from typing import *\n",
    "from yspecies.enums import *\n",
    "from yspecies.dataset import *\n",
    "from yspecies.misc import *\n",
    "from yspecies.workflow import *\n",
    "from yspecies.preprocessing import *\n",
    "from yspecies.shap_selection import *"
   ]
  },
  {
   "cell_type": "code",
   "execution_count": 4,
   "metadata": {},
   "outputs": [],
   "source": [
    "from dataclasses import dataclass\n",
    "import numpy as np\n",
    "import pandas as pd\n",
    "import seaborn as sns\n",
    "import matplotlib.pyplot as plt"
   ]
  },
  {
   "cell_type": "code",
   "execution_count": 5,
   "metadata": {},
   "outputs": [],
   "source": [
    "import pandas as pd\n",
    "import shap\n",
    "from pprint import pprint\n",
    "import random\n",
    "import numpy as np\n",
    "import lightgbm as lgb\n",
    "from scipy.stats import kendalltau\n",
    "from sklearn.preprocessing import LabelEncoder, OneHotEncoder\n",
    "from sklearn.utils import resample\n",
    "from sklearn.model_selection import train_test_split, KFold\n",
    "from sklearn.metrics import r2_score, mean_squared_error, mean_absolute_error, accuracy_score, recall_score, precision_score, f1_score"
   ]
  },
  {
   "cell_type": "code",
   "execution_count": 6,
   "metadata": {},
   "outputs": [],
   "source": [
    "#settings\n",
    "pd.set_option('display.max_columns', None)\n",
    "pd.set_option('display.max_rows', None)\n",
    "pd.set_option('display.float_format', lambda x: '%.3f' % x)\n",
    "import pprint\n",
    "pp = pprint.PrettyPrinter(indent=4)"
   ]
  },
  {
   "cell_type": "markdown",
   "metadata": {},
   "source": [
    "### Loading data ###"
   ]
  },
  {
   "cell_type": "code",
   "execution_count": 7,
   "metadata": {},
   "outputs": [],
   "source": [
    "from pathlib import Path\n",
    "locations: Locations = Locations(\"./\") if Path(\"./data\").exists() else Locations(\"../\")"
   ]
  },
  {
   "cell_type": "code",
   "execution_count": 8,
   "metadata": {},
   "outputs": [
    {
     "data": {
      "text/html": [
       "<table border='2'><caption>selected<caption><tr><th>expressions</th><th>genes</th><th>species</th><th>samples</th><th>Genes Metadata</th><th>Species Metadata</th></tr><tr><td>(445, 12243)</td><td>12243</td><td>39</td><td>445</td><td>(67996, 3)</td><td>(40, 18)</td></tr></table>"
      ],
      "text/plain": [
       "<yspecies.dataset.ExpressionDataset at 0x7fb34ac82a30>"
      ]
     },
     "execution_count": 8,
     "metadata": {},
     "output_type": "execute_result"
    }
   ],
   "source": [
    "data = ExpressionDataset.from_folder(locations.interim.selected)\n",
    "data"
   ]
  },
  {
   "cell_type": "code",
   "execution_count": 9,
   "metadata": {},
   "outputs": [],
   "source": [
    "from sklearn.pipeline import Pipeline\n",
    "selection = SelectedFeatures([],[], to_predict = \"lifespan\")\n",
    "pipe = Pipeline([\n",
    "    ('extractor', DataExtractor(selection)), \n",
    "    (\"partitioner\", DataPartitioner()), \n",
    "    (\"shap_computation\", FeatureAnalyzer(ModelFactory()))]\n",
    ")"
   ]
  },
  {
   "cell_type": "code",
   "execution_count": 10,
   "metadata": {},
   "outputs": [
    {
     "name": "stdout",
     "output_type": "stream",
     "text": [
      "Training until validation scores don't improve for 7 rounds\n",
      "Early stopping, best iteration is:\n",
      "[181]\tvalid_0's l1: 1.92832\tvalid_0's l2: 11.964\n"
     ]
    },
    {
     "name": "stderr",
     "output_type": "stream",
     "text": [
      "Setting feature_perturbation = \"tree_path_dependent\" because no background data was given.\n"
     ]
    },
    {
     "name": "stdout",
     "output_type": "stream",
     "text": [
      "Training until validation scores don't improve for 7 rounds\n",
      "Early stopping, best iteration is:\n",
      "[204]\tvalid_0's l1: 1.82941\tvalid_0's l2: 12.1391\n"
     ]
    },
    {
     "name": "stderr",
     "output_type": "stream",
     "text": [
      "Setting feature_perturbation = \"tree_path_dependent\" because no background data was given.\n"
     ]
    },
    {
     "name": "stdout",
     "output_type": "stream",
     "text": [
      "Training until validation scores don't improve for 7 rounds\n",
      "Early stopping, best iteration is:\n",
      "[228]\tvalid_0's l1: 2.44614\tvalid_0's l2: 17.4733\n"
     ]
    },
    {
     "name": "stderr",
     "output_type": "stream",
     "text": [
      "Setting feature_perturbation = \"tree_path_dependent\" because no background data was given.\n"
     ]
    },
    {
     "name": "stdout",
     "output_type": "stream",
     "text": [
      "Training until validation scores don't improve for 7 rounds\n",
      "Early stopping, best iteration is:\n",
      "[209]\tvalid_0's l1: 2.41914\tvalid_0's l2: 19.8966\n"
     ]
    },
    {
     "name": "stderr",
     "output_type": "stream",
     "text": [
      "Setting feature_perturbation = \"tree_path_dependent\" because no background data was given.\n"
     ]
    },
    {
     "name": "stdout",
     "output_type": "stream",
     "text": [
      "Training until validation scores don't improve for 7 rounds\n",
      "Early stopping, best iteration is:\n",
      "[335]\tvalid_0's l1: 2.10674\tvalid_0's l2: 13.204\n"
     ]
    },
    {
     "name": "stderr",
     "output_type": "stream",
     "text": [
      "Setting feature_perturbation = \"tree_path_dependent\" because no background data was given.\n"
     ]
    },
    {
     "name": "stdout",
     "output_type": "stream",
     "text": [
      "MEAN metrics = R^2    0.977\n",
      "MSE   14.935\n",
      "MAE    2.146\n",
      "dtype: float64\n"
     ]
    },
    {
     "data": {
      "text/html": [
       "<table border='2'><caption>Feature selection results<caption><tr><th>weights</th><th>SHAP values</th><th>Metrics</th></tr><tr><td>                ids  gain_score_to_lifespan             name  \\\n",
       "0   ENSG00000242866                 256.330  ENSG00000242866   \n",
       "1   ENSG00000226979                3654.683  ENSG00000226979   \n",
       "2   ENSG00000015475                   5.077  ENSG00000015475   \n",
       "3   ENSG00000060762              106830.922  ENSG00000060762   \n",
       "4   ENSG00000066923               66911.098  ENSG00000066923   \n",
       "5   ENSG00000066926                7477.181  ENSG00000066926   \n",
       "6   ENSG00000073737                   3.359  ENSG00000073737   \n",
       "7   ENSG00000096080                 217.271  ENSG00000096080   \n",
       "8   ENSG00000101182                  41.879  ENSG00000101182   \n",
       "9   ENSG00000101353                 643.524  ENSG00000101353   \n",
       "10  ENSG00000106066                 953.529  ENSG00000106066   \n",
       "11  ENSG00000106682                6795.089  ENSG00000106682   \n",
       "12  ENSG00000117151                6365.475  ENSG00000117151   \n",
       "13  ENSG00000122034                9038.976  ENSG00000122034   \n",
       "14  ENSG00000129187                4623.394  ENSG00000129187   \n",
       "15  ENSG00000131475                  28.160  ENSG00000131475   \n",
       "16  ENSG00000138615                  30.141  ENSG00000138615   \n",
       "17  ENSG00000142002                1928.958  ENSG00000142002   \n",
       "18  ENSG00000152705                3016.753  ENSG00000152705   \n",
       "19  ENSG00000156467                4154.487  ENSG00000156467   \n",
       "20  ENSG00000157045                3433.333  ENSG00000157045   \n",
       "21  ENSG00000163666                2152.743  ENSG00000163666   \n",
       "22  ENSG00000164045                 729.802  ENSG00000164045   \n",
       "23  ENSG00000165501                 598.754  ENSG00000165501   \n",
       "24  ENSG00000165555                 454.861  ENSG00000165555   \n",
       "25  ENSG00000165689                1851.160  ENSG00000165689   \n",
       "26  ENSG00000165917                 143.141  ENSG00000165917   \n",
       "27  ENSG00000167515              121885.874  ENSG00000167515   \n",
       "28  ENSG00000168060                 276.348  ENSG00000168060   \n",
       "29  ENSG00000175854              273656.137  ENSG00000175854   \n",
       "30  ENSG00000176894                7919.762  ENSG00000176894   \n",
       "31  ENSG00000213139                 942.406  ENSG00000213139   \n",
       "32  ENSG00000276293              763712.683  ENSG00000276293   \n",
       "33  ENSG00000083896              231061.620  ENSG00000083896   \n",
       "34  ENSG00000148248               16510.143  ENSG00000148248   \n",
       "\n",
       "    kendall_tau_to_lifespan  \n",
       "0                     0.656  \n",
       "1                     0.390  \n",
       "2                     0.244  \n",
       "3                    -0.239  \n",
       "4                     0.542  \n",
       "5                    -0.486  \n",
       "6                     0.570  \n",
       "7                    -0.541  \n",
       "8                    -0.446  \n",
       "9                     0.746  \n",
       "10                    0.591  \n",
       "11                   -0.103  \n",
       "12                   -0.511  \n",
       "13                    0.565  \n",
       "14                    0.656  \n",
       "15                   -0.806  \n",
       "16                   -0.253  \n",
       "17                   -0.449  \n",
       "18                    0.502  \n",
       "19                    0.464  \n",
       "20                   -0.463  \n",
       "21                    0.590  \n",
       "22                   -0.685  \n",
       "23                    0.607  \n",
       "24                    0.782  \n",
       "25                   -0.705  \n",
       "26                   -0.546  \n",
       "27                   -0.135  \n",
       "28                    0.571  \n",
       "29                   -0.651  \n",
       "30                   -0.390  \n",
       "31                    0.662  \n",
       "32                    0.011  \n",
       "33                    0.066  \n",
       "34                    0.044  </th><td>[[0. 0. 0. ... 0. 0. 0.]\n",
       " [0. 0. 0. ... 0. 0. 0.]\n",
       " [0. 0. 0. ... 0. 0. 0.]\n",
       " ...\n",
       " [0. 0. 0. ... 0. 0. 0.]\n",
       " [0. 0. 0. ... 0. 0. 0.]\n",
       " [0. 0. 0. ... 0. 0. 0.]]</th><th>    R^2    MSE   MAE\n",
       "0 0.980 11.964 1.928\n",
       "1 0.979 12.139 1.829\n",
       "2 0.974 17.473 2.446\n",
       "3 0.970 19.897 2.419\n",
       "4 0.980 13.204 2.107</th></tr></table>"
      ],
      "text/plain": [
       "FeatureResults(weighted_features=                ids  gain_score_to_lifespan             name  \\\n",
       "0   ENSG00000242866                 256.330  ENSG00000242866   \n",
       "1   ENSG00000226979                3654.683  ENSG00000226979   \n",
       "2   ENSG00000015475                   5.077  ENSG00000015475   \n",
       "3   ENSG00000060762              106830.922  ENSG00000060762   \n",
       "4   ENSG00000066923               66911.098  ENSG00000066923   \n",
       "5   ENSG00000066926                7477.181  ENSG00000066926   \n",
       "6   ENSG00000073737                   3.359  ENSG00000073737   \n",
       "7   ENSG00000096080                 217.271  ENSG00000096080   \n",
       "8   ENSG00000101182                  41.879  ENSG00000101182   \n",
       "9   ENSG00000101353                 643.524  ENSG00000101353   \n",
       "10  ENSG00000106066                 953.529  ENSG00000106066   \n",
       "11  ENSG00000106682                6795.089  ENSG00000106682   \n",
       "12  ENSG00000117151                6365.475  ENSG00000117151   \n",
       "13  ENSG00000122034                9038.976  ENSG00000122034   \n",
       "14  ENSG00000129187                4623.394  ENSG00000129187   \n",
       "15  ENSG00000131475                  28.160  ENSG00000131475   \n",
       "16  ENSG00000138615                  30.141  ENSG00000138615   \n",
       "17  ENSG00000142002                1928.958  ENSG00000142002   \n",
       "18  ENSG00000152705                3016.753  ENSG00000152705   \n",
       "19  ENSG00000156467                4154.487  ENSG00000156467   \n",
       "20  ENSG00000157045                3433.333  ENSG00000157045   \n",
       "21  ENSG00000163666                2152.743  ENSG00000163666   \n",
       "22  ENSG00000164045                 729.802  ENSG00000164045   \n",
       "23  ENSG00000165501                 598.754  ENSG00000165501   \n",
       "24  ENSG00000165555                 454.861  ENSG00000165555   \n",
       "25  ENSG00000165689                1851.160  ENSG00000165689   \n",
       "26  ENSG00000165917                 143.141  ENSG00000165917   \n",
       "27  ENSG00000167515              121885.874  ENSG00000167515   \n",
       "28  ENSG00000168060                 276.348  ENSG00000168060   \n",
       "29  ENSG00000175854              273656.137  ENSG00000175854   \n",
       "30  ENSG00000176894                7919.762  ENSG00000176894   \n",
       "31  ENSG00000213139                 942.406  ENSG00000213139   \n",
       "32  ENSG00000276293              763712.683  ENSG00000276293   \n",
       "33  ENSG00000083896              231061.620  ENSG00000083896   \n",
       "34  ENSG00000148248               16510.143  ENSG00000148248   \n",
       "\n",
       "    kendall_tau_to_lifespan  \n",
       "0                     0.656  \n",
       "1                     0.390  \n",
       "2                     0.244  \n",
       "3                    -0.239  \n",
       "4                     0.542  \n",
       "5                    -0.486  \n",
       "6                     0.570  \n",
       "7                    -0.541  \n",
       "8                    -0.446  \n",
       "9                     0.746  \n",
       "10                    0.591  \n",
       "11                   -0.103  \n",
       "12                   -0.511  \n",
       "13                    0.565  \n",
       "14                    0.656  \n",
       "15                   -0.806  \n",
       "16                   -0.253  \n",
       "17                   -0.449  \n",
       "18                    0.502  \n",
       "19                    0.464  \n",
       "20                   -0.463  \n",
       "21                    0.590  \n",
       "22                   -0.685  \n",
       "23                    0.607  \n",
       "24                    0.782  \n",
       "25                   -0.705  \n",
       "26                   -0.546  \n",
       "27                   -0.135  \n",
       "28                    0.571  \n",
       "29                   -0.651  \n",
       "30                   -0.390  \n",
       "31                    0.662  \n",
       "32                    0.011  \n",
       "33                    0.066  \n",
       "34                    0.044  , stable_shap_values=array([[0., 0., 0., ..., 0., 0., 0.],\n",
       "       [0., 0., 0., ..., 0., 0., 0.],\n",
       "       [0., 0., 0., ..., 0., 0., 0.],\n",
       "       ...,\n",
       "       [0., 0., 0., ..., 0., 0., 0.],\n",
       "       [0., 0., 0., ..., 0., 0., 0.],\n",
       "       [0., 0., 0., ..., 0., 0., 0.]]), metrics=    R^2    MSE   MAE\n",
       "0 0.980 11.964 1.928\n",
       "1 0.979 12.139 1.829\n",
       "2 0.974 17.473 2.446\n",
       "3 0.970 19.897 2.419\n",
       "4 0.980 13.204 2.107)"
      ]
     },
     "execution_count": 10,
     "metadata": {},
     "output_type": "execute_result"
    }
   ],
   "source": [
    "d = pipe.fit_transform(data)\n",
    "d"
   ]
  },
  {
   "cell_type": "code",
   "execution_count": 11,
   "metadata": {},
   "outputs": [
    {
     "data": {
      "text/html": [
       "<div>\n",
       "<style scoped>\n",
       "    .dataframe tbody tr th:only-of-type {\n",
       "        vertical-align: middle;\n",
       "    }\n",
       "\n",
       "    .dataframe tbody tr th {\n",
       "        vertical-align: top;\n",
       "    }\n",
       "\n",
       "    .dataframe thead th {\n",
       "        text-align: right;\n",
       "    }\n",
       "</style>\n",
       "<table border=\"1\" class=\"dataframe\">\n",
       "  <thead>\n",
       "    <tr style=\"text-align: right;\">\n",
       "      <th></th>\n",
       "      <th>ids</th>\n",
       "      <th>gain_score_to_lifespan</th>\n",
       "      <th>name</th>\n",
       "      <th>kendall_tau_to_lifespan</th>\n",
       "    </tr>\n",
       "  </thead>\n",
       "  <tbody>\n",
       "    <tr>\n",
       "      <th>0</th>\n",
       "      <td>ENSG00000242866</td>\n",
       "      <td>256.330</td>\n",
       "      <td>ENSG00000242866</td>\n",
       "      <td>0.656</td>\n",
       "    </tr>\n",
       "    <tr>\n",
       "      <th>1</th>\n",
       "      <td>ENSG00000226979</td>\n",
       "      <td>3654.683</td>\n",
       "      <td>ENSG00000226979</td>\n",
       "      <td>0.390</td>\n",
       "    </tr>\n",
       "    <tr>\n",
       "      <th>2</th>\n",
       "      <td>ENSG00000015475</td>\n",
       "      <td>5.077</td>\n",
       "      <td>ENSG00000015475</td>\n",
       "      <td>0.244</td>\n",
       "    </tr>\n",
       "    <tr>\n",
       "      <th>3</th>\n",
       "      <td>ENSG00000060762</td>\n",
       "      <td>106830.922</td>\n",
       "      <td>ENSG00000060762</td>\n",
       "      <td>-0.239</td>\n",
       "    </tr>\n",
       "    <tr>\n",
       "      <th>4</th>\n",
       "      <td>ENSG00000066923</td>\n",
       "      <td>66911.098</td>\n",
       "      <td>ENSG00000066923</td>\n",
       "      <td>0.542</td>\n",
       "    </tr>\n",
       "    <tr>\n",
       "      <th>5</th>\n",
       "      <td>ENSG00000066926</td>\n",
       "      <td>7477.181</td>\n",
       "      <td>ENSG00000066926</td>\n",
       "      <td>-0.486</td>\n",
       "    </tr>\n",
       "    <tr>\n",
       "      <th>6</th>\n",
       "      <td>ENSG00000073737</td>\n",
       "      <td>3.359</td>\n",
       "      <td>ENSG00000073737</td>\n",
       "      <td>0.570</td>\n",
       "    </tr>\n",
       "    <tr>\n",
       "      <th>7</th>\n",
       "      <td>ENSG00000096080</td>\n",
       "      <td>217.271</td>\n",
       "      <td>ENSG00000096080</td>\n",
       "      <td>-0.541</td>\n",
       "    </tr>\n",
       "    <tr>\n",
       "      <th>8</th>\n",
       "      <td>ENSG00000101182</td>\n",
       "      <td>41.879</td>\n",
       "      <td>ENSG00000101182</td>\n",
       "      <td>-0.446</td>\n",
       "    </tr>\n",
       "    <tr>\n",
       "      <th>9</th>\n",
       "      <td>ENSG00000101353</td>\n",
       "      <td>643.524</td>\n",
       "      <td>ENSG00000101353</td>\n",
       "      <td>0.746</td>\n",
       "    </tr>\n",
       "    <tr>\n",
       "      <th>10</th>\n",
       "      <td>ENSG00000106066</td>\n",
       "      <td>953.529</td>\n",
       "      <td>ENSG00000106066</td>\n",
       "      <td>0.591</td>\n",
       "    </tr>\n",
       "    <tr>\n",
       "      <th>11</th>\n",
       "      <td>ENSG00000106682</td>\n",
       "      <td>6795.089</td>\n",
       "      <td>ENSG00000106682</td>\n",
       "      <td>-0.103</td>\n",
       "    </tr>\n",
       "    <tr>\n",
       "      <th>12</th>\n",
       "      <td>ENSG00000117151</td>\n",
       "      <td>6365.475</td>\n",
       "      <td>ENSG00000117151</td>\n",
       "      <td>-0.511</td>\n",
       "    </tr>\n",
       "    <tr>\n",
       "      <th>13</th>\n",
       "      <td>ENSG00000122034</td>\n",
       "      <td>9038.976</td>\n",
       "      <td>ENSG00000122034</td>\n",
       "      <td>0.565</td>\n",
       "    </tr>\n",
       "    <tr>\n",
       "      <th>14</th>\n",
       "      <td>ENSG00000129187</td>\n",
       "      <td>4623.394</td>\n",
       "      <td>ENSG00000129187</td>\n",
       "      <td>0.656</td>\n",
       "    </tr>\n",
       "    <tr>\n",
       "      <th>15</th>\n",
       "      <td>ENSG00000131475</td>\n",
       "      <td>28.160</td>\n",
       "      <td>ENSG00000131475</td>\n",
       "      <td>-0.806</td>\n",
       "    </tr>\n",
       "    <tr>\n",
       "      <th>16</th>\n",
       "      <td>ENSG00000138615</td>\n",
       "      <td>30.141</td>\n",
       "      <td>ENSG00000138615</td>\n",
       "      <td>-0.253</td>\n",
       "    </tr>\n",
       "    <tr>\n",
       "      <th>17</th>\n",
       "      <td>ENSG00000142002</td>\n",
       "      <td>1928.958</td>\n",
       "      <td>ENSG00000142002</td>\n",
       "      <td>-0.449</td>\n",
       "    </tr>\n",
       "    <tr>\n",
       "      <th>18</th>\n",
       "      <td>ENSG00000152705</td>\n",
       "      <td>3016.753</td>\n",
       "      <td>ENSG00000152705</td>\n",
       "      <td>0.502</td>\n",
       "    </tr>\n",
       "    <tr>\n",
       "      <th>19</th>\n",
       "      <td>ENSG00000156467</td>\n",
       "      <td>4154.487</td>\n",
       "      <td>ENSG00000156467</td>\n",
       "      <td>0.464</td>\n",
       "    </tr>\n",
       "    <tr>\n",
       "      <th>20</th>\n",
       "      <td>ENSG00000157045</td>\n",
       "      <td>3433.333</td>\n",
       "      <td>ENSG00000157045</td>\n",
       "      <td>-0.463</td>\n",
       "    </tr>\n",
       "    <tr>\n",
       "      <th>21</th>\n",
       "      <td>ENSG00000163666</td>\n",
       "      <td>2152.743</td>\n",
       "      <td>ENSG00000163666</td>\n",
       "      <td>0.590</td>\n",
       "    </tr>\n",
       "    <tr>\n",
       "      <th>22</th>\n",
       "      <td>ENSG00000164045</td>\n",
       "      <td>729.802</td>\n",
       "      <td>ENSG00000164045</td>\n",
       "      <td>-0.685</td>\n",
       "    </tr>\n",
       "    <tr>\n",
       "      <th>23</th>\n",
       "      <td>ENSG00000165501</td>\n",
       "      <td>598.754</td>\n",
       "      <td>ENSG00000165501</td>\n",
       "      <td>0.607</td>\n",
       "    </tr>\n",
       "    <tr>\n",
       "      <th>24</th>\n",
       "      <td>ENSG00000165555</td>\n",
       "      <td>454.861</td>\n",
       "      <td>ENSG00000165555</td>\n",
       "      <td>0.782</td>\n",
       "    </tr>\n",
       "    <tr>\n",
       "      <th>25</th>\n",
       "      <td>ENSG00000165689</td>\n",
       "      <td>1851.160</td>\n",
       "      <td>ENSG00000165689</td>\n",
       "      <td>-0.705</td>\n",
       "    </tr>\n",
       "    <tr>\n",
       "      <th>26</th>\n",
       "      <td>ENSG00000165917</td>\n",
       "      <td>143.141</td>\n",
       "      <td>ENSG00000165917</td>\n",
       "      <td>-0.546</td>\n",
       "    </tr>\n",
       "    <tr>\n",
       "      <th>27</th>\n",
       "      <td>ENSG00000167515</td>\n",
       "      <td>121885.874</td>\n",
       "      <td>ENSG00000167515</td>\n",
       "      <td>-0.135</td>\n",
       "    </tr>\n",
       "    <tr>\n",
       "      <th>28</th>\n",
       "      <td>ENSG00000168060</td>\n",
       "      <td>276.348</td>\n",
       "      <td>ENSG00000168060</td>\n",
       "      <td>0.571</td>\n",
       "    </tr>\n",
       "    <tr>\n",
       "      <th>29</th>\n",
       "      <td>ENSG00000175854</td>\n",
       "      <td>273656.137</td>\n",
       "      <td>ENSG00000175854</td>\n",
       "      <td>-0.651</td>\n",
       "    </tr>\n",
       "    <tr>\n",
       "      <th>30</th>\n",
       "      <td>ENSG00000176894</td>\n",
       "      <td>7919.762</td>\n",
       "      <td>ENSG00000176894</td>\n",
       "      <td>-0.390</td>\n",
       "    </tr>\n",
       "    <tr>\n",
       "      <th>31</th>\n",
       "      <td>ENSG00000213139</td>\n",
       "      <td>942.406</td>\n",
       "      <td>ENSG00000213139</td>\n",
       "      <td>0.662</td>\n",
       "    </tr>\n",
       "    <tr>\n",
       "      <th>32</th>\n",
       "      <td>ENSG00000276293</td>\n",
       "      <td>763712.683</td>\n",
       "      <td>ENSG00000276293</td>\n",
       "      <td>0.011</td>\n",
       "    </tr>\n",
       "    <tr>\n",
       "      <th>33</th>\n",
       "      <td>ENSG00000083896</td>\n",
       "      <td>231061.620</td>\n",
       "      <td>ENSG00000083896</td>\n",
       "      <td>0.066</td>\n",
       "    </tr>\n",
       "    <tr>\n",
       "      <th>34</th>\n",
       "      <td>ENSG00000148248</td>\n",
       "      <td>16510.143</td>\n",
       "      <td>ENSG00000148248</td>\n",
       "      <td>0.044</td>\n",
       "    </tr>\n",
       "  </tbody>\n",
       "</table>\n",
       "</div>"
      ],
      "text/plain": [
       "                ids  gain_score_to_lifespan             name  \\\n",
       "0   ENSG00000242866                 256.330  ENSG00000242866   \n",
       "1   ENSG00000226979                3654.683  ENSG00000226979   \n",
       "2   ENSG00000015475                   5.077  ENSG00000015475   \n",
       "3   ENSG00000060762              106830.922  ENSG00000060762   \n",
       "4   ENSG00000066923               66911.098  ENSG00000066923   \n",
       "5   ENSG00000066926                7477.181  ENSG00000066926   \n",
       "6   ENSG00000073737                   3.359  ENSG00000073737   \n",
       "7   ENSG00000096080                 217.271  ENSG00000096080   \n",
       "8   ENSG00000101182                  41.879  ENSG00000101182   \n",
       "9   ENSG00000101353                 643.524  ENSG00000101353   \n",
       "10  ENSG00000106066                 953.529  ENSG00000106066   \n",
       "11  ENSG00000106682                6795.089  ENSG00000106682   \n",
       "12  ENSG00000117151                6365.475  ENSG00000117151   \n",
       "13  ENSG00000122034                9038.976  ENSG00000122034   \n",
       "14  ENSG00000129187                4623.394  ENSG00000129187   \n",
       "15  ENSG00000131475                  28.160  ENSG00000131475   \n",
       "16  ENSG00000138615                  30.141  ENSG00000138615   \n",
       "17  ENSG00000142002                1928.958  ENSG00000142002   \n",
       "18  ENSG00000152705                3016.753  ENSG00000152705   \n",
       "19  ENSG00000156467                4154.487  ENSG00000156467   \n",
       "20  ENSG00000157045                3433.333  ENSG00000157045   \n",
       "21  ENSG00000163666                2152.743  ENSG00000163666   \n",
       "22  ENSG00000164045                 729.802  ENSG00000164045   \n",
       "23  ENSG00000165501                 598.754  ENSG00000165501   \n",
       "24  ENSG00000165555                 454.861  ENSG00000165555   \n",
       "25  ENSG00000165689                1851.160  ENSG00000165689   \n",
       "26  ENSG00000165917                 143.141  ENSG00000165917   \n",
       "27  ENSG00000167515              121885.874  ENSG00000167515   \n",
       "28  ENSG00000168060                 276.348  ENSG00000168060   \n",
       "29  ENSG00000175854              273656.137  ENSG00000175854   \n",
       "30  ENSG00000176894                7919.762  ENSG00000176894   \n",
       "31  ENSG00000213139                 942.406  ENSG00000213139   \n",
       "32  ENSG00000276293              763712.683  ENSG00000276293   \n",
       "33  ENSG00000083896              231061.620  ENSG00000083896   \n",
       "34  ENSG00000148248               16510.143  ENSG00000148248   \n",
       "\n",
       "    kendall_tau_to_lifespan  \n",
       "0                     0.656  \n",
       "1                     0.390  \n",
       "2                     0.244  \n",
       "3                    -0.239  \n",
       "4                     0.542  \n",
       "5                    -0.486  \n",
       "6                     0.570  \n",
       "7                    -0.541  \n",
       "8                    -0.446  \n",
       "9                     0.746  \n",
       "10                    0.591  \n",
       "11                   -0.103  \n",
       "12                   -0.511  \n",
       "13                    0.565  \n",
       "14                    0.656  \n",
       "15                   -0.806  \n",
       "16                   -0.253  \n",
       "17                   -0.449  \n",
       "18                    0.502  \n",
       "19                    0.464  \n",
       "20                   -0.463  \n",
       "21                    0.590  \n",
       "22                   -0.685  \n",
       "23                    0.607  \n",
       "24                    0.782  \n",
       "25                   -0.705  \n",
       "26                   -0.546  \n",
       "27                   -0.135  \n",
       "28                    0.571  \n",
       "29                   -0.651  \n",
       "30                   -0.390  \n",
       "31                    0.662  \n",
       "32                    0.011  \n",
       "33                    0.066  \n",
       "34                    0.044  "
      ]
     },
     "execution_count": 11,
     "metadata": {},
     "output_type": "execute_result"
    }
   ],
   "source": [
    "d.weighted_features"
   ]
  },
  {
   "cell_type": "code",
   "execution_count": 15,
   "metadata": {},
   "outputs": [
    {
     "data": {
      "text/html": [
       "<div>\n",
       "<style scoped>\n",
       "    .dataframe tbody tr th:only-of-type {\n",
       "        vertical-align: middle;\n",
       "    }\n",
       "\n",
       "    .dataframe tbody tr th {\n",
       "        vertical-align: top;\n",
       "    }\n",
       "\n",
       "    .dataframe thead th {\n",
       "        text-align: right;\n",
       "    }\n",
       "</style>\n",
       "<table border=\"1\" class=\"dataframe\">\n",
       "  <thead>\n",
       "    <tr style=\"text-align: right;\">\n",
       "      <th></th>\n",
       "      <th>Unnamed: 0</th>\n",
       "      <th>species</th>\n",
       "      <th>symbol</th>\n",
       "    </tr>\n",
       "    <tr>\n",
       "      <th>gene</th>\n",
       "      <th></th>\n",
       "      <th></th>\n",
       "      <th></th>\n",
       "    </tr>\n",
       "  </thead>\n",
       "  <tbody>\n",
       "    <tr>\n",
       "      <th>ENSG00000242265</th>\n",
       "      <td>0</td>\n",
       "      <td>Homo_sapiens</td>\n",
       "      <td>PEG10</td>\n",
       "    </tr>\n",
       "    <tr>\n",
       "      <th>ENSG00000139990</th>\n",
       "      <td>1</td>\n",
       "      <td>Homo_sapiens</td>\n",
       "      <td>DCAF5</td>\n",
       "    </tr>\n",
       "    <tr>\n",
       "      <th>ENSG00000073921</th>\n",
       "      <td>2</td>\n",
       "      <td>Homo_sapiens</td>\n",
       "      <td>PICALM</td>\n",
       "    </tr>\n",
       "  </tbody>\n",
       "</table>\n",
       "</div>"
      ],
      "text/plain": [
       "                 Unnamed: 0       species  symbol\n",
       "gene                                             \n",
       "ENSG00000242265           0  Homo_sapiens   PEG10\n",
       "ENSG00000139990           1  Homo_sapiens   DCAF5\n",
       "ENSG00000073921           2  Homo_sapiens  PICALM"
      ]
     },
     "execution_count": 15,
     "metadata": {},
     "output_type": "execute_result"
    }
   ],
   "source": [
    "show(data.genes_meta, 10)"
   ]
  },
  {
   "cell_type": "code",
   "execution_count": 18,
   "metadata": {},
   "outputs": [
    {
     "data": {
      "text/html": [
       "<div>\n",
       "<style scoped>\n",
       "    .dataframe tbody tr th:only-of-type {\n",
       "        vertical-align: middle;\n",
       "    }\n",
       "\n",
       "    .dataframe tbody tr th {\n",
       "        vertical-align: top;\n",
       "    }\n",
       "\n",
       "    .dataframe thead th {\n",
       "        text-align: right;\n",
       "    }\n",
       "</style>\n",
       "<table border=\"1\" class=\"dataframe\">\n",
       "  <thead>\n",
       "    <tr style=\"text-align: right;\">\n",
       "      <th></th>\n",
       "      <th>R^2</th>\n",
       "      <th>MSE</th>\n",
       "      <th>MAE</th>\n",
       "    </tr>\n",
       "  </thead>\n",
       "  <tbody>\n",
       "    <tr>\n",
       "      <th>0</th>\n",
       "      <td>0.980</td>\n",
       "      <td>11.964</td>\n",
       "      <td>1.928</td>\n",
       "    </tr>\n",
       "    <tr>\n",
       "      <th>1</th>\n",
       "      <td>0.979</td>\n",
       "      <td>12.139</td>\n",
       "      <td>1.829</td>\n",
       "    </tr>\n",
       "    <tr>\n",
       "      <th>2</th>\n",
       "      <td>0.974</td>\n",
       "      <td>17.473</td>\n",
       "      <td>2.446</td>\n",
       "    </tr>\n",
       "    <tr>\n",
       "      <th>3</th>\n",
       "      <td>0.970</td>\n",
       "      <td>19.897</td>\n",
       "      <td>2.419</td>\n",
       "    </tr>\n",
       "    <tr>\n",
       "      <th>4</th>\n",
       "      <td>0.980</td>\n",
       "      <td>13.204</td>\n",
       "      <td>2.107</td>\n",
       "    </tr>\n",
       "  </tbody>\n",
       "</table>\n",
       "</div>"
      ],
      "text/plain": [
       "    R^2    MSE   MAE\n",
       "0 0.980 11.964 1.928\n",
       "1 0.979 12.139 1.829\n",
       "2 0.974 17.473 2.446\n",
       "3 0.970 19.897 2.419\n",
       "4 0.980 13.204 2.107"
      ]
     },
     "execution_count": 18,
     "metadata": {},
     "output_type": "execute_result"
    }
   ],
   "source": [
    "d.stable_shap_values"
   ]
  },
  {
   "cell_type": "code",
   "execution_count": 2,
   "metadata": {},
   "outputs": [
    {
     "ename": "NameError",
     "evalue": "name 'pd' is not defined",
     "output_type": "error",
     "traceback": [
      "\u001b[0;31m---------------------------------------------------------------------------\u001b[0m",
      "\u001b[0;31mNameError\u001b[0m                                 Traceback (most recent call last)",
      "\u001b[0;32m<ipython-input-2-61ef303ccb23>\u001b[0m in \u001b[0;36m<module>\u001b[0;34m\u001b[0m\n\u001b[0;32m----> 1\u001b[0;31m \u001b[0mmetrics\u001b[0m \u001b[0;34m=\u001b[0m \u001b[0mpd\u001b[0m\u001b[0;34m.\u001b[0m\u001b[0mDataFrame\u001b[0m\u001b[0;34m(\u001b[0m\u001b[0mnp\u001b[0m\u001b[0;34m.\u001b[0m\u001b[0mzeros\u001b[0m\u001b[0;34m(\u001b[0m\u001b[0;34m[\u001b[0m\u001b[0;36m10\u001b[0m\u001b[0;34m,\u001b[0m\u001b[0;36m3\u001b[0m\u001b[0;34m]\u001b[0m\u001b[0;34m)\u001b[0m\u001b[0;34m,\u001b[0m \u001b[0mcolumns\u001b[0m\u001b[0;34m=\u001b[0m\u001b[0;34m[\u001b[0m\u001b[0;34m\"R^2\"\u001b[0m\u001b[0;34m,\u001b[0m \u001b[0;34m\"MSE\"\u001b[0m\u001b[0;34m,\u001b[0m \u001b[0;34m\"MAE\"\u001b[0m\u001b[0;34m]\u001b[0m\u001b[0;34m)\u001b[0m\u001b[0;34m\u001b[0m\u001b[0;34m\u001b[0m\u001b[0m\n\u001b[0m\u001b[1;32m      2\u001b[0m \u001b[0mmetrics\u001b[0m\u001b[0;34m\u001b[0m\u001b[0;34m\u001b[0m\u001b[0m\n",
      "\u001b[0;31mNameError\u001b[0m: name 'pd' is not defined"
     ]
    }
   ],
   "source": [
    "metrics = pd.DataFrame(np.zeros([10,3]), columns=[\"R^2\", \"MSE\", \"MAE\"])\n",
    "metrics"
   ]
  },
  {
   "cell_type": "code",
   "execution_count": 3,
   "metadata": {},
   "outputs": [
    {
     "ename": "NameError",
     "evalue": "name 'np' is not defined",
     "output_type": "error",
     "traceback": [
      "\u001b[0;31m---------------------------------------------------------------------------\u001b[0m",
      "\u001b[0;31mNameError\u001b[0m                                 Traceback (most recent call last)",
      "\u001b[0;32m<ipython-input-3-386709b68881>\u001b[0m in \u001b[0;36m<module>\u001b[0;34m\u001b[0m\n\u001b[0;32m----> 1\u001b[0;31m \u001b[0mmetrics\u001b[0m\u001b[0;34m.\u001b[0m\u001b[0miloc\u001b[0m\u001b[0;34m[\u001b[0m\u001b[0;36m4\u001b[0m\u001b[0;34m]\u001b[0m \u001b[0;34m=\u001b[0m \u001b[0mnp\u001b[0m\u001b[0;34m.\u001b[0m\u001b[0marray\u001b[0m\u001b[0;34m(\u001b[0m\u001b[0;34m[\u001b[0m\u001b[0;36m40\u001b[0m\u001b[0;34m,\u001b[0m\u001b[0;36m40\u001b[0m\u001b[0;34m,\u001b[0m\u001b[0;36m40\u001b[0m\u001b[0;34m]\u001b[0m\u001b[0;34m)\u001b[0m\u001b[0;34m\u001b[0m\u001b[0;34m\u001b[0m\u001b[0m\n\u001b[0m\u001b[1;32m      2\u001b[0m \u001b[0mmetrics\u001b[0m\u001b[0;34m\u001b[0m\u001b[0;34m\u001b[0m\u001b[0m\n",
      "\u001b[0;31mNameError\u001b[0m: name 'np' is not defined"
     ]
    }
   ],
   "source": [
    "metrics.iloc[4] = np.array([40,40,40])\n",
    "metrics"
   ]
  },
  {
   "cell_type": "code",
   "execution_count": 4,
   "metadata": {},
   "outputs": [
    {
     "ename": "ModuleNotFoundError",
     "evalue": "No module named 'yspecies'",
     "output_type": "error",
     "traceback": [
      "\u001b[0;31m---------------------------------------------------------------------------\u001b[0m",
      "\u001b[0;31mModuleNotFoundError\u001b[0m                       Traceback (most recent call last)",
      "\u001b[0;32m<ipython-input-4-7922f1f35b97>\u001b[0m in \u001b[0;36m<module>\u001b[0;34m\u001b[0m\n\u001b[0;32m----> 1\u001b[0;31m \u001b[0;32mfrom\u001b[0m \u001b[0myspecies\u001b[0m\u001b[0;34m.\u001b[0m\u001b[0mshap_selection\u001b[0m \u001b[0;32mimport\u001b[0m \u001b[0;34m*\u001b[0m\u001b[0;34m\u001b[0m\u001b[0;34m\u001b[0m\u001b[0m\n\u001b[0m\u001b[1;32m      2\u001b[0m \u001b[0mpartitioner\u001b[0m \u001b[0;34m=\u001b[0m \u001b[0mDataPartitioner\u001b[0m\u001b[0;34m(\u001b[0m\u001b[0mSelectedFeatures\u001b[0m\u001b[0;34m(\u001b[0m\u001b[0;34m[\u001b[0m\u001b[0;34m]\u001b[0m\u001b[0;34m,\u001b[0m\u001b[0;34m[\u001b[0m\u001b[0;34m]\u001b[0m\u001b[0;34m,\u001b[0m \u001b[0mto_predict\u001b[0m \u001b[0;34m=\u001b[0m \u001b[0;34m\"lifespan\"\u001b[0m\u001b[0;34m)\u001b[0m\u001b[0;34m)\u001b[0m\u001b[0;34m\u001b[0m\u001b[0;34m\u001b[0m\u001b[0m\n\u001b[1;32m      3\u001b[0m \u001b[0mfactory\u001b[0m \u001b[0;34m=\u001b[0m  \u001b[0mModelFactory\u001b[0m\u001b[0;34m(\u001b[0m\u001b[0;34m)\u001b[0m\u001b[0;34m\u001b[0m\u001b[0;34m\u001b[0m\u001b[0m\n",
      "\u001b[0;31mModuleNotFoundError\u001b[0m: No module named 'yspecies'"
     ]
    }
   ],
   "source": [
    "from yspecies.shap_selection import *\n",
    "partitioner = DataPartitioner(SelectedFeatures([],[], to_predict = \"lifespan\"))\n",
    "factory =  ModelFactory()"
   ]
  },
  {
   "cell_type": "code",
   "execution_count": 12,
   "metadata": {},
   "outputs": [
    {
     "ename": "NameError",
     "evalue": "name 'partitions' is not defined",
     "output_type": "error",
     "traceback": [
      "\u001b[0;31m---------------------------------------------------------------------------\u001b[0m",
      "\u001b[0;31mNameError\u001b[0m                                 Traceback (most recent call last)",
      "\u001b[0;32m<ipython-input-12-a37b3a0c6c22>\u001b[0m in \u001b[0;36m<module>\u001b[0;34m\u001b[0m\n\u001b[1;32m      1\u001b[0m \u001b[0mi\u001b[0m \u001b[0;34m=\u001b[0m \u001b[0;36m0\u001b[0m\u001b[0;34m\u001b[0m\u001b[0;34m\u001b[0m\u001b[0m\n\u001b[0;32m----> 2\u001b[0;31m \u001b[0;32mfor\u001b[0m \u001b[0mj\u001b[0m \u001b[0;32min\u001b[0m \u001b[0mrange\u001b[0m\u001b[0;34m(\u001b[0m\u001b[0;36m0\u001b[0m\u001b[0;34m,\u001b[0m \u001b[0mlen\u001b[0m\u001b[0;34m(\u001b[0m\u001b[0mpartitions\u001b[0m\u001b[0;34m.\u001b[0m\u001b[0mx_partitions\u001b[0m\u001b[0;34m)\u001b[0m\u001b[0;34m)\u001b[0m\u001b[0;34m:\u001b[0m\u001b[0;34m\u001b[0m\u001b[0;34m\u001b[0m\u001b[0m\n\u001b[0m\u001b[1;32m      3\u001b[0m     \u001b[0mpartitions\u001b[0m\u001b[0;34m.\u001b[0m\u001b[0mx_partitions\u001b[0m\u001b[0;34m[\u001b[0m\u001b[0mj\u001b[0m\u001b[0;34m]\u001b[0m \u001b[0;34m=\u001b[0m \u001b[0mpartitions\u001b[0m\u001b[0;34m.\u001b[0m\u001b[0mx_partitions\u001b[0m\u001b[0;34m[\u001b[0m\u001b[0mj\u001b[0m\u001b[0;34m]\u001b[0m\u001b[0;34m.\u001b[0m\u001b[0mdrop\u001b[0m\u001b[0;34m(\u001b[0m\u001b[0mcolumns\u001b[0m\u001b[0;34m=\u001b[0m\u001b[0;34m[\u001b[0m\u001b[0;34m\"species\"\u001b[0m\u001b[0;34m]\u001b[0m\u001b[0;34m,\u001b[0m \u001b[0merrors\u001b[0m\u001b[0;34m=\u001b[0m\u001b[0;34m'ignore'\u001b[0m\u001b[0;34m)\u001b[0m\u001b[0;34m\u001b[0m\u001b[0;34m\u001b[0m\u001b[0m\n\u001b[1;32m      4\u001b[0m \u001b[0;34m\u001b[0m\u001b[0m\n\u001b[1;32m      5\u001b[0m \u001b[0mX_test\u001b[0m \u001b[0;34m=\u001b[0m \u001b[0mpartitions\u001b[0m\u001b[0;34m.\u001b[0m\u001b[0mx_partitions\u001b[0m\u001b[0;34m[\u001b[0m\u001b[0mi\u001b[0m\u001b[0;34m]\u001b[0m\u001b[0;34m\u001b[0m\u001b[0;34m\u001b[0m\u001b[0m\n",
      "\u001b[0;31mNameError\u001b[0m: name 'partitions' is not defined"
     ]
    }
   ],
   "source": [
    "i = 0\n",
    "for j in range(0, len(partitions.x_partitions)):\n",
    "    partitions.x_partitions[j] = partitions.x_partitions[j].drop(columns=[\"species\"], errors='ignore')\n",
    "    \n",
    "X_test = partitions.x_partitions[i]\n",
    "y_test = partitions.y_partitions[i]\n",
    "\n",
    "X_train = pd.concat(partitions.x_partitions[:i] + partitions.x_partitions[i+1:])\n",
    "y_train = np.concatenate(partitions.y_partitions[:i] + partitions.y_partitions[i+1:], axis=0)"
   ]
  },
  {
   "cell_type": "code",
   "execution_count": null,
   "metadata": {},
   "outputs": [],
   "source": [
    "show(X_test, 10)"
   ]
  },
  {
   "cell_type": "code",
   "execution_count": null,
   "metadata": {},
   "outputs": [],
   "source": [
    "X_test[\"ENSG00000139990\"].iloc[10:20]"
   ]
  },
  {
   "cell_type": "code",
   "execution_count": null,
   "metadata": {},
   "outputs": [],
   "source": [
    "factory.regression_model(X_train, X_test, y_train, y_test)#, index_of_categorical)"
   ]
  },
  {
   "cell_type": "code",
   "execution_count": null,
   "metadata": {},
   "outputs": [],
   "source": [
    "selected = analyzer.select_features(data)\n",
    "selected"
   ]
  },
  {
   "cell_type": "code",
   "execution_count": null,
   "metadata": {},
   "outputs": [],
   "source": []
  },
  {
   "cell_type": "code",
   "execution_count": null,
   "metadata": {},
   "outputs": [],
   "source": [
    "def calculate_metrics(prediction, ground_truth):\n",
    "     return {\n",
    "            'R2': r2_score(ground_truth, prediction),\n",
    "            'MSE': mean_squared_error(ground_truth, prediction),\n",
    "            'MAE': mean_absolute_error(ground_truth, prediction),\n",
    "     }\n",
    "    \n",
    "def encode_tissues(dataframe):\n",
    "    le.fit(dataframe['tissue'].values)\n",
    "    tissues_encoded = le.transform(dataframe['tissue'].values)\n",
    "    dataframe['tissue_encoded'] = tissues_encoded\n",
    "    \n",
    "    return dataframe\n",
    "    \n",
    "    \n",
    "def split_to_X_and_Y(dataframe, label_to_predict):\n",
    "    if 'tissue' in dataframe.columns:\n",
    "        X = dataframe.drop([label_to_predict, 'tissue'], axis=1)\n",
    "        Y = dataframe[label_to_predict].values\n",
    "        index_of_categorical_feature = list(X.columns).index('tissue_encoded')\n",
    "    else:\n",
    "        X = dataframe.drop([label_to_predict], axis=1)\n",
    "        Y = dataframe[label_to_predict].values\n",
    "        index_of_categorical_feature = None\n",
    "\n",
    "    return X, X.values, Y, index_of_categorical_feature\n",
    "    \n",
    "    \n",
    "def get_predictions(label_to_predict, ids=None):\n",
    "    species_data = pd.read_csv('cross_species_df_merged.csv', low_memory=False)\n",
    "    \n",
    "    # remove other features (redundant and those that correlate with target)\n",
    "    cols_to_delete = []\n",
    "    for column in list(species_data.columns):\n",
    "        if ids:\n",
    "            if column not in ids and column not in ['tissue', label_to_predict]:\n",
    "                cols_to_delete.append(column)\n",
    "        else:\n",
    "            if 'ENSG' not in column and column not in ['tissue', label_to_predict]:\n",
    "                cols_to_delete.append(column)    \n",
    "            \n",
    "    species_data = species_data.drop(cols_to_delete, axis=1) \n",
    "    \n",
    "    species_data = species_data[(~pd.isnull(species_data[label_to_predict]))] # select only row where target is set\n",
    "    species_data = species_data.dropna(axis=1, thresh=int(len(species_data)*0.9)) # remove all genes where percentage of NaN > 10%\n",
    "    species_data = species_data[species_data['tissue'].isin(['Lung', 'Liver', 'Kidney', 'Brain', 'Heart'])] # remove underrepresented tissues\n",
    "    species_data = encode_tissues(species_data)\n",
    "    \n",
    "    print('Number of samples', len(species_data))\n",
    "    print('Number of genes', len(species_data.columns))\n",
    "    \n",
    "    feature_df, X, Y, index_of_categorical = split_to_X_and_Y(species_data, label_to_predict)\n",
    "    \n",
    "    object_from_training = calculate_stable_shap_values(feature_df, Y, index_of_categorical, label_to_predict)\n",
    "    features_weighted = object_from_training['list_of_weighted_features']\n",
    "    shap_values = object_from_training['stable_shap_values']\n",
    "    \n",
    "    return shap_values, feature_df, features_weighted"
   ]
  },
  {
   "cell_type": "markdown",
   "metadata": {},
   "source": [
    "### Get list of selected genes for each variable"
   ]
  },
  {
   "cell_type": "code",
   "execution_count": null,
   "metadata": {},
   "outputs": [],
   "source": [
    "lifespan_weighted_features = []\n",
    "lifespan_shap_values = []\n",
    "lifespan_dataframes = []\n",
    "\n",
    "for label in ['gestation_days', 'max_lifespan', 'mass_g', 'temperature_celsius', 'metabolic_rate', 'mtGC']:\n",
    "    shap_values, feature_df, weighted_features = get_predictions(label)\n",
    "    lifespan_weighted_features += weighted_features\n",
    "    lifespan_shap_values.append(shap_values)\n",
    "    lifespan_dataframes.append(feature_df)\n",
    "    "
   ]
  },
  {
   "cell_type": "code",
   "execution_count": null,
   "metadata": {},
   "outputs": [],
   "source": []
  }
 ],
 "metadata": {
  "kernelspec": {
   "display_name": "Python 3",
   "language": "python",
   "name": "python3"
  },
  "language_info": {
   "codemirror_mode": {
    "name": "ipython",
    "version": 3
   },
   "file_extension": ".py",
   "mimetype": "text/x-python",
   "name": "python",
   "nbconvert_exporter": "python",
   "pygments_lexer": "ipython3",
   "version": "3.8.4"
  }
 },
 "nbformat": 4,
 "nbformat_minor": 4
}
