{
 "cells": [
  {
   "cell_type": "markdown",
   "metadata": {},
   "source": [
    "Load expressions\n",
    "----------------"
   ]
  },
  {
   "cell_type": "markdown",
   "metadata": {},
   "source": [
    "### imports ###"
   ]
  },
  {
   "cell_type": "markdown",
   "metadata": {},
   "source": [
    "A hack to use local version o yspecies for debugging"
   ]
  },
  {
   "cell_type": "markdown",
   "metadata": {},
   "source": [
    "## Parameters cell ##\n",
    "\n",
    "Parameters are overiddent by papermill when run inside DVC stages\n",
    "\n"
   ]
  },
  {
   "cell_type": "code",
   "execution_count": 1,
   "metadata": {},
   "outputs": [],
   "source": [
    "number_of_bootstraps = 5 # this sets global setting of which how many bootstraps to use\n",
    "\n",
    "lgb_params = {\n",
    "    'boosting_type': 'gbdt',\n",
    "    'objective': 'regression',\n",
    "    'metric': {'l2', 'l1'},\n",
    "    'max_leaves': 20,\n",
    "    'max_depth': 3,\n",
    "    'learning_rate': 0.07,\n",
    "    'feature_fraction': 0.8,\n",
    "    'bagging_fraction': 1,\n",
    "    'min_data_in_leaf': 6,\n",
    "    'lambda_l1': 0.9,\n",
    "    'lambda_l2': 0.9,\n",
    "    \"verbose\": -1\n",
    "}\n",
    "\n",
    "debug_local = True #to use local version"
   ]
  },
  {
   "cell_type": "code",
   "execution_count": 2,
   "metadata": {},
   "outputs": [
    {
     "name": "stdout",
     "output_type": "stream",
     "text": [
      "extending pathes with local yspecies\n",
      "['..', '/data/sources/yspecies/notebooks', '/opt/miniconda3/envs/yspecies/lib/python38.zip', '/opt/miniconda3/envs/yspecies/lib/python3.8', '/opt/miniconda3/envs/yspecies/lib/python3.8/lib-dynload', '', '/opt/miniconda3/envs/yspecies/lib/python3.8/site-packages', '/opt/miniconda3/envs/yspecies/lib/python3.8/site-packages/IPython/extensions', '/home/antonkulaga/.ipython']\n"
     ]
    }
   ],
   "source": [
    "from pathlib import Path\n",
    "import sys\n",
    "import inspect\n",
    "\n",
    "local = (Path(\"..\") / \"yspecies\").resolve()\n",
    "if debug_local and local.exists():\n",
    "  sys.path.insert(0, Path(\"..\").as_posix())\n",
    "  #sys.path.insert(0, local.as_posix())\n",
    "  print(\"extending pathes with local yspecies\")\n",
    "  print(sys.path)\n",
    "  %load_ext autoreload\n",
    "  %autoreload 2"
   ]
  },
  {
   "cell_type": "code",
   "execution_count": 3,
   "metadata": {},
   "outputs": [],
   "source": [
    "from typing import *\n",
    "from yspecies.enums import *\n",
    "from yspecies.dataset import *\n",
    "from yspecies.misc import *\n",
    "from yspecies.workflow import *\n",
    "from yspecies.partition import *\n",
    "from yspecies.selection import *"
   ]
  },
  {
   "cell_type": "code",
   "execution_count": 4,
   "metadata": {},
   "outputs": [],
   "source": [
    "from dataclasses import dataclass\n",
    "import numpy as np\n",
    "import pandas as pd\n",
    "import seaborn as sns\n",
    "import matplotlib.pyplot as plt"
   ]
  },
  {
   "cell_type": "code",
   "execution_count": 5,
   "metadata": {},
   "outputs": [],
   "source": [
    "import pandas as pd\n",
    "import shap\n",
    "from pprint import pprint\n",
    "import random\n",
    "import numpy as np\n",
    "import lightgbm as lgb\n",
    "from scipy.stats import kendalltau\n",
    "from sklearn.preprocessing import LabelEncoder, OneHotEncoder\n",
    "from sklearn.utils import resample\n",
    "from sklearn.model_selection import train_test_split, KFold\n",
    "from sklearn.metrics import r2_score, mean_squared_error, mean_absolute_error, accuracy_score, recall_score, precision_score, f1_score"
   ]
  },
  {
   "cell_type": "code",
   "execution_count": 6,
   "metadata": {},
   "outputs": [],
   "source": [
    "#settings\n",
    "pd.set_option('display.max_columns', None)\n",
    "pd.set_option('display.max_rows', None)\n",
    "pd.set_option('display.float_format', lambda x: '%.3f' % x)\n",
    "import pprint\n",
    "pp = pprint.PrettyPrinter(indent=4)"
   ]
  },
  {
   "cell_type": "markdown",
   "metadata": {},
   "source": [
    "### Loading data ###"
   ]
  },
  {
   "cell_type": "code",
   "execution_count": 7,
   "metadata": {},
   "outputs": [],
   "source": [
    "from pathlib import Path\n",
    "locations: Locations = Locations(\"./\") if Path(\"./data\").exists() else Locations(\"../\")"
   ]
  },
  {
   "cell_type": "code",
   "execution_count": 8,
   "metadata": {},
   "outputs": [
    {
     "data": {
      "text/html": [
       "<table border='2'><caption>selected<caption><tr><th>expressions</th><th>genes</th><th>species</th><th>samples</th><th>Genes Metadata</th><th>Species Metadata</th></tr><tr><td>(452, 12630)</td><td>12630</td><td>43</td><td>452</td><td>(12630, 2)</td><td>(44, 18)</td></tr></table>"
      ],
      "text/plain": [
       "<yspecies.dataset.ExpressionDataset at 0x7fe020392ac0>"
      ]
     },
     "execution_count": 8,
     "metadata": {},
     "output_type": "execute_result"
    }
   ],
   "source": [
    "data = ExpressionDataset.from_folder(locations.interim.selected)\n",
    "data"
   ]
  },
  {
   "cell_type": "code",
   "execution_count": 9,
   "metadata": {},
   "outputs": [],
   "source": [
    "from sklearn.pipeline import Pipeline\n",
    "selection = SelectedFeatures([],[], to_predict = \"lifespan\")\n",
    "pipe = Pipeline([\n",
    "    ('extractor', DataExtractor(selection)), \n",
    "    (\"partitioner\", DataPartitioner(species_in_validation=2)), \n",
    "    (\"shap_computation\", FeatureAnalyzer(ModelFactory()))]\n",
    ")"
   ]
  },
  {
   "cell_type": "code",
   "execution_count": 10,
   "metadata": {},
   "outputs": [
    {
     "name": "stdout",
     "output_type": "stream",
     "text": [
      "Training until validation scores don't improve for 7 rounds\n",
      "Early stopping, best iteration is:\n",
      "[149]\tvalid_0's l2: 16.8158\tvalid_0's l1: 2.24008\n"
     ]
    },
    {
     "name": "stderr",
     "output_type": "stream",
     "text": [
      "Setting feature_perturbation = \"tree_path_dependent\" because no background data was given.\n"
     ]
    },
    {
     "name": "stdout",
     "output_type": "stream",
     "text": [
      "Training until validation scores don't improve for 7 rounds\n",
      "Early stopping, best iteration is:\n",
      "[253]\tvalid_0's l2: 9.48604\tvalid_0's l1: 1.82453\n"
     ]
    },
    {
     "name": "stderr",
     "output_type": "stream",
     "text": [
      "Setting feature_perturbation = \"tree_path_dependent\" because no background data was given.\n"
     ]
    },
    {
     "name": "stdout",
     "output_type": "stream",
     "text": [
      "Training until validation scores don't improve for 7 rounds\n",
      "Early stopping, best iteration is:\n",
      "[257]\tvalid_0's l2: 17.658\tvalid_0's l1: 2.2897\n"
     ]
    },
    {
     "name": "stderr",
     "output_type": "stream",
     "text": [
      "Setting feature_perturbation = \"tree_path_dependent\" because no background data was given.\n"
     ]
    },
    {
     "name": "stdout",
     "output_type": "stream",
     "text": [
      "Training until validation scores don't improve for 7 rounds\n",
      "Early stopping, best iteration is:\n",
      "[174]\tvalid_0's l2: 19.4624\tvalid_0's l1: 2.67771\n"
     ]
    },
    {
     "name": "stderr",
     "output_type": "stream",
     "text": [
      "Setting feature_perturbation = \"tree_path_dependent\" because no background data was given.\n"
     ]
    },
    {
     "name": "stdout",
     "output_type": "stream",
     "text": [
      "Training until validation scores don't improve for 7 rounds\n",
      "Early stopping, best iteration is:\n",
      "[42]\tvalid_0's l2: 1110.14\tvalid_0's l1: 16.6857\n"
     ]
    },
    {
     "name": "stderr",
     "output_type": "stream",
     "text": [
      "Setting feature_perturbation = \"tree_path_dependent\" because no background data was given.\n"
     ]
    },
    {
     "name": "stdout",
     "output_type": "stream",
     "text": [
      "MEAN metrics = R^2    -0.857\n",
      "MSE   234.713\n",
      "MAE     5.144\n",
      "dtype: float64\n"
     ]
    },
    {
     "data": {
      "text/html": [
       "<table border='2'><caption>Feature selection results<caption><tr><th>weights</th><th>SHAP values</th><th>Metrics</th></tr><tr><td><div>\n",
       "<style scoped>\n",
       "    .dataframe tbody tr th:only-of-type {\n",
       "        vertical-align: middle;\n",
       "    }\n",
       "\n",
       "    .dataframe tbody tr th {\n",
       "        vertical-align: top;\n",
       "    }\n",
       "\n",
       "    .dataframe thead th {\n",
       "        text-align: right;\n",
       "    }\n",
       "</style>\n",
       "<table border=\"1\" class=\"dataframe\">\n",
       "  <thead>\n",
       "    <tr style=\"text-align: right;\">\n",
       "      <th></th>\n",
       "      <th>symbol</th>\n",
       "      <th>gain_score_to_lifespan</th>\n",
       "      <th>shap</th>\n",
       "      <th>kendall_tau_to_lifespan</th>\n",
       "    </tr>\n",
       "    <tr>\n",
       "      <th>ensembl_id</th>\n",
       "      <th></th>\n",
       "      <th></th>\n",
       "      <th></th>\n",
       "      <th></th>\n",
       "    </tr>\n",
       "  </thead>\n",
       "  <tbody>\n",
       "    <tr>\n",
       "      <th>ENSG00000175854</th>\n",
       "      <td>SWI5</td>\n",
       "      <td>281239.051</td>\n",
       "      <td>69.236</td>\n",
       "      <td>-0.675</td>\n",
       "    </tr>\n",
       "    <tr>\n",
       "      <th>ENSG00000060762</th>\n",
       "      <td>MPC1</td>\n",
       "      <td>102360.804</td>\n",
       "      <td>-68.189</td>\n",
       "      <td>-0.413</td>\n",
       "    </tr>\n",
       "    <tr>\n",
       "      <th>ENSG00000167515</th>\n",
       "      <td>TRAPPC2L</td>\n",
       "      <td>100906.652</td>\n",
       "      <td>-84.298</td>\n",
       "      <td>-0.173</td>\n",
       "    </tr>\n",
       "    <tr>\n",
       "      <th>ENSG00000066923</th>\n",
       "      <td>STAG3</td>\n",
       "      <td>44965.835</td>\n",
       "      <td>13.996</td>\n",
       "      <td>0.532</td>\n",
       "    </tr>\n",
       "    <tr>\n",
       "      <th>ENSG00000010219</th>\n",
       "      <td>DYRK4</td>\n",
       "      <td>44661.724</td>\n",
       "      <td>-8.033</td>\n",
       "      <td>0.411</td>\n",
       "    </tr>\n",
       "    <tr>\n",
       "      <th>ENSG00000129187</th>\n",
       "      <td>DCTD</td>\n",
       "      <td>4839.301</td>\n",
       "      <td>6.775</td>\n",
       "      <td>0.685</td>\n",
       "    </tr>\n",
       "    <tr>\n",
       "      <th>ENSG00000066926</th>\n",
       "      <td>FECH</td>\n",
       "      <td>3622.228</td>\n",
       "      <td>-4.593</td>\n",
       "      <td>-0.527</td>\n",
       "    </tr>\n",
       "    <tr>\n",
       "      <th>ENSG00000165555</th>\n",
       "      <td>NOXRED1</td>\n",
       "      <td>2370.841</td>\n",
       "      <td>3.470</td>\n",
       "      <td>0.822</td>\n",
       "    </tr>\n",
       "    <tr>\n",
       "      <th>ENSG00000213139</th>\n",
       "      <td>CRYGS</td>\n",
       "      <td>1692.762</td>\n",
       "      <td>3.788</td>\n",
       "      <td>0.615</td>\n",
       "    </tr>\n",
       "    <tr>\n",
       "      <th>ENSG00000165689</th>\n",
       "      <td>ENTR1</td>\n",
       "      <td>1492.158</td>\n",
       "      <td>2.017</td>\n",
       "      <td>-0.666</td>\n",
       "    </tr>\n",
       "    <tr>\n",
       "      <th>ENSG00000116489</th>\n",
       "      <td>CAPZA1</td>\n",
       "      <td>1026.022</td>\n",
       "      <td>-7.030</td>\n",
       "      <td>-0.083</td>\n",
       "    </tr>\n",
       "    <tr>\n",
       "      <th>ENSG00000165501</th>\n",
       "      <td>LRR1</td>\n",
       "      <td>958.245</td>\n",
       "      <td>2.527</td>\n",
       "      <td>0.679</td>\n",
       "    </tr>\n",
       "    <tr>\n",
       "      <th>ENSG00000118600</th>\n",
       "      <td>RXYLT1</td>\n",
       "      <td>716.958</td>\n",
       "      <td>-2.235</td>\n",
       "      <td>-0.527</td>\n",
       "    </tr>\n",
       "  </tbody>\n",
       "</table>\n",
       "</div></th><td>[[ 0.          0.         -0.00491749 ...  0.          0.\n",
       "   0.        ]\n",
       " [ 0.          0.         -0.00435626 ...  0.          0.\n",
       "   0.        ]\n",
       " [ 0.          0.         -0.00491749 ...  0.          0.\n",
       "   0.        ]\n",
       " ...\n",
       " [ 0.          0.         -0.00260712 ...  0.          0.\n",
       "   0.        ]\n",
       " [ 0.          0.         -0.00260712 ...  0.          0.\n",
       "   0.        ]\n",
       " [ 0.          0.          0.00071846 ...  0.          0.\n",
       "   0.        ]]</th><th><div>\n",
       "<style scoped>\n",
       "    .dataframe tbody tr th:only-of-type {\n",
       "        vertical-align: middle;\n",
       "    }\n",
       "\n",
       "    .dataframe tbody tr th {\n",
       "        vertical-align: top;\n",
       "    }\n",
       "\n",
       "    .dataframe thead th {\n",
       "        text-align: right;\n",
       "    }\n",
       "</style>\n",
       "<table border=\"1\" class=\"dataframe\">\n",
       "  <thead>\n",
       "    <tr style=\"text-align: right;\">\n",
       "      <th></th>\n",
       "      <th>R^2</th>\n",
       "      <th>MSE</th>\n",
       "      <th>MAE</th>\n",
       "    </tr>\n",
       "  </thead>\n",
       "  <tbody>\n",
       "    <tr>\n",
       "      <th>0</th>\n",
       "      <td>0.926</td>\n",
       "      <td>16.816</td>\n",
       "      <td>2.240</td>\n",
       "    </tr>\n",
       "    <tr>\n",
       "      <th>1</th>\n",
       "      <td>0.958</td>\n",
       "      <td>9.486</td>\n",
       "      <td>1.825</td>\n",
       "    </tr>\n",
       "    <tr>\n",
       "      <th>2</th>\n",
       "      <td>0.919</td>\n",
       "      <td>17.658</td>\n",
       "      <td>2.290</td>\n",
       "    </tr>\n",
       "    <tr>\n",
       "      <th>3</th>\n",
       "      <td>0.917</td>\n",
       "      <td>19.462</td>\n",
       "      <td>2.678</td>\n",
       "    </tr>\n",
       "    <tr>\n",
       "      <th>4</th>\n",
       "      <td>-8.004</td>\n",
       "      <td>1110.142</td>\n",
       "      <td>16.686</td>\n",
       "    </tr>\n",
       "  </tbody>\n",
       "</table>\n",
       "</div></th></tr></table>"
      ],
      "text/plain": [
       "FeatureResults(weights=                   symbol  gain_score_to_lifespan    shap  \\\n",
       "ensembl_id                                                  \n",
       "ENSG00000175854      SWI5              281239.051  69.236   \n",
       "ENSG00000060762      MPC1              102360.804 -68.189   \n",
       "ENSG00000167515  TRAPPC2L              100906.652 -84.298   \n",
       "ENSG00000066923     STAG3               44965.835  13.996   \n",
       "ENSG00000010219     DYRK4               44661.724  -8.033   \n",
       "ENSG00000129187      DCTD                4839.301   6.775   \n",
       "ENSG00000066926      FECH                3622.228  -4.593   \n",
       "ENSG00000165555   NOXRED1                2370.841   3.470   \n",
       "ENSG00000213139     CRYGS                1692.762   3.788   \n",
       "ENSG00000165689     ENTR1                1492.158   2.017   \n",
       "ENSG00000116489    CAPZA1                1026.022  -7.030   \n",
       "ENSG00000165501      LRR1                 958.245   2.527   \n",
       "ENSG00000118600    RXYLT1                 716.958  -2.235   \n",
       "\n",
       "                 kendall_tau_to_lifespan  \n",
       "ensembl_id                                \n",
       "ENSG00000175854                   -0.675  \n",
       "ENSG00000060762                   -0.413  \n",
       "ENSG00000167515                   -0.173  \n",
       "ENSG00000066923                    0.532  \n",
       "ENSG00000010219                    0.411  \n",
       "ENSG00000129187                    0.685  \n",
       "ENSG00000066926                   -0.527  \n",
       "ENSG00000165555                    0.822  \n",
       "ENSG00000213139                    0.615  \n",
       "ENSG00000165689                   -0.666  \n",
       "ENSG00000116489                   -0.083  \n",
       "ENSG00000165501                    0.679  \n",
       "ENSG00000118600                   -0.527  , stable_shap_values=array([[ 0.        ,  0.        , -0.00491749, ...,  0.        ,\n",
       "         0.        ,  0.        ],\n",
       "       [ 0.        ,  0.        , -0.00435626, ...,  0.        ,\n",
       "         0.        ,  0.        ],\n",
       "       [ 0.        ,  0.        , -0.00491749, ...,  0.        ,\n",
       "         0.        ,  0.        ],\n",
       "       ...,\n",
       "       [ 0.        ,  0.        , -0.00260712, ...,  0.        ,\n",
       "         0.        ,  0.        ],\n",
       "       [ 0.        ,  0.        , -0.00260712, ...,  0.        ,\n",
       "         0.        ,  0.        ],\n",
       "       [ 0.        ,  0.        ,  0.00071846, ...,  0.        ,\n",
       "         0.        ,  0.        ]]), metrics=     R^2      MSE    MAE\n",
       "0  0.926   16.816  2.240\n",
       "1  0.958    9.486  1.825\n",
       "2  0.919   17.658  2.290\n",
       "3  0.917   19.462  2.678\n",
       "4 -8.004 1110.142 16.686)"
      ]
     },
     "execution_count": 10,
     "metadata": {},
     "output_type": "execute_result"
    }
   ],
   "source": [
    "d = pipe.fit_transform(data)\n",
    "d"
   ]
  }
 ],
 "metadata": {
  "kernelspec": {
   "display_name": "Python 3",
   "language": "python",
   "name": "python3"
  },
  "language_info": {
   "codemirror_mode": {
    "name": "ipython",
    "version": 3
   },
   "file_extension": ".py",
   "mimetype": "text/x-python",
   "name": "python",
   "nbconvert_exporter": "python",
   "pygments_lexer": "ipython3",
   "version": "3.8.4"
  }
 },
 "nbformat": 4,
 "nbformat_minor": 4
}
