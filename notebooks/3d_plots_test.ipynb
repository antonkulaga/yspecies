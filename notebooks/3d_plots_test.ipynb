{
 "cells": [
  {
   "cell_type": "code",
   "execution_count": 1,
   "metadata": {
    "tags": [
     "parameters"
    ]
   },
   "outputs": [],
   "source": [
    "#parameters\n",
    "drop_species =[]"
   ]
  },
  {
   "cell_type": "code",
   "execution_count": 1,
   "metadata": {},
   "outputs": [],
   "source": [
    "import numpy as np\n",
    "import pandas as pd\n",
    "pd.set_option('display.max_columns', None)\n",
    "import seaborn as sns\n",
    "import matplotlib.pyplot as plt\n",
    "\n",
    "import plotly.graph_objects as go\n",
    "import numpy as np\n"
   ]
  },
  {
   "cell_type": "markdown",
   "metadata": {},
   "source": [
    "Testing papermill"
   ]
  },
  {
   "cell_type": "code",
   "execution_count": 2,
   "metadata": {},
   "outputs": [
    {
     "name": "stdout",
     "output_type": "stream",
     "text": [
      "[]\n"
     ]
    }
   ],
   "source": [
    "print(drop_species)"
   ]
  },
  {
   "cell_type": "code",
   "execution_count": 2,
   "metadata": {},
   "outputs": [
    {
     "data": {
      "text/html": [
       "<div>\n",
       "<style scoped>\n",
       "    .dataframe tbody tr th:only-of-type {\n",
       "        vertical-align: middle;\n",
       "    }\n",
       "\n",
       "    .dataframe tbody tr th {\n",
       "        vertical-align: top;\n",
       "    }\n",
       "\n",
       "    .dataframe thead th {\n",
       "        text-align: right;\n",
       "    }\n",
       "</style>\n",
       "<table border=\"1\" class=\"dataframe\">\n",
       "  <thead>\n",
       "    <tr style=\"text-align: right;\">\n",
       "      <th></th>\n",
       "      <th>Unnamed: 0</th>\n",
       "      <th>symbol</th>\n",
       "      <th>organ</th>\n",
       "      <th>human_samples</th>\n",
       "      <th>maxlifespan_adjpval</th>\n",
       "      <th>maxlifespan_r2_adj</th>\n",
       "      <th>maxlifespan_n_obs</th>\n",
       "      <th>maxlifespan_sign</th>\n",
       "      <th>mass_adjpval</th>\n",
       "      <th>mass_r2_adj</th>\n",
       "      <th>mass_n_obs</th>\n",
       "      <th>mass_sign</th>\n",
       "      <th>temperature_adjpval</th>\n",
       "      <th>temperature_r2_adj</th>\n",
       "      <th>temperature_n_obs</th>\n",
       "      <th>temperature_sign</th>\n",
       "      <th>metabolicRate_adjpval</th>\n",
       "      <th>metabolicRate_r2_adj</th>\n",
       "      <th>metabolicRate_n_obs</th>\n",
       "      <th>metabolicRate_sign</th>\n",
       "      <th>gestation_adjpval</th>\n",
       "      <th>gestation_r2_adj</th>\n",
       "      <th>gestation_n_obs</th>\n",
       "      <th>gestation_sign</th>\n",
       "      <th>maxlifespan_uniquely_associated</th>\n",
       "      <th>mass_uniquely_associated</th>\n",
       "      <th>temperature_uniquely_associated</th>\n",
       "      <th>metabolicRate_uniquely_associated</th>\n",
       "      <th>gestation_uniquely_associated</th>\n",
       "    </tr>\n",
       "  </thead>\n",
       "  <tbody>\n",
       "    <tr>\n",
       "      <th>0</th>\n",
       "      <td>ENSG00000181513</td>\n",
       "      <td>ACBD4</td>\n",
       "      <td>Brain</td>\n",
       "      <td>withoutHumans</td>\n",
       "      <td>4.850000e-14</td>\n",
       "      <td>0.753834</td>\n",
       "      <td>54</td>\n",
       "      <td>-1</td>\n",
       "      <td>0.096931</td>\n",
       "      <td>2.307244e-01</td>\n",
       "      <td>28</td>\n",
       "      <td>1</td>\n",
       "      <td>0.568603</td>\n",
       "      <td>0.006725</td>\n",
       "      <td>42</td>\n",
       "      <td>-1</td>\n",
       "      <td>0.000742</td>\n",
       "      <td>0.500240</td>\n",
       "      <td>28</td>\n",
       "      <td>1</td>\n",
       "      <td>2.720000e-07</td>\n",
       "      <td>0.495705</td>\n",
       "      <td>53</td>\n",
       "      <td>-1</td>\n",
       "      <td>False</td>\n",
       "      <td>False</td>\n",
       "      <td>False</td>\n",
       "      <td>False</td>\n",
       "      <td>False</td>\n",
       "    </tr>\n",
       "    <tr>\n",
       "      <th>1</th>\n",
       "      <td>ENSG00000152154</td>\n",
       "      <td>TMEM178A</td>\n",
       "      <td>Lung</td>\n",
       "      <td>withoutHumans</td>\n",
       "      <td>2.090000e-05</td>\n",
       "      <td>0.734700</td>\n",
       "      <td>22</td>\n",
       "      <td>-1</td>\n",
       "      <td>0.836981</td>\n",
       "      <td>1.101520e-01</td>\n",
       "      <td>13</td>\n",
       "      <td>-1</td>\n",
       "      <td>0.862734</td>\n",
       "      <td>-0.042955</td>\n",
       "      <td>20</td>\n",
       "      <td>-1</td>\n",
       "      <td>0.717775</td>\n",
       "      <td>0.108888</td>\n",
       "      <td>13</td>\n",
       "      <td>-1</td>\n",
       "      <td>7.491271e-04</td>\n",
       "      <td>0.539768</td>\n",
       "      <td>23</td>\n",
       "      <td>-1</td>\n",
       "      <td>False</td>\n",
       "      <td>False</td>\n",
       "      <td>False</td>\n",
       "      <td>False</td>\n",
       "      <td>False</td>\n",
       "    </tr>\n",
       "    <tr>\n",
       "      <th>2</th>\n",
       "      <td>ENSG00000198915</td>\n",
       "      <td>RASGEF1A</td>\n",
       "      <td>Lung</td>\n",
       "      <td>withoutHumans</td>\n",
       "      <td>6.390000e-05</td>\n",
       "      <td>0.733061</td>\n",
       "      <td>20</td>\n",
       "      <td>-1</td>\n",
       "      <td>0.923131</td>\n",
       "      <td>9.585542e-02</td>\n",
       "      <td>11</td>\n",
       "      <td>-1</td>\n",
       "      <td>0.089882</td>\n",
       "      <td>0.287097</td>\n",
       "      <td>18</td>\n",
       "      <td>-1</td>\n",
       "      <td>0.800351</td>\n",
       "      <td>0.097504</td>\n",
       "      <td>11</td>\n",
       "      <td>-1</td>\n",
       "      <td>1.683946e-03</td>\n",
       "      <td>0.531522</td>\n",
       "      <td>21</td>\n",
       "      <td>-1</td>\n",
       "      <td>False</td>\n",
       "      <td>False</td>\n",
       "      <td>False</td>\n",
       "      <td>False</td>\n",
       "      <td>False</td>\n",
       "    </tr>\n",
       "    <tr>\n",
       "      <th>3</th>\n",
       "      <td>ENSG00000159714</td>\n",
       "      <td>ZDHHC1</td>\n",
       "      <td>Lung</td>\n",
       "      <td>withoutHumans</td>\n",
       "      <td>1.046811e-04</td>\n",
       "      <td>0.715344</td>\n",
       "      <td>20</td>\n",
       "      <td>-1</td>\n",
       "      <td>0.576849</td>\n",
       "      <td>2.428201e-01</td>\n",
       "      <td>11</td>\n",
       "      <td>-1</td>\n",
       "      <td>0.208529</td>\n",
       "      <td>0.175409</td>\n",
       "      <td>18</td>\n",
       "      <td>-1</td>\n",
       "      <td>0.486729</td>\n",
       "      <td>0.241080</td>\n",
       "      <td>11</td>\n",
       "      <td>-1</td>\n",
       "      <td>1.517115e-02</td>\n",
       "      <td>0.379962</td>\n",
       "      <td>21</td>\n",
       "      <td>-1</td>\n",
       "      <td>False</td>\n",
       "      <td>False</td>\n",
       "      <td>False</td>\n",
       "      <td>False</td>\n",
       "      <td>False</td>\n",
       "    </tr>\n",
       "    <tr>\n",
       "      <th>4</th>\n",
       "      <td>ENSG00000122778</td>\n",
       "      <td>KIAA1549</td>\n",
       "      <td>Brain</td>\n",
       "      <td>withoutHumans</td>\n",
       "      <td>2.377849e-03</td>\n",
       "      <td>0.707105</td>\n",
       "      <td>14</td>\n",
       "      <td>-1</td>\n",
       "      <td>1.000000</td>\n",
       "      <td>-2.220000e-16</td>\n",
       "      <td>4</td>\n",
       "      <td>1</td>\n",
       "      <td>0.194803</td>\n",
       "      <td>0.604032</td>\n",
       "      <td>6</td>\n",
       "      <td>1</td>\n",
       "      <td>1.000000</td>\n",
       "      <td>0.000000</td>\n",
       "      <td>4</td>\n",
       "      <td>1</td>\n",
       "      <td>1.442074e-02</td>\n",
       "      <td>0.511882</td>\n",
       "      <td>15</td>\n",
       "      <td>-1</td>\n",
       "      <td>False</td>\n",
       "      <td>False</td>\n",
       "      <td>False</td>\n",
       "      <td>False</td>\n",
       "      <td>False</td>\n",
       "    </tr>\n",
       "  </tbody>\n",
       "</table>\n",
       "</div>"
      ],
      "text/plain": [
       "        Unnamed: 0    symbol  organ  human_samples  maxlifespan_adjpval  \\\n",
       "0  ENSG00000181513     ACBD4  Brain  withoutHumans         4.850000e-14   \n",
       "1  ENSG00000152154  TMEM178A   Lung  withoutHumans         2.090000e-05   \n",
       "2  ENSG00000198915  RASGEF1A   Lung  withoutHumans         6.390000e-05   \n",
       "3  ENSG00000159714    ZDHHC1   Lung  withoutHumans         1.046811e-04   \n",
       "4  ENSG00000122778  KIAA1549  Brain  withoutHumans         2.377849e-03   \n",
       "\n",
       "   maxlifespan_r2_adj  maxlifespan_n_obs  maxlifespan_sign  mass_adjpval  \\\n",
       "0            0.753834                 54                -1      0.096931   \n",
       "1            0.734700                 22                -1      0.836981   \n",
       "2            0.733061                 20                -1      0.923131   \n",
       "3            0.715344                 20                -1      0.576849   \n",
       "4            0.707105                 14                -1      1.000000   \n",
       "\n",
       "    mass_r2_adj  mass_n_obs  mass_sign  temperature_adjpval  \\\n",
       "0  2.307244e-01          28          1             0.568603   \n",
       "1  1.101520e-01          13         -1             0.862734   \n",
       "2  9.585542e-02          11         -1             0.089882   \n",
       "3  2.428201e-01          11         -1             0.208529   \n",
       "4 -2.220000e-16           4          1             0.194803   \n",
       "\n",
       "   temperature_r2_adj  temperature_n_obs  temperature_sign  \\\n",
       "0            0.006725                 42                -1   \n",
       "1           -0.042955                 20                -1   \n",
       "2            0.287097                 18                -1   \n",
       "3            0.175409                 18                -1   \n",
       "4            0.604032                  6                 1   \n",
       "\n",
       "   metabolicRate_adjpval  metabolicRate_r2_adj  metabolicRate_n_obs  \\\n",
       "0               0.000742              0.500240                   28   \n",
       "1               0.717775              0.108888                   13   \n",
       "2               0.800351              0.097504                   11   \n",
       "3               0.486729              0.241080                   11   \n",
       "4               1.000000              0.000000                    4   \n",
       "\n",
       "   metabolicRate_sign  gestation_adjpval  gestation_r2_adj  gestation_n_obs  \\\n",
       "0                   1       2.720000e-07          0.495705               53   \n",
       "1                  -1       7.491271e-04          0.539768               23   \n",
       "2                  -1       1.683946e-03          0.531522               21   \n",
       "3                  -1       1.517115e-02          0.379962               21   \n",
       "4                   1       1.442074e-02          0.511882               15   \n",
       "\n",
       "   gestation_sign  maxlifespan_uniquely_associated  mass_uniquely_associated  \\\n",
       "0              -1                            False                     False   \n",
       "1              -1                            False                     False   \n",
       "2              -1                            False                     False   \n",
       "3              -1                            False                     False   \n",
       "4              -1                            False                     False   \n",
       "\n",
       "   temperature_uniquely_associated  metabolicRate_uniquely_associated  \\\n",
       "0                            False                              False   \n",
       "1                            False                              False   \n",
       "2                            False                              False   \n",
       "3                            False                              False   \n",
       "4                            False                              False   \n",
       "\n",
       "   gestation_uniquely_associated  \n",
       "0                          False  \n",
       "1                          False  \n",
       "2                          False  \n",
       "3                          False  \n",
       "4                          False  "
      ]
     },
     "execution_count": 2,
     "metadata": {},
     "output_type": "execute_result"
    }
   ],
   "source": [
    "df = pd.read_csv(\"/data/sources/species/data/input/linear_results.tsv\",sep=\"\\t\")\n",
    "df.head()"
   ]
  },
  {
   "cell_type": "code",
   "execution_count": 3,
   "metadata": {},
   "outputs": [],
   "source": [
    "x = df[\"gestation_r2_adj\"]\n",
    "y = df[\"temperature_r2_adj\"]\n",
    "z = df[\"metabolicRate_r2_adj\"]\n",
    "s = df[\"maxlifespan_r2_adj\"]"
   ]
  },
  {
   "cell_type": "code",
   "execution_count": 6,
   "metadata": {},
   "outputs": [
    {
     "data": {
      "application/vnd.plotly.v1+json": {
       "config": {
        "plotlyServerURL": "https://plot.ly"
       },
       "data": [
        {
         "customdata": [
          [
           "ACBD4"
          ],
          [
           "KIAA1549"
          ],
          [
           "PGR"
          ],
          [
           "NEDD4"
          ],
          [
           "FAM81A"
          ],
          [
           "CYHR1"
          ],
          [
           "RASGEF1A"
          ],
          [
           "TRIM35"
          ],
          [
           "ACSL5"
          ],
          [
           "NUDT18"
          ],
          [
           "HDAC3"
          ]
         ],
         "hovertemplate": "organ=Brain<br>gestation_r2_adj=%{x}<br>temperature_r2_adj=%{y}<br>metabolicRate_r2_adj=%{z}<br>maxlifespan_r2_adj=%{marker.size}<br>symbol=%{text}<extra></extra>",
         "legendgroup": "Brain",
         "marker": {
          "color": "#636efa",
          "size": [
           0.7538338770999999,
           0.7071049072,
           0.6030546282,
           0.5981829117,
           0.5768562322,
           0.5683329555,
           0.5655564895,
           0.5587439833,
           0.5422204344,
           0.5328621211,
           0.5111091003
          ],
          "sizemode": "area",
          "sizeref": 0.00206485006375,
          "symbol": "circle"
         },
         "mode": "markers+text",
         "name": "Brain",
         "scene": "scene",
         "showlegend": true,
         "text": [
          "ACBD4",
          "KIAA1549",
          "PGR",
          "NEDD4",
          "FAM81A",
          "CYHR1",
          "RASGEF1A",
          "TRIM35",
          "ACSL5",
          "NUDT18",
          "HDAC3"
         ],
         "textfont": {
          "size": 8
         },
         "type": "scatter3d",
         "x": [
          0.49570456420000003,
          0.5118816125,
          0.28184335120000004,
          0.1777423867,
          0.2198820614,
          0.127356475,
          0.20711746829999997,
          0.2352715311,
          0.1067409085,
          0.12558347039999998,
          0.3142374931
         ],
         "y": [
          0.006724746749,
          0.6040319603000001,
          0.10074624210000001,
          -0.0020720920920000003,
          0.055115855410000004,
          -7.170000000000001e-05,
          0.2467733297,
          0.005458312491,
          0.00440345079,
          0.21534980969999998,
          -0.008322186708
         ],
         "z": [
          0.500239827,
          0,
          -0.03310175093000001,
          0.03639314718,
          -0.0067630066319999994,
          -0.02040625941,
          0.1963996209,
          0.0119056645,
          -0.006343237215,
          0.007802795638999999,
          -0.01458213389
         ]
        },
        {
         "customdata": [
          [
           "TMEM178A"
          ],
          [
           "RASGEF1A"
          ],
          [
           "ZDHHC1"
          ],
          [
           "SFSWAP"
          ],
          [
           "TOR2A"
          ],
          [
           "TSPAN2"
          ],
          [
           "SUN5"
          ],
          [
           "TMCC2"
          ],
          [
           "SEZ6"
          ],
          [
           "POPDC2"
          ],
          [
           "NR1D1"
          ],
          [
           "EHD4"
          ],
          [
           "ALPL"
          ],
          [
           "SH3TC2"
          ],
          [
           "DCLK2"
          ],
          [
           "SMPD1"
          ],
          [
           "EVI5L"
          ],
          [
           "SLC26A8"
          ],
          [
           "FAM83C"
          ],
          [
           "UNC79"
          ],
          [
           "ERN2"
          ],
          [
           "NAB2"
          ],
          [
           "TAF3"
          ],
          [
           "ALAD"
          ],
          [
           "KCNK1"
          ],
          [
           "DHX16"
          ],
          [
           "MTHFR"
          ],
          [
           "MIP"
          ],
          [
           "STX4"
          ],
          [
           "RGMA"
          ],
          [
           "GHR"
          ],
          [
           "ARHGAP1"
          ],
          [
           "SLC16A5"
          ],
          [
           "XPNPEP2"
          ],
          [
           "CLUH"
          ],
          [
           "DNAJC12"
          ],
          [
           "CCDC83"
          ],
          [
           "NUDT18"
          ],
          [
           "ENG"
          ],
          [
           "FNDC7"
          ],
          [
           "MTSS1L"
          ],
          [
           "MAT1A"
          ],
          [
           "NEDD4"
          ],
          [
           "SESN2"
          ],
          [
           "GFRA3"
          ],
          [
           "CLEC2L"
          ],
          [
           "LGI3"
          ],
          [
           "PKN3"
          ],
          [
           "LURAP1L"
          ],
          [
           "CCR7"
          ],
          [
           "SLC7A10"
          ],
          [
           "TMEM204"
          ],
          [
           "XRCC1"
          ],
          [
           "LRIG3"
          ],
          [
           "PMM1"
          ],
          [
           "NKD1"
          ],
          [
           "KIAA1549"
          ],
          [
           "CPLX3"
          ],
          [
           "TMEM136"
          ],
          [
           "FAM83F"
          ],
          [
           "DPT"
          ],
          [
           "POLR3H"
          ],
          [
           "NDNF"
          ],
          [
           "PIP4P2"
          ],
          [
           "IL34"
          ],
          [
           "CCDC6"
          ],
          [
           "FHAD1"
          ],
          [
           "NEDD1"
          ]
         ],
         "hovertemplate": "organ=Lung<br>gestation_r2_adj=%{x}<br>temperature_r2_adj=%{y}<br>metabolicRate_r2_adj=%{z}<br>maxlifespan_r2_adj=%{marker.size}<br>symbol=%{text}<extra></extra>",
         "legendgroup": "Lung",
         "marker": {
          "color": "#EF553B",
          "size": [
           0.7347000555,
           0.7330611957,
           0.7153440648999999,
           0.6716138608,
           0.6692904171,
           0.6674971277,
           0.6671757652,
           0.658562778,
           0.6553173668,
           0.6523580429,
           0.6456091138000001,
           0.6430318888000001,
           0.6387704397,
           0.6345428832,
           0.6289682712,
           0.6269657918,
           0.6269363348,
           0.6261962928,
           0.6261803844,
           0.6052346235,
           0.5903701677000001,
           0.604682526,
           0.6016974267,
           0.5969598303,
           0.5950593764,
           0.5871854117,
           0.5821403516,
           0.5820497914,
           0.5816372867,
           0.5760112261,
           0.5699163384,
           0.5602508559,
           0.5581386073,
           0.5560188208,
           0.5546604978,
           0.5529329442,
           0.5489656316,
           0.5466183444,
           0.5460768153,
           0.5436446256,
           0.5411092343,
           0.5396337421,
           0.5353069186,
           0.5326443612,
           0.5320775331,
           0.5314012686999999,
           0.5283382946,
           0.5272456757,
           0.5256145282,
           0.5244978127000001,
           0.5239122298,
           0.522490631,
           0.5221359593,
           0.5210837334,
           0.5198904853,
           0.5190187556,
           0.8259400255,
           0.5178466825,
           0.5156722043,
           0.5139369491,
           0.5123464963000001,
           0.5087287632,
           0.5066248119,
           0.5049622385,
           0.5025188925,
           0.5010878944,
           0.5003548801,
           0.5001741433
          ],
          "sizemode": "area",
          "sizeref": 0.00206485006375,
          "symbol": "circle"
         },
         "mode": "markers+text",
         "name": "Lung",
         "scene": "scene",
         "showlegend": true,
         "text": [
          "TMEM178A",
          "RASGEF1A",
          "ZDHHC1",
          "SFSWAP",
          "TOR2A",
          "TSPAN2",
          "SUN5",
          "TMCC2",
          "SEZ6",
          "POPDC2",
          "NR1D1",
          "EHD4",
          "ALPL",
          "SH3TC2",
          "DCLK2",
          "SMPD1",
          "EVI5L",
          "SLC26A8",
          "FAM83C",
          "UNC79",
          "ERN2",
          "NAB2",
          "TAF3",
          "ALAD",
          "KCNK1",
          "DHX16",
          "MTHFR",
          "MIP",
          "STX4",
          "RGMA",
          "GHR",
          "ARHGAP1",
          "SLC16A5",
          "XPNPEP2",
          "CLUH",
          "DNAJC12",
          "CCDC83",
          "NUDT18",
          "ENG",
          "FNDC7",
          "MTSS1L",
          "MAT1A",
          "NEDD4",
          "SESN2",
          "GFRA3",
          "CLEC2L",
          "LGI3",
          "PKN3",
          "LURAP1L",
          "CCR7",
          "SLC7A10",
          "TMEM204",
          "XRCC1",
          "LRIG3",
          "PMM1",
          "NKD1",
          "KIAA1549",
          "CPLX3",
          "TMEM136",
          "FAM83F",
          "DPT",
          "POLR3H",
          "NDNF",
          "PIP4P2",
          "IL34",
          "CCDC6",
          "FHAD1",
          "NEDD1"
         ],
         "textfont": {
          "size": 8
         },
         "type": "scatter3d",
         "x": [
          0.53976753,
          0.5315222347,
          0.3799621838,
          0.4196252244,
          0.35419486759999996,
          0.4327205319,
          0.4420260167,
          0.36728723329999996,
          0.37995734840000006,
          -0.03409455763,
          0.4400417024,
          0.46352646350000004,
          0.18124370739999998,
          0.376294598,
          0.3426990116,
          0.36112980619999996,
          0.49119773549999995,
          0.3986000704,
          0.4867768493,
          0.3245862254,
          0.6805177949,
          0.5596027083,
          0.32157498079999997,
          0.1402331566,
          0.41039921590000006,
          0.274462631,
          0.5848387719,
          0.2113851576,
          0.5418786335,
          0.38482606979999995,
          0.5050677627,
          0.3114879021,
          0.401706548,
          0.2765497461,
          0.3062856149,
          0.2750199988,
          0.27262367670000004,
          0.4444288287,
          0.3215857991,
          0.19826609809999998,
          0.439064936,
          0.45706718909999994,
          0.2711825368,
          0.2264882816,
          0.35736160899999997,
          0.11795270460000001,
          0.3938615689,
          0.2790497525,
          0.5359387887,
          0.3239222081,
          0.2703016493,
          0.21928034440000002,
          0.2894179254,
          0.471435769,
          0.2598924019,
          0.2727845281,
          0.4212335213,
          0.2850412798,
          0.2967306265,
          0.2914763056,
          0.2588314074,
          -0.045786054349999994,
          0.2715800214,
          0.2188093751,
          0.5149704679,
          0.4335098671,
          0.4140161376,
          0.3213098603
         ],
         "y": [
          -0.04295455083000001,
          0.2870970269,
          0.1754094266,
          0.2668466001,
          0.17377567579999997,
          -0.03786234008,
          0.1469098156,
          -0.004109309562000001,
          -0.0239223408,
          0.08470673756000001,
          -0.0316687899,
          -0.04377472458000001,
          -0.01807118937,
          -0.0372458991,
          -0.04438306611000001,
          -0.054562647129999996,
          -0.02904555838,
          0.06571228571,
          -0.04459221067,
          -0.03865954145,
          -0.07586612186000001,
          0.06300681221,
          -0.0164577613,
          -0.012005442649999998,
          -0.05882132472999999,
          0.03409316352,
          0.02033109495,
          0.09295493922,
          -0.01632136084,
          0.04962773746,
          0.01419148997,
          -0.04784904669,
          0.016944702830000002,
          -0.057971810529999994,
          -0.010302788609999999,
          0.17572290059999998,
          -0.005605342708000001,
          -0.052242214339999996,
          -0.011606658159999998,
          -0.018529491119999998,
          0.00011218424640000001,
          0.1378504013,
          -0.03727043502,
          -0.0029278398979999997,
          0.1496196347,
          -0.019361603459999998,
          -0.05498487099,
          -0.02239595478,
          0.08375770654,
          -0.04612209851,
          -0.03746054662,
          -0.044996893899999994,
          -0.02486578617,
          -0.040683309869999996,
          -0.03279771978,
          -0.04785149416,
          0.6993579194,
          -0.030973713849999997,
          0.2833631018,
          0.09506429295,
          -0.04254892156,
          -0.03326230245,
          -0.029320318510000002,
          -0.04353591533,
          -0.0552583879,
          -0.0365705466,
          -0.031912896680000004,
          0.05009703928999999
         ],
         "z": [
          0.10888768050000001,
          0.09750431712000002,
          0.2410804771,
          0.11052793289999999,
          -0.07011727725,
          0.054850565479999995,
          0.02129576458,
          0.05059025992,
          -0.06883544336,
          0.08674648921,
          0.08405951767999999,
          0.03770927636,
          0.1555573005,
          0.0705086273,
          -0.008823379808,
          0.008004369784,
          0.07370838898,
          0.01049192207,
          -0.0053373957,
          -0.06158592138999999,
          -0.14251721550000002,
          -0.09040137905,
          -0.0039094380770000004,
          0.042237392639999996,
          0.011359851770000002,
          0.1361326883,
          -0.04130738974,
          0.007544234015000001,
          -0.052098648110000007,
          -0.06605069312,
          0.02239706267,
          -0.05811915092,
          0.8497558368000001,
          -0.02991873912,
          -0.036422414369999996,
          0.4262332865,
          0.01621590416,
          -0.0320609321,
          0.1819162011,
          -0.03292862128,
          0.07622070923999999,
          0.05983734472999999,
          0.005816130834,
          0.08245426437999999,
          -0.1389371187,
          -0.021954131600000003,
          0.09789815402,
          0.01076252249,
          -0.014891343969999998,
          0.021425716830000004,
          -0.007567619241,
          0.04571994424,
          0.07529106501,
          -0.06658843622999999,
          -0.000513877875,
          -0.05277983605000001,
          0,
          0.001523408413,
          0.00522102559,
          -0.02941135937,
          0.11688330539999998,
          -0.02906859506,
          -0.029443629480000004,
          0.04815869976,
          0.02884494995,
          -0.08919712832,
          -0.10643470630000001,
          0.1666423835
         ]
        },
        {
         "customdata": [
          [
           "SUN3"
          ],
          [
           "AQP4"
          ],
          [
           "TCF19"
          ],
          [
           "SPP2"
          ],
          [
           "GCLM"
          ],
          [
           "ELL3"
          ],
          [
           "CAB39L"
          ]
         ],
         "hovertemplate": "organ=Kidney<br>gestation_r2_adj=%{x}<br>temperature_r2_adj=%{y}<br>metabolicRate_r2_adj=%{z}<br>maxlifespan_r2_adj=%{marker.size}<br>symbol=%{text}<extra></extra>",
         "legendgroup": "Kidney",
         "marker": {
          "color": "#00cc96",
          "size": [
           0.5782393946,
           0.5680120095000001,
           0.5568962204,
           0.5107139338000001,
           0.5076805972,
           0.507398355,
           0.5068445821
          ],
          "sizemode": "area",
          "sizeref": 0.00206485006375,
          "symbol": "circle"
         },
         "mode": "markers+text",
         "name": "Kidney",
         "scene": "scene",
         "showlegend": true,
         "text": [
          "SUN3",
          "AQP4",
          "TCF19",
          "SPP2",
          "GCLM",
          "ELL3",
          "CAB39L"
         ],
         "textfont": {
          "size": 8
         },
         "type": "scatter3d",
         "x": [
          0.1986367797,
          0.1345072458,
          0.1815923196,
          0.1904960282,
          0.05694772762,
          0.2719680889,
          0.174743683
         ],
         "y": [
          0.001169252435,
          -0.012486408610000001,
          -0.01888249421,
          -0.02081183517,
          -0.01851186751,
          0.03543238259,
          -0.019710648180000002
         ],
         "z": [
          0.04193933253,
          0.01742645513,
          0.046374410369999994,
          0.04010970126,
          0.02023117174,
          0.04708594396000001,
          0.01208259858
         ]
        },
        {
         "customdata": [
          [
           "C6orf89"
          ],
          [
           "GNA12"
          ],
          [
           "SMPD1"
          ],
          [
           "CYHR1"
          ]
         ],
         "hovertemplate": "organ=Liver<br>gestation_r2_adj=%{x}<br>temperature_r2_adj=%{y}<br>metabolicRate_r2_adj=%{z}<br>maxlifespan_r2_adj=%{marker.size}<br>symbol=%{text}<extra></extra>",
         "legendgroup": "Liver",
         "marker": {
          "color": "#ab63fa",
          "size": [
           0.5324703432,
           0.517182759,
           0.512952375,
           0.501257711
          ],
          "sizemode": "area",
          "sizeref": 0.00206485006375,
          "symbol": "circle"
         },
         "mode": "markers+text",
         "name": "Liver",
         "scene": "scene",
         "showlegend": true,
         "text": [
          "C6orf89",
          "GNA12",
          "SMPD1",
          "CYHR1"
         ],
         "textfont": {
          "size": 8
         },
         "type": "scatter3d",
         "x": [
          0.2882126248,
          0.1568589111,
          0.16855973800000001,
          0.1356999355
         ],
         "y": [
          -0.011419906399999999,
          0.0074101623210000005,
          0.00497586299,
          -0.006018035791
         ],
         "z": [
          0.01252305038,
          -0.0012459962020000001,
          -0.0068222,
          -0.013051264650000002
         ]
        }
       ],
       "layout": {
        "height": 800,
        "legend": {
         "itemsizing": "constant",
         "title": {
          "text": "organ"
         },
         "tracegroupgap": 0
        },
        "margin": {
         "b": 100,
         "l": 50,
         "r": 50,
         "t": 10
        },
        "paper_bgcolor": "LightSteelBlue",
        "scene": {
         "aspectmode": "auto",
         "aspectratio": {
          "x": 0.8818460094587474,
          "y": 0.9412427428651885,
          "z": 1.2047740520276555
         },
         "camera": {
          "center": {
           "x": 0,
           "y": 0,
           "z": 0
          },
          "eye": {
           "x": 1.2500000000000002,
           "y": 1.25,
           "z": 1.2500000000000002
          },
          "projection": {
           "type": "perspective"
          },
          "up": {
           "x": 0,
           "y": 0,
           "z": 1
          }
         },
         "domain": {
          "x": [
           0,
           1
          ],
          "y": [
           0,
           1
          ]
         },
         "xaxis": {
          "title": {
           "text": "gestation_r2_adj"
          },
          "type": "linear"
         },
         "yaxis": {
          "title": {
           "text": "temperature_r2_adj"
          },
          "type": "linear"
         },
         "zaxis": {
          "title": {
           "text": "metabolicRate_r2_adj"
          },
          "type": "linear"
         }
        },
        "template": {
         "data": {
          "bar": [
           {
            "error_x": {
             "color": "#2a3f5f"
            },
            "error_y": {
             "color": "#2a3f5f"
            },
            "marker": {
             "line": {
              "color": "#E5ECF6",
              "width": 0.5
             }
            },
            "type": "bar"
           }
          ],
          "barpolar": [
           {
            "marker": {
             "line": {
              "color": "#E5ECF6",
              "width": 0.5
             }
            },
            "type": "barpolar"
           }
          ],
          "carpet": [
           {
            "aaxis": {
             "endlinecolor": "#2a3f5f",
             "gridcolor": "white",
             "linecolor": "white",
             "minorgridcolor": "white",
             "startlinecolor": "#2a3f5f"
            },
            "baxis": {
             "endlinecolor": "#2a3f5f",
             "gridcolor": "white",
             "linecolor": "white",
             "minorgridcolor": "white",
             "startlinecolor": "#2a3f5f"
            },
            "type": "carpet"
           }
          ],
          "choropleth": [
           {
            "colorbar": {
             "outlinewidth": 0,
             "ticks": ""
            },
            "type": "choropleth"
           }
          ],
          "contour": [
           {
            "colorbar": {
             "outlinewidth": 0,
             "ticks": ""
            },
            "colorscale": [
             [
              0,
              "#0d0887"
             ],
             [
              0.1111111111111111,
              "#46039f"
             ],
             [
              0.2222222222222222,
              "#7201a8"
             ],
             [
              0.3333333333333333,
              "#9c179e"
             ],
             [
              0.4444444444444444,
              "#bd3786"
             ],
             [
              0.5555555555555556,
              "#d8576b"
             ],
             [
              0.6666666666666666,
              "#ed7953"
             ],
             [
              0.7777777777777778,
              "#fb9f3a"
             ],
             [
              0.8888888888888888,
              "#fdca26"
             ],
             [
              1,
              "#f0f921"
             ]
            ],
            "type": "contour"
           }
          ],
          "contourcarpet": [
           {
            "colorbar": {
             "outlinewidth": 0,
             "ticks": ""
            },
            "type": "contourcarpet"
           }
          ],
          "heatmap": [
           {
            "colorbar": {
             "outlinewidth": 0,
             "ticks": ""
            },
            "colorscale": [
             [
              0,
              "#0d0887"
             ],
             [
              0.1111111111111111,
              "#46039f"
             ],
             [
              0.2222222222222222,
              "#7201a8"
             ],
             [
              0.3333333333333333,
              "#9c179e"
             ],
             [
              0.4444444444444444,
              "#bd3786"
             ],
             [
              0.5555555555555556,
              "#d8576b"
             ],
             [
              0.6666666666666666,
              "#ed7953"
             ],
             [
              0.7777777777777778,
              "#fb9f3a"
             ],
             [
              0.8888888888888888,
              "#fdca26"
             ],
             [
              1,
              "#f0f921"
             ]
            ],
            "type": "heatmap"
           }
          ],
          "heatmapgl": [
           {
            "colorbar": {
             "outlinewidth": 0,
             "ticks": ""
            },
            "colorscale": [
             [
              0,
              "#0d0887"
             ],
             [
              0.1111111111111111,
              "#46039f"
             ],
             [
              0.2222222222222222,
              "#7201a8"
             ],
             [
              0.3333333333333333,
              "#9c179e"
             ],
             [
              0.4444444444444444,
              "#bd3786"
             ],
             [
              0.5555555555555556,
              "#d8576b"
             ],
             [
              0.6666666666666666,
              "#ed7953"
             ],
             [
              0.7777777777777778,
              "#fb9f3a"
             ],
             [
              0.8888888888888888,
              "#fdca26"
             ],
             [
              1,
              "#f0f921"
             ]
            ],
            "type": "heatmapgl"
           }
          ],
          "histogram": [
           {
            "marker": {
             "colorbar": {
              "outlinewidth": 0,
              "ticks": ""
             }
            },
            "type": "histogram"
           }
          ],
          "histogram2d": [
           {
            "colorbar": {
             "outlinewidth": 0,
             "ticks": ""
            },
            "colorscale": [
             [
              0,
              "#0d0887"
             ],
             [
              0.1111111111111111,
              "#46039f"
             ],
             [
              0.2222222222222222,
              "#7201a8"
             ],
             [
              0.3333333333333333,
              "#9c179e"
             ],
             [
              0.4444444444444444,
              "#bd3786"
             ],
             [
              0.5555555555555556,
              "#d8576b"
             ],
             [
              0.6666666666666666,
              "#ed7953"
             ],
             [
              0.7777777777777778,
              "#fb9f3a"
             ],
             [
              0.8888888888888888,
              "#fdca26"
             ],
             [
              1,
              "#f0f921"
             ]
            ],
            "type": "histogram2d"
           }
          ],
          "histogram2dcontour": [
           {
            "colorbar": {
             "outlinewidth": 0,
             "ticks": ""
            },
            "colorscale": [
             [
              0,
              "#0d0887"
             ],
             [
              0.1111111111111111,
              "#46039f"
             ],
             [
              0.2222222222222222,
              "#7201a8"
             ],
             [
              0.3333333333333333,
              "#9c179e"
             ],
             [
              0.4444444444444444,
              "#bd3786"
             ],
             [
              0.5555555555555556,
              "#d8576b"
             ],
             [
              0.6666666666666666,
              "#ed7953"
             ],
             [
              0.7777777777777778,
              "#fb9f3a"
             ],
             [
              0.8888888888888888,
              "#fdca26"
             ],
             [
              1,
              "#f0f921"
             ]
            ],
            "type": "histogram2dcontour"
           }
          ],
          "mesh3d": [
           {
            "colorbar": {
             "outlinewidth": 0,
             "ticks": ""
            },
            "type": "mesh3d"
           }
          ],
          "parcoords": [
           {
            "line": {
             "colorbar": {
              "outlinewidth": 0,
              "ticks": ""
             }
            },
            "type": "parcoords"
           }
          ],
          "pie": [
           {
            "automargin": true,
            "type": "pie"
           }
          ],
          "scatter": [
           {
            "marker": {
             "colorbar": {
              "outlinewidth": 0,
              "ticks": ""
             }
            },
            "type": "scatter"
           }
          ],
          "scatter3d": [
           {
            "line": {
             "colorbar": {
              "outlinewidth": 0,
              "ticks": ""
             }
            },
            "marker": {
             "colorbar": {
              "outlinewidth": 0,
              "ticks": ""
             }
            },
            "type": "scatter3d"
           }
          ],
          "scattercarpet": [
           {
            "marker": {
             "colorbar": {
              "outlinewidth": 0,
              "ticks": ""
             }
            },
            "type": "scattercarpet"
           }
          ],
          "scattergeo": [
           {
            "marker": {
             "colorbar": {
              "outlinewidth": 0,
              "ticks": ""
             }
            },
            "type": "scattergeo"
           }
          ],
          "scattergl": [
           {
            "marker": {
             "colorbar": {
              "outlinewidth": 0,
              "ticks": ""
             }
            },
            "type": "scattergl"
           }
          ],
          "scattermapbox": [
           {
            "marker": {
             "colorbar": {
              "outlinewidth": 0,
              "ticks": ""
             }
            },
            "type": "scattermapbox"
           }
          ],
          "scatterpolar": [
           {
            "marker": {
             "colorbar": {
              "outlinewidth": 0,
              "ticks": ""
             }
            },
            "type": "scatterpolar"
           }
          ],
          "scatterpolargl": [
           {
            "marker": {
             "colorbar": {
              "outlinewidth": 0,
              "ticks": ""
             }
            },
            "type": "scatterpolargl"
           }
          ],
          "scatterternary": [
           {
            "marker": {
             "colorbar": {
              "outlinewidth": 0,
              "ticks": ""
             }
            },
            "type": "scatterternary"
           }
          ],
          "surface": [
           {
            "colorbar": {
             "outlinewidth": 0,
             "ticks": ""
            },
            "colorscale": [
             [
              0,
              "#0d0887"
             ],
             [
              0.1111111111111111,
              "#46039f"
             ],
             [
              0.2222222222222222,
              "#7201a8"
             ],
             [
              0.3333333333333333,
              "#9c179e"
             ],
             [
              0.4444444444444444,
              "#bd3786"
             ],
             [
              0.5555555555555556,
              "#d8576b"
             ],
             [
              0.6666666666666666,
              "#ed7953"
             ],
             [
              0.7777777777777778,
              "#fb9f3a"
             ],
             [
              0.8888888888888888,
              "#fdca26"
             ],
             [
              1,
              "#f0f921"
             ]
            ],
            "type": "surface"
           }
          ],
          "table": [
           {
            "cells": {
             "fill": {
              "color": "#EBF0F8"
             },
             "line": {
              "color": "white"
             }
            },
            "header": {
             "fill": {
              "color": "#C8D4E3"
             },
             "line": {
              "color": "white"
             }
            },
            "type": "table"
           }
          ]
         },
         "layout": {
          "annotationdefaults": {
           "arrowcolor": "#2a3f5f",
           "arrowhead": 0,
           "arrowwidth": 1
          },
          "coloraxis": {
           "colorbar": {
            "outlinewidth": 0,
            "ticks": ""
           }
          },
          "colorscale": {
           "diverging": [
            [
             0,
             "#8e0152"
            ],
            [
             0.1,
             "#c51b7d"
            ],
            [
             0.2,
             "#de77ae"
            ],
            [
             0.3,
             "#f1b6da"
            ],
            [
             0.4,
             "#fde0ef"
            ],
            [
             0.5,
             "#f7f7f7"
            ],
            [
             0.6,
             "#e6f5d0"
            ],
            [
             0.7,
             "#b8e186"
            ],
            [
             0.8,
             "#7fbc41"
            ],
            [
             0.9,
             "#4d9221"
            ],
            [
             1,
             "#276419"
            ]
           ],
           "sequential": [
            [
             0,
             "#0d0887"
            ],
            [
             0.1111111111111111,
             "#46039f"
            ],
            [
             0.2222222222222222,
             "#7201a8"
            ],
            [
             0.3333333333333333,
             "#9c179e"
            ],
            [
             0.4444444444444444,
             "#bd3786"
            ],
            [
             0.5555555555555556,
             "#d8576b"
            ],
            [
             0.6666666666666666,
             "#ed7953"
            ],
            [
             0.7777777777777778,
             "#fb9f3a"
            ],
            [
             0.8888888888888888,
             "#fdca26"
            ],
            [
             1,
             "#f0f921"
            ]
           ],
           "sequentialminus": [
            [
             0,
             "#0d0887"
            ],
            [
             0.1111111111111111,
             "#46039f"
            ],
            [
             0.2222222222222222,
             "#7201a8"
            ],
            [
             0.3333333333333333,
             "#9c179e"
            ],
            [
             0.4444444444444444,
             "#bd3786"
            ],
            [
             0.5555555555555556,
             "#d8576b"
            ],
            [
             0.6666666666666666,
             "#ed7953"
            ],
            [
             0.7777777777777778,
             "#fb9f3a"
            ],
            [
             0.8888888888888888,
             "#fdca26"
            ],
            [
             1,
             "#f0f921"
            ]
           ]
          },
          "colorway": [
           "#636efa",
           "#EF553B",
           "#00cc96",
           "#ab63fa",
           "#FFA15A",
           "#19d3f3",
           "#FF6692",
           "#B6E880",
           "#FF97FF",
           "#FECB52"
          ],
          "font": {
           "color": "#2a3f5f"
          },
          "geo": {
           "bgcolor": "white",
           "lakecolor": "white",
           "landcolor": "#E5ECF6",
           "showlakes": true,
           "showland": true,
           "subunitcolor": "white"
          },
          "hoverlabel": {
           "align": "left"
          },
          "hovermode": "closest",
          "mapbox": {
           "style": "light"
          },
          "paper_bgcolor": "white",
          "plot_bgcolor": "#E5ECF6",
          "polar": {
           "angularaxis": {
            "gridcolor": "white",
            "linecolor": "white",
            "ticks": ""
           },
           "bgcolor": "#E5ECF6",
           "radialaxis": {
            "gridcolor": "white",
            "linecolor": "white",
            "ticks": ""
           }
          },
          "scene": {
           "xaxis": {
            "backgroundcolor": "#E5ECF6",
            "gridcolor": "white",
            "gridwidth": 2,
            "linecolor": "white",
            "showbackground": true,
            "ticks": "",
            "zerolinecolor": "white"
           },
           "yaxis": {
            "backgroundcolor": "#E5ECF6",
            "gridcolor": "white",
            "gridwidth": 2,
            "linecolor": "white",
            "showbackground": true,
            "ticks": "",
            "zerolinecolor": "white"
           },
           "zaxis": {
            "backgroundcolor": "#E5ECF6",
            "gridcolor": "white",
            "gridwidth": 2,
            "linecolor": "white",
            "showbackground": true,
            "ticks": "",
            "zerolinecolor": "white"
           }
          },
          "shapedefaults": {
           "line": {
            "color": "#2a3f5f"
           }
          },
          "ternary": {
           "aaxis": {
            "gridcolor": "white",
            "linecolor": "white",
            "ticks": ""
           },
           "baxis": {
            "gridcolor": "white",
            "linecolor": "white",
            "ticks": ""
           },
           "bgcolor": "#E5ECF6",
           "caxis": {
            "gridcolor": "white",
            "linecolor": "white",
            "ticks": ""
           }
          },
          "title": {
           "x": 0.05
          },
          "xaxis": {
           "automargin": true,
           "gridcolor": "white",
           "linecolor": "white",
           "ticks": "",
           "title": {
            "standoff": 15
           },
           "zerolinecolor": "white",
           "zerolinewidth": 2
          },
          "yaxis": {
           "automargin": true,
           "gridcolor": "white",
           "linecolor": "white",
           "ticks": "",
           "title": {
            "standoff": 15
           },
           "zerolinecolor": "white",
           "zerolinewidth": 2
          }
         }
        },
        "width": 800
       }
      },
      "image/png": "[encoded data removed]",
      "text/html": [
       "<div>\n",
       "        \n",
       "        \n",
       "            <div id=\"4ddb2fb9-afa5-4cba-be7d-51e677b3643f\" class=\"plotly-graph-div\" style=\"height:800px; width:800px;\"></div>\n",
       "            <script type=\"text/javascript\">\n",
       "                require([\"plotly\"], function(Plotly) {\n",
       "                    window.PLOTLYENV=window.PLOTLYENV || {};\n",
       "                    \n",
       "                if (document.getElementById(\"4ddb2fb9-afa5-4cba-be7d-51e677b3643f\")) {\n",
       "                    Plotly.newPlot(\n",
       "                        '4ddb2fb9-afa5-4cba-be7d-51e677b3643f',\n",
       "                        [{\"customdata\": [[\"ACBD4\"], [\"KIAA1549\"], [\"PGR\"], [\"NEDD4\"], [\"FAM81A\"], [\"CYHR1\"], [\"RASGEF1A\"], [\"TRIM35\"], [\"ACSL5\"], [\"NUDT18\"], [\"HDAC3\"]], \"hovertemplate\": \"organ=Brain<br>gestation_r2_adj=%{x}<br>temperature_r2_adj=%{y}<br>metabolicRate_r2_adj=%{z}<br>maxlifespan_r2_adj=%{marker.size}<br>symbol=%{text}<extra></extra>\", \"legendgroup\": \"Brain\", \"marker\": {\"color\": \"#636efa\", \"size\": [0.7538338770999999, 0.7071049072, 0.6030546282, 0.5981829117, 0.5768562322, 0.5683329555, 0.5655564895, 0.5587439833, 0.5422204344, 0.5328621211, 0.5111091003], \"sizemode\": \"area\", \"sizeref\": 0.00206485006375, \"symbol\": \"circle\"}, \"mode\": \"markers+text\", \"name\": \"Brain\", \"scene\": \"scene\", \"showlegend\": true, \"text\": [\"ACBD4\", \"KIAA1549\", \"PGR\", \"NEDD4\", \"FAM81A\", \"CYHR1\", \"RASGEF1A\", \"TRIM35\", \"ACSL5\", \"NUDT18\", \"HDAC3\"], \"textfont\": {\"size\": 8}, \"type\": \"scatter3d\", \"x\": [0.49570456420000003, 0.5118816125, 0.28184335120000004, 0.1777423867, 0.2198820614, 0.127356475, 0.20711746829999997, 0.2352715311, 0.1067409085, 0.12558347039999998, 0.3142374931], \"y\": [0.006724746749, 0.6040319603000001, 0.10074624210000001, -0.0020720920920000003, 0.055115855410000004, -7.170000000000001e-05, 0.2467733297, 0.005458312491, 0.00440345079, 0.21534980969999998, -0.008322186708], \"z\": [0.500239827, 0.0, -0.03310175093000001, 0.03639314718, -0.0067630066319999994, -0.02040625941, 0.1963996209, 0.0119056645, -0.006343237215, 0.007802795638999999, -0.01458213389]}, {\"customdata\": [[\"TMEM178A\"], [\"RASGEF1A\"], [\"ZDHHC1\"], [\"SFSWAP\"], [\"TOR2A\"], [\"TSPAN2\"], [\"SUN5\"], [\"TMCC2\"], [\"SEZ6\"], [\"POPDC2\"], [\"NR1D1\"], [\"EHD4\"], [\"ALPL\"], [\"SH3TC2\"], [\"DCLK2\"], [\"SMPD1\"], [\"EVI5L\"], [\"SLC26A8\"], [\"FAM83C\"], [\"UNC79\"], [\"ERN2\"], [\"NAB2\"], [\"TAF3\"], [\"ALAD\"], [\"KCNK1\"], [\"DHX16\"], [\"MTHFR\"], [\"MIP\"], [\"STX4\"], [\"RGMA\"], [\"GHR\"], [\"ARHGAP1\"], [\"SLC16A5\"], [\"XPNPEP2\"], [\"CLUH\"], [\"DNAJC12\"], [\"CCDC83\"], [\"NUDT18\"], [\"ENG\"], [\"FNDC7\"], [\"MTSS1L\"], [\"MAT1A\"], [\"NEDD4\"], [\"SESN2\"], [\"GFRA3\"], [\"CLEC2L\"], [\"LGI3\"], [\"PKN3\"], [\"LURAP1L\"], [\"CCR7\"], [\"SLC7A10\"], [\"TMEM204\"], [\"XRCC1\"], [\"LRIG3\"], [\"PMM1\"], [\"NKD1\"], [\"KIAA1549\"], [\"CPLX3\"], [\"TMEM136\"], [\"FAM83F\"], [\"DPT\"], [\"POLR3H\"], [\"NDNF\"], [\"PIP4P2\"], [\"IL34\"], [\"CCDC6\"], [\"FHAD1\"], [\"NEDD1\"]], \"hovertemplate\": \"organ=Lung<br>gestation_r2_adj=%{x}<br>temperature_r2_adj=%{y}<br>metabolicRate_r2_adj=%{z}<br>maxlifespan_r2_adj=%{marker.size}<br>symbol=%{text}<extra></extra>\", \"legendgroup\": \"Lung\", \"marker\": {\"color\": \"#EF553B\", \"size\": [0.7347000555, 0.7330611957, 0.7153440648999999, 0.6716138608, 0.6692904171, 0.6674971277, 0.6671757652, 0.658562778, 0.6553173668, 0.6523580429, 0.6456091138000001, 0.6430318888000001, 0.6387704397, 0.6345428832, 0.6289682712, 0.6269657918, 0.6269363348, 0.6261962928, 0.6261803844, 0.6052346235, 0.5903701677000001, 0.604682526, 0.6016974267, 0.5969598303, 0.5950593764, 0.5871854117, 0.5821403516, 0.5820497914, 0.5816372867, 0.5760112261, 0.5699163384, 0.5602508559, 0.5581386073, 0.5560188208, 0.5546604978, 0.5529329442, 0.5489656316, 0.5466183444, 0.5460768153, 0.5436446256, 0.5411092343, 0.5396337421, 0.5353069186, 0.5326443612, 0.5320775331, 0.5314012686999999, 0.5283382946, 0.5272456757, 0.5256145282, 0.5244978127000001, 0.5239122298, 0.522490631, 0.5221359593, 0.5210837334, 0.5198904853, 0.5190187556, 0.8259400255, 0.5178466825, 0.5156722043, 0.5139369491, 0.5123464963000001, 0.5087287632, 0.5066248119, 0.5049622385, 0.5025188925, 0.5010878944, 0.5003548801, 0.5001741433], \"sizemode\": \"area\", \"sizeref\": 0.00206485006375, \"symbol\": \"circle\"}, \"mode\": \"markers+text\", \"name\": \"Lung\", \"scene\": \"scene\", \"showlegend\": true, \"text\": [\"TMEM178A\", \"RASGEF1A\", \"ZDHHC1\", \"SFSWAP\", \"TOR2A\", \"TSPAN2\", \"SUN5\", \"TMCC2\", \"SEZ6\", \"POPDC2\", \"NR1D1\", \"EHD4\", \"ALPL\", \"SH3TC2\", \"DCLK2\", \"SMPD1\", \"EVI5L\", \"SLC26A8\", \"FAM83C\", \"UNC79\", \"ERN2\", \"NAB2\", \"TAF3\", \"ALAD\", \"KCNK1\", \"DHX16\", \"MTHFR\", \"MIP\", \"STX4\", \"RGMA\", \"GHR\", \"ARHGAP1\", \"SLC16A5\", \"XPNPEP2\", \"CLUH\", \"DNAJC12\", \"CCDC83\", \"NUDT18\", \"ENG\", \"FNDC7\", \"MTSS1L\", \"MAT1A\", \"NEDD4\", \"SESN2\", \"GFRA3\", \"CLEC2L\", \"LGI3\", \"PKN3\", \"LURAP1L\", \"CCR7\", \"SLC7A10\", \"TMEM204\", \"XRCC1\", \"LRIG3\", \"PMM1\", \"NKD1\", \"KIAA1549\", \"CPLX3\", \"TMEM136\", \"FAM83F\", \"DPT\", \"POLR3H\", \"NDNF\", \"PIP4P2\", \"IL34\", \"CCDC6\", \"FHAD1\", \"NEDD1\"], \"textfont\": {\"size\": 8}, \"type\": \"scatter3d\", \"x\": [0.53976753, 0.5315222347, 0.3799621838, 0.4196252244, 0.35419486759999996, 0.4327205319, 0.4420260167, 0.36728723329999996, 0.37995734840000006, -0.03409455763, 0.4400417024, 0.46352646350000004, 0.18124370739999998, 0.376294598, 0.3426990116, 0.36112980619999996, 0.49119773549999995, 0.3986000704, 0.4867768493, 0.3245862254, 0.6805177949, 0.5596027083, 0.32157498079999997, 0.1402331566, 0.41039921590000006, 0.274462631, 0.5848387719, 0.2113851576, 0.5418786335, 0.38482606979999995, 0.5050677627, 0.3114879021, 0.401706548, 0.2765497461, 0.3062856149, 0.2750199988, 0.27262367670000004, 0.4444288287, 0.3215857991, 0.19826609809999998, 0.439064936, 0.45706718909999994, 0.2711825368, 0.2264882816, 0.35736160899999997, 0.11795270460000001, 0.3938615689, 0.2790497525, 0.5359387887, 0.3239222081, 0.2703016493, 0.21928034440000002, 0.2894179254, 0.471435769, 0.2598924019, 0.2727845281, 0.4212335213, 0.2850412798, 0.2967306265, 0.2914763056, 0.2588314074, -0.045786054349999994, 0.2715800214, 0.2188093751, 0.5149704679, 0.4335098671, 0.4140161376, 0.3213098603], \"y\": [-0.04295455083000001, 0.2870970269, 0.1754094266, 0.2668466001, 0.17377567579999997, -0.03786234008, 0.1469098156, -0.004109309562000001, -0.0239223408, 0.08470673756000001, -0.0316687899, -0.04377472458000001, -0.01807118937, -0.0372458991, -0.04438306611000001, -0.054562647129999996, -0.02904555838, 0.06571228571, -0.04459221067, -0.03865954145, -0.07586612186000001, 0.06300681221, -0.0164577613, -0.012005442649999998, -0.05882132472999999, 0.03409316352, 0.02033109495, 0.09295493922, -0.01632136084, 0.04962773746, 0.01419148997, -0.04784904669, 0.016944702830000002, -0.057971810529999994, -0.010302788609999999, 0.17572290059999998, -0.005605342708000001, -0.052242214339999996, -0.011606658159999998, -0.018529491119999998, 0.00011218424640000001, 0.1378504013, -0.03727043502, -0.0029278398979999997, 0.1496196347, -0.019361603459999998, -0.05498487099, -0.02239595478, 0.08375770654, -0.04612209851, -0.03746054662, -0.044996893899999994, -0.02486578617, -0.040683309869999996, -0.03279771978, -0.04785149416, 0.6993579194, -0.030973713849999997, 0.2833631018, 0.09506429295, -0.04254892156, -0.03326230245, -0.029320318510000002, -0.04353591533, -0.0552583879, -0.0365705466, -0.031912896680000004, 0.05009703928999999], \"z\": [0.10888768050000001, 0.09750431712000002, 0.2410804771, 0.11052793289999999, -0.07011727725, 0.054850565479999995, 0.02129576458, 0.05059025992, -0.06883544336, 0.08674648921, 0.08405951767999999, 0.03770927636, 0.1555573005, 0.0705086273, -0.008823379808, 0.008004369784, 0.07370838898, 0.01049192207, -0.0053373957, -0.06158592138999999, -0.14251721550000002, -0.09040137905, -0.0039094380770000004, 0.042237392639999996, 0.011359851770000002, 0.1361326883, -0.04130738974, 0.007544234015000001, -0.052098648110000007, -0.06605069312, 0.02239706267, -0.05811915092, 0.8497558368000001, -0.02991873912, -0.036422414369999996, 0.4262332865, 0.01621590416, -0.0320609321, 0.1819162011, -0.03292862128, 0.07622070923999999, 0.05983734472999999, 0.005816130834, 0.08245426437999999, -0.1389371187, -0.021954131600000003, 0.09789815402, 0.01076252249, -0.014891343969999998, 0.021425716830000004, -0.007567619241, 0.04571994424, 0.07529106501, -0.06658843622999999, -0.000513877875, -0.05277983605000001, 0.0, 0.001523408413, 0.00522102559, -0.02941135937, 0.11688330539999998, -0.02906859506, -0.029443629480000004, 0.04815869976, 0.02884494995, -0.08919712832, -0.10643470630000001, 0.1666423835]}, {\"customdata\": [[\"SUN3\"], [\"AQP4\"], [\"TCF19\"], [\"SPP2\"], [\"GCLM\"], [\"ELL3\"], [\"CAB39L\"]], \"hovertemplate\": \"organ=Kidney<br>gestation_r2_adj=%{x}<br>temperature_r2_adj=%{y}<br>metabolicRate_r2_adj=%{z}<br>maxlifespan_r2_adj=%{marker.size}<br>symbol=%{text}<extra></extra>\", \"legendgroup\": \"Kidney\", \"marker\": {\"color\": \"#00cc96\", \"size\": [0.5782393946, 0.5680120095000001, 0.5568962204, 0.5107139338000001, 0.5076805972, 0.507398355, 0.5068445821], \"sizemode\": \"area\", \"sizeref\": 0.00206485006375, \"symbol\": \"circle\"}, \"mode\": \"markers+text\", \"name\": \"Kidney\", \"scene\": \"scene\", \"showlegend\": true, \"text\": [\"SUN3\", \"AQP4\", \"TCF19\", \"SPP2\", \"GCLM\", \"ELL3\", \"CAB39L\"], \"textfont\": {\"size\": 8}, \"type\": \"scatter3d\", \"x\": [0.1986367797, 0.1345072458, 0.1815923196, 0.1904960282, 0.05694772762, 0.2719680889, 0.174743683], \"y\": [0.001169252435, -0.012486408610000001, -0.01888249421, -0.02081183517, -0.01851186751, 0.03543238259, -0.019710648180000002], \"z\": [0.04193933253, 0.01742645513, 0.046374410369999994, 0.04010970126, 0.02023117174, 0.04708594396000001, 0.01208259858]}, {\"customdata\": [[\"C6orf89\"], [\"GNA12\"], [\"SMPD1\"], [\"CYHR1\"]], \"hovertemplate\": \"organ=Liver<br>gestation_r2_adj=%{x}<br>temperature_r2_adj=%{y}<br>metabolicRate_r2_adj=%{z}<br>maxlifespan_r2_adj=%{marker.size}<br>symbol=%{text}<extra></extra>\", \"legendgroup\": \"Liver\", \"marker\": {\"color\": \"#ab63fa\", \"size\": [0.5324703432, 0.517182759, 0.512952375, 0.501257711], \"sizemode\": \"area\", \"sizeref\": 0.00206485006375, \"symbol\": \"circle\"}, \"mode\": \"markers+text\", \"name\": \"Liver\", \"scene\": \"scene\", \"showlegend\": true, \"text\": [\"C6orf89\", \"GNA12\", \"SMPD1\", \"CYHR1\"], \"textfont\": {\"size\": 8}, \"type\": \"scatter3d\", \"x\": [0.2882126248, 0.1568589111, 0.16855973800000001, 0.1356999355], \"y\": [-0.011419906399999999, 0.0074101623210000005, 0.00497586299, -0.006018035791], \"z\": [0.01252305038, -0.0012459962020000001, -0.0068222, -0.013051264650000002]}],\n",
       "                        {\"height\": 800, \"legend\": {\"itemsizing\": \"constant\", \"title\": {\"text\": \"organ\"}, \"tracegroupgap\": 0}, \"margin\": {\"b\": 100, \"l\": 50, \"r\": 50, \"t\": 10}, \"paper_bgcolor\": \"LightSteelBlue\", \"scene\": {\"domain\": {\"x\": [0.0, 1.0], \"y\": [0.0, 1.0]}, \"xaxis\": {\"title\": {\"text\": \"gestation_r2_adj\"}}, \"yaxis\": {\"title\": {\"text\": \"temperature_r2_adj\"}}, \"zaxis\": {\"title\": {\"text\": \"metabolicRate_r2_adj\"}}}, \"template\": {\"data\": {\"bar\": [{\"error_x\": {\"color\": \"#2a3f5f\"}, \"error_y\": {\"color\": \"#2a3f5f\"}, \"marker\": {\"line\": {\"color\": \"#E5ECF6\", \"width\": 0.5}}, \"type\": \"bar\"}], \"barpolar\": [{\"marker\": {\"line\": {\"color\": \"#E5ECF6\", \"width\": 0.5}}, \"type\": \"barpolar\"}], \"carpet\": [{\"aaxis\": {\"endlinecolor\": \"#2a3f5f\", \"gridcolor\": \"white\", \"linecolor\": \"white\", \"minorgridcolor\": \"white\", \"startlinecolor\": \"#2a3f5f\"}, \"baxis\": {\"endlinecolor\": \"#2a3f5f\", \"gridcolor\": \"white\", \"linecolor\": \"white\", \"minorgridcolor\": \"white\", \"startlinecolor\": \"#2a3f5f\"}, \"type\": \"carpet\"}], \"choropleth\": [{\"colorbar\": {\"outlinewidth\": 0, \"ticks\": \"\"}, \"type\": \"choropleth\"}], \"contour\": [{\"colorbar\": {\"outlinewidth\": 0, \"ticks\": \"\"}, \"colorscale\": [[0.0, \"#0d0887\"], [0.1111111111111111, \"#46039f\"], [0.2222222222222222, \"#7201a8\"], [0.3333333333333333, \"#9c179e\"], [0.4444444444444444, \"#bd3786\"], [0.5555555555555556, \"#d8576b\"], [0.6666666666666666, \"#ed7953\"], [0.7777777777777778, \"#fb9f3a\"], [0.8888888888888888, \"#fdca26\"], [1.0, \"#f0f921\"]], \"type\": \"contour\"}], \"contourcarpet\": [{\"colorbar\": {\"outlinewidth\": 0, \"ticks\": \"\"}, \"type\": \"contourcarpet\"}], \"heatmap\": [{\"colorbar\": {\"outlinewidth\": 0, \"ticks\": \"\"}, \"colorscale\": [[0.0, \"#0d0887\"], [0.1111111111111111, \"#46039f\"], [0.2222222222222222, \"#7201a8\"], [0.3333333333333333, \"#9c179e\"], [0.4444444444444444, \"#bd3786\"], [0.5555555555555556, \"#d8576b\"], [0.6666666666666666, \"#ed7953\"], [0.7777777777777778, \"#fb9f3a\"], [0.8888888888888888, \"#fdca26\"], [1.0, \"#f0f921\"]], \"type\": \"heatmap\"}], \"heatmapgl\": [{\"colorbar\": {\"outlinewidth\": 0, \"ticks\": \"\"}, \"colorscale\": [[0.0, \"#0d0887\"], [0.1111111111111111, \"#46039f\"], [0.2222222222222222, \"#7201a8\"], [0.3333333333333333, \"#9c179e\"], [0.4444444444444444, \"#bd3786\"], [0.5555555555555556, \"#d8576b\"], [0.6666666666666666, \"#ed7953\"], [0.7777777777777778, \"#fb9f3a\"], [0.8888888888888888, \"#fdca26\"], [1.0, \"#f0f921\"]], \"type\": \"heatmapgl\"}], \"histogram\": [{\"marker\": {\"colorbar\": {\"outlinewidth\": 0, \"ticks\": \"\"}}, \"type\": \"histogram\"}], \"histogram2d\": [{\"colorbar\": {\"outlinewidth\": 0, \"ticks\": \"\"}, \"colorscale\": [[0.0, \"#0d0887\"], [0.1111111111111111, \"#46039f\"], [0.2222222222222222, \"#7201a8\"], [0.3333333333333333, \"#9c179e\"], [0.4444444444444444, \"#bd3786\"], [0.5555555555555556, \"#d8576b\"], [0.6666666666666666, \"#ed7953\"], [0.7777777777777778, \"#fb9f3a\"], [0.8888888888888888, \"#fdca26\"], [1.0, \"#f0f921\"]], \"type\": \"histogram2d\"}], \"histogram2dcontour\": [{\"colorbar\": {\"outlinewidth\": 0, \"ticks\": \"\"}, \"colorscale\": [[0.0, \"#0d0887\"], [0.1111111111111111, \"#46039f\"], [0.2222222222222222, \"#7201a8\"], [0.3333333333333333, \"#9c179e\"], [0.4444444444444444, \"#bd3786\"], [0.5555555555555556, \"#d8576b\"], [0.6666666666666666, \"#ed7953\"], [0.7777777777777778, \"#fb9f3a\"], [0.8888888888888888, \"#fdca26\"], [1.0, \"#f0f921\"]], \"type\": \"histogram2dcontour\"}], \"mesh3d\": [{\"colorbar\": {\"outlinewidth\": 0, \"ticks\": \"\"}, \"type\": \"mesh3d\"}], \"parcoords\": [{\"line\": {\"colorbar\": {\"outlinewidth\": 0, \"ticks\": \"\"}}, \"type\": \"parcoords\"}], \"pie\": [{\"automargin\": true, \"type\": \"pie\"}], \"scatter\": [{\"marker\": {\"colorbar\": {\"outlinewidth\": 0, \"ticks\": \"\"}}, \"type\": \"scatter\"}], \"scatter3d\": [{\"line\": {\"colorbar\": {\"outlinewidth\": 0, \"ticks\": \"\"}}, \"marker\": {\"colorbar\": {\"outlinewidth\": 0, \"ticks\": \"\"}}, \"type\": \"scatter3d\"}], \"scattercarpet\": [{\"marker\": {\"colorbar\": {\"outlinewidth\": 0, \"ticks\": \"\"}}, \"type\": \"scattercarpet\"}], \"scattergeo\": [{\"marker\": {\"colorbar\": {\"outlinewidth\": 0, \"ticks\": \"\"}}, \"type\": \"scattergeo\"}], \"scattergl\": [{\"marker\": {\"colorbar\": {\"outlinewidth\": 0, \"ticks\": \"\"}}, \"type\": \"scattergl\"}], \"scattermapbox\": [{\"marker\": {\"colorbar\": {\"outlinewidth\": 0, \"ticks\": \"\"}}, \"type\": \"scattermapbox\"}], \"scatterpolar\": [{\"marker\": {\"colorbar\": {\"outlinewidth\": 0, \"ticks\": \"\"}}, \"type\": \"scatterpolar\"}], \"scatterpolargl\": [{\"marker\": {\"colorbar\": {\"outlinewidth\": 0, \"ticks\": \"\"}}, \"type\": \"scatterpolargl\"}], \"scatterternary\": [{\"marker\": {\"colorbar\": {\"outlinewidth\": 0, \"ticks\": \"\"}}, \"type\": \"scatterternary\"}], \"surface\": [{\"colorbar\": {\"outlinewidth\": 0, \"ticks\": \"\"}, \"colorscale\": [[0.0, \"#0d0887\"], [0.1111111111111111, \"#46039f\"], [0.2222222222222222, \"#7201a8\"], [0.3333333333333333, \"#9c179e\"], [0.4444444444444444, \"#bd3786\"], [0.5555555555555556, \"#d8576b\"], [0.6666666666666666, \"#ed7953\"], [0.7777777777777778, \"#fb9f3a\"], [0.8888888888888888, \"#fdca26\"], [1.0, \"#f0f921\"]], \"type\": \"surface\"}], \"table\": [{\"cells\": {\"fill\": {\"color\": \"#EBF0F8\"}, \"line\": {\"color\": \"white\"}}, \"header\": {\"fill\": {\"color\": \"#C8D4E3\"}, \"line\": {\"color\": \"white\"}}, \"type\": \"table\"}]}, \"layout\": {\"annotationdefaults\": {\"arrowcolor\": \"#2a3f5f\", \"arrowhead\": 0, \"arrowwidth\": 1}, \"coloraxis\": {\"colorbar\": {\"outlinewidth\": 0, \"ticks\": \"\"}}, \"colorscale\": {\"diverging\": [[0, \"#8e0152\"], [0.1, \"#c51b7d\"], [0.2, \"#de77ae\"], [0.3, \"#f1b6da\"], [0.4, \"#fde0ef\"], [0.5, \"#f7f7f7\"], [0.6, \"#e6f5d0\"], [0.7, \"#b8e186\"], [0.8, \"#7fbc41\"], [0.9, \"#4d9221\"], [1, \"#276419\"]], \"sequential\": [[0.0, \"#0d0887\"], [0.1111111111111111, \"#46039f\"], [0.2222222222222222, \"#7201a8\"], [0.3333333333333333, \"#9c179e\"], [0.4444444444444444, \"#bd3786\"], [0.5555555555555556, \"#d8576b\"], [0.6666666666666666, \"#ed7953\"], [0.7777777777777778, \"#fb9f3a\"], [0.8888888888888888, \"#fdca26\"], [1.0, \"#f0f921\"]], \"sequentialminus\": [[0.0, \"#0d0887\"], [0.1111111111111111, \"#46039f\"], [0.2222222222222222, \"#7201a8\"], [0.3333333333333333, \"#9c179e\"], [0.4444444444444444, \"#bd3786\"], [0.5555555555555556, \"#d8576b\"], [0.6666666666666666, \"#ed7953\"], [0.7777777777777778, \"#fb9f3a\"], [0.8888888888888888, \"#fdca26\"], [1.0, \"#f0f921\"]]}, \"colorway\": [\"#636efa\", \"#EF553B\", \"#00cc96\", \"#ab63fa\", \"#FFA15A\", \"#19d3f3\", \"#FF6692\", \"#B6E880\", \"#FF97FF\", \"#FECB52\"], \"font\": {\"color\": \"#2a3f5f\"}, \"geo\": {\"bgcolor\": \"white\", \"lakecolor\": \"white\", \"landcolor\": \"#E5ECF6\", \"showlakes\": true, \"showland\": true, \"subunitcolor\": \"white\"}, \"hoverlabel\": {\"align\": \"left\"}, \"hovermode\": \"closest\", \"mapbox\": {\"style\": \"light\"}, \"paper_bgcolor\": \"white\", \"plot_bgcolor\": \"#E5ECF6\", \"polar\": {\"angularaxis\": {\"gridcolor\": \"white\", \"linecolor\": \"white\", \"ticks\": \"\"}, \"bgcolor\": \"#E5ECF6\", \"radialaxis\": {\"gridcolor\": \"white\", \"linecolor\": \"white\", \"ticks\": \"\"}}, \"scene\": {\"xaxis\": {\"backgroundcolor\": \"#E5ECF6\", \"gridcolor\": \"white\", \"gridwidth\": 2, \"linecolor\": \"white\", \"showbackground\": true, \"ticks\": \"\", \"zerolinecolor\": \"white\"}, \"yaxis\": {\"backgroundcolor\": \"#E5ECF6\", \"gridcolor\": \"white\", \"gridwidth\": 2, \"linecolor\": \"white\", \"showbackground\": true, \"ticks\": \"\", \"zerolinecolor\": \"white\"}, \"zaxis\": {\"backgroundcolor\": \"#E5ECF6\", \"gridcolor\": \"white\", \"gridwidth\": 2, \"linecolor\": \"white\", \"showbackground\": true, \"ticks\": \"\", \"zerolinecolor\": \"white\"}}, \"shapedefaults\": {\"line\": {\"color\": \"#2a3f5f\"}}, \"ternary\": {\"aaxis\": {\"gridcolor\": \"white\", \"linecolor\": \"white\", \"ticks\": \"\"}, \"baxis\": {\"gridcolor\": \"white\", \"linecolor\": \"white\", \"ticks\": \"\"}, \"bgcolor\": \"#E5ECF6\", \"caxis\": {\"gridcolor\": \"white\", \"linecolor\": \"white\", \"ticks\": \"\"}}, \"title\": {\"x\": 0.05}, \"xaxis\": {\"automargin\": true, \"gridcolor\": \"white\", \"linecolor\": \"white\", \"ticks\": \"\", \"title\": {\"standoff\": 15}, \"zerolinecolor\": \"white\", \"zerolinewidth\": 2}, \"yaxis\": {\"automargin\": true, \"gridcolor\": \"white\", \"linecolor\": \"white\", \"ticks\": \"\", \"title\": {\"standoff\": 15}, \"zerolinecolor\": \"white\", \"zerolinewidth\": 2}}}, \"width\": 800},\n",
       "                        {\"responsive\": true}\n",
       "                    ).then(function(){\n",
       "                            \n",
       "var gd = document.getElementById('4ddb2fb9-afa5-4cba-be7d-51e677b3643f');\n",
       "var x = new MutationObserver(function (mutations, observer) {{\n",
       "        var display = window.getComputedStyle(gd).display;\n",
       "        if (!display || display === 'none') {{\n",
       "            console.log([gd, 'removed!']);\n",
       "            Plotly.purge(gd);\n",
       "            observer.disconnect();\n",
       "        }}\n",
       "}});\n",
       "\n",
       "// Listen for the removal of the full notebook cells\n",
       "var notebookContainer = gd.closest('#notebook-container');\n",
       "if (notebookContainer) {{\n",
       "    x.observe(notebookContainer, {childList: true});\n",
       "}}\n",
       "\n",
       "// Listen for the clearing of the current output cell\n",
       "var outputEl = gd.closest('.output');\n",
       "if (outputEl) {{\n",
       "    x.observe(outputEl, {childList: true});\n",
       "}}\n",
       "\n",
       "                        })\n",
       "                };\n",
       "                });\n",
       "            </script>\n",
       "        </div>"
      ]
     },
     "metadata": {},
     "output_type": "display_data"
    }
   ],
   "source": [
    "import plotly.express as px\n",
    "import numpy as np\n",
    "fig = px.scatter_3d(df, x=\"gestation_r2_adj\", y=\"temperature_r2_adj\", z=\"metabolicRate_r2_adj\", size=\"maxlifespan_r2_adj\", color='organ',\n",
    "                    text = \"symbol\", hover_data=['symbol'], width=800, height=800)\n",
    "fig.update_layout(\n",
    "    margin=dict(l=50, r=50, t=10, b=100),\n",
    "    paper_bgcolor=\"LightSteelBlue\",\n",
    ")\n",
    "fig.update_traces(textfont_size=8)\n",
    "#fig.update_layout(scene_zaxis_type=\"log\")\n",
    "fig.show()"
   ]
  }
 ],
 "metadata": {
  "kernelspec": {
   "display_name": "Python 3",
   "language": "python",
   "name": "python3"
  },
  "language_info": {
   "codemirror_mode": {
    "name": "ipython",
    "version": 3
   },
   "file_extension": ".py",
   "mimetype": "text/x-python",
   "name": "python",
   "nbconvert_exporter": "python",
   "pygments_lexer": "ipython3",
   "version": "3.7.6"
  }
 },
 "nbformat": 4,
 "nbformat_minor": 4
}
