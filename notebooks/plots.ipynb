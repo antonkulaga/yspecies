{
 "cells": [
  {
   "cell_type": "code",
   "execution_count": 11,
   "metadata": {},
   "outputs": [],
   "source": [
    "import numpy as np\n",
    "import pandas as pd\n",
    "pd.set_option('display.max_columns', None)\n",
    "import seaborn as sns\n",
    "import matplotlib.pyplot as plt\n",
    "\n",
    "import plotly.graph_objects as go\n",
    "import numpy as np\n"
   ]
  },
  {
   "cell_type": "code",
   "execution_count": 37,
   "metadata": {},
   "outputs": [
    {
     "data": {
      "text/html": [
       "<div>\n",
       "<style scoped>\n",
       "    .dataframe tbody tr th:only-of-type {\n",
       "        vertical-align: middle;\n",
       "    }\n",
       "\n",
       "    .dataframe tbody tr th {\n",
       "        vertical-align: top;\n",
       "    }\n",
       "\n",
       "    .dataframe thead th {\n",
       "        text-align: right;\n",
       "    }\n",
       "</style>\n",
       "<table border=\"1\" class=\"dataframe\">\n",
       "  <thead>\n",
       "    <tr style=\"text-align: right;\">\n",
       "      <th></th>\n",
       "      <th>Unnamed: 0</th>\n",
       "      <th>symbol</th>\n",
       "      <th>organ</th>\n",
       "      <th>human_samples</th>\n",
       "      <th>maxlifespan_adjpval</th>\n",
       "      <th>maxlifespan_r2_adj</th>\n",
       "      <th>maxlifespan_n_obs</th>\n",
       "      <th>maxlifespan_sign</th>\n",
       "      <th>mass_adjpval</th>\n",
       "      <th>mass_r2_adj</th>\n",
       "      <th>mass_n_obs</th>\n",
       "      <th>mass_sign</th>\n",
       "      <th>temperature_adjpval</th>\n",
       "      <th>temperature_r2_adj</th>\n",
       "      <th>temperature_n_obs</th>\n",
       "      <th>temperature_sign</th>\n",
       "      <th>metabolicRate_adjpval</th>\n",
       "      <th>metabolicRate_r2_adj</th>\n",
       "      <th>metabolicRate_n_obs</th>\n",
       "      <th>metabolicRate_sign</th>\n",
       "      <th>gestation_adjpval</th>\n",
       "      <th>gestation_r2_adj</th>\n",
       "      <th>gestation_n_obs</th>\n",
       "      <th>gestation_sign</th>\n",
       "      <th>maxlifespan_uniquely_associated</th>\n",
       "      <th>mass_uniquely_associated</th>\n",
       "      <th>temperature_uniquely_associated</th>\n",
       "      <th>metabolicRate_uniquely_associated</th>\n",
       "      <th>gestation_uniquely_associated</th>\n",
       "    </tr>\n",
       "  </thead>\n",
       "  <tbody>\n",
       "    <tr>\n",
       "      <th>0</th>\n",
       "      <td>ENSG00000181513</td>\n",
       "      <td>ACBD4</td>\n",
       "      <td>Brain</td>\n",
       "      <td>withoutHumans</td>\n",
       "      <td>4.850000e-14</td>\n",
       "      <td>0.753834</td>\n",
       "      <td>54</td>\n",
       "      <td>-1</td>\n",
       "      <td>0.096931</td>\n",
       "      <td>2.307244e-01</td>\n",
       "      <td>28</td>\n",
       "      <td>1</td>\n",
       "      <td>0.568603</td>\n",
       "      <td>0.006725</td>\n",
       "      <td>42</td>\n",
       "      <td>-1</td>\n",
       "      <td>0.000742</td>\n",
       "      <td>0.500240</td>\n",
       "      <td>28</td>\n",
       "      <td>1</td>\n",
       "      <td>2.720000e-07</td>\n",
       "      <td>0.495705</td>\n",
       "      <td>53</td>\n",
       "      <td>-1</td>\n",
       "      <td>False</td>\n",
       "      <td>False</td>\n",
       "      <td>False</td>\n",
       "      <td>False</td>\n",
       "      <td>False</td>\n",
       "    </tr>\n",
       "    <tr>\n",
       "      <th>1</th>\n",
       "      <td>ENSG00000152154</td>\n",
       "      <td>TMEM178A</td>\n",
       "      <td>Lung</td>\n",
       "      <td>withoutHumans</td>\n",
       "      <td>2.090000e-05</td>\n",
       "      <td>0.734700</td>\n",
       "      <td>22</td>\n",
       "      <td>-1</td>\n",
       "      <td>0.836981</td>\n",
       "      <td>1.101520e-01</td>\n",
       "      <td>13</td>\n",
       "      <td>-1</td>\n",
       "      <td>0.862734</td>\n",
       "      <td>-0.042955</td>\n",
       "      <td>20</td>\n",
       "      <td>-1</td>\n",
       "      <td>0.717775</td>\n",
       "      <td>0.108888</td>\n",
       "      <td>13</td>\n",
       "      <td>-1</td>\n",
       "      <td>7.491271e-04</td>\n",
       "      <td>0.539768</td>\n",
       "      <td>23</td>\n",
       "      <td>-1</td>\n",
       "      <td>False</td>\n",
       "      <td>False</td>\n",
       "      <td>False</td>\n",
       "      <td>False</td>\n",
       "      <td>False</td>\n",
       "    </tr>\n",
       "    <tr>\n",
       "      <th>2</th>\n",
       "      <td>ENSG00000198915</td>\n",
       "      <td>RASGEF1A</td>\n",
       "      <td>Lung</td>\n",
       "      <td>withoutHumans</td>\n",
       "      <td>6.390000e-05</td>\n",
       "      <td>0.733061</td>\n",
       "      <td>20</td>\n",
       "      <td>-1</td>\n",
       "      <td>0.923131</td>\n",
       "      <td>9.585542e-02</td>\n",
       "      <td>11</td>\n",
       "      <td>-1</td>\n",
       "      <td>0.089882</td>\n",
       "      <td>0.287097</td>\n",
       "      <td>18</td>\n",
       "      <td>-1</td>\n",
       "      <td>0.800351</td>\n",
       "      <td>0.097504</td>\n",
       "      <td>11</td>\n",
       "      <td>-1</td>\n",
       "      <td>1.683946e-03</td>\n",
       "      <td>0.531522</td>\n",
       "      <td>21</td>\n",
       "      <td>-1</td>\n",
       "      <td>False</td>\n",
       "      <td>False</td>\n",
       "      <td>False</td>\n",
       "      <td>False</td>\n",
       "      <td>False</td>\n",
       "    </tr>\n",
       "    <tr>\n",
       "      <th>3</th>\n",
       "      <td>ENSG00000159714</td>\n",
       "      <td>ZDHHC1</td>\n",
       "      <td>Lung</td>\n",
       "      <td>withoutHumans</td>\n",
       "      <td>1.046811e-04</td>\n",
       "      <td>0.715344</td>\n",
       "      <td>20</td>\n",
       "      <td>-1</td>\n",
       "      <td>0.576849</td>\n",
       "      <td>2.428201e-01</td>\n",
       "      <td>11</td>\n",
       "      <td>-1</td>\n",
       "      <td>0.208529</td>\n",
       "      <td>0.175409</td>\n",
       "      <td>18</td>\n",
       "      <td>-1</td>\n",
       "      <td>0.486729</td>\n",
       "      <td>0.241080</td>\n",
       "      <td>11</td>\n",
       "      <td>-1</td>\n",
       "      <td>1.517115e-02</td>\n",
       "      <td>0.379962</td>\n",
       "      <td>21</td>\n",
       "      <td>-1</td>\n",
       "      <td>False</td>\n",
       "      <td>False</td>\n",
       "      <td>False</td>\n",
       "      <td>False</td>\n",
       "      <td>False</td>\n",
       "    </tr>\n",
       "    <tr>\n",
       "      <th>4</th>\n",
       "      <td>ENSG00000122778</td>\n",
       "      <td>KIAA1549</td>\n",
       "      <td>Brain</td>\n",
       "      <td>withoutHumans</td>\n",
       "      <td>2.377849e-03</td>\n",
       "      <td>0.707105</td>\n",
       "      <td>14</td>\n",
       "      <td>-1</td>\n",
       "      <td>1.000000</td>\n",
       "      <td>-2.220000e-16</td>\n",
       "      <td>4</td>\n",
       "      <td>1</td>\n",
       "      <td>0.194803</td>\n",
       "      <td>0.604032</td>\n",
       "      <td>6</td>\n",
       "      <td>1</td>\n",
       "      <td>1.000000</td>\n",
       "      <td>0.000000</td>\n",
       "      <td>4</td>\n",
       "      <td>1</td>\n",
       "      <td>1.442074e-02</td>\n",
       "      <td>0.511882</td>\n",
       "      <td>15</td>\n",
       "      <td>-1</td>\n",
       "      <td>False</td>\n",
       "      <td>False</td>\n",
       "      <td>False</td>\n",
       "      <td>False</td>\n",
       "      <td>False</td>\n",
       "    </tr>\n",
       "  </tbody>\n",
       "</table>\n",
       "</div>"
      ],
      "text/plain": [
       "        Unnamed: 0    symbol  organ  human_samples  maxlifespan_adjpval  \\\n",
       "0  ENSG00000181513     ACBD4  Brain  withoutHumans         4.850000e-14   \n",
       "1  ENSG00000152154  TMEM178A   Lung  withoutHumans         2.090000e-05   \n",
       "2  ENSG00000198915  RASGEF1A   Lung  withoutHumans         6.390000e-05   \n",
       "3  ENSG00000159714    ZDHHC1   Lung  withoutHumans         1.046811e-04   \n",
       "4  ENSG00000122778  KIAA1549  Brain  withoutHumans         2.377849e-03   \n",
       "\n",
       "   maxlifespan_r2_adj  maxlifespan_n_obs  maxlifespan_sign  mass_adjpval  \\\n",
       "0            0.753834                 54                -1      0.096931   \n",
       "1            0.734700                 22                -1      0.836981   \n",
       "2            0.733061                 20                -1      0.923131   \n",
       "3            0.715344                 20                -1      0.576849   \n",
       "4            0.707105                 14                -1      1.000000   \n",
       "\n",
       "    mass_r2_adj  mass_n_obs  mass_sign  temperature_adjpval  \\\n",
       "0  2.307244e-01          28          1             0.568603   \n",
       "1  1.101520e-01          13         -1             0.862734   \n",
       "2  9.585542e-02          11         -1             0.089882   \n",
       "3  2.428201e-01          11         -1             0.208529   \n",
       "4 -2.220000e-16           4          1             0.194803   \n",
       "\n",
       "   temperature_r2_adj  temperature_n_obs  temperature_sign  \\\n",
       "0            0.006725                 42                -1   \n",
       "1           -0.042955                 20                -1   \n",
       "2            0.287097                 18                -1   \n",
       "3            0.175409                 18                -1   \n",
       "4            0.604032                  6                 1   \n",
       "\n",
       "   metabolicRate_adjpval  metabolicRate_r2_adj  metabolicRate_n_obs  \\\n",
       "0               0.000742              0.500240                   28   \n",
       "1               0.717775              0.108888                   13   \n",
       "2               0.800351              0.097504                   11   \n",
       "3               0.486729              0.241080                   11   \n",
       "4               1.000000              0.000000                    4   \n",
       "\n",
       "   metabolicRate_sign  gestation_adjpval  gestation_r2_adj  gestation_n_obs  \\\n",
       "0                   1       2.720000e-07          0.495705               53   \n",
       "1                  -1       7.491271e-04          0.539768               23   \n",
       "2                  -1       1.683946e-03          0.531522               21   \n",
       "3                  -1       1.517115e-02          0.379962               21   \n",
       "4                   1       1.442074e-02          0.511882               15   \n",
       "\n",
       "   gestation_sign  maxlifespan_uniquely_associated  mass_uniquely_associated  \\\n",
       "0              -1                            False                     False   \n",
       "1              -1                            False                     False   \n",
       "2              -1                            False                     False   \n",
       "3              -1                            False                     False   \n",
       "4              -1                            False                     False   \n",
       "\n",
       "   temperature_uniquely_associated  metabolicRate_uniquely_associated  \\\n",
       "0                            False                              False   \n",
       "1                            False                              False   \n",
       "2                            False                              False   \n",
       "3                            False                              False   \n",
       "4                            False                              False   \n",
       "\n",
       "   gestation_uniquely_associated  \n",
       "0                          False  \n",
       "1                          False  \n",
       "2                          False  \n",
       "3                          False  \n",
       "4                          False  "
      ]
     },
     "execution_count": 37,
     "metadata": {},
     "output_type": "execute_result"
    }
   ],
   "source": [
    "df = pd.read_csv(\"/data/sources/species/data/input/linear_results.tsv\",sep=\"\\t\")\n",
    "df.head()"
   ]
  },
  {
   "cell_type": "code",
   "execution_count": 23,
   "metadata": {},
   "outputs": [],
   "source": [
    "x = df[\"gestation_r2_adj\"]\n",
    "y = df[\"temperature_r2_adj\"]\n",
    "z = df[\"metabolicRate_r2_adj\"]\n",
    "s = df[\"maxlifespan_r2_adj\"]"
   ]
  },
  {
   "cell_type": "code",
   "execution_count": 36,
   "metadata": {},
   "outputs": [
    {
     "data": {
      "application/vnd.plotly.v1+json": {
       "config": {
        "plotlyServerURL": "https://plot.ly"
       },
       "data": [
        {
         "customdata": [
          [
           "ACBD4"
          ],
          [
           "KIAA1549"
          ],
          [
           "PGR"
          ],
          [
           "NEDD4"
          ],
          [
           "FAM81A"
          ],
          [
           "CYHR1"
          ],
          [
           "RASGEF1A"
          ],
          [
           "TRIM35"
          ],
          [
           "ACSL5"
          ],
          [
           "NUDT18"
          ],
          [
           "HDAC3"
          ]
         ],
         "hovertemplate": "organ=Brain<br>gestation_r2_adj=%{x}<br>temperature_r2_adj=%{y}<br>metabolicRate_r2_adj=%{z}<br>maxlifespan_r2_adj=%{marker.size}<br>symbol=%{text}<extra></extra>",
         "legendgroup": "Brain",
         "marker": {
          "color": "#636efa",
          "size": [
           0.7538338770999999,
           0.7071049072,
           0.6030546282,
           0.5981829117,
           0.5768562322,
           0.5683329555,
           0.5655564895,
           0.5587439833,
           0.5422204344,
           0.5328621211,
           0.5111091003
          ],
          "sizemode": "area",
          "sizeref": 0.00206485006375,
          "symbol": "circle"
         },
         "mode": "markers+text",
         "name": "Brain",
         "scene": "scene",
         "showlegend": true,
         "text": [
          "ACBD4",
          "KIAA1549",
          "PGR",
          "NEDD4",
          "FAM81A",
          "CYHR1",
          "RASGEF1A",
          "TRIM35",
          "ACSL5",
          "NUDT18",
          "HDAC3"
         ],
         "textfont": {
          "size": 8
         },
         "type": "scatter3d",
         "x": [
          0.49570456420000003,
          0.5118816125,
          0.28184335120000004,
          0.1777423867,
          0.2198820614,
          0.127356475,
          0.20711746829999997,
          0.2352715311,
          0.1067409085,
          0.12558347039999998,
          0.3142374931
         ],
         "y": [
          0.006724746749,
          0.6040319603000001,
          0.10074624210000001,
          -0.0020720920920000003,
          0.055115855410000004,
          -7.170000000000001e-05,
          0.2467733297,
          0.005458312491,
          0.00440345079,
          0.21534980969999998,
          -0.008322186708
         ],
         "z": [
          0.500239827,
          0,
          -0.03310175093000001,
          0.03639314718,
          -0.0067630066319999994,
          -0.02040625941,
          0.1963996209,
          0.0119056645,
          -0.006343237215,
          0.007802795638999999,
          -0.01458213389
         ]
        },
        {
         "customdata": [
          [
           "TMEM178A"
          ],
          [
           "RASGEF1A"
          ],
          [
           "ZDHHC1"
          ],
          [
           "SFSWAP"
          ],
          [
           "TOR2A"
          ],
          [
           "TSPAN2"
          ],
          [
           "SUN5"
          ],
          [
           "TMCC2"
          ],
          [
           "SEZ6"
          ],
          [
           "POPDC2"
          ],
          [
           "NR1D1"
          ],
          [
           "EHD4"
          ],
          [
           "ALPL"
          ],
          [
           "SH3TC2"
          ],
          [
           "DCLK2"
          ],
          [
           "SMPD1"
          ],
          [
           "EVI5L"
          ],
          [
           "SLC26A8"
          ],
          [
           "FAM83C"
          ],
          [
           "UNC79"
          ],
          [
           "ERN2"
          ],
          [
           "NAB2"
          ],
          [
           "TAF3"
          ],
          [
           "ALAD"
          ],
          [
           "KCNK1"
          ],
          [
           "DHX16"
          ],
          [
           "MTHFR"
          ],
          [
           "MIP"
          ],
          [
           "STX4"
          ],
          [
           "RGMA"
          ],
          [
           "GHR"
          ],
          [
           "ARHGAP1"
          ],
          [
           "SLC16A5"
          ],
          [
           "XPNPEP2"
          ],
          [
           "CLUH"
          ],
          [
           "DNAJC12"
          ],
          [
           "CCDC83"
          ],
          [
           "NUDT18"
          ],
          [
           "ENG"
          ],
          [
           "FNDC7"
          ],
          [
           "MTSS1L"
          ],
          [
           "MAT1A"
          ],
          [
           "NEDD4"
          ],
          [
           "SESN2"
          ],
          [
           "GFRA3"
          ],
          [
           "CLEC2L"
          ],
          [
           "LGI3"
          ],
          [
           "PKN3"
          ],
          [
           "LURAP1L"
          ],
          [
           "CCR7"
          ],
          [
           "SLC7A10"
          ],
          [
           "TMEM204"
          ],
          [
           "XRCC1"
          ],
          [
           "LRIG3"
          ],
          [
           "PMM1"
          ],
          [
           "NKD1"
          ],
          [
           "KIAA1549"
          ],
          [
           "CPLX3"
          ],
          [
           "TMEM136"
          ],
          [
           "FAM83F"
          ],
          [
           "DPT"
          ],
          [
           "POLR3H"
          ],
          [
           "NDNF"
          ],
          [
           "PIP4P2"
          ],
          [
           "IL34"
          ],
          [
           "CCDC6"
          ],
          [
           "FHAD1"
          ],
          [
           "NEDD1"
          ]
         ],
         "hovertemplate": "organ=Lung<br>gestation_r2_adj=%{x}<br>temperature_r2_adj=%{y}<br>metabolicRate_r2_adj=%{z}<br>maxlifespan_r2_adj=%{marker.size}<br>symbol=%{text}<extra></extra>",
         "legendgroup": "Lung",
         "marker": {
          "color": "#EF553B",
          "size": [
           0.7347000555,
           0.7330611957,
           0.7153440648999999,
           0.6716138608,
           0.6692904171,
           0.6674971277,
           0.6671757652,
           0.658562778,
           0.6553173668,
           0.6523580429,
           0.6456091138000001,
           0.6430318888000001,
           0.6387704397,
           0.6345428832,
           0.6289682712,
           0.6269657918,
           0.6269363348,
           0.6261962928,
           0.6261803844,
           0.6052346235,
           0.5903701677000001,
           0.604682526,
           0.6016974267,
           0.5969598303,
           0.5950593764,
           0.5871854117,
           0.5821403516,
           0.5820497914,
           0.5816372867,
           0.5760112261,
           0.5699163384,
           0.5602508559,
           0.5581386073,
           0.5560188208,
           0.5546604978,
           0.5529329442,
           0.5489656316,
           0.5466183444,
           0.5460768153,
           0.5436446256,
           0.5411092343,
           0.5396337421,
           0.5353069186,
           0.5326443612,
           0.5320775331,
           0.5314012686999999,
           0.5283382946,
           0.5272456757,
           0.5256145282,
           0.5244978127000001,
           0.5239122298,
           0.522490631,
           0.5221359593,
           0.5210837334,
           0.5198904853,
           0.5190187556,
           0.8259400255,
           0.5178466825,
           0.5156722043,
           0.5139369491,
           0.5123464963000001,
           0.5087287632,
           0.5066248119,
           0.5049622385,
           0.5025188925,
           0.5010878944,
           0.5003548801,
           0.5001741433
          ],
          "sizemode": "area",
          "sizeref": 0.00206485006375,
          "symbol": "circle"
         },
         "mode": "markers+text",
         "name": "Lung",
         "scene": "scene",
         "showlegend": true,
         "text": [
          "TMEM178A",
          "RASGEF1A",
          "ZDHHC1",
          "SFSWAP",
          "TOR2A",
          "TSPAN2",
          "SUN5",
          "TMCC2",
          "SEZ6",
          "POPDC2",
          "NR1D1",
          "EHD4",
          "ALPL",
          "SH3TC2",
          "DCLK2",
          "SMPD1",
          "EVI5L",
          "SLC26A8",
          "FAM83C",
          "UNC79",
          "ERN2",
          "NAB2",
          "TAF3",
          "ALAD",
          "KCNK1",
          "DHX16",
          "MTHFR",
          "MIP",
          "STX4",
          "RGMA",
          "GHR",
          "ARHGAP1",
          "SLC16A5",
          "XPNPEP2",
          "CLUH",
          "DNAJC12",
          "CCDC83",
          "NUDT18",
          "ENG",
          "FNDC7",
          "MTSS1L",
          "MAT1A",
          "NEDD4",
          "SESN2",
          "GFRA3",
          "CLEC2L",
          "LGI3",
          "PKN3",
          "LURAP1L",
          "CCR7",
          "SLC7A10",
          "TMEM204",
          "XRCC1",
          "LRIG3",
          "PMM1",
          "NKD1",
          "KIAA1549",
          "CPLX3",
          "TMEM136",
          "FAM83F",
          "DPT",
          "POLR3H",
          "NDNF",
          "PIP4P2",
          "IL34",
          "CCDC6",
          "FHAD1",
          "NEDD1"
         ],
         "textfont": {
          "size": 8
         },
         "type": "scatter3d",
         "x": [
          0.53976753,
          0.5315222347,
          0.3799621838,
          0.4196252244,
          0.35419486759999996,
          0.4327205319,
          0.4420260167,
          0.36728723329999996,
          0.37995734840000006,
          -0.03409455763,
          0.4400417024,
          0.46352646350000004,
          0.18124370739999998,
          0.376294598,
          0.3426990116,
          0.36112980619999996,
          0.49119773549999995,
          0.3986000704,
          0.4867768493,
          0.3245862254,
          0.6805177949,
          0.5596027083,
          0.32157498079999997,
          0.1402331566,
          0.41039921590000006,
          0.274462631,
          0.5848387719,
          0.2113851576,
          0.5418786335,
          0.38482606979999995,
          0.5050677627,
          0.3114879021,
          0.401706548,
          0.2765497461,
          0.3062856149,
          0.2750199988,
          0.27262367670000004,
          0.4444288287,
          0.3215857991,
          0.19826609809999998,
          0.439064936,
          0.45706718909999994,
          0.2711825368,
          0.2264882816,
          0.35736160899999997,
          0.11795270460000001,
          0.3938615689,
          0.2790497525,
          0.5359387887,
          0.3239222081,
          0.2703016493,
          0.21928034440000002,
          0.2894179254,
          0.471435769,
          0.2598924019,
          0.2727845281,
          0.4212335213,
          0.2850412798,
          0.2967306265,
          0.2914763056,
          0.2588314074,
          -0.045786054349999994,
          0.2715800214,
          0.2188093751,
          0.5149704679,
          0.4335098671,
          0.4140161376,
          0.3213098603
         ],
         "y": [
          -0.04295455083000001,
          0.2870970269,
          0.1754094266,
          0.2668466001,
          0.17377567579999997,
          -0.03786234008,
          0.1469098156,
          -0.004109309562000001,
          -0.0239223408,
          0.08470673756000001,
          -0.0316687899,
          -0.04377472458000001,
          -0.01807118937,
          -0.0372458991,
          -0.04438306611000001,
          -0.054562647129999996,
          -0.02904555838,
          0.06571228571,
          -0.04459221067,
          -0.03865954145,
          -0.07586612186000001,
          0.06300681221,
          -0.0164577613,
          -0.012005442649999998,
          -0.05882132472999999,
          0.03409316352,
          0.02033109495,
          0.09295493922,
          -0.01632136084,
          0.04962773746,
          0.01419148997,
          -0.04784904669,
          0.016944702830000002,
          -0.057971810529999994,
          -0.010302788609999999,
          0.17572290059999998,
          -0.005605342708000001,
          -0.052242214339999996,
          -0.011606658159999998,
          -0.018529491119999998,
          0.00011218424640000001,
          0.1378504013,
          -0.03727043502,
          -0.0029278398979999997,
          0.1496196347,
          -0.019361603459999998,
          -0.05498487099,
          -0.02239595478,
          0.08375770654,
          -0.04612209851,
          -0.03746054662,
          -0.044996893899999994,
          -0.02486578617,
          -0.040683309869999996,
          -0.03279771978,
          -0.04785149416,
          0.6993579194,
          -0.030973713849999997,
          0.2833631018,
          0.09506429295,
          -0.04254892156,
          -0.03326230245,
          -0.029320318510000002,
          -0.04353591533,
          -0.0552583879,
          -0.0365705466,
          -0.031912896680000004,
          0.05009703928999999
         ],
         "z": [
          0.10888768050000001,
          0.09750431712000002,
          0.2410804771,
          0.11052793289999999,
          -0.07011727725,
          0.054850565479999995,
          0.02129576458,
          0.05059025992,
          -0.06883544336,
          0.08674648921,
          0.08405951767999999,
          0.03770927636,
          0.1555573005,
          0.0705086273,
          -0.008823379808,
          0.008004369784,
          0.07370838898,
          0.01049192207,
          -0.0053373957,
          -0.06158592138999999,
          -0.14251721550000002,
          -0.09040137905,
          -0.0039094380770000004,
          0.042237392639999996,
          0.011359851770000002,
          0.1361326883,
          -0.04130738974,
          0.007544234015000001,
          -0.052098648110000007,
          -0.06605069312,
          0.02239706267,
          -0.05811915092,
          0.8497558368000001,
          -0.02991873912,
          -0.036422414369999996,
          0.4262332865,
          0.01621590416,
          -0.0320609321,
          0.1819162011,
          -0.03292862128,
          0.07622070923999999,
          0.05983734472999999,
          0.005816130834,
          0.08245426437999999,
          -0.1389371187,
          -0.021954131600000003,
          0.09789815402,
          0.01076252249,
          -0.014891343969999998,
          0.021425716830000004,
          -0.007567619241,
          0.04571994424,
          0.07529106501,
          -0.06658843622999999,
          -0.000513877875,
          -0.05277983605000001,
          0,
          0.001523408413,
          0.00522102559,
          -0.02941135937,
          0.11688330539999998,
          -0.02906859506,
          -0.029443629480000004,
          0.04815869976,
          0.02884494995,
          -0.08919712832,
          -0.10643470630000001,
          0.1666423835
         ]
        },
        {
         "customdata": [
          [
           "SUN3"
          ],
          [
           "AQP4"
          ],
          [
           "TCF19"
          ],
          [
           "SPP2"
          ],
          [
           "GCLM"
          ],
          [
           "ELL3"
          ],
          [
           "CAB39L"
          ]
         ],
         "hovertemplate": "organ=Kidney<br>gestation_r2_adj=%{x}<br>temperature_r2_adj=%{y}<br>metabolicRate_r2_adj=%{z}<br>maxlifespan_r2_adj=%{marker.size}<br>symbol=%{text}<extra></extra>",
         "legendgroup": "Kidney",
         "marker": {
          "color": "#00cc96",
          "size": [
           0.5782393946,
           0.5680120095000001,
           0.5568962204,
           0.5107139338000001,
           0.5076805972,
           0.507398355,
           0.5068445821
          ],
          "sizemode": "area",
          "sizeref": 0.00206485006375,
          "symbol": "circle"
         },
         "mode": "markers+text",
         "name": "Kidney",
         "scene": "scene",
         "showlegend": true,
         "text": [
          "SUN3",
          "AQP4",
          "TCF19",
          "SPP2",
          "GCLM",
          "ELL3",
          "CAB39L"
         ],
         "textfont": {
          "size": 8
         },
         "type": "scatter3d",
         "x": [
          0.1986367797,
          0.1345072458,
          0.1815923196,
          0.1904960282,
          0.05694772762,
          0.2719680889,
          0.174743683
         ],
         "y": [
          0.001169252435,
          -0.012486408610000001,
          -0.01888249421,
          -0.02081183517,
          -0.01851186751,
          0.03543238259,
          -0.019710648180000002
         ],
         "z": [
          0.04193933253,
          0.01742645513,
          0.046374410369999994,
          0.04010970126,
          0.02023117174,
          0.04708594396000001,
          0.01208259858
         ]
        },
        {
         "customdata": [
          [
           "C6orf89"
          ],
          [
           "GNA12"
          ],
          [
           "SMPD1"
          ],
          [
           "CYHR1"
          ]
         ],
         "hovertemplate": "organ=Liver<br>gestation_r2_adj=%{x}<br>temperature_r2_adj=%{y}<br>metabolicRate_r2_adj=%{z}<br>maxlifespan_r2_adj=%{marker.size}<br>symbol=%{text}<extra></extra>",
         "legendgroup": "Liver",
         "marker": {
          "color": "#ab63fa",
          "size": [
           0.5324703432,
           0.517182759,
           0.512952375,
           0.501257711
          ],
          "sizemode": "area",
          "sizeref": 0.00206485006375,
          "symbol": "circle"
         },
         "mode": "markers+text",
         "name": "Liver",
         "scene": "scene",
         "showlegend": true,
         "text": [
          "C6orf89",
          "GNA12",
          "SMPD1",
          "CYHR1"
         ],
         "textfont": {
          "size": 8
         },
         "type": "scatter3d",
         "x": [
          0.2882126248,
          0.1568589111,
          0.16855973800000001,
          0.1356999355
         ],
         "y": [
          -0.011419906399999999,
          0.0074101623210000005,
          0.00497586299,
          -0.006018035791
         ],
         "z": [
          0.01252305038,
          -0.0012459962020000001,
          -0.0068222,
          -0.013051264650000002
         ]
        }
       ],
       "layout": {
        "height": 800,
        "legend": {
         "itemsizing": "constant",
         "title": {
          "text": "organ"
         },
         "tracegroupgap": 0
        },
        "margin": {
         "b": 100,
         "l": 50,
         "r": 50,
         "t": 10
        },
        "paper_bgcolor": "LightSteelBlue",
        "scene": {
         "aspectmode": "auto",
         "aspectratio": {
          "x": 0.8818460094587474,
          "y": 0.9412427428651885,
          "z": 1.2047740520276555
         },
         "camera": {
          "center": {
           "x": 0,
           "y": 0,
           "z": 0
          },
          "eye": {
           "x": 1.5294853584383095,
           "y": 1.5306003969370712,
           "z": 0.07373576621230725
          },
          "projection": {
           "type": "perspective"
          },
          "up": {
           "x": 0,
           "y": 0,
           "z": 1
          }
         },
         "domain": {
          "x": [
           0,
           1
          ],
          "y": [
           0,
           1
          ]
         },
         "xaxis": {
          "title": {
           "text": "gestation_r2_adj"
          },
          "type": "linear"
         },
         "yaxis": {
          "title": {
           "text": "temperature_r2_adj"
          },
          "type": "linear"
         },
         "zaxis": {
          "title": {
           "text": "metabolicRate_r2_adj"
          },
          "type": "linear"
         }
        },
        "template": {
         "data": {
          "bar": [
           {
            "error_x": {
             "color": "#2a3f5f"
            },
            "error_y": {
             "color": "#2a3f5f"
            },
            "marker": {
             "line": {
              "color": "#E5ECF6",
              "width": 0.5
             }
            },
            "type": "bar"
           }
          ],
          "barpolar": [
           {
            "marker": {
             "line": {
              "color": "#E5ECF6",
              "width": 0.5
             }
            },
            "type": "barpolar"
           }
          ],
          "carpet": [
           {
            "aaxis": {
             "endlinecolor": "#2a3f5f",
             "gridcolor": "white",
             "linecolor": "white",
             "minorgridcolor": "white",
             "startlinecolor": "#2a3f5f"
            },
            "baxis": {
             "endlinecolor": "#2a3f5f",
             "gridcolor": "white",
             "linecolor": "white",
             "minorgridcolor": "white",
             "startlinecolor": "#2a3f5f"
            },
            "type": "carpet"
           }
          ],
          "choropleth": [
           {
            "colorbar": {
             "outlinewidth": 0,
             "ticks": ""
            },
            "type": "choropleth"
           }
          ],
          "contour": [
           {
            "colorbar": {
             "outlinewidth": 0,
             "ticks": ""
            },
            "colorscale": [
             [
              0,
              "#0d0887"
             ],
             [
              0.1111111111111111,
              "#46039f"
             ],
             [
              0.2222222222222222,
              "#7201a8"
             ],
             [
              0.3333333333333333,
              "#9c179e"
             ],
             [
              0.4444444444444444,
              "#bd3786"
             ],
             [
              0.5555555555555556,
              "#d8576b"
             ],
             [
              0.6666666666666666,
              "#ed7953"
             ],
             [
              0.7777777777777778,
              "#fb9f3a"
             ],
             [
              0.8888888888888888,
              "#fdca26"
             ],
             [
              1,
              "#f0f921"
             ]
            ],
            "type": "contour"
           }
          ],
          "contourcarpet": [
           {
            "colorbar": {
             "outlinewidth": 0,
             "ticks": ""
            },
            "type": "contourcarpet"
           }
          ],
          "heatmap": [
           {
            "colorbar": {
             "outlinewidth": 0,
             "ticks": ""
            },
            "colorscale": [
             [
              0,
              "#0d0887"
             ],
             [
              0.1111111111111111,
              "#46039f"
             ],
             [
              0.2222222222222222,
              "#7201a8"
             ],
             [
              0.3333333333333333,
              "#9c179e"
             ],
             [
              0.4444444444444444,
              "#bd3786"
             ],
             [
              0.5555555555555556,
              "#d8576b"
             ],
             [
              0.6666666666666666,
              "#ed7953"
             ],
             [
              0.7777777777777778,
              "#fb9f3a"
             ],
             [
              0.8888888888888888,
              "#fdca26"
             ],
             [
              1,
              "#f0f921"
             ]
            ],
            "type": "heatmap"
           }
          ],
          "heatmapgl": [
           {
            "colorbar": {
             "outlinewidth": 0,
             "ticks": ""
            },
            "colorscale": [
             [
              0,
              "#0d0887"
             ],
             [
              0.1111111111111111,
              "#46039f"
             ],
             [
              0.2222222222222222,
              "#7201a8"
             ],
             [
              0.3333333333333333,
              "#9c179e"
             ],
             [
              0.4444444444444444,
              "#bd3786"
             ],
             [
              0.5555555555555556,
              "#d8576b"
             ],
             [
              0.6666666666666666,
              "#ed7953"
             ],
             [
              0.7777777777777778,
              "#fb9f3a"
             ],
             [
              0.8888888888888888,
              "#fdca26"
             ],
             [
              1,
              "#f0f921"
             ]
            ],
            "type": "heatmapgl"
           }
          ],
          "histogram": [
           {
            "marker": {
             "colorbar": {
              "outlinewidth": 0,
              "ticks": ""
             }
            },
            "type": "histogram"
           }
          ],
          "histogram2d": [
           {
            "colorbar": {
             "outlinewidth": 0,
             "ticks": ""
            },
            "colorscale": [
             [
              0,
              "#0d0887"
             ],
             [
              0.1111111111111111,
              "#46039f"
             ],
             [
              0.2222222222222222,
              "#7201a8"
             ],
             [
              0.3333333333333333,
              "#9c179e"
             ],
             [
              0.4444444444444444,
              "#bd3786"
             ],
             [
              0.5555555555555556,
              "#d8576b"
             ],
             [
              0.6666666666666666,
              "#ed7953"
             ],
             [
              0.7777777777777778,
              "#fb9f3a"
             ],
             [
              0.8888888888888888,
              "#fdca26"
             ],
             [
              1,
              "#f0f921"
             ]
            ],
            "type": "histogram2d"
           }
          ],
          "histogram2dcontour": [
           {
            "colorbar": {
             "outlinewidth": 0,
             "ticks": ""
            },
            "colorscale": [
             [
              0,
              "#0d0887"
             ],
             [
              0.1111111111111111,
              "#46039f"
             ],
             [
              0.2222222222222222,
              "#7201a8"
             ],
             [
              0.3333333333333333,
              "#9c179e"
             ],
             [
              0.4444444444444444,
              "#bd3786"
             ],
             [
              0.5555555555555556,
              "#d8576b"
             ],
             [
              0.6666666666666666,
              "#ed7953"
             ],
             [
              0.7777777777777778,
              "#fb9f3a"
             ],
             [
              0.8888888888888888,
              "#fdca26"
             ],
             [
              1,
              "#f0f921"
             ]
            ],
            "type": "histogram2dcontour"
           }
          ],
          "mesh3d": [
           {
            "colorbar": {
             "outlinewidth": 0,
             "ticks": ""
            },
            "type": "mesh3d"
           }
          ],
          "parcoords": [
           {
            "line": {
             "colorbar": {
              "outlinewidth": 0,
              "ticks": ""
             }
            },
            "type": "parcoords"
           }
          ],
          "pie": [
           {
            "automargin": true,
            "type": "pie"
           }
          ],
          "scatter": [
           {
            "marker": {
             "colorbar": {
              "outlinewidth": 0,
              "ticks": ""
             }
            },
            "type": "scatter"
           }
          ],
          "scatter3d": [
           {
            "line": {
             "colorbar": {
              "outlinewidth": 0,
              "ticks": ""
             }
            },
            "marker": {
             "colorbar": {
              "outlinewidth": 0,
              "ticks": ""
             }
            },
            "type": "scatter3d"
           }
          ],
          "scattercarpet": [
           {
            "marker": {
             "colorbar": {
              "outlinewidth": 0,
              "ticks": ""
             }
            },
            "type": "scattercarpet"
           }
          ],
          "scattergeo": [
           {
            "marker": {
             "colorbar": {
              "outlinewidth": 0,
              "ticks": ""
             }
            },
            "type": "scattergeo"
           }
          ],
          "scattergl": [
           {
            "marker": {
             "colorbar": {
              "outlinewidth": 0,
              "ticks": ""
             }
            },
            "type": "scattergl"
           }
          ],
          "scattermapbox": [
           {
            "marker": {
             "colorbar": {
              "outlinewidth": 0,
              "ticks": ""
             }
            },
            "type": "scattermapbox"
           }
          ],
          "scatterpolar": [
           {
            "marker": {
             "colorbar": {
              "outlinewidth": 0,
              "ticks": ""
             }
            },
            "type": "scatterpolar"
           }
          ],
          "scatterpolargl": [
           {
            "marker": {
             "colorbar": {
              "outlinewidth": 0,
              "ticks": ""
             }
            },
            "type": "scatterpolargl"
           }
          ],
          "scatterternary": [
           {
            "marker": {
             "colorbar": {
              "outlinewidth": 0,
              "ticks": ""
             }
            },
            "type": "scatterternary"
           }
          ],
          "surface": [
           {
            "colorbar": {
             "outlinewidth": 0,
             "ticks": ""
            },
            "colorscale": [
             [
              0,
              "#0d0887"
             ],
             [
              0.1111111111111111,
              "#46039f"
             ],
             [
              0.2222222222222222,
              "#7201a8"
             ],
             [
              0.3333333333333333,
              "#9c179e"
             ],
             [
              0.4444444444444444,
              "#bd3786"
             ],
             [
              0.5555555555555556,
              "#d8576b"
             ],
             [
              0.6666666666666666,
              "#ed7953"
             ],
             [
              0.7777777777777778,
              "#fb9f3a"
             ],
             [
              0.8888888888888888,
              "#fdca26"
             ],
             [
              1,
              "#f0f921"
             ]
            ],
            "type": "surface"
           }
          ],
          "table": [
           {
            "cells": {
             "fill": {
              "color": "#EBF0F8"
             },
             "line": {
              "color": "white"
             }
            },
            "header": {
             "fill": {
              "color": "#C8D4E3"
             },
             "line": {
              "color": "white"
             }
            },
            "type": "table"
           }
          ]
         },
         "layout": {
          "annotationdefaults": {
           "arrowcolor": "#2a3f5f",
           "arrowhead": 0,
           "arrowwidth": 1
          },
          "coloraxis": {
           "colorbar": {
            "outlinewidth": 0,
            "ticks": ""
           }
          },
          "colorscale": {
           "diverging": [
            [
             0,
             "#8e0152"
            ],
            [
             0.1,
             "#c51b7d"
            ],
            [
             0.2,
             "#de77ae"
            ],
            [
             0.3,
             "#f1b6da"
            ],
            [
             0.4,
             "#fde0ef"
            ],
            [
             0.5,
             "#f7f7f7"
            ],
            [
             0.6,
             "#e6f5d0"
            ],
            [
             0.7,
             "#b8e186"
            ],
            [
             0.8,
             "#7fbc41"
            ],
            [
             0.9,
             "#4d9221"
            ],
            [
             1,
             "#276419"
            ]
           ],
           "sequential": [
            [
             0,
             "#0d0887"
            ],
            [
             0.1111111111111111,
             "#46039f"
            ],
            [
             0.2222222222222222,
             "#7201a8"
            ],
            [
             0.3333333333333333,
             "#9c179e"
            ],
            [
             0.4444444444444444,
             "#bd3786"
            ],
            [
             0.5555555555555556,
             "#d8576b"
            ],
            [
             0.6666666666666666,
             "#ed7953"
            ],
            [
             0.7777777777777778,
             "#fb9f3a"
            ],
            [
             0.8888888888888888,
             "#fdca26"
            ],
            [
             1,
             "#f0f921"
            ]
           ],
           "sequentialminus": [
            [
             0,
             "#0d0887"
            ],
            [
             0.1111111111111111,
             "#46039f"
            ],
            [
             0.2222222222222222,
             "#7201a8"
            ],
            [
             0.3333333333333333,
             "#9c179e"
            ],
            [
             0.4444444444444444,
             "#bd3786"
            ],
            [
             0.5555555555555556,
             "#d8576b"
            ],
            [
             0.6666666666666666,
             "#ed7953"
            ],
            [
             0.7777777777777778,
             "#fb9f3a"
            ],
            [
             0.8888888888888888,
             "#fdca26"
            ],
            [
             1,
             "#f0f921"
            ]
           ]
          },
          "colorway": [
           "#636efa",
           "#EF553B",
           "#00cc96",
           "#ab63fa",
           "#FFA15A",
           "#19d3f3",
           "#FF6692",
           "#B6E880",
           "#FF97FF",
           "#FECB52"
          ],
          "font": {
           "color": "#2a3f5f"
          },
          "geo": {
           "bgcolor": "white",
           "lakecolor": "white",
           "landcolor": "#E5ECF6",
           "showlakes": true,
           "showland": true,
           "subunitcolor": "white"
          },
          "hoverlabel": {
           "align": "left"
          },
          "hovermode": "closest",
          "mapbox": {
           "style": "light"
          },
          "paper_bgcolor": "white",
          "plot_bgcolor": "#E5ECF6",
          "polar": {
           "angularaxis": {
            "gridcolor": "white",
            "linecolor": "white",
            "ticks": ""
           },
           "bgcolor": "#E5ECF6",
           "radialaxis": {
            "gridcolor": "white",
            "linecolor": "white",
            "ticks": ""
           }
          },
          "scene": {
           "xaxis": {
            "backgroundcolor": "#E5ECF6",
            "gridcolor": "white",
            "gridwidth": 2,
            "linecolor": "white",
            "showbackground": true,
            "ticks": "",
            "zerolinecolor": "white"
           },
           "yaxis": {
            "backgroundcolor": "#E5ECF6",
            "gridcolor": "white",
            "gridwidth": 2,
            "linecolor": "white",
            "showbackground": true,
            "ticks": "",
            "zerolinecolor": "white"
           },
           "zaxis": {
            "backgroundcolor": "#E5ECF6",
            "gridcolor": "white",
            "gridwidth": 2,
            "linecolor": "white",
            "showbackground": true,
            "ticks": "",
            "zerolinecolor": "white"
           }
          },
          "shapedefaults": {
           "line": {
            "color": "#2a3f5f"
           }
          },
          "ternary": {
           "aaxis": {
            "gridcolor": "white",
            "linecolor": "white",
            "ticks": ""
           },
           "baxis": {
            "gridcolor": "white",
            "linecolor": "white",
            "ticks": ""
           },
           "bgcolor": "#E5ECF6",
           "caxis": {
            "gridcolor": "white",
            "linecolor": "white",
            "ticks": ""
           }
          },
          "title": {
           "x": 0.05
          },
          "xaxis": {
           "automargin": true,
           "gridcolor": "white",
           "linecolor": "white",
           "ticks": "",
           "title": {
            "standoff": 15
           },
           "zerolinecolor": "white",
           "zerolinewidth": 2
          },
          "yaxis": {
           "automargin": true,
           "gridcolor": "white",
           "linecolor": "white",
           "ticks": "",
           "title": {
            "standoff": 15
           },
           "zerolinecolor": "white",
           "zerolinewidth": 2
          }
         }
        },
        "width": 800
       }
      },
      "image/png": "[encoded data removed]",
      "text/html": [
       "<div>\n",
       "        \n",
       "        \n",
       "            <div id=\"d1a2ed2a-5bf0-4e55-a2c2-5a7cb7bbb9ed\" class=\"plotly-graph-div\" style=\"height:800px; width:800px;\"></div>\n",
       "            <script type=\"text/javascript\">\n",
       "                require([\"plotly\"], function(Plotly) {\n",
       "                    window.PLOTLYENV=window.PLOTLYENV || {};\n",
       "                    \n",
       "                if (document.getElementById(\"d1a2ed2a-5bf0-4e55-a2c2-5a7cb7bbb9ed\")) {\n",
       "                    Plotly.newPlot(\n",
       "                        'd1a2ed2a-5bf0-4e55-a2c2-5a7cb7bbb9ed',\n",
       "                        [{\"customdata\": [[\"ACBD4\"], [\"KIAA1549\"], [\"PGR\"], [\"NEDD4\"], [\"FAM81A\"], [\"CYHR1\"], [\"RASGEF1A\"], [\"TRIM35\"], [\"ACSL5\"], [\"NUDT18\"], [\"HDAC3\"]], \"hovertemplate\": \"organ=Brain<br>gestation_r2_adj=%{x}<br>temperature_r2_adj=%{y}<br>metabolicRate_r2_adj=%{z}<br>maxlifespan_r2_adj=%{marker.size}<br>symbol=%{text}<extra></extra>\", \"legendgroup\": \"Brain\", \"marker\": {\"color\": \"#636efa\", \"size\": [0.7538338770999999, 0.7071049072, 0.6030546282, 0.5981829117, 0.5768562322, 0.5683329555, 0.5655564895, 0.5587439833, 0.5422204344, 0.5328621211, 0.5111091003], \"sizemode\": \"area\", \"sizeref\": 0.00206485006375, \"symbol\": \"circle\"}, \"mode\": \"markers+text\", \"name\": \"Brain\", \"scene\": \"scene\", \"showlegend\": true, \"text\": [\"ACBD4\", \"KIAA1549\", \"PGR\", \"NEDD4\", \"FAM81A\", \"CYHR1\", \"RASGEF1A\", \"TRIM35\", \"ACSL5\", \"NUDT18\", \"HDAC3\"], \"textfont\": {\"size\": 8}, \"type\": \"scatter3d\", \"x\": [0.49570456420000003, 0.5118816125, 0.28184335120000004, 0.1777423867, 0.2198820614, 0.127356475, 0.20711746829999997, 0.2352715311, 0.1067409085, 0.12558347039999998, 0.3142374931], \"y\": [0.006724746749, 0.6040319603000001, 0.10074624210000001, -0.0020720920920000003, 0.055115855410000004, -7.170000000000001e-05, 0.2467733297, 0.005458312491, 0.00440345079, 0.21534980969999998, -0.008322186708], \"z\": [0.500239827, 0.0, -0.03310175093000001, 0.03639314718, -0.0067630066319999994, -0.02040625941, 0.1963996209, 0.0119056645, -0.006343237215, 0.007802795638999999, -0.01458213389]}, {\"customdata\": [[\"TMEM178A\"], [\"RASGEF1A\"], [\"ZDHHC1\"], [\"SFSWAP\"], [\"TOR2A\"], [\"TSPAN2\"], [\"SUN5\"], [\"TMCC2\"], [\"SEZ6\"], [\"POPDC2\"], [\"NR1D1\"], [\"EHD4\"], [\"ALPL\"], [\"SH3TC2\"], [\"DCLK2\"], [\"SMPD1\"], [\"EVI5L\"], [\"SLC26A8\"], [\"FAM83C\"], [\"UNC79\"], [\"ERN2\"], [\"NAB2\"], [\"TAF3\"], [\"ALAD\"], [\"KCNK1\"], [\"DHX16\"], [\"MTHFR\"], [\"MIP\"], [\"STX4\"], [\"RGMA\"], [\"GHR\"], [\"ARHGAP1\"], [\"SLC16A5\"], [\"XPNPEP2\"], [\"CLUH\"], [\"DNAJC12\"], [\"CCDC83\"], [\"NUDT18\"], [\"ENG\"], [\"FNDC7\"], [\"MTSS1L\"], [\"MAT1A\"], [\"NEDD4\"], [\"SESN2\"], [\"GFRA3\"], [\"CLEC2L\"], [\"LGI3\"], [\"PKN3\"], [\"LURAP1L\"], [\"CCR7\"], [\"SLC7A10\"], [\"TMEM204\"], [\"XRCC1\"], [\"LRIG3\"], [\"PMM1\"], [\"NKD1\"], [\"KIAA1549\"], [\"CPLX3\"], [\"TMEM136\"], [\"FAM83F\"], [\"DPT\"], [\"POLR3H\"], [\"NDNF\"], [\"PIP4P2\"], [\"IL34\"], [\"CCDC6\"], [\"FHAD1\"], [\"NEDD1\"]], \"hovertemplate\": \"organ=Lung<br>gestation_r2_adj=%{x}<br>temperature_r2_adj=%{y}<br>metabolicRate_r2_adj=%{z}<br>maxlifespan_r2_adj=%{marker.size}<br>symbol=%{text}<extra></extra>\", \"legendgroup\": \"Lung\", \"marker\": {\"color\": \"#EF553B\", \"size\": [0.7347000555, 0.7330611957, 0.7153440648999999, 0.6716138608, 0.6692904171, 0.6674971277, 0.6671757652, 0.658562778, 0.6553173668, 0.6523580429, 0.6456091138000001, 0.6430318888000001, 0.6387704397, 0.6345428832, 0.6289682712, 0.6269657918, 0.6269363348, 0.6261962928, 0.6261803844, 0.6052346235, 0.5903701677000001, 0.604682526, 0.6016974267, 0.5969598303, 0.5950593764, 0.5871854117, 0.5821403516, 0.5820497914, 0.5816372867, 0.5760112261, 0.5699163384, 0.5602508559, 0.5581386073, 0.5560188208, 0.5546604978, 0.5529329442, 0.5489656316, 0.5466183444, 0.5460768153, 0.5436446256, 0.5411092343, 0.5396337421, 0.5353069186, 0.5326443612, 0.5320775331, 0.5314012686999999, 0.5283382946, 0.5272456757, 0.5256145282, 0.5244978127000001, 0.5239122298, 0.522490631, 0.5221359593, 0.5210837334, 0.5198904853, 0.5190187556, 0.8259400255, 0.5178466825, 0.5156722043, 0.5139369491, 0.5123464963000001, 0.5087287632, 0.5066248119, 0.5049622385, 0.5025188925, 0.5010878944, 0.5003548801, 0.5001741433], \"sizemode\": \"area\", \"sizeref\": 0.00206485006375, \"symbol\": \"circle\"}, \"mode\": \"markers+text\", \"name\": \"Lung\", \"scene\": \"scene\", \"showlegend\": true, \"text\": [\"TMEM178A\", \"RASGEF1A\", \"ZDHHC1\", \"SFSWAP\", \"TOR2A\", \"TSPAN2\", \"SUN5\", \"TMCC2\", \"SEZ6\", \"POPDC2\", \"NR1D1\", \"EHD4\", \"ALPL\", \"SH3TC2\", \"DCLK2\", \"SMPD1\", \"EVI5L\", \"SLC26A8\", \"FAM83C\", \"UNC79\", \"ERN2\", \"NAB2\", \"TAF3\", \"ALAD\", \"KCNK1\", \"DHX16\", \"MTHFR\", \"MIP\", \"STX4\", \"RGMA\", \"GHR\", \"ARHGAP1\", \"SLC16A5\", \"XPNPEP2\", \"CLUH\", \"DNAJC12\", \"CCDC83\", \"NUDT18\", \"ENG\", \"FNDC7\", \"MTSS1L\", \"MAT1A\", \"NEDD4\", \"SESN2\", \"GFRA3\", \"CLEC2L\", \"LGI3\", \"PKN3\", \"LURAP1L\", \"CCR7\", \"SLC7A10\", \"TMEM204\", \"XRCC1\", \"LRIG3\", \"PMM1\", \"NKD1\", \"KIAA1549\", \"CPLX3\", \"TMEM136\", \"FAM83F\", \"DPT\", \"POLR3H\", \"NDNF\", \"PIP4P2\", \"IL34\", \"CCDC6\", \"FHAD1\", \"NEDD1\"], \"textfont\": {\"size\": 8}, \"type\": \"scatter3d\", \"x\": [0.53976753, 0.5315222347, 0.3799621838, 0.4196252244, 0.35419486759999996, 0.4327205319, 0.4420260167, 0.36728723329999996, 0.37995734840000006, -0.03409455763, 0.4400417024, 0.46352646350000004, 0.18124370739999998, 0.376294598, 0.3426990116, 0.36112980619999996, 0.49119773549999995, 0.3986000704, 0.4867768493, 0.3245862254, 0.6805177949, 0.5596027083, 0.32157498079999997, 0.1402331566, 0.41039921590000006, 0.274462631, 0.5848387719, 0.2113851576, 0.5418786335, 0.38482606979999995, 0.5050677627, 0.3114879021, 0.401706548, 0.2765497461, 0.3062856149, 0.2750199988, 0.27262367670000004, 0.4444288287, 0.3215857991, 0.19826609809999998, 0.439064936, 0.45706718909999994, 0.2711825368, 0.2264882816, 0.35736160899999997, 0.11795270460000001, 0.3938615689, 0.2790497525, 0.5359387887, 0.3239222081, 0.2703016493, 0.21928034440000002, 0.2894179254, 0.471435769, 0.2598924019, 0.2727845281, 0.4212335213, 0.2850412798, 0.2967306265, 0.2914763056, 0.2588314074, -0.045786054349999994, 0.2715800214, 0.2188093751, 0.5149704679, 0.4335098671, 0.4140161376, 0.3213098603], \"y\": [-0.04295455083000001, 0.2870970269, 0.1754094266, 0.2668466001, 0.17377567579999997, -0.03786234008, 0.1469098156, -0.004109309562000001, -0.0239223408, 0.08470673756000001, -0.0316687899, -0.04377472458000001, -0.01807118937, -0.0372458991, -0.04438306611000001, -0.054562647129999996, -0.02904555838, 0.06571228571, -0.04459221067, -0.03865954145, -0.07586612186000001, 0.06300681221, -0.0164577613, -0.012005442649999998, -0.05882132472999999, 0.03409316352, 0.02033109495, 0.09295493922, -0.01632136084, 0.04962773746, 0.01419148997, -0.04784904669, 0.016944702830000002, -0.057971810529999994, -0.010302788609999999, 0.17572290059999998, -0.005605342708000001, -0.052242214339999996, -0.011606658159999998, -0.018529491119999998, 0.00011218424640000001, 0.1378504013, -0.03727043502, -0.0029278398979999997, 0.1496196347, -0.019361603459999998, -0.05498487099, -0.02239595478, 0.08375770654, -0.04612209851, -0.03746054662, -0.044996893899999994, -0.02486578617, -0.040683309869999996, -0.03279771978, -0.04785149416, 0.6993579194, -0.030973713849999997, 0.2833631018, 0.09506429295, -0.04254892156, -0.03326230245, -0.029320318510000002, -0.04353591533, -0.0552583879, -0.0365705466, -0.031912896680000004, 0.05009703928999999], \"z\": [0.10888768050000001, 0.09750431712000002, 0.2410804771, 0.11052793289999999, -0.07011727725, 0.054850565479999995, 0.02129576458, 0.05059025992, -0.06883544336, 0.08674648921, 0.08405951767999999, 0.03770927636, 0.1555573005, 0.0705086273, -0.008823379808, 0.008004369784, 0.07370838898, 0.01049192207, -0.0053373957, -0.06158592138999999, -0.14251721550000002, -0.09040137905, -0.0039094380770000004, 0.042237392639999996, 0.011359851770000002, 0.1361326883, -0.04130738974, 0.007544234015000001, -0.052098648110000007, -0.06605069312, 0.02239706267, -0.05811915092, 0.8497558368000001, -0.02991873912, -0.036422414369999996, 0.4262332865, 0.01621590416, -0.0320609321, 0.1819162011, -0.03292862128, 0.07622070923999999, 0.05983734472999999, 0.005816130834, 0.08245426437999999, -0.1389371187, -0.021954131600000003, 0.09789815402, 0.01076252249, -0.014891343969999998, 0.021425716830000004, -0.007567619241, 0.04571994424, 0.07529106501, -0.06658843622999999, -0.000513877875, -0.05277983605000001, 0.0, 0.001523408413, 0.00522102559, -0.02941135937, 0.11688330539999998, -0.02906859506, -0.029443629480000004, 0.04815869976, 0.02884494995, -0.08919712832, -0.10643470630000001, 0.1666423835]}, {\"customdata\": [[\"SUN3\"], [\"AQP4\"], [\"TCF19\"], [\"SPP2\"], [\"GCLM\"], [\"ELL3\"], [\"CAB39L\"]], \"hovertemplate\": \"organ=Kidney<br>gestation_r2_adj=%{x}<br>temperature_r2_adj=%{y}<br>metabolicRate_r2_adj=%{z}<br>maxlifespan_r2_adj=%{marker.size}<br>symbol=%{text}<extra></extra>\", \"legendgroup\": \"Kidney\", \"marker\": {\"color\": \"#00cc96\", \"size\": [0.5782393946, 0.5680120095000001, 0.5568962204, 0.5107139338000001, 0.5076805972, 0.507398355, 0.5068445821], \"sizemode\": \"area\", \"sizeref\": 0.00206485006375, \"symbol\": \"circle\"}, \"mode\": \"markers+text\", \"name\": \"Kidney\", \"scene\": \"scene\", \"showlegend\": true, \"text\": [\"SUN3\", \"AQP4\", \"TCF19\", \"SPP2\", \"GCLM\", \"ELL3\", \"CAB39L\"], \"textfont\": {\"size\": 8}, \"type\": \"scatter3d\", \"x\": [0.1986367797, 0.1345072458, 0.1815923196, 0.1904960282, 0.05694772762, 0.2719680889, 0.174743683], \"y\": [0.001169252435, -0.012486408610000001, -0.01888249421, -0.02081183517, -0.01851186751, 0.03543238259, -0.019710648180000002], \"z\": [0.04193933253, 0.01742645513, 0.046374410369999994, 0.04010970126, 0.02023117174, 0.04708594396000001, 0.01208259858]}, {\"customdata\": [[\"C6orf89\"], [\"GNA12\"], [\"SMPD1\"], [\"CYHR1\"]], \"hovertemplate\": \"organ=Liver<br>gestation_r2_adj=%{x}<br>temperature_r2_adj=%{y}<br>metabolicRate_r2_adj=%{z}<br>maxlifespan_r2_adj=%{marker.size}<br>symbol=%{text}<extra></extra>\", \"legendgroup\": \"Liver\", \"marker\": {\"color\": \"#ab63fa\", \"size\": [0.5324703432, 0.517182759, 0.512952375, 0.501257711], \"sizemode\": \"area\", \"sizeref\": 0.00206485006375, \"symbol\": \"circle\"}, \"mode\": \"markers+text\", \"name\": \"Liver\", \"scene\": \"scene\", \"showlegend\": true, \"text\": [\"C6orf89\", \"GNA12\", \"SMPD1\", \"CYHR1\"], \"textfont\": {\"size\": 8}, \"type\": \"scatter3d\", \"x\": [0.2882126248, 0.1568589111, 0.16855973800000001, 0.1356999355], \"y\": [-0.011419906399999999, 0.0074101623210000005, 0.00497586299, -0.006018035791], \"z\": [0.01252305038, -0.0012459962020000001, -0.0068222, -0.013051264650000002]}],\n",
       "                        {\"height\": 800, \"legend\": {\"itemsizing\": \"constant\", \"title\": {\"text\": \"organ\"}, \"tracegroupgap\": 0}, \"margin\": {\"b\": 100, \"l\": 50, \"r\": 50, \"t\": 10}, \"paper_bgcolor\": \"LightSteelBlue\", \"scene\": {\"domain\": {\"x\": [0.0, 1.0], \"y\": [0.0, 1.0]}, \"xaxis\": {\"title\": {\"text\": \"gestation_r2_adj\"}}, \"yaxis\": {\"title\": {\"text\": \"temperature_r2_adj\"}}, \"zaxis\": {\"title\": {\"text\": \"metabolicRate_r2_adj\"}}}, \"template\": {\"data\": {\"bar\": [{\"error_x\": {\"color\": \"#2a3f5f\"}, \"error_y\": {\"color\": \"#2a3f5f\"}, \"marker\": {\"line\": {\"color\": \"#E5ECF6\", \"width\": 0.5}}, \"type\": \"bar\"}], \"barpolar\": [{\"marker\": {\"line\": {\"color\": \"#E5ECF6\", \"width\": 0.5}}, \"type\": \"barpolar\"}], \"carpet\": [{\"aaxis\": {\"endlinecolor\": \"#2a3f5f\", \"gridcolor\": \"white\", \"linecolor\": \"white\", \"minorgridcolor\": \"white\", \"startlinecolor\": \"#2a3f5f\"}, \"baxis\": {\"endlinecolor\": \"#2a3f5f\", \"gridcolor\": \"white\", \"linecolor\": \"white\", \"minorgridcolor\": \"white\", \"startlinecolor\": \"#2a3f5f\"}, \"type\": \"carpet\"}], \"choropleth\": [{\"colorbar\": {\"outlinewidth\": 0, \"ticks\": \"\"}, \"type\": \"choropleth\"}], \"contour\": [{\"colorbar\": {\"outlinewidth\": 0, \"ticks\": \"\"}, \"colorscale\": [[0.0, \"#0d0887\"], [0.1111111111111111, \"#46039f\"], [0.2222222222222222, \"#7201a8\"], [0.3333333333333333, \"#9c179e\"], [0.4444444444444444, \"#bd3786\"], [0.5555555555555556, \"#d8576b\"], [0.6666666666666666, \"#ed7953\"], [0.7777777777777778, \"#fb9f3a\"], [0.8888888888888888, \"#fdca26\"], [1.0, \"#f0f921\"]], \"type\": \"contour\"}], \"contourcarpet\": [{\"colorbar\": {\"outlinewidth\": 0, \"ticks\": \"\"}, \"type\": \"contourcarpet\"}], \"heatmap\": [{\"colorbar\": {\"outlinewidth\": 0, \"ticks\": \"\"}, \"colorscale\": [[0.0, \"#0d0887\"], [0.1111111111111111, \"#46039f\"], [0.2222222222222222, \"#7201a8\"], [0.3333333333333333, \"#9c179e\"], [0.4444444444444444, \"#bd3786\"], [0.5555555555555556, \"#d8576b\"], [0.6666666666666666, \"#ed7953\"], [0.7777777777777778, \"#fb9f3a\"], [0.8888888888888888, \"#fdca26\"], [1.0, \"#f0f921\"]], \"type\": \"heatmap\"}], \"heatmapgl\": [{\"colorbar\": {\"outlinewidth\": 0, \"ticks\": \"\"}, \"colorscale\": [[0.0, \"#0d0887\"], [0.1111111111111111, \"#46039f\"], [0.2222222222222222, \"#7201a8\"], [0.3333333333333333, \"#9c179e\"], [0.4444444444444444, \"#bd3786\"], [0.5555555555555556, \"#d8576b\"], [0.6666666666666666, \"#ed7953\"], [0.7777777777777778, \"#fb9f3a\"], [0.8888888888888888, \"#fdca26\"], [1.0, \"#f0f921\"]], \"type\": \"heatmapgl\"}], \"histogram\": [{\"marker\": {\"colorbar\": {\"outlinewidth\": 0, \"ticks\": \"\"}}, \"type\": \"histogram\"}], \"histogram2d\": [{\"colorbar\": {\"outlinewidth\": 0, \"ticks\": \"\"}, \"colorscale\": [[0.0, \"#0d0887\"], [0.1111111111111111, \"#46039f\"], [0.2222222222222222, \"#7201a8\"], [0.3333333333333333, \"#9c179e\"], [0.4444444444444444, \"#bd3786\"], [0.5555555555555556, \"#d8576b\"], [0.6666666666666666, \"#ed7953\"], [0.7777777777777778, \"#fb9f3a\"], [0.8888888888888888, \"#fdca26\"], [1.0, \"#f0f921\"]], \"type\": \"histogram2d\"}], \"histogram2dcontour\": [{\"colorbar\": {\"outlinewidth\": 0, \"ticks\": \"\"}, \"colorscale\": [[0.0, \"#0d0887\"], [0.1111111111111111, \"#46039f\"], [0.2222222222222222, \"#7201a8\"], [0.3333333333333333, \"#9c179e\"], [0.4444444444444444, \"#bd3786\"], [0.5555555555555556, \"#d8576b\"], [0.6666666666666666, \"#ed7953\"], [0.7777777777777778, \"#fb9f3a\"], [0.8888888888888888, \"#fdca26\"], [1.0, \"#f0f921\"]], \"type\": \"histogram2dcontour\"}], \"mesh3d\": [{\"colorbar\": {\"outlinewidth\": 0, \"ticks\": \"\"}, \"type\": \"mesh3d\"}], \"parcoords\": [{\"line\": {\"colorbar\": {\"outlinewidth\": 0, \"ticks\": \"\"}}, \"type\": \"parcoords\"}], \"pie\": [{\"automargin\": true, \"type\": \"pie\"}], \"scatter\": [{\"marker\": {\"colorbar\": {\"outlinewidth\": 0, \"ticks\": \"\"}}, \"type\": \"scatter\"}], \"scatter3d\": [{\"line\": {\"colorbar\": {\"outlinewidth\": 0, \"ticks\": \"\"}}, \"marker\": {\"colorbar\": {\"outlinewidth\": 0, \"ticks\": \"\"}}, \"type\": \"scatter3d\"}], \"scattercarpet\": [{\"marker\": {\"colorbar\": {\"outlinewidth\": 0, \"ticks\": \"\"}}, \"type\": \"scattercarpet\"}], \"scattergeo\": [{\"marker\": {\"colorbar\": {\"outlinewidth\": 0, \"ticks\": \"\"}}, \"type\": \"scattergeo\"}], \"scattergl\": [{\"marker\": {\"colorbar\": {\"outlinewidth\": 0, \"ticks\": \"\"}}, \"type\": \"scattergl\"}], \"scattermapbox\": [{\"marker\": {\"colorbar\": {\"outlinewidth\": 0, \"ticks\": \"\"}}, \"type\": \"scattermapbox\"}], \"scatterpolar\": [{\"marker\": {\"colorbar\": {\"outlinewidth\": 0, \"ticks\": \"\"}}, \"type\": \"scatterpolar\"}], \"scatterpolargl\": [{\"marker\": {\"colorbar\": {\"outlinewidth\": 0, \"ticks\": \"\"}}, \"type\": \"scatterpolargl\"}], \"scatterternary\": [{\"marker\": {\"colorbar\": {\"outlinewidth\": 0, \"ticks\": \"\"}}, \"type\": \"scatterternary\"}], \"surface\": [{\"colorbar\": {\"outlinewidth\": 0, \"ticks\": \"\"}, \"colorscale\": [[0.0, \"#0d0887\"], [0.1111111111111111, \"#46039f\"], [0.2222222222222222, \"#7201a8\"], [0.3333333333333333, \"#9c179e\"], [0.4444444444444444, \"#bd3786\"], [0.5555555555555556, \"#d8576b\"], [0.6666666666666666, \"#ed7953\"], [0.7777777777777778, \"#fb9f3a\"], [0.8888888888888888, \"#fdca26\"], [1.0, \"#f0f921\"]], \"type\": \"surface\"}], \"table\": [{\"cells\": {\"fill\": {\"color\": \"#EBF0F8\"}, \"line\": {\"color\": \"white\"}}, \"header\": {\"fill\": {\"color\": \"#C8D4E3\"}, \"line\": {\"color\": \"white\"}}, \"type\": \"table\"}]}, \"layout\": {\"annotationdefaults\": {\"arrowcolor\": \"#2a3f5f\", \"arrowhead\": 0, \"arrowwidth\": 1}, \"coloraxis\": {\"colorbar\": {\"outlinewidth\": 0, \"ticks\": \"\"}}, \"colorscale\": {\"diverging\": [[0, \"#8e0152\"], [0.1, \"#c51b7d\"], [0.2, \"#de77ae\"], [0.3, \"#f1b6da\"], [0.4, \"#fde0ef\"], [0.5, \"#f7f7f7\"], [0.6, \"#e6f5d0\"], [0.7, \"#b8e186\"], [0.8, \"#7fbc41\"], [0.9, \"#4d9221\"], [1, \"#276419\"]], \"sequential\": [[0.0, \"#0d0887\"], [0.1111111111111111, \"#46039f\"], [0.2222222222222222, \"#7201a8\"], [0.3333333333333333, \"#9c179e\"], [0.4444444444444444, \"#bd3786\"], [0.5555555555555556, \"#d8576b\"], [0.6666666666666666, \"#ed7953\"], [0.7777777777777778, \"#fb9f3a\"], [0.8888888888888888, \"#fdca26\"], [1.0, \"#f0f921\"]], \"sequentialminus\": [[0.0, \"#0d0887\"], [0.1111111111111111, \"#46039f\"], [0.2222222222222222, \"#7201a8\"], [0.3333333333333333, \"#9c179e\"], [0.4444444444444444, \"#bd3786\"], [0.5555555555555556, \"#d8576b\"], [0.6666666666666666, \"#ed7953\"], [0.7777777777777778, \"#fb9f3a\"], [0.8888888888888888, \"#fdca26\"], [1.0, \"#f0f921\"]]}, \"colorway\": [\"#636efa\", \"#EF553B\", \"#00cc96\", \"#ab63fa\", \"#FFA15A\", \"#19d3f3\", \"#FF6692\", \"#B6E880\", \"#FF97FF\", \"#FECB52\"], \"font\": {\"color\": \"#2a3f5f\"}, \"geo\": {\"bgcolor\": \"white\", \"lakecolor\": \"white\", \"landcolor\": \"#E5ECF6\", \"showlakes\": true, \"showland\": true, \"subunitcolor\": \"white\"}, \"hoverlabel\": {\"align\": \"left\"}, \"hovermode\": \"closest\", \"mapbox\": {\"style\": \"light\"}, \"paper_bgcolor\": \"white\", \"plot_bgcolor\": \"#E5ECF6\", \"polar\": {\"angularaxis\": {\"gridcolor\": \"white\", \"linecolor\": \"white\", \"ticks\": \"\"}, \"bgcolor\": \"#E5ECF6\", \"radialaxis\": {\"gridcolor\": \"white\", \"linecolor\": \"white\", \"ticks\": \"\"}}, \"scene\": {\"xaxis\": {\"backgroundcolor\": \"#E5ECF6\", \"gridcolor\": \"white\", \"gridwidth\": 2, \"linecolor\": \"white\", \"showbackground\": true, \"ticks\": \"\", \"zerolinecolor\": \"white\"}, \"yaxis\": {\"backgroundcolor\": \"#E5ECF6\", \"gridcolor\": \"white\", \"gridwidth\": 2, \"linecolor\": \"white\", \"showbackground\": true, \"ticks\": \"\", \"zerolinecolor\": \"white\"}, \"zaxis\": {\"backgroundcolor\": \"#E5ECF6\", \"gridcolor\": \"white\", \"gridwidth\": 2, \"linecolor\": \"white\", \"showbackground\": true, \"ticks\": \"\", \"zerolinecolor\": \"white\"}}, \"shapedefaults\": {\"line\": {\"color\": \"#2a3f5f\"}}, \"ternary\": {\"aaxis\": {\"gridcolor\": \"white\", \"linecolor\": \"white\", \"ticks\": \"\"}, \"baxis\": {\"gridcolor\": \"white\", \"linecolor\": \"white\", \"ticks\": \"\"}, \"bgcolor\": \"#E5ECF6\", \"caxis\": {\"gridcolor\": \"white\", \"linecolor\": \"white\", \"ticks\": \"\"}}, \"title\": {\"x\": 0.05}, \"xaxis\": {\"automargin\": true, \"gridcolor\": \"white\", \"linecolor\": \"white\", \"ticks\": \"\", \"title\": {\"standoff\": 15}, \"zerolinecolor\": \"white\", \"zerolinewidth\": 2}, \"yaxis\": {\"automargin\": true, \"gridcolor\": \"white\", \"linecolor\": \"white\", \"ticks\": \"\", \"title\": {\"standoff\": 15}, \"zerolinecolor\": \"white\", \"zerolinewidth\": 2}}}, \"width\": 800},\n",
       "                        {\"responsive\": true}\n",
       "                    ).then(function(){\n",
       "                            \n",
       "var gd = document.getElementById('d1a2ed2a-5bf0-4e55-a2c2-5a7cb7bbb9ed');\n",
       "var x = new MutationObserver(function (mutations, observer) {{\n",
       "        var display = window.getComputedStyle(gd).display;\n",
       "        if (!display || display === 'none') {{\n",
       "            console.log([gd, 'removed!']);\n",
       "            Plotly.purge(gd);\n",
       "            observer.disconnect();\n",
       "        }}\n",
       "}});\n",
       "\n",
       "// Listen for the removal of the full notebook cells\n",
       "var notebookContainer = gd.closest('#notebook-container');\n",
       "if (notebookContainer) {{\n",
       "    x.observe(notebookContainer, {childList: true});\n",
       "}}\n",
       "\n",
       "// Listen for the clearing of the current output cell\n",
       "var outputEl = gd.closest('.output');\n",
       "if (outputEl) {{\n",
       "    x.observe(outputEl, {childList: true});\n",
       "}}\n",
       "\n",
       "                        })\n",
       "                };\n",
       "                });\n",
       "            </script>\n",
       "        </div>"
      ]
     },
     "metadata": {},
     "output_type": "display_data"
    }
   ],
   "source": [
    "import plotly.express as px\n",
    "import numpy as np\n",
    "fig = px.scatter_3d(df, x=\"gestation_r2_adj\", y=\"temperature_r2_adj\", z=\"metabolicRate_r2_adj\", size=\"maxlifespan_r2_adj\", color='organ',\n",
    "                    text = \"symbol\", hover_data=['symbol'], width=800, height=800)\n",
    "fig.update_layout(\n",
    "    margin=dict(l=50, r=50, t=10, b=100),\n",
    "    paper_bgcolor=\"LightSteelBlue\",\n",
    ")\n",
    "fig.update_traces(textfont_size=8)\n",
    "#fig.update_layout(scene_zaxis_type=\"log\")\n",
    "fig.show()"
   ]
  },
  {
   "cell_type": "code",
   "execution_count": 10,
   "metadata": {},
   "outputs": [
    {
     "data": {
      "application/vnd.plotly.v1+json": {
       "config": {
        "plotlyServerURL": "https://plot.ly"
       },
       "data": [
        {
         "color": "lightpink",
         "opacity": 0.5,
         "type": "mesh3d",
         "x": [
          0.689484,
          0.476483,
          0.58677,
          1.068768,
          1.43806,
          1.483567,
          1.163844,
          1.491083,
          1.970356,
          1.961689,
          1.823355,
          1.868743,
          1.437345,
          1.248269,
          1.108745,
          1.670774,
          1.503391,
          1.406028,
          1.97107,
          1.853437,
          1.361601,
          1.139926,
          1.949556,
          2.323108,
          2.558936,
          2.650508,
          2.431305,
          2.026224,
          1.971259,
          1.168452,
          1.342775,
          1.129037,
          0.871781,
          0.855148,
          0.395625,
          1.051331,
          1.309558,
          1.876837,
          2.620561,
          2.508878,
          2.646833,
          2.448341,
          1.610501,
          1.925691,
          1.9184,
          1.910517,
          2.450736,
          2.381144,
          2.1596,
          2.379856,
          2.254824,
          2.32,
          1.698536,
          1.527831,
          1.530377,
          1.67204,
          1.534793,
          1.886021,
          2.062097,
          2.128729,
          2.057646,
          2.155564,
          2.698137,
          3.066121,
          3.925938,
          4.240422,
          3.907132,
          3.750647,
          2.918651,
          2.980647,
          2.992436,
          2.71034,
          2.693541,
          2.361263,
          1.897547,
          2.345557,
          2.007566,
          1.599818,
          1.182395,
          1.469907,
          1.460792,
          1.11318,
          0.879555,
          1.351152,
          1.392628,
          1.926062,
          1.211311,
          0.913065,
          1.363192,
          2.032102,
          1.738637,
          1.249448,
          0.610179,
          0.853197,
          0.794531,
          0.635271,
          0.545627,
          0.137978,
          0.552325,
          0.417952
         ],
         "y": [
          -0.014459,
          0.162624,
          0.102149,
          0.678668,
          0.683633,
          0.140479,
          0.125522,
          0.31764,
          0.389628,
          0.144644,
          0.309693,
          0.171245,
          0.781093,
          0.429151,
          0.233132,
          -0.080785,
          -0.179939,
          0.025858,
          0.309369,
          0.65834,
          0.443953,
          1.295734,
          1.032481,
          0.66557,
          0.22719,
          0.817791,
          1.189158,
          1.167509,
          0.499964,
          0.683057,
          0.672141,
          0.183479,
          0.06947,
          0.587134,
          0.606762,
          0.804046,
          0.67245,
          0.506276,
          0.556901,
          0.445584,
          0.160679,
          -0.003327,
          0.031129,
          -0.412504,
          -0.344678,
          -0.246417,
          -0.725501,
          -1.214003,
          -1.524586,
          -1.845657,
          -1.268736,
          -1.171255,
          -1.233225,
          -1.374688,
          -1.35563,
          -1.146433,
          -1.167195,
          -0.864813,
          -0.488551,
          0.153843,
          0.302593,
          0.568636,
          0.182249,
          0.56296,
          0.252966,
          -0.220912,
          -0.328587,
          -0.193345,
          -0.238123,
          0.261956,
          0.081961,
          -0.49059,
          -0.259896,
          -0.187197,
          -0.032457,
          0.049672,
          0.12171,
          -0.105825,
          -0.745416,
          -0.795117,
          -0.45044,
          -0.514758,
          -0.639992,
          -0.329654,
          -0.215191,
          -0.37535,
          -1.208597,
          -1.064432,
          -1.33837,
          -1.405084,
          -1.456743,
          -1.299677,
          -1.236958,
          -0.482796,
          -0.346327,
          -0.689043,
          -0.840409,
          -1.16441,
          -1.242295,
          -1.794645
         ],
         "z": [
          0.428751,
          0.449488,
          0.769481,
          1.023915,
          0.752397,
          1.389489,
          1.098527,
          0.760376,
          0.631279,
          0.254462,
          0.151225,
          -0.160235,
          -0.56967,
          -0.795403,
          -0.744953,
          -0.820339,
          -0.791839,
          -0.96783,
          -0.65142,
          -0.66108,
          -0.126488,
          0.114152,
          0.417303,
          0.615544,
          0.385185,
          0.186861,
          -0.0858,
          -0.120976,
          -0.035002,
          -0.309909,
          -0.208439,
          -0.485355,
          -0.734185,
          -0.574637,
          -1.004597,
          -1.250838,
          -1.174746,
          -1.376205,
          -1.528117,
          -1.501028,
          -1.605397,
          -1.875326,
          -2.069439,
          -2.138976,
          -2.29942,
          -2.245133,
          -2.82832,
          -2.812268,
          -2.873087,
          -2.758474,
          -3.020816,
          -3.604322,
          -3.369023,
          -3.394583,
          -3.29579,
          -3.038195,
          -3.646896,
          -3.52345,
          -3.273344,
          -3.081451,
          -2.701675,
          -2.718267,
          -2.875416,
          -2.909034,
          -3.011479,
          -2.79574,
          -2.430246,
          -2.166711,
          -2.143549,
          -2.218529,
          -2.173249,
          -1.838208,
          -1.613949,
          -1.208869,
          -0.792615,
          -1.164745,
          -1.080368,
          -1.08692,
          -0.878417,
          -0.562867,
          -0.599801,
          -0.508419,
          -0.672436,
          -0.829762,
          -0.596751,
          -0.554818,
          -0.556275,
          -0.494078,
          -0.238343,
          -0.335621,
          0.028875,
          0.10227,
          0.31525,
          0.164532,
          -0.462431,
          -0.492473,
          -0.344744,
          -0.537114,
          -0.476395,
          -0.288381
         ]
        }
       ],
       "layout": {
        "autosize": true,
        "scene": {
         "aspectmode": "auto",
         "aspectratio": {
          "x": 1.020817567521995,
          "y": 0.7816772439198411,
          "z": 1.2532115696897421
         }
        },
        "template": {
         "data": {
          "bar": [
           {
            "error_x": {
             "color": "#2a3f5f"
            },
            "error_y": {
             "color": "#2a3f5f"
            },
            "marker": {
             "line": {
              "color": "#E5ECF6",
              "width": 0.5
             }
            },
            "type": "bar"
           }
          ],
          "barpolar": [
           {
            "marker": {
             "line": {
              "color": "#E5ECF6",
              "width": 0.5
             }
            },
            "type": "barpolar"
           }
          ],
          "carpet": [
           {
            "aaxis": {
             "endlinecolor": "#2a3f5f",
             "gridcolor": "white",
             "linecolor": "white",
             "minorgridcolor": "white",
             "startlinecolor": "#2a3f5f"
            },
            "baxis": {
             "endlinecolor": "#2a3f5f",
             "gridcolor": "white",
             "linecolor": "white",
             "minorgridcolor": "white",
             "startlinecolor": "#2a3f5f"
            },
            "type": "carpet"
           }
          ],
          "choropleth": [
           {
            "colorbar": {
             "outlinewidth": 0,
             "ticks": ""
            },
            "type": "choropleth"
           }
          ],
          "contour": [
           {
            "colorbar": {
             "outlinewidth": 0,
             "ticks": ""
            },
            "colorscale": [
             [
              0,
              "#0d0887"
             ],
             [
              0.1111111111111111,
              "#46039f"
             ],
             [
              0.2222222222222222,
              "#7201a8"
             ],
             [
              0.3333333333333333,
              "#9c179e"
             ],
             [
              0.4444444444444444,
              "#bd3786"
             ],
             [
              0.5555555555555556,
              "#d8576b"
             ],
             [
              0.6666666666666666,
              "#ed7953"
             ],
             [
              0.7777777777777778,
              "#fb9f3a"
             ],
             [
              0.8888888888888888,
              "#fdca26"
             ],
             [
              1,
              "#f0f921"
             ]
            ],
            "type": "contour"
           }
          ],
          "contourcarpet": [
           {
            "colorbar": {
             "outlinewidth": 0,
             "ticks": ""
            },
            "type": "contourcarpet"
           }
          ],
          "heatmap": [
           {
            "colorbar": {
             "outlinewidth": 0,
             "ticks": ""
            },
            "colorscale": [
             [
              0,
              "#0d0887"
             ],
             [
              0.1111111111111111,
              "#46039f"
             ],
             [
              0.2222222222222222,
              "#7201a8"
             ],
             [
              0.3333333333333333,
              "#9c179e"
             ],
             [
              0.4444444444444444,
              "#bd3786"
             ],
             [
              0.5555555555555556,
              "#d8576b"
             ],
             [
              0.6666666666666666,
              "#ed7953"
             ],
             [
              0.7777777777777778,
              "#fb9f3a"
             ],
             [
              0.8888888888888888,
              "#fdca26"
             ],
             [
              1,
              "#f0f921"
             ]
            ],
            "type": "heatmap"
           }
          ],
          "heatmapgl": [
           {
            "colorbar": {
             "outlinewidth": 0,
             "ticks": ""
            },
            "colorscale": [
             [
              0,
              "#0d0887"
             ],
             [
              0.1111111111111111,
              "#46039f"
             ],
             [
              0.2222222222222222,
              "#7201a8"
             ],
             [
              0.3333333333333333,
              "#9c179e"
             ],
             [
              0.4444444444444444,
              "#bd3786"
             ],
             [
              0.5555555555555556,
              "#d8576b"
             ],
             [
              0.6666666666666666,
              "#ed7953"
             ],
             [
              0.7777777777777778,
              "#fb9f3a"
             ],
             [
              0.8888888888888888,
              "#fdca26"
             ],
             [
              1,
              "#f0f921"
             ]
            ],
            "type": "heatmapgl"
           }
          ],
          "histogram": [
           {
            "marker": {
             "colorbar": {
              "outlinewidth": 0,
              "ticks": ""
             }
            },
            "type": "histogram"
           }
          ],
          "histogram2d": [
           {
            "colorbar": {
             "outlinewidth": 0,
             "ticks": ""
            },
            "colorscale": [
             [
              0,
              "#0d0887"
             ],
             [
              0.1111111111111111,
              "#46039f"
             ],
             [
              0.2222222222222222,
              "#7201a8"
             ],
             [
              0.3333333333333333,
              "#9c179e"
             ],
             [
              0.4444444444444444,
              "#bd3786"
             ],
             [
              0.5555555555555556,
              "#d8576b"
             ],
             [
              0.6666666666666666,
              "#ed7953"
             ],
             [
              0.7777777777777778,
              "#fb9f3a"
             ],
             [
              0.8888888888888888,
              "#fdca26"
             ],
             [
              1,
              "#f0f921"
             ]
            ],
            "type": "histogram2d"
           }
          ],
          "histogram2dcontour": [
           {
            "colorbar": {
             "outlinewidth": 0,
             "ticks": ""
            },
            "colorscale": [
             [
              0,
              "#0d0887"
             ],
             [
              0.1111111111111111,
              "#46039f"
             ],
             [
              0.2222222222222222,
              "#7201a8"
             ],
             [
              0.3333333333333333,
              "#9c179e"
             ],
             [
              0.4444444444444444,
              "#bd3786"
             ],
             [
              0.5555555555555556,
              "#d8576b"
             ],
             [
              0.6666666666666666,
              "#ed7953"
             ],
             [
              0.7777777777777778,
              "#fb9f3a"
             ],
             [
              0.8888888888888888,
              "#fdca26"
             ],
             [
              1,
              "#f0f921"
             ]
            ],
            "type": "histogram2dcontour"
           }
          ],
          "mesh3d": [
           {
            "colorbar": {
             "outlinewidth": 0,
             "ticks": ""
            },
            "type": "mesh3d"
           }
          ],
          "parcoords": [
           {
            "line": {
             "colorbar": {
              "outlinewidth": 0,
              "ticks": ""
             }
            },
            "type": "parcoords"
           }
          ],
          "pie": [
           {
            "automargin": true,
            "type": "pie"
           }
          ],
          "scatter": [
           {
            "marker": {
             "colorbar": {
              "outlinewidth": 0,
              "ticks": ""
             }
            },
            "type": "scatter"
           }
          ],
          "scatter3d": [
           {
            "line": {
             "colorbar": {
              "outlinewidth": 0,
              "ticks": ""
             }
            },
            "marker": {
             "colorbar": {
              "outlinewidth": 0,
              "ticks": ""
             }
            },
            "type": "scatter3d"
           }
          ],
          "scattercarpet": [
           {
            "marker": {
             "colorbar": {
              "outlinewidth": 0,
              "ticks": ""
             }
            },
            "type": "scattercarpet"
           }
          ],
          "scattergeo": [
           {
            "marker": {
             "colorbar": {
              "outlinewidth": 0,
              "ticks": ""
             }
            },
            "type": "scattergeo"
           }
          ],
          "scattergl": [
           {
            "marker": {
             "colorbar": {
              "outlinewidth": 0,
              "ticks": ""
             }
            },
            "type": "scattergl"
           }
          ],
          "scattermapbox": [
           {
            "marker": {
             "colorbar": {
              "outlinewidth": 0,
              "ticks": ""
             }
            },
            "type": "scattermapbox"
           }
          ],
          "scatterpolar": [
           {
            "marker": {
             "colorbar": {
              "outlinewidth": 0,
              "ticks": ""
             }
            },
            "type": "scatterpolar"
           }
          ],
          "scatterpolargl": [
           {
            "marker": {
             "colorbar": {
              "outlinewidth": 0,
              "ticks": ""
             }
            },
            "type": "scatterpolargl"
           }
          ],
          "scatterternary": [
           {
            "marker": {
             "colorbar": {
              "outlinewidth": 0,
              "ticks": ""
             }
            },
            "type": "scatterternary"
           }
          ],
          "surface": [
           {
            "colorbar": {
             "outlinewidth": 0,
             "ticks": ""
            },
            "colorscale": [
             [
              0,
              "#0d0887"
             ],
             [
              0.1111111111111111,
              "#46039f"
             ],
             [
              0.2222222222222222,
              "#7201a8"
             ],
             [
              0.3333333333333333,
              "#9c179e"
             ],
             [
              0.4444444444444444,
              "#bd3786"
             ],
             [
              0.5555555555555556,
              "#d8576b"
             ],
             [
              0.6666666666666666,
              "#ed7953"
             ],
             [
              0.7777777777777778,
              "#fb9f3a"
             ],
             [
              0.8888888888888888,
              "#fdca26"
             ],
             [
              1,
              "#f0f921"
             ]
            ],
            "type": "surface"
           }
          ],
          "table": [
           {
            "cells": {
             "fill": {
              "color": "#EBF0F8"
             },
             "line": {
              "color": "white"
             }
            },
            "header": {
             "fill": {
              "color": "#C8D4E3"
             },
             "line": {
              "color": "white"
             }
            },
            "type": "table"
           }
          ]
         },
         "layout": {
          "annotationdefaults": {
           "arrowcolor": "#2a3f5f",
           "arrowhead": 0,
           "arrowwidth": 1
          },
          "coloraxis": {
           "colorbar": {
            "outlinewidth": 0,
            "ticks": ""
           }
          },
          "colorscale": {
           "diverging": [
            [
             0,
             "#8e0152"
            ],
            [
             0.1,
             "#c51b7d"
            ],
            [
             0.2,
             "#de77ae"
            ],
            [
             0.3,
             "#f1b6da"
            ],
            [
             0.4,
             "#fde0ef"
            ],
            [
             0.5,
             "#f7f7f7"
            ],
            [
             0.6,
             "#e6f5d0"
            ],
            [
             0.7,
             "#b8e186"
            ],
            [
             0.8,
             "#7fbc41"
            ],
            [
             0.9,
             "#4d9221"
            ],
            [
             1,
             "#276419"
            ]
           ],
           "sequential": [
            [
             0,
             "#0d0887"
            ],
            [
             0.1111111111111111,
             "#46039f"
            ],
            [
             0.2222222222222222,
             "#7201a8"
            ],
            [
             0.3333333333333333,
             "#9c179e"
            ],
            [
             0.4444444444444444,
             "#bd3786"
            ],
            [
             0.5555555555555556,
             "#d8576b"
            ],
            [
             0.6666666666666666,
             "#ed7953"
            ],
            [
             0.7777777777777778,
             "#fb9f3a"
            ],
            [
             0.8888888888888888,
             "#fdca26"
            ],
            [
             1,
             "#f0f921"
            ]
           ],
           "sequentialminus": [
            [
             0,
             "#0d0887"
            ],
            [
             0.1111111111111111,
             "#46039f"
            ],
            [
             0.2222222222222222,
             "#7201a8"
            ],
            [
             0.3333333333333333,
             "#9c179e"
            ],
            [
             0.4444444444444444,
             "#bd3786"
            ],
            [
             0.5555555555555556,
             "#d8576b"
            ],
            [
             0.6666666666666666,
             "#ed7953"
            ],
            [
             0.7777777777777778,
             "#fb9f3a"
            ],
            [
             0.8888888888888888,
             "#fdca26"
            ],
            [
             1,
             "#f0f921"
            ]
           ]
          },
          "colorway": [
           "#636efa",
           "#EF553B",
           "#00cc96",
           "#ab63fa",
           "#FFA15A",
           "#19d3f3",
           "#FF6692",
           "#B6E880",
           "#FF97FF",
           "#FECB52"
          ],
          "font": {
           "color": "#2a3f5f"
          },
          "geo": {
           "bgcolor": "white",
           "lakecolor": "white",
           "landcolor": "#E5ECF6",
           "showlakes": true,
           "showland": true,
           "subunitcolor": "white"
          },
          "hoverlabel": {
           "align": "left"
          },
          "hovermode": "closest",
          "mapbox": {
           "style": "light"
          },
          "paper_bgcolor": "white",
          "plot_bgcolor": "#E5ECF6",
          "polar": {
           "angularaxis": {
            "gridcolor": "white",
            "linecolor": "white",
            "ticks": ""
           },
           "bgcolor": "#E5ECF6",
           "radialaxis": {
            "gridcolor": "white",
            "linecolor": "white",
            "ticks": ""
           }
          },
          "scene": {
           "xaxis": {
            "backgroundcolor": "#E5ECF6",
            "gridcolor": "white",
            "gridwidth": 2,
            "linecolor": "white",
            "showbackground": true,
            "ticks": "",
            "zerolinecolor": "white"
           },
           "yaxis": {
            "backgroundcolor": "#E5ECF6",
            "gridcolor": "white",
            "gridwidth": 2,
            "linecolor": "white",
            "showbackground": true,
            "ticks": "",
            "zerolinecolor": "white"
           },
           "zaxis": {
            "backgroundcolor": "#E5ECF6",
            "gridcolor": "white",
            "gridwidth": 2,
            "linecolor": "white",
            "showbackground": true,
            "ticks": "",
            "zerolinecolor": "white"
           }
          },
          "shapedefaults": {
           "line": {
            "color": "#2a3f5f"
           }
          },
          "ternary": {
           "aaxis": {
            "gridcolor": "white",
            "linecolor": "white",
            "ticks": ""
           },
           "baxis": {
            "gridcolor": "white",
            "linecolor": "white",
            "ticks": ""
           },
           "bgcolor": "#E5ECF6",
           "caxis": {
            "gridcolor": "white",
            "linecolor": "white",
            "ticks": ""
           }
          },
          "title": {
           "x": 0.05
          },
          "xaxis": {
           "automargin": true,
           "gridcolor": "white",
           "linecolor": "white",
           "ticks": "",
           "title": {
            "standoff": 15
           },
           "zerolinecolor": "white",
           "zerolinewidth": 2
          },
          "yaxis": {
           "automargin": true,
           "gridcolor": "white",
           "linecolor": "white",
           "ticks": "",
           "title": {
            "standoff": 15
           },
           "zerolinecolor": "white",
           "zerolinewidth": 2
          }
         }
        }
       }
      },
      "image/png": "[encoded data removed]",
      "text/html": [
       "<div>\n",
       "        \n",
       "        \n",
       "            <div id=\"914b9f53-4d36-4485-8ca8-ed9bca5df6fc\" class=\"plotly-graph-div\" style=\"height:525px; width:100%;\"></div>\n",
       "            <script type=\"text/javascript\">\n",
       "                require([\"plotly\"], function(Plotly) {\n",
       "                    window.PLOTLYENV=window.PLOTLYENV || {};\n",
       "                    \n",
       "                if (document.getElementById(\"914b9f53-4d36-4485-8ca8-ed9bca5df6fc\")) {\n",
       "                    Plotly.newPlot(\n",
       "                        '914b9f53-4d36-4485-8ca8-ed9bca5df6fc',\n",
       "                        [{\"color\": \"lightpink\", \"opacity\": 0.5, \"type\": \"mesh3d\", \"x\": [0.689484, 0.476483, 0.58677, 1.068768, 1.43806, 1.483567, 1.163844, 1.491083, 1.970356, 1.961689, 1.823355, 1.868743, 1.437345, 1.248269, 1.108745, 1.670774, 1.503391, 1.406028, 1.97107, 1.853437, 1.361601, 1.139926, 1.949556, 2.323108, 2.558936, 2.650508, 2.431305, 2.026224, 1.971259, 1.168452, 1.342775, 1.129037, 0.871781, 0.855148, 0.395625, 1.051331, 1.309558, 1.876837, 2.620561, 2.508878, 2.646833, 2.448341, 1.610501, 1.925691, 1.9184, 1.910517, 2.450736, 2.381144, 2.1596, 2.379856, 2.254824, 2.32, 1.698536, 1.527831, 1.530377, 1.67204, 1.534793, 1.886021, 2.062097, 2.128729, 2.057646, 2.155564, 2.698137, 3.066121, 3.925938, 4.240422, 3.907132, 3.750647, 2.918651, 2.980647, 2.992436, 2.71034, 2.693541, 2.361263, 1.897547, 2.345557, 2.007566, 1.599818, 1.182395, 1.469907, 1.460792, 1.11318, 0.879555, 1.351152, 1.392628, 1.926062, 1.211311, 0.913065, 1.363192, 2.032102, 1.738637, 1.249448, 0.610179, 0.853197, 0.794531, 0.635271, 0.545627, 0.137978, 0.552325, 0.417952], \"y\": [-0.014459, 0.162624, 0.102149, 0.678668, 0.683633, 0.140479, 0.125522, 0.31764, 0.389628, 0.144644, 0.309693, 0.171245, 0.781093, 0.429151, 0.233132, -0.080785, -0.179939, 0.025858, 0.309369, 0.65834, 0.443953, 1.295734, 1.032481, 0.66557, 0.22719, 0.817791, 1.189158, 1.167509, 0.499964, 0.683057, 0.672141, 0.183479, 0.06947, 0.587134, 0.606762, 0.804046, 0.67245, 0.506276, 0.556901, 0.445584, 0.160679, -0.003327, 0.031129, -0.412504, -0.344678, -0.246417, -0.725501, -1.214003, -1.524586, -1.845657, -1.268736, -1.171255, -1.233225, -1.374688, -1.35563, -1.146433, -1.167195, -0.864813, -0.488551, 0.153843, 0.302593, 0.568636, 0.182249, 0.56296, 0.252966, -0.220912, -0.328587, -0.193345, -0.238123, 0.261956, 0.081961, -0.49059, -0.259896, -0.187197, -0.032457, 0.049672, 0.12171, -0.105825, -0.745416, -0.795117, -0.45044, -0.514758, -0.639992, -0.329654, -0.215191, -0.37535, -1.208597, -1.064432, -1.33837, -1.405084, -1.456743, -1.299677, -1.236958, -0.482796, -0.346327, -0.689043, -0.840409, -1.16441, -1.242295, -1.794645], \"z\": [0.428751, 0.449488, 0.769481, 1.023915, 0.752397, 1.389489, 1.098527, 0.760376, 0.631279, 0.254462, 0.151225, -0.160235, -0.56967, -0.795403, -0.744953, -0.820339, -0.791839, -0.96783, -0.65142, -0.66108, -0.126488, 0.114152, 0.417303, 0.615544, 0.385185, 0.186861, -0.0858, -0.120976, -0.035002, -0.309909, -0.208439, -0.485355, -0.734185, -0.574637, -1.004597, -1.250838, -1.174746, -1.376205, -1.528117, -1.501028, -1.605397, -1.875326, -2.069439, -2.138976, -2.29942, -2.245133, -2.82832, -2.812268, -2.873087, -2.758474, -3.020816, -3.604322, -3.369023, -3.394583, -3.29579, -3.038195, -3.646896, -3.52345, -3.273344, -3.081451, -2.701675, -2.718267, -2.875416, -2.909034, -3.011479, -2.79574, -2.430246, -2.166711, -2.143549, -2.218529, -2.173249, -1.838208, -1.613949, -1.208869, -0.792615, -1.164745, -1.080368, -1.08692, -0.878417, -0.562867, -0.599801, -0.508419, -0.672436, -0.829762, -0.596751, -0.554818, -0.556275, -0.494078, -0.238343, -0.335621, 0.028875, 0.10227, 0.31525, 0.164532, -0.462431, -0.492473, -0.344744, -0.537114, -0.476395, -0.288381]}],\n",
       "                        {\"template\": {\"data\": {\"bar\": [{\"error_x\": {\"color\": \"#2a3f5f\"}, \"error_y\": {\"color\": \"#2a3f5f\"}, \"marker\": {\"line\": {\"color\": \"#E5ECF6\", \"width\": 0.5}}, \"type\": \"bar\"}], \"barpolar\": [{\"marker\": {\"line\": {\"color\": \"#E5ECF6\", \"width\": 0.5}}, \"type\": \"barpolar\"}], \"carpet\": [{\"aaxis\": {\"endlinecolor\": \"#2a3f5f\", \"gridcolor\": \"white\", \"linecolor\": \"white\", \"minorgridcolor\": \"white\", \"startlinecolor\": \"#2a3f5f\"}, \"baxis\": {\"endlinecolor\": \"#2a3f5f\", \"gridcolor\": \"white\", \"linecolor\": \"white\", \"minorgridcolor\": \"white\", \"startlinecolor\": \"#2a3f5f\"}, \"type\": \"carpet\"}], \"choropleth\": [{\"colorbar\": {\"outlinewidth\": 0, \"ticks\": \"\"}, \"type\": \"choropleth\"}], \"contour\": [{\"colorbar\": {\"outlinewidth\": 0, \"ticks\": \"\"}, \"colorscale\": [[0.0, \"#0d0887\"], [0.1111111111111111, \"#46039f\"], [0.2222222222222222, \"#7201a8\"], [0.3333333333333333, \"#9c179e\"], [0.4444444444444444, \"#bd3786\"], [0.5555555555555556, \"#d8576b\"], [0.6666666666666666, \"#ed7953\"], [0.7777777777777778, \"#fb9f3a\"], [0.8888888888888888, \"#fdca26\"], [1.0, \"#f0f921\"]], \"type\": \"contour\"}], \"contourcarpet\": [{\"colorbar\": {\"outlinewidth\": 0, \"ticks\": \"\"}, \"type\": \"contourcarpet\"}], \"heatmap\": [{\"colorbar\": {\"outlinewidth\": 0, \"ticks\": \"\"}, \"colorscale\": [[0.0, \"#0d0887\"], [0.1111111111111111, \"#46039f\"], [0.2222222222222222, \"#7201a8\"], [0.3333333333333333, \"#9c179e\"], [0.4444444444444444, \"#bd3786\"], [0.5555555555555556, \"#d8576b\"], [0.6666666666666666, \"#ed7953\"], [0.7777777777777778, \"#fb9f3a\"], [0.8888888888888888, \"#fdca26\"], [1.0, \"#f0f921\"]], \"type\": \"heatmap\"}], \"heatmapgl\": [{\"colorbar\": {\"outlinewidth\": 0, \"ticks\": \"\"}, \"colorscale\": [[0.0, \"#0d0887\"], [0.1111111111111111, \"#46039f\"], [0.2222222222222222, \"#7201a8\"], [0.3333333333333333, \"#9c179e\"], [0.4444444444444444, \"#bd3786\"], [0.5555555555555556, \"#d8576b\"], [0.6666666666666666, \"#ed7953\"], [0.7777777777777778, \"#fb9f3a\"], [0.8888888888888888, \"#fdca26\"], [1.0, \"#f0f921\"]], \"type\": \"heatmapgl\"}], \"histogram\": [{\"marker\": {\"colorbar\": {\"outlinewidth\": 0, \"ticks\": \"\"}}, \"type\": \"histogram\"}], \"histogram2d\": [{\"colorbar\": {\"outlinewidth\": 0, \"ticks\": \"\"}, \"colorscale\": [[0.0, \"#0d0887\"], [0.1111111111111111, \"#46039f\"], [0.2222222222222222, \"#7201a8\"], [0.3333333333333333, \"#9c179e\"], [0.4444444444444444, \"#bd3786\"], [0.5555555555555556, \"#d8576b\"], [0.6666666666666666, \"#ed7953\"], [0.7777777777777778, \"#fb9f3a\"], [0.8888888888888888, \"#fdca26\"], [1.0, \"#f0f921\"]], \"type\": \"histogram2d\"}], \"histogram2dcontour\": [{\"colorbar\": {\"outlinewidth\": 0, \"ticks\": \"\"}, \"colorscale\": [[0.0, \"#0d0887\"], [0.1111111111111111, \"#46039f\"], [0.2222222222222222, \"#7201a8\"], [0.3333333333333333, \"#9c179e\"], [0.4444444444444444, \"#bd3786\"], [0.5555555555555556, \"#d8576b\"], [0.6666666666666666, \"#ed7953\"], [0.7777777777777778, \"#fb9f3a\"], [0.8888888888888888, \"#fdca26\"], [1.0, \"#f0f921\"]], \"type\": \"histogram2dcontour\"}], \"mesh3d\": [{\"colorbar\": {\"outlinewidth\": 0, \"ticks\": \"\"}, \"type\": \"mesh3d\"}], \"parcoords\": [{\"line\": {\"colorbar\": {\"outlinewidth\": 0, \"ticks\": \"\"}}, \"type\": \"parcoords\"}], \"pie\": [{\"automargin\": true, \"type\": \"pie\"}], \"scatter\": [{\"marker\": {\"colorbar\": {\"outlinewidth\": 0, \"ticks\": \"\"}}, \"type\": \"scatter\"}], \"scatter3d\": [{\"line\": {\"colorbar\": {\"outlinewidth\": 0, \"ticks\": \"\"}}, \"marker\": {\"colorbar\": {\"outlinewidth\": 0, \"ticks\": \"\"}}, \"type\": \"scatter3d\"}], \"scattercarpet\": [{\"marker\": {\"colorbar\": {\"outlinewidth\": 0, \"ticks\": \"\"}}, \"type\": \"scattercarpet\"}], \"scattergeo\": [{\"marker\": {\"colorbar\": {\"outlinewidth\": 0, \"ticks\": \"\"}}, \"type\": \"scattergeo\"}], \"scattergl\": [{\"marker\": {\"colorbar\": {\"outlinewidth\": 0, \"ticks\": \"\"}}, \"type\": \"scattergl\"}], \"scattermapbox\": [{\"marker\": {\"colorbar\": {\"outlinewidth\": 0, \"ticks\": \"\"}}, \"type\": \"scattermapbox\"}], \"scatterpolar\": [{\"marker\": {\"colorbar\": {\"outlinewidth\": 0, \"ticks\": \"\"}}, \"type\": \"scatterpolar\"}], \"scatterpolargl\": [{\"marker\": {\"colorbar\": {\"outlinewidth\": 0, \"ticks\": \"\"}}, \"type\": \"scatterpolargl\"}], \"scatterternary\": [{\"marker\": {\"colorbar\": {\"outlinewidth\": 0, \"ticks\": \"\"}}, \"type\": \"scatterternary\"}], \"surface\": [{\"colorbar\": {\"outlinewidth\": 0, \"ticks\": \"\"}, \"colorscale\": [[0.0, \"#0d0887\"], [0.1111111111111111, \"#46039f\"], [0.2222222222222222, \"#7201a8\"], [0.3333333333333333, \"#9c179e\"], [0.4444444444444444, \"#bd3786\"], [0.5555555555555556, \"#d8576b\"], [0.6666666666666666, \"#ed7953\"], [0.7777777777777778, \"#fb9f3a\"], [0.8888888888888888, \"#fdca26\"], [1.0, \"#f0f921\"]], \"type\": \"surface\"}], \"table\": [{\"cells\": {\"fill\": {\"color\": \"#EBF0F8\"}, \"line\": {\"color\": \"white\"}}, \"header\": {\"fill\": {\"color\": \"#C8D4E3\"}, \"line\": {\"color\": \"white\"}}, \"type\": \"table\"}]}, \"layout\": {\"annotationdefaults\": {\"arrowcolor\": \"#2a3f5f\", \"arrowhead\": 0, \"arrowwidth\": 1}, \"coloraxis\": {\"colorbar\": {\"outlinewidth\": 0, \"ticks\": \"\"}}, \"colorscale\": {\"diverging\": [[0, \"#8e0152\"], [0.1, \"#c51b7d\"], [0.2, \"#de77ae\"], [0.3, \"#f1b6da\"], [0.4, \"#fde0ef\"], [0.5, \"#f7f7f7\"], [0.6, \"#e6f5d0\"], [0.7, \"#b8e186\"], [0.8, \"#7fbc41\"], [0.9, \"#4d9221\"], [1, \"#276419\"]], \"sequential\": [[0.0, \"#0d0887\"], [0.1111111111111111, \"#46039f\"], [0.2222222222222222, \"#7201a8\"], [0.3333333333333333, \"#9c179e\"], [0.4444444444444444, \"#bd3786\"], [0.5555555555555556, \"#d8576b\"], [0.6666666666666666, \"#ed7953\"], [0.7777777777777778, \"#fb9f3a\"], [0.8888888888888888, \"#fdca26\"], [1.0, \"#f0f921\"]], \"sequentialminus\": [[0.0, \"#0d0887\"], [0.1111111111111111, \"#46039f\"], [0.2222222222222222, \"#7201a8\"], [0.3333333333333333, \"#9c179e\"], [0.4444444444444444, \"#bd3786\"], [0.5555555555555556, \"#d8576b\"], [0.6666666666666666, \"#ed7953\"], [0.7777777777777778, \"#fb9f3a\"], [0.8888888888888888, \"#fdca26\"], [1.0, \"#f0f921\"]]}, \"colorway\": [\"#636efa\", \"#EF553B\", \"#00cc96\", \"#ab63fa\", \"#FFA15A\", \"#19d3f3\", \"#FF6692\", \"#B6E880\", \"#FF97FF\", \"#FECB52\"], \"font\": {\"color\": \"#2a3f5f\"}, \"geo\": {\"bgcolor\": \"white\", \"lakecolor\": \"white\", \"landcolor\": \"#E5ECF6\", \"showlakes\": true, \"showland\": true, \"subunitcolor\": \"white\"}, \"hoverlabel\": {\"align\": \"left\"}, \"hovermode\": \"closest\", \"mapbox\": {\"style\": \"light\"}, \"paper_bgcolor\": \"white\", \"plot_bgcolor\": \"#E5ECF6\", \"polar\": {\"angularaxis\": {\"gridcolor\": \"white\", \"linecolor\": \"white\", \"ticks\": \"\"}, \"bgcolor\": \"#E5ECF6\", \"radialaxis\": {\"gridcolor\": \"white\", \"linecolor\": \"white\", \"ticks\": \"\"}}, \"scene\": {\"xaxis\": {\"backgroundcolor\": \"#E5ECF6\", \"gridcolor\": \"white\", \"gridwidth\": 2, \"linecolor\": \"white\", \"showbackground\": true, \"ticks\": \"\", \"zerolinecolor\": \"white\"}, \"yaxis\": {\"backgroundcolor\": \"#E5ECF6\", \"gridcolor\": \"white\", \"gridwidth\": 2, \"linecolor\": \"white\", \"showbackground\": true, \"ticks\": \"\", \"zerolinecolor\": \"white\"}, \"zaxis\": {\"backgroundcolor\": \"#E5ECF6\", \"gridcolor\": \"white\", \"gridwidth\": 2, \"linecolor\": \"white\", \"showbackground\": true, \"ticks\": \"\", \"zerolinecolor\": \"white\"}}, \"shapedefaults\": {\"line\": {\"color\": \"#2a3f5f\"}}, \"ternary\": {\"aaxis\": {\"gridcolor\": \"white\", \"linecolor\": \"white\", \"ticks\": \"\"}, \"baxis\": {\"gridcolor\": \"white\", \"linecolor\": \"white\", \"ticks\": \"\"}, \"bgcolor\": \"#E5ECF6\", \"caxis\": {\"gridcolor\": \"white\", \"linecolor\": \"white\", \"ticks\": \"\"}}, \"title\": {\"x\": 0.05}, \"xaxis\": {\"automargin\": true, \"gridcolor\": \"white\", \"linecolor\": \"white\", \"ticks\": \"\", \"title\": {\"standoff\": 15}, \"zerolinecolor\": \"white\", \"zerolinewidth\": 2}, \"yaxis\": {\"automargin\": true, \"gridcolor\": \"white\", \"linecolor\": \"white\", \"ticks\": \"\", \"title\": {\"standoff\": 15}, \"zerolinecolor\": \"white\", \"zerolinewidth\": 2}}}},\n",
       "                        {\"responsive\": true}\n",
       "                    ).then(function(){\n",
       "                            \n",
       "var gd = document.getElementById('914b9f53-4d36-4485-8ca8-ed9bca5df6fc');\n",
       "var x = new MutationObserver(function (mutations, observer) {{\n",
       "        var display = window.getComputedStyle(gd).display;\n",
       "        if (!display || display === 'none') {{\n",
       "            console.log([gd, 'removed!']);\n",
       "            Plotly.purge(gd);\n",
       "            observer.disconnect();\n",
       "        }}\n",
       "}});\n",
       "\n",
       "// Listen for the removal of the full notebook cells\n",
       "var notebookContainer = gd.closest('#notebook-container');\n",
       "if (notebookContainer) {{\n",
       "    x.observe(notebookContainer, {childList: true});\n",
       "}}\n",
       "\n",
       "// Listen for the clearing of the current output cell\n",
       "var outputEl = gd.closest('.output');\n",
       "if (outputEl) {{\n",
       "    x.observe(outputEl, {childList: true});\n",
       "}}\n",
       "\n",
       "                        })\n",
       "                };\n",
       "                });\n",
       "            </script>\n",
       "        </div>"
      ]
     },
     "metadata": {},
     "output_type": "display_data"
    }
   ],
   "source": [
    "import plotly.graph_objects as go\n",
    "import numpy as np\n",
    "\n",
    "# Download data set from plotly repo\n",
    "pts = np.loadtxt(np.DataSource().open('https://raw.githubusercontent.com/plotly/datasets/master/mesh_dataset.txt'))\n",
    "x, y, z = pts.T\n",
    "\n",
    "fig = go.Figure(data=[go.Mesh3d(x=x, y=y, z=z, color='lightpink', opacity=0.50)])\n",
    "fig.show()\n"
   ]
  },
  {
   "cell_type": "code",
   "execution_count": 9,
   "metadata": {},
   "outputs": [
    {
     "data": {
      "text/plain": [
       "array([-0.014459,  0.162624,  0.102149,  0.678668,  0.683633,  0.140479,\n",
       "        0.125522,  0.31764 ,  0.389628,  0.144644,  0.309693,  0.171245,\n",
       "        0.781093,  0.429151,  0.233132, -0.080785, -0.179939,  0.025858,\n",
       "        0.309369,  0.65834 ,  0.443953,  1.295734,  1.032481,  0.66557 ,\n",
       "        0.22719 ,  0.817791,  1.189158,  1.167509,  0.499964,  0.683057,\n",
       "        0.672141,  0.183479,  0.06947 ,  0.587134,  0.606762,  0.804046,\n",
       "        0.67245 ,  0.506276,  0.556901,  0.445584,  0.160679, -0.003327,\n",
       "        0.031129, -0.412504, -0.344678, -0.246417, -0.725501, -1.214003,\n",
       "       -1.524586, -1.845657, -1.268736, -1.171255, -1.233225, -1.374688,\n",
       "       -1.35563 , -1.146433, -1.167195, -0.864813, -0.488551,  0.153843,\n",
       "        0.302593,  0.568636,  0.182249,  0.56296 ,  0.252966, -0.220912,\n",
       "       -0.328587, -0.193345, -0.238123,  0.261956,  0.081961, -0.49059 ,\n",
       "       -0.259896, -0.187197, -0.032457,  0.049672,  0.12171 , -0.105825,\n",
       "       -0.745416, -0.795117, -0.45044 , -0.514758, -0.639992, -0.329654,\n",
       "       -0.215191, -0.37535 , -1.208597, -1.064432, -1.33837 , -1.405084,\n",
       "       -1.456743, -1.299677, -1.236958, -0.482796, -0.346327, -0.689043,\n",
       "       -0.840409, -1.16441 , -1.242295, -1.794645])"
      ]
     },
     "execution_count": 9,
     "metadata": {},
     "output_type": "execute_result"
    }
   ],
   "source": [
    "y"
   ]
  },
  {
   "cell_type": "code",
   "execution_count": 3,
   "metadata": {},
   "outputs": [
    {
     "data": {
      "application/vnd.plotly.v1+json": {
       "config": {
        "plotlyServerURL": "https://plot.ly"
       },
       "data": [
        {
         "type": "surface",
         "z": [
          [
           0,
           27.80985,
           49.61936,
           83.08067,
           116.6632,
           130.414,
           150.7206,
           220.1871,
           156.1536,
           148.6416,
           203.7845,
           206.0386,
           107.1618,
           68.36975,
           45.3359,
           49.961420000000004,
           21.892789999999998,
           17.02552,
           11.74317,
           14.75226,
           13.6671,
           5.677561,
           3.3123400000000003,
           1.156517,
           -0.147662
          ],
          [
           1,
           27.719659999999998,
           48.55022,
           65.21374,
           95.27665999999999,
           116.9964,
           133.9056,
           152.3412,
           151.934,
           160.1139,
           179.5327,
           147.6184,
           170.3943,
           121.8194,
           52.58537,
           33.08871,
           38.40972,
           44.24843,
           69.5786,
           4.019351,
           3.050024,
           3.039719,
           2.996142,
           2.967954,
           1.9995939999999999
          ],
          [
           2,
           30.4267,
           33.47752,
           44.80953,
           62.47495,
           77.43523,
           104.2153,
           102.7393,
           137.0004,
           186.0706,
           219.3173,
           181.7615,
           120.9154,
           143.1835,
           82.40501,
           48.47132,
           74.71461,
           60.0909,
           7.073525,
           6.089851,
           6.53745,
           6.6660960000000005,
           7.306964999999999,
           5.73684,
           3.625628
          ],
          [
           3,
           16.66549,
           30.1086,
           39.96952,
           44.12225,
           59.57512,
           77.56929000000001,
           106.8925,
           166.5539,
           175.2381,
           185.2815,
           154.5056,
           83.0433,
           62.61731999999999,
           62.331669999999995,
           60.55916,
           55.921240000000004,
           15.172839999999999,
           8.248324,
           36.68087,
           61.93413,
           20.26867,
           68.58819,
           46.49812,
           0.23600949999999998
          ],
          [
           4,
           8.815617,
           18.3516,
           8.658275,
           27.5859,
           48.626909999999995,
           60.180130000000005,
           91.3286,
           145.7109,
           116.0653,
           106.2662,
           68.69447,
           53.105959999999996,
           37.92797,
           47.95942,
           47.42691,
           69.20730999999999,
           44.954679999999996,
           29.17197,
           17.91674,
           16.25515,
           14.65559,
           17.260479999999998,
           31.22245,
           46.717040000000004
          ],
          [
           5,
           6.628881,
           10.41339,
           24.81939,
           26.08952,
           30.1605,
           52.30802,
           64.71007,
           76.30823000000001,
           84.63686,
           99.4324,
           62.521319999999996,
           46.81647,
           55.766059999999996,
           82.4099,
           140.2647,
           81.26501,
           56.45756,
           30.421640000000004,
           17.28782,
           8.302431,
           2.981626,
           2.6985360000000003,
           5.886086,
           5.268358
          ],
          [
           6,
           21.83975,
           6.63927,
           18.97085,
           32.89204,
           43.15014,
           62.86014,
           104.6657,
           130.2294,
           114.8494,
           106.9873,
           61.896469999999994,
           55.556819999999995,
           86.80986,
           89.27802,
           122.4221,
           123.9698,
           109.0952,
           98.41956,
           77.61374,
           32.49031,
           14.67344,
           7.370775,
           0.03711011,
           0.6423392
          ],
          [
           7,
           53.343030000000006,
           26.79797,
           6.63927,
           10.88787,
           17.2044,
           56.18116,
           79.70141,
           90.8453,
           98.27675,
           80.87243000000001,
           74.7931,
           75.54661,
           73.4373,
           74.11694,
           68.1749,
           46.240759999999995,
           39.93857,
           31.21653,
           36.88335,
           40.02525,
           117.4297,
           12.70328,
           1.729771,
           0
          ],
          [
           8,
           25.66785,
           63.05716999999999,
           22.1414,
           17.074,
           41.74483,
           60.27226999999999,
           81.42432,
           114.444,
           102.3234,
           101.7878,
           111.031,
           119.2309,
           114.0777,
           110.5296,
           59.19355,
           42.47175,
           14.635979999999998,
           6.9440740000000005,
           6.944075,
           27.74936,
           0,
           0,
           0.09449376,
           0.07732264
          ],
          [
           9,
           12.827,
           69.20554,
           46.76293,
           13.96517,
           33.887440000000005,
           61.826130000000006,
           84.74799,
           121.12200000000001,
           145.2741,
           153.1797,
           204.78599999999997,
           227.9242,
           236.3038,
           228.3655,
           79.34425,
           25.934829999999998,
           6.9440740000000005,
           6.9440740000000005,
           6.944075,
           7.553681,
           0,
           0,
           0,
           0
          ],
          [
           10,
           0,
           68.66396,
           59.0435,
           33.357620000000004,
           47.45282,
           57.8355,
           78.91689000000001,
           107.8275,
           168.0053,
           130.9597,
           212.5541,
           165.8122,
           210.2429,
           181.1713,
           189.7617,
           137.3378,
           84.65395,
           8.677168,
           6.956575999999999,
           8.468093,
           0,
           0,
           0,
           0
          ],
          [
           11,
           0,
           95.17499000000001,
           80.03818000000001,
           59.898619999999994,
           39.584759999999996,
           50.28058,
           63.81641,
           80.61301999999999,
           66.37824,
           198.7651,
           244.3467,
           294.2474,
           264.3517,
           176.4082,
           60.21856999999999,
           77.41475,
           53.16981,
           56.16393000000001,
           6.949235000000001,
           7.531059,
           3.7801769999999997,
           0,
           0,
           0
          ],
          [
           12,
           0,
           134.9879,
           130.3696,
           96.86325,
           75.70494000000001,
           58.86466,
           57.20374,
           55.18836999999999,
           78.128,
           108.5582,
           154.3774,
           319.1686,
           372.8826,
           275.4655,
           130.2632,
           54.938219999999994,
           25.49719,
           8.047439,
           8.084392999999999,
           5.115252,
           5.678269,
           0,
           0,
           0
          ],
          [
           13,
           0,
           48.08919,
           142.5558,
           140.3777,
           154.7261,
           87.9361,
           58.11091999999999,
           52.83869,
           67.14822,
           83.66798,
           118.9242,
           150.0681,
           272.9709,
           341.1366,
           238.66400000000002,
           190.2,
           116.8943,
           91.48671999999999,
           14.0157,
           42.292770000000004,
           5.115252,
           0,
           0,
           0
          ],
          [
           14,
           0,
           54.1941,
           146.3839,
           99.48143,
           96.19411,
           102.9473,
           76.14089,
           57.7844,
           47.0402,
           64.36799,
           84.23767,
           162.7181,
           121.3275,
           213.1646,
           328.48199999999997,
           285.4489,
           283.8319,
           212.815,
           164.549,
           92.29630999999999,
           7.244014999999999,
           1.167,
           0,
           0
          ],
          [
           15,
           0,
           6.919658999999999,
           195.1709,
           132.5253,
           135.2341,
           89.85069,
           89.45549,
           60.29966999999999,
           50.33806,
           39.17583,
           59.068540000000006,
           74.52159,
           84.93401999999999,
           187.1219,
           123.9673,
           103.7027,
           128.986,
           165.1283,
           249.7054,
           95.39966,
           10.002839999999999,
           2.39255,
           0,
           0
          ],
          [
           16,
           0,
           21.73871,
           123.1339,
           176.7414,
           158.2698,
           137.235,
           105.3089,
           86.63255,
           53.11591,
           29.03865,
           30.40539,
           39.04902,
           49.23405,
           63.27853,
           111.4215,
           101.1956,
           40.00962,
           59.84565,
           74.51253,
           17.06316,
           2.435141,
           2.287471,
           -0.0003636982,
           0
          ],
          [
           17,
           0,
           0,
           62.04671999999999,
           136.3122,
           201.7952,
           168.1343,
           95.2046,
           58.906240000000004,
           46.940909999999995,
           49.27053,
           37.10416,
           17.970110000000002,
           30.936970000000002,
           33.39257,
           44.030770000000004,
           55.645419999999994,
           78.22423,
           14.42782,
           9.954997,
           7.768213,
           13.0254,
           21.73166,
           2.156372,
           0.5317867
          ],
          [
           18,
           0,
           0,
           79.62993,
           139.6978,
           173.167,
           192.8718,
           196.3499,
           144.6611,
           106.5424,
           57.16653,
           41.16107,
           32.12764,
           13.8566,
           10.91772,
           12.071769999999999,
           22.38254,
           24.72105,
           6.803666000000001,
           4.2008410000000005,
           16.46857,
           15.70744,
           33.96221,
           7.575688,
           -0.04880907
          ],
          [
           19,
           0,
           0,
           33.2664,
           57.53643,
           167.2241,
           196.4833,
           194.7966,
           182.1884,
           119.6961,
           73.02113,
           48.36549,
           33.746520000000004,
           26.2379,
           16.3578,
           6.811292999999999,
           6.63927,
           6.639271000000001,
           8.468093,
           6.194273,
           3.5912330000000003,
           3.81486,
           8.600739,
           5.21889,
           0
          ],
          [
           20,
           0,
           0,
           29.77937,
           54.97282,
           144.7995,
           207.4904,
           165.3432,
           171.4047,
           174.9216,
           100.2733,
           61.46441,
           50.19171,
           26.08209,
           17.18218,
           8.468093,
           6.63927,
           6.334467,
           6.334467,
           5.6666870000000005,
           4.272203,
           0,
           0,
           0,
           0
          ],
          [
           21,
           0,
           0,
           31.409000000000002,
           132.7418,
           185.5796,
           121.8299,
           185.3841,
           160.6566,
           116.1478,
           118.1078,
           141.7946,
           65.56351,
           48.84066,
           23.13864,
           18.12932,
           10.28531,
           6.029662999999999,
           6.044626999999999,
           5.694764,
           3.7390849999999998,
           3.896037,
           0,
           0,
           0
          ],
          [
           22,
           0,
           0,
           19.58994,
           42.30355,
           96.26777,
           187.1207,
           179.6626,
           221.3898,
           154.2617,
           142.1604,
           148.5737,
           67.17936999999999,
           40.69044,
           39.74512,
           26.10166,
           14.484689999999999,
           8.65873,
           3.896037,
           3.571392,
           3.896037,
           3.896037,
           3.896037,
           1.077756,
           0
          ],
          [
           23,
           0.001229679,
           3.008948,
           5.909858,
           33.50574,
           104.3341,
           152.2165,
           198.1988,
           191.84099999999998,
           228.7349,
           168.1041,
           144.2759,
           110.7436,
           57.65214,
           42.635040000000004,
           27.918909999999997,
           15.410520000000002,
           8.056102000000001,
           3.9028300000000002,
           3.879774,
           3.936718,
           3.9686339999999998,
           0.1236256,
           3.985531,
           -0.1835741
          ],
          [
           24,
           0,
           5.6261410000000005,
           7.6762559999999995,
           63.162259999999996,
           45.99762,
           79.56688,
           227.31099999999998,
           203.9287,
           172.5618,
           177.1462,
           140.4554,
           123.9905,
           110.346,
           65.12319000000001,
           34.318870000000004,
           24.5278,
           9.561069,
           3.3349910000000005,
           5.590495,
           5.487353,
           5.909498999999999,
           5.868994,
           5.833817,
           3.5681769999999995
          ]
         ]
        }
       ],
       "layout": {
        "autosize": false,
        "height": 500,
        "margin": {
         "b": 65,
         "l": 65,
         "r": 50,
         "t": 90
        },
        "scene": {
         "aspectmode": "auto",
         "aspectratio": {
          "x": 1,
          "y": 1,
          "z": 1
         },
         "camera": {
          "center": {
           "x": 0,
           "y": 0,
           "z": 0
          },
          "eye": {
           "x": 1.2500000000000002,
           "y": 1.25,
           "z": 1.2500000000000002
          },
          "projection": {
           "type": "perspective"
          },
          "up": {
           "x": 0,
           "y": 0,
           "z": 1
          }
         }
        },
        "template": {
         "data": {
          "bar": [
           {
            "error_x": {
             "color": "#2a3f5f"
            },
            "error_y": {
             "color": "#2a3f5f"
            },
            "marker": {
             "line": {
              "color": "#E5ECF6",
              "width": 0.5
             }
            },
            "type": "bar"
           }
          ],
          "barpolar": [
           {
            "marker": {
             "line": {
              "color": "#E5ECF6",
              "width": 0.5
             }
            },
            "type": "barpolar"
           }
          ],
          "carpet": [
           {
            "aaxis": {
             "endlinecolor": "#2a3f5f",
             "gridcolor": "white",
             "linecolor": "white",
             "minorgridcolor": "white",
             "startlinecolor": "#2a3f5f"
            },
            "baxis": {
             "endlinecolor": "#2a3f5f",
             "gridcolor": "white",
             "linecolor": "white",
             "minorgridcolor": "white",
             "startlinecolor": "#2a3f5f"
            },
            "type": "carpet"
           }
          ],
          "choropleth": [
           {
            "colorbar": {
             "outlinewidth": 0,
             "ticks": ""
            },
            "type": "choropleth"
           }
          ],
          "contour": [
           {
            "colorbar": {
             "outlinewidth": 0,
             "ticks": ""
            },
            "colorscale": [
             [
              0,
              "#0d0887"
             ],
             [
              0.1111111111111111,
              "#46039f"
             ],
             [
              0.2222222222222222,
              "#7201a8"
             ],
             [
              0.3333333333333333,
              "#9c179e"
             ],
             [
              0.4444444444444444,
              "#bd3786"
             ],
             [
              0.5555555555555556,
              "#d8576b"
             ],
             [
              0.6666666666666666,
              "#ed7953"
             ],
             [
              0.7777777777777778,
              "#fb9f3a"
             ],
             [
              0.8888888888888888,
              "#fdca26"
             ],
             [
              1,
              "#f0f921"
             ]
            ],
            "type": "contour"
           }
          ],
          "contourcarpet": [
           {
            "colorbar": {
             "outlinewidth": 0,
             "ticks": ""
            },
            "type": "contourcarpet"
           }
          ],
          "heatmap": [
           {
            "colorbar": {
             "outlinewidth": 0,
             "ticks": ""
            },
            "colorscale": [
             [
              0,
              "#0d0887"
             ],
             [
              0.1111111111111111,
              "#46039f"
             ],
             [
              0.2222222222222222,
              "#7201a8"
             ],
             [
              0.3333333333333333,
              "#9c179e"
             ],
             [
              0.4444444444444444,
              "#bd3786"
             ],
             [
              0.5555555555555556,
              "#d8576b"
             ],
             [
              0.6666666666666666,
              "#ed7953"
             ],
             [
              0.7777777777777778,
              "#fb9f3a"
             ],
             [
              0.8888888888888888,
              "#fdca26"
             ],
             [
              1,
              "#f0f921"
             ]
            ],
            "type": "heatmap"
           }
          ],
          "heatmapgl": [
           {
            "colorbar": {
             "outlinewidth": 0,
             "ticks": ""
            },
            "colorscale": [
             [
              0,
              "#0d0887"
             ],
             [
              0.1111111111111111,
              "#46039f"
             ],
             [
              0.2222222222222222,
              "#7201a8"
             ],
             [
              0.3333333333333333,
              "#9c179e"
             ],
             [
              0.4444444444444444,
              "#bd3786"
             ],
             [
              0.5555555555555556,
              "#d8576b"
             ],
             [
              0.6666666666666666,
              "#ed7953"
             ],
             [
              0.7777777777777778,
              "#fb9f3a"
             ],
             [
              0.8888888888888888,
              "#fdca26"
             ],
             [
              1,
              "#f0f921"
             ]
            ],
            "type": "heatmapgl"
           }
          ],
          "histogram": [
           {
            "marker": {
             "colorbar": {
              "outlinewidth": 0,
              "ticks": ""
             }
            },
            "type": "histogram"
           }
          ],
          "histogram2d": [
           {
            "colorbar": {
             "outlinewidth": 0,
             "ticks": ""
            },
            "colorscale": [
             [
              0,
              "#0d0887"
             ],
             [
              0.1111111111111111,
              "#46039f"
             ],
             [
              0.2222222222222222,
              "#7201a8"
             ],
             [
              0.3333333333333333,
              "#9c179e"
             ],
             [
              0.4444444444444444,
              "#bd3786"
             ],
             [
              0.5555555555555556,
              "#d8576b"
             ],
             [
              0.6666666666666666,
              "#ed7953"
             ],
             [
              0.7777777777777778,
              "#fb9f3a"
             ],
             [
              0.8888888888888888,
              "#fdca26"
             ],
             [
              1,
              "#f0f921"
             ]
            ],
            "type": "histogram2d"
           }
          ],
          "histogram2dcontour": [
           {
            "colorbar": {
             "outlinewidth": 0,
             "ticks": ""
            },
            "colorscale": [
             [
              0,
              "#0d0887"
             ],
             [
              0.1111111111111111,
              "#46039f"
             ],
             [
              0.2222222222222222,
              "#7201a8"
             ],
             [
              0.3333333333333333,
              "#9c179e"
             ],
             [
              0.4444444444444444,
              "#bd3786"
             ],
             [
              0.5555555555555556,
              "#d8576b"
             ],
             [
              0.6666666666666666,
              "#ed7953"
             ],
             [
              0.7777777777777778,
              "#fb9f3a"
             ],
             [
              0.8888888888888888,
              "#fdca26"
             ],
             [
              1,
              "#f0f921"
             ]
            ],
            "type": "histogram2dcontour"
           }
          ],
          "mesh3d": [
           {
            "colorbar": {
             "outlinewidth": 0,
             "ticks": ""
            },
            "type": "mesh3d"
           }
          ],
          "parcoords": [
           {
            "line": {
             "colorbar": {
              "outlinewidth": 0,
              "ticks": ""
             }
            },
            "type": "parcoords"
           }
          ],
          "pie": [
           {
            "automargin": true,
            "type": "pie"
           }
          ],
          "scatter": [
           {
            "marker": {
             "colorbar": {
              "outlinewidth": 0,
              "ticks": ""
             }
            },
            "type": "scatter"
           }
          ],
          "scatter3d": [
           {
            "line": {
             "colorbar": {
              "outlinewidth": 0,
              "ticks": ""
             }
            },
            "marker": {
             "colorbar": {
              "outlinewidth": 0,
              "ticks": ""
             }
            },
            "type": "scatter3d"
           }
          ],
          "scattercarpet": [
           {
            "marker": {
             "colorbar": {
              "outlinewidth": 0,
              "ticks": ""
             }
            },
            "type": "scattercarpet"
           }
          ],
          "scattergeo": [
           {
            "marker": {
             "colorbar": {
              "outlinewidth": 0,
              "ticks": ""
             }
            },
            "type": "scattergeo"
           }
          ],
          "scattergl": [
           {
            "marker": {
             "colorbar": {
              "outlinewidth": 0,
              "ticks": ""
             }
            },
            "type": "scattergl"
           }
          ],
          "scattermapbox": [
           {
            "marker": {
             "colorbar": {
              "outlinewidth": 0,
              "ticks": ""
             }
            },
            "type": "scattermapbox"
           }
          ],
          "scatterpolar": [
           {
            "marker": {
             "colorbar": {
              "outlinewidth": 0,
              "ticks": ""
             }
            },
            "type": "scatterpolar"
           }
          ],
          "scatterpolargl": [
           {
            "marker": {
             "colorbar": {
              "outlinewidth": 0,
              "ticks": ""
             }
            },
            "type": "scatterpolargl"
           }
          ],
          "scatterternary": [
           {
            "marker": {
             "colorbar": {
              "outlinewidth": 0,
              "ticks": ""
             }
            },
            "type": "scatterternary"
           }
          ],
          "surface": [
           {
            "colorbar": {
             "outlinewidth": 0,
             "ticks": ""
            },
            "colorscale": [
             [
              0,
              "#0d0887"
             ],
             [
              0.1111111111111111,
              "#46039f"
             ],
             [
              0.2222222222222222,
              "#7201a8"
             ],
             [
              0.3333333333333333,
              "#9c179e"
             ],
             [
              0.4444444444444444,
              "#bd3786"
             ],
             [
              0.5555555555555556,
              "#d8576b"
             ],
             [
              0.6666666666666666,
              "#ed7953"
             ],
             [
              0.7777777777777778,
              "#fb9f3a"
             ],
             [
              0.8888888888888888,
              "#fdca26"
             ],
             [
              1,
              "#f0f921"
             ]
            ],
            "type": "surface"
           }
          ],
          "table": [
           {
            "cells": {
             "fill": {
              "color": "#EBF0F8"
             },
             "line": {
              "color": "white"
             }
            },
            "header": {
             "fill": {
              "color": "#C8D4E3"
             },
             "line": {
              "color": "white"
             }
            },
            "type": "table"
           }
          ]
         },
         "layout": {
          "annotationdefaults": {
           "arrowcolor": "#2a3f5f",
           "arrowhead": 0,
           "arrowwidth": 1
          },
          "coloraxis": {
           "colorbar": {
            "outlinewidth": 0,
            "ticks": ""
           }
          },
          "colorscale": {
           "diverging": [
            [
             0,
             "#8e0152"
            ],
            [
             0.1,
             "#c51b7d"
            ],
            [
             0.2,
             "#de77ae"
            ],
            [
             0.3,
             "#f1b6da"
            ],
            [
             0.4,
             "#fde0ef"
            ],
            [
             0.5,
             "#f7f7f7"
            ],
            [
             0.6,
             "#e6f5d0"
            ],
            [
             0.7,
             "#b8e186"
            ],
            [
             0.8,
             "#7fbc41"
            ],
            [
             0.9,
             "#4d9221"
            ],
            [
             1,
             "#276419"
            ]
           ],
           "sequential": [
            [
             0,
             "#0d0887"
            ],
            [
             0.1111111111111111,
             "#46039f"
            ],
            [
             0.2222222222222222,
             "#7201a8"
            ],
            [
             0.3333333333333333,
             "#9c179e"
            ],
            [
             0.4444444444444444,
             "#bd3786"
            ],
            [
             0.5555555555555556,
             "#d8576b"
            ],
            [
             0.6666666666666666,
             "#ed7953"
            ],
            [
             0.7777777777777778,
             "#fb9f3a"
            ],
            [
             0.8888888888888888,
             "#fdca26"
            ],
            [
             1,
             "#f0f921"
            ]
           ],
           "sequentialminus": [
            [
             0,
             "#0d0887"
            ],
            [
             0.1111111111111111,
             "#46039f"
            ],
            [
             0.2222222222222222,
             "#7201a8"
            ],
            [
             0.3333333333333333,
             "#9c179e"
            ],
            [
             0.4444444444444444,
             "#bd3786"
            ],
            [
             0.5555555555555556,
             "#d8576b"
            ],
            [
             0.6666666666666666,
             "#ed7953"
            ],
            [
             0.7777777777777778,
             "#fb9f3a"
            ],
            [
             0.8888888888888888,
             "#fdca26"
            ],
            [
             1,
             "#f0f921"
            ]
           ]
          },
          "colorway": [
           "#636efa",
           "#EF553B",
           "#00cc96",
           "#ab63fa",
           "#FFA15A",
           "#19d3f3",
           "#FF6692",
           "#B6E880",
           "#FF97FF",
           "#FECB52"
          ],
          "font": {
           "color": "#2a3f5f"
          },
          "geo": {
           "bgcolor": "white",
           "lakecolor": "white",
           "landcolor": "#E5ECF6",
           "showlakes": true,
           "showland": true,
           "subunitcolor": "white"
          },
          "hoverlabel": {
           "align": "left"
          },
          "hovermode": "closest",
          "mapbox": {
           "style": "light"
          },
          "paper_bgcolor": "white",
          "plot_bgcolor": "#E5ECF6",
          "polar": {
           "angularaxis": {
            "gridcolor": "white",
            "linecolor": "white",
            "ticks": ""
           },
           "bgcolor": "#E5ECF6",
           "radialaxis": {
            "gridcolor": "white",
            "linecolor": "white",
            "ticks": ""
           }
          },
          "scene": {
           "xaxis": {
            "backgroundcolor": "#E5ECF6",
            "gridcolor": "white",
            "gridwidth": 2,
            "linecolor": "white",
            "showbackground": true,
            "ticks": "",
            "zerolinecolor": "white"
           },
           "yaxis": {
            "backgroundcolor": "#E5ECF6",
            "gridcolor": "white",
            "gridwidth": 2,
            "linecolor": "white",
            "showbackground": true,
            "ticks": "",
            "zerolinecolor": "white"
           },
           "zaxis": {
            "backgroundcolor": "#E5ECF6",
            "gridcolor": "white",
            "gridwidth": 2,
            "linecolor": "white",
            "showbackground": true,
            "ticks": "",
            "zerolinecolor": "white"
           }
          },
          "shapedefaults": {
           "line": {
            "color": "#2a3f5f"
           }
          },
          "ternary": {
           "aaxis": {
            "gridcolor": "white",
            "linecolor": "white",
            "ticks": ""
           },
           "baxis": {
            "gridcolor": "white",
            "linecolor": "white",
            "ticks": ""
           },
           "bgcolor": "#E5ECF6",
           "caxis": {
            "gridcolor": "white",
            "linecolor": "white",
            "ticks": ""
           }
          },
          "title": {
           "x": 0.05
          },
          "xaxis": {
           "automargin": true,
           "gridcolor": "white",
           "linecolor": "white",
           "ticks": "",
           "title": {
            "standoff": 15
           },
           "zerolinecolor": "white",
           "zerolinewidth": 2
          },
          "yaxis": {
           "automargin": true,
           "gridcolor": "white",
           "linecolor": "white",
           "ticks": "",
           "title": {
            "standoff": 15
           },
           "zerolinecolor": "white",
           "zerolinewidth": 2
          }
         }
        },
        "title": {
         "text": "Mt Bruno Elevation"
        },
        "width": 500
       }
      },
      "image/png": "[encoded data removed]",
      "text/html": [
       "<div>\n",
       "        \n",
       "        \n",
       "            <div id=\"3fc85189-f890-405f-a8fa-844b974f32ed\" class=\"plotly-graph-div\" style=\"height:500px; width:500px;\"></div>\n",
       "            <script type=\"text/javascript\">\n",
       "                require([\"plotly\"], function(Plotly) {\n",
       "                    window.PLOTLYENV=window.PLOTLYENV || {};\n",
       "                    \n",
       "                if (document.getElementById(\"3fc85189-f890-405f-a8fa-844b974f32ed\")) {\n",
       "                    Plotly.newPlot(\n",
       "                        '3fc85189-f890-405f-a8fa-844b974f32ed',\n",
       "                        [{\"type\": \"surface\", \"z\": [[0.0, 27.80985, 49.61936, 83.08067, 116.6632, 130.414, 150.7206, 220.1871, 156.1536, 148.6416, 203.7845, 206.0386, 107.1618, 68.36975, 45.3359, 49.961420000000004, 21.892789999999998, 17.02552, 11.74317, 14.75226, 13.6671, 5.677561, 3.3123400000000003, 1.156517, -0.147662], [1.0, 27.719659999999998, 48.55022, 65.21374, 95.27665999999999, 116.9964, 133.9056, 152.3412, 151.934, 160.1139, 179.5327, 147.6184, 170.3943, 121.8194, 52.58537, 33.08871, 38.40972, 44.24843, 69.5786, 4.019351, 3.050024, 3.039719, 2.996142, 2.967954, 1.9995939999999999], [2.0, 30.4267, 33.47752, 44.80953, 62.47495, 77.43523, 104.2153, 102.7393, 137.0004, 186.0706, 219.3173, 181.7615, 120.9154, 143.1835, 82.40501, 48.47132, 74.71461, 60.0909, 7.073525, 6.089851, 6.53745, 6.6660960000000005, 7.306964999999999, 5.73684, 3.625628], [3.0, 16.66549, 30.1086, 39.96952, 44.12225, 59.57512, 77.56929000000001, 106.8925, 166.5539, 175.2381, 185.2815, 154.5056, 83.0433, 62.61731999999999, 62.331669999999995, 60.55916, 55.921240000000004, 15.172839999999999, 8.248324, 36.68087, 61.93413, 20.26867, 68.58819, 46.49812, 0.23600949999999998], [4.0, 8.815617, 18.3516, 8.658275, 27.5859, 48.626909999999995, 60.180130000000005, 91.3286, 145.7109, 116.0653, 106.2662, 68.69447, 53.105959999999996, 37.92797, 47.95942, 47.42691, 69.20730999999999, 44.954679999999996, 29.17197, 17.91674, 16.25515, 14.65559, 17.260479999999998, 31.22245, 46.717040000000004], [5.0, 6.628881, 10.41339, 24.81939, 26.08952, 30.1605, 52.30802, 64.71007, 76.30823000000001, 84.63686, 99.4324, 62.521319999999996, 46.81647, 55.766059999999996, 82.4099, 140.2647, 81.26501, 56.45756, 30.421640000000004, 17.28782, 8.302431, 2.981626, 2.6985360000000003, 5.886086, 5.268358], [6.0, 21.83975, 6.63927, 18.97085, 32.89204, 43.15014, 62.86014, 104.6657, 130.2294, 114.8494, 106.9873, 61.896469999999994, 55.556819999999995, 86.80986, 89.27802, 122.4221, 123.9698, 109.0952, 98.41956, 77.61374, 32.49031, 14.67344, 7.370775, 0.03711011, 0.6423392], [7.0, 53.343030000000006, 26.79797, 6.63927, 10.88787, 17.2044, 56.18116, 79.70141, 90.8453, 98.27675, 80.87243000000001, 74.7931, 75.54661, 73.4373, 74.11694, 68.1749, 46.240759999999995, 39.93857, 31.21653, 36.88335, 40.02525, 117.4297, 12.70328, 1.729771, 0.0], [8.0, 25.66785, 63.05716999999999, 22.1414, 17.074, 41.74483, 60.27226999999999, 81.42432, 114.444, 102.3234, 101.7878, 111.031, 119.2309, 114.0777, 110.5296, 59.19355, 42.47175, 14.635979999999998, 6.9440740000000005, 6.944075, 27.74936, 0.0, 0.0, 0.09449376, 0.07732264], [9.0, 12.827, 69.20554, 46.76293, 13.96517, 33.887440000000005, 61.826130000000006, 84.74799, 121.12200000000001, 145.2741, 153.1797, 204.78599999999997, 227.9242, 236.3038, 228.3655, 79.34425, 25.934829999999998, 6.9440740000000005, 6.9440740000000005, 6.944075, 7.553681, 0.0, 0.0, 0.0, 0.0], [10.0, 0.0, 68.66396, 59.0435, 33.357620000000004, 47.45282, 57.8355, 78.91689000000001, 107.8275, 168.0053, 130.9597, 212.5541, 165.8122, 210.2429, 181.1713, 189.7617, 137.3378, 84.65395, 8.677168, 6.956575999999999, 8.468093, 0.0, 0.0, 0.0, 0.0], [11.0, 0.0, 95.17499000000001, 80.03818000000001, 59.898619999999994, 39.584759999999996, 50.28058, 63.81641, 80.61301999999999, 66.37824, 198.7651, 244.3467, 294.2474, 264.3517, 176.4082, 60.21856999999999, 77.41475, 53.16981, 56.16393000000001, 6.949235000000001, 7.531059, 3.7801769999999997, 0.0, 0.0, 0.0], [12.0, 0.0, 134.9879, 130.3696, 96.86325, 75.70494000000001, 58.86466, 57.20374, 55.18836999999999, 78.128, 108.5582, 154.3774, 319.1686, 372.8826, 275.4655, 130.2632, 54.938219999999994, 25.49719, 8.047439, 8.084392999999999, 5.115252, 5.678269, 0.0, 0.0, 0.0], [13.0, 0.0, 48.08919, 142.5558, 140.3777, 154.7261, 87.9361, 58.11091999999999, 52.83869, 67.14822, 83.66798, 118.9242, 150.0681, 272.9709, 341.1366, 238.66400000000002, 190.2, 116.8943, 91.48671999999999, 14.0157, 42.292770000000004, 5.115252, 0.0, 0.0, 0.0], [14.0, 0.0, 54.1941, 146.3839, 99.48143, 96.19411, 102.9473, 76.14089, 57.7844, 47.0402, 64.36799, 84.23767, 162.7181, 121.3275, 213.1646, 328.48199999999997, 285.4489, 283.8319, 212.815, 164.549, 92.29630999999999, 7.244014999999999, 1.167, 0.0, 0.0], [15.0, 0.0, 6.919658999999999, 195.1709, 132.5253, 135.2341, 89.85069, 89.45549, 60.29966999999999, 50.33806, 39.17583, 59.068540000000006, 74.52159, 84.93401999999999, 187.1219, 123.9673, 103.7027, 128.986, 165.1283, 249.7054, 95.39966, 10.002839999999999, 2.39255, 0.0, 0.0], [16.0, 0.0, 21.73871, 123.1339, 176.7414, 158.2698, 137.235, 105.3089, 86.63255, 53.11591, 29.03865, 30.40539, 39.04902, 49.23405, 63.27853, 111.4215, 101.1956, 40.00962, 59.84565, 74.51253, 17.06316, 2.435141, 2.287471, -0.0003636982, 0.0], [17.0, 0.0, 0.0, 62.04671999999999, 136.3122, 201.7952, 168.1343, 95.2046, 58.906240000000004, 46.940909999999995, 49.27053, 37.10416, 17.970110000000002, 30.936970000000002, 33.39257, 44.030770000000004, 55.645419999999994, 78.22423, 14.42782, 9.954997, 7.768213, 13.0254, 21.73166, 2.156372, 0.5317867], [18.0, 0.0, 0.0, 79.62993, 139.6978, 173.167, 192.8718, 196.3499, 144.6611, 106.5424, 57.16653, 41.16107, 32.12764, 13.8566, 10.91772, 12.071769999999999, 22.38254, 24.72105, 6.803666000000001, 4.2008410000000005, 16.46857, 15.70744, 33.96221, 7.575688, -0.04880907], [19.0, 0.0, 0.0, 33.2664, 57.53643, 167.2241, 196.4833, 194.7966, 182.1884, 119.6961, 73.02113, 48.36549, 33.746520000000004, 26.2379, 16.3578, 6.811292999999999, 6.63927, 6.639271000000001, 8.468093, 6.194273, 3.5912330000000003, 3.81486, 8.600739, 5.21889, 0.0], [20.0, 0.0, 0.0, 29.77937, 54.97282, 144.7995, 207.4904, 165.3432, 171.4047, 174.9216, 100.2733, 61.46441, 50.19171, 26.08209, 17.18218, 8.468093, 6.63927, 6.334467, 6.334467, 5.6666870000000005, 4.272203, 0.0, 0.0, 0.0, 0.0], [21.0, 0.0, 0.0, 31.409000000000002, 132.7418, 185.5796, 121.8299, 185.3841, 160.6566, 116.1478, 118.1078, 141.7946, 65.56351, 48.84066, 23.13864, 18.12932, 10.28531, 6.029662999999999, 6.044626999999999, 5.694764, 3.7390849999999998, 3.896037, 0.0, 0.0, 0.0], [22.0, 0.0, 0.0, 19.58994, 42.30355, 96.26777, 187.1207, 179.6626, 221.3898, 154.2617, 142.1604, 148.5737, 67.17936999999999, 40.69044, 39.74512, 26.10166, 14.484689999999999, 8.65873, 3.896037, 3.571392, 3.896037, 3.896037, 3.896037, 1.077756, 0.0], [23.0, 0.001229679, 3.008948, 5.909858, 33.50574, 104.3341, 152.2165, 198.1988, 191.84099999999998, 228.7349, 168.1041, 144.2759, 110.7436, 57.65214, 42.635040000000004, 27.918909999999997, 15.410520000000002, 8.056102000000001, 3.9028300000000002, 3.879774, 3.936718, 3.9686339999999998, 0.1236256, 3.985531, -0.1835741], [24.0, 0.0, 5.6261410000000005, 7.6762559999999995, 63.162259999999996, 45.99762, 79.56688, 227.31099999999998, 203.9287, 172.5618, 177.1462, 140.4554, 123.9905, 110.346, 65.12319000000001, 34.318870000000004, 24.5278, 9.561069, 3.3349910000000005, 5.590495, 5.487353, 5.909498999999999, 5.868994, 5.833817, 3.5681769999999995]]}],\n",
       "                        {\"autosize\": false, \"height\": 500, \"margin\": {\"b\": 65, \"l\": 65, \"r\": 50, \"t\": 90}, \"template\": {\"data\": {\"bar\": [{\"error_x\": {\"color\": \"#2a3f5f\"}, \"error_y\": {\"color\": \"#2a3f5f\"}, \"marker\": {\"line\": {\"color\": \"#E5ECF6\", \"width\": 0.5}}, \"type\": \"bar\"}], \"barpolar\": [{\"marker\": {\"line\": {\"color\": \"#E5ECF6\", \"width\": 0.5}}, \"type\": \"barpolar\"}], \"carpet\": [{\"aaxis\": {\"endlinecolor\": \"#2a3f5f\", \"gridcolor\": \"white\", \"linecolor\": \"white\", \"minorgridcolor\": \"white\", \"startlinecolor\": \"#2a3f5f\"}, \"baxis\": {\"endlinecolor\": \"#2a3f5f\", \"gridcolor\": \"white\", \"linecolor\": \"white\", \"minorgridcolor\": \"white\", \"startlinecolor\": \"#2a3f5f\"}, \"type\": \"carpet\"}], \"choropleth\": [{\"colorbar\": {\"outlinewidth\": 0, \"ticks\": \"\"}, \"type\": \"choropleth\"}], \"contour\": [{\"colorbar\": {\"outlinewidth\": 0, \"ticks\": \"\"}, \"colorscale\": [[0.0, \"#0d0887\"], [0.1111111111111111, \"#46039f\"], [0.2222222222222222, \"#7201a8\"], [0.3333333333333333, \"#9c179e\"], [0.4444444444444444, \"#bd3786\"], [0.5555555555555556, \"#d8576b\"], [0.6666666666666666, \"#ed7953\"], [0.7777777777777778, \"#fb9f3a\"], [0.8888888888888888, \"#fdca26\"], [1.0, \"#f0f921\"]], \"type\": \"contour\"}], \"contourcarpet\": [{\"colorbar\": {\"outlinewidth\": 0, \"ticks\": \"\"}, \"type\": \"contourcarpet\"}], \"heatmap\": [{\"colorbar\": {\"outlinewidth\": 0, \"ticks\": \"\"}, \"colorscale\": [[0.0, \"#0d0887\"], [0.1111111111111111, \"#46039f\"], [0.2222222222222222, \"#7201a8\"], [0.3333333333333333, \"#9c179e\"], [0.4444444444444444, \"#bd3786\"], [0.5555555555555556, \"#d8576b\"], [0.6666666666666666, \"#ed7953\"], [0.7777777777777778, \"#fb9f3a\"], [0.8888888888888888, \"#fdca26\"], [1.0, \"#f0f921\"]], \"type\": \"heatmap\"}], \"heatmapgl\": [{\"colorbar\": {\"outlinewidth\": 0, \"ticks\": \"\"}, \"colorscale\": [[0.0, \"#0d0887\"], [0.1111111111111111, \"#46039f\"], [0.2222222222222222, \"#7201a8\"], [0.3333333333333333, \"#9c179e\"], [0.4444444444444444, \"#bd3786\"], [0.5555555555555556, \"#d8576b\"], [0.6666666666666666, \"#ed7953\"], [0.7777777777777778, \"#fb9f3a\"], [0.8888888888888888, \"#fdca26\"], [1.0, \"#f0f921\"]], \"type\": \"heatmapgl\"}], \"histogram\": [{\"marker\": {\"colorbar\": {\"outlinewidth\": 0, \"ticks\": \"\"}}, \"type\": \"histogram\"}], \"histogram2d\": [{\"colorbar\": {\"outlinewidth\": 0, \"ticks\": \"\"}, \"colorscale\": [[0.0, \"#0d0887\"], [0.1111111111111111, \"#46039f\"], [0.2222222222222222, \"#7201a8\"], [0.3333333333333333, \"#9c179e\"], [0.4444444444444444, \"#bd3786\"], [0.5555555555555556, \"#d8576b\"], [0.6666666666666666, \"#ed7953\"], [0.7777777777777778, \"#fb9f3a\"], [0.8888888888888888, \"#fdca26\"], [1.0, \"#f0f921\"]], \"type\": \"histogram2d\"}], \"histogram2dcontour\": [{\"colorbar\": {\"outlinewidth\": 0, \"ticks\": \"\"}, \"colorscale\": [[0.0, \"#0d0887\"], [0.1111111111111111, \"#46039f\"], [0.2222222222222222, \"#7201a8\"], [0.3333333333333333, \"#9c179e\"], [0.4444444444444444, \"#bd3786\"], [0.5555555555555556, \"#d8576b\"], [0.6666666666666666, \"#ed7953\"], [0.7777777777777778, \"#fb9f3a\"], [0.8888888888888888, \"#fdca26\"], [1.0, \"#f0f921\"]], \"type\": \"histogram2dcontour\"}], \"mesh3d\": [{\"colorbar\": {\"outlinewidth\": 0, \"ticks\": \"\"}, \"type\": \"mesh3d\"}], \"parcoords\": [{\"line\": {\"colorbar\": {\"outlinewidth\": 0, \"ticks\": \"\"}}, \"type\": \"parcoords\"}], \"pie\": [{\"automargin\": true, \"type\": \"pie\"}], \"scatter\": [{\"marker\": {\"colorbar\": {\"outlinewidth\": 0, \"ticks\": \"\"}}, \"type\": \"scatter\"}], \"scatter3d\": [{\"line\": {\"colorbar\": {\"outlinewidth\": 0, \"ticks\": \"\"}}, \"marker\": {\"colorbar\": {\"outlinewidth\": 0, \"ticks\": \"\"}}, \"type\": \"scatter3d\"}], \"scattercarpet\": [{\"marker\": {\"colorbar\": {\"outlinewidth\": 0, \"ticks\": \"\"}}, \"type\": \"scattercarpet\"}], \"scattergeo\": [{\"marker\": {\"colorbar\": {\"outlinewidth\": 0, \"ticks\": \"\"}}, \"type\": \"scattergeo\"}], \"scattergl\": [{\"marker\": {\"colorbar\": {\"outlinewidth\": 0, \"ticks\": \"\"}}, \"type\": \"scattergl\"}], \"scattermapbox\": [{\"marker\": {\"colorbar\": {\"outlinewidth\": 0, \"ticks\": \"\"}}, \"type\": \"scattermapbox\"}], \"scatterpolar\": [{\"marker\": {\"colorbar\": {\"outlinewidth\": 0, \"ticks\": \"\"}}, \"type\": \"scatterpolar\"}], \"scatterpolargl\": [{\"marker\": {\"colorbar\": {\"outlinewidth\": 0, \"ticks\": \"\"}}, \"type\": \"scatterpolargl\"}], \"scatterternary\": [{\"marker\": {\"colorbar\": {\"outlinewidth\": 0, \"ticks\": \"\"}}, \"type\": \"scatterternary\"}], \"surface\": [{\"colorbar\": {\"outlinewidth\": 0, \"ticks\": \"\"}, \"colorscale\": [[0.0, \"#0d0887\"], [0.1111111111111111, \"#46039f\"], [0.2222222222222222, \"#7201a8\"], [0.3333333333333333, \"#9c179e\"], [0.4444444444444444, \"#bd3786\"], [0.5555555555555556, \"#d8576b\"], [0.6666666666666666, \"#ed7953\"], [0.7777777777777778, \"#fb9f3a\"], [0.8888888888888888, \"#fdca26\"], [1.0, \"#f0f921\"]], \"type\": \"surface\"}], \"table\": [{\"cells\": {\"fill\": {\"color\": \"#EBF0F8\"}, \"line\": {\"color\": \"white\"}}, \"header\": {\"fill\": {\"color\": \"#C8D4E3\"}, \"line\": {\"color\": \"white\"}}, \"type\": \"table\"}]}, \"layout\": {\"annotationdefaults\": {\"arrowcolor\": \"#2a3f5f\", \"arrowhead\": 0, \"arrowwidth\": 1}, \"coloraxis\": {\"colorbar\": {\"outlinewidth\": 0, \"ticks\": \"\"}}, \"colorscale\": {\"diverging\": [[0, \"#8e0152\"], [0.1, \"#c51b7d\"], [0.2, \"#de77ae\"], [0.3, \"#f1b6da\"], [0.4, \"#fde0ef\"], [0.5, \"#f7f7f7\"], [0.6, \"#e6f5d0\"], [0.7, \"#b8e186\"], [0.8, \"#7fbc41\"], [0.9, \"#4d9221\"], [1, \"#276419\"]], \"sequential\": [[0.0, \"#0d0887\"], [0.1111111111111111, \"#46039f\"], [0.2222222222222222, \"#7201a8\"], [0.3333333333333333, \"#9c179e\"], [0.4444444444444444, \"#bd3786\"], [0.5555555555555556, \"#d8576b\"], [0.6666666666666666, \"#ed7953\"], [0.7777777777777778, \"#fb9f3a\"], [0.8888888888888888, \"#fdca26\"], [1.0, \"#f0f921\"]], \"sequentialminus\": [[0.0, \"#0d0887\"], [0.1111111111111111, \"#46039f\"], [0.2222222222222222, \"#7201a8\"], [0.3333333333333333, \"#9c179e\"], [0.4444444444444444, \"#bd3786\"], [0.5555555555555556, \"#d8576b\"], [0.6666666666666666, \"#ed7953\"], [0.7777777777777778, \"#fb9f3a\"], [0.8888888888888888, \"#fdca26\"], [1.0, \"#f0f921\"]]}, \"colorway\": [\"#636efa\", \"#EF553B\", \"#00cc96\", \"#ab63fa\", \"#FFA15A\", \"#19d3f3\", \"#FF6692\", \"#B6E880\", \"#FF97FF\", \"#FECB52\"], \"font\": {\"color\": \"#2a3f5f\"}, \"geo\": {\"bgcolor\": \"white\", \"lakecolor\": \"white\", \"landcolor\": \"#E5ECF6\", \"showlakes\": true, \"showland\": true, \"subunitcolor\": \"white\"}, \"hoverlabel\": {\"align\": \"left\"}, \"hovermode\": \"closest\", \"mapbox\": {\"style\": \"light\"}, \"paper_bgcolor\": \"white\", \"plot_bgcolor\": \"#E5ECF6\", \"polar\": {\"angularaxis\": {\"gridcolor\": \"white\", \"linecolor\": \"white\", \"ticks\": \"\"}, \"bgcolor\": \"#E5ECF6\", \"radialaxis\": {\"gridcolor\": \"white\", \"linecolor\": \"white\", \"ticks\": \"\"}}, \"scene\": {\"xaxis\": {\"backgroundcolor\": \"#E5ECF6\", \"gridcolor\": \"white\", \"gridwidth\": 2, \"linecolor\": \"white\", \"showbackground\": true, \"ticks\": \"\", \"zerolinecolor\": \"white\"}, \"yaxis\": {\"backgroundcolor\": \"#E5ECF6\", \"gridcolor\": \"white\", \"gridwidth\": 2, \"linecolor\": \"white\", \"showbackground\": true, \"ticks\": \"\", \"zerolinecolor\": \"white\"}, \"zaxis\": {\"backgroundcolor\": \"#E5ECF6\", \"gridcolor\": \"white\", \"gridwidth\": 2, \"linecolor\": \"white\", \"showbackground\": true, \"ticks\": \"\", \"zerolinecolor\": \"white\"}}, \"shapedefaults\": {\"line\": {\"color\": \"#2a3f5f\"}}, \"ternary\": {\"aaxis\": {\"gridcolor\": \"white\", \"linecolor\": \"white\", \"ticks\": \"\"}, \"baxis\": {\"gridcolor\": \"white\", \"linecolor\": \"white\", \"ticks\": \"\"}, \"bgcolor\": \"#E5ECF6\", \"caxis\": {\"gridcolor\": \"white\", \"linecolor\": \"white\", \"ticks\": \"\"}}, \"title\": {\"x\": 0.05}, \"xaxis\": {\"automargin\": true, \"gridcolor\": \"white\", \"linecolor\": \"white\", \"ticks\": \"\", \"title\": {\"standoff\": 15}, \"zerolinecolor\": \"white\", \"zerolinewidth\": 2}, \"yaxis\": {\"automargin\": true, \"gridcolor\": \"white\", \"linecolor\": \"white\", \"ticks\": \"\", \"title\": {\"standoff\": 15}, \"zerolinecolor\": \"white\", \"zerolinewidth\": 2}}}, \"title\": {\"text\": \"Mt Bruno Elevation\"}, \"width\": 500},\n",
       "                        {\"responsive\": true}\n",
       "                    ).then(function(){\n",
       "                            \n",
       "var gd = document.getElementById('3fc85189-f890-405f-a8fa-844b974f32ed');\n",
       "var x = new MutationObserver(function (mutations, observer) {{\n",
       "        var display = window.getComputedStyle(gd).display;\n",
       "        if (!display || display === 'none') {{\n",
       "            console.log([gd, 'removed!']);\n",
       "            Plotly.purge(gd);\n",
       "            observer.disconnect();\n",
       "        }}\n",
       "}});\n",
       "\n",
       "// Listen for the removal of the full notebook cells\n",
       "var notebookContainer = gd.closest('#notebook-container');\n",
       "if (notebookContainer) {{\n",
       "    x.observe(notebookContainer, {childList: true});\n",
       "}}\n",
       "\n",
       "// Listen for the clearing of the current output cell\n",
       "var outputEl = gd.closest('.output');\n",
       "if (outputEl) {{\n",
       "    x.observe(outputEl, {childList: true});\n",
       "}}\n",
       "\n",
       "                        })\n",
       "                };\n",
       "                });\n",
       "            </script>\n",
       "        </div>"
      ]
     },
     "metadata": {},
     "output_type": "display_data"
    }
   ],
   "source": [
    "fig = go.Figure(data=[go.Surface(z=z_data.values)])\n",
    "\n",
    "fig.update_layout(title='Mt Bruno Elevation', autosize=False,\n",
    "                  width=500, height=500,\n",
    "                  margin=dict(l=65, r=50, b=65, t=90))\n",
    "\n",
    "fig.show()"
   ]
  },
  {
   "cell_type": "code",
   "execution_count": null,
   "metadata": {},
   "outputs": [],
   "source": []
  }
 ],
 "metadata": {
  "kernelspec": {
   "display_name": "Python 3",
   "language": "python",
   "name": "python3"
  },
  "language_info": {
   "codemirror_mode": {
    "name": "ipython",
    "version": 3
   },
   "file_extension": ".py",
   "mimetype": "text/x-python",
   "name": "python",
   "nbconvert_exporter": "python",
   "pygments_lexer": "ipython3",
   "version": "3.7.6"
  }
 },
 "nbformat": 4,
 "nbformat_minor": 4
}
