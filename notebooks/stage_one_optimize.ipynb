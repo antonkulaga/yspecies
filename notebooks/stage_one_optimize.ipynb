{
 "cells": [
  {
   "cell_type": "markdown",
   "metadata": {},
   "source": [
    "# Hyper parameters optimization #"
   ]
  },
  {
   "cell_type": "markdown",
   "metadata": {},
   "source": [
    "## Parameters cell ##\n",
    "\n",
    "Parameters are overiddent by papermill when run inside DVC stages\n",
    "\n"
   ]
  },
  {
   "cell_type": "code",
   "execution_count": 1,
   "metadata": {
    "tags": [
     "parameters"
    ]
   },
   "outputs": [],
   "source": [
    "n_folds = 5 # this sets global setting of which how many bootstraps to use\n",
    "n_hold_out = 1\n",
    "repeats = 5\n",
    "n_trials = 10\n",
    "importance_type = \"split\"\n",
    "#first round of optimization\n",
    "\n",
    "life_history = [\"lifespan\", \"mass_kg\", \"mtGC\", \"metabolic_rate\", \"temperature\", \"gestation_days\"]\n",
    "trait = \"mass_kg\"#\"lifespan\"\n",
    "\n",
    "debug_local = True #to use local version"
   ]
  },
  {
   "cell_type": "code",
   "execution_count": 2,
   "metadata": {},
   "outputs": [
    {
     "name": "stdout",
     "output_type": "stream",
     "text": [
      "extending pathes with local yspecies\n",
      "['..', '/data/sources/yspecies/notebooks', '/opt/miniconda3/envs/yspecies/lib/python38.zip', '/opt/miniconda3/envs/yspecies/lib/python3.8', '/opt/miniconda3/envs/yspecies/lib/python3.8/lib-dynload', '', '/opt/miniconda3/envs/yspecies/lib/python3.8/site-packages', '/opt/miniconda3/envs/yspecies/lib/python3.8/site-packages/IPython/extensions', '/home/antonkulaga/.ipython']\n"
     ]
    }
   ],
   "source": [
    "from pathlib import Path\n",
    "import sys\n",
    "import inspect\n",
    "\n",
    "local = (Path(\"..\") / \"yspecies\").resolve()\n",
    "if debug_local and local.exists():\n",
    "  sys.path.insert(0, Path(\"..\").as_posix())\n",
    "  #sys.path.insert(0, local.as_posix())\n",
    "  print(\"extending pathes with local yspecies\")\n",
    "  print(sys.path)\n",
    "  %load_ext autoreload\n",
    "  %autoreload 2"
   ]
  },
  {
   "cell_type": "code",
   "execution_count": 3,
   "metadata": {},
   "outputs": [],
   "source": [
    "from dataclasses import dataclass, replace\n",
    "import numpy as np\n",
    "import pandas as pd\n",
    "from sklearn.pipeline import Pipeline\n",
    "import seaborn as sns\n",
    "import matplotlib.pyplot as plt"
   ]
  },
  {
   "cell_type": "code",
   "execution_count": 4,
   "metadata": {},
   "outputs": [],
   "source": [
    "from typing import *\n",
    "from yspecies.dataset import *\n",
    "from yspecies.utils import *\n",
    "from yspecies.workflow import TupleWith, Repeat, Collect\n",
    "from yspecies.config import *\n",
    "from yspecies.preprocess import FeatureSelection, DataExtractor\n",
    "from yspecies.partition import DataPartitioner, PartitionParameters\n",
    "from yspecies.selection import ShapSelector\n",
    "from yspecies.tuning import Tune, MultiObjectiveResults\n",
    "from yspecies.models import ResultsCV, CrossValidator\n",
    "from yspecies.results import FeatureSummary\n",
    "import optuna\n",
    "from optuna import Study, Trial"
   ]
  },
  {
   "cell_type": "code",
   "execution_count": 5,
   "metadata": {},
   "outputs": [
    {
     "name": "stdout",
     "output_type": "stream",
     "text": [
      "Using matplotlib backend: TkAgg\n"
     ]
    }
   ],
   "source": [
    "#settings\n",
    "pd.set_option('display.max_columns', None)\n",
    "pd.set_option('display.max_rows', None)\n",
    "pd.set_option('display.float_format', lambda x: '%.3f' % x)\n",
    "import pprint\n",
    "pp = pprint.PrettyPrinter(indent=4)\n",
    "\n",
    "#charts settings\n",
    "import matplotlib.pyplot as plt\n",
    "from IPython.display import set_matplotlib_formats\n",
    "%matplotlib auto\n",
    "plt.ioff()\n",
    "set_matplotlib_formats('svg')"
   ]
  },
  {
   "cell_type": "markdown",
   "metadata": {},
   "source": [
    "### Loading data ###\n",
    "Let's load data from species/genes/expressions selected by select_samples.py notebook"
   ]
  },
  {
   "cell_type": "code",
   "execution_count": 6,
   "metadata": {},
   "outputs": [],
   "source": [
    "from pathlib import Path\n",
    "locations: Locations = Locations(\"./\") if Path(\"./data\").exists() else Locations(\"../\")"
   ]
  },
  {
   "cell_type": "code",
   "execution_count": 7,
   "metadata": {},
   "outputs": [],
   "source": [
    "import logging\n",
    "log = logging.getLogger('server_logger')\n",
    "log.setLevel(logging.DEBUG)\n",
    "fh = logging.FileHandler(locations.logs / \"optimization.log\")"
   ]
  },
  {
   "cell_type": "code",
   "execution_count": 8,
   "metadata": {},
   "outputs": [
    {
     "data": {
      "text/plain": [
       "2"
      ]
     },
     "execution_count": 8,
     "metadata": {},
     "output_type": "execute_result"
    }
   ],
   "source": [
    "from loguru import logger\n",
    "\n",
    "logger.add(locations.logs / \"optimization_errors.log\", backtrace=True, diagnose=True)\n",
    "logger.add(locations.logs / \"optimization.log\", rotation=\"12:00\")     # New file is created each day at noon"
   ]
  },
  {
   "cell_type": "code",
   "execution_count": 10,
   "metadata": {},
   "outputs": [
    {
     "data": {
      "text/html": [
       "<table border='2'><caption> Selected feature columns <caption><tr><th>Samples metadata</th><th>Species metadata</th><th>Genes</th><th>Predict label</th><th>not_validated species</th></tr><tr><td>['tissue', 'species']</td><td>[]</td><td>all</td><td>mass_kg</td><td>[]</td></tr></table>"
      ],
      "text/plain": [
       "FeatureSelection(samples=['tissue', 'species'], species=[], genes=None, to_predict='mass_kg', categorical=['tissue'], exclude_from_training=['species'], genes_meta=None, select_by='shap', importance_type='split', feature_perturbation='tree_path_dependent', not_validated_species=[])"
      ]
     },
     "execution_count": 10,
     "metadata": {},
     "output_type": "execute_result"
    }
   ],
   "source": [
    "selection = FeatureSelection(\n",
    "    samples = [\"tissue\",\"species\"], #samples metadata to include\n",
    "    species =  [], #species metadata other then Y label to include\n",
    "    exclude_from_training = [\"species\"],  #exclude some fields from LightGBM training\n",
    "    to_predict = trait, #column to predict\n",
    "    categorical = [\"tissue\"],\n",
    "    select_by = \"shap\",\n",
    "    importance_type =  importance_type,\n",
    "    feature_perturbation = \"tree_path_dependent\"\n",
    ")\n",
    "default_selection"
   ]
  },
  {
   "cell_type": "code",
   "execution_count": 11,
   "metadata": {},
   "outputs": [
    {
     "data": {
      "text/html": [
       "<table border='2'><caption>mass_kg<caption><tr><th>expressions</th><th>genes</th><th>species</th><th>samples</th><th>Genes Metadata</th><th>Species Metadata</th></tr><tr><td>(258, 11982)</td><td>(11982, 16)</td><td>17</td><td>258</td><td>(11982, 2)</td><td>(17, 18)</td></tr></table>"
      ],
      "text/plain": [
       "<table border='2'><caption>mass_kg<caption><tr><th>expressions</th><th>genes</th><th>species</th><th>samples</th><th>Genes Metadata</th><th>Species Metadata</th></tr><tr><td>(258, 11982)</td><td>(11982, 16)</td><td>17</td><td>258</td><td>(11982, 2)</td><td>(17, 18)</td></tr></table>"
      ]
     },
     "execution_count": 11,
     "metadata": {},
     "output_type": "execute_result"
    }
   ],
   "source": [
    "loader = DataLoader(locations, default_selection)\n",
    "selections = loader.load_life_history()\n",
    "selections[trait][0]"
   ]
  },
  {
   "cell_type": "markdown",
   "metadata": {},
   "source": [
    "## Setting up ShapSelector ##"
   ]
  },
  {
   "cell_type": "markdown",
   "metadata": {},
   "source": [
    "Deciding on selection parameters (which fields to include, exclude, predict)"
   ]
  },
  {
   "cell_type": "code",
   "execution_count": 12,
   "metadata": {},
   "outputs": [],
   "source": [
    "partition_params = PartitionParameters(n_folds, n_hold_out, 2,   42)"
   ]
  },
  {
   "cell_type": "code",
   "execution_count": 15,
   "metadata": {},
   "outputs": [
    {
     "name": "stdout",
     "output_type": "stream",
     "text": [
      "loading (if exists) study from sqlite:////data/sources/yspecies/notebooks/../data/interim/optimization/mass_kg.sqlite\n"
     ]
    },
    {
     "name": "stderr",
     "output_type": "stream",
     "text": [
      "create_study is experimental (supported from v1.4.0). The interface can change in the future.\n",
      "NSGAIIMultiObjectiveSampler is experimental (supported from v1.5.0). The interface can change in the future.\n",
      "RandomMultiObjectiveSampler is experimental (supported from v1.4.0). The interface can change in the future.\n",
      "[I 2020-08-26 18:04:14,123] Using an existing study with name 'mass_kg_r2_huber_kendall' instead of creating a new one.\n",
      "MultiObjectiveStudy is experimental (supported from v1.4.0). The interface can change in the future.\n",
      "FrozenMultiObjectiveTrial is experimental (supported from v1.4.0). The interface can change in the future.\n"
     ]
    },
    {
     "data": {
      "text/plain": [
       "((0.8032359733466332, 13.977538295788246, 0.16672372537437377),\n",
       " {'bagging_fraction': 0.7535848906828091,\n",
       "  'boosting_type': 'gbdt',\n",
       "  'drop_rate': 0.24853979931346007,\n",
       "  'feature_fraction': 0.46849567660442387,\n",
       "  'lambda_l1': 0.2692850701010651,\n",
       "  'lambda_l2': 0.8326997240667217,\n",
       "  'learning_rate': 0.06489540021953816,\n",
       "  'max_depth': 8,\n",
       "  'max_leaves': 21,\n",
       "  'min_data_in_leaf': 8,\n",
       "  'objective': 'regression',\n",
       "  'metrics': ['l1', 'l2', 'huber']})"
      ]
     },
     "execution_count": 15,
     "metadata": {},
     "output_type": "execute_result"
    }
   ],
   "source": [
    "def load_study(trait: str):\n",
    "    url = f'sqlite:///' +str((locations.interim.optimization / (trait+\".sqlite\")).absolute())\n",
    "    print('loading (if exists) study from '+url)\n",
    "    storage = optuna.storages.RDBStorage(\n",
    "        url=url\n",
    "        #engine_kwargs={'check_same_thread': False}\n",
    "    )\n",
    "    return optuna.multi_objective.study.create_study(directions=['maximize','minimize','maximize'], storage = storage, study_name = f\"{trait}_r2_huber_kendall\", load_if_exists = True)\n",
    "\n",
    "study = load_study(trait)\n",
    "metrics, params = MultiObjectiveResults.from_study(study).best_metrics_params_r2()\n",
    "metrics, params"
   ]
  },
  {
   "cell_type": "code",
   "execution_count": 19,
   "metadata": {},
   "outputs": [
    {
     "data": {
      "text/plain": [
       "MultiObjectiveResults(best_trials=[<optuna.multi_objective.trial.FrozenMultiObjectiveTrial object at 0x7f0d267f2d90>, <optuna.multi_objective.trial.FrozenMultiObjectiveTrial object at 0x7f0d267f30d0>, <optuna.multi_objective.trial.FrozenMultiObjectiveTrial object at 0x7f0d267f31f0>, <optuna.multi_objective.trial.FrozenMultiObjectiveTrial object at 0x7f0d267f33d0>, <optuna.multi_objective.trial.FrozenMultiObjectiveTrial object at 0x7f0d267f3490>], all_trials=[<optuna.multi_objective.trial.FrozenMultiObjectiveTrial object at 0x7f0d268becd0>, <optuna.multi_objective.trial.FrozenMultiObjectiveTrial object at 0x7f0d267f3160>, <optuna.multi_objective.trial.FrozenMultiObjectiveTrial object at 0x7f0d267f3790>, <optuna.multi_objective.trial.FrozenMultiObjectiveTrial object at 0x7f0d2685e7c0>, <optuna.multi_objective.trial.FrozenMultiObjectiveTrial object at 0x7f0d267f64c0>, <optuna.multi_objective.trial.FrozenMultiObjectiveTrial object at 0x7f0d267f6520>, <optuna.multi_objective.trial.FrozenMultiObjectiveTrial object at 0x7f0d267f6580>, <optuna.multi_objective.trial.FrozenMultiObjectiveTrial object at 0x7f0d267f65e0>, <optuna.multi_objective.trial.FrozenMultiObjectiveTrial object at 0x7f0d267f6640>, <optuna.multi_objective.trial.FrozenMultiObjectiveTrial object at 0x7f0d267f66a0>, <optuna.multi_objective.trial.FrozenMultiObjectiveTrial object at 0x7f0d267f6700>, <optuna.multi_objective.trial.FrozenMultiObjectiveTrial object at 0x7f0d267f6760>, <optuna.multi_objective.trial.FrozenMultiObjectiveTrial object at 0x7f0d267f67c0>, <optuna.multi_objective.trial.FrozenMultiObjectiveTrial object at 0x7f0d267f6820>, <optuna.multi_objective.trial.FrozenMultiObjectiveTrial object at 0x7f0d267f6880>, <optuna.multi_objective.trial.FrozenMultiObjectiveTrial object at 0x7f0d267f68e0>, <optuna.multi_objective.trial.FrozenMultiObjectiveTrial object at 0x7f0d267f6940>, <optuna.multi_objective.trial.FrozenMultiObjectiveTrial object at 0x7f0d267f69a0>, <optuna.multi_objective.trial.FrozenMultiObjectiveTrial object at 0x7f0d267f6a00>, <optuna.multi_objective.trial.FrozenMultiObjectiveTrial object at 0x7f0d267f6a60>, <optuna.multi_objective.trial.FrozenMultiObjectiveTrial object at 0x7f0d267f6ac0>, <optuna.multi_objective.trial.FrozenMultiObjectiveTrial object at 0x7f0d267f6b20>, <optuna.multi_objective.trial.FrozenMultiObjectiveTrial object at 0x7f0d267f6b80>, <optuna.multi_objective.trial.FrozenMultiObjectiveTrial object at 0x7f0d267f6be0>, <optuna.multi_objective.trial.FrozenMultiObjectiveTrial object at 0x7f0d267f6c40>, <optuna.multi_objective.trial.FrozenMultiObjectiveTrial object at 0x7f0d267f6ca0>, <optuna.multi_objective.trial.FrozenMultiObjectiveTrial object at 0x7f0d267f6d00>, <optuna.multi_objective.trial.FrozenMultiObjectiveTrial object at 0x7f0d267f6d60>, <optuna.multi_objective.trial.FrozenMultiObjectiveTrial object at 0x7f0d267f6dc0>, <optuna.multi_objective.trial.FrozenMultiObjectiveTrial object at 0x7f0d267f6e20>, <optuna.multi_objective.trial.FrozenMultiObjectiveTrial object at 0x7f0d267f6e80>])"
      ]
     },
     "execution_count": 19,
     "metadata": {},
     "output_type": "execute_result"
    }
   ],
   "source": [
    "res = MultiObjectiveResults.from_study(study)\n",
    "res"
   ]
  },
  {
   "cell_type": "code",
   "execution_count": 26,
   "metadata": {},
   "outputs": [],
   "source": [
    "def objective_parameters(trial: Trial) -> dict:\n",
    "    return {\n",
    "        'objective': 'regression',\n",
    "        'metric': {'mae', 'mse', 'huber'},\n",
    "        'verbosity': -1,\n",
    "        'boosting_type': trial.suggest_categorical('boosting_type', ['dart', 'gbdt']),\n",
    "        'lambda_l1': trial.suggest_uniform('lambda_l1', 0.01, 3.0),\n",
    "        'lambda_l2': trial.suggest_uniform('lambda_l2', 0.01, 3.0),\n",
    "        'max_leaves': trial.suggest_int(\"max_leaves\", 15, 25),\n",
    "        'max_depth': trial.suggest_int('max_depth', 3, 8),\n",
    "        'feature_fraction': trial.suggest_uniform('feature_fraction', 0.3, 1.0),\n",
    "        'bagging_fraction': trial.suggest_uniform('bagging_fraction', 0.3, 1.0),\n",
    "        'learning_rate': trial.suggest_uniform('learning_rate', 0.01, 0.1),\n",
    "        'min_data_in_leaf': trial.suggest_int('min_data_in_leaf', 3, 8),\n",
    "        'drop_rate': trial.suggest_uniform('drop_rate', 0.1, 0.3),\n",
    "        \"verbose\": -1\n",
    "    }\n",
    "optimization_parameters = objective_parameters"
   ]
  },
  {
   "cell_type": "code",
   "execution_count": 27,
   "metadata": {},
   "outputs": [],
   "source": [
    "from yspecies.workflow import SplitReduce\n",
    "\n",
    "def side(i: int):\n",
    "    print(i)\n",
    "    return i\n",
    "\n",
    "prepare_partition = SplitReduce(\n",
    "    outputs = DataPartitioner(), \n",
    "    split = lambda x: [(x[0], replace(partition_params, seed=side(x[2])))], \n",
    "    reduce = lambda x, output: (output[0], x[1]) \n",
    ")                               \n",
    "partition_and_cv = Pipeline(\n",
    "    [\n",
    "        (\"prepare partition\", prepare_partition),\n",
    "        (\"shap_computation\", ShapSelector()) #('crossvalidator', CrossValidator())        \n",
    "    ]\n",
    ")\n",
    "\n",
    "partition_and_cv_repeat =  Pipeline([\n",
    "    (\"repeat_cv_pipe\", Repeat(partition_and_cv, repeats, lambda x, i: [x[0], x[1], i] )),\n",
    "    #(\"collect_mean\", Collect(fold=lambda results: np.array([r.last(\"huber\") for r in results]).mean()))\n",
    "    (\"collect_mean\", Collect(fold=lambda results: (FeatureSummary(results).metrics_average.R2, FeatureSummary(results).metrics_average.huber, FeatureSummary(results).kendall_tau_abs_mean)))    \n",
    "    ]\n",
    "    )\n",
    "\n",
    "p = Pipeline([\n",
    "     ('extractor', DataExtractor()),\n",
    "     ('tune', Tune(partition_and_cv_repeat, study = study, n_trials = n_trials, parameters_space = optimization_parameters))    \n",
    "])"
   ]
  },
  {
   "cell_type": "code",
   "execution_count": null,
   "metadata": {},
   "outputs": [
    {
     "name": "stderr",
     "output_type": "stream",
     "text": [
      "MultiObjectiveStudy is experimental (supported from v1.4.0). The interface can change in the future.\n",
      "FrozenMultiObjectiveTrial is experimental (supported from v1.4.0). The interface can change in the future.\n",
      "MultiObjectiveStudy is experimental (supported from v1.4.0). The interface can change in the future.\n",
      "FrozenMultiObjectiveTrial is experimental (supported from v1.4.0). The interface can change in the future.\n",
      "FrozenMultiObjectiveTrial is experimental (supported from v1.4.0). The interface can change in the future.\n",
      "MultiObjectiveTrial is experimental (supported from v1.4.0). The interface can change in the future.\n",
      "MultiObjectiveStudy is experimental (supported from v1.4.0). The interface can change in the future.\n",
      "MultiObjectiveStudy is experimental (supported from v1.4.0). The interface can change in the future.\n",
      "FrozenMultiObjectiveTrial is experimental (supported from v1.4.0). The interface can change in the future.\n"
     ]
    },
    {
     "name": "stdout",
     "output_type": "stream",
     "text": [
      "0\n"
     ]
    },
    {
     "name": "stderr",
     "output_type": "stream",
     "text": [
      "2020-08-26 18:06:34.999 | INFO     | yspecies.selection:fit:78 - ===== fitting models with seed 0 =====\n",
      "2020-08-26 18:06:35.014 | INFO     | yspecies.selection:fit:81 - SEED: 0 | FOLD: 0 | VALIDATION_SPECIES: ['Monodelphis_domestica', 'Aotus_nancymaae']\n",
      "Early stopping is not available in dart mode\n"
     ]
    },
    {
     "name": "stdout",
     "output_type": "stream",
     "text": [
      "[250]\tvalid_0's l2: 1163.81\tvalid_0's l1: 14.7818\tvalid_0's huber: 12.9362\n"
     ]
    },
    {
     "name": "stderr",
     "output_type": "stream",
     "text": [
      "2020-08-26 18:06:37.913 | INFO     | yspecies.selection:fit:81 - SEED: 0 | FOLD: 1 | VALIDATION_SPECIES: ['Sus_scrofa', 'Oryctolagus_cuniculus']\n"
     ]
    },
    {
     "name": "stdout",
     "output_type": "stream",
     "text": [
      "[250]\tvalid_0's l2: 4765.95\tvalid_0's l1: 42.9954\tvalid_0's huber: 38.4137\n"
     ]
    },
    {
     "name": "stderr",
     "output_type": "stream",
     "text": [
      "2020-08-26 18:06:40.757 | INFO     | yspecies.selection:fit:81 - SEED: 0 | FOLD: 2 | VALIDATION_SPECIES: ['Mesocricetus_auratus', 'Cavia_porcellus']\n"
     ]
    },
    {
     "name": "stdout",
     "output_type": "stream",
     "text": [
      "[250]\tvalid_0's l2: 269.607\tvalid_0's l1: 5.14676\tvalid_0's huber: 4.36006\n"
     ]
    },
    {
     "name": "stderr",
     "output_type": "stream",
     "text": [
      "2020-08-26 18:06:43.442 | INFO     | yspecies.selection:fit:81 - SEED: 0 | FOLD: 3 | VALIDATION_SPECIES: ['Ictidomys_tridecemlineatus', 'Phascolarctos_cinereus']\n"
     ]
    },
    {
     "name": "stdout",
     "output_type": "stream",
     "text": [
      "[250]\tvalid_0's l2: 610.445\tvalid_0's l1: 7.15779\tvalid_0's huber: 6.14196\n",
      "1\n"
     ]
    },
    {
     "name": "stderr",
     "output_type": "stream",
     "text": [
      "2020-08-26 18:07:02.634 | INFO     | yspecies.selection:fit:78 - ===== fitting models with seed 1 =====\n",
      "2020-08-26 18:07:02.649 | INFO     | yspecies.selection:fit:81 - SEED: 1 | FOLD: 0 | VALIDATION_SPECIES: ['Aotus_nancymaae', 'Mesocricetus_auratus']\n",
      "Early stopping is not available in dart mode\n"
     ]
    },
    {
     "name": "stdout",
     "output_type": "stream",
     "text": [
      "[250]\tvalid_0's l2: 1593.74\tvalid_0's l1: 15.3376\tvalid_0's huber: 13.4313\n"
     ]
    },
    {
     "name": "stderr",
     "output_type": "stream",
     "text": [
      "2020-08-26 18:07:06.781 | INFO     | yspecies.selection:fit:81 - SEED: 1 | FOLD: 1 | VALIDATION_SPECIES: ['Monodelphis_domestica', 'Rattus_norvegicus']\n"
     ]
    },
    {
     "name": "stdout",
     "output_type": "stream",
     "text": [
      "[250]\tvalid_0's l2: 414.747\tvalid_0's l1: 6.02303\tvalid_0's huber: 5.02296\n"
     ]
    },
    {
     "name": "stderr",
     "output_type": "stream",
     "text": [
      "2020-08-26 18:07:09.455 | INFO     | yspecies.selection:fit:81 - SEED: 1 | FOLD: 2 | VALIDATION_SPECIES: ['Ictidomys_tridecemlineatus', 'Sus_scrofa']\n"
     ]
    },
    {
     "name": "stdout",
     "output_type": "stream",
     "text": [
      "[250]\tvalid_0's l2: 4039.88\tvalid_0's l1: 33.8436\tvalid_0's huber: 30.0909\n"
     ]
    },
    {
     "name": "stderr",
     "output_type": "stream",
     "text": [
      "2020-08-26 18:07:13.517 | INFO     | yspecies.selection:fit:81 - SEED: 1 | FOLD: 3 | VALIDATION_SPECIES: ['Homo_sapiens', 'Cavia_porcellus']\n"
     ]
    },
    {
     "name": "stdout",
     "output_type": "stream",
     "text": [
      "[250]\tvalid_0's l2: 1895.59\tvalid_0's l1: 24.6982\tvalid_0's huber: 21.963\n",
      "2\n"
     ]
    },
    {
     "name": "stderr",
     "output_type": "stream",
     "text": [
      "2020-08-26 18:07:30.113 | INFO     | yspecies.selection:fit:78 - ===== fitting models with seed 2 =====\n",
      "2020-08-26 18:07:30.127 | INFO     | yspecies.selection:fit:81 - SEED: 2 | FOLD: 0 | VALIDATION_SPECIES: ['Rattus_norvegicus', 'Meriones_unguiculatus']\n",
      "Early stopping is not available in dart mode\n"
     ]
    },
    {
     "name": "stdout",
     "output_type": "stream",
     "text": [
      "[250]\tvalid_0's l2: 673.591\tvalid_0's l1: 5.24134\tvalid_0's huber: 4.35765\n"
     ]
    },
    {
     "name": "stderr",
     "output_type": "stream",
     "text": [
      "2020-08-26 18:07:33.093 | INFO     | yspecies.selection:fit:81 - SEED: 2 | FOLD: 1 | VALIDATION_SPECIES: ['Suricata_suricatta', 'Mesocricetus_auratus']\n"
     ]
    },
    {
     "name": "stdout",
     "output_type": "stream",
     "text": [
      "[250]\tvalid_0's l2: 985.934\tvalid_0's l1: 8.7507\tvalid_0's huber: 7.54066\n"
     ]
    },
    {
     "name": "stderr",
     "output_type": "stream",
     "text": [
      "2020-08-26 18:07:36.543 | INFO     | yspecies.selection:fit:81 - SEED: 2 | FOLD: 2 | VALIDATION_SPECIES: ['Phascolarctos_cinereus', 'Cavia_porcellus']\n"
     ]
    },
    {
     "name": "stdout",
     "output_type": "stream",
     "text": [
      "[250]\tvalid_0's l2: 331.572\tvalid_0's l1: 5.23904\tvalid_0's huber: 4.4094\n"
     ]
    },
    {
     "name": "stderr",
     "output_type": "stream",
     "text": [
      "2020-08-26 18:07:39.863 | INFO     | yspecies.selection:fit:81 - SEED: 2 | FOLD: 3 | VALIDATION_SPECIES: ['Homo_sapiens', 'Aotus_nancymaae']\n"
     ]
    },
    {
     "name": "stdout",
     "output_type": "stream",
     "text": [
      "[250]\tvalid_0's l2: 2629.2\tvalid_0's l1: 35.6138\tvalid_0's huber: 31.7265\n",
      "3\n"
     ]
    },
    {
     "name": "stderr",
     "output_type": "stream",
     "text": [
      "2020-08-26 18:07:58.284 | INFO     | yspecies.selection:fit:78 - ===== fitting models with seed 3 =====\n",
      "2020-08-26 18:07:58.298 | INFO     | yspecies.selection:fit:81 - SEED: 3 | FOLD: 0 | VALIDATION_SPECIES: ['Callithrix_jacchus', 'Rattus_norvegicus']\n",
      "Early stopping is not available in dart mode\n"
     ]
    },
    {
     "name": "stdout",
     "output_type": "stream",
     "text": [
      "[250]\tvalid_0's l2: 597.995\tvalid_0's l1: 6.28352\tvalid_0's huber: 5.36153\n"
     ]
    },
    {
     "name": "stderr",
     "output_type": "stream",
     "text": [
      "2020-08-26 18:08:01.972 | INFO     | yspecies.selection:fit:81 - SEED: 3 | FOLD: 1 | VALIDATION_SPECIES: ['Ictidomys_tridecemlineatus', 'Oryctolagus_cuniculus']\n"
     ]
    },
    {
     "name": "stdout",
     "output_type": "stream",
     "text": [
      "[250]\tvalid_0's l2: 1681.15\tvalid_0's l1: 21.6216\tvalid_0's huber: 19.1564\n"
     ]
    },
    {
     "name": "stderr",
     "output_type": "stream",
     "text": [
      "2020-08-26 18:08:05.379 | INFO     | yspecies.selection:fit:81 - SEED: 3 | FOLD: 2 | VALIDATION_SPECIES: ['Sus_scrofa', 'Aotus_nancymaae']\n"
     ]
    },
    {
     "name": "stdout",
     "output_type": "stream",
     "text": [
      "[250]\tvalid_0's l2: 3587.08\tvalid_0's l1: 31.4823\tvalid_0's huber: 28.0177\n"
     ]
    },
    {
     "name": "stderr",
     "output_type": "stream",
     "text": [
      "2020-08-26 18:08:26.981 | INFO     | yspecies.selection:fit:81 - SEED: 3 | FOLD: 3 | VALIDATION_SPECIES: ['Meriones_unguiculatus', 'Mesocricetus_auratus']\n"
     ]
    },
    {
     "name": "stdout",
     "output_type": "stream",
     "text": [
      "[250]\tvalid_0's l2: 328.322\tvalid_0's l1: 4.47417\tvalid_0's huber: 3.70835\n",
      "4\n"
     ]
    },
    {
     "name": "stderr",
     "output_type": "stream",
     "text": [
      "2020-08-26 18:08:44.686 | INFO     | yspecies.selection:fit:78 - ===== fitting models with seed 4 =====\n",
      "2020-08-26 18:08:44.698 | INFO     | yspecies.selection:fit:81 - SEED: 4 | FOLD: 0 | VALIDATION_SPECIES: ['Callithrix_jacchus', 'Heterocephalus_glaber']\n",
      "Early stopping is not available in dart mode\n"
     ]
    },
    {
     "name": "stdout",
     "output_type": "stream",
     "text": [
      "[250]\tvalid_0's l2: 1862.95\tvalid_0's l1: 17.7756\tvalid_0's huber: 15.6411\n"
     ]
    },
    {
     "name": "stderr",
     "output_type": "stream",
     "text": [
      "2020-08-26 18:08:48.721 | INFO     | yspecies.selection:fit:81 - SEED: 4 | FOLD: 1 | VALIDATION_SPECIES: ['Cavia_porcellus', 'Aotus_nancymaae']\n"
     ]
    },
    {
     "name": "stdout",
     "output_type": "stream",
     "text": [
      "[250]\tvalid_0's l2: 1340.13\tvalid_0's l1: 14.2302\tvalid_0's huber: 12.4791\n"
     ]
    },
    {
     "name": "stderr",
     "output_type": "stream",
     "text": [
      "2020-08-26 18:08:51.678 | INFO     | yspecies.selection:fit:81 - SEED: 4 | FOLD: 2 | VALIDATION_SPECIES: ['Homo_sapiens', 'Rattus_norvegicus']\n"
     ]
    },
    {
     "name": "stdout",
     "output_type": "stream",
     "text": [
      "[250]\tvalid_0's l2: 1315.43\tvalid_0's l1: 17.6486\tvalid_0's huber: 15.546\n"
     ]
    },
    {
     "name": "stderr",
     "output_type": "stream",
     "text": [
      "2020-08-26 18:08:53.615 | INFO     | yspecies.selection:fit:81 - SEED: 4 | FOLD: 3 | VALIDATION_SPECIES: ['Phascolarctos_cinereus', 'Ictidomys_tridecemlineatus']\n"
     ]
    },
    {
     "name": "stdout",
     "output_type": "stream",
     "text": [
      "[250]\tvalid_0's l2: 1769.9\tvalid_0's l1: 15.9673\tvalid_0's huber: 13.989\n"
     ]
    },
    {
     "name": "stderr",
     "output_type": "stream",
     "text": [
      "MultiObjectiveTrial is experimental (supported from v1.4.0). The interface can change in the future.\n",
      "MultiObjectiveStudy is experimental (supported from v1.4.0). The interface can change in the future.\n",
      "[I 2020-08-26 18:09:11,209] Trial 31 finished with values: [0.650778224739975, 14.714673186650709, 0.28583653215004173] with parameters: {'boosting_type': 'dart', 'lambda_l1': 2.5572141501795342, 'lambda_l2': 2.6623129173645084, 'max_leaves': 24, 'max_depth': 6, 'feature_fraction': 0.3981673577056902, 'bagging_fraction': 0.7131993108638601, 'learning_rate': 0.028884209334861986, 'min_data_in_leaf': 3, 'drop_rate': 0.28219250083070885}.\n",
      "MultiObjectiveStudy is experimental (supported from v1.4.0). The interface can change in the future.\n",
      "FrozenMultiObjectiveTrial is experimental (supported from v1.4.0). The interface can change in the future.\n",
      "MultiObjectiveStudy is experimental (supported from v1.4.0). The interface can change in the future.\n",
      "FrozenMultiObjectiveTrial is experimental (supported from v1.4.0). The interface can change in the future.\n",
      "FrozenMultiObjectiveTrial is experimental (supported from v1.4.0). The interface can change in the future.\n",
      "MultiObjectiveTrial is experimental (supported from v1.4.0). The interface can change in the future.\n",
      "MultiObjectiveStudy is experimental (supported from v1.4.0). The interface can change in the future.\n",
      "FrozenMultiObjectiveTrial is experimental (supported from v1.4.0). The interface can change in the future.\n"
     ]
    },
    {
     "name": "stdout",
     "output_type": "stream",
     "text": [
      "0\n"
     ]
    },
    {
     "name": "stderr",
     "output_type": "stream",
     "text": [
      "2020-08-26 18:09:11.279 | INFO     | yspecies.selection:fit:78 - ===== fitting models with seed 0 =====\n",
      "2020-08-26 18:09:11.294 | INFO     | yspecies.selection:fit:81 - SEED: 0 | FOLD: 0 | VALIDATION_SPECIES: ['Monodelphis_domestica', 'Aotus_nancymaae']\n"
     ]
    },
    {
     "name": "stdout",
     "output_type": "stream",
     "text": [
      "Training until validation scores don't improve for 10 rounds\n",
      "Early stopping, best iteration is:\n",
      "[72]\tvalid_0's l2: 658.967\tvalid_0's l1: 14.9854\tvalid_0's huber: 13.0821\n"
     ]
    },
    {
     "name": "stderr",
     "output_type": "stream",
     "text": [
      "2020-08-26 18:09:12.746 | INFO     | yspecies.selection:fit:81 - SEED: 0 | FOLD: 1 | VALIDATION_SPECIES: ['Sus_scrofa', 'Oryctolagus_cuniculus']\n"
     ]
    },
    {
     "name": "stdout",
     "output_type": "stream",
     "text": [
      "Training until validation scores don't improve for 10 rounds\n",
      "Early stopping, best iteration is:\n",
      "[103]\tvalid_0's l2: 2219.1\tvalid_0's l1: 29.6659\tvalid_0's huber: 26.331\n"
     ]
    },
    {
     "name": "stderr",
     "output_type": "stream",
     "text": [
      "2020-08-26 18:09:14.344 | INFO     | yspecies.selection:fit:81 - SEED: 0 | FOLD: 2 | VALIDATION_SPECIES: ['Mesocricetus_auratus', 'Cavia_porcellus']\n"
     ]
    },
    {
     "name": "stdout",
     "output_type": "stream",
     "text": [
      "Training until validation scores don't improve for 10 rounds\n",
      "Early stopping, best iteration is:\n",
      "[49]\tvalid_0's l2: 544.893\tvalid_0's l1: 15.3153\tvalid_0's huber: 13.3788\n"
     ]
    },
    {
     "name": "stderr",
     "output_type": "stream",
     "text": [
      "2020-08-26 18:09:15.348 | INFO     | yspecies.selection:fit:81 - SEED: 0 | FOLD: 3 | VALIDATION_SPECIES: ['Ictidomys_tridecemlineatus', 'Phascolarctos_cinereus']\n"
     ]
    },
    {
     "name": "stdout",
     "output_type": "stream",
     "text": [
      "Training until validation scores don't improve for 10 rounds\n",
      "Early stopping, best iteration is:\n",
      "[130]\tvalid_0's l2: 422.779\tvalid_0's l1: 8.34719\tvalid_0's huber: 7.17363\n",
      "1\n"
     ]
    },
    {
     "name": "stderr",
     "output_type": "stream",
     "text": [
      "2020-08-26 18:09:22.350 | INFO     | yspecies.selection:fit:78 - ===== fitting models with seed 1 =====\n",
      "2020-08-26 18:09:22.365 | INFO     | yspecies.selection:fit:81 - SEED: 1 | FOLD: 0 | VALIDATION_SPECIES: ['Aotus_nancymaae', 'Mesocricetus_auratus']\n"
     ]
    },
    {
     "name": "stdout",
     "output_type": "stream",
     "text": [
      "Training until validation scores don't improve for 10 rounds\n",
      "[250]\tvalid_0's l2: 208.32\tvalid_0's l1: 8.15373\tvalid_0's huber: 6.97285\n",
      "Did not meet early stopping. Best iteration is:\n",
      "[250]\tvalid_0's l2: 208.32\tvalid_0's l1: 8.15373\tvalid_0's huber: 6.97285\n"
     ]
    },
    {
     "name": "stderr",
     "output_type": "stream",
     "text": [
      "2020-08-26 18:09:25.633 | INFO     | yspecies.selection:fit:81 - SEED: 1 | FOLD: 1 | VALIDATION_SPECIES: ['Monodelphis_domestica', 'Rattus_norvegicus']\n"
     ]
    },
    {
     "name": "stdout",
     "output_type": "stream",
     "text": [
      "Training until validation scores don't improve for 10 rounds\n",
      "Early stopping, best iteration is:\n",
      "[111]\tvalid_0's l2: 306.274\tvalid_0's l1: 10.7619\tvalid_0's huber: 9.28071\n"
     ]
    },
    {
     "name": "stderr",
     "output_type": "stream",
     "text": [
      "2020-08-26 18:09:26.918 | INFO     | yspecies.selection:fit:81 - SEED: 1 | FOLD: 2 | VALIDATION_SPECIES: ['Ictidomys_tridecemlineatus', 'Sus_scrofa']\n"
     ]
    },
    {
     "name": "stdout",
     "output_type": "stream",
     "text": [
      "Training until validation scores don't improve for 10 rounds\n",
      "[250]\tvalid_0's l2: 2033.66\tvalid_0's l1: 26.9099\tvalid_0's huber: 23.8944\n",
      "Did not meet early stopping. Best iteration is:\n",
      "[248]\tvalid_0's l2: 2033.35\tvalid_0's l1: 26.9159\tvalid_0's huber: 23.8997\n"
     ]
    },
    {
     "name": "stderr",
     "output_type": "stream",
     "text": [
      "2020-08-26 18:09:30.710 | INFO     | yspecies.selection:fit:81 - SEED: 1 | FOLD: 3 | VALIDATION_SPECIES: ['Homo_sapiens', 'Cavia_porcellus']\n"
     ]
    },
    {
     "name": "stdout",
     "output_type": "stream",
     "text": [
      "Training until validation scores don't improve for 10 rounds\n",
      "Early stopping, best iteration is:\n",
      "[143]\tvalid_0's l2: 1360.36\tvalid_0's l1: 22.2969\tvalid_0's huber: 19.7089\n",
      "2\n"
     ]
    },
    {
     "name": "stderr",
     "output_type": "stream",
     "text": [
      "2020-08-26 18:09:45.657 | INFO     | yspecies.selection:fit:78 - ===== fitting models with seed 2 =====\n",
      "2020-08-26 18:09:45.673 | INFO     | yspecies.selection:fit:81 - SEED: 2 | FOLD: 0 | VALIDATION_SPECIES: ['Rattus_norvegicus', 'Meriones_unguiculatus']\n"
     ]
    },
    {
     "name": "stdout",
     "output_type": "stream",
     "text": [
      "Training until validation scores don't improve for 10 rounds\n",
      "Early stopping, best iteration is:\n",
      "[150]\tvalid_0's l2: 106.563\tvalid_0's l1: 5.86035\tvalid_0's huber: 4.92953\n"
     ]
    },
    {
     "name": "stderr",
     "output_type": "stream",
     "text": [
      "2020-08-26 18:09:47.490 | INFO     | yspecies.selection:fit:81 - SEED: 2 | FOLD: 1 | VALIDATION_SPECIES: ['Suricata_suricatta', 'Mesocricetus_auratus']\n"
     ]
    },
    {
     "name": "stdout",
     "output_type": "stream",
     "text": [
      "Training until validation scores don't improve for 10 rounds\n",
      "[250]\tvalid_0's l2: 242.202\tvalid_0's l1: 8.90329\tvalid_0's huber: 7.65383\n",
      "Did not meet early stopping. Best iteration is:\n",
      "[250]\tvalid_0's l2: 242.202\tvalid_0's l1: 8.90329\tvalid_0's huber: 7.65383\n"
     ]
    },
    {
     "name": "stderr",
     "output_type": "stream",
     "text": [
      "2020-08-26 18:09:50.904 | INFO     | yspecies.selection:fit:81 - SEED: 2 | FOLD: 2 | VALIDATION_SPECIES: ['Phascolarctos_cinereus', 'Cavia_porcellus']\n"
     ]
    },
    {
     "name": "stdout",
     "output_type": "stream",
     "text": [
      "Training until validation scores don't improve for 10 rounds\n",
      "Early stopping, best iteration is:\n",
      "[168]\tvalid_0's l2: 199.745\tvalid_0's l1: 7.80774\tvalid_0's huber: 6.66533\n"
     ]
    },
    {
     "name": "stderr",
     "output_type": "stream",
     "text": [
      "2020-08-26 18:09:53.311 | INFO     | yspecies.selection:fit:81 - SEED: 2 | FOLD: 3 | VALIDATION_SPECIES: ['Homo_sapiens', 'Aotus_nancymaae']\n"
     ]
    },
    {
     "name": "stdout",
     "output_type": "stream",
     "text": [
      "Training until validation scores don't improve for 10 rounds\n",
      "Early stopping, best iteration is:\n",
      "[28]\tvalid_0's l2: 2937.59\tvalid_0's l1: 35.5038\tvalid_0's huber: 31.5484\n",
      "3\n"
     ]
    },
    {
     "name": "stderr",
     "output_type": "stream",
     "text": [
      "2020-08-26 18:10:03.082 | INFO     | yspecies.selection:fit:78 - ===== fitting models with seed 3 =====\n",
      "2020-08-26 18:10:03.095 | INFO     | yspecies.selection:fit:81 - SEED: 3 | FOLD: 0 | VALIDATION_SPECIES: ['Callithrix_jacchus', 'Rattus_norvegicus']\n"
     ]
    },
    {
     "name": "stdout",
     "output_type": "stream",
     "text": [
      "Training until validation scores don't improve for 10 rounds\n",
      "Early stopping, best iteration is:\n",
      "[87]\tvalid_0's l2: 348.929\tvalid_0's l1: 9.16111\tvalid_0's huber: 7.8433\n"
     ]
    },
    {
     "name": "stderr",
     "output_type": "stream",
     "text": [
      "2020-08-26 18:10:04.226 | INFO     | yspecies.selection:fit:81 - SEED: 3 | FOLD: 1 | VALIDATION_SPECIES: ['Ictidomys_tridecemlineatus', 'Oryctolagus_cuniculus']\n"
     ]
    },
    {
     "name": "stdout",
     "output_type": "stream",
     "text": [
      "Training until validation scores don't improve for 10 rounds\n",
      "Early stopping, best iteration is:\n",
      "[31]\tvalid_0's l2: 3170.09\tvalid_0's l1: 29.9539\tvalid_0's huber: 26.5535\n"
     ]
    },
    {
     "name": "stderr",
     "output_type": "stream",
     "text": [
      "2020-08-26 18:10:05.163 | INFO     | yspecies.selection:fit:81 - SEED: 3 | FOLD: 2 | VALIDATION_SPECIES: ['Sus_scrofa', 'Aotus_nancymaae']\n"
     ]
    },
    {
     "name": "stdout",
     "output_type": "stream",
     "text": [
      "Training until validation scores don't improve for 10 rounds\n",
      "Early stopping, best iteration is:\n",
      "[144]\tvalid_0's l2: 1695.31\tvalid_0's l1: 23.5226\tvalid_0's huber: 20.8024\n"
     ]
    },
    {
     "name": "stderr",
     "output_type": "stream",
     "text": [
      "2020-08-26 18:10:07.211 | INFO     | yspecies.selection:fit:81 - SEED: 3 | FOLD: 3 | VALIDATION_SPECIES: ['Meriones_unguiculatus', 'Mesocricetus_auratus']\n"
     ]
    },
    {
     "name": "stdout",
     "output_type": "stream",
     "text": [
      "Training until validation scores don't improve for 10 rounds\n",
      "Early stopping, best iteration is:\n",
      "[59]\tvalid_0's l2: 765.042\tvalid_0's l1: 12.7153\tvalid_0's huber: 11.0387\n",
      "4\n"
     ]
    },
    {
     "name": "stderr",
     "output_type": "stream",
     "text": [
      "2020-08-26 18:10:13.923 | INFO     | yspecies.selection:fit:78 - ===== fitting models with seed 4 =====\n",
      "2020-08-26 18:10:13.936 | INFO     | yspecies.selection:fit:81 - SEED: 4 | FOLD: 0 | VALIDATION_SPECIES: ['Callithrix_jacchus', 'Heterocephalus_glaber']\n"
     ]
    },
    {
     "name": "stdout",
     "output_type": "stream",
     "text": [
      "Training until validation scores don't improve for 10 rounds\n",
      "[250]\tvalid_0's l2: 399.584\tvalid_0's l1: 14.8905\tvalid_0's huber: 13.0438\n",
      "Did not meet early stopping. Best iteration is:\n",
      "[246]\tvalid_0's l2: 399.312\tvalid_0's l1: 14.9073\tvalid_0's huber: 13.0594\n"
     ]
    },
    {
     "name": "stderr",
     "output_type": "stream",
     "text": [
      "2020-08-26 18:10:16.674 | INFO     | yspecies.selection:fit:81 - SEED: 4 | FOLD: 1 | VALIDATION_SPECIES: ['Cavia_porcellus', 'Aotus_nancymaae']\n"
     ]
    },
    {
     "name": "stdout",
     "output_type": "stream",
     "text": [
      "Training until validation scores don't improve for 10 rounds\n",
      "Early stopping, best iteration is:\n",
      "[103]\tvalid_0's l2: 519.891\tvalid_0's l1: 15.6143\tvalid_0's huber: 13.6479\n"
     ]
    },
    {
     "name": "stderr",
     "output_type": "stream",
     "text": [
      "2020-08-26 18:10:18.032 | INFO     | yspecies.selection:fit:81 - SEED: 4 | FOLD: 2 | VALIDATION_SPECIES: ['Homo_sapiens', 'Rattus_norvegicus']\n"
     ]
    },
    {
     "name": "stdout",
     "output_type": "stream",
     "text": [
      "Training until validation scores don't improve for 10 rounds\n",
      "Early stopping, best iteration is:\n",
      "[90]\tvalid_0's l2: 877.177\tvalid_0's l1: 15.5397\tvalid_0's huber: 13.6202\n"
     ]
    },
    {
     "name": "stderr",
     "output_type": "stream",
     "text": [
      "2020-08-26 18:10:19.088 | INFO     | yspecies.selection:fit:81 - SEED: 4 | FOLD: 3 | VALIDATION_SPECIES: ['Phascolarctos_cinereus', 'Ictidomys_tridecemlineatus']\n"
     ]
    },
    {
     "name": "stdout",
     "output_type": "stream",
     "text": [
      "Training until validation scores don't improve for 10 rounds\n",
      "Early stopping, best iteration is:\n",
      "[41]\tvalid_0's l2: 1499.54\tvalid_0's l1: 25.1917\tvalid_0's huber: 22.2676\n"
     ]
    },
    {
     "name": "stderr",
     "output_type": "stream",
     "text": [
      "MultiObjectiveTrial is experimental (supported from v1.4.0). The interface can change in the future.\n",
      "MultiObjectiveStudy is experimental (supported from v1.4.0). The interface can change in the future.\n",
      "[I 2020-08-26 18:10:27,269] Trial 32 finished with values: [0.7536883786800042, 15.067182548067077, 0.20932432071449872] with parameters: {'boosting_type': 'gbdt', 'lambda_l1': 1.328891800699245, 'lambda_l2': 0.5076488628967631, 'max_leaves': 25, 'max_depth': 5, 'feature_fraction': 0.328424537661558, 'bagging_fraction': 0.5966591053453352, 'learning_rate': 0.024884825110972522, 'min_data_in_leaf': 7, 'drop_rate': 0.26650820242171425}.\n",
      "MultiObjectiveStudy is experimental (supported from v1.4.0). The interface can change in the future.\n",
      "FrozenMultiObjectiveTrial is experimental (supported from v1.4.0). The interface can change in the future.\n",
      "MultiObjectiveStudy is experimental (supported from v1.4.0). The interface can change in the future.\n",
      "FrozenMultiObjectiveTrial is experimental (supported from v1.4.0). The interface can change in the future.\n",
      "FrozenMultiObjectiveTrial is experimental (supported from v1.4.0). The interface can change in the future.\n",
      "MultiObjectiveTrial is experimental (supported from v1.4.0). The interface can change in the future.\n",
      "MultiObjectiveStudy is experimental (supported from v1.4.0). The interface can change in the future.\n",
      "FrozenMultiObjectiveTrial is experimental (supported from v1.4.0). The interface can change in the future.\n"
     ]
    },
    {
     "name": "stdout",
     "output_type": "stream",
     "text": [
      "0\n"
     ]
    },
    {
     "name": "stderr",
     "output_type": "stream",
     "text": [
      "2020-08-26 18:10:27.335 | INFO     | yspecies.selection:fit:78 - ===== fitting models with seed 0 =====\n",
      "2020-08-26 18:10:27.350 | INFO     | yspecies.selection:fit:81 - SEED: 0 | FOLD: 0 | VALIDATION_SPECIES: ['Monodelphis_domestica', 'Aotus_nancymaae']\n",
      "Early stopping is not available in dart mode\n"
     ]
    },
    {
     "name": "stdout",
     "output_type": "stream",
     "text": [
      "[250]\tvalid_0's l2: 685.481\tvalid_0's l1: 12.2714\tvalid_0's huber: 10.656\n"
     ]
    },
    {
     "name": "stderr",
     "output_type": "stream",
     "text": [
      "2020-08-26 18:10:30.930 | INFO     | yspecies.selection:fit:81 - SEED: 0 | FOLD: 1 | VALIDATION_SPECIES: ['Sus_scrofa', 'Oryctolagus_cuniculus']\n"
     ]
    },
    {
     "name": "stdout",
     "output_type": "stream",
     "text": [
      "[250]\tvalid_0's l2: 3852.82\tvalid_0's l1: 33.9875\tvalid_0's huber: 30.2854\n"
     ]
    },
    {
     "name": "stderr",
     "output_type": "stream",
     "text": [
      "2020-08-26 18:10:35.216 | INFO     | yspecies.selection:fit:81 - SEED: 0 | FOLD: 2 | VALIDATION_SPECIES: ['Mesocricetus_auratus', 'Cavia_porcellus']\n"
     ]
    },
    {
     "name": "stdout",
     "output_type": "stream",
     "text": [
      "[250]\tvalid_0's l2: 362.098\tvalid_0's l1: 9.38264\tvalid_0's huber: 8.05781\n"
     ]
    },
    {
     "name": "stderr",
     "output_type": "stream",
     "text": [
      "2020-08-26 18:10:39.430 | INFO     | yspecies.selection:fit:81 - SEED: 0 | FOLD: 3 | VALIDATION_SPECIES: ['Ictidomys_tridecemlineatus', 'Phascolarctos_cinereus']\n"
     ]
    },
    {
     "name": "stdout",
     "output_type": "stream",
     "text": [
      "[250]\tvalid_0's l2: 916.547\tvalid_0's l1: 13.7504\tvalid_0's huber: 12.0265\n",
      "1\n"
     ]
    },
    {
     "name": "stderr",
     "output_type": "stream",
     "text": [
      "2020-08-26 18:10:58.931 | INFO     | yspecies.selection:fit:78 - ===== fitting models with seed 1 =====\n",
      "2020-08-26 18:10:58.945 | INFO     | yspecies.selection:fit:81 - SEED: 1 | FOLD: 0 | VALIDATION_SPECIES: ['Aotus_nancymaae', 'Mesocricetus_auratus']\n",
      "Early stopping is not available in dart mode\n"
     ]
    },
    {
     "name": "stdout",
     "output_type": "stream",
     "text": [
      "[250]\tvalid_0's l2: 1144.2\tvalid_0's l1: 17.7465\tvalid_0's huber: 15.6247\n"
     ]
    },
    {
     "name": "stderr",
     "output_type": "stream",
     "text": [
      "2020-08-26 18:11:03.756 | INFO     | yspecies.selection:fit:81 - SEED: 1 | FOLD: 1 | VALIDATION_SPECIES: ['Monodelphis_domestica', 'Rattus_norvegicus']\n"
     ]
    },
    {
     "name": "stdout",
     "output_type": "stream",
     "text": [
      "[250]\tvalid_0's l2: 539.624\tvalid_0's l1: 9.95346\tvalid_0's huber: 8.58899\n"
     ]
    },
    {
     "name": "stderr",
     "output_type": "stream",
     "text": [
      "2020-08-26 18:11:07.661 | INFO     | yspecies.selection:fit:81 - SEED: 1 | FOLD: 2 | VALIDATION_SPECIES: ['Ictidomys_tridecemlineatus', 'Sus_scrofa']\n"
     ]
    },
    {
     "name": "stdout",
     "output_type": "stream",
     "text": [
      "[250]\tvalid_0's l2: 4377.53\tvalid_0's l1: 36.7154\tvalid_0's huber: 32.7193\n"
     ]
    },
    {
     "name": "stderr",
     "output_type": "stream",
     "text": [
      "2020-08-26 18:11:11.926 | INFO     | yspecies.selection:fit:81 - SEED: 1 | FOLD: 3 | VALIDATION_SPECIES: ['Homo_sapiens', 'Cavia_porcellus']\n"
     ]
    },
    {
     "name": "stdout",
     "output_type": "stream",
     "text": [
      "[250]\tvalid_0's l2: 1924.65\tvalid_0's l1: 26.4363\tvalid_0's huber: 23.4286\n",
      "2\n"
     ]
    },
    {
     "name": "stderr",
     "output_type": "stream",
     "text": [
      "2020-08-26 18:11:29.872 | INFO     | yspecies.selection:fit:78 - ===== fitting models with seed 2 =====\n",
      "2020-08-26 18:11:29.886 | INFO     | yspecies.selection:fit:81 - SEED: 2 | FOLD: 0 | VALIDATION_SPECIES: ['Rattus_norvegicus', 'Meriones_unguiculatus']\n",
      "Early stopping is not available in dart mode\n"
     ]
    },
    {
     "name": "stdout",
     "output_type": "stream",
     "text": [
      "[250]\tvalid_0's l2: 780.268\tvalid_0's l1: 7.98983\tvalid_0's huber: 6.78585\n"
     ]
    },
    {
     "name": "stderr",
     "output_type": "stream",
     "text": [
      "2020-08-26 18:16:44.367 | INFO     | yspecies.selection:fit:81 - SEED: 2 | FOLD: 1 | VALIDATION_SPECIES: ['Suricata_suricatta', 'Mesocricetus_auratus']\n"
     ]
    },
    {
     "name": "stdout",
     "output_type": "stream",
     "text": [
      "[250]\tvalid_0's l2: 1447.5\tvalid_0's l1: 14.7658\tvalid_0's huber: 12.8852\n"
     ]
    },
    {
     "name": "stderr",
     "output_type": "stream",
     "text": [
      "2020-08-26 18:24:16.838 | INFO     | yspecies.selection:fit:81 - SEED: 2 | FOLD: 2 | VALIDATION_SPECIES: ['Phascolarctos_cinereus', 'Cavia_porcellus']\n"
     ]
    },
    {
     "name": "stdout",
     "output_type": "stream",
     "text": [
      "[250]\tvalid_0's l2: 1122.26\tvalid_0's l1: 15.6746\tvalid_0's huber: 13.7022\n"
     ]
    },
    {
     "name": "stderr",
     "output_type": "stream",
     "text": [
      "2020-08-26 18:32:42.707 | INFO     | yspecies.selection:fit:81 - SEED: 2 | FOLD: 3 | VALIDATION_SPECIES: ['Homo_sapiens', 'Aotus_nancymaae']\n"
     ]
    },
    {
     "name": "stdout",
     "output_type": "stream",
     "text": [
      "[250]\tvalid_0's l2: 3830.48\tvalid_0's l1: 33.9553\tvalid_0's huber: 30.1593\n",
      "3\n"
     ]
    },
    {
     "name": "stderr",
     "output_type": "stream",
     "text": [
      "2020-08-26 18:41:28.905 | INFO     | yspecies.selection:fit:78 - ===== fitting models with seed 3 =====\n",
      "2020-08-26 18:41:28.922 | INFO     | yspecies.selection:fit:81 - SEED: 3 | FOLD: 0 | VALIDATION_SPECIES: ['Callithrix_jacchus', 'Rattus_norvegicus']\n",
      "Early stopping is not available in dart mode\n"
     ]
    },
    {
     "name": "stdout",
     "output_type": "stream",
     "text": [
      "[250]\tvalid_0's l2: 601.254\tvalid_0's l1: 10.0622\tvalid_0's huber: 8.65884\n"
     ]
    },
    {
     "name": "stderr",
     "output_type": "stream",
     "text": [
      "2020-08-26 18:48:20.204 | INFO     | yspecies.selection:fit:81 - SEED: 3 | FOLD: 1 | VALIDATION_SPECIES: ['Ictidomys_tridecemlineatus', 'Oryctolagus_cuniculus']\n"
     ]
    },
    {
     "name": "stdout",
     "output_type": "stream",
     "text": [
      "[250]\tvalid_0's l2: 1208.39\tvalid_0's l1: 17.2514\tvalid_0's huber: 15.1544\n"
     ]
    },
    {
     "name": "stderr",
     "output_type": "stream",
     "text": [
      "2020-08-26 18:56:43.695 | INFO     | yspecies.selection:fit:81 - SEED: 3 | FOLD: 2 | VALIDATION_SPECIES: ['Sus_scrofa', 'Aotus_nancymaae']\n"
     ]
    },
    {
     "name": "stdout",
     "output_type": "stream",
     "text": [
      "[250]\tvalid_0's l2: 2910.08\tvalid_0's l1: 35.1585\tvalid_0's huber: 31.2753\n"
     ]
    },
    {
     "name": "stderr",
     "output_type": "stream",
     "text": [
      "2020-08-26 19:03:49.516 | INFO     | yspecies.selection:fit:81 - SEED: 3 | FOLD: 3 | VALIDATION_SPECIES: ['Meriones_unguiculatus', 'Mesocricetus_auratus']\n"
     ]
    },
    {
     "name": "stdout",
     "output_type": "stream",
     "text": [
      "[250]\tvalid_0's l2: 400.098\tvalid_0's l1: 6.42247\tvalid_0's huber: 5.39164\n",
      "4\n"
     ]
    },
    {
     "name": "stderr",
     "output_type": "stream",
     "text": [
      "2020-08-26 19:12:56.654 | INFO     | yspecies.selection:fit:78 - ===== fitting models with seed 4 =====\n",
      "2020-08-26 19:12:56.674 | INFO     | yspecies.selection:fit:81 - SEED: 4 | FOLD: 0 | VALIDATION_SPECIES: ['Callithrix_jacchus', 'Heterocephalus_glaber']\n",
      "Early stopping is not available in dart mode\n"
     ]
    },
    {
     "name": "stdout",
     "output_type": "stream",
     "text": [
      "[250]\tvalid_0's l2: 1221\tvalid_0's l1: 15.4584\tvalid_0's huber: 13.515\n"
     ]
    },
    {
     "name": "stderr",
     "output_type": "stream",
     "text": [
      "2020-08-26 19:20:07.333 | INFO     | yspecies.selection:fit:81 - SEED: 4 | FOLD: 1 | VALIDATION_SPECIES: ['Cavia_porcellus', 'Aotus_nancymaae']\n"
     ]
    },
    {
     "name": "stdout",
     "output_type": "stream",
     "text": [
      "[250]\tvalid_0's l2: 1290.34\tvalid_0's l1: 18.274\tvalid_0's huber: 16.0581\n"
     ]
    },
    {
     "name": "stderr",
     "output_type": "stream",
     "text": [
      "2020-08-26 19:25:12.788 | INFO     | yspecies.selection:fit:81 - SEED: 4 | FOLD: 2 | VALIDATION_SPECIES: ['Homo_sapiens', 'Rattus_norvegicus']\n"
     ]
    },
    {
     "name": "stdout",
     "output_type": "stream",
     "text": [
      "[250]\tvalid_0's l2: 1194.58\tvalid_0's l1: 18.9309\tvalid_0's huber: 16.6551\n"
     ]
    },
    {
     "name": "stderr",
     "output_type": "stream",
     "text": [
      "2020-08-26 19:25:14.936 | INFO     | yspecies.selection:fit:81 - SEED: 4 | FOLD: 3 | VALIDATION_SPECIES: ['Phascolarctos_cinereus', 'Ictidomys_tridecemlineatus']\n"
     ]
    },
    {
     "name": "stdout",
     "output_type": "stream",
     "text": [
      "[250]\tvalid_0's l2: 1066.6\tvalid_0's l1: 12.5845\tvalid_0's huber: 10.9274\n"
     ]
    }
   ],
   "source": [
    "results = p.fit_transform(selections[trait])\n",
    "results"
   ]
  },
  {
   "cell_type": "code",
   "execution_count": null,
   "metadata": {},
   "outputs": [],
   "source": [
    "for i, t in enumerate(best):\n",
    "    trait_path = locations.metrics.optimization / trait\n",
    "    if not trait_path.exists():\n",
    "        trait_path.mkdir()\n",
    "    path = trait_path / f\"{str(i)}.json\"    \n",
    "    print(f\"writing parameters to {path}\")\n",
    "    with open(path, 'w') as f:\n",
    "        params = t.params\n",
    "        values = t.values\n",
    "        to_write = {\"number\": t.number,\"params\": params, \"metrics\": {\"R2\":values[0], \"huber\": values[1], \"kendall_tau\": values[2]}}\n",
    "        json.dump(to_write, f, sort_keys=True, indent=4)"
   ]
  },
  {
   "cell_type": "code",
   "execution_count": null,
   "metadata": {},
   "outputs": [],
   "source": []
  }
 ],
 "metadata": {
  "kernelspec": {
   "display_name": "Python 3",
   "language": "python",
   "name": "python3"
  },
  "language_info": {
   "codemirror_mode": {
    "name": "ipython",
    "version": 3
   },
   "file_extension": ".py",
   "mimetype": "text/x-python",
   "name": "python",
   "nbconvert_exporter": "python",
   "pygments_lexer": "ipython3",
   "version": "3.8.5"
  }
 },
 "nbformat": 4,
 "nbformat_minor": 4
}
