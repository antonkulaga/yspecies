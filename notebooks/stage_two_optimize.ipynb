{
 "cells": [
  {
   "cell_type": "markdown",
   "metadata": {},
   "source": [
    "# Hyper parameters optimization #"
   ]
  },
  {
   "cell_type": "markdown",
   "metadata": {},
   "source": [
    "## Parameters cell ##\n",
    "\n",
    "Parameters are overiddent by papermill when run inside DVC stages\n",
    "\n"
   ]
  },
  {
   "cell_type": "code",
   "execution_count": 84,
   "metadata": {
    "tags": [
     "parameters"
    ]
   },
   "outputs": [],
   "source": [
    "n_folds = 5 # this sets global setting of which how many bootstraps to use\n",
    "n_hold_out = 1\n",
    "repeats = 10\n",
    "n_trials = 100\n",
    "importance_type = \"split\"\n",
    "trait = \"lifespan\"#\"lifespan\"\n",
    "\n",
    "debug_local = True #to use local version"
   ]
  },
  {
   "cell_type": "code",
   "execution_count": 85,
   "metadata": {},
   "outputs": [
    {
     "name": "stdout",
     "output_type": "stream",
     "text": [
      "extending pathes with local yspecies\n",
      "['..', '..', '..', '..', '..', '..', '..', '/data/sources/yspecies/notebooks', '/data/miniconda3/envs/yspecies/lib/python38.zip', '/data/miniconda3/envs/yspecies/lib/python3.8', '/data/miniconda3/envs/yspecies/lib/python3.8/lib-dynload', '', '/data/miniconda3/envs/yspecies/lib/python3.8/site-packages', '/data/miniconda3/envs/yspecies/lib/python3.8/site-packages/IPython/extensions', '/home/anton/.ipython']\n",
      "The autoreload extension is already loaded. To reload it, use:\n",
      "  %reload_ext autoreload\n"
     ]
    }
   ],
   "source": [
    "from pathlib import Path\n",
    "import sys\n",
    "import inspect\n",
    "\n",
    "local = (Path(\"..\") / \"yspecies\").resolve()\n",
    "if debug_local and local.exists():\n",
    "  sys.path.insert(0, Path(\"..\").as_posix())\n",
    "  #sys.path.insert(0, local.as_posix())\n",
    "  print(\"extending pathes with local yspecies\")\n",
    "  print(sys.path)\n",
    "  %load_ext autoreload\n",
    "  %autoreload 2"
   ]
  },
  {
   "cell_type": "code",
   "execution_count": 86,
   "metadata": {},
   "outputs": [],
   "source": [
    "from dataclasses import dataclass, replace\n",
    "import numpy as np\n",
    "import pandas as pd\n",
    "from sklearn.pipeline import Pipeline\n",
    "import seaborn as sns\n",
    "import matplotlib.pyplot as plt"
   ]
  },
  {
   "cell_type": "code",
   "execution_count": 87,
   "metadata": {},
   "outputs": [],
   "source": [
    "from typing import *\n",
    "from yspecies.dataset import *\n",
    "from yspecies.utils import *\n",
    "from yspecies.workflow import TupleWith, Repeat, Collect\n",
    "from yspecies.config import *\n",
    "from yspecies.preprocess import FeatureSelection, DataExtractor\n",
    "from yspecies.partition import DataPartitioner, PartitionParameters\n",
    "from yspecies.selection import ShapSelector\n",
    "from yspecies.tuning import Tune, MultiObjectiveResults\n",
    "from yspecies.models import ResultsCV, CrossValidator\n",
    "from yspecies.results import FeatureSummary\n",
    "import optuna\n",
    "from optuna import Study, Trial"
   ]
  },
  {
   "cell_type": "code",
   "execution_count": 88,
   "metadata": {},
   "outputs": [
    {
     "name": "stdout",
     "output_type": "stream",
     "text": [
      "Using matplotlib backend: agg\n"
     ]
    }
   ],
   "source": [
    "#settings\n",
    "pd.set_option('display.max_columns', None)\n",
    "pd.set_option('display.max_rows', None)\n",
    "pd.set_option('display.float_format', lambda x: '%.3f' % x)\n",
    "import pprint\n",
    "pp = pprint.PrettyPrinter(indent=4)\n",
    "\n",
    "#charts settings\n",
    "import matplotlib.pyplot as plt\n",
    "from IPython.display import set_matplotlib_formats\n",
    "%matplotlib auto\n",
    "plt.ioff()\n",
    "set_matplotlib_formats('svg')"
   ]
  },
  {
   "cell_type": "markdown",
   "metadata": {},
   "source": [
    "### Loading data ###\n",
    "Let's load data from species/genes/expressions selected by select_samples.py notebook"
   ]
  },
  {
   "cell_type": "code",
   "execution_count": 89,
   "metadata": {},
   "outputs": [],
   "source": [
    "from pathlib import Path\n",
    "locations: Locations = Locations(\"./\") if Path(\"./data\").exists() else Locations(\"../\")"
   ]
  },
  {
   "cell_type": "code",
   "execution_count": 90,
   "metadata": {},
   "outputs": [
    {
     "data": {
      "text/plain": [
       "14"
      ]
     },
     "execution_count": 90,
     "metadata": {},
     "output_type": "execute_result"
    }
   ],
   "source": [
    "from loguru import logger\n",
    "\n",
    "logger.add(locations.logs / \"optimization_stage_2_errors.log\", backtrace=True, diagnose=True)\n",
    "logger.add(locations.logs / \"optimization_stage_2.log\", rotation=\"12:00\")     # New file is created each day at noon"
   ]
  },
  {
   "cell_type": "code",
   "execution_count": 91,
   "metadata": {},
   "outputs": [
    {
     "data": {
      "text/html": [
       "<table border='2'><caption>stage_2_input<caption><tr><th>expressions</th><th>genes</th><th>species</th><th>samples</th><th>Genes Metadata</th><th>Species Metadata</th></tr><tr><td>(408, 142)</td><td>(142, 37)</td><td>38</td><td>408</td><td>(142, 2)</td><td>(38, 18)</td></tr></table>"
      ],
      "text/plain": [
       "<table border='2'><caption>stage_2_input<caption><tr><th>expressions</th><th>genes</th><th>species</th><th>samples</th><th>Genes Metadata</th><th>Species Metadata</th></tr><tr><td>(408, 142)</td><td>(142, 37)</td><td>38</td><td>408</td><td>(142, 2)</td><td>(38, 18)</td></tr></table>"
      ]
     },
     "execution_count": 91,
     "metadata": {},
     "output_type": "execute_result"
    }
   ],
   "source": [
    "data = ExpressionDataset.from_folder(locations.interim.dir / \"stage_2_input\")\n",
    "data"
   ]
  },
  {
   "cell_type": "code",
   "execution_count": 92,
   "metadata": {},
   "outputs": [
    {
     "data": {
      "text/html": [
       "['Mus_caroli', 'Homo_sapiens']"
      ],
      "text/plain": [
       "['Mus_caroli', 'Homo_sapiens']"
      ]
     },
     "execution_count": 92,
     "metadata": {},
     "output_type": "execute_result"
    }
   ],
   "source": [
    "not_validated_species = data.min_max_trait(trait)\n",
    "not_validated_species"
   ]
  },
  {
   "cell_type": "code",
   "execution_count": 93,
   "metadata": {},
   "outputs": [
    {
     "data": {
      "text/html": [
       "<table border='2'><caption> Selected feature columns <caption><tr><th>Samples metadata</th><th>Species metadata</th><th>Genes</th><th>Predict label</th><th>not_validated species</th></tr><tr><td>['tissue', 'species']</td><td>[]</td><td>all</td><td>lifespan</td><td>['Mus_caroli', 'Homo_sapiens']</td></tr></table>"
      ],
      "text/plain": [
       "FeatureSelection(samples=['tissue', 'species'], species=[], genes=None, to_predict='lifespan', categorical=['tissue'], exclude_from_training=['species'], genes_meta=None, select_by='shap', importance_type='split', feature_perturbation='tree_path_dependent', not_validated_species=['Mus_caroli', 'Homo_sapiens'])"
      ]
     },
     "execution_count": 93,
     "metadata": {},
     "output_type": "execute_result"
    }
   ],
   "source": [
    "selection = FeatureSelection(\n",
    "    samples = [\"tissue\",\"species\"], #samples metadata to include\n",
    "    species =  [], #species metadata other then Y label to include\n",
    "    exclude_from_training = [\"species\"],  #exclude some fields from LightGBM training\n",
    "    to_predict = trait, #column to predict\n",
    "    categorical = [\"tissue\"],\n",
    "    select_by = \"shap\",\n",
    "    importance_type =  importance_type,\n",
    "    feature_perturbation = \"tree_path_dependent\",\n",
    "    not_validated_species = not_validated_species\n",
    ")\n",
    "selection"
   ]
  },
  {
   "cell_type": "markdown",
   "metadata": {},
   "source": [
    "## Setting up ShapSelector ##"
   ]
  },
  {
   "cell_type": "markdown",
   "metadata": {},
   "source": [
    "Deciding on selection parameters (which fields to include, exclude, predict)"
   ]
  },
  {
   "cell_type": "code",
   "execution_count": 94,
   "metadata": {},
   "outputs": [],
   "source": [
    "partition_params = PartitionParameters(n_folds, n_hold_out, 2,   42)"
   ]
  },
  {
   "cell_type": "code",
   "execution_count": 95,
   "metadata": {},
   "outputs": [
    {
     "name": "stdout",
     "output_type": "stream",
     "text": [
      "loading (if exists) study from sqlite:////data/sources/yspecies/notebooks/../data/interim/optimization/lifespan_2.sqlite\n"
     ]
    },
    {
     "name": "stderr",
     "output_type": "stream",
     "text": [
      "create_study is experimental (supported from v1.4.0). The interface can change in the future.\n",
      "NSGAIIMultiObjectiveSampler is experimental (supported from v1.5.0). The interface can change in the future.\n",
      "RandomMultiObjectiveSampler is experimental (supported from v1.4.0). The interface can change in the future.\n",
      "[I 2020-09-03 14:08:40,601] Using an existing study with name 'lifespan_r2_huber_kendall' instead of creating a new one.\n",
      "MultiObjectiveStudy is experimental (supported from v1.4.0). The interface can change in the future.\n"
     ]
    },
    {
     "data": {
      "text/plain": [
       "<optuna.multi_objective.study.MultiObjectiveStudy at 0x7ff10b242f70>"
      ]
     },
     "execution_count": 95,
     "metadata": {},
     "output_type": "execute_result"
    }
   ],
   "source": [
    "def load_study(trait: str):\n",
    "    url = f'sqlite:///' +str((locations.interim.optimization / (trait+\"_2.sqlite\")).absolute())\n",
    "    print('loading (if exists) study from '+url)\n",
    "    storage = optuna.storages.RDBStorage(\n",
    "        url=url\n",
    "        #engine_kwargs={'check_same_thread': False}\n",
    "    )\n",
    "    return optuna.multi_objective.study.create_study(directions=['maximize','minimize','maximize'], storage = storage, study_name = f\"{trait}_r2_huber_kendall\", load_if_exists = True)\n",
    "\n",
    "study = load_study(trait)\n",
    "study\n",
    "#metrics, params = MultiObjectiveResults.from_study(study).best_metrics_params_r2()\n",
    "#metrics, params"
   ]
  },
  {
   "cell_type": "code",
   "execution_count": 96,
   "metadata": {},
   "outputs": [],
   "source": [
    "def objective_parameters(trial: Trial) -> dict:\n",
    "    return {\n",
    "        'objective': 'regression',\n",
    "        'metric': {'mae', 'mse', 'huber'},\n",
    "        'verbosity': -1,\n",
    "        'boosting_type': trial.suggest_categorical('boosting_type', ['dart', 'gbdt']),\n",
    "        'lambda_l1': trial.suggest_uniform('lambda_l1', 0.01, 3.0),\n",
    "        'lambda_l2': trial.suggest_uniform('lambda_l2', 0.01, 3.0),\n",
    "        'max_leaves': trial.suggest_int(\"max_leaves\", 15, 25),\n",
    "        'max_depth': trial.suggest_int('max_depth', 3, 8),\n",
    "        'feature_fraction': trial.suggest_uniform('feature_fraction', 0.4, 1.0),\n",
    "        'bagging_fraction': trial.suggest_uniform('bagging_fraction', 0.3, 1.0),\n",
    "        'learning_rate': trial.suggest_uniform('learning_rate', 0.01, 0.1),\n",
    "        'min_data_in_leaf': trial.suggest_int('min_data_in_leaf', 3, 8),\n",
    "        'drop_rate': trial.suggest_uniform('drop_rate', 0.1, 0.3),\n",
    "        \"verbose\": -1\n",
    "    }\n",
    "optimization_parameters = objective_parameters"
   ]
  },
  {
   "cell_type": "code",
   "execution_count": 97,
   "metadata": {},
   "outputs": [],
   "source": [
    "from yspecies.workflow import SplitReduce\n",
    "\n",
    "def side(i: int):\n",
    "    print(i)\n",
    "    return i\n",
    "\n",
    "prepare_partition = SplitReduce(\n",
    "    outputs = DataPartitioner(), \n",
    "    split = lambda x: [(x[0], replace(partition_params, seed=side(x[2])))], \n",
    "    reduce = lambda x, output: (output[0], x[1]) \n",
    ")                               \n",
    "partition_and_cv = Pipeline(\n",
    "    [\n",
    "        (\"prepare partition\", prepare_partition),\n",
    "        (\"shap_computation\", ShapSelector()) #('crossvalidator', CrossValidator())        \n",
    "    ]\n",
    ")\n",
    "\n",
    "partition_and_cv_repeat =  Pipeline([\n",
    "    (\"repeat_cv_pipe\", Repeat(partition_and_cv, repeats, lambda x, i: [x[0], x[1], i] )),\n",
    "    #(\"collect_mean\", Collect(fold=lambda results: np.array([r.last(\"huber\") for r in results]).mean()))\n",
    "    (\"collect_mean\", Collect(fold=lambda results: (FeatureSummary(results).metrics_average.R2, FeatureSummary(results).metrics_average.huber, FeatureSummary(results).kendall_tau_abs_mean)))    \n",
    "    ]\n",
    "    )\n",
    "\n",
    "p = Pipeline([\n",
    "     ('extractor', DataExtractor()),\n",
    "     ('tune', Tune(partition_and_cv_repeat, study = study, n_trials = n_trials, parameters_space = optimization_parameters))    \n",
    "])"
   ]
  },
  {
   "cell_type": "code",
   "execution_count": null,
   "metadata": {},
   "outputs": [
    {
     "name": "stderr",
     "output_type": "stream",
     "text": [
      "MultiObjectiveStudy is experimental (supported from v1.4.0). The interface can change in the future.\n",
      "FrozenMultiObjectiveTrial is experimental (supported from v1.4.0). The interface can change in the future.\n",
      "MultiObjectiveStudy is experimental (supported from v1.4.0). The interface can change in the future.\n",
      "FrozenMultiObjectiveTrial is experimental (supported from v1.4.0). The interface can change in the future.\n",
      "FrozenMultiObjectiveTrial is experimental (supported from v1.4.0). The interface can change in the future.\n",
      "MultiObjectiveTrial is experimental (supported from v1.4.0). The interface can change in the future.\n",
      "MultiObjectiveStudy is experimental (supported from v1.4.0). The interface can change in the future.\n",
      "FrozenMultiObjectiveTrial is experimental (supported from v1.4.0). The interface can change in the future.\n"
     ]
    },
    {
     "name": "stdout",
     "output_type": "stream",
     "text": [
      "0\n"
     ]
    },
    {
     "name": "stderr",
     "output_type": "stream",
     "text": [
      "2020-09-03 14:08:43.684 | INFO     | yspecies.selection:fit:78 - ===== fitting models with seed 0 =====\n",
      "2020-09-03 14:08:43.688 | INFO     | yspecies.selection:fit:79 - PARAMETERS:\n",
      "{'objective': 'regression', 'metric': {'mae', 'huber', 'mse'}, 'verbosity': -1, 'boosting_type': 'gbdt', 'lambda_l1': 0.3970175140579622, 'lambda_l2': 2.9232199794782074, 'max_leaves': 18, 'max_depth': 3, 'feature_fraction': 0.5479409728228775, 'bagging_fraction': 0.48406511309515066, 'learning_rate': 0.028070022667265784, 'min_data_in_leaf': 8, 'drop_rate': 0.23711009606906033, 'verbose': -1}\n",
      "2020-09-03 14:08:43.693 | INFO     | yspecies.selection:fit:82 - SEED: 0 | FOLD: 0 | VALIDATION_SPECIES: ['Gorilla_gorilla', 'Pan_paniscus']\n"
     ]
    },
    {
     "name": "stdout",
     "output_type": "stream",
     "text": [
      "[LightGBM] [Warning] verbosity is set=-1, verbose=-1 will be ignored. Current value: verbosity=-1\n",
      "Training until validation scores don't improve for 10 rounds\n",
      "[250]\tvalid_0's l1: 8.26106\tvalid_0's huber: 7.07434\tvalid_0's l2: 192.659\n",
      "Did not meet early stopping. Best iteration is:\n",
      "[248]\tvalid_0's l1: 8.26097\tvalid_0's huber: 7.07596\tvalid_0's l2: 192.683\n"
     ]
    },
    {
     "name": "stderr",
     "output_type": "stream",
     "text": [
      "2020-09-03 14:08:43.896 | INFO     | yspecies.selection:fit:82 - SEED: 0 | FOLD: 1 | VALIDATION_SPECIES: ['Heterocephalus_glaber', 'Capra_hircus']\n"
     ]
    },
    {
     "name": "stdout",
     "output_type": "stream",
     "text": [
      "Training until validation scores don't improve for 10 rounds\n",
      "[250]\tvalid_0's l1: 3.71594\tvalid_0's huber: 3.00079\tvalid_0's l2: 50.4796\n",
      "Did not meet early stopping. Best iteration is:\n",
      "[249]\tvalid_0's l1: 3.71566\tvalid_0's huber: 3.00077\tvalid_0's l2: 50.4529\n"
     ]
    },
    {
     "name": "stderr",
     "output_type": "stream",
     "text": [
      "2020-09-03 14:08:44.103 | INFO     | yspecies.selection:fit:82 - SEED: 0 | FOLD: 2 | VALIDATION_SPECIES: ['Bos_taurus', 'Otolemur_garnettii']\n"
     ]
    },
    {
     "name": "stdout",
     "output_type": "stream",
     "text": [
      "Training until validation scores don't improve for 10 rounds\n",
      "[250]\tvalid_0's l1: 3.13752\tvalid_0's huber: 2.50433\tvalid_0's l2: 32.7619\n",
      "Did not meet early stopping. Best iteration is:\n",
      "[246]\tvalid_0's l1: 3.13138\tvalid_0's huber: 2.49966\tvalid_0's l2: 32.6776\n"
     ]
    },
    {
     "name": "stderr",
     "output_type": "stream",
     "text": [
      "2020-09-03 14:08:44.318 | INFO     | yspecies.selection:fit:82 - SEED: 0 | FOLD: 3 | VALIDATION_SPECIES: ['Macaca_nemestrina', 'Microcebus_murinus']\n"
     ]
    },
    {
     "name": "stdout",
     "output_type": "stream",
     "text": [
      "Training until validation scores don't improve for 10 rounds\n",
      "[250]\tvalid_0's l1: 3.27599\tvalid_0's huber: 2.61681\tvalid_0's l2: 51.7369\n",
      "Did not meet early stopping. Best iteration is:\n",
      "[250]\tvalid_0's l1: 3.27599\tvalid_0's huber: 2.61681\tvalid_0's l2: 51.7369\n"
     ]
    },
    {
     "name": "stderr",
     "output_type": "stream",
     "text": [
      "2020-09-03 14:08:58.515 | INFO     | yspecies.selection:transform:226 - Metrics: \n",
      "Metrics(R2=0.8935836956216321, MAE=4.595999252340419, MSE=81.88763089888258, huber=3.7983848703864744)\n"
     ]
    },
    {
     "name": "stdout",
     "output_type": "stream",
     "text": [
      "1\n"
     ]
    },
    {
     "name": "stderr",
     "output_type": "stream",
     "text": [
      "2020-09-03 14:08:58.524 | INFO     | yspecies.selection:fit:78 - ===== fitting models with seed 1 =====\n",
      "2020-09-03 14:08:58.526 | INFO     | yspecies.selection:fit:79 - PARAMETERS:\n",
      "{'objective': 'regression', 'metric': {'mae', 'huber', 'mse'}, 'verbosity': -1, 'boosting_type': 'gbdt', 'lambda_l1': 0.3970175140579622, 'lambda_l2': 2.9232199794782074, 'max_leaves': 18, 'max_depth': 3, 'feature_fraction': 0.5479409728228775, 'bagging_fraction': 0.48406511309515066, 'learning_rate': 0.028070022667265784, 'min_data_in_leaf': 8, 'drop_rate': 0.23711009606906033, 'verbose': -1, 'seed': 0}\n",
      "2020-09-03 14:08:58.530 | INFO     | yspecies.selection:fit:82 - SEED: 1 | FOLD: 0 | VALIDATION_SPECIES: ['Felis_catus', 'Ursus_americanus']\n"
     ]
    },
    {
     "name": "stdout",
     "output_type": "stream",
     "text": [
      "[LightGBM] [Warning] verbosity is set=-1, verbose=-1 will be ignored. Current value: verbosity=-1\n",
      "Training until validation scores don't improve for 10 rounds\n",
      "Early stopping, best iteration is:\n",
      "[206]\tvalid_0's l1: 3.62371\tvalid_0's huber: 2.90166\tvalid_0's l2: 30.3543\n"
     ]
    },
    {
     "name": "stderr",
     "output_type": "stream",
     "text": [
      "2020-09-03 14:08:58.769 | INFO     | yspecies.selection:fit:82 - SEED: 1 | FOLD: 1 | VALIDATION_SPECIES: ['Heterocephalus_glaber', 'Vombatus_ursinus']\n"
     ]
    },
    {
     "name": "stdout",
     "output_type": "stream",
     "text": [
      "Training until validation scores don't improve for 10 rounds\n",
      "[250]\tvalid_0's l1: 4.37289\tvalid_0's huber: 3.58205\tvalid_0's l2: 65.6814\n",
      "Did not meet early stopping. Best iteration is:\n",
      "[249]\tvalid_0's l1: 4.37128\tvalid_0's huber: 3.5808\tvalid_0's l2: 65.6879\n"
     ]
    },
    {
     "name": "stderr",
     "output_type": "stream",
     "text": [
      "2020-09-03 14:08:58.967 | INFO     | yspecies.selection:fit:82 - SEED: 1 | FOLD: 2 | VALIDATION_SPECIES: ['Macaca_fascicularis', 'Rhinopithecus_bieti']\n"
     ]
    },
    {
     "name": "stdout",
     "output_type": "stream",
     "text": [
      "Training until validation scores don't improve for 10 rounds\n",
      "[250]\tvalid_0's l1: 2.5536\tvalid_0's huber: 1.97659\tvalid_0's l2: 25.6114\n",
      "Did not meet early stopping. Best iteration is:\n",
      "[249]\tvalid_0's l1: 2.55259\tvalid_0's huber: 1.97646\tvalid_0's l2: 25.6061\n"
     ]
    },
    {
     "name": "stderr",
     "output_type": "stream",
     "text": [
      "2020-09-03 14:08:59.151 | INFO     | yspecies.selection:fit:82 - SEED: 1 | FOLD: 3 | VALIDATION_SPECIES: ['Gorilla_gorilla', 'Ovis_aries']\n"
     ]
    },
    {
     "name": "stdout",
     "output_type": "stream",
     "text": [
      "Training until validation scores don't improve for 10 rounds\n",
      "[250]\tvalid_0's l1: 6.02675\tvalid_0's huber: 5.09841\tvalid_0's l2: 141.795\n",
      "Did not meet early stopping. Best iteration is:\n",
      "[250]\tvalid_0's l1: 6.02675\tvalid_0's huber: 5.09841\tvalid_0's l2: 141.795\n"
     ]
    },
    {
     "name": "stderr",
     "output_type": "stream",
     "text": [
      "2020-09-03 14:09:09.862 | INFO     | yspecies.selection:transform:226 - Metrics: \n",
      "Metrics(R2=0.9059389704759702, MAE=4.143581140861504, MSE=65.86070021315716, huber=3.3891715273746694)\n"
     ]
    },
    {
     "name": "stdout",
     "output_type": "stream",
     "text": [
      "2\n"
     ]
    },
    {
     "name": "stderr",
     "output_type": "stream",
     "text": [
      "2020-09-03 14:09:09.870 | INFO     | yspecies.selection:fit:78 - ===== fitting models with seed 2 =====\n",
      "2020-09-03 14:09:09.872 | INFO     | yspecies.selection:fit:79 - PARAMETERS:\n",
      "{'objective': 'regression', 'metric': {'mae', 'huber', 'mse'}, 'verbosity': -1, 'boosting_type': 'gbdt', 'lambda_l1': 0.3970175140579622, 'lambda_l2': 2.9232199794782074, 'max_leaves': 18, 'max_depth': 3, 'feature_fraction': 0.5479409728228775, 'bagging_fraction': 0.48406511309515066, 'learning_rate': 0.028070022667265784, 'min_data_in_leaf': 8, 'drop_rate': 0.23711009606906033, 'verbose': -1, 'seed': 1}\n",
      "2020-09-03 14:09:09.876 | INFO     | yspecies.selection:fit:82 - SEED: 2 | FOLD: 0 | VALIDATION_SPECIES: ['Rhinopithecus_bieti', 'Ursus_americanus']\n"
     ]
    },
    {
     "name": "stdout",
     "output_type": "stream",
     "text": [
      "[LightGBM] [Warning] verbosity is set=-1, verbose=-1 will be ignored. Current value: verbosity=-1\n",
      "Training until validation scores don't improve for 10 rounds\n",
      "[250]\tvalid_0's l1: 3.25979\tvalid_0's huber: 2.58486\tvalid_0's l2: 26.0644\n",
      "Did not meet early stopping. Best iteration is:\n",
      "[250]\tvalid_0's l1: 3.25979\tvalid_0's huber: 2.58486\tvalid_0's l2: 26.0644\n"
     ]
    },
    {
     "name": "stderr",
     "output_type": "stream",
     "text": [
      "2020-09-03 14:09:10.074 | INFO     | yspecies.selection:fit:82 - SEED: 2 | FOLD: 1 | VALIDATION_SPECIES: ['Aotus_nancymaae', 'Phascolarctos_cinereus']\n"
     ]
    },
    {
     "name": "stdout",
     "output_type": "stream",
     "text": [
      "Training until validation scores don't improve for 10 rounds\n",
      "[250]\tvalid_0's l1: 4.53248\tvalid_0's huber: 3.72348\tvalid_0's l2: 49.7121\n",
      "Did not meet early stopping. Best iteration is:\n",
      "[250]\tvalid_0's l1: 4.53248\tvalid_0's huber: 3.72348\tvalid_0's l2: 49.7121\n"
     ]
    },
    {
     "name": "stderr",
     "output_type": "stream",
     "text": [
      "2020-09-03 14:09:10.259 | INFO     | yspecies.selection:fit:82 - SEED: 2 | FOLD: 2 | VALIDATION_SPECIES: ['Vombatus_ursinus', 'Ailuropoda_melanoleuca']\n"
     ]
    },
    {
     "name": "stdout",
     "output_type": "stream",
     "text": [
      "Training until validation scores don't improve for 10 rounds\n",
      "[250]\tvalid_0's l1: 3.03076\tvalid_0's huber: 2.3824\tvalid_0's l2: 24.2874\n",
      "Did not meet early stopping. Best iteration is:\n",
      "[250]\tvalid_0's l1: 3.03076\tvalid_0's huber: 2.3824\tvalid_0's l2: 24.2874\n"
     ]
    },
    {
     "name": "stderr",
     "output_type": "stream",
     "text": [
      "2020-09-03 14:09:10.439 | INFO     | yspecies.selection:fit:82 - SEED: 2 | FOLD: 3 | VALIDATION_SPECIES: ['Rattus_norvegicus', 'Monodelphis_domestica']\n"
     ]
    },
    {
     "name": "stdout",
     "output_type": "stream",
     "text": [
      "Training until validation scores don't improve for 10 rounds\n",
      "[250]\tvalid_0's l1: 6.15987\tvalid_0's huber: 5.15222\tvalid_0's l2: 74.9194\n",
      "Did not meet early stopping. Best iteration is:\n",
      "[250]\tvalid_0's l1: 6.15987\tvalid_0's huber: 5.15222\tvalid_0's l2: 74.9194\n"
     ]
    },
    {
     "name": "stderr",
     "output_type": "stream",
     "text": [
      "2020-09-03 14:09:24.093 | INFO     | yspecies.selection:transform:226 - Metrics: \n",
      "Metrics(R2=0.9273324753189827, MAE=4.245725646204873, MSE=43.74583862929596, huber=3.4607405325011156)\n"
     ]
    },
    {
     "name": "stdout",
     "output_type": "stream",
     "text": [
      "3\n"
     ]
    },
    {
     "name": "stderr",
     "output_type": "stream",
     "text": [
      "2020-09-03 14:09:24.105 | INFO     | yspecies.selection:fit:78 - ===== fitting models with seed 3 =====\n",
      "2020-09-03 14:09:24.106 | INFO     | yspecies.selection:fit:79 - PARAMETERS:\n",
      "{'objective': 'regression', 'metric': {'mae', 'huber', 'mse'}, 'verbosity': -1, 'boosting_type': 'gbdt', 'lambda_l1': 0.3970175140579622, 'lambda_l2': 2.9232199794782074, 'max_leaves': 18, 'max_depth': 3, 'feature_fraction': 0.5479409728228775, 'bagging_fraction': 0.48406511309515066, 'learning_rate': 0.028070022667265784, 'min_data_in_leaf': 8, 'drop_rate': 0.23711009606906033, 'verbose': -1, 'seed': 2}\n",
      "2020-09-03 14:09:24.111 | INFO     | yspecies.selection:fit:82 - SEED: 3 | FOLD: 0 | VALIDATION_SPECIES: ['Microcebus_murinus', 'Pan_paniscus']\n"
     ]
    },
    {
     "name": "stdout",
     "output_type": "stream",
     "text": [
      "[LightGBM] [Warning] verbosity is set=-1, verbose=-1 will be ignored. Current value: verbosity=-1\n",
      "Training until validation scores don't improve for 10 rounds\n",
      "Early stopping, best iteration is:\n",
      "[181]\tvalid_0's l1: 3.61531\tvalid_0's huber: 2.88942\tvalid_0's l2: 33.3208\n"
     ]
    },
    {
     "name": "stderr",
     "output_type": "stream",
     "text": [
      "2020-09-03 14:09:24.302 | INFO     | yspecies.selection:fit:82 - SEED: 3 | FOLD: 1 | VALIDATION_SPECIES: ['Ursus_americanus', 'Gorilla_gorilla']\n"
     ]
    },
    {
     "name": "stdout",
     "output_type": "stream",
     "text": [
      "Training until validation scores don't improve for 10 rounds\n",
      "[250]\tvalid_0's l1: 6.62471\tvalid_0's huber: 5.59179\tvalid_0's l2: 113.845\n",
      "Did not meet early stopping. Best iteration is:\n",
      "[250]\tvalid_0's l1: 6.62471\tvalid_0's huber: 5.59179\tvalid_0's l2: 113.845\n"
     ]
    },
    {
     "name": "stderr",
     "output_type": "stream",
     "text": [
      "2020-09-03 14:09:24.531 | INFO     | yspecies.selection:fit:82 - SEED: 3 | FOLD: 2 | VALIDATION_SPECIES: ['Bos_taurus', 'Capra_hircus']\n"
     ]
    },
    {
     "name": "stdout",
     "output_type": "stream",
     "text": [
      "Training until validation scores don't improve for 10 rounds\n",
      "[250]\tvalid_0's l1: 3.28419\tvalid_0's huber: 2.60175\tvalid_0's l2: 31.0777\n",
      "Did not meet early stopping. Best iteration is:\n",
      "[250]\tvalid_0's l1: 3.28419\tvalid_0's huber: 2.60175\tvalid_0's l2: 31.0777\n"
     ]
    },
    {
     "name": "stderr",
     "output_type": "stream",
     "text": [
      "2020-09-03 14:09:24.756 | INFO     | yspecies.selection:fit:82 - SEED: 3 | FOLD: 3 | VALIDATION_SPECIES: ['Rhinolophus_ferrumequinum', 'Mus_musculus']\n"
     ]
    },
    {
     "name": "stdout",
     "output_type": "stream",
     "text": [
      "Training until validation scores don't improve for 10 rounds\n",
      "[250]\tvalid_0's l1: 2.39457\tvalid_0's huber: 1.825\tvalid_0's l2: 31.0384\n",
      "Did not meet early stopping. Best iteration is:\n",
      "[250]\tvalid_0's l1: 2.39457\tvalid_0's huber: 1.825\tvalid_0's l2: 31.0384\n"
     ]
    },
    {
     "name": "stderr",
     "output_type": "stream",
     "text": [
      "2020-09-03 14:09:37.671 | INFO     | yspecies.selection:transform:226 - Metrics: \n",
      "Metrics(R2=0.93007168052088, MAE=3.9796934735676146, MSE=52.32050510516353, huber=3.227133139832838)\n"
     ]
    },
    {
     "name": "stdout",
     "output_type": "stream",
     "text": [
      "4\n"
     ]
    },
    {
     "name": "stderr",
     "output_type": "stream",
     "text": [
      "2020-09-03 14:09:37.679 | INFO     | yspecies.selection:fit:78 - ===== fitting models with seed 4 =====\n",
      "2020-09-03 14:09:37.681 | INFO     | yspecies.selection:fit:79 - PARAMETERS:\n",
      "{'objective': 'regression', 'metric': {'mae', 'huber', 'mse'}, 'verbosity': -1, 'boosting_type': 'gbdt', 'lambda_l1': 0.3970175140579622, 'lambda_l2': 2.9232199794782074, 'max_leaves': 18, 'max_depth': 3, 'feature_fraction': 0.5479409728228775, 'bagging_fraction': 0.48406511309515066, 'learning_rate': 0.028070022667265784, 'min_data_in_leaf': 8, 'drop_rate': 0.23711009606906033, 'verbose': -1, 'seed': 3}\n",
      "2020-09-03 14:09:37.686 | INFO     | yspecies.selection:fit:82 - SEED: 4 | FOLD: 0 | VALIDATION_SPECIES: ['Macaca_fascicularis', 'Pan_troglodytes']\n"
     ]
    },
    {
     "name": "stdout",
     "output_type": "stream",
     "text": [
      "[LightGBM] [Warning] verbosity is set=-1, verbose=-1 will be ignored. Current value: verbosity=-1\n",
      "Training until validation scores don't improve for 10 rounds\n",
      "[250]\tvalid_0's l1: 3.03813\tvalid_0's huber: 2.38814\tvalid_0's l2: 29.9505\n",
      "Did not meet early stopping. Best iteration is:\n",
      "[250]\tvalid_0's l1: 3.03813\tvalid_0's huber: 2.38814\tvalid_0's l2: 29.9505\n"
     ]
    },
    {
     "name": "stderr",
     "output_type": "stream",
     "text": [
      "2020-09-03 14:09:37.909 | INFO     | yspecies.selection:fit:82 - SEED: 4 | FOLD: 1 | VALIDATION_SPECIES: ['Otolemur_garnettii', 'Ursus_americanus']\n"
     ]
    },
    {
     "name": "stdout",
     "output_type": "stream",
     "text": [
      "Training until validation scores don't improve for 10 rounds\n",
      "[250]\tvalid_0's l1: 3.37767\tvalid_0's huber: 2.71817\tvalid_0's l2: 56.0072\n",
      "Did not meet early stopping. Best iteration is:\n",
      "[250]\tvalid_0's l1: 3.37767\tvalid_0's huber: 2.71817\tvalid_0's l2: 56.0072\n"
     ]
    },
    {
     "name": "stderr",
     "output_type": "stream",
     "text": [
      "2020-09-03 14:09:38.120 | INFO     | yspecies.selection:fit:82 - SEED: 4 | FOLD: 2 | VALIDATION_SPECIES: ['Heterocephalus_glaber', 'Cavia_aperea']\n"
     ]
    },
    {
     "name": "stdout",
     "output_type": "stream",
     "text": [
      "Training until validation scores don't improve for 10 rounds\n",
      "[250]\tvalid_0's l1: 3.52868\tvalid_0's huber: 2.8505\tvalid_0's l2: 28.6931\n",
      "Did not meet early stopping. Best iteration is:\n",
      "[250]\tvalid_0's l1: 3.52868\tvalid_0's huber: 2.8505\tvalid_0's l2: 28.6931\n"
     ]
    },
    {
     "name": "stderr",
     "output_type": "stream",
     "text": [
      "2020-09-03 14:09:38.332 | INFO     | yspecies.selection:fit:82 - SEED: 4 | FOLD: 3 | VALIDATION_SPECIES: ['Pan_paniscus', 'Gorilla_gorilla']\n"
     ]
    },
    {
     "name": "stdout",
     "output_type": "stream",
     "text": [
      "Training until validation scores don't improve for 10 rounds\n",
      "[250]\tvalid_0's l1: 6.70095\tvalid_0's huber: 5.67627\tvalid_0's l2: 143.639\n",
      "Did not meet early stopping. Best iteration is:\n",
      "[250]\tvalid_0's l1: 6.70095\tvalid_0's huber: 5.67627\tvalid_0's l2: 143.639\n"
     ]
    },
    {
     "name": "stderr",
     "output_type": "stream",
     "text": [
      "2020-09-03 14:09:54.374 | INFO     | yspecies.selection:transform:226 - Metrics: \n",
      "Metrics(R2=0.9127882772972518, MAE=4.161356362088497, MSE=64.57248489222476, huber=3.4082691935776293)\n"
     ]
    },
    {
     "name": "stdout",
     "output_type": "stream",
     "text": [
      "5\n"
     ]
    },
    {
     "name": "stderr",
     "output_type": "stream",
     "text": [
      "2020-09-03 14:09:54.386 | INFO     | yspecies.selection:fit:78 - ===== fitting models with seed 5 =====\n",
      "2020-09-03 14:09:54.388 | INFO     | yspecies.selection:fit:79 - PARAMETERS:\n",
      "{'objective': 'regression', 'metric': {'mae', 'huber', 'mse'}, 'verbosity': -1, 'boosting_type': 'gbdt', 'lambda_l1': 0.3970175140579622, 'lambda_l2': 2.9232199794782074, 'max_leaves': 18, 'max_depth': 3, 'feature_fraction': 0.5479409728228775, 'bagging_fraction': 0.48406511309515066, 'learning_rate': 0.028070022667265784, 'min_data_in_leaf': 8, 'drop_rate': 0.23711009606906033, 'verbose': -1, 'seed': 4}\n",
      "2020-09-03 14:09:54.392 | INFO     | yspecies.selection:fit:82 - SEED: 5 | FOLD: 0 | VALIDATION_SPECIES: ['Mus_spicilegus', 'Canis_lupus_familiaris']\n"
     ]
    },
    {
     "name": "stdout",
     "output_type": "stream",
     "text": [
      "[LightGBM] [Warning] verbosity is set=-1, verbose=-1 will be ignored. Current value: verbosity=-1\n",
      "Training until validation scores don't improve for 10 rounds\n",
      "[250]\tvalid_0's l1: 2.74924\tvalid_0's huber: 2.12024\tvalid_0's l2: 19.1475\n",
      "Did not meet early stopping. Best iteration is:\n",
      "[249]\tvalid_0's l1: 2.74733\tvalid_0's huber: 2.1185\tvalid_0's l2: 19.1222\n"
     ]
    },
    {
     "name": "stderr",
     "output_type": "stream",
     "text": [
      "2020-09-03 14:09:54.597 | INFO     | yspecies.selection:fit:82 - SEED: 5 | FOLD: 1 | VALIDATION_SPECIES: ['Ovis_aries', 'Heterocephalus_glaber']\n"
     ]
    },
    {
     "name": "stdout",
     "output_type": "stream",
     "text": [
      "Training until validation scores don't improve for 10 rounds\n",
      "[250]\tvalid_0's l1: 4.41074\tvalid_0's huber: 3.63341\tvalid_0's l2: 113.539\n",
      "Did not meet early stopping. Best iteration is:\n",
      "[250]\tvalid_0's l1: 4.41074\tvalid_0's huber: 3.63341\tvalid_0's l2: 113.539\n"
     ]
    },
    {
     "name": "stderr",
     "output_type": "stream",
     "text": [
      "2020-09-03 14:09:54.802 | INFO     | yspecies.selection:fit:82 - SEED: 5 | FOLD: 2 | VALIDATION_SPECIES: ['Ursus_americanus', 'Oryctolagus_cuniculus']\n"
     ]
    },
    {
     "name": "stdout",
     "output_type": "stream",
     "text": [
      "Training until validation scores don't improve for 10 rounds\n",
      "[250]\tvalid_0's l1: 5.01602\tvalid_0's huber: 4.18163\tvalid_0's l2: 100.462\n",
      "Did not meet early stopping. Best iteration is:\n",
      "[250]\tvalid_0's l1: 5.01602\tvalid_0's huber: 4.18163\tvalid_0's l2: 100.462\n"
     ]
    },
    {
     "name": "stderr",
     "output_type": "stream",
     "text": [
      "2020-09-03 14:09:55.018 | INFO     | yspecies.selection:fit:82 - SEED: 5 | FOLD: 3 | VALIDATION_SPECIES: ['Cavia_aperea', 'Ailuropoda_melanoleuca']\n"
     ]
    },
    {
     "name": "stdout",
     "output_type": "stream",
     "text": [
      "Training until validation scores don't improve for 10 rounds\n",
      "[250]\tvalid_0's l1: 3.98837\tvalid_0's huber: 3.26261\tvalid_0's l2: 60.6803\n",
      "Did not meet early stopping. Best iteration is:\n",
      "[250]\tvalid_0's l1: 3.98837\tvalid_0's huber: 3.26261\tvalid_0's l2: 60.6803\n"
     ]
    },
    {
     "name": "stderr",
     "output_type": "stream",
     "text": [
      "2020-09-03 14:10:08.521 | INFO     | yspecies.selection:transform:226 - Metrics: \n",
      "Metrics(R2=0.8991514168559891, MAE=4.040611762728499, MSE=73.45084718978046, huber=3.299474083279076)\n"
     ]
    },
    {
     "name": "stdout",
     "output_type": "stream",
     "text": [
      "6\n"
     ]
    },
    {
     "name": "stderr",
     "output_type": "stream",
     "text": [
      "2020-09-03 14:10:08.529 | INFO     | yspecies.selection:fit:78 - ===== fitting models with seed 6 =====\n",
      "2020-09-03 14:10:08.532 | INFO     | yspecies.selection:fit:79 - PARAMETERS:\n",
      "{'objective': 'regression', 'metric': {'mae', 'huber', 'mse'}, 'verbosity': -1, 'boosting_type': 'gbdt', 'lambda_l1': 0.3970175140579622, 'lambda_l2': 2.9232199794782074, 'max_leaves': 18, 'max_depth': 3, 'feature_fraction': 0.5479409728228775, 'bagging_fraction': 0.48406511309515066, 'learning_rate': 0.028070022667265784, 'min_data_in_leaf': 8, 'drop_rate': 0.23711009606906033, 'verbose': -1, 'seed': 5}\n",
      "2020-09-03 14:10:08.536 | INFO     | yspecies.selection:fit:82 - SEED: 6 | FOLD: 0 | VALIDATION_SPECIES: ['Rhinolophus_ferrumequinum', 'Heterocephalus_glaber']\n"
     ]
    },
    {
     "name": "stdout",
     "output_type": "stream",
     "text": [
      "[LightGBM] [Warning] verbosity is set=-1, verbose=-1 will be ignored. Current value: verbosity=-1\n",
      "Training until validation scores don't improve for 10 rounds\n",
      "Early stopping, best iteration is:\n",
      "[238]\tvalid_0's l1: 3.26327\tvalid_0's huber: 2.60112\tvalid_0's l2: 30.3197\n"
     ]
    },
    {
     "name": "stderr",
     "output_type": "stream",
     "text": [
      "2020-09-03 14:10:08.722 | INFO     | yspecies.selection:fit:82 - SEED: 6 | FOLD: 1 | VALIDATION_SPECIES: ['Mus_spicilegus', 'Suricata_suricatta']\n"
     ]
    },
    {
     "name": "stdout",
     "output_type": "stream",
     "text": [
      "Training until validation scores don't improve for 10 rounds\n",
      "[250]\tvalid_0's l1: 3.7015\tvalid_0's huber: 3.00926\tvalid_0's l2: 45.3561\n",
      "Did not meet early stopping. Best iteration is:\n",
      "[250]\tvalid_0's l1: 3.7015\tvalid_0's huber: 3.00926\tvalid_0's l2: 45.3561\n"
     ]
    },
    {
     "name": "stderr",
     "output_type": "stream",
     "text": [
      "2020-09-03 14:10:08.908 | INFO     | yspecies.selection:fit:82 - SEED: 6 | FOLD: 2 | VALIDATION_SPECIES: ['Rhinopithecus_bieti', 'Ovis_aries']\n"
     ]
    },
    {
     "name": "stdout",
     "output_type": "stream",
     "text": [
      "Training until validation scores don't improve for 10 rounds\n",
      "[250]\tvalid_0's l1: 2.48599\tvalid_0's huber: 1.91326\tvalid_0's l2: 18.655\n",
      "Did not meet early stopping. Best iteration is:\n",
      "[248]\tvalid_0's l1: 2.4839\tvalid_0's huber: 1.91289\tvalid_0's l2: 18.6765\n"
     ]
    },
    {
     "name": "stderr",
     "output_type": "stream",
     "text": [
      "2020-09-03 14:10:09.094 | INFO     | yspecies.selection:fit:82 - SEED: 6 | FOLD: 3 | VALIDATION_SPECIES: ['Cavia_porcellus', 'Pan_troglodytes']\n"
     ]
    },
    {
     "name": "stdout",
     "output_type": "stream",
     "text": [
      "Training until validation scores don't improve for 10 rounds\n",
      "[250]\tvalid_0's l1: 3.46254\tvalid_0's huber: 2.77087\tvalid_0's l2: 46.9845\n",
      "Did not meet early stopping. Best iteration is:\n",
      "[250]\tvalid_0's l1: 3.46254\tvalid_0's huber: 2.77087\tvalid_0's l2: 46.9845\n"
     ]
    },
    {
     "name": "stderr",
     "output_type": "stream",
     "text": [
      "2020-09-03 14:10:22.644 | INFO     | yspecies.selection:transform:226 - Metrics: \n",
      "Metrics(R2=0.9508836688435903, MAE=3.2278032200844624, MSE=35.334208893990976, huber=2.57215347632478)\n"
     ]
    },
    {
     "name": "stdout",
     "output_type": "stream",
     "text": [
      "7\n"
     ]
    },
    {
     "name": "stderr",
     "output_type": "stream",
     "text": [
      "2020-09-03 14:10:22.652 | INFO     | yspecies.selection:fit:78 - ===== fitting models with seed 7 =====\n",
      "2020-09-03 14:10:22.654 | INFO     | yspecies.selection:fit:79 - PARAMETERS:\n",
      "{'objective': 'regression', 'metric': {'mae', 'huber', 'mse'}, 'verbosity': -1, 'boosting_type': 'gbdt', 'lambda_l1': 0.3970175140579622, 'lambda_l2': 2.9232199794782074, 'max_leaves': 18, 'max_depth': 3, 'feature_fraction': 0.5479409728228775, 'bagging_fraction': 0.48406511309515066, 'learning_rate': 0.028070022667265784, 'min_data_in_leaf': 8, 'drop_rate': 0.23711009606906033, 'verbose': -1, 'seed': 6}\n",
      "2020-09-03 14:10:22.658 | INFO     | yspecies.selection:fit:82 - SEED: 7 | FOLD: 0 | VALIDATION_SPECIES: ['Macaca_mulatta', 'Cavia_porcellus']\n"
     ]
    },
    {
     "name": "stdout",
     "output_type": "stream",
     "text": [
      "[LightGBM] [Warning] verbosity is set=-1, verbose=-1 will be ignored. Current value: verbosity=-1\n",
      "Training until validation scores don't improve for 10 rounds\n",
      "[250]\tvalid_0's l1: 3.13394\tvalid_0's huber: 2.47271\tvalid_0's l2: 25.2811\n",
      "Did not meet early stopping. Best iteration is:\n",
      "[250]\tvalid_0's l1: 3.13394\tvalid_0's huber: 2.47271\tvalid_0's l2: 25.2811\n"
     ]
    },
    {
     "name": "stderr",
     "output_type": "stream",
     "text": [
      "2020-09-03 14:10:22.951 | INFO     | yspecies.selection:fit:82 - SEED: 7 | FOLD: 1 | VALIDATION_SPECIES: ['Pan_paniscus', 'Capra_hircus']\n"
     ]
    },
    {
     "name": "stdout",
     "output_type": "stream",
     "text": [
      "Training until validation scores don't improve for 10 rounds\n",
      "[250]\tvalid_0's l1: 3.45205\tvalid_0's huber: 2.75314\tvalid_0's l2: 39.6412\n",
      "Did not meet early stopping. Best iteration is:\n",
      "[244]\tvalid_0's l1: 3.44938\tvalid_0's huber: 2.75104\tvalid_0's l2: 39.6849\n"
     ]
    },
    {
     "name": "stderr",
     "output_type": "stream",
     "text": [
      "2020-09-03 14:10:23.176 | INFO     | yspecies.selection:fit:82 - SEED: 7 | FOLD: 2 | VALIDATION_SPECIES: ['Otolemur_garnettii', 'Ictidomys_tridecemlineatus']\n"
     ]
    },
    {
     "name": "stdout",
     "output_type": "stream",
     "text": [
      "Training until validation scores don't improve for 10 rounds\n",
      "[250]\tvalid_0's l1: 3.83079\tvalid_0's huber: 3.11982\tvalid_0's l2: 37.4703\n",
      "Did not meet early stopping. Best iteration is:\n",
      "[250]\tvalid_0's l1: 3.83079\tvalid_0's huber: 3.11982\tvalid_0's l2: 37.4703\n"
     ]
    },
    {
     "name": "stderr",
     "output_type": "stream",
     "text": [
      "2020-09-03 14:10:23.428 | INFO     | yspecies.selection:fit:82 - SEED: 7 | FOLD: 3 | VALIDATION_SPECIES: ['Canis_lupus_familiaris', 'Ursus_americanus']\n"
     ]
    },
    {
     "name": "stdout",
     "output_type": "stream",
     "text": [
      "Training until validation scores don't improve for 10 rounds\n",
      "[250]\tvalid_0's l1: 3.40341\tvalid_0's huber: 2.75489\tvalid_0's l2: 42.4148\n",
      "Did not meet early stopping. Best iteration is:\n",
      "[250]\tvalid_0's l1: 3.40341\tvalid_0's huber: 2.75489\tvalid_0's l2: 42.4148\n"
     ]
    },
    {
     "name": "stderr",
     "output_type": "stream",
     "text": [
      "2020-09-03 14:10:36.289 | INFO     | yspecies.selection:transform:226 - Metrics: \n",
      "Metrics(R2=0.9496756678718176, MAE=3.45437992721789, MSE=36.21277196278989, huber=2.7748404354758245)\n"
     ]
    },
    {
     "name": "stdout",
     "output_type": "stream",
     "text": [
      "8\n"
     ]
    },
    {
     "name": "stderr",
     "output_type": "stream",
     "text": [
      "2020-09-03 14:10:36.297 | INFO     | yspecies.selection:fit:78 - ===== fitting models with seed 8 =====\n",
      "2020-09-03 14:10:36.299 | INFO     | yspecies.selection:fit:79 - PARAMETERS:\n",
      "{'objective': 'regression', 'metric': {'mae', 'huber', 'mse'}, 'verbosity': -1, 'boosting_type': 'gbdt', 'lambda_l1': 0.3970175140579622, 'lambda_l2': 2.9232199794782074, 'max_leaves': 18, 'max_depth': 3, 'feature_fraction': 0.5479409728228775, 'bagging_fraction': 0.48406511309515066, 'learning_rate': 0.028070022667265784, 'min_data_in_leaf': 8, 'drop_rate': 0.23711009606906033, 'verbose': -1, 'seed': 7}\n",
      "2020-09-03 14:10:36.304 | INFO     | yspecies.selection:fit:82 - SEED: 8 | FOLD: 0 | VALIDATION_SPECIES: ['Pan_paniscus', 'Suricata_suricatta']\n"
     ]
    },
    {
     "name": "stdout",
     "output_type": "stream",
     "text": [
      "[LightGBM] [Warning] verbosity is set=-1, verbose=-1 will be ignored. Current value: verbosity=-1\n",
      "Training until validation scores don't improve for 10 rounds\n",
      "Early stopping, best iteration is:\n",
      "[172]\tvalid_0's l1: 3.09571\tvalid_0's huber: 2.43833\tvalid_0's l2: 26.7504\n"
     ]
    },
    {
     "name": "stderr",
     "output_type": "stream",
     "text": [
      "2020-09-03 14:10:36.490 | INFO     | yspecies.selection:fit:82 - SEED: 8 | FOLD: 1 | VALIDATION_SPECIES: ['Macaca_fascicularis', 'Tupaia_belangeri']\n"
     ]
    },
    {
     "name": "stdout",
     "output_type": "stream",
     "text": [
      "Training until validation scores don't improve for 10 rounds\n",
      "[250]\tvalid_0's l1: 3.11966\tvalid_0's huber: 2.47253\tvalid_0's l2: 30.38\n",
      "Did not meet early stopping. Best iteration is:\n",
      "[249]\tvalid_0's l1: 3.11943\tvalid_0's huber: 2.47269\tvalid_0's l2: 30.4092\n"
     ]
    },
    {
     "name": "stderr",
     "output_type": "stream",
     "text": [
      "2020-09-03 14:10:36.695 | INFO     | yspecies.selection:fit:82 - SEED: 8 | FOLD: 2 | VALIDATION_SPECIES: ['Ursus_americanus', 'Capra_hircus']\n"
     ]
    },
    {
     "name": "stdout",
     "output_type": "stream",
     "text": [
      "Training until validation scores don't improve for 10 rounds\n",
      "[250]\tvalid_0's l1: 3.07815\tvalid_0's huber: 2.44449\tvalid_0's l2: 34.2997\n",
      "Did not meet early stopping. Best iteration is:\n",
      "[250]\tvalid_0's l1: 3.07815\tvalid_0's huber: 2.44449\tvalid_0's l2: 34.2997\n"
     ]
    },
    {
     "name": "stderr",
     "output_type": "stream",
     "text": [
      "2020-09-03 14:10:36.905 | INFO     | yspecies.selection:fit:82 - SEED: 8 | FOLD: 3 | VALIDATION_SPECIES: ['Bos_taurus', 'Rhinolophus_ferrumequinum']\n"
     ]
    },
    {
     "name": "stdout",
     "output_type": "stream",
     "text": [
      "Training until validation scores don't improve for 10 rounds\n",
      "[250]\tvalid_0's l1: 2.91256\tvalid_0's huber: 2.29257\tvalid_0's l2: 37.8423\n",
      "Did not meet early stopping. Best iteration is:\n",
      "[250]\tvalid_0's l1: 2.91256\tvalid_0's huber: 2.29257\tvalid_0's l2: 37.8423\n"
     ]
    },
    {
     "name": "stderr",
     "output_type": "stream",
     "text": [
      "2020-09-03 14:10:47.875 | INFO     | yspecies.selection:transform:226 - Metrics: \n",
      "Metrics(R2=0.9548062834376382, MAE=3.0514612119018953, MSE=32.325379666719314, huber=2.4126947151754035)\n"
     ]
    },
    {
     "name": "stdout",
     "output_type": "stream",
     "text": [
      "9\n"
     ]
    },
    {
     "name": "stderr",
     "output_type": "stream",
     "text": [
      "2020-09-03 14:10:47.887 | INFO     | yspecies.selection:fit:78 - ===== fitting models with seed 9 =====\n",
      "2020-09-03 14:10:47.889 | INFO     | yspecies.selection:fit:79 - PARAMETERS:\n",
      "{'objective': 'regression', 'metric': {'mae', 'huber', 'mse'}, 'verbosity': -1, 'boosting_type': 'gbdt', 'lambda_l1': 0.3970175140579622, 'lambda_l2': 2.9232199794782074, 'max_leaves': 18, 'max_depth': 3, 'feature_fraction': 0.5479409728228775, 'bagging_fraction': 0.48406511309515066, 'learning_rate': 0.028070022667265784, 'min_data_in_leaf': 8, 'drop_rate': 0.23711009606906033, 'verbose': -1, 'seed': 8}\n",
      "2020-09-03 14:10:47.894 | INFO     | yspecies.selection:fit:82 - SEED: 9 | FOLD: 0 | VALIDATION_SPECIES: ['Ictidomys_tridecemlineatus', 'Aotus_nancymaae']\n"
     ]
    },
    {
     "name": "stdout",
     "output_type": "stream",
     "text": [
      "[LightGBM] [Warning] verbosity is set=-1, verbose=-1 will be ignored. Current value: verbosity=-1\n",
      "Training until validation scores don't improve for 10 rounds\n",
      "[250]\tvalid_0's l1: 3.33021\tvalid_0's huber: 2.67685\tvalid_0's l2: 31.43\n",
      "Did not meet early stopping. Best iteration is:\n",
      "[250]\tvalid_0's l1: 3.33021\tvalid_0's huber: 2.67685\tvalid_0's l2: 31.43\n"
     ]
    },
    {
     "name": "stderr",
     "output_type": "stream",
     "text": [
      "2020-09-03 14:10:48.137 | INFO     | yspecies.selection:fit:82 - SEED: 9 | FOLD: 1 | VALIDATION_SPECIES: ['Pan_troglodytes', 'Oryctolagus_cuniculus']\n"
     ]
    },
    {
     "name": "stdout",
     "output_type": "stream",
     "text": [
      "Training until validation scores don't improve for 10 rounds\n",
      "[250]\tvalid_0's l1: 5.05395\tvalid_0's huber: 4.19907\tvalid_0's l2: 83.8301\n",
      "Did not meet early stopping. Best iteration is:\n",
      "[250]\tvalid_0's l1: 5.05395\tvalid_0's huber: 4.19907\tvalid_0's l2: 83.8301\n"
     ]
    },
    {
     "name": "stderr",
     "output_type": "stream",
     "text": [
      "2020-09-03 14:10:48.363 | INFO     | yspecies.selection:fit:82 - SEED: 9 | FOLD: 2 | VALIDATION_SPECIES: ['Mesocricetus_auratus', 'Meriones_unguiculatus']\n"
     ]
    },
    {
     "name": "stdout",
     "output_type": "stream",
     "text": [
      "Training until validation scores don't improve for 10 rounds\n",
      "[250]\tvalid_0's l1: 3.83494\tvalid_0's huber: 3.10662\tvalid_0's l2: 47.4711\n",
      "Did not meet early stopping. Best iteration is:\n",
      "[250]\tvalid_0's l1: 3.83494\tvalid_0's huber: 3.10662\tvalid_0's l2: 47.4711\n"
     ]
    },
    {
     "name": "stderr",
     "output_type": "stream",
     "text": [
      "2020-09-03 14:10:48.580 | INFO     | yspecies.selection:fit:82 - SEED: 9 | FOLD: 3 | VALIDATION_SPECIES: ['Gorilla_gorilla', 'Microcebus_murinus']\n"
     ]
    },
    {
     "name": "stdout",
     "output_type": "stream",
     "text": [
      "Training until validation scores don't improve for 10 rounds\n",
      "[250]\tvalid_0's l1: 5.39067\tvalid_0's huber: 4.51967\tvalid_0's l2: 103.647\n",
      "Did not meet early stopping. Best iteration is:\n",
      "[250]\tvalid_0's l1: 5.39067\tvalid_0's huber: 4.51967\tvalid_0's l2: 103.647\n"
     ]
    },
    {
     "name": "stderr",
     "output_type": "stream",
     "text": [
      "2020-09-03 14:11:03.355 | INFO     | yspecies.selection:transform:226 - Metrics: \n",
      "Metrics(R2=0.9092996778169944, MAE=4.4024420270830635, MSE=66.59449257865109, huber=3.625552634597209)\n",
      "MultiObjectiveTrial is experimental (supported from v1.4.0). The interface can change in the future.\n",
      "MultiObjectiveStudy is experimental (supported from v1.4.0). The interface can change in the future.\n",
      "[I 2020-09-03 14:11:04,114] Trial 483 finished with values: [0.9233531814060747, 3.196841460852501, 0.5241074880796481] with parameters: {'boosting_type': 'gbdt', 'lambda_l1': 0.3970175140579622, 'lambda_l2': 2.9232199794782074, 'max_leaves': 18, 'max_depth': 3, 'feature_fraction': 0.5479409728228775, 'bagging_fraction': 0.48406511309515066, 'learning_rate': 0.028070022667265784, 'min_data_in_leaf': 8, 'drop_rate': 0.23711009606906033}.\n",
      "MultiObjectiveStudy is experimental (supported from v1.4.0). The interface can change in the future.\n",
      "FrozenMultiObjectiveTrial is experimental (supported from v1.4.0). The interface can change in the future.\n",
      "MultiObjectiveStudy is experimental (supported from v1.4.0). The interface can change in the future.\n",
      "FrozenMultiObjectiveTrial is experimental (supported from v1.4.0). The interface can change in the future.\n",
      "FrozenMultiObjectiveTrial is experimental (supported from v1.4.0). The interface can change in the future.\n",
      "MultiObjectiveTrial is experimental (supported from v1.4.0). The interface can change in the future.\n",
      "MultiObjectiveStudy is experimental (supported from v1.4.0). The interface can change in the future.\n",
      "FrozenMultiObjectiveTrial is experimental (supported from v1.4.0). The interface can change in the future.\n"
     ]
    },
    {
     "name": "stdout",
     "output_type": "stream",
     "text": [
      "0\n"
     ]
    },
    {
     "name": "stderr",
     "output_type": "stream",
     "text": [
      "2020-09-03 14:11:04.707 | INFO     | yspecies.selection:fit:78 - ===== fitting models with seed 0 =====\n",
      "2020-09-03 14:11:04.709 | INFO     | yspecies.selection:fit:79 - PARAMETERS:\n",
      "{'objective': 'regression', 'metric': {'mae', 'huber', 'mse'}, 'verbosity': -1, 'boosting_type': 'dart', 'lambda_l1': 2.1188796141799573, 'lambda_l2': 2.3500616173039672, 'max_leaves': 17, 'max_depth': 4, 'feature_fraction': 0.5479409728228775, 'bagging_fraction': 0.8082178403494868, 'learning_rate': 0.05156990108326413, 'min_data_in_leaf': 3, 'drop_rate': 0.27117231134759434, 'verbose': -1}\n",
      "2020-09-03 14:11:04.714 | INFO     | yspecies.selection:fit:82 - SEED: 0 | FOLD: 0 | VALIDATION_SPECIES: ['Gorilla_gorilla', 'Pan_paniscus']\n"
     ]
    },
    {
     "name": "stdout",
     "output_type": "stream",
     "text": [
      "[LightGBM] [Warning] verbosity is set=-1, verbose=-1 will be ignored. Current value: verbosity=-1\n"
     ]
    },
    {
     "name": "stderr",
     "output_type": "stream",
     "text": [
      "Early stopping is not available in dart mode\n"
     ]
    },
    {
     "name": "stdout",
     "output_type": "stream",
     "text": [
      "[250]\tvalid_0's l1: 10.7235\tvalid_0's huber: 9.30479\tvalid_0's l2: 305.497\n"
     ]
    },
    {
     "name": "stderr",
     "output_type": "stream",
     "text": [
      "2020-09-03 14:11:05.376 | INFO     | yspecies.selection:fit:82 - SEED: 0 | FOLD: 1 | VALIDATION_SPECIES: ['Heterocephalus_glaber', 'Capra_hircus']\n"
     ]
    },
    {
     "name": "stdout",
     "output_type": "stream",
     "text": [
      "[250]\tvalid_0's l1: 4.91523\tvalid_0's huber: 4.08412\tvalid_0's l2: 97.8113\n"
     ]
    },
    {
     "name": "stderr",
     "output_type": "stream",
     "text": [
      "2020-09-03 14:11:06.042 | INFO     | yspecies.selection:fit:82 - SEED: 0 | FOLD: 2 | VALIDATION_SPECIES: ['Bos_taurus', 'Otolemur_garnettii']\n"
     ]
    },
    {
     "name": "stdout",
     "output_type": "stream",
     "text": [
      "[250]\tvalid_0's l1: 4.27001\tvalid_0's huber: 3.5268\tvalid_0's l2: 49.6394\n"
     ]
    },
    {
     "name": "stderr",
     "output_type": "stream",
     "text": [
      "2020-09-03 14:11:06.793 | INFO     | yspecies.selection:fit:82 - SEED: 0 | FOLD: 3 | VALIDATION_SPECIES: ['Macaca_nemestrina', 'Microcebus_murinus']\n"
     ]
    },
    {
     "name": "stdout",
     "output_type": "stream",
     "text": [
      "[250]\tvalid_0's l1: 3.46025\tvalid_0's huber: 2.79922\tvalid_0's l2: 88.0105\n"
     ]
    },
    {
     "name": "stderr",
     "output_type": "stream",
     "text": [
      "2020-09-03 14:11:19.068 | INFO     | yspecies.selection:transform:226 - Metrics: \n",
      "Metrics(R2=0.8229340181106155, MAE=5.842238692996111, MSE=135.23944961318603, huber=4.928730316957038)\n"
     ]
    },
    {
     "name": "stdout",
     "output_type": "stream",
     "text": [
      "1\n"
     ]
    },
    {
     "name": "stderr",
     "output_type": "stream",
     "text": [
      "2020-09-03 14:11:19.076 | INFO     | yspecies.selection:fit:78 - ===== fitting models with seed 1 =====\n",
      "2020-09-03 14:11:19.078 | INFO     | yspecies.selection:fit:79 - PARAMETERS:\n",
      "{'objective': 'regression', 'metric': {'mae', 'huber', 'mse'}, 'verbosity': -1, 'boosting_type': 'dart', 'lambda_l1': 2.1188796141799573, 'lambda_l2': 2.3500616173039672, 'max_leaves': 17, 'max_depth': 4, 'feature_fraction': 0.5479409728228775, 'bagging_fraction': 0.8082178403494868, 'learning_rate': 0.05156990108326413, 'min_data_in_leaf': 3, 'drop_rate': 0.27117231134759434, 'verbose': -1, 'seed': 0}\n",
      "2020-09-03 14:11:19.083 | INFO     | yspecies.selection:fit:82 - SEED: 1 | FOLD: 0 | VALIDATION_SPECIES: ['Felis_catus', 'Ursus_americanus']\n"
     ]
    },
    {
     "name": "stdout",
     "output_type": "stream",
     "text": [
      "[LightGBM] [Warning] verbosity is set=-1, verbose=-1 will be ignored. Current value: verbosity=-1\n"
     ]
    },
    {
     "name": "stderr",
     "output_type": "stream",
     "text": [
      "Early stopping is not available in dart mode\n"
     ]
    },
    {
     "name": "stdout",
     "output_type": "stream",
     "text": [
      "[250]\tvalid_0's l1: 4.77187\tvalid_0's huber: 3.96668\tvalid_0's l2: 62.3646\n"
     ]
    },
    {
     "name": "stderr",
     "output_type": "stream",
     "text": [
      "2020-09-03 14:11:19.869 | INFO     | yspecies.selection:fit:82 - SEED: 1 | FOLD: 1 | VALIDATION_SPECIES: ['Heterocephalus_glaber', 'Vombatus_ursinus']\n"
     ]
    },
    {
     "name": "stdout",
     "output_type": "stream",
     "text": [
      "[250]\tvalid_0's l1: 5.95464\tvalid_0's huber: 5.03177\tvalid_0's l2: 132.599\n"
     ]
    },
    {
     "name": "stderr",
     "output_type": "stream",
     "text": [
      "2020-09-03 14:11:20.633 | INFO     | yspecies.selection:fit:82 - SEED: 1 | FOLD: 2 | VALIDATION_SPECIES: ['Macaca_fascicularis', 'Rhinopithecus_bieti']\n"
     ]
    },
    {
     "name": "stdout",
     "output_type": "stream",
     "text": [
      "[250]\tvalid_0's l1: 3.61339\tvalid_0's huber: 2.94814\tvalid_0's l2: 44.3178\n"
     ]
    },
    {
     "name": "stderr",
     "output_type": "stream",
     "text": [
      "2020-09-03 14:11:21.402 | INFO     | yspecies.selection:fit:82 - SEED: 1 | FOLD: 3 | VALIDATION_SPECIES: ['Gorilla_gorilla', 'Ovis_aries']\n"
     ]
    },
    {
     "name": "stdout",
     "output_type": "stream",
     "text": [
      "[250]\tvalid_0's l1: 7.52379\tvalid_0's huber: 6.4527\tvalid_0's l2: 226.961\n"
     ]
    },
    {
     "name": "stderr",
     "output_type": "stream",
     "text": [
      "2020-09-03 14:11:35.474 | INFO     | yspecies.selection:transform:226 - Metrics: \n",
      "Metrics(R2=0.8338830479158005, MAE=5.465923798046029, MSE=116.5606468797535, huber=4.599821653021598)\n"
     ]
    },
    {
     "name": "stdout",
     "output_type": "stream",
     "text": [
      "2\n"
     ]
    },
    {
     "name": "stderr",
     "output_type": "stream",
     "text": [
      "2020-09-03 14:11:35.483 | INFO     | yspecies.selection:fit:78 - ===== fitting models with seed 2 =====\n",
      "2020-09-03 14:11:35.485 | INFO     | yspecies.selection:fit:79 - PARAMETERS:\n",
      "{'objective': 'regression', 'metric': {'mae', 'huber', 'mse'}, 'verbosity': -1, 'boosting_type': 'dart', 'lambda_l1': 2.1188796141799573, 'lambda_l2': 2.3500616173039672, 'max_leaves': 17, 'max_depth': 4, 'feature_fraction': 0.5479409728228775, 'bagging_fraction': 0.8082178403494868, 'learning_rate': 0.05156990108326413, 'min_data_in_leaf': 3, 'drop_rate': 0.27117231134759434, 'verbose': -1, 'seed': 1}\n",
      "2020-09-03 14:11:35.489 | INFO     | yspecies.selection:fit:82 - SEED: 2 | FOLD: 0 | VALIDATION_SPECIES: ['Rhinopithecus_bieti', 'Ursus_americanus']\n"
     ]
    },
    {
     "name": "stdout",
     "output_type": "stream",
     "text": [
      "[LightGBM] [Warning] verbosity is set=-1, verbose=-1 will be ignored. Current value: verbosity=-1\n"
     ]
    },
    {
     "name": "stderr",
     "output_type": "stream",
     "text": [
      "Early stopping is not available in dart mode\n"
     ]
    },
    {
     "name": "stdout",
     "output_type": "stream",
     "text": [
      "[250]\tvalid_0's l1: 4.85721\tvalid_0's huber: 4.01596\tvalid_0's l2: 52.1856\n"
     ]
    },
    {
     "name": "stderr",
     "output_type": "stream",
     "text": [
      "2020-09-03 14:11:36.207 | INFO     | yspecies.selection:fit:82 - SEED: 2 | FOLD: 1 | VALIDATION_SPECIES: ['Aotus_nancymaae', 'Phascolarctos_cinereus']\n"
     ]
    },
    {
     "name": "stdout",
     "output_type": "stream",
     "text": [
      "[250]\tvalid_0's l1: 6.07907\tvalid_0's huber: 5.10693\tvalid_0's l2: 94.5117\n"
     ]
    },
    {
     "name": "stderr",
     "output_type": "stream",
     "text": [
      "2020-09-03 14:11:36.888 | INFO     | yspecies.selection:fit:82 - SEED: 2 | FOLD: 2 | VALIDATION_SPECIES: ['Vombatus_ursinus', 'Ailuropoda_melanoleuca']\n"
     ]
    },
    {
     "name": "stdout",
     "output_type": "stream",
     "text": [
      "[250]\tvalid_0's l1: 4.94503\tvalid_0's huber: 4.09367\tvalid_0's l2: 61.6557\n"
     ]
    },
    {
     "name": "stderr",
     "output_type": "stream",
     "text": [
      "2020-09-03 14:11:37.560 | INFO     | yspecies.selection:fit:82 - SEED: 2 | FOLD: 3 | VALIDATION_SPECIES: ['Rattus_norvegicus', 'Monodelphis_domestica']\n"
     ]
    },
    {
     "name": "stdout",
     "output_type": "stream",
     "text": [
      "[250]\tvalid_0's l1: 5.96814\tvalid_0's huber: 4.99065\tvalid_0's l2: 83.4727\n"
     ]
    },
    {
     "name": "stderr",
     "output_type": "stream",
     "text": [
      "2020-09-03 14:11:49.493 | INFO     | yspecies.selection:transform:226 - Metrics: \n",
      "Metrics(R2=0.890019519308766, MAE=5.4623636946942264, MSE=72.95641602244982, huber=4.551802878732491)\n"
     ]
    },
    {
     "name": "stdout",
     "output_type": "stream",
     "text": [
      "3\n"
     ]
    },
    {
     "name": "stderr",
     "output_type": "stream",
     "text": [
      "2020-09-03 14:11:49.501 | INFO     | yspecies.selection:fit:78 - ===== fitting models with seed 3 =====\n",
      "2020-09-03 14:11:49.503 | INFO     | yspecies.selection:fit:79 - PARAMETERS:\n",
      "{'objective': 'regression', 'metric': {'mae', 'huber', 'mse'}, 'verbosity': -1, 'boosting_type': 'dart', 'lambda_l1': 2.1188796141799573, 'lambda_l2': 2.3500616173039672, 'max_leaves': 17, 'max_depth': 4, 'feature_fraction': 0.5479409728228775, 'bagging_fraction': 0.8082178403494868, 'learning_rate': 0.05156990108326413, 'min_data_in_leaf': 3, 'drop_rate': 0.27117231134759434, 'verbose': -1, 'seed': 2}\n",
      "2020-09-03 14:11:49.507 | INFO     | yspecies.selection:fit:82 - SEED: 3 | FOLD: 0 | VALIDATION_SPECIES: ['Microcebus_murinus', 'Pan_paniscus']\n"
     ]
    },
    {
     "name": "stdout",
     "output_type": "stream",
     "text": [
      "[LightGBM] [Warning] verbosity is set=-1, verbose=-1 will be ignored. Current value: verbosity=-1\n"
     ]
    },
    {
     "name": "stderr",
     "output_type": "stream",
     "text": [
      "Early stopping is not available in dart mode\n"
     ]
    },
    {
     "name": "stdout",
     "output_type": "stream",
     "text": [
      "[250]\tvalid_0's l1: 4.98116\tvalid_0's huber: 4.14152\tvalid_0's l2: 62.5613\n"
     ]
    },
    {
     "name": "stderr",
     "output_type": "stream",
     "text": [
      "2020-09-03 14:11:50.339 | INFO     | yspecies.selection:fit:82 - SEED: 3 | FOLD: 1 | VALIDATION_SPECIES: ['Ursus_americanus', 'Gorilla_gorilla']\n"
     ]
    },
    {
     "name": "stdout",
     "output_type": "stream",
     "text": [
      "[250]\tvalid_0's l1: 9.20693\tvalid_0's huber: 7.92812\tvalid_0's l2: 215.493\n"
     ]
    },
    {
     "name": "stderr",
     "output_type": "stream",
     "text": [
      "2020-09-03 14:11:51.078 | INFO     | yspecies.selection:fit:82 - SEED: 3 | FOLD: 2 | VALIDATION_SPECIES: ['Bos_taurus', 'Capra_hircus']\n"
     ]
    },
    {
     "name": "stdout",
     "output_type": "stream",
     "text": [
      "[250]\tvalid_0's l1: 4.49013\tvalid_0's huber: 3.7096\tvalid_0's l2: 52.6002\n"
     ]
    },
    {
     "name": "stderr",
     "output_type": "stream",
     "text": [
      "2020-09-03 14:11:51.901 | INFO     | yspecies.selection:fit:82 - SEED: 3 | FOLD: 3 | VALIDATION_SPECIES: ['Rhinolophus_ferrumequinum', 'Mus_musculus']\n"
     ]
    },
    {
     "name": "stdout",
     "output_type": "stream",
     "text": [
      "[250]\tvalid_0's l1: 3.4665\tvalid_0's huber: 2.78875\tvalid_0's l2: 78.4292\n"
     ]
    },
    {
     "name": "stderr",
     "output_type": "stream",
     "text": [
      "2020-09-03 14:12:04.366 | INFO     | yspecies.selection:transform:226 - Metrics: \n",
      "Metrics(R2=0.8602010894498782, MAE=5.536181401354796, MSE=102.27099195125817, huber=4.6419986013502)\n"
     ]
    },
    {
     "name": "stdout",
     "output_type": "stream",
     "text": [
      "4\n"
     ]
    },
    {
     "name": "stderr",
     "output_type": "stream",
     "text": [
      "2020-09-03 14:12:04.374 | INFO     | yspecies.selection:fit:78 - ===== fitting models with seed 4 =====\n",
      "2020-09-03 14:12:04.376 | INFO     | yspecies.selection:fit:79 - PARAMETERS:\n",
      "{'objective': 'regression', 'metric': {'mae', 'huber', 'mse'}, 'verbosity': -1, 'boosting_type': 'dart', 'lambda_l1': 2.1188796141799573, 'lambda_l2': 2.3500616173039672, 'max_leaves': 17, 'max_depth': 4, 'feature_fraction': 0.5479409728228775, 'bagging_fraction': 0.8082178403494868, 'learning_rate': 0.05156990108326413, 'min_data_in_leaf': 3, 'drop_rate': 0.27117231134759434, 'verbose': -1, 'seed': 3}\n",
      "2020-09-03 14:12:04.380 | INFO     | yspecies.selection:fit:82 - SEED: 4 | FOLD: 0 | VALIDATION_SPECIES: ['Macaca_fascicularis', 'Pan_troglodytes']\n"
     ]
    },
    {
     "name": "stdout",
     "output_type": "stream",
     "text": [
      "[LightGBM] [Warning] verbosity is set=-1, verbose=-1 will be ignored. Current value: verbosity=-1\n"
     ]
    },
    {
     "name": "stderr",
     "output_type": "stream",
     "text": [
      "Early stopping is not available in dart mode\n"
     ]
    },
    {
     "name": "stdout",
     "output_type": "stream",
     "text": [
      "[250]\tvalid_0's l1: 4.89667\tvalid_0's huber: 4.06861\tvalid_0's l2: 73.1019\n"
     ]
    },
    {
     "name": "stderr",
     "output_type": "stream",
     "text": [
      "2020-09-03 14:12:05.283 | INFO     | yspecies.selection:fit:82 - SEED: 4 | FOLD: 1 | VALIDATION_SPECIES: ['Otolemur_garnettii', 'Ursus_americanus']\n"
     ]
    },
    {
     "name": "stdout",
     "output_type": "stream",
     "text": [
      "[250]\tvalid_0's l1: 5.27777\tvalid_0's huber: 4.4085\tvalid_0's l2: 112.655\n"
     ]
    },
    {
     "name": "stderr",
     "output_type": "stream",
     "text": [
      "2020-09-03 14:12:05.943 | INFO     | yspecies.selection:fit:82 - SEED: 4 | FOLD: 2 | VALIDATION_SPECIES: ['Heterocephalus_glaber', 'Cavia_aperea']\n"
     ]
    },
    {
     "name": "stdout",
     "output_type": "stream",
     "text": [
      "[250]\tvalid_0's l1: 4.75215\tvalid_0's huber: 3.93138\tvalid_0's l2: 53.1533\n"
     ]
    },
    {
     "name": "stderr",
     "output_type": "stream",
     "text": [
      "2020-09-03 14:12:06.776 | INFO     | yspecies.selection:fit:82 - SEED: 4 | FOLD: 3 | VALIDATION_SPECIES: ['Pan_paniscus', 'Gorilla_gorilla']\n"
     ]
    },
    {
     "name": "stdout",
     "output_type": "stream",
     "text": [
      "[250]\tvalid_0's l1: 9.9544\tvalid_0's huber: 8.60874\tvalid_0's l2: 283.08\n"
     ]
    },
    {
     "name": "stderr",
     "output_type": "stream",
     "text": [
      "2020-09-03 14:12:20.528 | INFO     | yspecies.selection:transform:226 - Metrics: \n",
      "Metrics(R2=0.8241922198877796, MAE=6.220244694583812, MSE=130.49757259597698, huber=5.254307327159204)\n"
     ]
    },
    {
     "name": "stdout",
     "output_type": "stream",
     "text": [
      "5\n"
     ]
    },
    {
     "name": "stderr",
     "output_type": "stream",
     "text": [
      "2020-09-03 14:12:20.536 | INFO     | yspecies.selection:fit:78 - ===== fitting models with seed 5 =====\n",
      "2020-09-03 14:12:20.538 | INFO     | yspecies.selection:fit:79 - PARAMETERS:\n",
      "{'objective': 'regression', 'metric': {'mae', 'huber', 'mse'}, 'verbosity': -1, 'boosting_type': 'dart', 'lambda_l1': 2.1188796141799573, 'lambda_l2': 2.3500616173039672, 'max_leaves': 17, 'max_depth': 4, 'feature_fraction': 0.5479409728228775, 'bagging_fraction': 0.8082178403494868, 'learning_rate': 0.05156990108326413, 'min_data_in_leaf': 3, 'drop_rate': 0.27117231134759434, 'verbose': -1, 'seed': 4}\n",
      "2020-09-03 14:12:20.542 | INFO     | yspecies.selection:fit:82 - SEED: 5 | FOLD: 0 | VALIDATION_SPECIES: ['Mus_spicilegus', 'Canis_lupus_familiaris']\n"
     ]
    },
    {
     "name": "stdout",
     "output_type": "stream",
     "text": [
      "[LightGBM] [Warning] verbosity is set=-1, verbose=-1 will be ignored. Current value: verbosity=-1\n"
     ]
    },
    {
     "name": "stderr",
     "output_type": "stream",
     "text": [
      "Early stopping is not available in dart mode\n"
     ]
    },
    {
     "name": "stdout",
     "output_type": "stream",
     "text": [
      "[250]\tvalid_0's l1: 3.7352\tvalid_0's huber: 3.02237\tvalid_0's l2: 43.2767\n"
     ]
    },
    {
     "name": "stderr",
     "output_type": "stream",
     "text": [
      "2020-09-03 14:12:21.336 | INFO     | yspecies.selection:fit:82 - SEED: 5 | FOLD: 1 | VALIDATION_SPECIES: ['Ovis_aries', 'Heterocephalus_glaber']\n"
     ]
    },
    {
     "name": "stdout",
     "output_type": "stream",
     "text": [
      "[250]\tvalid_0's l1: 5.5232\tvalid_0's huber: 4.63908\tvalid_0's l2: 138.242\n"
     ]
    },
    {
     "name": "stderr",
     "output_type": "stream",
     "text": [
      "2020-09-03 14:12:22.030 | INFO     | yspecies.selection:fit:82 - SEED: 5 | FOLD: 2 | VALIDATION_SPECIES: ['Ursus_americanus', 'Oryctolagus_cuniculus']\n"
     ]
    },
    {
     "name": "stdout",
     "output_type": "stream",
     "text": [
      "[250]\tvalid_0's l1: 6.33764\tvalid_0's huber: 5.39361\tvalid_0's l2: 127.875\n"
     ]
    },
    {
     "name": "stderr",
     "output_type": "stream",
     "text": [
      "2020-09-03 14:12:22.741 | INFO     | yspecies.selection:fit:82 - SEED: 5 | FOLD: 3 | VALIDATION_SPECIES: ['Cavia_aperea', 'Ailuropoda_melanoleuca']\n"
     ]
    },
    {
     "name": "stdout",
     "output_type": "stream",
     "text": [
      "[250]\tvalid_0's l1: 4.97754\tvalid_0's huber: 4.16255\tvalid_0's l2: 111.863\n"
     ]
    },
    {
     "name": "stderr",
     "output_type": "stream",
     "text": [
      "2020-09-03 14:12:34.690 | INFO     | yspecies.selection:transform:226 - Metrics: \n",
      "Metrics(R2=0.8551420306373881, MAE=5.143394908604307, MSE=105.31443324152704, huber=4.304403719418107)\n"
     ]
    },
    {
     "name": "stdout",
     "output_type": "stream",
     "text": [
      "6\n"
     ]
    },
    {
     "name": "stderr",
     "output_type": "stream",
     "text": [
      "2020-09-03 14:12:34.698 | INFO     | yspecies.selection:fit:78 - ===== fitting models with seed 6 =====\n",
      "2020-09-03 14:12:34.699 | INFO     | yspecies.selection:fit:79 - PARAMETERS:\n",
      "{'objective': 'regression', 'metric': {'mae', 'huber', 'mse'}, 'verbosity': -1, 'boosting_type': 'dart', 'lambda_l1': 2.1188796141799573, 'lambda_l2': 2.3500616173039672, 'max_leaves': 17, 'max_depth': 4, 'feature_fraction': 0.5479409728228775, 'bagging_fraction': 0.8082178403494868, 'learning_rate': 0.05156990108326413, 'min_data_in_leaf': 3, 'drop_rate': 0.27117231134759434, 'verbose': -1, 'seed': 5}\n",
      "2020-09-03 14:12:34.703 | INFO     | yspecies.selection:fit:82 - SEED: 6 | FOLD: 0 | VALIDATION_SPECIES: ['Rhinolophus_ferrumequinum', 'Heterocephalus_glaber']\n"
     ]
    },
    {
     "name": "stdout",
     "output_type": "stream",
     "text": [
      "[LightGBM] [Warning] verbosity is set=-1, verbose=-1 will be ignored. Current value: verbosity=-1\n"
     ]
    },
    {
     "name": "stderr",
     "output_type": "stream",
     "text": [
      "Early stopping is not available in dart mode\n"
     ]
    },
    {
     "name": "stdout",
     "output_type": "stream",
     "text": [
      "[250]\tvalid_0's l1: 5.44496\tvalid_0's huber: 4.55867\tvalid_0's l2: 73.1381\n"
     ]
    },
    {
     "name": "stderr",
     "output_type": "stream",
     "text": [
      "2020-09-03 14:12:35.451 | INFO     | yspecies.selection:fit:82 - SEED: 6 | FOLD: 1 | VALIDATION_SPECIES: ['Mus_spicilegus', 'Suricata_suricatta']\n"
     ]
    },
    {
     "name": "stdout",
     "output_type": "stream",
     "text": [
      "[250]\tvalid_0's l1: 4.62942\tvalid_0's huber: 3.83346\tvalid_0's l2: 76.7008\n"
     ]
    },
    {
     "name": "stderr",
     "output_type": "stream",
     "text": [
      "2020-09-03 14:12:36.153 | INFO     | yspecies.selection:fit:82 - SEED: 6 | FOLD: 2 | VALIDATION_SPECIES: ['Rhinopithecus_bieti', 'Ovis_aries']\n"
     ]
    },
    {
     "name": "stdout",
     "output_type": "stream",
     "text": [
      "[250]\tvalid_0's l1: 3.63124\tvalid_0's huber: 2.94604\tvalid_0's l2: 37.9371\n"
     ]
    },
    {
     "name": "stderr",
     "output_type": "stream",
     "text": [
      "2020-09-03 14:12:36.908 | INFO     | yspecies.selection:fit:82 - SEED: 6 | FOLD: 3 | VALIDATION_SPECIES: ['Cavia_porcellus', 'Pan_troglodytes']\n"
     ]
    },
    {
     "name": "stdout",
     "output_type": "stream",
     "text": [
      "[250]\tvalid_0's l1: 4.85988\tvalid_0's huber: 4.04598\tvalid_0's l2: 113.982\n"
     ]
    },
    {
     "name": "stderr",
     "output_type": "stream",
     "text": [
      "2020-09-03 14:12:51.135 | INFO     | yspecies.selection:transform:226 - Metrics: \n",
      "Metrics(R2=0.893764911590596, MAE=4.6413782702605815, MSE=75.43939030064868, huber=3.846036759497217)\n"
     ]
    },
    {
     "name": "stdout",
     "output_type": "stream",
     "text": [
      "7\n"
     ]
    },
    {
     "name": "stderr",
     "output_type": "stream",
     "text": [
      "2020-09-03 14:12:51.150 | INFO     | yspecies.selection:fit:78 - ===== fitting models with seed 7 =====\n",
      "2020-09-03 14:12:51.151 | INFO     | yspecies.selection:fit:79 - PARAMETERS:\n",
      "{'objective': 'regression', 'metric': {'mae', 'huber', 'mse'}, 'verbosity': -1, 'boosting_type': 'dart', 'lambda_l1': 2.1188796141799573, 'lambda_l2': 2.3500616173039672, 'max_leaves': 17, 'max_depth': 4, 'feature_fraction': 0.5479409728228775, 'bagging_fraction': 0.8082178403494868, 'learning_rate': 0.05156990108326413, 'min_data_in_leaf': 3, 'drop_rate': 0.27117231134759434, 'verbose': -1, 'seed': 6}\n",
      "2020-09-03 14:12:51.156 | INFO     | yspecies.selection:fit:82 - SEED: 7 | FOLD: 0 | VALIDATION_SPECIES: ['Macaca_mulatta', 'Cavia_porcellus']\n"
     ]
    },
    {
     "name": "stdout",
     "output_type": "stream",
     "text": [
      "[LightGBM] [Warning] verbosity is set=-1, verbose=-1 will be ignored. Current value: verbosity=-1\n"
     ]
    },
    {
     "name": "stderr",
     "output_type": "stream",
     "text": [
      "Early stopping is not available in dart mode\n"
     ]
    },
    {
     "name": "stdout",
     "output_type": "stream",
     "text": [
      "[250]\tvalid_0's l1: 5.04256\tvalid_0's huber: 4.16234\tvalid_0's l2: 80.7721\n"
     ]
    },
    {
     "name": "stderr",
     "output_type": "stream",
     "text": [
      "2020-09-03 14:12:51.866 | INFO     | yspecies.selection:fit:82 - SEED: 7 | FOLD: 1 | VALIDATION_SPECIES: ['Pan_paniscus', 'Capra_hircus']\n"
     ]
    },
    {
     "name": "stdout",
     "output_type": "stream",
     "text": [
      "[250]\tvalid_0's l1: 6.28555\tvalid_0's huber: 5.28523\tvalid_0's l2: 119.726\n"
     ]
    },
    {
     "name": "stderr",
     "output_type": "stream",
     "text": [
      "2020-09-03 14:12:52.681 | INFO     | yspecies.selection:fit:82 - SEED: 7 | FOLD: 2 | VALIDATION_SPECIES: ['Otolemur_garnettii', 'Ictidomys_tridecemlineatus']\n"
     ]
    },
    {
     "name": "stdout",
     "output_type": "stream",
     "text": [
      "[250]\tvalid_0's l1: 5.80109\tvalid_0's huber: 4.85938\tvalid_0's l2: 81.3819\n"
     ]
    },
    {
     "name": "stderr",
     "output_type": "stream",
     "text": [
      "2020-09-03 14:12:53.649 | INFO     | yspecies.selection:fit:82 - SEED: 7 | FOLD: 3 | VALIDATION_SPECIES: ['Canis_lupus_familiaris', 'Ursus_americanus']\n"
     ]
    },
    {
     "name": "stdout",
     "output_type": "stream",
     "text": [
      "[250]\tvalid_0's l1: 6.15082\tvalid_0's huber: 5.18485\tvalid_0's l2: 148.784\n"
     ]
    },
    {
     "name": "stderr",
     "output_type": "stream",
     "text": [
      "2020-09-03 14:13:06.214 | INFO     | yspecies.selection:transform:226 - Metrics: \n",
      "Metrics(R2=0.8486322900609884, MAE=5.820005853828589, MSE=107.66596588799558, huber=4.872948920351905)\n"
     ]
    },
    {
     "name": "stdout",
     "output_type": "stream",
     "text": [
      "8\n"
     ]
    },
    {
     "name": "stderr",
     "output_type": "stream",
     "text": [
      "2020-09-03 14:13:06.226 | INFO     | yspecies.selection:fit:78 - ===== fitting models with seed 8 =====\n",
      "2020-09-03 14:13:06.228 | INFO     | yspecies.selection:fit:79 - PARAMETERS:\n",
      "{'objective': 'regression', 'metric': {'mae', 'huber', 'mse'}, 'verbosity': -1, 'boosting_type': 'dart', 'lambda_l1': 2.1188796141799573, 'lambda_l2': 2.3500616173039672, 'max_leaves': 17, 'max_depth': 4, 'feature_fraction': 0.5479409728228775, 'bagging_fraction': 0.8082178403494868, 'learning_rate': 0.05156990108326413, 'min_data_in_leaf': 3, 'drop_rate': 0.27117231134759434, 'verbose': -1, 'seed': 7}\n",
      "2020-09-03 14:13:06.232 | INFO     | yspecies.selection:fit:82 - SEED: 8 | FOLD: 0 | VALIDATION_SPECIES: ['Pan_paniscus', 'Suricata_suricatta']\n"
     ]
    },
    {
     "name": "stdout",
     "output_type": "stream",
     "text": [
      "[LightGBM] [Warning] verbosity is set=-1, verbose=-1 will be ignored. Current value: verbosity=-1\n"
     ]
    },
    {
     "name": "stderr",
     "output_type": "stream",
     "text": [
      "Early stopping is not available in dart mode\n"
     ]
    },
    {
     "name": "stdout",
     "output_type": "stream",
     "text": [
      "[250]\tvalid_0's l1: 5.79898\tvalid_0's huber: 4.84988\tvalid_0's l2: 115.578\n"
     ]
    },
    {
     "name": "stderr",
     "output_type": "stream",
     "text": [
      "2020-09-03 14:13:07.150 | INFO     | yspecies.selection:fit:82 - SEED: 8 | FOLD: 1 | VALIDATION_SPECIES: ['Macaca_fascicularis', 'Tupaia_belangeri']\n"
     ]
    },
    {
     "name": "stdout",
     "output_type": "stream",
     "text": [
      "[250]\tvalid_0's l1: 5.54495\tvalid_0's huber: 4.61822\tvalid_0's l2: 110.887\n"
     ]
    },
    {
     "name": "stderr",
     "output_type": "stream",
     "text": [
      "2020-09-03 14:13:07.998 | INFO     | yspecies.selection:fit:82 - SEED: 8 | FOLD: 2 | VALIDATION_SPECIES: ['Ursus_americanus', 'Capra_hircus']\n"
     ]
    },
    {
     "name": "stdout",
     "output_type": "stream",
     "text": [
      "[250]\tvalid_0's l1: 6.03822\tvalid_0's huber: 5.07393\tvalid_0's l2: 100.228\n"
     ]
    },
    {
     "name": "stderr",
     "output_type": "stream",
     "text": [
      "2020-09-03 14:13:08.823 | INFO     | yspecies.selection:fit:82 - SEED: 8 | FOLD: 3 | VALIDATION_SPECIES: ['Bos_taurus', 'Rhinolophus_ferrumequinum']\n"
     ]
    },
    {
     "name": "stdout",
     "output_type": "stream",
     "text": [
      "[250]\tvalid_0's l1: 5.60397\tvalid_0's huber: 4.68673\tvalid_0's l2: 134.226\n"
     ]
    },
    {
     "name": "stderr",
     "output_type": "stream",
     "text": [
      "2020-09-03 14:13:21.511 | INFO     | yspecies.selection:transform:226 - Metrics: \n",
      "Metrics(R2=0.8395570890401963, MAE=5.74653101456342, MSE=115.22980722329974, huber=4.807193347322046)\n"
     ]
    },
    {
     "name": "stdout",
     "output_type": "stream",
     "text": [
      "9\n"
     ]
    },
    {
     "name": "stderr",
     "output_type": "stream",
     "text": [
      "2020-09-03 14:13:21.524 | INFO     | yspecies.selection:fit:78 - ===== fitting models with seed 9 =====\n",
      "2020-09-03 14:13:21.527 | INFO     | yspecies.selection:fit:79 - PARAMETERS:\n",
      "{'objective': 'regression', 'metric': {'mae', 'huber', 'mse'}, 'verbosity': -1, 'boosting_type': 'dart', 'lambda_l1': 2.1188796141799573, 'lambda_l2': 2.3500616173039672, 'max_leaves': 17, 'max_depth': 4, 'feature_fraction': 0.5479409728228775, 'bagging_fraction': 0.8082178403494868, 'learning_rate': 0.05156990108326413, 'min_data_in_leaf': 3, 'drop_rate': 0.27117231134759434, 'verbose': -1, 'seed': 8}\n",
      "2020-09-03 14:13:21.531 | INFO     | yspecies.selection:fit:82 - SEED: 9 | FOLD: 0 | VALIDATION_SPECIES: ['Ictidomys_tridecemlineatus', 'Aotus_nancymaae']\n"
     ]
    },
    {
     "name": "stdout",
     "output_type": "stream",
     "text": [
      "[LightGBM] [Warning] verbosity is set=-1, verbose=-1 will be ignored. Current value: verbosity=-1\n"
     ]
    },
    {
     "name": "stderr",
     "output_type": "stream",
     "text": [
      "Early stopping is not available in dart mode\n"
     ]
    },
    {
     "name": "stdout",
     "output_type": "stream",
     "text": [
      "[250]\tvalid_0's l1: 4.77064\tvalid_0's huber: 3.97397\tvalid_0's l2: 63.6413\n"
     ]
    },
    {
     "name": "stderr",
     "output_type": "stream",
     "text": [
      "2020-09-03 14:13:22.350 | INFO     | yspecies.selection:fit:82 - SEED: 9 | FOLD: 1 | VALIDATION_SPECIES: ['Pan_troglodytes', 'Oryctolagus_cuniculus']\n"
     ]
    },
    {
     "name": "stdout",
     "output_type": "stream",
     "text": [
      "[250]\tvalid_0's l1: 6.68013\tvalid_0's huber: 5.66854\tvalid_0's l2: 164.422\n"
     ]
    },
    {
     "name": "stderr",
     "output_type": "stream",
     "text": [
      "2020-09-03 14:13:23.159 | INFO     | yspecies.selection:fit:82 - SEED: 9 | FOLD: 2 | VALIDATION_SPECIES: ['Mesocricetus_auratus', 'Meriones_unguiculatus']\n"
     ]
    },
    {
     "name": "stdout",
     "output_type": "stream",
     "text": [
      "[250]\tvalid_0's l1: 5.19617\tvalid_0's huber: 4.32796\tvalid_0's l2: 65.5698\n"
     ]
    },
    {
     "name": "stderr",
     "output_type": "stream",
     "text": [
      "2020-09-03 14:13:23.909 | INFO     | yspecies.selection:fit:82 - SEED: 9 | FOLD: 3 | VALIDATION_SPECIES: ['Gorilla_gorilla', 'Microcebus_murinus']\n"
     ]
    },
    {
     "name": "stdout",
     "output_type": "stream",
     "text": [
      "[250]\tvalid_0's l1: 6.97382\tvalid_0's huber: 5.92946\tvalid_0's l2: 168.09\n"
     ]
    },
    {
     "name": "stderr",
     "output_type": "stream",
     "text": [
      "2020-09-03 14:13:36.319 | INFO     | yspecies.selection:transform:226 - Metrics: \n",
      "Metrics(R2=0.845123698642358, MAE=5.9051892179866305, MSE=115.43088407265371, huber=4.974983294876581)\n",
      "MultiObjectiveTrial is experimental (supported from v1.4.0). The interface can change in the future.\n",
      "MultiObjectiveStudy is experimental (supported from v1.4.0). The interface can change in the future.\n",
      "[I 2020-09-03 14:13:37,004] Trial 484 finished with values: [0.8513449914644367, 4.678222681868639, 0.5220929269519768] with parameters: {'boosting_type': 'dart', 'lambda_l1': 2.1188796141799573, 'lambda_l2': 2.3500616173039672, 'max_leaves': 17, 'max_depth': 4, 'feature_fraction': 0.5479409728228775, 'bagging_fraction': 0.8082178403494868, 'learning_rate': 0.05156990108326413, 'min_data_in_leaf': 3, 'drop_rate': 0.27117231134759434}.\n",
      "MultiObjectiveStudy is experimental (supported from v1.4.0). The interface can change in the future.\n",
      "FrozenMultiObjectiveTrial is experimental (supported from v1.4.0). The interface can change in the future.\n",
      "MultiObjectiveStudy is experimental (supported from v1.4.0). The interface can change in the future.\n",
      "FrozenMultiObjectiveTrial is experimental (supported from v1.4.0). The interface can change in the future.\n",
      "FrozenMultiObjectiveTrial is experimental (supported from v1.4.0). The interface can change in the future.\n",
      "MultiObjectiveTrial is experimental (supported from v1.4.0). The interface can change in the future.\n",
      "MultiObjectiveStudy is experimental (supported from v1.4.0). The interface can change in the future.\n",
      "FrozenMultiObjectiveTrial is experimental (supported from v1.4.0). The interface can change in the future.\n"
     ]
    },
    {
     "name": "stdout",
     "output_type": "stream",
     "text": [
      "0\n"
     ]
    },
    {
     "name": "stderr",
     "output_type": "stream",
     "text": [
      "2020-09-03 14:13:37.238 | INFO     | yspecies.selection:fit:78 - ===== fitting models with seed 0 =====\n",
      "2020-09-03 14:13:37.240 | INFO     | yspecies.selection:fit:79 - PARAMETERS:\n",
      "{'objective': 'regression', 'metric': {'mae', 'huber', 'mse'}, 'verbosity': -1, 'boosting_type': 'gbdt', 'lambda_l1': 0.3970175140579622, 'lambda_l2': 1.9162603353459444, 'max_leaves': 22, 'max_depth': 4, 'feature_fraction': 0.9013654534153324, 'bagging_fraction': 0.8082178403494868, 'learning_rate': 0.09227943984528733, 'min_data_in_leaf': 8, 'drop_rate': 0.15938150347995844, 'verbose': -1}\n",
      "2020-09-03 14:13:37.245 | INFO     | yspecies.selection:fit:82 - SEED: 0 | FOLD: 0 | VALIDATION_SPECIES: ['Gorilla_gorilla', 'Pan_paniscus']\n"
     ]
    },
    {
     "name": "stdout",
     "output_type": "stream",
     "text": [
      "[LightGBM] [Warning] verbosity is set=-1, verbose=-1 will be ignored. Current value: verbosity=-1\n",
      "Training until validation scores don't improve for 10 rounds\n",
      "Early stopping, best iteration is:\n",
      "[73]\tvalid_0's l1: 7.98163\tvalid_0's huber: 6.8409\tvalid_0's l2: 190.235\n"
     ]
    },
    {
     "name": "stderr",
     "output_type": "stream",
     "text": [
      "2020-09-03 14:13:37.378 | INFO     | yspecies.selection:fit:82 - SEED: 0 | FOLD: 1 | VALIDATION_SPECIES: ['Heterocephalus_glaber', 'Capra_hircus']\n"
     ]
    },
    {
     "name": "stdout",
     "output_type": "stream",
     "text": [
      "Training until validation scores don't improve for 10 rounds\n",
      "Early stopping, best iteration is:\n",
      "[84]\tvalid_0's l1: 3.48122\tvalid_0's huber: 2.79706\tvalid_0's l2: 43.3563\n"
     ]
    },
    {
     "name": "stderr",
     "output_type": "stream",
     "text": [
      "2020-09-03 14:13:37.480 | INFO     | yspecies.selection:fit:82 - SEED: 0 | FOLD: 2 | VALIDATION_SPECIES: ['Bos_taurus', 'Otolemur_garnettii']\n"
     ]
    },
    {
     "name": "stdout",
     "output_type": "stream",
     "text": [
      "Training until validation scores don't improve for 10 rounds\n",
      "Early stopping, best iteration is:\n",
      "[87]\tvalid_0's l1: 3.3422\tvalid_0's huber: 2.6912\tvalid_0's l2: 41.5591\n"
     ]
    },
    {
     "name": "stderr",
     "output_type": "stream",
     "text": [
      "2020-09-03 14:13:37.593 | INFO     | yspecies.selection:fit:82 - SEED: 0 | FOLD: 3 | VALIDATION_SPECIES: ['Macaca_nemestrina', 'Microcebus_murinus']\n"
     ]
    },
    {
     "name": "stdout",
     "output_type": "stream",
     "text": [
      "Training until validation scores don't improve for 10 rounds\n",
      "Early stopping, best iteration is:\n",
      "[69]\tvalid_0's l1: 3.09077\tvalid_0's huber: 2.46544\tvalid_0's l2: 58.2466\n"
     ]
    },
    {
     "name": "stderr",
     "output_type": "stream",
     "text": [
      "2020-09-03 14:13:45.931 | INFO     | yspecies.selection:transform:226 - Metrics: \n",
      "Metrics(R2=0.8904070544659187, MAE=4.4739550036313185, MSE=83.34922357829623, huber=3.698438005238821)\n"
     ]
    },
    {
     "name": "stdout",
     "output_type": "stream",
     "text": [
      "1\n"
     ]
    },
    {
     "name": "stderr",
     "output_type": "stream",
     "text": [
      "2020-09-03 14:13:45.942 | INFO     | yspecies.selection:fit:78 - ===== fitting models with seed 1 =====\n",
      "2020-09-03 14:13:45.943 | INFO     | yspecies.selection:fit:79 - PARAMETERS:\n",
      "{'objective': 'regression', 'metric': {'mae', 'huber', 'mse'}, 'verbosity': -1, 'boosting_type': 'gbdt', 'lambda_l1': 0.3970175140579622, 'lambda_l2': 1.9162603353459444, 'max_leaves': 22, 'max_depth': 4, 'feature_fraction': 0.9013654534153324, 'bagging_fraction': 0.8082178403494868, 'learning_rate': 0.09227943984528733, 'min_data_in_leaf': 8, 'drop_rate': 0.15938150347995844, 'verbose': -1, 'seed': 0}\n",
      "2020-09-03 14:13:45.948 | INFO     | yspecies.selection:fit:82 - SEED: 1 | FOLD: 0 | VALIDATION_SPECIES: ['Felis_catus', 'Ursus_americanus']\n"
     ]
    },
    {
     "name": "stdout",
     "output_type": "stream",
     "text": [
      "[LightGBM] [Warning] verbosity is set=-1, verbose=-1 will be ignored. Current value: verbosity=-1\n",
      "Training until validation scores don't improve for 10 rounds\n",
      "Early stopping, best iteration is:\n",
      "[43]\tvalid_0's l1: 3.12905\tvalid_0's huber: 2.4673\tvalid_0's l2: 32.5636\n"
     ]
    },
    {
     "name": "stderr",
     "output_type": "stream",
     "text": [
      "2020-09-03 14:13:46.076 | INFO     | yspecies.selection:fit:82 - SEED: 1 | FOLD: 1 | VALIDATION_SPECIES: ['Heterocephalus_glaber', 'Vombatus_ursinus']\n"
     ]
    },
    {
     "name": "stdout",
     "output_type": "stream",
     "text": [
      "Training until validation scores don't improve for 10 rounds\n",
      "Early stopping, best iteration is:\n",
      "[70]\tvalid_0's l1: 3.81357\tvalid_0's huber: 3.11015\tvalid_0's l2: 62.8454\n"
     ]
    },
    {
     "name": "stderr",
     "output_type": "stream",
     "text": [
      "2020-09-03 14:13:46.170 | INFO     | yspecies.selection:fit:82 - SEED: 1 | FOLD: 2 | VALIDATION_SPECIES: ['Macaca_fascicularis', 'Rhinopithecus_bieti']\n"
     ]
    },
    {
     "name": "stdout",
     "output_type": "stream",
     "text": [
      "Training until validation scores don't improve for 10 rounds\n",
      "Early stopping, best iteration is:\n",
      "[59]\tvalid_0's l1: 3.09274\tvalid_0's huber: 2.45601\tvalid_0's l2: 43.0572\n"
     ]
    },
    {
     "name": "stderr",
     "output_type": "stream",
     "text": [
      "2020-09-03 14:13:46.448 | INFO     | yspecies.selection:fit:82 - SEED: 1 | FOLD: 3 | VALIDATION_SPECIES: ['Gorilla_gorilla', 'Ovis_aries']\n"
     ]
    },
    {
     "name": "stdout",
     "output_type": "stream",
     "text": [
      "Training until validation scores don't improve for 10 rounds\n",
      "Early stopping, best iteration is:\n",
      "[73]\tvalid_0's l1: 6.21606\tvalid_0's huber: 5.28992\tvalid_0's l2: 155.347\n"
     ]
    },
    {
     "name": "stderr",
     "output_type": "stream",
     "text": [
      "2020-09-03 14:13:53.572 | INFO     | yspecies.selection:transform:226 - Metrics: \n",
      "Metrics(R2=0.8952048221998714, MAE=4.06285481791612, MSE=73.45331605000612, huber=3.332870890359384)\n"
     ]
    },
    {
     "name": "stdout",
     "output_type": "stream",
     "text": [
      "2\n"
     ]
    },
    {
     "name": "stderr",
     "output_type": "stream",
     "text": [
      "2020-09-03 14:13:53.581 | INFO     | yspecies.selection:fit:78 - ===== fitting models with seed 2 =====\n",
      "2020-09-03 14:13:53.583 | INFO     | yspecies.selection:fit:79 - PARAMETERS:\n",
      "{'objective': 'regression', 'metric': {'mae', 'huber', 'mse'}, 'verbosity': -1, 'boosting_type': 'gbdt', 'lambda_l1': 0.3970175140579622, 'lambda_l2': 1.9162603353459444, 'max_leaves': 22, 'max_depth': 4, 'feature_fraction': 0.9013654534153324, 'bagging_fraction': 0.8082178403494868, 'learning_rate': 0.09227943984528733, 'min_data_in_leaf': 8, 'drop_rate': 0.15938150347995844, 'verbose': -1, 'seed': 1}\n",
      "2020-09-03 14:13:53.587 | INFO     | yspecies.selection:fit:82 - SEED: 2 | FOLD: 0 | VALIDATION_SPECIES: ['Rhinopithecus_bieti', 'Ursus_americanus']\n"
     ]
    },
    {
     "name": "stdout",
     "output_type": "stream",
     "text": [
      "[LightGBM] [Warning] verbosity is set=-1, verbose=-1 will be ignored. Current value: verbosity=-1\n",
      "Training until validation scores don't improve for 10 rounds\n",
      "Early stopping, best iteration is:\n",
      "[51]\tvalid_0's l1: 3.47073\tvalid_0's huber: 2.78834\tvalid_0's l2: 28.7637\n"
     ]
    },
    {
     "name": "stderr",
     "output_type": "stream",
     "text": [
      "2020-09-03 14:13:53.668 | INFO     | yspecies.selection:fit:82 - SEED: 2 | FOLD: 1 | VALIDATION_SPECIES: ['Aotus_nancymaae', 'Phascolarctos_cinereus']\n"
     ]
    },
    {
     "name": "stdout",
     "output_type": "stream",
     "text": [
      "Training until validation scores don't improve for 10 rounds\n",
      "Early stopping, best iteration is:\n",
      "[81]\tvalid_0's l1: 4.52825\tvalid_0's huber: 3.71457\tvalid_0's l2: 62.7977\n"
     ]
    },
    {
     "name": "stderr",
     "output_type": "stream",
     "text": [
      "2020-09-03 14:13:53.770 | INFO     | yspecies.selection:fit:82 - SEED: 2 | FOLD: 2 | VALIDATION_SPECIES: ['Vombatus_ursinus', 'Ailuropoda_melanoleuca']\n"
     ]
    },
    {
     "name": "stdout",
     "output_type": "stream",
     "text": [
      "Training until validation scores don't improve for 10 rounds\n",
      "Early stopping, best iteration is:\n",
      "[71]\tvalid_0's l1: 3.4526\tvalid_0's huber: 2.78291\tvalid_0's l2: 44.6308\n"
     ]
    },
    {
     "name": "stderr",
     "output_type": "stream",
     "text": [
      "2020-09-03 14:13:53.860 | INFO     | yspecies.selection:fit:82 - SEED: 2 | FOLD: 3 | VALIDATION_SPECIES: ['Rattus_norvegicus', 'Monodelphis_domestica']\n"
     ]
    },
    {
     "name": "stdout",
     "output_type": "stream",
     "text": [
      "Training until validation scores don't improve for 10 rounds\n",
      "Early stopping, best iteration is:\n",
      "[123]\tvalid_0's l1: 5.70269\tvalid_0's huber: 4.75447\tvalid_0's l2: 81.0034\n"
     ]
    },
    {
     "name": "stderr",
     "output_type": "stream",
     "text": [
      "2020-09-03 14:14:03.014 | INFO     | yspecies.selection:transform:226 - Metrics: \n",
      "Metrics(R2=0.9133152016809147, MAE=4.288565254201543, MSE=54.298896431390375, huber=3.516242446009299)\n"
     ]
    },
    {
     "name": "stdout",
     "output_type": "stream",
     "text": [
      "3\n"
     ]
    },
    {
     "name": "stderr",
     "output_type": "stream",
     "text": [
      "2020-09-03 14:14:03.024 | INFO     | yspecies.selection:fit:78 - ===== fitting models with seed 3 =====\n",
      "2020-09-03 14:14:03.026 | INFO     | yspecies.selection:fit:79 - PARAMETERS:\n",
      "{'objective': 'regression', 'metric': {'mae', 'huber', 'mse'}, 'verbosity': -1, 'boosting_type': 'gbdt', 'lambda_l1': 0.3970175140579622, 'lambda_l2': 1.9162603353459444, 'max_leaves': 22, 'max_depth': 4, 'feature_fraction': 0.9013654534153324, 'bagging_fraction': 0.8082178403494868, 'learning_rate': 0.09227943984528733, 'min_data_in_leaf': 8, 'drop_rate': 0.15938150347995844, 'verbose': -1, 'seed': 2}\n",
      "2020-09-03 14:14:03.030 | INFO     | yspecies.selection:fit:82 - SEED: 3 | FOLD: 0 | VALIDATION_SPECIES: ['Microcebus_murinus', 'Pan_paniscus']\n"
     ]
    },
    {
     "name": "stdout",
     "output_type": "stream",
     "text": [
      "[LightGBM] [Warning] verbosity is set=-1, verbose=-1 will be ignored. Current value: verbosity=-1\n",
      "Training until validation scores don't improve for 10 rounds\n",
      "Early stopping, best iteration is:\n",
      "[42]\tvalid_0's l1: 3.68854\tvalid_0's huber: 2.97567\tvalid_0's l2: 45.5508\n"
     ]
    },
    {
     "name": "stderr",
     "output_type": "stream",
     "text": [
      "2020-09-03 14:14:03.123 | INFO     | yspecies.selection:fit:82 - SEED: 3 | FOLD: 1 | VALIDATION_SPECIES: ['Ursus_americanus', 'Gorilla_gorilla']\n"
     ]
    },
    {
     "name": "stdout",
     "output_type": "stream",
     "text": [
      "Training until validation scores don't improve for 10 rounds\n",
      "Early stopping, best iteration is:\n",
      "[95]\tvalid_0's l1: 7.02115\tvalid_0's huber: 5.96834\tvalid_0's l2: 139.793\n"
     ]
    },
    {
     "name": "stderr",
     "output_type": "stream",
     "text": [
      "2020-09-03 14:14:03.258 | INFO     | yspecies.selection:fit:82 - SEED: 3 | FOLD: 2 | VALIDATION_SPECIES: ['Bos_taurus', 'Capra_hircus']\n"
     ]
    },
    {
     "name": "stdout",
     "output_type": "stream",
     "text": [
      "Training until validation scores don't improve for 10 rounds\n",
      "Early stopping, best iteration is:\n",
      "[100]\tvalid_0's l1: 3.21074\tvalid_0's huber: 2.54288\tvalid_0's l2: 41.2587\n"
     ]
    },
    {
     "name": "stderr",
     "output_type": "stream",
     "text": [
      "2020-09-03 14:14:03.406 | INFO     | yspecies.selection:fit:82 - SEED: 3 | FOLD: 3 | VALIDATION_SPECIES: ['Rhinolophus_ferrumequinum', 'Mus_musculus']\n"
     ]
    },
    {
     "name": "stdout",
     "output_type": "stream",
     "text": [
      "Training until validation scores don't improve for 10 rounds\n",
      "Early stopping, best iteration is:\n",
      "[71]\tvalid_0's l1: 2.37233\tvalid_0's huber: 1.82324\tvalid_0's l2: 28.4044\n"
     ]
    },
    {
     "name": "stderr",
     "output_type": "stream",
     "text": [
      "2020-09-03 14:14:11.930 | INFO     | yspecies.selection:transform:226 - Metrics: \n",
      "Metrics(R2=0.9163677840807671, MAE=4.073190905892906, MSE=63.75178226581227, huber=3.3429031740224757)\n"
     ]
    },
    {
     "name": "stdout",
     "output_type": "stream",
     "text": [
      "4\n"
     ]
    },
    {
     "name": "stderr",
     "output_type": "stream",
     "text": [
      "2020-09-03 14:14:11.938 | INFO     | yspecies.selection:fit:78 - ===== fitting models with seed 4 =====\n",
      "2020-09-03 14:14:11.940 | INFO     | yspecies.selection:fit:79 - PARAMETERS:\n",
      "{'objective': 'regression', 'metric': {'mae', 'huber', 'mse'}, 'verbosity': -1, 'boosting_type': 'gbdt', 'lambda_l1': 0.3970175140579622, 'lambda_l2': 1.9162603353459444, 'max_leaves': 22, 'max_depth': 4, 'feature_fraction': 0.9013654534153324, 'bagging_fraction': 0.8082178403494868, 'learning_rate': 0.09227943984528733, 'min_data_in_leaf': 8, 'drop_rate': 0.15938150347995844, 'verbose': -1, 'seed': 3}\n",
      "2020-09-03 14:14:11.944 | INFO     | yspecies.selection:fit:82 - SEED: 4 | FOLD: 0 | VALIDATION_SPECIES: ['Macaca_fascicularis', 'Pan_troglodytes']\n"
     ]
    },
    {
     "name": "stdout",
     "output_type": "stream",
     "text": [
      "[LightGBM] [Warning] verbosity is set=-1, verbose=-1 will be ignored. Current value: verbosity=-1\n",
      "Training until validation scores don't improve for 10 rounds\n",
      "Early stopping, best iteration is:\n",
      "[57]\tvalid_0's l1: 4.12666\tvalid_0's huber: 3.36792\tvalid_0's l2: 51.6128\n"
     ]
    },
    {
     "name": "stderr",
     "output_type": "stream",
     "text": [
      "2020-09-03 14:14:12.028 | INFO     | yspecies.selection:fit:82 - SEED: 4 | FOLD: 1 | VALIDATION_SPECIES: ['Otolemur_garnettii', 'Ursus_americanus']\n"
     ]
    },
    {
     "name": "stdout",
     "output_type": "stream",
     "text": [
      "Training until validation scores don't improve for 10 rounds\n",
      "Early stopping, best iteration is:\n",
      "[75]\tvalid_0's l1: 3.27313\tvalid_0's huber: 2.64718\tvalid_0's l2: 122.871\n"
     ]
    },
    {
     "name": "stderr",
     "output_type": "stream",
     "text": [
      "2020-09-03 14:14:12.131 | INFO     | yspecies.selection:fit:82 - SEED: 4 | FOLD: 2 | VALIDATION_SPECIES: ['Heterocephalus_glaber', 'Cavia_aperea']\n"
     ]
    },
    {
     "name": "stdout",
     "output_type": "stream",
     "text": [
      "Training until validation scores don't improve for 10 rounds\n",
      "Early stopping, best iteration is:\n",
      "[94]\tvalid_0's l1: 3.23901\tvalid_0's huber: 2.60968\tvalid_0's l2: 35.244\n"
     ]
    },
    {
     "name": "stderr",
     "output_type": "stream",
     "text": [
      "2020-09-03 14:14:12.288 | INFO     | yspecies.selection:fit:82 - SEED: 4 | FOLD: 3 | VALIDATION_SPECIES: ['Pan_paniscus', 'Gorilla_gorilla']\n"
     ]
    },
    {
     "name": "stdout",
     "output_type": "stream",
     "text": [
      "Training until validation scores don't improve for 10 rounds\n",
      "Early stopping, best iteration is:\n",
      "[107]\tvalid_0's l1: 6.91349\tvalid_0's huber: 5.92292\tvalid_0's l2: 221.733\n"
     ]
    },
    {
     "name": "stderr",
     "output_type": "stream",
     "text": [
      "2020-09-03 14:14:23.092 | INFO     | yspecies.selection:transform:226 - Metrics: \n",
      "Metrics(R2=0.8538138781831716, MAE=4.38807287028338, MSE=107.86513876495744, huber=3.6384713150852006)\n"
     ]
    },
    {
     "name": "stdout",
     "output_type": "stream",
     "text": [
      "5\n"
     ]
    },
    {
     "name": "stderr",
     "output_type": "stream",
     "text": [
      "2020-09-03 14:14:23.099 | INFO     | yspecies.selection:fit:78 - ===== fitting models with seed 5 =====\n",
      "2020-09-03 14:14:23.101 | INFO     | yspecies.selection:fit:79 - PARAMETERS:\n",
      "{'objective': 'regression', 'metric': {'mae', 'huber', 'mse'}, 'verbosity': -1, 'boosting_type': 'gbdt', 'lambda_l1': 0.3970175140579622, 'lambda_l2': 1.9162603353459444, 'max_leaves': 22, 'max_depth': 4, 'feature_fraction': 0.9013654534153324, 'bagging_fraction': 0.8082178403494868, 'learning_rate': 0.09227943984528733, 'min_data_in_leaf': 8, 'drop_rate': 0.15938150347995844, 'verbose': -1, 'seed': 4}\n",
      "2020-09-03 14:14:23.105 | INFO     | yspecies.selection:fit:82 - SEED: 5 | FOLD: 0 | VALIDATION_SPECIES: ['Mus_spicilegus', 'Canis_lupus_familiaris']\n"
     ]
    },
    {
     "name": "stdout",
     "output_type": "stream",
     "text": [
      "[LightGBM] [Warning] verbosity is set=-1, verbose=-1 will be ignored. Current value: verbosity=-1\n",
      "Training until validation scores don't improve for 10 rounds\n",
      "Early stopping, best iteration is:\n",
      "[49]\tvalid_0's l1: 2.80894\tvalid_0's huber: 2.18247\tvalid_0's l2: 26.2131\n"
     ]
    },
    {
     "name": "stderr",
     "output_type": "stream",
     "text": [
      "2020-09-03 14:14:23.198 | INFO     | yspecies.selection:fit:82 - SEED: 5 | FOLD: 1 | VALIDATION_SPECIES: ['Ovis_aries', 'Heterocephalus_glaber']\n"
     ]
    },
    {
     "name": "stdout",
     "output_type": "stream",
     "text": [
      "Training until validation scores don't improve for 10 rounds\n",
      "Early stopping, best iteration is:\n",
      "[85]\tvalid_0's l1: 4.53956\tvalid_0's huber: 3.78015\tvalid_0's l2: 177.396\n"
     ]
    },
    {
     "name": "stderr",
     "output_type": "stream",
     "text": [
      "2020-09-03 14:14:23.311 | INFO     | yspecies.selection:fit:82 - SEED: 5 | FOLD: 2 | VALIDATION_SPECIES: ['Ursus_americanus', 'Oryctolagus_cuniculus']\n"
     ]
    },
    {
     "name": "stdout",
     "output_type": "stream",
     "text": [
      "Training until validation scores don't improve for 10 rounds\n",
      "Early stopping, best iteration is:\n",
      "[65]\tvalid_0's l1: 5.24345\tvalid_0's huber: 4.40119\tvalid_0's l2: 127.834\n"
     ]
    },
    {
     "name": "stderr",
     "output_type": "stream",
     "text": [
      "2020-09-03 14:14:23.400 | INFO     | yspecies.selection:fit:82 - SEED: 5 | FOLD: 3 | VALIDATION_SPECIES: ['Cavia_aperea', 'Ailuropoda_melanoleuca']\n"
     ]
    },
    {
     "name": "stdout",
     "output_type": "stream",
     "text": [
      "Training until validation scores don't improve for 10 rounds\n",
      "Early stopping, best iteration is:\n",
      "[75]\tvalid_0's l1: 3.45259\tvalid_0's huber: 2.80338\tvalid_0's l2: 55.9046\n"
     ]
    },
    {
     "name": "stderr",
     "output_type": "stream",
     "text": [
      "2020-09-03 14:14:31.699 | INFO     | yspecies.selection:transform:226 - Metrics: \n",
      "Metrics(R2=0.8674468422707324, MAE=4.011136102868667, MSE=96.83688774816453, huber=3.2861220870035215)\n"
     ]
    },
    {
     "name": "stdout",
     "output_type": "stream",
     "text": [
      "6\n"
     ]
    },
    {
     "name": "stderr",
     "output_type": "stream",
     "text": [
      "2020-09-03 14:14:31.707 | INFO     | yspecies.selection:fit:78 - ===== fitting models with seed 6 =====\n",
      "2020-09-03 14:14:31.708 | INFO     | yspecies.selection:fit:79 - PARAMETERS:\n",
      "{'objective': 'regression', 'metric': {'mae', 'huber', 'mse'}, 'verbosity': -1, 'boosting_type': 'gbdt', 'lambda_l1': 0.3970175140579622, 'lambda_l2': 1.9162603353459444, 'max_leaves': 22, 'max_depth': 4, 'feature_fraction': 0.9013654534153324, 'bagging_fraction': 0.8082178403494868, 'learning_rate': 0.09227943984528733, 'min_data_in_leaf': 8, 'drop_rate': 0.15938150347995844, 'verbose': -1, 'seed': 5}\n",
      "2020-09-03 14:14:31.712 | INFO     | yspecies.selection:fit:82 - SEED: 6 | FOLD: 0 | VALIDATION_SPECIES: ['Rhinolophus_ferrumequinum', 'Heterocephalus_glaber']\n"
     ]
    },
    {
     "name": "stdout",
     "output_type": "stream",
     "text": [
      "[LightGBM] [Warning] verbosity is set=-1, verbose=-1 will be ignored. Current value: verbosity=-1\n",
      "Training until validation scores don't improve for 10 rounds\n",
      "Early stopping, best iteration is:\n",
      "[50]\tvalid_0's l1: 3.38784\tvalid_0's huber: 2.72109\tvalid_0's l2: 47.1781\n"
     ]
    },
    {
     "name": "stderr",
     "output_type": "stream",
     "text": [
      "2020-09-03 14:14:31.817 | INFO     | yspecies.selection:fit:82 - SEED: 6 | FOLD: 1 | VALIDATION_SPECIES: ['Mus_spicilegus', 'Suricata_suricatta']\n"
     ]
    },
    {
     "name": "stdout",
     "output_type": "stream",
     "text": [
      "Training until validation scores don't improve for 10 rounds\n",
      "Early stopping, best iteration is:\n",
      "[84]\tvalid_0's l1: 3.4394\tvalid_0's huber: 2.78231\tvalid_0's l2: 50.3039\n"
     ]
    },
    {
     "name": "stderr",
     "output_type": "stream",
     "text": [
      "2020-09-03 14:14:31.926 | INFO     | yspecies.selection:fit:82 - SEED: 6 | FOLD: 2 | VALIDATION_SPECIES: ['Rhinopithecus_bieti', 'Ovis_aries']\n"
     ]
    },
    {
     "name": "stdout",
     "output_type": "stream",
     "text": [
      "Training until validation scores don't improve for 10 rounds\n",
      "Early stopping, best iteration is:\n",
      "[69]\tvalid_0's l1: 2.71125\tvalid_0's huber: 2.11766\tvalid_0's l2: 41.3791\n"
     ]
    },
    {
     "name": "stderr",
     "output_type": "stream",
     "text": [
      "2020-09-03 14:14:32.024 | INFO     | yspecies.selection:fit:82 - SEED: 6 | FOLD: 3 | VALIDATION_SPECIES: ['Cavia_porcellus', 'Pan_troglodytes']\n"
     ]
    },
    {
     "name": "stdout",
     "output_type": "stream",
     "text": [
      "Training until validation scores don't improve for 10 rounds\n",
      "Early stopping, best iteration is:\n",
      "[79]\tvalid_0's l1: 3.40472\tvalid_0's huber: 2.75443\tvalid_0's l2: 51.0623\n"
     ]
    },
    {
     "name": "stderr",
     "output_type": "stream",
     "text": [
      "2020-09-03 14:14:41.205 | INFO     | yspecies.selection:transform:226 - Metrics: \n",
      "Metrics(R2=0.9345536286253533, MAE=3.2358002770391896, MSE=47.480873286354466, huber=2.5983025587260355)\n"
     ]
    },
    {
     "name": "stdout",
     "output_type": "stream",
     "text": [
      "7\n"
     ]
    },
    {
     "name": "stderr",
     "output_type": "stream",
     "text": [
      "2020-09-03 14:14:41.213 | INFO     | yspecies.selection:fit:78 - ===== fitting models with seed 7 =====\n",
      "2020-09-03 14:14:41.215 | INFO     | yspecies.selection:fit:79 - PARAMETERS:\n",
      "{'objective': 'regression', 'metric': {'mae', 'huber', 'mse'}, 'verbosity': -1, 'boosting_type': 'gbdt', 'lambda_l1': 0.3970175140579622, 'lambda_l2': 1.9162603353459444, 'max_leaves': 22, 'max_depth': 4, 'feature_fraction': 0.9013654534153324, 'bagging_fraction': 0.8082178403494868, 'learning_rate': 0.09227943984528733, 'min_data_in_leaf': 8, 'drop_rate': 0.15938150347995844, 'verbose': -1, 'seed': 6}\n",
      "2020-09-03 14:14:41.219 | INFO     | yspecies.selection:fit:82 - SEED: 7 | FOLD: 0 | VALIDATION_SPECIES: ['Macaca_mulatta', 'Cavia_porcellus']\n"
     ]
    },
    {
     "name": "stdout",
     "output_type": "stream",
     "text": [
      "[LightGBM] [Warning] verbosity is set=-1, verbose=-1 will be ignored. Current value: verbosity=-1\n",
      "Training until validation scores don't improve for 10 rounds\n",
      "Early stopping, best iteration is:\n",
      "[57]\tvalid_0's l1: 4.36432\tvalid_0's huber: 3.5866\tvalid_0's l2: 51.1\n"
     ]
    },
    {
     "name": "stderr",
     "output_type": "stream",
     "text": [
      "2020-09-03 14:14:41.303 | INFO     | yspecies.selection:fit:82 - SEED: 7 | FOLD: 1 | VALIDATION_SPECIES: ['Pan_paniscus', 'Capra_hircus']\n"
     ]
    },
    {
     "name": "stdout",
     "output_type": "stream",
     "text": [
      "Training until validation scores don't improve for 10 rounds\n",
      "Early stopping, best iteration is:\n",
      "[68]\tvalid_0's l1: 3.1814\tvalid_0's huber: 2.53094\tvalid_0's l2: 44.8753\n"
     ]
    },
    {
     "name": "stderr",
     "output_type": "stream",
     "text": [
      "2020-09-03 14:14:41.395 | INFO     | yspecies.selection:fit:82 - SEED: 7 | FOLD: 2 | VALIDATION_SPECIES: ['Otolemur_garnettii', 'Ictidomys_tridecemlineatus']\n"
     ]
    },
    {
     "name": "stdout",
     "output_type": "stream",
     "text": [
      "Training until validation scores don't improve for 10 rounds\n",
      "Early stopping, best iteration is:\n",
      "[200]\tvalid_0's l1: 3.1299\tvalid_0's huber: 2.49657\tvalid_0's l2: 27.9502\n"
     ]
    },
    {
     "name": "stderr",
     "output_type": "stream",
     "text": [
      "2020-09-03 14:14:41.608 | INFO     | yspecies.selection:fit:82 - SEED: 7 | FOLD: 3 | VALIDATION_SPECIES: ['Canis_lupus_familiaris', 'Ursus_americanus']\n"
     ]
    },
    {
     "name": "stdout",
     "output_type": "stream",
     "text": [
      "Training until validation scores don't improve for 10 rounds\n",
      "Early stopping, best iteration is:\n",
      "[64]\tvalid_0's l1: 3.68383\tvalid_0's huber: 2.99\tvalid_0's l2: 49.8807\n"
     ]
    },
    {
     "name": "stderr",
     "output_type": "stream",
     "text": [
      "2020-09-03 14:14:50.988 | INFO     | yspecies.selection:transform:226 - Metrics: \n",
      "Metrics(R2=0.9381800200535491, MAE=3.589861768835856, MSE=43.45156210983843, huber=2.897941045475478)\n"
     ]
    },
    {
     "name": "stdout",
     "output_type": "stream",
     "text": [
      "8\n"
     ]
    },
    {
     "name": "stderr",
     "output_type": "stream",
     "text": [
      "2020-09-03 14:14:50.996 | INFO     | yspecies.selection:fit:78 - ===== fitting models with seed 8 =====\n",
      "2020-09-03 14:14:50.997 | INFO     | yspecies.selection:fit:79 - PARAMETERS:\n",
      "{'objective': 'regression', 'metric': {'mae', 'huber', 'mse'}, 'verbosity': -1, 'boosting_type': 'gbdt', 'lambda_l1': 0.3970175140579622, 'lambda_l2': 1.9162603353459444, 'max_leaves': 22, 'max_depth': 4, 'feature_fraction': 0.9013654534153324, 'bagging_fraction': 0.8082178403494868, 'learning_rate': 0.09227943984528733, 'min_data_in_leaf': 8, 'drop_rate': 0.15938150347995844, 'verbose': -1, 'seed': 7}\n",
      "2020-09-03 14:14:51.002 | INFO     | yspecies.selection:fit:82 - SEED: 8 | FOLD: 0 | VALIDATION_SPECIES: ['Pan_paniscus', 'Suricata_suricatta']\n"
     ]
    },
    {
     "name": "stdout",
     "output_type": "stream",
     "text": [
      "[LightGBM] [Warning] verbosity is set=-1, verbose=-1 will be ignored. Current value: verbosity=-1\n",
      "Training until validation scores don't improve for 10 rounds\n",
      "Early stopping, best iteration is:\n",
      "[68]\tvalid_0's l1: 3.00857\tvalid_0's huber: 2.39627\tvalid_0's l2: 35.4531\n"
     ]
    },
    {
     "name": "stderr",
     "output_type": "stream",
     "text": [
      "2020-09-03 14:14:51.105 | INFO     | yspecies.selection:fit:82 - SEED: 8 | FOLD: 1 | VALIDATION_SPECIES: ['Macaca_fascicularis', 'Tupaia_belangeri']\n"
     ]
    },
    {
     "name": "stdout",
     "output_type": "stream",
     "text": [
      "Training until validation scores don't improve for 10 rounds\n",
      "Early stopping, best iteration is:\n",
      "[146]\tvalid_0's l1: 2.85793\tvalid_0's huber: 2.25511\tvalid_0's l2: 27.0476\n"
     ]
    },
    {
     "name": "stderr",
     "output_type": "stream",
     "text": [
      "2020-09-03 14:14:51.258 | INFO     | yspecies.selection:fit:82 - SEED: 8 | FOLD: 2 | VALIDATION_SPECIES: ['Ursus_americanus', 'Capra_hircus']\n"
     ]
    },
    {
     "name": "stdout",
     "output_type": "stream",
     "text": [
      "Training until validation scores don't improve for 10 rounds\n",
      "Early stopping, best iteration is:\n",
      "[139]\tvalid_0's l1: 3.20132\tvalid_0's huber: 2.57114\tvalid_0's l2: 42.9886\n"
     ]
    },
    {
     "name": "stderr",
     "output_type": "stream",
     "text": [
      "2020-09-03 14:14:51.397 | INFO     | yspecies.selection:fit:82 - SEED: 8 | FOLD: 3 | VALIDATION_SPECIES: ['Bos_taurus', 'Rhinolophus_ferrumequinum']\n"
     ]
    },
    {
     "name": "stdout",
     "output_type": "stream",
     "text": [
      "Training until validation scores don't improve for 10 rounds\n",
      "Early stopping, best iteration is:\n",
      "[100]\tvalid_0's l1: 2.71728\tvalid_0's huber: 2.14159\tvalid_0's l2: 34.1585\n"
     ]
    },
    {
     "name": "stderr",
     "output_type": "stream",
     "text": [
      "2020-09-03 14:15:03.199 | INFO     | yspecies.selection:transform:226 - Metrics: \n",
      "Metrics(R2=0.9519403230554958, MAE=2.946274618404133, MSE=34.91192393891869, huber=2.3411517831003685)\n"
     ]
    },
    {
     "name": "stdout",
     "output_type": "stream",
     "text": [
      "9\n"
     ]
    },
    {
     "name": "stderr",
     "output_type": "stream",
     "text": [
      "2020-09-03 14:15:03.207 | INFO     | yspecies.selection:fit:78 - ===== fitting models with seed 9 =====\n",
      "2020-09-03 14:15:03.209 | INFO     | yspecies.selection:fit:79 - PARAMETERS:\n",
      "{'objective': 'regression', 'metric': {'mae', 'huber', 'mse'}, 'verbosity': -1, 'boosting_type': 'gbdt', 'lambda_l1': 0.3970175140579622, 'lambda_l2': 1.9162603353459444, 'max_leaves': 22, 'max_depth': 4, 'feature_fraction': 0.9013654534153324, 'bagging_fraction': 0.8082178403494868, 'learning_rate': 0.09227943984528733, 'min_data_in_leaf': 8, 'drop_rate': 0.15938150347995844, 'verbose': -1, 'seed': 8}\n",
      "2020-09-03 14:15:03.213 | INFO     | yspecies.selection:fit:82 - SEED: 9 | FOLD: 0 | VALIDATION_SPECIES: ['Ictidomys_tridecemlineatus', 'Aotus_nancymaae']\n"
     ]
    },
    {
     "name": "stdout",
     "output_type": "stream",
     "text": [
      "[LightGBM] [Warning] verbosity is set=-1, verbose=-1 will be ignored. Current value: verbosity=-1\n",
      "Training until validation scores don't improve for 10 rounds\n",
      "Early stopping, best iteration is:\n",
      "[49]\tvalid_0's l1: 4.33514\tvalid_0's huber: 3.58083\tvalid_0's l2: 69.7668\n"
     ]
    },
    {
     "name": "stderr",
     "output_type": "stream",
     "text": [
      "2020-09-03 14:15:03.312 | INFO     | yspecies.selection:fit:82 - SEED: 9 | FOLD: 1 | VALIDATION_SPECIES: ['Pan_troglodytes', 'Oryctolagus_cuniculus']\n"
     ]
    },
    {
     "name": "stdout",
     "output_type": "stream",
     "text": [
      "Training until validation scores don't improve for 10 rounds\n",
      "Early stopping, best iteration is:\n",
      "[87]\tvalid_0's l1: 4.20648\tvalid_0's huber: 3.44601\tvalid_0's l2: 75.5622\n"
     ]
    },
    {
     "name": "stderr",
     "output_type": "stream",
     "text": [
      "2020-09-03 14:15:03.435 | INFO     | yspecies.selection:fit:82 - SEED: 9 | FOLD: 2 | VALIDATION_SPECIES: ['Mesocricetus_auratus', 'Meriones_unguiculatus']\n"
     ]
    },
    {
     "name": "stdout",
     "output_type": "stream",
     "text": [
      "Training until validation scores don't improve for 10 rounds\n",
      "Early stopping, best iteration is:\n",
      "[99]\tvalid_0's l1: 4.3256\tvalid_0's huber: 3.5548\tvalid_0's l2: 64.3571\n"
     ]
    },
    {
     "name": "stderr",
     "output_type": "stream",
     "text": [
      "2020-09-03 14:15:03.582 | INFO     | yspecies.selection:fit:82 - SEED: 9 | FOLD: 3 | VALIDATION_SPECIES: ['Gorilla_gorilla', 'Microcebus_murinus']\n"
     ]
    },
    {
     "name": "stdout",
     "output_type": "stream",
     "text": [
      "Training until validation scores don't improve for 10 rounds\n",
      "[250]\tvalid_0's l1: 5.39021\tvalid_0's huber: 4.5307\tvalid_0's l2: 115.236\n",
      "Did not meet early stopping. Best iteration is:\n",
      "[245]\tvalid_0's l1: 5.38994\tvalid_0's huber: 4.53039\tvalid_0's l2: 115.231\n"
     ]
    },
    {
     "name": "stderr",
     "output_type": "stream",
     "text": [
      "2020-09-03 14:15:14.007 | INFO     | yspecies.selection:transform:226 - Metrics: \n",
      "Metrics(R2=0.8885566499184729, MAE=4.564291356490571, MSE=81.22932626718774, huber=3.770350338238793)\n",
      "MultiObjectiveTrial is experimental (supported from v1.4.0). The interface can change in the future.\n",
      "MultiObjectiveStudy is experimental (supported from v1.4.0). The interface can change in the future.\n",
      "[I 2020-09-03 14:15:14,635] Trial 485 finished with values: [0.9049786204534247, 3.2422793643259373, 0.5086972751799232] with parameters: {'boosting_type': 'gbdt', 'lambda_l1': 0.3970175140579622, 'lambda_l2': 1.9162603353459444, 'max_leaves': 22, 'max_depth': 4, 'feature_fraction': 0.9013654534153324, 'bagging_fraction': 0.8082178403494868, 'learning_rate': 0.09227943984528733, 'min_data_in_leaf': 8, 'drop_rate': 0.15938150347995844}.\n",
      "MultiObjectiveStudy is experimental (supported from v1.4.0). The interface can change in the future.\n",
      "FrozenMultiObjectiveTrial is experimental (supported from v1.4.0). The interface can change in the future.\n",
      "MultiObjectiveStudy is experimental (supported from v1.4.0). The interface can change in the future.\n",
      "FrozenMultiObjectiveTrial is experimental (supported from v1.4.0). The interface can change in the future.\n",
      "FrozenMultiObjectiveTrial is experimental (supported from v1.4.0). The interface can change in the future.\n",
      "MultiObjectiveTrial is experimental (supported from v1.4.0). The interface can change in the future.\n",
      "MultiObjectiveStudy is experimental (supported from v1.4.0). The interface can change in the future.\n",
      "FrozenMultiObjectiveTrial is experimental (supported from v1.4.0). The interface can change in the future.\n"
     ]
    },
    {
     "name": "stdout",
     "output_type": "stream",
     "text": [
      "0\n"
     ]
    },
    {
     "name": "stderr",
     "output_type": "stream",
     "text": [
      "2020-09-03 14:15:15.172 | INFO     | yspecies.selection:fit:78 - ===== fitting models with seed 0 =====\n",
      "2020-09-03 14:15:15.175 | INFO     | yspecies.selection:fit:79 - PARAMETERS:\n",
      "{'objective': 'regression', 'metric': {'mae', 'huber', 'mse'}, 'verbosity': -1, 'boosting_type': 'gbdt', 'lambda_l1': 0.3970175140579622, 'lambda_l2': 2.9232199794782074, 'max_leaves': 24, 'max_depth': 3, 'feature_fraction': 0.5773544558795595, 'bagging_fraction': 0.687813394959864, 'learning_rate': 0.055301896893383926, 'min_data_in_leaf': 8, 'drop_rate': 0.2947442813300798, 'verbose': -1}\n",
      "2020-09-03 14:15:15.180 | INFO     | yspecies.selection:fit:82 - SEED: 0 | FOLD: 0 | VALIDATION_SPECIES: ['Gorilla_gorilla', 'Pan_paniscus']\n"
     ]
    },
    {
     "name": "stdout",
     "output_type": "stream",
     "text": [
      "[LightGBM] [Warning] verbosity is set=-1, verbose=-1 will be ignored. Current value: verbosity=-1\n",
      "Training until validation scores don't improve for 10 rounds\n",
      "Early stopping, best iteration is:\n",
      "[200]\tvalid_0's l1: 7.74906\tvalid_0's huber: 6.62162\tvalid_0's l2: 176.73\n"
     ]
    },
    {
     "name": "stderr",
     "output_type": "stream",
     "text": [
      "2020-09-03 14:15:15.354 | INFO     | yspecies.selection:fit:82 - SEED: 0 | FOLD: 1 | VALIDATION_SPECIES: ['Heterocephalus_glaber', 'Capra_hircus']\n"
     ]
    },
    {
     "name": "stdout",
     "output_type": "stream",
     "text": [
      "Training until validation scores don't improve for 10 rounds\n",
      "Early stopping, best iteration is:\n",
      "[180]\tvalid_0's l1: 3.40247\tvalid_0's huber: 2.72954\tvalid_0's l2: 45.3133\n"
     ]
    },
    {
     "name": "stderr",
     "output_type": "stream",
     "text": [
      "2020-09-03 14:15:15.514 | INFO     | yspecies.selection:fit:82 - SEED: 0 | FOLD: 2 | VALIDATION_SPECIES: ['Bos_taurus', 'Otolemur_garnettii']\n"
     ]
    },
    {
     "name": "stdout",
     "output_type": "stream",
     "text": [
      "Training until validation scores don't improve for 10 rounds\n",
      "[250]\tvalid_0's l1: 3.24949\tvalid_0's huber: 2.60897\tvalid_0's l2: 37.8511\n",
      "Did not meet early stopping. Best iteration is:\n",
      "[248]\tvalid_0's l1: 3.24901\tvalid_0's huber: 2.60846\tvalid_0's l2: 37.8379\n"
     ]
    },
    {
     "name": "stderr",
     "output_type": "stream",
     "text": [
      "2020-09-03 14:15:15.746 | INFO     | yspecies.selection:fit:82 - SEED: 0 | FOLD: 3 | VALIDATION_SPECIES: ['Macaca_nemestrina', 'Microcebus_murinus']\n"
     ]
    },
    {
     "name": "stdout",
     "output_type": "stream",
     "text": [
      "Training until validation scores don't improve for 10 rounds\n",
      "Early stopping, best iteration is:\n",
      "[193]\tvalid_0's l1: 3.33998\tvalid_0's huber: 2.69319\tvalid_0's l2: 55.0182\n"
     ]
    },
    {
     "name": "stderr",
     "output_type": "stream",
     "text": [
      "2020-09-03 14:15:32.298 | INFO     | yspecies.selection:transform:226 - Metrics: \n",
      "Metrics(R2=0.8962621860953776, MAE=4.435130400955617, MSE=78.72477210375583, huber=3.6630180133230272)\n"
     ]
    },
    {
     "name": "stdout",
     "output_type": "stream",
     "text": [
      "1\n"
     ]
    },
    {
     "name": "stderr",
     "output_type": "stream",
     "text": [
      "2020-09-03 14:15:32.307 | INFO     | yspecies.selection:fit:78 - ===== fitting models with seed 1 =====\n",
      "2020-09-03 14:15:32.309 | INFO     | yspecies.selection:fit:79 - PARAMETERS:\n",
      "{'objective': 'regression', 'metric': {'mae', 'huber', 'mse'}, 'verbosity': -1, 'boosting_type': 'gbdt', 'lambda_l1': 0.3970175140579622, 'lambda_l2': 2.9232199794782074, 'max_leaves': 24, 'max_depth': 3, 'feature_fraction': 0.5773544558795595, 'bagging_fraction': 0.687813394959864, 'learning_rate': 0.055301896893383926, 'min_data_in_leaf': 8, 'drop_rate': 0.2947442813300798, 'verbose': -1, 'seed': 0}\n",
      "2020-09-03 14:15:32.313 | INFO     | yspecies.selection:fit:82 - SEED: 1 | FOLD: 0 | VALIDATION_SPECIES: ['Felis_catus', 'Ursus_americanus']\n"
     ]
    },
    {
     "name": "stdout",
     "output_type": "stream",
     "text": [
      "[LightGBM] [Warning] verbosity is set=-1, verbose=-1 will be ignored. Current value: verbosity=-1\n",
      "Training until validation scores don't improve for 10 rounds\n",
      "Early stopping, best iteration is:\n",
      "[121]\tvalid_0's l1: 3.6787\tvalid_0's huber: 2.96708\tvalid_0's l2: 32.2983\n"
     ]
    },
    {
     "name": "stderr",
     "output_type": "stream",
     "text": [
      "2020-09-03 14:15:32.447 | INFO     | yspecies.selection:fit:82 - SEED: 1 | FOLD: 1 | VALIDATION_SPECIES: ['Heterocephalus_glaber', 'Vombatus_ursinus']\n"
     ]
    },
    {
     "name": "stdout",
     "output_type": "stream",
     "text": [
      "Training until validation scores don't improve for 10 rounds\n",
      "Early stopping, best iteration is:\n",
      "[185]\tvalid_0's l1: 4.42651\tvalid_0's huber: 3.63724\tvalid_0's l2: 67.0623\n"
     ]
    },
    {
     "name": "stderr",
     "output_type": "stream",
     "text": [
      "2020-09-03 14:15:32.658 | INFO     | yspecies.selection:fit:82 - SEED: 1 | FOLD: 2 | VALIDATION_SPECIES: ['Macaca_fascicularis', 'Rhinopithecus_bieti']\n"
     ]
    },
    {
     "name": "stdout",
     "output_type": "stream",
     "text": [
      "Training until validation scores don't improve for 10 rounds\n",
      "Early stopping, best iteration is:\n",
      "[123]\tvalid_0's l1: 2.7314\tvalid_0's huber: 2.13167\tvalid_0's l2: 26.4044\n"
     ]
    },
    {
     "name": "stderr",
     "output_type": "stream",
     "text": [
      "2020-09-03 14:15:32.797 | INFO     | yspecies.selection:fit:82 - SEED: 1 | FOLD: 3 | VALIDATION_SPECIES: ['Gorilla_gorilla', 'Ovis_aries']\n"
     ]
    },
    {
     "name": "stdout",
     "output_type": "stream",
     "text": [
      "Training until validation scores don't improve for 10 rounds\n",
      "Early stopping, best iteration is:\n",
      "[195]\tvalid_0's l1: 5.73438\tvalid_0's huber: 4.8317\tvalid_0's l2: 131.543\n"
     ]
    },
    {
     "name": "stderr",
     "output_type": "stream",
     "text": [
      "2020-09-03 14:15:42.904 | INFO     | yspecies.selection:transform:226 - Metrics: \n",
      "Metrics(R2=0.9082310810803496, MAE=4.142747748509198, MSE=64.32702061370048, huber=3.389426864535154)\n"
     ]
    },
    {
     "name": "stdout",
     "output_type": "stream",
     "text": [
      "2\n"
     ]
    },
    {
     "name": "stderr",
     "output_type": "stream",
     "text": [
      "2020-09-03 14:15:42.915 | INFO     | yspecies.selection:fit:78 - ===== fitting models with seed 2 =====\n",
      "2020-09-03 14:15:42.917 | INFO     | yspecies.selection:fit:79 - PARAMETERS:\n",
      "{'objective': 'regression', 'metric': {'mae', 'huber', 'mse'}, 'verbosity': -1, 'boosting_type': 'gbdt', 'lambda_l1': 0.3970175140579622, 'lambda_l2': 2.9232199794782074, 'max_leaves': 24, 'max_depth': 3, 'feature_fraction': 0.5773544558795595, 'bagging_fraction': 0.687813394959864, 'learning_rate': 0.055301896893383926, 'min_data_in_leaf': 8, 'drop_rate': 0.2947442813300798, 'verbose': -1, 'seed': 1}\n",
      "2020-09-03 14:15:42.921 | INFO     | yspecies.selection:fit:82 - SEED: 2 | FOLD: 0 | VALIDATION_SPECIES: ['Rhinopithecus_bieti', 'Ursus_americanus']\n"
     ]
    },
    {
     "name": "stdout",
     "output_type": "stream",
     "text": [
      "[LightGBM] [Warning] verbosity is set=-1, verbose=-1 will be ignored. Current value: verbosity=-1\n",
      "Training until validation scores don't improve for 10 rounds\n",
      "Early stopping, best iteration is:\n",
      "[121]\tvalid_0's l1: 3.44659\tvalid_0's huber: 2.75067\tvalid_0's l2: 29.4222\n"
     ]
    },
    {
     "name": "stderr",
     "output_type": "stream",
     "text": [
      "2020-09-03 14:15:43.041 | INFO     | yspecies.selection:fit:82 - SEED: 2 | FOLD: 1 | VALIDATION_SPECIES: ['Aotus_nancymaae', 'Phascolarctos_cinereus']\n"
     ]
    },
    {
     "name": "stdout",
     "output_type": "stream",
     "text": [
      "Training until validation scores don't improve for 10 rounds\n",
      "[250]\tvalid_0's l1: 4.44365\tvalid_0's huber: 3.63971\tvalid_0's l2: 48.2447\n",
      "Did not meet early stopping. Best iteration is:\n",
      "[248]\tvalid_0's l1: 4.44343\tvalid_0's huber: 3.63949\tvalid_0's l2: 48.268\n"
     ]
    },
    {
     "name": "stderr",
     "output_type": "stream",
     "text": [
      "2020-09-03 14:15:43.273 | INFO     | yspecies.selection:fit:82 - SEED: 2 | FOLD: 2 | VALIDATION_SPECIES: ['Vombatus_ursinus', 'Ailuropoda_melanoleuca']\n"
     ]
    },
    {
     "name": "stdout",
     "output_type": "stream",
     "text": [
      "Training until validation scores don't improve for 10 rounds\n",
      "Early stopping, best iteration is:\n",
      "[136]\tvalid_0's l1: 3.12191\tvalid_0's huber: 2.47499\tvalid_0's l2: 25.3795\n"
     ]
    },
    {
     "name": "stderr",
     "output_type": "stream",
     "text": [
      "2020-09-03 14:15:43.400 | INFO     | yspecies.selection:fit:82 - SEED: 2 | FOLD: 3 | VALIDATION_SPECIES: ['Rattus_norvegicus', 'Monodelphis_domestica']\n"
     ]
    },
    {
     "name": "stdout",
     "output_type": "stream",
     "text": [
      "Training until validation scores don't improve for 10 rounds\n",
      "Early stopping, best iteration is:\n",
      "[177]\tvalid_0's l1: 5.56761\tvalid_0's huber: 4.6293\tvalid_0's l2: 69.9822\n"
     ]
    },
    {
     "name": "stderr",
     "output_type": "stream",
     "text": [
      "2020-09-03 14:15:56.357 | INFO     | yspecies.selection:transform:226 - Metrics: \n",
      "Metrics(R2=0.9292019203007178, MAE=4.144883866895156, MSE=43.26297745768891, huber=3.369691659043367)\n"
     ]
    },
    {
     "name": "stdout",
     "output_type": "stream",
     "text": [
      "3\n"
     ]
    },
    {
     "name": "stderr",
     "output_type": "stream",
     "text": [
      "2020-09-03 14:15:56.369 | INFO     | yspecies.selection:fit:78 - ===== fitting models with seed 3 =====\n",
      "2020-09-03 14:15:56.371 | INFO     | yspecies.selection:fit:79 - PARAMETERS:\n",
      "{'objective': 'regression', 'metric': {'mae', 'huber', 'mse'}, 'verbosity': -1, 'boosting_type': 'gbdt', 'lambda_l1': 0.3970175140579622, 'lambda_l2': 2.9232199794782074, 'max_leaves': 24, 'max_depth': 3, 'feature_fraction': 0.5773544558795595, 'bagging_fraction': 0.687813394959864, 'learning_rate': 0.055301896893383926, 'min_data_in_leaf': 8, 'drop_rate': 0.2947442813300798, 'verbose': -1, 'seed': 2}\n",
      "2020-09-03 14:15:56.376 | INFO     | yspecies.selection:fit:82 - SEED: 3 | FOLD: 0 | VALIDATION_SPECIES: ['Microcebus_murinus', 'Pan_paniscus']\n"
     ]
    },
    {
     "name": "stdout",
     "output_type": "stream",
     "text": [
      "[LightGBM] [Warning] verbosity is set=-1, verbose=-1 will be ignored. Current value: verbosity=-1\n",
      "Training until validation scores don't improve for 10 rounds\n",
      "Early stopping, best iteration is:\n",
      "[81]\tvalid_0's l1: 3.95775\tvalid_0's huber: 3.21021\tvalid_0's l2: 38.379\n"
     ]
    },
    {
     "name": "stderr",
     "output_type": "stream",
     "text": [
      "2020-09-03 14:15:56.476 | INFO     | yspecies.selection:fit:82 - SEED: 3 | FOLD: 1 | VALIDATION_SPECIES: ['Ursus_americanus', 'Gorilla_gorilla']\n"
     ]
    },
    {
     "name": "stdout",
     "output_type": "stream",
     "text": [
      "Training until validation scores don't improve for 10 rounds\n",
      "Early stopping, best iteration is:\n",
      "[160]\tvalid_0's l1: 6.73766\tvalid_0's huber: 5.71222\tvalid_0's l2: 124.145\n"
     ]
    },
    {
     "name": "stderr",
     "output_type": "stream",
     "text": [
      "2020-09-03 14:15:56.648 | INFO     | yspecies.selection:fit:82 - SEED: 3 | FOLD: 2 | VALIDATION_SPECIES: ['Bos_taurus', 'Capra_hircus']\n"
     ]
    },
    {
     "name": "stdout",
     "output_type": "stream",
     "text": [
      "Training until validation scores don't improve for 10 rounds\n",
      "[250]\tvalid_0's l1: 2.96543\tvalid_0's huber: 2.33644\tvalid_0's l2: 25.1571\n",
      "Did not meet early stopping. Best iteration is:\n",
      "[248]\tvalid_0's l1: 2.96383\tvalid_0's huber: 2.33582\tvalid_0's l2: 25.1552\n"
     ]
    },
    {
     "name": "stderr",
     "output_type": "stream",
     "text": [
      "2020-09-03 14:15:56.910 | INFO     | yspecies.selection:fit:82 - SEED: 3 | FOLD: 3 | VALIDATION_SPECIES: ['Rhinolophus_ferrumequinum', 'Mus_musculus']\n"
     ]
    },
    {
     "name": "stdout",
     "output_type": "stream",
     "text": [
      "Training until validation scores don't improve for 10 rounds\n",
      "Early stopping, best iteration is:\n",
      "[137]\tvalid_0's l1: 2.28282\tvalid_0's huber: 1.72085\tvalid_0's l2: 31.6\n"
     ]
    },
    {
     "name": "stderr",
     "output_type": "stream",
     "text": [
      "2020-09-03 14:16:05.861 | INFO     | yspecies.selection:transform:226 - Metrics: \n",
      "Metrics(R2=0.9270864917329016, MAE=3.985516405422292, MSE=54.8197467200592, huber=3.2362377535746125)\n"
     ]
    },
    {
     "name": "stdout",
     "output_type": "stream",
     "text": [
      "4\n"
     ]
    },
    {
     "name": "stderr",
     "output_type": "stream",
     "text": [
      "2020-09-03 14:16:05.870 | INFO     | yspecies.selection:fit:78 - ===== fitting models with seed 4 =====\n",
      "2020-09-03 14:16:05.871 | INFO     | yspecies.selection:fit:79 - PARAMETERS:\n",
      "{'objective': 'regression', 'metric': {'mae', 'huber', 'mse'}, 'verbosity': -1, 'boosting_type': 'gbdt', 'lambda_l1': 0.3970175140579622, 'lambda_l2': 2.9232199794782074, 'max_leaves': 24, 'max_depth': 3, 'feature_fraction': 0.5773544558795595, 'bagging_fraction': 0.687813394959864, 'learning_rate': 0.055301896893383926, 'min_data_in_leaf': 8, 'drop_rate': 0.2947442813300798, 'verbose': -1, 'seed': 3}\n",
      "2020-09-03 14:16:05.875 | INFO     | yspecies.selection:fit:82 - SEED: 4 | FOLD: 0 | VALIDATION_SPECIES: ['Macaca_fascicularis', 'Pan_troglodytes']\n"
     ]
    },
    {
     "name": "stdout",
     "output_type": "stream",
     "text": [
      "[LightGBM] [Warning] verbosity is set=-1, verbose=-1 will be ignored. Current value: verbosity=-1\n",
      "Training until validation scores don't improve for 10 rounds\n",
      "[250]\tvalid_0's l1: 3.32783\tvalid_0's huber: 2.65861\tvalid_0's l2: 32.1959\n",
      "Did not meet early stopping. Best iteration is:\n",
      "[249]\tvalid_0's l1: 3.32706\tvalid_0's huber: 2.65894\tvalid_0's l2: 32.2241\n"
     ]
    },
    {
     "name": "stderr",
     "output_type": "stream",
     "text": [
      "2020-09-03 14:16:06.075 | INFO     | yspecies.selection:fit:82 - SEED: 4 | FOLD: 1 | VALIDATION_SPECIES: ['Otolemur_garnettii', 'Ursus_americanus']\n"
     ]
    },
    {
     "name": "stdout",
     "output_type": "stream",
     "text": [
      "Training until validation scores don't improve for 10 rounds\n",
      "Early stopping, best iteration is:\n",
      "[201]\tvalid_0's l1: 3.51009\tvalid_0's huber: 2.84107\tvalid_0's l2: 66.892\n"
     ]
    },
    {
     "name": "stderr",
     "output_type": "stream",
     "text": [
      "2020-09-03 14:16:06.273 | INFO     | yspecies.selection:fit:82 - SEED: 4 | FOLD: 2 | VALIDATION_SPECIES: ['Heterocephalus_glaber', 'Cavia_aperea']\n"
     ]
    },
    {
     "name": "stdout",
     "output_type": "stream",
     "text": [
      "Training until validation scores don't improve for 10 rounds\n",
      "Early stopping, best iteration is:\n",
      "[232]\tvalid_0's l1: 3.3769\tvalid_0's huber: 2.7218\tvalid_0's l2: 30.3393\n"
     ]
    },
    {
     "name": "stderr",
     "output_type": "stream",
     "text": [
      "2020-09-03 14:16:06.508 | INFO     | yspecies.selection:fit:82 - SEED: 4 | FOLD: 3 | VALIDATION_SPECIES: ['Pan_paniscus', 'Gorilla_gorilla']\n"
     ]
    },
    {
     "name": "stdout",
     "output_type": "stream",
     "text": [
      "Training until validation scores don't improve for 10 rounds\n",
      "[250]\tvalid_0's l1: 6.50787\tvalid_0's huber: 5.52566\tvalid_0's l2: 143.662\n",
      "Did not meet early stopping. Best iteration is:\n",
      "[250]\tvalid_0's l1: 6.50787\tvalid_0's huber: 5.52566\tvalid_0's l2: 143.662\n"
     ]
    },
    {
     "name": "stderr",
     "output_type": "stream",
     "text": [
      "2020-09-03 14:16:23.362 | INFO     | yspecies.selection:transform:226 - Metrics: \n",
      "Metrics(R2=0.907414883095231, MAE=4.1804784727692965, MSE=68.27929147979927, huber=3.4366091467629847)\n"
     ]
    },
    {
     "name": "stdout",
     "output_type": "stream",
     "text": [
      "5\n"
     ]
    },
    {
     "name": "stderr",
     "output_type": "stream",
     "text": [
      "2020-09-03 14:16:23.371 | INFO     | yspecies.selection:fit:78 - ===== fitting models with seed 5 =====\n",
      "2020-09-03 14:16:23.373 | INFO     | yspecies.selection:fit:79 - PARAMETERS:\n",
      "{'objective': 'regression', 'metric': {'mae', 'huber', 'mse'}, 'verbosity': -1, 'boosting_type': 'gbdt', 'lambda_l1': 0.3970175140579622, 'lambda_l2': 2.9232199794782074, 'max_leaves': 24, 'max_depth': 3, 'feature_fraction': 0.5773544558795595, 'bagging_fraction': 0.687813394959864, 'learning_rate': 0.055301896893383926, 'min_data_in_leaf': 8, 'drop_rate': 0.2947442813300798, 'verbose': -1, 'seed': 4}\n",
      "2020-09-03 14:16:23.377 | INFO     | yspecies.selection:fit:82 - SEED: 5 | FOLD: 0 | VALIDATION_SPECIES: ['Mus_spicilegus', 'Canis_lupus_familiaris']\n"
     ]
    },
    {
     "name": "stdout",
     "output_type": "stream",
     "text": [
      "[LightGBM] [Warning] verbosity is set=-1, verbose=-1 will be ignored. Current value: verbosity=-1\n",
      "Training until validation scores don't improve for 10 rounds\n",
      "Early stopping, best iteration is:\n",
      "[101]\tvalid_0's l1: 2.67447\tvalid_0's huber: 2.06103\tvalid_0's l2: 17.4467\n"
     ]
    },
    {
     "name": "stderr",
     "output_type": "stream",
     "text": [
      "2020-09-03 14:16:23.490 | INFO     | yspecies.selection:fit:82 - SEED: 5 | FOLD: 1 | VALIDATION_SPECIES: ['Ovis_aries', 'Heterocephalus_glaber']\n"
     ]
    },
    {
     "name": "stdout",
     "output_type": "stream",
     "text": [
      "Training until validation scores don't improve for 10 rounds\n",
      "Early stopping, best iteration is:\n",
      "[197]\tvalid_0's l1: 4.37543\tvalid_0's huber: 3.59402\tvalid_0's l2: 117.765\n"
     ]
    },
    {
     "name": "stderr",
     "output_type": "stream",
     "text": [
      "2020-09-03 14:16:23.679 | INFO     | yspecies.selection:fit:82 - SEED: 5 | FOLD: 2 | VALIDATION_SPECIES: ['Ursus_americanus', 'Oryctolagus_cuniculus']\n"
     ]
    },
    {
     "name": "stdout",
     "output_type": "stream",
     "text": [
      "Training until validation scores don't improve for 10 rounds\n",
      "[250]\tvalid_0's l1: 4.65281\tvalid_0's huber: 3.86715\tvalid_0's l2: 94.0289\n",
      "Did not meet early stopping. Best iteration is:\n",
      "[246]\tvalid_0's l1: 4.65141\tvalid_0's huber: 3.8651\tvalid_0's l2: 93.9499\n"
     ]
    },
    {
     "name": "stderr",
     "output_type": "stream",
     "text": [
      "2020-09-03 14:16:23.878 | INFO     | yspecies.selection:fit:82 - SEED: 5 | FOLD: 3 | VALIDATION_SPECIES: ['Cavia_aperea', 'Ailuropoda_melanoleuca']\n"
     ]
    },
    {
     "name": "stdout",
     "output_type": "stream",
     "text": [
      "Training until validation scores don't improve for 10 rounds\n",
      "Early stopping, best iteration is:\n",
      "[139]\tvalid_0's l1: 4.07754\tvalid_0's huber: 3.35733\tvalid_0's l2: 64.7707\n"
     ]
    },
    {
     "name": "stderr",
     "output_type": "stream",
     "text": [
      "2020-09-03 14:16:34.595 | INFO     | yspecies.selection:transform:226 - Metrics: \n",
      "Metrics(R2=0.8987591203145376, MAE=3.9447131364550145, MSE=73.483046987525, huber=3.2185090566955)\n"
     ]
    },
    {
     "name": "stdout",
     "output_type": "stream",
     "text": [
      "6\n"
     ]
    },
    {
     "name": "stderr",
     "output_type": "stream",
     "text": [
      "2020-09-03 14:16:34.609 | INFO     | yspecies.selection:fit:78 - ===== fitting models with seed 6 =====\n",
      "2020-09-03 14:16:34.611 | INFO     | yspecies.selection:fit:79 - PARAMETERS:\n",
      "{'objective': 'regression', 'metric': {'mae', 'huber', 'mse'}, 'verbosity': -1, 'boosting_type': 'gbdt', 'lambda_l1': 0.3970175140579622, 'lambda_l2': 2.9232199794782074, 'max_leaves': 24, 'max_depth': 3, 'feature_fraction': 0.5773544558795595, 'bagging_fraction': 0.687813394959864, 'learning_rate': 0.055301896893383926, 'min_data_in_leaf': 8, 'drop_rate': 0.2947442813300798, 'verbose': -1, 'seed': 5}\n",
      "2020-09-03 14:16:34.615 | INFO     | yspecies.selection:fit:82 - SEED: 6 | FOLD: 0 | VALIDATION_SPECIES: ['Rhinolophus_ferrumequinum', 'Heterocephalus_glaber']\n"
     ]
    },
    {
     "name": "stdout",
     "output_type": "stream",
     "text": [
      "[LightGBM] [Warning] verbosity is set=-1, verbose=-1 will be ignored. Current value: verbosity=-1\n",
      "Training until validation scores don't improve for 10 rounds\n",
      "Early stopping, best iteration is:\n",
      "[107]\tvalid_0's l1: 3.48091\tvalid_0's huber: 2.79108\tvalid_0's l2: 35.8672\n"
     ]
    },
    {
     "name": "stderr",
     "output_type": "stream",
     "text": [
      "2020-09-03 14:16:34.742 | INFO     | yspecies.selection:fit:82 - SEED: 6 | FOLD: 1 | VALIDATION_SPECIES: ['Mus_spicilegus', 'Suricata_suricatta']\n"
     ]
    },
    {
     "name": "stdout",
     "output_type": "stream",
     "text": [
      "Training until validation scores don't improve for 10 rounds\n",
      "Early stopping, best iteration is:\n",
      "[150]\tvalid_0's l1: 3.58344\tvalid_0's huber: 2.89999\tvalid_0's l2: 47.1638\n"
     ]
    },
    {
     "name": "stderr",
     "output_type": "stream",
     "text": [
      "2020-09-03 14:16:34.929 | INFO     | yspecies.selection:fit:82 - SEED: 6 | FOLD: 2 | VALIDATION_SPECIES: ['Rhinopithecus_bieti', 'Ovis_aries']\n"
     ]
    },
    {
     "name": "stdout",
     "output_type": "stream",
     "text": [
      "Training until validation scores don't improve for 10 rounds\n",
      "Early stopping, best iteration is:\n",
      "[178]\tvalid_0's l1: 2.39355\tvalid_0's huber: 1.83765\tvalid_0's l2: 17.6077\n"
     ]
    },
    {
     "name": "stderr",
     "output_type": "stream",
     "text": [
      "2020-09-03 14:16:35.141 | INFO     | yspecies.selection:fit:82 - SEED: 6 | FOLD: 3 | VALIDATION_SPECIES: ['Cavia_porcellus', 'Pan_troglodytes']\n"
     ]
    },
    {
     "name": "stdout",
     "output_type": "stream",
     "text": [
      "Training until validation scores don't improve for 10 rounds\n",
      "Early stopping, best iteration is:\n",
      "[195]\tvalid_0's l1: 3.28178\tvalid_0's huber: 2.61878\tvalid_0's l2: 41.7998\n"
     ]
    },
    {
     "name": "stderr",
     "output_type": "stream",
     "text": [
      "2020-09-03 14:16:46.710 | INFO     | yspecies.selection:transform:226 - Metrics: \n",
      "Metrics(R2=0.9509825873090393, MAE=3.1849181615142816, MSE=35.60962879849088, huber=2.5342717802006267)\n"
     ]
    },
    {
     "name": "stdout",
     "output_type": "stream",
     "text": [
      "7\n"
     ]
    },
    {
     "name": "stderr",
     "output_type": "stream",
     "text": [
      "2020-09-03 14:16:46.721 | INFO     | yspecies.selection:fit:78 - ===== fitting models with seed 7 =====\n",
      "2020-09-03 14:16:46.723 | INFO     | yspecies.selection:fit:79 - PARAMETERS:\n",
      "{'objective': 'regression', 'metric': {'mae', 'huber', 'mse'}, 'verbosity': -1, 'boosting_type': 'gbdt', 'lambda_l1': 0.3970175140579622, 'lambda_l2': 2.9232199794782074, 'max_leaves': 24, 'max_depth': 3, 'feature_fraction': 0.5773544558795595, 'bagging_fraction': 0.687813394959864, 'learning_rate': 0.055301896893383926, 'min_data_in_leaf': 8, 'drop_rate': 0.2947442813300798, 'verbose': -1, 'seed': 6}\n",
      "2020-09-03 14:16:46.727 | INFO     | yspecies.selection:fit:82 - SEED: 7 | FOLD: 0 | VALIDATION_SPECIES: ['Macaca_mulatta', 'Cavia_porcellus']\n"
     ]
    },
    {
     "name": "stdout",
     "output_type": "stream",
     "text": [
      "[LightGBM] [Warning] verbosity is set=-1, verbose=-1 will be ignored. Current value: verbosity=-1\n",
      "Training until validation scores don't improve for 10 rounds\n",
      "Early stopping, best iteration is:\n",
      "[176]\tvalid_0's l1: 3.13526\tvalid_0's huber: 2.48366\tvalid_0's l2: 26.8011\n"
     ]
    },
    {
     "name": "stderr",
     "output_type": "stream",
     "text": [
      "2020-09-03 14:16:46.891 | INFO     | yspecies.selection:fit:82 - SEED: 7 | FOLD: 1 | VALIDATION_SPECIES: ['Pan_paniscus', 'Capra_hircus']\n"
     ]
    },
    {
     "name": "stdout",
     "output_type": "stream",
     "text": [
      "Training until validation scores don't improve for 10 rounds\n",
      "Early stopping, best iteration is:\n",
      "[140]\tvalid_0's l1: 3.39609\tvalid_0's huber: 2.72859\tvalid_0's l2: 38.3861\n"
     ]
    },
    {
     "name": "stderr",
     "output_type": "stream",
     "text": [
      "2020-09-03 14:16:47.002 | INFO     | yspecies.selection:fit:82 - SEED: 7 | FOLD: 2 | VALIDATION_SPECIES: ['Otolemur_garnettii', 'Ictidomys_tridecemlineatus']\n"
     ]
    },
    {
     "name": "stdout",
     "output_type": "stream",
     "text": [
      "Training until validation scores don't improve for 10 rounds\n",
      "[250]\tvalid_0's l1: 3.46759\tvalid_0's huber: 2.79519\tvalid_0's l2: 30.2921\n",
      "Did not meet early stopping. Best iteration is:\n",
      "[247]\tvalid_0's l1: 3.46714\tvalid_0's huber: 2.79459\tvalid_0's l2: 30.2821\n"
     ]
    },
    {
     "name": "stderr",
     "output_type": "stream",
     "text": [
      "2020-09-03 14:16:47.199 | INFO     | yspecies.selection:fit:82 - SEED: 7 | FOLD: 3 | VALIDATION_SPECIES: ['Canis_lupus_familiaris', 'Ursus_americanus']\n"
     ]
    },
    {
     "name": "stdout",
     "output_type": "stream",
     "text": [
      "Training until validation scores don't improve for 10 rounds\n",
      "Early stopping, best iteration is:\n",
      "[136]\tvalid_0's l1: 3.5547\tvalid_0's huber: 2.88524\tvalid_0's l2: 45.7993\n"
     ]
    },
    {
     "name": "stderr",
     "output_type": "stream",
     "text": [
      "2020-09-03 14:16:58.492 | INFO     | yspecies.selection:transform:226 - Metrics: \n",
      "Metrics(R2=0.9504902841301949, MAE=3.388299709206641, MSE=35.317153194573415, huber=2.722885024450345)\n"
     ]
    },
    {
     "name": "stdout",
     "output_type": "stream",
     "text": [
      "8\n"
     ]
    },
    {
     "name": "stderr",
     "output_type": "stream",
     "text": [
      "2020-09-03 14:16:58.507 | INFO     | yspecies.selection:fit:78 - ===== fitting models with seed 8 =====\n",
      "2020-09-03 14:16:58.509 | INFO     | yspecies.selection:fit:79 - PARAMETERS:\n",
      "{'objective': 'regression', 'metric': {'mae', 'huber', 'mse'}, 'verbosity': -1, 'boosting_type': 'gbdt', 'lambda_l1': 0.3970175140579622, 'lambda_l2': 2.9232199794782074, 'max_leaves': 24, 'max_depth': 3, 'feature_fraction': 0.5773544558795595, 'bagging_fraction': 0.687813394959864, 'learning_rate': 0.055301896893383926, 'min_data_in_leaf': 8, 'drop_rate': 0.2947442813300798, 'verbose': -1, 'seed': 7}\n",
      "2020-09-03 14:16:58.513 | INFO     | yspecies.selection:fit:82 - SEED: 8 | FOLD: 0 | VALIDATION_SPECIES: ['Pan_paniscus', 'Suricata_suricatta']\n"
     ]
    },
    {
     "name": "stdout",
     "output_type": "stream",
     "text": [
      "[LightGBM] [Warning] verbosity is set=-1, verbose=-1 will be ignored. Current value: verbosity=-1\n",
      "Training until validation scores don't improve for 10 rounds\n",
      "Early stopping, best iteration is:\n",
      "[87]\tvalid_0's l1: 3.12653\tvalid_0's huber: 2.46305\tvalid_0's l2: 27.6452\n"
     ]
    },
    {
     "name": "stderr",
     "output_type": "stream",
     "text": [
      "2020-09-03 14:16:58.646 | INFO     | yspecies.selection:fit:82 - SEED: 8 | FOLD: 1 | VALIDATION_SPECIES: ['Macaca_fascicularis', 'Tupaia_belangeri']\n"
     ]
    },
    {
     "name": "stdout",
     "output_type": "stream",
     "text": [
      "Training until validation scores don't improve for 10 rounds\n",
      "[250]\tvalid_0's l1: 3.15208\tvalid_0's huber: 2.51031\tvalid_0's l2: 31.124\n",
      "Did not meet early stopping. Best iteration is:\n",
      "[250]\tvalid_0's l1: 3.15208\tvalid_0's huber: 2.51031\tvalid_0's l2: 31.124\n"
     ]
    },
    {
     "name": "stderr",
     "output_type": "stream",
     "text": [
      "2020-09-03 14:16:58.910 | INFO     | yspecies.selection:fit:82 - SEED: 8 | FOLD: 2 | VALIDATION_SPECIES: ['Ursus_americanus', 'Capra_hircus']\n"
     ]
    },
    {
     "name": "stdout",
     "output_type": "stream",
     "text": [
      "Training until validation scores don't improve for 10 rounds\n",
      "[250]\tvalid_0's l1: 3.08664\tvalid_0's huber: 2.44642\tvalid_0's l2: 33.6947\n",
      "Did not meet early stopping. Best iteration is:\n",
      "[249]\tvalid_0's l1: 3.0855\tvalid_0's huber: 2.44551\tvalid_0's l2: 33.6635\n"
     ]
    },
    {
     "name": "stderr",
     "output_type": "stream",
     "text": [
      "2020-09-03 14:16:59.153 | INFO     | yspecies.selection:fit:82 - SEED: 8 | FOLD: 3 | VALIDATION_SPECIES: ['Bos_taurus', 'Rhinolophus_ferrumequinum']\n"
     ]
    },
    {
     "name": "stdout",
     "output_type": "stream",
     "text": [
      "Training until validation scores don't improve for 10 rounds\n",
      "Early stopping, best iteration is:\n",
      "[236]\tvalid_0's l1: 2.70631\tvalid_0's huber: 2.10686\tvalid_0's l2: 33.7113\n"
     ]
    },
    {
     "name": "stderr",
     "output_type": "stream",
     "text": [
      "2020-09-03 14:17:11.081 | INFO     | yspecies.selection:transform:226 - Metrics: \n",
      "Metrics(R2=0.9561592315674294, MAE=3.0176043051693573, MSE=31.535986683768428, huber=2.3810872246207024)\n"
     ]
    },
    {
     "name": "stdout",
     "output_type": "stream",
     "text": [
      "9\n"
     ]
    },
    {
     "name": "stderr",
     "output_type": "stream",
     "text": [
      "2020-09-03 14:17:11.093 | INFO     | yspecies.selection:fit:78 - ===== fitting models with seed 9 =====\n",
      "2020-09-03 14:17:11.095 | INFO     | yspecies.selection:fit:79 - PARAMETERS:\n",
      "{'objective': 'regression', 'metric': {'mae', 'huber', 'mse'}, 'verbosity': -1, 'boosting_type': 'gbdt', 'lambda_l1': 0.3970175140579622, 'lambda_l2': 2.9232199794782074, 'max_leaves': 24, 'max_depth': 3, 'feature_fraction': 0.5773544558795595, 'bagging_fraction': 0.687813394959864, 'learning_rate': 0.055301896893383926, 'min_data_in_leaf': 8, 'drop_rate': 0.2947442813300798, 'verbose': -1, 'seed': 8}\n",
      "2020-09-03 14:17:11.099 | INFO     | yspecies.selection:fit:82 - SEED: 9 | FOLD: 0 | VALIDATION_SPECIES: ['Ictidomys_tridecemlineatus', 'Aotus_nancymaae']\n"
     ]
    },
    {
     "name": "stdout",
     "output_type": "stream",
     "text": [
      "[LightGBM] [Warning] verbosity is set=-1, verbose=-1 will be ignored. Current value: verbosity=-1\n",
      "Training until validation scores don't improve for 10 rounds\n",
      "Early stopping, best iteration is:\n",
      "[131]\tvalid_0's l1: 3.26118\tvalid_0's huber: 2.59877\tvalid_0's l2: 27.2882\n"
     ]
    },
    {
     "name": "stderr",
     "output_type": "stream",
     "text": [
      "2020-09-03 14:17:11.239 | INFO     | yspecies.selection:fit:82 - SEED: 9 | FOLD: 1 | VALIDATION_SPECIES: ['Pan_troglodytes', 'Oryctolagus_cuniculus']\n"
     ]
    },
    {
     "name": "stdout",
     "output_type": "stream",
     "text": [
      "Training until validation scores don't improve for 10 rounds\n",
      "Early stopping, best iteration is:\n",
      "[161]\tvalid_0's l1: 4.96223\tvalid_0's huber: 4.10425\tvalid_0's l2: 81.704\n"
     ]
    },
    {
     "name": "stderr",
     "output_type": "stream",
     "text": [
      "2020-09-03 14:17:11.395 | INFO     | yspecies.selection:fit:82 - SEED: 9 | FOLD: 2 | VALIDATION_SPECIES: ['Mesocricetus_auratus', 'Meriones_unguiculatus']\n"
     ]
    },
    {
     "name": "stdout",
     "output_type": "stream",
     "text": [
      "Training until validation scores don't improve for 10 rounds\n",
      "Early stopping, best iteration is:\n",
      "[138]\tvalid_0's l1: 4.00917\tvalid_0's huber: 3.26711\tvalid_0's l2: 49.0439\n"
     ]
    },
    {
     "name": "stderr",
     "output_type": "stream",
     "text": [
      "2020-09-03 14:17:11.518 | INFO     | yspecies.selection:fit:82 - SEED: 9 | FOLD: 3 | VALIDATION_SPECIES: ['Gorilla_gorilla', 'Microcebus_murinus']\n"
     ]
    },
    {
     "name": "stdout",
     "output_type": "stream",
     "text": [
      "Training until validation scores don't improve for 10 rounds\n",
      "Early stopping, best iteration is:\n",
      "[197]\tvalid_0's l1: 5.47776\tvalid_0's huber: 4.61032\tvalid_0's l2: 117.563\n"
     ]
    },
    {
     "name": "stderr",
     "output_type": "stream",
     "text": [
      "2020-09-03 14:17:25.074 | INFO     | yspecies.selection:transform:226 - Metrics: \n",
      "Metrics(R2=0.905526251849305, MAE=4.427586948592921, MSE=68.89976431014787, huber=3.644875381173234)\n",
      "MultiObjectiveTrial is experimental (supported from v1.4.0). The interface can change in the future.\n",
      "MultiObjectiveStudy is experimental (supported from v1.4.0). The interface can change in the future.\n",
      "[I 2020-09-03 14:17:25,534] Trial 486 finished with values: [0.9230114037475083, 3.159661190437955, 0.5228762751031464] with parameters: {'boosting_type': 'gbdt', 'lambda_l1': 0.3970175140579622, 'lambda_l2': 2.9232199794782074, 'max_leaves': 24, 'max_depth': 3, 'feature_fraction': 0.5773544558795595, 'bagging_fraction': 0.687813394959864, 'learning_rate': 0.055301896893383926, 'min_data_in_leaf': 8, 'drop_rate': 0.2947442813300798}.\n",
      "MultiObjectiveStudy is experimental (supported from v1.4.0). The interface can change in the future.\n",
      "FrozenMultiObjectiveTrial is experimental (supported from v1.4.0). The interface can change in the future.\n",
      "MultiObjectiveStudy is experimental (supported from v1.4.0). The interface can change in the future.\n",
      "FrozenMultiObjectiveTrial is experimental (supported from v1.4.0). The interface can change in the future.\n",
      "FrozenMultiObjectiveTrial is experimental (supported from v1.4.0). The interface can change in the future.\n",
      "MultiObjectiveTrial is experimental (supported from v1.4.0). The interface can change in the future.\n",
      "MultiObjectiveStudy is experimental (supported from v1.4.0). The interface can change in the future.\n",
      "FrozenMultiObjectiveTrial is experimental (supported from v1.4.0). The interface can change in the future.\n"
     ]
    },
    {
     "name": "stdout",
     "output_type": "stream",
     "text": [
      "0\n"
     ]
    },
    {
     "name": "stderr",
     "output_type": "stream",
     "text": [
      "2020-09-03 14:17:25.792 | INFO     | yspecies.selection:fit:78 - ===== fitting models with seed 0 =====\n",
      "2020-09-03 14:17:25.794 | INFO     | yspecies.selection:fit:79 - PARAMETERS:\n",
      "{'objective': 'regression', 'metric': {'mae', 'huber', 'mse'}, 'verbosity': -1, 'boosting_type': 'gbdt', 'lambda_l1': 1.5964971319257402, 'lambda_l2': 2.9232199794782074, 'max_leaves': 19, 'max_depth': 3, 'feature_fraction': 0.5607884080891938, 'bagging_fraction': 0.969454637632708, 'learning_rate': 0.025226438405212576, 'min_data_in_leaf': 7, 'drop_rate': 0.15866757321975836, 'verbose': -1}\n",
      "2020-09-03 14:17:25.799 | INFO     | yspecies.selection:fit:82 - SEED: 0 | FOLD: 0 | VALIDATION_SPECIES: ['Gorilla_gorilla', 'Pan_paniscus']\n"
     ]
    },
    {
     "name": "stdout",
     "output_type": "stream",
     "text": [
      "[LightGBM] [Warning] verbosity is set=-1, verbose=-1 will be ignored. Current value: verbosity=-1\n",
      "Training until validation scores don't improve for 10 rounds\n",
      "[250]\tvalid_0's l1: 8.19741\tvalid_0's huber: 7.02362\tvalid_0's l2: 197.739\n",
      "Did not meet early stopping. Best iteration is:\n",
      "[250]\tvalid_0's l1: 8.19741\tvalid_0's huber: 7.02362\tvalid_0's l2: 197.739\n"
     ]
    },
    {
     "name": "stderr",
     "output_type": "stream",
     "text": [
      "2020-09-03 14:17:26.032 | INFO     | yspecies.selection:fit:82 - SEED: 0 | FOLD: 1 | VALIDATION_SPECIES: ['Heterocephalus_glaber', 'Capra_hircus']\n"
     ]
    },
    {
     "name": "stdout",
     "output_type": "stream",
     "text": [
      "Training until validation scores don't improve for 10 rounds\n",
      "[250]\tvalid_0's l1: 3.73212\tvalid_0's huber: 3.02667\tvalid_0's l2: 51.7268\n",
      "Did not meet early stopping. Best iteration is:\n",
      "[250]\tvalid_0's l1: 3.73212\tvalid_0's huber: 3.02667\tvalid_0's l2: 51.7268\n"
     ]
    },
    {
     "name": "stderr",
     "output_type": "stream",
     "text": [
      "2020-09-03 14:17:26.241 | INFO     | yspecies.selection:fit:82 - SEED: 0 | FOLD: 2 | VALIDATION_SPECIES: ['Bos_taurus', 'Otolemur_garnettii']\n"
     ]
    },
    {
     "name": "stdout",
     "output_type": "stream",
     "text": [
      "Training until validation scores don't improve for 10 rounds\n",
      "[250]\tvalid_0's l1: 3.24465\tvalid_0's huber: 2.59564\tvalid_0's l2: 36.0721\n",
      "Did not meet early stopping. Best iteration is:\n",
      "[250]\tvalid_0's l1: 3.24465\tvalid_0's huber: 2.59564\tvalid_0's l2: 36.0721\n"
     ]
    },
    {
     "name": "stderr",
     "output_type": "stream",
     "text": [
      "2020-09-03 14:17:26.465 | INFO     | yspecies.selection:fit:82 - SEED: 0 | FOLD: 3 | VALIDATION_SPECIES: ['Macaca_nemestrina', 'Microcebus_murinus']\n"
     ]
    },
    {
     "name": "stdout",
     "output_type": "stream",
     "text": [
      "Training until validation scores don't improve for 10 rounds\n",
      "[250]\tvalid_0's l1: 3.33703\tvalid_0's huber: 2.6784\tvalid_0's l2: 54.9173\n",
      "Did not meet early stopping. Best iteration is:\n",
      "[250]\tvalid_0's l1: 3.33703\tvalid_0's huber: 2.6784\tvalid_0's l2: 54.9173\n"
     ]
    },
    {
     "name": "stderr",
     "output_type": "stream",
     "text": [
      "2020-09-03 14:17:38.091 | INFO     | yspecies.selection:transform:226 - Metrics: \n",
      "Metrics(R2=0.8890176472763929, MAE=4.6278009009003815, MSE=85.11393097067511, huber=3.831081193421088)\n"
     ]
    },
    {
     "name": "stdout",
     "output_type": "stream",
     "text": [
      "1\n"
     ]
    },
    {
     "name": "stderr",
     "output_type": "stream",
     "text": [
      "2020-09-03 14:17:38.100 | INFO     | yspecies.selection:fit:78 - ===== fitting models with seed 1 =====\n",
      "2020-09-03 14:17:38.102 | INFO     | yspecies.selection:fit:79 - PARAMETERS:\n",
      "{'objective': 'regression', 'metric': {'mae', 'huber', 'mse'}, 'verbosity': -1, 'boosting_type': 'gbdt', 'lambda_l1': 1.5964971319257402, 'lambda_l2': 2.9232199794782074, 'max_leaves': 19, 'max_depth': 3, 'feature_fraction': 0.5607884080891938, 'bagging_fraction': 0.969454637632708, 'learning_rate': 0.025226438405212576, 'min_data_in_leaf': 7, 'drop_rate': 0.15866757321975836, 'verbose': -1, 'seed': 0}\n",
      "2020-09-03 14:17:38.106 | INFO     | yspecies.selection:fit:82 - SEED: 1 | FOLD: 0 | VALIDATION_SPECIES: ['Felis_catus', 'Ursus_americanus']\n"
     ]
    },
    {
     "name": "stdout",
     "output_type": "stream",
     "text": [
      "[LightGBM] [Warning] verbosity is set=-1, verbose=-1 will be ignored. Current value: verbosity=-1\n",
      "Training until validation scores don't improve for 10 rounds\n",
      "Early stopping, best iteration is:\n",
      "[215]\tvalid_0's l1: 3.56103\tvalid_0's huber: 2.85015\tvalid_0's l2: 30.7119\n"
     ]
    },
    {
     "name": "stderr",
     "output_type": "stream",
     "text": [
      "2020-09-03 14:17:38.295 | INFO     | yspecies.selection:fit:82 - SEED: 1 | FOLD: 1 | VALIDATION_SPECIES: ['Heterocephalus_glaber', 'Vombatus_ursinus']\n"
     ]
    },
    {
     "name": "stdout",
     "output_type": "stream",
     "text": [
      "Training until validation scores don't improve for 10 rounds\n",
      "[250]\tvalid_0's l1: 4.16374\tvalid_0's huber: 3.40201\tvalid_0's l2: 61.7295\n",
      "Did not meet early stopping. Best iteration is:\n",
      "[250]\tvalid_0's l1: 4.16374\tvalid_0's huber: 3.40201\tvalid_0's l2: 61.7295\n"
     ]
    },
    {
     "name": "stderr",
     "output_type": "stream",
     "text": [
      "2020-09-03 14:17:38.509 | INFO     | yspecies.selection:fit:82 - SEED: 1 | FOLD: 2 | VALIDATION_SPECIES: ['Macaca_fascicularis', 'Rhinopithecus_bieti']\n"
     ]
    },
    {
     "name": "stdout",
     "output_type": "stream",
     "text": [
      "Training until validation scores don't improve for 10 rounds\n",
      "[250]\tvalid_0's l1: 2.61014\tvalid_0's huber: 2.01679\tvalid_0's l2: 25.2702\n",
      "Did not meet early stopping. Best iteration is:\n",
      "[249]\tvalid_0's l1: 2.60943\tvalid_0's huber: 2.01664\tvalid_0's l2: 25.2598\n"
     ]
    },
    {
     "name": "stderr",
     "output_type": "stream",
     "text": [
      "2020-09-03 14:17:38.708 | INFO     | yspecies.selection:fit:82 - SEED: 1 | FOLD: 3 | VALIDATION_SPECIES: ['Gorilla_gorilla', 'Ovis_aries']\n"
     ]
    },
    {
     "name": "stdout",
     "output_type": "stream",
     "text": [
      "Training until validation scores don't improve for 10 rounds\n",
      "[250]\tvalid_0's l1: 5.915\tvalid_0's huber: 4.993\tvalid_0's l2: 137.895\n",
      "Did not meet early stopping. Best iteration is:\n",
      "[250]\tvalid_0's l1: 5.915\tvalid_0's huber: 4.993\tvalid_0's l2: 137.895\n"
     ]
    },
    {
     "name": "stderr",
     "output_type": "stream",
     "text": [
      "2020-09-03 14:17:49.331 | INFO     | yspecies.selection:transform:226 - Metrics: \n",
      "Metrics(R2=0.9087085216564992, MAE=4.062301176607429, MSE=63.89897439200088, huber=3.3155334139070343)\n"
     ]
    },
    {
     "name": "stdout",
     "output_type": "stream",
     "text": [
      "2\n"
     ]
    },
    {
     "name": "stderr",
     "output_type": "stream",
     "text": [
      "2020-09-03 14:17:49.340 | INFO     | yspecies.selection:fit:78 - ===== fitting models with seed 2 =====\n",
      "2020-09-03 14:17:49.342 | INFO     | yspecies.selection:fit:79 - PARAMETERS:\n",
      "{'objective': 'regression', 'metric': {'mae', 'huber', 'mse'}, 'verbosity': -1, 'boosting_type': 'gbdt', 'lambda_l1': 1.5964971319257402, 'lambda_l2': 2.9232199794782074, 'max_leaves': 19, 'max_depth': 3, 'feature_fraction': 0.5607884080891938, 'bagging_fraction': 0.969454637632708, 'learning_rate': 0.025226438405212576, 'min_data_in_leaf': 7, 'drop_rate': 0.15866757321975836, 'verbose': -1, 'seed': 1}\n",
      "2020-09-03 14:17:49.346 | INFO     | yspecies.selection:fit:82 - SEED: 2 | FOLD: 0 | VALIDATION_SPECIES: ['Rhinopithecus_bieti', 'Ursus_americanus']\n"
     ]
    },
    {
     "name": "stdout",
     "output_type": "stream",
     "text": [
      "[LightGBM] [Warning] verbosity is set=-1, verbose=-1 will be ignored. Current value: verbosity=-1\n",
      "Training until validation scores don't improve for 10 rounds\n",
      "[250]\tvalid_0's l1: 3.23718\tvalid_0's huber: 2.55447\tvalid_0's l2: 23.8819\n",
      "Did not meet early stopping. Best iteration is:\n",
      "[250]\tvalid_0's l1: 3.23718\tvalid_0's huber: 2.55447\tvalid_0's l2: 23.8819\n"
     ]
    },
    {
     "name": "stderr",
     "output_type": "stream",
     "text": [
      "2020-09-03 14:17:49.622 | INFO     | yspecies.selection:fit:82 - SEED: 2 | FOLD: 1 | VALIDATION_SPECIES: ['Aotus_nancymaae', 'Phascolarctos_cinereus']\n"
     ]
    },
    {
     "name": "stdout",
     "output_type": "stream",
     "text": [
      "Training until validation scores don't improve for 10 rounds\n",
      "[250]\tvalid_0's l1: 4.51476\tvalid_0's huber: 3.69717\tvalid_0's l2: 49.6959\n",
      "Did not meet early stopping. Best iteration is:\n",
      "[250]\tvalid_0's l1: 4.51476\tvalid_0's huber: 3.69717\tvalid_0's l2: 49.6959\n"
     ]
    },
    {
     "name": "stderr",
     "output_type": "stream",
     "text": [
      "2020-09-03 14:17:49.866 | INFO     | yspecies.selection:fit:82 - SEED: 2 | FOLD: 2 | VALIDATION_SPECIES: ['Vombatus_ursinus', 'Ailuropoda_melanoleuca']\n"
     ]
    },
    {
     "name": "stdout",
     "output_type": "stream",
     "text": [
      "Training until validation scores don't improve for 10 rounds\n",
      "[250]\tvalid_0's l1: 3.13676\tvalid_0's huber: 2.48924\tvalid_0's l2: 24.8305\n",
      "Did not meet early stopping. Best iteration is:\n",
      "[250]\tvalid_0's l1: 3.13676\tvalid_0's huber: 2.48924\tvalid_0's l2: 24.8305\n"
     ]
    },
    {
     "name": "stderr",
     "output_type": "stream",
     "text": [
      "2020-09-03 14:17:50.138 | INFO     | yspecies.selection:fit:82 - SEED: 2 | FOLD: 3 | VALIDATION_SPECIES: ['Rattus_norvegicus', 'Monodelphis_domestica']\n"
     ]
    },
    {
     "name": "stdout",
     "output_type": "stream",
     "text": [
      "Training until validation scores don't improve for 10 rounds\n",
      "[250]\tvalid_0's l1: 6.26538\tvalid_0's huber: 5.2531\tvalid_0's l2: 78.9277\n",
      "Did not meet early stopping. Best iteration is:\n",
      "[250]\tvalid_0's l1: 6.26538\tvalid_0's huber: 5.2531\tvalid_0's l2: 78.9277\n"
     ]
    },
    {
     "name": "stderr",
     "output_type": "stream",
     "text": [
      "2020-09-03 14:18:02.600 | INFO     | yspecies.selection:transform:226 - Metrics: \n",
      "Metrics(R2=0.9256066356672827, MAE=4.288521270893647, MSE=44.33400403334787, huber=3.498496456567725)\n"
     ]
    },
    {
     "name": "stdout",
     "output_type": "stream",
     "text": [
      "3\n"
     ]
    },
    {
     "name": "stderr",
     "output_type": "stream",
     "text": [
      "2020-09-03 14:18:02.608 | INFO     | yspecies.selection:fit:78 - ===== fitting models with seed 3 =====\n",
      "2020-09-03 14:18:02.609 | INFO     | yspecies.selection:fit:79 - PARAMETERS:\n",
      "{'objective': 'regression', 'metric': {'mae', 'huber', 'mse'}, 'verbosity': -1, 'boosting_type': 'gbdt', 'lambda_l1': 1.5964971319257402, 'lambda_l2': 2.9232199794782074, 'max_leaves': 19, 'max_depth': 3, 'feature_fraction': 0.5607884080891938, 'bagging_fraction': 0.969454637632708, 'learning_rate': 0.025226438405212576, 'min_data_in_leaf': 7, 'drop_rate': 0.15866757321975836, 'verbose': -1, 'seed': 2}\n",
      "2020-09-03 14:18:02.613 | INFO     | yspecies.selection:fit:82 - SEED: 3 | FOLD: 0 | VALIDATION_SPECIES: ['Microcebus_murinus', 'Pan_paniscus']\n"
     ]
    },
    {
     "name": "stdout",
     "output_type": "stream",
     "text": [
      "[LightGBM] [Warning] verbosity is set=-1, verbose=-1 will be ignored. Current value: verbosity=-1\n",
      "Training until validation scores don't improve for 10 rounds\n",
      "Early stopping, best iteration is:\n",
      "[185]\tvalid_0's l1: 3.96543\tvalid_0's huber: 3.19991\tvalid_0's l2: 35.0744\n"
     ]
    },
    {
     "name": "stderr",
     "output_type": "stream",
     "text": [
      "2020-09-03 14:18:02.801 | INFO     | yspecies.selection:fit:82 - SEED: 3 | FOLD: 1 | VALIDATION_SPECIES: ['Ursus_americanus', 'Gorilla_gorilla']\n"
     ]
    },
    {
     "name": "stdout",
     "output_type": "stream",
     "text": [
      "Training until validation scores don't improve for 10 rounds\n",
      "[250]\tvalid_0's l1: 6.69669\tvalid_0's huber: 5.66551\tvalid_0's l2: 117.213\n",
      "Did not meet early stopping. Best iteration is:\n",
      "[250]\tvalid_0's l1: 6.69669\tvalid_0's huber: 5.66551\tvalid_0's l2: 117.213\n"
     ]
    },
    {
     "name": "stderr",
     "output_type": "stream",
     "text": [
      "2020-09-03 14:18:03.138 | INFO     | yspecies.selection:fit:82 - SEED: 3 | FOLD: 2 | VALIDATION_SPECIES: ['Bos_taurus', 'Capra_hircus']\n"
     ]
    },
    {
     "name": "stdout",
     "output_type": "stream",
     "text": [
      "Training until validation scores don't improve for 10 rounds\n",
      "[250]\tvalid_0's l1: 3.21718\tvalid_0's huber: 2.55051\tvalid_0's l2: 29.9713\n",
      "Did not meet early stopping. Best iteration is:\n",
      "[250]\tvalid_0's l1: 3.21718\tvalid_0's huber: 2.55051\tvalid_0's l2: 29.9713\n"
     ]
    },
    {
     "name": "stderr",
     "output_type": "stream",
     "text": [
      "2020-09-03 14:18:03.361 | INFO     | yspecies.selection:fit:82 - SEED: 3 | FOLD: 3 | VALIDATION_SPECIES: ['Rhinolophus_ferrumequinum', 'Mus_musculus']\n"
     ]
    },
    {
     "name": "stdout",
     "output_type": "stream",
     "text": [
      "Training until validation scores don't improve for 10 rounds\n",
      "[250]\tvalid_0's l1: 2.66371\tvalid_0's huber: 2.03911\tvalid_0's l2: 33.772\n",
      "Did not meet early stopping. Best iteration is:\n",
      "[250]\tvalid_0's l1: 2.66371\tvalid_0's huber: 2.03911\tvalid_0's l2: 33.772\n"
     ]
    },
    {
     "name": "stderr",
     "output_type": "stream",
     "text": [
      "2020-09-03 14:18:15.378 | INFO     | yspecies.selection:transform:226 - Metrics: \n",
      "Metrics(R2=0.927534507481159, MAE=4.135752779303721, MSE=54.007649091389204, huber=3.3618119449801407)\n"
     ]
    },
    {
     "name": "stdout",
     "output_type": "stream",
     "text": [
      "4\n"
     ]
    },
    {
     "name": "stderr",
     "output_type": "stream",
     "text": [
      "2020-09-03 14:18:15.387 | INFO     | yspecies.selection:fit:78 - ===== fitting models with seed 4 =====\n",
      "2020-09-03 14:18:15.388 | INFO     | yspecies.selection:fit:79 - PARAMETERS:\n",
      "{'objective': 'regression', 'metric': {'mae', 'huber', 'mse'}, 'verbosity': -1, 'boosting_type': 'gbdt', 'lambda_l1': 1.5964971319257402, 'lambda_l2': 2.9232199794782074, 'max_leaves': 19, 'max_depth': 3, 'feature_fraction': 0.5607884080891938, 'bagging_fraction': 0.969454637632708, 'learning_rate': 0.025226438405212576, 'min_data_in_leaf': 7, 'drop_rate': 0.15866757321975836, 'verbose': -1, 'seed': 3}\n",
      "2020-09-03 14:18:15.392 | INFO     | yspecies.selection:fit:82 - SEED: 4 | FOLD: 0 | VALIDATION_SPECIES: ['Macaca_fascicularis', 'Pan_troglodytes']\n"
     ]
    },
    {
     "name": "stdout",
     "output_type": "stream",
     "text": [
      "[LightGBM] [Warning] verbosity is set=-1, verbose=-1 will be ignored. Current value: verbosity=-1\n",
      "Training until validation scores don't improve for 10 rounds\n",
      "[250]\tvalid_0's l1: 3.30271\tvalid_0's huber: 2.6318\tvalid_0's l2: 33.9911\n",
      "Did not meet early stopping. Best iteration is:\n",
      "[250]\tvalid_0's l1: 3.30271\tvalid_0's huber: 2.6318\tvalid_0's l2: 33.9911\n"
     ]
    },
    {
     "name": "stderr",
     "output_type": "stream",
     "text": [
      "2020-09-03 14:18:15.593 | INFO     | yspecies.selection:fit:82 - SEED: 4 | FOLD: 1 | VALIDATION_SPECIES: ['Otolemur_garnettii', 'Ursus_americanus']\n"
     ]
    },
    {
     "name": "stdout",
     "output_type": "stream",
     "text": [
      "Training until validation scores don't improve for 10 rounds\n",
      "[250]\tvalid_0's l1: 3.44841\tvalid_0's huber: 2.78043\tvalid_0's l2: 59.0868\n",
      "Did not meet early stopping. Best iteration is:\n",
      "[249]\tvalid_0's l1: 3.4482\tvalid_0's huber: 2.78076\tvalid_0's l2: 59.0754\n"
     ]
    },
    {
     "name": "stderr",
     "output_type": "stream",
     "text": [
      "2020-09-03 14:18:15.815 | INFO     | yspecies.selection:fit:82 - SEED: 4 | FOLD: 2 | VALIDATION_SPECIES: ['Heterocephalus_glaber', 'Cavia_aperea']\n"
     ]
    },
    {
     "name": "stdout",
     "output_type": "stream",
     "text": [
      "Training until validation scores don't improve for 10 rounds\n",
      "[250]\tvalid_0's l1: 3.68142\tvalid_0's huber: 2.98649\tvalid_0's l2: 30.974\n",
      "Did not meet early stopping. Best iteration is:\n",
      "[250]\tvalid_0's l1: 3.68142\tvalid_0's huber: 2.98649\tvalid_0's l2: 30.974\n"
     ]
    },
    {
     "name": "stderr",
     "output_type": "stream",
     "text": [
      "2020-09-03 14:18:16.029 | INFO     | yspecies.selection:fit:82 - SEED: 4 | FOLD: 3 | VALIDATION_SPECIES: ['Pan_paniscus', 'Gorilla_gorilla']\n"
     ]
    },
    {
     "name": "stdout",
     "output_type": "stream",
     "text": [
      "Training until validation scores don't improve for 10 rounds\n",
      "[250]\tvalid_0's l1: 6.85592\tvalid_0's huber: 5.82726\tvalid_0's l2: 152.205\n",
      "Did not meet early stopping. Best iteration is:\n",
      "[250]\tvalid_0's l1: 6.85592\tvalid_0's huber: 5.82726\tvalid_0's l2: 152.205\n"
     ]
    },
    {
     "name": "stderr",
     "output_type": "stream",
     "text": [
      "2020-09-03 14:18:30.433 | INFO     | yspecies.selection:transform:226 - Metrics: \n",
      "Metrics(R2=0.9067564024583973, MAE=4.32206157792185, MSE=69.06136591736387, huber=3.5564981521916277)\n"
     ]
    },
    {
     "name": "stdout",
     "output_type": "stream",
     "text": [
      "5\n"
     ]
    },
    {
     "name": "stderr",
     "output_type": "stream",
     "text": [
      "2020-09-03 14:18:30.441 | INFO     | yspecies.selection:fit:78 - ===== fitting models with seed 5 =====\n",
      "2020-09-03 14:18:30.442 | INFO     | yspecies.selection:fit:79 - PARAMETERS:\n",
      "{'objective': 'regression', 'metric': {'mae', 'huber', 'mse'}, 'verbosity': -1, 'boosting_type': 'gbdt', 'lambda_l1': 1.5964971319257402, 'lambda_l2': 2.9232199794782074, 'max_leaves': 19, 'max_depth': 3, 'feature_fraction': 0.5607884080891938, 'bagging_fraction': 0.969454637632708, 'learning_rate': 0.025226438405212576, 'min_data_in_leaf': 7, 'drop_rate': 0.15866757321975836, 'verbose': -1, 'seed': 4}\n",
      "2020-09-03 14:18:30.446 | INFO     | yspecies.selection:fit:82 - SEED: 5 | FOLD: 0 | VALIDATION_SPECIES: ['Mus_spicilegus', 'Canis_lupus_familiaris']\n"
     ]
    },
    {
     "name": "stdout",
     "output_type": "stream",
     "text": [
      "[LightGBM] [Warning] verbosity is set=-1, verbose=-1 will be ignored. Current value: verbosity=-1\n",
      "Training until validation scores don't improve for 10 rounds\n",
      "[250]\tvalid_0's l1: 2.68025\tvalid_0's huber: 2.06984\tvalid_0's l2: 20.4481\n",
      "Did not meet early stopping. Best iteration is:\n",
      "[250]\tvalid_0's l1: 2.68025\tvalid_0's huber: 2.06984\tvalid_0's l2: 20.4481\n"
     ]
    },
    {
     "name": "stderr",
     "output_type": "stream",
     "text": [
      "2020-09-03 14:18:30.743 | INFO     | yspecies.selection:fit:82 - SEED: 5 | FOLD: 1 | VALIDATION_SPECIES: ['Ovis_aries', 'Heterocephalus_glaber']\n"
     ]
    },
    {
     "name": "stdout",
     "output_type": "stream",
     "text": [
      "Training until validation scores don't improve for 10 rounds\n",
      "[250]\tvalid_0's l1: 4.48837\tvalid_0's huber: 3.69792\tvalid_0's l2: 111.258\n",
      "Did not meet early stopping. Best iteration is:\n",
      "[250]\tvalid_0's l1: 4.48837\tvalid_0's huber: 3.69792\tvalid_0's l2: 111.258\n"
     ]
    },
    {
     "name": "stderr",
     "output_type": "stream",
     "text": [
      "2020-09-03 14:18:30.978 | INFO     | yspecies.selection:fit:82 - SEED: 5 | FOLD: 2 | VALIDATION_SPECIES: ['Ursus_americanus', 'Oryctolagus_cuniculus']\n"
     ]
    },
    {
     "name": "stdout",
     "output_type": "stream",
     "text": [
      "Training until validation scores don't improve for 10 rounds\n",
      "[250]\tvalid_0's l1: 5.09214\tvalid_0's huber: 4.25469\tvalid_0's l2: 99.4633\n",
      "Did not meet early stopping. Best iteration is:\n",
      "[250]\tvalid_0's l1: 5.09214\tvalid_0's huber: 4.25469\tvalid_0's l2: 99.4633\n"
     ]
    },
    {
     "name": "stderr",
     "output_type": "stream",
     "text": [
      "2020-09-03 14:18:31.173 | INFO     | yspecies.selection:fit:82 - SEED: 5 | FOLD: 3 | VALIDATION_SPECIES: ['Cavia_aperea', 'Ailuropoda_melanoleuca']\n"
     ]
    },
    {
     "name": "stdout",
     "output_type": "stream",
     "text": [
      "Training until validation scores don't improve for 10 rounds\n",
      "[250]\tvalid_0's l1: 4.0142\tvalid_0's huber: 3.29204\tvalid_0's l2: 62.07\n",
      "Did not meet early stopping. Best iteration is:\n",
      "[250]\tvalid_0's l1: 4.0142\tvalid_0's huber: 3.29204\tvalid_0's l2: 62.07\n"
     ]
    },
    {
     "name": "stderr",
     "output_type": "stream",
     "text": [
      "2020-09-03 14:18:44.197 | INFO     | yspecies.selection:transform:226 - Metrics: \n",
      "Metrics(R2=0.8993524551475698, MAE=4.068741097556284, MSE=73.30976997432128, huber=3.328622893857585)\n"
     ]
    },
    {
     "name": "stdout",
     "output_type": "stream",
     "text": [
      "6\n"
     ]
    },
    {
     "name": "stderr",
     "output_type": "stream",
     "text": [
      "2020-09-03 14:18:44.205 | INFO     | yspecies.selection:fit:78 - ===== fitting models with seed 6 =====\n",
      "2020-09-03 14:18:44.206 | INFO     | yspecies.selection:fit:79 - PARAMETERS:\n",
      "{'objective': 'regression', 'metric': {'mae', 'huber', 'mse'}, 'verbosity': -1, 'boosting_type': 'gbdt', 'lambda_l1': 1.5964971319257402, 'lambda_l2': 2.9232199794782074, 'max_leaves': 19, 'max_depth': 3, 'feature_fraction': 0.5607884080891938, 'bagging_fraction': 0.969454637632708, 'learning_rate': 0.025226438405212576, 'min_data_in_leaf': 7, 'drop_rate': 0.15866757321975836, 'verbose': -1, 'seed': 5}\n",
      "2020-09-03 14:18:44.210 | INFO     | yspecies.selection:fit:82 - SEED: 6 | FOLD: 0 | VALIDATION_SPECIES: ['Rhinolophus_ferrumequinum', 'Heterocephalus_glaber']\n"
     ]
    },
    {
     "name": "stdout",
     "output_type": "stream",
     "text": [
      "[LightGBM] [Warning] verbosity is set=-1, verbose=-1 will be ignored. Current value: verbosity=-1\n",
      "Training until validation scores don't improve for 10 rounds\n",
      "[250]\tvalid_0's l1: 3.55218\tvalid_0's huber: 2.85623\tvalid_0's l2: 34.6845\n",
      "Did not meet early stopping. Best iteration is:\n",
      "[250]\tvalid_0's l1: 3.55218\tvalid_0's huber: 2.85623\tvalid_0's l2: 34.6845\n"
     ]
    },
    {
     "name": "stderr",
     "output_type": "stream",
     "text": [
      "2020-09-03 14:18:44.459 | INFO     | yspecies.selection:fit:82 - SEED: 6 | FOLD: 1 | VALIDATION_SPECIES: ['Mus_spicilegus', 'Suricata_suricatta']\n"
     ]
    },
    {
     "name": "stdout",
     "output_type": "stream",
     "text": [
      "Training until validation scores don't improve for 10 rounds\n",
      "[250]\tvalid_0's l1: 3.68449\tvalid_0's huber: 2.9992\tvalid_0's l2: 44.12\n",
      "Did not meet early stopping. Best iteration is:\n",
      "[250]\tvalid_0's l1: 3.68449\tvalid_0's huber: 2.9992\tvalid_0's l2: 44.12\n"
     ]
    },
    {
     "name": "stderr",
     "output_type": "stream",
     "text": [
      "2020-09-03 14:18:44.841 | INFO     | yspecies.selection:fit:82 - SEED: 6 | FOLD: 2 | VALIDATION_SPECIES: ['Rhinopithecus_bieti', 'Ovis_aries']\n"
     ]
    },
    {
     "name": "stdout",
     "output_type": "stream",
     "text": [
      "Training until validation scores don't improve for 10 rounds\n",
      "[250]\tvalid_0's l1: 2.67901\tvalid_0's huber: 2.07902\tvalid_0's l2: 21.2554\n",
      "Did not meet early stopping. Best iteration is:\n",
      "[248]\tvalid_0's l1: 2.67827\tvalid_0's huber: 2.07914\tvalid_0's l2: 21.2475\n"
     ]
    },
    {
     "name": "stderr",
     "output_type": "stream",
     "text": [
      "2020-09-03 14:18:45.093 | INFO     | yspecies.selection:fit:82 - SEED: 6 | FOLD: 3 | VALIDATION_SPECIES: ['Cavia_porcellus', 'Pan_troglodytes']\n"
     ]
    },
    {
     "name": "stdout",
     "output_type": "stream",
     "text": [
      "Training until validation scores don't improve for 10 rounds\n",
      "[250]\tvalid_0's l1: 3.67477\tvalid_0's huber: 2.97219\tvalid_0's l2: 55.2525\n",
      "Did not meet early stopping. Best iteration is:\n",
      "[250]\tvalid_0's l1: 3.67477\tvalid_0's huber: 2.97219\tvalid_0's l2: 55.2525\n"
     ]
    },
    {
     "name": "stderr",
     "output_type": "stream",
     "text": [
      "2020-09-03 14:18:57.750 | INFO     | yspecies.selection:transform:226 - Metrics: \n",
      "Metrics(R2=0.9456421219371716, MAE=3.3974264878651197, MSE=38.826126449174424, huber=2.726653941121568)\n"
     ]
    },
    {
     "name": "stdout",
     "output_type": "stream",
     "text": [
      "7\n"
     ]
    },
    {
     "name": "stderr",
     "output_type": "stream",
     "text": [
      "2020-09-03 14:18:57.760 | INFO     | yspecies.selection:fit:78 - ===== fitting models with seed 7 =====\n",
      "2020-09-03 14:18:57.762 | INFO     | yspecies.selection:fit:79 - PARAMETERS:\n",
      "{'objective': 'regression', 'metric': {'mae', 'huber', 'mse'}, 'verbosity': -1, 'boosting_type': 'gbdt', 'lambda_l1': 1.5964971319257402, 'lambda_l2': 2.9232199794782074, 'max_leaves': 19, 'max_depth': 3, 'feature_fraction': 0.5607884080891938, 'bagging_fraction': 0.969454637632708, 'learning_rate': 0.025226438405212576, 'min_data_in_leaf': 7, 'drop_rate': 0.15866757321975836, 'verbose': -1, 'seed': 6}\n",
      "2020-09-03 14:18:57.766 | INFO     | yspecies.selection:fit:82 - SEED: 7 | FOLD: 0 | VALIDATION_SPECIES: ['Macaca_mulatta', 'Cavia_porcellus']\n"
     ]
    },
    {
     "name": "stdout",
     "output_type": "stream",
     "text": [
      "[LightGBM] [Warning] verbosity is set=-1, verbose=-1 will be ignored. Current value: verbosity=-1\n",
      "Training until validation scores don't improve for 10 rounds\n",
      "[250]\tvalid_0's l1: 3.48328\tvalid_0's huber: 2.78115\tvalid_0's l2: 28.4188\n",
      "Did not meet early stopping. Best iteration is:\n",
      "[247]\tvalid_0's l1: 3.48103\tvalid_0's huber: 2.77995\tvalid_0's l2: 28.4399\n"
     ]
    },
    {
     "name": "stderr",
     "output_type": "stream",
     "text": [
      "2020-09-03 14:18:58.010 | INFO     | yspecies.selection:fit:82 - SEED: 7 | FOLD: 1 | VALIDATION_SPECIES: ['Pan_paniscus', 'Capra_hircus']\n"
     ]
    },
    {
     "name": "stdout",
     "output_type": "stream",
     "text": [
      "Training until validation scores don't improve for 10 rounds\n",
      "[250]\tvalid_0's l1: 3.47981\tvalid_0's huber: 2.78522\tvalid_0's l2: 40.0825\n",
      "Did not meet early stopping. Best iteration is:\n",
      "[249]\tvalid_0's l1: 3.47972\tvalid_0's huber: 2.7857\tvalid_0's l2: 40.1096\n"
     ]
    },
    {
     "name": "stderr",
     "output_type": "stream",
     "text": [
      "2020-09-03 14:18:58.233 | INFO     | yspecies.selection:fit:82 - SEED: 7 | FOLD: 2 | VALIDATION_SPECIES: ['Otolemur_garnettii', 'Ictidomys_tridecemlineatus']\n"
     ]
    },
    {
     "name": "stdout",
     "output_type": "stream",
     "text": [
      "Training until validation scores don't improve for 10 rounds\n",
      "[250]\tvalid_0's l1: 3.81652\tvalid_0's huber: 3.10302\tvalid_0's l2: 38.6505\n",
      "Did not meet early stopping. Best iteration is:\n",
      "[250]\tvalid_0's l1: 3.81652\tvalid_0's huber: 3.10302\tvalid_0's l2: 38.6505\n"
     ]
    },
    {
     "name": "stderr",
     "output_type": "stream",
     "text": [
      "2020-09-03 14:18:58.509 | INFO     | yspecies.selection:fit:82 - SEED: 7 | FOLD: 3 | VALIDATION_SPECIES: ['Canis_lupus_familiaris', 'Ursus_americanus']\n"
     ]
    },
    {
     "name": "stdout",
     "output_type": "stream",
     "text": [
      "Training until validation scores don't improve for 10 rounds\n",
      "[250]\tvalid_0's l1: 3.59646\tvalid_0's huber: 2.9173\tvalid_0's l2: 45.4602\n",
      "Did not meet early stopping. Best iteration is:\n",
      "[250]\tvalid_0's l1: 3.59646\tvalid_0's huber: 2.9173\tvalid_0's l2: 45.4602\n"
     ]
    },
    {
     "name": "stderr",
     "output_type": "stream",
     "text": [
      "2020-09-03 14:19:11.106 | INFO     | yspecies.selection:transform:226 - Metrics: \n",
      "Metrics(R2=0.9467490564961718, MAE=3.593430522867331, MSE=38.16504703171652, huber=2.896557396852134)\n"
     ]
    },
    {
     "name": "stdout",
     "output_type": "stream",
     "text": [
      "8\n"
     ]
    },
    {
     "name": "stderr",
     "output_type": "stream",
     "text": [
      "2020-09-03 14:19:11.118 | INFO     | yspecies.selection:fit:78 - ===== fitting models with seed 8 =====\n",
      "2020-09-03 14:19:11.119 | INFO     | yspecies.selection:fit:79 - PARAMETERS:\n",
      "{'objective': 'regression', 'metric': {'mae', 'huber', 'mse'}, 'verbosity': -1, 'boosting_type': 'gbdt', 'lambda_l1': 1.5964971319257402, 'lambda_l2': 2.9232199794782074, 'max_leaves': 19, 'max_depth': 3, 'feature_fraction': 0.5607884080891938, 'bagging_fraction': 0.969454637632708, 'learning_rate': 0.025226438405212576, 'min_data_in_leaf': 7, 'drop_rate': 0.15866757321975836, 'verbose': -1, 'seed': 7}\n",
      "2020-09-03 14:19:11.124 | INFO     | yspecies.selection:fit:82 - SEED: 8 | FOLD: 0 | VALIDATION_SPECIES: ['Pan_paniscus', 'Suricata_suricatta']\n"
     ]
    },
    {
     "name": "stdout",
     "output_type": "stream",
     "text": [
      "[LightGBM] [Warning] verbosity is set=-1, verbose=-1 will be ignored. Current value: verbosity=-1\n",
      "Training until validation scores don't improve for 10 rounds\n",
      "Early stopping, best iteration is:\n",
      "[204]\tvalid_0's l1: 3.0843\tvalid_0's huber: 2.42992\tvalid_0's l2: 28.892\n"
     ]
    },
    {
     "name": "stderr",
     "output_type": "stream",
     "text": [
      "2020-09-03 14:19:11.316 | INFO     | yspecies.selection:fit:82 - SEED: 8 | FOLD: 1 | VALIDATION_SPECIES: ['Macaca_fascicularis', 'Tupaia_belangeri']\n"
     ]
    },
    {
     "name": "stdout",
     "output_type": "stream",
     "text": [
      "Training until validation scores don't improve for 10 rounds\n",
      "[250]\tvalid_0's l1: 3.21801\tvalid_0's huber: 2.56069\tvalid_0's l2: 32.5599\n",
      "Did not meet early stopping. Best iteration is:\n",
      "[250]\tvalid_0's l1: 3.21801\tvalid_0's huber: 2.56069\tvalid_0's l2: 32.5599\n"
     ]
    },
    {
     "name": "stderr",
     "output_type": "stream",
     "text": [
      "2020-09-03 14:19:11.544 | INFO     | yspecies.selection:fit:82 - SEED: 8 | FOLD: 2 | VALIDATION_SPECIES: ['Ursus_americanus', 'Capra_hircus']\n"
     ]
    },
    {
     "name": "stdout",
     "output_type": "stream",
     "text": [
      "Training until validation scores don't improve for 10 rounds\n",
      "[250]\tvalid_0's l1: 3.17543\tvalid_0's huber: 2.51933\tvalid_0's l2: 36.068\n",
      "Did not meet early stopping. Best iteration is:\n",
      "[250]\tvalid_0's l1: 3.17543\tvalid_0's huber: 2.51933\tvalid_0's l2: 36.068\n"
     ]
    },
    {
     "name": "stderr",
     "output_type": "stream",
     "text": [
      "2020-09-03 14:19:11.747 | INFO     | yspecies.selection:fit:82 - SEED: 8 | FOLD: 3 | VALIDATION_SPECIES: ['Bos_taurus', 'Rhinolophus_ferrumequinum']\n"
     ]
    },
    {
     "name": "stdout",
     "output_type": "stream",
     "text": [
      "Training until validation scores don't improve for 10 rounds\n",
      "[250]\tvalid_0's l1: 3.13284\tvalid_0's huber: 2.48189\tvalid_0's l2: 47.0039\n",
      "Did not meet early stopping. Best iteration is:\n",
      "[250]\tvalid_0's l1: 3.13284\tvalid_0's huber: 2.48189\tvalid_0's l2: 47.0039\n"
     ]
    },
    {
     "name": "stderr",
     "output_type": "stream",
     "text": [
      "2020-09-03 14:19:25.093 | INFO     | yspecies.selection:transform:226 - Metrics: \n",
      "Metrics(R2=0.9491505250712321, MAE=3.1526452151089335, MSE=36.13094164035833, huber=2.4974563019133305)\n"
     ]
    },
    {
     "name": "stdout",
     "output_type": "stream",
     "text": [
      "9\n"
     ]
    },
    {
     "name": "stderr",
     "output_type": "stream",
     "text": [
      "2020-09-03 14:19:25.105 | INFO     | yspecies.selection:fit:78 - ===== fitting models with seed 9 =====\n",
      "2020-09-03 14:19:25.106 | INFO     | yspecies.selection:fit:79 - PARAMETERS:\n",
      "{'objective': 'regression', 'metric': {'mae', 'huber', 'mse'}, 'verbosity': -1, 'boosting_type': 'gbdt', 'lambda_l1': 1.5964971319257402, 'lambda_l2': 2.9232199794782074, 'max_leaves': 19, 'max_depth': 3, 'feature_fraction': 0.5607884080891938, 'bagging_fraction': 0.969454637632708, 'learning_rate': 0.025226438405212576, 'min_data_in_leaf': 7, 'drop_rate': 0.15866757321975836, 'verbose': -1, 'seed': 8}\n",
      "2020-09-03 14:19:25.111 | INFO     | yspecies.selection:fit:82 - SEED: 9 | FOLD: 0 | VALIDATION_SPECIES: ['Ictidomys_tridecemlineatus', 'Aotus_nancymaae']\n"
     ]
    },
    {
     "name": "stdout",
     "output_type": "stream",
     "text": [
      "[LightGBM] [Warning] verbosity is set=-1, verbose=-1 will be ignored. Current value: verbosity=-1\n",
      "Training until validation scores don't improve for 10 rounds\n",
      "[250]\tvalid_0's l1: 3.2874\tvalid_0's huber: 2.62675\tvalid_0's l2: 30.3565\n",
      "Did not meet early stopping. Best iteration is:\n",
      "[250]\tvalid_0's l1: 3.2874\tvalid_0's huber: 2.62675\tvalid_0's l2: 30.3565\n"
     ]
    },
    {
     "name": "stderr",
     "output_type": "stream",
     "text": [
      "2020-09-03 14:19:25.346 | INFO     | yspecies.selection:fit:82 - SEED: 9 | FOLD: 1 | VALIDATION_SPECIES: ['Pan_troglodytes', 'Oryctolagus_cuniculus']\n"
     ]
    },
    {
     "name": "stdout",
     "output_type": "stream",
     "text": [
      "Training until validation scores don't improve for 10 rounds\n",
      "[250]\tvalid_0's l1: 5.16795\tvalid_0's huber: 4.29516\tvalid_0's l2: 87.9837\n",
      "Did not meet early stopping. Best iteration is:\n",
      "[250]\tvalid_0's l1: 5.16795\tvalid_0's huber: 4.29516\tvalid_0's l2: 87.9837\n"
     ]
    },
    {
     "name": "stderr",
     "output_type": "stream",
     "text": [
      "2020-09-03 14:19:25.553 | INFO     | yspecies.selection:fit:82 - SEED: 9 | FOLD: 2 | VALIDATION_SPECIES: ['Mesocricetus_auratus', 'Meriones_unguiculatus']\n"
     ]
    },
    {
     "name": "stdout",
     "output_type": "stream",
     "text": [
      "Training until validation scores don't improve for 10 rounds\n",
      "[250]\tvalid_0's l1: 4.01359\tvalid_0's huber: 3.26377\tvalid_0's l2: 51.9751\n",
      "Did not meet early stopping. Best iteration is:\n",
      "[250]\tvalid_0's l1: 4.01359\tvalid_0's huber: 3.26377\tvalid_0's l2: 51.9751\n"
     ]
    },
    {
     "name": "stderr",
     "output_type": "stream",
     "text": [
      "2020-09-03 14:19:25.764 | INFO     | yspecies.selection:fit:82 - SEED: 9 | FOLD: 3 | VALIDATION_SPECIES: ['Gorilla_gorilla', 'Microcebus_murinus']\n"
     ]
    },
    {
     "name": "stdout",
     "output_type": "stream",
     "text": [
      "Training until validation scores don't improve for 10 rounds\n",
      "[250]\tvalid_0's l1: 5.0516\tvalid_0's huber: 4.21922\tvalid_0's l2: 99.7517\n",
      "Did not meet early stopping. Best iteration is:\n",
      "[250]\tvalid_0's l1: 5.0516\tvalid_0's huber: 4.21922\tvalid_0's l2: 99.7517\n"
     ]
    },
    {
     "name": "stderr",
     "output_type": "stream",
     "text": [
      "2020-09-03 14:19:39.159 | INFO     | yspecies.selection:transform:226 - Metrics: \n",
      "Metrics(R2=0.9081135967051255, MAE=4.380135652667903, MSE=67.51673837367883, huber=3.6012236426829274)\n",
      "MultiObjectiveTrial is experimental (supported from v1.4.0). The interface can change in the future.\n",
      "MultiObjectiveStudy is experimental (supported from v1.4.0). The interface can change in the future.\n",
      "[I 2020-09-03 14:19:39,674] Trial 487 finished with values: [0.9206631469897001, 3.2613935337495166, 0.5302709477323441] with parameters: {'boosting_type': 'gbdt', 'lambda_l1': 1.5964971319257402, 'lambda_l2': 2.9232199794782074, 'max_leaves': 19, 'max_depth': 3, 'feature_fraction': 0.5607884080891938, 'bagging_fraction': 0.969454637632708, 'learning_rate': 0.025226438405212576, 'min_data_in_leaf': 7, 'drop_rate': 0.15866757321975836}.\n",
      "MultiObjectiveStudy is experimental (supported from v1.4.0). The interface can change in the future.\n",
      "FrozenMultiObjectiveTrial is experimental (supported from v1.4.0). The interface can change in the future.\n",
      "MultiObjectiveStudy is experimental (supported from v1.4.0). The interface can change in the future.\n",
      "FrozenMultiObjectiveTrial is experimental (supported from v1.4.0). The interface can change in the future.\n",
      "FrozenMultiObjectiveTrial is experimental (supported from v1.4.0). The interface can change in the future.\n",
      "MultiObjectiveTrial is experimental (supported from v1.4.0). The interface can change in the future.\n",
      "MultiObjectiveStudy is experimental (supported from v1.4.0). The interface can change in the future.\n",
      "FrozenMultiObjectiveTrial is experimental (supported from v1.4.0). The interface can change in the future.\n"
     ]
    },
    {
     "name": "stdout",
     "output_type": "stream",
     "text": [
      "0\n"
     ]
    },
    {
     "name": "stderr",
     "output_type": "stream",
     "text": [
      "2020-09-03 14:19:39.987 | INFO     | yspecies.selection:fit:78 - ===== fitting models with seed 0 =====\n",
      "2020-09-03 14:19:39.989 | INFO     | yspecies.selection:fit:79 - PARAMETERS:\n",
      "{'objective': 'regression', 'metric': {'mae', 'huber', 'mse'}, 'verbosity': -1, 'boosting_type': 'gbdt', 'lambda_l1': 2.1188796141799573, 'lambda_l2': 2.3500616173039672, 'max_leaves': 17, 'max_depth': 3, 'feature_fraction': 0.8303110843832664, 'bagging_fraction': 0.6212877919288045, 'learning_rate': 0.06379808000182581, 'min_data_in_leaf': 3, 'drop_rate': 0.27117231134759434, 'verbose': -1}\n",
      "2020-09-03 14:19:39.994 | INFO     | yspecies.selection:fit:82 - SEED: 0 | FOLD: 0 | VALIDATION_SPECIES: ['Gorilla_gorilla', 'Pan_paniscus']\n"
     ]
    },
    {
     "name": "stdout",
     "output_type": "stream",
     "text": [
      "[LightGBM] [Warning] verbosity is set=-1, verbose=-1 will be ignored. Current value: verbosity=-1\n",
      "Training until validation scores don't improve for 10 rounds\n",
      "Early stopping, best iteration is:\n",
      "[192]\tvalid_0's l1: 8.31158\tvalid_0's huber: 7.14927\tvalid_0's l2: 216.863\n"
     ]
    },
    {
     "name": "stderr",
     "output_type": "stream",
     "text": [
      "2020-09-03 14:19:40.179 | INFO     | yspecies.selection:fit:82 - SEED: 0 | FOLD: 1 | VALIDATION_SPECIES: ['Heterocephalus_glaber', 'Capra_hircus']\n"
     ]
    },
    {
     "name": "stdout",
     "output_type": "stream",
     "text": [
      "Training until validation scores don't improve for 10 rounds\n",
      "Early stopping, best iteration is:\n",
      "[154]\tvalid_0's l1: 3.93769\tvalid_0's huber: 3.21816\tvalid_0's l2: 47.9116\n"
     ]
    },
    {
     "name": "stderr",
     "output_type": "stream",
     "text": [
      "2020-09-03 14:19:40.313 | INFO     | yspecies.selection:fit:82 - SEED: 0 | FOLD: 2 | VALIDATION_SPECIES: ['Bos_taurus', 'Otolemur_garnettii']\n"
     ]
    },
    {
     "name": "stdout",
     "output_type": "stream",
     "text": [
      "Training until validation scores don't improve for 10 rounds\n",
      "Early stopping, best iteration is:\n",
      "[77]\tvalid_0's l1: 3.25548\tvalid_0's huber: 2.59864\tvalid_0's l2: 35.0357\n"
     ]
    },
    {
     "name": "stderr",
     "output_type": "stream",
     "text": [
      "2020-09-03 14:19:40.418 | INFO     | yspecies.selection:fit:82 - SEED: 0 | FOLD: 3 | VALIDATION_SPECIES: ['Macaca_nemestrina', 'Microcebus_murinus']\n"
     ]
    },
    {
     "name": "stdout",
     "output_type": "stream",
     "text": [
      "Training until validation scores don't improve for 10 rounds\n",
      "Early stopping, best iteration is:\n",
      "[153]\tvalid_0's l1: 3.23089\tvalid_0's huber: 2.60268\tvalid_0's l2: 76.767\n"
     ]
    },
    {
     "name": "stderr",
     "output_type": "stream",
     "text": [
      "2020-09-03 14:19:52.265 | INFO     | yspecies.selection:transform:226 - Metrics: \n",
      "Metrics(R2=0.8750903910312388, MAE=4.683910004357834, MSE=94.14437040958074, huber=3.8782517599389417)\n"
     ]
    },
    {
     "name": "stdout",
     "output_type": "stream",
     "text": [
      "1\n"
     ]
    },
    {
     "name": "stderr",
     "output_type": "stream",
     "text": [
      "2020-09-03 14:19:52.273 | INFO     | yspecies.selection:fit:78 - ===== fitting models with seed 1 =====\n",
      "2020-09-03 14:19:52.276 | INFO     | yspecies.selection:fit:79 - PARAMETERS:\n",
      "{'objective': 'regression', 'metric': {'mae', 'huber', 'mse'}, 'verbosity': -1, 'boosting_type': 'gbdt', 'lambda_l1': 2.1188796141799573, 'lambda_l2': 2.3500616173039672, 'max_leaves': 17, 'max_depth': 3, 'feature_fraction': 0.8303110843832664, 'bagging_fraction': 0.6212877919288045, 'learning_rate': 0.06379808000182581, 'min_data_in_leaf': 3, 'drop_rate': 0.27117231134759434, 'verbose': -1, 'seed': 0}\n",
      "2020-09-03 14:19:52.281 | INFO     | yspecies.selection:fit:82 - SEED: 1 | FOLD: 0 | VALIDATION_SPECIES: ['Felis_catus', 'Ursus_americanus']\n"
     ]
    },
    {
     "name": "stdout",
     "output_type": "stream",
     "text": [
      "[LightGBM] [Warning] verbosity is set=-1, verbose=-1 will be ignored. Current value: verbosity=-1\n",
      "Training until validation scores don't improve for 10 rounds\n",
      "Early stopping, best iteration is:\n",
      "[162]\tvalid_0's l1: 2.90607\tvalid_0's huber: 2.28587\tvalid_0's l2: 23.2735\n"
     ]
    },
    {
     "name": "stderr",
     "output_type": "stream",
     "text": [
      "2020-09-03 14:19:52.444 | INFO     | yspecies.selection:fit:82 - SEED: 1 | FOLD: 1 | VALIDATION_SPECIES: ['Heterocephalus_glaber', 'Vombatus_ursinus']\n"
     ]
    },
    {
     "name": "stdout",
     "output_type": "stream",
     "text": [
      "Training until validation scores don't improve for 10 rounds\n",
      "Early stopping, best iteration is:\n",
      "[178]\tvalid_0's l1: 4.593\tvalid_0's huber: 3.78857\tvalid_0's l2: 74.6439\n"
     ]
    },
    {
     "name": "stderr",
     "output_type": "stream",
     "text": [
      "2020-09-03 14:19:52.682 | INFO     | yspecies.selection:fit:82 - SEED: 1 | FOLD: 2 | VALIDATION_SPECIES: ['Macaca_fascicularis', 'Rhinopithecus_bieti']\n"
     ]
    },
    {
     "name": "stdout",
     "output_type": "stream",
     "text": [
      "Training until validation scores don't improve for 10 rounds\n",
      "Early stopping, best iteration is:\n",
      "[237]\tvalid_0's l1: 2.5882\tvalid_0's huber: 2.01379\tvalid_0's l2: 27.4869\n"
     ]
    },
    {
     "name": "stderr",
     "output_type": "stream",
     "text": [
      "2020-09-03 14:19:52.941 | INFO     | yspecies.selection:fit:82 - SEED: 1 | FOLD: 3 | VALIDATION_SPECIES: ['Gorilla_gorilla', 'Ovis_aries']\n"
     ]
    },
    {
     "name": "stdout",
     "output_type": "stream",
     "text": [
      "Training until validation scores don't improve for 10 rounds\n",
      "[250]\tvalid_0's l1: 5.84161\tvalid_0's huber: 4.94435\tvalid_0's l2: 159.77\n",
      "Did not meet early stopping. Best iteration is:\n",
      "[250]\tvalid_0's l1: 5.84161\tvalid_0's huber: 4.94435\tvalid_0's l2: 159.77\n"
     ]
    },
    {
     "name": "stderr",
     "output_type": "stream",
     "text": [
      "2020-09-03 14:20:09.436 | INFO     | yspecies.selection:transform:226 - Metrics: \n",
      "Metrics(R2=0.8982356083804366, MAE=3.982221640065105, MSE=71.29346128580052, huber=3.256746870101323)\n"
     ]
    },
    {
     "name": "stdout",
     "output_type": "stream",
     "text": [
      "2\n"
     ]
    },
    {
     "name": "stderr",
     "output_type": "stream",
     "text": [
      "2020-09-03 14:20:09.448 | INFO     | yspecies.selection:fit:78 - ===== fitting models with seed 2 =====\n",
      "2020-09-03 14:20:09.450 | INFO     | yspecies.selection:fit:79 - PARAMETERS:\n",
      "{'objective': 'regression', 'metric': {'mae', 'huber', 'mse'}, 'verbosity': -1, 'boosting_type': 'gbdt', 'lambda_l1': 2.1188796141799573, 'lambda_l2': 2.3500616173039672, 'max_leaves': 17, 'max_depth': 3, 'feature_fraction': 0.8303110843832664, 'bagging_fraction': 0.6212877919288045, 'learning_rate': 0.06379808000182581, 'min_data_in_leaf': 3, 'drop_rate': 0.27117231134759434, 'verbose': -1, 'seed': 1}\n",
      "2020-09-03 14:20:09.454 | INFO     | yspecies.selection:fit:82 - SEED: 2 | FOLD: 0 | VALIDATION_SPECIES: ['Rhinopithecus_bieti', 'Ursus_americanus']\n"
     ]
    },
    {
     "name": "stdout",
     "output_type": "stream",
     "text": [
      "[LightGBM] [Warning] verbosity is set=-1, verbose=-1 will be ignored. Current value: verbosity=-1\n",
      "Training until validation scores don't improve for 10 rounds\n",
      "Early stopping, best iteration is:\n",
      "[153]\tvalid_0's l1: 3.44124\tvalid_0's huber: 2.75466\tvalid_0's l2: 28.9203\n"
     ]
    },
    {
     "name": "stderr",
     "output_type": "stream",
     "text": [
      "2020-09-03 14:20:09.653 | INFO     | yspecies.selection:fit:82 - SEED: 2 | FOLD: 1 | VALIDATION_SPECIES: ['Aotus_nancymaae', 'Phascolarctos_cinereus']\n"
     ]
    },
    {
     "name": "stdout",
     "output_type": "stream",
     "text": [
      "Training until validation scores don't improve for 10 rounds\n",
      "[250]\tvalid_0's l1: 4.47763\tvalid_0's huber: 3.67728\tvalid_0's l2: 48.4424\n",
      "Did not meet early stopping. Best iteration is:\n",
      "[250]\tvalid_0's l1: 4.47763\tvalid_0's huber: 3.67728\tvalid_0's l2: 48.4424\n"
     ]
    },
    {
     "name": "stderr",
     "output_type": "stream",
     "text": [
      "2020-09-03 14:20:09.893 | INFO     | yspecies.selection:fit:82 - SEED: 2 | FOLD: 2 | VALIDATION_SPECIES: ['Vombatus_ursinus', 'Ailuropoda_melanoleuca']\n"
     ]
    },
    {
     "name": "stdout",
     "output_type": "stream",
     "text": [
      "Training until validation scores don't improve for 10 rounds\n",
      "Early stopping, best iteration is:\n",
      "[118]\tvalid_0's l1: 3.06559\tvalid_0's huber: 2.43018\tvalid_0's l2: 27.5281\n"
     ]
    },
    {
     "name": "stderr",
     "output_type": "stream",
     "text": [
      "2020-09-03 14:20:10.014 | INFO     | yspecies.selection:fit:82 - SEED: 2 | FOLD: 3 | VALIDATION_SPECIES: ['Rattus_norvegicus', 'Monodelphis_domestica']\n"
     ]
    },
    {
     "name": "stdout",
     "output_type": "stream",
     "text": [
      "Training until validation scores don't improve for 10 rounds\n",
      "Early stopping, best iteration is:\n",
      "[135]\tvalid_0's l1: 6.89534\tvalid_0's huber: 5.82136\tvalid_0's l2: 110.225\n"
     ]
    },
    {
     "name": "stderr",
     "output_type": "stream",
     "text": [
      "2020-09-03 14:20:23.374 | INFO     | yspecies.selection:transform:226 - Metrics: \n",
      "Metrics(R2=0.9059424014122492, MAE=4.469951312518482, MSE=53.778957564207765, huber=3.670528167989706)\n"
     ]
    },
    {
     "name": "stdout",
     "output_type": "stream",
     "text": [
      "3\n"
     ]
    },
    {
     "name": "stderr",
     "output_type": "stream",
     "text": [
      "2020-09-03 14:20:23.381 | INFO     | yspecies.selection:fit:78 - ===== fitting models with seed 3 =====\n",
      "2020-09-03 14:20:23.382 | INFO     | yspecies.selection:fit:79 - PARAMETERS:\n",
      "{'objective': 'regression', 'metric': {'mae', 'huber', 'mse'}, 'verbosity': -1, 'boosting_type': 'gbdt', 'lambda_l1': 2.1188796141799573, 'lambda_l2': 2.3500616173039672, 'max_leaves': 17, 'max_depth': 3, 'feature_fraction': 0.8303110843832664, 'bagging_fraction': 0.6212877919288045, 'learning_rate': 0.06379808000182581, 'min_data_in_leaf': 3, 'drop_rate': 0.27117231134759434, 'verbose': -1, 'seed': 2}\n",
      "2020-09-03 14:20:23.386 | INFO     | yspecies.selection:fit:82 - SEED: 3 | FOLD: 0 | VALIDATION_SPECIES: ['Microcebus_murinus', 'Pan_paniscus']\n"
     ]
    },
    {
     "name": "stdout",
     "output_type": "stream",
     "text": [
      "[LightGBM] [Warning] verbosity is set=-1, verbose=-1 will be ignored. Current value: verbosity=-1\n",
      "Training until validation scores don't improve for 10 rounds\n",
      "Early stopping, best iteration is:\n",
      "[69]\tvalid_0's l1: 4.44034\tvalid_0's huber: 3.63849\tvalid_0's l2: 47.7887\n"
     ]
    },
    {
     "name": "stderr",
     "output_type": "stream",
     "text": [
      "2020-09-03 14:20:23.467 | INFO     | yspecies.selection:fit:82 - SEED: 3 | FOLD: 1 | VALIDATION_SPECIES: ['Ursus_americanus', 'Gorilla_gorilla']\n"
     ]
    },
    {
     "name": "stdout",
     "output_type": "stream",
     "text": [
      "Training until validation scores don't improve for 10 rounds\n",
      "Early stopping, best iteration is:\n",
      "[142]\tvalid_0's l1: 6.74733\tvalid_0's huber: 5.71388\tvalid_0's l2: 124.535\n"
     ]
    },
    {
     "name": "stderr",
     "output_type": "stream",
     "text": [
      "2020-09-03 14:20:23.603 | INFO     | yspecies.selection:fit:82 - SEED: 3 | FOLD: 2 | VALIDATION_SPECIES: ['Bos_taurus', 'Capra_hircus']\n"
     ]
    },
    {
     "name": "stdout",
     "output_type": "stream",
     "text": [
      "Training until validation scores don't improve for 10 rounds\n",
      "Early stopping, best iteration is:\n",
      "[230]\tvalid_0's l1: 3.36273\tvalid_0's huber: 2.68377\tvalid_0's l2: 33.6794\n"
     ]
    },
    {
     "name": "stderr",
     "output_type": "stream",
     "text": [
      "2020-09-03 14:20:23.808 | INFO     | yspecies.selection:fit:82 - SEED: 3 | FOLD: 3 | VALIDATION_SPECIES: ['Rhinolophus_ferrumequinum', 'Mus_musculus']\n"
     ]
    },
    {
     "name": "stdout",
     "output_type": "stream",
     "text": [
      "Training until validation scores don't improve for 10 rounds\n",
      "Early stopping, best iteration is:\n",
      "[125]\tvalid_0's l1: 2.63187\tvalid_0's huber: 2.03482\tvalid_0's l2: 71.2846\n"
     ]
    },
    {
     "name": "stderr",
     "output_type": "stream",
     "text": [
      "2020-09-03 14:20:31.870 | INFO     | yspecies.selection:transform:226 - Metrics: \n",
      "Metrics(R2=0.9015831707592266, MAE=4.295569627886042, MSE=69.3218581665349, huber=3.50818897376166)\n"
     ]
    },
    {
     "name": "stdout",
     "output_type": "stream",
     "text": [
      "4\n"
     ]
    },
    {
     "name": "stderr",
     "output_type": "stream",
     "text": [
      "2020-09-03 14:20:31.877 | INFO     | yspecies.selection:fit:78 - ===== fitting models with seed 4 =====\n",
      "2020-09-03 14:20:31.878 | INFO     | yspecies.selection:fit:79 - PARAMETERS:\n",
      "{'objective': 'regression', 'metric': {'mae', 'huber', 'mse'}, 'verbosity': -1, 'boosting_type': 'gbdt', 'lambda_l1': 2.1188796141799573, 'lambda_l2': 2.3500616173039672, 'max_leaves': 17, 'max_depth': 3, 'feature_fraction': 0.8303110843832664, 'bagging_fraction': 0.6212877919288045, 'learning_rate': 0.06379808000182581, 'min_data_in_leaf': 3, 'drop_rate': 0.27117231134759434, 'verbose': -1, 'seed': 3}\n",
      "2020-09-03 14:20:31.882 | INFO     | yspecies.selection:fit:82 - SEED: 4 | FOLD: 0 | VALIDATION_SPECIES: ['Macaca_fascicularis', 'Pan_troglodytes']\n"
     ]
    },
    {
     "name": "stdout",
     "output_type": "stream",
     "text": [
      "[LightGBM] [Warning] verbosity is set=-1, verbose=-1 will be ignored. Current value: verbosity=-1\n",
      "Training until validation scores don't improve for 10 rounds\n",
      "Early stopping, best iteration is:\n",
      "[167]\tvalid_0's l1: 3.01569\tvalid_0's huber: 2.37272\tvalid_0's l2: 33.4491\n"
     ]
    },
    {
     "name": "stderr",
     "output_type": "stream",
     "text": [
      "2020-09-03 14:20:32.046 | INFO     | yspecies.selection:fit:82 - SEED: 4 | FOLD: 1 | VALIDATION_SPECIES: ['Otolemur_garnettii', 'Ursus_americanus']\n"
     ]
    },
    {
     "name": "stdout",
     "output_type": "stream",
     "text": [
      "Training until validation scores don't improve for 10 rounds\n",
      "[250]\tvalid_0's l1: 3.51644\tvalid_0's huber: 2.85419\tvalid_0's l2: 102.962\n",
      "Did not meet early stopping. Best iteration is:\n",
      "[249]\tvalid_0's l1: 3.51618\tvalid_0's huber: 2.85416\tvalid_0's l2: 102.961\n"
     ]
    },
    {
     "name": "stderr",
     "output_type": "stream",
     "text": [
      "2020-09-03 14:20:32.311 | INFO     | yspecies.selection:fit:82 - SEED: 4 | FOLD: 2 | VALIDATION_SPECIES: ['Heterocephalus_glaber', 'Cavia_aperea']\n"
     ]
    },
    {
     "name": "stdout",
     "output_type": "stream",
     "text": [
      "Training until validation scores don't improve for 10 rounds\n",
      "[250]\tvalid_0's l1: 3.76409\tvalid_0's huber: 3.06568\tvalid_0's l2: 39.2205\n",
      "Did not meet early stopping. Best iteration is:\n",
      "[250]\tvalid_0's l1: 3.76409\tvalid_0's huber: 3.06568\tvalid_0's l2: 39.2205\n"
     ]
    },
    {
     "name": "stderr",
     "output_type": "stream",
     "text": [
      "2020-09-03 14:20:32.679 | INFO     | yspecies.selection:fit:82 - SEED: 4 | FOLD: 3 | VALIDATION_SPECIES: ['Pan_paniscus', 'Gorilla_gorilla']\n"
     ]
    },
    {
     "name": "stdout",
     "output_type": "stream",
     "text": [
      "Training until validation scores don't improve for 10 rounds\n",
      "Early stopping, best iteration is:\n",
      "[171]\tvalid_0's l1: 6.89158\tvalid_0's huber: 5.87917\tvalid_0's l2: 200.743\n"
     ]
    },
    {
     "name": "stderr",
     "output_type": "stream",
     "text": [
      "2020-09-03 14:20:47.337 | INFO     | yspecies.selection:transform:226 - Metrics: \n",
      "Metrics(R2=0.8720118774843193, MAE=4.29688507703014, MSE=94.0934475208733, huber=3.5410175727659676)\n"
     ]
    },
    {
     "name": "stdout",
     "output_type": "stream",
     "text": [
      "5\n"
     ]
    },
    {
     "name": "stderr",
     "output_type": "stream",
     "text": [
      "2020-09-03 14:20:47.346 | INFO     | yspecies.selection:fit:78 - ===== fitting models with seed 5 =====\n",
      "2020-09-03 14:20:47.348 | INFO     | yspecies.selection:fit:79 - PARAMETERS:\n",
      "{'objective': 'regression', 'metric': {'mae', 'huber', 'mse'}, 'verbosity': -1, 'boosting_type': 'gbdt', 'lambda_l1': 2.1188796141799573, 'lambda_l2': 2.3500616173039672, 'max_leaves': 17, 'max_depth': 3, 'feature_fraction': 0.8303110843832664, 'bagging_fraction': 0.6212877919288045, 'learning_rate': 0.06379808000182581, 'min_data_in_leaf': 3, 'drop_rate': 0.27117231134759434, 'verbose': -1, 'seed': 4}\n",
      "2020-09-03 14:20:47.352 | INFO     | yspecies.selection:fit:82 - SEED: 5 | FOLD: 0 | VALIDATION_SPECIES: ['Mus_spicilegus', 'Canis_lupus_familiaris']\n"
     ]
    },
    {
     "name": "stdout",
     "output_type": "stream",
     "text": [
      "[LightGBM] [Warning] verbosity is set=-1, verbose=-1 will be ignored. Current value: verbosity=-1\n",
      "Training until validation scores don't improve for 10 rounds\n",
      "Early stopping, best iteration is:\n",
      "[238]\tvalid_0's l1: 2.4231\tvalid_0's huber: 1.86931\tvalid_0's l2: 20.3495\n"
     ]
    },
    {
     "name": "stderr",
     "output_type": "stream",
     "text": [
      "2020-09-03 14:20:47.610 | INFO     | yspecies.selection:fit:82 - SEED: 5 | FOLD: 1 | VALIDATION_SPECIES: ['Ovis_aries', 'Heterocephalus_glaber']\n"
     ]
    },
    {
     "name": "stdout",
     "output_type": "stream",
     "text": [
      "Training until validation scores don't improve for 10 rounds\n",
      "Early stopping, best iteration is:\n",
      "[204]\tvalid_0's l1: 4.48128\tvalid_0's huber: 3.70106\tvalid_0's l2: 129.015\n"
     ]
    },
    {
     "name": "stderr",
     "output_type": "stream",
     "text": [
      "2020-09-03 14:20:47.827 | INFO     | yspecies.selection:fit:82 - SEED: 5 | FOLD: 2 | VALIDATION_SPECIES: ['Ursus_americanus', 'Oryctolagus_cuniculus']\n"
     ]
    },
    {
     "name": "stdout",
     "output_type": "stream",
     "text": [
      "Training until validation scores don't improve for 10 rounds\n",
      "Early stopping, best iteration is:\n",
      "[146]\tvalid_0's l1: 4.38052\tvalid_0's huber: 3.61215\tvalid_0's l2: 77.8563\n"
     ]
    },
    {
     "name": "stderr",
     "output_type": "stream",
     "text": [
      "2020-09-03 14:20:47.979 | INFO     | yspecies.selection:fit:82 - SEED: 5 | FOLD: 3 | VALIDATION_SPECIES: ['Cavia_aperea', 'Ailuropoda_melanoleuca']\n"
     ]
    },
    {
     "name": "stdout",
     "output_type": "stream",
     "text": [
      "Training until validation scores don't improve for 10 rounds\n",
      "Early stopping, best iteration is:\n",
      "[186]\tvalid_0's l1: 3.90265\tvalid_0's huber: 3.19453\tvalid_0's l2: 105.191\n"
     ]
    },
    {
     "name": "stderr",
     "output_type": "stream",
     "text": [
      "2020-09-03 14:21:04.209 | INFO     | yspecies.selection:transform:226 - Metrics: \n",
      "Metrics(R2=0.884060761673402, MAE=3.7968862525291596, MSE=83.10309552153711, huber=3.093156086311295)\n"
     ]
    },
    {
     "name": "stdout",
     "output_type": "stream",
     "text": [
      "6\n"
     ]
    },
    {
     "name": "stderr",
     "output_type": "stream",
     "text": [
      "2020-09-03 14:21:04.218 | INFO     | yspecies.selection:fit:78 - ===== fitting models with seed 6 =====\n",
      "2020-09-03 14:21:04.219 | INFO     | yspecies.selection:fit:79 - PARAMETERS:\n",
      "{'objective': 'regression', 'metric': {'mae', 'huber', 'mse'}, 'verbosity': -1, 'boosting_type': 'gbdt', 'lambda_l1': 2.1188796141799573, 'lambda_l2': 2.3500616173039672, 'max_leaves': 17, 'max_depth': 3, 'feature_fraction': 0.8303110843832664, 'bagging_fraction': 0.6212877919288045, 'learning_rate': 0.06379808000182581, 'min_data_in_leaf': 3, 'drop_rate': 0.27117231134759434, 'verbose': -1, 'seed': 5}\n",
      "2020-09-03 14:21:04.224 | INFO     | yspecies.selection:fit:82 - SEED: 6 | FOLD: 0 | VALIDATION_SPECIES: ['Rhinolophus_ferrumequinum', 'Heterocephalus_glaber']\n"
     ]
    },
    {
     "name": "stdout",
     "output_type": "stream",
     "text": [
      "[LightGBM] [Warning] verbosity is set=-1, verbose=-1 will be ignored. Current value: verbosity=-1\n",
      "Training until validation scores don't improve for 10 rounds\n",
      "Early stopping, best iteration is:\n",
      "[111]\tvalid_0's l1: 3.88319\tvalid_0's huber: 3.16786\tvalid_0's l2: 45.4505\n"
     ]
    },
    {
     "name": "stderr",
     "output_type": "stream",
     "text": [
      "2020-09-03 14:21:04.348 | INFO     | yspecies.selection:fit:82 - SEED: 6 | FOLD: 1 | VALIDATION_SPECIES: ['Mus_spicilegus', 'Suricata_suricatta']\n"
     ]
    },
    {
     "name": "stdout",
     "output_type": "stream",
     "text": [
      "Training until validation scores don't improve for 10 rounds\n",
      "Early stopping, best iteration is:\n",
      "[239]\tvalid_0's l1: 3.50437\tvalid_0's huber: 2.82494\tvalid_0's l2: 38.762\n"
     ]
    },
    {
     "name": "stderr",
     "output_type": "stream",
     "text": [
      "2020-09-03 14:21:04.569 | INFO     | yspecies.selection:fit:82 - SEED: 6 | FOLD: 2 | VALIDATION_SPECIES: ['Rhinopithecus_bieti', 'Ovis_aries']\n"
     ]
    },
    {
     "name": "stdout",
     "output_type": "stream",
     "text": [
      "Training until validation scores don't improve for 10 rounds\n",
      "Early stopping, best iteration is:\n",
      "[193]\tvalid_0's l1: 2.3663\tvalid_0's huber: 1.82353\tvalid_0's l2: 22.8115\n"
     ]
    },
    {
     "name": "stderr",
     "output_type": "stream",
     "text": [
      "2020-09-03 14:21:04.738 | INFO     | yspecies.selection:fit:82 - SEED: 6 | FOLD: 3 | VALIDATION_SPECIES: ['Cavia_porcellus', 'Pan_troglodytes']\n"
     ]
    },
    {
     "name": "stdout",
     "output_type": "stream",
     "text": [
      "Training until validation scores don't improve for 10 rounds\n",
      "[250]\tvalid_0's l1: 3.8978\tvalid_0's huber: 3.16479\tvalid_0's l2: 88.0473\n",
      "Did not meet early stopping. Best iteration is:\n",
      "[250]\tvalid_0's l1: 3.8978\tvalid_0's huber: 3.16479\tvalid_0's l2: 88.0473\n"
     ]
    },
    {
     "name": "stderr",
     "output_type": "stream",
     "text": [
      "2020-09-03 14:21:20.924 | INFO     | yspecies.selection:transform:226 - Metrics: \n",
      "Metrics(R2=0.9300397288132022, MAE=3.412917275213923, MSE=48.767817781188114, huber=2.743229859597591)\n"
     ]
    },
    {
     "name": "stdout",
     "output_type": "stream",
     "text": [
      "7\n"
     ]
    },
    {
     "name": "stderr",
     "output_type": "stream",
     "text": [
      "2020-09-03 14:21:20.932 | INFO     | yspecies.selection:fit:78 - ===== fitting models with seed 7 =====\n",
      "2020-09-03 14:21:20.934 | INFO     | yspecies.selection:fit:79 - PARAMETERS:\n",
      "{'objective': 'regression', 'metric': {'mae', 'huber', 'mse'}, 'verbosity': -1, 'boosting_type': 'gbdt', 'lambda_l1': 2.1188796141799573, 'lambda_l2': 2.3500616173039672, 'max_leaves': 17, 'max_depth': 3, 'feature_fraction': 0.8303110843832664, 'bagging_fraction': 0.6212877919288045, 'learning_rate': 0.06379808000182581, 'min_data_in_leaf': 3, 'drop_rate': 0.27117231134759434, 'verbose': -1, 'seed': 6}\n",
      "2020-09-03 14:21:20.938 | INFO     | yspecies.selection:fit:82 - SEED: 7 | FOLD: 0 | VALIDATION_SPECIES: ['Macaca_mulatta', 'Cavia_porcellus']\n"
     ]
    },
    {
     "name": "stdout",
     "output_type": "stream",
     "text": [
      "[LightGBM] [Warning] verbosity is set=-1, verbose=-1 will be ignored. Current value: verbosity=-1\n",
      "Training until validation scores don't improve for 10 rounds\n",
      "Early stopping, best iteration is:\n",
      "[161]\tvalid_0's l1: 3.85685\tvalid_0's huber: 3.14783\tvalid_0's l2: 38.0786\n"
     ]
    },
    {
     "name": "stderr",
     "output_type": "stream",
     "text": [
      "2020-09-03 14:21:21.144 | INFO     | yspecies.selection:fit:82 - SEED: 7 | FOLD: 1 | VALIDATION_SPECIES: ['Pan_paniscus', 'Capra_hircus']\n"
     ]
    },
    {
     "name": "stdout",
     "output_type": "stream",
     "text": [
      "Training until validation scores don't improve for 10 rounds\n",
      "Early stopping, best iteration is:\n",
      "[209]\tvalid_0's l1: 3.10663\tvalid_0's huber: 2.45395\tvalid_0's l2: 30.896\n"
     ]
    },
    {
     "name": "stderr",
     "output_type": "stream",
     "text": [
      "2020-09-03 14:21:21.409 | INFO     | yspecies.selection:fit:82 - SEED: 7 | FOLD: 2 | VALIDATION_SPECIES: ['Otolemur_garnettii', 'Ictidomys_tridecemlineatus']\n"
     ]
    },
    {
     "name": "stdout",
     "output_type": "stream",
     "text": [
      "Training until validation scores don't improve for 10 rounds\n",
      "Early stopping, best iteration is:\n",
      "[153]\tvalid_0's l1: 3.6413\tvalid_0's huber: 2.95229\tvalid_0's l2: 39.1835\n"
     ]
    },
    {
     "name": "stderr",
     "output_type": "stream",
     "text": [
      "2020-09-03 14:21:21.563 | INFO     | yspecies.selection:fit:82 - SEED: 7 | FOLD: 3 | VALIDATION_SPECIES: ['Canis_lupus_familiaris', 'Ursus_americanus']\n"
     ]
    },
    {
     "name": "stdout",
     "output_type": "stream",
     "text": [
      "Training until validation scores don't improve for 10 rounds\n",
      "[250]\tvalid_0's l1: 4.34221\tvalid_0's huber: 3.59844\tvalid_0's l2: 112.612\n",
      "Did not meet early stopping. Best iteration is:\n",
      "[250]\tvalid_0's l1: 4.34221\tvalid_0's huber: 3.59844\tvalid_0's l2: 112.612\n"
     ]
    },
    {
     "name": "stderr",
     "output_type": "stream",
     "text": [
      "2020-09-03 14:21:36.885 | INFO     | yspecies.selection:transform:226 - Metrics: \n",
      "Metrics(R2=0.9196216753967515, MAE=3.736745307545439, MSE=55.192662753706884, huber=3.0379100667094288)\n"
     ]
    },
    {
     "name": "stdout",
     "output_type": "stream",
     "text": [
      "8\n"
     ]
    },
    {
     "name": "stderr",
     "output_type": "stream",
     "text": [
      "2020-09-03 14:21:36.893 | INFO     | yspecies.selection:fit:78 - ===== fitting models with seed 8 =====\n",
      "2020-09-03 14:21:36.895 | INFO     | yspecies.selection:fit:79 - PARAMETERS:\n",
      "{'objective': 'regression', 'metric': {'mae', 'huber', 'mse'}, 'verbosity': -1, 'boosting_type': 'gbdt', 'lambda_l1': 2.1188796141799573, 'lambda_l2': 2.3500616173039672, 'max_leaves': 17, 'max_depth': 3, 'feature_fraction': 0.8303110843832664, 'bagging_fraction': 0.6212877919288045, 'learning_rate': 0.06379808000182581, 'min_data_in_leaf': 3, 'drop_rate': 0.27117231134759434, 'verbose': -1, 'seed': 7}\n",
      "2020-09-03 14:21:36.899 | INFO     | yspecies.selection:fit:82 - SEED: 8 | FOLD: 0 | VALIDATION_SPECIES: ['Pan_paniscus', 'Suricata_suricatta']\n"
     ]
    },
    {
     "name": "stdout",
     "output_type": "stream",
     "text": [
      "[LightGBM] [Warning] verbosity is set=-1, verbose=-1 will be ignored. Current value: verbosity=-1\n",
      "Training until validation scores don't improve for 10 rounds\n",
      "[250]\tvalid_0's l1: 2.38744\tvalid_0's huber: 1.82656\tvalid_0's l2: 25.0896\n",
      "Did not meet early stopping. Best iteration is:\n",
      "[249]\tvalid_0's l1: 2.38718\tvalid_0's huber: 1.82615\tvalid_0's l2: 25.0809\n"
     ]
    },
    {
     "name": "stderr",
     "output_type": "stream",
     "text": [
      "2020-09-03 14:21:37.165 | INFO     | yspecies.selection:fit:82 - SEED: 8 | FOLD: 1 | VALIDATION_SPECIES: ['Macaca_fascicularis', 'Tupaia_belangeri']\n"
     ]
    },
    {
     "name": "stdout",
     "output_type": "stream",
     "text": [
      "Training until validation scores don't improve for 10 rounds\n",
      "Early stopping, best iteration is:\n",
      "[163]\tvalid_0's l1: 2.81549\tvalid_0's huber: 2.20651\tvalid_0's l2: 28.5189\n"
     ]
    },
    {
     "name": "stderr",
     "output_type": "stream",
     "text": [
      "2020-09-03 14:21:37.306 | INFO     | yspecies.selection:fit:82 - SEED: 8 | FOLD: 2 | VALIDATION_SPECIES: ['Ursus_americanus', 'Capra_hircus']\n"
     ]
    },
    {
     "name": "stdout",
     "output_type": "stream",
     "text": [
      "Training until validation scores don't improve for 10 rounds\n",
      "[250]\tvalid_0's l1: 2.91916\tvalid_0's huber: 2.30935\tvalid_0's l2: 35.3395\n",
      "Did not meet early stopping. Best iteration is:\n",
      "[250]\tvalid_0's l1: 2.91916\tvalid_0's huber: 2.30935\tvalid_0's l2: 35.3395\n"
     ]
    },
    {
     "name": "stderr",
     "output_type": "stream",
     "text": [
      "2020-09-03 14:21:37.745 | INFO     | yspecies.selection:fit:82 - SEED: 8 | FOLD: 3 | VALIDATION_SPECIES: ['Bos_taurus', 'Rhinolophus_ferrumequinum']\n"
     ]
    },
    {
     "name": "stdout",
     "output_type": "stream",
     "text": [
      "Training until validation scores don't improve for 10 rounds\n",
      "Early stopping, best iteration is:\n",
      "[174]\tvalid_0's l1: 2.94878\tvalid_0's huber: 2.33775\tvalid_0's l2: 64.7115\n"
     ]
    },
    {
     "name": "stderr",
     "output_type": "stream",
     "text": [
      "2020-09-03 14:21:53.951 | INFO     | yspecies.selection:transform:226 - Metrics: \n",
      "Metrics(R2=0.9448324395175463, MAE=2.7676526453919594, MSE=38.41269758190485, huber=2.1682845815360072)\n"
     ]
    },
    {
     "name": "stdout",
     "output_type": "stream",
     "text": [
      "9\n"
     ]
    },
    {
     "name": "stderr",
     "output_type": "stream",
     "text": [
      "2020-09-03 14:21:53.959 | INFO     | yspecies.selection:fit:78 - ===== fitting models with seed 9 =====\n",
      "2020-09-03 14:21:53.961 | INFO     | yspecies.selection:fit:79 - PARAMETERS:\n",
      "{'objective': 'regression', 'metric': {'mae', 'huber', 'mse'}, 'verbosity': -1, 'boosting_type': 'gbdt', 'lambda_l1': 2.1188796141799573, 'lambda_l2': 2.3500616173039672, 'max_leaves': 17, 'max_depth': 3, 'feature_fraction': 0.8303110843832664, 'bagging_fraction': 0.6212877919288045, 'learning_rate': 0.06379808000182581, 'min_data_in_leaf': 3, 'drop_rate': 0.27117231134759434, 'verbose': -1, 'seed': 8}\n",
      "2020-09-03 14:21:53.965 | INFO     | yspecies.selection:fit:82 - SEED: 9 | FOLD: 0 | VALIDATION_SPECIES: ['Ictidomys_tridecemlineatus', 'Aotus_nancymaae']\n"
     ]
    },
    {
     "name": "stdout",
     "output_type": "stream",
     "text": [
      "[LightGBM] [Warning] verbosity is set=-1, verbose=-1 will be ignored. Current value: verbosity=-1\n",
      "Training until validation scores don't improve for 10 rounds\n",
      "Early stopping, best iteration is:\n",
      "[136]\tvalid_0's l1: 4.68594\tvalid_0's huber: 3.90016\tvalid_0's l2: 90.7481\n"
     ]
    },
    {
     "name": "stderr",
     "output_type": "stream",
     "text": [
      "2020-09-03 14:21:54.125 | INFO     | yspecies.selection:fit:82 - SEED: 9 | FOLD: 1 | VALIDATION_SPECIES: ['Pan_troglodytes', 'Oryctolagus_cuniculus']\n"
     ]
    },
    {
     "name": "stdout",
     "output_type": "stream",
     "text": [
      "Training until validation scores don't improve for 10 rounds\n",
      "[250]\tvalid_0's l1: 4.90934\tvalid_0's huber: 4.0738\tvalid_0's l2: 94.1826\n",
      "Did not meet early stopping. Best iteration is:\n",
      "[250]\tvalid_0's l1: 4.90934\tvalid_0's huber: 4.0738\tvalid_0's l2: 94.1826\n"
     ]
    },
    {
     "name": "stderr",
     "output_type": "stream",
     "text": [
      "2020-09-03 14:21:54.358 | INFO     | yspecies.selection:fit:82 - SEED: 9 | FOLD: 2 | VALIDATION_SPECIES: ['Mesocricetus_auratus', 'Meriones_unguiculatus']\n"
     ]
    },
    {
     "name": "stdout",
     "output_type": "stream",
     "text": [
      "Training until validation scores don't improve for 10 rounds\n",
      "Early stopping, best iteration is:\n",
      "[170]\tvalid_0's l1: 4.2335\tvalid_0's huber: 3.47351\tvalid_0's l2: 55.1697\n"
     ]
    },
    {
     "name": "stderr",
     "output_type": "stream",
     "text": [
      "2020-09-03 14:21:54.800 | INFO     | yspecies.selection:fit:82 - SEED: 9 | FOLD: 3 | VALIDATION_SPECIES: ['Gorilla_gorilla', 'Microcebus_murinus']\n"
     ]
    },
    {
     "name": "stdout",
     "output_type": "stream",
     "text": [
      "Training until validation scores don't improve for 10 rounds\n",
      "Early stopping, best iteration is:\n",
      "[221]\tvalid_0's l1: 5.11942\tvalid_0's huber: 4.27675\tvalid_0's l2: 115.58\n"
     ]
    },
    {
     "name": "stderr",
     "output_type": "stream",
     "text": [
      "2020-09-03 14:22:10.026 | INFO     | yspecies.selection:transform:226 - Metrics: \n",
      "Metrics(R2=0.879946989171569, MAE=4.7370510125451055, MSE=88.91998186417868, huber=3.928749212606358)\n",
      "MultiObjectiveTrial is experimental (supported from v1.4.0). The interface can change in the future.\n",
      "MultiObjectiveStudy is experimental (supported from v1.4.0). The interface can change in the future.\n",
      "[I 2020-09-03 14:22:10,494] Trial 488 finished with values: [0.9011365043639941, 3.282606315131828, 0.5114146856001893] with parameters: {'boosting_type': 'gbdt', 'lambda_l1': 2.1188796141799573, 'lambda_l2': 2.3500616173039672, 'max_leaves': 17, 'max_depth': 3, 'feature_fraction': 0.8303110843832664, 'bagging_fraction': 0.6212877919288045, 'learning_rate': 0.06379808000182581, 'min_data_in_leaf': 3, 'drop_rate': 0.27117231134759434}.\n",
      "MultiObjectiveStudy is experimental (supported from v1.4.0). The interface can change in the future.\n",
      "FrozenMultiObjectiveTrial is experimental (supported from v1.4.0). The interface can change in the future.\n",
      "MultiObjectiveStudy is experimental (supported from v1.4.0). The interface can change in the future.\n",
      "FrozenMultiObjectiveTrial is experimental (supported from v1.4.0). The interface can change in the future.\n",
      "FrozenMultiObjectiveTrial is experimental (supported from v1.4.0). The interface can change in the future.\n",
      "MultiObjectiveTrial is experimental (supported from v1.4.0). The interface can change in the future.\n",
      "MultiObjectiveStudy is experimental (supported from v1.4.0). The interface can change in the future.\n",
      "FrozenMultiObjectiveTrial is experimental (supported from v1.4.0). The interface can change in the future.\n"
     ]
    },
    {
     "name": "stdout",
     "output_type": "stream",
     "text": [
      "0\n"
     ]
    },
    {
     "name": "stderr",
     "output_type": "stream",
     "text": [
      "2020-09-03 14:22:10.779 | INFO     | yspecies.selection:fit:78 - ===== fitting models with seed 0 =====\n",
      "2020-09-03 14:22:10.781 | INFO     | yspecies.selection:fit:79 - PARAMETERS:\n",
      "{'objective': 'regression', 'metric': {'mae', 'huber', 'mse'}, 'verbosity': -1, 'boosting_type': 'dart', 'lambda_l1': 1.941324844875433, 'lambda_l2': 0.7311185016741961, 'max_leaves': 19, 'max_depth': 3, 'feature_fraction': 0.5479409728228775, 'bagging_fraction': 0.48406511309515066, 'learning_rate': 0.025226438405212576, 'min_data_in_leaf': 8, 'drop_rate': 0.24396537502209828, 'verbose': -1}\n",
      "2020-09-03 14:22:10.786 | INFO     | yspecies.selection:fit:82 - SEED: 0 | FOLD: 0 | VALIDATION_SPECIES: ['Gorilla_gorilla', 'Pan_paniscus']\n"
     ]
    },
    {
     "name": "stdout",
     "output_type": "stream",
     "text": [
      "[LightGBM] [Warning] verbosity is set=-1, verbose=-1 will be ignored. Current value: verbosity=-1\n"
     ]
    },
    {
     "name": "stderr",
     "output_type": "stream",
     "text": [
      "Early stopping is not available in dart mode\n"
     ]
    },
    {
     "name": "stdout",
     "output_type": "stream",
     "text": [
      "[250]\tvalid_0's l1: 14.5397\tvalid_0's huber: 12.7383\tvalid_0's l2: 517.729\n"
     ]
    },
    {
     "name": "stderr",
     "output_type": "stream",
     "text": [
      "2020-09-03 14:22:11.438 | INFO     | yspecies.selection:fit:82 - SEED: 0 | FOLD: 1 | VALIDATION_SPECIES: ['Heterocephalus_glaber', 'Capra_hircus']\n"
     ]
    },
    {
     "name": "stdout",
     "output_type": "stream",
     "text": [
      "[250]\tvalid_0's l1: 8.33275\tvalid_0's huber: 7.11145\tvalid_0's l2: 219.142\n"
     ]
    },
    {
     "name": "stderr",
     "output_type": "stream",
     "text": [
      "2020-09-03 14:22:12.015 | INFO     | yspecies.selection:fit:82 - SEED: 0 | FOLD: 2 | VALIDATION_SPECIES: ['Bos_taurus', 'Otolemur_garnettii']\n"
     ]
    },
    {
     "name": "stdout",
     "output_type": "stream",
     "text": [
      "[250]\tvalid_0's l1: 7.00136\tvalid_0's huber: 5.91622\tvalid_0's l2: 149.908\n"
     ]
    },
    {
     "name": "stderr",
     "output_type": "stream",
     "text": [
      "2020-09-03 14:22:12.639 | INFO     | yspecies.selection:fit:82 - SEED: 0 | FOLD: 3 | VALIDATION_SPECIES: ['Macaca_nemestrina', 'Microcebus_murinus']\n"
     ]
    },
    {
     "name": "stdout",
     "output_type": "stream",
     "text": [
      "[250]\tvalid_0's l1: 6.7806\tvalid_0's huber: 5.71918\tvalid_0's l2: 198.151\n"
     ]
    },
    {
     "name": "stderr",
     "output_type": "stream",
     "text": [
      "2020-09-03 14:22:18.244 | INFO     | yspecies.selection:transform:226 - Metrics: \n",
      "Metrics(R2=0.6338938221874264, MAE=9.163595324530288, MSE=271.2323282005272, huber=7.8712939503355415)\n"
     ]
    },
    {
     "name": "stdout",
     "output_type": "stream",
     "text": [
      "1\n"
     ]
    },
    {
     "name": "stderr",
     "output_type": "stream",
     "text": [
      "2020-09-03 14:22:18.253 | INFO     | yspecies.selection:fit:78 - ===== fitting models with seed 1 =====\n",
      "2020-09-03 14:22:18.255 | INFO     | yspecies.selection:fit:79 - PARAMETERS:\n",
      "{'objective': 'regression', 'metric': {'mae', 'huber', 'mse'}, 'verbosity': -1, 'boosting_type': 'dart', 'lambda_l1': 1.941324844875433, 'lambda_l2': 0.7311185016741961, 'max_leaves': 19, 'max_depth': 3, 'feature_fraction': 0.5479409728228775, 'bagging_fraction': 0.48406511309515066, 'learning_rate': 0.025226438405212576, 'min_data_in_leaf': 8, 'drop_rate': 0.24396537502209828, 'verbose': -1, 'seed': 0}\n",
      "2020-09-03 14:22:18.259 | INFO     | yspecies.selection:fit:82 - SEED: 1 | FOLD: 0 | VALIDATION_SPECIES: ['Felis_catus', 'Ursus_americanus']\n"
     ]
    },
    {
     "name": "stdout",
     "output_type": "stream",
     "text": [
      "[LightGBM] [Warning] verbosity is set=-1, verbose=-1 will be ignored. Current value: verbosity=-1\n"
     ]
    },
    {
     "name": "stderr",
     "output_type": "stream",
     "text": [
      "Early stopping is not available in dart mode\n"
     ]
    },
    {
     "name": "stdout",
     "output_type": "stream",
     "text": [
      "[250]\tvalid_0's l1: 6.89381\tvalid_0's huber: 5.83008\tvalid_0's l2: 124.548\n"
     ]
    },
    {
     "name": "stderr",
     "output_type": "stream",
     "text": [
      "2020-09-03 14:22:18.820 | INFO     | yspecies.selection:fit:82 - SEED: 1 | FOLD: 1 | VALIDATION_SPECIES: ['Heterocephalus_glaber', 'Vombatus_ursinus']\n"
     ]
    },
    {
     "name": "stdout",
     "output_type": "stream",
     "text": [
      "[250]\tvalid_0's l1: 7.92666\tvalid_0's huber: 6.75852\tvalid_0's l2: 180.018\n"
     ]
    },
    {
     "name": "stderr",
     "output_type": "stream",
     "text": [
      "2020-09-03 14:22:19.340 | INFO     | yspecies.selection:fit:82 - SEED: 1 | FOLD: 2 | VALIDATION_SPECIES: ['Macaca_fascicularis', 'Rhinopithecus_bieti']\n"
     ]
    },
    {
     "name": "stdout",
     "output_type": "stream",
     "text": [
      "[250]\tvalid_0's l1: 6.58317\tvalid_0's huber: 5.53176\tvalid_0's l2: 125.091\n"
     ]
    },
    {
     "name": "stderr",
     "output_type": "stream",
     "text": [
      "2020-09-03 14:22:19.913 | INFO     | yspecies.selection:fit:82 - SEED: 1 | FOLD: 3 | VALIDATION_SPECIES: ['Gorilla_gorilla', 'Ovis_aries']\n"
     ]
    },
    {
     "name": "stdout",
     "output_type": "stream",
     "text": [
      "[250]\tvalid_0's l1: 9.84835\tvalid_0's huber: 8.52483\tvalid_0's l2: 337.966\n"
     ]
    },
    {
     "name": "stderr",
     "output_type": "stream",
     "text": [
      "2020-09-03 14:22:25.933 | INFO     | yspecies.selection:transform:226 - Metrics: \n",
      "Metrics(R2=0.726926713570193, MAE=7.812998731451881, MSE=191.9057163377375, huber=6.661299729312104)\n"
     ]
    },
    {
     "name": "stdout",
     "output_type": "stream",
     "text": [
      "2\n"
     ]
    },
    {
     "name": "stderr",
     "output_type": "stream",
     "text": [
      "2020-09-03 14:22:25.942 | INFO     | yspecies.selection:fit:78 - ===== fitting models with seed 2 =====\n",
      "2020-09-03 14:22:25.943 | INFO     | yspecies.selection:fit:79 - PARAMETERS:\n",
      "{'objective': 'regression', 'metric': {'mae', 'huber', 'mse'}, 'verbosity': -1, 'boosting_type': 'dart', 'lambda_l1': 1.941324844875433, 'lambda_l2': 0.7311185016741961, 'max_leaves': 19, 'max_depth': 3, 'feature_fraction': 0.5479409728228775, 'bagging_fraction': 0.48406511309515066, 'learning_rate': 0.025226438405212576, 'min_data_in_leaf': 8, 'drop_rate': 0.24396537502209828, 'verbose': -1, 'seed': 1}\n",
      "2020-09-03 14:22:25.947 | INFO     | yspecies.selection:fit:82 - SEED: 2 | FOLD: 0 | VALIDATION_SPECIES: ['Rhinopithecus_bieti', 'Ursus_americanus']\n"
     ]
    },
    {
     "name": "stdout",
     "output_type": "stream",
     "text": [
      "[LightGBM] [Warning] verbosity is set=-1, verbose=-1 will be ignored. Current value: verbosity=-1\n"
     ]
    },
    {
     "name": "stderr",
     "output_type": "stream",
     "text": [
      "Early stopping is not available in dart mode\n"
     ]
    },
    {
     "name": "stdout",
     "output_type": "stream",
     "text": [
      "[250]\tvalid_0's l1: 9.92042\tvalid_0's huber: 8.57305\tvalid_0's l2: 233.268\n"
     ]
    },
    {
     "name": "stderr",
     "output_type": "stream",
     "text": [
      "2020-09-03 14:22:26.558 | INFO     | yspecies.selection:fit:82 - SEED: 2 | FOLD: 1 | VALIDATION_SPECIES: ['Aotus_nancymaae', 'Phascolarctos_cinereus']\n"
     ]
    },
    {
     "name": "stdout",
     "output_type": "stream",
     "text": [
      "[250]\tvalid_0's l1: 11.067\tvalid_0's huber: 9.58436\tvalid_0's l2: 286.001\n"
     ]
    },
    {
     "name": "stderr",
     "output_type": "stream",
     "text": [
      "2020-09-03 14:22:27.468 | INFO     | yspecies.selection:fit:82 - SEED: 2 | FOLD: 2 | VALIDATION_SPECIES: ['Vombatus_ursinus', 'Ailuropoda_melanoleuca']\n"
     ]
    },
    {
     "name": "stdout",
     "output_type": "stream",
     "text": [
      "[250]\tvalid_0's l1: 10.5075\tvalid_0's huber: 9.09155\tvalid_0's l2: 274.916\n"
     ]
    },
    {
     "name": "stderr",
     "output_type": "stream",
     "text": [
      "2020-09-03 14:22:28.021 | INFO     | yspecies.selection:fit:82 - SEED: 2 | FOLD: 3 | VALIDATION_SPECIES: ['Rattus_norvegicus', 'Monodelphis_domestica']\n"
     ]
    },
    {
     "name": "stdout",
     "output_type": "stream",
     "text": [
      "[250]\tvalid_0's l1: 6.99239\tvalid_0's huber: 5.89624\tvalid_0's l2: 147.877\n"
     ]
    },
    {
     "name": "stderr",
     "output_type": "stream",
     "text": [
      "2020-09-03 14:22:33.689 | INFO     | yspecies.selection:transform:226 - Metrics: \n",
      "Metrics(R2=0.6778467068479395, MAE=9.621818104284042, MSE=235.5155217409644, huber=8.286297544717144)\n"
     ]
    },
    {
     "name": "stdout",
     "output_type": "stream",
     "text": [
      "3\n"
     ]
    },
    {
     "name": "stderr",
     "output_type": "stream",
     "text": [
      "2020-09-03 14:22:33.698 | INFO     | yspecies.selection:fit:78 - ===== fitting models with seed 3 =====\n",
      "2020-09-03 14:22:33.700 | INFO     | yspecies.selection:fit:79 - PARAMETERS:\n",
      "{'objective': 'regression', 'metric': {'mae', 'huber', 'mse'}, 'verbosity': -1, 'boosting_type': 'dart', 'lambda_l1': 1.941324844875433, 'lambda_l2': 0.7311185016741961, 'max_leaves': 19, 'max_depth': 3, 'feature_fraction': 0.5479409728228775, 'bagging_fraction': 0.48406511309515066, 'learning_rate': 0.025226438405212576, 'min_data_in_leaf': 8, 'drop_rate': 0.24396537502209828, 'verbose': -1, 'seed': 2}\n",
      "2020-09-03 14:22:33.704 | INFO     | yspecies.selection:fit:82 - SEED: 3 | FOLD: 0 | VALIDATION_SPECIES: ['Microcebus_murinus', 'Pan_paniscus']\n"
     ]
    },
    {
     "name": "stdout",
     "output_type": "stream",
     "text": [
      "[LightGBM] [Warning] verbosity is set=-1, verbose=-1 will be ignored. Current value: verbosity=-1\n"
     ]
    },
    {
     "name": "stderr",
     "output_type": "stream",
     "text": [
      "Early stopping is not available in dart mode\n"
     ]
    },
    {
     "name": "stdout",
     "output_type": "stream",
     "text": [
      "[250]\tvalid_0's l1: 6.96194\tvalid_0's huber: 5.88887\tvalid_0's l2: 138.619\n"
     ]
    },
    {
     "name": "stderr",
     "output_type": "stream",
     "text": [
      "2020-09-03 14:22:34.267 | INFO     | yspecies.selection:fit:82 - SEED: 3 | FOLD: 1 | VALIDATION_SPECIES: ['Ursus_americanus', 'Gorilla_gorilla']\n"
     ]
    },
    {
     "name": "stdout",
     "output_type": "stream",
     "text": [
      "[250]\tvalid_0's l1: 12.3178\tvalid_0's huber: 10.7095\tvalid_0's l2: 354.289\n"
     ]
    },
    {
     "name": "stderr",
     "output_type": "stream",
     "text": [
      "2020-09-03 14:22:34.798 | INFO     | yspecies.selection:fit:82 - SEED: 3 | FOLD: 2 | VALIDATION_SPECIES: ['Bos_taurus', 'Capra_hircus']\n"
     ]
    },
    {
     "name": "stdout",
     "output_type": "stream",
     "text": [
      "[250]\tvalid_0's l1: 7.17636\tvalid_0's huber: 6.06528\tvalid_0's l2: 158.483\n"
     ]
    },
    {
     "name": "stderr",
     "output_type": "stream",
     "text": [
      "2020-09-03 14:22:35.538 | INFO     | yspecies.selection:fit:82 - SEED: 3 | FOLD: 3 | VALIDATION_SPECIES: ['Rhinolophus_ferrumequinum', 'Mus_musculus']\n"
     ]
    },
    {
     "name": "stdout",
     "output_type": "stream",
     "text": [
      "[250]\tvalid_0's l1: 5.52081\tvalid_0's huber: 4.57059\tvalid_0's l2: 121.267\n"
     ]
    },
    {
     "name": "stderr",
     "output_type": "stream",
     "text": [
      "2020-09-03 14:22:40.769 | INFO     | yspecies.selection:transform:226 - Metrics: \n",
      "Metrics(R2=0.7383867682327502, MAE=7.994238733767112, MSE=193.1643864345936, huber=6.80854882309631)\n"
     ]
    },
    {
     "name": "stdout",
     "output_type": "stream",
     "text": [
      "4\n"
     ]
    },
    {
     "name": "stderr",
     "output_type": "stream",
     "text": [
      "2020-09-03 14:22:40.778 | INFO     | yspecies.selection:fit:78 - ===== fitting models with seed 4 =====\n",
      "2020-09-03 14:22:40.782 | INFO     | yspecies.selection:fit:79 - PARAMETERS:\n",
      "{'objective': 'regression', 'metric': {'mae', 'huber', 'mse'}, 'verbosity': -1, 'boosting_type': 'dart', 'lambda_l1': 1.941324844875433, 'lambda_l2': 0.7311185016741961, 'max_leaves': 19, 'max_depth': 3, 'feature_fraction': 0.5479409728228775, 'bagging_fraction': 0.48406511309515066, 'learning_rate': 0.025226438405212576, 'min_data_in_leaf': 8, 'drop_rate': 0.24396537502209828, 'verbose': -1, 'seed': 3}\n",
      "2020-09-03 14:22:40.791 | INFO     | yspecies.selection:fit:82 - SEED: 4 | FOLD: 0 | VALIDATION_SPECIES: ['Macaca_fascicularis', 'Pan_troglodytes']\n"
     ]
    },
    {
     "name": "stdout",
     "output_type": "stream",
     "text": [
      "[LightGBM] [Warning] verbosity is set=-1, verbose=-1 will be ignored. Current value: verbosity=-1\n"
     ]
    },
    {
     "name": "stderr",
     "output_type": "stream",
     "text": [
      "Early stopping is not available in dart mode\n"
     ]
    },
    {
     "name": "stdout",
     "output_type": "stream",
     "text": [
      "[250]\tvalid_0's l1: 7.20229\tvalid_0's huber: 6.09297\tvalid_0's l2: 155.287\n"
     ]
    },
    {
     "name": "stderr",
     "output_type": "stream",
     "text": [
      "2020-09-03 14:22:41.585 | INFO     | yspecies.selection:fit:82 - SEED: 4 | FOLD: 1 | VALIDATION_SPECIES: ['Otolemur_garnettii', 'Ursus_americanus']\n"
     ]
    },
    {
     "name": "stdout",
     "output_type": "stream",
     "text": [
      "[250]\tvalid_0's l1: 7.02285\tvalid_0's huber: 5.93855\tvalid_0's l2: 160.921\n"
     ]
    },
    {
     "name": "stderr",
     "output_type": "stream",
     "text": [
      "2020-09-03 14:22:42.762 | INFO     | yspecies.selection:fit:82 - SEED: 4 | FOLD: 2 | VALIDATION_SPECIES: ['Heterocephalus_glaber', 'Cavia_aperea']\n"
     ]
    },
    {
     "name": "stdout",
     "output_type": "stream",
     "text": [
      "[250]\tvalid_0's l1: 6.02709\tvalid_0's huber: 5.07396\tvalid_0's l2: 92.5967\n"
     ]
    },
    {
     "name": "stderr",
     "output_type": "stream",
     "text": [
      "2020-09-03 14:22:43.443 | INFO     | yspecies.selection:fit:82 - SEED: 4 | FOLD: 3 | VALIDATION_SPECIES: ['Pan_paniscus', 'Gorilla_gorilla']\n"
     ]
    },
    {
     "name": "stdout",
     "output_type": "stream",
     "text": [
      "[250]\tvalid_0's l1: 11.6154\tvalid_0's huber: 10.1\tvalid_0's l2: 352.826\n"
     ]
    },
    {
     "name": "stderr",
     "output_type": "stream",
     "text": [
      "2020-09-03 14:22:48.631 | INFO     | yspecies.selection:transform:226 - Metrics: \n",
      "Metrics(R2=0.7428587552137607, MAE=7.966919280613963, MSE=190.4075620690059, huber=6.801377203754262)\n"
     ]
    },
    {
     "name": "stdout",
     "output_type": "stream",
     "text": [
      "5\n"
     ]
    },
    {
     "name": "stderr",
     "output_type": "stream",
     "text": [
      "2020-09-03 14:22:48.646 | INFO     | yspecies.selection:fit:78 - ===== fitting models with seed 5 =====\n",
      "2020-09-03 14:22:48.648 | INFO     | yspecies.selection:fit:79 - PARAMETERS:\n",
      "{'objective': 'regression', 'metric': {'mae', 'huber', 'mse'}, 'verbosity': -1, 'boosting_type': 'dart', 'lambda_l1': 1.941324844875433, 'lambda_l2': 0.7311185016741961, 'max_leaves': 19, 'max_depth': 3, 'feature_fraction': 0.5479409728228775, 'bagging_fraction': 0.48406511309515066, 'learning_rate': 0.025226438405212576, 'min_data_in_leaf': 8, 'drop_rate': 0.24396537502209828, 'verbose': -1, 'seed': 4}\n",
      "2020-09-03 14:22:48.652 | INFO     | yspecies.selection:fit:82 - SEED: 5 | FOLD: 0 | VALIDATION_SPECIES: ['Mus_spicilegus', 'Canis_lupus_familiaris']\n"
     ]
    },
    {
     "name": "stdout",
     "output_type": "stream",
     "text": [
      "[LightGBM] [Warning] verbosity is set=-1, verbose=-1 will be ignored. Current value: verbosity=-1\n"
     ]
    },
    {
     "name": "stderr",
     "output_type": "stream",
     "text": [
      "Early stopping is not available in dart mode\n"
     ]
    },
    {
     "name": "stdout",
     "output_type": "stream",
     "text": [
      "[250]\tvalid_0's l1: 6.62819\tvalid_0's huber: 5.58867\tvalid_0's l2: 129.166\n"
     ]
    },
    {
     "name": "stderr",
     "output_type": "stream",
     "text": [
      "2020-09-03 14:22:49.249 | INFO     | yspecies.selection:fit:82 - SEED: 5 | FOLD: 1 | VALIDATION_SPECIES: ['Ovis_aries', 'Heterocephalus_glaber']\n"
     ]
    },
    {
     "name": "stdout",
     "output_type": "stream",
     "text": [
      "[250]\tvalid_0's l1: 8.21826\tvalid_0's huber: 7.01984\tvalid_0's l2: 203.841\n"
     ]
    },
    {
     "name": "stderr",
     "output_type": "stream",
     "text": [
      "2020-09-03 14:22:49.814 | INFO     | yspecies.selection:fit:82 - SEED: 5 | FOLD: 2 | VALIDATION_SPECIES: ['Ursus_americanus', 'Oryctolagus_cuniculus']\n"
     ]
    },
    {
     "name": "stdout",
     "output_type": "stream",
     "text": [
      "[250]\tvalid_0's l1: 8.56486\tvalid_0's huber: 7.35165\tvalid_0's l2: 197.112\n"
     ]
    },
    {
     "name": "stderr",
     "output_type": "stream",
     "text": [
      "2020-09-03 14:22:50.355 | INFO     | yspecies.selection:fit:82 - SEED: 5 | FOLD: 3 | VALIDATION_SPECIES: ['Cavia_aperea', 'Ailuropoda_melanoleuca']\n"
     ]
    },
    {
     "name": "stdout",
     "output_type": "stream",
     "text": [
      "[250]\tvalid_0's l1: 7.51621\tvalid_0's huber: 6.41891\tvalid_0's l2: 198.922\n"
     ]
    },
    {
     "name": "stderr",
     "output_type": "stream",
     "text": [
      "2020-09-03 14:22:56.768 | INFO     | yspecies.selection:transform:226 - Metrics: \n",
      "Metrics(R2=0.7509418993652963, MAE=7.731879627241279, MSE=182.26019819767941, huber=6.594766285288409)\n"
     ]
    },
    {
     "name": "stdout",
     "output_type": "stream",
     "text": [
      "6\n"
     ]
    },
    {
     "name": "stderr",
     "output_type": "stream",
     "text": [
      "2020-09-03 14:22:56.777 | INFO     | yspecies.selection:fit:78 - ===== fitting models with seed 6 =====\n",
      "2020-09-03 14:22:56.779 | INFO     | yspecies.selection:fit:79 - PARAMETERS:\n",
      "{'objective': 'regression', 'metric': {'mae', 'huber', 'mse'}, 'verbosity': -1, 'boosting_type': 'dart', 'lambda_l1': 1.941324844875433, 'lambda_l2': 0.7311185016741961, 'max_leaves': 19, 'max_depth': 3, 'feature_fraction': 0.5479409728228775, 'bagging_fraction': 0.48406511309515066, 'learning_rate': 0.025226438405212576, 'min_data_in_leaf': 8, 'drop_rate': 0.24396537502209828, 'verbose': -1, 'seed': 5}\n",
      "2020-09-03 14:22:56.783 | INFO     | yspecies.selection:fit:82 - SEED: 6 | FOLD: 0 | VALIDATION_SPECIES: ['Rhinolophus_ferrumequinum', 'Heterocephalus_glaber']\n"
     ]
    },
    {
     "name": "stdout",
     "output_type": "stream",
     "text": [
      "[LightGBM] [Warning] verbosity is set=-1, verbose=-1 will be ignored. Current value: verbosity=-1\n"
     ]
    },
    {
     "name": "stderr",
     "output_type": "stream",
     "text": [
      "Early stopping is not available in dart mode\n"
     ]
    },
    {
     "name": "stdout",
     "output_type": "stream",
     "text": [
      "[250]\tvalid_0's l1: 8.18472\tvalid_0's huber: 6.99028\tvalid_0's l2: 183.665\n"
     ]
    },
    {
     "name": "stderr",
     "output_type": "stream",
     "text": [
      "2020-09-03 14:22:57.366 | INFO     | yspecies.selection:fit:82 - SEED: 6 | FOLD: 1 | VALIDATION_SPECIES: ['Mus_spicilegus', 'Suricata_suricatta']\n"
     ]
    },
    {
     "name": "stdout",
     "output_type": "stream",
     "text": [
      "[250]\tvalid_0's l1: 7.77945\tvalid_0's huber: 6.61695\tvalid_0's l2: 197.967\n"
     ]
    },
    {
     "name": "stderr",
     "output_type": "stream",
     "text": [
      "2020-09-03 14:22:57.933 | INFO     | yspecies.selection:fit:82 - SEED: 6 | FOLD: 2 | VALIDATION_SPECIES: ['Rhinopithecus_bieti', 'Ovis_aries']\n"
     ]
    },
    {
     "name": "stdout",
     "output_type": "stream",
     "text": [
      "[250]\tvalid_0's l1: 6.94866\tvalid_0's huber: 5.89002\tvalid_0's l2: 135.318\n"
     ]
    },
    {
     "name": "stderr",
     "output_type": "stream",
     "text": [
      "2020-09-03 14:22:58.526 | INFO     | yspecies.selection:fit:82 - SEED: 6 | FOLD: 3 | VALIDATION_SPECIES: ['Cavia_porcellus', 'Pan_troglodytes']\n"
     ]
    },
    {
     "name": "stdout",
     "output_type": "stream",
     "text": [
      "[250]\tvalid_0's l1: 7.49813\tvalid_0's huber: 6.40656\tvalid_0's l2: 213.666\n"
     ]
    },
    {
     "name": "stderr",
     "output_type": "stream",
     "text": [
      "2020-09-03 14:23:04.361 | INFO     | yspecies.selection:transform:226 - Metrics: \n",
      "Metrics(R2=0.7472856649802961, MAE=7.602740775409203, MSE=182.6539759889175, huber=6.475951663641835)\n"
     ]
    },
    {
     "name": "stdout",
     "output_type": "stream",
     "text": [
      "7\n"
     ]
    },
    {
     "name": "stderr",
     "output_type": "stream",
     "text": [
      "2020-09-03 14:23:04.369 | INFO     | yspecies.selection:fit:78 - ===== fitting models with seed 7 =====\n",
      "2020-09-03 14:23:04.370 | INFO     | yspecies.selection:fit:79 - PARAMETERS:\n",
      "{'objective': 'regression', 'metric': {'mae', 'huber', 'mse'}, 'verbosity': -1, 'boosting_type': 'dart', 'lambda_l1': 1.941324844875433, 'lambda_l2': 0.7311185016741961, 'max_leaves': 19, 'max_depth': 3, 'feature_fraction': 0.5479409728228775, 'bagging_fraction': 0.48406511309515066, 'learning_rate': 0.025226438405212576, 'min_data_in_leaf': 8, 'drop_rate': 0.24396537502209828, 'verbose': -1, 'seed': 6}\n",
      "2020-09-03 14:23:04.374 | INFO     | yspecies.selection:fit:82 - SEED: 7 | FOLD: 0 | VALIDATION_SPECIES: ['Macaca_mulatta', 'Cavia_porcellus']\n"
     ]
    },
    {
     "name": "stdout",
     "output_type": "stream",
     "text": [
      "[LightGBM] [Warning] verbosity is set=-1, verbose=-1 will be ignored. Current value: verbosity=-1\n"
     ]
    },
    {
     "name": "stderr",
     "output_type": "stream",
     "text": [
      "Early stopping is not available in dart mode\n"
     ]
    },
    {
     "name": "stdout",
     "output_type": "stream",
     "text": [
      "[250]\tvalid_0's l1: 7.5317\tvalid_0's huber: 6.39225\tvalid_0's l2: 178.281\n"
     ]
    },
    {
     "name": "stderr",
     "output_type": "stream",
     "text": [
      "2020-09-03 14:23:05.023 | INFO     | yspecies.selection:fit:82 - SEED: 7 | FOLD: 1 | VALIDATION_SPECIES: ['Pan_paniscus', 'Capra_hircus']\n"
     ]
    },
    {
     "name": "stdout",
     "output_type": "stream",
     "text": [
      "[250]\tvalid_0's l1: 9.52942\tvalid_0's huber: 8.18858\tvalid_0's l2: 227.286\n"
     ]
    },
    {
     "name": "stderr",
     "output_type": "stream",
     "text": [
      "2020-09-03 14:23:05.659 | INFO     | yspecies.selection:fit:82 - SEED: 7 | FOLD: 2 | VALIDATION_SPECIES: ['Otolemur_garnettii', 'Ictidomys_tridecemlineatus']\n"
     ]
    },
    {
     "name": "stdout",
     "output_type": "stream",
     "text": [
      "[250]\tvalid_0's l1: 7.77441\tvalid_0's huber: 6.62388\tvalid_0's l2: 174.642\n"
     ]
    },
    {
     "name": "stderr",
     "output_type": "stream",
     "text": [
      "2020-09-03 14:23:06.335 | INFO     | yspecies.selection:fit:82 - SEED: 7 | FOLD: 3 | VALIDATION_SPECIES: ['Canis_lupus_familiaris', 'Ursus_americanus']\n"
     ]
    },
    {
     "name": "stdout",
     "output_type": "stream",
     "text": [
      "[250]\tvalid_0's l1: 8.36322\tvalid_0's huber: 7.15933\tvalid_0's l2: 225.995\n"
     ]
    },
    {
     "name": "stderr",
     "output_type": "stream",
     "text": [
      "2020-09-03 14:23:11.856 | INFO     | yspecies.selection:transform:226 - Metrics: \n",
      "Metrics(R2=0.718104331263353, MAE=8.299686370304089, MSE=201.5508808831072, huber=7.091011263346321)\n"
     ]
    },
    {
     "name": "stdout",
     "output_type": "stream",
     "text": [
      "8\n"
     ]
    },
    {
     "name": "stderr",
     "output_type": "stream",
     "text": [
      "2020-09-03 14:23:11.864 | INFO     | yspecies.selection:fit:78 - ===== fitting models with seed 8 =====\n",
      "2020-09-03 14:23:11.866 | INFO     | yspecies.selection:fit:79 - PARAMETERS:\n",
      "{'objective': 'regression', 'metric': {'mae', 'huber', 'mse'}, 'verbosity': -1, 'boosting_type': 'dart', 'lambda_l1': 1.941324844875433, 'lambda_l2': 0.7311185016741961, 'max_leaves': 19, 'max_depth': 3, 'feature_fraction': 0.5479409728228775, 'bagging_fraction': 0.48406511309515066, 'learning_rate': 0.025226438405212576, 'min_data_in_leaf': 8, 'drop_rate': 0.24396537502209828, 'verbose': -1, 'seed': 7}\n",
      "2020-09-03 14:23:11.870 | INFO     | yspecies.selection:fit:82 - SEED: 8 | FOLD: 0 | VALIDATION_SPECIES: ['Pan_paniscus', 'Suricata_suricatta']\n"
     ]
    },
    {
     "name": "stdout",
     "output_type": "stream",
     "text": [
      "[LightGBM] [Warning] verbosity is set=-1, verbose=-1 will be ignored. Current value: verbosity=-1\n"
     ]
    },
    {
     "name": "stderr",
     "output_type": "stream",
     "text": [
      "Early stopping is not available in dart mode\n"
     ]
    },
    {
     "name": "stdout",
     "output_type": "stream",
     "text": [
      "[250]\tvalid_0's l1: 6.57995\tvalid_0's huber: 5.54354\tvalid_0's l2: 135.481\n"
     ]
    },
    {
     "name": "stderr",
     "output_type": "stream",
     "text": [
      "2020-09-03 14:23:12.553 | INFO     | yspecies.selection:fit:82 - SEED: 8 | FOLD: 1 | VALIDATION_SPECIES: ['Macaca_fascicularis', 'Tupaia_belangeri']\n"
     ]
    },
    {
     "name": "stdout",
     "output_type": "stream",
     "text": [
      "[250]\tvalid_0's l1: 7.18568\tvalid_0's huber: 6.08005\tvalid_0's l2: 154.627\n"
     ]
    },
    {
     "name": "stderr",
     "output_type": "stream",
     "text": [
      "2020-09-03 14:23:13.087 | INFO     | yspecies.selection:fit:82 - SEED: 8 | FOLD: 2 | VALIDATION_SPECIES: ['Ursus_americanus', 'Capra_hircus']\n"
     ]
    },
    {
     "name": "stdout",
     "output_type": "stream",
     "text": [
      "[250]\tvalid_0's l1: 7.71742\tvalid_0's huber: 6.55117\tvalid_0's l2: 150.78\n"
     ]
    },
    {
     "name": "stderr",
     "output_type": "stream",
     "text": [
      "2020-09-03 14:23:13.741 | INFO     | yspecies.selection:fit:82 - SEED: 8 | FOLD: 3 | VALIDATION_SPECIES: ['Bos_taurus', 'Rhinolophus_ferrumequinum']\n"
     ]
    },
    {
     "name": "stdout",
     "output_type": "stream",
     "text": [
      "[250]\tvalid_0's l1: 7.35701\tvalid_0's huber: 6.23325\tvalid_0's l2: 189.876\n"
     ]
    },
    {
     "name": "stderr",
     "output_type": "stream",
     "text": [
      "2020-09-03 14:23:19.249 | INFO     | yspecies.selection:transform:226 - Metrics: \n",
      "Metrics(R2=0.7792452819840965, MAE=7.210016327413027, MSE=157.69098464347638, huber=6.102002261886385)\n"
     ]
    },
    {
     "name": "stdout",
     "output_type": "stream",
     "text": [
      "9\n"
     ]
    },
    {
     "name": "stderr",
     "output_type": "stream",
     "text": [
      "2020-09-03 14:23:19.257 | INFO     | yspecies.selection:fit:78 - ===== fitting models with seed 9 =====\n",
      "2020-09-03 14:23:19.258 | INFO     | yspecies.selection:fit:79 - PARAMETERS:\n",
      "{'objective': 'regression', 'metric': {'mae', 'huber', 'mse'}, 'verbosity': -1, 'boosting_type': 'dart', 'lambda_l1': 1.941324844875433, 'lambda_l2': 0.7311185016741961, 'max_leaves': 19, 'max_depth': 3, 'feature_fraction': 0.5479409728228775, 'bagging_fraction': 0.48406511309515066, 'learning_rate': 0.025226438405212576, 'min_data_in_leaf': 8, 'drop_rate': 0.24396537502209828, 'verbose': -1, 'seed': 8}\n",
      "2020-09-03 14:23:19.262 | INFO     | yspecies.selection:fit:82 - SEED: 9 | FOLD: 0 | VALIDATION_SPECIES: ['Ictidomys_tridecemlineatus', 'Aotus_nancymaae']\n"
     ]
    },
    {
     "name": "stdout",
     "output_type": "stream",
     "text": [
      "[LightGBM] [Warning] verbosity is set=-1, verbose=-1 will be ignored. Current value: verbosity=-1\n"
     ]
    },
    {
     "name": "stderr",
     "output_type": "stream",
     "text": [
      "Early stopping is not available in dart mode\n"
     ]
    },
    {
     "name": "stdout",
     "output_type": "stream",
     "text": [
      "[250]\tvalid_0's l1: 6.64359\tvalid_0's huber: 5.62683\tvalid_0's l2: 121.545\n"
     ]
    },
    {
     "name": "stderr",
     "output_type": "stream",
     "text": [
      "2020-09-03 14:23:19.810 | INFO     | yspecies.selection:fit:82 - SEED: 9 | FOLD: 1 | VALIDATION_SPECIES: ['Pan_troglodytes', 'Oryctolagus_cuniculus']\n"
     ]
    },
    {
     "name": "stdout",
     "output_type": "stream",
     "text": [
      "[250]\tvalid_0's l1: 9.19183\tvalid_0's huber: 7.89665\tvalid_0's l2: 256.514\n"
     ]
    },
    {
     "name": "stderr",
     "output_type": "stream",
     "text": [
      "2020-09-03 14:23:20.334 | INFO     | yspecies.selection:fit:82 - SEED: 9 | FOLD: 2 | VALIDATION_SPECIES: ['Mesocricetus_auratus', 'Meriones_unguiculatus']\n"
     ]
    },
    {
     "name": "stdout",
     "output_type": "stream",
     "text": [
      "[250]\tvalid_0's l1: 6.47789\tvalid_0's huber: 5.44765\tvalid_0's l2: 107.838\n"
     ]
    },
    {
     "name": "stderr",
     "output_type": "stream",
     "text": [
      "2020-09-03 14:23:20.852 | INFO     | yspecies.selection:fit:82 - SEED: 9 | FOLD: 3 | VALIDATION_SPECIES: ['Gorilla_gorilla', 'Microcebus_murinus']\n"
     ]
    },
    {
     "name": "stdout",
     "output_type": "stream",
     "text": [
      "[250]\tvalid_0's l1: 10.3335\tvalid_0's huber: 8.93924\tvalid_0's l2: 316.446\n"
     ]
    },
    {
     "name": "stderr",
     "output_type": "stream",
     "text": [
      "2020-09-03 14:23:26.231 | INFO     | yspecies.selection:transform:226 - Metrics: \n",
      "Metrics(R2=0.7292312069072131, MAE=8.161700142171332, MSE=200.58598538236862, huber=6.977594386561826)\n",
      "MultiObjectiveTrial is experimental (supported from v1.4.0). The interface can change in the future.\n",
      "MultiObjectiveStudy is experimental (supported from v1.4.0). The interface can change in the future.\n",
      "[I 2020-09-03 14:23:26,825] Trial 489 finished with values: [0.7244721150552325, 6.967014311194015, 0.48731601031051] with parameters: {'boosting_type': 'dart', 'lambda_l1': 1.941324844875433, 'lambda_l2': 0.7311185016741961, 'max_leaves': 19, 'max_depth': 3, 'feature_fraction': 0.5479409728228775, 'bagging_fraction': 0.48406511309515066, 'learning_rate': 0.025226438405212576, 'min_data_in_leaf': 8, 'drop_rate': 0.24396537502209828}.\n",
      "MultiObjectiveStudy is experimental (supported from v1.4.0). The interface can change in the future.\n",
      "FrozenMultiObjectiveTrial is experimental (supported from v1.4.0). The interface can change in the future.\n",
      "MultiObjectiveStudy is experimental (supported from v1.4.0). The interface can change in the future.\n",
      "FrozenMultiObjectiveTrial is experimental (supported from v1.4.0). The interface can change in the future.\n",
      "FrozenMultiObjectiveTrial is experimental (supported from v1.4.0). The interface can change in the future.\n",
      "MultiObjectiveTrial is experimental (supported from v1.4.0). The interface can change in the future.\n",
      "MultiObjectiveStudy is experimental (supported from v1.4.0). The interface can change in the future.\n",
      "FrozenMultiObjectiveTrial is experimental (supported from v1.4.0). The interface can change in the future.\n"
     ]
    },
    {
     "name": "stdout",
     "output_type": "stream",
     "text": [
      "0\n"
     ]
    },
    {
     "name": "stderr",
     "output_type": "stream",
     "text": [
      "2020-09-03 14:23:27.172 | INFO     | yspecies.selection:fit:78 - ===== fitting models with seed 0 =====\n",
      "2020-09-03 14:23:27.174 | INFO     | yspecies.selection:fit:79 - PARAMETERS:\n",
      "{'objective': 'regression', 'metric': {'mae', 'huber', 'mse'}, 'verbosity': -1, 'boosting_type': 'gbdt', 'lambda_l1': 2.7975824689043707, 'lambda_l2': 2.190349910178116, 'max_leaves': 18, 'max_depth': 3, 'feature_fraction': 0.5191833333608565, 'bagging_fraction': 0.6212877919288045, 'learning_rate': 0.022559688029803765, 'min_data_in_leaf': 8, 'drop_rate': 0.27117231134759434, 'verbose': -1}\n",
      "2020-09-03 14:23:27.180 | INFO     | yspecies.selection:fit:82 - SEED: 0 | FOLD: 0 | VALIDATION_SPECIES: ['Gorilla_gorilla', 'Pan_paniscus']\n"
     ]
    },
    {
     "name": "stdout",
     "output_type": "stream",
     "text": [
      "[LightGBM] [Warning] verbosity is set=-1, verbose=-1 will be ignored. Current value: verbosity=-1\n",
      "Training until validation scores don't improve for 10 rounds\n",
      "[250]\tvalid_0's l1: 8.38561\tvalid_0's huber: 7.18363\tvalid_0's l2: 195.496\n",
      "Did not meet early stopping. Best iteration is:\n",
      "[250]\tvalid_0's l1: 8.38561\tvalid_0's huber: 7.18363\tvalid_0's l2: 195.496\n"
     ]
    },
    {
     "name": "stderr",
     "output_type": "stream",
     "text": [
      "2020-09-03 14:23:27.429 | INFO     | yspecies.selection:fit:82 - SEED: 0 | FOLD: 1 | VALIDATION_SPECIES: ['Heterocephalus_glaber', 'Capra_hircus']\n"
     ]
    },
    {
     "name": "stdout",
     "output_type": "stream",
     "text": [
      "Training until validation scores don't improve for 10 rounds\n",
      "[250]\tvalid_0's l1: 3.95578\tvalid_0's huber: 3.21527\tvalid_0's l2: 56.7235\n",
      "Did not meet early stopping. Best iteration is:\n",
      "[250]\tvalid_0's l1: 3.95578\tvalid_0's huber: 3.21527\tvalid_0's l2: 56.7235\n"
     ]
    },
    {
     "name": "stderr",
     "output_type": "stream",
     "text": [
      "2020-09-03 14:23:27.658 | INFO     | yspecies.selection:fit:82 - SEED: 0 | FOLD: 2 | VALIDATION_SPECIES: ['Bos_taurus', 'Otolemur_garnettii']\n"
     ]
    },
    {
     "name": "stdout",
     "output_type": "stream",
     "text": [
      "Training until validation scores don't improve for 10 rounds\n",
      "[250]\tvalid_0's l1: 3.07727\tvalid_0's huber: 2.4698\tvalid_0's l2: 35.9195\n",
      "Did not meet early stopping. Best iteration is:\n",
      "[250]\tvalid_0's l1: 3.07727\tvalid_0's huber: 2.4698\tvalid_0's l2: 35.9195\n"
     ]
    },
    {
     "name": "stderr",
     "output_type": "stream",
     "text": [
      "2020-09-03 14:23:27.918 | INFO     | yspecies.selection:fit:82 - SEED: 0 | FOLD: 3 | VALIDATION_SPECIES: ['Macaca_nemestrina', 'Microcebus_murinus']\n"
     ]
    },
    {
     "name": "stdout",
     "output_type": "stream",
     "text": [
      "Training until validation scores don't improve for 10 rounds\n",
      "[250]\tvalid_0's l1: 3.19651\tvalid_0's huber: 2.558\tvalid_0's l2: 53.3588\n",
      "Did not meet early stopping. Best iteration is:\n",
      "[250]\tvalid_0's l1: 3.19651\tvalid_0's huber: 2.558\tvalid_0's l2: 53.3588\n"
     ]
    },
    {
     "name": "stderr",
     "output_type": "stream",
     "text": [
      "2020-09-03 14:23:40.000 | INFO     | yspecies.selection:transform:226 - Metrics: \n",
      "Metrics(R2=0.8886705611312824, MAE=4.653794511574146, MSE=85.37439977363182, huber=3.8566757274219903)\n"
     ]
    },
    {
     "name": "stdout",
     "output_type": "stream",
     "text": [
      "1\n"
     ]
    },
    {
     "name": "stderr",
     "output_type": "stream",
     "text": [
      "2020-09-03 14:23:40.011 | INFO     | yspecies.selection:fit:78 - ===== fitting models with seed 1 =====\n",
      "2020-09-03 14:23:40.013 | INFO     | yspecies.selection:fit:79 - PARAMETERS:\n",
      "{'objective': 'regression', 'metric': {'mae', 'huber', 'mse'}, 'verbosity': -1, 'boosting_type': 'gbdt', 'lambda_l1': 2.7975824689043707, 'lambda_l2': 2.190349910178116, 'max_leaves': 18, 'max_depth': 3, 'feature_fraction': 0.5191833333608565, 'bagging_fraction': 0.6212877919288045, 'learning_rate': 0.022559688029803765, 'min_data_in_leaf': 8, 'drop_rate': 0.27117231134759434, 'verbose': -1, 'seed': 0}\n",
      "2020-09-03 14:23:40.018 | INFO     | yspecies.selection:fit:82 - SEED: 1 | FOLD: 0 | VALIDATION_SPECIES: ['Felis_catus', 'Ursus_americanus']\n"
     ]
    },
    {
     "name": "stdout",
     "output_type": "stream",
     "text": [
      "[LightGBM] [Warning] verbosity is set=-1, verbose=-1 will be ignored. Current value: verbosity=-1\n",
      "Training until validation scores don't improve for 10 rounds\n",
      "[250]\tvalid_0's l1: 3.58689\tvalid_0's huber: 2.86695\tvalid_0's l2: 29.5877\n",
      "Did not meet early stopping. Best iteration is:\n",
      "[250]\tvalid_0's l1: 3.58689\tvalid_0's huber: 2.86695\tvalid_0's l2: 29.5877\n"
     ]
    },
    {
     "name": "stderr",
     "output_type": "stream",
     "text": [
      "2020-09-03 14:23:40.256 | INFO     | yspecies.selection:fit:82 - SEED: 1 | FOLD: 1 | VALIDATION_SPECIES: ['Heterocephalus_glaber', 'Vombatus_ursinus']\n"
     ]
    },
    {
     "name": "stdout",
     "output_type": "stream",
     "text": [
      "Training until validation scores don't improve for 10 rounds\n",
      "[250]\tvalid_0's l1: 4.19271\tvalid_0's huber: 3.43103\tvalid_0's l2: 59.1639\n",
      "Did not meet early stopping. Best iteration is:\n",
      "[250]\tvalid_0's l1: 4.19271\tvalid_0's huber: 3.43103\tvalid_0's l2: 59.1639\n"
     ]
    },
    {
     "name": "stderr",
     "output_type": "stream",
     "text": [
      "2020-09-03 14:23:40.483 | INFO     | yspecies.selection:fit:82 - SEED: 1 | FOLD: 2 | VALIDATION_SPECIES: ['Macaca_fascicularis', 'Rhinopithecus_bieti']\n"
     ]
    },
    {
     "name": "stdout",
     "output_type": "stream",
     "text": [
      "Training until validation scores don't improve for 10 rounds\n",
      "[250]\tvalid_0's l1: 2.69011\tvalid_0's huber: 2.08794\tvalid_0's l2: 27.6976\n",
      "Did not meet early stopping. Best iteration is:\n",
      "[250]\tvalid_0's l1: 2.69011\tvalid_0's huber: 2.08794\tvalid_0's l2: 27.6976\n"
     ]
    },
    {
     "name": "stderr",
     "output_type": "stream",
     "text": [
      "2020-09-03 14:23:40.728 | INFO     | yspecies.selection:fit:82 - SEED: 1 | FOLD: 3 | VALIDATION_SPECIES: ['Gorilla_gorilla', 'Ovis_aries']\n"
     ]
    },
    {
     "name": "stdout",
     "output_type": "stream",
     "text": [
      "Training until validation scores don't improve for 10 rounds\n",
      "[250]\tvalid_0's l1: 6.10009\tvalid_0's huber: 5.15378\tvalid_0's l2: 145.33\n",
      "Did not meet early stopping. Best iteration is:\n",
      "[250]\tvalid_0's l1: 6.10009\tvalid_0's huber: 5.15378\tvalid_0's l2: 145.33\n"
     ]
    },
    {
     "name": "stderr",
     "output_type": "stream",
     "text": [
      "2020-09-03 14:23:52.229 | INFO     | yspecies.selection:transform:226 - Metrics: \n",
      "Metrics(R2=0.9064501632743909, MAE=4.142447648670853, MSE=65.44476936214983, huber=3.384923397037476)\n"
     ]
    },
    {
     "name": "stdout",
     "output_type": "stream",
     "text": [
      "2\n"
     ]
    },
    {
     "name": "stderr",
     "output_type": "stream",
     "text": [
      "2020-09-03 14:23:52.240 | INFO     | yspecies.selection:fit:78 - ===== fitting models with seed 2 =====\n",
      "2020-09-03 14:23:52.242 | INFO     | yspecies.selection:fit:79 - PARAMETERS:\n",
      "{'objective': 'regression', 'metric': {'mae', 'huber', 'mse'}, 'verbosity': -1, 'boosting_type': 'gbdt', 'lambda_l1': 2.7975824689043707, 'lambda_l2': 2.190349910178116, 'max_leaves': 18, 'max_depth': 3, 'feature_fraction': 0.5191833333608565, 'bagging_fraction': 0.6212877919288045, 'learning_rate': 0.022559688029803765, 'min_data_in_leaf': 8, 'drop_rate': 0.27117231134759434, 'verbose': -1, 'seed': 1}\n",
      "2020-09-03 14:23:52.247 | INFO     | yspecies.selection:fit:82 - SEED: 2 | FOLD: 0 | VALIDATION_SPECIES: ['Rhinopithecus_bieti', 'Ursus_americanus']\n"
     ]
    },
    {
     "name": "stdout",
     "output_type": "stream",
     "text": [
      "[LightGBM] [Warning] verbosity is set=-1, verbose=-1 will be ignored. Current value: verbosity=-1\n",
      "Training until validation scores don't improve for 10 rounds\n",
      "[250]\tvalid_0's l1: 2.90853\tvalid_0's huber: 2.26606\tvalid_0's l2: 18.8203\n",
      "Did not meet early stopping. Best iteration is:\n",
      "[250]\tvalid_0's l1: 2.90853\tvalid_0's huber: 2.26606\tvalid_0's l2: 18.8203\n"
     ]
    },
    {
     "name": "stderr",
     "output_type": "stream",
     "text": [
      "2020-09-03 14:23:52.567 | INFO     | yspecies.selection:fit:82 - SEED: 2 | FOLD: 1 | VALIDATION_SPECIES: ['Aotus_nancymaae', 'Phascolarctos_cinereus']\n"
     ]
    },
    {
     "name": "stdout",
     "output_type": "stream",
     "text": [
      "Training until validation scores don't improve for 10 rounds\n",
      "[250]\tvalid_0's l1: 4.60214\tvalid_0's huber: 3.77157\tvalid_0's l2: 49.7333\n",
      "Did not meet early stopping. Best iteration is:\n",
      "[250]\tvalid_0's l1: 4.60214\tvalid_0's huber: 3.77157\tvalid_0's l2: 49.7333\n"
     ]
    },
    {
     "name": "stderr",
     "output_type": "stream",
     "text": [
      "2020-09-03 14:23:52.761 | INFO     | yspecies.selection:fit:82 - SEED: 2 | FOLD: 2 | VALIDATION_SPECIES: ['Vombatus_ursinus', 'Ailuropoda_melanoleuca']\n"
     ]
    },
    {
     "name": "stdout",
     "output_type": "stream",
     "text": [
      "Training until validation scores don't improve for 10 rounds\n",
      "[250]\tvalid_0's l1: 2.9513\tvalid_0's huber: 2.31693\tvalid_0's l2: 22.748\n",
      "Did not meet early stopping. Best iteration is:\n",
      "[250]\tvalid_0's l1: 2.9513\tvalid_0's huber: 2.31693\tvalid_0's l2: 22.748\n"
     ]
    },
    {
     "name": "stderr",
     "output_type": "stream",
     "text": [
      "2020-09-03 14:23:52.963 | INFO     | yspecies.selection:fit:82 - SEED: 2 | FOLD: 3 | VALIDATION_SPECIES: ['Rattus_norvegicus', 'Monodelphis_domestica']\n"
     ]
    },
    {
     "name": "stdout",
     "output_type": "stream",
     "text": [
      "Training until validation scores don't improve for 10 rounds\n",
      "[250]\tvalid_0's l1: 6.41056\tvalid_0's huber: 5.38165\tvalid_0's l2: 81.4253\n",
      "Did not meet early stopping. Best iteration is:\n",
      "[250]\tvalid_0's l1: 6.41056\tvalid_0's huber: 5.38165\tvalid_0's l2: 81.4253\n"
     ]
    },
    {
     "name": "stderr",
     "output_type": "stream",
     "text": [
      "2020-09-03 14:24:04.594 | INFO     | yspecies.selection:transform:226 - Metrics: \n",
      "Metrics(R2=0.9263641770716282, MAE=4.218132606975615, MSE=43.181760801848625, huber=3.434053436005893)\n"
     ]
    },
    {
     "name": "stdout",
     "output_type": "stream",
     "text": [
      "3\n"
     ]
    },
    {
     "name": "stderr",
     "output_type": "stream",
     "text": [
      "2020-09-03 14:24:04.605 | INFO     | yspecies.selection:fit:78 - ===== fitting models with seed 3 =====\n",
      "2020-09-03 14:24:04.607 | INFO     | yspecies.selection:fit:79 - PARAMETERS:\n",
      "{'objective': 'regression', 'metric': {'mae', 'huber', 'mse'}, 'verbosity': -1, 'boosting_type': 'gbdt', 'lambda_l1': 2.7975824689043707, 'lambda_l2': 2.190349910178116, 'max_leaves': 18, 'max_depth': 3, 'feature_fraction': 0.5191833333608565, 'bagging_fraction': 0.6212877919288045, 'learning_rate': 0.022559688029803765, 'min_data_in_leaf': 8, 'drop_rate': 0.27117231134759434, 'verbose': -1, 'seed': 2}\n",
      "2020-09-03 14:24:04.611 | INFO     | yspecies.selection:fit:82 - SEED: 3 | FOLD: 0 | VALIDATION_SPECIES: ['Microcebus_murinus', 'Pan_paniscus']\n"
     ]
    },
    {
     "name": "stdout",
     "output_type": "stream",
     "text": [
      "[LightGBM] [Warning] verbosity is set=-1, verbose=-1 will be ignored. Current value: verbosity=-1\n",
      "Training until validation scores don't improve for 10 rounds\n",
      "Early stopping, best iteration is:\n",
      "[198]\tvalid_0's l1: 3.74952\tvalid_0's huber: 3.00732\tvalid_0's l2: 32.1499\n"
     ]
    },
    {
     "name": "stderr",
     "output_type": "stream",
     "text": [
      "2020-09-03 14:24:04.797 | INFO     | yspecies.selection:fit:82 - SEED: 3 | FOLD: 1 | VALIDATION_SPECIES: ['Ursus_americanus', 'Gorilla_gorilla']\n"
     ]
    },
    {
     "name": "stdout",
     "output_type": "stream",
     "text": [
      "Training until validation scores don't improve for 10 rounds\n",
      "[250]\tvalid_0's l1: 6.84081\tvalid_0's huber: 5.78107\tvalid_0's l2: 126.095\n",
      "Did not meet early stopping. Best iteration is:\n",
      "[250]\tvalid_0's l1: 6.84081\tvalid_0's huber: 5.78107\tvalid_0's l2: 126.095\n"
     ]
    },
    {
     "name": "stderr",
     "output_type": "stream",
     "text": [
      "2020-09-03 14:24:05.020 | INFO     | yspecies.selection:fit:82 - SEED: 3 | FOLD: 2 | VALIDATION_SPECIES: ['Bos_taurus', 'Capra_hircus']\n"
     ]
    },
    {
     "name": "stdout",
     "output_type": "stream",
     "text": [
      "Training until validation scores don't improve for 10 rounds\n",
      "[250]\tvalid_0's l1: 3.45484\tvalid_0's huber: 2.75707\tvalid_0's l2: 36.1493\n",
      "Did not meet early stopping. Best iteration is:\n",
      "[250]\tvalid_0's l1: 3.45484\tvalid_0's huber: 2.75707\tvalid_0's l2: 36.1493\n"
     ]
    },
    {
     "name": "stderr",
     "output_type": "stream",
     "text": [
      "2020-09-03 14:24:05.253 | INFO     | yspecies.selection:fit:82 - SEED: 3 | FOLD: 3 | VALIDATION_SPECIES: ['Rhinolophus_ferrumequinum', 'Mus_musculus']\n"
     ]
    },
    {
     "name": "stdout",
     "output_type": "stream",
     "text": [
      "Training until validation scores don't improve for 10 rounds\n",
      "[250]\tvalid_0's l1: 2.66932\tvalid_0's huber: 2.05346\tvalid_0's l2: 34.1192\n",
      "Did not meet early stopping. Best iteration is:\n",
      "[250]\tvalid_0's l1: 2.66932\tvalid_0's huber: 2.05346\tvalid_0's l2: 34.1192\n"
     ]
    },
    {
     "name": "stderr",
     "output_type": "stream",
     "text": [
      "2020-09-03 14:24:16.953 | INFO     | yspecies.selection:transform:226 - Metrics: \n",
      "Metrics(R2=0.9236463016010918, MAE=4.178624019443778, MSE=57.12842034402256, huber=3.397233315421469)\n"
     ]
    },
    {
     "name": "stdout",
     "output_type": "stream",
     "text": [
      "4\n"
     ]
    },
    {
     "name": "stderr",
     "output_type": "stream",
     "text": [
      "2020-09-03 14:24:16.965 | INFO     | yspecies.selection:fit:78 - ===== fitting models with seed 4 =====\n",
      "2020-09-03 14:24:16.967 | INFO     | yspecies.selection:fit:79 - PARAMETERS:\n",
      "{'objective': 'regression', 'metric': {'mae', 'huber', 'mse'}, 'verbosity': -1, 'boosting_type': 'gbdt', 'lambda_l1': 2.7975824689043707, 'lambda_l2': 2.190349910178116, 'max_leaves': 18, 'max_depth': 3, 'feature_fraction': 0.5191833333608565, 'bagging_fraction': 0.6212877919288045, 'learning_rate': 0.022559688029803765, 'min_data_in_leaf': 8, 'drop_rate': 0.27117231134759434, 'verbose': -1, 'seed': 3}\n",
      "2020-09-03 14:24:16.972 | INFO     | yspecies.selection:fit:82 - SEED: 4 | FOLD: 0 | VALIDATION_SPECIES: ['Macaca_fascicularis', 'Pan_troglodytes']\n"
     ]
    },
    {
     "name": "stdout",
     "output_type": "stream",
     "text": [
      "[LightGBM] [Warning] verbosity is set=-1, verbose=-1 will be ignored. Current value: verbosity=-1\n",
      "Training until validation scores don't improve for 10 rounds\n",
      "[250]\tvalid_0's l1: 3.2595\tvalid_0's huber: 2.583\tvalid_0's l2: 33.9726\n",
      "Did not meet early stopping. Best iteration is:\n",
      "[250]\tvalid_0's l1: 3.2595\tvalid_0's huber: 2.583\tvalid_0's l2: 33.9726\n"
     ]
    },
    {
     "name": "stderr",
     "output_type": "stream",
     "text": [
      "2020-09-03 14:24:17.177 | INFO     | yspecies.selection:fit:82 - SEED: 4 | FOLD: 1 | VALIDATION_SPECIES: ['Otolemur_garnettii', 'Ursus_americanus']\n"
     ]
    },
    {
     "name": "stdout",
     "output_type": "stream",
     "text": [
      "Training until validation scores don't improve for 10 rounds\n",
      "[250]\tvalid_0's l1: 3.69271\tvalid_0's huber: 2.99111\tvalid_0's l2: 56.0845\n",
      "Did not meet early stopping. Best iteration is:\n",
      "[250]\tvalid_0's l1: 3.69271\tvalid_0's huber: 2.99111\tvalid_0's l2: 56.0845\n"
     ]
    },
    {
     "name": "stderr",
     "output_type": "stream",
     "text": [
      "2020-09-03 14:24:17.386 | INFO     | yspecies.selection:fit:82 - SEED: 4 | FOLD: 2 | VALIDATION_SPECIES: ['Heterocephalus_glaber', 'Cavia_aperea']\n"
     ]
    },
    {
     "name": "stdout",
     "output_type": "stream",
     "text": [
      "Training until validation scores don't improve for 10 rounds\n",
      "[250]\tvalid_0's l1: 3.58498\tvalid_0's huber: 2.90031\tvalid_0's l2: 30.0319\n",
      "Did not meet early stopping. Best iteration is:\n",
      "[250]\tvalid_0's l1: 3.58498\tvalid_0's huber: 2.90031\tvalid_0's l2: 30.0319\n"
     ]
    },
    {
     "name": "stderr",
     "output_type": "stream",
     "text": [
      "2020-09-03 14:24:17.613 | INFO     | yspecies.selection:fit:82 - SEED: 4 | FOLD: 3 | VALIDATION_SPECIES: ['Pan_paniscus', 'Gorilla_gorilla']\n"
     ]
    },
    {
     "name": "stdout",
     "output_type": "stream",
     "text": [
      "Training until validation scores don't improve for 10 rounds\n",
      "[250]\tvalid_0's l1: 7.0429\tvalid_0's huber: 5.98217\tvalid_0's l2: 152.498\n",
      "Did not meet early stopping. Best iteration is:\n",
      "[250]\tvalid_0's l1: 7.0429\tvalid_0's huber: 5.98217\tvalid_0's l2: 152.498\n"
     ]
    },
    {
     "name": "stderr",
     "output_type": "stream",
     "text": [
      "2020-09-03 14:24:31.029 | INFO     | yspecies.selection:transform:226 - Metrics: \n",
      "Metrics(R2=0.9081382307249863, MAE=4.3950219000426145, MSE=68.14675421260188, huber=3.6141464789667594)\n"
     ]
    },
    {
     "name": "stdout",
     "output_type": "stream",
     "text": [
      "5\n"
     ]
    },
    {
     "name": "stderr",
     "output_type": "stream",
     "text": [
      "2020-09-03 14:24:31.041 | INFO     | yspecies.selection:fit:78 - ===== fitting models with seed 5 =====\n",
      "2020-09-03 14:24:31.044 | INFO     | yspecies.selection:fit:79 - PARAMETERS:\n",
      "{'objective': 'regression', 'metric': {'mae', 'huber', 'mse'}, 'verbosity': -1, 'boosting_type': 'gbdt', 'lambda_l1': 2.7975824689043707, 'lambda_l2': 2.190349910178116, 'max_leaves': 18, 'max_depth': 3, 'feature_fraction': 0.5191833333608565, 'bagging_fraction': 0.6212877919288045, 'learning_rate': 0.022559688029803765, 'min_data_in_leaf': 8, 'drop_rate': 0.27117231134759434, 'verbose': -1, 'seed': 4}\n",
      "2020-09-03 14:24:31.048 | INFO     | yspecies.selection:fit:82 - SEED: 5 | FOLD: 0 | VALIDATION_SPECIES: ['Mus_spicilegus', 'Canis_lupus_familiaris']\n"
     ]
    },
    {
     "name": "stdout",
     "output_type": "stream",
     "text": [
      "[LightGBM] [Warning] verbosity is set=-1, verbose=-1 will be ignored. Current value: verbosity=-1\n",
      "Training until validation scores don't improve for 10 rounds\n",
      "[250]\tvalid_0's l1: 2.85998\tvalid_0's huber: 2.2173\tvalid_0's l2: 22.2009\n",
      "Did not meet early stopping. Best iteration is:\n",
      "[250]\tvalid_0's l1: 2.85998\tvalid_0's huber: 2.2173\tvalid_0's l2: 22.2009\n"
     ]
    },
    {
     "name": "stderr",
     "output_type": "stream",
     "text": [
      "2020-09-03 14:24:31.309 | INFO     | yspecies.selection:fit:82 - SEED: 5 | FOLD: 1 | VALIDATION_SPECIES: ['Ovis_aries', 'Heterocephalus_glaber']\n"
     ]
    },
    {
     "name": "stdout",
     "output_type": "stream",
     "text": [
      "Training until validation scores don't improve for 10 rounds\n",
      "[250]\tvalid_0's l1: 4.35159\tvalid_0's huber: 3.5713\tvalid_0's l2: 97.2418\n",
      "Did not meet early stopping. Best iteration is:\n",
      "[250]\tvalid_0's l1: 4.35159\tvalid_0's huber: 3.5713\tvalid_0's l2: 97.2418\n"
     ]
    },
    {
     "name": "stderr",
     "output_type": "stream",
     "text": [
      "2020-09-03 14:24:31.530 | INFO     | yspecies.selection:fit:82 - SEED: 5 | FOLD: 2 | VALIDATION_SPECIES: ['Ursus_americanus', 'Oryctolagus_cuniculus']\n"
     ]
    },
    {
     "name": "stdout",
     "output_type": "stream",
     "text": [
      "Training until validation scores don't improve for 10 rounds\n",
      "[250]\tvalid_0's l1: 5.09472\tvalid_0's huber: 4.24073\tvalid_0's l2: 99.1528\n",
      "Did not meet early stopping. Best iteration is:\n",
      "[250]\tvalid_0's l1: 5.09472\tvalid_0's huber: 4.24073\tvalid_0's l2: 99.1528\n"
     ]
    },
    {
     "name": "stderr",
     "output_type": "stream",
     "text": [
      "2020-09-03 14:24:31.753 | INFO     | yspecies.selection:fit:82 - SEED: 5 | FOLD: 3 | VALIDATION_SPECIES: ['Cavia_aperea', 'Ailuropoda_melanoleuca']\n"
     ]
    },
    {
     "name": "stdout",
     "output_type": "stream",
     "text": [
      "Training until validation scores don't improve for 10 rounds\n",
      "[250]\tvalid_0's l1: 4.12157\tvalid_0's huber: 3.38306\tvalid_0's l2: 60.8019\n",
      "Did not meet early stopping. Best iteration is:\n",
      "[250]\tvalid_0's l1: 4.12157\tvalid_0's huber: 3.38306\tvalid_0's l2: 60.8019\n"
     ]
    },
    {
     "name": "stderr",
     "output_type": "stream",
     "text": [
      "2020-09-03 14:24:43.151 | INFO     | yspecies.selection:transform:226 - Metrics: \n",
      "Metrics(R2=0.904318235288377, MAE=4.1069650060489, MSE=69.84935663152922, huber=3.3531009702355723)\n"
     ]
    },
    {
     "name": "stdout",
     "output_type": "stream",
     "text": [
      "6\n"
     ]
    },
    {
     "name": "stderr",
     "output_type": "stream",
     "text": [
      "2020-09-03 14:24:43.161 | INFO     | yspecies.selection:fit:78 - ===== fitting models with seed 6 =====\n",
      "2020-09-03 14:24:43.162 | INFO     | yspecies.selection:fit:79 - PARAMETERS:\n",
      "{'objective': 'regression', 'metric': {'mae', 'huber', 'mse'}, 'verbosity': -1, 'boosting_type': 'gbdt', 'lambda_l1': 2.7975824689043707, 'lambda_l2': 2.190349910178116, 'max_leaves': 18, 'max_depth': 3, 'feature_fraction': 0.5191833333608565, 'bagging_fraction': 0.6212877919288045, 'learning_rate': 0.022559688029803765, 'min_data_in_leaf': 8, 'drop_rate': 0.27117231134759434, 'verbose': -1, 'seed': 5}\n",
      "2020-09-03 14:24:43.166 | INFO     | yspecies.selection:fit:82 - SEED: 6 | FOLD: 0 | VALIDATION_SPECIES: ['Rhinolophus_ferrumequinum', 'Heterocephalus_glaber']\n"
     ]
    },
    {
     "name": "stdout",
     "output_type": "stream",
     "text": [
      "[LightGBM] [Warning] verbosity is set=-1, verbose=-1 will be ignored. Current value: verbosity=-1\n",
      "Training until validation scores don't improve for 10 rounds\n",
      "[250]\tvalid_0's l1: 3.4314\tvalid_0's huber: 2.74835\tvalid_0's l2: 32.0664\n",
      "Did not meet early stopping. Best iteration is:\n",
      "[250]\tvalid_0's l1: 3.4314\tvalid_0's huber: 2.74835\tvalid_0's l2: 32.0664\n"
     ]
    },
    {
     "name": "stderr",
     "output_type": "stream",
     "text": [
      "2020-09-03 14:24:43.872 | INFO     | yspecies.selection:fit:82 - SEED: 6 | FOLD: 1 | VALIDATION_SPECIES: ['Mus_spicilegus', 'Suricata_suricatta']\n"
     ]
    },
    {
     "name": "stdout",
     "output_type": "stream",
     "text": [
      "Training until validation scores don't improve for 10 rounds\n",
      "[250]\tvalid_0's l1: 3.73862\tvalid_0's huber: 3.02942\tvalid_0's l2: 45.1712\n",
      "Did not meet early stopping. Best iteration is:\n",
      "[249]\tvalid_0's l1: 3.73836\tvalid_0's huber: 3.02975\tvalid_0's l2: 45.1938\n"
     ]
    },
    {
     "name": "stderr",
     "output_type": "stream",
     "text": [
      "2020-09-03 14:24:44.070 | INFO     | yspecies.selection:fit:82 - SEED: 6 | FOLD: 2 | VALIDATION_SPECIES: ['Rhinopithecus_bieti', 'Ovis_aries']\n"
     ]
    },
    {
     "name": "stdout",
     "output_type": "stream",
     "text": [
      "Training until validation scores don't improve for 10 rounds\n",
      "[250]\tvalid_0's l1: 2.58544\tvalid_0's huber: 1.99951\tvalid_0's l2: 20.1868\n",
      "Did not meet early stopping. Best iteration is:\n",
      "[250]\tvalid_0's l1: 2.58544\tvalid_0's huber: 1.99951\tvalid_0's l2: 20.1868\n"
     ]
    },
    {
     "name": "stderr",
     "output_type": "stream",
     "text": [
      "2020-09-03 14:24:44.280 | INFO     | yspecies.selection:fit:82 - SEED: 6 | FOLD: 3 | VALIDATION_SPECIES: ['Cavia_porcellus', 'Pan_troglodytes']\n"
     ]
    },
    {
     "name": "stdout",
     "output_type": "stream",
     "text": [
      "Training until validation scores don't improve for 10 rounds\n",
      "[250]\tvalid_0's l1: 3.71949\tvalid_0's huber: 2.99818\tvalid_0's l2: 49.7043\n",
      "Did not meet early stopping. Best iteration is:\n",
      "[250]\tvalid_0's l1: 3.71949\tvalid_0's huber: 2.99818\tvalid_0's l2: 49.7043\n"
     ]
    },
    {
     "name": "stderr",
     "output_type": "stream",
     "text": [
      "2020-09-03 14:24:55.950 | INFO     | yspecies.selection:transform:226 - Metrics: \n",
      "Metrics(R2=0.9487580908157389, MAE=3.3686735802886614, MSE=36.78782646439752, huber=2.6938654999449207)\n"
     ]
    },
    {
     "name": "stdout",
     "output_type": "stream",
     "text": [
      "7\n"
     ]
    },
    {
     "name": "stderr",
     "output_type": "stream",
     "text": [
      "2020-09-03 14:24:55.957 | INFO     | yspecies.selection:fit:78 - ===== fitting models with seed 7 =====\n",
      "2020-09-03 14:24:55.959 | INFO     | yspecies.selection:fit:79 - PARAMETERS:\n",
      "{'objective': 'regression', 'metric': {'mae', 'huber', 'mse'}, 'verbosity': -1, 'boosting_type': 'gbdt', 'lambda_l1': 2.7975824689043707, 'lambda_l2': 2.190349910178116, 'max_leaves': 18, 'max_depth': 3, 'feature_fraction': 0.5191833333608565, 'bagging_fraction': 0.6212877919288045, 'learning_rate': 0.022559688029803765, 'min_data_in_leaf': 8, 'drop_rate': 0.27117231134759434, 'verbose': -1, 'seed': 6}\n",
      "2020-09-03 14:24:55.962 | INFO     | yspecies.selection:fit:82 - SEED: 7 | FOLD: 0 | VALIDATION_SPECIES: ['Macaca_mulatta', 'Cavia_porcellus']\n"
     ]
    },
    {
     "name": "stdout",
     "output_type": "stream",
     "text": [
      "[LightGBM] [Warning] verbosity is set=-1, verbose=-1 will be ignored. Current value: verbosity=-1\n",
      "Training until validation scores don't improve for 10 rounds\n",
      "[250]\tvalid_0's l1: 3.50989\tvalid_0's huber: 2.79797\tvalid_0's l2: 28.6559\n",
      "Did not meet early stopping. Best iteration is:\n",
      "[250]\tvalid_0's l1: 3.50989\tvalid_0's huber: 2.79797\tvalid_0's l2: 28.6559\n"
     ]
    },
    {
     "name": "stderr",
     "output_type": "stream",
     "text": [
      "2020-09-03 14:24:56.185 | INFO     | yspecies.selection:fit:82 - SEED: 7 | FOLD: 1 | VALIDATION_SPECIES: ['Pan_paniscus', 'Capra_hircus']\n"
     ]
    },
    {
     "name": "stdout",
     "output_type": "stream",
     "text": [
      "Training until validation scores don't improve for 10 rounds\n",
      "[250]\tvalid_0's l1: 3.46225\tvalid_0's huber: 2.77473\tvalid_0's l2: 40.7566\n",
      "Did not meet early stopping. Best iteration is:\n",
      "[250]\tvalid_0's l1: 3.46225\tvalid_0's huber: 2.77473\tvalid_0's l2: 40.7566\n"
     ]
    },
    {
     "name": "stderr",
     "output_type": "stream",
     "text": [
      "2020-09-03 14:24:56.368 | INFO     | yspecies.selection:fit:82 - SEED: 7 | FOLD: 2 | VALIDATION_SPECIES: ['Otolemur_garnettii', 'Ictidomys_tridecemlineatus']\n"
     ]
    },
    {
     "name": "stdout",
     "output_type": "stream",
     "text": [
      "Training until validation scores don't improve for 10 rounds\n",
      "[250]\tvalid_0's l1: 3.93722\tvalid_0's huber: 3.20796\tvalid_0's l2: 39.4725\n",
      "Did not meet early stopping. Best iteration is:\n",
      "[250]\tvalid_0's l1: 3.93722\tvalid_0's huber: 3.20796\tvalid_0's l2: 39.4725\n"
     ]
    },
    {
     "name": "stderr",
     "output_type": "stream",
     "text": [
      "2020-09-03 14:24:56.603 | INFO     | yspecies.selection:fit:82 - SEED: 7 | FOLD: 3 | VALIDATION_SPECIES: ['Canis_lupus_familiaris', 'Ursus_americanus']\n"
     ]
    },
    {
     "name": "stdout",
     "output_type": "stream",
     "text": [
      "Training until validation scores don't improve for 10 rounds\n",
      "[250]\tvalid_0's l1: 3.48044\tvalid_0's huber: 2.81587\tvalid_0's l2: 43.3966\n",
      "Did not meet early stopping. Best iteration is:\n",
      "[250]\tvalid_0's l1: 3.48044\tvalid_0's huber: 2.81587\tvalid_0's l2: 43.3966\n"
     ]
    },
    {
     "name": "stderr",
     "output_type": "stream",
     "text": [
      "2020-09-03 14:25:07.743 | INFO     | yspecies.selection:transform:226 - Metrics: \n",
      "Metrics(R2=0.9470007960971851, MAE=3.5974505115365374, MSE=38.07039362633093, huber=2.8991319473905883)\n"
     ]
    },
    {
     "name": "stdout",
     "output_type": "stream",
     "text": [
      "8\n"
     ]
    },
    {
     "name": "stderr",
     "output_type": "stream",
     "text": [
      "2020-09-03 14:25:07.751 | INFO     | yspecies.selection:fit:78 - ===== fitting models with seed 8 =====\n",
      "2020-09-03 14:25:07.753 | INFO     | yspecies.selection:fit:79 - PARAMETERS:\n",
      "{'objective': 'regression', 'metric': {'mae', 'huber', 'mse'}, 'verbosity': -1, 'boosting_type': 'gbdt', 'lambda_l1': 2.7975824689043707, 'lambda_l2': 2.190349910178116, 'max_leaves': 18, 'max_depth': 3, 'feature_fraction': 0.5191833333608565, 'bagging_fraction': 0.6212877919288045, 'learning_rate': 0.022559688029803765, 'min_data_in_leaf': 8, 'drop_rate': 0.27117231134759434, 'verbose': -1, 'seed': 7}\n",
      "2020-09-03 14:25:07.758 | INFO     | yspecies.selection:fit:82 - SEED: 8 | FOLD: 0 | VALIDATION_SPECIES: ['Pan_paniscus', 'Suricata_suricatta']\n"
     ]
    },
    {
     "name": "stdout",
     "output_type": "stream",
     "text": [
      "[LightGBM] [Warning] verbosity is set=-1, verbose=-1 will be ignored. Current value: verbosity=-1\n",
      "Training until validation scores don't improve for 10 rounds\n",
      "Early stopping, best iteration is:\n",
      "[231]\tvalid_0's l1: 3.04452\tvalid_0's huber: 2.38892\tvalid_0's l2: 26.4906\n"
     ]
    },
    {
     "name": "stderr",
     "output_type": "stream",
     "text": [
      "2020-09-03 14:25:07.954 | INFO     | yspecies.selection:fit:82 - SEED: 8 | FOLD: 1 | VALIDATION_SPECIES: ['Macaca_fascicularis', 'Tupaia_belangeri']\n"
     ]
    },
    {
     "name": "stdout",
     "output_type": "stream",
     "text": [
      "Training until validation scores don't improve for 10 rounds\n",
      "[250]\tvalid_0's l1: 3.2148\tvalid_0's huber: 2.55123\tvalid_0's l2: 32.9235\n",
      "Did not meet early stopping. Best iteration is:\n",
      "[250]\tvalid_0's l1: 3.2148\tvalid_0's huber: 2.55123\tvalid_0's l2: 32.9235\n"
     ]
    },
    {
     "name": "stderr",
     "output_type": "stream",
     "text": [
      "2020-09-03 14:25:08.144 | INFO     | yspecies.selection:fit:82 - SEED: 8 | FOLD: 2 | VALIDATION_SPECIES: ['Ursus_americanus', 'Capra_hircus']\n"
     ]
    },
    {
     "name": "stdout",
     "output_type": "stream",
     "text": [
      "Training until validation scores don't improve for 10 rounds\n",
      "[250]\tvalid_0's l1: 3.17627\tvalid_0's huber: 2.52165\tvalid_0's l2: 34.7669\n",
      "Did not meet early stopping. Best iteration is:\n",
      "[250]\tvalid_0's l1: 3.17627\tvalid_0's huber: 2.52165\tvalid_0's l2: 34.7669\n"
     ]
    },
    {
     "name": "stderr",
     "output_type": "stream",
     "text": [
      "2020-09-03 14:25:08.425 | INFO     | yspecies.selection:fit:82 - SEED: 8 | FOLD: 3 | VALIDATION_SPECIES: ['Bos_taurus', 'Rhinolophus_ferrumequinum']\n"
     ]
    },
    {
     "name": "stdout",
     "output_type": "stream",
     "text": [
      "Training until validation scores don't improve for 10 rounds\n",
      "[250]\tvalid_0's l1: 3.11099\tvalid_0's huber: 2.46561\tvalid_0's l2: 43.0962\n",
      "Did not meet early stopping. Best iteration is:\n",
      "[250]\tvalid_0's l1: 3.11099\tvalid_0's huber: 2.46561\tvalid_0's l2: 43.0962\n"
     ]
    },
    {
     "name": "stderr",
     "output_type": "stream",
     "text": [
      "2020-09-03 14:25:20.390 | INFO     | yspecies.selection:transform:226 - Metrics: \n",
      "Metrics(R2=0.9517484865697895, MAE=3.1366441519009864, MSE=34.31928634022891, huber=2.481946060578797)\n"
     ]
    },
    {
     "name": "stdout",
     "output_type": "stream",
     "text": [
      "9\n"
     ]
    },
    {
     "name": "stderr",
     "output_type": "stream",
     "text": [
      "2020-09-03 14:25:20.401 | INFO     | yspecies.selection:fit:78 - ===== fitting models with seed 9 =====\n",
      "2020-09-03 14:25:20.402 | INFO     | yspecies.selection:fit:79 - PARAMETERS:\n",
      "{'objective': 'regression', 'metric': {'mae', 'huber', 'mse'}, 'verbosity': -1, 'boosting_type': 'gbdt', 'lambda_l1': 2.7975824689043707, 'lambda_l2': 2.190349910178116, 'max_leaves': 18, 'max_depth': 3, 'feature_fraction': 0.5191833333608565, 'bagging_fraction': 0.6212877919288045, 'learning_rate': 0.022559688029803765, 'min_data_in_leaf': 8, 'drop_rate': 0.27117231134759434, 'verbose': -1, 'seed': 8}\n",
      "2020-09-03 14:25:20.406 | INFO     | yspecies.selection:fit:82 - SEED: 9 | FOLD: 0 | VALIDATION_SPECIES: ['Ictidomys_tridecemlineatus', 'Aotus_nancymaae']\n"
     ]
    },
    {
     "name": "stdout",
     "output_type": "stream",
     "text": [
      "[LightGBM] [Warning] verbosity is set=-1, verbose=-1 will be ignored. Current value: verbosity=-1\n",
      "Training until validation scores don't improve for 10 rounds\n",
      "[250]\tvalid_0's l1: 3.50464\tvalid_0's huber: 2.817\tvalid_0's l2: 32.2695\n",
      "Did not meet early stopping. Best iteration is:\n",
      "[250]\tvalid_0's l1: 3.50464\tvalid_0's huber: 2.817\tvalid_0's l2: 32.2695\n"
     ]
    },
    {
     "name": "stderr",
     "output_type": "stream",
     "text": [
      "2020-09-03 14:25:20.672 | INFO     | yspecies.selection:fit:82 - SEED: 9 | FOLD: 1 | VALIDATION_SPECIES: ['Pan_troglodytes', 'Oryctolagus_cuniculus']\n"
     ]
    },
    {
     "name": "stdout",
     "output_type": "stream",
     "text": [
      "Training until validation scores don't improve for 10 rounds\n",
      "[250]\tvalid_0's l1: 5.17702\tvalid_0's huber: 4.30548\tvalid_0's l2: 88.3497\n",
      "Did not meet early stopping. Best iteration is:\n",
      "[250]\tvalid_0's l1: 5.17702\tvalid_0's huber: 4.30548\tvalid_0's l2: 88.3497\n"
     ]
    },
    {
     "name": "stderr",
     "output_type": "stream",
     "text": [
      "2020-09-03 14:25:20.919 | INFO     | yspecies.selection:fit:82 - SEED: 9 | FOLD: 2 | VALIDATION_SPECIES: ['Mesocricetus_auratus', 'Meriones_unguiculatus']\n"
     ]
    },
    {
     "name": "stdout",
     "output_type": "stream",
     "text": [
      "Training until validation scores don't improve for 10 rounds\n",
      "[250]\tvalid_0's l1: 4.10868\tvalid_0's huber: 3.3465\tvalid_0's l2: 49.8775\n",
      "Did not meet early stopping. Best iteration is:\n",
      "[250]\tvalid_0's l1: 4.10868\tvalid_0's huber: 3.3465\tvalid_0's l2: 49.8775\n"
     ]
    },
    {
     "name": "stderr",
     "output_type": "stream",
     "text": [
      "2020-09-03 14:25:21.165 | INFO     | yspecies.selection:fit:82 - SEED: 9 | FOLD: 3 | VALIDATION_SPECIES: ['Gorilla_gorilla', 'Microcebus_murinus']\n"
     ]
    },
    {
     "name": "stdout",
     "output_type": "stream",
     "text": [
      "Training until validation scores don't improve for 10 rounds\n",
      "[250]\tvalid_0's l1: 5.46459\tvalid_0's huber: 4.5785\tvalid_0's l2: 101.158\n",
      "Did not meet early stopping. Best iteration is:\n",
      "[250]\tvalid_0's l1: 5.46459\tvalid_0's huber: 4.5785\tvalid_0's l2: 101.158\n"
     ]
    },
    {
     "name": "stderr",
     "output_type": "stream",
     "text": [
      "2020-09-03 14:25:33.427 | INFO     | yspecies.selection:transform:226 - Metrics: \n",
      "Metrics(R2=0.9077009142976487, MAE=4.563729647580464, MSE=67.91375643180474, huber=3.761869153173871)\n",
      "MultiObjectiveTrial is experimental (supported from v1.4.0). The interface can change in the future.\n",
      "MultiObjectiveStudy is experimental (supported from v1.4.0). The interface can change in the future.\n",
      "[I 2020-09-03 14:25:34,101] Trial 490 finished with values: [0.921279595687212, 3.2876945986177333, 0.5461779241936549] with parameters: {'boosting_type': 'gbdt', 'lambda_l1': 2.7975824689043707, 'lambda_l2': 2.190349910178116, 'max_leaves': 18, 'max_depth': 3, 'feature_fraction': 0.5191833333608565, 'bagging_fraction': 0.6212877919288045, 'learning_rate': 0.022559688029803765, 'min_data_in_leaf': 8, 'drop_rate': 0.27117231134759434}.\n",
      "MultiObjectiveStudy is experimental (supported from v1.4.0). The interface can change in the future.\n",
      "FrozenMultiObjectiveTrial is experimental (supported from v1.4.0). The interface can change in the future.\n",
      "MultiObjectiveStudy is experimental (supported from v1.4.0). The interface can change in the future.\n",
      "FrozenMultiObjectiveTrial is experimental (supported from v1.4.0). The interface can change in the future.\n",
      "FrozenMultiObjectiveTrial is experimental (supported from v1.4.0). The interface can change in the future.\n",
      "MultiObjectiveTrial is experimental (supported from v1.4.0). The interface can change in the future.\n",
      "MultiObjectiveStudy is experimental (supported from v1.4.0). The interface can change in the future.\n",
      "FrozenMultiObjectiveTrial is experimental (supported from v1.4.0). The interface can change in the future.\n"
     ]
    },
    {
     "name": "stdout",
     "output_type": "stream",
     "text": [
      "0\n"
     ]
    },
    {
     "name": "stderr",
     "output_type": "stream",
     "text": [
      "2020-09-03 14:25:34.498 | INFO     | yspecies.selection:fit:78 - ===== fitting models with seed 0 =====\n",
      "2020-09-03 14:25:34.500 | INFO     | yspecies.selection:fit:79 - PARAMETERS:\n",
      "{'objective': 'regression', 'metric': {'mae', 'huber', 'mse'}, 'verbosity': -1, 'boosting_type': 'dart', 'lambda_l1': 0.3522013631745854, 'lambda_l2': 1.1340642929129396, 'max_leaves': 18, 'max_depth': 7, 'feature_fraction': 0.5191833333608565, 'bagging_fraction': 0.6212877919288045, 'learning_rate': 0.05373601286514567, 'min_data_in_leaf': 3, 'drop_rate': 0.20344458911449664, 'verbose': -1}\n",
      "2020-09-03 14:25:34.505 | INFO     | yspecies.selection:fit:82 - SEED: 0 | FOLD: 0 | VALIDATION_SPECIES: ['Gorilla_gorilla', 'Pan_paniscus']\n"
     ]
    },
    {
     "name": "stdout",
     "output_type": "stream",
     "text": [
      "[LightGBM] [Warning] verbosity is set=-1, verbose=-1 will be ignored. Current value: verbosity=-1\n"
     ]
    },
    {
     "name": "stderr",
     "output_type": "stream",
     "text": [
      "Early stopping is not available in dart mode\n"
     ]
    },
    {
     "name": "stdout",
     "output_type": "stream",
     "text": [
      "[250]\tvalid_0's l1: 10.6147\tvalid_0's huber: 9.20439\tvalid_0's l2: 300.073\n"
     ]
    },
    {
     "name": "stderr",
     "output_type": "stream",
     "text": [
      "2020-09-03 14:25:35.523 | INFO     | yspecies.selection:fit:82 - SEED: 0 | FOLD: 1 | VALIDATION_SPECIES: ['Heterocephalus_glaber', 'Capra_hircus']\n"
     ]
    },
    {
     "name": "stdout",
     "output_type": "stream",
     "text": [
      "[250]\tvalid_0's l1: 5.23359\tvalid_0's huber: 4.38567\tvalid_0's l2: 129.588\n"
     ]
    },
    {
     "name": "stderr",
     "output_type": "stream",
     "text": [
      "2020-09-03 14:25:36.458 | INFO     | yspecies.selection:fit:82 - SEED: 0 | FOLD: 2 | VALIDATION_SPECIES: ['Bos_taurus', 'Otolemur_garnettii']\n"
     ]
    },
    {
     "name": "stdout",
     "output_type": "stream",
     "text": [
      "[250]\tvalid_0's l1: 4.34269\tvalid_0's huber: 3.57018\tvalid_0's l2: 52.5445\n"
     ]
    },
    {
     "name": "stderr",
     "output_type": "stream",
     "text": [
      "2020-09-03 14:25:37.424 | INFO     | yspecies.selection:fit:82 - SEED: 0 | FOLD: 3 | VALIDATION_SPECIES: ['Macaca_nemestrina', 'Microcebus_murinus']\n"
     ]
    },
    {
     "name": "stdout",
     "output_type": "stream",
     "text": [
      "[250]\tvalid_0's l1: 3.68828\tvalid_0's huber: 2.98612\tvalid_0's l2: 97.3077\n"
     ]
    },
    {
     "name": "stderr",
     "output_type": "stream",
     "text": [
      "2020-09-03 14:25:58.862 | INFO     | yspecies.selection:transform:226 - Metrics: \n",
      "Metrics(R2=0.8077268143834464, MAE=5.969817990197548, MSE=144.87818889467272, huber=5.03658707676349)\n"
     ]
    },
    {
     "name": "stdout",
     "output_type": "stream",
     "text": [
      "1\n"
     ]
    },
    {
     "name": "stderr",
     "output_type": "stream",
     "text": [
      "2020-09-03 14:25:58.873 | INFO     | yspecies.selection:fit:78 - ===== fitting models with seed 1 =====\n",
      "2020-09-03 14:25:58.875 | INFO     | yspecies.selection:fit:79 - PARAMETERS:\n",
      "{'objective': 'regression', 'metric': {'mae', 'huber', 'mse'}, 'verbosity': -1, 'boosting_type': 'dart', 'lambda_l1': 0.3522013631745854, 'lambda_l2': 1.1340642929129396, 'max_leaves': 18, 'max_depth': 7, 'feature_fraction': 0.5191833333608565, 'bagging_fraction': 0.6212877919288045, 'learning_rate': 0.05373601286514567, 'min_data_in_leaf': 3, 'drop_rate': 0.20344458911449664, 'verbose': -1, 'seed': 0}\n",
      "2020-09-03 14:25:58.879 | INFO     | yspecies.selection:fit:82 - SEED: 1 | FOLD: 0 | VALIDATION_SPECIES: ['Felis_catus', 'Ursus_americanus']\n"
     ]
    },
    {
     "name": "stdout",
     "output_type": "stream",
     "text": [
      "[LightGBM] [Warning] verbosity is set=-1, verbose=-1 will be ignored. Current value: verbosity=-1\n"
     ]
    },
    {
     "name": "stderr",
     "output_type": "stream",
     "text": [
      "Early stopping is not available in dart mode\n"
     ]
    },
    {
     "name": "stdout",
     "output_type": "stream",
     "text": [
      "[250]\tvalid_0's l1: 4.45442\tvalid_0's huber: 3.67788\tvalid_0's l2: 56.7023\n"
     ]
    },
    {
     "name": "stderr",
     "output_type": "stream",
     "text": [
      "2020-09-03 14:25:59.880 | INFO     | yspecies.selection:fit:82 - SEED: 1 | FOLD: 1 | VALIDATION_SPECIES: ['Heterocephalus_glaber', 'Vombatus_ursinus']\n"
     ]
    },
    {
     "name": "stdout",
     "output_type": "stream",
     "text": [
      "[250]\tvalid_0's l1: 5.6986\tvalid_0's huber: 4.8094\tvalid_0's l2: 122.531\n"
     ]
    },
    {
     "name": "stderr",
     "output_type": "stream",
     "text": [
      "2020-09-03 14:26:00.875 | INFO     | yspecies.selection:fit:82 - SEED: 1 | FOLD: 2 | VALIDATION_SPECIES: ['Macaca_fascicularis', 'Rhinopithecus_bieti']\n"
     ]
    },
    {
     "name": "stdout",
     "output_type": "stream",
     "text": [
      "[250]\tvalid_0's l1: 3.70485\tvalid_0's huber: 3.00396\tvalid_0's l2: 54.3747\n"
     ]
    },
    {
     "name": "stderr",
     "output_type": "stream",
     "text": [
      "2020-09-03 14:26:01.917 | INFO     | yspecies.selection:fit:82 - SEED: 1 | FOLD: 3 | VALIDATION_SPECIES: ['Gorilla_gorilla', 'Ovis_aries']\n"
     ]
    },
    {
     "name": "stdout",
     "output_type": "stream",
     "text": [
      "[250]\tvalid_0's l1: 7.46067\tvalid_0's huber: 6.37771\tvalid_0's l2: 224.831\n"
     ]
    },
    {
     "name": "stderr",
     "output_type": "stream",
     "text": [
      "2020-09-03 14:26:25.020 | INFO     | yspecies.selection:transform:226 - Metrics: \n",
      "Metrics(R2=0.836736416130137, MAE=5.329636983277992, MSE=114.60972844980358, huber=4.467237368657375)\n"
     ]
    },
    {
     "name": "stdout",
     "output_type": "stream",
     "text": [
      "2\n"
     ]
    },
    {
     "name": "stderr",
     "output_type": "stream",
     "text": [
      "2020-09-03 14:26:25.029 | INFO     | yspecies.selection:fit:78 - ===== fitting models with seed 2 =====\n",
      "2020-09-03 14:26:25.030 | INFO     | yspecies.selection:fit:79 - PARAMETERS:\n",
      "{'objective': 'regression', 'metric': {'mae', 'huber', 'mse'}, 'verbosity': -1, 'boosting_type': 'dart', 'lambda_l1': 0.3522013631745854, 'lambda_l2': 1.1340642929129396, 'max_leaves': 18, 'max_depth': 7, 'feature_fraction': 0.5191833333608565, 'bagging_fraction': 0.6212877919288045, 'learning_rate': 0.05373601286514567, 'min_data_in_leaf': 3, 'drop_rate': 0.20344458911449664, 'verbose': -1, 'seed': 1}\n",
      "2020-09-03 14:26:25.035 | INFO     | yspecies.selection:fit:82 - SEED: 2 | FOLD: 0 | VALIDATION_SPECIES: ['Rhinopithecus_bieti', 'Ursus_americanus']\n"
     ]
    },
    {
     "name": "stdout",
     "output_type": "stream",
     "text": [
      "[LightGBM] [Warning] verbosity is set=-1, verbose=-1 will be ignored. Current value: verbosity=-1\n"
     ]
    },
    {
     "name": "stderr",
     "output_type": "stream",
     "text": [
      "Early stopping is not available in dart mode\n"
     ]
    },
    {
     "name": "stdout",
     "output_type": "stream",
     "text": [
      "[250]\tvalid_0's l1: 5.65351\tvalid_0's huber: 4.72402\tvalid_0's l2: 95.8253\n"
     ]
    },
    {
     "name": "stderr",
     "output_type": "stream",
     "text": [
      "2020-09-03 14:26:26.136 | INFO     | yspecies.selection:fit:82 - SEED: 2 | FOLD: 1 | VALIDATION_SPECIES: ['Aotus_nancymaae', 'Phascolarctos_cinereus']\n"
     ]
    },
    {
     "name": "stdout",
     "output_type": "stream",
     "text": [
      "[250]\tvalid_0's l1: 7.25931\tvalid_0's huber: 6.1767\tvalid_0's l2: 150.679\n"
     ]
    },
    {
     "name": "stderr",
     "output_type": "stream",
     "text": [
      "2020-09-03 14:26:27.143 | INFO     | yspecies.selection:fit:82 - SEED: 2 | FOLD: 2 | VALIDATION_SPECIES: ['Vombatus_ursinus', 'Ailuropoda_melanoleuca']\n"
     ]
    },
    {
     "name": "stdout",
     "output_type": "stream",
     "text": [
      "[250]\tvalid_0's l1: 5.96925\tvalid_0's huber: 5.01539\tvalid_0's l2: 89.2968\n"
     ]
    },
    {
     "name": "stderr",
     "output_type": "stream",
     "text": [
      "2020-09-03 14:26:28.149 | INFO     | yspecies.selection:fit:82 - SEED: 2 | FOLD: 3 | VALIDATION_SPECIES: ['Rattus_norvegicus', 'Monodelphis_domestica']\n"
     ]
    },
    {
     "name": "stdout",
     "output_type": "stream",
     "text": [
      "[250]\tvalid_0's l1: 6.18215\tvalid_0's huber: 5.18319\tvalid_0's l2: 90.1451\n"
     ]
    },
    {
     "name": "stderr",
     "output_type": "stream",
     "text": [
      "2020-09-03 14:26:49.013 | INFO     | yspecies.selection:transform:226 - Metrics: \n",
      "Metrics(R2=0.8474849502056133, MAE=6.2660541286427325, MSE=106.48645492694851, huber=5.274824050599677)\n"
     ]
    },
    {
     "name": "stdout",
     "output_type": "stream",
     "text": [
      "3\n"
     ]
    },
    {
     "name": "stderr",
     "output_type": "stream",
     "text": [
      "2020-09-03 14:26:49.021 | INFO     | yspecies.selection:fit:78 - ===== fitting models with seed 3 =====\n",
      "2020-09-03 14:26:49.022 | INFO     | yspecies.selection:fit:79 - PARAMETERS:\n",
      "{'objective': 'regression', 'metric': {'mae', 'huber', 'mse'}, 'verbosity': -1, 'boosting_type': 'dart', 'lambda_l1': 0.3522013631745854, 'lambda_l2': 1.1340642929129396, 'max_leaves': 18, 'max_depth': 7, 'feature_fraction': 0.5191833333608565, 'bagging_fraction': 0.6212877919288045, 'learning_rate': 0.05373601286514567, 'min_data_in_leaf': 3, 'drop_rate': 0.20344458911449664, 'verbose': -1, 'seed': 2}\n",
      "2020-09-03 14:26:49.026 | INFO     | yspecies.selection:fit:82 - SEED: 3 | FOLD: 0 | VALIDATION_SPECIES: ['Microcebus_murinus', 'Pan_paniscus']\n"
     ]
    },
    {
     "name": "stdout",
     "output_type": "stream",
     "text": [
      "[LightGBM] [Warning] verbosity is set=-1, verbose=-1 will be ignored. Current value: verbosity=-1\n"
     ]
    },
    {
     "name": "stderr",
     "output_type": "stream",
     "text": [
      "Early stopping is not available in dart mode\n"
     ]
    },
    {
     "name": "stdout",
     "output_type": "stream",
     "text": [
      "[250]\tvalid_0's l1: 3.5867\tvalid_0's huber: 2.87543\tvalid_0's l2: 47.8297\n"
     ]
    },
    {
     "name": "stderr",
     "output_type": "stream",
     "text": [
      "2020-09-03 14:26:49.872 | INFO     | yspecies.selection:fit:82 - SEED: 3 | FOLD: 1 | VALIDATION_SPECIES: ['Ursus_americanus', 'Gorilla_gorilla']\n"
     ]
    },
    {
     "name": "stdout",
     "output_type": "stream",
     "text": [
      "[250]\tvalid_0's l1: 8.23398\tvalid_0's huber: 7.08103\tvalid_0's l2: 190.095\n"
     ]
    },
    {
     "name": "stderr",
     "output_type": "stream",
     "text": [
      "2020-09-03 14:26:50.729 | INFO     | yspecies.selection:fit:82 - SEED: 3 | FOLD: 2 | VALIDATION_SPECIES: ['Bos_taurus', 'Capra_hircus']\n"
     ]
    },
    {
     "name": "stdout",
     "output_type": "stream",
     "text": [
      "[250]\tvalid_0's l1: 4.05441\tvalid_0's huber: 3.32537\tvalid_0's l2: 55.7406\n"
     ]
    },
    {
     "name": "stderr",
     "output_type": "stream",
     "text": [
      "2020-09-03 14:26:51.713 | INFO     | yspecies.selection:fit:82 - SEED: 3 | FOLD: 3 | VALIDATION_SPECIES: ['Rhinolophus_ferrumequinum', 'Mus_musculus']\n"
     ]
    },
    {
     "name": "stdout",
     "output_type": "stream",
     "text": [
      "[250]\tvalid_0's l1: 2.72524\tvalid_0's huber: 2.16288\tvalid_0's l2: 62.322\n"
     ]
    },
    {
     "name": "stderr",
     "output_type": "stream",
     "text": [
      "2020-09-03 14:27:12.436 | INFO     | yspecies.selection:transform:226 - Metrics: \n",
      "Metrics(R2=0.8793385580338694, MAE=4.65008243873819, MSE=88.99686031118017, huber=3.8611797320220704)\n"
     ]
    },
    {
     "name": "stdout",
     "output_type": "stream",
     "text": [
      "4\n"
     ]
    },
    {
     "name": "stderr",
     "output_type": "stream",
     "text": [
      "2020-09-03 14:27:12.444 | INFO     | yspecies.selection:fit:78 - ===== fitting models with seed 4 =====\n",
      "2020-09-03 14:27:12.445 | INFO     | yspecies.selection:fit:79 - PARAMETERS:\n",
      "{'objective': 'regression', 'metric': {'mae', 'huber', 'mse'}, 'verbosity': -1, 'boosting_type': 'dart', 'lambda_l1': 0.3522013631745854, 'lambda_l2': 1.1340642929129396, 'max_leaves': 18, 'max_depth': 7, 'feature_fraction': 0.5191833333608565, 'bagging_fraction': 0.6212877919288045, 'learning_rate': 0.05373601286514567, 'min_data_in_leaf': 3, 'drop_rate': 0.20344458911449664, 'verbose': -1, 'seed': 3}\n",
      "2020-09-03 14:27:12.450 | INFO     | yspecies.selection:fit:82 - SEED: 4 | FOLD: 0 | VALIDATION_SPECIES: ['Macaca_fascicularis', 'Pan_troglodytes']\n"
     ]
    },
    {
     "name": "stdout",
     "output_type": "stream",
     "text": [
      "[LightGBM] [Warning] verbosity is set=-1, verbose=-1 will be ignored. Current value: verbosity=-1\n"
     ]
    },
    {
     "name": "stderr",
     "output_type": "stream",
     "text": [
      "Early stopping is not available in dart mode\n"
     ]
    },
    {
     "name": "stdout",
     "output_type": "stream",
     "text": [
      "[250]\tvalid_0's l1: 3.94752\tvalid_0's huber: 3.22001\tvalid_0's l2: 61.6577\n"
     ]
    },
    {
     "name": "stderr",
     "output_type": "stream",
     "text": [
      "2020-09-03 14:27:13.582 | INFO     | yspecies.selection:fit:82 - SEED: 4 | FOLD: 1 | VALIDATION_SPECIES: ['Otolemur_garnettii', 'Ursus_americanus']\n"
     ]
    },
    {
     "name": "stdout",
     "output_type": "stream",
     "text": [
      "[250]\tvalid_0's l1: 4.54436\tvalid_0's huber: 3.76037\tvalid_0's l2: 88.1612\n"
     ]
    },
    {
     "name": "stderr",
     "output_type": "stream",
     "text": [
      "2020-09-03 14:27:14.603 | INFO     | yspecies.selection:fit:82 - SEED: 4 | FOLD: 2 | VALIDATION_SPECIES: ['Heterocephalus_glaber', 'Cavia_aperea']\n"
     ]
    },
    {
     "name": "stdout",
     "output_type": "stream",
     "text": [
      "[250]\tvalid_0's l1: 4.20332\tvalid_0's huber: 3.46652\tvalid_0's l2: 45.2376\n"
     ]
    },
    {
     "name": "stderr",
     "output_type": "stream",
     "text": [
      "2020-09-03 14:27:15.562 | INFO     | yspecies.selection:fit:82 - SEED: 4 | FOLD: 3 | VALIDATION_SPECIES: ['Pan_paniscus', 'Gorilla_gorilla']\n"
     ]
    },
    {
     "name": "stdout",
     "output_type": "stream",
     "text": [
      "[250]\tvalid_0's l1: 8.65691\tvalid_0's huber: 7.46101\tvalid_0's l2: 234.717\n"
     ]
    },
    {
     "name": "stderr",
     "output_type": "stream",
     "text": [
      "2020-09-03 14:27:36.860 | INFO     | yspecies.selection:transform:226 - Metrics: \n",
      "Metrics(R2=0.8553764357948175, MAE=5.338026810354165, MSE=107.44329106840163, huber=4.476978110418018)\n"
     ]
    },
    {
     "name": "stdout",
     "output_type": "stream",
     "text": [
      "5\n"
     ]
    },
    {
     "name": "stderr",
     "output_type": "stream",
     "text": [
      "2020-09-03 14:27:36.868 | INFO     | yspecies.selection:fit:78 - ===== fitting models with seed 5 =====\n",
      "2020-09-03 14:27:36.869 | INFO     | yspecies.selection:fit:79 - PARAMETERS:\n",
      "{'objective': 'regression', 'metric': {'mae', 'huber', 'mse'}, 'verbosity': -1, 'boosting_type': 'dart', 'lambda_l1': 0.3522013631745854, 'lambda_l2': 1.1340642929129396, 'max_leaves': 18, 'max_depth': 7, 'feature_fraction': 0.5191833333608565, 'bagging_fraction': 0.6212877919288045, 'learning_rate': 0.05373601286514567, 'min_data_in_leaf': 3, 'drop_rate': 0.20344458911449664, 'verbose': -1, 'seed': 4}\n",
      "2020-09-03 14:27:36.874 | INFO     | yspecies.selection:fit:82 - SEED: 5 | FOLD: 0 | VALIDATION_SPECIES: ['Mus_spicilegus', 'Canis_lupus_familiaris']\n"
     ]
    },
    {
     "name": "stdout",
     "output_type": "stream",
     "text": [
      "[LightGBM] [Warning] verbosity is set=-1, verbose=-1 will be ignored. Current value: verbosity=-1\n"
     ]
    },
    {
     "name": "stderr",
     "output_type": "stream",
     "text": [
      "Early stopping is not available in dart mode\n"
     ]
    },
    {
     "name": "stdout",
     "output_type": "stream",
     "text": [
      "[250]\tvalid_0's l1: 3.94854\tvalid_0's huber: 3.19628\tvalid_0's l2: 54.3897\n"
     ]
    },
    {
     "name": "stderr",
     "output_type": "stream",
     "text": [
      "2020-09-03 14:27:37.815 | INFO     | yspecies.selection:fit:82 - SEED: 5 | FOLD: 1 | VALIDATION_SPECIES: ['Ovis_aries', 'Heterocephalus_glaber']\n"
     ]
    },
    {
     "name": "stdout",
     "output_type": "stream",
     "text": [
      "[250]\tvalid_0's l1: 5.66775\tvalid_0's huber: 4.75482\tvalid_0's l2: 134.628\n"
     ]
    },
    {
     "name": "stderr",
     "output_type": "stream",
     "text": [
      "2020-09-03 14:27:38.666 | INFO     | yspecies.selection:fit:82 - SEED: 5 | FOLD: 2 | VALIDATION_SPECIES: ['Ursus_americanus', 'Oryctolagus_cuniculus']\n"
     ]
    },
    {
     "name": "stdout",
     "output_type": "stream",
     "text": [
      "[250]\tvalid_0's l1: 6.31475\tvalid_0's huber: 5.3469\tvalid_0's l2: 133.364\n"
     ]
    },
    {
     "name": "stderr",
     "output_type": "stream",
     "text": [
      "2020-09-03 14:27:39.550 | INFO     | yspecies.selection:fit:82 - SEED: 5 | FOLD: 3 | VALIDATION_SPECIES: ['Cavia_aperea', 'Ailuropoda_melanoleuca']\n"
     ]
    },
    {
     "name": "stdout",
     "output_type": "stream",
     "text": [
      "[250]\tvalid_0's l1: 5.2099\tvalid_0's huber: 4.36358\tvalid_0's l2: 116.654\n"
     ]
    },
    {
     "name": "stderr",
     "output_type": "stream",
     "text": [
      "2020-09-03 14:28:02.250 | INFO     | yspecies.selection:transform:226 - Metrics: \n",
      "Metrics(R2=0.8494481822980031, MAE=5.285234935528321, MSE=109.75892621838162, huber=4.415395151186512)\n"
     ]
    },
    {
     "name": "stdout",
     "output_type": "stream",
     "text": [
      "6\n"
     ]
    },
    {
     "name": "stderr",
     "output_type": "stream",
     "text": [
      "2020-09-03 14:28:02.259 | INFO     | yspecies.selection:fit:78 - ===== fitting models with seed 6 =====\n",
      "2020-09-03 14:28:02.261 | INFO     | yspecies.selection:fit:79 - PARAMETERS:\n",
      "{'objective': 'regression', 'metric': {'mae', 'huber', 'mse'}, 'verbosity': -1, 'boosting_type': 'dart', 'lambda_l1': 0.3522013631745854, 'lambda_l2': 1.1340642929129396, 'max_leaves': 18, 'max_depth': 7, 'feature_fraction': 0.5191833333608565, 'bagging_fraction': 0.6212877919288045, 'learning_rate': 0.05373601286514567, 'min_data_in_leaf': 3, 'drop_rate': 0.20344458911449664, 'verbose': -1, 'seed': 5}\n",
      "2020-09-03 14:28:02.266 | INFO     | yspecies.selection:fit:82 - SEED: 6 | FOLD: 0 | VALIDATION_SPECIES: ['Rhinolophus_ferrumequinum', 'Heterocephalus_glaber']\n"
     ]
    },
    {
     "name": "stdout",
     "output_type": "stream",
     "text": [
      "[LightGBM] [Warning] verbosity is set=-1, verbose=-1 will be ignored. Current value: verbosity=-1\n"
     ]
    },
    {
     "name": "stderr",
     "output_type": "stream",
     "text": [
      "Early stopping is not available in dart mode\n"
     ]
    },
    {
     "name": "stdout",
     "output_type": "stream",
     "text": [
      "[250]\tvalid_0's l1: 4.09968\tvalid_0's huber: 3.3773\tvalid_0's l2: 52.2926\n"
     ]
    },
    {
     "name": "stderr",
     "output_type": "stream",
     "text": [
      "2020-09-03 14:28:03.404 | INFO     | yspecies.selection:fit:82 - SEED: 6 | FOLD: 1 | VALIDATION_SPECIES: ['Mus_spicilegus', 'Suricata_suricatta']\n"
     ]
    },
    {
     "name": "stdout",
     "output_type": "stream",
     "text": [
      "[250]\tvalid_0's l1: 4.33661\tvalid_0's huber: 3.6022\tvalid_0's l2: 76.0522\n"
     ]
    },
    {
     "name": "stderr",
     "output_type": "stream",
     "text": [
      "2020-09-03 14:28:04.445 | INFO     | yspecies.selection:fit:82 - SEED: 6 | FOLD: 2 | VALIDATION_SPECIES: ['Rhinopithecus_bieti', 'Ovis_aries']\n"
     ]
    },
    {
     "name": "stdout",
     "output_type": "stream",
     "text": [
      "[250]\tvalid_0's l1: 2.96886\tvalid_0's huber: 2.38939\tvalid_0's l2: 35.1113\n"
     ]
    },
    {
     "name": "stderr",
     "output_type": "stream",
     "text": [
      "2020-09-03 14:28:05.535 | INFO     | yspecies.selection:fit:82 - SEED: 6 | FOLD: 3 | VALIDATION_SPECIES: ['Cavia_porcellus', 'Pan_troglodytes']\n"
     ]
    },
    {
     "name": "stdout",
     "output_type": "stream",
     "text": [
      "[250]\tvalid_0's l1: 4.46068\tvalid_0's huber: 3.70796\tvalid_0's l2: 93.322\n"
     ]
    },
    {
     "name": "stderr",
     "output_type": "stream",
     "text": [
      "2020-09-03 14:28:26.970 | INFO     | yspecies.selection:transform:226 - Metrics: \n",
      "Metrics(R2=0.9100175301668944, MAE=3.966459040529916, MSE=64.19450891041785, huber=3.269212930483165)\n"
     ]
    },
    {
     "name": "stdout",
     "output_type": "stream",
     "text": [
      "7\n"
     ]
    },
    {
     "name": "stderr",
     "output_type": "stream",
     "text": [
      "2020-09-03 14:28:26.979 | INFO     | yspecies.selection:fit:78 - ===== fitting models with seed 7 =====\n",
      "2020-09-03 14:28:26.980 | INFO     | yspecies.selection:fit:79 - PARAMETERS:\n",
      "{'objective': 'regression', 'metric': {'mae', 'huber', 'mse'}, 'verbosity': -1, 'boosting_type': 'dart', 'lambda_l1': 0.3522013631745854, 'lambda_l2': 1.1340642929129396, 'max_leaves': 18, 'max_depth': 7, 'feature_fraction': 0.5191833333608565, 'bagging_fraction': 0.6212877919288045, 'learning_rate': 0.05373601286514567, 'min_data_in_leaf': 3, 'drop_rate': 0.20344458911449664, 'verbose': -1, 'seed': 6}\n",
      "2020-09-03 14:28:26.985 | INFO     | yspecies.selection:fit:82 - SEED: 7 | FOLD: 0 | VALIDATION_SPECIES: ['Macaca_mulatta', 'Cavia_porcellus']\n"
     ]
    },
    {
     "name": "stdout",
     "output_type": "stream",
     "text": [
      "[LightGBM] [Warning] verbosity is set=-1, verbose=-1 will be ignored. Current value: verbosity=-1\n"
     ]
    },
    {
     "name": "stderr",
     "output_type": "stream",
     "text": [
      "Early stopping is not available in dart mode\n"
     ]
    },
    {
     "name": "stdout",
     "output_type": "stream",
     "text": [
      "[250]\tvalid_0's l1: 5.26695\tvalid_0's huber: 4.34365\tvalid_0's l2: 85.8548\n"
     ]
    },
    {
     "name": "stderr",
     "output_type": "stream",
     "text": [
      "2020-09-03 14:28:27.900 | INFO     | yspecies.selection:fit:82 - SEED: 7 | FOLD: 1 | VALIDATION_SPECIES: ['Pan_paniscus', 'Capra_hircus']\n"
     ]
    },
    {
     "name": "stdout",
     "output_type": "stream",
     "text": [
      "[250]\tvalid_0's l1: 6.74651\tvalid_0's huber: 5.68516\tvalid_0's l2: 142.518\n"
     ]
    },
    {
     "name": "stderr",
     "output_type": "stream",
     "text": [
      "2020-09-03 14:28:28.833 | INFO     | yspecies.selection:fit:82 - SEED: 7 | FOLD: 2 | VALIDATION_SPECIES: ['Otolemur_garnettii', 'Ictidomys_tridecemlineatus']\n"
     ]
    },
    {
     "name": "stdout",
     "output_type": "stream",
     "text": [
      "[250]\tvalid_0's l1: 6.00681\tvalid_0's huber: 5.01269\tvalid_0's l2: 85.3281\n"
     ]
    },
    {
     "name": "stderr",
     "output_type": "stream",
     "text": [
      "2020-09-03 14:28:29.850 | INFO     | yspecies.selection:fit:82 - SEED: 7 | FOLD: 3 | VALIDATION_SPECIES: ['Canis_lupus_familiaris', 'Ursus_americanus']\n"
     ]
    },
    {
     "name": "stdout",
     "output_type": "stream",
     "text": [
      "[250]\tvalid_0's l1: 6.22304\tvalid_0's huber: 5.21659\tvalid_0's l2: 133.52\n"
     ]
    },
    {
     "name": "stderr",
     "output_type": "stream",
     "text": [
      "2020-09-03 14:28:50.864 | INFO     | yspecies.selection:transform:226 - Metrics: \n",
      "Metrics(R2=0.8444304760490403, MAE=6.060825594831908, MSE=111.8053828419593, huber=5.064522233621008)\n"
     ]
    },
    {
     "name": "stdout",
     "output_type": "stream",
     "text": [
      "8\n"
     ]
    },
    {
     "name": "stderr",
     "output_type": "stream",
     "text": [
      "2020-09-03 14:28:50.875 | INFO     | yspecies.selection:fit:78 - ===== fitting models with seed 8 =====\n",
      "2020-09-03 14:28:50.877 | INFO     | yspecies.selection:fit:79 - PARAMETERS:\n",
      "{'objective': 'regression', 'metric': {'mae', 'huber', 'mse'}, 'verbosity': -1, 'boosting_type': 'dart', 'lambda_l1': 0.3522013631745854, 'lambda_l2': 1.1340642929129396, 'max_leaves': 18, 'max_depth': 7, 'feature_fraction': 0.5191833333608565, 'bagging_fraction': 0.6212877919288045, 'learning_rate': 0.05373601286514567, 'min_data_in_leaf': 3, 'drop_rate': 0.20344458911449664, 'verbose': -1, 'seed': 7}\n",
      "2020-09-03 14:28:50.881 | INFO     | yspecies.selection:fit:82 - SEED: 8 | FOLD: 0 | VALIDATION_SPECIES: ['Pan_paniscus', 'Suricata_suricatta']\n"
     ]
    },
    {
     "name": "stdout",
     "output_type": "stream",
     "text": [
      "[LightGBM] [Warning] verbosity is set=-1, verbose=-1 will be ignored. Current value: verbosity=-1\n"
     ]
    },
    {
     "name": "stderr",
     "output_type": "stream",
     "text": [
      "Early stopping is not available in dart mode\n"
     ]
    },
    {
     "name": "stdout",
     "output_type": "stream",
     "text": [
      "[250]\tvalid_0's l1: 3.65764\tvalid_0's huber: 2.95591\tvalid_0's l2: 55.6832\n"
     ]
    },
    {
     "name": "stderr",
     "output_type": "stream",
     "text": [
      "2020-09-03 14:28:51.756 | INFO     | yspecies.selection:fit:82 - SEED: 8 | FOLD: 1 | VALIDATION_SPECIES: ['Macaca_fascicularis', 'Tupaia_belangeri']\n"
     ]
    },
    {
     "name": "stdout",
     "output_type": "stream",
     "text": [
      "[250]\tvalid_0's l1: 4.63791\tvalid_0's huber: 3.83599\tvalid_0's l2: 86.8485\n"
     ]
    },
    {
     "name": "stderr",
     "output_type": "stream",
     "text": [
      "2020-09-03 14:28:52.869 | INFO     | yspecies.selection:fit:82 - SEED: 8 | FOLD: 2 | VALIDATION_SPECIES: ['Ursus_americanus', 'Capra_hircus']\n"
     ]
    },
    {
     "name": "stdout",
     "output_type": "stream",
     "text": [
      "[250]\tvalid_0's l1: 4.4298\tvalid_0's huber: 3.66345\tvalid_0's l2: 61.869\n"
     ]
    },
    {
     "name": "stderr",
     "output_type": "stream",
     "text": [
      "2020-09-03 14:28:53.681 | INFO     | yspecies.selection:fit:82 - SEED: 8 | FOLD: 3 | VALIDATION_SPECIES: ['Bos_taurus', 'Rhinolophus_ferrumequinum']\n"
     ]
    },
    {
     "name": "stdout",
     "output_type": "stream",
     "text": [
      "[250]\tvalid_0's l1: 4.07238\tvalid_0's huber: 3.33526\tvalid_0's l2: 96.2154\n"
     ]
    },
    {
     "name": "stderr",
     "output_type": "stream",
     "text": [
      "2020-09-03 14:29:15.071 | INFO     | yspecies.selection:transform:226 - Metrics: \n",
      "Metrics(R2=0.8939320325032558, MAE=4.199434316764318, MSE=75.15401278782798, huber=3.447650444107574)\n"
     ]
    },
    {
     "name": "stdout",
     "output_type": "stream",
     "text": [
      "9\n"
     ]
    },
    {
     "name": "stderr",
     "output_type": "stream",
     "text": [
      "2020-09-03 14:29:15.083 | INFO     | yspecies.selection:fit:78 - ===== fitting models with seed 9 =====\n",
      "2020-09-03 14:29:15.085 | INFO     | yspecies.selection:fit:79 - PARAMETERS:\n",
      "{'objective': 'regression', 'metric': {'mae', 'huber', 'mse'}, 'verbosity': -1, 'boosting_type': 'dart', 'lambda_l1': 0.3522013631745854, 'lambda_l2': 1.1340642929129396, 'max_leaves': 18, 'max_depth': 7, 'feature_fraction': 0.5191833333608565, 'bagging_fraction': 0.6212877919288045, 'learning_rate': 0.05373601286514567, 'min_data_in_leaf': 3, 'drop_rate': 0.20344458911449664, 'verbose': -1, 'seed': 8}\n",
      "2020-09-03 14:29:15.090 | INFO     | yspecies.selection:fit:82 - SEED: 9 | FOLD: 0 | VALIDATION_SPECIES: ['Ictidomys_tridecemlineatus', 'Aotus_nancymaae']\n"
     ]
    },
    {
     "name": "stdout",
     "output_type": "stream",
     "text": [
      "[LightGBM] [Warning] verbosity is set=-1, verbose=-1 will be ignored. Current value: verbosity=-1\n"
     ]
    },
    {
     "name": "stderr",
     "output_type": "stream",
     "text": [
      "Early stopping is not available in dart mode\n"
     ]
    },
    {
     "name": "stdout",
     "output_type": "stream",
     "text": [
      "[250]\tvalid_0's l1: 3.99411\tvalid_0's huber: 3.29811\tvalid_0's l2: 49.2825\n"
     ]
    },
    {
     "name": "stderr",
     "output_type": "stream",
     "text": [
      "2020-09-03 14:29:15.992 | INFO     | yspecies.selection:fit:82 - SEED: 9 | FOLD: 1 | VALIDATION_SPECIES: ['Pan_troglodytes', 'Oryctolagus_cuniculus']\n"
     ]
    },
    {
     "name": "stdout",
     "output_type": "stream",
     "text": [
      "[250]\tvalid_0's l1: 5.85326\tvalid_0's huber: 4.95608\tvalid_0's l2: 139.333\n"
     ]
    },
    {
     "name": "stderr",
     "output_type": "stream",
     "text": [
      "2020-09-03 14:29:16.845 | INFO     | yspecies.selection:fit:82 - SEED: 9 | FOLD: 2 | VALIDATION_SPECIES: ['Mesocricetus_auratus', 'Meriones_unguiculatus']\n"
     ]
    },
    {
     "name": "stdout",
     "output_type": "stream",
     "text": [
      "[250]\tvalid_0's l1: 4.30332\tvalid_0's huber: 3.53675\tvalid_0's l2: 47.1158\n"
     ]
    },
    {
     "name": "stderr",
     "output_type": "stream",
     "text": [
      "2020-09-03 14:29:17.692 | INFO     | yspecies.selection:fit:82 - SEED: 9 | FOLD: 3 | VALIDATION_SPECIES: ['Gorilla_gorilla', 'Microcebus_murinus']\n"
     ]
    },
    {
     "name": "stdout",
     "output_type": "stream",
     "text": [
      "[250]\tvalid_0's l1: 5.87186\tvalid_0's huber: 4.95895\tvalid_0's l2: 138.285\n"
     ]
    },
    {
     "name": "stderr",
     "output_type": "stream",
     "text": [
      "2020-09-03 14:29:38.423 | INFO     | yspecies.selection:transform:226 - Metrics: \n",
      "Metrics(R2=0.8750706077999606, MAE=5.005636793617951, MSE=93.50406121281003, huber=4.187472007062736)\n",
      "MultiObjectiveTrial is experimental (supported from v1.4.0). The interface can change in the future.\n",
      "MultiObjectiveStudy is experimental (supported from v1.4.0). The interface can change in the future.\n",
      "[I 2020-09-03 14:29:39,057] Trial 491 finished with values: [0.8599562003365037, 4.350105910492163, 0.4776034614127623] with parameters: {'boosting_type': 'dart', 'lambda_l1': 0.3522013631745854, 'lambda_l2': 1.1340642929129396, 'max_leaves': 18, 'max_depth': 7, 'feature_fraction': 0.5191833333608565, 'bagging_fraction': 0.6212877919288045, 'learning_rate': 0.05373601286514567, 'min_data_in_leaf': 3, 'drop_rate': 0.20344458911449664}.\n",
      "MultiObjectiveStudy is experimental (supported from v1.4.0). The interface can change in the future.\n",
      "FrozenMultiObjectiveTrial is experimental (supported from v1.4.0). The interface can change in the future.\n",
      "MultiObjectiveStudy is experimental (supported from v1.4.0). The interface can change in the future.\n",
      "FrozenMultiObjectiveTrial is experimental (supported from v1.4.0). The interface can change in the future.\n",
      "FrozenMultiObjectiveTrial is experimental (supported from v1.4.0). The interface can change in the future.\n",
      "MultiObjectiveTrial is experimental (supported from v1.4.0). The interface can change in the future.\n",
      "MultiObjectiveStudy is experimental (supported from v1.4.0). The interface can change in the future.\n",
      "FrozenMultiObjectiveTrial is experimental (supported from v1.4.0). The interface can change in the future.\n"
     ]
    },
    {
     "name": "stdout",
     "output_type": "stream",
     "text": [
      "0\n"
     ]
    },
    {
     "name": "stderr",
     "output_type": "stream",
     "text": [
      "2020-09-03 14:29:39.293 | INFO     | yspecies.selection:fit:78 - ===== fitting models with seed 0 =====\n",
      "2020-09-03 14:29:39.296 | INFO     | yspecies.selection:fit:79 - PARAMETERS:\n",
      "{'objective': 'regression', 'metric': {'mae', 'huber', 'mse'}, 'verbosity': -1, 'boosting_type': 'gbdt', 'lambda_l1': 1.0074040471792671, 'lambda_l2': 2.3500616173039672, 'max_leaves': 19, 'max_depth': 3, 'feature_fraction': 0.5168464794482679, 'bagging_fraction': 0.42259626867860933, 'learning_rate': 0.04901611652323495, 'min_data_in_leaf': 3, 'drop_rate': 0.16401872685861194, 'verbose': -1}\n",
      "2020-09-03 14:29:39.301 | INFO     | yspecies.selection:fit:82 - SEED: 0 | FOLD: 0 | VALIDATION_SPECIES: ['Gorilla_gorilla', 'Pan_paniscus']\n"
     ]
    },
    {
     "name": "stdout",
     "output_type": "stream",
     "text": [
      "[LightGBM] [Warning] verbosity is set=-1, verbose=-1 will be ignored. Current value: verbosity=-1\n",
      "Training until validation scores don't improve for 10 rounds\n",
      "[250]\tvalid_0's l1: 8.1307\tvalid_0's huber: 6.9627\tvalid_0's l2: 196.081\n",
      "Did not meet early stopping. Best iteration is:\n",
      "[250]\tvalid_0's l1: 8.1307\tvalid_0's huber: 6.9627\tvalid_0's l2: 196.081\n"
     ]
    },
    {
     "name": "stderr",
     "output_type": "stream",
     "text": [
      "2020-09-03 14:29:39.608 | INFO     | yspecies.selection:fit:82 - SEED: 0 | FOLD: 1 | VALIDATION_SPECIES: ['Heterocephalus_glaber', 'Capra_hircus']\n"
     ]
    },
    {
     "name": "stdout",
     "output_type": "stream",
     "text": [
      "Training until validation scores don't improve for 10 rounds\n",
      "Early stopping, best iteration is:\n",
      "[209]\tvalid_0's l1: 3.81909\tvalid_0's huber: 3.08973\tvalid_0's l2: 41.9054\n"
     ]
    },
    {
     "name": "stderr",
     "output_type": "stream",
     "text": [
      "2020-09-03 14:29:39.794 | INFO     | yspecies.selection:fit:82 - SEED: 0 | FOLD: 2 | VALIDATION_SPECIES: ['Bos_taurus', 'Otolemur_garnettii']\n"
     ]
    },
    {
     "name": "stdout",
     "output_type": "stream",
     "text": [
      "Training until validation scores don't improve for 10 rounds\n",
      "[250]\tvalid_0's l1: 2.93873\tvalid_0's huber: 2.32559\tvalid_0's l2: 30.7594\n",
      "Did not meet early stopping. Best iteration is:\n",
      "[250]\tvalid_0's l1: 2.93873\tvalid_0's huber: 2.32559\tvalid_0's l2: 30.7594\n"
     ]
    },
    {
     "name": "stderr",
     "output_type": "stream",
     "text": [
      "2020-09-03 14:29:40.011 | INFO     | yspecies.selection:fit:82 - SEED: 0 | FOLD: 3 | VALIDATION_SPECIES: ['Macaca_nemestrina', 'Microcebus_murinus']\n"
     ]
    },
    {
     "name": "stdout",
     "output_type": "stream",
     "text": [
      "Training until validation scores don't improve for 10 rounds\n",
      "Early stopping, best iteration is:\n",
      "[132]\tvalid_0's l1: 3.15177\tvalid_0's huber: 2.51935\tvalid_0's l2: 51.8854\n"
     ]
    },
    {
     "name": "stderr",
     "output_type": "stream",
     "text": [
      "2020-09-03 14:29:57.204 | INFO     | yspecies.selection:transform:226 - Metrics: \n",
      "Metrics(R2=0.8962911043728043, MAE=4.510073301808701, MSE=80.15789170235317, huber=3.7236526200576536)\n"
     ]
    },
    {
     "name": "stdout",
     "output_type": "stream",
     "text": [
      "1\n"
     ]
    },
    {
     "name": "stderr",
     "output_type": "stream",
     "text": [
      "2020-09-03 14:29:57.215 | INFO     | yspecies.selection:fit:78 - ===== fitting models with seed 1 =====\n",
      "2020-09-03 14:29:57.217 | INFO     | yspecies.selection:fit:79 - PARAMETERS:\n",
      "{'objective': 'regression', 'metric': {'mae', 'huber', 'mse'}, 'verbosity': -1, 'boosting_type': 'gbdt', 'lambda_l1': 1.0074040471792671, 'lambda_l2': 2.3500616173039672, 'max_leaves': 19, 'max_depth': 3, 'feature_fraction': 0.5168464794482679, 'bagging_fraction': 0.42259626867860933, 'learning_rate': 0.04901611652323495, 'min_data_in_leaf': 3, 'drop_rate': 0.16401872685861194, 'verbose': -1, 'seed': 0}\n",
      "2020-09-03 14:29:57.222 | INFO     | yspecies.selection:fit:82 - SEED: 1 | FOLD: 0 | VALIDATION_SPECIES: ['Felis_catus', 'Ursus_americanus']\n"
     ]
    },
    {
     "name": "stdout",
     "output_type": "stream",
     "text": [
      "[LightGBM] [Warning] verbosity is set=-1, verbose=-1 will be ignored. Current value: verbosity=-1\n",
      "Training until validation scores don't improve for 10 rounds\n",
      "Early stopping, best iteration is:\n",
      "[200]\tvalid_0's l1: 2.65808\tvalid_0's huber: 2.05778\tvalid_0's l2: 19.0364\n"
     ]
    },
    {
     "name": "stderr",
     "output_type": "stream",
     "text": [
      "2020-09-03 14:29:57.435 | INFO     | yspecies.selection:fit:82 - SEED: 1 | FOLD: 1 | VALIDATION_SPECIES: ['Heterocephalus_glaber', 'Vombatus_ursinus']\n"
     ]
    },
    {
     "name": "stdout",
     "output_type": "stream",
     "text": [
      "Training until validation scores don't improve for 10 rounds\n",
      "Early stopping, best iteration is:\n",
      "[195]\tvalid_0's l1: 4.19585\tvalid_0's huber: 3.42661\tvalid_0's l2: 61.1156\n"
     ]
    },
    {
     "name": "stderr",
     "output_type": "stream",
     "text": [
      "2020-09-03 14:29:57.663 | INFO     | yspecies.selection:fit:82 - SEED: 1 | FOLD: 2 | VALIDATION_SPECIES: ['Macaca_fascicularis', 'Rhinopithecus_bieti']\n"
     ]
    },
    {
     "name": "stdout",
     "output_type": "stream",
     "text": [
      "Training until validation scores don't improve for 10 rounds\n",
      "Early stopping, best iteration is:\n",
      "[223]\tvalid_0's l1: 2.45169\tvalid_0's huber: 1.88675\tvalid_0's l2: 25.1789\n"
     ]
    },
    {
     "name": "stderr",
     "output_type": "stream",
     "text": [
      "2020-09-03 14:29:57.936 | INFO     | yspecies.selection:fit:82 - SEED: 1 | FOLD: 3 | VALIDATION_SPECIES: ['Gorilla_gorilla', 'Ovis_aries']\n"
     ]
    },
    {
     "name": "stdout",
     "output_type": "stream",
     "text": [
      "Training until validation scores don't improve for 10 rounds\n",
      "Early stopping, best iteration is:\n",
      "[226]\tvalid_0's l1: 5.32536\tvalid_0's huber: 4.46302\tvalid_0's l2: 117.64\n"
     ]
    },
    {
     "name": "stderr",
     "output_type": "stream",
     "text": [
      "2020-09-03 14:30:14.705 | INFO     | yspecies.selection:transform:226 - Metrics: \n",
      "Metrics(R2=0.9205818227435953, MAE=3.6577473842164876, MSE=55.74283738684812, huber=2.955508732449077)\n"
     ]
    },
    {
     "name": "stdout",
     "output_type": "stream",
     "text": [
      "2\n"
     ]
    },
    {
     "name": "stderr",
     "output_type": "stream",
     "text": [
      "2020-09-03 14:30:14.717 | INFO     | yspecies.selection:fit:78 - ===== fitting models with seed 2 =====\n",
      "2020-09-03 14:30:14.719 | INFO     | yspecies.selection:fit:79 - PARAMETERS:\n",
      "{'objective': 'regression', 'metric': {'mae', 'huber', 'mse'}, 'verbosity': -1, 'boosting_type': 'gbdt', 'lambda_l1': 1.0074040471792671, 'lambda_l2': 2.3500616173039672, 'max_leaves': 19, 'max_depth': 3, 'feature_fraction': 0.5168464794482679, 'bagging_fraction': 0.42259626867860933, 'learning_rate': 0.04901611652323495, 'min_data_in_leaf': 3, 'drop_rate': 0.16401872685861194, 'verbose': -1, 'seed': 1}\n",
      "2020-09-03 14:30:14.723 | INFO     | yspecies.selection:fit:82 - SEED: 2 | FOLD: 0 | VALIDATION_SPECIES: ['Rhinopithecus_bieti', 'Ursus_americanus']\n"
     ]
    },
    {
     "name": "stdout",
     "output_type": "stream",
     "text": [
      "[LightGBM] [Warning] verbosity is set=-1, verbose=-1 will be ignored. Current value: verbosity=-1\n",
      "Training until validation scores don't improve for 10 rounds\n",
      "Early stopping, best iteration is:\n",
      "[188]\tvalid_0's l1: 3.08563\tvalid_0's huber: 2.44105\tvalid_0's l2: 22.9739\n"
     ]
    },
    {
     "name": "stderr",
     "output_type": "stream",
     "text": [
      "2020-09-03 14:30:14.915 | INFO     | yspecies.selection:fit:82 - SEED: 2 | FOLD: 1 | VALIDATION_SPECIES: ['Aotus_nancymaae', 'Phascolarctos_cinereus']\n"
     ]
    },
    {
     "name": "stdout",
     "output_type": "stream",
     "text": [
      "Training until validation scores don't improve for 10 rounds\n",
      "[250]\tvalid_0's l1: 4.28437\tvalid_0's huber: 3.50303\tvalid_0's l2: 49.5883\n",
      "Did not meet early stopping. Best iteration is:\n",
      "[250]\tvalid_0's l1: 4.28437\tvalid_0's huber: 3.50303\tvalid_0's l2: 49.5883\n"
     ]
    },
    {
     "name": "stderr",
     "output_type": "stream",
     "text": [
      "2020-09-03 14:30:15.124 | INFO     | yspecies.selection:fit:82 - SEED: 2 | FOLD: 2 | VALIDATION_SPECIES: ['Vombatus_ursinus', 'Ailuropoda_melanoleuca']\n"
     ]
    },
    {
     "name": "stdout",
     "output_type": "stream",
     "text": [
      "Training until validation scores don't improve for 10 rounds\n",
      "Early stopping, best iteration is:\n",
      "[178]\tvalid_0's l1: 3.13114\tvalid_0's huber: 2.48687\tvalid_0's l2: 26.5396\n"
     ]
    },
    {
     "name": "stderr",
     "output_type": "stream",
     "text": [
      "2020-09-03 14:30:15.299 | INFO     | yspecies.selection:fit:82 - SEED: 2 | FOLD: 3 | VALIDATION_SPECIES: ['Rattus_norvegicus', 'Monodelphis_domestica']\n"
     ]
    },
    {
     "name": "stdout",
     "output_type": "stream",
     "text": [
      "Training until validation scores don't improve for 10 rounds\n",
      "[250]\tvalid_0's l1: 5.42369\tvalid_0's huber: 4.504\tvalid_0's l2: 61.8386\n",
      "Did not meet early stopping. Best iteration is:\n",
      "[249]\tvalid_0's l1: 5.422\tvalid_0's huber: 4.50256\tvalid_0's l2: 61.8145\n"
     ]
    },
    {
     "name": "stderr",
     "output_type": "stream",
     "text": [
      "2020-09-03 14:30:31.522 | INFO     | yspecies.selection:transform:226 - Metrics: \n",
      "Metrics(R2=0.935125678410041, MAE=3.9807871852495644, MSE=40.22909669626358, huber=3.2333688618864036)\n"
     ]
    },
    {
     "name": "stdout",
     "output_type": "stream",
     "text": [
      "3\n"
     ]
    },
    {
     "name": "stderr",
     "output_type": "stream",
     "text": [
      "2020-09-03 14:30:31.530 | INFO     | yspecies.selection:fit:78 - ===== fitting models with seed 3 =====\n",
      "2020-09-03 14:30:31.532 | INFO     | yspecies.selection:fit:79 - PARAMETERS:\n",
      "{'objective': 'regression', 'metric': {'mae', 'huber', 'mse'}, 'verbosity': -1, 'boosting_type': 'gbdt', 'lambda_l1': 1.0074040471792671, 'lambda_l2': 2.3500616173039672, 'max_leaves': 19, 'max_depth': 3, 'feature_fraction': 0.5168464794482679, 'bagging_fraction': 0.42259626867860933, 'learning_rate': 0.04901611652323495, 'min_data_in_leaf': 3, 'drop_rate': 0.16401872685861194, 'verbose': -1, 'seed': 2}\n",
      "2020-09-03 14:30:31.537 | INFO     | yspecies.selection:fit:82 - SEED: 3 | FOLD: 0 | VALIDATION_SPECIES: ['Microcebus_murinus', 'Pan_paniscus']\n"
     ]
    },
    {
     "name": "stdout",
     "output_type": "stream",
     "text": [
      "[LightGBM] [Warning] verbosity is set=-1, verbose=-1 will be ignored. Current value: verbosity=-1\n",
      "Training until validation scores don't improve for 10 rounds\n",
      "Early stopping, best iteration is:\n",
      "[137]\tvalid_0's l1: 3.13228\tvalid_0's huber: 2.4662\tvalid_0's l2: 22.9427\n"
     ]
    },
    {
     "name": "stderr",
     "output_type": "stream",
     "text": [
      "2020-09-03 14:30:31.704 | INFO     | yspecies.selection:fit:82 - SEED: 3 | FOLD: 1 | VALIDATION_SPECIES: ['Ursus_americanus', 'Gorilla_gorilla']\n"
     ]
    },
    {
     "name": "stdout",
     "output_type": "stream",
     "text": [
      "Training until validation scores don't improve for 10 rounds\n",
      "[250]\tvalid_0's l1: 6.14832\tvalid_0's huber: 5.17981\tvalid_0's l2: 106.831\n",
      "Did not meet early stopping. Best iteration is:\n",
      "[246]\tvalid_0's l1: 6.14711\tvalid_0's huber: 5.17864\tvalid_0's l2: 106.841\n"
     ]
    },
    {
     "name": "stderr",
     "output_type": "stream",
     "text": [
      "2020-09-03 14:30:31.939 | INFO     | yspecies.selection:fit:82 - SEED: 3 | FOLD: 2 | VALIDATION_SPECIES: ['Bos_taurus', 'Capra_hircus']\n"
     ]
    },
    {
     "name": "stdout",
     "output_type": "stream",
     "text": [
      "Training until validation scores don't improve for 10 rounds\n",
      "[250]\tvalid_0's l1: 3.2417\tvalid_0's huber: 2.57935\tvalid_0's l2: 32.4761\n",
      "Did not meet early stopping. Best iteration is:\n",
      "[250]\tvalid_0's l1: 3.2417\tvalid_0's huber: 2.57935\tvalid_0's l2: 32.4761\n"
     ]
    },
    {
     "name": "stderr",
     "output_type": "stream",
     "text": [
      "2020-09-03 14:30:32.220 | INFO     | yspecies.selection:fit:82 - SEED: 3 | FOLD: 3 | VALIDATION_SPECIES: ['Rhinolophus_ferrumequinum', 'Mus_musculus']\n"
     ]
    },
    {
     "name": "stdout",
     "output_type": "stream",
     "text": [
      "Training until validation scores don't improve for 10 rounds\n",
      "Early stopping, best iteration is:\n",
      "[196]\tvalid_0's l1: 2.63249\tvalid_0's huber: 2.02579\tvalid_0's l2: 44.6672\n"
     ]
    },
    {
     "name": "stderr",
     "output_type": "stream",
     "text": [
      "2020-09-03 14:30:47.020 | INFO     | yspecies.selection:transform:226 - Metrics: \n",
      "Metrics(R2=0.9283460471146046, MAE=3.7883976513858677, MSE=51.73186243707668, huber=3.062015025626295)\n"
     ]
    },
    {
     "name": "stdout",
     "output_type": "stream",
     "text": [
      "4\n"
     ]
    },
    {
     "name": "stderr",
     "output_type": "stream",
     "text": [
      "2020-09-03 14:30:47.028 | INFO     | yspecies.selection:fit:78 - ===== fitting models with seed 4 =====\n",
      "2020-09-03 14:30:47.030 | INFO     | yspecies.selection:fit:79 - PARAMETERS:\n",
      "{'objective': 'regression', 'metric': {'mae', 'huber', 'mse'}, 'verbosity': -1, 'boosting_type': 'gbdt', 'lambda_l1': 1.0074040471792671, 'lambda_l2': 2.3500616173039672, 'max_leaves': 19, 'max_depth': 3, 'feature_fraction': 0.5168464794482679, 'bagging_fraction': 0.42259626867860933, 'learning_rate': 0.04901611652323495, 'min_data_in_leaf': 3, 'drop_rate': 0.16401872685861194, 'verbose': -1, 'seed': 3}\n",
      "2020-09-03 14:30:47.034 | INFO     | yspecies.selection:fit:82 - SEED: 4 | FOLD: 0 | VALIDATION_SPECIES: ['Macaca_fascicularis', 'Pan_troglodytes']\n"
     ]
    },
    {
     "name": "stdout",
     "output_type": "stream",
     "text": [
      "[LightGBM] [Warning] verbosity is set=-1, verbose=-1 will be ignored. Current value: verbosity=-1\n",
      "Training until validation scores don't improve for 10 rounds\n",
      "[250]\tvalid_0's l1: 2.92153\tvalid_0's huber: 2.30045\tvalid_0's l2: 27.3402\n",
      "Did not meet early stopping. Best iteration is:\n",
      "[249]\tvalid_0's l1: 2.92073\tvalid_0's huber: 2.29957\tvalid_0's l2: 27.3332\n"
     ]
    },
    {
     "name": "stderr",
     "output_type": "stream",
     "text": [
      "2020-09-03 14:30:47.241 | INFO     | yspecies.selection:fit:82 - SEED: 4 | FOLD: 1 | VALIDATION_SPECIES: ['Otolemur_garnettii', 'Ursus_americanus']\n"
     ]
    },
    {
     "name": "stdout",
     "output_type": "stream",
     "text": [
      "Training until validation scores don't improve for 10 rounds\n",
      "Early stopping, best iteration is:\n",
      "[178]\tvalid_0's l1: 3.54171\tvalid_0's huber: 2.86151\tvalid_0's l2: 54.0346\n"
     ]
    },
    {
     "name": "stderr",
     "output_type": "stream",
     "text": [
      "2020-09-03 14:30:47.396 | INFO     | yspecies.selection:fit:82 - SEED: 4 | FOLD: 2 | VALIDATION_SPECIES: ['Heterocephalus_glaber', 'Cavia_aperea']\n"
     ]
    },
    {
     "name": "stdout",
     "output_type": "stream",
     "text": [
      "Training until validation scores don't improve for 10 rounds\n",
      "[250]\tvalid_0's l1: 3.4597\tvalid_0's huber: 2.78119\tvalid_0's l2: 28.6713\n",
      "Did not meet early stopping. Best iteration is:\n",
      "[249]\tvalid_0's l1: 3.45958\tvalid_0's huber: 2.78102\tvalid_0's l2: 28.6697\n"
     ]
    },
    {
     "name": "stderr",
     "output_type": "stream",
     "text": [
      "2020-09-03 14:30:47.619 | INFO     | yspecies.selection:fit:82 - SEED: 4 | FOLD: 3 | VALIDATION_SPECIES: ['Pan_paniscus', 'Gorilla_gorilla']\n"
     ]
    },
    {
     "name": "stdout",
     "output_type": "stream",
     "text": [
      "Training until validation scores don't improve for 10 rounds\n",
      "Early stopping, best iteration is:\n",
      "[237]\tvalid_0's l1: 6.28706\tvalid_0's huber: 5.32485\tvalid_0's l2: 126.936\n"
     ]
    },
    {
     "name": "stderr",
     "output_type": "stream",
     "text": [
      "2020-09-03 14:31:05.226 | INFO     | yspecies.selection:transform:226 - Metrics: \n",
      "Metrics(R2=0.9196901685477652, MAE=4.052270302165196, MSE=59.24340042416274, huber=3.317024526180605)\n"
     ]
    },
    {
     "name": "stdout",
     "output_type": "stream",
     "text": [
      "5\n"
     ]
    },
    {
     "name": "stderr",
     "output_type": "stream",
     "text": [
      "2020-09-03 14:31:05.234 | INFO     | yspecies.selection:fit:78 - ===== fitting models with seed 5 =====\n",
      "2020-09-03 14:31:05.235 | INFO     | yspecies.selection:fit:79 - PARAMETERS:\n",
      "{'objective': 'regression', 'metric': {'mae', 'huber', 'mse'}, 'verbosity': -1, 'boosting_type': 'gbdt', 'lambda_l1': 1.0074040471792671, 'lambda_l2': 2.3500616173039672, 'max_leaves': 19, 'max_depth': 3, 'feature_fraction': 0.5168464794482679, 'bagging_fraction': 0.42259626867860933, 'learning_rate': 0.04901611652323495, 'min_data_in_leaf': 3, 'drop_rate': 0.16401872685861194, 'verbose': -1, 'seed': 4}\n",
      "2020-09-03 14:31:05.240 | INFO     | yspecies.selection:fit:82 - SEED: 5 | FOLD: 0 | VALIDATION_SPECIES: ['Mus_spicilegus', 'Canis_lupus_familiaris']\n"
     ]
    },
    {
     "name": "stdout",
     "output_type": "stream",
     "text": [
      "[LightGBM] [Warning] verbosity is set=-1, verbose=-1 will be ignored. Current value: verbosity=-1\n",
      "Training until validation scores don't improve for 10 rounds\n",
      "[250]\tvalid_0's l1: 2.62491\tvalid_0's huber: 2.02204\tvalid_0's l2: 21.0746\n",
      "Did not meet early stopping. Best iteration is:\n",
      "[250]\tvalid_0's l1: 2.62491\tvalid_0's huber: 2.02204\tvalid_0's l2: 21.0746\n"
     ]
    },
    {
     "name": "stderr",
     "output_type": "stream",
     "text": [
      "2020-09-03 14:31:05.478 | INFO     | yspecies.selection:fit:82 - SEED: 5 | FOLD: 1 | VALIDATION_SPECIES: ['Ovis_aries', 'Heterocephalus_glaber']\n"
     ]
    },
    {
     "name": "stdout",
     "output_type": "stream",
     "text": [
      "Training until validation scores don't improve for 10 rounds\n",
      "Early stopping, best iteration is:\n",
      "[189]\tvalid_0's l1: 4.31679\tvalid_0's huber: 3.54361\tvalid_0's l2: 121.877\n"
     ]
    },
    {
     "name": "stderr",
     "output_type": "stream",
     "text": [
      "2020-09-03 14:31:05.864 | INFO     | yspecies.selection:fit:82 - SEED: 5 | FOLD: 2 | VALIDATION_SPECIES: ['Ursus_americanus', 'Oryctolagus_cuniculus']\n"
     ]
    },
    {
     "name": "stdout",
     "output_type": "stream",
     "text": [
      "Training until validation scores don't improve for 10 rounds\n",
      "Early stopping, best iteration is:\n",
      "[236]\tvalid_0's l1: 4.22317\tvalid_0's huber: 3.49052\tvalid_0's l2: 72.5099\n"
     ]
    },
    {
     "name": "stderr",
     "output_type": "stream",
     "text": [
      "2020-09-03 14:31:06.097 | INFO     | yspecies.selection:fit:82 - SEED: 5 | FOLD: 3 | VALIDATION_SPECIES: ['Cavia_aperea', 'Ailuropoda_melanoleuca']\n"
     ]
    },
    {
     "name": "stdout",
     "output_type": "stream",
     "text": [
      "Training until validation scores don't improve for 10 rounds\n",
      "[250]\tvalid_0's l1: 3.84501\tvalid_0's huber: 3.14659\tvalid_0's l2: 76.9588\n",
      "Did not meet early stopping. Best iteration is:\n",
      "[250]\tvalid_0's l1: 3.84501\tvalid_0's huber: 3.14659\tvalid_0's l2: 76.9588\n"
     ]
    },
    {
     "name": "stderr",
     "output_type": "stream",
     "text": [
      "2020-09-03 14:31:26.764 | INFO     | yspecies.selection:transform:226 - Metrics: \n",
      "Metrics(R2=0.898586576780345, MAE=3.752470910520861, MSE=73.10511649461613, huber=3.049345759981087)\n"
     ]
    },
    {
     "name": "stdout",
     "output_type": "stream",
     "text": [
      "6\n"
     ]
    },
    {
     "name": "stderr",
     "output_type": "stream",
     "text": [
      "2020-09-03 14:31:26.783 | INFO     | yspecies.selection:fit:78 - ===== fitting models with seed 6 =====\n",
      "2020-09-03 14:31:26.784 | INFO     | yspecies.selection:fit:79 - PARAMETERS:\n",
      "{'objective': 'regression', 'metric': {'mae', 'huber', 'mse'}, 'verbosity': -1, 'boosting_type': 'gbdt', 'lambda_l1': 1.0074040471792671, 'lambda_l2': 2.3500616173039672, 'max_leaves': 19, 'max_depth': 3, 'feature_fraction': 0.5168464794482679, 'bagging_fraction': 0.42259626867860933, 'learning_rate': 0.04901611652323495, 'min_data_in_leaf': 3, 'drop_rate': 0.16401872685861194, 'verbose': -1, 'seed': 5}\n",
      "2020-09-03 14:31:26.788 | INFO     | yspecies.selection:fit:82 - SEED: 6 | FOLD: 0 | VALIDATION_SPECIES: ['Rhinolophus_ferrumequinum', 'Heterocephalus_glaber']\n"
     ]
    },
    {
     "name": "stdout",
     "output_type": "stream",
     "text": [
      "[LightGBM] [Warning] verbosity is set=-1, verbose=-1 will be ignored. Current value: verbosity=-1\n",
      "Training until validation scores don't improve for 10 rounds\n",
      "Early stopping, best iteration is:\n",
      "[192]\tvalid_0's l1: 3.31745\tvalid_0's huber: 2.67572\tvalid_0's l2: 28.2906\n"
     ]
    },
    {
     "name": "stderr",
     "output_type": "stream",
     "text": [
      "2020-09-03 14:31:26.985 | INFO     | yspecies.selection:fit:82 - SEED: 6 | FOLD: 1 | VALIDATION_SPECIES: ['Mus_spicilegus', 'Suricata_suricatta']\n"
     ]
    },
    {
     "name": "stdout",
     "output_type": "stream",
     "text": [
      "Training until validation scores don't improve for 10 rounds\n",
      "Early stopping, best iteration is:\n",
      "[238]\tvalid_0's l1: 3.52159\tvalid_0's huber: 2.85482\tvalid_0's l2: 39.6552\n"
     ]
    },
    {
     "name": "stderr",
     "output_type": "stream",
     "text": [
      "2020-09-03 14:31:27.218 | INFO     | yspecies.selection:fit:82 - SEED: 6 | FOLD: 2 | VALIDATION_SPECIES: ['Rhinopithecus_bieti', 'Ovis_aries']\n"
     ]
    },
    {
     "name": "stdout",
     "output_type": "stream",
     "text": [
      "Training until validation scores don't improve for 10 rounds\n",
      "[250]\tvalid_0's l1: 2.43888\tvalid_0's huber: 1.88749\tvalid_0's l2: 21.9594\n",
      "Did not meet early stopping. Best iteration is:\n",
      "[247]\tvalid_0's l1: 2.4378\tvalid_0's huber: 1.88697\tvalid_0's l2: 21.971\n"
     ]
    },
    {
     "name": "stderr",
     "output_type": "stream",
     "text": [
      "2020-09-03 14:31:27.465 | INFO     | yspecies.selection:fit:82 - SEED: 6 | FOLD: 3 | VALIDATION_SPECIES: ['Cavia_porcellus', 'Pan_troglodytes']\n"
     ]
    },
    {
     "name": "stdout",
     "output_type": "stream",
     "text": [
      "Training until validation scores don't improve for 10 rounds\n",
      "Early stopping, best iteration is:\n",
      "[232]\tvalid_0's l1: 3.30961\tvalid_0's huber: 2.64048\tvalid_0's l2: 56.8266\n"
     ]
    },
    {
     "name": "stderr",
     "output_type": "stream",
     "text": [
      "2020-09-03 14:31:46.499 | INFO     | yspecies.selection:transform:226 - Metrics: \n",
      "Metrics(R2=0.9482118238622015, MAE=3.1466124983616868, MSE=36.68584714603189, huber=2.51229033200864)\n"
     ]
    },
    {
     "name": "stdout",
     "output_type": "stream",
     "text": [
      "7\n"
     ]
    },
    {
     "name": "stderr",
     "output_type": "stream",
     "text": [
      "2020-09-03 14:31:46.507 | INFO     | yspecies.selection:fit:78 - ===== fitting models with seed 7 =====\n",
      "2020-09-03 14:31:46.509 | INFO     | yspecies.selection:fit:79 - PARAMETERS:\n",
      "{'objective': 'regression', 'metric': {'mae', 'huber', 'mse'}, 'verbosity': -1, 'boosting_type': 'gbdt', 'lambda_l1': 1.0074040471792671, 'lambda_l2': 2.3500616173039672, 'max_leaves': 19, 'max_depth': 3, 'feature_fraction': 0.5168464794482679, 'bagging_fraction': 0.42259626867860933, 'learning_rate': 0.04901611652323495, 'min_data_in_leaf': 3, 'drop_rate': 0.16401872685861194, 'verbose': -1, 'seed': 6}\n",
      "2020-09-03 14:31:46.514 | INFO     | yspecies.selection:fit:82 - SEED: 7 | FOLD: 0 | VALIDATION_SPECIES: ['Macaca_mulatta', 'Cavia_porcellus']\n"
     ]
    },
    {
     "name": "stdout",
     "output_type": "stream",
     "text": [
      "[LightGBM] [Warning] verbosity is set=-1, verbose=-1 will be ignored. Current value: verbosity=-1\n",
      "Training until validation scores don't improve for 10 rounds\n",
      "[250]\tvalid_0's l1: 3.06953\tvalid_0's huber: 2.41807\tvalid_0's l2: 23.6196\n",
      "Did not meet early stopping. Best iteration is:\n",
      "[245]\tvalid_0's l1: 3.06692\tvalid_0's huber: 2.41513\tvalid_0's l2: 23.5927\n"
     ]
    },
    {
     "name": "stderr",
     "output_type": "stream",
     "text": [
      "2020-09-03 14:31:46.819 | INFO     | yspecies.selection:fit:82 - SEED: 7 | FOLD: 1 | VALIDATION_SPECIES: ['Pan_paniscus', 'Capra_hircus']\n"
     ]
    },
    {
     "name": "stdout",
     "output_type": "stream",
     "text": [
      "Training until validation scores don't improve for 10 rounds\n",
      "[250]\tvalid_0's l1: 3.41941\tvalid_0's huber: 2.73347\tvalid_0's l2: 41.7624\n",
      "Did not meet early stopping. Best iteration is:\n",
      "[249]\tvalid_0's l1: 3.41935\tvalid_0's huber: 2.73366\tvalid_0's l2: 41.7616\n"
     ]
    },
    {
     "name": "stderr",
     "output_type": "stream",
     "text": [
      "2020-09-03 14:31:47.067 | INFO     | yspecies.selection:fit:82 - SEED: 7 | FOLD: 2 | VALIDATION_SPECIES: ['Otolemur_garnettii', 'Ictidomys_tridecemlineatus']\n"
     ]
    },
    {
     "name": "stdout",
     "output_type": "stream",
     "text": [
      "Training until validation scores don't improve for 10 rounds\n",
      "[250]\tvalid_0's l1: 3.72646\tvalid_0's huber: 3.03437\tvalid_0's l2: 38.5946\n",
      "Did not meet early stopping. Best iteration is:\n",
      "[249]\tvalid_0's l1: 3.7261\tvalid_0's huber: 3.03411\tvalid_0's l2: 38.5969\n"
     ]
    },
    {
     "name": "stderr",
     "output_type": "stream",
     "text": [
      "2020-09-03 14:31:47.352 | INFO     | yspecies.selection:fit:82 - SEED: 7 | FOLD: 3 | VALIDATION_SPECIES: ['Canis_lupus_familiaris', 'Ursus_americanus']\n"
     ]
    },
    {
     "name": "stdout",
     "output_type": "stream",
     "text": [
      "Training until validation scores don't improve for 10 rounds\n",
      "[250]\tvalid_0's l1: 3.51133\tvalid_0's huber: 2.8442\tvalid_0's l2: 57.4674\n",
      "Did not meet early stopping. Best iteration is:\n",
      "[250]\tvalid_0's l1: 3.51133\tvalid_0's huber: 2.8442\tvalid_0's l2: 57.4674\n"
     ]
    },
    {
     "name": "stderr",
     "output_type": "stream",
     "text": [
      "2020-09-03 14:32:05.679 | INFO     | yspecies.selection:transform:226 - Metrics: \n",
      "Metrics(R2=0.9435422721937319, MAE=3.430923989881907, MSE=40.354636419424764, huber=2.7572702671564873)\n"
     ]
    },
    {
     "name": "stdout",
     "output_type": "stream",
     "text": [
      "8\n"
     ]
    },
    {
     "name": "stderr",
     "output_type": "stream",
     "text": [
      "2020-09-03 14:32:06.030 | INFO     | yspecies.selection:fit:78 - ===== fitting models with seed 8 =====\n",
      "2020-09-03 14:32:06.033 | INFO     | yspecies.selection:fit:79 - PARAMETERS:\n",
      "{'objective': 'regression', 'metric': {'mae', 'huber', 'mse'}, 'verbosity': -1, 'boosting_type': 'gbdt', 'lambda_l1': 1.0074040471792671, 'lambda_l2': 2.3500616173039672, 'max_leaves': 19, 'max_depth': 3, 'feature_fraction': 0.5168464794482679, 'bagging_fraction': 0.42259626867860933, 'learning_rate': 0.04901611652323495, 'min_data_in_leaf': 3, 'drop_rate': 0.16401872685861194, 'verbose': -1, 'seed': 7}\n",
      "2020-09-03 14:32:06.038 | INFO     | yspecies.selection:fit:82 - SEED: 8 | FOLD: 0 | VALIDATION_SPECIES: ['Pan_paniscus', 'Suricata_suricatta']\n"
     ]
    },
    {
     "name": "stdout",
     "output_type": "stream",
     "text": [
      "[LightGBM] [Warning] verbosity is set=-1, verbose=-1 will be ignored. Current value: verbosity=-1\n",
      "Training until validation scores don't improve for 10 rounds\n",
      "Early stopping, best iteration is:\n",
      "[230]\tvalid_0's l1: 2.61666\tvalid_0's huber: 2.0386\tvalid_0's l2: 23.3156\n"
     ]
    },
    {
     "name": "stderr",
     "output_type": "stream",
     "text": [
      "2020-09-03 14:32:06.289 | INFO     | yspecies.selection:fit:82 - SEED: 8 | FOLD: 1 | VALIDATION_SPECIES: ['Macaca_fascicularis', 'Tupaia_belangeri']\n"
     ]
    },
    {
     "name": "stdout",
     "output_type": "stream",
     "text": [
      "Training until validation scores don't improve for 10 rounds\n",
      "[250]\tvalid_0's l1: 3.24916\tvalid_0's huber: 2.59245\tvalid_0's l2: 33.3753\n",
      "Did not meet early stopping. Best iteration is:\n",
      "[250]\tvalid_0's l1: 3.24916\tvalid_0's huber: 2.59245\tvalid_0's l2: 33.3753\n"
     ]
    },
    {
     "name": "stderr",
     "output_type": "stream",
     "text": [
      "2020-09-03 14:32:06.507 | INFO     | yspecies.selection:fit:82 - SEED: 8 | FOLD: 2 | VALIDATION_SPECIES: ['Ursus_americanus', 'Capra_hircus']\n"
     ]
    },
    {
     "name": "stdout",
     "output_type": "stream",
     "text": [
      "Training until validation scores don't improve for 10 rounds\n",
      "[250]\tvalid_0's l1: 2.85831\tvalid_0's huber: 2.26348\tvalid_0's l2: 30.2604\n",
      "Did not meet early stopping. Best iteration is:\n",
      "[247]\tvalid_0's l1: 2.85742\tvalid_0's huber: 2.26308\tvalid_0's l2: 30.2824\n"
     ]
    },
    {
     "name": "stderr",
     "output_type": "stream",
     "text": [
      "2020-09-03 14:32:06.734 | INFO     | yspecies.selection:fit:82 - SEED: 8 | FOLD: 3 | VALIDATION_SPECIES: ['Bos_taurus', 'Rhinolophus_ferrumequinum']\n"
     ]
    },
    {
     "name": "stdout",
     "output_type": "stream",
     "text": [
      "Training until validation scores don't improve for 10 rounds\n",
      "[250]\tvalid_0's l1: 2.92045\tvalid_0's huber: 2.31765\tvalid_0's l2: 44.2661\n",
      "Did not meet early stopping. Best iteration is:\n",
      "[250]\tvalid_0's l1: 2.92045\tvalid_0's huber: 2.31765\tvalid_0's l2: 44.2661\n"
     ]
    },
    {
     "name": "stderr",
     "output_type": "stream",
     "text": [
      "2020-09-03 14:32:27.152 | INFO     | yspecies.selection:transform:226 - Metrics: \n",
      "Metrics(R2=0.953569935819149, MAE=2.910923223942423, MSE=32.80984896867938, huber=2.3029296347903774)\n"
     ]
    },
    {
     "name": "stdout",
     "output_type": "stream",
     "text": [
      "9\n"
     ]
    },
    {
     "name": "stderr",
     "output_type": "stream",
     "text": [
      "2020-09-03 14:32:27.162 | INFO     | yspecies.selection:fit:78 - ===== fitting models with seed 9 =====\n",
      "2020-09-03 14:32:27.164 | INFO     | yspecies.selection:fit:79 - PARAMETERS:\n",
      "{'objective': 'regression', 'metric': {'mae', 'huber', 'mse'}, 'verbosity': -1, 'boosting_type': 'gbdt', 'lambda_l1': 1.0074040471792671, 'lambda_l2': 2.3500616173039672, 'max_leaves': 19, 'max_depth': 3, 'feature_fraction': 0.5168464794482679, 'bagging_fraction': 0.42259626867860933, 'learning_rate': 0.04901611652323495, 'min_data_in_leaf': 3, 'drop_rate': 0.16401872685861194, 'verbose': -1, 'seed': 8}\n",
      "2020-09-03 14:32:27.168 | INFO     | yspecies.selection:fit:82 - SEED: 9 | FOLD: 0 | VALIDATION_SPECIES: ['Ictidomys_tridecemlineatus', 'Aotus_nancymaae']\n"
     ]
    },
    {
     "name": "stdout",
     "output_type": "stream",
     "text": [
      "[LightGBM] [Warning] verbosity is set=-1, verbose=-1 will be ignored. Current value: verbosity=-1\n",
      "Training until validation scores don't improve for 10 rounds\n",
      "Early stopping, best iteration is:\n",
      "[144]\tvalid_0's l1: 3.28223\tvalid_0's huber: 2.64041\tvalid_0's l2: 29.3075\n"
     ]
    },
    {
     "name": "stderr",
     "output_type": "stream",
     "text": [
      "2020-09-03 14:32:27.350 | INFO     | yspecies.selection:fit:82 - SEED: 9 | FOLD: 1 | VALIDATION_SPECIES: ['Pan_troglodytes', 'Oryctolagus_cuniculus']\n"
     ]
    },
    {
     "name": "stdout",
     "output_type": "stream",
     "text": [
      "Training until validation scores don't improve for 10 rounds\n",
      "[250]\tvalid_0's l1: 5.0381\tvalid_0's huber: 4.19357\tvalid_0's l2: 83.3787\n",
      "Did not meet early stopping. Best iteration is:\n",
      "[250]\tvalid_0's l1: 5.0381\tvalid_0's huber: 4.19357\tvalid_0's l2: 83.3787\n"
     ]
    },
    {
     "name": "stderr",
     "output_type": "stream",
     "text": [
      "2020-09-03 14:32:27.631 | INFO     | yspecies.selection:fit:82 - SEED: 9 | FOLD: 2 | VALIDATION_SPECIES: ['Mesocricetus_auratus', 'Meriones_unguiculatus']\n"
     ]
    },
    {
     "name": "stdout",
     "output_type": "stream",
     "text": [
      "Training until validation scores don't improve for 10 rounds\n",
      "Early stopping, best iteration is:\n",
      "[125]\tvalid_0's l1: 4.11175\tvalid_0's huber: 3.34987\tvalid_0's l2: 43.9028\n"
     ]
    },
    {
     "name": "stderr",
     "output_type": "stream",
     "text": [
      "2020-09-03 14:32:27.799 | INFO     | yspecies.selection:fit:82 - SEED: 9 | FOLD: 3 | VALIDATION_SPECIES: ['Gorilla_gorilla', 'Microcebus_murinus']\n"
     ]
    },
    {
     "name": "stdout",
     "output_type": "stream",
     "text": [
      "Training until validation scores don't improve for 10 rounds\n",
      "Early stopping, best iteration is:\n",
      "[168]\tvalid_0's l1: 4.92699\tvalid_0's huber: 4.09346\tvalid_0's l2: 90.5699\n"
     ]
    },
    {
     "name": "stderr",
     "output_type": "stream",
     "text": [
      "2020-09-03 14:32:40.482 | INFO     | yspecies.selection:transform:226 - Metrics: \n",
      "Metrics(R2=0.9162934459238075, MAE=4.339765703640669, MSE=61.78972493968378, huber=3.564124498825022)\n",
      "MultiObjectiveTrial is experimental (supported from v1.4.0). The interface can change in the future.\n",
      "MultiObjectiveStudy is experimental (supported from v1.4.0). The interface can change in the future.\n",
      "[I 2020-09-03 14:32:40,958] Trial 492 finished with values: [0.9260238875768044, 3.0477530258961645, 0.5030799787636506] with parameters: {'boosting_type': 'gbdt', 'lambda_l1': 1.0074040471792671, 'lambda_l2': 2.3500616173039672, 'max_leaves': 19, 'max_depth': 3, 'feature_fraction': 0.5168464794482679, 'bagging_fraction': 0.42259626867860933, 'learning_rate': 0.04901611652323495, 'min_data_in_leaf': 3, 'drop_rate': 0.16401872685861194}.\n",
      "MultiObjectiveStudy is experimental (supported from v1.4.0). The interface can change in the future.\n",
      "FrozenMultiObjectiveTrial is experimental (supported from v1.4.0). The interface can change in the future.\n",
      "MultiObjectiveStudy is experimental (supported from v1.4.0). The interface can change in the future.\n",
      "FrozenMultiObjectiveTrial is experimental (supported from v1.4.0). The interface can change in the future.\n",
      "FrozenMultiObjectiveTrial is experimental (supported from v1.4.0). The interface can change in the future.\n",
      "MultiObjectiveTrial is experimental (supported from v1.4.0). The interface can change in the future.\n",
      "MultiObjectiveStudy is experimental (supported from v1.4.0). The interface can change in the future.\n",
      "FrozenMultiObjectiveTrial is experimental (supported from v1.4.0). The interface can change in the future.\n"
     ]
    },
    {
     "name": "stdout",
     "output_type": "stream",
     "text": [
      "0\n"
     ]
    },
    {
     "name": "stderr",
     "output_type": "stream",
     "text": [
      "2020-09-03 14:32:41.220 | INFO     | yspecies.selection:fit:78 - ===== fitting models with seed 0 =====\n",
      "2020-09-03 14:32:41.223 | INFO     | yspecies.selection:fit:79 - PARAMETERS:\n",
      "{'objective': 'regression', 'metric': {'mae', 'huber', 'mse'}, 'verbosity': -1, 'boosting_type': 'dart', 'lambda_l1': 1.897969150602935, 'lambda_l2': 0.23124649264263056, 'max_leaves': 20, 'max_depth': 3, 'feature_fraction': 0.9789287509079786, 'bagging_fraction': 0.8082178403494868, 'learning_rate': 0.09455981821813096, 'min_data_in_leaf': 3, 'drop_rate': 0.14372450278551158, 'verbose': -1}\n",
      "2020-09-03 14:32:41.228 | INFO     | yspecies.selection:fit:82 - SEED: 0 | FOLD: 0 | VALIDATION_SPECIES: ['Gorilla_gorilla', 'Pan_paniscus']\n"
     ]
    },
    {
     "name": "stdout",
     "output_type": "stream",
     "text": [
      "[LightGBM] [Warning] verbosity is set=-1, verbose=-1 will be ignored. Current value: verbosity=-1\n"
     ]
    },
    {
     "name": "stderr",
     "output_type": "stream",
     "text": [
      "Early stopping is not available in dart mode\n"
     ]
    },
    {
     "name": "stdout",
     "output_type": "stream",
     "text": [
      "[250]\tvalid_0's l1: 9.28305\tvalid_0's huber: 8.00032\tvalid_0's l2: 248.431\n"
     ]
    },
    {
     "name": "stderr",
     "output_type": "stream",
     "text": [
      "2020-09-03 14:32:41.754 | INFO     | yspecies.selection:fit:82 - SEED: 0 | FOLD: 1 | VALIDATION_SPECIES: ['Heterocephalus_glaber', 'Capra_hircus']\n"
     ]
    },
    {
     "name": "stdout",
     "output_type": "stream",
     "text": [
      "[250]\tvalid_0's l1: 3.99435\tvalid_0's huber: 3.24894\tvalid_0's l2: 54.1468\n"
     ]
    },
    {
     "name": "stderr",
     "output_type": "stream",
     "text": [
      "2020-09-03 14:32:42.331 | INFO     | yspecies.selection:fit:82 - SEED: 0 | FOLD: 2 | VALIDATION_SPECIES: ['Bos_taurus', 'Otolemur_garnettii']\n"
     ]
    },
    {
     "name": "stdout",
     "output_type": "stream",
     "text": [
      "[250]\tvalid_0's l1: 3.30534\tvalid_0's huber: 2.6489\tvalid_0's l2: 31.3931\n"
     ]
    },
    {
     "name": "stderr",
     "output_type": "stream",
     "text": [
      "2020-09-03 14:32:43.129 | INFO     | yspecies.selection:fit:82 - SEED: 0 | FOLD: 3 | VALIDATION_SPECIES: ['Macaca_nemestrina', 'Microcebus_murinus']\n"
     ]
    },
    {
     "name": "stdout",
     "output_type": "stream",
     "text": [
      "[250]\tvalid_0's l1: 3.26104\tvalid_0's huber: 2.59538\tvalid_0's l2: 97.3572\n"
     ]
    },
    {
     "name": "stderr",
     "output_type": "stream",
     "text": [
      "2020-09-03 14:32:49.954 | INFO     | yspecies.selection:transform:226 - Metrics: \n",
      "Metrics(R2=0.8558146383453751, MAE=4.960944843585777, MSE=107.83213158335562, huber=4.1233840740185)\n"
     ]
    },
    {
     "name": "stdout",
     "output_type": "stream",
     "text": [
      "1\n"
     ]
    },
    {
     "name": "stderr",
     "output_type": "stream",
     "text": [
      "2020-09-03 14:32:49.964 | INFO     | yspecies.selection:fit:78 - ===== fitting models with seed 1 =====\n",
      "2020-09-03 14:32:49.965 | INFO     | yspecies.selection:fit:79 - PARAMETERS:\n",
      "{'objective': 'regression', 'metric': {'mae', 'huber', 'mse'}, 'verbosity': -1, 'boosting_type': 'dart', 'lambda_l1': 1.897969150602935, 'lambda_l2': 0.23124649264263056, 'max_leaves': 20, 'max_depth': 3, 'feature_fraction': 0.9789287509079786, 'bagging_fraction': 0.8082178403494868, 'learning_rate': 0.09455981821813096, 'min_data_in_leaf': 3, 'drop_rate': 0.14372450278551158, 'verbose': -1, 'seed': 0}\n",
      "2020-09-03 14:32:49.969 | INFO     | yspecies.selection:fit:82 - SEED: 1 | FOLD: 0 | VALIDATION_SPECIES: ['Felis_catus', 'Ursus_americanus']\n"
     ]
    },
    {
     "name": "stdout",
     "output_type": "stream",
     "text": [
      "[LightGBM] [Warning] verbosity is set=-1, verbose=-1 will be ignored. Current value: verbosity=-1\n"
     ]
    },
    {
     "name": "stderr",
     "output_type": "stream",
     "text": [
      "Early stopping is not available in dart mode\n"
     ]
    },
    {
     "name": "stdout",
     "output_type": "stream",
     "text": [
      "[250]\tvalid_0's l1: 3.44904\tvalid_0's huber: 2.75956\tvalid_0's l2: 32.7843\n"
     ]
    },
    {
     "name": "stderr",
     "output_type": "stream",
     "text": [
      "2020-09-03 14:32:50.465 | INFO     | yspecies.selection:fit:82 - SEED: 1 | FOLD: 1 | VALIDATION_SPECIES: ['Heterocephalus_glaber', 'Vombatus_ursinus']\n"
     ]
    },
    {
     "name": "stdout",
     "output_type": "stream",
     "text": [
      "[250]\tvalid_0's l1: 4.37952\tvalid_0's huber: 3.59016\tvalid_0's l2: 68.6413\n"
     ]
    },
    {
     "name": "stderr",
     "output_type": "stream",
     "text": [
      "2020-09-03 14:32:51.016 | INFO     | yspecies.selection:fit:82 - SEED: 1 | FOLD: 2 | VALIDATION_SPECIES: ['Macaca_fascicularis', 'Rhinopithecus_bieti']\n"
     ]
    },
    {
     "name": "stdout",
     "output_type": "stream",
     "text": [
      "[250]\tvalid_0's l1: 2.80799\tvalid_0's huber: 2.19855\tvalid_0's l2: 29.0828\n"
     ]
    },
    {
     "name": "stderr",
     "output_type": "stream",
     "text": [
      "2020-09-03 14:32:51.472 | INFO     | yspecies.selection:fit:82 - SEED: 1 | FOLD: 3 | VALIDATION_SPECIES: ['Gorilla_gorilla', 'Ovis_aries']\n"
     ]
    },
    {
     "name": "stdout",
     "output_type": "stream",
     "text": [
      "[250]\tvalid_0's l1: 6.20169\tvalid_0's huber: 5.25788\tvalid_0's l2: 193.446\n"
     ]
    },
    {
     "name": "stderr",
     "output_type": "stream",
     "text": [
      "2020-09-03 14:32:59.533 | INFO     | yspecies.selection:transform:226 - Metrics: \n",
      "Metrics(R2=0.8840008047706335, MAE=4.209561063959361, MSE=80.98859211858556, huber=3.4515363515666935)\n"
     ]
    },
    {
     "name": "stdout",
     "output_type": "stream",
     "text": [
      "2\n"
     ]
    },
    {
     "name": "stderr",
     "output_type": "stream",
     "text": [
      "2020-09-03 14:32:59.541 | INFO     | yspecies.selection:fit:78 - ===== fitting models with seed 2 =====\n",
      "2020-09-03 14:32:59.543 | INFO     | yspecies.selection:fit:79 - PARAMETERS:\n",
      "{'objective': 'regression', 'metric': {'mae', 'huber', 'mse'}, 'verbosity': -1, 'boosting_type': 'dart', 'lambda_l1': 1.897969150602935, 'lambda_l2': 0.23124649264263056, 'max_leaves': 20, 'max_depth': 3, 'feature_fraction': 0.9789287509079786, 'bagging_fraction': 0.8082178403494868, 'learning_rate': 0.09455981821813096, 'min_data_in_leaf': 3, 'drop_rate': 0.14372450278551158, 'verbose': -1, 'seed': 1}\n",
      "2020-09-03 14:32:59.548 | INFO     | yspecies.selection:fit:82 - SEED: 2 | FOLD: 0 | VALIDATION_SPECIES: ['Rhinopithecus_bieti', 'Ursus_americanus']\n"
     ]
    },
    {
     "name": "stdout",
     "output_type": "stream",
     "text": [
      "[LightGBM] [Warning] verbosity is set=-1, verbose=-1 will be ignored. Current value: verbosity=-1\n"
     ]
    },
    {
     "name": "stderr",
     "output_type": "stream",
     "text": [
      "Early stopping is not available in dart mode\n"
     ]
    },
    {
     "name": "stdout",
     "output_type": "stream",
     "text": [
      "[250]\tvalid_0's l1: 4.10792\tvalid_0's huber: 3.35084\tvalid_0's l2: 42.2756\n"
     ]
    },
    {
     "name": "stderr",
     "output_type": "stream",
     "text": [
      "2020-09-03 14:33:00.032 | INFO     | yspecies.selection:fit:82 - SEED: 2 | FOLD: 1 | VALIDATION_SPECIES: ['Aotus_nancymaae', 'Phascolarctos_cinereus']\n"
     ]
    },
    {
     "name": "stdout",
     "output_type": "stream",
     "text": [
      "[250]\tvalid_0's l1: 5.43439\tvalid_0's huber: 4.5323\tvalid_0's l2: 76.814\n"
     ]
    },
    {
     "name": "stderr",
     "output_type": "stream",
     "text": [
      "2020-09-03 14:33:00.512 | INFO     | yspecies.selection:fit:82 - SEED: 2 | FOLD: 2 | VALIDATION_SPECIES: ['Vombatus_ursinus', 'Ailuropoda_melanoleuca']\n"
     ]
    },
    {
     "name": "stdout",
     "output_type": "stream",
     "text": [
      "[250]\tvalid_0's l1: 4.15318\tvalid_0's huber: 3.39303\tvalid_0's l2: 43.0584\n"
     ]
    },
    {
     "name": "stderr",
     "output_type": "stream",
     "text": [
      "2020-09-03 14:33:01.021 | INFO     | yspecies.selection:fit:82 - SEED: 2 | FOLD: 3 | VALIDATION_SPECIES: ['Rattus_norvegicus', 'Monodelphis_domestica']\n"
     ]
    },
    {
     "name": "stdout",
     "output_type": "stream",
     "text": [
      "[250]\tvalid_0's l1: 6.5301\tvalid_0's huber: 5.50226\tvalid_0's l2: 110.794\n"
     ]
    },
    {
     "name": "stderr",
     "output_type": "stream",
     "text": [
      "2020-09-03 14:33:06.456 | INFO     | yspecies.selection:transform:226 - Metrics: \n",
      "Metrics(R2=0.8883430648052983, MAE=5.056397589185812, MSE=68.2354822340029, huber=4.194609439407989)\n"
     ]
    },
    {
     "name": "stdout",
     "output_type": "stream",
     "text": [
      "3\n"
     ]
    },
    {
     "name": "stderr",
     "output_type": "stream",
     "text": [
      "2020-09-03 14:33:06.463 | INFO     | yspecies.selection:fit:78 - ===== fitting models with seed 3 =====\n",
      "2020-09-03 14:33:06.464 | INFO     | yspecies.selection:fit:79 - PARAMETERS:\n",
      "{'objective': 'regression', 'metric': {'mae', 'huber', 'mse'}, 'verbosity': -1, 'boosting_type': 'dart', 'lambda_l1': 1.897969150602935, 'lambda_l2': 0.23124649264263056, 'max_leaves': 20, 'max_depth': 3, 'feature_fraction': 0.9789287509079786, 'bagging_fraction': 0.8082178403494868, 'learning_rate': 0.09455981821813096, 'min_data_in_leaf': 3, 'drop_rate': 0.14372450278551158, 'verbose': -1, 'seed': 2}\n",
      "2020-09-03 14:33:06.469 | INFO     | yspecies.selection:fit:82 - SEED: 3 | FOLD: 0 | VALIDATION_SPECIES: ['Microcebus_murinus', 'Pan_paniscus']\n"
     ]
    },
    {
     "name": "stdout",
     "output_type": "stream",
     "text": [
      "[LightGBM] [Warning] verbosity is set=-1, verbose=-1 will be ignored. Current value: verbosity=-1\n"
     ]
    },
    {
     "name": "stderr",
     "output_type": "stream",
     "text": [
      "Early stopping is not available in dart mode\n"
     ]
    },
    {
     "name": "stdout",
     "output_type": "stream",
     "text": [
      "[250]\tvalid_0's l1: 3.53376\tvalid_0's huber: 2.83073\tvalid_0's l2: 40.2345\n"
     ]
    },
    {
     "name": "stderr",
     "output_type": "stream",
     "text": [
      "2020-09-03 14:33:06.886 | INFO     | yspecies.selection:fit:82 - SEED: 3 | FOLD: 1 | VALIDATION_SPECIES: ['Ursus_americanus', 'Gorilla_gorilla']\n"
     ]
    },
    {
     "name": "stdout",
     "output_type": "stream",
     "text": [
      "[250]\tvalid_0's l1: 7.66439\tvalid_0's huber: 6.53836\tvalid_0's l2: 156.171\n"
     ]
    },
    {
     "name": "stderr",
     "output_type": "stream",
     "text": [
      "2020-09-03 14:33:07.331 | INFO     | yspecies.selection:fit:82 - SEED: 3 | FOLD: 2 | VALIDATION_SPECIES: ['Bos_taurus', 'Capra_hircus']\n"
     ]
    },
    {
     "name": "stdout",
     "output_type": "stream",
     "text": [
      "[250]\tvalid_0's l1: 3.32509\tvalid_0's huber: 2.6628\tvalid_0's l2: 36.9185\n"
     ]
    },
    {
     "name": "stderr",
     "output_type": "stream",
     "text": [
      "2020-09-03 14:33:07.758 | INFO     | yspecies.selection:fit:82 - SEED: 3 | FOLD: 3 | VALIDATION_SPECIES: ['Rhinolophus_ferrumequinum', 'Mus_musculus']\n"
     ]
    },
    {
     "name": "stdout",
     "output_type": "stream",
     "text": [
      "[250]\tvalid_0's l1: 3.03896\tvalid_0's huber: 2.41748\tvalid_0's l2: 103.933\n"
     ]
    },
    {
     "name": "stderr",
     "output_type": "stream",
     "text": [
      "2020-09-03 14:33:15.651 | INFO     | yspecies.selection:transform:226 - Metrics: \n",
      "Metrics(R2=0.8776051357919281, MAE=4.390550725542269, MSE=84.31412848427054, huber=3.612343078217026)\n"
     ]
    },
    {
     "name": "stdout",
     "output_type": "stream",
     "text": [
      "4\n"
     ]
    },
    {
     "name": "stderr",
     "output_type": "stream",
     "text": [
      "2020-09-03 14:33:15.659 | INFO     | yspecies.selection:fit:78 - ===== fitting models with seed 4 =====\n",
      "2020-09-03 14:33:15.660 | INFO     | yspecies.selection:fit:79 - PARAMETERS:\n",
      "{'objective': 'regression', 'metric': {'mae', 'huber', 'mse'}, 'verbosity': -1, 'boosting_type': 'dart', 'lambda_l1': 1.897969150602935, 'lambda_l2': 0.23124649264263056, 'max_leaves': 20, 'max_depth': 3, 'feature_fraction': 0.9789287509079786, 'bagging_fraction': 0.8082178403494868, 'learning_rate': 0.09455981821813096, 'min_data_in_leaf': 3, 'drop_rate': 0.14372450278551158, 'verbose': -1, 'seed': 3}\n",
      "2020-09-03 14:33:15.665 | INFO     | yspecies.selection:fit:82 - SEED: 4 | FOLD: 0 | VALIDATION_SPECIES: ['Macaca_fascicularis', 'Pan_troglodytes']\n"
     ]
    },
    {
     "name": "stdout",
     "output_type": "stream",
     "text": [
      "[LightGBM] [Warning] verbosity is set=-1, verbose=-1 will be ignored. Current value: verbosity=-1\n"
     ]
    },
    {
     "name": "stderr",
     "output_type": "stream",
     "text": [
      "Early stopping is not available in dart mode\n"
     ]
    },
    {
     "name": "stdout",
     "output_type": "stream",
     "text": [
      "[250]\tvalid_0's l1: 3.1785\tvalid_0's huber: 2.51575\tvalid_0's l2: 37.5278\n"
     ]
    },
    {
     "name": "stderr",
     "output_type": "stream",
     "text": [
      "2020-09-03 14:33:16.200 | INFO     | yspecies.selection:fit:82 - SEED: 4 | FOLD: 1 | VALIDATION_SPECIES: ['Otolemur_garnettii', 'Ursus_americanus']\n"
     ]
    },
    {
     "name": "stdout",
     "output_type": "stream",
     "text": [
      "[250]\tvalid_0's l1: 3.89611\tvalid_0's huber: 3.16399\tvalid_0's l2: 109.65\n"
     ]
    },
    {
     "name": "stderr",
     "output_type": "stream",
     "text": [
      "2020-09-03 14:33:16.845 | INFO     | yspecies.selection:fit:82 - SEED: 4 | FOLD: 2 | VALIDATION_SPECIES: ['Heterocephalus_glaber', 'Cavia_aperea']\n"
     ]
    },
    {
     "name": "stdout",
     "output_type": "stream",
     "text": [
      "[250]\tvalid_0's l1: 3.7677\tvalid_0's huber: 3.07821\tvalid_0's l2: 33.2583\n"
     ]
    },
    {
     "name": "stderr",
     "output_type": "stream",
     "text": [
      "2020-09-03 14:33:17.329 | INFO     | yspecies.selection:fit:82 - SEED: 4 | FOLD: 3 | VALIDATION_SPECIES: ['Pan_paniscus', 'Gorilla_gorilla']\n"
     ]
    },
    {
     "name": "stdout",
     "output_type": "stream",
     "text": [
      "[250]\tvalid_0's l1: 8.08367\tvalid_0's huber: 6.94253\tvalid_0's l2: 266.888\n"
     ]
    },
    {
     "name": "stderr",
     "output_type": "stream",
     "text": [
      "2020-09-03 14:33:22.723 | INFO     | yspecies.selection:transform:226 - Metrics: \n",
      "Metrics(R2=0.849436279922765, MAE=4.731493863530153, MSE=111.83105353266791, huber=3.92512126807069)\n"
     ]
    },
    {
     "name": "stdout",
     "output_type": "stream",
     "text": [
      "5\n"
     ]
    },
    {
     "name": "stderr",
     "output_type": "stream",
     "text": [
      "2020-09-03 14:33:22.731 | INFO     | yspecies.selection:fit:78 - ===== fitting models with seed 5 =====\n",
      "2020-09-03 14:33:22.733 | INFO     | yspecies.selection:fit:79 - PARAMETERS:\n",
      "{'objective': 'regression', 'metric': {'mae', 'huber', 'mse'}, 'verbosity': -1, 'boosting_type': 'dart', 'lambda_l1': 1.897969150602935, 'lambda_l2': 0.23124649264263056, 'max_leaves': 20, 'max_depth': 3, 'feature_fraction': 0.9789287509079786, 'bagging_fraction': 0.8082178403494868, 'learning_rate': 0.09455981821813096, 'min_data_in_leaf': 3, 'drop_rate': 0.14372450278551158, 'verbose': -1, 'seed': 4}\n",
      "2020-09-03 14:33:22.738 | INFO     | yspecies.selection:fit:82 - SEED: 5 | FOLD: 0 | VALIDATION_SPECIES: ['Mus_spicilegus', 'Canis_lupus_familiaris']\n"
     ]
    },
    {
     "name": "stdout",
     "output_type": "stream",
     "text": [
      "[LightGBM] [Warning] verbosity is set=-1, verbose=-1 will be ignored. Current value: verbosity=-1\n"
     ]
    },
    {
     "name": "stderr",
     "output_type": "stream",
     "text": [
      "Early stopping is not available in dart mode\n"
     ]
    },
    {
     "name": "stdout",
     "output_type": "stream",
     "text": [
      "[250]\tvalid_0's l1: 3.04702\tvalid_0's huber: 2.40543\tvalid_0's l2: 29.9233\n"
     ]
    },
    {
     "name": "stderr",
     "output_type": "stream",
     "text": [
      "2020-09-03 14:33:23.419 | INFO     | yspecies.selection:fit:82 - SEED: 5 | FOLD: 1 | VALIDATION_SPECIES: ['Ovis_aries', 'Heterocephalus_glaber']\n"
     ]
    },
    {
     "name": "stdout",
     "output_type": "stream",
     "text": [
      "[250]\tvalid_0's l1: 5.15391\tvalid_0's huber: 4.29197\tvalid_0's l2: 166.05\n"
     ]
    },
    {
     "name": "stderr",
     "output_type": "stream",
     "text": [
      "2020-09-03 14:33:23.812 | INFO     | yspecies.selection:fit:82 - SEED: 5 | FOLD: 2 | VALIDATION_SPECIES: ['Ursus_americanus', 'Oryctolagus_cuniculus']\n"
     ]
    },
    {
     "name": "stdout",
     "output_type": "stream",
     "text": [
      "[250]\tvalid_0's l1: 5.51786\tvalid_0's huber: 4.63299\tvalid_0's l2: 125.791\n"
     ]
    },
    {
     "name": "stderr",
     "output_type": "stream",
     "text": [
      "2020-09-03 14:33:24.211 | INFO     | yspecies.selection:fit:82 - SEED: 5 | FOLD: 3 | VALIDATION_SPECIES: ['Cavia_aperea', 'Ailuropoda_melanoleuca']\n"
     ]
    },
    {
     "name": "stdout",
     "output_type": "stream",
     "text": [
      "[250]\tvalid_0's l1: 4.37383\tvalid_0's huber: 3.61813\tvalid_0's l2: 120.543\n"
     ]
    },
    {
     "name": "stderr",
     "output_type": "stream",
     "text": [
      "2020-09-03 14:33:30.513 | INFO     | yspecies.selection:transform:226 - Metrics: \n",
      "Metrics(R2=0.8468972144685979, MAE=4.523154241754886, MSE=110.57680539876765, huber=3.7371282300832602)\n"
     ]
    },
    {
     "name": "stdout",
     "output_type": "stream",
     "text": [
      "6\n"
     ]
    },
    {
     "name": "stderr",
     "output_type": "stream",
     "text": [
      "2020-09-03 14:33:30.522 | INFO     | yspecies.selection:fit:78 - ===== fitting models with seed 6 =====\n",
      "2020-09-03 14:33:30.523 | INFO     | yspecies.selection:fit:79 - PARAMETERS:\n",
      "{'objective': 'regression', 'metric': {'mae', 'huber', 'mse'}, 'verbosity': -1, 'boosting_type': 'dart', 'lambda_l1': 1.897969150602935, 'lambda_l2': 0.23124649264263056, 'max_leaves': 20, 'max_depth': 3, 'feature_fraction': 0.9789287509079786, 'bagging_fraction': 0.8082178403494868, 'learning_rate': 0.09455981821813096, 'min_data_in_leaf': 3, 'drop_rate': 0.14372450278551158, 'verbose': -1, 'seed': 5}\n",
      "2020-09-03 14:33:30.528 | INFO     | yspecies.selection:fit:82 - SEED: 6 | FOLD: 0 | VALIDATION_SPECIES: ['Rhinolophus_ferrumequinum', 'Heterocephalus_glaber']\n"
     ]
    },
    {
     "name": "stdout",
     "output_type": "stream",
     "text": [
      "[LightGBM] [Warning] verbosity is set=-1, verbose=-1 will be ignored. Current value: verbosity=-1\n"
     ]
    },
    {
     "name": "stderr",
     "output_type": "stream",
     "text": [
      "Early stopping is not available in dart mode\n"
     ]
    },
    {
     "name": "stdout",
     "output_type": "stream",
     "text": [
      "[250]\tvalid_0's l1: 4.13067\tvalid_0's huber: 3.36525\tvalid_0's l2: 47.918\n"
     ]
    },
    {
     "name": "stderr",
     "output_type": "stream",
     "text": [
      "2020-09-03 14:33:31.012 | INFO     | yspecies.selection:fit:82 - SEED: 6 | FOLD: 1 | VALIDATION_SPECIES: ['Mus_spicilegus', 'Suricata_suricatta']\n"
     ]
    },
    {
     "name": "stdout",
     "output_type": "stream",
     "text": [
      "[250]\tvalid_0's l1: 3.52966\tvalid_0's huber: 2.82512\tvalid_0's l2: 38.3511\n"
     ]
    },
    {
     "name": "stderr",
     "output_type": "stream",
     "text": [
      "2020-09-03 14:33:31.408 | INFO     | yspecies.selection:fit:82 - SEED: 6 | FOLD: 2 | VALIDATION_SPECIES: ['Rhinopithecus_bieti', 'Ovis_aries']\n"
     ]
    },
    {
     "name": "stdout",
     "output_type": "stream",
     "text": [
      "[250]\tvalid_0's l1: 2.79988\tvalid_0's huber: 2.21268\tvalid_0's l2: 31.2107\n"
     ]
    },
    {
     "name": "stderr",
     "output_type": "stream",
     "text": [
      "2020-09-03 14:33:31.816 | INFO     | yspecies.selection:fit:82 - SEED: 6 | FOLD: 3 | VALIDATION_SPECIES: ['Cavia_porcellus', 'Pan_troglodytes']\n"
     ]
    },
    {
     "name": "stdout",
     "output_type": "stream",
     "text": [
      "[250]\tvalid_0's l1: 4.30229\tvalid_0's huber: 3.52295\tvalid_0's l2: 111.848\n"
     ]
    },
    {
     "name": "stderr",
     "output_type": "stream",
     "text": [
      "2020-09-03 14:33:38.841 | INFO     | yspecies.selection:transform:226 - Metrics: \n",
      "Metrics(R2=0.9169143503079453, MAE=3.69062470789802, MSE=57.331893008927565, huber=2.9815003665063133)\n"
     ]
    },
    {
     "name": "stdout",
     "output_type": "stream",
     "text": [
      "7\n"
     ]
    },
    {
     "name": "stderr",
     "output_type": "stream",
     "text": [
      "2020-09-03 14:33:38.850 | INFO     | yspecies.selection:fit:78 - ===== fitting models with seed 7 =====\n",
      "2020-09-03 14:33:38.851 | INFO     | yspecies.selection:fit:79 - PARAMETERS:\n",
      "{'objective': 'regression', 'metric': {'mae', 'huber', 'mse'}, 'verbosity': -1, 'boosting_type': 'dart', 'lambda_l1': 1.897969150602935, 'lambda_l2': 0.23124649264263056, 'max_leaves': 20, 'max_depth': 3, 'feature_fraction': 0.9789287509079786, 'bagging_fraction': 0.8082178403494868, 'learning_rate': 0.09455981821813096, 'min_data_in_leaf': 3, 'drop_rate': 0.14372450278551158, 'verbose': -1, 'seed': 6}\n",
      "2020-09-03 14:33:38.856 | INFO     | yspecies.selection:fit:82 - SEED: 7 | FOLD: 0 | VALIDATION_SPECIES: ['Macaca_mulatta', 'Cavia_porcellus']\n"
     ]
    },
    {
     "name": "stdout",
     "output_type": "stream",
     "text": [
      "[LightGBM] [Warning] verbosity is set=-1, verbose=-1 will be ignored. Current value: verbosity=-1\n"
     ]
    },
    {
     "name": "stderr",
     "output_type": "stream",
     "text": [
      "Early stopping is not available in dart mode\n"
     ]
    },
    {
     "name": "stdout",
     "output_type": "stream",
     "text": [
      "[250]\tvalid_0's l1: 3.66989\tvalid_0's huber: 2.95512\tvalid_0's l2: 38.4611\n"
     ]
    },
    {
     "name": "stderr",
     "output_type": "stream",
     "text": [
      "2020-09-03 14:33:39.450 | INFO     | yspecies.selection:fit:82 - SEED: 7 | FOLD: 1 | VALIDATION_SPECIES: ['Pan_paniscus', 'Capra_hircus']\n"
     ]
    },
    {
     "name": "stdout",
     "output_type": "stream",
     "text": [
      "[250]\tvalid_0's l1: 3.2312\tvalid_0's huber: 2.57075\tvalid_0's l2: 36.3905\n"
     ]
    },
    {
     "name": "stderr",
     "output_type": "stream",
     "text": [
      "2020-09-03 14:33:40.041 | INFO     | yspecies.selection:fit:82 - SEED: 7 | FOLD: 2 | VALIDATION_SPECIES: ['Otolemur_garnettii', 'Ictidomys_tridecemlineatus']\n"
     ]
    },
    {
     "name": "stdout",
     "output_type": "stream",
     "text": [
      "[250]\tvalid_0's l1: 3.75001\tvalid_0's huber: 3.04569\tvalid_0's l2: 34.0469\n"
     ]
    },
    {
     "name": "stderr",
     "output_type": "stream",
     "text": [
      "2020-09-03 14:33:40.542 | INFO     | yspecies.selection:fit:82 - SEED: 7 | FOLD: 3 | VALIDATION_SPECIES: ['Canis_lupus_familiaris', 'Ursus_americanus']\n"
     ]
    },
    {
     "name": "stdout",
     "output_type": "stream",
     "text": [
      "[250]\tvalid_0's l1: 4.81833\tvalid_0's huber: 4.01438\tvalid_0's l2: 122.005\n"
     ]
    },
    {
     "name": "stderr",
     "output_type": "stream",
     "text": [
      "2020-09-03 14:33:46.847 | INFO     | yspecies.selection:transform:226 - Metrics: \n",
      "Metrics(R2=0.9158671215148941, MAE=3.8673561657647264, MSE=57.72595047555911, huber=3.146487037615037)\n"
     ]
    },
    {
     "name": "stdout",
     "output_type": "stream",
     "text": [
      "8\n"
     ]
    },
    {
     "name": "stderr",
     "output_type": "stream",
     "text": [
      "2020-09-03 14:33:46.855 | INFO     | yspecies.selection:fit:78 - ===== fitting models with seed 8 =====\n",
      "2020-09-03 14:33:46.857 | INFO     | yspecies.selection:fit:79 - PARAMETERS:\n",
      "{'objective': 'regression', 'metric': {'mae', 'huber', 'mse'}, 'verbosity': -1, 'boosting_type': 'dart', 'lambda_l1': 1.897969150602935, 'lambda_l2': 0.23124649264263056, 'max_leaves': 20, 'max_depth': 3, 'feature_fraction': 0.9789287509079786, 'bagging_fraction': 0.8082178403494868, 'learning_rate': 0.09455981821813096, 'min_data_in_leaf': 3, 'drop_rate': 0.14372450278551158, 'verbose': -1, 'seed': 7}\n",
      "2020-09-03 14:33:46.861 | INFO     | yspecies.selection:fit:82 - SEED: 8 | FOLD: 0 | VALIDATION_SPECIES: ['Pan_paniscus', 'Suricata_suricatta']\n"
     ]
    },
    {
     "name": "stdout",
     "output_type": "stream",
     "text": [
      "[LightGBM] [Warning] verbosity is set=-1, verbose=-1 will be ignored. Current value: verbosity=-1\n"
     ]
    },
    {
     "name": "stderr",
     "output_type": "stream",
     "text": [
      "Early stopping is not available in dart mode\n"
     ]
    },
    {
     "name": "stdout",
     "output_type": "stream",
     "text": [
      "[250]\tvalid_0's l1: 3.77498\tvalid_0's huber: 3.0347\tvalid_0's l2: 50.782\n"
     ]
    },
    {
     "name": "stderr",
     "output_type": "stream",
     "text": [
      "2020-09-03 14:33:47.338 | INFO     | yspecies.selection:fit:82 - SEED: 8 | FOLD: 1 | VALIDATION_SPECIES: ['Macaca_fascicularis', 'Tupaia_belangeri']\n"
     ]
    },
    {
     "name": "stdout",
     "output_type": "stream",
     "text": [
      "[250]\tvalid_0's l1: 4.23834\tvalid_0's huber: 3.45717\tvalid_0's l2: 54.4072\n"
     ]
    },
    {
     "name": "stderr",
     "output_type": "stream",
     "text": [
      "2020-09-03 14:33:48.019 | INFO     | yspecies.selection:fit:82 - SEED: 8 | FOLD: 2 | VALIDATION_SPECIES: ['Ursus_americanus', 'Capra_hircus']\n"
     ]
    },
    {
     "name": "stdout",
     "output_type": "stream",
     "text": [
      "[250]\tvalid_0's l1: 4.5202\tvalid_0's huber: 3.74259\tvalid_0's l2: 60.4717\n"
     ]
    },
    {
     "name": "stderr",
     "output_type": "stream",
     "text": [
      "2020-09-03 14:33:48.501 | INFO     | yspecies.selection:fit:82 - SEED: 8 | FOLD: 3 | VALIDATION_SPECIES: ['Bos_taurus', 'Rhinolophus_ferrumequinum']\n"
     ]
    },
    {
     "name": "stdout",
     "output_type": "stream",
     "text": [
      "[250]\tvalid_0's l1: 4.91114\tvalid_0's huber: 4.06571\tvalid_0's l2: 138.499\n"
     ]
    },
    {
     "name": "stderr",
     "output_type": "stream",
     "text": [
      "2020-09-03 14:33:54.832 | INFO     | yspecies.selection:transform:226 - Metrics: \n",
      "Metrics(R2=0.8901440902055324, MAE=4.361167290080057, MSE=76.04008897504089, huber=3.575042211509743)\n"
     ]
    },
    {
     "name": "stdout",
     "output_type": "stream",
     "text": [
      "9\n"
     ]
    },
    {
     "name": "stderr",
     "output_type": "stream",
     "text": [
      "2020-09-03 14:33:54.839 | INFO     | yspecies.selection:fit:78 - ===== fitting models with seed 9 =====\n",
      "2020-09-03 14:33:54.841 | INFO     | yspecies.selection:fit:79 - PARAMETERS:\n",
      "{'objective': 'regression', 'metric': {'mae', 'huber', 'mse'}, 'verbosity': -1, 'boosting_type': 'dart', 'lambda_l1': 1.897969150602935, 'lambda_l2': 0.23124649264263056, 'max_leaves': 20, 'max_depth': 3, 'feature_fraction': 0.9789287509079786, 'bagging_fraction': 0.8082178403494868, 'learning_rate': 0.09455981821813096, 'min_data_in_leaf': 3, 'drop_rate': 0.14372450278551158, 'verbose': -1, 'seed': 8}\n",
      "2020-09-03 14:33:54.845 | INFO     | yspecies.selection:fit:82 - SEED: 9 | FOLD: 0 | VALIDATION_SPECIES: ['Ictidomys_tridecemlineatus', 'Aotus_nancymaae']\n"
     ]
    },
    {
     "name": "stdout",
     "output_type": "stream",
     "text": [
      "[LightGBM] [Warning] verbosity is set=-1, verbose=-1 will be ignored. Current value: verbosity=-1\n"
     ]
    },
    {
     "name": "stderr",
     "output_type": "stream",
     "text": [
      "Early stopping is not available in dart mode\n"
     ]
    },
    {
     "name": "stdout",
     "output_type": "stream",
     "text": [
      "[250]\tvalid_0's l1: 6.21082\tvalid_0's huber: 5.24845\tvalid_0's l2: 184.128\n"
     ]
    },
    {
     "name": "stderr",
     "output_type": "stream",
     "text": [
      "2020-09-03 14:33:55.296 | INFO     | yspecies.selection:fit:82 - SEED: 9 | FOLD: 1 | VALIDATION_SPECIES: ['Pan_troglodytes', 'Oryctolagus_cuniculus']\n"
     ]
    },
    {
     "name": "stdout",
     "output_type": "stream",
     "text": [
      "[250]\tvalid_0's l1: 5.69192\tvalid_0's huber: 4.76879\tvalid_0's l2: 113.728\n"
     ]
    },
    {
     "name": "stderr",
     "output_type": "stream",
     "text": [
      "2020-09-03 14:33:55.717 | INFO     | yspecies.selection:fit:82 - SEED: 9 | FOLD: 2 | VALIDATION_SPECIES: ['Mesocricetus_auratus', 'Meriones_unguiculatus']\n"
     ]
    },
    {
     "name": "stdout",
     "output_type": "stream",
     "text": [
      "[250]\tvalid_0's l1: 4.42932\tvalid_0's huber: 3.63266\tvalid_0's l2: 58.3956\n"
     ]
    },
    {
     "name": "stderr",
     "output_type": "stream",
     "text": [
      "2020-09-03 14:33:56.153 | INFO     | yspecies.selection:fit:82 - SEED: 9 | FOLD: 3 | VALIDATION_SPECIES: ['Gorilla_gorilla', 'Microcebus_murinus']\n"
     ]
    },
    {
     "name": "stdout",
     "output_type": "stream",
     "text": [
      "[250]\tvalid_0's l1: 6.34206\tvalid_0's huber: 5.36682\tvalid_0's l2: 177.151\n"
     ]
    },
    {
     "name": "stderr",
     "output_type": "stream",
     "text": [
      "2020-09-03 14:34:02.380 | INFO     | yspecies.selection:transform:226 - Metrics: \n",
      "Metrics(R2=0.8206139605454149, MAE=5.668531326047569, MSE=133.35064644456975, huber=4.754181512053363)\n",
      "MultiObjectiveTrial is experimental (supported from v1.4.0). The interface can change in the future.\n",
      "MultiObjectiveStudy is experimental (supported from v1.4.0). The interface can change in the future.\n",
      "[I 2020-09-03 14:34:02,935] Trial 493 finished with values: [0.8745636660678384, 3.750133356904861, 0.5424293784276532] with parameters: {'boosting_type': 'dart', 'lambda_l1': 1.897969150602935, 'lambda_l2': 0.23124649264263056, 'max_leaves': 20, 'max_depth': 3, 'feature_fraction': 0.9789287509079786, 'bagging_fraction': 0.8082178403494868, 'learning_rate': 0.09455981821813096, 'min_data_in_leaf': 3, 'drop_rate': 0.14372450278551158}.\n",
      "MultiObjectiveStudy is experimental (supported from v1.4.0). The interface can change in the future.\n",
      "FrozenMultiObjectiveTrial is experimental (supported from v1.4.0). The interface can change in the future.\n",
      "MultiObjectiveStudy is experimental (supported from v1.4.0). The interface can change in the future.\n",
      "FrozenMultiObjectiveTrial is experimental (supported from v1.4.0). The interface can change in the future.\n",
      "FrozenMultiObjectiveTrial is experimental (supported from v1.4.0). The interface can change in the future.\n",
      "MultiObjectiveTrial is experimental (supported from v1.4.0). The interface can change in the future.\n",
      "MultiObjectiveStudy is experimental (supported from v1.4.0). The interface can change in the future.\n",
      "FrozenMultiObjectiveTrial is experimental (supported from v1.4.0). The interface can change in the future.\n"
     ]
    },
    {
     "name": "stdout",
     "output_type": "stream",
     "text": [
      "0\n"
     ]
    },
    {
     "name": "stderr",
     "output_type": "stream",
     "text": [
      "2020-09-03 14:34:03.280 | INFO     | yspecies.selection:fit:78 - ===== fitting models with seed 0 =====\n",
      "2020-09-03 14:34:03.283 | INFO     | yspecies.selection:fit:79 - PARAMETERS:\n",
      "{'objective': 'regression', 'metric': {'mae', 'huber', 'mse'}, 'verbosity': -1, 'boosting_type': 'dart', 'lambda_l1': 0.9267144816360581, 'lambda_l2': 2.9232199794782074, 'max_leaves': 25, 'max_depth': 3, 'feature_fraction': 0.5479409728228775, 'bagging_fraction': 0.6212877919288045, 'learning_rate': 0.08696797156198816, 'min_data_in_leaf': 8, 'drop_rate': 0.27117231134759434, 'verbose': -1}\n",
      "2020-09-03 14:34:03.288 | INFO     | yspecies.selection:fit:82 - SEED: 0 | FOLD: 0 | VALIDATION_SPECIES: ['Gorilla_gorilla', 'Pan_paniscus']\n"
     ]
    },
    {
     "name": "stdout",
     "output_type": "stream",
     "text": [
      "[LightGBM] [Warning] verbosity is set=-1, verbose=-1 will be ignored. Current value: verbosity=-1\n"
     ]
    },
    {
     "name": "stderr",
     "output_type": "stream",
     "text": [
      "Early stopping is not available in dart mode\n"
     ]
    },
    {
     "name": "stdout",
     "output_type": "stream",
     "text": [
      "[250]\tvalid_0's l1: 9.1894\tvalid_0's huber: 7.90178\tvalid_0's l2: 221.651\n"
     ]
    },
    {
     "name": "stderr",
     "output_type": "stream",
     "text": [
      "2020-09-03 14:34:03.948 | INFO     | yspecies.selection:fit:82 - SEED: 0 | FOLD: 1 | VALIDATION_SPECIES: ['Heterocephalus_glaber', 'Capra_hircus']\n"
     ]
    },
    {
     "name": "stdout",
     "output_type": "stream",
     "text": [
      "[250]\tvalid_0's l1: 4.46541\tvalid_0's huber: 3.6658\tvalid_0's l2: 88.3718\n"
     ]
    },
    {
     "name": "stderr",
     "output_type": "stream",
     "text": [
      "2020-09-03 14:34:04.611 | INFO     | yspecies.selection:fit:82 - SEED: 0 | FOLD: 2 | VALIDATION_SPECIES: ['Bos_taurus', 'Otolemur_garnettii']\n"
     ]
    },
    {
     "name": "stdout",
     "output_type": "stream",
     "text": [
      "[250]\tvalid_0's l1: 3.42408\tvalid_0's huber: 2.7537\tvalid_0's l2: 31.5016\n"
     ]
    },
    {
     "name": "stderr",
     "output_type": "stream",
     "text": [
      "2020-09-03 14:34:05.218 | INFO     | yspecies.selection:fit:82 - SEED: 0 | FOLD: 3 | VALIDATION_SPECIES: ['Macaca_nemestrina', 'Microcebus_murinus']\n"
     ]
    },
    {
     "name": "stdout",
     "output_type": "stream",
     "text": [
      "[250]\tvalid_0's l1: 3.34817\tvalid_0's huber: 2.66241\tvalid_0's l2: 57.6132\n"
     ]
    },
    {
     "name": "stderr",
     "output_type": "stream",
     "text": [
      "2020-09-03 14:34:13.765 | INFO     | yspecies.selection:transform:226 - Metrics: \n",
      "Metrics(R2=0.8700394602757684, MAE=5.106763308247356, MSE=99.7844697569779, huber=4.2459212570109415)\n"
     ]
    },
    {
     "name": "stdout",
     "output_type": "stream",
     "text": [
      "1\n"
     ]
    },
    {
     "name": "stderr",
     "output_type": "stream",
     "text": [
      "2020-09-03 14:34:13.777 | INFO     | yspecies.selection:fit:78 - ===== fitting models with seed 1 =====\n",
      "2020-09-03 14:34:13.778 | INFO     | yspecies.selection:fit:79 - PARAMETERS:\n",
      "{'objective': 'regression', 'metric': {'mae', 'huber', 'mse'}, 'verbosity': -1, 'boosting_type': 'dart', 'lambda_l1': 0.9267144816360581, 'lambda_l2': 2.9232199794782074, 'max_leaves': 25, 'max_depth': 3, 'feature_fraction': 0.5479409728228775, 'bagging_fraction': 0.6212877919288045, 'learning_rate': 0.08696797156198816, 'min_data_in_leaf': 8, 'drop_rate': 0.27117231134759434, 'verbose': -1, 'seed': 0}\n",
      "2020-09-03 14:34:13.783 | INFO     | yspecies.selection:fit:82 - SEED: 1 | FOLD: 0 | VALIDATION_SPECIES: ['Felis_catus', 'Ursus_americanus']\n"
     ]
    },
    {
     "name": "stdout",
     "output_type": "stream",
     "text": [
      "[LightGBM] [Warning] verbosity is set=-1, verbose=-1 will be ignored. Current value: verbosity=-1\n"
     ]
    },
    {
     "name": "stderr",
     "output_type": "stream",
     "text": [
      "Early stopping is not available in dart mode\n"
     ]
    },
    {
     "name": "stdout",
     "output_type": "stream",
     "text": [
      "[250]\tvalid_0's l1: 3.94121\tvalid_0's huber: 3.19471\tvalid_0's l2: 35.0739\n"
     ]
    },
    {
     "name": "stderr",
     "output_type": "stream",
     "text": [
      "2020-09-03 14:34:14.478 | INFO     | yspecies.selection:fit:82 - SEED: 1 | FOLD: 1 | VALIDATION_SPECIES: ['Heterocephalus_glaber', 'Vombatus_ursinus']\n"
     ]
    },
    {
     "name": "stdout",
     "output_type": "stream",
     "text": [
      "[250]\tvalid_0's l1: 4.55473\tvalid_0's huber: 3.75552\tvalid_0's l2: 69.7647\n"
     ]
    },
    {
     "name": "stderr",
     "output_type": "stream",
     "text": [
      "2020-09-03 14:34:14.998 | INFO     | yspecies.selection:fit:82 - SEED: 1 | FOLD: 2 | VALIDATION_SPECIES: ['Macaca_fascicularis', 'Rhinopithecus_bieti']\n"
     ]
    },
    {
     "name": "stdout",
     "output_type": "stream",
     "text": [
      "[250]\tvalid_0's l1: 2.93898\tvalid_0's huber: 2.31025\tvalid_0's l2: 23.1768\n"
     ]
    },
    {
     "name": "stderr",
     "output_type": "stream",
     "text": [
      "2020-09-03 14:34:15.593 | INFO     | yspecies.selection:fit:82 - SEED: 1 | FOLD: 3 | VALIDATION_SPECIES: ['Gorilla_gorilla', 'Ovis_aries']\n"
     ]
    },
    {
     "name": "stdout",
     "output_type": "stream",
     "text": [
      "[250]\tvalid_0's l1: 6.53979\tvalid_0's huber: 5.52332\tvalid_0's l2: 162.294\n"
     ]
    },
    {
     "name": "stderr",
     "output_type": "stream",
     "text": [
      "2020-09-03 14:34:24.023 | INFO     | yspecies.selection:transform:226 - Metrics: \n",
      "Metrics(R2=0.8961725602040553, MAE=4.493678418901865, MSE=72.57732438127576, huber=3.695947728730448)\n"
     ]
    },
    {
     "name": "stdout",
     "output_type": "stream",
     "text": [
      "2\n"
     ]
    },
    {
     "name": "stderr",
     "output_type": "stream",
     "text": [
      "2020-09-03 14:34:24.035 | INFO     | yspecies.selection:fit:78 - ===== fitting models with seed 2 =====\n",
      "2020-09-03 14:34:24.042 | INFO     | yspecies.selection:fit:79 - PARAMETERS:\n",
      "{'objective': 'regression', 'metric': {'mae', 'huber', 'mse'}, 'verbosity': -1, 'boosting_type': 'dart', 'lambda_l1': 0.9267144816360581, 'lambda_l2': 2.9232199794782074, 'max_leaves': 25, 'max_depth': 3, 'feature_fraction': 0.5479409728228775, 'bagging_fraction': 0.6212877919288045, 'learning_rate': 0.08696797156198816, 'min_data_in_leaf': 8, 'drop_rate': 0.27117231134759434, 'verbose': -1, 'seed': 1}\n",
      "2020-09-03 14:34:24.046 | INFO     | yspecies.selection:fit:82 - SEED: 2 | FOLD: 0 | VALIDATION_SPECIES: ['Rhinopithecus_bieti', 'Ursus_americanus']\n"
     ]
    },
    {
     "name": "stdout",
     "output_type": "stream",
     "text": [
      "[LightGBM] [Warning] verbosity is set=-1, verbose=-1 will be ignored. Current value: verbosity=-1\n"
     ]
    },
    {
     "name": "stderr",
     "output_type": "stream",
     "text": [
      "Early stopping is not available in dart mode\n"
     ]
    },
    {
     "name": "stdout",
     "output_type": "stream",
     "text": [
      "[250]\tvalid_0's l1: 3.9081\tvalid_0's huber: 3.15179\tvalid_0's l2: 29.716\n"
     ]
    },
    {
     "name": "stderr",
     "output_type": "stream",
     "text": [
      "2020-09-03 14:34:24.932 | INFO     | yspecies.selection:fit:82 - SEED: 2 | FOLD: 1 | VALIDATION_SPECIES: ['Aotus_nancymaae', 'Phascolarctos_cinereus']\n"
     ]
    },
    {
     "name": "stdout",
     "output_type": "stream",
     "text": [
      "[250]\tvalid_0's l1: 4.67966\tvalid_0's huber: 3.85348\tvalid_0's l2: 54.0319\n"
     ]
    },
    {
     "name": "stderr",
     "output_type": "stream",
     "text": [
      "2020-09-03 14:34:25.717 | INFO     | yspecies.selection:fit:82 - SEED: 2 | FOLD: 2 | VALIDATION_SPECIES: ['Vombatus_ursinus', 'Ailuropoda_melanoleuca']\n"
     ]
    },
    {
     "name": "stdout",
     "output_type": "stream",
     "text": [
      "[250]\tvalid_0's l1: 3.76265\tvalid_0's huber: 3.02787\tvalid_0's l2: 33.3034\n"
     ]
    },
    {
     "name": "stderr",
     "output_type": "stream",
     "text": [
      "2020-09-03 14:34:26.414 | INFO     | yspecies.selection:fit:82 - SEED: 2 | FOLD: 3 | VALIDATION_SPECIES: ['Rattus_norvegicus', 'Monodelphis_domestica']\n"
     ]
    },
    {
     "name": "stdout",
     "output_type": "stream",
     "text": [
      "[250]\tvalid_0's l1: 6.28907\tvalid_0's huber: 5.26414\tvalid_0's l2: 78.0154\n"
     ]
    },
    {
     "name": "stderr",
     "output_type": "stream",
     "text": [
      "2020-09-03 14:34:34.272 | INFO     | yspecies.selection:transform:226 - Metrics: \n",
      "Metrics(R2=0.9205733104927356, MAE=4.659867571282703, MSE=48.76666177539613, huber=3.824318519351067)\n"
     ]
    },
    {
     "name": "stdout",
     "output_type": "stream",
     "text": [
      "3\n"
     ]
    },
    {
     "name": "stderr",
     "output_type": "stream",
     "text": [
      "2020-09-03 14:34:34.279 | INFO     | yspecies.selection:fit:78 - ===== fitting models with seed 3 =====\n",
      "2020-09-03 14:34:34.280 | INFO     | yspecies.selection:fit:79 - PARAMETERS:\n",
      "{'objective': 'regression', 'metric': {'mae', 'huber', 'mse'}, 'verbosity': -1, 'boosting_type': 'dart', 'lambda_l1': 0.9267144816360581, 'lambda_l2': 2.9232199794782074, 'max_leaves': 25, 'max_depth': 3, 'feature_fraction': 0.5479409728228775, 'bagging_fraction': 0.6212877919288045, 'learning_rate': 0.08696797156198816, 'min_data_in_leaf': 8, 'drop_rate': 0.27117231134759434, 'verbose': -1, 'seed': 2}\n",
      "2020-09-03 14:34:34.284 | INFO     | yspecies.selection:fit:82 - SEED: 3 | FOLD: 0 | VALIDATION_SPECIES: ['Microcebus_murinus', 'Pan_paniscus']\n"
     ]
    },
    {
     "name": "stdout",
     "output_type": "stream",
     "text": [
      "[LightGBM] [Warning] verbosity is set=-1, verbose=-1 will be ignored. Current value: verbosity=-1\n"
     ]
    },
    {
     "name": "stderr",
     "output_type": "stream",
     "text": [
      "Early stopping is not available in dart mode\n"
     ]
    },
    {
     "name": "stdout",
     "output_type": "stream",
     "text": [
      "[250]\tvalid_0's l1: 4.47244\tvalid_0's huber: 3.65132\tvalid_0's l2: 45.1688\n"
     ]
    },
    {
     "name": "stderr",
     "output_type": "stream",
     "text": [
      "2020-09-03 14:34:35.023 | INFO     | yspecies.selection:fit:82 - SEED: 3 | FOLD: 1 | VALIDATION_SPECIES: ['Ursus_americanus', 'Gorilla_gorilla']\n"
     ]
    },
    {
     "name": "stdout",
     "output_type": "stream",
     "text": [
      "[250]\tvalid_0's l1: 8.29421\tvalid_0's huber: 7.09605\tvalid_0's l2: 170.284\n"
     ]
    },
    {
     "name": "stderr",
     "output_type": "stream",
     "text": [
      "2020-09-03 14:34:35.682 | INFO     | yspecies.selection:fit:82 - SEED: 3 | FOLD: 2 | VALIDATION_SPECIES: ['Bos_taurus', 'Capra_hircus']\n"
     ]
    },
    {
     "name": "stdout",
     "output_type": "stream",
     "text": [
      "[250]\tvalid_0's l1: 3.97169\tvalid_0's huber: 3.21147\tvalid_0's l2: 37.8572\n"
     ]
    },
    {
     "name": "stderr",
     "output_type": "stream",
     "text": [
      "2020-09-03 14:34:36.363 | INFO     | yspecies.selection:fit:82 - SEED: 3 | FOLD: 3 | VALIDATION_SPECIES: ['Rhinolophus_ferrumequinum', 'Mus_musculus']\n"
     ]
    },
    {
     "name": "stdout",
     "output_type": "stream",
     "text": [
      "[250]\tvalid_0's l1: 3.02121\tvalid_0's huber: 2.38261\tvalid_0's l2: 50.0805\n"
     ]
    },
    {
     "name": "stderr",
     "output_type": "stream",
     "text": [
      "2020-09-03 14:34:44.771 | INFO     | yspecies.selection:transform:226 - Metrics: \n",
      "Metrics(R2=0.8979930662165829, MAE=4.9398869372667855, MSE=75.84768266572362, huber=4.085362577622382)\n"
     ]
    },
    {
     "name": "stdout",
     "output_type": "stream",
     "text": [
      "4\n"
     ]
    },
    {
     "name": "stderr",
     "output_type": "stream",
     "text": [
      "2020-09-03 14:34:44.781 | INFO     | yspecies.selection:fit:78 - ===== fitting models with seed 4 =====\n",
      "2020-09-03 14:34:44.783 | INFO     | yspecies.selection:fit:79 - PARAMETERS:\n",
      "{'objective': 'regression', 'metric': {'mae', 'huber', 'mse'}, 'verbosity': -1, 'boosting_type': 'dart', 'lambda_l1': 0.9267144816360581, 'lambda_l2': 2.9232199794782074, 'max_leaves': 25, 'max_depth': 3, 'feature_fraction': 0.5479409728228775, 'bagging_fraction': 0.6212877919288045, 'learning_rate': 0.08696797156198816, 'min_data_in_leaf': 8, 'drop_rate': 0.27117231134759434, 'verbose': -1, 'seed': 3}\n",
      "2020-09-03 14:34:44.787 | INFO     | yspecies.selection:fit:82 - SEED: 4 | FOLD: 0 | VALIDATION_SPECIES: ['Macaca_fascicularis', 'Pan_troglodytes']\n"
     ]
    },
    {
     "name": "stdout",
     "output_type": "stream",
     "text": [
      "[LightGBM] [Warning] verbosity is set=-1, verbose=-1 will be ignored. Current value: verbosity=-1\n"
     ]
    },
    {
     "name": "stderr",
     "output_type": "stream",
     "text": [
      "Early stopping is not available in dart mode\n"
     ]
    },
    {
     "name": "stdout",
     "output_type": "stream",
     "text": [
      "[250]\tvalid_0's l1: 4.1183\tvalid_0's huber: 3.35319\tvalid_0's l2: 44.748\n"
     ]
    },
    {
     "name": "stderr",
     "output_type": "stream",
     "text": [
      "2020-09-03 14:34:45.424 | INFO     | yspecies.selection:fit:82 - SEED: 4 | FOLD: 1 | VALIDATION_SPECIES: ['Otolemur_garnettii', 'Ursus_americanus']\n"
     ]
    },
    {
     "name": "stdout",
     "output_type": "stream",
     "text": [
      "[250]\tvalid_0's l1: 4.62074\tvalid_0's huber: 3.80662\tvalid_0's l2: 89.4494\n"
     ]
    },
    {
     "name": "stderr",
     "output_type": "stream",
     "text": [
      "2020-09-03 14:34:46.051 | INFO     | yspecies.selection:fit:82 - SEED: 4 | FOLD: 2 | VALIDATION_SPECIES: ['Heterocephalus_glaber', 'Cavia_aperea']\n"
     ]
    },
    {
     "name": "stdout",
     "output_type": "stream",
     "text": [
      "[250]\tvalid_0's l1: 4.31722\tvalid_0's huber: 3.55034\tvalid_0's l2: 37.0436\n"
     ]
    },
    {
     "name": "stderr",
     "output_type": "stream",
     "text": [
      "2020-09-03 14:34:46.713 | INFO     | yspecies.selection:fit:82 - SEED: 4 | FOLD: 3 | VALIDATION_SPECIES: ['Pan_paniscus', 'Gorilla_gorilla']\n"
     ]
    },
    {
     "name": "stdout",
     "output_type": "stream",
     "text": [
      "[250]\tvalid_0's l1: 8.47849\tvalid_0's huber: 7.27532\tvalid_0's l2: 204.978\n"
     ]
    },
    {
     "name": "stderr",
     "output_type": "stream",
     "text": [
      "2020-09-03 14:34:55.133 | INFO     | yspecies.selection:transform:226 - Metrics: \n",
      "Metrics(R2=0.8729339568550374, MAE=5.383684317970404, MSE=94.05479515692345, huber=4.496369534709576)\n"
     ]
    },
    {
     "name": "stdout",
     "output_type": "stream",
     "text": [
      "5\n"
     ]
    },
    {
     "name": "stderr",
     "output_type": "stream",
     "text": [
      "2020-09-03 14:34:55.144 | INFO     | yspecies.selection:fit:78 - ===== fitting models with seed 5 =====\n",
      "2020-09-03 14:34:55.146 | INFO     | yspecies.selection:fit:79 - PARAMETERS:\n",
      "{'objective': 'regression', 'metric': {'mae', 'huber', 'mse'}, 'verbosity': -1, 'boosting_type': 'dart', 'lambda_l1': 0.9267144816360581, 'lambda_l2': 2.9232199794782074, 'max_leaves': 25, 'max_depth': 3, 'feature_fraction': 0.5479409728228775, 'bagging_fraction': 0.6212877919288045, 'learning_rate': 0.08696797156198816, 'min_data_in_leaf': 8, 'drop_rate': 0.27117231134759434, 'verbose': -1, 'seed': 4}\n",
      "2020-09-03 14:34:55.151 | INFO     | yspecies.selection:fit:82 - SEED: 5 | FOLD: 0 | VALIDATION_SPECIES: ['Mus_spicilegus', 'Canis_lupus_familiaris']\n"
     ]
    },
    {
     "name": "stdout",
     "output_type": "stream",
     "text": [
      "[LightGBM] [Warning] verbosity is set=-1, verbose=-1 will be ignored. Current value: verbosity=-1\n"
     ]
    },
    {
     "name": "stderr",
     "output_type": "stream",
     "text": [
      "Early stopping is not available in dart mode\n"
     ]
    },
    {
     "name": "stdout",
     "output_type": "stream",
     "text": [
      "[250]\tvalid_0's l1: 3.36205\tvalid_0's huber: 2.67244\tvalid_0's l2: 26.6912\n"
     ]
    },
    {
     "name": "stderr",
     "output_type": "stream",
     "text": [
      "2020-09-03 14:34:55.819 | INFO     | yspecies.selection:fit:82 - SEED: 5 | FOLD: 1 | VALIDATION_SPECIES: ['Ovis_aries', 'Heterocephalus_glaber']\n"
     ]
    },
    {
     "name": "stdout",
     "output_type": "stream",
     "text": [
      "[250]\tvalid_0's l1: 4.76464\tvalid_0's huber: 3.94105\tvalid_0's l2: 102.564\n"
     ]
    },
    {
     "name": "stderr",
     "output_type": "stream",
     "text": [
      "2020-09-03 14:34:56.415 | INFO     | yspecies.selection:fit:82 - SEED: 5 | FOLD: 2 | VALIDATION_SPECIES: ['Ursus_americanus', 'Oryctolagus_cuniculus']\n"
     ]
    },
    {
     "name": "stdout",
     "output_type": "stream",
     "text": [
      "[250]\tvalid_0's l1: 5.55323\tvalid_0's huber: 4.65878\tvalid_0's l2: 108.957\n"
     ]
    },
    {
     "name": "stderr",
     "output_type": "stream",
     "text": [
      "2020-09-03 14:34:57.021 | INFO     | yspecies.selection:fit:82 - SEED: 5 | FOLD: 3 | VALIDATION_SPECIES: ['Cavia_aperea', 'Ailuropoda_melanoleuca']\n"
     ]
    },
    {
     "name": "stdout",
     "output_type": "stream",
     "text": [
      "[250]\tvalid_0's l1: 4.43882\tvalid_0's huber: 3.65864\tvalid_0's l2: 66.6657\n"
     ]
    },
    {
     "name": "stderr",
     "output_type": "stream",
     "text": [
      "2020-09-03 14:35:05.490 | INFO     | yspecies.selection:transform:226 - Metrics: \n",
      "Metrics(R2=0.8957189444304101, MAE=4.529684500159444, MSE=76.21934737251127, huber=3.732724815156513)\n"
     ]
    },
    {
     "name": "stdout",
     "output_type": "stream",
     "text": [
      "6\n"
     ]
    },
    {
     "name": "stderr",
     "output_type": "stream",
     "text": [
      "2020-09-03 14:35:05.500 | INFO     | yspecies.selection:fit:78 - ===== fitting models with seed 6 =====\n",
      "2020-09-03 14:35:05.502 | INFO     | yspecies.selection:fit:79 - PARAMETERS:\n",
      "{'objective': 'regression', 'metric': {'mae', 'huber', 'mse'}, 'verbosity': -1, 'boosting_type': 'dart', 'lambda_l1': 0.9267144816360581, 'lambda_l2': 2.9232199794782074, 'max_leaves': 25, 'max_depth': 3, 'feature_fraction': 0.5479409728228775, 'bagging_fraction': 0.6212877919288045, 'learning_rate': 0.08696797156198816, 'min_data_in_leaf': 8, 'drop_rate': 0.27117231134759434, 'verbose': -1, 'seed': 5}\n",
      "2020-09-03 14:35:05.506 | INFO     | yspecies.selection:fit:82 - SEED: 6 | FOLD: 0 | VALIDATION_SPECIES: ['Rhinolophus_ferrumequinum', 'Heterocephalus_glaber']\n"
     ]
    },
    {
     "name": "stdout",
     "output_type": "stream",
     "text": [
      "[LightGBM] [Warning] verbosity is set=-1, verbose=-1 will be ignored. Current value: verbosity=-1\n"
     ]
    },
    {
     "name": "stderr",
     "output_type": "stream",
     "text": [
      "Early stopping is not available in dart mode\n"
     ]
    },
    {
     "name": "stdout",
     "output_type": "stream",
     "text": [
      "[250]\tvalid_0's l1: 4.34141\tvalid_0's huber: 3.54817\tvalid_0's l2: 44.1287\n"
     ]
    },
    {
     "name": "stderr",
     "output_type": "stream",
     "text": [
      "2020-09-03 14:35:06.063 | INFO     | yspecies.selection:fit:82 - SEED: 6 | FOLD: 1 | VALIDATION_SPECIES: ['Mus_spicilegus', 'Suricata_suricatta']\n"
     ]
    },
    {
     "name": "stdout",
     "output_type": "stream",
     "text": [
      "[250]\tvalid_0's l1: 4.08849\tvalid_0's huber: 3.33484\tvalid_0's l2: 52.1127\n"
     ]
    },
    {
     "name": "stderr",
     "output_type": "stream",
     "text": [
      "2020-09-03 14:35:06.714 | INFO     | yspecies.selection:fit:82 - SEED: 6 | FOLD: 2 | VALIDATION_SPECIES: ['Rhinopithecus_bieti', 'Ovis_aries']\n"
     ]
    },
    {
     "name": "stdout",
     "output_type": "stream",
     "text": [
      "[250]\tvalid_0's l1: 3.07334\tvalid_0's huber: 2.4264\tvalid_0's l2: 23.198\n"
     ]
    },
    {
     "name": "stderr",
     "output_type": "stream",
     "text": [
      "2020-09-03 14:35:07.337 | INFO     | yspecies.selection:fit:82 - SEED: 6 | FOLD: 3 | VALIDATION_SPECIES: ['Cavia_porcellus', 'Pan_troglodytes']\n"
     ]
    },
    {
     "name": "stdout",
     "output_type": "stream",
     "text": [
      "[250]\tvalid_0's l1: 4.10022\tvalid_0's huber: 3.33585\tvalid_0's l2: 67.0773\n"
     ]
    },
    {
     "name": "stderr",
     "output_type": "stream",
     "text": [
      "2020-09-03 14:35:16.963 | INFO     | yspecies.selection:transform:226 - Metrics: \n",
      "Metrics(R2=0.9346809988738269, MAE=3.9008653917003757, MSE=46.62915406036825, huber=3.1613123525682414)\n"
     ]
    },
    {
     "name": "stdout",
     "output_type": "stream",
     "text": [
      "7\n"
     ]
    },
    {
     "name": "stderr",
     "output_type": "stream",
     "text": [
      "2020-09-03 14:35:16.970 | INFO     | yspecies.selection:fit:78 - ===== fitting models with seed 7 =====\n",
      "2020-09-03 14:35:16.971 | INFO     | yspecies.selection:fit:79 - PARAMETERS:\n",
      "{'objective': 'regression', 'metric': {'mae', 'huber', 'mse'}, 'verbosity': -1, 'boosting_type': 'dart', 'lambda_l1': 0.9267144816360581, 'lambda_l2': 2.9232199794782074, 'max_leaves': 25, 'max_depth': 3, 'feature_fraction': 0.5479409728228775, 'bagging_fraction': 0.6212877919288045, 'learning_rate': 0.08696797156198816, 'min_data_in_leaf': 8, 'drop_rate': 0.27117231134759434, 'verbose': -1, 'seed': 6}\n",
      "2020-09-03 14:35:16.975 | INFO     | yspecies.selection:fit:82 - SEED: 7 | FOLD: 0 | VALIDATION_SPECIES: ['Macaca_mulatta', 'Cavia_porcellus']\n"
     ]
    },
    {
     "name": "stdout",
     "output_type": "stream",
     "text": [
      "[LightGBM] [Warning] verbosity is set=-1, verbose=-1 will be ignored. Current value: verbosity=-1\n"
     ]
    },
    {
     "name": "stderr",
     "output_type": "stream",
     "text": [
      "Early stopping is not available in dart mode\n"
     ]
    },
    {
     "name": "stdout",
     "output_type": "stream",
     "text": [
      "[250]\tvalid_0's l1: 3.57318\tvalid_0's huber: 2.86126\tvalid_0's l2: 32.9454\n"
     ]
    },
    {
     "name": "stderr",
     "output_type": "stream",
     "text": [
      "2020-09-03 14:35:17.769 | INFO     | yspecies.selection:fit:82 - SEED: 7 | FOLD: 1 | VALIDATION_SPECIES: ['Pan_paniscus', 'Capra_hircus']\n"
     ]
    },
    {
     "name": "stdout",
     "output_type": "stream",
     "text": [
      "[250]\tvalid_0's l1: 4.91518\tvalid_0's huber: 4.06076\tvalid_0's l2: 68.4251\n"
     ]
    },
    {
     "name": "stderr",
     "output_type": "stream",
     "text": [
      "2020-09-03 14:35:18.545 | INFO     | yspecies.selection:fit:82 - SEED: 7 | FOLD: 2 | VALIDATION_SPECIES: ['Otolemur_garnettii', 'Ictidomys_tridecemlineatus']\n"
     ]
    },
    {
     "name": "stdout",
     "output_type": "stream",
     "text": [
      "[250]\tvalid_0's l1: 4.37536\tvalid_0's huber: 3.59885\tvalid_0's l2: 43.6145\n"
     ]
    },
    {
     "name": "stderr",
     "output_type": "stream",
     "text": [
      "2020-09-03 14:35:19.329 | INFO     | yspecies.selection:fit:82 - SEED: 7 | FOLD: 3 | VALIDATION_SPECIES: ['Canis_lupus_familiaris', 'Ursus_americanus']\n"
     ]
    },
    {
     "name": "stdout",
     "output_type": "stream",
     "text": [
      "[250]\tvalid_0's l1: 4.61779\tvalid_0's huber: 3.81634\tvalid_0's l2: 77.2128\n"
     ]
    },
    {
     "name": "stderr",
     "output_type": "stream",
     "text": [
      "2020-09-03 14:35:27.295 | INFO     | yspecies.selection:transform:226 - Metrics: \n",
      "Metrics(R2=0.922642890856353, MAE=4.370377268388024, MSE=55.54944708799373, huber=3.5843025876130987)\n"
     ]
    },
    {
     "name": "stdout",
     "output_type": "stream",
     "text": [
      "8\n"
     ]
    },
    {
     "name": "stderr",
     "output_type": "stream",
     "text": [
      "2020-09-03 14:35:27.303 | INFO     | yspecies.selection:fit:78 - ===== fitting models with seed 8 =====\n",
      "2020-09-03 14:35:27.305 | INFO     | yspecies.selection:fit:79 - PARAMETERS:\n",
      "{'objective': 'regression', 'metric': {'mae', 'huber', 'mse'}, 'verbosity': -1, 'boosting_type': 'dart', 'lambda_l1': 0.9267144816360581, 'lambda_l2': 2.9232199794782074, 'max_leaves': 25, 'max_depth': 3, 'feature_fraction': 0.5479409728228775, 'bagging_fraction': 0.6212877919288045, 'learning_rate': 0.08696797156198816, 'min_data_in_leaf': 8, 'drop_rate': 0.27117231134759434, 'verbose': -1, 'seed': 7}\n",
      "2020-09-03 14:35:27.309 | INFO     | yspecies.selection:fit:82 - SEED: 8 | FOLD: 0 | VALIDATION_SPECIES: ['Pan_paniscus', 'Suricata_suricatta']\n"
     ]
    },
    {
     "name": "stdout",
     "output_type": "stream",
     "text": [
      "[LightGBM] [Warning] verbosity is set=-1, verbose=-1 will be ignored. Current value: verbosity=-1\n"
     ]
    },
    {
     "name": "stderr",
     "output_type": "stream",
     "text": [
      "Early stopping is not available in dart mode\n"
     ]
    },
    {
     "name": "stdout",
     "output_type": "stream",
     "text": [
      "[250]\tvalid_0's l1: 4.00779\tvalid_0's huber: 3.25315\tvalid_0's l2: 47.8722\n"
     ]
    },
    {
     "name": "stderr",
     "output_type": "stream",
     "text": [
      "2020-09-03 14:35:28.035 | INFO     | yspecies.selection:fit:82 - SEED: 8 | FOLD: 1 | VALIDATION_SPECIES: ['Macaca_fascicularis', 'Tupaia_belangeri']\n"
     ]
    },
    {
     "name": "stdout",
     "output_type": "stream",
     "text": [
      "[250]\tvalid_0's l1: 4.47442\tvalid_0's huber: 3.67498\tvalid_0's l2: 62.8804\n"
     ]
    },
    {
     "name": "stderr",
     "output_type": "stream",
     "text": [
      "2020-09-03 14:35:28.761 | INFO     | yspecies.selection:fit:82 - SEED: 8 | FOLD: 2 | VALIDATION_SPECIES: ['Ursus_americanus', 'Capra_hircus']\n"
     ]
    },
    {
     "name": "stdout",
     "output_type": "stream",
     "text": [
      "[250]\tvalid_0's l1: 4.59408\tvalid_0's huber: 3.78719\tvalid_0's l2: 56.2951\n"
     ]
    },
    {
     "name": "stderr",
     "output_type": "stream",
     "text": [
      "2020-09-03 14:35:29.468 | INFO     | yspecies.selection:fit:82 - SEED: 8 | FOLD: 3 | VALIDATION_SPECIES: ['Bos_taurus', 'Rhinolophus_ferrumequinum']\n"
     ]
    },
    {
     "name": "stdout",
     "output_type": "stream",
     "text": [
      "[250]\tvalid_0's l1: 4.65227\tvalid_0's huber: 3.8465\tvalid_0's l2: 85.9702\n"
     ]
    },
    {
     "name": "stderr",
     "output_type": "stream",
     "text": [
      "2020-09-03 14:35:37.926 | INFO     | yspecies.selection:transform:226 - Metrics: \n",
      "Metrics(R2=0.9105574835700714, MAE=4.432141477996793, MSE=63.2544985923132, huber=3.640454871687346)\n"
     ]
    },
    {
     "name": "stdout",
     "output_type": "stream",
     "text": [
      "9\n"
     ]
    },
    {
     "name": "stderr",
     "output_type": "stream",
     "text": [
      "2020-09-03 14:35:37.935 | INFO     | yspecies.selection:fit:78 - ===== fitting models with seed 9 =====\n",
      "2020-09-03 14:35:37.937 | INFO     | yspecies.selection:fit:79 - PARAMETERS:\n",
      "{'objective': 'regression', 'metric': {'mae', 'huber', 'mse'}, 'verbosity': -1, 'boosting_type': 'dart', 'lambda_l1': 0.9267144816360581, 'lambda_l2': 2.9232199794782074, 'max_leaves': 25, 'max_depth': 3, 'feature_fraction': 0.5479409728228775, 'bagging_fraction': 0.6212877919288045, 'learning_rate': 0.08696797156198816, 'min_data_in_leaf': 8, 'drop_rate': 0.27117231134759434, 'verbose': -1, 'seed': 8}\n",
      "2020-09-03 14:35:37.941 | INFO     | yspecies.selection:fit:82 - SEED: 9 | FOLD: 0 | VALIDATION_SPECIES: ['Ictidomys_tridecemlineatus', 'Aotus_nancymaae']\n"
     ]
    },
    {
     "name": "stdout",
     "output_type": "stream",
     "text": [
      "[LightGBM] [Warning] verbosity is set=-1, verbose=-1 will be ignored. Current value: verbosity=-1\n"
     ]
    },
    {
     "name": "stderr",
     "output_type": "stream",
     "text": [
      "Early stopping is not available in dart mode\n"
     ]
    },
    {
     "name": "stdout",
     "output_type": "stream",
     "text": [
      "[250]\tvalid_0's l1: 4.56431\tvalid_0's huber: 3.75821\tvalid_0's l2: 50.3074\n"
     ]
    },
    {
     "name": "stderr",
     "output_type": "stream",
     "text": [
      "2020-09-03 14:35:38.647 | INFO     | yspecies.selection:fit:82 - SEED: 9 | FOLD: 1 | VALIDATION_SPECIES: ['Pan_troglodytes', 'Oryctolagus_cuniculus']\n"
     ]
    },
    {
     "name": "stdout",
     "output_type": "stream",
     "text": [
      "[250]\tvalid_0's l1: 6.29752\tvalid_0's huber: 5.31127\tvalid_0's l2: 137.24\n"
     ]
    },
    {
     "name": "stderr",
     "output_type": "stream",
     "text": [
      "2020-09-03 14:35:39.327 | INFO     | yspecies.selection:fit:82 - SEED: 9 | FOLD: 2 | VALIDATION_SPECIES: ['Mesocricetus_auratus', 'Meriones_unguiculatus']\n"
     ]
    },
    {
     "name": "stdout",
     "output_type": "stream",
     "text": [
      "[250]\tvalid_0's l1: 4.47801\tvalid_0's huber: 3.67013\tvalid_0's l2: 47.6735\n"
     ]
    },
    {
     "name": "stderr",
     "output_type": "stream",
     "text": [
      "2020-09-03 14:35:39.947 | INFO     | yspecies.selection:fit:82 - SEED: 9 | FOLD: 3 | VALIDATION_SPECIES: ['Gorilla_gorilla', 'Microcebus_murinus']\n"
     ]
    },
    {
     "name": "stdout",
     "output_type": "stream",
     "text": [
      "[250]\tvalid_0's l1: 6.62021\tvalid_0's huber: 5.61571\tvalid_0's l2: 145.848\n"
     ]
    },
    {
     "name": "stderr",
     "output_type": "stream",
     "text": [
      "2020-09-03 14:35:48.322 | INFO     | yspecies.selection:transform:226 - Metrics: \n",
      "Metrics(R2=0.8723568786648486, MAE=5.490011963307007, MSE=95.2671542480894, huber=4.588829605211382)\n",
      "MultiObjectiveTrial is experimental (supported from v1.4.0). The interface can change in the future.\n",
      "MultiObjectiveStudy is experimental (supported from v1.4.0). The interface can change in the future.\n",
      "[I 2020-09-03 14:35:48,956] Trial 494 finished with values: [0.8993669550439689, 3.9055543849660994, 0.5789701328269133] with parameters: {'boosting_type': 'dart', 'lambda_l1': 0.9267144816360581, 'lambda_l2': 2.9232199794782074, 'max_leaves': 25, 'max_depth': 3, 'feature_fraction': 0.5479409728228775, 'bagging_fraction': 0.6212877919288045, 'learning_rate': 0.08696797156198816, 'min_data_in_leaf': 8, 'drop_rate': 0.27117231134759434}.\n",
      "MultiObjectiveStudy is experimental (supported from v1.4.0). The interface can change in the future.\n",
      "FrozenMultiObjectiveTrial is experimental (supported from v1.4.0). The interface can change in the future.\n",
      "MultiObjectiveStudy is experimental (supported from v1.4.0). The interface can change in the future.\n",
      "FrozenMultiObjectiveTrial is experimental (supported from v1.4.0). The interface can change in the future.\n",
      "FrozenMultiObjectiveTrial is experimental (supported from v1.4.0). The interface can change in the future.\n",
      "MultiObjectiveTrial is experimental (supported from v1.4.0). The interface can change in the future.\n",
      "MultiObjectiveStudy is experimental (supported from v1.4.0). The interface can change in the future.\n",
      "FrozenMultiObjectiveTrial is experimental (supported from v1.4.0). The interface can change in the future.\n"
     ]
    },
    {
     "name": "stdout",
     "output_type": "stream",
     "text": [
      "0\n"
     ]
    },
    {
     "name": "stderr",
     "output_type": "stream",
     "text": [
      "2020-09-03 14:35:49.222 | INFO     | yspecies.selection:fit:78 - ===== fitting models with seed 0 =====\n",
      "2020-09-03 14:35:49.224 | INFO     | yspecies.selection:fit:79 - PARAMETERS:\n",
      "{'objective': 'regression', 'metric': {'mae', 'huber', 'mse'}, 'verbosity': -1, 'boosting_type': 'dart', 'lambda_l1': 2.265633101154613, 'lambda_l2': 2.9232199794782074, 'max_leaves': 22, 'max_depth': 3, 'feature_fraction': 0.9013654534153324, 'bagging_fraction': 0.6446044093673937, 'learning_rate': 0.09227943984528733, 'min_data_in_leaf': 7, 'drop_rate': 0.15938150347995844, 'verbose': -1}\n",
      "2020-09-03 14:35:49.230 | INFO     | yspecies.selection:fit:82 - SEED: 0 | FOLD: 0 | VALIDATION_SPECIES: ['Gorilla_gorilla', 'Pan_paniscus']\n"
     ]
    },
    {
     "name": "stdout",
     "output_type": "stream",
     "text": [
      "[LightGBM] [Warning] verbosity is set=-1, verbose=-1 will be ignored. Current value: verbosity=-1\n"
     ]
    },
    {
     "name": "stderr",
     "output_type": "stream",
     "text": [
      "Early stopping is not available in dart mode\n"
     ]
    },
    {
     "name": "stdout",
     "output_type": "stream",
     "text": [
      "[250]\tvalid_0's l1: 8.01735\tvalid_0's huber: 6.86343\tvalid_0's l2: 187.259\n"
     ]
    },
    {
     "name": "stderr",
     "output_type": "stream",
     "text": [
      "2020-09-03 14:35:49.667 | INFO     | yspecies.selection:fit:82 - SEED: 0 | FOLD: 1 | VALIDATION_SPECIES: ['Heterocephalus_glaber', 'Capra_hircus']\n"
     ]
    },
    {
     "name": "stdout",
     "output_type": "stream",
     "text": [
      "[250]\tvalid_0's l1: 4.21724\tvalid_0's huber: 3.44937\tvalid_0's l2: 72.9575\n"
     ]
    },
    {
     "name": "stderr",
     "output_type": "stream",
     "text": [
      "2020-09-03 14:35:50.168 | INFO     | yspecies.selection:fit:82 - SEED: 0 | FOLD: 2 | VALIDATION_SPECIES: ['Bos_taurus', 'Otolemur_garnettii']\n"
     ]
    },
    {
     "name": "stdout",
     "output_type": "stream",
     "text": [
      "[250]\tvalid_0's l1: 3.28721\tvalid_0's huber: 2.62241\tvalid_0's l2: 30.3579\n"
     ]
    },
    {
     "name": "stderr",
     "output_type": "stream",
     "text": [
      "2020-09-03 14:35:50.623 | INFO     | yspecies.selection:fit:82 - SEED: 0 | FOLD: 3 | VALIDATION_SPECIES: ['Macaca_nemestrina', 'Microcebus_murinus']\n"
     ]
    },
    {
     "name": "stdout",
     "output_type": "stream",
     "text": [
      "[250]\tvalid_0's l1: 3.96939\tvalid_0's huber: 3.23842\tvalid_0's l2: 82.0643\n"
     ]
    },
    {
     "name": "stderr",
     "output_type": "stream",
     "text": [
      "2020-09-03 14:35:57.782 | INFO     | yspecies.selection:transform:226 - Metrics: \n",
      "Metrics(R2=0.8734419458754077, MAE=4.872795199535634, MSE=93.1596186570217, huber=4.043410092537038)\n"
     ]
    },
    {
     "name": "stdout",
     "output_type": "stream",
     "text": [
      "1\n"
     ]
    },
    {
     "name": "stderr",
     "output_type": "stream",
     "text": [
      "2020-09-03 14:35:57.790 | INFO     | yspecies.selection:fit:78 - ===== fitting models with seed 1 =====\n",
      "2020-09-03 14:35:57.791 | INFO     | yspecies.selection:fit:79 - PARAMETERS:\n",
      "{'objective': 'regression', 'metric': {'mae', 'huber', 'mse'}, 'verbosity': -1, 'boosting_type': 'dart', 'lambda_l1': 2.265633101154613, 'lambda_l2': 2.9232199794782074, 'max_leaves': 22, 'max_depth': 3, 'feature_fraction': 0.9013654534153324, 'bagging_fraction': 0.6446044093673937, 'learning_rate': 0.09227943984528733, 'min_data_in_leaf': 7, 'drop_rate': 0.15938150347995844, 'verbose': -1, 'seed': 0}\n",
      "2020-09-03 14:35:57.796 | INFO     | yspecies.selection:fit:82 - SEED: 1 | FOLD: 0 | VALIDATION_SPECIES: ['Felis_catus', 'Ursus_americanus']\n"
     ]
    },
    {
     "name": "stdout",
     "output_type": "stream",
     "text": [
      "[LightGBM] [Warning] verbosity is set=-1, verbose=-1 will be ignored. Current value: verbosity=-1\n"
     ]
    },
    {
     "name": "stderr",
     "output_type": "stream",
     "text": [
      "Early stopping is not available in dart mode\n"
     ]
    },
    {
     "name": "stdout",
     "output_type": "stream",
     "text": [
      "[250]\tvalid_0's l1: 3.63911\tvalid_0's huber: 2.93597\tvalid_0's l2: 31.3869\n"
     ]
    },
    {
     "name": "stderr",
     "output_type": "stream",
     "text": [
      "2020-09-03 14:35:58.241 | INFO     | yspecies.selection:fit:82 - SEED: 1 | FOLD: 1 | VALIDATION_SPECIES: ['Heterocephalus_glaber', 'Vombatus_ursinus']\n"
     ]
    },
    {
     "name": "stdout",
     "output_type": "stream",
     "text": [
      "[250]\tvalid_0's l1: 4.4427\tvalid_0's huber: 3.64433\tvalid_0's l2: 65.233\n"
     ]
    },
    {
     "name": "stderr",
     "output_type": "stream",
     "text": [
      "2020-09-03 14:35:59.174 | INFO     | yspecies.selection:fit:82 - SEED: 1 | FOLD: 2 | VALIDATION_SPECIES: ['Macaca_fascicularis', 'Rhinopithecus_bieti']\n"
     ]
    },
    {
     "name": "stdout",
     "output_type": "stream",
     "text": [
      "[250]\tvalid_0's l1: 2.73347\tvalid_0's huber: 2.13736\tvalid_0's l2: 20.9334\n"
     ]
    },
    {
     "name": "stderr",
     "output_type": "stream",
     "text": [
      "2020-09-03 14:35:59.611 | INFO     | yspecies.selection:fit:82 - SEED: 1 | FOLD: 3 | VALIDATION_SPECIES: ['Gorilla_gorilla', 'Ovis_aries']\n"
     ]
    },
    {
     "name": "stdout",
     "output_type": "stream",
     "text": [
      "[250]\tvalid_0's l1: 6.66479\tvalid_0's huber: 5.63985\tvalid_0's l2: 171.798\n"
     ]
    },
    {
     "name": "stderr",
     "output_type": "stream",
     "text": [
      "2020-09-03 14:36:06.905 | INFO     | yspecies.selection:transform:226 - Metrics: \n",
      "Metrics(R2=0.8963625805395878, MAE=4.370017484157043, MSE=72.33793146571678, huber=3.589375927442118)\n"
     ]
    },
    {
     "name": "stdout",
     "output_type": "stream",
     "text": [
      "2\n"
     ]
    },
    {
     "name": "stderr",
     "output_type": "stream",
     "text": [
      "2020-09-03 14:36:06.913 | INFO     | yspecies.selection:fit:78 - ===== fitting models with seed 2 =====\n",
      "2020-09-03 14:36:06.915 | INFO     | yspecies.selection:fit:79 - PARAMETERS:\n",
      "{'objective': 'regression', 'metric': {'mae', 'huber', 'mse'}, 'verbosity': -1, 'boosting_type': 'dart', 'lambda_l1': 2.265633101154613, 'lambda_l2': 2.9232199794782074, 'max_leaves': 22, 'max_depth': 3, 'feature_fraction': 0.9013654534153324, 'bagging_fraction': 0.6446044093673937, 'learning_rate': 0.09227943984528733, 'min_data_in_leaf': 7, 'drop_rate': 0.15938150347995844, 'verbose': -1, 'seed': 1}\n",
      "2020-09-03 14:36:06.919 | INFO     | yspecies.selection:fit:82 - SEED: 2 | FOLD: 0 | VALIDATION_SPECIES: ['Rhinopithecus_bieti', 'Ursus_americanus']\n"
     ]
    },
    {
     "name": "stdout",
     "output_type": "stream",
     "text": [
      "[LightGBM] [Warning] verbosity is set=-1, verbose=-1 will be ignored. Current value: verbosity=-1\n"
     ]
    },
    {
     "name": "stderr",
     "output_type": "stream",
     "text": [
      "Early stopping is not available in dart mode\n"
     ]
    },
    {
     "name": "stdout",
     "output_type": "stream",
     "text": [
      "[250]\tvalid_0's l1: 5.53181\tvalid_0's huber: 4.62762\tvalid_0's l2: 61.3842\n"
     ]
    },
    {
     "name": "stderr",
     "output_type": "stream",
     "text": [
      "2020-09-03 14:36:07.839 | INFO     | yspecies.selection:fit:82 - SEED: 2 | FOLD: 1 | VALIDATION_SPECIES: ['Aotus_nancymaae', 'Phascolarctos_cinereus']\n"
     ]
    },
    {
     "name": "stdout",
     "output_type": "stream",
     "text": [
      "[250]\tvalid_0's l1: 5.92036\tvalid_0's huber: 4.95703\tvalid_0's l2: 74.3564\n"
     ]
    },
    {
     "name": "stderr",
     "output_type": "stream",
     "text": [
      "2020-09-03 14:36:08.446 | INFO     | yspecies.selection:fit:82 - SEED: 2 | FOLD: 2 | VALIDATION_SPECIES: ['Vombatus_ursinus', 'Ailuropoda_melanoleuca']\n"
     ]
    },
    {
     "name": "stdout",
     "output_type": "stream",
     "text": [
      "[250]\tvalid_0's l1: 4.85091\tvalid_0's huber: 4.01479\tvalid_0's l2: 57.5882\n"
     ]
    },
    {
     "name": "stderr",
     "output_type": "stream",
     "text": [
      "2020-09-03 14:36:09.109 | INFO     | yspecies.selection:fit:82 - SEED: 2 | FOLD: 3 | VALIDATION_SPECIES: ['Rattus_norvegicus', 'Monodelphis_domestica']\n"
     ]
    },
    {
     "name": "stdout",
     "output_type": "stream",
     "text": [
      "[250]\tvalid_0's l1: 6.17552\tvalid_0's huber: 5.17194\tvalid_0's l2: 81.1105\n"
     ]
    },
    {
     "name": "stderr",
     "output_type": "stream",
     "text": [
      "2020-09-03 14:36:15.098 | INFO     | yspecies.selection:transform:226 - Metrics: \n",
      "Metrics(R2=0.8957781080715459, MAE=5.61965013203047, MSE=68.6098394421167, huber=4.69284626060791)\n"
     ]
    },
    {
     "name": "stdout",
     "output_type": "stream",
     "text": [
      "3\n"
     ]
    },
    {
     "name": "stderr",
     "output_type": "stream",
     "text": [
      "2020-09-03 14:36:15.105 | INFO     | yspecies.selection:fit:78 - ===== fitting models with seed 3 =====\n",
      "2020-09-03 14:36:15.106 | INFO     | yspecies.selection:fit:79 - PARAMETERS:\n",
      "{'objective': 'regression', 'metric': {'mae', 'huber', 'mse'}, 'verbosity': -1, 'boosting_type': 'dart', 'lambda_l1': 2.265633101154613, 'lambda_l2': 2.9232199794782074, 'max_leaves': 22, 'max_depth': 3, 'feature_fraction': 0.9013654534153324, 'bagging_fraction': 0.6446044093673937, 'learning_rate': 0.09227943984528733, 'min_data_in_leaf': 7, 'drop_rate': 0.15938150347995844, 'verbose': -1, 'seed': 2}\n",
      "2020-09-03 14:36:15.110 | INFO     | yspecies.selection:fit:82 - SEED: 3 | FOLD: 0 | VALIDATION_SPECIES: ['Microcebus_murinus', 'Pan_paniscus']\n"
     ]
    },
    {
     "name": "stdout",
     "output_type": "stream",
     "text": [
      "[LightGBM] [Warning] verbosity is set=-1, verbose=-1 will be ignored. Current value: verbosity=-1\n"
     ]
    },
    {
     "name": "stderr",
     "output_type": "stream",
     "text": [
      "Early stopping is not available in dart mode\n"
     ]
    },
    {
     "name": "stdout",
     "output_type": "stream",
     "text": [
      "[250]\tvalid_0's l1: 4.95267\tvalid_0's huber: 4.09158\tvalid_0's l2: 64.8624\n"
     ]
    },
    {
     "name": "stderr",
     "output_type": "stream",
     "text": [
      "2020-09-03 14:36:15.644 | INFO     | yspecies.selection:fit:82 - SEED: 3 | FOLD: 1 | VALIDATION_SPECIES: ['Ursus_americanus', 'Gorilla_gorilla']\n"
     ]
    },
    {
     "name": "stdout",
     "output_type": "stream",
     "text": [
      "[250]\tvalid_0's l1: 7.84334\tvalid_0's huber: 6.69178\tvalid_0's l2: 161.506\n"
     ]
    },
    {
     "name": "stderr",
     "output_type": "stream",
     "text": [
      "2020-09-03 14:36:16.208 | INFO     | yspecies.selection:fit:82 - SEED: 3 | FOLD: 2 | VALIDATION_SPECIES: ['Bos_taurus', 'Capra_hircus']\n"
     ]
    },
    {
     "name": "stdout",
     "output_type": "stream",
     "text": [
      "[250]\tvalid_0's l1: 3.75017\tvalid_0's huber: 3.0098\tvalid_0's l2: 35.2678\n"
     ]
    },
    {
     "name": "stderr",
     "output_type": "stream",
     "text": [
      "2020-09-03 14:36:16.722 | INFO     | yspecies.selection:fit:82 - SEED: 3 | FOLD: 3 | VALIDATION_SPECIES: ['Rhinolophus_ferrumequinum', 'Mus_musculus']\n"
     ]
    },
    {
     "name": "stdout",
     "output_type": "stream",
     "text": [
      "[250]\tvalid_0's l1: 2.7762\tvalid_0's huber: 2.17687\tvalid_0's l2: 47.2388\n"
     ]
    },
    {
     "name": "stderr",
     "output_type": "stream",
     "text": [
      "2020-09-03 14:36:24.103 | INFO     | yspecies.selection:transform:226 - Metrics: \n",
      "Metrics(R2=0.8964339869457607, MAE=4.830595263804895, MSE=77.21885045297059, huber=3.9925054563495728)\n"
     ]
    },
    {
     "name": "stdout",
     "output_type": "stream",
     "text": [
      "4\n"
     ]
    },
    {
     "name": "stderr",
     "output_type": "stream",
     "text": [
      "2020-09-03 14:36:24.115 | INFO     | yspecies.selection:fit:78 - ===== fitting models with seed 4 =====\n",
      "2020-09-03 14:36:24.116 | INFO     | yspecies.selection:fit:79 - PARAMETERS:\n",
      "{'objective': 'regression', 'metric': {'mae', 'huber', 'mse'}, 'verbosity': -1, 'boosting_type': 'dart', 'lambda_l1': 2.265633101154613, 'lambda_l2': 2.9232199794782074, 'max_leaves': 22, 'max_depth': 3, 'feature_fraction': 0.9013654534153324, 'bagging_fraction': 0.6446044093673937, 'learning_rate': 0.09227943984528733, 'min_data_in_leaf': 7, 'drop_rate': 0.15938150347995844, 'verbose': -1, 'seed': 3}\n",
      "2020-09-03 14:36:24.121 | INFO     | yspecies.selection:fit:82 - SEED: 4 | FOLD: 0 | VALIDATION_SPECIES: ['Macaca_fascicularis', 'Pan_troglodytes']\n"
     ]
    },
    {
     "name": "stdout",
     "output_type": "stream",
     "text": [
      "[LightGBM] [Warning] verbosity is set=-1, verbose=-1 will be ignored. Current value: verbosity=-1\n"
     ]
    },
    {
     "name": "stderr",
     "output_type": "stream",
     "text": [
      "Early stopping is not available in dart mode\n"
     ]
    },
    {
     "name": "stdout",
     "output_type": "stream",
     "text": [
      "[250]\tvalid_0's l1: 3.72486\tvalid_0's huber: 2.99402\tvalid_0's l2: 34.7025\n"
     ]
    },
    {
     "name": "stderr",
     "output_type": "stream",
     "text": [
      "2020-09-03 14:36:24.597 | INFO     | yspecies.selection:fit:82 - SEED: 4 | FOLD: 1 | VALIDATION_SPECIES: ['Otolemur_garnettii', 'Ursus_americanus']\n"
     ]
    },
    {
     "name": "stdout",
     "output_type": "stream",
     "text": [
      "[250]\tvalid_0's l1: 4.12305\tvalid_0's huber: 3.36648\tvalid_0's l2: 99.752\n"
     ]
    },
    {
     "name": "stderr",
     "output_type": "stream",
     "text": [
      "2020-09-03 14:36:25.041 | INFO     | yspecies.selection:fit:82 - SEED: 4 | FOLD: 2 | VALIDATION_SPECIES: ['Heterocephalus_glaber', 'Cavia_aperea']\n"
     ]
    },
    {
     "name": "stdout",
     "output_type": "stream",
     "text": [
      "[250]\tvalid_0's l1: 3.84673\tvalid_0's huber: 3.1369\tvalid_0's l2: 31.3031\n"
     ]
    },
    {
     "name": "stderr",
     "output_type": "stream",
     "text": [
      "2020-09-03 14:36:25.513 | INFO     | yspecies.selection:fit:82 - SEED: 4 | FOLD: 3 | VALIDATION_SPECIES: ['Pan_paniscus', 'Gorilla_gorilla']\n"
     ]
    },
    {
     "name": "stdout",
     "output_type": "stream",
     "text": [
      "[250]\tvalid_0's l1: 8.28805\tvalid_0's huber: 7.12743\tvalid_0's l2: 237.879\n"
     ]
    },
    {
     "name": "stderr",
     "output_type": "stream",
     "text": [
      "2020-09-03 14:36:32.045 | INFO     | yspecies.selection:transform:226 - Metrics: \n",
      "Metrics(R2=0.8640147216363429, MAE=4.995670934753635, MSE=100.90914459262518, huber=4.1562062611616915)\n"
     ]
    },
    {
     "name": "stdout",
     "output_type": "stream",
     "text": [
      "5\n"
     ]
    },
    {
     "name": "stderr",
     "output_type": "stream",
     "text": [
      "2020-09-03 14:36:32.054 | INFO     | yspecies.selection:fit:78 - ===== fitting models with seed 5 =====\n",
      "2020-09-03 14:36:32.056 | INFO     | yspecies.selection:fit:79 - PARAMETERS:\n",
      "{'objective': 'regression', 'metric': {'mae', 'huber', 'mse'}, 'verbosity': -1, 'boosting_type': 'dart', 'lambda_l1': 2.265633101154613, 'lambda_l2': 2.9232199794782074, 'max_leaves': 22, 'max_depth': 3, 'feature_fraction': 0.9013654534153324, 'bagging_fraction': 0.6446044093673937, 'learning_rate': 0.09227943984528733, 'min_data_in_leaf': 7, 'drop_rate': 0.15938150347995844, 'verbose': -1, 'seed': 4}\n",
      "2020-09-03 14:36:32.060 | INFO     | yspecies.selection:fit:82 - SEED: 5 | FOLD: 0 | VALIDATION_SPECIES: ['Mus_spicilegus', 'Canis_lupus_familiaris']\n"
     ]
    },
    {
     "name": "stdout",
     "output_type": "stream",
     "text": [
      "[LightGBM] [Warning] verbosity is set=-1, verbose=-1 will be ignored. Current value: verbosity=-1\n"
     ]
    },
    {
     "name": "stderr",
     "output_type": "stream",
     "text": [
      "Early stopping is not available in dart mode\n"
     ]
    },
    {
     "name": "stdout",
     "output_type": "stream",
     "text": [
      "[250]\tvalid_0's l1: 3.6261\tvalid_0's huber: 2.92603\tvalid_0's l2: 44.8711\n"
     ]
    },
    {
     "name": "stderr",
     "output_type": "stream",
     "text": [
      "2020-09-03 14:36:32.561 | INFO     | yspecies.selection:fit:82 - SEED: 5 | FOLD: 1 | VALIDATION_SPECIES: ['Ovis_aries', 'Heterocephalus_glaber']\n"
     ]
    },
    {
     "name": "stdout",
     "output_type": "stream",
     "text": [
      "[250]\tvalid_0's l1: 4.88788\tvalid_0's huber: 4.06158\tvalid_0's l2: 112.572\n"
     ]
    },
    {
     "name": "stderr",
     "output_type": "stream",
     "text": [
      "2020-09-03 14:36:33.018 | INFO     | yspecies.selection:fit:82 - SEED: 5 | FOLD: 2 | VALIDATION_SPECIES: ['Ursus_americanus', 'Oryctolagus_cuniculus']\n"
     ]
    },
    {
     "name": "stdout",
     "output_type": "stream",
     "text": [
      "[250]\tvalid_0's l1: 5.75036\tvalid_0's huber: 4.83813\tvalid_0's l2: 120.077\n"
     ]
    },
    {
     "name": "stderr",
     "output_type": "stream",
     "text": [
      "2020-09-03 14:36:33.444 | INFO     | yspecies.selection:fit:82 - SEED: 5 | FOLD: 3 | VALIDATION_SPECIES: ['Cavia_aperea', 'Ailuropoda_melanoleuca']\n"
     ]
    },
    {
     "name": "stdout",
     "output_type": "stream",
     "text": [
      "[250]\tvalid_0's l1: 4.1676\tvalid_0's huber: 3.41945\tvalid_0's l2: 60.0419\n"
     ]
    },
    {
     "name": "stderr",
     "output_type": "stream",
     "text": [
      "2020-09-03 14:36:39.516 | INFO     | yspecies.selection:transform:226 - Metrics: \n",
      "Metrics(R2=0.8854947901813133, MAE=4.607984128715269, MSE=84.39042981219431, huber=3.811298281524171)\n"
     ]
    },
    {
     "name": "stdout",
     "output_type": "stream",
     "text": [
      "6\n"
     ]
    },
    {
     "name": "stderr",
     "output_type": "stream",
     "text": [
      "2020-09-03 14:36:39.526 | INFO     | yspecies.selection:fit:78 - ===== fitting models with seed 6 =====\n",
      "2020-09-03 14:36:39.528 | INFO     | yspecies.selection:fit:79 - PARAMETERS:\n",
      "{'objective': 'regression', 'metric': {'mae', 'huber', 'mse'}, 'verbosity': -1, 'boosting_type': 'dart', 'lambda_l1': 2.265633101154613, 'lambda_l2': 2.9232199794782074, 'max_leaves': 22, 'max_depth': 3, 'feature_fraction': 0.9013654534153324, 'bagging_fraction': 0.6446044093673937, 'learning_rate': 0.09227943984528733, 'min_data_in_leaf': 7, 'drop_rate': 0.15938150347995844, 'verbose': -1, 'seed': 5}\n",
      "2020-09-03 14:36:39.532 | INFO     | yspecies.selection:fit:82 - SEED: 6 | FOLD: 0 | VALIDATION_SPECIES: ['Rhinolophus_ferrumequinum', 'Heterocephalus_glaber']\n"
     ]
    },
    {
     "name": "stdout",
     "output_type": "stream",
     "text": [
      "[LightGBM] [Warning] verbosity is set=-1, verbose=-1 will be ignored. Current value: verbosity=-1\n"
     ]
    },
    {
     "name": "stderr",
     "output_type": "stream",
     "text": [
      "Early stopping is not available in dart mode\n"
     ]
    },
    {
     "name": "stdout",
     "output_type": "stream",
     "text": [
      "[250]\tvalid_0's l1: 4.82692\tvalid_0's huber: 4.00691\tvalid_0's l2: 70.6425\n"
     ]
    },
    {
     "name": "stderr",
     "output_type": "stream",
     "text": [
      "2020-09-03 14:36:39.998 | INFO     | yspecies.selection:fit:82 - SEED: 6 | FOLD: 1 | VALIDATION_SPECIES: ['Mus_spicilegus', 'Suricata_suricatta']\n"
     ]
    },
    {
     "name": "stdout",
     "output_type": "stream",
     "text": [
      "[250]\tvalid_0's l1: 4.02034\tvalid_0's huber: 3.25759\tvalid_0's l2: 48.8215\n"
     ]
    },
    {
     "name": "stderr",
     "output_type": "stream",
     "text": [
      "2020-09-03 14:36:40.525 | INFO     | yspecies.selection:fit:82 - SEED: 6 | FOLD: 2 | VALIDATION_SPECIES: ['Rhinopithecus_bieti', 'Ovis_aries']\n"
     ]
    },
    {
     "name": "stdout",
     "output_type": "stream",
     "text": [
      "[250]\tvalid_0's l1: 2.80957\tvalid_0's huber: 2.20606\tvalid_0's l2: 20.6097\n"
     ]
    },
    {
     "name": "stderr",
     "output_type": "stream",
     "text": [
      "2020-09-03 14:36:41.017 | INFO     | yspecies.selection:fit:82 - SEED: 6 | FOLD: 3 | VALIDATION_SPECIES: ['Cavia_porcellus', 'Pan_troglodytes']\n"
     ]
    },
    {
     "name": "stdout",
     "output_type": "stream",
     "text": [
      "[250]\tvalid_0's l1: 4.45155\tvalid_0's huber: 3.63483\tvalid_0's l2: 73.8844\n"
     ]
    },
    {
     "name": "stderr",
     "output_type": "stream",
     "text": [
      "2020-09-03 14:36:48.989 | INFO     | yspecies.selection:transform:226 - Metrics: \n",
      "Metrics(R2=0.9252327248820915, MAE=4.027092976703503, MSE=53.48951103709048, huber=3.27634843848538)\n"
     ]
    },
    {
     "name": "stdout",
     "output_type": "stream",
     "text": [
      "7\n"
     ]
    },
    {
     "name": "stderr",
     "output_type": "stream",
     "text": [
      "2020-09-03 14:36:48.999 | INFO     | yspecies.selection:fit:78 - ===== fitting models with seed 7 =====\n",
      "2020-09-03 14:36:49.000 | INFO     | yspecies.selection:fit:79 - PARAMETERS:\n",
      "{'objective': 'regression', 'metric': {'mae', 'huber', 'mse'}, 'verbosity': -1, 'boosting_type': 'dart', 'lambda_l1': 2.265633101154613, 'lambda_l2': 2.9232199794782074, 'max_leaves': 22, 'max_depth': 3, 'feature_fraction': 0.9013654534153324, 'bagging_fraction': 0.6446044093673937, 'learning_rate': 0.09227943984528733, 'min_data_in_leaf': 7, 'drop_rate': 0.15938150347995844, 'verbose': -1, 'seed': 6}\n",
      "2020-09-03 14:36:49.004 | INFO     | yspecies.selection:fit:82 - SEED: 7 | FOLD: 0 | VALIDATION_SPECIES: ['Macaca_mulatta', 'Cavia_porcellus']\n"
     ]
    },
    {
     "name": "stdout",
     "output_type": "stream",
     "text": [
      "[LightGBM] [Warning] verbosity is set=-1, verbose=-1 will be ignored. Current value: verbosity=-1\n"
     ]
    },
    {
     "name": "stderr",
     "output_type": "stream",
     "text": [
      "Early stopping is not available in dart mode\n"
     ]
    },
    {
     "name": "stdout",
     "output_type": "stream",
     "text": [
      "[250]\tvalid_0's l1: 3.60224\tvalid_0's huber: 2.89095\tvalid_0's l2: 28.6333\n"
     ]
    },
    {
     "name": "stderr",
     "output_type": "stream",
     "text": [
      "2020-09-03 14:36:49.463 | INFO     | yspecies.selection:fit:82 - SEED: 7 | FOLD: 1 | VALIDATION_SPECIES: ['Pan_paniscus', 'Capra_hircus']\n"
     ]
    },
    {
     "name": "stdout",
     "output_type": "stream",
     "text": [
      "[250]\tvalid_0's l1: 3.92695\tvalid_0's huber: 3.18095\tvalid_0's l2: 45.2328\n"
     ]
    },
    {
     "name": "stderr",
     "output_type": "stream",
     "text": [
      "2020-09-03 14:36:50.122 | INFO     | yspecies.selection:fit:82 - SEED: 7 | FOLD: 2 | VALIDATION_SPECIES: ['Otolemur_garnettii', 'Ictidomys_tridecemlineatus']\n"
     ]
    },
    {
     "name": "stdout",
     "output_type": "stream",
     "text": [
      "[250]\tvalid_0's l1: 3.7273\tvalid_0's huber: 3.02513\tvalid_0's l2: 32.2372\n"
     ]
    },
    {
     "name": "stderr",
     "output_type": "stream",
     "text": [
      "2020-09-03 14:36:50.568 | INFO     | yspecies.selection:fit:82 - SEED: 7 | FOLD: 3 | VALIDATION_SPECIES: ['Canis_lupus_familiaris', 'Ursus_americanus']\n"
     ]
    },
    {
     "name": "stdout",
     "output_type": "stream",
     "text": [
      "[250]\tvalid_0's l1: 4.08115\tvalid_0's huber: 3.34481\tvalid_0's l2: 58.1442\n"
     ]
    },
    {
     "name": "stderr",
     "output_type": "stream",
     "text": [
      "2020-09-03 14:36:57.272 | INFO     | yspecies.selection:transform:226 - Metrics: \n",
      "Metrics(R2=0.9423231829854629, MAE=3.834407323485656, MSE=41.06189744778734, huber=3.110458731440117)\n"
     ]
    },
    {
     "name": "stdout",
     "output_type": "stream",
     "text": [
      "8\n"
     ]
    },
    {
     "name": "stderr",
     "output_type": "stream",
     "text": [
      "2020-09-03 14:36:57.280 | INFO     | yspecies.selection:fit:78 - ===== fitting models with seed 8 =====\n",
      "2020-09-03 14:36:57.282 | INFO     | yspecies.selection:fit:79 - PARAMETERS:\n",
      "{'objective': 'regression', 'metric': {'mae', 'huber', 'mse'}, 'verbosity': -1, 'boosting_type': 'dart', 'lambda_l1': 2.265633101154613, 'lambda_l2': 2.9232199794782074, 'max_leaves': 22, 'max_depth': 3, 'feature_fraction': 0.9013654534153324, 'bagging_fraction': 0.6446044093673937, 'learning_rate': 0.09227943984528733, 'min_data_in_leaf': 7, 'drop_rate': 0.15938150347995844, 'verbose': -1, 'seed': 7}\n",
      "2020-09-03 14:36:57.286 | INFO     | yspecies.selection:fit:82 - SEED: 8 | FOLD: 0 | VALIDATION_SPECIES: ['Pan_paniscus', 'Suricata_suricatta']\n"
     ]
    },
    {
     "name": "stdout",
     "output_type": "stream",
     "text": [
      "[LightGBM] [Warning] verbosity is set=-1, verbose=-1 will be ignored. Current value: verbosity=-1\n"
     ]
    },
    {
     "name": "stderr",
     "output_type": "stream",
     "text": [
      "Early stopping is not available in dart mode\n"
     ]
    },
    {
     "name": "stdout",
     "output_type": "stream",
     "text": [
      "[250]\tvalid_0's l1: 3.63696\tvalid_0's huber: 2.9196\tvalid_0's l2: 33.6112\n"
     ]
    },
    {
     "name": "stderr",
     "output_type": "stream",
     "text": [
      "2020-09-03 14:36:57.721 | INFO     | yspecies.selection:fit:82 - SEED: 8 | FOLD: 1 | VALIDATION_SPECIES: ['Macaca_fascicularis', 'Tupaia_belangeri']\n"
     ]
    },
    {
     "name": "stdout",
     "output_type": "stream",
     "text": [
      "[250]\tvalid_0's l1: 3.64795\tvalid_0's huber: 2.93737\tvalid_0's l2: 45.3385\n"
     ]
    },
    {
     "name": "stderr",
     "output_type": "stream",
     "text": [
      "2020-09-03 14:36:58.132 | INFO     | yspecies.selection:fit:82 - SEED: 8 | FOLD: 2 | VALIDATION_SPECIES: ['Ursus_americanus', 'Capra_hircus']\n"
     ]
    },
    {
     "name": "stdout",
     "output_type": "stream",
     "text": [
      "[250]\tvalid_0's l1: 3.90985\tvalid_0's huber: 3.18664\tvalid_0's l2: 45.2729\n"
     ]
    },
    {
     "name": "stderr",
     "output_type": "stream",
     "text": [
      "2020-09-03 14:36:58.580 | INFO     | yspecies.selection:fit:82 - SEED: 8 | FOLD: 3 | VALIDATION_SPECIES: ['Bos_taurus', 'Rhinolophus_ferrumequinum']\n"
     ]
    },
    {
     "name": "stdout",
     "output_type": "stream",
     "text": [
      "[250]\tvalid_0's l1: 4.01886\tvalid_0's huber: 3.28181\tvalid_0's l2: 76.9408\n"
     ]
    },
    {
     "name": "stderr",
     "output_type": "stream",
     "text": [
      "2020-09-03 14:37:04.869 | INFO     | yspecies.selection:transform:226 - Metrics: \n",
      "Metrics(R2=0.9282211199136657, MAE=3.803403207221046, MSE=50.29085168655091, huber=3.081356249114268)\n"
     ]
    },
    {
     "name": "stdout",
     "output_type": "stream",
     "text": [
      "9\n"
     ]
    },
    {
     "name": "stderr",
     "output_type": "stream",
     "text": [
      "2020-09-03 14:37:04.877 | INFO     | yspecies.selection:fit:78 - ===== fitting models with seed 9 =====\n",
      "2020-09-03 14:37:04.879 | INFO     | yspecies.selection:fit:79 - PARAMETERS:\n",
      "{'objective': 'regression', 'metric': {'mae', 'huber', 'mse'}, 'verbosity': -1, 'boosting_type': 'dart', 'lambda_l1': 2.265633101154613, 'lambda_l2': 2.9232199794782074, 'max_leaves': 22, 'max_depth': 3, 'feature_fraction': 0.9013654534153324, 'bagging_fraction': 0.6446044093673937, 'learning_rate': 0.09227943984528733, 'min_data_in_leaf': 7, 'drop_rate': 0.15938150347995844, 'verbose': -1, 'seed': 8}\n",
      "2020-09-03 14:37:04.883 | INFO     | yspecies.selection:fit:82 - SEED: 9 | FOLD: 0 | VALIDATION_SPECIES: ['Ictidomys_tridecemlineatus', 'Aotus_nancymaae']\n"
     ]
    },
    {
     "name": "stdout",
     "output_type": "stream",
     "text": [
      "[LightGBM] [Warning] verbosity is set=-1, verbose=-1 will be ignored. Current value: verbosity=-1\n"
     ]
    },
    {
     "name": "stderr",
     "output_type": "stream",
     "text": [
      "Early stopping is not available in dart mode\n"
     ]
    },
    {
     "name": "stdout",
     "output_type": "stream",
     "text": [
      "[250]\tvalid_0's l1: 5.19948\tvalid_0's huber: 4.32835\tvalid_0's l2: 103.803\n"
     ]
    },
    {
     "name": "stderr",
     "output_type": "stream",
     "text": [
      "2020-09-03 14:37:05.462 | INFO     | yspecies.selection:fit:82 - SEED: 9 | FOLD: 1 | VALIDATION_SPECIES: ['Pan_troglodytes', 'Oryctolagus_cuniculus']\n"
     ]
    },
    {
     "name": "stdout",
     "output_type": "stream",
     "text": [
      "[250]\tvalid_0's l1: 5.69455\tvalid_0's huber: 4.76622\tvalid_0's l2: 120.709\n"
     ]
    },
    {
     "name": "stderr",
     "output_type": "stream",
     "text": [
      "2020-09-03 14:37:06.034 | INFO     | yspecies.selection:fit:82 - SEED: 9 | FOLD: 2 | VALIDATION_SPECIES: ['Mesocricetus_auratus', 'Meriones_unguiculatus']\n"
     ]
    },
    {
     "name": "stdout",
     "output_type": "stream",
     "text": [
      "[250]\tvalid_0's l1: 4.65012\tvalid_0's huber: 3.82584\tvalid_0's l2: 58.7695\n"
     ]
    },
    {
     "name": "stderr",
     "output_type": "stream",
     "text": [
      "2020-09-03 14:37:06.609 | INFO     | yspecies.selection:fit:82 - SEED: 9 | FOLD: 3 | VALIDATION_SPECIES: ['Gorilla_gorilla', 'Microcebus_murinus']\n"
     ]
    },
    {
     "name": "stdout",
     "output_type": "stream",
     "text": [
      "[250]\tvalid_0's l1: 6.107\tvalid_0's huber: 5.13919\tvalid_0's l2: 158.855\n"
     ]
    },
    {
     "name": "stderr",
     "output_type": "stream",
     "text": [
      "2020-09-03 14:37:14.247 | INFO     | yspecies.selection:transform:226 - Metrics: \n",
      "Metrics(R2=0.8508801270950431, MAE=5.4127867417737265, MSE=110.53416381674785, huber=4.514899565689159)\n",
      "MultiObjectiveTrial is experimental (supported from v1.4.0). The interface can change in the future.\n",
      "MultiObjectiveStudy is experimental (supported from v1.4.0). The interface can change in the future.\n",
      "[I 2020-09-03 14:37:15,159] Trial 495 finished with values: [0.8958183288126221, 3.8268705264351426, 0.5672139581711965] with parameters: {'boosting_type': 'dart', 'lambda_l1': 2.265633101154613, 'lambda_l2': 2.9232199794782074, 'max_leaves': 22, 'max_depth': 3, 'feature_fraction': 0.9013654534153324, 'bagging_fraction': 0.6446044093673937, 'learning_rate': 0.09227943984528733, 'min_data_in_leaf': 7, 'drop_rate': 0.15938150347995844}.\n",
      "MultiObjectiveStudy is experimental (supported from v1.4.0). The interface can change in the future.\n",
      "FrozenMultiObjectiveTrial is experimental (supported from v1.4.0). The interface can change in the future.\n",
      "MultiObjectiveStudy is experimental (supported from v1.4.0). The interface can change in the future.\n",
      "FrozenMultiObjectiveTrial is experimental (supported from v1.4.0). The interface can change in the future.\n",
      "FrozenMultiObjectiveTrial is experimental (supported from v1.4.0). The interface can change in the future.\n",
      "MultiObjectiveTrial is experimental (supported from v1.4.0). The interface can change in the future.\n",
      "MultiObjectiveStudy is experimental (supported from v1.4.0). The interface can change in the future.\n",
      "FrozenMultiObjectiveTrial is experimental (supported from v1.4.0). The interface can change in the future.\n"
     ]
    },
    {
     "name": "stdout",
     "output_type": "stream",
     "text": [
      "0\n"
     ]
    },
    {
     "name": "stderr",
     "output_type": "stream",
     "text": [
      "2020-09-03 14:37:15.488 | INFO     | yspecies.selection:fit:78 - ===== fitting models with seed 0 =====\n",
      "2020-09-03 14:37:15.490 | INFO     | yspecies.selection:fit:79 - PARAMETERS:\n",
      "{'objective': 'regression', 'metric': {'mae', 'huber', 'mse'}, 'verbosity': -1, 'boosting_type': 'gbdt', 'lambda_l1': 0.3970175140579622, 'lambda_l2': 2.3500616173039672, 'max_leaves': 19, 'max_depth': 3, 'feature_fraction': 0.5168464794482679, 'bagging_fraction': 0.42259626867860933, 'learning_rate': 0.028070022667265784, 'min_data_in_leaf': 8, 'drop_rate': 0.16401872685861194, 'verbose': -1}\n",
      "2020-09-03 14:37:15.495 | INFO     | yspecies.selection:fit:82 - SEED: 0 | FOLD: 0 | VALIDATION_SPECIES: ['Gorilla_gorilla', 'Pan_paniscus']\n"
     ]
    },
    {
     "name": "stdout",
     "output_type": "stream",
     "text": [
      "[LightGBM] [Warning] verbosity is set=-1, verbose=-1 will be ignored. Current value: verbosity=-1\n",
      "Training until validation scores don't improve for 10 rounds\n",
      "[250]\tvalid_0's l1: 8.1504\tvalid_0's huber: 6.96909\tvalid_0's l2: 186.194\n",
      "Did not meet early stopping. Best iteration is:\n",
      "[250]\tvalid_0's l1: 8.1504\tvalid_0's huber: 6.96909\tvalid_0's l2: 186.194\n"
     ]
    },
    {
     "name": "stderr",
     "output_type": "stream",
     "text": [
      "2020-09-03 14:37:15.713 | INFO     | yspecies.selection:fit:82 - SEED: 0 | FOLD: 1 | VALIDATION_SPECIES: ['Heterocephalus_glaber', 'Capra_hircus']\n"
     ]
    },
    {
     "name": "stdout",
     "output_type": "stream",
     "text": [
      "Training until validation scores don't improve for 10 rounds\n",
      "[250]\tvalid_0's l1: 3.81387\tvalid_0's huber: 3.08324\tvalid_0's l2: 50.2425\n",
      "Did not meet early stopping. Best iteration is:\n",
      "[250]\tvalid_0's l1: 3.81387\tvalid_0's huber: 3.08324\tvalid_0's l2: 50.2425\n"
     ]
    },
    {
     "name": "stderr",
     "output_type": "stream",
     "text": [
      "2020-09-03 14:37:15.912 | INFO     | yspecies.selection:fit:82 - SEED: 0 | FOLD: 2 | VALIDATION_SPECIES: ['Bos_taurus', 'Otolemur_garnettii']\n"
     ]
    },
    {
     "name": "stdout",
     "output_type": "stream",
     "text": [
      "Training until validation scores don't improve for 10 rounds\n",
      "Early stopping, best iteration is:\n",
      "[192]\tvalid_0's l1: 3.17081\tvalid_0's huber: 2.53186\tvalid_0's l2: 33.9078\n"
     ]
    },
    {
     "name": "stderr",
     "output_type": "stream",
     "text": [
      "2020-09-03 14:37:16.096 | INFO     | yspecies.selection:fit:82 - SEED: 0 | FOLD: 3 | VALIDATION_SPECIES: ['Macaca_nemestrina', 'Microcebus_murinus']\n"
     ]
    },
    {
     "name": "stdout",
     "output_type": "stream",
     "text": [
      "Training until validation scores don't improve for 10 rounds\n",
      "[250]\tvalid_0's l1: 3.03137\tvalid_0's huber: 2.39919\tvalid_0's l2: 51.7796\n",
      "Did not meet early stopping. Best iteration is:\n",
      "[250]\tvalid_0's l1: 3.03137\tvalid_0's huber: 2.39919\tvalid_0's l2: 51.7796\n"
     ]
    },
    {
     "name": "stderr",
     "output_type": "stream",
     "text": [
      "2020-09-03 14:37:28.759 | INFO     | yspecies.selection:transform:226 - Metrics: \n",
      "Metrics(R2=0.8949459460290455, MAE=4.541613341529935, MSE=80.53102667359349, huber=3.740428480032798)\n"
     ]
    },
    {
     "name": "stdout",
     "output_type": "stream",
     "text": [
      "1\n"
     ]
    },
    {
     "name": "stderr",
     "output_type": "stream",
     "text": [
      "2020-09-03 14:37:28.771 | INFO     | yspecies.selection:fit:78 - ===== fitting models with seed 1 =====\n",
      "2020-09-03 14:37:28.772 | INFO     | yspecies.selection:fit:79 - PARAMETERS:\n",
      "{'objective': 'regression', 'metric': {'mae', 'huber', 'mse'}, 'verbosity': -1, 'boosting_type': 'gbdt', 'lambda_l1': 0.3970175140579622, 'lambda_l2': 2.3500616173039672, 'max_leaves': 19, 'max_depth': 3, 'feature_fraction': 0.5168464794482679, 'bagging_fraction': 0.42259626867860933, 'learning_rate': 0.028070022667265784, 'min_data_in_leaf': 8, 'drop_rate': 0.16401872685861194, 'verbose': -1, 'seed': 0}\n",
      "2020-09-03 14:37:28.777 | INFO     | yspecies.selection:fit:82 - SEED: 1 | FOLD: 0 | VALIDATION_SPECIES: ['Felis_catus', 'Ursus_americanus']\n"
     ]
    },
    {
     "name": "stdout",
     "output_type": "stream",
     "text": [
      "[LightGBM] [Warning] verbosity is set=-1, verbose=-1 will be ignored. Current value: verbosity=-1\n",
      "Training until validation scores don't improve for 10 rounds\n",
      "[250]\tvalid_0's l1: 3.54609\tvalid_0's huber: 2.837\tvalid_0's l2: 29.5511\n",
      "Did not meet early stopping. Best iteration is:\n",
      "[245]\tvalid_0's l1: 3.53741\tvalid_0's huber: 2.83021\tvalid_0's l2: 29.4705\n"
     ]
    },
    {
     "name": "stderr",
     "output_type": "stream",
     "text": [
      "2020-09-03 14:37:29.034 | INFO     | yspecies.selection:fit:82 - SEED: 1 | FOLD: 1 | VALIDATION_SPECIES: ['Heterocephalus_glaber', 'Vombatus_ursinus']\n"
     ]
    },
    {
     "name": "stdout",
     "output_type": "stream",
     "text": [
      "Training until validation scores don't improve for 10 rounds\n",
      "[250]\tvalid_0's l1: 4.12154\tvalid_0's huber: 3.37091\tvalid_0's l2: 59.9469\n",
      "Did not meet early stopping. Best iteration is:\n",
      "[250]\tvalid_0's l1: 4.12154\tvalid_0's huber: 3.37091\tvalid_0's l2: 59.9469\n"
     ]
    },
    {
     "name": "stderr",
     "output_type": "stream",
     "text": [
      "2020-09-03 14:37:29.256 | INFO     | yspecies.selection:fit:82 - SEED: 1 | FOLD: 2 | VALIDATION_SPECIES: ['Macaca_fascicularis', 'Rhinopithecus_bieti']\n"
     ]
    },
    {
     "name": "stdout",
     "output_type": "stream",
     "text": [
      "Training until validation scores don't improve for 10 rounds\n",
      "[250]\tvalid_0's l1: 2.50262\tvalid_0's huber: 1.94631\tvalid_0's l2: 27.1111\n",
      "Did not meet early stopping. Best iteration is:\n",
      "[248]\tvalid_0's l1: 2.50069\tvalid_0's huber: 1.94563\tvalid_0's l2: 27.1221\n"
     ]
    },
    {
     "name": "stderr",
     "output_type": "stream",
     "text": [
      "2020-09-03 14:37:29.469 | INFO     | yspecies.selection:fit:82 - SEED: 1 | FOLD: 3 | VALIDATION_SPECIES: ['Gorilla_gorilla', 'Ovis_aries']\n"
     ]
    },
    {
     "name": "stdout",
     "output_type": "stream",
     "text": [
      "Training until validation scores don't improve for 10 rounds\n",
      "[250]\tvalid_0's l1: 6.00307\tvalid_0's huber: 5.0757\tvalid_0's l2: 141.506\n",
      "Did not meet early stopping. Best iteration is:\n",
      "[249]\tvalid_0's l1: 6.00075\tvalid_0's huber: 5.07375\tvalid_0's l2: 141.365\n"
     ]
    },
    {
     "name": "stderr",
     "output_type": "stream",
     "text": [
      "2020-09-03 14:37:41.604 | INFO     | yspecies.selection:transform:226 - Metrics: \n",
      "Metrics(R2=0.9078682322546677, MAE=4.040096638348501, MSE=64.47602907139446, huber=3.306069610476619)\n"
     ]
    },
    {
     "name": "stdout",
     "output_type": "stream",
     "text": [
      "2\n"
     ]
    },
    {
     "name": "stderr",
     "output_type": "stream",
     "text": [
      "2020-09-03 14:37:41.615 | INFO     | yspecies.selection:fit:78 - ===== fitting models with seed 2 =====\n",
      "2020-09-03 14:37:41.617 | INFO     | yspecies.selection:fit:79 - PARAMETERS:\n",
      "{'objective': 'regression', 'metric': {'mae', 'huber', 'mse'}, 'verbosity': -1, 'boosting_type': 'gbdt', 'lambda_l1': 0.3970175140579622, 'lambda_l2': 2.3500616173039672, 'max_leaves': 19, 'max_depth': 3, 'feature_fraction': 0.5168464794482679, 'bagging_fraction': 0.42259626867860933, 'learning_rate': 0.028070022667265784, 'min_data_in_leaf': 8, 'drop_rate': 0.16401872685861194, 'verbose': -1, 'seed': 1}\n",
      "2020-09-03 14:37:41.621 | INFO     | yspecies.selection:fit:82 - SEED: 2 | FOLD: 0 | VALIDATION_SPECIES: ['Rhinopithecus_bieti', 'Ursus_americanus']\n"
     ]
    },
    {
     "name": "stdout",
     "output_type": "stream",
     "text": [
      "[LightGBM] [Warning] verbosity is set=-1, verbose=-1 will be ignored. Current value: verbosity=-1\n",
      "Training until validation scores don't improve for 10 rounds\n",
      "[250]\tvalid_0's l1: 2.8987\tvalid_0's huber: 2.25352\tvalid_0's l2: 18.7298\n",
      "Did not meet early stopping. Best iteration is:\n",
      "[249]\tvalid_0's l1: 2.89828\tvalid_0's huber: 2.25298\tvalid_0's l2: 18.7216\n"
     ]
    },
    {
     "name": "stderr",
     "output_type": "stream",
     "text": [
      "2020-09-03 14:37:41.869 | INFO     | yspecies.selection:fit:82 - SEED: 2 | FOLD: 1 | VALIDATION_SPECIES: ['Aotus_nancymaae', 'Phascolarctos_cinereus']\n"
     ]
    },
    {
     "name": "stdout",
     "output_type": "stream",
     "text": [
      "Training until validation scores don't improve for 10 rounds\n",
      "[250]\tvalid_0's l1: 4.51605\tvalid_0's huber: 3.71335\tvalid_0's l2: 49.8671\n",
      "Did not meet early stopping. Best iteration is:\n",
      "[250]\tvalid_0's l1: 4.51605\tvalid_0's huber: 3.71335\tvalid_0's l2: 49.8671\n"
     ]
    },
    {
     "name": "stderr",
     "output_type": "stream",
     "text": [
      "2020-09-03 14:37:42.062 | INFO     | yspecies.selection:fit:82 - SEED: 2 | FOLD: 2 | VALIDATION_SPECIES: ['Vombatus_ursinus', 'Ailuropoda_melanoleuca']\n"
     ]
    },
    {
     "name": "stdout",
     "output_type": "stream",
     "text": [
      "Training until validation scores don't improve for 10 rounds\n",
      "[250]\tvalid_0's l1: 2.81989\tvalid_0's huber: 2.20695\tvalid_0's l2: 21.8713\n",
      "Did not meet early stopping. Best iteration is:\n",
      "[249]\tvalid_0's l1: 2.81837\tvalid_0's huber: 2.2062\tvalid_0's l2: 21.8508\n"
     ]
    },
    {
     "name": "stderr",
     "output_type": "stream",
     "text": [
      "2020-09-03 14:37:42.254 | INFO     | yspecies.selection:fit:82 - SEED: 2 | FOLD: 3 | VALIDATION_SPECIES: ['Rattus_norvegicus', 'Monodelphis_domestica']\n"
     ]
    },
    {
     "name": "stdout",
     "output_type": "stream",
     "text": [
      "Training until validation scores don't improve for 10 rounds\n",
      "[250]\tvalid_0's l1: 6.03219\tvalid_0's huber: 5.03924\tvalid_0's l2: 73.2241\n",
      "Did not meet early stopping. Best iteration is:\n",
      "[250]\tvalid_0's l1: 6.03219\tvalid_0's huber: 5.03924\tvalid_0's l2: 73.2241\n"
     ]
    },
    {
     "name": "stderr",
     "output_type": "stream",
     "text": [
      "2020-09-03 14:37:55.251 | INFO     | yspecies.selection:transform:226 - Metrics: \n",
      "Metrics(R2=0.9312447235091454, MAE=4.066222685267102, MSE=40.9159107033427, huber=3.303262384616824)\n"
     ]
    },
    {
     "name": "stdout",
     "output_type": "stream",
     "text": [
      "3\n"
     ]
    },
    {
     "name": "stderr",
     "output_type": "stream",
     "text": [
      "2020-09-03 14:37:55.259 | INFO     | yspecies.selection:fit:78 - ===== fitting models with seed 3 =====\n",
      "2020-09-03 14:37:55.260 | INFO     | yspecies.selection:fit:79 - PARAMETERS:\n",
      "{'objective': 'regression', 'metric': {'mae', 'huber', 'mse'}, 'verbosity': -1, 'boosting_type': 'gbdt', 'lambda_l1': 0.3970175140579622, 'lambda_l2': 2.3500616173039672, 'max_leaves': 19, 'max_depth': 3, 'feature_fraction': 0.5168464794482679, 'bagging_fraction': 0.42259626867860933, 'learning_rate': 0.028070022667265784, 'min_data_in_leaf': 8, 'drop_rate': 0.16401872685861194, 'verbose': -1, 'seed': 2}\n",
      "2020-09-03 14:37:55.265 | INFO     | yspecies.selection:fit:82 - SEED: 3 | FOLD: 0 | VALIDATION_SPECIES: ['Microcebus_murinus', 'Pan_paniscus']\n"
     ]
    },
    {
     "name": "stdout",
     "output_type": "stream",
     "text": [
      "[LightGBM] [Warning] verbosity is set=-1, verbose=-1 will be ignored. Current value: verbosity=-1\n",
      "Training until validation scores don't improve for 10 rounds\n",
      "Early stopping, best iteration is:\n",
      "[148]\tvalid_0's l1: 3.69155\tvalid_0's huber: 2.95633\tvalid_0's l2: 31.5379\n"
     ]
    },
    {
     "name": "stderr",
     "output_type": "stream",
     "text": [
      "2020-09-03 14:37:55.425 | INFO     | yspecies.selection:fit:82 - SEED: 3 | FOLD: 1 | VALIDATION_SPECIES: ['Ursus_americanus', 'Gorilla_gorilla']\n"
     ]
    },
    {
     "name": "stdout",
     "output_type": "stream",
     "text": [
      "Training until validation scores don't improve for 10 rounds\n",
      "[250]\tvalid_0's l1: 6.46518\tvalid_0's huber: 5.44974\tvalid_0's l2: 116.577\n",
      "Did not meet early stopping. Best iteration is:\n",
      "[250]\tvalid_0's l1: 6.46518\tvalid_0's huber: 5.44974\tvalid_0's l2: 116.577\n"
     ]
    },
    {
     "name": "stderr",
     "output_type": "stream",
     "text": [
      "2020-09-03 14:37:55.744 | INFO     | yspecies.selection:fit:82 - SEED: 3 | FOLD: 2 | VALIDATION_SPECIES: ['Bos_taurus', 'Capra_hircus']\n"
     ]
    },
    {
     "name": "stdout",
     "output_type": "stream",
     "text": [
      "Training until validation scores don't improve for 10 rounds\n",
      "[250]\tvalid_0's l1: 3.35043\tvalid_0's huber: 2.65778\tvalid_0's l2: 33.9862\n",
      "Did not meet early stopping. Best iteration is:\n",
      "[250]\tvalid_0's l1: 3.35043\tvalid_0's huber: 2.65778\tvalid_0's l2: 33.9862\n"
     ]
    },
    {
     "name": "stderr",
     "output_type": "stream",
     "text": [
      "2020-09-03 14:37:56.009 | INFO     | yspecies.selection:fit:82 - SEED: 3 | FOLD: 3 | VALIDATION_SPECIES: ['Rhinolophus_ferrumequinum', 'Mus_musculus']\n"
     ]
    },
    {
     "name": "stdout",
     "output_type": "stream",
     "text": [
      "Training until validation scores don't improve for 10 rounds\n",
      "[250]\tvalid_0's l1: 2.44857\tvalid_0's huber: 1.87213\tvalid_0's l2: 30.9161\n",
      "Did not meet early stopping. Best iteration is:\n",
      "[250]\tvalid_0's l1: 2.44857\tvalid_0's huber: 1.87213\tvalid_0's l2: 30.9161\n"
     ]
    },
    {
     "name": "stderr",
     "output_type": "stream",
     "text": [
      "2020-09-03 14:38:07.503 | INFO     | yspecies.selection:transform:226 - Metrics: \n",
      "Metrics(R2=0.9289405783367407, MAE=3.9889319807018806, MSE=53.2542189845377, huber=3.2328969275244592)\n"
     ]
    },
    {
     "name": "stdout",
     "output_type": "stream",
     "text": [
      "4\n"
     ]
    },
    {
     "name": "stderr",
     "output_type": "stream",
     "text": [
      "2020-09-03 14:38:07.512 | INFO     | yspecies.selection:fit:78 - ===== fitting models with seed 4 =====\n",
      "2020-09-03 14:38:07.513 | INFO     | yspecies.selection:fit:79 - PARAMETERS:\n",
      "{'objective': 'regression', 'metric': {'mae', 'huber', 'mse'}, 'verbosity': -1, 'boosting_type': 'gbdt', 'lambda_l1': 0.3970175140579622, 'lambda_l2': 2.3500616173039672, 'max_leaves': 19, 'max_depth': 3, 'feature_fraction': 0.5168464794482679, 'bagging_fraction': 0.42259626867860933, 'learning_rate': 0.028070022667265784, 'min_data_in_leaf': 8, 'drop_rate': 0.16401872685861194, 'verbose': -1, 'seed': 3}\n",
      "2020-09-03 14:38:07.517 | INFO     | yspecies.selection:fit:82 - SEED: 4 | FOLD: 0 | VALIDATION_SPECIES: ['Macaca_fascicularis', 'Pan_troglodytes']\n"
     ]
    },
    {
     "name": "stdout",
     "output_type": "stream",
     "text": [
      "[LightGBM] [Warning] verbosity is set=-1, verbose=-1 will be ignored. Current value: verbosity=-1\n",
      "Training until validation scores don't improve for 10 rounds\n",
      "[250]\tvalid_0's l1: 3.25708\tvalid_0's huber: 2.57587\tvalid_0's l2: 33.5415\n",
      "Did not meet early stopping. Best iteration is:\n",
      "[250]\tvalid_0's l1: 3.25708\tvalid_0's huber: 2.57587\tvalid_0's l2: 33.5415\n"
     ]
    },
    {
     "name": "stderr",
     "output_type": "stream",
     "text": [
      "2020-09-03 14:38:07.745 | INFO     | yspecies.selection:fit:82 - SEED: 4 | FOLD: 1 | VALIDATION_SPECIES: ['Otolemur_garnettii', 'Ursus_americanus']\n"
     ]
    },
    {
     "name": "stdout",
     "output_type": "stream",
     "text": [
      "Training until validation scores don't improve for 10 rounds\n",
      "[250]\tvalid_0's l1: 3.49402\tvalid_0's huber: 2.81876\tvalid_0's l2: 53.4983\n",
      "Did not meet early stopping. Best iteration is:\n",
      "[250]\tvalid_0's l1: 3.49402\tvalid_0's huber: 2.81876\tvalid_0's l2: 53.4983\n"
     ]
    },
    {
     "name": "stderr",
     "output_type": "stream",
     "text": [
      "2020-09-03 14:38:07.978 | INFO     | yspecies.selection:fit:82 - SEED: 4 | FOLD: 2 | VALIDATION_SPECIES: ['Heterocephalus_glaber', 'Cavia_aperea']\n"
     ]
    },
    {
     "name": "stdout",
     "output_type": "stream",
     "text": [
      "Training until validation scores don't improve for 10 rounds\n",
      "[250]\tvalid_0's l1: 3.41728\tvalid_0's huber: 2.74629\tvalid_0's l2: 28.954\n",
      "Did not meet early stopping. Best iteration is:\n",
      "[250]\tvalid_0's l1: 3.41728\tvalid_0's huber: 2.74629\tvalid_0's l2: 28.954\n"
     ]
    },
    {
     "name": "stderr",
     "output_type": "stream",
     "text": [
      "2020-09-03 14:38:08.323 | INFO     | yspecies.selection:fit:82 - SEED: 4 | FOLD: 3 | VALIDATION_SPECIES: ['Pan_paniscus', 'Gorilla_gorilla']\n"
     ]
    },
    {
     "name": "stdout",
     "output_type": "stream",
     "text": [
      "Training until validation scores don't improve for 10 rounds\n",
      "[250]\tvalid_0's l1: 6.80666\tvalid_0's huber: 5.77239\tvalid_0's l2: 147.703\n",
      "Did not meet early stopping. Best iteration is:\n",
      "[250]\tvalid_0's l1: 6.80666\tvalid_0's huber: 5.77239\tvalid_0's l2: 147.703\n"
     ]
    },
    {
     "name": "stderr",
     "output_type": "stream",
     "text": [
      "2020-09-03 14:38:23.325 | INFO     | yspecies.selection:transform:226 - Metrics: \n",
      "Metrics(R2=0.9111817223889017, MAE=4.243760608084806, MSE=65.92418490468518, huber=3.478328372948708)\n"
     ]
    },
    {
     "name": "stdout",
     "output_type": "stream",
     "text": [
      "5\n"
     ]
    },
    {
     "name": "stderr",
     "output_type": "stream",
     "text": [
      "2020-09-03 14:38:23.333 | INFO     | yspecies.selection:fit:78 - ===== fitting models with seed 5 =====\n",
      "2020-09-03 14:38:23.335 | INFO     | yspecies.selection:fit:79 - PARAMETERS:\n",
      "{'objective': 'regression', 'metric': {'mae', 'huber', 'mse'}, 'verbosity': -1, 'boosting_type': 'gbdt', 'lambda_l1': 0.3970175140579622, 'lambda_l2': 2.3500616173039672, 'max_leaves': 19, 'max_depth': 3, 'feature_fraction': 0.5168464794482679, 'bagging_fraction': 0.42259626867860933, 'learning_rate': 0.028070022667265784, 'min_data_in_leaf': 8, 'drop_rate': 0.16401872685861194, 'verbose': -1, 'seed': 4}\n",
      "2020-09-03 14:38:23.339 | INFO     | yspecies.selection:fit:82 - SEED: 5 | FOLD: 0 | VALIDATION_SPECIES: ['Mus_spicilegus', 'Canis_lupus_familiaris']\n"
     ]
    },
    {
     "name": "stdout",
     "output_type": "stream",
     "text": [
      "[LightGBM] [Warning] verbosity is set=-1, verbose=-1 will be ignored. Current value: verbosity=-1\n",
      "Training until validation scores don't improve for 10 rounds\n",
      "[250]\tvalid_0's l1: 2.80072\tvalid_0's huber: 2.17033\tvalid_0's l2: 22.0215\n",
      "Did not meet early stopping. Best iteration is:\n",
      "[250]\tvalid_0's l1: 2.80072\tvalid_0's huber: 2.17033\tvalid_0's l2: 22.0215\n"
     ]
    },
    {
     "name": "stderr",
     "output_type": "stream",
     "text": [
      "2020-09-03 14:38:23.566 | INFO     | yspecies.selection:fit:82 - SEED: 5 | FOLD: 1 | VALIDATION_SPECIES: ['Ovis_aries', 'Heterocephalus_glaber']\n"
     ]
    },
    {
     "name": "stdout",
     "output_type": "stream",
     "text": [
      "Training until validation scores don't improve for 10 rounds\n",
      "[250]\tvalid_0's l1: 4.38349\tvalid_0's huber: 3.60025\tvalid_0's l2: 106.347\n",
      "Did not meet early stopping. Best iteration is:\n",
      "[250]\tvalid_0's l1: 4.38349\tvalid_0's huber: 3.60025\tvalid_0's l2: 106.347\n"
     ]
    },
    {
     "name": "stderr",
     "output_type": "stream",
     "text": [
      "2020-09-03 14:38:23.802 | INFO     | yspecies.selection:fit:82 - SEED: 5 | FOLD: 2 | VALIDATION_SPECIES: ['Ursus_americanus', 'Oryctolagus_cuniculus']\n"
     ]
    },
    {
     "name": "stdout",
     "output_type": "stream",
     "text": [
      "Training until validation scores don't improve for 10 rounds\n",
      "[250]\tvalid_0's l1: 4.91145\tvalid_0's huber: 4.08483\tvalid_0's l2: 94.2035\n",
      "Did not meet early stopping. Best iteration is:\n",
      "[249]\tvalid_0's l1: 4.91051\tvalid_0's huber: 4.08366\tvalid_0's l2: 94.1998\n"
     ]
    },
    {
     "name": "stderr",
     "output_type": "stream",
     "text": [
      "2020-09-03 14:38:23.994 | INFO     | yspecies.selection:fit:82 - SEED: 5 | FOLD: 3 | VALIDATION_SPECIES: ['Cavia_aperea', 'Ailuropoda_melanoleuca']\n"
     ]
    },
    {
     "name": "stdout",
     "output_type": "stream",
     "text": [
      "Training until validation scores don't improve for 10 rounds\n",
      "[250]\tvalid_0's l1: 4.11386\tvalid_0's huber: 3.3675\tvalid_0's l2: 59.0008\n",
      "Did not meet early stopping. Best iteration is:\n",
      "[250]\tvalid_0's l1: 4.11386\tvalid_0's huber: 3.3675\tvalid_0's l2: 59.0008\n"
     ]
    },
    {
     "name": "stderr",
     "output_type": "stream",
     "text": [
      "2020-09-03 14:38:38.793 | INFO     | yspecies.selection:transform:226 - Metrics: \n",
      "Metrics(R2=0.903439889156739, MAE=4.0521435621039075, MSE=70.39236073532076, huber=3.3057264402818554)\n"
     ]
    },
    {
     "name": "stdout",
     "output_type": "stream",
     "text": [
      "6\n"
     ]
    },
    {
     "name": "stderr",
     "output_type": "stream",
     "text": [
      "2020-09-03 14:38:38.804 | INFO     | yspecies.selection:fit:78 - ===== fitting models with seed 6 =====\n",
      "2020-09-03 14:38:38.806 | INFO     | yspecies.selection:fit:79 - PARAMETERS:\n",
      "{'objective': 'regression', 'metric': {'mae', 'huber', 'mse'}, 'verbosity': -1, 'boosting_type': 'gbdt', 'lambda_l1': 0.3970175140579622, 'lambda_l2': 2.3500616173039672, 'max_leaves': 19, 'max_depth': 3, 'feature_fraction': 0.5168464794482679, 'bagging_fraction': 0.42259626867860933, 'learning_rate': 0.028070022667265784, 'min_data_in_leaf': 8, 'drop_rate': 0.16401872685861194, 'verbose': -1, 'seed': 5}\n",
      "2020-09-03 14:38:38.811 | INFO     | yspecies.selection:fit:82 - SEED: 6 | FOLD: 0 | VALIDATION_SPECIES: ['Rhinolophus_ferrumequinum', 'Heterocephalus_glaber']\n"
     ]
    },
    {
     "name": "stdout",
     "output_type": "stream",
     "text": [
      "[LightGBM] [Warning] verbosity is set=-1, verbose=-1 will be ignored. Current value: verbosity=-1\n",
      "Training until validation scores don't improve for 10 rounds\n",
      "[250]\tvalid_0's l1: 3.22803\tvalid_0's huber: 2.5787\tvalid_0's l2: 31.6801\n",
      "Did not meet early stopping. Best iteration is:\n",
      "[250]\tvalid_0's l1: 3.22803\tvalid_0's huber: 2.5787\tvalid_0's l2: 31.6801\n"
     ]
    },
    {
     "name": "stderr",
     "output_type": "stream",
     "text": [
      "2020-09-03 14:38:39.019 | INFO     | yspecies.selection:fit:82 - SEED: 6 | FOLD: 1 | VALIDATION_SPECIES: ['Mus_spicilegus', 'Suricata_suricatta']\n"
     ]
    },
    {
     "name": "stdout",
     "output_type": "stream",
     "text": [
      "Training until validation scores don't improve for 10 rounds\n",
      "[250]\tvalid_0's l1: 3.71839\tvalid_0's huber: 3.00957\tvalid_0's l2: 45.1197\n",
      "Did not meet early stopping. Best iteration is:\n",
      "[250]\tvalid_0's l1: 3.71839\tvalid_0's huber: 3.00957\tvalid_0's l2: 45.1197\n"
     ]
    },
    {
     "name": "stderr",
     "output_type": "stream",
     "text": [
      "2020-09-03 14:38:39.215 | INFO     | yspecies.selection:fit:82 - SEED: 6 | FOLD: 2 | VALIDATION_SPECIES: ['Rhinopithecus_bieti', 'Ovis_aries']\n"
     ]
    },
    {
     "name": "stdout",
     "output_type": "stream",
     "text": [
      "Training until validation scores don't improve for 10 rounds\n",
      "[250]\tvalid_0's l1: 2.45749\tvalid_0's huber: 1.89325\tvalid_0's l2: 19.2917\n",
      "Did not meet early stopping. Best iteration is:\n",
      "[249]\tvalid_0's l1: 2.4574\tvalid_0's huber: 1.89292\tvalid_0's l2: 19.2927\n"
     ]
    },
    {
     "name": "stderr",
     "output_type": "stream",
     "text": [
      "2020-09-03 14:38:39.434 | INFO     | yspecies.selection:fit:82 - SEED: 6 | FOLD: 3 | VALIDATION_SPECIES: ['Cavia_porcellus', 'Pan_troglodytes']\n"
     ]
    },
    {
     "name": "stdout",
     "output_type": "stream",
     "text": [
      "Training until validation scores don't improve for 10 rounds\n",
      "[250]\tvalid_0's l1: 3.664\tvalid_0's huber: 2.94251\tvalid_0's l2: 48.7984\n",
      "Did not meet early stopping. Best iteration is:\n",
      "[250]\tvalid_0's l1: 3.664\tvalid_0's huber: 2.94251\tvalid_0's l2: 48.7984\n"
     ]
    },
    {
     "name": "stderr",
     "output_type": "stream",
     "text": [
      "2020-09-03 14:38:53.851 | INFO     | yspecies.selection:transform:226 - Metrics: \n",
      "Metrics(R2=0.9495747852670262, MAE=3.266957161317764, MSE=36.22272277486709, huber=2.606007120141695)\n"
     ]
    },
    {
     "name": "stdout",
     "output_type": "stream",
     "text": [
      "7\n"
     ]
    },
    {
     "name": "stderr",
     "output_type": "stream",
     "text": [
      "2020-09-03 14:38:53.860 | INFO     | yspecies.selection:fit:78 - ===== fitting models with seed 7 =====\n",
      "2020-09-03 14:38:53.861 | INFO     | yspecies.selection:fit:79 - PARAMETERS:\n",
      "{'objective': 'regression', 'metric': {'mae', 'huber', 'mse'}, 'verbosity': -1, 'boosting_type': 'gbdt', 'lambda_l1': 0.3970175140579622, 'lambda_l2': 2.3500616173039672, 'max_leaves': 19, 'max_depth': 3, 'feature_fraction': 0.5168464794482679, 'bagging_fraction': 0.42259626867860933, 'learning_rate': 0.028070022667265784, 'min_data_in_leaf': 8, 'drop_rate': 0.16401872685861194, 'verbose': -1, 'seed': 6}\n",
      "2020-09-03 14:38:53.865 | INFO     | yspecies.selection:fit:82 - SEED: 7 | FOLD: 0 | VALIDATION_SPECIES: ['Macaca_mulatta', 'Cavia_porcellus']\n"
     ]
    },
    {
     "name": "stdout",
     "output_type": "stream",
     "text": [
      "[LightGBM] [Warning] verbosity is set=-1, verbose=-1 will be ignored. Current value: verbosity=-1\n",
      "Training until validation scores don't improve for 10 rounds\n",
      "[250]\tvalid_0's l1: 3.2549\tvalid_0's huber: 2.57107\tvalid_0's l2: 25.5637\n",
      "Did not meet early stopping. Best iteration is:\n",
      "[250]\tvalid_0's l1: 3.2549\tvalid_0's huber: 2.57107\tvalid_0's l2: 25.5637\n"
     ]
    },
    {
     "name": "stderr",
     "output_type": "stream",
     "text": [
      "2020-09-03 14:38:54.110 | INFO     | yspecies.selection:fit:82 - SEED: 7 | FOLD: 1 | VALIDATION_SPECIES: ['Pan_paniscus', 'Capra_hircus']\n"
     ]
    },
    {
     "name": "stdout",
     "output_type": "stream",
     "text": [
      "Training until validation scores don't improve for 10 rounds\n",
      "[250]\tvalid_0's l1: 3.42724\tvalid_0's huber: 2.7373\tvalid_0's l2: 39.2516\n",
      "Did not meet early stopping. Best iteration is:\n",
      "[250]\tvalid_0's l1: 3.42724\tvalid_0's huber: 2.7373\tvalid_0's l2: 39.2516\n"
     ]
    },
    {
     "name": "stderr",
     "output_type": "stream",
     "text": [
      "2020-09-03 14:38:54.338 | INFO     | yspecies.selection:fit:82 - SEED: 7 | FOLD: 2 | VALIDATION_SPECIES: ['Otolemur_garnettii', 'Ictidomys_tridecemlineatus']\n"
     ]
    },
    {
     "name": "stdout",
     "output_type": "stream",
     "text": [
      "Training until validation scores don't improve for 10 rounds\n",
      "[250]\tvalid_0's l1: 3.782\tvalid_0's huber: 3.07811\tvalid_0's l2: 35.6334\n",
      "Did not meet early stopping. Best iteration is:\n",
      "[250]\tvalid_0's l1: 3.782\tvalid_0's huber: 3.07811\tvalid_0's l2: 35.6334\n"
     ]
    },
    {
     "name": "stderr",
     "output_type": "stream",
     "text": [
      "2020-09-03 14:38:54.615 | INFO     | yspecies.selection:fit:82 - SEED: 7 | FOLD: 3 | VALIDATION_SPECIES: ['Canis_lupus_familiaris', 'Ursus_americanus']\n"
     ]
    },
    {
     "name": "stdout",
     "output_type": "stream",
     "text": [
      "Training until validation scores don't improve for 10 rounds\n",
      "[250]\tvalid_0's l1: 3.42204\tvalid_0's huber: 2.7551\tvalid_0's l2: 42.8486\n",
      "Did not meet early stopping. Best iteration is:\n",
      "[250]\tvalid_0's l1: 3.42204\tvalid_0's huber: 2.7551\tvalid_0's l2: 42.8486\n"
     ]
    },
    {
     "name": "stderr",
     "output_type": "stream",
     "text": [
      "2020-09-03 14:39:07.677 | INFO     | yspecies.selection:transform:226 - Metrics: \n",
      "Metrics(R2=0.9501221572415822, MAE=3.4715438205553006, MSE=35.82432829321512, huber=2.785393664963933)\n"
     ]
    },
    {
     "name": "stdout",
     "output_type": "stream",
     "text": [
      "8\n"
     ]
    },
    {
     "name": "stderr",
     "output_type": "stream",
     "text": [
      "2020-09-03 14:39:07.689 | INFO     | yspecies.selection:fit:78 - ===== fitting models with seed 8 =====\n",
      "2020-09-03 14:39:07.691 | INFO     | yspecies.selection:fit:79 - PARAMETERS:\n",
      "{'objective': 'regression', 'metric': {'mae', 'huber', 'mse'}, 'verbosity': -1, 'boosting_type': 'gbdt', 'lambda_l1': 0.3970175140579622, 'lambda_l2': 2.3500616173039672, 'max_leaves': 19, 'max_depth': 3, 'feature_fraction': 0.5168464794482679, 'bagging_fraction': 0.42259626867860933, 'learning_rate': 0.028070022667265784, 'min_data_in_leaf': 8, 'drop_rate': 0.16401872685861194, 'verbose': -1, 'seed': 7}\n",
      "2020-09-03 14:39:07.695 | INFO     | yspecies.selection:fit:82 - SEED: 8 | FOLD: 0 | VALIDATION_SPECIES: ['Pan_paniscus', 'Suricata_suricatta']\n"
     ]
    },
    {
     "name": "stdout",
     "output_type": "stream",
     "text": [
      "[LightGBM] [Warning] verbosity is set=-1, verbose=-1 will be ignored. Current value: verbosity=-1\n",
      "Training until validation scores don't improve for 10 rounds\n",
      "Early stopping, best iteration is:\n",
      "[198]\tvalid_0's l1: 2.98874\tvalid_0's huber: 2.34066\tvalid_0's l2: 24.9382\n"
     ]
    },
    {
     "name": "stderr",
     "output_type": "stream",
     "text": [
      "2020-09-03 14:39:07.905 | INFO     | yspecies.selection:fit:82 - SEED: 8 | FOLD: 1 | VALIDATION_SPECIES: ['Macaca_fascicularis', 'Tupaia_belangeri']\n"
     ]
    },
    {
     "name": "stdout",
     "output_type": "stream",
     "text": [
      "Training until validation scores don't improve for 10 rounds\n",
      "[250]\tvalid_0's l1: 3.09331\tvalid_0's huber: 2.44923\tvalid_0's l2: 28.9359\n",
      "Did not meet early stopping. Best iteration is:\n",
      "[250]\tvalid_0's l1: 3.09331\tvalid_0's huber: 2.44923\tvalid_0's l2: 28.9359\n"
     ]
    },
    {
     "name": "stderr",
     "output_type": "stream",
     "text": [
      "2020-09-03 14:39:08.105 | INFO     | yspecies.selection:fit:82 - SEED: 8 | FOLD: 2 | VALIDATION_SPECIES: ['Ursus_americanus', 'Capra_hircus']\n"
     ]
    },
    {
     "name": "stdout",
     "output_type": "stream",
     "text": [
      "Training until validation scores don't improve for 10 rounds\n",
      "[250]\tvalid_0's l1: 3.03864\tvalid_0's huber: 2.40544\tvalid_0's l2: 32.5305\n",
      "Did not meet early stopping. Best iteration is:\n",
      "[249]\tvalid_0's l1: 3.03863\tvalid_0's huber: 2.40573\tvalid_0's l2: 32.5429\n"
     ]
    },
    {
     "name": "stderr",
     "output_type": "stream",
     "text": [
      "2020-09-03 14:39:08.316 | INFO     | yspecies.selection:fit:82 - SEED: 8 | FOLD: 3 | VALIDATION_SPECIES: ['Bos_taurus', 'Rhinolophus_ferrumequinum']\n"
     ]
    },
    {
     "name": "stdout",
     "output_type": "stream",
     "text": [
      "Training until validation scores don't improve for 10 rounds\n",
      "[250]\tvalid_0's l1: 2.96478\tvalid_0's huber: 2.34131\tvalid_0's l2: 41.8691\n",
      "Did not meet early stopping. Best iteration is:\n",
      "[250]\tvalid_0's l1: 2.96478\tvalid_0's huber: 2.34131\tvalid_0's l2: 41.8691\n"
     ]
    },
    {
     "name": "stderr",
     "output_type": "stream",
     "text": [
      "2020-09-03 14:39:21.303 | INFO     | yspecies.selection:transform:226 - Metrics: \n",
      "Metrics(R2=0.9548304815953346, MAE=3.021363111347278, MSE=32.07151744289649, huber=2.384713578579629)\n"
     ]
    },
    {
     "name": "stdout",
     "output_type": "stream",
     "text": [
      "9\n"
     ]
    },
    {
     "name": "stderr",
     "output_type": "stream",
     "text": [
      "2020-09-03 14:39:21.314 | INFO     | yspecies.selection:fit:78 - ===== fitting models with seed 9 =====\n",
      "2020-09-03 14:39:21.316 | INFO     | yspecies.selection:fit:79 - PARAMETERS:\n",
      "{'objective': 'regression', 'metric': {'mae', 'huber', 'mse'}, 'verbosity': -1, 'boosting_type': 'gbdt', 'lambda_l1': 0.3970175140579622, 'lambda_l2': 2.3500616173039672, 'max_leaves': 19, 'max_depth': 3, 'feature_fraction': 0.5168464794482679, 'bagging_fraction': 0.42259626867860933, 'learning_rate': 0.028070022667265784, 'min_data_in_leaf': 8, 'drop_rate': 0.16401872685861194, 'verbose': -1, 'seed': 8}\n",
      "2020-09-03 14:39:21.321 | INFO     | yspecies.selection:fit:82 - SEED: 9 | FOLD: 0 | VALIDATION_SPECIES: ['Ictidomys_tridecemlineatus', 'Aotus_nancymaae']\n"
     ]
    },
    {
     "name": "stdout",
     "output_type": "stream",
     "text": [
      "[LightGBM] [Warning] verbosity is set=-1, verbose=-1 will be ignored. Current value: verbosity=-1\n",
      "Training until validation scores don't improve for 10 rounds\n",
      "[250]\tvalid_0's l1: 3.27335\tvalid_0's huber: 2.62248\tvalid_0's l2: 29.1519\n",
      "Did not meet early stopping. Best iteration is:\n",
      "[250]\tvalid_0's l1: 3.27335\tvalid_0's huber: 2.62248\tvalid_0's l2: 29.1519\n"
     ]
    },
    {
     "name": "stderr",
     "output_type": "stream",
     "text": [
      "2020-09-03 14:39:21.573 | INFO     | yspecies.selection:fit:82 - SEED: 9 | FOLD: 1 | VALIDATION_SPECIES: ['Pan_troglodytes', 'Oryctolagus_cuniculus']\n"
     ]
    },
    {
     "name": "stdout",
     "output_type": "stream",
     "text": [
      "Training until validation scores don't improve for 10 rounds\n",
      "[250]\tvalid_0's l1: 5.09072\tvalid_0's huber: 4.23517\tvalid_0's l2: 83.2493\n",
      "Did not meet early stopping. Best iteration is:\n",
      "[250]\tvalid_0's l1: 5.09072\tvalid_0's huber: 4.23517\tvalid_0's l2: 83.2493\n"
     ]
    },
    {
     "name": "stderr",
     "output_type": "stream",
     "text": [
      "2020-09-03 14:39:21.773 | INFO     | yspecies.selection:fit:82 - SEED: 9 | FOLD: 2 | VALIDATION_SPECIES: ['Mesocricetus_auratus', 'Meriones_unguiculatus']\n"
     ]
    },
    {
     "name": "stdout",
     "output_type": "stream",
     "text": [
      "Training until validation scores don't improve for 10 rounds\n",
      "[250]\tvalid_0's l1: 3.88303\tvalid_0's huber: 3.14318\tvalid_0's l2: 46.2453\n",
      "Did not meet early stopping. Best iteration is:\n",
      "[250]\tvalid_0's l1: 3.88303\tvalid_0's huber: 3.14318\tvalid_0's l2: 46.2453\n"
     ]
    },
    {
     "name": "stderr",
     "output_type": "stream",
     "text": [
      "2020-09-03 14:39:21.968 | INFO     | yspecies.selection:fit:82 - SEED: 9 | FOLD: 3 | VALIDATION_SPECIES: ['Gorilla_gorilla', 'Microcebus_murinus']\n"
     ]
    },
    {
     "name": "stdout",
     "output_type": "stream",
     "text": [
      "Training until validation scores don't improve for 10 rounds\n",
      "[250]\tvalid_0's l1: 5.53164\tvalid_0's huber: 4.64625\tvalid_0's l2: 103.411\n",
      "Did not meet early stopping. Best iteration is:\n",
      "[249]\tvalid_0's l1: 5.53163\tvalid_0's huber: 4.64674\tvalid_0's l2: 103.521\n"
     ]
    },
    {
     "name": "stderr",
     "output_type": "stream",
     "text": [
      "2020-09-03 14:39:35.932 | INFO     | yspecies.selection:transform:226 - Metrics: \n",
      "Metrics(R2=0.9107217441491, MAE=4.444683334141917, MSE=65.54180363182583, huber=3.661770823030049)\n",
      "MultiObjectiveTrial is experimental (supported from v1.4.0). The interface can change in the future.\n",
      "MultiObjectiveStudy is experimental (supported from v1.4.0). The interface can change in the future.\n",
      "[I 2020-09-03 14:39:36,548] Trial 496 finished with values: [0.9242870259928282, 3.1804597402596566, 0.5246392706787003] with parameters: {'boosting_type': 'gbdt', 'lambda_l1': 0.3970175140579622, 'lambda_l2': 2.3500616173039672, 'max_leaves': 19, 'max_depth': 3, 'feature_fraction': 0.5168464794482679, 'bagging_fraction': 0.42259626867860933, 'learning_rate': 0.028070022667265784, 'min_data_in_leaf': 8, 'drop_rate': 0.16401872685861194}.\n",
      "MultiObjectiveStudy is experimental (supported from v1.4.0). The interface can change in the future.\n",
      "FrozenMultiObjectiveTrial is experimental (supported from v1.4.0). The interface can change in the future.\n",
      "MultiObjectiveStudy is experimental (supported from v1.4.0). The interface can change in the future.\n",
      "FrozenMultiObjectiveTrial is experimental (supported from v1.4.0). The interface can change in the future.\n",
      "FrozenMultiObjectiveTrial is experimental (supported from v1.4.0). The interface can change in the future.\n",
      "MultiObjectiveTrial is experimental (supported from v1.4.0). The interface can change in the future.\n",
      "MultiObjectiveStudy is experimental (supported from v1.4.0). The interface can change in the future.\n",
      "FrozenMultiObjectiveTrial is experimental (supported from v1.4.0). The interface can change in the future.\n"
     ]
    },
    {
     "name": "stdout",
     "output_type": "stream",
     "text": [
      "0\n"
     ]
    },
    {
     "name": "stderr",
     "output_type": "stream",
     "text": [
      "2020-09-03 14:39:36.854 | INFO     | yspecies.selection:fit:78 - ===== fitting models with seed 0 =====\n",
      "2020-09-03 14:39:36.857 | INFO     | yspecies.selection:fit:79 - PARAMETERS:\n",
      "{'objective': 'regression', 'metric': {'mae', 'huber', 'mse'}, 'verbosity': -1, 'boosting_type': 'gbdt', 'lambda_l1': 2.7975824689043707, 'lambda_l2': 0.23124649264263056, 'max_leaves': 18, 'max_depth': 6, 'feature_fraction': 0.5191833333608565, 'bagging_fraction': 0.48406511309515066, 'learning_rate': 0.05373601286514567, 'min_data_in_leaf': 8, 'drop_rate': 0.253473517888636, 'verbose': -1}\n",
      "2020-09-03 14:39:36.862 | INFO     | yspecies.selection:fit:82 - SEED: 0 | FOLD: 0 | VALIDATION_SPECIES: ['Gorilla_gorilla', 'Pan_paniscus']\n"
     ]
    },
    {
     "name": "stdout",
     "output_type": "stream",
     "text": [
      "[LightGBM] [Warning] verbosity is set=-1, verbose=-1 will be ignored. Current value: verbosity=-1\n",
      "Training until validation scores don't improve for 10 rounds\n",
      "Early stopping, best iteration is:\n",
      "[103]\tvalid_0's l1: 8.63674\tvalid_0's huber: 7.44976\tvalid_0's l2: 209.073\n"
     ]
    },
    {
     "name": "stderr",
     "output_type": "stream",
     "text": [
      "2020-09-03 14:39:37.076 | INFO     | yspecies.selection:fit:82 - SEED: 0 | FOLD: 1 | VALIDATION_SPECIES: ['Heterocephalus_glaber', 'Capra_hircus']\n"
     ]
    },
    {
     "name": "stdout",
     "output_type": "stream",
     "text": [
      "Training until validation scores don't improve for 10 rounds\n",
      "Early stopping, best iteration is:\n",
      "[109]\tvalid_0's l1: 3.06893\tvalid_0's huber: 2.44405\tvalid_0's l2: 41.0625\n"
     ]
    },
    {
     "name": "stderr",
     "output_type": "stream",
     "text": [
      "2020-09-03 14:39:37.252 | INFO     | yspecies.selection:fit:82 - SEED: 0 | FOLD: 2 | VALIDATION_SPECIES: ['Bos_taurus', 'Otolemur_garnettii']\n"
     ]
    },
    {
     "name": "stdout",
     "output_type": "stream",
     "text": [
      "Training until validation scores don't improve for 10 rounds\n",
      "Early stopping, best iteration is:\n",
      "[217]\tvalid_0's l1: 2.82318\tvalid_0's huber: 2.26168\tvalid_0's l2: 48.7389\n"
     ]
    },
    {
     "name": "stderr",
     "output_type": "stream",
     "text": [
      "2020-09-03 14:39:37.537 | INFO     | yspecies.selection:fit:82 - SEED: 0 | FOLD: 3 | VALIDATION_SPECIES: ['Macaca_nemestrina', 'Microcebus_murinus']\n"
     ]
    },
    {
     "name": "stdout",
     "output_type": "stream",
     "text": [
      "Training until validation scores don't improve for 10 rounds\n",
      "Early stopping, best iteration is:\n",
      "[96]\tvalid_0's l1: 2.82183\tvalid_0's huber: 2.25702\tvalid_0's l2: 60.2743\n"
     ]
    },
    {
     "name": "stderr",
     "output_type": "stream",
     "text": [
      "2020-09-03 14:39:55.566 | INFO     | yspecies.selection:transform:226 - Metrics: \n",
      "Metrics(R2=0.8825541609700869, MAE=4.33766897507548, MSE=89.78723379730613, huber=3.6012938190720374)\n"
     ]
    },
    {
     "name": "stdout",
     "output_type": "stream",
     "text": [
      "1\n"
     ]
    },
    {
     "name": "stderr",
     "output_type": "stream",
     "text": [
      "2020-09-03 14:39:55.574 | INFO     | yspecies.selection:fit:78 - ===== fitting models with seed 1 =====\n",
      "2020-09-03 14:39:55.576 | INFO     | yspecies.selection:fit:79 - PARAMETERS:\n",
      "{'objective': 'regression', 'metric': {'mae', 'huber', 'mse'}, 'verbosity': -1, 'boosting_type': 'gbdt', 'lambda_l1': 2.7975824689043707, 'lambda_l2': 0.23124649264263056, 'max_leaves': 18, 'max_depth': 6, 'feature_fraction': 0.5191833333608565, 'bagging_fraction': 0.48406511309515066, 'learning_rate': 0.05373601286514567, 'min_data_in_leaf': 8, 'drop_rate': 0.253473517888636, 'verbose': -1, 'seed': 0}\n",
      "2020-09-03 14:39:55.580 | INFO     | yspecies.selection:fit:82 - SEED: 1 | FOLD: 0 | VALIDATION_SPECIES: ['Felis_catus', 'Ursus_americanus']\n"
     ]
    },
    {
     "name": "stdout",
     "output_type": "stream",
     "text": [
      "[LightGBM] [Warning] verbosity is set=-1, verbose=-1 will be ignored. Current value: verbosity=-1\n",
      "Training until validation scores don't improve for 10 rounds\n",
      "Early stopping, best iteration is:\n",
      "[77]\tvalid_0's l1: 3.15871\tvalid_0's huber: 2.52064\tvalid_0's l2: 27.9233\n"
     ]
    },
    {
     "name": "stderr",
     "output_type": "stream",
     "text": [
      "2020-09-03 14:39:55.746 | INFO     | yspecies.selection:fit:82 - SEED: 1 | FOLD: 1 | VALIDATION_SPECIES: ['Heterocephalus_glaber', 'Vombatus_ursinus']\n"
     ]
    },
    {
     "name": "stdout",
     "output_type": "stream",
     "text": [
      "Training until validation scores don't improve for 10 rounds\n",
      "Early stopping, best iteration is:\n",
      "[119]\tvalid_0's l1: 3.88765\tvalid_0's huber: 3.20506\tvalid_0's l2: 61.7642\n"
     ]
    },
    {
     "name": "stderr",
     "output_type": "stream",
     "text": [
      "2020-09-03 14:39:55.966 | INFO     | yspecies.selection:fit:82 - SEED: 1 | FOLD: 2 | VALIDATION_SPECIES: ['Macaca_fascicularis', 'Rhinopithecus_bieti']\n"
     ]
    },
    {
     "name": "stdout",
     "output_type": "stream",
     "text": [
      "Training until validation scores don't improve for 10 rounds\n",
      "Early stopping, best iteration is:\n",
      "[130]\tvalid_0's l1: 2.61182\tvalid_0's huber: 2.04394\tvalid_0's l2: 28.2794\n"
     ]
    },
    {
     "name": "stderr",
     "output_type": "stream",
     "text": [
      "2020-09-03 14:39:56.228 | INFO     | yspecies.selection:fit:82 - SEED: 1 | FOLD: 3 | VALIDATION_SPECIES: ['Gorilla_gorilla', 'Ovis_aries']\n"
     ]
    },
    {
     "name": "stdout",
     "output_type": "stream",
     "text": [
      "Training until validation scores don't improve for 10 rounds\n",
      "Early stopping, best iteration is:\n",
      "[138]\tvalid_0's l1: 6.21\tvalid_0's huber: 5.26858\tvalid_0's l2: 163.967\n"
     ]
    },
    {
     "name": "stderr",
     "output_type": "stream",
     "text": [
      "2020-09-03 14:40:14.742 | INFO     | yspecies.selection:transform:226 - Metrics: \n",
      "Metrics(R2=0.8991607701829014, MAE=3.967044121465847, MSE=70.48352867192912, huber=3.2600616685959545)\n"
     ]
    },
    {
     "name": "stdout",
     "output_type": "stream",
     "text": [
      "2\n"
     ]
    },
    {
     "name": "stderr",
     "output_type": "stream",
     "text": [
      "2020-09-03 14:40:14.751 | INFO     | yspecies.selection:fit:78 - ===== fitting models with seed 2 =====\n",
      "2020-09-03 14:40:14.752 | INFO     | yspecies.selection:fit:79 - PARAMETERS:\n",
      "{'objective': 'regression', 'metric': {'mae', 'huber', 'mse'}, 'verbosity': -1, 'boosting_type': 'gbdt', 'lambda_l1': 2.7975824689043707, 'lambda_l2': 0.23124649264263056, 'max_leaves': 18, 'max_depth': 6, 'feature_fraction': 0.5191833333608565, 'bagging_fraction': 0.48406511309515066, 'learning_rate': 0.05373601286514567, 'min_data_in_leaf': 8, 'drop_rate': 0.253473517888636, 'verbose': -1, 'seed': 1}\n",
      "2020-09-03 14:40:14.757 | INFO     | yspecies.selection:fit:82 - SEED: 2 | FOLD: 0 | VALIDATION_SPECIES: ['Rhinopithecus_bieti', 'Ursus_americanus']\n"
     ]
    },
    {
     "name": "stdout",
     "output_type": "stream",
     "text": [
      "[LightGBM] [Warning] verbosity is set=-1, verbose=-1 will be ignored. Current value: verbosity=-1\n",
      "Training until validation scores don't improve for 10 rounds\n",
      "Early stopping, best iteration is:\n",
      "[71]\tvalid_0's l1: 3.40023\tvalid_0's huber: 2.71897\tvalid_0's l2: 36.608\n"
     ]
    },
    {
     "name": "stderr",
     "output_type": "stream",
     "text": [
      "2020-09-03 14:40:14.911 | INFO     | yspecies.selection:fit:82 - SEED: 2 | FOLD: 1 | VALIDATION_SPECIES: ['Aotus_nancymaae', 'Phascolarctos_cinereus']\n"
     ]
    },
    {
     "name": "stdout",
     "output_type": "stream",
     "text": [
      "Training until validation scores don't improve for 10 rounds\n",
      "Early stopping, best iteration is:\n",
      "[120]\tvalid_0's l1: 4.22525\tvalid_0's huber: 3.47745\tvalid_0's l2: 69.1233\n"
     ]
    },
    {
     "name": "stderr",
     "output_type": "stream",
     "text": [
      "2020-09-03 14:40:15.106 | INFO     | yspecies.selection:fit:82 - SEED: 2 | FOLD: 2 | VALIDATION_SPECIES: ['Vombatus_ursinus', 'Ailuropoda_melanoleuca']\n"
     ]
    },
    {
     "name": "stdout",
     "output_type": "stream",
     "text": [
      "Training until validation scores don't improve for 10 rounds\n",
      "Early stopping, best iteration is:\n",
      "[141]\tvalid_0's l1: 3.2332\tvalid_0's huber: 2.5882\tvalid_0's l2: 33.6829\n"
     ]
    },
    {
     "name": "stderr",
     "output_type": "stream",
     "text": [
      "2020-09-03 14:40:15.333 | INFO     | yspecies.selection:fit:82 - SEED: 2 | FOLD: 3 | VALIDATION_SPECIES: ['Rattus_norvegicus', 'Monodelphis_domestica']\n"
     ]
    },
    {
     "name": "stdout",
     "output_type": "stream",
     "text": [
      "Training until validation scores don't improve for 10 rounds\n",
      "[250]\tvalid_0's l1: 5.97532\tvalid_0's huber: 5.00701\tvalid_0's l2: 82.8604\n",
      "Did not meet early stopping. Best iteration is:\n",
      "[250]\tvalid_0's l1: 5.97532\tvalid_0's huber: 5.00701\tvalid_0's l2: 82.8604\n"
     ]
    },
    {
     "name": "stderr",
     "output_type": "stream",
     "text": [
      "2020-09-03 14:40:33.412 | INFO     | yspecies.selection:transform:226 - Metrics: \n",
      "Metrics(R2=0.9109216757760885, MAE=4.208499394419529, MSE=55.568624969421414, huber=3.4481822612492063)\n"
     ]
    },
    {
     "name": "stdout",
     "output_type": "stream",
     "text": [
      "3\n"
     ]
    },
    {
     "name": "stderr",
     "output_type": "stream",
     "text": [
      "2020-09-03 14:40:33.422 | INFO     | yspecies.selection:fit:78 - ===== fitting models with seed 3 =====\n",
      "2020-09-03 14:40:33.424 | INFO     | yspecies.selection:fit:79 - PARAMETERS:\n",
      "{'objective': 'regression', 'metric': {'mae', 'huber', 'mse'}, 'verbosity': -1, 'boosting_type': 'gbdt', 'lambda_l1': 2.7975824689043707, 'lambda_l2': 0.23124649264263056, 'max_leaves': 18, 'max_depth': 6, 'feature_fraction': 0.5191833333608565, 'bagging_fraction': 0.48406511309515066, 'learning_rate': 0.05373601286514567, 'min_data_in_leaf': 8, 'drop_rate': 0.253473517888636, 'verbose': -1, 'seed': 2}\n",
      "2020-09-03 14:40:33.427 | INFO     | yspecies.selection:fit:82 - SEED: 3 | FOLD: 0 | VALIDATION_SPECIES: ['Microcebus_murinus', 'Pan_paniscus']\n"
     ]
    },
    {
     "name": "stdout",
     "output_type": "stream",
     "text": [
      "[LightGBM] [Warning] verbosity is set=-1, verbose=-1 will be ignored. Current value: verbosity=-1\n",
      "Training until validation scores don't improve for 10 rounds\n",
      "Early stopping, best iteration is:\n",
      "[64]\tvalid_0's l1: 3.51225\tvalid_0's huber: 2.81812\tvalid_0's l2: 41.0507\n"
     ]
    },
    {
     "name": "stderr",
     "output_type": "stream",
     "text": [
      "2020-09-03 14:40:33.618 | INFO     | yspecies.selection:fit:82 - SEED: 3 | FOLD: 1 | VALIDATION_SPECIES: ['Ursus_americanus', 'Gorilla_gorilla']\n"
     ]
    },
    {
     "name": "stdout",
     "output_type": "stream",
     "text": [
      "Training until validation scores don't improve for 10 rounds\n",
      "Early stopping, best iteration is:\n",
      "[161]\tvalid_0's l1: 6.77754\tvalid_0's huber: 5.76556\tvalid_0's l2: 131.684\n"
     ]
    },
    {
     "name": "stderr",
     "output_type": "stream",
     "text": [
      "2020-09-03 14:40:33.927 | INFO     | yspecies.selection:fit:82 - SEED: 3 | FOLD: 2 | VALIDATION_SPECIES: ['Bos_taurus', 'Capra_hircus']\n"
     ]
    },
    {
     "name": "stdout",
     "output_type": "stream",
     "text": [
      "Training until validation scores don't improve for 10 rounds\n",
      "Early stopping, best iteration is:\n",
      "[112]\tvalid_0's l1: 3.27763\tvalid_0's huber: 2.63525\tvalid_0's l2: 42.383\n"
     ]
    },
    {
     "name": "stderr",
     "output_type": "stream",
     "text": [
      "2020-09-03 14:40:34.168 | INFO     | yspecies.selection:fit:82 - SEED: 3 | FOLD: 3 | VALIDATION_SPECIES: ['Rhinolophus_ferrumequinum', 'Mus_musculus']\n"
     ]
    },
    {
     "name": "stdout",
     "output_type": "stream",
     "text": [
      "Training until validation scores don't improve for 10 rounds\n",
      "Early stopping, best iteration is:\n",
      "[163]\tvalid_0's l1: 2.12343\tvalid_0's huber: 1.64076\tvalid_0's l2: 29.0267\n"
     ]
    },
    {
     "name": "stderr",
     "output_type": "stream",
     "text": [
      "2020-09-03 14:40:51.959 | INFO     | yspecies.selection:transform:226 - Metrics: \n",
      "Metrics(R2=0.9195389941587628, MAE=3.9227108161439186, MSE=61.03607567407279, huber=3.2142253346057292)\n"
     ]
    },
    {
     "name": "stdout",
     "output_type": "stream",
     "text": [
      "4\n"
     ]
    },
    {
     "name": "stderr",
     "output_type": "stream",
     "text": [
      "2020-09-03 14:40:51.967 | INFO     | yspecies.selection:fit:78 - ===== fitting models with seed 4 =====\n",
      "2020-09-03 14:40:51.969 | INFO     | yspecies.selection:fit:79 - PARAMETERS:\n",
      "{'objective': 'regression', 'metric': {'mae', 'huber', 'mse'}, 'verbosity': -1, 'boosting_type': 'gbdt', 'lambda_l1': 2.7975824689043707, 'lambda_l2': 0.23124649264263056, 'max_leaves': 18, 'max_depth': 6, 'feature_fraction': 0.5191833333608565, 'bagging_fraction': 0.48406511309515066, 'learning_rate': 0.05373601286514567, 'min_data_in_leaf': 8, 'drop_rate': 0.253473517888636, 'verbose': -1, 'seed': 3}\n",
      "2020-09-03 14:40:51.974 | INFO     | yspecies.selection:fit:82 - SEED: 4 | FOLD: 0 | VALIDATION_SPECIES: ['Macaca_fascicularis', 'Pan_troglodytes']\n"
     ]
    },
    {
     "name": "stdout",
     "output_type": "stream",
     "text": [
      "[LightGBM] [Warning] verbosity is set=-1, verbose=-1 will be ignored. Current value: verbosity=-1\n",
      "Training until validation scores don't improve for 10 rounds\n",
      "Early stopping, best iteration is:\n",
      "[81]\tvalid_0's l1: 3.20529\tvalid_0's huber: 2.57057\tvalid_0's l2: 39.5884\n"
     ]
    },
    {
     "name": "stderr",
     "output_type": "stream",
     "text": [
      "2020-09-03 14:40:52.141 | INFO     | yspecies.selection:fit:82 - SEED: 4 | FOLD: 1 | VALIDATION_SPECIES: ['Otolemur_garnettii', 'Ursus_americanus']\n"
     ]
    },
    {
     "name": "stdout",
     "output_type": "stream",
     "text": [
      "Training until validation scores don't improve for 10 rounds\n",
      "Early stopping, best iteration is:\n",
      "[192]\tvalid_0's l1: 3.14252\tvalid_0's huber: 2.5296\tvalid_0's l2: 48.8521\n"
     ]
    },
    {
     "name": "stderr",
     "output_type": "stream",
     "text": [
      "2020-09-03 14:40:52.477 | INFO     | yspecies.selection:fit:82 - SEED: 4 | FOLD: 2 | VALIDATION_SPECIES: ['Heterocephalus_glaber', 'Cavia_aperea']\n"
     ]
    },
    {
     "name": "stdout",
     "output_type": "stream",
     "text": [
      "Training until validation scores don't improve for 10 rounds\n",
      "[250]\tvalid_0's l1: 3.94113\tvalid_0's huber: 3.23316\tvalid_0's l2: 42.1459\n",
      "Did not meet early stopping. Best iteration is:\n",
      "[250]\tvalid_0's l1: 3.94113\tvalid_0's huber: 3.23316\tvalid_0's l2: 42.1459\n"
     ]
    },
    {
     "name": "stderr",
     "output_type": "stream",
     "text": [
      "2020-09-03 14:40:52.934 | INFO     | yspecies.selection:fit:82 - SEED: 4 | FOLD: 3 | VALIDATION_SPECIES: ['Pan_paniscus', 'Gorilla_gorilla']\n"
     ]
    },
    {
     "name": "stdout",
     "output_type": "stream",
     "text": [
      "Training until validation scores don't improve for 10 rounds\n",
      "[250]\tvalid_0's l1: 6.71183\tvalid_0's huber: 5.72306\tvalid_0's l2: 161.338\n",
      "Did not meet early stopping. Best iteration is:\n",
      "[250]\tvalid_0's l1: 6.71183\tvalid_0's huber: 5.72306\tvalid_0's l2: 161.338\n"
     ]
    },
    {
     "name": "stderr",
     "output_type": "stream",
     "text": [
      "2020-09-03 14:41:12.069 | INFO     | yspecies.selection:transform:226 - Metrics: \n",
      "Metrics(R2=0.9014711094842409, MAE=4.250191260227041, MSE=72.98096502727128, huber=3.5142769716269564)\n"
     ]
    },
    {
     "name": "stdout",
     "output_type": "stream",
     "text": [
      "5\n"
     ]
    },
    {
     "name": "stderr",
     "output_type": "stream",
     "text": [
      "2020-09-03 14:41:12.077 | INFO     | yspecies.selection:fit:78 - ===== fitting models with seed 5 =====\n",
      "2020-09-03 14:41:12.078 | INFO     | yspecies.selection:fit:79 - PARAMETERS:\n",
      "{'objective': 'regression', 'metric': {'mae', 'huber', 'mse'}, 'verbosity': -1, 'boosting_type': 'gbdt', 'lambda_l1': 2.7975824689043707, 'lambda_l2': 0.23124649264263056, 'max_leaves': 18, 'max_depth': 6, 'feature_fraction': 0.5191833333608565, 'bagging_fraction': 0.48406511309515066, 'learning_rate': 0.05373601286514567, 'min_data_in_leaf': 8, 'drop_rate': 0.253473517888636, 'verbose': -1, 'seed': 4}\n",
      "2020-09-03 14:41:12.083 | INFO     | yspecies.selection:fit:82 - SEED: 5 | FOLD: 0 | VALIDATION_SPECIES: ['Mus_spicilegus', 'Canis_lupus_familiaris']\n"
     ]
    },
    {
     "name": "stdout",
     "output_type": "stream",
     "text": [
      "[LightGBM] [Warning] verbosity is set=-1, verbose=-1 will be ignored. Current value: verbosity=-1\n",
      "Training until validation scores don't improve for 10 rounds\n",
      "Early stopping, best iteration is:\n",
      "[83]\tvalid_0's l1: 2.73927\tvalid_0's huber: 2.14723\tvalid_0's l2: 25.3878\n"
     ]
    },
    {
     "name": "stderr",
     "output_type": "stream",
     "text": [
      "2020-09-03 14:41:12.238 | INFO     | yspecies.selection:fit:82 - SEED: 5 | FOLD: 1 | VALIDATION_SPECIES: ['Ovis_aries', 'Heterocephalus_glaber']\n"
     ]
    },
    {
     "name": "stdout",
     "output_type": "stream",
     "text": [
      "Training until validation scores don't improve for 10 rounds\n",
      "Early stopping, best iteration is:\n",
      "[61]\tvalid_0's l1: 5.06017\tvalid_0's huber: 4.18175\tvalid_0's l2: 159.41\n"
     ]
    },
    {
     "name": "stderr",
     "output_type": "stream",
     "text": [
      "2020-09-03 14:41:12.355 | INFO     | yspecies.selection:fit:82 - SEED: 5 | FOLD: 2 | VALIDATION_SPECIES: ['Ursus_americanus', 'Oryctolagus_cuniculus']\n"
     ]
    },
    {
     "name": "stdout",
     "output_type": "stream",
     "text": [
      "Training until validation scores don't improve for 10 rounds\n",
      "Early stopping, best iteration is:\n",
      "[121]\tvalid_0's l1: 4.84696\tvalid_0's huber: 4.0378\tvalid_0's l2: 114.395\n"
     ]
    },
    {
     "name": "stderr",
     "output_type": "stream",
     "text": [
      "2020-09-03 14:41:12.596 | INFO     | yspecies.selection:fit:82 - SEED: 5 | FOLD: 3 | VALIDATION_SPECIES: ['Cavia_aperea', 'Ailuropoda_melanoleuca']\n"
     ]
    },
    {
     "name": "stdout",
     "output_type": "stream",
     "text": [
      "Training until validation scores don't improve for 10 rounds\n",
      "Early stopping, best iteration is:\n",
      "[151]\tvalid_0's l1: 3.67154\tvalid_0's huber: 3.00652\tvalid_0's l2: 59.2009\n"
     ]
    },
    {
     "name": "stderr",
     "output_type": "stream",
     "text": [
      "2020-09-03 14:41:28.608 | INFO     | yspecies.selection:transform:226 - Metrics: \n",
      "Metrics(R2=0.8771412081860864, MAE=4.07948308226587, MSE=89.59845284390347, huber=3.3048685735396077)\n"
     ]
    },
    {
     "name": "stdout",
     "output_type": "stream",
     "text": [
      "6\n"
     ]
    },
    {
     "name": "stderr",
     "output_type": "stream",
     "text": [
      "2020-09-03 14:41:28.616 | INFO     | yspecies.selection:fit:78 - ===== fitting models with seed 6 =====\n",
      "2020-09-03 14:41:28.618 | INFO     | yspecies.selection:fit:79 - PARAMETERS:\n",
      "{'objective': 'regression', 'metric': {'mae', 'huber', 'mse'}, 'verbosity': -1, 'boosting_type': 'gbdt', 'lambda_l1': 2.7975824689043707, 'lambda_l2': 0.23124649264263056, 'max_leaves': 18, 'max_depth': 6, 'feature_fraction': 0.5191833333608565, 'bagging_fraction': 0.48406511309515066, 'learning_rate': 0.05373601286514567, 'min_data_in_leaf': 8, 'drop_rate': 0.253473517888636, 'verbose': -1, 'seed': 5}\n",
      "2020-09-03 14:41:28.622 | INFO     | yspecies.selection:fit:82 - SEED: 6 | FOLD: 0 | VALIDATION_SPECIES: ['Rhinolophus_ferrumequinum', 'Heterocephalus_glaber']\n"
     ]
    },
    {
     "name": "stdout",
     "output_type": "stream",
     "text": [
      "[LightGBM] [Warning] verbosity is set=-1, verbose=-1 will be ignored. Current value: verbosity=-1\n",
      "Training until validation scores don't improve for 10 rounds\n",
      "Early stopping, best iteration is:\n",
      "[102]\tvalid_0's l1: 3.25225\tvalid_0's huber: 2.61136\tvalid_0's l2: 42.8193\n"
     ]
    },
    {
     "name": "stderr",
     "output_type": "stream",
     "text": [
      "2020-09-03 14:41:28.799 | INFO     | yspecies.selection:fit:82 - SEED: 6 | FOLD: 1 | VALIDATION_SPECIES: ['Mus_spicilegus', 'Suricata_suricatta']\n"
     ]
    },
    {
     "name": "stdout",
     "output_type": "stream",
     "text": [
      "Training until validation scores don't improve for 10 rounds\n",
      "Early stopping, best iteration is:\n",
      "[129]\tvalid_0's l1: 3.46753\tvalid_0's huber: 2.83075\tvalid_0's l2: 49.5108\n"
     ]
    },
    {
     "name": "stderr",
     "output_type": "stream",
     "text": [
      "2020-09-03 14:41:29.010 | INFO     | yspecies.selection:fit:82 - SEED: 6 | FOLD: 2 | VALIDATION_SPECIES: ['Rhinopithecus_bieti', 'Ovis_aries']\n"
     ]
    },
    {
     "name": "stdout",
     "output_type": "stream",
     "text": [
      "Training until validation scores don't improve for 10 rounds\n",
      "Early stopping, best iteration is:\n",
      "[92]\tvalid_0's l1: 2.48315\tvalid_0's huber: 1.94216\tvalid_0's l2: 25.6075\n"
     ]
    },
    {
     "name": "stderr",
     "output_type": "stream",
     "text": [
      "2020-09-03 14:41:29.158 | INFO     | yspecies.selection:fit:82 - SEED: 6 | FOLD: 3 | VALIDATION_SPECIES: ['Cavia_porcellus', 'Pan_troglodytes']\n"
     ]
    },
    {
     "name": "stdout",
     "output_type": "stream",
     "text": [
      "Training until validation scores don't improve for 10 rounds\n",
      "Early stopping, best iteration is:\n",
      "[216]\tvalid_0's l1: 3.87823\tvalid_0's huber: 3.15791\tvalid_0's l2: 62.5999\n"
     ]
    },
    {
     "name": "stderr",
     "output_type": "stream",
     "text": [
      "2020-09-03 14:41:46.974 | INFO     | yspecies.selection:transform:226 - Metrics: \n",
      "Metrics(R2=0.9368989199799704, MAE=3.2702894133368474, MSE=45.134393251136004, huber=2.6354959291850357)\n"
     ]
    },
    {
     "name": "stdout",
     "output_type": "stream",
     "text": [
      "7\n"
     ]
    },
    {
     "name": "stderr",
     "output_type": "stream",
     "text": [
      "2020-09-03 14:41:46.985 | INFO     | yspecies.selection:fit:78 - ===== fitting models with seed 7 =====\n",
      "2020-09-03 14:41:46.987 | INFO     | yspecies.selection:fit:79 - PARAMETERS:\n",
      "{'objective': 'regression', 'metric': {'mae', 'huber', 'mse'}, 'verbosity': -1, 'boosting_type': 'gbdt', 'lambda_l1': 2.7975824689043707, 'lambda_l2': 0.23124649264263056, 'max_leaves': 18, 'max_depth': 6, 'feature_fraction': 0.5191833333608565, 'bagging_fraction': 0.48406511309515066, 'learning_rate': 0.05373601286514567, 'min_data_in_leaf': 8, 'drop_rate': 0.253473517888636, 'verbose': -1, 'seed': 6}\n",
      "2020-09-03 14:41:46.991 | INFO     | yspecies.selection:fit:82 - SEED: 7 | FOLD: 0 | VALIDATION_SPECIES: ['Macaca_mulatta', 'Cavia_porcellus']\n"
     ]
    },
    {
     "name": "stdout",
     "output_type": "stream",
     "text": [
      "[LightGBM] [Warning] verbosity is set=-1, verbose=-1 will be ignored. Current value: verbosity=-1\n",
      "Training until validation scores don't improve for 10 rounds\n",
      "Early stopping, best iteration is:\n",
      "[124]\tvalid_0's l1: 2.87122\tvalid_0's huber: 2.25503\tvalid_0's l2: 25.6678\n"
     ]
    },
    {
     "name": "stderr",
     "output_type": "stream",
     "text": [
      "2020-09-03 14:41:47.243 | INFO     | yspecies.selection:fit:82 - SEED: 7 | FOLD: 1 | VALIDATION_SPECIES: ['Pan_paniscus', 'Capra_hircus']\n"
     ]
    },
    {
     "name": "stdout",
     "output_type": "stream",
     "text": [
      "Training until validation scores don't improve for 10 rounds\n",
      "Early stopping, best iteration is:\n",
      "[113]\tvalid_0's l1: 3.7125\tvalid_0's huber: 3.0177\tvalid_0's l2: 55.3915\n"
     ]
    },
    {
     "name": "stderr",
     "output_type": "stream",
     "text": [
      "2020-09-03 14:41:47.450 | INFO     | yspecies.selection:fit:82 - SEED: 7 | FOLD: 2 | VALIDATION_SPECIES: ['Otolemur_garnettii', 'Ictidomys_tridecemlineatus']\n"
     ]
    },
    {
     "name": "stdout",
     "output_type": "stream",
     "text": [
      "Training until validation scores don't improve for 10 rounds\n",
      "Early stopping, best iteration is:\n",
      "[142]\tvalid_0's l1: 3.32204\tvalid_0's huber: 2.68033\tvalid_0's l2: 34.2704\n"
     ]
    },
    {
     "name": "stderr",
     "output_type": "stream",
     "text": [
      "2020-09-03 14:41:47.738 | INFO     | yspecies.selection:fit:82 - SEED: 7 | FOLD: 3 | VALIDATION_SPECIES: ['Canis_lupus_familiaris', 'Ursus_americanus']\n"
     ]
    },
    {
     "name": "stdout",
     "output_type": "stream",
     "text": [
      "Training until validation scores don't improve for 10 rounds\n",
      "Early stopping, best iteration is:\n",
      "[99]\tvalid_0's l1: 3.50199\tvalid_0's huber: 2.84561\tvalid_0's l2: 45.9766\n"
     ]
    },
    {
     "name": "stderr",
     "output_type": "stream",
     "text": [
      "2020-09-03 14:42:06.100 | INFO     | yspecies.selection:transform:226 - Metrics: \n",
      "Metrics(R2=0.9444880998379632, MAE=3.351935202158758, MSE=40.32658722774257, huber=2.7012757098511924)\n"
     ]
    },
    {
     "name": "stdout",
     "output_type": "stream",
     "text": [
      "8\n"
     ]
    },
    {
     "name": "stderr",
     "output_type": "stream",
     "text": [
      "2020-09-03 14:42:06.112 | INFO     | yspecies.selection:fit:78 - ===== fitting models with seed 8 =====\n",
      "2020-09-03 14:42:06.114 | INFO     | yspecies.selection:fit:79 - PARAMETERS:\n",
      "{'objective': 'regression', 'metric': {'mae', 'huber', 'mse'}, 'verbosity': -1, 'boosting_type': 'gbdt', 'lambda_l1': 2.7975824689043707, 'lambda_l2': 0.23124649264263056, 'max_leaves': 18, 'max_depth': 6, 'feature_fraction': 0.5191833333608565, 'bagging_fraction': 0.48406511309515066, 'learning_rate': 0.05373601286514567, 'min_data_in_leaf': 8, 'drop_rate': 0.253473517888636, 'verbose': -1, 'seed': 7}\n",
      "2020-09-03 14:42:06.118 | INFO     | yspecies.selection:fit:82 - SEED: 8 | FOLD: 0 | VALIDATION_SPECIES: ['Pan_paniscus', 'Suricata_suricatta']\n"
     ]
    },
    {
     "name": "stdout",
     "output_type": "stream",
     "text": [
      "[LightGBM] [Warning] verbosity is set=-1, verbose=-1 will be ignored. Current value: verbosity=-1\n",
      "Training until validation scores don't improve for 10 rounds\n",
      "Early stopping, best iteration is:\n",
      "[70]\tvalid_0's l1: 3.09408\tvalid_0's huber: 2.44338\tvalid_0's l2: 32.7134\n"
     ]
    },
    {
     "name": "stderr",
     "output_type": "stream",
     "text": [
      "2020-09-03 14:42:06.260 | INFO     | yspecies.selection:fit:82 - SEED: 8 | FOLD: 1 | VALIDATION_SPECIES: ['Macaca_fascicularis', 'Tupaia_belangeri']\n"
     ]
    },
    {
     "name": "stdout",
     "output_type": "stream",
     "text": [
      "Training until validation scores don't improve for 10 rounds\n",
      "[250]\tvalid_0's l1: 2.92275\tvalid_0's huber: 2.32062\tvalid_0's l2: 27.5895\n",
      "Did not meet early stopping. Best iteration is:\n",
      "[248]\tvalid_0's l1: 2.92234\tvalid_0's huber: 2.32033\tvalid_0's l2: 27.588\n"
     ]
    },
    {
     "name": "stderr",
     "output_type": "stream",
     "text": [
      "2020-09-03 14:42:06.603 | INFO     | yspecies.selection:fit:82 - SEED: 8 | FOLD: 2 | VALIDATION_SPECIES: ['Ursus_americanus', 'Capra_hircus']\n"
     ]
    },
    {
     "name": "stdout",
     "output_type": "stream",
     "text": [
      "Training until validation scores don't improve for 10 rounds\n",
      "Early stopping, best iteration is:\n",
      "[151]\tvalid_0's l1: 3.22697\tvalid_0's huber: 2.6116\tvalid_0's l2: 40.6338\n"
     ]
    },
    {
     "name": "stderr",
     "output_type": "stream",
     "text": [
      "2020-09-03 14:42:06.836 | INFO     | yspecies.selection:fit:82 - SEED: 8 | FOLD: 3 | VALIDATION_SPECIES: ['Bos_taurus', 'Rhinolophus_ferrumequinum']\n"
     ]
    },
    {
     "name": "stdout",
     "output_type": "stream",
     "text": [
      "Training until validation scores don't improve for 10 rounds\n",
      "Early stopping, best iteration is:\n",
      "[154]\tvalid_0's l1: 2.86072\tvalid_0's huber: 2.28727\tvalid_0's l2: 48.1594\n"
     ]
    },
    {
     "name": "stderr",
     "output_type": "stream",
     "text": [
      "2020-09-03 14:42:24.894 | INFO     | yspecies.selection:transform:226 - Metrics: \n",
      "Metrics(R2=0.9477409710529209, MAE=3.026028197852444, MSE=37.27363387667754, huber=2.417670087931416)\n"
     ]
    },
    {
     "name": "stdout",
     "output_type": "stream",
     "text": [
      "9\n"
     ]
    },
    {
     "name": "stderr",
     "output_type": "stream",
     "text": [
      "2020-09-03 14:42:24.906 | INFO     | yspecies.selection:fit:78 - ===== fitting models with seed 9 =====\n",
      "2020-09-03 14:42:24.907 | INFO     | yspecies.selection:fit:79 - PARAMETERS:\n",
      "{'objective': 'regression', 'metric': {'mae', 'huber', 'mse'}, 'verbosity': -1, 'boosting_type': 'gbdt', 'lambda_l1': 2.7975824689043707, 'lambda_l2': 0.23124649264263056, 'max_leaves': 18, 'max_depth': 6, 'feature_fraction': 0.5191833333608565, 'bagging_fraction': 0.48406511309515066, 'learning_rate': 0.05373601286514567, 'min_data_in_leaf': 8, 'drop_rate': 0.253473517888636, 'verbose': -1, 'seed': 8}\n",
      "2020-09-03 14:42:24.911 | INFO     | yspecies.selection:fit:82 - SEED: 9 | FOLD: 0 | VALIDATION_SPECIES: ['Ictidomys_tridecemlineatus', 'Aotus_nancymaae']\n"
     ]
    },
    {
     "name": "stdout",
     "output_type": "stream",
     "text": [
      "[LightGBM] [Warning] verbosity is set=-1, verbose=-1 will be ignored. Current value: verbosity=-1\n",
      "Training until validation scores don't improve for 10 rounds\n",
      "Early stopping, best iteration is:\n",
      "[76]\tvalid_0's l1: 3.24997\tvalid_0's huber: 2.59785\tvalid_0's l2: 30.8355\n"
     ]
    },
    {
     "name": "stderr",
     "output_type": "stream",
     "text": [
      "2020-09-03 14:42:25.151 | INFO     | yspecies.selection:fit:82 - SEED: 9 | FOLD: 1 | VALIDATION_SPECIES: ['Pan_troglodytes', 'Oryctolagus_cuniculus']\n"
     ]
    },
    {
     "name": "stdout",
     "output_type": "stream",
     "text": [
      "Training until validation scores don't improve for 10 rounds\n",
      "Early stopping, best iteration is:\n",
      "[121]\tvalid_0's l1: 4.59516\tvalid_0's huber: 3.81871\tvalid_0's l2: 84.5431\n"
     ]
    },
    {
     "name": "stderr",
     "output_type": "stream",
     "text": [
      "2020-09-03 14:42:25.401 | INFO     | yspecies.selection:fit:82 - SEED: 9 | FOLD: 2 | VALIDATION_SPECIES: ['Mesocricetus_auratus', 'Meriones_unguiculatus']\n"
     ]
    },
    {
     "name": "stdout",
     "output_type": "stream",
     "text": [
      "Training until validation scores don't improve for 10 rounds\n",
      "Early stopping, best iteration is:\n",
      "[100]\tvalid_0's l1: 3.96331\tvalid_0's huber: 3.22951\tvalid_0's l2: 54.8652\n"
     ]
    },
    {
     "name": "stderr",
     "output_type": "stream",
     "text": [
      "2020-09-03 14:42:25.594 | INFO     | yspecies.selection:fit:82 - SEED: 9 | FOLD: 3 | VALIDATION_SPECIES: ['Gorilla_gorilla', 'Microcebus_murinus']\n"
     ]
    },
    {
     "name": "stdout",
     "output_type": "stream",
     "text": [
      "Training until validation scores don't improve for 10 rounds\n",
      "Early stopping, best iteration is:\n",
      "[136]\tvalid_0's l1: 5.20698\tvalid_0's huber: 4.36427\tvalid_0's l2: 108.767\n"
     ]
    },
    {
     "name": "stderr",
     "output_type": "stream",
     "text": [
      "2020-09-03 14:42:43.304 | INFO     | yspecies.selection:transform:226 - Metrics: \n",
      "Metrics(R2=0.9045182313759034, MAE=4.2538538192947835, MSE=69.7527409154344, huber=3.5046249451458813)\n",
      "MultiObjectiveTrial is experimental (supported from v1.4.0). The interface can change in the future.\n",
      "MultiObjectiveStudy is experimental (supported from v1.4.0). The interface can change in the future.\n",
      "[I 2020-09-03 14:42:43,849] Trial 497 finished with values: [0.9124434141004925, 3.1601975300803016, 0.47598323916121377] with parameters: {'boosting_type': 'gbdt', 'lambda_l1': 2.7975824689043707, 'lambda_l2': 0.23124649264263056, 'max_leaves': 18, 'max_depth': 6, 'feature_fraction': 0.5191833333608565, 'bagging_fraction': 0.48406511309515066, 'learning_rate': 0.05373601286514567, 'min_data_in_leaf': 8, 'drop_rate': 0.253473517888636}.\n",
      "MultiObjectiveStudy is experimental (supported from v1.4.0). The interface can change in the future.\n",
      "FrozenMultiObjectiveTrial is experimental (supported from v1.4.0). The interface can change in the future.\n",
      "MultiObjectiveStudy is experimental (supported from v1.4.0). The interface can change in the future.\n",
      "FrozenMultiObjectiveTrial is experimental (supported from v1.4.0). The interface can change in the future.\n",
      "FrozenMultiObjectiveTrial is experimental (supported from v1.4.0). The interface can change in the future.\n",
      "MultiObjectiveTrial is experimental (supported from v1.4.0). The interface can change in the future.\n",
      "MultiObjectiveStudy is experimental (supported from v1.4.0). The interface can change in the future.\n",
      "FrozenMultiObjectiveTrial is experimental (supported from v1.4.0). The interface can change in the future.\n"
     ]
    },
    {
     "name": "stdout",
     "output_type": "stream",
     "text": [
      "0\n"
     ]
    },
    {
     "name": "stderr",
     "output_type": "stream",
     "text": [
      "2020-09-03 14:42:44.157 | INFO     | yspecies.selection:fit:78 - ===== fitting models with seed 0 =====\n",
      "2020-09-03 14:42:44.159 | INFO     | yspecies.selection:fit:79 - PARAMETERS:\n",
      "{'objective': 'regression', 'metric': {'mae', 'huber', 'mse'}, 'verbosity': -1, 'boosting_type': 'gbdt', 'lambda_l1': 2.1188796141799573, 'lambda_l2': 2.9232199794782074, 'max_leaves': 17, 'max_depth': 3, 'feature_fraction': 0.5479409728228775, 'bagging_fraction': 0.5896610538427859, 'learning_rate': 0.022559688029803765, 'min_data_in_leaf': 8, 'drop_rate': 0.27117231134759434, 'verbose': -1}\n",
      "2020-09-03 14:42:44.165 | INFO     | yspecies.selection:fit:82 - SEED: 0 | FOLD: 0 | VALIDATION_SPECIES: ['Gorilla_gorilla', 'Pan_paniscus']\n"
     ]
    },
    {
     "name": "stdout",
     "output_type": "stream",
     "text": [
      "[LightGBM] [Warning] verbosity is set=-1, verbose=-1 will be ignored. Current value: verbosity=-1\n",
      "Training until validation scores don't improve for 10 rounds\n",
      "[250]\tvalid_0's l1: 8.49875\tvalid_0's huber: 7.28967\tvalid_0's l2: 206.53\n",
      "Did not meet early stopping. Best iteration is:\n",
      "[250]\tvalid_0's l1: 8.49875\tvalid_0's huber: 7.28967\tvalid_0's l2: 206.53\n"
     ]
    },
    {
     "name": "stderr",
     "output_type": "stream",
     "text": [
      "2020-09-03 14:42:44.424 | INFO     | yspecies.selection:fit:82 - SEED: 0 | FOLD: 1 | VALIDATION_SPECIES: ['Heterocephalus_glaber', 'Capra_hircus']\n"
     ]
    },
    {
     "name": "stdout",
     "output_type": "stream",
     "text": [
      "Training until validation scores don't improve for 10 rounds\n",
      "[250]\tvalid_0's l1: 4.01434\tvalid_0's huber: 3.2644\tvalid_0's l2: 58.4398\n",
      "Did not meet early stopping. Best iteration is:\n",
      "[250]\tvalid_0's l1: 4.01434\tvalid_0's huber: 3.2644\tvalid_0's l2: 58.4398\n"
     ]
    },
    {
     "name": "stderr",
     "output_type": "stream",
     "text": [
      "2020-09-03 14:42:44.736 | INFO     | yspecies.selection:fit:82 - SEED: 0 | FOLD: 2 | VALIDATION_SPECIES: ['Bos_taurus', 'Otolemur_garnettii']\n"
     ]
    },
    {
     "name": "stdout",
     "output_type": "stream",
     "text": [
      "Training until validation scores don't improve for 10 rounds\n",
      "[250]\tvalid_0's l1: 3.08239\tvalid_0's huber: 2.45919\tvalid_0's l2: 33.1707\n",
      "Did not meet early stopping. Best iteration is:\n",
      "[250]\tvalid_0's l1: 3.08239\tvalid_0's huber: 2.45919\tvalid_0's l2: 33.1707\n"
     ]
    },
    {
     "name": "stderr",
     "output_type": "stream",
     "text": [
      "2020-09-03 14:42:44.979 | INFO     | yspecies.selection:fit:82 - SEED: 0 | FOLD: 3 | VALIDATION_SPECIES: ['Macaca_nemestrina', 'Microcebus_murinus']\n"
     ]
    },
    {
     "name": "stdout",
     "output_type": "stream",
     "text": [
      "Training until validation scores don't improve for 10 rounds\n",
      "[250]\tvalid_0's l1: 3.42011\tvalid_0's huber: 2.7472\tvalid_0's l2: 55.0082\n",
      "Did not meet early stopping. Best iteration is:\n",
      "[250]\tvalid_0's l1: 3.42011\tvalid_0's huber: 2.7472\tvalid_0's l2: 55.0082\n"
     ]
    },
    {
     "name": "stderr",
     "output_type": "stream",
     "text": [
      "2020-09-03 14:42:56.863 | INFO     | yspecies.selection:transform:226 - Metrics: \n",
      "Metrics(R2=0.885288644042455, MAE=4.753900079022315, MSE=88.28725558054255, huber=3.9401153820718324)\n"
     ]
    },
    {
     "name": "stdout",
     "output_type": "stream",
     "text": [
      "1\n"
     ]
    },
    {
     "name": "stderr",
     "output_type": "stream",
     "text": [
      "2020-09-03 14:42:56.875 | INFO     | yspecies.selection:fit:78 - ===== fitting models with seed 1 =====\n",
      "2020-09-03 14:42:56.936 | INFO     | yspecies.selection:fit:79 - PARAMETERS:\n",
      "{'objective': 'regression', 'metric': {'mae', 'huber', 'mse'}, 'verbosity': -1, 'boosting_type': 'gbdt', 'lambda_l1': 2.1188796141799573, 'lambda_l2': 2.9232199794782074, 'max_leaves': 17, 'max_depth': 3, 'feature_fraction': 0.5479409728228775, 'bagging_fraction': 0.5896610538427859, 'learning_rate': 0.022559688029803765, 'min_data_in_leaf': 8, 'drop_rate': 0.27117231134759434, 'verbose': -1, 'seed': 0}\n",
      "2020-09-03 14:42:56.941 | INFO     | yspecies.selection:fit:82 - SEED: 1 | FOLD: 0 | VALIDATION_SPECIES: ['Felis_catus', 'Ursus_americanus']\n"
     ]
    },
    {
     "name": "stdout",
     "output_type": "stream",
     "text": [
      "[LightGBM] [Warning] verbosity is set=-1, verbose=-1 will be ignored. Current value: verbosity=-1\n",
      "Training until validation scores don't improve for 10 rounds\n",
      "[250]\tvalid_0's l1: 3.61298\tvalid_0's huber: 2.88961\tvalid_0's l2: 30.5243\n",
      "Did not meet early stopping. Best iteration is:\n",
      "[250]\tvalid_0's l1: 3.61298\tvalid_0's huber: 2.88961\tvalid_0's l2: 30.5243\n"
     ]
    },
    {
     "name": "stderr",
     "output_type": "stream",
     "text": [
      "2020-09-03 14:42:59.450 | INFO     | yspecies.selection:fit:82 - SEED: 1 | FOLD: 1 | VALIDATION_SPECIES: ['Heterocephalus_glaber', 'Vombatus_ursinus']\n"
     ]
    },
    {
     "name": "stdout",
     "output_type": "stream",
     "text": [
      "Training until validation scores don't improve for 10 rounds\n",
      "[250]\tvalid_0's l1: 4.37704\tvalid_0's huber: 3.59243\tvalid_0's l2: 67.2287\n",
      "Did not meet early stopping. Best iteration is:\n",
      "[250]\tvalid_0's l1: 4.37704\tvalid_0's huber: 3.59243\tvalid_0's l2: 67.2287\n"
     ]
    },
    {
     "name": "stderr",
     "output_type": "stream",
     "text": [
      "2020-09-03 14:43:04.855 | INFO     | yspecies.selection:fit:82 - SEED: 1 | FOLD: 2 | VALIDATION_SPECIES: ['Macaca_fascicularis', 'Rhinopithecus_bieti']\n"
     ]
    },
    {
     "name": "stdout",
     "output_type": "stream",
     "text": [
      "Training until validation scores don't improve for 10 rounds\n",
      "[250]\tvalid_0's l1: 2.69344\tvalid_0's huber: 2.10248\tvalid_0's l2: 25.5951\n",
      "Did not meet early stopping. Best iteration is:\n",
      "[250]\tvalid_0's l1: 2.69344\tvalid_0's huber: 2.10248\tvalid_0's l2: 25.5951\n"
     ]
    },
    {
     "name": "stderr",
     "output_type": "stream",
     "text": [
      "2020-09-03 14:43:33.378 | INFO     | yspecies.selection:fit:82 - SEED: 1 | FOLD: 3 | VALIDATION_SPECIES: ['Gorilla_gorilla', 'Ovis_aries']\n"
     ]
    },
    {
     "name": "stdout",
     "output_type": "stream",
     "text": [
      "Training until validation scores don't improve for 10 rounds\n",
      "[250]\tvalid_0's l1: 5.98191\tvalid_0's huber: 5.05198\tvalid_0's l2: 138.562\n",
      "Did not meet early stopping. Best iteration is:\n",
      "[250]\tvalid_0's l1: 5.98191\tvalid_0's huber: 5.05198\tvalid_0's l2: 138.562\n"
     ]
    },
    {
     "name": "stderr",
     "output_type": "stream",
     "text": [
      "2020-09-03 14:44:23.640 | INFO     | yspecies.selection:transform:226 - Metrics: \n",
      "Metrics(R2=0.9065327194322915, MAE=4.166343538481335, MSE=65.47741263074643, huber=3.4091251117006696)\n"
     ]
    },
    {
     "name": "stdout",
     "output_type": "stream",
     "text": [
      "2\n"
     ]
    },
    {
     "name": "stderr",
     "output_type": "stream",
     "text": [
      "2020-09-03 14:44:23.651 | INFO     | yspecies.selection:fit:78 - ===== fitting models with seed 2 =====\n",
      "2020-09-03 14:44:23.652 | INFO     | yspecies.selection:fit:79 - PARAMETERS:\n",
      "{'objective': 'regression', 'metric': {'mae', 'huber', 'mse'}, 'verbosity': -1, 'boosting_type': 'gbdt', 'lambda_l1': 2.1188796141799573, 'lambda_l2': 2.9232199794782074, 'max_leaves': 17, 'max_depth': 3, 'feature_fraction': 0.5479409728228775, 'bagging_fraction': 0.5896610538427859, 'learning_rate': 0.022559688029803765, 'min_data_in_leaf': 8, 'drop_rate': 0.27117231134759434, 'verbose': -1, 'seed': 1}\n",
      "2020-09-03 14:44:23.657 | INFO     | yspecies.selection:fit:82 - SEED: 2 | FOLD: 0 | VALIDATION_SPECIES: ['Rhinopithecus_bieti', 'Ursus_americanus']\n"
     ]
    },
    {
     "name": "stdout",
     "output_type": "stream",
     "text": [
      "[LightGBM] [Warning] verbosity is set=-1, verbose=-1 will be ignored. Current value: verbosity=-1\n",
      "Training until validation scores don't improve for 10 rounds\n",
      "[250]\tvalid_0's l1: 3.32876\tvalid_0's huber: 2.62895\tvalid_0's l2: 25.1841\n",
      "Did not meet early stopping. Best iteration is:\n",
      "[250]\tvalid_0's l1: 3.32876\tvalid_0's huber: 2.62895\tvalid_0's l2: 25.1841\n"
     ]
    },
    {
     "name": "stderr",
     "output_type": "stream",
     "text": [
      "2020-09-03 14:45:05.294 | INFO     | yspecies.selection:fit:82 - SEED: 2 | FOLD: 1 | VALIDATION_SPECIES: ['Aotus_nancymaae', 'Phascolarctos_cinereus']\n"
     ]
    },
    {
     "name": "stdout",
     "output_type": "stream",
     "text": [
      "Training until validation scores don't improve for 10 rounds\n",
      "[250]\tvalid_0's l1: 4.60238\tvalid_0's huber: 3.77843\tvalid_0's l2: 50.3524\n",
      "Did not meet early stopping. Best iteration is:\n",
      "[250]\tvalid_0's l1: 4.60238\tvalid_0's huber: 3.77843\tvalid_0's l2: 50.3524\n"
     ]
    },
    {
     "name": "stderr",
     "output_type": "stream",
     "text": [
      "2020-09-03 14:45:35.351 | INFO     | yspecies.selection:fit:82 - SEED: 2 | FOLD: 2 | VALIDATION_SPECIES: ['Vombatus_ursinus', 'Ailuropoda_melanoleuca']\n"
     ]
    },
    {
     "name": "stdout",
     "output_type": "stream",
     "text": [
      "Training until validation scores don't improve for 10 rounds\n",
      "[250]\tvalid_0's l1: 3.20708\tvalid_0's huber: 2.54925\tvalid_0's l2: 27.386\n",
      "Did not meet early stopping. Best iteration is:\n",
      "[250]\tvalid_0's l1: 3.20708\tvalid_0's huber: 2.54925\tvalid_0's l2: 27.386\n"
     ]
    },
    {
     "name": "stderr",
     "output_type": "stream",
     "text": [
      "2020-09-03 14:46:09.765 | INFO     | yspecies.selection:fit:82 - SEED: 2 | FOLD: 3 | VALIDATION_SPECIES: ['Rattus_norvegicus', 'Monodelphis_domestica']\n"
     ]
    },
    {
     "name": "stdout",
     "output_type": "stream",
     "text": [
      "Training until validation scores don't improve for 10 rounds\n",
      "[250]\tvalid_0's l1: 6.49222\tvalid_0's huber: 5.45666\tvalid_0's l2: 84.4484\n",
      "Did not meet early stopping. Best iteration is:\n",
      "[250]\tvalid_0's l1: 6.49222\tvalid_0's huber: 5.45666\tvalid_0's l2: 84.4484\n"
     ]
    },
    {
     "name": "stderr",
     "output_type": "stream",
     "text": [
      "2020-09-03 14:47:07.707 | INFO     | yspecies.selection:transform:226 - Metrics: \n",
      "Metrics(R2=0.9211545695820951, MAE=4.407611593241347, MSE=46.8427036239093, huber=3.6033232843840706)\n"
     ]
    },
    {
     "name": "stdout",
     "output_type": "stream",
     "text": [
      "3\n"
     ]
    },
    {
     "name": "stderr",
     "output_type": "stream",
     "text": [
      "2020-09-03 14:47:07.720 | INFO     | yspecies.selection:fit:78 - ===== fitting models with seed 3 =====\n",
      "2020-09-03 14:47:07.722 | INFO     | yspecies.selection:fit:79 - PARAMETERS:\n",
      "{'objective': 'regression', 'metric': {'mae', 'huber', 'mse'}, 'verbosity': -1, 'boosting_type': 'gbdt', 'lambda_l1': 2.1188796141799573, 'lambda_l2': 2.9232199794782074, 'max_leaves': 17, 'max_depth': 3, 'feature_fraction': 0.5479409728228775, 'bagging_fraction': 0.5896610538427859, 'learning_rate': 0.022559688029803765, 'min_data_in_leaf': 8, 'drop_rate': 0.27117231134759434, 'verbose': -1, 'seed': 2}\n",
      "2020-09-03 14:47:07.727 | INFO     | yspecies.selection:fit:82 - SEED: 3 | FOLD: 0 | VALIDATION_SPECIES: ['Microcebus_murinus', 'Pan_paniscus']\n"
     ]
    },
    {
     "name": "stdout",
     "output_type": "stream",
     "text": [
      "[LightGBM] [Warning] verbosity is set=-1, verbose=-1 will be ignored. Current value: verbosity=-1\n",
      "Training until validation scores don't improve for 10 rounds\n",
      "Early stopping, best iteration is:\n",
      "[187]\tvalid_0's l1: 3.76746\tvalid_0's huber: 3.01862\tvalid_0's l2: 33.7742\n"
     ]
    },
    {
     "name": "stderr",
     "output_type": "stream",
     "text": [
      "2020-09-03 14:47:39.559 | INFO     | yspecies.selection:fit:82 - SEED: 3 | FOLD: 1 | VALIDATION_SPECIES: ['Ursus_americanus', 'Gorilla_gorilla']\n"
     ]
    },
    {
     "name": "stdout",
     "output_type": "stream",
     "text": [
      "Training until validation scores don't improve for 10 rounds\n",
      "[250]\tvalid_0's l1: 6.9249\tvalid_0's huber: 5.85219\tvalid_0's l2: 123.111\n",
      "Did not meet early stopping. Best iteration is:\n",
      "[250]\tvalid_0's l1: 6.9249\tvalid_0's huber: 5.85219\tvalid_0's l2: 123.111\n"
     ]
    },
    {
     "name": "stderr",
     "output_type": "stream",
     "text": [
      "2020-09-03 14:48:15.820 | INFO     | yspecies.selection:fit:82 - SEED: 3 | FOLD: 2 | VALIDATION_SPECIES: ['Bos_taurus', 'Capra_hircus']\n"
     ]
    },
    {
     "name": "stdout",
     "output_type": "stream",
     "text": [
      "Training until validation scores don't improve for 10 rounds\n",
      "[250]\tvalid_0's l1: 3.28519\tvalid_0's huber: 2.60222\tvalid_0's l2: 32.2214\n",
      "Did not meet early stopping. Best iteration is:\n",
      "[250]\tvalid_0's l1: 3.28519\tvalid_0's huber: 2.60222\tvalid_0's l2: 32.2214\n"
     ]
    },
    {
     "name": "stderr",
     "output_type": "stream",
     "text": [
      "2020-09-03 14:48:43.286 | INFO     | yspecies.selection:fit:82 - SEED: 3 | FOLD: 3 | VALIDATION_SPECIES: ['Rhinolophus_ferrumequinum', 'Mus_musculus']\n"
     ]
    },
    {
     "name": "stdout",
     "output_type": "stream",
     "text": [
      "Training until validation scores don't improve for 10 rounds\n",
      "[250]\tvalid_0's l1: 2.5664\tvalid_0's huber: 1.95799\tvalid_0's l2: 32.7039\n",
      "Did not meet early stopping. Best iteration is:\n",
      "[250]\tvalid_0's l1: 2.5664\tvalid_0's huber: 1.95799\tvalid_0's l2: 32.7039\n"
     ]
    },
    {
     "name": "stderr",
     "output_type": "stream",
     "text": [
      "2020-09-03 14:49:33.769 | INFO     | yspecies.selection:transform:226 - Metrics: \n",
      "Metrics(R2=0.9259976022174882, MAE=4.135986708345377, MSE=55.45254976614978, huber=3.354698515176261)\n"
     ]
    },
    {
     "name": "stdout",
     "output_type": "stream",
     "text": [
      "4\n"
     ]
    },
    {
     "name": "stderr",
     "output_type": "stream",
     "text": [
      "2020-09-03 14:49:33.784 | INFO     | yspecies.selection:fit:78 - ===== fitting models with seed 4 =====\n",
      "2020-09-03 14:49:33.785 | INFO     | yspecies.selection:fit:79 - PARAMETERS:\n",
      "{'objective': 'regression', 'metric': {'mae', 'huber', 'mse'}, 'verbosity': -1, 'boosting_type': 'gbdt', 'lambda_l1': 2.1188796141799573, 'lambda_l2': 2.9232199794782074, 'max_leaves': 17, 'max_depth': 3, 'feature_fraction': 0.5479409728228775, 'bagging_fraction': 0.5896610538427859, 'learning_rate': 0.022559688029803765, 'min_data_in_leaf': 8, 'drop_rate': 0.27117231134759434, 'verbose': -1, 'seed': 3}\n",
      "2020-09-03 14:49:33.791 | INFO     | yspecies.selection:fit:82 - SEED: 4 | FOLD: 0 | VALIDATION_SPECIES: ['Macaca_fascicularis', 'Pan_troglodytes']\n"
     ]
    },
    {
     "name": "stdout",
     "output_type": "stream",
     "text": [
      "[LightGBM] [Warning] verbosity is set=-1, verbose=-1 will be ignored. Current value: verbosity=-1\n",
      "Training until validation scores don't improve for 10 rounds\n",
      "[250]\tvalid_0's l1: 3.27923\tvalid_0's huber: 2.58692\tvalid_0's l2: 33.5028\n",
      "Did not meet early stopping. Best iteration is:\n",
      "[250]\tvalid_0's l1: 3.27923\tvalid_0's huber: 2.58692\tvalid_0's l2: 33.5028\n"
     ]
    },
    {
     "name": "stderr",
     "output_type": "stream",
     "text": [
      "2020-09-03 14:50:11.518 | INFO     | yspecies.selection:fit:82 - SEED: 4 | FOLD: 1 | VALIDATION_SPECIES: ['Otolemur_garnettii', 'Ursus_americanus']\n"
     ]
    },
    {
     "name": "stdout",
     "output_type": "stream",
     "text": [
      "Training until validation scores don't improve for 10 rounds\n",
      "[250]\tvalid_0's l1: 3.5331\tvalid_0's huber: 2.85128\tvalid_0's l2: 59.0137\n",
      "Did not meet early stopping. Best iteration is:\n",
      "[250]\tvalid_0's l1: 3.5331\tvalid_0's huber: 2.85128\tvalid_0's l2: 59.0137\n"
     ]
    },
    {
     "name": "stderr",
     "output_type": "stream",
     "text": [
      "2020-09-03 14:50:53.586 | INFO     | yspecies.selection:fit:82 - SEED: 4 | FOLD: 2 | VALIDATION_SPECIES: ['Heterocephalus_glaber', 'Cavia_aperea']\n"
     ]
    },
    {
     "name": "stdout",
     "output_type": "stream",
     "text": [
      "Training until validation scores don't improve for 10 rounds\n",
      "[250]\tvalid_0's l1: 3.73047\tvalid_0's huber: 3.03502\tvalid_0's l2: 31.5412\n",
      "Did not meet early stopping. Best iteration is:\n",
      "[250]\tvalid_0's l1: 3.73047\tvalid_0's huber: 3.03502\tvalid_0's l2: 31.5412\n"
     ]
    },
    {
     "name": "stderr",
     "output_type": "stream",
     "text": [
      "2020-09-03 14:51:15.313 | INFO     | yspecies.selection:fit:82 - SEED: 4 | FOLD: 3 | VALIDATION_SPECIES: ['Pan_paniscus', 'Gorilla_gorilla']\n"
     ]
    },
    {
     "name": "stdout",
     "output_type": "stream",
     "text": [
      "Training until validation scores don't improve for 10 rounds\n",
      "[250]\tvalid_0's l1: 7.05729\tvalid_0's huber: 6.00723\tvalid_0's l2: 157.936\n",
      "Did not meet early stopping. Best iteration is:\n",
      "[250]\tvalid_0's l1: 7.05729\tvalid_0's huber: 6.00723\tvalid_0's l2: 157.936\n"
     ]
    },
    {
     "name": "stderr",
     "output_type": "stream",
     "text": [
      "2020-09-03 14:52:04.688 | INFO     | yspecies.selection:transform:226 - Metrics: \n",
      "Metrics(R2=0.9048771789330158, MAE=4.400026036199315, MSE=70.4983223801682, huber=3.620115149674267)\n"
     ]
    },
    {
     "name": "stdout",
     "output_type": "stream",
     "text": [
      "5\n"
     ]
    },
    {
     "name": "stderr",
     "output_type": "stream",
     "text": [
      "2020-09-03 14:52:04.700 | INFO     | yspecies.selection:fit:78 - ===== fitting models with seed 5 =====\n",
      "2020-09-03 14:52:04.702 | INFO     | yspecies.selection:fit:79 - PARAMETERS:\n",
      "{'objective': 'regression', 'metric': {'mae', 'huber', 'mse'}, 'verbosity': -1, 'boosting_type': 'gbdt', 'lambda_l1': 2.1188796141799573, 'lambda_l2': 2.9232199794782074, 'max_leaves': 17, 'max_depth': 3, 'feature_fraction': 0.5479409728228775, 'bagging_fraction': 0.5896610538427859, 'learning_rate': 0.022559688029803765, 'min_data_in_leaf': 8, 'drop_rate': 0.27117231134759434, 'verbose': -1, 'seed': 4}\n",
      "2020-09-03 14:52:04.707 | INFO     | yspecies.selection:fit:82 - SEED: 5 | FOLD: 0 | VALIDATION_SPECIES: ['Mus_spicilegus', 'Canis_lupus_familiaris']\n"
     ]
    },
    {
     "name": "stdout",
     "output_type": "stream",
     "text": [
      "[LightGBM] [Warning] verbosity is set=-1, verbose=-1 will be ignored. Current value: verbosity=-1\n",
      "Training until validation scores don't improve for 10 rounds\n",
      "[250]\tvalid_0's l1: 2.89904\tvalid_0's huber: 2.25125\tvalid_0's l2: 19.3978\n",
      "Did not meet early stopping. Best iteration is:\n",
      "[250]\tvalid_0's l1: 2.89904\tvalid_0's huber: 2.25125\tvalid_0's l2: 19.3978\n"
     ]
    },
    {
     "name": "stderr",
     "output_type": "stream",
     "text": [
      "2020-09-03 14:52:43.819 | INFO     | yspecies.selection:fit:82 - SEED: 5 | FOLD: 1 | VALIDATION_SPECIES: ['Ovis_aries', 'Heterocephalus_glaber']\n"
     ]
    },
    {
     "name": "stdout",
     "output_type": "stream",
     "text": [
      "Training until validation scores don't improve for 10 rounds\n",
      "[250]\tvalid_0's l1: 4.62097\tvalid_0's huber: 3.80578\tvalid_0's l2: 106.439\n",
      "Did not meet early stopping. Best iteration is:\n",
      "[250]\tvalid_0's l1: 4.62097\tvalid_0's huber: 3.80578\tvalid_0's l2: 106.439\n"
     ]
    },
    {
     "name": "stderr",
     "output_type": "stream",
     "text": [
      "2020-09-03 14:53:24.485 | INFO     | yspecies.selection:fit:82 - SEED: 5 | FOLD: 2 | VALIDATION_SPECIES: ['Ursus_americanus', 'Oryctolagus_cuniculus']\n"
     ]
    },
    {
     "name": "stdout",
     "output_type": "stream",
     "text": [
      "Training until validation scores don't improve for 10 rounds\n",
      "[250]\tvalid_0's l1: 5.1858\tvalid_0's huber: 4.33082\tvalid_0's l2: 100.673\n",
      "Did not meet early stopping. Best iteration is:\n",
      "[250]\tvalid_0's l1: 5.1858\tvalid_0's huber: 4.33082\tvalid_0's l2: 100.673\n"
     ]
    },
    {
     "name": "stderr",
     "output_type": "stream",
     "text": [
      "2020-09-03 14:53:59.882 | INFO     | yspecies.selection:fit:82 - SEED: 5 | FOLD: 3 | VALIDATION_SPECIES: ['Cavia_aperea', 'Ailuropoda_melanoleuca']\n"
     ]
    },
    {
     "name": "stdout",
     "output_type": "stream",
     "text": [
      "Training until validation scores don't improve for 10 rounds\n",
      "[250]\tvalid_0's l1: 4.03809\tvalid_0's huber: 3.31446\tvalid_0's l2: 60.2851\n",
      "Did not meet early stopping. Best iteration is:\n",
      "[250]\tvalid_0's l1: 4.03809\tvalid_0's huber: 3.31446\tvalid_0's l2: 60.2851\n"
     ]
    },
    {
     "name": "stderr",
     "output_type": "stream",
     "text": [
      "2020-09-03 14:54:34.013 | INFO     | yspecies.selection:transform:226 - Metrics: \n",
      "Metrics(R2=0.901643665725061, MAE=4.185975240081019, MSE=71.69881354259297, huber=3.4255793733950277)\n"
     ]
    },
    {
     "name": "stdout",
     "output_type": "stream",
     "text": [
      "6\n"
     ]
    },
    {
     "name": "stderr",
     "output_type": "stream",
     "text": [
      "2020-09-03 14:54:34.033 | INFO     | yspecies.selection:fit:78 - ===== fitting models with seed 6 =====\n",
      "2020-09-03 14:54:34.035 | INFO     | yspecies.selection:fit:79 - PARAMETERS:\n",
      "{'objective': 'regression', 'metric': {'mae', 'huber', 'mse'}, 'verbosity': -1, 'boosting_type': 'gbdt', 'lambda_l1': 2.1188796141799573, 'lambda_l2': 2.9232199794782074, 'max_leaves': 17, 'max_depth': 3, 'feature_fraction': 0.5479409728228775, 'bagging_fraction': 0.5896610538427859, 'learning_rate': 0.022559688029803765, 'min_data_in_leaf': 8, 'drop_rate': 0.27117231134759434, 'verbose': -1, 'seed': 5}\n",
      "2020-09-03 14:54:34.039 | INFO     | yspecies.selection:fit:82 - SEED: 6 | FOLD: 0 | VALIDATION_SPECIES: ['Rhinolophus_ferrumequinum', 'Heterocephalus_glaber']\n"
     ]
    },
    {
     "name": "stdout",
     "output_type": "stream",
     "text": [
      "[LightGBM] [Warning] verbosity is set=-1, verbose=-1 will be ignored. Current value: verbosity=-1\n",
      "Training until validation scores don't improve for 10 rounds\n",
      "[250]\tvalid_0's l1: 3.46402\tvalid_0's huber: 2.7762\tvalid_0's l2: 32.6656\n",
      "Did not meet early stopping. Best iteration is:\n",
      "[250]\tvalid_0's l1: 3.46402\tvalid_0's huber: 2.7762\tvalid_0's l2: 32.6656\n"
     ]
    },
    {
     "name": "stderr",
     "output_type": "stream",
     "text": [
      "2020-09-03 14:55:13.250 | INFO     | yspecies.selection:fit:82 - SEED: 6 | FOLD: 1 | VALIDATION_SPECIES: ['Mus_spicilegus', 'Suricata_suricatta']\n"
     ]
    },
    {
     "name": "stdout",
     "output_type": "stream",
     "text": [
      "Training until validation scores don't improve for 10 rounds\n",
      "[250]\tvalid_0's l1: 3.68453\tvalid_0's huber: 2.97243\tvalid_0's l2: 42.5182\n",
      "Did not meet early stopping. Best iteration is:\n",
      "[250]\tvalid_0's l1: 3.68453\tvalid_0's huber: 2.97243\tvalid_0's l2: 42.5182\n"
     ]
    },
    {
     "name": "stderr",
     "output_type": "stream",
     "text": [
      "2020-09-03 14:55:54.544 | INFO     | yspecies.selection:fit:82 - SEED: 6 | FOLD: 2 | VALIDATION_SPECIES: ['Rhinopithecus_bieti', 'Ovis_aries']\n"
     ]
    },
    {
     "name": "stdout",
     "output_type": "stream",
     "text": [
      "Training until validation scores don't improve for 10 rounds\n",
      "[250]\tvalid_0's l1: 2.60746\tvalid_0's huber: 2.01454\tvalid_0's l2: 19.4892\n",
      "Did not meet early stopping. Best iteration is:\n",
      "[250]\tvalid_0's l1: 2.60746\tvalid_0's huber: 2.01454\tvalid_0's l2: 19.4892\n"
     ]
    },
    {
     "name": "stderr",
     "output_type": "stream",
     "text": [
      "2020-09-03 14:56:31.900 | INFO     | yspecies.selection:fit:82 - SEED: 6 | FOLD: 3 | VALIDATION_SPECIES: ['Cavia_porcellus', 'Pan_troglodytes']\n"
     ]
    },
    {
     "name": "stdout",
     "output_type": "stream",
     "text": [
      "Training until validation scores don't improve for 10 rounds\n",
      "[250]\tvalid_0's l1: 3.59124\tvalid_0's huber: 2.88308\tvalid_0's l2: 48.8782\n",
      "Did not meet early stopping. Best iteration is:\n",
      "[250]\tvalid_0's l1: 3.59124\tvalid_0's huber: 2.88308\tvalid_0's l2: 48.8782\n"
     ]
    },
    {
     "name": "stderr",
     "output_type": "stream",
     "text": [
      "2020-09-03 14:57:15.487 | INFO     | yspecies.selection:transform:226 - Metrics: \n",
      "Metrics(R2=0.9499593925917194, MAE=3.336815346089687, MSE=35.88779365253819, huber=2.661562166279066)\n"
     ]
    },
    {
     "name": "stdout",
     "output_type": "stream",
     "text": [
      "7\n"
     ]
    },
    {
     "name": "stderr",
     "output_type": "stream",
     "text": [
      "2020-09-03 14:57:15.497 | INFO     | yspecies.selection:fit:78 - ===== fitting models with seed 7 =====\n",
      "2020-09-03 14:57:15.498 | INFO     | yspecies.selection:fit:79 - PARAMETERS:\n",
      "{'objective': 'regression', 'metric': {'mae', 'huber', 'mse'}, 'verbosity': -1, 'boosting_type': 'gbdt', 'lambda_l1': 2.1188796141799573, 'lambda_l2': 2.9232199794782074, 'max_leaves': 17, 'max_depth': 3, 'feature_fraction': 0.5479409728228775, 'bagging_fraction': 0.5896610538427859, 'learning_rate': 0.022559688029803765, 'min_data_in_leaf': 8, 'drop_rate': 0.27117231134759434, 'verbose': -1, 'seed': 6}\n",
      "2020-09-03 14:57:15.502 | INFO     | yspecies.selection:fit:82 - SEED: 7 | FOLD: 0 | VALIDATION_SPECIES: ['Macaca_mulatta', 'Cavia_porcellus']\n"
     ]
    },
    {
     "name": "stdout",
     "output_type": "stream",
     "text": [
      "[LightGBM] [Warning] verbosity is set=-1, verbose=-1 will be ignored. Current value: verbosity=-1\n",
      "Training until validation scores don't improve for 10 rounds\n",
      "[250]\tvalid_0's l1: 3.52477\tvalid_0's huber: 2.82083\tvalid_0's l2: 29.9578\n",
      "Did not meet early stopping. Best iteration is:\n",
      "[250]\tvalid_0's l1: 3.52477\tvalid_0's huber: 2.82083\tvalid_0's l2: 29.9578\n"
     ]
    },
    {
     "name": "stderr",
     "output_type": "stream",
     "text": [
      "2020-09-03 14:57:44.310 | INFO     | yspecies.selection:fit:82 - SEED: 7 | FOLD: 1 | VALIDATION_SPECIES: ['Pan_paniscus', 'Capra_hircus']\n"
     ]
    },
    {
     "name": "stdout",
     "output_type": "stream",
     "text": [
      "Training until validation scores don't improve for 10 rounds\n",
      "[250]\tvalid_0's l1: 3.46023\tvalid_0's huber: 2.76487\tvalid_0's l2: 39.9484\n",
      "Did not meet early stopping. Best iteration is:\n",
      "[250]\tvalid_0's l1: 3.46023\tvalid_0's huber: 2.76487\tvalid_0's l2: 39.9484\n"
     ]
    },
    {
     "name": "stderr",
     "output_type": "stream",
     "text": [
      "2020-09-03 14:58:25.164 | INFO     | yspecies.selection:fit:82 - SEED: 7 | FOLD: 2 | VALIDATION_SPECIES: ['Otolemur_garnettii', 'Ictidomys_tridecemlineatus']\n"
     ]
    },
    {
     "name": "stdout",
     "output_type": "stream",
     "text": [
      "Training until validation scores don't improve for 10 rounds\n",
      "[250]\tvalid_0's l1: 3.81546\tvalid_0's huber: 3.10859\tvalid_0's l2: 37.3147\n",
      "Did not meet early stopping. Best iteration is:\n",
      "[250]\tvalid_0's l1: 3.81546\tvalid_0's huber: 3.10859\tvalid_0's l2: 37.3147\n"
     ]
    },
    {
     "name": "stderr",
     "output_type": "stream",
     "text": [
      "2020-09-03 14:59:07.821 | INFO     | yspecies.selection:fit:82 - SEED: 7 | FOLD: 3 | VALIDATION_SPECIES: ['Canis_lupus_familiaris', 'Ursus_americanus']\n"
     ]
    },
    {
     "name": "stdout",
     "output_type": "stream",
     "text": [
      "Training until validation scores don't improve for 10 rounds\n",
      "[250]\tvalid_0's l1: 3.58217\tvalid_0's huber: 2.9082\tvalid_0's l2: 46.7198\n",
      "Did not meet early stopping. Best iteration is:\n",
      "[250]\tvalid_0's l1: 3.58217\tvalid_0's huber: 2.9082\tvalid_0's l2: 46.7198\n"
     ]
    },
    {
     "name": "stderr",
     "output_type": "stream",
     "text": [
      "2020-09-03 14:59:55.590 | INFO     | yspecies.selection:transform:226 - Metrics: \n",
      "Metrics(R2=0.9461474714435032, MAE=3.5956598967839093, MSE=38.485179589077816, huber=2.900621444915695)\n"
     ]
    },
    {
     "name": "stdout",
     "output_type": "stream",
     "text": [
      "8\n"
     ]
    },
    {
     "name": "stderr",
     "output_type": "stream",
     "text": [
      "2020-09-03 14:59:55.611 | INFO     | yspecies.selection:fit:78 - ===== fitting models with seed 8 =====\n",
      "2020-09-03 14:59:55.613 | INFO     | yspecies.selection:fit:79 - PARAMETERS:\n",
      "{'objective': 'regression', 'metric': {'mae', 'huber', 'mse'}, 'verbosity': -1, 'boosting_type': 'gbdt', 'lambda_l1': 2.1188796141799573, 'lambda_l2': 2.9232199794782074, 'max_leaves': 17, 'max_depth': 3, 'feature_fraction': 0.5479409728228775, 'bagging_fraction': 0.5896610538427859, 'learning_rate': 0.022559688029803765, 'min_data_in_leaf': 8, 'drop_rate': 0.27117231134759434, 'verbose': -1, 'seed': 7}\n",
      "2020-09-03 14:59:55.617 | INFO     | yspecies.selection:fit:82 - SEED: 8 | FOLD: 0 | VALIDATION_SPECIES: ['Pan_paniscus', 'Suricata_suricatta']\n"
     ]
    },
    {
     "name": "stdout",
     "output_type": "stream",
     "text": [
      "[LightGBM] [Warning] verbosity is set=-1, verbose=-1 will be ignored. Current value: verbosity=-1\n",
      "Training until validation scores don't improve for 10 rounds\n",
      "Early stopping, best iteration is:\n",
      "[230]\tvalid_0's l1: 2.94907\tvalid_0's huber: 2.31222\tvalid_0's l2: 26.5045\n"
     ]
    },
    {
     "name": "stderr",
     "output_type": "stream",
     "text": [
      "2020-09-03 15:00:22.007 | INFO     | yspecies.selection:fit:82 - SEED: 8 | FOLD: 1 | VALIDATION_SPECIES: ['Macaca_fascicularis', 'Tupaia_belangeri']\n"
     ]
    },
    {
     "name": "stdout",
     "output_type": "stream",
     "text": [
      "Training until validation scores don't improve for 10 rounds\n",
      "[250]\tvalid_0's l1: 3.19269\tvalid_0's huber: 2.52483\tvalid_0's l2: 32.4588\n",
      "Did not meet early stopping. Best iteration is:\n",
      "[250]\tvalid_0's l1: 3.19269\tvalid_0's huber: 2.52483\tvalid_0's l2: 32.4588\n"
     ]
    },
    {
     "name": "stderr",
     "output_type": "stream",
     "text": [
      "2020-09-03 15:01:02.733 | INFO     | yspecies.selection:fit:82 - SEED: 8 | FOLD: 2 | VALIDATION_SPECIES: ['Ursus_americanus', 'Capra_hircus']\n"
     ]
    },
    {
     "name": "stdout",
     "output_type": "stream",
     "text": [
      "Training until validation scores don't improve for 10 rounds\n",
      "[250]\tvalid_0's l1: 3.19933\tvalid_0's huber: 2.53569\tvalid_0's l2: 35.065\n",
      "Did not meet early stopping. Best iteration is:\n",
      "[250]\tvalid_0's l1: 3.19933\tvalid_0's huber: 2.53569\tvalid_0's l2: 35.065\n"
     ]
    },
    {
     "name": "stderr",
     "output_type": "stream",
     "text": [
      "2020-09-03 15:01:42.493 | INFO     | yspecies.selection:fit:82 - SEED: 8 | FOLD: 3 | VALIDATION_SPECIES: ['Bos_taurus', 'Rhinolophus_ferrumequinum']\n"
     ]
    },
    {
     "name": "stdout",
     "output_type": "stream",
     "text": [
      "Training until validation scores don't improve for 10 rounds\n",
      "[250]\tvalid_0's l1: 3.12679\tvalid_0's huber: 2.47724\tvalid_0's l2: 42.8113\n",
      "Did not meet early stopping. Best iteration is:\n",
      "[250]\tvalid_0's l1: 3.12679\tvalid_0's huber: 2.47724\tvalid_0's l2: 42.8113\n"
     ]
    },
    {
     "name": "stderr",
     "output_type": "stream",
     "text": [
      "2020-09-03 15:02:25.527 | INFO     | yspecies.selection:transform:226 - Metrics: \n",
      "Metrics(R2=0.9519204924283998, MAE=3.1169705881925327, MSE=34.20991470732449, huber=2.4628866719370217)\n"
     ]
    },
    {
     "name": "stdout",
     "output_type": "stream",
     "text": [
      "9\n"
     ]
    },
    {
     "name": "stderr",
     "output_type": "stream",
     "text": [
      "2020-09-03 15:02:25.538 | INFO     | yspecies.selection:fit:78 - ===== fitting models with seed 9 =====\n",
      "2020-09-03 15:02:25.540 | INFO     | yspecies.selection:fit:79 - PARAMETERS:\n",
      "{'objective': 'regression', 'metric': {'mae', 'huber', 'mse'}, 'verbosity': -1, 'boosting_type': 'gbdt', 'lambda_l1': 2.1188796141799573, 'lambda_l2': 2.9232199794782074, 'max_leaves': 17, 'max_depth': 3, 'feature_fraction': 0.5479409728228775, 'bagging_fraction': 0.5896610538427859, 'learning_rate': 0.022559688029803765, 'min_data_in_leaf': 8, 'drop_rate': 0.27117231134759434, 'verbose': -1, 'seed': 8}\n",
      "2020-09-03 15:02:25.544 | INFO     | yspecies.selection:fit:82 - SEED: 9 | FOLD: 0 | VALIDATION_SPECIES: ['Ictidomys_tridecemlineatus', 'Aotus_nancymaae']\n"
     ]
    },
    {
     "name": "stdout",
     "output_type": "stream",
     "text": [
      "[LightGBM] [Warning] verbosity is set=-1, verbose=-1 will be ignored. Current value: verbosity=-1\n",
      "Training until validation scores don't improve for 10 rounds\n",
      "[250]\tvalid_0's l1: 3.4943\tvalid_0's huber: 2.79987\tvalid_0's l2: 32.6485\n",
      "Did not meet early stopping. Best iteration is:\n",
      "[250]\tvalid_0's l1: 3.4943\tvalid_0's huber: 2.79987\tvalid_0's l2: 32.6485\n"
     ]
    },
    {
     "name": "stderr",
     "output_type": "stream",
     "text": [
      "2020-09-03 15:02:59.429 | INFO     | yspecies.selection:fit:82 - SEED: 9 | FOLD: 1 | VALIDATION_SPECIES: ['Pan_troglodytes', 'Oryctolagus_cuniculus']\n"
     ]
    },
    {
     "name": "stdout",
     "output_type": "stream",
     "text": [
      "Training until validation scores don't improve for 10 rounds\n",
      "[250]\tvalid_0's l1: 5.15672\tvalid_0's huber: 4.29716\tvalid_0's l2: 86.8558\n",
      "Did not meet early stopping. Best iteration is:\n",
      "[250]\tvalid_0's l1: 5.15672\tvalid_0's huber: 4.29716\tvalid_0's l2: 86.8558\n"
     ]
    },
    {
     "name": "stderr",
     "output_type": "stream",
     "text": [
      "2020-09-03 15:03:42.425 | INFO     | yspecies.selection:fit:82 - SEED: 9 | FOLD: 2 | VALIDATION_SPECIES: ['Mesocricetus_auratus', 'Meriones_unguiculatus']\n"
     ]
    },
    {
     "name": "stdout",
     "output_type": "stream",
     "text": [
      "Training until validation scores don't improve for 10 rounds\n",
      "[250]\tvalid_0's l1: 4.01325\tvalid_0's huber: 3.25834\tvalid_0's l2: 50.8302\n",
      "Did not meet early stopping. Best iteration is:\n",
      "[250]\tvalid_0's l1: 4.01325\tvalid_0's huber: 3.25834\tvalid_0's l2: 50.8302\n"
     ]
    },
    {
     "name": "stderr",
     "output_type": "stream",
     "text": [
      "2020-09-03 15:04:23.735 | INFO     | yspecies.selection:fit:82 - SEED: 9 | FOLD: 3 | VALIDATION_SPECIES: ['Gorilla_gorilla', 'Microcebus_murinus']\n"
     ]
    },
    {
     "name": "stdout",
     "output_type": "stream",
     "text": [
      "Training until validation scores don't improve for 10 rounds\n",
      "[250]\tvalid_0's l1: 5.56601\tvalid_0's huber: 4.66991\tvalid_0's l2: 105.827\n",
      "Did not meet early stopping. Best iteration is:\n",
      "[250]\tvalid_0's l1: 5.56601\tvalid_0's huber: 4.66991\tvalid_0's l2: 105.827\n"
     ]
    },
    {
     "name": "stderr",
     "output_type": "stream",
     "text": [
      "2020-09-03 15:05:15.985 | INFO     | yspecies.selection:transform:226 - Metrics: \n",
      "Metrics(R2=0.9059269469011908, MAE=4.557568776127801, MSE=69.04044378224523, huber=3.7563222532418736)\n",
      "MultiObjectiveTrial is experimental (supported from v1.4.0). The interface can change in the future.\n",
      "MultiObjectiveStudy is experimental (supported from v1.4.0). The interface can change in the future.\n",
      "[I 2020-09-03 15:05:16,583] Trial 498 finished with values: [0.919944868329722, 3.3134349352775785, 0.5411377073638111] with parameters: {'boosting_type': 'gbdt', 'lambda_l1': 2.1188796141799573, 'lambda_l2': 2.9232199794782074, 'max_leaves': 17, 'max_depth': 3, 'feature_fraction': 0.5479409728228775, 'bagging_fraction': 0.5896610538427859, 'learning_rate': 0.022559688029803765, 'min_data_in_leaf': 8, 'drop_rate': 0.27117231134759434}.\n",
      "MultiObjectiveStudy is experimental (supported from v1.4.0). The interface can change in the future.\n",
      "FrozenMultiObjectiveTrial is experimental (supported from v1.4.0). The interface can change in the future.\n",
      "MultiObjectiveStudy is experimental (supported from v1.4.0). The interface can change in the future.\n",
      "FrozenMultiObjectiveTrial is experimental (supported from v1.4.0). The interface can change in the future.\n",
      "FrozenMultiObjectiveTrial is experimental (supported from v1.4.0). The interface can change in the future.\n",
      "MultiObjectiveTrial is experimental (supported from v1.4.0). The interface can change in the future.\n",
      "MultiObjectiveStudy is experimental (supported from v1.4.0). The interface can change in the future.\n",
      "FrozenMultiObjectiveTrial is experimental (supported from v1.4.0). The interface can change in the future.\n"
     ]
    },
    {
     "name": "stdout",
     "output_type": "stream",
     "text": [
      "0\n"
     ]
    },
    {
     "name": "stderr",
     "output_type": "stream",
     "text": [
      "2020-09-03 15:05:17.092 | INFO     | yspecies.selection:fit:78 - ===== fitting models with seed 0 =====\n",
      "2020-09-03 15:05:17.094 | INFO     | yspecies.selection:fit:79 - PARAMETERS:\n",
      "{'objective': 'regression', 'metric': {'mae', 'huber', 'mse'}, 'verbosity': -1, 'boosting_type': 'gbdt', 'lambda_l1': 0.806868772761894, 'lambda_l2': 2.9232199794782074, 'max_leaves': 22, 'max_depth': 7, 'feature_fraction': 0.5479409728228775, 'bagging_fraction': 0.757456996980591, 'learning_rate': 0.09455981821813096, 'min_data_in_leaf': 3, 'drop_rate': 0.18519197642285007, 'verbose': -1}\n",
      "2020-09-03 15:05:17.099 | INFO     | yspecies.selection:fit:82 - SEED: 0 | FOLD: 0 | VALIDATION_SPECIES: ['Gorilla_gorilla', 'Pan_paniscus']\n"
     ]
    },
    {
     "name": "stdout",
     "output_type": "stream",
     "text": [
      "[LightGBM] [Warning] verbosity is set=-1, verbose=-1 will be ignored. Current value: verbosity=-1\n",
      "Training until validation scores don't improve for 10 rounds\n",
      "Early stopping, best iteration is:\n",
      "[105]\tvalid_0's l1: 9.06707\tvalid_0's huber: 7.84698\tvalid_0's l2: 242.143\n"
     ]
    },
    {
     "name": "stderr",
     "output_type": "stream",
     "text": [
      "2020-09-03 15:05:53.373 | INFO     | yspecies.selection:fit:82 - SEED: 0 | FOLD: 1 | VALIDATION_SPECIES: ['Heterocephalus_glaber', 'Capra_hircus']\n"
     ]
    },
    {
     "name": "stdout",
     "output_type": "stream",
     "text": [
      "Training until validation scores don't improve for 10 rounds\n",
      "Early stopping, best iteration is:\n",
      "[102]\tvalid_0's l1: 3.26721\tvalid_0's huber: 2.67696\tvalid_0's l2: 48.5281\n"
     ]
    },
    {
     "name": "stderr",
     "output_type": "stream",
     "text": [
      "2020-09-03 15:06:45.984 | INFO     | yspecies.selection:fit:82 - SEED: 0 | FOLD: 2 | VALIDATION_SPECIES: ['Bos_taurus', 'Otolemur_garnettii']\n"
     ]
    },
    {
     "name": "stdout",
     "output_type": "stream",
     "text": [
      "Training until validation scores don't improve for 10 rounds\n",
      "Early stopping, best iteration is:\n",
      "[78]\tvalid_0's l1: 2.89848\tvalid_0's huber: 2.30534\tvalid_0's l2: 36.4492\n"
     ]
    },
    {
     "name": "stderr",
     "output_type": "stream",
     "text": [
      "2020-09-03 15:07:34.541 | INFO     | yspecies.selection:fit:82 - SEED: 0 | FOLD: 3 | VALIDATION_SPECIES: ['Macaca_nemestrina', 'Microcebus_murinus']\n"
     ]
    },
    {
     "name": "stdout",
     "output_type": "stream",
     "text": [
      "Training until validation scores don't improve for 10 rounds\n",
      "Early stopping, best iteration is:\n",
      "[69]\tvalid_0's l1: 3.30605\tvalid_0's huber: 2.671\tvalid_0's l2: 81.0805\n"
     ]
    },
    {
     "name": "stderr",
     "output_type": "stream",
     "text": [
      "2020-09-03 15:08:26.269 | INFO     | yspecies.selection:transform:226 - Metrics: \n",
      "Metrics(R2=0.8654629952487227, MAE=4.634701402385673, MSE=102.05034182540645, huber=3.8694854152793)\n"
     ]
    },
    {
     "name": "stdout",
     "output_type": "stream",
     "text": [
      "1\n"
     ]
    },
    {
     "name": "stderr",
     "output_type": "stream",
     "text": [
      "2020-09-03 15:08:26.281 | INFO     | yspecies.selection:fit:78 - ===== fitting models with seed 1 =====\n",
      "2020-09-03 15:08:26.282 | INFO     | yspecies.selection:fit:79 - PARAMETERS:\n",
      "{'objective': 'regression', 'metric': {'mae', 'huber', 'mse'}, 'verbosity': -1, 'boosting_type': 'gbdt', 'lambda_l1': 0.806868772761894, 'lambda_l2': 2.9232199794782074, 'max_leaves': 22, 'max_depth': 7, 'feature_fraction': 0.5479409728228775, 'bagging_fraction': 0.757456996980591, 'learning_rate': 0.09455981821813096, 'min_data_in_leaf': 3, 'drop_rate': 0.18519197642285007, 'verbose': -1, 'seed': 0}\n",
      "2020-09-03 15:08:26.288 | INFO     | yspecies.selection:fit:82 - SEED: 1 | FOLD: 0 | VALIDATION_SPECIES: ['Felis_catus', 'Ursus_americanus']\n"
     ]
    },
    {
     "name": "stdout",
     "output_type": "stream",
     "text": [
      "[LightGBM] [Warning] verbosity is set=-1, verbose=-1 will be ignored. Current value: verbosity=-1\n",
      "Training until validation scores don't improve for 10 rounds\n",
      "Early stopping, best iteration is:\n",
      "[56]\tvalid_0's l1: 3.25027\tvalid_0's huber: 2.59868\tvalid_0's l2: 31.8521\n"
     ]
    },
    {
     "name": "stderr",
     "output_type": "stream",
     "text": [
      "2020-09-03 15:09:00.053 | INFO     | yspecies.selection:fit:82 - SEED: 1 | FOLD: 1 | VALIDATION_SPECIES: ['Heterocephalus_glaber', 'Vombatus_ursinus']\n"
     ]
    },
    {
     "name": "stdout",
     "output_type": "stream",
     "text": [
      "Training until validation scores don't improve for 10 rounds\n",
      "Early stopping, best iteration is:\n",
      "[97]\tvalid_0's l1: 4.18665\tvalid_0's huber: 3.47171\tvalid_0's l2: 76.6972\n"
     ]
    },
    {
     "name": "stderr",
     "output_type": "stream",
     "text": [
      "2020-09-03 15:09:52.299 | INFO     | yspecies.selection:fit:82 - SEED: 1 | FOLD: 2 | VALIDATION_SPECIES: ['Macaca_fascicularis', 'Rhinopithecus_bieti']\n"
     ]
    },
    {
     "name": "stdout",
     "output_type": "stream",
     "text": [
      "Training until validation scores don't improve for 10 rounds\n",
      "Early stopping, best iteration is:\n",
      "[134]\tvalid_0's l1: 2.67011\tvalid_0's huber: 2.11303\tvalid_0's l2: 35.916\n"
     ]
    },
    {
     "name": "stderr",
     "output_type": "stream",
     "text": [
      "2020-09-03 15:10:53.649 | INFO     | yspecies.selection:fit:82 - SEED: 1 | FOLD: 3 | VALIDATION_SPECIES: ['Gorilla_gorilla', 'Ovis_aries']\n"
     ]
    },
    {
     "name": "stdout",
     "output_type": "stream",
     "text": [
      "Training until validation scores don't improve for 10 rounds\n",
      "Early stopping, best iteration is:\n",
      "[102]\tvalid_0's l1: 5.63094\tvalid_0's huber: 4.77117\tvalid_0's l2: 137.317\n"
     ]
    },
    {
     "name": "stderr",
     "output_type": "stream",
     "text": [
      "2020-09-03 15:12:06.103 | INFO     | yspecies.selection:transform:226 - Metrics: \n",
      "Metrics(R2=0.8997331463599649, MAE=3.93449476763627, MSE=70.44549304644372, huber=3.239991181552105)\n"
     ]
    },
    {
     "name": "stdout",
     "output_type": "stream",
     "text": [
      "2\n"
     ]
    },
    {
     "name": "stderr",
     "output_type": "stream",
     "text": [
      "2020-09-03 15:12:06.113 | INFO     | yspecies.selection:fit:78 - ===== fitting models with seed 2 =====\n",
      "2020-09-03 15:12:06.115 | INFO     | yspecies.selection:fit:79 - PARAMETERS:\n",
      "{'objective': 'regression', 'metric': {'mae', 'huber', 'mse'}, 'verbosity': -1, 'boosting_type': 'gbdt', 'lambda_l1': 0.806868772761894, 'lambda_l2': 2.9232199794782074, 'max_leaves': 22, 'max_depth': 7, 'feature_fraction': 0.5479409728228775, 'bagging_fraction': 0.757456996980591, 'learning_rate': 0.09455981821813096, 'min_data_in_leaf': 3, 'drop_rate': 0.18519197642285007, 'verbose': -1, 'seed': 1}\n",
      "2020-09-03 15:12:06.119 | INFO     | yspecies.selection:fit:82 - SEED: 2 | FOLD: 0 | VALIDATION_SPECIES: ['Rhinopithecus_bieti', 'Ursus_americanus']\n"
     ]
    },
    {
     "name": "stdout",
     "output_type": "stream",
     "text": [
      "[LightGBM] [Warning] verbosity is set=-1, verbose=-1 will be ignored. Current value: verbosity=-1\n",
      "Training until validation scores don't improve for 10 rounds\n",
      "Early stopping, best iteration is:\n",
      "[63]\tvalid_0's l1: 3.22894\tvalid_0's huber: 2.57879\tvalid_0's l2: 28.1808\n"
     ]
    },
    {
     "name": "stderr",
     "output_type": "stream",
     "text": [
      "2020-09-03 15:12:42.542 | INFO     | yspecies.selection:fit:82 - SEED: 2 | FOLD: 1 | VALIDATION_SPECIES: ['Aotus_nancymaae', 'Phascolarctos_cinereus']\n"
     ]
    },
    {
     "name": "stdout",
     "output_type": "stream",
     "text": [
      "Training until validation scores don't improve for 10 rounds\n",
      "Early stopping, best iteration is:\n",
      "[233]\tvalid_0's l1: 4.54421\tvalid_0's huber: 3.75783\tvalid_0's l2: 69.5593\n"
     ]
    },
    {
     "name": "stderr",
     "output_type": "stream",
     "text": [
      "2020-09-03 15:14:21.503 | INFO     | yspecies.selection:fit:82 - SEED: 2 | FOLD: 2 | VALIDATION_SPECIES: ['Vombatus_ursinus', 'Ailuropoda_melanoleuca']\n"
     ]
    },
    {
     "name": "stdout",
     "output_type": "stream",
     "text": [
      "Training until validation scores don't improve for 10 rounds\n",
      "Early stopping, best iteration is:\n",
      "[122]\tvalid_0's l1: 3.89139\tvalid_0's huber: 3.18339\tvalid_0's l2: 46.1245\n"
     ]
    },
    {
     "name": "stderr",
     "output_type": "stream",
     "text": [
      "2020-09-03 15:15:24.741 | INFO     | yspecies.selection:fit:82 - SEED: 2 | FOLD: 3 | VALIDATION_SPECIES: ['Rattus_norvegicus', 'Monodelphis_domestica']\n"
     ]
    },
    {
     "name": "stdout",
     "output_type": "stream",
     "text": [
      "Training until validation scores don't improve for 10 rounds\n",
      "Early stopping, best iteration is:\n",
      "[199]\tvalid_0's l1: 5.0138\tvalid_0's huber: 4.15025\tvalid_0's l2: 66.1802\n"
     ]
    },
    {
     "name": "stderr",
     "output_type": "stream",
     "text": [
      "2020-09-03 15:17:10.786 | INFO     | yspecies.selection:transform:226 - Metrics: \n",
      "Metrics(R2=0.9193894511597578, MAE=4.1695861828160785, MSE=52.51121005763429, huber=3.4165270264274694)\n"
     ]
    },
    {
     "name": "stdout",
     "output_type": "stream",
     "text": [
      "3\n"
     ]
    },
    {
     "name": "stderr",
     "output_type": "stream",
     "text": [
      "2020-09-03 15:17:10.796 | INFO     | yspecies.selection:fit:78 - ===== fitting models with seed 3 =====\n",
      "2020-09-03 15:17:10.797 | INFO     | yspecies.selection:fit:79 - PARAMETERS:\n",
      "{'objective': 'regression', 'metric': {'mae', 'huber', 'mse'}, 'verbosity': -1, 'boosting_type': 'gbdt', 'lambda_l1': 0.806868772761894, 'lambda_l2': 2.9232199794782074, 'max_leaves': 22, 'max_depth': 7, 'feature_fraction': 0.5479409728228775, 'bagging_fraction': 0.757456996980591, 'learning_rate': 0.09455981821813096, 'min_data_in_leaf': 3, 'drop_rate': 0.18519197642285007, 'verbose': -1, 'seed': 2}\n",
      "2020-09-03 15:17:10.802 | INFO     | yspecies.selection:fit:82 - SEED: 3 | FOLD: 0 | VALIDATION_SPECIES: ['Microcebus_murinus', 'Pan_paniscus']\n"
     ]
    },
    {
     "name": "stdout",
     "output_type": "stream",
     "text": [
      "[LightGBM] [Warning] verbosity is set=-1, verbose=-1 will be ignored. Current value: verbosity=-1\n",
      "Training until validation scores don't improve for 10 rounds\n",
      "Early stopping, best iteration is:\n",
      "[100]\tvalid_0's l1: 2.98284\tvalid_0's huber: 2.36077\tvalid_0's l2: 23.4817\n"
     ]
    },
    {
     "name": "stderr",
     "output_type": "stream",
     "text": [
      "2020-09-03 15:18:10.004 | INFO     | yspecies.selection:fit:82 - SEED: 3 | FOLD: 1 | VALIDATION_SPECIES: ['Ursus_americanus', 'Gorilla_gorilla']\n"
     ]
    },
    {
     "name": "stdout",
     "output_type": "stream",
     "text": [
      "Training until validation scores don't improve for 10 rounds\n",
      "Early stopping, best iteration is:\n",
      "[155]\tvalid_0's l1: 6.3\tvalid_0's huber: 5.33267\tvalid_0's l2: 120.2\n"
     ]
    },
    {
     "name": "stderr",
     "output_type": "stream",
     "text": [
      "2020-09-03 15:19:12.713 | INFO     | yspecies.selection:fit:82 - SEED: 3 | FOLD: 2 | VALIDATION_SPECIES: ['Bos_taurus', 'Capra_hircus']\n"
     ]
    },
    {
     "name": "stdout",
     "output_type": "stream",
     "text": [
      "Training until validation scores don't improve for 10 rounds\n",
      "Early stopping, best iteration is:\n",
      "[158]\tvalid_0's l1: 3.63023\tvalid_0's huber: 2.95872\tvalid_0's l2: 47.0479\n"
     ]
    },
    {
     "name": "stderr",
     "output_type": "stream",
     "text": [
      "2020-09-03 15:20:27.557 | INFO     | yspecies.selection:fit:82 - SEED: 3 | FOLD: 3 | VALIDATION_SPECIES: ['Rhinolophus_ferrumequinum', 'Mus_musculus']\n"
     ]
    },
    {
     "name": "stdout",
     "output_type": "stream",
     "text": [
      "Training until validation scores don't improve for 10 rounds\n",
      "Early stopping, best iteration is:\n",
      "[81]\tvalid_0's l1: 2.35643\tvalid_0's huber: 1.81863\tvalid_0's l2: 40.8064\n"
     ]
    },
    {
     "name": "stderr",
     "output_type": "stream",
     "text": [
      "2020-09-03 15:21:27.556 | INFO     | yspecies.selection:transform:226 - Metrics: \n",
      "Metrics(R2=0.9212928363572327, MAE=3.817373424625895, MSE=57.88413152757628, huber=3.1167221800678537)\n"
     ]
    },
    {
     "name": "stdout",
     "output_type": "stream",
     "text": [
      "4\n"
     ]
    },
    {
     "name": "stderr",
     "output_type": "stream",
     "text": [
      "2020-09-03 15:21:27.571 | INFO     | yspecies.selection:fit:78 - ===== fitting models with seed 4 =====\n",
      "2020-09-03 15:21:27.572 | INFO     | yspecies.selection:fit:79 - PARAMETERS:\n",
      "{'objective': 'regression', 'metric': {'mae', 'huber', 'mse'}, 'verbosity': -1, 'boosting_type': 'gbdt', 'lambda_l1': 0.806868772761894, 'lambda_l2': 2.9232199794782074, 'max_leaves': 22, 'max_depth': 7, 'feature_fraction': 0.5479409728228775, 'bagging_fraction': 0.757456996980591, 'learning_rate': 0.09455981821813096, 'min_data_in_leaf': 3, 'drop_rate': 0.18519197642285007, 'verbose': -1, 'seed': 3}\n",
      "2020-09-03 15:21:27.577 | INFO     | yspecies.selection:fit:82 - SEED: 4 | FOLD: 0 | VALIDATION_SPECIES: ['Macaca_fascicularis', 'Pan_troglodytes']\n"
     ]
    },
    {
     "name": "stdout",
     "output_type": "stream",
     "text": [
      "[LightGBM] [Warning] verbosity is set=-1, verbose=-1 will be ignored. Current value: verbosity=-1\n",
      "Training until validation scores don't improve for 10 rounds\n",
      "Early stopping, best iteration is:\n",
      "[60]\tvalid_0's l1: 3.29104\tvalid_0's huber: 2.68263\tvalid_0's l2: 46.4993\n"
     ]
    },
    {
     "name": "stderr",
     "output_type": "stream",
     "text": [
      "2020-09-03 15:22:04.894 | INFO     | yspecies.selection:fit:82 - SEED: 4 | FOLD: 1 | VALIDATION_SPECIES: ['Otolemur_garnettii', 'Ursus_americanus']\n"
     ]
    },
    {
     "name": "stdout",
     "output_type": "stream",
     "text": [
      "Training until validation scores don't improve for 10 rounds\n",
      "Early stopping, best iteration is:\n",
      "[127]\tvalid_0's l1: 3.40497\tvalid_0's huber: 2.76726\tvalid_0's l2: 54.1426\n"
     ]
    },
    {
     "name": "stderr",
     "output_type": "stream",
     "text": [
      "2020-09-03 15:23:08.972 | INFO     | yspecies.selection:fit:82 - SEED: 4 | FOLD: 2 | VALIDATION_SPECIES: ['Heterocephalus_glaber', 'Cavia_aperea']\n"
     ]
    },
    {
     "name": "stdout",
     "output_type": "stream",
     "text": [
      "Training until validation scores don't improve for 10 rounds\n",
      "Early stopping, best iteration is:\n",
      "[109]\tvalid_0's l1: 3.63746\tvalid_0's huber: 2.95961\tvalid_0's l2: 34.7121\n"
     ]
    },
    {
     "name": "stderr",
     "output_type": "stream",
     "text": [
      "2020-09-03 15:24:07.854 | INFO     | yspecies.selection:fit:82 - SEED: 4 | FOLD: 3 | VALIDATION_SPECIES: ['Pan_paniscus', 'Gorilla_gorilla']\n"
     ]
    },
    {
     "name": "stdout",
     "output_type": "stream",
     "text": [
      "Training until validation scores don't improve for 10 rounds\n",
      "Early stopping, best iteration is:\n",
      "[79]\tvalid_0's l1: 7.22392\tvalid_0's huber: 6.18982\tvalid_0's l2: 180.762\n"
     ]
    },
    {
     "name": "stderr",
     "output_type": "stream",
     "text": [
      "2020-09-03 15:25:19.875 | INFO     | yspecies.selection:transform:226 - Metrics: \n",
      "Metrics(R2=0.8940443124422257, MAE=4.389347536801729, MSE=79.02907931529464, huber=3.6499935269202526)\n"
     ]
    },
    {
     "name": "stdout",
     "output_type": "stream",
     "text": [
      "5\n"
     ]
    },
    {
     "name": "stderr",
     "output_type": "stream",
     "text": [
      "2020-09-03 15:25:19.883 | INFO     | yspecies.selection:fit:78 - ===== fitting models with seed 5 =====\n",
      "2020-09-03 15:25:19.885 | INFO     | yspecies.selection:fit:79 - PARAMETERS:\n",
      "{'objective': 'regression', 'metric': {'mae', 'huber', 'mse'}, 'verbosity': -1, 'boosting_type': 'gbdt', 'lambda_l1': 0.806868772761894, 'lambda_l2': 2.9232199794782074, 'max_leaves': 22, 'max_depth': 7, 'feature_fraction': 0.5479409728228775, 'bagging_fraction': 0.757456996980591, 'learning_rate': 0.09455981821813096, 'min_data_in_leaf': 3, 'drop_rate': 0.18519197642285007, 'verbose': -1, 'seed': 4}\n",
      "2020-09-03 15:25:19.889 | INFO     | yspecies.selection:fit:82 - SEED: 5 | FOLD: 0 | VALIDATION_SPECIES: ['Mus_spicilegus', 'Canis_lupus_familiaris']\n"
     ]
    },
    {
     "name": "stdout",
     "output_type": "stream",
     "text": [
      "[LightGBM] [Warning] verbosity is set=-1, verbose=-1 will be ignored. Current value: verbosity=-1\n",
      "Training until validation scores don't improve for 10 rounds\n",
      "Early stopping, best iteration is:\n",
      "[52]\tvalid_0's l1: 2.67094\tvalid_0's huber: 2.09375\tvalid_0's l2: 22.7938\n"
     ]
    },
    {
     "name": "stderr",
     "output_type": "stream",
     "text": [
      "2020-09-03 15:25:53.990 | INFO     | yspecies.selection:fit:82 - SEED: 5 | FOLD: 1 | VALIDATION_SPECIES: ['Ovis_aries', 'Heterocephalus_glaber']\n"
     ]
    },
    {
     "name": "stdout",
     "output_type": "stream",
     "text": [
      "Training until validation scores don't improve for 10 rounds\n",
      "Early stopping, best iteration is:\n",
      "[33]\tvalid_0's l1: 5.13819\tvalid_0's huber: 4.25336\tvalid_0's l2: 155.17\n"
     ]
    },
    {
     "name": "stderr",
     "output_type": "stream",
     "text": [
      "2020-09-03 15:26:14.975 | INFO     | yspecies.selection:fit:82 - SEED: 5 | FOLD: 2 | VALIDATION_SPECIES: ['Ursus_americanus', 'Oryctolagus_cuniculus']\n"
     ]
    },
    {
     "name": "stdout",
     "output_type": "stream",
     "text": [
      "Training until validation scores don't improve for 10 rounds\n",
      "Early stopping, best iteration is:\n",
      "[198]\tvalid_0's l1: 4.7657\tvalid_0's huber: 3.99663\tvalid_0's l2: 109.752\n"
     ]
    },
    {
     "name": "stderr",
     "output_type": "stream",
     "text": [
      "2020-09-03 15:27:48.021 | INFO     | yspecies.selection:fit:82 - SEED: 5 | FOLD: 3 | VALIDATION_SPECIES: ['Cavia_aperea', 'Ailuropoda_melanoleuca']\n"
     ]
    },
    {
     "name": "stdout",
     "output_type": "stream",
     "text": [
      "Training until validation scores don't improve for 10 rounds\n",
      "Early stopping, best iteration is:\n",
      "[122]\tvalid_0's l1: 4.07168\tvalid_0's huber: 3.38233\tvalid_0's l2: 87.0211\n"
     ]
    },
    {
     "name": "stderr",
     "output_type": "stream",
     "text": [
      "2020-09-03 15:29:18.951 | INFO     | yspecies.selection:transform:226 - Metrics: \n",
      "Metrics(R2=0.8705719128913643, MAE=4.161628940675943, MSE=93.68408178984521, huber=3.356724452062691)\n"
     ]
    },
    {
     "name": "stdout",
     "output_type": "stream",
     "text": [
      "6\n"
     ]
    },
    {
     "name": "stderr",
     "output_type": "stream",
     "text": [
      "2020-09-03 15:29:18.961 | INFO     | yspecies.selection:fit:78 - ===== fitting models with seed 6 =====\n",
      "2020-09-03 15:29:18.962 | INFO     | yspecies.selection:fit:79 - PARAMETERS:\n",
      "{'objective': 'regression', 'metric': {'mae', 'huber', 'mse'}, 'verbosity': -1, 'boosting_type': 'gbdt', 'lambda_l1': 0.806868772761894, 'lambda_l2': 2.9232199794782074, 'max_leaves': 22, 'max_depth': 7, 'feature_fraction': 0.5479409728228775, 'bagging_fraction': 0.757456996980591, 'learning_rate': 0.09455981821813096, 'min_data_in_leaf': 3, 'drop_rate': 0.18519197642285007, 'verbose': -1, 'seed': 5}\n",
      "2020-09-03 15:29:18.971 | INFO     | yspecies.selection:fit:82 - SEED: 6 | FOLD: 0 | VALIDATION_SPECIES: ['Rhinolophus_ferrumequinum', 'Heterocephalus_glaber']\n"
     ]
    },
    {
     "name": "stdout",
     "output_type": "stream",
     "text": [
      "[LightGBM] [Warning] verbosity is set=-1, verbose=-1 will be ignored. Current value: verbosity=-1\n",
      "Training until validation scores don't improve for 10 rounds\n",
      "Early stopping, best iteration is:\n",
      "[71]\tvalid_0's l1: 3.4468\tvalid_0's huber: 2.8014\tvalid_0's l2: 35.2007\n"
     ]
    },
    {
     "name": "stderr",
     "output_type": "stream",
     "text": [
      "2020-09-03 15:30:01.667 | INFO     | yspecies.selection:fit:82 - SEED: 6 | FOLD: 1 | VALIDATION_SPECIES: ['Mus_spicilegus', 'Suricata_suricatta']\n"
     ]
    },
    {
     "name": "stdout",
     "output_type": "stream",
     "text": [
      "Training until validation scores don't improve for 10 rounds\n",
      "Early stopping, best iteration is:\n",
      "[101]\tvalid_0's l1: 3.2893\tvalid_0's huber: 2.6735\tvalid_0's l2: 43.8872\n"
     ]
    },
    {
     "name": "stderr",
     "output_type": "stream",
     "text": [
      "2020-09-03 15:30:54.847 | INFO     | yspecies.selection:fit:82 - SEED: 6 | FOLD: 2 | VALIDATION_SPECIES: ['Rhinopithecus_bieti', 'Ovis_aries']\n"
     ]
    },
    {
     "name": "stdout",
     "output_type": "stream",
     "text": [
      "Training until validation scores don't improve for 10 rounds\n",
      "Early stopping, best iteration is:\n",
      "[228]\tvalid_0's l1: 2.25838\tvalid_0's huber: 1.75986\tvalid_0's l2: 21.5513\n"
     ]
    },
    {
     "name": "stderr",
     "output_type": "stream",
     "text": [
      "2020-09-03 15:32:02.009 | INFO     | yspecies.selection:fit:82 - SEED: 6 | FOLD: 3 | VALIDATION_SPECIES: ['Cavia_porcellus', 'Pan_troglodytes']\n"
     ]
    },
    {
     "name": "stdout",
     "output_type": "stream",
     "text": [
      "Training until validation scores don't improve for 10 rounds\n",
      "Early stopping, best iteration is:\n",
      "[89]\tvalid_0's l1: 3.19499\tvalid_0's huber: 2.57536\tvalid_0's l2: 63.5119\n"
     ]
    },
    {
     "name": "stderr",
     "output_type": "stream",
     "text": [
      "2020-09-03 15:33:04.529 | INFO     | yspecies.selection:transform:226 - Metrics: \n",
      "Metrics(R2=0.942110100234865, MAE=3.047366203609572, MSE=41.03777953058681, huber=2.451564168059284)\n"
     ]
    },
    {
     "name": "stdout",
     "output_type": "stream",
     "text": [
      "7\n"
     ]
    },
    {
     "name": "stderr",
     "output_type": "stream",
     "text": [
      "2020-09-03 15:33:04.539 | INFO     | yspecies.selection:fit:78 - ===== fitting models with seed 7 =====\n",
      "2020-09-03 15:33:04.541 | INFO     | yspecies.selection:fit:79 - PARAMETERS:\n",
      "{'objective': 'regression', 'metric': {'mae', 'huber', 'mse'}, 'verbosity': -1, 'boosting_type': 'gbdt', 'lambda_l1': 0.806868772761894, 'lambda_l2': 2.9232199794782074, 'max_leaves': 22, 'max_depth': 7, 'feature_fraction': 0.5479409728228775, 'bagging_fraction': 0.757456996980591, 'learning_rate': 0.09455981821813096, 'min_data_in_leaf': 3, 'drop_rate': 0.18519197642285007, 'verbose': -1, 'seed': 6}\n",
      "2020-09-03 15:33:04.546 | INFO     | yspecies.selection:fit:82 - SEED: 7 | FOLD: 0 | VALIDATION_SPECIES: ['Macaca_mulatta', 'Cavia_porcellus']\n"
     ]
    },
    {
     "name": "stdout",
     "output_type": "stream",
     "text": [
      "[LightGBM] [Warning] verbosity is set=-1, verbose=-1 will be ignored. Current value: verbosity=-1\n",
      "Training until validation scores don't improve for 10 rounds\n",
      "Early stopping, best iteration is:\n",
      "[188]\tvalid_0's l1: 2.75203\tvalid_0's huber: 2.15838\tvalid_0's l2: 22.1581\n"
     ]
    },
    {
     "name": "stderr",
     "output_type": "stream",
     "text": [
      "2020-09-03 15:34:34.121 | INFO     | yspecies.selection:fit:82 - SEED: 7 | FOLD: 1 | VALIDATION_SPECIES: ['Pan_paniscus', 'Capra_hircus']\n"
     ]
    },
    {
     "name": "stdout",
     "output_type": "stream",
     "text": [
      "Training until validation scores don't improve for 10 rounds\n",
      "Early stopping, best iteration is:\n",
      "[154]\tvalid_0's l1: 3.59611\tvalid_0's huber: 2.94204\tvalid_0's l2: 55.1042\n"
     ]
    },
    {
     "name": "stderr",
     "output_type": "stream",
     "text": [
      "2020-09-03 15:35:52.391 | INFO     | yspecies.selection:fit:82 - SEED: 7 | FOLD: 2 | VALIDATION_SPECIES: ['Otolemur_garnettii', 'Ictidomys_tridecemlineatus']\n"
     ]
    },
    {
     "name": "stdout",
     "output_type": "stream",
     "text": [
      "Training until validation scores don't improve for 10 rounds\n",
      "Early stopping, best iteration is:\n",
      "[124]\tvalid_0's l1: 3.5128\tvalid_0's huber: 2.86425\tvalid_0's l2: 36.5379\n"
     ]
    },
    {
     "name": "stderr",
     "output_type": "stream",
     "text": [
      "2020-09-03 15:37:06.459 | INFO     | yspecies.selection:fit:82 - SEED: 7 | FOLD: 3 | VALIDATION_SPECIES: ['Canis_lupus_familiaris', 'Ursus_americanus']\n"
     ]
    },
    {
     "name": "stdout",
     "output_type": "stream",
     "text": [
      "Training until validation scores don't improve for 10 rounds\n",
      "Early stopping, best iteration is:\n",
      "[127]\tvalid_0's l1: 3.18267\tvalid_0's huber: 2.56896\tvalid_0's l2: 57.931\n"
     ]
    },
    {
     "name": "stderr",
     "output_type": "stream",
     "text": [
      "2020-09-03 15:38:42.645 | INFO     | yspecies.selection:transform:226 - Metrics: \n",
      "Metrics(R2=0.9406037204565258, MAE=3.260900200213352, MSE=42.93280538550567, huber=2.6334766125855777)\n"
     ]
    },
    {
     "name": "stdout",
     "output_type": "stream",
     "text": [
      "8\n"
     ]
    },
    {
     "name": "stderr",
     "output_type": "stream",
     "text": [
      "2020-09-03 15:38:42.655 | INFO     | yspecies.selection:fit:78 - ===== fitting models with seed 8 =====\n",
      "2020-09-03 15:38:42.661 | INFO     | yspecies.selection:fit:79 - PARAMETERS:\n",
      "{'objective': 'regression', 'metric': {'mae', 'huber', 'mse'}, 'verbosity': -1, 'boosting_type': 'gbdt', 'lambda_l1': 0.806868772761894, 'lambda_l2': 2.9232199794782074, 'max_leaves': 22, 'max_depth': 7, 'feature_fraction': 0.5479409728228775, 'bagging_fraction': 0.757456996980591, 'learning_rate': 0.09455981821813096, 'min_data_in_leaf': 3, 'drop_rate': 0.18519197642285007, 'verbose': -1, 'seed': 7}\n",
      "2020-09-03 15:38:42.666 | INFO     | yspecies.selection:fit:82 - SEED: 8 | FOLD: 0 | VALIDATION_SPECIES: ['Pan_paniscus', 'Suricata_suricatta']\n"
     ]
    },
    {
     "name": "stdout",
     "output_type": "stream",
     "text": [
      "[LightGBM] [Warning] verbosity is set=-1, verbose=-1 will be ignored. Current value: verbosity=-1\n",
      "Training until validation scores don't improve for 10 rounds\n",
      "Early stopping, best iteration is:\n",
      "[86]\tvalid_0's l1: 2.46101\tvalid_0's huber: 1.93427\tvalid_0's l2: 26.6858\n"
     ]
    },
    {
     "name": "stderr",
     "output_type": "stream",
     "text": [
      "2020-09-03 15:39:29.789 | INFO     | yspecies.selection:fit:82 - SEED: 8 | FOLD: 1 | VALIDATION_SPECIES: ['Macaca_fascicularis', 'Tupaia_belangeri']\n"
     ]
    },
    {
     "name": "stdout",
     "output_type": "stream",
     "text": [
      "Training until validation scores don't improve for 10 rounds\n",
      "Early stopping, best iteration is:\n",
      "[194]\tvalid_0's l1: 3.30705\tvalid_0's huber: 2.68459\tvalid_0's l2: 37.6829\n"
     ]
    },
    {
     "name": "stderr",
     "output_type": "stream",
     "text": [
      "2020-09-03 15:40:53.020 | INFO     | yspecies.selection:fit:82 - SEED: 8 | FOLD: 2 | VALIDATION_SPECIES: ['Ursus_americanus', 'Capra_hircus']\n"
     ]
    },
    {
     "name": "stdout",
     "output_type": "stream",
     "text": [
      "Training until validation scores don't improve for 10 rounds\n",
      "Early stopping, best iteration is:\n",
      "[156]\tvalid_0's l1: 2.84031\tvalid_0's huber: 2.2664\tvalid_0's l2: 30.0993\n"
     ]
    },
    {
     "name": "stderr",
     "output_type": "stream",
     "text": [
      "2020-09-03 15:42:09.978 | INFO     | yspecies.selection:fit:82 - SEED: 8 | FOLD: 3 | VALIDATION_SPECIES: ['Bos_taurus', 'Rhinolophus_ferrumequinum']\n"
     ]
    },
    {
     "name": "stdout",
     "output_type": "stream",
     "text": [
      "Training until validation scores don't improve for 10 rounds\n",
      "Early stopping, best iteration is:\n",
      "[235]\tvalid_0's l1: 3.07209\tvalid_0's huber: 2.49211\tvalid_0's l2: 47.2306\n"
     ]
    },
    {
     "name": "stderr",
     "output_type": "stream",
     "text": [
      "2020-09-03 15:43:42.156 | INFO     | yspecies.selection:transform:226 - Metrics: \n",
      "Metrics(R2=0.9499339167782429, MAE=2.9201155535491337, MSE=35.42464035892387, huber=2.3443843023034425)\n"
     ]
    },
    {
     "name": "stdout",
     "output_type": "stream",
     "text": [
      "9\n"
     ]
    },
    {
     "name": "stderr",
     "output_type": "stream",
     "text": [
      "2020-09-03 15:43:42.167 | INFO     | yspecies.selection:fit:78 - ===== fitting models with seed 9 =====\n",
      "2020-09-03 15:43:42.169 | INFO     | yspecies.selection:fit:79 - PARAMETERS:\n",
      "{'objective': 'regression', 'metric': {'mae', 'huber', 'mse'}, 'verbosity': -1, 'boosting_type': 'gbdt', 'lambda_l1': 0.806868772761894, 'lambda_l2': 2.9232199794782074, 'max_leaves': 22, 'max_depth': 7, 'feature_fraction': 0.5479409728228775, 'bagging_fraction': 0.757456996980591, 'learning_rate': 0.09455981821813096, 'min_data_in_leaf': 3, 'drop_rate': 0.18519197642285007, 'verbose': -1, 'seed': 8}\n",
      "2020-09-03 15:43:42.175 | INFO     | yspecies.selection:fit:82 - SEED: 9 | FOLD: 0 | VALIDATION_SPECIES: ['Ictidomys_tridecemlineatus', 'Aotus_nancymaae']\n"
     ]
    },
    {
     "name": "stdout",
     "output_type": "stream",
     "text": [
      "[LightGBM] [Warning] verbosity is set=-1, verbose=-1 will be ignored. Current value: verbosity=-1\n",
      "Training until validation scores don't improve for 10 rounds\n",
      "Early stopping, best iteration is:\n",
      "[85]\tvalid_0's l1: 2.7022\tvalid_0's huber: 2.14219\tvalid_0's l2: 22.5558\n"
     ]
    },
    {
     "name": "stderr",
     "output_type": "stream",
     "text": [
      "2020-09-03 15:44:36.000 | INFO     | yspecies.selection:fit:82 - SEED: 9 | FOLD: 1 | VALIDATION_SPECIES: ['Pan_troglodytes', 'Oryctolagus_cuniculus']\n"
     ]
    },
    {
     "name": "stdout",
     "output_type": "stream",
     "text": [
      "Training until validation scores don't improve for 10 rounds\n",
      "Early stopping, best iteration is:\n",
      "[96]\tvalid_0's l1: 4.68362\tvalid_0's huber: 3.91372\tvalid_0's l2: 84.8673\n"
     ]
    },
    {
     "name": "stderr",
     "output_type": "stream",
     "text": [
      "2020-09-03 15:45:27.712 | INFO     | yspecies.selection:fit:82 - SEED: 9 | FOLD: 2 | VALIDATION_SPECIES: ['Mesocricetus_auratus', 'Meriones_unguiculatus']\n"
     ]
    },
    {
     "name": "stdout",
     "output_type": "stream",
     "text": [
      "Training until validation scores don't improve for 10 rounds\n",
      "Early stopping, best iteration is:\n",
      "[56]\tvalid_0's l1: 3.90537\tvalid_0's huber: 3.18815\tvalid_0's l2: 53.177\n"
     ]
    },
    {
     "name": "stderr",
     "output_type": "stream",
     "text": [
      "2020-09-03 15:46:00.415 | INFO     | yspecies.selection:fit:82 - SEED: 9 | FOLD: 3 | VALIDATION_SPECIES: ['Gorilla_gorilla', 'Microcebus_murinus']\n"
     ]
    },
    {
     "name": "stdout",
     "output_type": "stream",
     "text": [
      "Training until validation scores don't improve for 10 rounds\n",
      "Early stopping, best iteration is:\n",
      "[150]\tvalid_0's l1: 4.77756\tvalid_0's huber: 3.99605\tvalid_0's l2: 105.398\n"
     ]
    },
    {
     "name": "stderr",
     "output_type": "stream",
     "text": [
      "2020-09-03 15:47:51.687 | INFO     | yspecies.selection:transform:226 - Metrics: \n",
      "Metrics(R2=0.9089702636696156, MAE=4.017188933028417, MSE=66.49947506281725, huber=3.297821160693424)\n",
      "MultiObjectiveTrial is experimental (supported from v1.4.0). The interface can change in the future.\n",
      "MultiObjectiveStudy is experimental (supported from v1.4.0). The interface can change in the future.\n",
      "[I 2020-09-03 15:47:52,372] Trial 499 finished with values: [0.9112112655598518, 3.13766900259514, 0.45215267253898456] with parameters: {'boosting_type': 'gbdt', 'lambda_l1': 0.806868772761894, 'lambda_l2': 2.9232199794782074, 'max_leaves': 22, 'max_depth': 7, 'feature_fraction': 0.5479409728228775, 'bagging_fraction': 0.757456996980591, 'learning_rate': 0.09455981821813096, 'min_data_in_leaf': 3, 'drop_rate': 0.18519197642285007}.\n",
      "MultiObjectiveStudy is experimental (supported from v1.4.0). The interface can change in the future.\n",
      "FrozenMultiObjectiveTrial is experimental (supported from v1.4.0). The interface can change in the future.\n",
      "MultiObjectiveStudy is experimental (supported from v1.4.0). The interface can change in the future.\n",
      "FrozenMultiObjectiveTrial is experimental (supported from v1.4.0). The interface can change in the future.\n",
      "FrozenMultiObjectiveTrial is experimental (supported from v1.4.0). The interface can change in the future.\n",
      "MultiObjectiveTrial is experimental (supported from v1.4.0). The interface can change in the future.\n",
      "MultiObjectiveStudy is experimental (supported from v1.4.0). The interface can change in the future.\n",
      "FrozenMultiObjectiveTrial is experimental (supported from v1.4.0). The interface can change in the future.\n"
     ]
    },
    {
     "name": "stdout",
     "output_type": "stream",
     "text": [
      "0\n"
     ]
    },
    {
     "name": "stderr",
     "output_type": "stream",
     "text": [
      "2020-09-03 15:47:52.725 | INFO     | yspecies.selection:fit:78 - ===== fitting models with seed 0 =====\n",
      "2020-09-03 15:47:52.728 | INFO     | yspecies.selection:fit:79 - PARAMETERS:\n",
      "{'objective': 'regression', 'metric': {'mae', 'huber', 'mse'}, 'verbosity': -1, 'boosting_type': 'dart', 'lambda_l1': 0.3970175140579622, 'lambda_l2': 1.361676460911139, 'max_leaves': 25, 'max_depth': 3, 'feature_fraction': 0.5479409728228775, 'bagging_fraction': 0.8082178403494868, 'learning_rate': 0.09227943984528733, 'min_data_in_leaf': 8, 'drop_rate': 0.15938150347995844, 'verbose': -1}\n",
      "2020-09-03 15:47:52.734 | INFO     | yspecies.selection:fit:82 - SEED: 0 | FOLD: 0 | VALIDATION_SPECIES: ['Gorilla_gorilla', 'Pan_paniscus']\n"
     ]
    },
    {
     "name": "stdout",
     "output_type": "stream",
     "text": [
      "[LightGBM] [Warning] verbosity is set=-1, verbose=-1 will be ignored. Current value: verbosity=-1\n"
     ]
    },
    {
     "name": "stderr",
     "output_type": "stream",
     "text": [
      "Early stopping is not available in dart mode\n"
     ]
    },
    {
     "name": "stdout",
     "output_type": "stream",
     "text": [
      "[250]\tvalid_0's l1: 8.50386\tvalid_0's huber: 7.2964\tvalid_0's l2: 200.092\n"
     ]
    },
    {
     "name": "stderr",
     "output_type": "stream",
     "text": [
      "2020-09-03 15:49:44.751 | INFO     | yspecies.selection:fit:82 - SEED: 0 | FOLD: 1 | VALIDATION_SPECIES: ['Heterocephalus_glaber', 'Capra_hircus']\n"
     ]
    },
    {
     "name": "stdout",
     "output_type": "stream",
     "text": [
      "[250]\tvalid_0's l1: 3.99367\tvalid_0's huber: 3.2437\tvalid_0's l2: 55.2779\n"
     ]
    },
    {
     "name": "stderr",
     "output_type": "stream",
     "text": [
      "2020-09-03 15:51:40.484 | INFO     | yspecies.selection:fit:82 - SEED: 0 | FOLD: 2 | VALIDATION_SPECIES: ['Bos_taurus', 'Otolemur_garnettii']\n"
     ]
    },
    {
     "name": "stdout",
     "output_type": "stream",
     "text": [
      "[250]\tvalid_0's l1: 3.23105\tvalid_0's huber: 2.5865\tvalid_0's l2: 31.1131\n"
     ]
    },
    {
     "name": "stderr",
     "output_type": "stream",
     "text": [
      "2020-09-03 15:53:16.673 | INFO     | yspecies.selection:fit:82 - SEED: 0 | FOLD: 3 | VALIDATION_SPECIES: ['Macaca_nemestrina', 'Microcebus_murinus']\n"
     ]
    },
    {
     "name": "stdout",
     "output_type": "stream",
     "text": [
      "[250]\tvalid_0's l1: 3.32547\tvalid_0's huber: 2.63815\tvalid_0's l2: 56.9676\n"
     ]
    },
    {
     "name": "stderr",
     "output_type": "stream",
     "text": [
      "2020-09-03 15:55:19.959 | INFO     | yspecies.selection:transform:226 - Metrics: \n",
      "Metrics(R2=0.8879442367925061, MAE=4.7635137197637185, MSE=85.86260134743104, huber=3.941190049197181)\n"
     ]
    },
    {
     "name": "stdout",
     "output_type": "stream",
     "text": [
      "1\n"
     ]
    },
    {
     "name": "stderr",
     "output_type": "stream",
     "text": [
      "2020-09-03 15:55:19.969 | INFO     | yspecies.selection:fit:78 - ===== fitting models with seed 1 =====\n",
      "2020-09-03 15:55:19.971 | INFO     | yspecies.selection:fit:79 - PARAMETERS:\n",
      "{'objective': 'regression', 'metric': {'mae', 'huber', 'mse'}, 'verbosity': -1, 'boosting_type': 'dart', 'lambda_l1': 0.3970175140579622, 'lambda_l2': 1.361676460911139, 'max_leaves': 25, 'max_depth': 3, 'feature_fraction': 0.5479409728228775, 'bagging_fraction': 0.8082178403494868, 'learning_rate': 0.09227943984528733, 'min_data_in_leaf': 8, 'drop_rate': 0.15938150347995844, 'verbose': -1, 'seed': 0}\n",
      "2020-09-03 15:55:19.976 | INFO     | yspecies.selection:fit:82 - SEED: 1 | FOLD: 0 | VALIDATION_SPECIES: ['Felis_catus', 'Ursus_americanus']\n"
     ]
    },
    {
     "name": "stdout",
     "output_type": "stream",
     "text": [
      "[LightGBM] [Warning] verbosity is set=-1, verbose=-1 will be ignored. Current value: verbosity=-1\n"
     ]
    },
    {
     "name": "stderr",
     "output_type": "stream",
     "text": [
      "Early stopping is not available in dart mode\n"
     ]
    },
    {
     "name": "stdout",
     "output_type": "stream",
     "text": [
      "[250]\tvalid_0's l1: 3.24664\tvalid_0's huber: 2.563\tvalid_0's l2: 25.2423\n"
     ]
    },
    {
     "name": "stderr",
     "output_type": "stream",
     "text": [
      "2020-09-03 15:57:14.953 | INFO     | yspecies.selection:fit:82 - SEED: 1 | FOLD: 1 | VALIDATION_SPECIES: ['Heterocephalus_glaber', 'Vombatus_ursinus']\n"
     ]
    },
    {
     "name": "stdout",
     "output_type": "stream",
     "text": [
      "[250]\tvalid_0's l1: 4.51563\tvalid_0's huber: 3.71107\tvalid_0's l2: 66.4221\n"
     ]
    },
    {
     "name": "stderr",
     "output_type": "stream",
     "text": [
      "2020-09-03 15:59:09.818 | INFO     | yspecies.selection:fit:82 - SEED: 1 | FOLD: 2 | VALIDATION_SPECIES: ['Macaca_fascicularis', 'Rhinopithecus_bieti']\n"
     ]
    },
    {
     "name": "stdout",
     "output_type": "stream",
     "text": [
      "[250]\tvalid_0's l1: 2.81223\tvalid_0's huber: 2.19842\tvalid_0's l2: 23.2403\n"
     ]
    },
    {
     "name": "stderr",
     "output_type": "stream",
     "text": [
      "2020-09-03 16:01:05.044 | INFO     | yspecies.selection:fit:82 - SEED: 1 | FOLD: 3 | VALIDATION_SPECIES: ['Gorilla_gorilla', 'Ovis_aries']\n"
     ]
    },
    {
     "name": "stdout",
     "output_type": "stream",
     "text": [
      "[250]\tvalid_0's l1: 6.19385\tvalid_0's huber: 5.23122\tvalid_0's l2: 153.064\n"
     ]
    },
    {
     "name": "stderr",
     "output_type": "stream",
     "text": [
      "2020-09-03 16:02:42.638 | INFO     | yspecies.selection:transform:226 - Metrics: \n",
      "Metrics(R2=0.9042382099681899, MAE=4.192087423385035, MSE=66.99212455526528, huber=3.425930733063818)\n"
     ]
    },
    {
     "name": "stdout",
     "output_type": "stream",
     "text": [
      "2\n"
     ]
    },
    {
     "name": "stderr",
     "output_type": "stream",
     "text": [
      "2020-09-03 16:02:42.648 | INFO     | yspecies.selection:fit:78 - ===== fitting models with seed 2 =====\n",
      "2020-09-03 16:02:42.650 | INFO     | yspecies.selection:fit:79 - PARAMETERS:\n",
      "{'objective': 'regression', 'metric': {'mae', 'huber', 'mse'}, 'verbosity': -1, 'boosting_type': 'dart', 'lambda_l1': 0.3970175140579622, 'lambda_l2': 1.361676460911139, 'max_leaves': 25, 'max_depth': 3, 'feature_fraction': 0.5479409728228775, 'bagging_fraction': 0.8082178403494868, 'learning_rate': 0.09227943984528733, 'min_data_in_leaf': 8, 'drop_rate': 0.15938150347995844, 'verbose': -1, 'seed': 1}\n",
      "2020-09-03 16:02:42.655 | INFO     | yspecies.selection:fit:82 - SEED: 2 | FOLD: 0 | VALIDATION_SPECIES: ['Rhinopithecus_bieti', 'Ursus_americanus']\n"
     ]
    },
    {
     "name": "stdout",
     "output_type": "stream",
     "text": [
      "[LightGBM] [Warning] verbosity is set=-1, verbose=-1 will be ignored. Current value: verbosity=-1\n"
     ]
    },
    {
     "name": "stderr",
     "output_type": "stream",
     "text": [
      "Early stopping is not available in dart mode\n"
     ]
    },
    {
     "name": "stdout",
     "output_type": "stream",
     "text": [
      "[250]\tvalid_0's l1: 4.56556\tvalid_0's huber: 3.7438\tvalid_0's l2: 41.6861\n"
     ]
    },
    {
     "name": "stderr",
     "output_type": "stream",
     "text": [
      "2020-09-03 16:04:53.558 | INFO     | yspecies.selection:fit:82 - SEED: 2 | FOLD: 1 | VALIDATION_SPECIES: ['Aotus_nancymaae', 'Phascolarctos_cinereus']\n"
     ]
    },
    {
     "name": "stdout",
     "output_type": "stream",
     "text": [
      "[250]\tvalid_0's l1: 5.77366\tvalid_0's huber: 4.83636\tvalid_0's l2: 82.611\n"
     ]
    },
    {
     "name": "stderr",
     "output_type": "stream",
     "text": [
      "2020-09-03 16:07:01.322 | INFO     | yspecies.selection:fit:82 - SEED: 2 | FOLD: 2 | VALIDATION_SPECIES: ['Vombatus_ursinus', 'Ailuropoda_melanoleuca']\n"
     ]
    },
    {
     "name": "stdout",
     "output_type": "stream",
     "text": [
      "[250]\tvalid_0's l1: 4.75732\tvalid_0's huber: 3.94032\tvalid_0's l2: 54.8157\n"
     ]
    },
    {
     "name": "stderr",
     "output_type": "stream",
     "text": [
      "2020-09-03 16:09:07.520 | INFO     | yspecies.selection:fit:82 - SEED: 2 | FOLD: 3 | VALIDATION_SPECIES: ['Rattus_norvegicus', 'Monodelphis_domestica']\n"
     ]
    },
    {
     "name": "stdout",
     "output_type": "stream",
     "text": [
      "[250]\tvalid_0's l1: 6.49335\tvalid_0's huber: 5.45874\tvalid_0's l2: 92.4849\n"
     ]
    },
    {
     "name": "stderr",
     "output_type": "stream",
     "text": [
      "2020-09-03 16:11:21.134 | INFO     | yspecies.selection:transform:226 - Metrics: \n",
      "Metrics(R2=0.8938062942085966, MAE=5.397474831088166, MSE=67.89940049883651, huber=4.494803889333632)\n"
     ]
    },
    {
     "name": "stdout",
     "output_type": "stream",
     "text": [
      "3\n"
     ]
    },
    {
     "name": "stderr",
     "output_type": "stream",
     "text": [
      "2020-09-03 16:11:21.149 | INFO     | yspecies.selection:fit:78 - ===== fitting models with seed 3 =====\n",
      "2020-09-03 16:11:21.150 | INFO     | yspecies.selection:fit:79 - PARAMETERS:\n",
      "{'objective': 'regression', 'metric': {'mae', 'huber', 'mse'}, 'verbosity': -1, 'boosting_type': 'dart', 'lambda_l1': 0.3970175140579622, 'lambda_l2': 1.361676460911139, 'max_leaves': 25, 'max_depth': 3, 'feature_fraction': 0.5479409728228775, 'bagging_fraction': 0.8082178403494868, 'learning_rate': 0.09227943984528733, 'min_data_in_leaf': 8, 'drop_rate': 0.15938150347995844, 'verbose': -1, 'seed': 2}\n",
      "2020-09-03 16:11:21.156 | INFO     | yspecies.selection:fit:82 - SEED: 3 | FOLD: 0 | VALIDATION_SPECIES: ['Microcebus_murinus', 'Pan_paniscus']\n"
     ]
    },
    {
     "name": "stdout",
     "output_type": "stream",
     "text": [
      "[LightGBM] [Warning] verbosity is set=-1, verbose=-1 will be ignored. Current value: verbosity=-1\n"
     ]
    },
    {
     "name": "stderr",
     "output_type": "stream",
     "text": [
      "Early stopping is not available in dart mode\n"
     ]
    },
    {
     "name": "stdout",
     "output_type": "stream",
     "text": [
      "[250]\tvalid_0's l1: 3.60204\tvalid_0's huber: 2.89402\tvalid_0's l2: 30.8317\n"
     ]
    },
    {
     "name": "stderr",
     "output_type": "stream",
     "text": [
      "2020-09-03 16:12:58.426 | INFO     | yspecies.selection:fit:82 - SEED: 3 | FOLD: 1 | VALIDATION_SPECIES: ['Ursus_americanus', 'Gorilla_gorilla']\n"
     ]
    },
    {
     "name": "stdout",
     "output_type": "stream",
     "text": [
      "[250]\tvalid_0's l1: 7.95641\tvalid_0's huber: 6.78262\tvalid_0's l2: 161.098\n"
     ]
    },
    {
     "name": "stderr",
     "output_type": "stream",
     "text": [
      "2020-09-03 16:14:47.946 | INFO     | yspecies.selection:fit:82 - SEED: 3 | FOLD: 2 | VALIDATION_SPECIES: ['Bos_taurus', 'Capra_hircus']\n"
     ]
    },
    {
     "name": "stdout",
     "output_type": "stream",
     "text": [
      "[250]\tvalid_0's l1: 3.54323\tvalid_0's huber: 2.83024\tvalid_0's l2: 32.9577\n"
     ]
    },
    {
     "name": "stderr",
     "output_type": "stream",
     "text": [
      "2020-09-03 16:16:43.815 | INFO     | yspecies.selection:fit:82 - SEED: 3 | FOLD: 3 | VALIDATION_SPECIES: ['Rhinolophus_ferrumequinum', 'Mus_musculus']\n"
     ]
    },
    {
     "name": "stdout",
     "output_type": "stream",
     "text": [
      "[250]\tvalid_0's l1: 2.87289\tvalid_0's huber: 2.23357\tvalid_0's l2: 45.0996\n"
     ]
    },
    {
     "name": "stderr",
     "output_type": "stream",
     "text": [
      "2020-09-03 16:18:44.588 | INFO     | yspecies.selection:transform:226 - Metrics: \n",
      "Metrics(R2=0.9094327650816755, MAE=4.493643582095062, MSE=67.4966879956884, huber=3.68511293365154)\n"
     ]
    },
    {
     "name": "stdout",
     "output_type": "stream",
     "text": [
      "4\n"
     ]
    },
    {
     "name": "stderr",
     "output_type": "stream",
     "text": [
      "2020-09-03 16:18:44.598 | INFO     | yspecies.selection:fit:78 - ===== fitting models with seed 4 =====\n",
      "2020-09-03 16:18:44.601 | INFO     | yspecies.selection:fit:79 - PARAMETERS:\n",
      "{'objective': 'regression', 'metric': {'mae', 'huber', 'mse'}, 'verbosity': -1, 'boosting_type': 'dart', 'lambda_l1': 0.3970175140579622, 'lambda_l2': 1.361676460911139, 'max_leaves': 25, 'max_depth': 3, 'feature_fraction': 0.5479409728228775, 'bagging_fraction': 0.8082178403494868, 'learning_rate': 0.09227943984528733, 'min_data_in_leaf': 8, 'drop_rate': 0.15938150347995844, 'verbose': -1, 'seed': 3}\n",
      "2020-09-03 16:18:44.606 | INFO     | yspecies.selection:fit:82 - SEED: 4 | FOLD: 0 | VALIDATION_SPECIES: ['Macaca_fascicularis', 'Pan_troglodytes']\n"
     ]
    },
    {
     "name": "stdout",
     "output_type": "stream",
     "text": [
      "[LightGBM] [Warning] verbosity is set=-1, verbose=-1 will be ignored. Current value: verbosity=-1\n"
     ]
    },
    {
     "name": "stderr",
     "output_type": "stream",
     "text": [
      "Early stopping is not available in dart mode\n"
     ]
    },
    {
     "name": "stdout",
     "output_type": "stream",
     "text": [
      "[250]\tvalid_0's l1: 3.34129\tvalid_0's huber: 2.65299\tvalid_0's l2: 34.4894\n"
     ]
    },
    {
     "name": "stderr",
     "output_type": "stream",
     "text": [
      "2020-09-03 16:20:40.541 | INFO     | yspecies.selection:fit:82 - SEED: 4 | FOLD: 1 | VALIDATION_SPECIES: ['Otolemur_garnettii', 'Ursus_americanus']\n"
     ]
    },
    {
     "name": "stdout",
     "output_type": "stream",
     "text": [
      "[250]\tvalid_0's l1: 3.92461\tvalid_0's huber: 3.18279\tvalid_0's l2: 66.8003\n"
     ]
    },
    {
     "name": "stderr",
     "output_type": "stream",
     "text": [
      "2020-09-03 16:22:38.989 | INFO     | yspecies.selection:fit:82 - SEED: 4 | FOLD: 2 | VALIDATION_SPECIES: ['Heterocephalus_glaber', 'Cavia_aperea']\n"
     ]
    },
    {
     "name": "stdout",
     "output_type": "stream",
     "text": [
      "[250]\tvalid_0's l1: 3.71898\tvalid_0's huber: 3.01928\tvalid_0's l2: 30.2763\n"
     ]
    },
    {
     "name": "stderr",
     "output_type": "stream",
     "text": [
      "2020-09-03 16:24:17.310 | INFO     | yspecies.selection:fit:82 - SEED: 4 | FOLD: 3 | VALIDATION_SPECIES: ['Pan_paniscus', 'Gorilla_gorilla']\n"
     ]
    },
    {
     "name": "stdout",
     "output_type": "stream",
     "text": [
      "[250]\tvalid_0's l1: 7.57393\tvalid_0's huber: 6.46485\tvalid_0's l2: 177.259\n"
     ]
    },
    {
     "name": "stderr",
     "output_type": "stream",
     "text": [
      "2020-09-03 16:26:23.886 | INFO     | yspecies.selection:transform:226 - Metrics: \n",
      "Metrics(R2=0.89601209362588, MAE=4.6397017619232415, MSE=77.20633661917418, huber=3.8299776463925426)\n"
     ]
    },
    {
     "name": "stdout",
     "output_type": "stream",
     "text": [
      "5\n"
     ]
    },
    {
     "name": "stderr",
     "output_type": "stream",
     "text": [
      "2020-09-03 16:26:23.896 | INFO     | yspecies.selection:fit:78 - ===== fitting models with seed 5 =====\n",
      "2020-09-03 16:26:23.898 | INFO     | yspecies.selection:fit:79 - PARAMETERS:\n",
      "{'objective': 'regression', 'metric': {'mae', 'huber', 'mse'}, 'verbosity': -1, 'boosting_type': 'dart', 'lambda_l1': 0.3970175140579622, 'lambda_l2': 1.361676460911139, 'max_leaves': 25, 'max_depth': 3, 'feature_fraction': 0.5479409728228775, 'bagging_fraction': 0.8082178403494868, 'learning_rate': 0.09227943984528733, 'min_data_in_leaf': 8, 'drop_rate': 0.15938150347995844, 'verbose': -1, 'seed': 4}\n",
      "2020-09-03 16:26:23.904 | INFO     | yspecies.selection:fit:82 - SEED: 5 | FOLD: 0 | VALIDATION_SPECIES: ['Mus_spicilegus', 'Canis_lupus_familiaris']\n"
     ]
    },
    {
     "name": "stdout",
     "output_type": "stream",
     "text": [
      "[LightGBM] [Warning] verbosity is set=-1, verbose=-1 will be ignored. Current value: verbosity=-1\n"
     ]
    },
    {
     "name": "stderr",
     "output_type": "stream",
     "text": [
      "Early stopping is not available in dart mode\n"
     ]
    },
    {
     "name": "stdout",
     "output_type": "stream",
     "text": [
      "[250]\tvalid_0's l1: 3.11902\tvalid_0's huber: 2.45268\tvalid_0's l2: 21.2337\n"
     ]
    },
    {
     "name": "stderr",
     "output_type": "stream",
     "text": [
      "2020-09-03 16:28:16.693 | INFO     | yspecies.selection:fit:82 - SEED: 5 | FOLD: 1 | VALIDATION_SPECIES: ['Ovis_aries', 'Heterocephalus_glaber']\n"
     ]
    },
    {
     "name": "stdout",
     "output_type": "stream",
     "text": [
      "[250]\tvalid_0's l1: 4.67691\tvalid_0's huber: 3.86677\tvalid_0's l2: 112.807\n"
     ]
    },
    {
     "name": "stderr",
     "output_type": "stream",
     "text": [
      "2020-09-03 16:30:07.183 | INFO     | yspecies.selection:fit:82 - SEED: 5 | FOLD: 2 | VALIDATION_SPECIES: ['Ursus_americanus', 'Oryctolagus_cuniculus']\n"
     ]
    },
    {
     "name": "stdout",
     "output_type": "stream",
     "text": [
      "[250]\tvalid_0's l1: 5.31567\tvalid_0's huber: 4.44412\tvalid_0's l2: 103.097\n"
     ]
    },
    {
     "name": "stderr",
     "output_type": "stream",
     "text": [
      "2020-09-03 16:31:57.645 | INFO     | yspecies.selection:fit:82 - SEED: 5 | FOLD: 3 | VALIDATION_SPECIES: ['Cavia_aperea', 'Ailuropoda_melanoleuca']\n"
     ]
    },
    {
     "name": "stdout",
     "output_type": "stream",
     "text": [
      "[250]\tvalid_0's l1: 4.39331\tvalid_0's huber: 3.62784\tvalid_0's l2: 74.2502\n"
     ]
    },
    {
     "name": "stderr",
     "output_type": "stream",
     "text": [
      "2020-09-03 16:34:01.444 | INFO     | yspecies.selection:transform:226 - Metrics: \n",
      "Metrics(R2=0.8928585348554279, MAE=4.376227873613701, MSE=77.84689485600137, huber=3.5978497167921186)\n"
     ]
    },
    {
     "name": "stdout",
     "output_type": "stream",
     "text": [
      "6\n"
     ]
    },
    {
     "name": "stderr",
     "output_type": "stream",
     "text": [
      "2020-09-03 16:34:01.455 | INFO     | yspecies.selection:fit:78 - ===== fitting models with seed 6 =====\n",
      "2020-09-03 16:34:01.457 | INFO     | yspecies.selection:fit:79 - PARAMETERS:\n",
      "{'objective': 'regression', 'metric': {'mae', 'huber', 'mse'}, 'verbosity': -1, 'boosting_type': 'dart', 'lambda_l1': 0.3970175140579622, 'lambda_l2': 1.361676460911139, 'max_leaves': 25, 'max_depth': 3, 'feature_fraction': 0.5479409728228775, 'bagging_fraction': 0.8082178403494868, 'learning_rate': 0.09227943984528733, 'min_data_in_leaf': 8, 'drop_rate': 0.15938150347995844, 'verbose': -1, 'seed': 5}\n",
      "2020-09-03 16:34:01.461 | INFO     | yspecies.selection:fit:82 - SEED: 6 | FOLD: 0 | VALIDATION_SPECIES: ['Rhinolophus_ferrumequinum', 'Heterocephalus_glaber']\n"
     ]
    },
    {
     "name": "stdout",
     "output_type": "stream",
     "text": [
      "[LightGBM] [Warning] verbosity is set=-1, verbose=-1 will be ignored. Current value: verbosity=-1\n"
     ]
    },
    {
     "name": "stderr",
     "output_type": "stream",
     "text": [
      "Early stopping is not available in dart mode\n"
     ]
    },
    {
     "name": "stdout",
     "output_type": "stream",
     "text": [
      "[250]\tvalid_0's l1: 4.08188\tvalid_0's huber: 3.32513\tvalid_0's l2: 40.0803\n"
     ]
    },
    {
     "name": "stderr",
     "output_type": "stream",
     "text": [
      "2020-09-03 16:35:38.544 | INFO     | yspecies.selection:fit:82 - SEED: 6 | FOLD: 1 | VALIDATION_SPECIES: ['Mus_spicilegus', 'Suricata_suricatta']\n"
     ]
    },
    {
     "name": "stdout",
     "output_type": "stream",
     "text": [
      "[250]\tvalid_0's l1: 4.22153\tvalid_0's huber: 3.45027\tvalid_0's l2: 57.8103\n"
     ]
    },
    {
     "name": "stderr",
     "output_type": "stream",
     "text": [
      "2020-09-03 16:37:32.435 | INFO     | yspecies.selection:fit:82 - SEED: 6 | FOLD: 2 | VALIDATION_SPECIES: ['Rhinopithecus_bieti', 'Ovis_aries']\n"
     ]
    },
    {
     "name": "stdout",
     "output_type": "stream",
     "text": [
      "[250]\tvalid_0's l1: 2.86148\tvalid_0's huber: 2.24336\tvalid_0's l2: 21.176\n"
     ]
    },
    {
     "name": "stderr",
     "output_type": "stream",
     "text": [
      "2020-09-03 16:39:27.932 | INFO     | yspecies.selection:fit:82 - SEED: 6 | FOLD: 3 | VALIDATION_SPECIES: ['Cavia_porcellus', 'Pan_troglodytes']\n"
     ]
    },
    {
     "name": "stdout",
     "output_type": "stream",
     "text": [
      "[250]\tvalid_0's l1: 4.29561\tvalid_0's huber: 3.50018\tvalid_0's l2: 75.8835\n"
     ]
    },
    {
     "name": "stderr",
     "output_type": "stream",
     "text": [
      "2020-09-03 16:41:30.924 | INFO     | yspecies.selection:transform:226 - Metrics: \n",
      "Metrics(R2=0.9313657776166799, MAE=3.8651244541035785, MSE=48.73751024081196, huber=3.1297313626015275)\n"
     ]
    },
    {
     "name": "stdout",
     "output_type": "stream",
     "text": [
      "7\n"
     ]
    },
    {
     "name": "stderr",
     "output_type": "stream",
     "text": [
      "2020-09-03 16:41:30.935 | INFO     | yspecies.selection:fit:78 - ===== fitting models with seed 7 =====\n",
      "2020-09-03 16:41:30.937 | INFO     | yspecies.selection:fit:79 - PARAMETERS:\n",
      "{'objective': 'regression', 'metric': {'mae', 'huber', 'mse'}, 'verbosity': -1, 'boosting_type': 'dart', 'lambda_l1': 0.3970175140579622, 'lambda_l2': 1.361676460911139, 'max_leaves': 25, 'max_depth': 3, 'feature_fraction': 0.5479409728228775, 'bagging_fraction': 0.8082178403494868, 'learning_rate': 0.09227943984528733, 'min_data_in_leaf': 8, 'drop_rate': 0.15938150347995844, 'verbose': -1, 'seed': 6}\n",
      "2020-09-03 16:41:30.942 | INFO     | yspecies.selection:fit:82 - SEED: 7 | FOLD: 0 | VALIDATION_SPECIES: ['Macaca_mulatta', 'Cavia_porcellus']\n"
     ]
    },
    {
     "name": "stdout",
     "output_type": "stream",
     "text": [
      "[LightGBM] [Warning] verbosity is set=-1, verbose=-1 will be ignored. Current value: verbosity=-1\n"
     ]
    },
    {
     "name": "stderr",
     "output_type": "stream",
     "text": [
      "Early stopping is not available in dart mode\n"
     ]
    },
    {
     "name": "stdout",
     "output_type": "stream",
     "text": [
      "[250]\tvalid_0's l1: 3.11144\tvalid_0's huber: 2.43751\tvalid_0's l2: 21.9836\n"
     ]
    },
    {
     "name": "stderr",
     "output_type": "stream",
     "text": [
      "2020-09-03 16:43:22.245 | INFO     | yspecies.selection:fit:82 - SEED: 7 | FOLD: 1 | VALIDATION_SPECIES: ['Pan_paniscus', 'Capra_hircus']\n"
     ]
    },
    {
     "name": "stdout",
     "output_type": "stream",
     "text": [
      "[250]\tvalid_0's l1: 3.72551\tvalid_0's huber: 2.98819\tvalid_0's l2: 42.3698\n"
     ]
    },
    {
     "name": "stderr",
     "output_type": "stream",
     "text": [
      "2020-09-03 16:45:15.116 | INFO     | yspecies.selection:fit:82 - SEED: 7 | FOLD: 2 | VALIDATION_SPECIES: ['Otolemur_garnettii', 'Ictidomys_tridecemlineatus']\n"
     ]
    },
    {
     "name": "stdout",
     "output_type": "stream",
     "text": [
      "[250]\tvalid_0's l1: 4.0181\tvalid_0's huber: 3.27301\tvalid_0's l2: 37.2029\n"
     ]
    },
    {
     "name": "stderr",
     "output_type": "stream",
     "text": [
      "2020-09-03 16:46:39.739 | INFO     | yspecies.selection:fit:82 - SEED: 7 | FOLD: 3 | VALIDATION_SPECIES: ['Canis_lupus_familiaris', 'Ursus_americanus']\n"
     ]
    },
    {
     "name": "stdout",
     "output_type": "stream",
     "text": [
      "[250]\tvalid_0's l1: 3.80476\tvalid_0's huber: 3.09849\tvalid_0's l2: 55.1752\n"
     ]
    },
    {
     "name": "stderr",
     "output_type": "stream",
     "text": [
      "2020-09-03 16:48:43.033 | INFO     | yspecies.selection:transform:226 - Metrics: \n",
      "Metrics(R2=0.9453294466287838, MAE=3.6649522504520586, MSE=39.18285965983435, huber=2.9492970176235516)\n"
     ]
    },
    {
     "name": "stdout",
     "output_type": "stream",
     "text": [
      "8\n"
     ]
    },
    {
     "name": "stderr",
     "output_type": "stream",
     "text": [
      "2020-09-03 16:48:43.045 | INFO     | yspecies.selection:fit:78 - ===== fitting models with seed 8 =====\n",
      "2020-09-03 16:48:43.048 | INFO     | yspecies.selection:fit:79 - PARAMETERS:\n",
      "{'objective': 'regression', 'metric': {'mae', 'huber', 'mse'}, 'verbosity': -1, 'boosting_type': 'dart', 'lambda_l1': 0.3970175140579622, 'lambda_l2': 1.361676460911139, 'max_leaves': 25, 'max_depth': 3, 'feature_fraction': 0.5479409728228775, 'bagging_fraction': 0.8082178403494868, 'learning_rate': 0.09227943984528733, 'min_data_in_leaf': 8, 'drop_rate': 0.15938150347995844, 'verbose': -1, 'seed': 7}\n",
      "2020-09-03 16:48:43.052 | INFO     | yspecies.selection:fit:82 - SEED: 8 | FOLD: 0 | VALIDATION_SPECIES: ['Pan_paniscus', 'Suricata_suricatta']\n"
     ]
    },
    {
     "name": "stdout",
     "output_type": "stream",
     "text": [
      "[LightGBM] [Warning] verbosity is set=-1, verbose=-1 will be ignored. Current value: verbosity=-1\n"
     ]
    },
    {
     "name": "stderr",
     "output_type": "stream",
     "text": [
      "Early stopping is not available in dart mode\n"
     ]
    },
    {
     "name": "stdout",
     "output_type": "stream",
     "text": [
      "[250]\tvalid_0's l1: 3.06288\tvalid_0's huber: 2.39989\tvalid_0's l2: 25.5051\n"
     ]
    },
    {
     "name": "stderr",
     "output_type": "stream",
     "text": [
      "2020-09-03 16:50:41.412 | INFO     | yspecies.selection:fit:82 - SEED: 8 | FOLD: 1 | VALIDATION_SPECIES: ['Macaca_fascicularis', 'Tupaia_belangeri']\n"
     ]
    },
    {
     "name": "stdout",
     "output_type": "stream",
     "text": [
      "[250]\tvalid_0's l1: 3.64518\tvalid_0's huber: 2.93675\tvalid_0's l2: 45.5397\n"
     ]
    },
    {
     "name": "stderr",
     "output_type": "stream",
     "text": [
      "2020-09-03 16:52:37.664 | INFO     | yspecies.selection:fit:82 - SEED: 8 | FOLD: 2 | VALIDATION_SPECIES: ['Ursus_americanus', 'Capra_hircus']\n"
     ]
    },
    {
     "name": "stdout",
     "output_type": "stream",
     "text": [
      "[250]\tvalid_0's l1: 3.86517\tvalid_0's huber: 3.12387\tvalid_0's l2: 40.8543\n"
     ]
    },
    {
     "name": "stderr",
     "output_type": "stream",
     "text": [
      "2020-09-03 16:54:37.893 | INFO     | yspecies.selection:fit:82 - SEED: 8 | FOLD: 3 | VALIDATION_SPECIES: ['Bos_taurus', 'Rhinolophus_ferrumequinum']\n"
     ]
    },
    {
     "name": "stdout",
     "output_type": "stream",
     "text": [
      "[250]\tvalid_0's l1: 3.78955\tvalid_0's huber: 3.0811\tvalid_0's l2: 67.1053\n"
     ]
    },
    {
     "name": "stderr",
     "output_type": "stream",
     "text": [
      "2020-09-03 16:56:47.708 | INFO     | yspecies.selection:transform:226 - Metrics: \n",
      "Metrics(R2=0.9360084850087528, MAE=3.590694708375853, MSE=44.75110864768824, huber=2.885400528077259)\n"
     ]
    },
    {
     "name": "stdout",
     "output_type": "stream",
     "text": [
      "9\n"
     ]
    },
    {
     "name": "stderr",
     "output_type": "stream",
     "text": [
      "2020-09-03 16:56:47.722 | INFO     | yspecies.selection:fit:78 - ===== fitting models with seed 9 =====\n",
      "2020-09-03 16:56:47.762 | INFO     | yspecies.selection:fit:79 - PARAMETERS:\n",
      "{'objective': 'regression', 'metric': {'mae', 'huber', 'mse'}, 'verbosity': -1, 'boosting_type': 'dart', 'lambda_l1': 0.3970175140579622, 'lambda_l2': 1.361676460911139, 'max_leaves': 25, 'max_depth': 3, 'feature_fraction': 0.5479409728228775, 'bagging_fraction': 0.8082178403494868, 'learning_rate': 0.09227943984528733, 'min_data_in_leaf': 8, 'drop_rate': 0.15938150347995844, 'verbose': -1, 'seed': 8}\n",
      "2020-09-03 16:56:47.767 | INFO     | yspecies.selection:fit:82 - SEED: 9 | FOLD: 0 | VALIDATION_SPECIES: ['Ictidomys_tridecemlineatus', 'Aotus_nancymaae']\n"
     ]
    },
    {
     "name": "stdout",
     "output_type": "stream",
     "text": [
      "[LightGBM] [Warning] verbosity is set=-1, verbose=-1 will be ignored. Current value: verbosity=-1\n"
     ]
    },
    {
     "name": "stderr",
     "output_type": "stream",
     "text": [
      "Early stopping is not available in dart mode\n"
     ]
    },
    {
     "name": "stdout",
     "output_type": "stream",
     "text": [
      "[250]\tvalid_0's l1: 3.82931\tvalid_0's huber: 3.10261\tvalid_0's l2: 40.5362\n"
     ]
    },
    {
     "name": "stderr",
     "output_type": "stream",
     "text": [
      "2020-09-03 16:58:23.840 | INFO     | yspecies.selection:fit:82 - SEED: 9 | FOLD: 1 | VALIDATION_SPECIES: ['Pan_troglodytes', 'Oryctolagus_cuniculus']\n"
     ]
    },
    {
     "name": "stdout",
     "output_type": "stream",
     "text": [
      "[250]\tvalid_0's l1: 5.47432\tvalid_0's huber: 4.56187\tvalid_0's l2: 90.8559\n"
     ]
    },
    {
     "name": "stderr",
     "output_type": "stream",
     "text": [
      "2020-09-03 17:00:14.571 | INFO     | yspecies.selection:fit:82 - SEED: 9 | FOLD: 2 | VALIDATION_SPECIES: ['Mesocricetus_auratus', 'Meriones_unguiculatus']\n"
     ]
    },
    {
     "name": "stdout",
     "output_type": "stream",
     "text": [
      "[250]\tvalid_0's l1: 4.39512\tvalid_0's huber: 3.58492\tvalid_0's l2: 49.6429\n"
     ]
    },
    {
     "name": "stderr",
     "output_type": "stream",
     "text": [
      "2020-09-03 17:01:52.681 | INFO     | yspecies.selection:fit:82 - SEED: 9 | FOLD: 3 | VALIDATION_SPECIES: ['Gorilla_gorilla', 'Microcebus_murinus']\n"
     ]
    },
    {
     "name": "stdout",
     "output_type": "stream",
     "text": [
      "[250]\tvalid_0's l1: 6.17026\tvalid_0's huber: 5.19887\tvalid_0's l2: 139.479\n"
     ]
    },
    {
     "name": "stderr",
     "output_type": "stream",
     "text": [
      "2020-09-03 17:03:54.780 | INFO     | yspecies.selection:transform:226 - Metrics: \n",
      "Metrics(R2=0.8903913408813424, MAE=4.967252367546502, MSE=80.12849063313533, huber=4.1120685496248495)\n",
      "MultiObjectiveTrial is experimental (supported from v1.4.0). The interface can change in the future.\n",
      "MultiObjectiveStudy is experimental (supported from v1.4.0). The interface can change in the future.\n",
      "[I 2020-09-03 17:03:55,274] Trial 500 finished with values: [0.9087387184667834, 3.605136242635802, 0.5594538684132498] with parameters: {'boosting_type': 'dart', 'lambda_l1': 0.3970175140579622, 'lambda_l2': 1.361676460911139, 'max_leaves': 25, 'max_depth': 3, 'feature_fraction': 0.5479409728228775, 'bagging_fraction': 0.8082178403494868, 'learning_rate': 0.09227943984528733, 'min_data_in_leaf': 8, 'drop_rate': 0.15938150347995844}.\n",
      "MultiObjectiveStudy is experimental (supported from v1.4.0). The interface can change in the future.\n",
      "FrozenMultiObjectiveTrial is experimental (supported from v1.4.0). The interface can change in the future.\n",
      "MultiObjectiveStudy is experimental (supported from v1.4.0). The interface can change in the future.\n",
      "FrozenMultiObjectiveTrial is experimental (supported from v1.4.0). The interface can change in the future.\n",
      "FrozenMultiObjectiveTrial is experimental (supported from v1.4.0). The interface can change in the future.\n",
      "MultiObjectiveTrial is experimental (supported from v1.4.0). The interface can change in the future.\n",
      "MultiObjectiveStudy is experimental (supported from v1.4.0). The interface can change in the future.\n",
      "FrozenMultiObjectiveTrial is experimental (supported from v1.4.0). The interface can change in the future.\n"
     ]
    },
    {
     "name": "stdout",
     "output_type": "stream",
     "text": [
      "0\n"
     ]
    },
    {
     "name": "stderr",
     "output_type": "stream",
     "text": [
      "2020-09-03 17:03:55.525 | INFO     | yspecies.selection:fit:78 - ===== fitting models with seed 0 =====\n",
      "2020-09-03 17:03:55.528 | INFO     | yspecies.selection:fit:79 - PARAMETERS:\n",
      "{'objective': 'regression', 'metric': {'mae', 'huber', 'mse'}, 'verbosity': -1, 'boosting_type': 'gbdt', 'lambda_l1': 1.1377401671805778, 'lambda_l2': 2.3500616173039672, 'max_leaves': 19, 'max_depth': 7, 'feature_fraction': 0.5950170443528878, 'bagging_fraction': 0.757456996980591, 'learning_rate': 0.035076267542187185, 'min_data_in_leaf': 6, 'drop_rate': 0.1805552615535805, 'verbose': -1}\n",
      "2020-09-03 17:03:55.534 | INFO     | yspecies.selection:fit:82 - SEED: 0 | FOLD: 0 | VALIDATION_SPECIES: ['Gorilla_gorilla', 'Pan_paniscus']\n"
     ]
    },
    {
     "name": "stdout",
     "output_type": "stream",
     "text": [
      "[LightGBM] [Warning] verbosity is set=-1, verbose=-1 will be ignored. Current value: verbosity=-1\n",
      "Training until validation scores don't improve for 10 rounds\n",
      "Early stopping, best iteration is:\n",
      "[205]\tvalid_0's l1: 8.1373\tvalid_0's huber: 6.99175\tvalid_0's l2: 190.715\n"
     ]
    },
    {
     "name": "stderr",
     "output_type": "stream",
     "text": [
      "2020-09-03 17:05:23.275 | INFO     | yspecies.selection:fit:82 - SEED: 0 | FOLD: 1 | VALIDATION_SPECIES: ['Heterocephalus_glaber', 'Capra_hircus']\n"
     ]
    },
    {
     "name": "stdout",
     "output_type": "stream",
     "text": [
      "Training until validation scores don't improve for 10 rounds\n",
      "Early stopping, best iteration is:\n",
      "[196]\tvalid_0's l1: 3.368\tvalid_0's huber: 2.72064\tvalid_0's l2: 46.8471\n"
     ]
    },
    {
     "name": "stderr",
     "output_type": "stream",
     "text": [
      "2020-09-03 17:06:29.218 | INFO     | yspecies.selection:fit:82 - SEED: 0 | FOLD: 2 | VALIDATION_SPECIES: ['Bos_taurus', 'Otolemur_garnettii']\n"
     ]
    },
    {
     "name": "stdout",
     "output_type": "stream",
     "text": [
      "Training until validation scores don't improve for 10 rounds\n",
      "[250]\tvalid_0's l1: 2.90316\tvalid_0's huber: 2.30563\tvalid_0's l2: 35.3759\n",
      "Did not meet early stopping. Best iteration is:\n",
      "[250]\tvalid_0's l1: 2.90316\tvalid_0's huber: 2.30563\tvalid_0's l2: 35.3759\n"
     ]
    },
    {
     "name": "stderr",
     "output_type": "stream",
     "text": [
      "2020-09-03 17:08:19.569 | INFO     | yspecies.selection:fit:82 - SEED: 0 | FOLD: 3 | VALIDATION_SPECIES: ['Macaca_nemestrina', 'Microcebus_murinus']\n"
     ]
    },
    {
     "name": "stdout",
     "output_type": "stream",
     "text": [
      "Training until validation scores don't improve for 10 rounds\n",
      "Early stopping, best iteration is:\n",
      "[189]\tvalid_0's l1: 2.88087\tvalid_0's huber: 2.29273\tvalid_0's l2: 59.1454\n"
     ]
    },
    {
     "name": "stderr",
     "output_type": "stream",
     "text": [
      "2020-09-03 17:10:07.967 | INFO     | yspecies.selection:transform:226 - Metrics: \n",
      "Metrics(R2=0.890855560321625, MAE=4.322331063615276, MSE=83.02072252139648, huber=3.577105397362748)\n"
     ]
    },
    {
     "name": "stdout",
     "output_type": "stream",
     "text": [
      "1\n"
     ]
    },
    {
     "name": "stderr",
     "output_type": "stream",
     "text": [
      "2020-09-03 17:10:07.983 | INFO     | yspecies.selection:fit:78 - ===== fitting models with seed 1 =====\n",
      "2020-09-03 17:10:07.985 | INFO     | yspecies.selection:fit:79 - PARAMETERS:\n",
      "{'objective': 'regression', 'metric': {'mae', 'huber', 'mse'}, 'verbosity': -1, 'boosting_type': 'gbdt', 'lambda_l1': 1.1377401671805778, 'lambda_l2': 2.3500616173039672, 'max_leaves': 19, 'max_depth': 7, 'feature_fraction': 0.5950170443528878, 'bagging_fraction': 0.757456996980591, 'learning_rate': 0.035076267542187185, 'min_data_in_leaf': 6, 'drop_rate': 0.1805552615535805, 'verbose': -1, 'seed': 0}\n",
      "2020-09-03 17:10:07.989 | INFO     | yspecies.selection:fit:82 - SEED: 1 | FOLD: 0 | VALIDATION_SPECIES: ['Felis_catus', 'Ursus_americanus']\n"
     ]
    },
    {
     "name": "stdout",
     "output_type": "stream",
     "text": [
      "[LightGBM] [Warning] verbosity is set=-1, verbose=-1 will be ignored. Current value: verbosity=-1\n",
      "Training until validation scores don't improve for 10 rounds\n",
      "Early stopping, best iteration is:\n",
      "[122]\tvalid_0's l1: 3.75913\tvalid_0's huber: 3.05219\tvalid_0's l2: 41.9814\n"
     ]
    },
    {
     "name": "stderr",
     "output_type": "stream",
     "text": [
      "2020-09-03 17:10:59.520 | INFO     | yspecies.selection:fit:82 - SEED: 1 | FOLD: 1 | VALIDATION_SPECIES: ['Heterocephalus_glaber', 'Vombatus_ursinus']\n"
     ]
    },
    {
     "name": "stdout",
     "output_type": "stream",
     "text": [
      "Training until validation scores don't improve for 10 rounds\n",
      "Early stopping, best iteration is:\n",
      "[197]\tvalid_0's l1: 3.76036\tvalid_0's huber: 3.09658\tvalid_0's l2: 63.9115\n"
     ]
    },
    {
     "name": "stderr",
     "output_type": "stream",
     "text": [
      "2020-09-03 17:12:21.347 | INFO     | yspecies.selection:fit:82 - SEED: 1 | FOLD: 2 | VALIDATION_SPECIES: ['Macaca_fascicularis', 'Rhinopithecus_bieti']\n"
     ]
    },
    {
     "name": "stdout",
     "output_type": "stream",
     "text": [
      "Training until validation scores don't improve for 10 rounds\n",
      "Early stopping, best iteration is:\n",
      "[205]\tvalid_0's l1: 2.23841\tvalid_0's huber: 1.71363\tvalid_0's l2: 24.4213\n"
     ]
    },
    {
     "name": "stderr",
     "output_type": "stream",
     "text": [
      "2020-09-03 17:13:23.770 | INFO     | yspecies.selection:fit:82 - SEED: 1 | FOLD: 3 | VALIDATION_SPECIES: ['Gorilla_gorilla', 'Ovis_aries']\n"
     ]
    },
    {
     "name": "stdout",
     "output_type": "stream",
     "text": [
      "Training until validation scores don't improve for 10 rounds\n",
      "[250]\tvalid_0's l1: 6.39565\tvalid_0's huber: 5.46655\tvalid_0's l2: 188.059\n",
      "Did not meet early stopping. Best iteration is:\n",
      "[250]\tvalid_0's l1: 6.39565\tvalid_0's huber: 5.46655\tvalid_0's l2: 188.059\n"
     ]
    },
    {
     "name": "stderr",
     "output_type": "stream",
     "text": [
      "2020-09-03 17:15:35.260 | INFO     | yspecies.selection:transform:226 - Metrics: \n",
      "Metrics(R2=0.8858403510657963, MAE=4.038386404802555, MSE=79.59321518682141, huber=3.333220261253537)\n"
     ]
    },
    {
     "name": "stdout",
     "output_type": "stream",
     "text": [
      "2\n"
     ]
    },
    {
     "name": "stderr",
     "output_type": "stream",
     "text": [
      "2020-09-03 17:15:35.272 | INFO     | yspecies.selection:fit:78 - ===== fitting models with seed 2 =====\n",
      "2020-09-03 17:15:35.274 | INFO     | yspecies.selection:fit:79 - PARAMETERS:\n",
      "{'objective': 'regression', 'metric': {'mae', 'huber', 'mse'}, 'verbosity': -1, 'boosting_type': 'gbdt', 'lambda_l1': 1.1377401671805778, 'lambda_l2': 2.3500616173039672, 'max_leaves': 19, 'max_depth': 7, 'feature_fraction': 0.5950170443528878, 'bagging_fraction': 0.757456996980591, 'learning_rate': 0.035076267542187185, 'min_data_in_leaf': 6, 'drop_rate': 0.1805552615535805, 'verbose': -1, 'seed': 1}\n",
      "2020-09-03 17:15:35.279 | INFO     | yspecies.selection:fit:82 - SEED: 2 | FOLD: 0 | VALIDATION_SPECIES: ['Rhinopithecus_bieti', 'Ursus_americanus']\n"
     ]
    },
    {
     "name": "stdout",
     "output_type": "stream",
     "text": [
      "[LightGBM] [Warning] verbosity is set=-1, verbose=-1 will be ignored. Current value: verbosity=-1\n",
      "Training until validation scores don't improve for 10 rounds\n",
      "Early stopping, best iteration is:\n",
      "[175]\tvalid_0's l1: 3.20975\tvalid_0's huber: 2.54986\tvalid_0's l2: 26.7806\n"
     ]
    },
    {
     "name": "stderr",
     "output_type": "stream",
     "text": [
      "2020-09-03 17:16:41.009 | INFO     | yspecies.selection:fit:82 - SEED: 2 | FOLD: 1 | VALIDATION_SPECIES: ['Aotus_nancymaae', 'Phascolarctos_cinereus']\n"
     ]
    },
    {
     "name": "stdout",
     "output_type": "stream",
     "text": [
      "Training until validation scores don't improve for 10 rounds\n",
      "Early stopping, best iteration is:\n",
      "[193]\tvalid_0's l1: 4.06656\tvalid_0's huber: 3.32586\tvalid_0's l2: 63.3079\n"
     ]
    },
    {
     "name": "stderr",
     "output_type": "stream",
     "text": [
      "2020-09-03 17:17:59.450 | INFO     | yspecies.selection:fit:82 - SEED: 2 | FOLD: 2 | VALIDATION_SPECIES: ['Vombatus_ursinus', 'Ailuropoda_melanoleuca']\n"
     ]
    },
    {
     "name": "stdout",
     "output_type": "stream",
     "text": [
      "Training until validation scores don't improve for 10 rounds\n",
      "Early stopping, best iteration is:\n",
      "[192]\tvalid_0's l1: 3.31659\tvalid_0's huber: 2.65502\tvalid_0's l2: 35.5072\n"
     ]
    },
    {
     "name": "stderr",
     "output_type": "stream",
     "text": [
      "2020-09-03 17:19:26.197 | INFO     | yspecies.selection:fit:82 - SEED: 2 | FOLD: 3 | VALIDATION_SPECIES: ['Rattus_norvegicus', 'Monodelphis_domestica']\n"
     ]
    },
    {
     "name": "stdout",
     "output_type": "stream",
     "text": [
      "Training until validation scores don't improve for 10 rounds\n",
      "[250]\tvalid_0's l1: 5.63407\tvalid_0's huber: 4.7114\tvalid_0's l2: 81.1568\n",
      "Did not meet early stopping. Best iteration is:\n",
      "[250]\tvalid_0's l1: 5.63407\tvalid_0's huber: 4.7114\tvalid_0's l2: 81.1568\n"
     ]
    },
    {
     "name": "stderr",
     "output_type": "stream",
     "text": [
      "2020-09-03 17:21:14.223 | INFO     | yspecies.selection:transform:226 - Metrics: \n",
      "Metrics(R2=0.9162584261336798, MAE=4.056743791946377, MSE=51.68811035659516, huber=3.3099897449799904)\n"
     ]
    },
    {
     "name": "stdout",
     "output_type": "stream",
     "text": [
      "3\n"
     ]
    },
    {
     "name": "stderr",
     "output_type": "stream",
     "text": [
      "2020-09-03 17:21:14.240 | INFO     | yspecies.selection:fit:78 - ===== fitting models with seed 3 =====\n",
      "2020-09-03 17:21:14.243 | INFO     | yspecies.selection:fit:79 - PARAMETERS:\n",
      "{'objective': 'regression', 'metric': {'mae', 'huber', 'mse'}, 'verbosity': -1, 'boosting_type': 'gbdt', 'lambda_l1': 1.1377401671805778, 'lambda_l2': 2.3500616173039672, 'max_leaves': 19, 'max_depth': 7, 'feature_fraction': 0.5950170443528878, 'bagging_fraction': 0.757456996980591, 'learning_rate': 0.035076267542187185, 'min_data_in_leaf': 6, 'drop_rate': 0.1805552615535805, 'verbose': -1, 'seed': 2}\n",
      "2020-09-03 17:21:14.249 | INFO     | yspecies.selection:fit:82 - SEED: 3 | FOLD: 0 | VALIDATION_SPECIES: ['Microcebus_murinus', 'Pan_paniscus']\n"
     ]
    },
    {
     "name": "stdout",
     "output_type": "stream",
     "text": [
      "[LightGBM] [Warning] verbosity is set=-1, verbose=-1 will be ignored. Current value: verbosity=-1\n",
      "Training until validation scores don't improve for 10 rounds\n",
      "Early stopping, best iteration is:\n",
      "[173]\tvalid_0's l1: 3.25248\tvalid_0's huber: 2.60623\tvalid_0's l2: 39.483\n"
     ]
    },
    {
     "name": "stderr",
     "output_type": "stream",
     "text": [
      "2020-09-03 17:22:32.863 | INFO     | yspecies.selection:fit:82 - SEED: 3 | FOLD: 1 | VALIDATION_SPECIES: ['Ursus_americanus', 'Gorilla_gorilla']\n"
     ]
    },
    {
     "name": "stdout",
     "output_type": "stream",
     "text": [
      "Training until validation scores don't improve for 10 rounds\n",
      "[250]\tvalid_0's l1: 6.46287\tvalid_0's huber: 5.48063\tvalid_0's l2: 120.768\n",
      "Did not meet early stopping. Best iteration is:\n",
      "[249]\tvalid_0's l1: 6.46255\tvalid_0's huber: 5.48041\tvalid_0's l2: 120.747\n"
     ]
    },
    {
     "name": "stderr",
     "output_type": "stream",
     "text": [
      "2020-09-03 17:24:15.551 | INFO     | yspecies.selection:fit:82 - SEED: 3 | FOLD: 2 | VALIDATION_SPECIES: ['Bos_taurus', 'Capra_hircus']\n"
     ]
    },
    {
     "name": "stdout",
     "output_type": "stream",
     "text": [
      "Training until validation scores don't improve for 10 rounds\n",
      "Early stopping, best iteration is:\n",
      "[163]\tvalid_0's l1: 3.32585\tvalid_0's huber: 2.68417\tvalid_0's l2: 43.1663\n"
     ]
    },
    {
     "name": "stderr",
     "output_type": "stream",
     "text": [
      "2020-09-03 17:25:29.724 | INFO     | yspecies.selection:fit:82 - SEED: 3 | FOLD: 3 | VALIDATION_SPECIES: ['Rhinolophus_ferrumequinum', 'Mus_musculus']\n"
     ]
    },
    {
     "name": "stdout",
     "output_type": "stream",
     "text": [
      "Training until validation scores don't improve for 10 rounds\n",
      "Early stopping, best iteration is:\n",
      "[232]\tvalid_0's l1: 2.20755\tvalid_0's huber: 1.7047\tvalid_0's l2: 34.1956\n"
     ]
    },
    {
     "name": "stderr",
     "output_type": "stream",
     "text": [
      "2020-09-03 17:27:11.917 | INFO     | yspecies.selection:transform:226 - Metrics: \n",
      "Metrics(R2=0.9204691837003209, MAE=3.812106429938779, MSE=59.39799877207031, huber=3.1198096055265863)\n"
     ]
    },
    {
     "name": "stdout",
     "output_type": "stream",
     "text": [
      "4\n"
     ]
    },
    {
     "name": "stderr",
     "output_type": "stream",
     "text": [
      "2020-09-03 17:27:11.941 | INFO     | yspecies.selection:fit:78 - ===== fitting models with seed 4 =====\n",
      "2020-09-03 17:27:11.943 | INFO     | yspecies.selection:fit:79 - PARAMETERS:\n",
      "{'objective': 'regression', 'metric': {'mae', 'huber', 'mse'}, 'verbosity': -1, 'boosting_type': 'gbdt', 'lambda_l1': 1.1377401671805778, 'lambda_l2': 2.3500616173039672, 'max_leaves': 19, 'max_depth': 7, 'feature_fraction': 0.5950170443528878, 'bagging_fraction': 0.757456996980591, 'learning_rate': 0.035076267542187185, 'min_data_in_leaf': 6, 'drop_rate': 0.1805552615535805, 'verbose': -1, 'seed': 3}\n",
      "2020-09-03 17:27:11.960 | INFO     | yspecies.selection:fit:82 - SEED: 4 | FOLD: 0 | VALIDATION_SPECIES: ['Macaca_fascicularis', 'Pan_troglodytes']\n"
     ]
    },
    {
     "name": "stdout",
     "output_type": "stream",
     "text": [
      "[LightGBM] [Warning] verbosity is set=-1, verbose=-1 will be ignored. Current value: verbosity=-1\n",
      "Training until validation scores don't improve for 10 rounds\n",
      "Early stopping, best iteration is:\n",
      "[148]\tvalid_0's l1: 3.20775\tvalid_0's huber: 2.56088\tvalid_0's l2: 38.8535\n"
     ]
    },
    {
     "name": "stderr",
     "output_type": "stream",
     "text": [
      "2020-09-03 17:28:18.499 | INFO     | yspecies.selection:fit:82 - SEED: 4 | FOLD: 1 | VALIDATION_SPECIES: ['Otolemur_garnettii', 'Ursus_americanus']\n"
     ]
    },
    {
     "name": "stdout",
     "output_type": "stream",
     "text": [
      "Training until validation scores don't improve for 10 rounds\n",
      "[250]\tvalid_0's l1: 3.05206\tvalid_0's huber: 2.44305\tvalid_0's l2: 58.9337\n",
      "Did not meet early stopping. Best iteration is:\n",
      "[250]\tvalid_0's l1: 3.05206\tvalid_0's huber: 2.44305\tvalid_0's l2: 58.9337\n"
     ]
    },
    {
     "name": "stderr",
     "output_type": "stream",
     "text": [
      "2020-09-03 17:30:06.732 | INFO     | yspecies.selection:fit:82 - SEED: 4 | FOLD: 2 | VALIDATION_SPECIES: ['Heterocephalus_glaber', 'Cavia_aperea']\n"
     ]
    },
    {
     "name": "stdout",
     "output_type": "stream",
     "text": [
      "Training until validation scores don't improve for 10 rounds\n",
      "[250]\tvalid_0's l1: 3.1847\tvalid_0's huber: 2.56667\tvalid_0's l2: 29.4012\n",
      "Did not meet early stopping. Best iteration is:\n",
      "[250]\tvalid_0's l1: 3.1847\tvalid_0's huber: 2.56667\tvalid_0's l2: 29.4012\n"
     ]
    },
    {
     "name": "stderr",
     "output_type": "stream",
     "text": [
      "2020-09-03 17:31:35.233 | INFO     | yspecies.selection:fit:82 - SEED: 4 | FOLD: 3 | VALIDATION_SPECIES: ['Pan_paniscus', 'Gorilla_gorilla']\n"
     ]
    },
    {
     "name": "stdout",
     "output_type": "stream",
     "text": [
      "Training until validation scores don't improve for 10 rounds\n",
      "Early stopping, best iteration is:\n",
      "[208]\tvalid_0's l1: 6.55393\tvalid_0's huber: 5.59809\tvalid_0's l2: 166.948\n"
     ]
    },
    {
     "name": "stderr",
     "output_type": "stream",
     "text": [
      "2020-09-03 17:33:37.835 | INFO     | yspecies.selection:transform:226 - Metrics: \n",
      "Metrics(R2=0.9011789326706642, MAE=3.9996095893199737, MSE=73.53423432369539, huber=3.2917583519689444)\n"
     ]
    },
    {
     "name": "stdout",
     "output_type": "stream",
     "text": [
      "5\n"
     ]
    },
    {
     "name": "stderr",
     "output_type": "stream",
     "text": [
      "2020-09-03 17:33:37.847 | INFO     | yspecies.selection:fit:78 - ===== fitting models with seed 5 =====\n",
      "2020-09-03 17:33:37.848 | INFO     | yspecies.selection:fit:79 - PARAMETERS:\n",
      "{'objective': 'regression', 'metric': {'mae', 'huber', 'mse'}, 'verbosity': -1, 'boosting_type': 'gbdt', 'lambda_l1': 1.1377401671805778, 'lambda_l2': 2.3500616173039672, 'max_leaves': 19, 'max_depth': 7, 'feature_fraction': 0.5950170443528878, 'bagging_fraction': 0.757456996980591, 'learning_rate': 0.035076267542187185, 'min_data_in_leaf': 6, 'drop_rate': 0.1805552615535805, 'verbose': -1, 'seed': 4}\n",
      "2020-09-03 17:33:37.855 | INFO     | yspecies.selection:fit:82 - SEED: 5 | FOLD: 0 | VALIDATION_SPECIES: ['Mus_spicilegus', 'Canis_lupus_familiaris']\n"
     ]
    },
    {
     "name": "stdout",
     "output_type": "stream",
     "text": [
      "[LightGBM] [Warning] verbosity is set=-1, verbose=-1 will be ignored. Current value: verbosity=-1\n",
      "Training until validation scores don't improve for 10 rounds\n",
      "Early stopping, best iteration is:\n",
      "[153]\tvalid_0's l1: 2.88272\tvalid_0's huber: 2.29606\tvalid_0's l2: 30.4701\n"
     ]
    },
    {
     "name": "stderr",
     "output_type": "stream",
     "text": [
      "2020-09-03 17:34:44.346 | INFO     | yspecies.selection:fit:82 - SEED: 5 | FOLD: 1 | VALIDATION_SPECIES: ['Ovis_aries', 'Heterocephalus_glaber']\n"
     ]
    },
    {
     "name": "stdout",
     "output_type": "stream",
     "text": [
      "Training until validation scores don't improve for 10 rounds\n",
      "Early stopping, best iteration is:\n",
      "[93]\tvalid_0's l1: 5.08957\tvalid_0's huber: 4.20658\tvalid_0's l2: 154.288\n"
     ]
    },
    {
     "name": "stderr",
     "output_type": "stream",
     "text": [
      "2020-09-03 17:35:06.368 | INFO     | yspecies.selection:fit:82 - SEED: 5 | FOLD: 2 | VALIDATION_SPECIES: ['Ursus_americanus', 'Oryctolagus_cuniculus']\n"
     ]
    },
    {
     "name": "stdout",
     "output_type": "stream",
     "text": [
      "Training until validation scores don't improve for 10 rounds\n",
      "[250]\tvalid_0's l1: 4.5989\tvalid_0's huber: 3.8495\tvalid_0's l2: 107.121\n",
      "Did not meet early stopping. Best iteration is:\n",
      "[250]\tvalid_0's l1: 4.5989\tvalid_0's huber: 3.8495\tvalid_0's l2: 107.121\n"
     ]
    },
    {
     "name": "stderr",
     "output_type": "stream",
     "text": [
      "2020-09-03 17:36:40.975 | INFO     | yspecies.selection:fit:82 - SEED: 5 | FOLD: 3 | VALIDATION_SPECIES: ['Cavia_aperea', 'Ailuropoda_melanoleuca']\n"
     ]
    },
    {
     "name": "stdout",
     "output_type": "stream",
     "text": [
      "Training until validation scores don't improve for 10 rounds\n",
      "Early stopping, best iteration is:\n",
      "[188]\tvalid_0's l1: 3.49159\tvalid_0's huber: 2.87601\tvalid_0's l2: 64.1586\n"
     ]
    },
    {
     "name": "stderr",
     "output_type": "stream",
     "text": [
      "2020-09-03 17:38:31.315 | INFO     | yspecies.selection:transform:226 - Metrics: \n",
      "Metrics(R2=0.8778878129408214, MAE=4.015693686572194, MSE=89.00943205235826, huber=3.2810264006699343)\n"
     ]
    },
    {
     "name": "stdout",
     "output_type": "stream",
     "text": [
      "6\n"
     ]
    },
    {
     "name": "stderr",
     "output_type": "stream",
     "text": [
      "2020-09-03 17:38:31.324 | INFO     | yspecies.selection:fit:78 - ===== fitting models with seed 6 =====\n",
      "2020-09-03 17:38:31.326 | INFO     | yspecies.selection:fit:79 - PARAMETERS:\n",
      "{'objective': 'regression', 'metric': {'mae', 'huber', 'mse'}, 'verbosity': -1, 'boosting_type': 'gbdt', 'lambda_l1': 1.1377401671805778, 'lambda_l2': 2.3500616173039672, 'max_leaves': 19, 'max_depth': 7, 'feature_fraction': 0.5950170443528878, 'bagging_fraction': 0.757456996980591, 'learning_rate': 0.035076267542187185, 'min_data_in_leaf': 6, 'drop_rate': 0.1805552615535805, 'verbose': -1, 'seed': 5}\n",
      "2020-09-03 17:38:31.330 | INFO     | yspecies.selection:fit:82 - SEED: 6 | FOLD: 0 | VALIDATION_SPECIES: ['Rhinolophus_ferrumequinum', 'Heterocephalus_glaber']\n"
     ]
    },
    {
     "name": "stdout",
     "output_type": "stream",
     "text": [
      "[LightGBM] [Warning] verbosity is set=-1, verbose=-1 will be ignored. Current value: verbosity=-1\n",
      "Training until validation scores don't improve for 10 rounds\n",
      "Early stopping, best iteration is:\n",
      "[189]\tvalid_0's l1: 3.42139\tvalid_0's huber: 2.78474\tvalid_0's l2: 36.1202\n"
     ]
    },
    {
     "name": "stderr",
     "output_type": "stream",
     "text": [
      "2020-09-03 17:39:34.190 | INFO     | yspecies.selection:fit:82 - SEED: 6 | FOLD: 1 | VALIDATION_SPECIES: ['Mus_spicilegus', 'Suricata_suricatta']\n"
     ]
    },
    {
     "name": "stdout",
     "output_type": "stream",
     "text": [
      "Training until validation scores don't improve for 10 rounds\n",
      "Early stopping, best iteration is:\n",
      "[179]\tvalid_0's l1: 3.27431\tvalid_0's huber: 2.66955\tvalid_0's l2: 47.3407\n"
     ]
    },
    {
     "name": "stderr",
     "output_type": "stream",
     "text": [
      "2020-09-03 17:40:40.303 | INFO     | yspecies.selection:fit:82 - SEED: 6 | FOLD: 2 | VALIDATION_SPECIES: ['Rhinopithecus_bieti', 'Ovis_aries']\n"
     ]
    },
    {
     "name": "stdout",
     "output_type": "stream",
     "text": [
      "Training until validation scores don't improve for 10 rounds\n",
      "Early stopping, best iteration is:\n",
      "[204]\tvalid_0's l1: 2.42586\tvalid_0's huber: 1.88333\tvalid_0's l2: 23.4158\n"
     ]
    },
    {
     "name": "stderr",
     "output_type": "stream",
     "text": [
      "2020-09-03 17:42:10.929 | INFO     | yspecies.selection:fit:82 - SEED: 6 | FOLD: 3 | VALIDATION_SPECIES: ['Cavia_porcellus', 'Pan_troglodytes']\n"
     ]
    },
    {
     "name": "stdout",
     "output_type": "stream",
     "text": [
      "Training until validation scores don't improve for 10 rounds\n",
      "Early stopping, best iteration is:\n",
      "[213]\tvalid_0's l1: 3.15105\tvalid_0's huber: 2.51766\tvalid_0's l2: 56.2399\n"
     ]
    },
    {
     "name": "stderr",
     "output_type": "stream",
     "text": [
      "2020-09-03 17:43:46.816 | INFO     | yspecies.selection:transform:226 - Metrics: \n",
      "Metrics(R2=0.9430496280731808, MAE=3.068151996886451, MSE=40.779129622573514, huber=2.4643839111403105)\n"
     ]
    },
    {
     "name": "stdout",
     "output_type": "stream",
     "text": [
      "7\n"
     ]
    },
    {
     "name": "stderr",
     "output_type": "stream",
     "text": [
      "2020-09-03 17:43:46.826 | INFO     | yspecies.selection:fit:78 - ===== fitting models with seed 7 =====\n",
      "2020-09-03 17:43:46.827 | INFO     | yspecies.selection:fit:79 - PARAMETERS:\n",
      "{'objective': 'regression', 'metric': {'mae', 'huber', 'mse'}, 'verbosity': -1, 'boosting_type': 'gbdt', 'lambda_l1': 1.1377401671805778, 'lambda_l2': 2.3500616173039672, 'max_leaves': 19, 'max_depth': 7, 'feature_fraction': 0.5950170443528878, 'bagging_fraction': 0.757456996980591, 'learning_rate': 0.035076267542187185, 'min_data_in_leaf': 6, 'drop_rate': 0.1805552615535805, 'verbose': -1, 'seed': 6}\n",
      "2020-09-03 17:43:46.832 | INFO     | yspecies.selection:fit:82 - SEED: 7 | FOLD: 0 | VALIDATION_SPECIES: ['Macaca_mulatta', 'Cavia_porcellus']\n"
     ]
    },
    {
     "name": "stdout",
     "output_type": "stream",
     "text": [
      "[LightGBM] [Warning] verbosity is set=-1, verbose=-1 will be ignored. Current value: verbosity=-1\n",
      "Training until validation scores don't improve for 10 rounds\n",
      "Early stopping, best iteration is:\n",
      "[163]\tvalid_0's l1: 3.29499\tvalid_0's huber: 2.63573\tvalid_0's l2: 32.5706\n"
     ]
    },
    {
     "name": "stderr",
     "output_type": "stream",
     "text": [
      "2020-09-03 17:44:56.556 | INFO     | yspecies.selection:fit:82 - SEED: 7 | FOLD: 1 | VALIDATION_SPECIES: ['Pan_paniscus', 'Capra_hircus']\n"
     ]
    },
    {
     "name": "stdout",
     "output_type": "stream",
     "text": [
      "Training until validation scores don't improve for 10 rounds\n",
      "Early stopping, best iteration is:\n",
      "[235]\tvalid_0's l1: 3.02272\tvalid_0's huber: 2.41595\tvalid_0's l2: 42.3476\n"
     ]
    },
    {
     "name": "stderr",
     "output_type": "stream",
     "text": [
      "2020-09-03 17:46:35.938 | INFO     | yspecies.selection:fit:82 - SEED: 7 | FOLD: 2 | VALIDATION_SPECIES: ['Otolemur_garnettii', 'Ictidomys_tridecemlineatus']\n"
     ]
    },
    {
     "name": "stdout",
     "output_type": "stream",
     "text": [
      "Training until validation scores don't improve for 10 rounds\n",
      "[250]\tvalid_0's l1: 3.07333\tvalid_0's huber: 2.47994\tvalid_0's l2: 28.9033\n",
      "Did not meet early stopping. Best iteration is:\n",
      "[250]\tvalid_0's l1: 3.07333\tvalid_0's huber: 2.47994\tvalid_0's l2: 28.9033\n"
     ]
    },
    {
     "name": "stderr",
     "output_type": "stream",
     "text": [
      "2020-09-03 17:48:30.784 | INFO     | yspecies.selection:fit:82 - SEED: 7 | FOLD: 3 | VALIDATION_SPECIES: ['Canis_lupus_familiaris', 'Ursus_americanus']\n"
     ]
    },
    {
     "name": "stdout",
     "output_type": "stream",
     "text": [
      "Training until validation scores don't improve for 10 rounds\n",
      "Early stopping, best iteration is:\n",
      "[170]\tvalid_0's l1: 3.23134\tvalid_0's huber: 2.60708\tvalid_0's l2: 46.83\n"
     ]
    },
    {
     "name": "stderr",
     "output_type": "stream",
     "text": [
      "2020-09-03 17:50:14.500 | INFO     | yspecies.selection:transform:226 - Metrics: \n",
      "Metrics(R2=0.9470869967187414, MAE=3.1555949258164326, MSE=37.662867635432015, huber=2.535633846262362)\n"
     ]
    },
    {
     "name": "stdout",
     "output_type": "stream",
     "text": [
      "8\n"
     ]
    },
    {
     "name": "stderr",
     "output_type": "stream",
     "text": [
      "2020-09-03 17:50:14.511 | INFO     | yspecies.selection:fit:78 - ===== fitting models with seed 8 =====\n",
      "2020-09-03 17:50:14.513 | INFO     | yspecies.selection:fit:79 - PARAMETERS:\n",
      "{'objective': 'regression', 'metric': {'mae', 'huber', 'mse'}, 'verbosity': -1, 'boosting_type': 'gbdt', 'lambda_l1': 1.1377401671805778, 'lambda_l2': 2.3500616173039672, 'max_leaves': 19, 'max_depth': 7, 'feature_fraction': 0.5950170443528878, 'bagging_fraction': 0.757456996980591, 'learning_rate': 0.035076267542187185, 'min_data_in_leaf': 6, 'drop_rate': 0.1805552615535805, 'verbose': -1, 'seed': 7}\n",
      "2020-09-03 17:50:14.518 | INFO     | yspecies.selection:fit:82 - SEED: 8 | FOLD: 0 | VALIDATION_SPECIES: ['Pan_paniscus', 'Suricata_suricatta']\n"
     ]
    },
    {
     "name": "stdout",
     "output_type": "stream",
     "text": [
      "[LightGBM] [Warning] verbosity is set=-1, verbose=-1 will be ignored. Current value: verbosity=-1\n",
      "Training until validation scores don't improve for 10 rounds\n",
      "[250]\tvalid_0's l1: 2.7719\tvalid_0's huber: 2.18763\tvalid_0's l2: 30.8274\n",
      "Did not meet early stopping. Best iteration is:\n",
      "[246]\tvalid_0's l1: 2.77106\tvalid_0's huber: 2.18694\tvalid_0's l2: 30.7865\n"
     ]
    },
    {
     "name": "stderr",
     "output_type": "stream",
     "text": [
      "2020-09-03 17:51:52.043 | INFO     | yspecies.selection:fit:82 - SEED: 8 | FOLD: 1 | VALIDATION_SPECIES: ['Macaca_fascicularis', 'Tupaia_belangeri']\n"
     ]
    },
    {
     "name": "stdout",
     "output_type": "stream",
     "text": [
      "Training until validation scores don't improve for 10 rounds\n",
      "[250]\tvalid_0's l1: 2.98743\tvalid_0's huber: 2.40132\tvalid_0's l2: 29.5028\n",
      "Did not meet early stopping. Best iteration is:\n",
      "[250]\tvalid_0's l1: 2.98743\tvalid_0's huber: 2.40132\tvalid_0's l2: 29.5028\n"
     ]
    },
    {
     "name": "stderr",
     "output_type": "stream",
     "text": [
      "2020-09-03 17:53:35.856 | INFO     | yspecies.selection:fit:82 - SEED: 8 | FOLD: 2 | VALIDATION_SPECIES: ['Ursus_americanus', 'Capra_hircus']\n"
     ]
    },
    {
     "name": "stdout",
     "output_type": "stream",
     "text": [
      "Training until validation scores don't improve for 10 rounds\n",
      "[250]\tvalid_0's l1: 3.05198\tvalid_0's huber: 2.44941\tvalid_0's l2: 40.2238\n",
      "Did not meet early stopping. Best iteration is:\n",
      "[250]\tvalid_0's l1: 3.05198\tvalid_0's huber: 2.44941\tvalid_0's l2: 40.2238\n"
     ]
    },
    {
     "name": "stderr",
     "output_type": "stream",
     "text": [
      "2020-09-03 17:54:33.949 | INFO     | yspecies.selection:fit:82 - SEED: 8 | FOLD: 3 | VALIDATION_SPECIES: ['Bos_taurus', 'Rhinolophus_ferrumequinum']\n"
     ]
    },
    {
     "name": "stdout",
     "output_type": "stream",
     "text": [
      "Training until validation scores don't improve for 10 rounds\n",
      "Early stopping, best iteration is:\n",
      "[231]\tvalid_0's l1: 2.77929\tvalid_0's huber: 2.21621\tvalid_0's l2: 50.9402\n"
     ]
    },
    {
     "name": "stderr",
     "output_type": "stream",
     "text": [
      "2020-09-03 17:56:44.985 | INFO     | yspecies.selection:transform:226 - Metrics: \n",
      "Metrics(R2=0.946677158459329, MAE=2.897441810111644, MSE=37.86330406787106, huber=2.3137773528249928)\n"
     ]
    },
    {
     "name": "stdout",
     "output_type": "stream",
     "text": [
      "9\n"
     ]
    },
    {
     "name": "stderr",
     "output_type": "stream",
     "text": [
      "2020-09-03 17:56:44.995 | INFO     | yspecies.selection:fit:78 - ===== fitting models with seed 9 =====\n",
      "2020-09-03 17:56:44.996 | INFO     | yspecies.selection:fit:79 - PARAMETERS:\n",
      "{'objective': 'regression', 'metric': {'mae', 'huber', 'mse'}, 'verbosity': -1, 'boosting_type': 'gbdt', 'lambda_l1': 1.1377401671805778, 'lambda_l2': 2.3500616173039672, 'max_leaves': 19, 'max_depth': 7, 'feature_fraction': 0.5950170443528878, 'bagging_fraction': 0.757456996980591, 'learning_rate': 0.035076267542187185, 'min_data_in_leaf': 6, 'drop_rate': 0.1805552615535805, 'verbose': -1, 'seed': 8}\n",
      "2020-09-03 17:56:45.000 | INFO     | yspecies.selection:fit:82 - SEED: 9 | FOLD: 0 | VALIDATION_SPECIES: ['Ictidomys_tridecemlineatus', 'Aotus_nancymaae']\n"
     ]
    },
    {
     "name": "stdout",
     "output_type": "stream",
     "text": [
      "[LightGBM] [Warning] verbosity is set=-1, verbose=-1 will be ignored. Current value: verbosity=-1\n",
      "Training until validation scores don't improve for 10 rounds\n",
      "Early stopping, best iteration is:\n",
      "[149]\tvalid_0's l1: 3.53437\tvalid_0's huber: 2.85966\tvalid_0's l2: 36.9555\n"
     ]
    },
    {
     "name": "stderr",
     "output_type": "stream",
     "text": [
      "2020-09-03 17:57:55.428 | INFO     | yspecies.selection:fit:82 - SEED: 9 | FOLD: 1 | VALIDATION_SPECIES: ['Pan_troglodytes', 'Oryctolagus_cuniculus']\n"
     ]
    },
    {
     "name": "stdout",
     "output_type": "stream",
     "text": [
      "Training until validation scores don't improve for 10 rounds\n",
      "Early stopping, best iteration is:\n",
      "[212]\tvalid_0's l1: 4.62667\tvalid_0's huber: 3.83684\tvalid_0's l2: 83.5205\n"
     ]
    },
    {
     "name": "stderr",
     "output_type": "stream",
     "text": [
      "2020-09-03 17:59:28.531 | INFO     | yspecies.selection:fit:82 - SEED: 9 | FOLD: 2 | VALIDATION_SPECIES: ['Mesocricetus_auratus', 'Meriones_unguiculatus']\n"
     ]
    },
    {
     "name": "stdout",
     "output_type": "stream",
     "text": [
      "Training until validation scores don't improve for 10 rounds\n",
      "Early stopping, best iteration is:\n",
      "[229]\tvalid_0's l1: 3.6446\tvalid_0's huber: 2.96574\tvalid_0's l2: 50.2425\n"
     ]
    },
    {
     "name": "stderr",
     "output_type": "stream",
     "text": [
      "2020-09-03 18:01:04.177 | INFO     | yspecies.selection:fit:82 - SEED: 9 | FOLD: 3 | VALIDATION_SPECIES: ['Gorilla_gorilla', 'Microcebus_murinus']\n"
     ]
    },
    {
     "name": "stdout",
     "output_type": "stream",
     "text": [
      "Training until validation scores don't improve for 10 rounds\n",
      "[250]\tvalid_0's l1: 4.80297\tvalid_0's huber: 4.0018\tvalid_0's l2: 104.283\n",
      "Did not meet early stopping. Best iteration is:\n",
      "[250]\tvalid_0's l1: 4.80297\tvalid_0's huber: 4.0018\tvalid_0's l2: 104.283\n"
     ]
    },
    {
     "name": "stderr",
     "output_type": "stream",
     "text": [
      "2020-09-03 18:03:20.858 | INFO     | yspecies.selection:transform:226 - Metrics: \n",
      "Metrics(R2=0.9063026410203632, MAE=4.152150457815072, MSE=68.75038038250838, huber=3.41545451957467)\n",
      "MultiObjectiveTrial is experimental (supported from v1.4.0). The interface can change in the future.\n",
      "MultiObjectiveStudy is experimental (supported from v1.4.0). The interface can change in the future.\n",
      "[I 2020-09-03 18:03:21,385] Trial 501 finished with values: [0.9135606691104524, 3.0642159391564077, 0.4693427233754296] with parameters: {'boosting_type': 'gbdt', 'lambda_l1': 1.1377401671805778, 'lambda_l2': 2.3500616173039672, 'max_leaves': 19, 'max_depth': 7, 'feature_fraction': 0.5950170443528878, 'bagging_fraction': 0.757456996980591, 'learning_rate': 0.035076267542187185, 'min_data_in_leaf': 6, 'drop_rate': 0.1805552615535805}.\n",
      "MultiObjectiveStudy is experimental (supported from v1.4.0). The interface can change in the future.\n",
      "FrozenMultiObjectiveTrial is experimental (supported from v1.4.0). The interface can change in the future.\n",
      "MultiObjectiveStudy is experimental (supported from v1.4.0). The interface can change in the future.\n",
      "FrozenMultiObjectiveTrial is experimental (supported from v1.4.0). The interface can change in the future.\n",
      "FrozenMultiObjectiveTrial is experimental (supported from v1.4.0). The interface can change in the future.\n",
      "MultiObjectiveTrial is experimental (supported from v1.4.0). The interface can change in the future.\n",
      "MultiObjectiveStudy is experimental (supported from v1.4.0). The interface can change in the future.\n",
      "FrozenMultiObjectiveTrial is experimental (supported from v1.4.0). The interface can change in the future.\n"
     ]
    },
    {
     "name": "stdout",
     "output_type": "stream",
     "text": [
      "0\n"
     ]
    },
    {
     "name": "stderr",
     "output_type": "stream",
     "text": [
      "2020-09-03 18:03:21.837 | INFO     | yspecies.selection:fit:78 - ===== fitting models with seed 0 =====\n",
      "2020-09-03 18:03:21.839 | INFO     | yspecies.selection:fit:79 - PARAMETERS:\n",
      "{'objective': 'regression', 'metric': {'mae', 'huber', 'mse'}, 'verbosity': -1, 'boosting_type': 'dart', 'lambda_l1': 0.3970175140579622, 'lambda_l2': 2.9232199794782074, 'max_leaves': 25, 'max_depth': 3, 'feature_fraction': 0.5479409728228775, 'bagging_fraction': 0.5896610538427859, 'learning_rate': 0.09227943984528733, 'min_data_in_leaf': 8, 'drop_rate': 0.15938150347995844, 'verbose': -1}\n",
      "2020-09-03 18:03:21.844 | INFO     | yspecies.selection:fit:82 - SEED: 0 | FOLD: 0 | VALIDATION_SPECIES: ['Gorilla_gorilla', 'Pan_paniscus']\n"
     ]
    },
    {
     "name": "stdout",
     "output_type": "stream",
     "text": [
      "[LightGBM] [Warning] verbosity is set=-1, verbose=-1 will be ignored. Current value: verbosity=-1\n"
     ]
    },
    {
     "name": "stderr",
     "output_type": "stream",
     "text": [
      "Early stopping is not available in dart mode\n"
     ]
    },
    {
     "name": "stdout",
     "output_type": "stream",
     "text": [
      "[250]\tvalid_0's l1: 8.87406\tvalid_0's huber: 7.62725\tvalid_0's l2: 221.478\n"
     ]
    },
    {
     "name": "stderr",
     "output_type": "stream",
     "text": [
      "2020-09-03 18:04:58.817 | INFO     | yspecies.selection:fit:82 - SEED: 0 | FOLD: 1 | VALIDATION_SPECIES: ['Heterocephalus_glaber', 'Capra_hircus']\n"
     ]
    },
    {
     "name": "stdout",
     "output_type": "stream",
     "text": [
      "[250]\tvalid_0's l1: 4.20509\tvalid_0's huber: 3.42326\tvalid_0's l2: 72.9181\n"
     ]
    },
    {
     "name": "stderr",
     "output_type": "stream",
     "text": [
      "2020-09-03 18:06:44.739 | INFO     | yspecies.selection:fit:82 - SEED: 0 | FOLD: 2 | VALIDATION_SPECIES: ['Bos_taurus', 'Otolemur_garnettii']\n"
     ]
    },
    {
     "name": "stdout",
     "output_type": "stream",
     "text": [
      "[250]\tvalid_0's l1: 3.29896\tvalid_0's huber: 2.64196\tvalid_0's l2: 31.6267\n"
     ]
    },
    {
     "name": "stderr",
     "output_type": "stream",
     "text": [
      "2020-09-03 18:08:37.621 | INFO     | yspecies.selection:fit:82 - SEED: 0 | FOLD: 3 | VALIDATION_SPECIES: ['Macaca_nemestrina', 'Microcebus_murinus']\n"
     ]
    },
    {
     "name": "stdout",
     "output_type": "stream",
     "text": [
      "[250]\tvalid_0's l1: 3.16326\tvalid_0's huber: 2.50483\tvalid_0's l2: 52.8443\n"
     ]
    },
    {
     "name": "stderr",
     "output_type": "stream",
     "text": [
      "2020-09-03 18:10:39.169 | INFO     | yspecies.selection:transform:226 - Metrics: \n",
      "Metrics(R2=0.8777574615050997, MAE=4.885342842045143, MSE=94.71667779737561, huber=4.049328537461847)\n"
     ]
    },
    {
     "name": "stdout",
     "output_type": "stream",
     "text": [
      "1\n"
     ]
    },
    {
     "name": "stderr",
     "output_type": "stream",
     "text": [
      "2020-09-03 18:10:39.179 | INFO     | yspecies.selection:fit:78 - ===== fitting models with seed 1 =====\n",
      "2020-09-03 18:10:39.181 | INFO     | yspecies.selection:fit:79 - PARAMETERS:\n",
      "{'objective': 'regression', 'metric': {'mae', 'huber', 'mse'}, 'verbosity': -1, 'boosting_type': 'dart', 'lambda_l1': 0.3970175140579622, 'lambda_l2': 2.9232199794782074, 'max_leaves': 25, 'max_depth': 3, 'feature_fraction': 0.5479409728228775, 'bagging_fraction': 0.5896610538427859, 'learning_rate': 0.09227943984528733, 'min_data_in_leaf': 8, 'drop_rate': 0.15938150347995844, 'verbose': -1, 'seed': 0}\n",
      "2020-09-03 18:10:39.186 | INFO     | yspecies.selection:fit:82 - SEED: 1 | FOLD: 0 | VALIDATION_SPECIES: ['Felis_catus', 'Ursus_americanus']\n"
     ]
    },
    {
     "name": "stdout",
     "output_type": "stream",
     "text": [
      "[LightGBM] [Warning] verbosity is set=-1, verbose=-1 will be ignored. Current value: verbosity=-1\n"
     ]
    },
    {
     "name": "stderr",
     "output_type": "stream",
     "text": [
      "Early stopping is not available in dart mode\n"
     ]
    },
    {
     "name": "stdout",
     "output_type": "stream",
     "text": [
      "[250]\tvalid_0's l1: 3.58151\tvalid_0's huber: 2.87291\tvalid_0's l2: 29.108\n"
     ]
    },
    {
     "name": "stderr",
     "output_type": "stream",
     "text": [
      "2020-09-03 18:12:32.669 | INFO     | yspecies.selection:fit:82 - SEED: 1 | FOLD: 1 | VALIDATION_SPECIES: ['Heterocephalus_glaber', 'Vombatus_ursinus']\n"
     ]
    },
    {
     "name": "stdout",
     "output_type": "stream",
     "text": [
      "[250]\tvalid_0's l1: 4.6641\tvalid_0's huber: 3.84113\tvalid_0's l2: 73.818\n"
     ]
    },
    {
     "name": "stderr",
     "output_type": "stream",
     "text": [
      "2020-09-03 18:14:24.174 | INFO     | yspecies.selection:fit:82 - SEED: 1 | FOLD: 2 | VALIDATION_SPECIES: ['Macaca_fascicularis', 'Rhinopithecus_bieti']\n"
     ]
    },
    {
     "name": "stdout",
     "output_type": "stream",
     "text": [
      "[250]\tvalid_0's l1: 2.76915\tvalid_0's huber: 2.16506\tvalid_0's l2: 20.9849\n"
     ]
    },
    {
     "name": "stderr",
     "output_type": "stream",
     "text": [
      "2020-09-03 18:16:14.662 | INFO     | yspecies.selection:fit:82 - SEED: 1 | FOLD: 3 | VALIDATION_SPECIES: ['Gorilla_gorilla', 'Ovis_aries']\n"
     ]
    },
    {
     "name": "stdout",
     "output_type": "stream",
     "text": [
      "[250]\tvalid_0's l1: 6.29644\tvalid_0's huber: 5.33102\tvalid_0's l2: 152.46\n"
     ]
    },
    {
     "name": "stderr",
     "output_type": "stream",
     "text": [
      "2020-09-03 18:17:48.266 | INFO     | yspecies.selection:transform:226 - Metrics: \n",
      "Metrics(R2=0.9012879685678634, MAE=4.327800142449178, MSE=69.09273387565713, huber=3.552529491244943)\n"
     ]
    },
    {
     "name": "stdout",
     "output_type": "stream",
     "text": [
      "2\n"
     ]
    },
    {
     "name": "stderr",
     "output_type": "stream",
     "text": [
      "2020-09-03 18:17:48.278 | INFO     | yspecies.selection:fit:78 - ===== fitting models with seed 2 =====\n",
      "2020-09-03 18:17:48.281 | INFO     | yspecies.selection:fit:79 - PARAMETERS:\n",
      "{'objective': 'regression', 'metric': {'mae', 'huber', 'mse'}, 'verbosity': -1, 'boosting_type': 'dart', 'lambda_l1': 0.3970175140579622, 'lambda_l2': 2.9232199794782074, 'max_leaves': 25, 'max_depth': 3, 'feature_fraction': 0.5479409728228775, 'bagging_fraction': 0.5896610538427859, 'learning_rate': 0.09227943984528733, 'min_data_in_leaf': 8, 'drop_rate': 0.15938150347995844, 'verbose': -1, 'seed': 1}\n",
      "2020-09-03 18:17:48.286 | INFO     | yspecies.selection:fit:82 - SEED: 2 | FOLD: 0 | VALIDATION_SPECIES: ['Rhinopithecus_bieti', 'Ursus_americanus']\n"
     ]
    },
    {
     "name": "stdout",
     "output_type": "stream",
     "text": [
      "[LightGBM] [Warning] verbosity is set=-1, verbose=-1 will be ignored. Current value: verbosity=-1\n"
     ]
    },
    {
     "name": "stderr",
     "output_type": "stream",
     "text": [
      "Early stopping is not available in dart mode\n"
     ]
    },
    {
     "name": "stdout",
     "output_type": "stream",
     "text": [
      "[250]\tvalid_0's l1: 4.99227\tvalid_0's huber: 4.12951\tvalid_0's l2: 52.2539\n"
     ]
    },
    {
     "name": "stderr",
     "output_type": "stream",
     "text": [
      "2020-09-03 18:20:03.066 | INFO     | yspecies.selection:fit:82 - SEED: 2 | FOLD: 1 | VALIDATION_SPECIES: ['Aotus_nancymaae', 'Phascolarctos_cinereus']\n"
     ]
    },
    {
     "name": "stdout",
     "output_type": "stream",
     "text": [
      "[250]\tvalid_0's l1: 6.01055\tvalid_0's huber: 5.04163\tvalid_0's l2: 84.4308\n"
     ]
    },
    {
     "name": "stderr",
     "output_type": "stream",
     "text": [
      "2020-09-03 18:22:15.563 | INFO     | yspecies.selection:fit:82 - SEED: 2 | FOLD: 2 | VALIDATION_SPECIES: ['Vombatus_ursinus', 'Ailuropoda_melanoleuca']\n"
     ]
    },
    {
     "name": "stdout",
     "output_type": "stream",
     "text": [
      "[250]\tvalid_0's l1: 4.8228\tvalid_0's huber: 3.97758\tvalid_0's l2: 55.9096\n"
     ]
    },
    {
     "name": "stderr",
     "output_type": "stream",
     "text": [
      "2020-09-03 18:24:23.215 | INFO     | yspecies.selection:fit:82 - SEED: 2 | FOLD: 3 | VALIDATION_SPECIES: ['Rattus_norvegicus', 'Monodelphis_domestica']\n"
     ]
    },
    {
     "name": "stdout",
     "output_type": "stream",
     "text": [
      "[250]\tvalid_0's l1: 6.36798\tvalid_0's huber: 5.34694\tvalid_0's l2: 86.6784\n"
     ]
    },
    {
     "name": "stderr",
     "output_type": "stream",
     "text": [
      "2020-09-03 18:26:37.535 | INFO     | yspecies.selection:transform:226 - Metrics: \n",
      "Metrics(R2=0.8928903553304797, MAE=5.548399219142338, MSE=69.8181811504094, huber=4.623912917899955)\n"
     ]
    },
    {
     "name": "stdout",
     "output_type": "stream",
     "text": [
      "3\n"
     ]
    },
    {
     "name": "stderr",
     "output_type": "stream",
     "text": [
      "2020-09-03 18:26:37.548 | INFO     | yspecies.selection:fit:78 - ===== fitting models with seed 3 =====\n",
      "2020-09-03 18:26:37.549 | INFO     | yspecies.selection:fit:79 - PARAMETERS:\n",
      "{'objective': 'regression', 'metric': {'mae', 'huber', 'mse'}, 'verbosity': -1, 'boosting_type': 'dart', 'lambda_l1': 0.3970175140579622, 'lambda_l2': 2.9232199794782074, 'max_leaves': 25, 'max_depth': 3, 'feature_fraction': 0.5479409728228775, 'bagging_fraction': 0.5896610538427859, 'learning_rate': 0.09227943984528733, 'min_data_in_leaf': 8, 'drop_rate': 0.15938150347995844, 'verbose': -1, 'seed': 2}\n",
      "2020-09-03 18:26:37.554 | INFO     | yspecies.selection:fit:82 - SEED: 3 | FOLD: 0 | VALIDATION_SPECIES: ['Microcebus_murinus', 'Pan_paniscus']\n"
     ]
    },
    {
     "name": "stdout",
     "output_type": "stream",
     "text": [
      "[LightGBM] [Warning] verbosity is set=-1, verbose=-1 will be ignored. Current value: verbosity=-1\n"
     ]
    },
    {
     "name": "stderr",
     "output_type": "stream",
     "text": [
      "Early stopping is not available in dart mode\n"
     ]
    },
    {
     "name": "stdout",
     "output_type": "stream",
     "text": [
      "[250]\tvalid_0's l1: 4.24162\tvalid_0's huber: 3.45238\tvalid_0's l2: 39.59\n"
     ]
    },
    {
     "name": "stderr",
     "output_type": "stream",
     "text": [
      "2020-09-03 18:28:35.192 | INFO     | yspecies.selection:fit:82 - SEED: 3 | FOLD: 1 | VALIDATION_SPECIES: ['Ursus_americanus', 'Gorilla_gorilla']\n"
     ]
    },
    {
     "name": "stdout",
     "output_type": "stream",
     "text": [
      "[250]\tvalid_0's l1: 7.93277\tvalid_0's huber: 6.77512\tvalid_0's l2: 158.396\n"
     ]
    },
    {
     "name": "stderr",
     "output_type": "stream",
     "text": [
      "2020-09-03 18:30:03.583 | INFO     | yspecies.selection:fit:82 - SEED: 3 | FOLD: 2 | VALIDATION_SPECIES: ['Bos_taurus', 'Capra_hircus']\n"
     ]
    },
    {
     "name": "stdout",
     "output_type": "stream",
     "text": [
      "[250]\tvalid_0's l1: 3.60879\tvalid_0's huber: 2.88186\tvalid_0's l2: 31.473\n"
     ]
    },
    {
     "name": "stderr",
     "output_type": "stream",
     "text": [
      "2020-09-03 18:31:57.439 | INFO     | yspecies.selection:fit:82 - SEED: 3 | FOLD: 3 | VALIDATION_SPECIES: ['Rhinolophus_ferrumequinum', 'Mus_musculus']\n"
     ]
    },
    {
     "name": "stdout",
     "output_type": "stream",
     "text": [
      "[250]\tvalid_0's l1: 2.76136\tvalid_0's huber: 2.15932\tvalid_0's l2: 44.9262\n"
     ]
    },
    {
     "name": "stderr",
     "output_type": "stream",
     "text": [
      "2020-09-03 18:33:56.195 | INFO     | yspecies.selection:transform:226 - Metrics: \n",
      "Metrics(R2=0.9079604329625874, MAE=4.636134287091092, MSE=68.59625739671988, huber=3.817169889103188)\n"
     ]
    },
    {
     "name": "stdout",
     "output_type": "stream",
     "text": [
      "4\n"
     ]
    },
    {
     "name": "stderr",
     "output_type": "stream",
     "text": [
      "2020-09-03 18:33:56.204 | INFO     | yspecies.selection:fit:78 - ===== fitting models with seed 4 =====\n",
      "2020-09-03 18:33:56.206 | INFO     | yspecies.selection:fit:79 - PARAMETERS:\n",
      "{'objective': 'regression', 'metric': {'mae', 'huber', 'mse'}, 'verbosity': -1, 'boosting_type': 'dart', 'lambda_l1': 0.3970175140579622, 'lambda_l2': 2.9232199794782074, 'max_leaves': 25, 'max_depth': 3, 'feature_fraction': 0.5479409728228775, 'bagging_fraction': 0.5896610538427859, 'learning_rate': 0.09227943984528733, 'min_data_in_leaf': 8, 'drop_rate': 0.15938150347995844, 'verbose': -1, 'seed': 3}\n",
      "2020-09-03 18:33:56.211 | INFO     | yspecies.selection:fit:82 - SEED: 4 | FOLD: 0 | VALIDATION_SPECIES: ['Macaca_fascicularis', 'Pan_troglodytes']\n"
     ]
    },
    {
     "name": "stdout",
     "output_type": "stream",
     "text": [
      "[LightGBM] [Warning] verbosity is set=-1, verbose=-1 will be ignored. Current value: verbosity=-1\n"
     ]
    },
    {
     "name": "stderr",
     "output_type": "stream",
     "text": [
      "Early stopping is not available in dart mode\n"
     ]
    },
    {
     "name": "stdout",
     "output_type": "stream",
     "text": [
      "[250]\tvalid_0's l1: 3.48789\tvalid_0's huber: 2.79432\tvalid_0's l2: 30.7183\n"
     ]
    },
    {
     "name": "stderr",
     "output_type": "stream",
     "text": [
      "2020-09-03 18:35:50.020 | INFO     | yspecies.selection:fit:82 - SEED: 4 | FOLD: 1 | VALIDATION_SPECIES: ['Otolemur_garnettii', 'Ursus_americanus']\n"
     ]
    },
    {
     "name": "stdout",
     "output_type": "stream",
     "text": [
      "[250]\tvalid_0's l1: 4.27204\tvalid_0's huber: 3.48672\tvalid_0's l2: 75.9383\n"
     ]
    },
    {
     "name": "stderr",
     "output_type": "stream",
     "text": [
      "2020-09-03 18:37:42.333 | INFO     | yspecies.selection:fit:82 - SEED: 4 | FOLD: 2 | VALIDATION_SPECIES: ['Heterocephalus_glaber', 'Cavia_aperea']\n"
     ]
    },
    {
     "name": "stdout",
     "output_type": "stream",
     "text": [
      "[250]\tvalid_0's l1: 3.95172\tvalid_0's huber: 3.223\tvalid_0's l2: 31.9678\n"
     ]
    },
    {
     "name": "stderr",
     "output_type": "stream",
     "text": [
      "2020-09-03 18:39:43.880 | INFO     | yspecies.selection:fit:82 - SEED: 4 | FOLD: 3 | VALIDATION_SPECIES: ['Pan_paniscus', 'Gorilla_gorilla']\n"
     ]
    },
    {
     "name": "stdout",
     "output_type": "stream",
     "text": [
      "[250]\tvalid_0's l1: 7.79746\tvalid_0's huber: 6.66568\tvalid_0's l2: 181.595\n"
     ]
    },
    {
     "name": "stderr",
     "output_type": "stream",
     "text": [
      "2020-09-03 18:41:30.144 | INFO     | yspecies.selection:transform:226 - Metrics: \n",
      "Metrics(R2=0.8917832800260426, MAE=4.877278827708223, MSE=80.0548194214438, huber=4.042427948478856)\n"
     ]
    },
    {
     "name": "stdout",
     "output_type": "stream",
     "text": [
      "5\n"
     ]
    },
    {
     "name": "stderr",
     "output_type": "stream",
     "text": [
      "2020-09-03 18:41:30.155 | INFO     | yspecies.selection:fit:78 - ===== fitting models with seed 5 =====\n",
      "2020-09-03 18:41:30.156 | INFO     | yspecies.selection:fit:79 - PARAMETERS:\n",
      "{'objective': 'regression', 'metric': {'mae', 'huber', 'mse'}, 'verbosity': -1, 'boosting_type': 'dart', 'lambda_l1': 0.3970175140579622, 'lambda_l2': 2.9232199794782074, 'max_leaves': 25, 'max_depth': 3, 'feature_fraction': 0.5479409728228775, 'bagging_fraction': 0.5896610538427859, 'learning_rate': 0.09227943984528733, 'min_data_in_leaf': 8, 'drop_rate': 0.15938150347995844, 'verbose': -1, 'seed': 4}\n",
      "2020-09-03 18:41:30.161 | INFO     | yspecies.selection:fit:82 - SEED: 5 | FOLD: 0 | VALIDATION_SPECIES: ['Mus_spicilegus', 'Canis_lupus_familiaris']\n"
     ]
    },
    {
     "name": "stdout",
     "output_type": "stream",
     "text": [
      "[LightGBM] [Warning] verbosity is set=-1, verbose=-1 will be ignored. Current value: verbosity=-1\n"
     ]
    },
    {
     "name": "stderr",
     "output_type": "stream",
     "text": [
      "Early stopping is not available in dart mode\n"
     ]
    },
    {
     "name": "stdout",
     "output_type": "stream",
     "text": [
      "[250]\tvalid_0's l1: 3.39462\tvalid_0's huber: 2.70049\tvalid_0's l2: 25.9113\n"
     ]
    },
    {
     "name": "stderr",
     "output_type": "stream",
     "text": [
      "2020-09-03 18:43:21.430 | INFO     | yspecies.selection:fit:82 - SEED: 5 | FOLD: 1 | VALIDATION_SPECIES: ['Ovis_aries', 'Heterocephalus_glaber']\n"
     ]
    },
    {
     "name": "stdout",
     "output_type": "stream",
     "text": [
      "[250]\tvalid_0's l1: 4.68447\tvalid_0's huber: 3.88193\tvalid_0's l2: 108.21\n"
     ]
    },
    {
     "name": "stderr",
     "output_type": "stream",
     "text": [
      "2020-09-03 18:45:09.456 | INFO     | yspecies.selection:fit:82 - SEED: 5 | FOLD: 2 | VALIDATION_SPECIES: ['Ursus_americanus', 'Oryctolagus_cuniculus']\n"
     ]
    },
    {
     "name": "stdout",
     "output_type": "stream",
     "text": [
      "[250]\tvalid_0's l1: 5.58183\tvalid_0's huber: 4.68114\tvalid_0's l2: 112.033\n"
     ]
    },
    {
     "name": "stderr",
     "output_type": "stream",
     "text": [
      "2020-09-03 18:46:57.687 | INFO     | yspecies.selection:fit:82 - SEED: 5 | FOLD: 3 | VALIDATION_SPECIES: ['Cavia_aperea', 'Ailuropoda_melanoleuca']\n"
     ]
    },
    {
     "name": "stdout",
     "output_type": "stream",
     "text": [
      "[250]\tvalid_0's l1: 4.41115\tvalid_0's huber: 3.6329\tvalid_0's l2: 67.8444\n"
     ]
    },
    {
     "name": "stderr",
     "output_type": "stream",
     "text": [
      "2020-09-03 18:48:54.538 | INFO     | yspecies.selection:transform:226 - Metrics: \n",
      "Metrics(R2=0.892539292778755, MAE=4.518017057456486, MSE=78.49972531804679, huber=3.7241174943770177)\n"
     ]
    },
    {
     "name": "stdout",
     "output_type": "stream",
     "text": [
      "6\n"
     ]
    },
    {
     "name": "stderr",
     "output_type": "stream",
     "text": [
      "2020-09-03 18:48:54.549 | INFO     | yspecies.selection:fit:78 - ===== fitting models with seed 6 =====\n",
      "2020-09-03 18:48:54.550 | INFO     | yspecies.selection:fit:79 - PARAMETERS:\n",
      "{'objective': 'regression', 'metric': {'mae', 'huber', 'mse'}, 'verbosity': -1, 'boosting_type': 'dart', 'lambda_l1': 0.3970175140579622, 'lambda_l2': 2.9232199794782074, 'max_leaves': 25, 'max_depth': 3, 'feature_fraction': 0.5479409728228775, 'bagging_fraction': 0.5896610538427859, 'learning_rate': 0.09227943984528733, 'min_data_in_leaf': 8, 'drop_rate': 0.15938150347995844, 'verbose': -1, 'seed': 5}\n",
      "2020-09-03 18:48:54.555 | INFO     | yspecies.selection:fit:82 - SEED: 6 | FOLD: 0 | VALIDATION_SPECIES: ['Rhinolophus_ferrumequinum', 'Heterocephalus_glaber']\n"
     ]
    },
    {
     "name": "stdout",
     "output_type": "stream",
     "text": [
      "[LightGBM] [Warning] verbosity is set=-1, verbose=-1 will be ignored. Current value: verbosity=-1\n"
     ]
    },
    {
     "name": "stderr",
     "output_type": "stream",
     "text": [
      "Early stopping is not available in dart mode\n"
     ]
    },
    {
     "name": "stdout",
     "output_type": "stream",
     "text": [
      "[250]\tvalid_0's l1: 4.34753\tvalid_0's huber: 3.56152\tvalid_0's l2: 44.4019\n"
     ]
    },
    {
     "name": "stderr",
     "output_type": "stream",
     "text": [
      "2020-09-03 18:50:47.884 | INFO     | yspecies.selection:fit:82 - SEED: 6 | FOLD: 1 | VALIDATION_SPECIES: ['Mus_spicilegus', 'Suricata_suricatta']\n"
     ]
    },
    {
     "name": "stdout",
     "output_type": "stream",
     "text": [
      "[250]\tvalid_0's l1: 4.1762\tvalid_0's huber: 3.40361\tvalid_0's l2: 51.1087\n"
     ]
    },
    {
     "name": "stderr",
     "output_type": "stream",
     "text": [
      "2020-09-03 18:52:41.970 | INFO     | yspecies.selection:fit:82 - SEED: 6 | FOLD: 2 | VALIDATION_SPECIES: ['Rhinopithecus_bieti', 'Ovis_aries']\n"
     ]
    },
    {
     "name": "stdout",
     "output_type": "stream",
     "text": [
      "[250]\tvalid_0's l1: 2.9795\tvalid_0's huber: 2.35327\tvalid_0's l2: 22.5474\n"
     ]
    },
    {
     "name": "stderr",
     "output_type": "stream",
     "text": [
      "2020-09-03 18:54:16.170 | INFO     | yspecies.selection:fit:82 - SEED: 6 | FOLD: 3 | VALIDATION_SPECIES: ['Cavia_porcellus', 'Pan_troglodytes']\n"
     ]
    },
    {
     "name": "stdout",
     "output_type": "stream",
     "text": [
      "[250]\tvalid_0's l1: 4.17115\tvalid_0's huber: 3.39999\tvalid_0's l2: 67.9208\n"
     ]
    },
    {
     "name": "stderr",
     "output_type": "stream",
     "text": [
      "2020-09-03 18:56:21.030 | INFO     | yspecies.selection:transform:226 - Metrics: \n",
      "Metrics(R2=0.934782255055341, MAE=3.9185933130003243, MSE=46.4947104508606, huber=3.179596192929208)\n"
     ]
    },
    {
     "name": "stdout",
     "output_type": "stream",
     "text": [
      "7\n"
     ]
    },
    {
     "name": "stderr",
     "output_type": "stream",
     "text": [
      "2020-09-03 18:56:21.043 | INFO     | yspecies.selection:fit:78 - ===== fitting models with seed 7 =====\n",
      "2020-09-03 18:56:21.045 | INFO     | yspecies.selection:fit:79 - PARAMETERS:\n",
      "{'objective': 'regression', 'metric': {'mae', 'huber', 'mse'}, 'verbosity': -1, 'boosting_type': 'dart', 'lambda_l1': 0.3970175140579622, 'lambda_l2': 2.9232199794782074, 'max_leaves': 25, 'max_depth': 3, 'feature_fraction': 0.5479409728228775, 'bagging_fraction': 0.5896610538427859, 'learning_rate': 0.09227943984528733, 'min_data_in_leaf': 8, 'drop_rate': 0.15938150347995844, 'verbose': -1, 'seed': 6}\n",
      "2020-09-03 18:56:21.049 | INFO     | yspecies.selection:fit:82 - SEED: 7 | FOLD: 0 | VALIDATION_SPECIES: ['Macaca_mulatta', 'Cavia_porcellus']\n"
     ]
    },
    {
     "name": "stdout",
     "output_type": "stream",
     "text": [
      "[LightGBM] [Warning] verbosity is set=-1, verbose=-1 will be ignored. Current value: verbosity=-1\n"
     ]
    },
    {
     "name": "stderr",
     "output_type": "stream",
     "text": [
      "Early stopping is not available in dart mode\n"
     ]
    },
    {
     "name": "stdout",
     "output_type": "stream",
     "text": [
      "[250]\tvalid_0's l1: 3.0141\tvalid_0's huber: 2.37945\tvalid_0's l2: 20.2944\n"
     ]
    },
    {
     "name": "stderr",
     "output_type": "stream",
     "text": [
      "2020-09-03 18:58:17.332 | INFO     | yspecies.selection:fit:82 - SEED: 7 | FOLD: 1 | VALIDATION_SPECIES: ['Pan_paniscus', 'Capra_hircus']\n"
     ]
    },
    {
     "name": "stdout",
     "output_type": "stream",
     "text": [
      "[250]\tvalid_0's l1: 4.01601\tvalid_0's huber: 3.26041\tvalid_0's l2: 48.1026\n"
     ]
    },
    {
     "name": "stderr",
     "output_type": "stream",
     "text": [
      "2020-09-03 19:00:03.938 | INFO     | yspecies.selection:fit:82 - SEED: 7 | FOLD: 2 | VALIDATION_SPECIES: ['Otolemur_garnettii', 'Ictidomys_tridecemlineatus']\n"
     ]
    },
    {
     "name": "stdout",
     "output_type": "stream",
     "text": [
      "[250]\tvalid_0's l1: 3.94394\tvalid_0's huber: 3.21077\tvalid_0's l2: 34.6245\n"
     ]
    },
    {
     "name": "stderr",
     "output_type": "stream",
     "text": [
      "2020-09-03 19:01:59.366 | INFO     | yspecies.selection:fit:82 - SEED: 7 | FOLD: 3 | VALIDATION_SPECIES: ['Canis_lupus_familiaris', 'Ursus_americanus']\n"
     ]
    },
    {
     "name": "stdout",
     "output_type": "stream",
     "text": [
      "[250]\tvalid_0's l1: 3.89622\tvalid_0's huber: 3.17973\tvalid_0's l2: 57.9686\n"
     ]
    },
    {
     "name": "stderr",
     "output_type": "stream",
     "text": [
      "2020-09-03 19:03:57.731 | INFO     | yspecies.selection:transform:226 - Metrics: \n",
      "Metrics(R2=0.9440360460912023, MAE=3.717566396258716, MSE=40.247542252469295, huber=3.0075902898929696)\n"
     ]
    },
    {
     "name": "stdout",
     "output_type": "stream",
     "text": [
      "8\n"
     ]
    },
    {
     "name": "stderr",
     "output_type": "stream",
     "text": [
      "2020-09-03 19:03:57.742 | INFO     | yspecies.selection:fit:78 - ===== fitting models with seed 8 =====\n",
      "2020-09-03 19:03:57.744 | INFO     | yspecies.selection:fit:79 - PARAMETERS:\n",
      "{'objective': 'regression', 'metric': {'mae', 'huber', 'mse'}, 'verbosity': -1, 'boosting_type': 'dart', 'lambda_l1': 0.3970175140579622, 'lambda_l2': 2.9232199794782074, 'max_leaves': 25, 'max_depth': 3, 'feature_fraction': 0.5479409728228775, 'bagging_fraction': 0.5896610538427859, 'learning_rate': 0.09227943984528733, 'min_data_in_leaf': 8, 'drop_rate': 0.15938150347995844, 'verbose': -1, 'seed': 7}\n",
      "2020-09-03 19:03:57.749 | INFO     | yspecies.selection:fit:82 - SEED: 8 | FOLD: 0 | VALIDATION_SPECIES: ['Pan_paniscus', 'Suricata_suricatta']\n"
     ]
    },
    {
     "name": "stdout",
     "output_type": "stream",
     "text": [
      "[LightGBM] [Warning] verbosity is set=-1, verbose=-1 will be ignored. Current value: verbosity=-1\n"
     ]
    },
    {
     "name": "stderr",
     "output_type": "stream",
     "text": [
      "Early stopping is not available in dart mode\n"
     ]
    },
    {
     "name": "stdout",
     "output_type": "stream",
     "text": [
      "[250]\tvalid_0's l1: 3.39556\tvalid_0's huber: 2.70737\tvalid_0's l2: 30.8608\n"
     ]
    },
    {
     "name": "stderr",
     "output_type": "stream",
     "text": [
      "2020-09-03 19:05:29.580 | INFO     | yspecies.selection:fit:82 - SEED: 8 | FOLD: 1 | VALIDATION_SPECIES: ['Macaca_fascicularis', 'Tupaia_belangeri']\n"
     ]
    },
    {
     "name": "stdout",
     "output_type": "stream",
     "text": [
      "[250]\tvalid_0's l1: 3.72024\tvalid_0's huber: 2.98948\tvalid_0's l2: 43.9697\n"
     ]
    },
    {
     "name": "stderr",
     "output_type": "stream",
     "text": [
      "2020-09-03 19:07:27.955 | INFO     | yspecies.selection:fit:82 - SEED: 8 | FOLD: 2 | VALIDATION_SPECIES: ['Ursus_americanus', 'Capra_hircus']\n"
     ]
    },
    {
     "name": "stdout",
     "output_type": "stream",
     "text": [
      "[250]\tvalid_0's l1: 3.81127\tvalid_0's huber: 3.07917\tvalid_0's l2: 40.4451\n"
     ]
    },
    {
     "name": "stderr",
     "output_type": "stream",
     "text": [
      "2020-09-03 19:09:23.498 | INFO     | yspecies.selection:fit:82 - SEED: 8 | FOLD: 3 | VALIDATION_SPECIES: ['Bos_taurus', 'Rhinolophus_ferrumequinum']\n"
     ]
    }
   ],
   "source": [
    "results = p.fit_transform((data, selection))\n",
    "results"
   ]
  },
  {
   "cell_type": "code",
   "execution_count": null,
   "metadata": {},
   "outputs": [],
   "source": [
    "results.best_trial_r2().values #before: 0.92651"
   ]
  },
  {
   "cell_type": "code",
   "execution_count": 64,
   "metadata": {},
   "outputs": [
    {
     "data": {
      "text/plain": [
       "(0.9265172335576978, 3.108940798535765, 0.5238496205639561)"
      ]
     },
     "execution_count": 64,
     "metadata": {},
     "output_type": "execute_result"
    }
   ],
   "source": [
    "results.best_trial_r2().values #before: 0.92"
   ]
  },
  {
   "cell_type": "code",
   "execution_count": 66,
   "metadata": {},
   "outputs": [
    {
     "data": {
      "text/plain": [
       "{'boosting_type': 'gbdt',\n",
       " 'lambda_l1': 1.0074040471792671,\n",
       " 'lambda_l2': 2.3500616173039672,\n",
       " 'max_leaves': 19,\n",
       " 'max_depth': 3,\n",
       " 'feature_fraction': 0.5168464794482679,\n",
       " 'bagging_fraction': 0.42259626867860933,\n",
       " 'learning_rate': 0.04901611652323495,\n",
       " 'min_data_in_leaf': 8,\n",
       " 'drop_rate': 0.16401872685861194}"
      ]
     },
     "execution_count": 66,
     "metadata": {},
     "output_type": "execute_result"
    }
   ],
   "source": [
    "results.best_trial_r2().params"
   ]
  },
  {
   "cell_type": "code",
   "execution_count": null,
   "metadata": {},
   "outputs": [],
   "source": []
  }
 ],
 "metadata": {
  "kernelspec": {
   "display_name": "Python 3",
   "language": "python",
   "name": "python3"
  },
  "language_info": {
   "codemirror_mode": {
    "name": "ipython",
    "version": 3
   },
   "file_extension": ".py",
   "mimetype": "text/x-python",
   "name": "python",
   "nbconvert_exporter": "python",
   "pygments_lexer": "ipython3",
   "version": "3.8.5"
  }
 },
 "nbformat": 4,
 "nbformat_minor": 4
}
